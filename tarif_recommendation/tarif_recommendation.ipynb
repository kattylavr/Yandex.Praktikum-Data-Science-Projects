{
 "cells": [
  {
   "cell_type": "markdown",
   "metadata": {},
   "source": [
    "# Рекомендация тарифов"
   ]
  },
  {
   "cell_type": "markdown",
   "metadata": {},
   "source": [
    "**Данные:** поведение клиентов, которые уже перешли на тарифы Smart и Ultra. \n",
    "\n",
    "Примечание: предобработка данных уже сделана.\n",
    "\n",
    "**Описание данных:**\n",
    "- сalls — количество звонков,\n",
    "- minutes — суммарная длительность звонков в минутах,\n",
    "- messages — количество sms-сообщений,\n",
    "- mb_used — израсходованный интернет-трафик в Мб,\n",
    "- is_ultra — каким тарифом пользовался в течение месяца («Ультра» — 1, «Смарт» — 0).\n",
    "\n",
    "**Цель исследования:** построить модель с максимально большим значением *accuracy* для задачи классификации, которая выберет подходящий тариф (smart или ultra) для клиентов архивных тарифов. \n",
    "\n",
    "**Ход исследования:**\n",
    "Данные о поведении клиентов находятся в файле users_behavior.csv. Качество данных приемлемо, сделана предобработка. Я разобью данные на 3 выборки: тренировочную, валидационную и тестовую и проверю 3 разных модели, рассчитаю метрику Accuracy, выберу лучшую модель. Также сделаю перебор мегапараметров. В конце лучшую модель проверю на тестовой выборке и посмотрю на адекватность.\n",
    "\n",
    "**Исследование пройдёт в несколько этапов:**\n",
    "\n",
    "- Импорт библиотек.\n",
    "- Общая информация о данных.\n",
    "- Разбивка данных на выборки.\n",
    "- Исследование моделей.\n",
    "- Проверка лучшей модели на тестовой выборке.\n",
    "- Проверка модели на адекватность.\n",
    "- Вывод."
   ]
  },
  {
   "cell_type": "markdown",
   "metadata": {},
   "source": [
    "## Импорт библиотек"
   ]
  },
  {
   "cell_type": "code",
   "execution_count": 1,
   "metadata": {},
   "outputs": [],
   "source": [
    "import pandas as pd\n",
    "from sklearn.tree import DecisionTreeClassifier\n",
    "from sklearn.ensemble import RandomForestClassifier\n",
    "from sklearn.linear_model import LogisticRegression \n",
    "from sklearn.metrics import accuracy_score\n",
    "from sklearn.model_selection import train_test_split"
   ]
  },
  {
   "cell_type": "markdown",
   "metadata": {},
   "source": [
    "## Общая информация о данных"
   ]
  },
  {
   "cell_type": "code",
   "execution_count": 2,
   "metadata": {},
   "outputs": [
    {
     "data": {
      "text/html": [
       "<div>\n",
       "<style scoped>\n",
       "    .dataframe tbody tr th:only-of-type {\n",
       "        vertical-align: middle;\n",
       "    }\n",
       "\n",
       "    .dataframe tbody tr th {\n",
       "        vertical-align: top;\n",
       "    }\n",
       "\n",
       "    .dataframe thead th {\n",
       "        text-align: right;\n",
       "    }\n",
       "</style>\n",
       "<table border=\"1\" class=\"dataframe\">\n",
       "  <thead>\n",
       "    <tr style=\"text-align: right;\">\n",
       "      <th></th>\n",
       "      <th>calls</th>\n",
       "      <th>minutes</th>\n",
       "      <th>messages</th>\n",
       "      <th>mb_used</th>\n",
       "      <th>is_ultra</th>\n",
       "    </tr>\n",
       "  </thead>\n",
       "  <tbody>\n",
       "    <tr>\n",
       "      <th>0</th>\n",
       "      <td>40.0</td>\n",
       "      <td>311.90</td>\n",
       "      <td>83.0</td>\n",
       "      <td>19915.42</td>\n",
       "      <td>0</td>\n",
       "    </tr>\n",
       "    <tr>\n",
       "      <th>1</th>\n",
       "      <td>85.0</td>\n",
       "      <td>516.75</td>\n",
       "      <td>56.0</td>\n",
       "      <td>22696.96</td>\n",
       "      <td>0</td>\n",
       "    </tr>\n",
       "    <tr>\n",
       "      <th>2</th>\n",
       "      <td>77.0</td>\n",
       "      <td>467.66</td>\n",
       "      <td>86.0</td>\n",
       "      <td>21060.45</td>\n",
       "      <td>0</td>\n",
       "    </tr>\n",
       "    <tr>\n",
       "      <th>3</th>\n",
       "      <td>106.0</td>\n",
       "      <td>745.53</td>\n",
       "      <td>81.0</td>\n",
       "      <td>8437.39</td>\n",
       "      <td>1</td>\n",
       "    </tr>\n",
       "    <tr>\n",
       "      <th>4</th>\n",
       "      <td>66.0</td>\n",
       "      <td>418.74</td>\n",
       "      <td>1.0</td>\n",
       "      <td>14502.75</td>\n",
       "      <td>0</td>\n",
       "    </tr>\n",
       "  </tbody>\n",
       "</table>\n",
       "</div>"
      ],
      "text/plain": [
       "   calls  minutes  messages   mb_used  is_ultra\n",
       "0   40.0   311.90      83.0  19915.42         0\n",
       "1   85.0   516.75      56.0  22696.96         0\n",
       "2   77.0   467.66      86.0  21060.45         0\n",
       "3  106.0   745.53      81.0   8437.39         1\n",
       "4   66.0   418.74       1.0  14502.75         0"
      ]
     },
     "metadata": {},
     "output_type": "display_data"
    },
    {
     "name": "stdout",
     "output_type": "stream",
     "text": [
      "<class 'pandas.core.frame.DataFrame'>\n",
      "RangeIndex: 3214 entries, 0 to 3213\n",
      "Data columns (total 5 columns):\n",
      " #   Column    Non-Null Count  Dtype  \n",
      "---  ------    --------------  -----  \n",
      " 0   calls     3214 non-null   float64\n",
      " 1   minutes   3214 non-null   float64\n",
      " 2   messages  3214 non-null   float64\n",
      " 3   mb_used   3214 non-null   float64\n",
      " 4   is_ultra  3214 non-null   int64  \n",
      "dtypes: float64(4), int64(1)\n",
      "memory usage: 125.7 KB\n"
     ]
    },
    {
     "data": {
      "text/plain": [
       "None"
      ]
     },
     "metadata": {},
     "output_type": "display_data"
    },
    {
     "data": {
      "text/html": [
       "<div>\n",
       "<style scoped>\n",
       "    .dataframe tbody tr th:only-of-type {\n",
       "        vertical-align: middle;\n",
       "    }\n",
       "\n",
       "    .dataframe tbody tr th {\n",
       "        vertical-align: top;\n",
       "    }\n",
       "\n",
       "    .dataframe thead th {\n",
       "        text-align: right;\n",
       "    }\n",
       "</style>\n",
       "<table border=\"1\" class=\"dataframe\">\n",
       "  <thead>\n",
       "    <tr style=\"text-align: right;\">\n",
       "      <th></th>\n",
       "      <th>calls</th>\n",
       "      <th>minutes</th>\n",
       "      <th>messages</th>\n",
       "      <th>mb_used</th>\n",
       "      <th>is_ultra</th>\n",
       "    </tr>\n",
       "  </thead>\n",
       "  <tbody>\n",
       "    <tr>\n",
       "      <th>count</th>\n",
       "      <td>3214.000000</td>\n",
       "      <td>3214.000000</td>\n",
       "      <td>3214.000000</td>\n",
       "      <td>3214.000000</td>\n",
       "      <td>3214.000000</td>\n",
       "    </tr>\n",
       "    <tr>\n",
       "      <th>mean</th>\n",
       "      <td>63.038892</td>\n",
       "      <td>438.208787</td>\n",
       "      <td>38.281269</td>\n",
       "      <td>17207.673836</td>\n",
       "      <td>0.306472</td>\n",
       "    </tr>\n",
       "    <tr>\n",
       "      <th>std</th>\n",
       "      <td>33.236368</td>\n",
       "      <td>234.569872</td>\n",
       "      <td>36.148326</td>\n",
       "      <td>7570.968246</td>\n",
       "      <td>0.461100</td>\n",
       "    </tr>\n",
       "    <tr>\n",
       "      <th>min</th>\n",
       "      <td>0.000000</td>\n",
       "      <td>0.000000</td>\n",
       "      <td>0.000000</td>\n",
       "      <td>0.000000</td>\n",
       "      <td>0.000000</td>\n",
       "    </tr>\n",
       "    <tr>\n",
       "      <th>25%</th>\n",
       "      <td>40.000000</td>\n",
       "      <td>274.575000</td>\n",
       "      <td>9.000000</td>\n",
       "      <td>12491.902500</td>\n",
       "      <td>0.000000</td>\n",
       "    </tr>\n",
       "    <tr>\n",
       "      <th>50%</th>\n",
       "      <td>62.000000</td>\n",
       "      <td>430.600000</td>\n",
       "      <td>30.000000</td>\n",
       "      <td>16943.235000</td>\n",
       "      <td>0.000000</td>\n",
       "    </tr>\n",
       "    <tr>\n",
       "      <th>75%</th>\n",
       "      <td>82.000000</td>\n",
       "      <td>571.927500</td>\n",
       "      <td>57.000000</td>\n",
       "      <td>21424.700000</td>\n",
       "      <td>1.000000</td>\n",
       "    </tr>\n",
       "    <tr>\n",
       "      <th>max</th>\n",
       "      <td>244.000000</td>\n",
       "      <td>1632.060000</td>\n",
       "      <td>224.000000</td>\n",
       "      <td>49745.730000</td>\n",
       "      <td>1.000000</td>\n",
       "    </tr>\n",
       "  </tbody>\n",
       "</table>\n",
       "</div>"
      ],
      "text/plain": [
       "             calls      minutes     messages       mb_used     is_ultra\n",
       "count  3214.000000  3214.000000  3214.000000   3214.000000  3214.000000\n",
       "mean     63.038892   438.208787    38.281269  17207.673836     0.306472\n",
       "std      33.236368   234.569872    36.148326   7570.968246     0.461100\n",
       "min       0.000000     0.000000     0.000000      0.000000     0.000000\n",
       "25%      40.000000   274.575000     9.000000  12491.902500     0.000000\n",
       "50%      62.000000   430.600000    30.000000  16943.235000     0.000000\n",
       "75%      82.000000   571.927500    57.000000  21424.700000     1.000000\n",
       "max     244.000000  1632.060000   224.000000  49745.730000     1.000000"
      ]
     },
     "execution_count": 2,
     "metadata": {},
     "output_type": "execute_result"
    }
   ],
   "source": [
    "df = pd.read_csv('/datasets/users_behavior.csv')\n",
    "display(df.head())\n",
    "display(df.info())\n",
    "df.describe()"
   ]
  },
  {
   "cell_type": "markdown",
   "metadata": {},
   "source": [
    "**Промежуточный вывод:** с данными все в порядке, можно приступать к разбивке на выборки."
   ]
  },
  {
   "cell_type": "markdown",
   "metadata": {},
   "source": [
    "## Разбивка данных на выборки"
   ]
  },
  {
   "cell_type": "markdown",
   "metadata": {},
   "source": [
    "Сначала я разобью данные на тренировочную и валидационную выборку, а потом валидационную разобью пополам. Так я получу 3 выборки с соотношением:\n",
    "- тренировочная выборка 0.6\n",
    "- валидационная выборка 0.2\n",
    "- тестовая выборка 0.2"
   ]
  },
  {
   "cell_type": "code",
   "execution_count": 3,
   "metadata": {},
   "outputs": [
    {
     "name": "stdout",
     "output_type": "stream",
     "text": [
      "(1928, 4) (643, 4) (643, 4)\n",
      "(1928,) (643,) (643,)\n"
     ]
    }
   ],
   "source": [
    "features = df.drop('is_ultra', axis=1)\n",
    "target = df['is_ultra']\n",
    "\n",
    "features_train, features_valid, target_train, target_valid = train_test_split(\n",
    "    features, target, test_size=0.4, random_state=12345)\n",
    "\n",
    "features_valid, features_test, target_valid, target_test = train_test_split(\n",
    "    features_valid, target_valid, test_size=0.5, random_state=12345)\n",
    "\n",
    "print(features_train.shape, features_valid.shape, features_test.shape) #проверка размера выборок\n",
    "print(target_train.shape, target_valid.shape, target_test.shape)"
   ]
  },
  {
   "cell_type": "markdown",
   "metadata": {},
   "source": [
    "## Исследование моделей"
   ]
  },
  {
   "cell_type": "markdown",
   "metadata": {},
   "source": [
    "Целевой признак категориальный, это задача бинарной классификации."
   ]
  },
  {
   "cell_type": "markdown",
   "metadata": {},
   "source": [
    "### Классификатор дерева решений"
   ]
  },
  {
   "cell_type": "markdown",
   "metadata": {},
   "source": [
    "Проверю метрику Accuracy с разными depth, criterion и splitter:"
   ]
  },
  {
   "cell_type": "code",
   "execution_count": 4,
   "metadata": {},
   "outputs": [
    {
     "name": "stdout",
     "output_type": "stream",
     "text": [
      "Accuracy наилучшей модели на валидационной выборке: 0.7884914463452566 ; max_depth: 7 ; criterion: entropy ; splitter: random\n"
     ]
    }
   ],
   "source": [
    "best_model = None\n",
    "best_result = 0\n",
    "\n",
    "for depth in range(1, 11):\n",
    "    for crit in ['gini', 'entropy']:\n",
    "        for spl in ['best', 'random']:\n",
    "            model = DecisionTreeClassifier(random_state=12345, max_depth=depth, criterion=crit, splitter=spl)\n",
    "            model.fit(features_train, target_train)\n",
    "            predictions_valid = model.predict(features_valid)\n",
    "            result = accuracy_score(target_valid, predictions_valid)\n",
    "            if result > best_result:\n",
    "                best_model = model\n",
    "                best_result = result\n",
    "                d = depth\n",
    "                c = crit\n",
    "                s = spl\n",
    "\n",
    "print(\"Accuracy наилучшей модели на валидационной выборке:\", best_result, \"; max_depth:\", d, \\\n",
    "      \"; criterion:\", c, \"; splitter:\", s)"
   ]
  },
  {
   "cell_type": "markdown",
   "metadata": {},
   "source": [
    "Эта модель получает максимум 0.789 по метрике Accuracy с максимальной глубиной дерева 7, критерием entropy и сплиттером random."
   ]
  },
  {
   "cell_type": "markdown",
   "metadata": {},
   "source": [
    "### Случайный лес"
   ]
  },
  {
   "cell_type": "markdown",
   "metadata": {},
   "source": [
    "Проверю метрику Accuracy с разным количеством n_estimators и глубиной дерева:"
   ]
  },
  {
   "cell_type": "code",
   "execution_count": 5,
   "metadata": {},
   "outputs": [
    {
     "name": "stdout",
     "output_type": "stream",
     "text": [
      "Accuracy наилучшей модели на валидационной выборке: 0.80248833592535 ; n_estimators: 8 ; max_depth: 8\n"
     ]
    }
   ],
   "source": [
    "best_model = None\n",
    "best_result = 0\n",
    "\n",
    "for est in range(1, 11):\n",
    "    for md in range(1,11):\n",
    "        model = RandomForestClassifier(random_state=12345, n_estimators=est, max_depth=md)\n",
    "        model.fit(features_train, target_train)\n",
    "        predictions_valid = model.predict(features_valid)\n",
    "        result = accuracy_score(target_valid, predictions_valid)\n",
    "        if result > best_result:\n",
    "            best_model = model\n",
    "            best_result = result\n",
    "            estim = est\n",
    "            mdt = md\n",
    "\n",
    "print(\"Accuracy наилучшей модели на валидационной выборке:\", best_result, \"; n_estimators:\", estim, \"; max_depth:\", mdt)"
   ]
  },
  {
   "cell_type": "markdown",
   "metadata": {},
   "source": [
    "Эта модель получает максимум 0.802 по метрике Accuracy с n_estimators 8 и глубиной 8."
   ]
  },
  {
   "cell_type": "markdown",
   "metadata": {},
   "source": [
    "### Логическая регрессия"
   ]
  },
  {
   "cell_type": "markdown",
   "metadata": {},
   "source": [
    "Проверю метрику Accuracy с разным количеством max_iter и шагом 100:"
   ]
  },
  {
   "cell_type": "code",
   "execution_count": 6,
   "metadata": {},
   "outputs": [
    {
     "name": "stdout",
     "output_type": "stream",
     "text": [
      "Accuracy наилучшей модели на валидационной выборке: 0.7107309486780715 ; max_iter: 100\n"
     ]
    }
   ],
   "source": [
    "best_model = None\n",
    "best_result = 0\n",
    "\n",
    "for max_it in range(100, 1101, 100):\n",
    "    model = LogisticRegression(random_state=12345, solver='lbfgs', max_iter=max_it)\n",
    "    model.fit(features_train, target_train)\n",
    "    predictions_valid = model.predict(features_valid)\n",
    "    result = accuracy_score(target_valid, predictions_valid)\n",
    "    if result > best_result:\n",
    "        best_model = model\n",
    "        best_result = result\n",
    "        maxit = max_it\n",
    "\n",
    "print(\"Accuracy наилучшей модели на валидационной выборке:\", best_result, \"; max_iter:\", maxit)"
   ]
  },
  {
   "cell_type": "markdown",
   "metadata": {},
   "source": [
    "Эта модель получает максимум 0.711 по метрике Accuracy с max_iter 100."
   ]
  },
  {
   "cell_type": "markdown",
   "metadata": {},
   "source": [
    "**Вывод по моделям:**\n",
    "\n",
    "| Название модели              | Мегапараметры                                        | Accuracy           |\n",
    "| :----------------------------|:-----------------------------------------------------| ------------------:|\n",
    "| Классификатор дерева решений | max_depth: 7 ; criterion: entropy ; splitter: random | 0.7884914463452566 |\n",
    "| Случайный лес                | n_estimators: 8 ; max_depth: 8                       | 0.80248833592535   |\n",
    "| Логическая регрессия         | max_iter: 100                                        | 0.7107309486780715 |"
   ]
  },
  {
   "cell_type": "markdown",
   "metadata": {},
   "source": [
    "Лучшая модель - случайный лес (RandomForestClassifier) с n_estimators: 8 ; max_depth: 8"
   ]
  },
  {
   "cell_type": "markdown",
   "metadata": {},
   "source": [
    "## Проверка лучшей модели на тестовой выборке"
   ]
  },
  {
   "cell_type": "markdown",
   "metadata": {},
   "source": [
    "Так как я выбрала модель RandomForestClassifier с n_estimators=8, max_depth=8, проверю ее на тестовой выборке и посчитаю Accuracy:"
   ]
  },
  {
   "cell_type": "code",
   "execution_count": 7,
   "metadata": {},
   "outputs": [
    {
     "name": "stdout",
     "output_type": "stream",
     "text": [
      "Accuracy на тестовой выборке: 0.7962674961119751\n"
     ]
    }
   ],
   "source": [
    "model = RandomForestClassifier(random_state=12345, n_estimators=8, max_depth=8)\n",
    "model.fit(features_train, target_train)\n",
    "predictions_test = model.predict(features_test)\n",
    "result = accuracy_score(target_test, predictions_test)\n",
    "\n",
    "print(\"Accuracy на тестовой выборке:\", result)"
   ]
  },
  {
   "cell_type": "markdown",
   "metadata": {},
   "source": [
    "Эта модель получает максимум 0.796 по метрике Accuracy."
   ]
  },
  {
   "cell_type": "markdown",
   "metadata": {},
   "source": [
    "**Вывод:** модель работает правильно и на тестовой выборке показала себя хорошо. Практически так же, как и на валидационной выборке."
   ]
  },
  {
   "cell_type": "markdown",
   "metadata": {},
   "source": [
    "## Вывод"
   ]
  },
  {
   "cell_type": "markdown",
   "metadata": {},
   "source": [
    "Были созданы и исследованы на валидационной выборке 3 модели для решения задачи:\n",
    "\n",
    "| Название модели              | Мегапараметры                                        | Accuracy           |\n",
    "| :----------------------------|:-----------------------------------------------------| ------------------:|\n",
    "| Классификатор дерева решений | max_depth: 7 ; criterion: entropy ; splitter: random | 0.7884914463452566 |\n",
    "| Случайный лес                | n_estimators: 8 ; max_depth: 8                       | 0.80248833592535   |\n",
    "| Логическая регрессия         | max_iter: 100                                        | 0.7107309486780715 |\n",
    "\n",
    "    \n",
    "Лучше всего себя проявила модель случайного леса (RandomForestClassifier).\n",
    "Проверка на тестовой выборке подтвердила, что модель работает корректно, она получила 0.7962674961119751 по метрике Accuracy."
   ]
  }
 ],
 "metadata": {
  "ExecuteTimeLog": [
   {
    "duration": 45,
    "start_time": "2023-03-29T14:39:37.761Z"
   },
   {
    "duration": 410,
    "start_time": "2023-03-29T14:39:50.251Z"
   },
   {
    "duration": 168,
    "start_time": "2023-03-29T14:39:57.391Z"
   },
   {
    "duration": 11,
    "start_time": "2023-03-29T14:40:10.271Z"
   },
   {
    "duration": 23,
    "start_time": "2023-03-29T14:40:24.451Z"
   },
   {
    "duration": 1120,
    "start_time": "2023-03-29T14:43:54.830Z"
   },
   {
    "duration": 53,
    "start_time": "2023-03-29T14:43:55.952Z"
   },
   {
    "duration": 12,
    "start_time": "2023-03-29T14:43:56.007Z"
   },
   {
    "duration": 30,
    "start_time": "2023-03-29T14:43:56.021Z"
   },
   {
    "duration": 102,
    "start_time": "2023-03-29T14:46:53.190Z"
   },
   {
    "duration": 36,
    "start_time": "2023-03-29T14:47:09.350Z"
   },
   {
    "duration": 11,
    "start_time": "2023-03-29T14:47:10.511Z"
   },
   {
    "duration": 23,
    "start_time": "2023-03-29T14:47:14.790Z"
   },
   {
    "duration": 9,
    "start_time": "2023-03-29T14:47:16.970Z"
   },
   {
    "duration": 19,
    "start_time": "2023-03-29T14:47:57.920Z"
   },
   {
    "duration": 11,
    "start_time": "2023-03-29T14:48:06.112Z"
   },
   {
    "duration": 10,
    "start_time": "2023-03-29T14:48:20.370Z"
   },
   {
    "duration": 10,
    "start_time": "2023-03-29T14:48:26.720Z"
   },
   {
    "duration": 9,
    "start_time": "2023-03-29T14:54:58.569Z"
   },
   {
    "duration": 3,
    "start_time": "2023-03-29T14:55:15.259Z"
   },
   {
    "duration": 15,
    "start_time": "2023-03-29T14:55:18.249Z"
   },
   {
    "duration": 15,
    "start_time": "2023-03-29T14:56:07.709Z"
   },
   {
    "duration": 3,
    "start_time": "2023-03-29T14:56:47.239Z"
   },
   {
    "duration": 14,
    "start_time": "2023-03-29T14:56:50.229Z"
   },
   {
    "duration": 16,
    "start_time": "2023-03-29T14:57:01.259Z"
   },
   {
    "duration": 16,
    "start_time": "2023-03-29T14:57:42.699Z"
   },
   {
    "duration": 16,
    "start_time": "2023-03-29T15:21:57.256Z"
   },
   {
    "duration": 10,
    "start_time": "2023-03-29T15:40:39.356Z"
   },
   {
    "duration": 11,
    "start_time": "2023-03-29T15:40:42.517Z"
   },
   {
    "duration": 29,
    "start_time": "2023-03-29T15:40:46.475Z"
   },
   {
    "duration": 28,
    "start_time": "2023-03-29T15:42:50.115Z"
   },
   {
    "duration": 107,
    "start_time": "2023-03-29T15:43:06.792Z"
   },
   {
    "duration": 65,
    "start_time": "2023-03-29T15:43:15.065Z"
   },
   {
    "duration": 48,
    "start_time": "2023-03-29T15:43:54.097Z"
   },
   {
    "duration": 103,
    "start_time": "2023-03-29T15:50:55.400Z"
   },
   {
    "duration": 58,
    "start_time": "2023-03-29T15:51:01.975Z"
   },
   {
    "duration": 10,
    "start_time": "2023-03-29T16:00:36.633Z"
   },
   {
    "duration": 3,
    "start_time": "2023-03-29T16:00:39.663Z"
   },
   {
    "duration": 179,
    "start_time": "2023-03-29T16:00:42.684Z"
   },
   {
    "duration": 62,
    "start_time": "2023-03-29T16:00:55.863Z"
   },
   {
    "duration": 46,
    "start_time": "2023-03-29T16:03:36.612Z"
   },
   {
    "duration": 49,
    "start_time": "2023-03-29T16:04:31.912Z"
   },
   {
    "duration": 52,
    "start_time": "2023-03-29T16:05:41.145Z"
   },
   {
    "duration": 52,
    "start_time": "2023-03-29T16:05:46.132Z"
   },
   {
    "duration": 51,
    "start_time": "2023-03-29T16:06:03.262Z"
   },
   {
    "duration": 47,
    "start_time": "2023-03-29T16:06:47.071Z"
   },
   {
    "duration": 183,
    "start_time": "2023-03-29T16:08:30.281Z"
   },
   {
    "duration": 174,
    "start_time": "2023-03-29T16:08:54.351Z"
   },
   {
    "duration": 49,
    "start_time": "2023-03-29T16:09:14.691Z"
   },
   {
    "duration": 4,
    "start_time": "2023-03-29T16:11:02.700Z"
   },
   {
    "duration": 56,
    "start_time": "2023-03-29T16:12:13.100Z"
   },
   {
    "duration": 4,
    "start_time": "2023-03-29T16:12:24.390Z"
   },
   {
    "duration": 7,
    "start_time": "2023-03-29T18:08:26.680Z"
   },
   {
    "duration": 254,
    "start_time": "2023-03-29T18:08:32.061Z"
   },
   {
    "duration": 22122,
    "start_time": "2023-03-29T18:10:37.231Z"
   },
   {
    "duration": 13214,
    "start_time": "2023-03-29T18:11:36.671Z"
   },
   {
    "duration": 182,
    "start_time": "2023-03-29T18:11:58.671Z"
   },
   {
    "duration": 187,
    "start_time": "2023-03-29T18:12:05.109Z"
   },
   {
    "duration": 409,
    "start_time": "2023-03-29T18:17:34.651Z"
   },
   {
    "duration": 134,
    "start_time": "2023-03-29T18:17:51.661Z"
   },
   {
    "duration": 99,
    "start_time": "2023-03-29T18:18:30.900Z"
   },
   {
    "duration": 131,
    "start_time": "2023-03-29T18:18:35.222Z"
   },
   {
    "duration": 23,
    "start_time": "2023-03-29T18:19:10.431Z"
   },
   {
    "duration": 105,
    "start_time": "2023-03-29T18:19:32.931Z"
   },
   {
    "duration": 57,
    "start_time": "2023-03-29T18:20:38.162Z"
   },
   {
    "duration": 59,
    "start_time": "2023-03-29T18:20:51.551Z"
   },
   {
    "duration": 18,
    "start_time": "2023-03-29T18:20:56.771Z"
   },
   {
    "duration": 20,
    "start_time": "2023-03-29T18:21:14.862Z"
   },
   {
    "duration": 204,
    "start_time": "2023-03-29T18:22:27.496Z"
   },
   {
    "duration": 200,
    "start_time": "2023-03-29T18:23:14.152Z"
   },
   {
    "duration": 82,
    "start_time": "2023-03-29T18:23:41.961Z"
   },
   {
    "duration": 94,
    "start_time": "2023-03-29T18:23:47.683Z"
   },
   {
    "duration": 114,
    "start_time": "2023-03-29T18:23:59.997Z"
   },
   {
    "duration": 119,
    "start_time": "2023-03-29T18:24:03.342Z"
   },
   {
    "duration": 163,
    "start_time": "2023-03-29T18:24:07.393Z"
   },
   {
    "duration": 53,
    "start_time": "2023-03-29T18:25:16.511Z"
   },
   {
    "duration": 46,
    "start_time": "2023-03-29T18:25:37.801Z"
   },
   {
    "duration": 177,
    "start_time": "2023-03-29T18:26:31.931Z"
   },
   {
    "duration": 84,
    "start_time": "2023-03-29T18:26:40.641Z"
   },
   {
    "duration": 166,
    "start_time": "2023-03-29T18:26:47.661Z"
   },
   {
    "duration": 170,
    "start_time": "2023-03-29T18:27:21.632Z"
   },
   {
    "duration": 167,
    "start_time": "2023-03-29T18:27:32.101Z"
   },
   {
    "duration": 170,
    "start_time": "2023-03-29T18:27:33.852Z"
   },
   {
    "duration": 13,
    "start_time": "2023-03-29T18:28:09.852Z"
   },
   {
    "duration": 166,
    "start_time": "2023-03-29T18:28:14.101Z"
   },
   {
    "duration": 172,
    "start_time": "2023-03-29T18:29:21.781Z"
   },
   {
    "duration": 171,
    "start_time": "2023-03-29T18:29:28.081Z"
   },
   {
    "duration": 168,
    "start_time": "2023-03-29T18:30:41.912Z"
   },
   {
    "duration": 188,
    "start_time": "2023-03-29T18:31:25.603Z"
   },
   {
    "duration": 164,
    "start_time": "2023-03-29T18:32:07.341Z"
   },
   {
    "duration": 164,
    "start_time": "2023-03-29T18:32:25.951Z"
   },
   {
    "duration": 166,
    "start_time": "2023-03-29T18:32:32.097Z"
   },
   {
    "duration": 181,
    "start_time": "2023-03-29T18:32:34.412Z"
   },
   {
    "duration": 60,
    "start_time": "2023-03-29T18:33:17.562Z"
   },
   {
    "duration": 3,
    "start_time": "2023-03-29T18:33:41.822Z"
   },
   {
    "duration": 44,
    "start_time": "2023-03-29T18:33:45.062Z"
   },
   {
    "duration": 11,
    "start_time": "2023-03-29T18:33:47.831Z"
   },
   {
    "duration": 22,
    "start_time": "2023-03-29T18:33:50.212Z"
   },
   {
    "duration": 9,
    "start_time": "2023-03-29T18:36:36.900Z"
   },
   {
    "duration": 1127,
    "start_time": "2023-03-29T18:38:19.273Z"
   },
   {
    "duration": 41,
    "start_time": "2023-03-29T18:38:20.402Z"
   },
   {
    "duration": 11,
    "start_time": "2023-03-29T18:38:20.444Z"
   },
   {
    "duration": 43,
    "start_time": "2023-03-29T18:38:20.457Z"
   },
   {
    "duration": 16,
    "start_time": "2023-03-29T18:38:20.503Z"
   },
   {
    "duration": 168,
    "start_time": "2023-03-29T18:38:20.522Z"
   },
   {
    "duration": 210,
    "start_time": "2023-03-29T18:38:20.693Z"
   },
   {
    "duration": 237,
    "start_time": "2023-03-29T18:38:20.905Z"
   },
   {
    "duration": 10,
    "start_time": "2023-03-29T18:38:21.144Z"
   },
   {
    "duration": 12,
    "start_time": "2023-03-29T18:38:40.246Z"
   },
   {
    "duration": 38,
    "start_time": "2023-03-29T18:39:28.771Z"
   },
   {
    "duration": 66,
    "start_time": "2023-03-29T18:46:14.272Z"
   },
   {
    "duration": 47,
    "start_time": "2023-03-29T18:46:29.899Z"
   },
   {
    "duration": 1564,
    "start_time": "2023-03-29T18:46:36.151Z"
   },
   {
    "duration": 36,
    "start_time": "2023-03-29T18:47:10.754Z"
   },
   {
    "duration": 11,
    "start_time": "2023-03-29T18:57:18.861Z"
   },
   {
    "duration": 14,
    "start_time": "2023-03-29T18:57:46.454Z"
   },
   {
    "duration": 12,
    "start_time": "2023-03-29T18:58:31.250Z"
   },
   {
    "duration": 1113,
    "start_time": "2023-03-29T18:58:55.730Z"
   },
   {
    "duration": 41,
    "start_time": "2023-03-29T18:58:56.845Z"
   },
   {
    "duration": 11,
    "start_time": "2023-03-29T18:58:56.887Z"
   },
   {
    "duration": 29,
    "start_time": "2023-03-29T18:58:56.900Z"
   },
   {
    "duration": 20,
    "start_time": "2023-03-29T18:58:56.932Z"
   },
   {
    "duration": 183,
    "start_time": "2023-03-29T18:58:56.954Z"
   },
   {
    "duration": 1374,
    "start_time": "2023-03-29T18:58:57.139Z"
   },
   {
    "duration": 148,
    "start_time": "2023-03-29T18:58:58.515Z"
   },
   {
    "duration": 39,
    "start_time": "2023-03-29T18:58:58.665Z"
   },
   {
    "duration": 27,
    "start_time": "2023-03-29T18:59:56.189Z"
   },
   {
    "duration": 11,
    "start_time": "2023-03-29T19:03:08.139Z"
   },
   {
    "duration": 13,
    "start_time": "2023-03-29T19:03:34.599Z"
   },
   {
    "duration": 1156,
    "start_time": "2023-03-29T19:03:50.702Z"
   },
   {
    "duration": 45,
    "start_time": "2023-03-29T19:03:51.860Z"
   },
   {
    "duration": 11,
    "start_time": "2023-03-29T19:03:51.906Z"
   },
   {
    "duration": 37,
    "start_time": "2023-03-29T19:03:51.919Z"
   },
   {
    "duration": 10,
    "start_time": "2023-03-29T19:03:51.958Z"
   },
   {
    "duration": 222,
    "start_time": "2023-03-29T19:03:51.969Z"
   },
   {
    "duration": 1659,
    "start_time": "2023-03-29T19:03:52.194Z"
   },
   {
    "duration": 152,
    "start_time": "2023-03-29T19:03:53.855Z"
   },
   {
    "duration": 48,
    "start_time": "2023-03-29T19:03:54.009Z"
   },
   {
    "duration": 155,
    "start_time": "2023-03-29T19:06:06.311Z"
   },
   {
    "duration": 34,
    "start_time": "2023-03-29T19:06:27.889Z"
   },
   {
    "duration": 61,
    "start_time": "2023-03-30T07:34:56.840Z"
   },
   {
    "duration": 1217,
    "start_time": "2023-03-30T07:35:01.790Z"
   },
   {
    "duration": 177,
    "start_time": "2023-03-30T07:35:03.881Z"
   },
   {
    "duration": 1185,
    "start_time": "2023-03-30T07:35:10.194Z"
   },
   {
    "duration": 64,
    "start_time": "2023-03-30T07:35:11.381Z"
   },
   {
    "duration": 27,
    "start_time": "2023-03-30T07:35:11.446Z"
   },
   {
    "duration": 211,
    "start_time": "2023-03-30T07:35:11.476Z"
   },
   {
    "duration": 1682,
    "start_time": "2023-03-30T07:35:11.688Z"
   },
   {
    "duration": 111,
    "start_time": "2023-03-30T07:35:13.372Z"
   },
   {
    "duration": 30,
    "start_time": "2023-03-30T07:35:13.485Z"
   },
   {
    "duration": 12,
    "start_time": "2023-03-30T07:41:25.282Z"
   },
   {
    "duration": 7,
    "start_time": "2023-03-30T07:42:14.873Z"
   },
   {
    "duration": 8,
    "start_time": "2023-03-30T07:42:38.362Z"
   },
   {
    "duration": 8,
    "start_time": "2023-03-30T07:43:22.191Z"
   },
   {
    "duration": 9,
    "start_time": "2023-03-30T07:43:27.101Z"
   },
   {
    "duration": 8,
    "start_time": "2023-03-30T07:43:42.201Z"
   },
   {
    "duration": 1073,
    "start_time": "2023-03-30T07:44:21.090Z"
   },
   {
    "duration": 67,
    "start_time": "2023-03-30T07:44:22.165Z"
   },
   {
    "duration": 8,
    "start_time": "2023-03-30T07:44:22.234Z"
   },
   {
    "duration": 234,
    "start_time": "2023-03-30T07:44:22.243Z"
   },
   {
    "duration": 1636,
    "start_time": "2023-03-30T07:44:22.479Z"
   },
   {
    "duration": 109,
    "start_time": "2023-03-30T07:44:24.116Z"
   },
   {
    "duration": 44,
    "start_time": "2023-03-30T07:44:24.226Z"
   },
   {
    "duration": 463,
    "start_time": "2023-03-30T08:37:11.319Z"
   },
   {
    "duration": 457,
    "start_time": "2023-03-30T08:37:13.659Z"
   },
   {
    "duration": 220,
    "start_time": "2023-03-30T08:37:18.985Z"
   },
   {
    "duration": 178,
    "start_time": "2023-03-30T08:39:55.949Z"
   },
   {
    "duration": 1527,
    "start_time": "2023-03-30T08:41:58.929Z"
   },
   {
    "duration": 167,
    "start_time": "2023-03-30T08:43:15.029Z"
   },
   {
    "duration": 236,
    "start_time": "2023-03-30T08:43:18.789Z"
   },
   {
    "duration": 113,
    "start_time": "2023-03-30T08:43:22.729Z"
   },
   {
    "duration": 183,
    "start_time": "2023-03-30T08:43:26.998Z"
   },
   {
    "duration": 207,
    "start_time": "2023-03-30T08:43:34.477Z"
   },
   {
    "duration": 173,
    "start_time": "2023-03-30T08:43:40.949Z"
   },
   {
    "duration": 243,
    "start_time": "2023-03-30T09:00:16.108Z"
   },
   {
    "duration": 30,
    "start_time": "2023-03-30T09:00:22.007Z"
   },
   {
    "duration": 55,
    "start_time": "2023-03-30T09:01:25.122Z"
   },
   {
    "duration": 1494,
    "start_time": "2023-03-30T09:12:56.577Z"
   },
   {
    "duration": 73,
    "start_time": "2023-03-30T09:12:58.074Z"
   },
   {
    "duration": 7,
    "start_time": "2023-03-30T09:12:58.148Z"
   },
   {
    "duration": 186,
    "start_time": "2023-03-30T09:12:58.156Z"
   },
   {
    "duration": 1488,
    "start_time": "2023-03-30T09:12:58.343Z"
   },
   {
    "duration": 156,
    "start_time": "2023-03-30T09:12:59.833Z"
   },
   {
    "duration": 28,
    "start_time": "2023-03-30T09:12:59.990Z"
   },
   {
    "duration": 155,
    "start_time": "2023-03-30T09:16:34.857Z"
   },
   {
    "duration": 1140,
    "start_time": "2023-03-30T09:21:24.707Z"
   },
   {
    "duration": 69,
    "start_time": "2023-03-30T09:21:25.849Z"
   },
   {
    "duration": 8,
    "start_time": "2023-03-30T09:21:25.919Z"
   },
   {
    "duration": 214,
    "start_time": "2023-03-30T09:21:25.930Z"
   },
   {
    "duration": 1716,
    "start_time": "2023-03-30T09:21:26.146Z"
   },
   {
    "duration": 192,
    "start_time": "2023-03-30T09:21:27.864Z"
   },
   {
    "duration": 34,
    "start_time": "2023-03-30T09:21:28.058Z"
   },
   {
    "duration": 83,
    "start_time": "2023-03-30T18:42:51.929Z"
   },
   {
    "duration": 67,
    "start_time": "2023-04-14T07:45:06.938Z"
   },
   {
    "duration": 1239,
    "start_time": "2023-04-14T07:45:17.592Z"
   },
   {
    "duration": 184,
    "start_time": "2023-04-14T07:45:18.833Z"
   },
   {
    "duration": 10,
    "start_time": "2023-04-14T07:45:19.018Z"
   },
   {
    "duration": 126,
    "start_time": "2023-04-14T07:45:19.030Z"
   },
   {
    "duration": 0,
    "start_time": "2023-04-14T07:45:19.158Z"
   },
   {
    "duration": 0,
    "start_time": "2023-04-14T07:45:19.160Z"
   },
   {
    "duration": 0,
    "start_time": "2023-04-14T07:45:19.161Z"
   },
   {
    "duration": 1401,
    "start_time": "2023-04-14T07:45:41.546Z"
   },
   {
    "duration": 82,
    "start_time": "2023-04-14T07:45:42.949Z"
   },
   {
    "duration": 11,
    "start_time": "2023-04-14T07:45:43.033Z"
   },
   {
    "duration": 287,
    "start_time": "2023-04-14T07:45:43.046Z"
   },
   {
    "duration": 1952,
    "start_time": "2023-04-14T07:45:43.343Z"
   },
   {
    "duration": 271,
    "start_time": "2023-04-14T07:45:45.297Z"
   },
   {
    "duration": 37,
    "start_time": "2023-04-14T07:45:45.570Z"
   }
  ],
  "kernelspec": {
   "display_name": "Python 3 (ipykernel)",
   "language": "python",
   "name": "python3"
  },
  "language_info": {
   "codemirror_mode": {
    "name": "ipython",
    "version": 3
   },
   "file_extension": ".py",
   "mimetype": "text/x-python",
   "name": "python",
   "nbconvert_exporter": "python",
   "pygments_lexer": "ipython3",
   "version": "3.9.13"
  },
  "toc": {
   "base_numbering": 1,
   "nav_menu": {},
   "number_sections": true,
   "sideBar": true,
   "skip_h1_title": true,
   "title_cell": "Table of Contents",
   "title_sidebar": "Contents",
   "toc_cell": false,
   "toc_position": {},
   "toc_section_display": true,
   "toc_window_display": false
  }
 },
 "nbformat": 4,
 "nbformat_minor": 2
}
