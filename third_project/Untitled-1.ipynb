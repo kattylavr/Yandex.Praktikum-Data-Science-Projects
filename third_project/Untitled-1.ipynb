{
 "cells": [
  {
   "attachments": {},
   "cell_type": "markdown",
   "metadata": {},
   "source": [
    "**Содержание**<a id='toc0_'></a>    \n",
    "- [Привет](#toc1_)    \n",
    "  - [Hi there](#toc1_1_)    \n",
    "  - [Hi there 2](#toc1_2_)    \n",
    "  - [Hi there 3](#toc1_3_)    \n",
    "  - [Hi there 4](#toc1_4_)    \n",
    "\n",
    "<!-- vscode-jupyter-toc-config\n",
    "\tnumbering=false\n",
    "\tanchor=true\n",
    "\tflat=false\n",
    "\tminLevel=1\n",
    "\tmaxLevel=6\n",
    "\t/vscode-jupyter-toc-config -->\n",
    "<!-- THIS CELL WILL BE REPLACED ON TOC UPDATE. DO NOT WRITE YOUR TEXT IN THIS CELL -->"
   ]
  },
  {
   "cell_type": "code",
   "execution_count": 2,
   "metadata": {},
   "outputs": [
    {
     "data": {
      "text/plain": [
       "['hi', 2, 3, 56, 45, 1, 'hello', 'bother', 'father', 2]"
      ]
     },
     "execution_count": 2,
     "metadata": {},
     "output_type": "execute_result"
    }
   ],
   "source": [
    "import pandas\n",
    "\n",
    "list = [1, 'hello', 'bother', 'father', 2]\n",
    "list_2 = ['hi', 2, 3, 56, 45]\n",
    "\n",
    "for index in list:\n",
    "    list_2.append(index)\n",
    "\n",
    "list_2\n",
    "\n"
   ]
  },
  {
   "cell_type": "markdown",
   "metadata": {},
   "source": [
    "# <a id='toc1_'></a>[Привет](#toc0_)\n",
    "\n",
    "## <a id='toc1_1_'></a>[Hi there](#toc0_)\n",
    "\n",
    "## <a id='toc1_2_'></a>[Hi there 2](#toc0_)\n",
    "\n",
    "## <a id='toc1_3_'></a>[Hi there 3](#toc0_)\n",
    "\n",
    "## <a id='toc1_4_'></a>[Hi there 4](#toc0_)\n",
    "\n",
    "Я пытаюсь писать код в новом редакторе!"
   ]
  }
 ],
 "metadata": {
  "kernelspec": {
   "display_name": "practicum",
   "language": "python",
   "name": "python3"
  },
  "language_info": {
   "codemirror_mode": {
    "name": "ipython",
    "version": 3
   },
   "file_extension": ".py",
   "mimetype": "text/x-python",
   "name": "python",
   "nbconvert_exporter": "python",
   "pygments_lexer": "ipython3",
   "version": "3.9.15 | packaged by conda-forge | (main, Nov 22 2022, 08:41:22) [MSC v.1929 64 bit (AMD64)]"
  },
  "orig_nbformat": 4,
  "vscode": {
   "interpreter": {
    "hash": "e2c45cf43cbb0d73866e411b55f667b600c00a6ba6871763fe56699afd79eed3"
   }
  }
 },
 "nbformat": 4,
 "nbformat_minor": 2
}
