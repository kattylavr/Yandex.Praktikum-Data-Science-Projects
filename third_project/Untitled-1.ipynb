{
 "cells": [
  {
   "cell_type": "code",
   "execution_count": 2,
   "metadata": {},
   "outputs": [
    {
     "data": {
      "text/plain": [
       "['hi', 2, 3, 56, 45, 1, 'hello', 'bother', 'father', 2]"
      ]
     },
     "execution_count": 2,
     "metadata": {},
     "output_type": "execute_result"
    }
   ],
   "source": [
    "import pandas\n",
    "\n",
    "list = [1, 'hello', 'bother', 'father', 2]\n",
    "list_2 = ['hi', 2, 3, 56, 45]\n",
    "\n",
    "for index in list:\n",
    "    list_2.append(index)\n",
    "\n",
    "list_2\n",
    "\n"
   ]
  },
  {
   "attachments": {},
   "cell_type": "markdown",
   "metadata": {},
   "source": [
    "### Привет\n",
    "\n",
    "Я пытаюсь писать код в новом редакторе!"
   ]
  }
 ],
 "metadata": {
  "kernelspec": {
   "display_name": "practicum",
   "language": "python",
   "name": "python3"
  },
  "language_info": {
   "codemirror_mode": {
    "name": "ipython",
    "version": 3
   },
   "file_extension": ".py",
   "mimetype": "text/x-python",
   "name": "python",
   "nbconvert_exporter": "python",
   "pygments_lexer": "ipython3",
   "version": "3.9.15"
  },
  "orig_nbformat": 4,
  "vscode": {
   "interpreter": {
    "hash": "e2c45cf43cbb0d73866e411b55f667b600c00a6ba6871763fe56699afd79eed3"
   }
  }
 },
 "nbformat": 4,
 "nbformat_minor": 2
}
