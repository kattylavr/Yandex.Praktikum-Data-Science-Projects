{
 "cells": [
  {
   "cell_type": "markdown",
   "metadata": {},
   "source": [
    "# Определение стоимости автомобилей"
   ]
  },
  {
   "cell_type": "markdown",
   "metadata": {},
   "source": [
    "Сервис по продаже автомобилей с пробегом разрабатывает приложение для привлечения новых клиентов. В нём можно быстро узнать рыночную стоимость своего автомобиля.\n",
    "\n",
    "Данные исторические: технические характеристики, комплектации и цены автомобилей. \n",
    "\n",
    "**Задача:** построить модель для определения стоимости. Качество модели по метрике RMSE должно быть ниже 2500.\n",
    "\n",
    "**Описание данных:**\n",
    "\n",
    "**Признаки**<br>\n",
    "- DateCrawled — дата скачивания анкеты из базы\n",
    "- VehicleType — тип автомобильного кузова\n",
    "- RegistrationYear — год регистрации автомобиля\n",
    "- Gearbox — тип коробки передач\n",
    "- Power — мощность (л. с.)\n",
    "- Model — модель автомобиля\n",
    "- Kilometer — пробег (км)\n",
    "- RegistrationMonth — месяц регистрации автомобиля\n",
    "- FuelType — тип топлива\n",
    "- Brand — марка автомобиля\n",
    "- Repaired — была машина в ремонте или нет\n",
    "- DateCreated — дата создания анкеты\n",
    "- NumberOfPictures — количество фотографий автомобиля\n",
    "- PostalCode — почтовый индекс владельца анкеты (пользователя)\n",
    "- LastSeen — дата последней активности пользователя\n",
    "\n",
    "**Целевой признак**<br>\n",
    "- Price — цена (евро)\n",
    "\n",
    "**Ход исследования:**\n",
    "1. Импорт библиотек\n",
    "2. Вводный анализ данных\n",
    "3. Предобработка данных\n",
    "4. Обучение моделей\n",
    "5. Анализ моделей\n",
    "6. Проверка лучшей модели\n",
    "7. Вывод"
   ]
  },
  {
   "cell_type": "markdown",
   "metadata": {},
   "source": [
    "## Импорт библиотек"
   ]
  },
  {
   "cell_type": "code",
   "execution_count": 2,
   "metadata": {},
   "outputs": [],
   "source": [
    "import pandas as pd\n",
    "import seaborn as sns\n",
    "import matplotlib.pyplot as plt\n",
    "import numpy as np\n",
    "\n",
    "from sklearn.metrics import mean_squared_error\n",
    "from sklearn.metrics import make_scorer\n",
    "from sklearn.ensemble import RandomForestRegressor\n",
    "from sklearn.model_selection import train_test_split\n",
    "from sklearn.preprocessing import LabelEncoder\n",
    "from sklearn.model_selection import RandomizedSearchCV\n",
    "from sklearn.preprocessing import StandardScaler \n",
    "from sklearn.dummy import DummyRegressor\n",
    "\n",
    "from catboost import CatBoostRegressor\n",
    "\n",
    "from lightgbm import LGBMRegressor\n",
    "import lightgbm as lgb"
   ]
  },
  {
   "cell_type": "markdown",
   "metadata": {},
   "source": [
    "## Вводный анализ данных"
   ]
  },
  {
   "cell_type": "markdown",
   "metadata": {},
   "source": [
    "Создам переменную с данными:"
   ]
  },
  {
   "cell_type": "code",
   "execution_count": 3,
   "metadata": {},
   "outputs": [],
   "source": [
    "try:\n",
    "    data = pd.read_csv('/datasets/autos.csv')\n",
    "except:\n",
    "    data = pd.read_csv('D:\\\\data\\\\autos.csv')"
   ]
  },
  {
   "cell_type": "code",
   "execution_count": 4,
   "metadata": {
    "scrolled": false
   },
   "outputs": [
    {
     "data": {
      "text/html": [
       "<div>\n",
       "<style scoped>\n",
       "    .dataframe tbody tr th:only-of-type {\n",
       "        vertical-align: middle;\n",
       "    }\n",
       "\n",
       "    .dataframe tbody tr th {\n",
       "        vertical-align: top;\n",
       "    }\n",
       "\n",
       "    .dataframe thead th {\n",
       "        text-align: right;\n",
       "    }\n",
       "</style>\n",
       "<table border=\"1\" class=\"dataframe\">\n",
       "  <thead>\n",
       "    <tr style=\"text-align: right;\">\n",
       "      <th></th>\n",
       "      <th>DateCrawled</th>\n",
       "      <th>Price</th>\n",
       "      <th>VehicleType</th>\n",
       "      <th>RegistrationYear</th>\n",
       "      <th>Gearbox</th>\n",
       "      <th>Power</th>\n",
       "      <th>Model</th>\n",
       "      <th>Kilometer</th>\n",
       "      <th>RegistrationMonth</th>\n",
       "      <th>FuelType</th>\n",
       "      <th>Brand</th>\n",
       "      <th>Repaired</th>\n",
       "      <th>DateCreated</th>\n",
       "      <th>NumberOfPictures</th>\n",
       "      <th>PostalCode</th>\n",
       "      <th>LastSeen</th>\n",
       "    </tr>\n",
       "  </thead>\n",
       "  <tbody>\n",
       "    <tr>\n",
       "      <th>0</th>\n",
       "      <td>2016-03-24 11:52:17</td>\n",
       "      <td>480</td>\n",
       "      <td>NaN</td>\n",
       "      <td>1993</td>\n",
       "      <td>manual</td>\n",
       "      <td>0</td>\n",
       "      <td>golf</td>\n",
       "      <td>150000</td>\n",
       "      <td>0</td>\n",
       "      <td>petrol</td>\n",
       "      <td>volkswagen</td>\n",
       "      <td>NaN</td>\n",
       "      <td>2016-03-24 00:00:00</td>\n",
       "      <td>0</td>\n",
       "      <td>70435</td>\n",
       "      <td>2016-04-07 03:16:57</td>\n",
       "    </tr>\n",
       "    <tr>\n",
       "      <th>1</th>\n",
       "      <td>2016-03-24 10:58:45</td>\n",
       "      <td>18300</td>\n",
       "      <td>coupe</td>\n",
       "      <td>2011</td>\n",
       "      <td>manual</td>\n",
       "      <td>190</td>\n",
       "      <td>NaN</td>\n",
       "      <td>125000</td>\n",
       "      <td>5</td>\n",
       "      <td>gasoline</td>\n",
       "      <td>audi</td>\n",
       "      <td>yes</td>\n",
       "      <td>2016-03-24 00:00:00</td>\n",
       "      <td>0</td>\n",
       "      <td>66954</td>\n",
       "      <td>2016-04-07 01:46:50</td>\n",
       "    </tr>\n",
       "    <tr>\n",
       "      <th>2</th>\n",
       "      <td>2016-03-14 12:52:21</td>\n",
       "      <td>9800</td>\n",
       "      <td>suv</td>\n",
       "      <td>2004</td>\n",
       "      <td>auto</td>\n",
       "      <td>163</td>\n",
       "      <td>grand</td>\n",
       "      <td>125000</td>\n",
       "      <td>8</td>\n",
       "      <td>gasoline</td>\n",
       "      <td>jeep</td>\n",
       "      <td>NaN</td>\n",
       "      <td>2016-03-14 00:00:00</td>\n",
       "      <td>0</td>\n",
       "      <td>90480</td>\n",
       "      <td>2016-04-05 12:47:46</td>\n",
       "    </tr>\n",
       "    <tr>\n",
       "      <th>3</th>\n",
       "      <td>2016-03-17 16:54:04</td>\n",
       "      <td>1500</td>\n",
       "      <td>small</td>\n",
       "      <td>2001</td>\n",
       "      <td>manual</td>\n",
       "      <td>75</td>\n",
       "      <td>golf</td>\n",
       "      <td>150000</td>\n",
       "      <td>6</td>\n",
       "      <td>petrol</td>\n",
       "      <td>volkswagen</td>\n",
       "      <td>no</td>\n",
       "      <td>2016-03-17 00:00:00</td>\n",
       "      <td>0</td>\n",
       "      <td>91074</td>\n",
       "      <td>2016-03-17 17:40:17</td>\n",
       "    </tr>\n",
       "    <tr>\n",
       "      <th>4</th>\n",
       "      <td>2016-03-31 17:25:20</td>\n",
       "      <td>3600</td>\n",
       "      <td>small</td>\n",
       "      <td>2008</td>\n",
       "      <td>manual</td>\n",
       "      <td>69</td>\n",
       "      <td>fabia</td>\n",
       "      <td>90000</td>\n",
       "      <td>7</td>\n",
       "      <td>gasoline</td>\n",
       "      <td>skoda</td>\n",
       "      <td>no</td>\n",
       "      <td>2016-03-31 00:00:00</td>\n",
       "      <td>0</td>\n",
       "      <td>60437</td>\n",
       "      <td>2016-04-06 10:17:21</td>\n",
       "    </tr>\n",
       "  </tbody>\n",
       "</table>\n",
       "</div>"
      ],
      "text/plain": [
       "           DateCrawled  Price VehicleType  RegistrationYear Gearbox  Power  \\\n",
       "0  2016-03-24 11:52:17    480         NaN              1993  manual      0   \n",
       "1  2016-03-24 10:58:45  18300       coupe              2011  manual    190   \n",
       "2  2016-03-14 12:52:21   9800         suv              2004    auto    163   \n",
       "3  2016-03-17 16:54:04   1500       small              2001  manual     75   \n",
       "4  2016-03-31 17:25:20   3600       small              2008  manual     69   \n",
       "\n",
       "   Model  Kilometer  RegistrationMonth  FuelType       Brand Repaired  \\\n",
       "0   golf     150000                  0    petrol  volkswagen      NaN   \n",
       "1    NaN     125000                  5  gasoline        audi      yes   \n",
       "2  grand     125000                  8  gasoline        jeep      NaN   \n",
       "3   golf     150000                  6    petrol  volkswagen       no   \n",
       "4  fabia      90000                  7  gasoline       skoda       no   \n",
       "\n",
       "           DateCreated  NumberOfPictures  PostalCode             LastSeen  \n",
       "0  2016-03-24 00:00:00                 0       70435  2016-04-07 03:16:57  \n",
       "1  2016-03-24 00:00:00                 0       66954  2016-04-07 01:46:50  \n",
       "2  2016-03-14 00:00:00                 0       90480  2016-04-05 12:47:46  \n",
       "3  2016-03-17 00:00:00                 0       91074  2016-03-17 17:40:17  \n",
       "4  2016-03-31 00:00:00                 0       60437  2016-04-06 10:17:21  "
      ]
     },
     "execution_count": 4,
     "metadata": {},
     "output_type": "execute_result"
    }
   ],
   "source": [
    "data.head()"
   ]
  },
  {
   "cell_type": "markdown",
   "metadata": {},
   "source": [
    "Я бы удалила неинформативные колонки: DateCrawled, DateCreated, NumberOfPictures, LastSeen, RegistrationMonth. Эти данные на цену автомобиля напрямую не влияют. Также мне кажется, что колонка PostalCode может быть не важной, но надо посмотреть на частотность значений, проверю это чуть позже."
   ]
  },
  {
   "cell_type": "code",
   "execution_count": 5,
   "metadata": {
    "scrolled": true
   },
   "outputs": [
    {
     "name": "stdout",
     "output_type": "stream",
     "text": [
      "<class 'pandas.core.frame.DataFrame'>\n",
      "RangeIndex: 354369 entries, 0 to 354368\n",
      "Data columns (total 16 columns):\n",
      " #   Column             Non-Null Count   Dtype \n",
      "---  ------             --------------   ----- \n",
      " 0   DateCrawled        354369 non-null  object\n",
      " 1   Price              354369 non-null  int64 \n",
      " 2   VehicleType        316879 non-null  object\n",
      " 3   RegistrationYear   354369 non-null  int64 \n",
      " 4   Gearbox            334536 non-null  object\n",
      " 5   Power              354369 non-null  int64 \n",
      " 6   Model              334664 non-null  object\n",
      " 7   Kilometer          354369 non-null  int64 \n",
      " 8   RegistrationMonth  354369 non-null  int64 \n",
      " 9   FuelType           321474 non-null  object\n",
      " 10  Brand              354369 non-null  object\n",
      " 11  Repaired           283215 non-null  object\n",
      " 12  DateCreated        354369 non-null  object\n",
      " 13  NumberOfPictures   354369 non-null  int64 \n",
      " 14  PostalCode         354369 non-null  int64 \n",
      " 15  LastSeen           354369 non-null  object\n",
      "dtypes: int64(7), object(9)\n",
      "memory usage: 43.3+ MB\n"
     ]
    }
   ],
   "source": [
    "data.info()"
   ]
  },
  {
   "cell_type": "markdown",
   "metadata": {},
   "source": [
    "Формат колонки repaired я бы заменила на bool, предварительно изменив yes на true, а no на false. Но сначала надо посмотреть частотность значений и пропуски, тогда приму решение.\n",
    "\n",
    "У дат тоже надо изменять формат, но я удалю эти колонки на этапе предобработки. Поэтому менять формат не буду."
   ]
  },
  {
   "cell_type": "code",
   "execution_count": 6,
   "metadata": {},
   "outputs": [
    {
     "data": {
      "text/plain": [
       "count    354369.000000\n",
       "mean       4416.656776\n",
       "std        4514.158514\n",
       "min           0.000000\n",
       "25%        1050.000000\n",
       "50%        2700.000000\n",
       "75%        6400.000000\n",
       "max       20000.000000\n",
       "Name: Price, dtype: float64"
      ]
     },
     "execution_count": 6,
     "metadata": {},
     "output_type": "execute_result"
    }
   ],
   "source": [
    "data['Price'].describe()"
   ]
  },
  {
   "cell_type": "markdown",
   "metadata": {},
   "source": [
    "Посмотрю на разброс значений в столбцах:"
   ]
  },
  {
   "cell_type": "code",
   "execution_count": 5,
   "metadata": {
    "scrolled": true
   },
   "outputs": [
    {
     "data": {
      "image/png": "[encoded data removed]",
      "text/plain": [
       "<Figure size 500x300 with 1 Axes>"
      ]
     },
     "metadata": {},
     "output_type": "display_data"
    }
   ],
   "source": [
    "plt.rcParams['figure.figsize'] = [5, 3]\n",
    "\n",
    "data['Price'].hist()\n",
    "\n",
    "plt.xlabel(\"Цена\")\n",
    "plt.ylabel(\"Частота\")\n",
    "plt.title(\"Гистограмма с данными по цене\")\n",
    "plt.xticks(rotation = 45);"
   ]
  },
  {
   "cell_type": "markdown",
   "metadata": {},
   "source": [
    "Чаще всего машины стоят примерно до 2000."
   ]
  },
  {
   "cell_type": "code",
   "execution_count": 6,
   "metadata": {
    "scrolled": true
   },
   "outputs": [
    {
     "data": {
      "text/plain": [
       "sedan          91457\n",
       "small          79831\n",
       "wagon          65166\n",
       "bus            28775\n",
       "convertible    20203\n",
       "coupe          16163\n",
       "suv            11996\n",
       "other           3288\n",
       "Name: VehicleType, dtype: int64"
      ]
     },
     "execution_count": 6,
     "metadata": {},
     "output_type": "execute_result"
    }
   ],
   "source": [
    "data['VehicleType'].value_counts()"
   ]
  },
  {
   "cell_type": "markdown",
   "metadata": {},
   "source": [
    "Не вижу неявных дубликатов. Если будут пропуски, можно их заменить на other."
   ]
  },
  {
   "cell_type": "code",
   "execution_count": 7,
   "metadata": {
    "scrolled": false
   },
   "outputs": [
    {
     "data": {
      "image/png": "[encoded data removed]",
      "text/plain": [
       "<Figure size 500x300 with 1 Axes>"
      ]
     },
     "metadata": {},
     "output_type": "display_data"
    }
   ],
   "source": [
    "data['RegistrationYear'].hist(bins=100)\n",
    "\n",
    "plt.xlim([1850, 2100])\n",
    "plt.ylim([0, 360000])\n",
    "plt.xlabel(\"Год регистрации\")\n",
    "plt.ylabel(\"Частота\")\n",
    "plt.title(\"Гистограмма с данными по году регистрации авто\")\n",
    "plt.xticks(rotation = 45);"
   ]
  },
  {
   "cell_type": "markdown",
   "metadata": {},
   "source": [
    "Наверняка есть аномалии, поэтому их нужно будет почистить."
   ]
  },
  {
   "cell_type": "code",
   "execution_count": 8,
   "metadata": {},
   "outputs": [
    {
     "data": {
      "text/plain": [
       "manual    268251\n",
       "auto       66285\n",
       "Name: Gearbox, dtype: int64"
      ]
     },
     "execution_count": 8,
     "metadata": {},
     "output_type": "execute_result"
    }
   ],
   "source": [
    "data['Gearbox'].value_counts()"
   ]
  },
  {
   "cell_type": "markdown",
   "metadata": {},
   "source": [
    "Все отлично."
   ]
  },
  {
   "cell_type": "code",
   "execution_count": 9,
   "metadata": {},
   "outputs": [
    {
     "data": {
      "image/png": "[encoded data removed]",
      "text/plain": [
       "<Figure size 500x300 with 1 Axes>"
      ]
     },
     "metadata": {},
     "output_type": "display_data"
    }
   ],
   "source": [
    "data['Power'].hist(bins=100)\n",
    "\n",
    "plt.xlim([0, 500])\n",
    "plt.ylim([0, 350000])\n",
    "plt.xlabel(\"Мощность\")\n",
    "plt.ylabel(\"Частота\")\n",
    "plt.title(\"Гистограмма с данными по мощности\")\n",
    "plt.xticks(rotation = 45);"
   ]
  },
  {
   "cell_type": "markdown",
   "metadata": {},
   "source": [
    "Чаше всего мощность до 200 л.с."
   ]
  },
  {
   "cell_type": "code",
   "execution_count": 10,
   "metadata": {
    "scrolled": false
   },
   "outputs": [
    {
     "data": {
      "text/plain": [
       "golf                  29232\n",
       "other                 24421\n",
       "3er                   19761\n",
       "polo                  13066\n",
       "corsa                 12570\n",
       "                      ...  \n",
       "i3                        8\n",
       "serie_3                   4\n",
       "rangerover                4\n",
       "range_rover_evoque        2\n",
       "serie_1                   2\n",
       "Name: Model, Length: 250, dtype: int64"
      ]
     },
     "execution_count": 10,
     "metadata": {},
     "output_type": "execute_result"
    }
   ],
   "source": [
    "data['Model'].value_counts()"
   ]
  },
  {
   "cell_type": "markdown",
   "metadata": {},
   "source": [
    "Если будут пропуски, их можно будет заменить на значение \"other\"."
   ]
  },
  {
   "cell_type": "code",
   "execution_count": 11,
   "metadata": {
    "scrolled": true
   },
   "outputs": [
    {
     "data": {
      "image/png": "[encoded data removed]",
      "text/plain": [
       "<Figure size 500x300 with 1 Axes>"
      ]
     },
     "metadata": {},
     "output_type": "display_data"
    }
   ],
   "source": [
    "data['Kilometer'].hist(bins=10)\n",
    "\n",
    "plt.xlim([0, 200000])\n",
    "plt.ylim([0, 250000])\n",
    "plt.xlabel(\"Пробег\")\n",
    "plt.ylabel(\"Частота\")\n",
    "plt.title(\"Гистограмма с данными по году пробегу авто\")\n",
    "plt.xticks(rotation = 45);"
   ]
  },
  {
   "cell_type": "markdown",
   "metadata": {},
   "source": [
    "Чаще всего пробег от 130 до 150 тысяч."
   ]
  },
  {
   "cell_type": "code",
   "execution_count": 12,
   "metadata": {
    "scrolled": true
   },
   "outputs": [
    {
     "data": {
      "text/plain": [
       "petrol      216352\n",
       "gasoline     98720\n",
       "lpg           5310\n",
       "cng            565\n",
       "hybrid         233\n",
       "other          204\n",
       "electric        90\n",
       "Name: FuelType, dtype: int64"
      ]
     },
     "execution_count": 12,
     "metadata": {},
     "output_type": "execute_result"
    }
   ],
   "source": [
    "data['FuelType'].value_counts()"
   ]
  },
  {
   "cell_type": "markdown",
   "metadata": {},
   "source": [
    "Все отлично."
   ]
  },
  {
   "cell_type": "code",
   "execution_count": 13,
   "metadata": {
    "scrolled": true
   },
   "outputs": [
    {
     "data": {
      "text/plain": [
       "volkswagen        77013\n",
       "opel              39931\n",
       "bmw               36914\n",
       "mercedes_benz     32046\n",
       "audi              29456\n",
       "ford              25179\n",
       "renault           17927\n",
       "peugeot           10998\n",
       "fiat               9643\n",
       "seat               6907\n",
       "mazda              5615\n",
       "skoda              5500\n",
       "smart              5246\n",
       "citroen            5148\n",
       "nissan             4941\n",
       "toyota             4606\n",
       "hyundai            3587\n",
       "sonstige_autos     3374\n",
       "volvo              3210\n",
       "mini               3202\n",
       "mitsubishi         3022\n",
       "honda              2817\n",
       "kia                2465\n",
       "suzuki             2323\n",
       "alfa_romeo         2314\n",
       "chevrolet          1754\n",
       "chrysler           1439\n",
       "dacia               900\n",
       "daihatsu            806\n",
       "subaru              762\n",
       "porsche             758\n",
       "jeep                677\n",
       "trabant             589\n",
       "land_rover          545\n",
       "daewoo              542\n",
       "saab                526\n",
       "jaguar              505\n",
       "rover               486\n",
       "lancia              471\n",
       "lada                225\n",
       "Name: Brand, dtype: int64"
      ]
     },
     "execution_count": 13,
     "metadata": {},
     "output_type": "execute_result"
    }
   ],
   "source": [
    "data['Brand'].value_counts()"
   ]
  },
  {
   "cell_type": "markdown",
   "metadata": {},
   "source": [
    "Все отлично."
   ]
  },
  {
   "cell_type": "code",
   "execution_count": 14,
   "metadata": {
    "scrolled": false
   },
   "outputs": [
    {
     "data": {
      "text/plain": [
       "no     247161\n",
       "yes     36054\n",
       "Name: Repaired, dtype: int64"
      ]
     },
     "execution_count": 14,
     "metadata": {},
     "output_type": "execute_result"
    }
   ],
   "source": [
    "data['Repaired'].value_counts()"
   ]
  },
  {
   "cell_type": "markdown",
   "metadata": {},
   "source": [
    "Если есть пропуски, придется добавить еще одно значение."
   ]
  },
  {
   "cell_type": "code",
   "execution_count": 15,
   "metadata": {
    "scrolled": false
   },
   "outputs": [
    {
     "data": {
      "text/plain": [
       "10115    819\n",
       "65428    613\n",
       "66333    343\n",
       "32257    317\n",
       "44145    317\n",
       "        ... \n",
       "91801      1\n",
       "31097      1\n",
       "82444      1\n",
       "94359      1\n",
       "31096      1\n",
       "Name: PostalCode, Length: 8143, dtype: int64"
      ]
     },
     "execution_count": 15,
     "metadata": {},
     "output_type": "execute_result"
    }
   ],
   "source": [
    "data['PostalCode'].value_counts()"
   ]
  },
  {
   "cell_type": "markdown",
   "metadata": {},
   "source": [
    "Это колонка кажется не важной, частотность не высокая, вряд ли как-то повлияет на цену."
   ]
  },
  {
   "cell_type": "markdown",
   "metadata": {},
   "source": [
    "Проверю данные на пропуски:"
   ]
  },
  {
   "cell_type": "code",
   "execution_count": 16,
   "metadata": {},
   "outputs": [
    {
     "name": "stdout",
     "output_type": "stream",
     "text": [
      "Количество пропусков:\n"
     ]
    },
    {
     "data": {
      "text/plain": [
       "DateCrawled              0\n",
       "Price                    0\n",
       "VehicleType          37490\n",
       "RegistrationYear         0\n",
       "Gearbox              19833\n",
       "Power                    0\n",
       "Model                19705\n",
       "Kilometer                0\n",
       "RegistrationMonth        0\n",
       "FuelType             32895\n",
       "Brand                    0\n",
       "Repaired             71154\n",
       "DateCreated              0\n",
       "NumberOfPictures         0\n",
       "PostalCode               0\n",
       "LastSeen                 0\n",
       "dtype: int64"
      ]
     },
     "execution_count": 16,
     "metadata": {},
     "output_type": "execute_result"
    }
   ],
   "source": [
    "print(\"Количество пропусков:\")\n",
    "data.isna().sum()"
   ]
  },
  {
   "cell_type": "markdown",
   "metadata": {},
   "source": [
    "Как заполнить пропуски:\n",
    "    \n",
    "- VehicleType - можно заполнить NaN значением other\n",
    "- Gearbox - можно заменить NaN на unknown\n",
    "- Model - можно заполнить NaN значением other\n",
    "- FuelType - можно заполнить NaN значением other\n",
    "- Repaired - можно заполнить NaN значением unknown"
   ]
  },
  {
   "cell_type": "markdown",
   "metadata": {},
   "source": [
    "Проверю, есть ли дубликаты строк:"
   ]
  },
  {
   "cell_type": "code",
   "execution_count": 17,
   "metadata": {
    "scrolled": true
   },
   "outputs": [
    {
     "name": "stdout",
     "output_type": "stream",
     "text": [
      "Количество дубликатов: 4\n"
     ]
    }
   ],
   "source": [
    "print(\"Количество дубликатов:\", data.duplicated().sum())"
   ]
  },
  {
   "cell_type": "markdown",
   "metadata": {},
   "source": [
    "Проверю аномалии в колонках:"
   ]
  },
  {
   "cell_type": "markdown",
   "metadata": {},
   "source": [
    "**Price**"
   ]
  },
  {
   "cell_type": "code",
   "execution_count": 18,
   "metadata": {
    "scrolled": true
   },
   "outputs": [
    {
     "data": {
      "image/png": "[encoded data removed]",
      "text/plain": [
       "<Figure size 2000x500 with 1 Axes>"
      ]
     },
     "metadata": {},
     "output_type": "display_data"
    }
   ],
   "source": [
    "fig, ax = plt.subplots(figsize=(20, 5))\n",
    "sns.boxplot(data=data, x='Price')\n",
    "ax.set_xlim(0, 21000)\n",
    "ax.set_title(\"plot Price\");"
   ]
  },
  {
   "cell_type": "code",
   "execution_count": 19,
   "metadata": {
    "scrolled": true
   },
   "outputs": [
    {
     "name": "stdout",
     "output_type": "stream",
     "text": [
      "Min: 0\n",
      "Mean: 4416.656775846645\n",
      "Median: 2700.0\n",
      "Max: 20000\n"
     ]
    }
   ],
   "source": [
    "print('Min:', data['Price'].min())\n",
    "print('Mean:', data['Price'].mean())\n",
    "print('Median:', data['Price'].median())\n",
    "print('Max:', data['Price'].max())"
   ]
  },
  {
   "cell_type": "markdown",
   "metadata": {},
   "source": [
    "Есть нули в значениях.Сколько их:"
   ]
  },
  {
   "cell_type": "code",
   "execution_count": 20,
   "metadata": {
    "scrolled": true
   },
   "outputs": [
    {
     "data": {
      "text/plain": [
       "10772"
      ]
     },
     "execution_count": 20,
     "metadata": {},
     "output_type": "execute_result"
    }
   ],
   "source": [
    "data.query('Price == 0')['Price'].count()"
   ]
  },
  {
   "cell_type": "markdown",
   "metadata": {},
   "source": [
    "Видно, что есть выбросы после 14000 евро. Но это вполне вероятно просто новые и дорогие машины, это может быть важным для обучения модели. К тому же значения выбросов (14000-20000) не выглядят странными. Поэтому я заменю нули на медиану по цене, а значения больше 14000 трогать не буду."
   ]
  },
  {
   "cell_type": "markdown",
   "metadata": {},
   "source": [
    "**RegistrationYear**"
   ]
  },
  {
   "cell_type": "code",
   "execution_count": 21,
   "metadata": {
    "scrolled": false
   },
   "outputs": [
    {
     "data": {
      "image/png": "[encoded data removed]",
      "text/plain": [
       "<Figure size 2000x500 with 1 Axes>"
      ]
     },
     "metadata": {},
     "output_type": "display_data"
    }
   ],
   "source": [
    "fig, ax = plt.subplots(figsize=(20, 5))\n",
    "sns.boxplot(data=data, x='RegistrationYear')\n",
    "ax.set_xlim(1900, 2022)\n",
    "ax.set_title(\"Boxplot RegistrationYear\");"
   ]
  },
  {
   "cell_type": "markdown",
   "metadata": {},
   "source": [
    "Сколько выбросов до 1985 года:"
   ]
  },
  {
   "cell_type": "code",
   "execution_count": 22,
   "metadata": {
    "scrolled": true
   },
   "outputs": [
    {
     "data": {
      "text/plain": [
       "5448"
      ]
     },
     "execution_count": 22,
     "metadata": {},
     "output_type": "execute_result"
    }
   ],
   "source": [
    "data.query('RegistrationYear < 1985')['RegistrationYear'].count()"
   ]
  },
  {
   "cell_type": "code",
   "execution_count": 23,
   "metadata": {
    "scrolled": false
   },
   "outputs": [
    {
     "name": "stdout",
     "output_type": "stream",
     "text": [
      "Min: 1000\n",
      "Mean: 2004.234447708462\n",
      "Median: 2003.0\n",
      "Max: 9999\n"
     ]
    }
   ],
   "source": [
    "print('Min:', data['RegistrationYear'].min())\n",
    "print('Mean:', data['RegistrationYear'].mean())\n",
    "print('Median:', data['RegistrationYear'].median())\n",
    "print('Max:', data['RegistrationYear'].max())"
   ]
  },
  {
   "cell_type": "markdown",
   "metadata": {},
   "source": [
    "Проверю, сколько значений со значением больше текущего года 2023:"
   ]
  },
  {
   "cell_type": "code",
   "execution_count": 24,
   "metadata": {},
   "outputs": [
    {
     "data": {
      "text/plain": [
       "105"
      ]
     },
     "execution_count": 24,
     "metadata": {},
     "output_type": "execute_result"
    }
   ],
   "source": [
    "data.query('RegistrationYear > 2023')['RegistrationYear'].count()"
   ]
  },
  {
   "cell_type": "markdown",
   "metadata": {},
   "source": [
    "Эти аномалии я удалю (их не много) - год регистрации до 1985 и больше 2023."
   ]
  },
  {
   "cell_type": "markdown",
   "metadata": {},
   "source": [
    "**Power**"
   ]
  },
  {
   "cell_type": "code",
   "execution_count": 25,
   "metadata": {
    "scrolled": false
   },
   "outputs": [
    {
     "data": {
      "image/png": "[encoded data removed]",
      "text/plain": [
       "<Figure size 2000x500 with 1 Axes>"
      ]
     },
     "metadata": {},
     "output_type": "display_data"
    }
   ],
   "source": [
    "fig, ax = plt.subplots(figsize=(20, 5))\n",
    "sns.boxplot(data=data, x='Power')\n",
    "ax.set_xlim(0, 4000)\n",
    "ax.set_title(\"Boxplot Power\");"
   ]
  },
  {
   "cell_type": "code",
   "execution_count": 26,
   "metadata": {
    "scrolled": true
   },
   "outputs": [
    {
     "name": "stdout",
     "output_type": "stream",
     "text": [
      "Min: 0\n",
      "Mean: 110.0943366942368\n",
      "Median: 105.0\n",
      "Max: 20000\n"
     ]
    }
   ],
   "source": [
    "print('Min:', data['Power'].min())\n",
    "print('Mean:', data['Power'].mean())\n",
    "print('Median:', data['Power'].median())\n",
    "print('Max:', data['Power'].max())"
   ]
  },
  {
   "cell_type": "markdown",
   "metadata": {},
   "source": [
    "Сколько значений 0:"
   ]
  },
  {
   "cell_type": "code",
   "execution_count": 27,
   "metadata": {
    "scrolled": true
   },
   "outputs": [
    {
     "data": {
      "text/plain": [
       "40225"
      ]
     },
     "execution_count": 27,
     "metadata": {},
     "output_type": "execute_result"
    }
   ],
   "source": [
    "data.query('Power == 0')['Power'].count()"
   ]
  },
  {
   "cell_type": "markdown",
   "metadata": {},
   "source": [
    "Сколько значений больше 1000:"
   ]
  },
  {
   "cell_type": "code",
   "execution_count": 28,
   "metadata": {
    "scrolled": true
   },
   "outputs": [
    {
     "data": {
      "text/plain": [
       "302"
      ]
     },
     "execution_count": 28,
     "metadata": {},
     "output_type": "execute_result"
    }
   ],
   "source": [
    "data.query('Power > 1000')['Power'].count()"
   ]
  },
  {
   "cell_type": "markdown",
   "metadata": {},
   "source": [
    "Выбросы нули и от 250 л.с. Но я приняла решение убрать только мощность больше 1000 л.с., так как у машин вполне может быть мощность до 1000 л.с. - и неправильным было бы не учить модель принимать во внимание такие признаки. Также нули заменю на медиану по мощности."
   ]
  },
  {
   "cell_type": "markdown",
   "metadata": {},
   "source": [
    "**Kilometer**"
   ]
  },
  {
   "cell_type": "code",
   "execution_count": 29,
   "metadata": {
    "scrolled": true
   },
   "outputs": [
    {
     "data": {
      "image/png": "[encoded data removed]",
      "text/plain": [
       "<Figure size 2000x500 with 1 Axes>"
      ]
     },
     "metadata": {},
     "output_type": "display_data"
    }
   ],
   "source": [
    "fig, ax = plt.subplots(figsize=(20, 5))\n",
    "sns.boxplot(data=data, x='Kilometer')\n",
    "ax.set_xlim(0, 170000)\n",
    "ax.set_title(\"Boxplot Kilometer\");"
   ]
  },
  {
   "cell_type": "code",
   "execution_count": 30,
   "metadata": {},
   "outputs": [
    {
     "name": "stdout",
     "output_type": "stream",
     "text": [
      "Min: 5000\n",
      "Mean: 128211.17253484363\n",
      "Median: 150000.0\n",
      "Max: 150000\n"
     ]
    }
   ],
   "source": [
    "print('Min:', data['Kilometer'].min())\n",
    "print('Mean:', data['Kilometer'].mean())\n",
    "print('Median:', data['Kilometer'].median())\n",
    "print('Max:', data['Kilometer'].max())"
   ]
  },
  {
   "cell_type": "markdown",
   "metadata": {},
   "source": [
    "Выбросы примерно до 80000:"
   ]
  },
  {
   "cell_type": "code",
   "execution_count": 31,
   "metadata": {},
   "outputs": [
    {
     "data": {
      "text/plain": [
       "43210"
      ]
     },
     "execution_count": 31,
     "metadata": {},
     "output_type": "execute_result"
    }
   ],
   "source": [
    "data.query('Kilometer < 80000')['Kilometer'].count()"
   ]
  },
  {
   "cell_type": "markdown",
   "metadata": {},
   "source": [
    "Если я удалю выбросы, я не покажу модели новые машины, что не совсем верно. Поэтому их я убирать тоже не буду."
   ]
  },
  {
   "cell_type": "markdown",
   "metadata": {},
   "source": [
    "**Промежуточный вывод:** \n",
    "\n",
    "1. Я решила удалить колонки: DateCrawled, RegistrationMonth, DateCreated, NumberOfPictures, PostalCode, LastSeen.\n",
    "2. Также я обнаружила пропуски и дубликаты. Почищу их на этапе предобработки.\n",
    "3. Есть аномалии - их тоже удалю на этапе предобработки."
   ]
  },
  {
   "cell_type": "markdown",
   "metadata": {},
   "source": [
    "## Предобработка данных"
   ]
  },
  {
   "cell_type": "markdown",
   "metadata": {},
   "source": [
    "### Удаление колонок"
   ]
  },
  {
   "cell_type": "code",
   "execution_count": 32,
   "metadata": {},
   "outputs": [],
   "source": [
    "data = data.drop(columns=['DateCrawled', 'RegistrationMonth', 'DateCreated', 'NumberOfPictures', 'PostalCode', \\\n",
    "                          'LastSeen'])"
   ]
  },
  {
   "cell_type": "markdown",
   "metadata": {},
   "source": [
    "### Удаление аномалий"
   ]
  },
  {
   "cell_type": "code",
   "execution_count": 33,
   "metadata": {
    "scrolled": true
   },
   "outputs": [
    {
     "name": "stdout",
     "output_type": "stream",
     "text": [
      "Изначальный объем данных: 354369\n"
     ]
    }
   ],
   "source": [
    "print('Изначальный объем данных:', data.shape[0])"
   ]
  },
  {
   "cell_type": "markdown",
   "metadata": {},
   "source": [
    "**Price**"
   ]
  },
  {
   "cell_type": "code",
   "execution_count": 34,
   "metadata": {},
   "outputs": [],
   "source": [
    "# Вычисление медианы с группировкой по колонке \"Brand\"\n",
    "median_price_by_brand = data[data['Price'] > 0].groupby('Brand')['Price'].median().round(0)\n",
    "\n",
    "\n",
    "# Замена значений 0 медианой с группировкой по колонке \"Brand\"\n",
    "data.loc[data['Price'] == 0, 'Price'] = data.loc[data['Price'] == 0, 'Brand'].map(median_price_by_brand)"
   ]
  },
  {
   "cell_type": "code",
   "execution_count": 35,
   "metadata": {},
   "outputs": [
    {
     "data": {
      "text/plain": [
       "0"
      ]
     },
     "execution_count": 35,
     "metadata": {},
     "output_type": "execute_result"
    }
   ],
   "source": [
    "#Проверка\n",
    "data.query('Price == 0')['Power'].count()"
   ]
  },
  {
   "cell_type": "markdown",
   "metadata": {},
   "source": [
    "**RegistrationYear**"
   ]
  },
  {
   "cell_type": "code",
   "execution_count": 36,
   "metadata": {},
   "outputs": [],
   "source": [
    "data = data.query('RegistrationYear >= 1985 and RegistrationYear < 2023').reset_index(drop=True)"
   ]
  },
  {
   "cell_type": "markdown",
   "metadata": {},
   "source": [
    "**Power**"
   ]
  },
  {
   "cell_type": "code",
   "execution_count": 37,
   "metadata": {},
   "outputs": [],
   "source": [
    "# Вычисление медианы с группировкой по колонке \"Brand\"\n",
    "median_power_by_brand = data[data['Power'] > 0].groupby('Brand')['Power'].median().round(0)\n",
    "\n",
    "\n",
    "# Замена значений 0 медианой с группировкой по колонке \"Brand\"\n",
    "data.loc[data['Power'] == 0, 'Power'] = data.loc[data['Power'] == 0, 'Brand'].map(median_power_by_brand)"
   ]
  },
  {
   "cell_type": "code",
   "execution_count": 38,
   "metadata": {},
   "outputs": [
    {
     "data": {
      "text/plain": [
       "0"
      ]
     },
     "execution_count": 38,
     "metadata": {},
     "output_type": "execute_result"
    }
   ],
   "source": [
    "# Проверка\n",
    "data.query('Power == 0')['Power'].count()"
   ]
  },
  {
   "cell_type": "markdown",
   "metadata": {},
   "source": [
    "Оставляю мощность меньше 1000 л.с.:"
   ]
  },
  {
   "cell_type": "code",
   "execution_count": 39,
   "metadata": {},
   "outputs": [],
   "source": [
    "data = data.query('Power < 1000').reset_index(drop=True)"
   ]
  },
  {
   "cell_type": "markdown",
   "metadata": {},
   "source": [
    "Какой объем данных остался:"
   ]
  },
  {
   "cell_type": "code",
   "execution_count": 40,
   "metadata": {},
   "outputs": [
    {
     "name": "stdout",
     "output_type": "stream",
     "text": [
      "Объем данных после удаление аномалий: 98.35 %\n"
     ]
    }
   ],
   "source": [
    "print('Объем данных после удаление аномалий:', round(data.shape[0] / 354369 * 100, 2), '%')"
   ]
  },
  {
   "cell_type": "markdown",
   "metadata": {},
   "source": [
    "### Чистка NaN и дубликатов"
   ]
  },
  {
   "cell_type": "markdown",
   "metadata": {},
   "source": [
    "Как заполнить пропуски:\n",
    "\n",
    "VehicleType - можно заполнить NaN значением other <br>\n",
    "Gearbox - можно заменить NaN на unknown <br>\n",
    "Model - можно заполнить NaN значением other <br>\n",
    "FuelType - можно заполнить NaN значением other<br>\n",
    "Repaired - можно заполнить NaN значением unknown<br>"
   ]
  },
  {
   "cell_type": "code",
   "execution_count": 41,
   "metadata": {},
   "outputs": [],
   "source": [
    "data['VehicleType'].fillna('other', inplace=True)"
   ]
  },
  {
   "cell_type": "code",
   "execution_count": 42,
   "metadata": {},
   "outputs": [],
   "source": [
    "data['Gearbox'].fillna('unknown', inplace=True)"
   ]
  },
  {
   "cell_type": "code",
   "execution_count": 43,
   "metadata": {},
   "outputs": [],
   "source": [
    "data['Model'].fillna('other', inplace=True)"
   ]
  },
  {
   "cell_type": "code",
   "execution_count": 44,
   "metadata": {},
   "outputs": [],
   "source": [
    "data['FuelType'].fillna('other', inplace=True)"
   ]
  },
  {
   "cell_type": "code",
   "execution_count": 45,
   "metadata": {},
   "outputs": [],
   "source": [
    "data['Repaired'].fillna('unknown', inplace=True)"
   ]
  },
  {
   "cell_type": "code",
   "execution_count": 46,
   "metadata": {
    "scrolled": true
   },
   "outputs": [
    {
     "name": "stdout",
     "output_type": "stream",
     "text": [
      "Проверка:\n"
     ]
    },
    {
     "data": {
      "text/plain": [
       "Price               0\n",
       "VehicleType         0\n",
       "RegistrationYear    0\n",
       "Gearbox             0\n",
       "Power               0\n",
       "Model               0\n",
       "Kilometer           0\n",
       "FuelType            0\n",
       "Brand               0\n",
       "Repaired            0\n",
       "dtype: int64"
      ]
     },
     "execution_count": 46,
     "metadata": {},
     "output_type": "execute_result"
    }
   ],
   "source": [
    "print(\"Проверка:\")\n",
    "data.isna().sum()"
   ]
  },
  {
   "cell_type": "code",
   "execution_count": 47,
   "metadata": {},
   "outputs": [
    {
     "data": {
      "text/plain": [
       "45467"
      ]
     },
     "execution_count": 47,
     "metadata": {},
     "output_type": "execute_result"
    }
   ],
   "source": [
    "data.duplicated().sum()"
   ]
  },
  {
   "cell_type": "markdown",
   "metadata": {},
   "source": [
    "Количество дублей заметно увеличилось, но их все равно стоит удалить, так как они только зря будут грузить модель при обучении."
   ]
  },
  {
   "cell_type": "markdown",
   "metadata": {},
   "source": [
    "Удалю дубли:"
   ]
  },
  {
   "cell_type": "code",
   "execution_count": 48,
   "metadata": {},
   "outputs": [],
   "source": [
    "data = data.drop_duplicates().reset_index(drop=True)"
   ]
  },
  {
   "cell_type": "code",
   "execution_count": 49,
   "metadata": {
    "scrolled": true
   },
   "outputs": [
    {
     "name": "stdout",
     "output_type": "stream",
     "text": [
      "Проверка:\n"
     ]
    },
    {
     "data": {
      "text/plain": [
       "0"
      ]
     },
     "execution_count": 49,
     "metadata": {},
     "output_type": "execute_result"
    }
   ],
   "source": [
    "print(\"Проверка:\")\n",
    "data.duplicated().sum()"
   ]
  },
  {
   "cell_type": "code",
   "execution_count": 50,
   "metadata": {
    "scrolled": true
   },
   "outputs": [
    {
     "name": "stdout",
     "output_type": "stream",
     "text": [
      "Объем данных после удаление NaN и дублей: 303055\n"
     ]
    }
   ],
   "source": [
    "print('Объем данных после удаление NaN и дублей:', data.shape[0])"
   ]
  },
  {
   "cell_type": "code",
   "execution_count": 51,
   "metadata": {
    "scrolled": true
   },
   "outputs": [
    {
     "name": "stdout",
     "output_type": "stream",
     "text": [
      "Осталось 86 % от изначального объема данных\n"
     ]
    }
   ],
   "source": [
    "print(\"Осталось\", round(303055 / 354369 * 100), '% от изначального объема данных')"
   ]
  },
  {
   "cell_type": "markdown",
   "metadata": {},
   "source": [
    "**Промежуточный вывод:** \n",
    "\n",
    "1. Лишние колонки удалены.\n",
    "2. Аномалии удалены.\n",
    "3. Пропуски заполнены, дубли удалены."
   ]
  },
  {
   "cell_type": "markdown",
   "metadata": {},
   "source": [
    "Проверка:"
   ]
  },
  {
   "cell_type": "code",
   "execution_count": 52,
   "metadata": {
    "scrolled": false
   },
   "outputs": [
    {
     "name": "stdout",
     "output_type": "stream",
     "text": [
      "<class 'pandas.core.frame.DataFrame'>\n",
      "RangeIndex: 303055 entries, 0 to 303054\n",
      "Data columns (total 10 columns):\n",
      " #   Column            Non-Null Count   Dtype \n",
      "---  ------            --------------   ----- \n",
      " 0   Price             303055 non-null  int64 \n",
      " 1   VehicleType       303055 non-null  object\n",
      " 2   RegistrationYear  303055 non-null  int64 \n",
      " 3   Gearbox           303055 non-null  object\n",
      " 4   Power             303055 non-null  int64 \n",
      " 5   Model             303055 non-null  object\n",
      " 6   Kilometer         303055 non-null  int64 \n",
      " 7   FuelType          303055 non-null  object\n",
      " 8   Brand             303055 non-null  object\n",
      " 9   Repaired          303055 non-null  object\n",
      "dtypes: int64(4), object(6)\n",
      "memory usage: 23.1+ MB\n"
     ]
    }
   ],
   "source": [
    "data.info()"
   ]
  },
  {
   "cell_type": "markdown",
   "metadata": {},
   "source": [
    "## Подготовка выборки для обучения"
   ]
  },
  {
   "cell_type": "markdown",
   "metadata": {},
   "source": [
    "### Прямое кодирование данных и стандартизация, разбивка на выборки"
   ]
  },
  {
   "cell_type": "markdown",
   "metadata": {},
   "source": [
    "**Разделение на фичерс и таргет:**"
   ]
  },
  {
   "cell_type": "code",
   "execution_count": 53,
   "metadata": {},
   "outputs": [],
   "source": [
    "target = data['Price']\n",
    "features = data.drop('Price', axis='columns')"
   ]
  },
  {
   "cell_type": "markdown",
   "metadata": {},
   "source": [
    "**Разобью данные на тренировочную, тестовую и валидационную выборки: 60%, 20% и 20%.**"
   ]
  },
  {
   "cell_type": "code",
   "execution_count": 54,
   "metadata": {},
   "outputs": [
    {
     "name": "stdout",
     "output_type": "stream",
     "text": [
      "(181833, 9) (60611, 9) (60611, 9)\n",
      "(181833,) (60611,) (60611,)\n"
     ]
    }
   ],
   "source": [
    "features_train, features_valid, target_train, target_valid = train_test_split(\n",
    "    features, target, test_size=0.4, random_state=123)\n",
    "\n",
    "features_valid, features_test, target_valid, target_test = train_test_split(\n",
    "    features_valid, target_valid, test_size=0.5, random_state=123)\n",
    "\n",
    "print(features_train.shape, features_valid.shape, features_test.shape) #проверка размера выборок\n",
    "print(target_train.shape, target_valid.shape, target_test.shape)"
   ]
  },
  {
   "cell_type": "markdown",
   "metadata": {},
   "source": [
    "**Стандартизация:**"
   ]
  },
  {
   "cell_type": "code",
   "execution_count": 55,
   "metadata": {},
   "outputs": [],
   "source": [
    "pd.options.mode.chained_assignment = None\n",
    "\n",
    "# Определение числовых столбцов\n",
    "numeric = ['RegistrationYear', 'Power', 'Kilometer']\n",
    "\n",
    "scaler = StandardScaler()\n",
    "scaler.fit(features_train[numeric])\n",
    "\n",
    "features_train[numeric] = scaler.transform(features_train[numeric])\n",
    "features_valid[numeric] = scaler.transform(features_valid[numeric])\n",
    "features_test[numeric] = scaler.transform(features_test[numeric])"
   ]
  },
  {
   "cell_type": "markdown",
   "metadata": {},
   "source": [
    "**Кодировка LabelEncoder для Random Forest Regressor:**"
   ]
  },
  {
   "cell_type": "markdown",
   "metadata": {},
   "source": [
    "Создам отдельные выборки, так как с ними я буду работать немного иначе, чем с данными для бустинга:"
   ]
  },
  {
   "cell_type": "code",
   "execution_count": 56,
   "metadata": {},
   "outputs": [],
   "source": [
    "features_train_rf = features_train.copy()\n",
    "features_valid_rf = features_valid.copy()\n",
    "features_test_rf = features_test.copy()\n",
    "\n",
    "target_train_rf = target_train.copy()\n",
    "target_valid_rf = target_valid.copy()\n",
    "target_test_rf = target_test.copy()"
   ]
  },
  {
   "cell_type": "markdown",
   "metadata": {},
   "source": [
    "Так как метод кодировки выдавал ошибку по одному значению из колонки \"модель\" в валид.выборке, я удалю это значение:"
   ]
  },
  {
   "cell_type": "markdown",
   "metadata": {},
   "source": [
    "Сколько таких значений:"
   ]
  },
  {
   "cell_type": "code",
   "execution_count": 57,
   "metadata": {},
   "outputs": [
    {
     "data": {
      "text/plain": [
       "1"
      ]
     },
     "execution_count": 57,
     "metadata": {},
     "output_type": "execute_result"
    }
   ],
   "source": [
    "features_valid_rf.query('Model == \"range_rover_evoque\"')['Model'].shape[0]"
   ]
  },
  {
   "cell_type": "markdown",
   "metadata": {},
   "source": [
    "Получаю его индекс, чтобы удалить из target_valid_rf:"
   ]
  },
  {
   "cell_type": "code",
   "execution_count": 58,
   "metadata": {},
   "outputs": [
    {
     "data": {
      "text/plain": [
       "30016"
      ]
     },
     "execution_count": 58,
     "metadata": {},
     "output_type": "execute_result"
    }
   ],
   "source": [
    "features_valid_rf[features_valid_rf['Model'] == 'range_rover_evoque'].index[0]"
   ]
  },
  {
   "cell_type": "markdown",
   "metadata": {},
   "source": [
    "Удаление из features и target валидационной выборки:"
   ]
  },
  {
   "cell_type": "code",
   "execution_count": 59,
   "metadata": {},
   "outputs": [],
   "source": [
    "features_valid_rf = features_valid_rf.query('Model != \"range_rover_evoque\"').reset_index(drop=True)"
   ]
  },
  {
   "cell_type": "code",
   "execution_count": 60,
   "metadata": {},
   "outputs": [
    {
     "data": {
      "text/plain": [
       "60610"
      ]
     },
     "execution_count": 60,
     "metadata": {},
     "output_type": "execute_result"
    }
   ],
   "source": [
    "features_valid_rf.shape[0] #проверка"
   ]
  },
  {
   "cell_type": "code",
   "execution_count": 61,
   "metadata": {},
   "outputs": [],
   "source": [
    "target_valid_rf = target_valid_rf.drop(30016)"
   ]
  },
  {
   "cell_type": "code",
   "execution_count": 62,
   "metadata": {},
   "outputs": [
    {
     "data": {
      "text/plain": [
       "60610"
      ]
     },
     "execution_count": 62,
     "metadata": {},
     "output_type": "execute_result"
    }
   ],
   "source": [
    "target_valid_rf.shape[0] #проверка"
   ]
  },
  {
   "cell_type": "markdown",
   "metadata": {},
   "source": [
    "Кодировка для RFR:"
   ]
  },
  {
   "cell_type": "code",
   "execution_count": 63,
   "metadata": {},
   "outputs": [],
   "source": [
    "categorical_columns = ['VehicleType', 'Gearbox', 'FuelType', 'Brand', 'Repaired', 'Model']\n",
    "\n",
    "# Создание LabelEncoder\n",
    "encoder = LabelEncoder()\n",
    "\n",
    "# Обучение\n",
    "for column in categorical_columns:\n",
    "    encoder.fit(features_train_rf[column])\n",
    "    features_train_rf[column] = encoder.transform(features_train_rf[column])\n",
    "    features_valid_rf[column] = encoder.transform(features_valid_rf[column])\n",
    "    features_test_rf[column] = encoder.transform(features_test_rf[column])"
   ]
  },
  {
   "cell_type": "markdown",
   "metadata": {},
   "source": [
    "Проверка:"
   ]
  },
  {
   "cell_type": "code",
   "execution_count": 64,
   "metadata": {
    "scrolled": true
   },
   "outputs": [
    {
     "data": {
      "text/html": [
       "<div>\n",
       "<style scoped>\n",
       "    .dataframe tbody tr th:only-of-type {\n",
       "        vertical-align: middle;\n",
       "    }\n",
       "\n",
       "    .dataframe tbody tr th {\n",
       "        vertical-align: top;\n",
       "    }\n",
       "\n",
       "    .dataframe thead th {\n",
       "        text-align: right;\n",
       "    }\n",
       "</style>\n",
       "<table border=\"1\" class=\"dataframe\">\n",
       "  <thead>\n",
       "    <tr style=\"text-align: right;\">\n",
       "      <th></th>\n",
       "      <th>VehicleType</th>\n",
       "      <th>RegistrationYear</th>\n",
       "      <th>Gearbox</th>\n",
       "      <th>Power</th>\n",
       "      <th>Model</th>\n",
       "      <th>Kilometer</th>\n",
       "      <th>FuelType</th>\n",
       "      <th>Brand</th>\n",
       "      <th>Repaired</th>\n",
       "    </tr>\n",
       "  </thead>\n",
       "  <tbody>\n",
       "    <tr>\n",
       "      <th>242989</th>\n",
       "      <td>4</td>\n",
       "      <td>-1.936486</td>\n",
       "      <td>1</td>\n",
       "      <td>-0.572049</td>\n",
       "      <td>166</td>\n",
       "      <td>0.583242</td>\n",
       "      <td>6</td>\n",
       "      <td>38</td>\n",
       "      <td>2</td>\n",
       "    </tr>\n",
       "    <tr>\n",
       "      <th>52796</th>\n",
       "      <td>7</td>\n",
       "      <td>-0.866015</td>\n",
       "      <td>1</td>\n",
       "      <td>0.433094</td>\n",
       "      <td>166</td>\n",
       "      <td>0.583242</td>\n",
       "      <td>5</td>\n",
       "      <td>2</td>\n",
       "      <td>2</td>\n",
       "    </tr>\n",
       "    <tr>\n",
       "      <th>124606</th>\n",
       "      <td>5</td>\n",
       "      <td>0.663229</td>\n",
       "      <td>1</td>\n",
       "      <td>-0.856524</td>\n",
       "      <td>13</td>\n",
       "      <td>-1.796393</td>\n",
       "      <td>2</td>\n",
       "      <td>9</td>\n",
       "      <td>0</td>\n",
       "    </tr>\n",
       "    <tr>\n",
       "      <th>300620</th>\n",
       "      <td>4</td>\n",
       "      <td>-0.713090</td>\n",
       "      <td>0</td>\n",
       "      <td>1.969257</td>\n",
       "      <td>191</td>\n",
       "      <td>0.583242</td>\n",
       "      <td>6</td>\n",
       "      <td>20</td>\n",
       "      <td>0</td>\n",
       "    </tr>\n",
       "    <tr>\n",
       "      <th>233797</th>\n",
       "      <td>4</td>\n",
       "      <td>0.969078</td>\n",
       "      <td>1</td>\n",
       "      <td>0.433094</td>\n",
       "      <td>238</td>\n",
       "      <td>-1.531989</td>\n",
       "      <td>2</td>\n",
       "      <td>2</td>\n",
       "      <td>0</td>\n",
       "    </tr>\n",
       "  </tbody>\n",
       "</table>\n",
       "</div>"
      ],
      "text/plain": [
       "        VehicleType  RegistrationYear  Gearbox     Power  Model  Kilometer  \\\n",
       "242989            4         -1.936486        1 -0.572049    166   0.583242   \n",
       "52796             7         -0.866015        1  0.433094    166   0.583242   \n",
       "124606            5          0.663229        1 -0.856524     13  -1.796393   \n",
       "300620            4         -0.713090        0  1.969257    191   0.583242   \n",
       "233797            4          0.969078        1  0.433094    238  -1.531989   \n",
       "\n",
       "        FuelType  Brand  Repaired  \n",
       "242989         6     38         2  \n",
       "52796          5      2         2  \n",
       "124606         2      9         0  \n",
       "300620         6     20         0  \n",
       "233797         2      2         0  "
      ]
     },
     "execution_count": 64,
     "metadata": {},
     "output_type": "execute_result"
    }
   ],
   "source": [
    "features_train_rf.head()"
   ]
  },
  {
   "cell_type": "code",
   "execution_count": 65,
   "metadata": {},
   "outputs": [
    {
     "data": {
      "text/html": [
       "<div>\n",
       "<style scoped>\n",
       "    .dataframe tbody tr th:only-of-type {\n",
       "        vertical-align: middle;\n",
       "    }\n",
       "\n",
       "    .dataframe tbody tr th {\n",
       "        vertical-align: top;\n",
       "    }\n",
       "\n",
       "    .dataframe thead th {\n",
       "        text-align: right;\n",
       "    }\n",
       "</style>\n",
       "<table border=\"1\" class=\"dataframe\">\n",
       "  <thead>\n",
       "    <tr style=\"text-align: right;\">\n",
       "      <th></th>\n",
       "      <th>VehicleType</th>\n",
       "      <th>RegistrationYear</th>\n",
       "      <th>Gearbox</th>\n",
       "      <th>Power</th>\n",
       "      <th>Model</th>\n",
       "      <th>Kilometer</th>\n",
       "      <th>FuelType</th>\n",
       "      <th>Brand</th>\n",
       "      <th>Repaired</th>\n",
       "    </tr>\n",
       "  </thead>\n",
       "  <tbody>\n",
       "    <tr>\n",
       "      <th>0</th>\n",
       "      <td>2</td>\n",
       "      <td>-0.866015</td>\n",
       "      <td>1</td>\n",
       "      <td>0.300339</td>\n",
       "      <td>63</td>\n",
       "      <td>0.583242</td>\n",
       "      <td>6</td>\n",
       "      <td>24</td>\n",
       "      <td>2</td>\n",
       "    </tr>\n",
       "    <tr>\n",
       "      <th>1</th>\n",
       "      <td>0</td>\n",
       "      <td>0.204456</td>\n",
       "      <td>0</td>\n",
       "      <td>-0.135855</td>\n",
       "      <td>197</td>\n",
       "      <td>0.583242</td>\n",
       "      <td>6</td>\n",
       "      <td>27</td>\n",
       "      <td>0</td>\n",
       "    </tr>\n",
       "    <tr>\n",
       "      <th>2</th>\n",
       "      <td>7</td>\n",
       "      <td>0.663229</td>\n",
       "      <td>1</td>\n",
       "      <td>-0.003100</td>\n",
       "      <td>8</td>\n",
       "      <td>-0.077768</td>\n",
       "      <td>6</td>\n",
       "      <td>25</td>\n",
       "      <td>1</td>\n",
       "    </tr>\n",
       "    <tr>\n",
       "      <th>3</th>\n",
       "      <td>5</td>\n",
       "      <td>0.204456</td>\n",
       "      <td>1</td>\n",
       "      <td>-0.078960</td>\n",
       "      <td>82</td>\n",
       "      <td>0.583242</td>\n",
       "      <td>2</td>\n",
       "      <td>36</td>\n",
       "      <td>0</td>\n",
       "    </tr>\n",
       "    <tr>\n",
       "      <th>4</th>\n",
       "      <td>7</td>\n",
       "      <td>-0.407242</td>\n",
       "      <td>1</td>\n",
       "      <td>-0.363435</td>\n",
       "      <td>42</td>\n",
       "      <td>0.583242</td>\n",
       "      <td>6</td>\n",
       "      <td>24</td>\n",
       "      <td>1</td>\n",
       "    </tr>\n",
       "  </tbody>\n",
       "</table>\n",
       "</div>"
      ],
      "text/plain": [
       "   VehicleType  RegistrationYear  Gearbox     Power  Model  Kilometer  \\\n",
       "0            2         -0.866015        1  0.300339     63   0.583242   \n",
       "1            0          0.204456        0 -0.135855    197   0.583242   \n",
       "2            7          0.663229        1 -0.003100      8  -0.077768   \n",
       "3            5          0.204456        1 -0.078960     82   0.583242   \n",
       "4            7         -0.407242        1 -0.363435     42   0.583242   \n",
       "\n",
       "   FuelType  Brand  Repaired  \n",
       "0         6     24         2  \n",
       "1         6     27         0  \n",
       "2         6     25         1  \n",
       "3         2     36         0  \n",
       "4         6     24         1  "
      ]
     },
     "execution_count": 65,
     "metadata": {},
     "output_type": "execute_result"
    }
   ],
   "source": [
    "features_valid_rf.head()"
   ]
  },
  {
   "cell_type": "code",
   "execution_count": 66,
   "metadata": {},
   "outputs": [
    {
     "data": {
      "text/html": [
       "<div>\n",
       "<style scoped>\n",
       "    .dataframe tbody tr th:only-of-type {\n",
       "        vertical-align: middle;\n",
       "    }\n",
       "\n",
       "    .dataframe tbody tr th {\n",
       "        vertical-align: top;\n",
       "    }\n",
       "\n",
       "    .dataframe thead th {\n",
       "        text-align: right;\n",
       "    }\n",
       "</style>\n",
       "<table border=\"1\" class=\"dataframe\">\n",
       "  <thead>\n",
       "    <tr style=\"text-align: right;\">\n",
       "      <th></th>\n",
       "      <th>VehicleType</th>\n",
       "      <th>RegistrationYear</th>\n",
       "      <th>Gearbox</th>\n",
       "      <th>Power</th>\n",
       "      <th>Model</th>\n",
       "      <th>Kilometer</th>\n",
       "      <th>FuelType</th>\n",
       "      <th>Brand</th>\n",
       "      <th>Repaired</th>\n",
       "    </tr>\n",
       "  </thead>\n",
       "  <tbody>\n",
       "    <tr>\n",
       "      <th>264528</th>\n",
       "      <td>3</td>\n",
       "      <td>-0.560166</td>\n",
       "      <td>2</td>\n",
       "      <td>-0.135855</td>\n",
       "      <td>166</td>\n",
       "      <td>0.583242</td>\n",
       "      <td>5</td>\n",
       "      <td>22</td>\n",
       "      <td>1</td>\n",
       "    </tr>\n",
       "    <tr>\n",
       "      <th>193177</th>\n",
       "      <td>5</td>\n",
       "      <td>-0.560166</td>\n",
       "      <td>1</td>\n",
       "      <td>-0.363435</td>\n",
       "      <td>166</td>\n",
       "      <td>0.583242</td>\n",
       "      <td>5</td>\n",
       "      <td>38</td>\n",
       "      <td>2</td>\n",
       "    </tr>\n",
       "    <tr>\n",
       "      <th>197935</th>\n",
       "      <td>3</td>\n",
       "      <td>-1.324788</td>\n",
       "      <td>2</td>\n",
       "      <td>-0.856524</td>\n",
       "      <td>166</td>\n",
       "      <td>0.583242</td>\n",
       "      <td>5</td>\n",
       "      <td>38</td>\n",
       "      <td>1</td>\n",
       "    </tr>\n",
       "    <tr>\n",
       "      <th>67838</th>\n",
       "      <td>5</td>\n",
       "      <td>-0.713090</td>\n",
       "      <td>1</td>\n",
       "      <td>-0.970314</td>\n",
       "      <td>199</td>\n",
       "      <td>-1.003181</td>\n",
       "      <td>6</td>\n",
       "      <td>9</td>\n",
       "      <td>0</td>\n",
       "    </tr>\n",
       "    <tr>\n",
       "      <th>281965</th>\n",
       "      <td>5</td>\n",
       "      <td>-0.254317</td>\n",
       "      <td>1</td>\n",
       "      <td>-1.330648</td>\n",
       "      <td>102</td>\n",
       "      <td>-0.077768</td>\n",
       "      <td>6</td>\n",
       "      <td>10</td>\n",
       "      <td>0</td>\n",
       "    </tr>\n",
       "  </tbody>\n",
       "</table>\n",
       "</div>"
      ],
      "text/plain": [
       "        VehicleType  RegistrationYear  Gearbox     Power  Model  Kilometer  \\\n",
       "264528            3         -0.560166        2 -0.135855    166   0.583242   \n",
       "193177            5         -0.560166        1 -0.363435    166   0.583242   \n",
       "197935            3         -1.324788        2 -0.856524    166   0.583242   \n",
       "67838             5         -0.713090        1 -0.970314    199  -1.003181   \n",
       "281965            5         -0.254317        1 -1.330648    102  -0.077768   \n",
       "\n",
       "        FuelType  Brand  Repaired  \n",
       "264528         5     22         1  \n",
       "193177         5     38         2  \n",
       "197935         5     38         1  \n",
       "67838          6      9         0  \n",
       "281965         6     10         0  "
      ]
     },
     "execution_count": 66,
     "metadata": {},
     "output_type": "execute_result"
    }
   ],
   "source": [
    "features_test_rf.head()"
   ]
  },
  {
   "cell_type": "markdown",
   "metadata": {},
   "source": [
    "## Обучение моделей и подбор гиперпараметров"
   ]
  },
  {
   "cell_type": "markdown",
   "metadata": {},
   "source": [
    "Создам скорер для передачи поиску:"
   ]
  },
  {
   "cell_type": "code",
   "execution_count": 67,
   "metadata": {},
   "outputs": [],
   "source": [
    "# Создание скорера для передачи грид серчу\n",
    "scorer = make_scorer(mean_squared_error, greater_is_better=False)"
   ]
  },
  {
   "cell_type": "markdown",
   "metadata": {},
   "source": [
    "### LGBMRegressor"
   ]
  },
  {
   "cell_type": "markdown",
   "metadata": {},
   "source": [
    "Использую встроенный кодировщик категориальных данных."
   ]
  },
  {
   "cell_type": "code",
   "execution_count": 68,
   "metadata": {},
   "outputs": [
    {
     "name": "stdout",
     "output_type": "stream",
     "text": [
      "Fitting 3 folds for each of 10 candidates, totalling 30 fits\n",
      "LGBMRegressor:\n",
      "Лучшие параметры: {'n_estimators': 500, 'learning_rate': 0.1}\n",
      "Лучшая RMSE: 1665.5815336824069\n",
      "Wall time: 23.9 s\n"
     ]
    }
   ],
   "source": [
    "%%time\n",
    "\n",
    "#меняю тип данных для категорий, чтобы модель использовала внутреннюю кодировку. categorical_columns уже есть в коде\n",
    "for feature in categorical_columns:\n",
    "    features_train[feature] = pd.Series(features_train[feature], dtype=\"category\")\n",
    "\n",
    "lgbm_model = LGBMRegressor(seed=123)\n",
    "\n",
    "lgbm_param_grid = {\n",
    "    'n_estimators': range(100, 501, 100),\n",
    "    'learning_rate': [0.01, 0.1, 1]\n",
    "}\n",
    "\n",
    "lgbm_grid_search = RandomizedSearchCV(estimator=lgbm_model, param_distributions=lgbm_param_grid, \\\n",
    "                                    scoring=scorer, cv=3, verbose=3, n_jobs=-1, random_state=123)\n",
    "\n",
    "lgbm_grid_search.fit(features_train, target_train)\n",
    "\n",
    "print(\"LGBMRegressor:\")\n",
    "print(\"Лучшие параметры:\", lgbm_grid_search.best_params_)\n",
    "print(\"Лучшая RMSE:\", np.sqrt(-lgbm_grid_search.best_score_))"
   ]
  },
  {
   "cell_type": "markdown",
   "metadata": {},
   "source": [
    "### RandomForestRegressor"
   ]
  },
  {
   "cell_type": "code",
   "execution_count": 69,
   "metadata": {},
   "outputs": [
    {
     "name": "stdout",
     "output_type": "stream",
     "text": [
      "Fitting 3 folds for each of 10 candidates, totalling 30 fits\n",
      "RandomForestRegressor:\n",
      "Лучшие параметры: {'n_estimators': 500, 'max_depth': 8}\n",
      "Лучшая RMSE: 2092.055933189687\n",
      "Wall time: 5min 31s\n"
     ]
    }
   ],
   "source": [
    "%%time\n",
    "\n",
    "rf_model = RandomForestRegressor(random_state=123)\n",
    "\n",
    "rf_param_grid = {\n",
    "'n_estimators': range(100, 501, 100),\n",
    "'max_depth': range(3, 9)\n",
    "}\n",
    "\n",
    "rf_grid_search = RandomizedSearchCV(estimator=rf_model, param_distributions=rf_param_grid, \\\n",
    "                                    scoring=scorer, cv=3, verbose=1, n_jobs=-1, random_state=123)\n",
    "\n",
    "rf_grid_search.fit(features_train_rf, target_train_rf)\n",
    "\n",
    "print(\"RandomForestRegressor:\")\n",
    "print(\"Лучшие параметры:\", rf_grid_search.best_params_)\n",
    "print(\"Лучшая RMSE:\", np.sqrt(-rf_grid_search.best_score_))"
   ]
  },
  {
   "cell_type": "markdown",
   "metadata": {},
   "source": [
    "### CatBoostRegressor"
   ]
  },
  {
   "cell_type": "markdown",
   "metadata": {},
   "source": [
    "Использую встроенный кодировщик категориальных данных."
   ]
  },
  {
   "cell_type": "code",
   "execution_count": 70,
   "metadata": {
    "scrolled": true
   },
   "outputs": [
    {
     "name": "stdout",
     "output_type": "stream",
     "text": [
      "Fitting 3 folds for each of 10 candidates, totalling 30 fits\n",
      "0:\tlearn: 4208.8560090\ttotal: 340ms\tremaining: 2m 15s\n",
      "1:\tlearn: 3954.5606046\ttotal: 445ms\tremaining: 1m 28s\n",
      "2:\tlearn: 3728.3188287\ttotal: 533ms\tremaining: 1m 10s\n",
      "3:\tlearn: 3524.2095953\ttotal: 638ms\tremaining: 1m 3s\n",
      "4:\tlearn: 3349.9200530\ttotal: 734ms\tremaining: 58s\n",
      "5:\tlearn: 3192.5254578\ttotal: 818ms\tremaining: 53.7s\n",
      "6:\tlearn: 3048.1204672\ttotal: 915ms\tremaining: 51.4s\n",
      "7:\tlearn: 2928.4307799\ttotal: 1s\tremaining: 49s\n",
      "8:\tlearn: 2814.6133996\ttotal: 1.1s\tremaining: 47.7s\n",
      "9:\tlearn: 2724.6003943\ttotal: 1.21s\tremaining: 47s\n",
      "10:\tlearn: 2643.4348891\ttotal: 1.32s\tremaining: 46.6s\n",
      "11:\tlearn: 2573.0110382\ttotal: 1.41s\tremaining: 45.5s\n",
      "12:\tlearn: 2503.4537040\ttotal: 1.51s\tremaining: 45s\n",
      "13:\tlearn: 2443.1712541\ttotal: 1.61s\tremaining: 44.5s\n",
      "14:\tlearn: 2388.9694547\ttotal: 1.72s\tremaining: 44.1s\n",
      "15:\tlearn: 2340.7122987\ttotal: 1.82s\tremaining: 43.6s\n",
      "16:\tlearn: 2301.9211889\ttotal: 1.91s\tremaining: 43s\n",
      "17:\tlearn: 2263.9270595\ttotal: 1.98s\tremaining: 42s\n",
      "18:\tlearn: 2225.9668590\ttotal: 2.07s\tremaining: 41.5s\n",
      "19:\tlearn: 2194.5728299\ttotal: 2.18s\tremaining: 41.5s\n",
      "20:\tlearn: 2164.5912386\ttotal: 2.27s\tremaining: 41.1s\n",
      "21:\tlearn: 2140.7438256\ttotal: 2.38s\tremaining: 40.8s\n",
      "22:\tlearn: 2117.1613289\ttotal: 2.47s\tremaining: 40.5s\n",
      "23:\tlearn: 2099.1500826\ttotal: 2.58s\tremaining: 40.4s\n",
      "24:\tlearn: 2080.9835494\ttotal: 2.7s\tremaining: 40.4s\n",
      "25:\tlearn: 2066.0804093\ttotal: 2.84s\tremaining: 40.9s\n",
      "26:\tlearn: 2052.5511677\ttotal: 2.99s\tremaining: 41.3s\n",
      "27:\tlearn: 2039.7390733\ttotal: 3.15s\tremaining: 41.9s\n",
      "28:\tlearn: 2028.3339069\ttotal: 3.23s\tremaining: 41.3s\n",
      "29:\tlearn: 2017.9759486\ttotal: 3.33s\tremaining: 41s\n",
      "30:\tlearn: 2007.9188366\ttotal: 3.43s\tremaining: 40.9s\n",
      "31:\tlearn: 1998.3414256\ttotal: 3.54s\tremaining: 40.7s\n",
      "32:\tlearn: 1990.4742362\ttotal: 3.65s\tremaining: 40.6s\n",
      "33:\tlearn: 1984.9491401\ttotal: 3.75s\tremaining: 40.3s\n",
      "34:\tlearn: 1977.9731166\ttotal: 3.87s\tremaining: 40.3s\n",
      "35:\tlearn: 1971.6485681\ttotal: 3.97s\tremaining: 40.1s\n",
      "36:\tlearn: 1964.6873240\ttotal: 4.1s\tremaining: 40.2s\n",
      "37:\tlearn: 1958.8294389\ttotal: 4.22s\tremaining: 40.2s\n",
      "38:\tlearn: 1952.8555066\ttotal: 4.31s\tremaining: 39.9s\n",
      "39:\tlearn: 1948.7345347\ttotal: 4.42s\tremaining: 39.8s\n",
      "40:\tlearn: 1943.9633793\ttotal: 4.54s\tremaining: 39.7s\n",
      "41:\tlearn: 1940.1643867\ttotal: 4.64s\tremaining: 39.6s\n",
      "42:\tlearn: 1935.7795047\ttotal: 4.77s\tremaining: 39.6s\n",
      "43:\tlearn: 1931.6562962\ttotal: 4.86s\tremaining: 39.3s\n",
      "44:\tlearn: 1928.0653236\ttotal: 4.95s\tremaining: 39.1s\n",
      "45:\tlearn: 1923.5237883\ttotal: 5.07s\tremaining: 39s\n",
      "46:\tlearn: 1919.3705954\ttotal: 5.18s\tremaining: 38.9s\n",
      "47:\tlearn: 1916.3257761\ttotal: 5.28s\tremaining: 38.7s\n",
      "48:\tlearn: 1913.0658139\ttotal: 5.38s\tremaining: 38.6s\n",
      "49:\tlearn: 1910.4841667\ttotal: 5.48s\tremaining: 38.4s\n",
      "50:\tlearn: 1907.4823709\ttotal: 5.55s\tremaining: 38s\n",
      "51:\tlearn: 1904.8390831\ttotal: 5.66s\tremaining: 37.9s\n",
      "52:\tlearn: 1902.1040211\ttotal: 5.79s\tremaining: 37.9s\n",
      "53:\tlearn: 1897.5309761\ttotal: 5.88s\tremaining: 37.6s\n",
      "54:\tlearn: 1893.6954896\ttotal: 5.95s\tremaining: 37.3s\n",
      "55:\tlearn: 1889.8252045\ttotal: 6.06s\tremaining: 37.2s\n",
      "56:\tlearn: 1886.0943513\ttotal: 6.16s\tremaining: 37.1s\n",
      "57:\tlearn: 1882.7914730\ttotal: 6.25s\tremaining: 36.9s\n",
      "58:\tlearn: 1881.0132154\ttotal: 6.34s\tremaining: 36.7s\n",
      "59:\tlearn: 1878.4060889\ttotal: 6.45s\tremaining: 36.5s\n",
      "60:\tlearn: 1876.5419073\ttotal: 6.55s\tremaining: 36.4s\n",
      "61:\tlearn: 1872.2963635\ttotal: 6.63s\tremaining: 36.1s\n",
      "62:\tlearn: 1870.4232977\ttotal: 6.72s\tremaining: 36s\n",
      "63:\tlearn: 1867.2684959\ttotal: 6.82s\tremaining: 35.8s\n",
      "64:\tlearn: 1864.3398900\ttotal: 6.88s\tremaining: 35.5s\n",
      "65:\tlearn: 1862.0687298\ttotal: 6.95s\tremaining: 35.2s\n",
      "66:\tlearn: 1860.2021342\ttotal: 7.06s\tremaining: 35.1s\n",
      "67:\tlearn: 1857.5738475\ttotal: 7.17s\tremaining: 35s\n",
      "68:\tlearn: 1856.3216110\ttotal: 7.28s\tremaining: 34.9s\n",
      "69:\tlearn: 1853.8471879\ttotal: 7.37s\tremaining: 34.8s\n",
      "70:\tlearn: 1852.1652602\ttotal: 7.49s\tremaining: 34.7s\n",
      "71:\tlearn: 1850.2809341\ttotal: 7.61s\tremaining: 34.7s\n",
      "72:\tlearn: 1848.3536726\ttotal: 7.72s\tremaining: 34.6s\n",
      "73:\tlearn: 1846.4212905\ttotal: 7.8s\tremaining: 34.4s\n",
      "74:\tlearn: 1844.2504332\ttotal: 7.91s\tremaining: 34.3s\n",
      "75:\tlearn: 1843.1344270\ttotal: 7.99s\tremaining: 34.1s\n",
      "76:\tlearn: 1841.4294045\ttotal: 8.07s\tremaining: 33.8s\n",
      "77:\tlearn: 1839.6361651\ttotal: 8.18s\tremaining: 33.8s\n",
      "78:\tlearn: 1838.6893848\ttotal: 8.27s\tremaining: 33.6s\n",
      "79:\tlearn: 1837.2651121\ttotal: 8.34s\tremaining: 33.3s\n",
      "80:\tlearn: 1836.4601236\ttotal: 8.43s\tremaining: 33.2s\n",
      "81:\tlearn: 1834.8459595\ttotal: 8.53s\tremaining: 33.1s\n",
      "82:\tlearn: 1833.7142694\ttotal: 8.62s\tremaining: 32.9s\n",
      "83:\tlearn: 1832.0073550\ttotal: 8.7s\tremaining: 32.7s\n",
      "84:\tlearn: 1831.1226691\ttotal: 8.81s\tremaining: 32.6s\n",
      "85:\tlearn: 1829.7713564\ttotal: 8.91s\tremaining: 32.5s\n",
      "86:\tlearn: 1828.0774796\ttotal: 9.04s\tremaining: 32.5s\n",
      "87:\tlearn: 1826.3748853\ttotal: 9.17s\tremaining: 32.5s\n",
      "88:\tlearn: 1824.9489399\ttotal: 9.28s\tremaining: 32.4s\n",
      "89:\tlearn: 1823.2574947\ttotal: 9.38s\tremaining: 32.3s\n",
      "90:\tlearn: 1821.8445406\ttotal: 9.47s\tremaining: 32.2s\n",
      "91:\tlearn: 1820.5536775\ttotal: 9.6s\tremaining: 32.1s\n",
      "92:\tlearn: 1819.4724156\ttotal: 9.71s\tremaining: 32.1s\n",
      "93:\tlearn: 1818.1254257\ttotal: 9.85s\tremaining: 32.1s\n",
      "94:\tlearn: 1816.8195112\ttotal: 9.94s\tremaining: 31.9s\n",
      "95:\tlearn: 1814.7014880\ttotal: 10s\tremaining: 31.8s\n",
      "96:\tlearn: 1813.4163414\ttotal: 10.2s\tremaining: 31.7s\n",
      "97:\tlearn: 1812.1352718\ttotal: 10.3s\tremaining: 31.6s\n",
      "98:\tlearn: 1810.6881466\ttotal: 10.4s\tremaining: 31.5s\n",
      "99:\tlearn: 1809.2569204\ttotal: 10.4s\tremaining: 31.3s\n",
      "100:\tlearn: 1807.8557808\ttotal: 10.5s\tremaining: 31.2s\n",
      "101:\tlearn: 1806.3334868\ttotal: 10.6s\tremaining: 31s\n",
      "102:\tlearn: 1805.5819140\ttotal: 10.7s\tremaining: 30.8s\n",
      "103:\tlearn: 1804.7483369\ttotal: 10.8s\tremaining: 30.6s\n",
      "104:\tlearn: 1803.7024102\ttotal: 10.9s\tremaining: 30.6s\n",
      "105:\tlearn: 1802.9858731\ttotal: 11s\tremaining: 30.5s\n",
      "106:\tlearn: 1802.3200272\ttotal: 11.1s\tremaining: 30.4s\n",
      "107:\tlearn: 1800.8726713\ttotal: 11.2s\tremaining: 30.3s\n",
      "108:\tlearn: 1799.8384446\ttotal: 11.3s\tremaining: 30.1s\n",
      "109:\tlearn: 1797.8509308\ttotal: 11.4s\tremaining: 30s\n",
      "110:\tlearn: 1796.5636545\ttotal: 11.5s\tremaining: 29.9s\n",
      "111:\tlearn: 1795.3297611\ttotal: 11.6s\tremaining: 29.8s\n",
      "112:\tlearn: 1794.6024630\ttotal: 11.7s\tremaining: 29.6s\n",
      "113:\tlearn: 1793.9634036\ttotal: 11.8s\tremaining: 29.6s\n",
      "114:\tlearn: 1793.3079827\ttotal: 11.9s\tremaining: 29.5s\n",
      "115:\tlearn: 1792.2349711\ttotal: 12s\tremaining: 29.4s\n",
      "116:\tlearn: 1791.7047937\ttotal: 12.1s\tremaining: 29.2s\n",
      "117:\tlearn: 1791.0344378\ttotal: 12.2s\tremaining: 29.1s\n",
      "118:\tlearn: 1790.1589163\ttotal: 12.3s\tremaining: 29s\n",
      "119:\tlearn: 1789.2281949\ttotal: 12.4s\tremaining: 28.9s\n",
      "120:\tlearn: 1788.4049638\ttotal: 12.5s\tremaining: 28.8s\n",
      "121:\tlearn: 1787.2911458\ttotal: 12.6s\tremaining: 28.8s\n",
      "122:\tlearn: 1786.5677735\ttotal: 12.7s\tremaining: 28.6s\n",
      "123:\tlearn: 1785.8946592\ttotal: 12.8s\tremaining: 28.5s\n",
      "124:\tlearn: 1785.0484144\ttotal: 12.9s\tremaining: 28.3s\n",
      "125:\tlearn: 1784.4867009\ttotal: 13s\tremaining: 28.3s\n",
      "126:\tlearn: 1783.4633550\ttotal: 13.1s\tremaining: 28.2s\n",
      "127:\tlearn: 1782.6815307\ttotal: 13.2s\tremaining: 28.1s\n",
      "128:\tlearn: 1782.0587687\ttotal: 13.3s\tremaining: 28s\n",
      "129:\tlearn: 1781.0753930\ttotal: 13.4s\tremaining: 27.8s\n",
      "130:\tlearn: 1779.9446693\ttotal: 13.5s\tremaining: 27.7s\n",
      "131:\tlearn: 1779.4613789\ttotal: 13.7s\tremaining: 27.7s\n",
      "132:\tlearn: 1778.5311187\ttotal: 13.8s\tremaining: 27.7s\n",
      "133:\tlearn: 1777.4482955\ttotal: 13.9s\tremaining: 27.6s\n",
      "134:\tlearn: 1776.6925009\ttotal: 14s\tremaining: 27.6s\n",
      "135:\tlearn: 1776.2362537\ttotal: 14.1s\tremaining: 27.4s\n",
      "136:\tlearn: 1775.2216870\ttotal: 14.3s\tremaining: 27.4s\n",
      "137:\tlearn: 1774.2649754\ttotal: 14.3s\tremaining: 27.2s\n",
      "138:\tlearn: 1773.8606039\ttotal: 14.4s\tremaining: 27.1s\n",
      "139:\tlearn: 1772.9635892\ttotal: 14.5s\tremaining: 27s\n",
      "140:\tlearn: 1772.0778155\ttotal: 14.7s\tremaining: 26.9s\n",
      "141:\tlearn: 1771.0808496\ttotal: 14.8s\tremaining: 26.9s\n",
      "142:\tlearn: 1770.4842729\ttotal: 14.9s\tremaining: 26.8s\n",
      "143:\tlearn: 1769.7737362\ttotal: 15s\tremaining: 26.7s\n",
      "144:\tlearn: 1769.2780958\ttotal: 15.1s\tremaining: 26.6s\n",
      "145:\tlearn: 1768.7241291\ttotal: 15.2s\tremaining: 26.5s\n",
      "146:\tlearn: 1768.0223245\ttotal: 15.3s\tremaining: 26.4s\n",
      "147:\tlearn: 1767.3229039\ttotal: 15.4s\tremaining: 26.3s\n",
      "148:\tlearn: 1766.7239460\ttotal: 15.5s\tremaining: 26.2s\n",
      "149:\tlearn: 1766.1108477\ttotal: 15.6s\tremaining: 26.1s\n",
      "150:\tlearn: 1765.4012898\ttotal: 15.7s\tremaining: 26s\n",
      "151:\tlearn: 1764.5772703\ttotal: 15.9s\tremaining: 25.9s\n",
      "152:\tlearn: 1764.0524272\ttotal: 16s\tremaining: 25.8s\n",
      "153:\tlearn: 1763.2859178\ttotal: 16.1s\tremaining: 25.7s\n",
      "154:\tlearn: 1762.6252733\ttotal: 16.2s\tremaining: 25.6s\n",
      "155:\tlearn: 1762.0648394\ttotal: 16.3s\tremaining: 25.5s\n",
      "156:\tlearn: 1761.5108954\ttotal: 16.4s\tremaining: 25.4s\n",
      "157:\tlearn: 1761.2770468\ttotal: 16.5s\tremaining: 25.3s\n",
      "158:\tlearn: 1760.8775256\ttotal: 16.6s\tremaining: 25.2s\n",
      "159:\tlearn: 1760.4542765\ttotal: 16.7s\tremaining: 25.1s\n",
      "160:\tlearn: 1760.0428281\ttotal: 16.8s\tremaining: 25s\n",
      "161:\tlearn: 1759.5629356\ttotal: 16.9s\tremaining: 24.9s\n",
      "162:\tlearn: 1759.1644624\ttotal: 17s\tremaining: 24.7s\n",
      "163:\tlearn: 1758.4986273\ttotal: 17.2s\tremaining: 24.7s\n",
      "164:\tlearn: 1757.7764078\ttotal: 17.3s\tremaining: 24.6s\n",
      "165:\tlearn: 1757.5096258\ttotal: 17.4s\tremaining: 24.5s\n",
      "166:\tlearn: 1756.6166869\ttotal: 17.5s\tremaining: 24.4s\n",
      "167:\tlearn: 1755.7791205\ttotal: 17.6s\tremaining: 24.3s\n",
      "168:\tlearn: 1755.1118728\ttotal: 17.7s\tremaining: 24.2s\n",
      "169:\tlearn: 1754.5708361\ttotal: 17.8s\tremaining: 24.1s\n",
      "170:\tlearn: 1753.9227990\ttotal: 18s\tremaining: 24.1s\n",
      "171:\tlearn: 1753.5962106\ttotal: 18.1s\tremaining: 24s\n",
      "172:\tlearn: 1752.9690696\ttotal: 18.2s\tremaining: 23.9s\n",
      "173:\tlearn: 1752.2622192\ttotal: 18.3s\tremaining: 23.8s\n",
      "174:\tlearn: 1751.7759412\ttotal: 18.5s\tremaining: 23.7s\n",
      "175:\tlearn: 1751.3257830\ttotal: 18.6s\tremaining: 23.6s\n",
      "176:\tlearn: 1750.9062042\ttotal: 18.7s\tremaining: 23.6s\n",
      "177:\tlearn: 1750.3794271\ttotal: 18.8s\tremaining: 23.4s\n",
      "178:\tlearn: 1749.8960118\ttotal: 18.9s\tremaining: 23.3s\n",
      "179:\tlearn: 1749.5106305\ttotal: 19s\tremaining: 23.2s\n",
      "180:\tlearn: 1749.1583346\ttotal: 19.1s\tremaining: 23.1s\n",
      "181:\tlearn: 1748.6386656\ttotal: 19.2s\tremaining: 23s\n",
      "182:\tlearn: 1748.1930979\ttotal: 19.3s\tremaining: 22.9s\n",
      "183:\tlearn: 1747.4928292\ttotal: 19.4s\tremaining: 22.8s\n",
      "184:\tlearn: 1746.7075449\ttotal: 19.5s\tremaining: 22.7s\n",
      "185:\tlearn: 1746.2152790\ttotal: 19.6s\tremaining: 22.5s\n",
      "186:\tlearn: 1745.7358836\ttotal: 19.6s\tremaining: 22.4s\n",
      "187:\tlearn: 1745.3504766\ttotal: 19.7s\tremaining: 22.2s\n",
      "188:\tlearn: 1744.7252088\ttotal: 19.8s\tremaining: 22.1s\n",
      "189:\tlearn: 1744.3199172\ttotal: 19.9s\tremaining: 22s\n",
      "190:\tlearn: 1743.7237744\ttotal: 20.1s\tremaining: 21.9s\n",
      "191:\tlearn: 1743.2795144\ttotal: 20.1s\tremaining: 21.8s\n",
      "192:\tlearn: 1742.7062375\ttotal: 20.2s\tremaining: 21.7s\n",
      "193:\tlearn: 1742.3380846\ttotal: 20.3s\tremaining: 21.6s\n",
      "194:\tlearn: 1742.0181172\ttotal: 20.4s\tremaining: 21.5s\n",
      "195:\tlearn: 1741.5919225\ttotal: 20.5s\tremaining: 21.4s\n",
      "196:\tlearn: 1741.1987431\ttotal: 20.6s\tremaining: 21.2s\n",
      "197:\tlearn: 1740.7430290\ttotal: 20.7s\tremaining: 21.1s\n",
      "198:\tlearn: 1740.4437153\ttotal: 20.8s\tremaining: 21s\n",
      "199:\tlearn: 1739.9751622\ttotal: 20.9s\tremaining: 20.9s\n",
      "200:\tlearn: 1739.2945786\ttotal: 21s\tremaining: 20.8s\n",
      "201:\tlearn: 1738.8852312\ttotal: 21.1s\tremaining: 20.6s\n",
      "202:\tlearn: 1738.4358325\ttotal: 21.1s\tremaining: 20.5s\n",
      "203:\tlearn: 1738.1003275\ttotal: 21.2s\tremaining: 20.4s\n",
      "204:\tlearn: 1737.6748166\ttotal: 21.3s\tremaining: 20.3s\n",
      "205:\tlearn: 1737.4454526\ttotal: 21.4s\tremaining: 20.2s\n",
      "206:\tlearn: 1736.7750177\ttotal: 21.6s\tremaining: 20.1s\n",
      "207:\tlearn: 1736.3975332\ttotal: 21.6s\tremaining: 20s\n",
      "208:\tlearn: 1736.0748448\ttotal: 21.7s\tremaining: 19.9s\n",
      "209:\tlearn: 1735.7298765\ttotal: 21.8s\tremaining: 19.7s\n",
      "210:\tlearn: 1735.3492699\ttotal: 21.9s\tremaining: 19.6s\n",
      "211:\tlearn: 1735.1031342\ttotal: 22s\tremaining: 19.5s\n",
      "212:\tlearn: 1734.8959691\ttotal: 22.1s\tremaining: 19.4s\n",
      "213:\tlearn: 1734.4075873\ttotal: 22.2s\tremaining: 19.3s\n",
      "214:\tlearn: 1733.6860977\ttotal: 22.3s\tremaining: 19.2s\n",
      "215:\tlearn: 1733.0457503\ttotal: 22.4s\tremaining: 19.1s\n",
      "216:\tlearn: 1732.7651952\ttotal: 22.5s\tremaining: 19s\n",
      "217:\tlearn: 1732.4325030\ttotal: 22.6s\tremaining: 18.8s\n",
      "218:\tlearn: 1732.2234776\ttotal: 22.7s\tremaining: 18.7s\n",
      "219:\tlearn: 1731.9984777\ttotal: 22.8s\tremaining: 18.6s\n",
      "220:\tlearn: 1731.7147007\ttotal: 22.9s\tremaining: 18.5s\n",
      "221:\tlearn: 1731.2770073\ttotal: 23s\tremaining: 18.4s\n",
      "222:\tlearn: 1730.9481000\ttotal: 23.1s\tremaining: 18.3s\n",
      "223:\tlearn: 1730.7434076\ttotal: 23.2s\tremaining: 18.2s\n",
      "224:\tlearn: 1730.4615848\ttotal: 23.3s\tremaining: 18.1s\n",
      "225:\tlearn: 1730.1303576\ttotal: 23.4s\tremaining: 18s\n",
      "226:\tlearn: 1729.7659461\ttotal: 23.6s\tremaining: 18s\n",
      "227:\tlearn: 1729.4774050\ttotal: 23.7s\tremaining: 17.9s\n",
      "228:\tlearn: 1729.2516947\ttotal: 23.8s\tremaining: 17.7s\n",
      "229:\tlearn: 1728.9547232\ttotal: 23.9s\tremaining: 17.6s\n",
      "230:\tlearn: 1728.6053988\ttotal: 24s\tremaining: 17.5s\n",
      "231:\tlearn: 1728.1265304\ttotal: 24.1s\tremaining: 17.5s\n",
      "232:\tlearn: 1727.9412310\ttotal: 24.2s\tremaining: 17.3s\n",
      "233:\tlearn: 1727.6916954\ttotal: 24.3s\tremaining: 17.2s\n",
      "234:\tlearn: 1727.4161568\ttotal: 24.4s\tremaining: 17.1s\n",
      "235:\tlearn: 1726.9259127\ttotal: 24.5s\tremaining: 17s\n",
      "236:\tlearn: 1726.5189135\ttotal: 24.6s\tremaining: 16.9s\n",
      "237:\tlearn: 1726.2992757\ttotal: 24.7s\tremaining: 16.8s\n",
      "238:\tlearn: 1725.7965810\ttotal: 24.9s\tremaining: 16.7s\n",
      "239:\tlearn: 1725.5838498\ttotal: 25s\tremaining: 16.6s\n",
      "240:\tlearn: 1725.0434287\ttotal: 25s\tremaining: 16.5s\n",
      "241:\tlearn: 1724.8122649\ttotal: 25.2s\tremaining: 16.4s\n",
      "242:\tlearn: 1724.5330113\ttotal: 25.2s\tremaining: 16.3s\n",
      "243:\tlearn: 1724.1750053\ttotal: 25.3s\tremaining: 16.2s\n",
      "244:\tlearn: 1723.9008307\ttotal: 25.5s\tremaining: 16.1s\n",
      "245:\tlearn: 1723.4656088\ttotal: 25.6s\tremaining: 16s\n",
      "246:\tlearn: 1722.7492841\ttotal: 25.7s\tremaining: 15.9s\n",
      "247:\tlearn: 1722.6495916\ttotal: 25.8s\tremaining: 15.8s\n",
      "248:\tlearn: 1722.4563489\ttotal: 25.9s\tremaining: 15.7s\n",
      "249:\tlearn: 1722.2479267\ttotal: 26.1s\tremaining: 15.6s\n",
      "250:\tlearn: 1721.9607572\ttotal: 26.2s\tremaining: 15.5s\n",
      "251:\tlearn: 1721.4875143\ttotal: 26.3s\tremaining: 15.4s\n",
      "252:\tlearn: 1721.3695103\ttotal: 26.4s\tremaining: 15.3s\n",
      "253:\tlearn: 1721.0682114\ttotal: 26.5s\tremaining: 15.2s\n",
      "254:\tlearn: 1720.8108980\ttotal: 26.6s\tremaining: 15.1s\n",
      "255:\tlearn: 1720.6692949\ttotal: 26.7s\tremaining: 15s\n",
      "256:\tlearn: 1720.4537936\ttotal: 26.8s\tremaining: 14.9s\n",
      "257:\tlearn: 1720.2973372\ttotal: 26.9s\tremaining: 14.8s\n",
      "258:\tlearn: 1719.9287671\ttotal: 27s\tremaining: 14.7s\n",
      "259:\tlearn: 1719.6028982\ttotal: 27.1s\tremaining: 14.6s\n",
      "260:\tlearn: 1719.3035537\ttotal: 27.3s\tremaining: 14.5s\n",
      "261:\tlearn: 1718.9779307\ttotal: 27.4s\tremaining: 14.4s\n",
      "262:\tlearn: 1718.8458152\ttotal: 27.5s\tremaining: 14.3s\n",
      "263:\tlearn: 1718.5430523\ttotal: 27.6s\tremaining: 14.2s\n",
      "264:\tlearn: 1718.1848739\ttotal: 27.6s\tremaining: 14.1s\n",
      "265:\tlearn: 1717.6799773\ttotal: 27.8s\tremaining: 14s\n",
      "266:\tlearn: 1717.5097975\ttotal: 27.8s\tremaining: 13.9s\n",
      "267:\tlearn: 1717.2436385\ttotal: 28s\tremaining: 13.8s\n",
      "268:\tlearn: 1716.9938678\ttotal: 28.1s\tremaining: 13.7s\n",
      "269:\tlearn: 1716.7554607\ttotal: 28.2s\tremaining: 13.6s\n",
      "270:\tlearn: 1716.6251934\ttotal: 28.3s\tremaining: 13.5s\n",
      "271:\tlearn: 1716.4096150\ttotal: 28.4s\tremaining: 13.4s\n",
      "272:\tlearn: 1715.9429072\ttotal: 28.5s\tremaining: 13.2s\n",
      "273:\tlearn: 1715.6207135\ttotal: 28.6s\tremaining: 13.1s\n",
      "274:\tlearn: 1715.3661173\ttotal: 28.7s\tremaining: 13s\n",
      "275:\tlearn: 1714.7807315\ttotal: 28.8s\tremaining: 12.9s\n",
      "276:\tlearn: 1714.5152144\ttotal: 28.9s\tremaining: 12.8s\n",
      "277:\tlearn: 1713.9817692\ttotal: 28.9s\tremaining: 12.7s\n",
      "278:\tlearn: 1713.5262982\ttotal: 29.1s\tremaining: 12.6s\n",
      "279:\tlearn: 1713.3153636\ttotal: 29.2s\tremaining: 12.5s\n",
      "280:\tlearn: 1713.0828087\ttotal: 29.3s\tremaining: 12.4s\n",
      "281:\tlearn: 1712.8733136\ttotal: 29.4s\tremaining: 12.3s\n",
      "282:\tlearn: 1712.8427123\ttotal: 29.5s\tremaining: 12.2s\n",
      "283:\tlearn: 1712.5728862\ttotal: 29.6s\tremaining: 12.1s\n",
      "284:\tlearn: 1712.2590879\ttotal: 29.7s\tremaining: 12s\n",
      "285:\tlearn: 1711.8912947\ttotal: 29.8s\tremaining: 11.9s\n",
      "286:\tlearn: 1711.4799211\ttotal: 29.9s\tremaining: 11.8s\n",
      "287:\tlearn: 1711.2399467\ttotal: 30s\tremaining: 11.7s\n",
      "288:\tlearn: 1710.9601561\ttotal: 30.1s\tremaining: 11.6s\n",
      "289:\tlearn: 1710.7605328\ttotal: 30.2s\tremaining: 11.5s\n",
      "290:\tlearn: 1710.2772061\ttotal: 30.3s\tremaining: 11.4s\n",
      "291:\tlearn: 1710.0607256\ttotal: 30.4s\tremaining: 11.2s\n",
      "292:\tlearn: 1709.7469681\ttotal: 30.5s\tremaining: 11.1s\n",
      "293:\tlearn: 1709.7179340\ttotal: 30.6s\tremaining: 11s\n",
      "294:\tlearn: 1709.3576895\ttotal: 30.7s\tremaining: 10.9s\n",
      "295:\tlearn: 1708.9587384\ttotal: 30.8s\tremaining: 10.8s\n",
      "296:\tlearn: 1708.4499691\ttotal: 30.9s\tremaining: 10.7s\n",
      "297:\tlearn: 1707.9450528\ttotal: 31s\tremaining: 10.6s\n",
      "298:\tlearn: 1707.6500346\ttotal: 31.1s\tremaining: 10.5s\n",
      "299:\tlearn: 1707.4899087\ttotal: 31.3s\tremaining: 10.4s\n",
      "300:\tlearn: 1707.4210117\ttotal: 31.4s\tremaining: 10.3s\n",
      "301:\tlearn: 1707.3054130\ttotal: 31.5s\tremaining: 10.2s\n",
      "302:\tlearn: 1707.1267786\ttotal: 31.6s\tremaining: 10.1s\n",
      "303:\tlearn: 1707.0479603\ttotal: 31.7s\tremaining: 10s\n",
      "304:\tlearn: 1706.7332889\ttotal: 31.8s\tremaining: 9.9s\n",
      "305:\tlearn: 1706.3073840\ttotal: 31.9s\tremaining: 9.8s\n",
      "306:\tlearn: 1706.2932346\ttotal: 32s\tremaining: 9.68s\n",
      "307:\tlearn: 1706.0775170\ttotal: 32.1s\tremaining: 9.58s\n",
      "308:\tlearn: 1705.6746191\ttotal: 32.2s\tremaining: 9.47s\n",
      "309:\tlearn: 1705.4427480\ttotal: 32.3s\tremaining: 9.37s\n",
      "310:\tlearn: 1705.1408302\ttotal: 32.4s\tremaining: 9.26s\n",
      "311:\tlearn: 1704.8027122\ttotal: 32.5s\tremaining: 9.16s\n",
      "312:\tlearn: 1704.6861192\ttotal: 32.6s\tremaining: 9.06s\n",
      "313:\tlearn: 1704.4662644\ttotal: 32.7s\tremaining: 8.96s\n",
      "314:\tlearn: 1704.4067963\ttotal: 32.8s\tremaining: 8.86s\n",
      "315:\tlearn: 1703.9184637\ttotal: 32.9s\tremaining: 8.76s\n",
      "316:\tlearn: 1703.7126570\ttotal: 33.1s\tremaining: 8.65s\n",
      "317:\tlearn: 1703.5314579\ttotal: 33.2s\tremaining: 8.55s\n",
      "318:\tlearn: 1703.4516323\ttotal: 33.3s\tremaining: 8.44s\n",
      "319:\tlearn: 1703.3047296\ttotal: 33.3s\tremaining: 8.34s\n",
      "320:\tlearn: 1703.0433183\ttotal: 33.5s\tremaining: 8.25s\n",
      "321:\tlearn: 1702.7523106\ttotal: 33.6s\tremaining: 8.15s\n",
      "322:\tlearn: 1702.3112206\ttotal: 33.8s\tremaining: 8.05s\n",
      "323:\tlearn: 1701.9078640\ttotal: 33.9s\tremaining: 7.95s\n",
      "324:\tlearn: 1701.6417548\ttotal: 34s\tremaining: 7.85s\n",
      "325:\tlearn: 1701.3543410\ttotal: 34.1s\tremaining: 7.75s\n",
      "326:\tlearn: 1701.1382760\ttotal: 34.2s\tremaining: 7.64s\n",
      "327:\tlearn: 1700.6586088\ttotal: 34.4s\tremaining: 7.54s\n",
      "328:\tlearn: 1700.4342768\ttotal: 34.5s\tremaining: 7.43s\n",
      "329:\tlearn: 1700.3609243\ttotal: 34.6s\tremaining: 7.33s\n",
      "330:\tlearn: 1700.1741473\ttotal: 34.6s\tremaining: 7.22s\n",
      "331:\tlearn: 1700.0878466\ttotal: 34.7s\tremaining: 7.11s\n",
      "332:\tlearn: 1700.0252121\ttotal: 34.8s\tremaining: 7s\n",
      "333:\tlearn: 1699.6380667\ttotal: 34.9s\tremaining: 6.9s\n",
      "334:\tlearn: 1699.4906924\ttotal: 35s\tremaining: 6.79s\n",
      "335:\tlearn: 1699.3650195\ttotal: 35.1s\tremaining: 6.68s\n",
      "336:\tlearn: 1699.1055934\ttotal: 35.2s\tremaining: 6.58s\n",
      "337:\tlearn: 1698.9483399\ttotal: 35.3s\tremaining: 6.48s\n",
      "338:\tlearn: 1698.6487232\ttotal: 35.5s\tremaining: 6.38s\n",
      "339:\tlearn: 1698.4646078\ttotal: 35.6s\tremaining: 6.28s\n",
      "340:\tlearn: 1698.2663605\ttotal: 35.7s\tremaining: 6.18s\n",
      "341:\tlearn: 1698.0514824\ttotal: 35.8s\tremaining: 6.08s\n",
      "342:\tlearn: 1697.6808086\ttotal: 35.9s\tremaining: 5.97s\n",
      "343:\tlearn: 1697.5219316\ttotal: 36.1s\tremaining: 5.87s\n",
      "344:\tlearn: 1697.4214783\ttotal: 36.2s\tremaining: 5.77s\n",
      "345:\tlearn: 1697.1732912\ttotal: 36.3s\tremaining: 5.67s\n",
      "346:\tlearn: 1697.0884977\ttotal: 36.4s\tremaining: 5.56s\n",
      "347:\tlearn: 1696.8947353\ttotal: 36.5s\tremaining: 5.45s\n",
      "348:\tlearn: 1696.5438673\ttotal: 36.6s\tremaining: 5.35s\n",
      "349:\tlearn: 1696.4426045\ttotal: 36.7s\tremaining: 5.24s\n",
      "350:\tlearn: 1696.2711390\ttotal: 36.8s\tremaining: 5.13s\n",
      "351:\tlearn: 1696.0717750\ttotal: 36.9s\tremaining: 5.03s\n",
      "352:\tlearn: 1696.0129699\ttotal: 37s\tremaining: 4.92s\n",
      "353:\tlearn: 1695.9006586\ttotal: 37.1s\tremaining: 4.83s\n",
      "354:\tlearn: 1695.7574841\ttotal: 37.2s\tremaining: 4.72s\n",
      "355:\tlearn: 1695.5755771\ttotal: 37.3s\tremaining: 4.62s\n",
      "356:\tlearn: 1695.4453436\ttotal: 37.4s\tremaining: 4.51s\n",
      "357:\tlearn: 1695.2166446\ttotal: 37.5s\tremaining: 4.4s\n",
      "358:\tlearn: 1695.0950789\ttotal: 37.6s\tremaining: 4.29s\n",
      "359:\tlearn: 1694.8391596\ttotal: 37.7s\tremaining: 4.19s\n",
      "360:\tlearn: 1694.8025004\ttotal: 37.8s\tremaining: 4.09s\n",
      "361:\tlearn: 1694.5476629\ttotal: 37.9s\tremaining: 3.98s\n",
      "362:\tlearn: 1694.2103829\ttotal: 38s\tremaining: 3.88s\n",
      "363:\tlearn: 1693.9442067\ttotal: 38.1s\tremaining: 3.77s\n",
      "364:\tlearn: 1693.6393183\ttotal: 38.2s\tremaining: 3.66s\n",
      "365:\tlearn: 1693.4052840\ttotal: 38.3s\tremaining: 3.56s\n",
      "366:\tlearn: 1693.3265132\ttotal: 38.4s\tremaining: 3.45s\n",
      "367:\tlearn: 1692.9090876\ttotal: 38.5s\tremaining: 3.35s\n",
      "368:\tlearn: 1692.6009882\ttotal: 38.6s\tremaining: 3.24s\n",
      "369:\tlearn: 1692.3148782\ttotal: 38.7s\tremaining: 3.14s\n",
      "370:\tlearn: 1692.1281555\ttotal: 38.8s\tremaining: 3.03s\n",
      "371:\tlearn: 1692.0278184\ttotal: 38.9s\tremaining: 2.93s\n",
      "372:\tlearn: 1691.5034073\ttotal: 39.1s\tremaining: 2.83s\n",
      "373:\tlearn: 1691.3390999\ttotal: 39.2s\tremaining: 2.72s\n",
      "374:\tlearn: 1691.1912610\ttotal: 39.3s\tremaining: 2.62s\n",
      "375:\tlearn: 1691.1058277\ttotal: 39.3s\tremaining: 2.51s\n",
      "376:\tlearn: 1690.9155490\ttotal: 39.5s\tremaining: 2.41s\n",
      "377:\tlearn: 1690.5547622\ttotal: 39.6s\tremaining: 2.31s\n",
      "378:\tlearn: 1690.5337144\ttotal: 39.7s\tremaining: 2.2s\n",
      "379:\tlearn: 1690.3874779\ttotal: 39.8s\tremaining: 2.1s\n",
      "380:\tlearn: 1690.2791666\ttotal: 39.9s\tremaining: 1.99s\n",
      "381:\tlearn: 1690.1995195\ttotal: 40s\tremaining: 1.89s\n",
      "382:\tlearn: 1690.1486470\ttotal: 40.1s\tremaining: 1.78s\n",
      "383:\tlearn: 1690.0671571\ttotal: 40.2s\tremaining: 1.68s\n",
      "384:\tlearn: 1689.7631936\ttotal: 40.3s\tremaining: 1.57s\n",
      "385:\tlearn: 1689.6583602\ttotal: 40.5s\tremaining: 1.47s\n",
      "386:\tlearn: 1689.2256394\ttotal: 40.6s\tremaining: 1.36s\n",
      "387:\tlearn: 1689.0607955\ttotal: 40.7s\tremaining: 1.26s\n",
      "388:\tlearn: 1688.8374472\ttotal: 40.8s\tremaining: 1.15s\n",
      "389:\tlearn: 1688.6908731\ttotal: 40.9s\tremaining: 1.05s\n",
      "390:\tlearn: 1688.5944438\ttotal: 41s\tremaining: 945ms\n",
      "391:\tlearn: 1688.3775454\ttotal: 41.1s\tremaining: 839ms\n",
      "392:\tlearn: 1688.2029435\ttotal: 41.2s\tremaining: 734ms\n",
      "393:\tlearn: 1688.1284570\ttotal: 41.3s\tremaining: 629ms\n",
      "394:\tlearn: 1687.9767140\ttotal: 41.4s\tremaining: 524ms\n",
      "395:\tlearn: 1687.7395418\ttotal: 41.5s\tremaining: 420ms\n",
      "396:\tlearn: 1687.5108458\ttotal: 41.6s\tremaining: 315ms\n",
      "397:\tlearn: 1687.5021045\ttotal: 41.7s\tremaining: 210ms\n",
      "398:\tlearn: 1687.4362568\ttotal: 41.8s\tremaining: 105ms\n",
      "399:\tlearn: 1687.2170060\ttotal: 41.9s\tremaining: 0us\n",
      "CatBoostRegressor:\n",
      "Лучшие параметры: {'learning_rate': 0.1, 'iterations': 400}\n",
      "Лучшая RMSE: 1731.3492490920903\n",
      "Wall time: 7min 2s\n"
     ]
    }
   ],
   "source": [
    "%%time\n",
    "\n",
    "catboost_model = CatBoostRegressor(random_seed=123, cat_features=categorical_columns)\n",
    "\n",
    "catboost_param_grid = {\n",
    "    'iterations': range(100, 501, 100),\n",
    "    'learning_rate': [0.01, 0.1, 1]\n",
    "}\n",
    "\n",
    "catboost_grid_search = RandomizedSearchCV(estimator=catboost_model, param_distributions=catboost_param_grid, \\\n",
    "                                    scoring=scorer, cv=3, verbose=1, n_jobs=-1, random_state=123)\n",
    "\n",
    "catboost_grid_search.fit(features_train, target_train)\n",
    "\n",
    "print(\"CatBoostRegressor:\")\n",
    "print(\"Лучшие параметры:\", catboost_grid_search.best_params_)\n",
    "print(\"Лучшая RMSE:\", np.sqrt(-catboost_grid_search.best_score_))"
   ]
  },
  {
   "cell_type": "markdown",
   "metadata": {},
   "source": [
    "Выбраны лучшие гиперпараметры. Теперь можно анализировать модели."
   ]
  },
  {
   "cell_type": "markdown",
   "metadata": {},
   "source": [
    "## Анализ моделей"
   ]
  },
  {
   "cell_type": "markdown",
   "metadata": {},
   "source": [
    "Заказчику важны:\n",
    "\n",
    "- качество предсказания;\n",
    "- скорость предсказания;\n",
    "- время обучения.\n",
    "\n",
    "\n",
    "Проверю скорость обучения и предсказания по всем моделям с лучшими гиперпараметрами:"
   ]
  },
  {
   "cell_type": "markdown",
   "metadata": {},
   "source": [
    "### LGBMRegressor"
   ]
  },
  {
   "cell_type": "code",
   "execution_count": 71,
   "metadata": {},
   "outputs": [
    {
     "name": "stderr",
     "output_type": "stream",
     "text": [
      "D:\\Anaconda_new\\lib\\site-packages\\lightgbm\\basic.py:2065: UserWarning: Using categorical_feature in Dataset.\n",
      "  _log_warning('Using categorical_feature in Dataset.')\n"
     ]
    },
    {
     "name": "stdout",
     "output_type": "stream",
     "text": [
      "[LightGBM] [Warning] Auto-choosing row-wise multi-threading, the overhead of testing was 0.005380 seconds.\n",
      "You can set `force_row_wise=true` to remove the overhead.\n",
      "And if memory is not enough, you can set `force_col_wise=true`.\n",
      "[LightGBM] [Info] Total Bins 614\n",
      "[LightGBM] [Info] Number of data points in the train set: 181833, number of used features: 9\n",
      "[LightGBM] [Info] Start training from score 4552.992664\n",
      "Wall time: 1.28 s\n"
     ]
    }
   ],
   "source": [
    "%%time\n",
    "\n",
    "# Создание объекта Dataset\n",
    "train_data = lgb.Dataset(features_train, label=target_train, categorical_feature=categorical_columns)\n",
    "\n",
    "# Обучение модели\n",
    "lgbm_model = lgb.train({'boosting_type': 'gbdt', \n",
    "                        'objective': 'regression', \n",
    "                        'seed': 123, \n",
    "                        'learning_rate': 0.1}, \n",
    "                        train_data, \n",
    "                        num_boost_round=500)"
   ]
  },
  {
   "cell_type": "code",
   "execution_count": 72,
   "metadata": {},
   "outputs": [],
   "source": [
    "#меняю тип данных для категорий, чтобы модель использовала внутреннюю кодировку. categorical_columns уже есть в коде\n",
    "for feature in categorical_columns:\n",
    "    features_valid[feature] = pd.Series(features_valid[feature], dtype=\"category\")"
   ]
  },
  {
   "cell_type": "code",
   "execution_count": 73,
   "metadata": {},
   "outputs": [
    {
     "name": "stdout",
     "output_type": "stream",
     "text": [
      "Wall time: 233 ms\n"
     ]
    }
   ],
   "source": [
    "%%time\n",
    "predicted_lgbm = lgbm_model.predict(features_valid)"
   ]
  },
  {
   "cell_type": "code",
   "execution_count": 74,
   "metadata": {},
   "outputs": [
    {
     "name": "stdout",
     "output_type": "stream",
     "text": [
      "RMSE: 1644.224535663162\n"
     ]
    }
   ],
   "source": [
    "print('RMSE:', np.sqrt(mean_squared_error(target_valid, predicted_lgbm)))"
   ]
  },
  {
   "cell_type": "markdown",
   "metadata": {},
   "source": [
    "### RandomForestRegressor"
   ]
  },
  {
   "cell_type": "code",
   "execution_count": 75,
   "metadata": {},
   "outputs": [],
   "source": [
    "model_rf = RandomForestRegressor(random_state=123, n_estimators=500, max_depth=8)"
   ]
  },
  {
   "cell_type": "code",
   "execution_count": 76,
   "metadata": {},
   "outputs": [
    {
     "name": "stdout",
     "output_type": "stream",
     "text": [
      "Wall time: 1min 36s\n"
     ]
    },
    {
     "data": {
      "text/plain": [
       "RandomForestRegressor(max_depth=8, n_estimators=500, random_state=123)"
      ]
     },
     "execution_count": 76,
     "metadata": {},
     "output_type": "execute_result"
    }
   ],
   "source": [
    "%%time\n",
    "model_rf.fit(features_train_rf, target_train_rf)"
   ]
  },
  {
   "cell_type": "code",
   "execution_count": 77,
   "metadata": {},
   "outputs": [
    {
     "name": "stdout",
     "output_type": "stream",
     "text": [
      "Wall time: 2.38 s\n"
     ]
    }
   ],
   "source": [
    "%%time\n",
    "predicted_rf = model_rf.predict(features_valid_rf)"
   ]
  },
  {
   "cell_type": "code",
   "execution_count": 78,
   "metadata": {
    "scrolled": true
   },
   "outputs": [
    {
     "name": "stdout",
     "output_type": "stream",
     "text": [
      "RMSE: 2100.540731413106\n"
     ]
    }
   ],
   "source": [
    "print('RMSE:', np.sqrt(mean_squared_error(target_valid_rf, predicted_rf)))"
   ]
  },
  {
   "cell_type": "markdown",
   "metadata": {},
   "source": [
    "### CatBoostRegressor"
   ]
  },
  {
   "cell_type": "code",
   "execution_count": 79,
   "metadata": {},
   "outputs": [],
   "source": [
    "catboost_model = CatBoostRegressor(random_seed=123, learning_rate=0.1, iterations=400, cat_features=categorical_columns)"
   ]
  },
  {
   "cell_type": "code",
   "execution_count": 80,
   "metadata": {},
   "outputs": [
    {
     "name": "stdout",
     "output_type": "stream",
     "text": [
      "0:\tlearn: 4208.8560090\ttotal: 113ms\tremaining: 45.3s\n",
      "1:\tlearn: 3954.5606046\ttotal: 212ms\tremaining: 42.3s\n",
      "2:\tlearn: 3728.3188287\ttotal: 303ms\tremaining: 40.1s\n",
      "3:\tlearn: 3524.2095953\ttotal: 407ms\tremaining: 40.3s\n",
      "4:\tlearn: 3349.9200530\ttotal: 538ms\tremaining: 42.5s\n",
      "5:\tlearn: 3192.5254578\ttotal: 656ms\tremaining: 43.1s\n",
      "6:\tlearn: 3048.1204672\ttotal: 814ms\tremaining: 45.7s\n",
      "7:\tlearn: 2928.4307799\ttotal: 915ms\tremaining: 44.8s\n",
      "8:\tlearn: 2814.6133996\ttotal: 1.01s\tremaining: 44.1s\n",
      "9:\tlearn: 2724.6003943\ttotal: 1.13s\tremaining: 43.9s\n",
      "10:\tlearn: 2643.4348891\ttotal: 1.23s\tremaining: 43.6s\n",
      "11:\tlearn: 2573.0110382\ttotal: 1.31s\tremaining: 42.4s\n",
      "12:\tlearn: 2503.4537040\ttotal: 1.42s\tremaining: 42.4s\n",
      "13:\tlearn: 2443.1712541\ttotal: 1.52s\tremaining: 41.9s\n",
      "14:\tlearn: 2388.9694547\ttotal: 1.62s\tremaining: 41.5s\n",
      "15:\tlearn: 2340.7122987\ttotal: 1.73s\tremaining: 41.5s\n",
      "16:\tlearn: 2301.9211889\ttotal: 1.83s\tremaining: 41.2s\n",
      "17:\tlearn: 2263.9270595\ttotal: 1.93s\tremaining: 41s\n",
      "18:\tlearn: 2225.9668590\ttotal: 2.04s\tremaining: 40.9s\n",
      "19:\tlearn: 2194.5728299\ttotal: 2.14s\tremaining: 40.7s\n",
      "20:\tlearn: 2164.5912386\ttotal: 2.25s\tremaining: 40.7s\n",
      "21:\tlearn: 2140.7438256\ttotal: 2.4s\tremaining: 41.2s\n",
      "22:\tlearn: 2117.1613289\ttotal: 2.51s\tremaining: 41.1s\n",
      "23:\tlearn: 2099.1500826\ttotal: 2.61s\tremaining: 40.9s\n",
      "24:\tlearn: 2080.9835494\ttotal: 2.74s\tremaining: 41.1s\n",
      "25:\tlearn: 2066.0804093\ttotal: 2.86s\tremaining: 41.2s\n",
      "26:\tlearn: 2052.5511677\ttotal: 2.98s\tremaining: 41.1s\n",
      "27:\tlearn: 2039.7390733\ttotal: 3.09s\tremaining: 41s\n",
      "28:\tlearn: 2028.3339069\ttotal: 3.17s\tremaining: 40.6s\n",
      "29:\tlearn: 2017.9759486\ttotal: 3.26s\tremaining: 40.2s\n",
      "30:\tlearn: 2007.9188366\ttotal: 3.36s\tremaining: 40s\n",
      "31:\tlearn: 1998.3414256\ttotal: 3.46s\tremaining: 39.8s\n",
      "32:\tlearn: 1990.4742362\ttotal: 3.56s\tremaining: 39.6s\n",
      "33:\tlearn: 1984.9491401\ttotal: 3.64s\tremaining: 39.2s\n",
      "34:\tlearn: 1977.9731166\ttotal: 3.71s\tremaining: 38.7s\n",
      "35:\tlearn: 1971.6485681\ttotal: 3.79s\tremaining: 38.3s\n",
      "36:\tlearn: 1964.6873240\ttotal: 3.88s\tremaining: 38.1s\n",
      "37:\tlearn: 1958.8294389\ttotal: 3.97s\tremaining: 37.8s\n",
      "38:\tlearn: 1952.8555066\ttotal: 4.07s\tremaining: 37.6s\n",
      "39:\tlearn: 1948.7345347\ttotal: 4.15s\tremaining: 37.4s\n",
      "40:\tlearn: 1943.9633793\ttotal: 4.27s\tremaining: 37.4s\n",
      "41:\tlearn: 1940.1643867\ttotal: 4.38s\tremaining: 37.3s\n",
      "42:\tlearn: 1935.7795047\ttotal: 4.47s\tremaining: 37.1s\n",
      "43:\tlearn: 1931.6562962\ttotal: 4.54s\tremaining: 36.8s\n",
      "44:\tlearn: 1928.0653236\ttotal: 4.62s\tremaining: 36.5s\n",
      "45:\tlearn: 1923.5237883\ttotal: 4.72s\tremaining: 36.4s\n",
      "46:\tlearn: 1919.3705954\ttotal: 4.84s\tremaining: 36.4s\n",
      "47:\tlearn: 1916.3257761\ttotal: 4.96s\tremaining: 36.4s\n",
      "48:\tlearn: 1913.0658139\ttotal: 5.06s\tremaining: 36.2s\n",
      "49:\tlearn: 1910.4841667\ttotal: 5.14s\tremaining: 36s\n",
      "50:\tlearn: 1907.4823709\ttotal: 5.22s\tremaining: 35.7s\n",
      "51:\tlearn: 1904.8390831\ttotal: 5.34s\tremaining: 35.7s\n",
      "52:\tlearn: 1902.1040211\ttotal: 5.45s\tremaining: 35.7s\n",
      "53:\tlearn: 1897.5309761\ttotal: 5.54s\tremaining: 35.5s\n",
      "54:\tlearn: 1893.6954896\ttotal: 5.62s\tremaining: 35.3s\n",
      "55:\tlearn: 1889.8252045\ttotal: 5.73s\tremaining: 35.2s\n",
      "56:\tlearn: 1886.0943513\ttotal: 5.83s\tremaining: 35.1s\n",
      "57:\tlearn: 1882.7914730\ttotal: 5.92s\tremaining: 34.9s\n",
      "58:\tlearn: 1881.0132154\ttotal: 6s\tremaining: 34.7s\n",
      "59:\tlearn: 1878.4060889\ttotal: 6.12s\tremaining: 34.7s\n",
      "60:\tlearn: 1876.5419073\ttotal: 6.24s\tremaining: 34.7s\n",
      "61:\tlearn: 1872.2963635\ttotal: 6.33s\tremaining: 34.5s\n",
      "62:\tlearn: 1870.4232977\ttotal: 6.43s\tremaining: 34.4s\n",
      "63:\tlearn: 1867.2684959\ttotal: 6.53s\tremaining: 34.3s\n",
      "64:\tlearn: 1864.3398900\ttotal: 6.6s\tremaining: 34s\n",
      "65:\tlearn: 1862.0687298\ttotal: 6.68s\tremaining: 33.8s\n",
      "66:\tlearn: 1860.2021342\ttotal: 6.76s\tremaining: 33.6s\n",
      "67:\tlearn: 1857.5738475\ttotal: 6.88s\tremaining: 33.6s\n",
      "68:\tlearn: 1856.3216110\ttotal: 6.96s\tremaining: 33.4s\n",
      "69:\tlearn: 1853.8471879\ttotal: 7.05s\tremaining: 33.2s\n",
      "70:\tlearn: 1852.1652602\ttotal: 7.16s\tremaining: 33.2s\n",
      "71:\tlearn: 1850.2809341\ttotal: 7.28s\tremaining: 33.2s\n",
      "72:\tlearn: 1848.3536726\ttotal: 7.41s\tremaining: 33.2s\n",
      "73:\tlearn: 1846.4212905\ttotal: 7.5s\tremaining: 33s\n",
      "74:\tlearn: 1844.2504332\ttotal: 7.6s\tremaining: 32.9s\n",
      "75:\tlearn: 1843.1344270\ttotal: 7.68s\tremaining: 32.8s\n",
      "76:\tlearn: 1841.4294045\ttotal: 7.76s\tremaining: 32.6s\n",
      "77:\tlearn: 1839.6361651\ttotal: 7.84s\tremaining: 32.4s\n",
      "78:\tlearn: 1838.6893848\ttotal: 7.93s\tremaining: 32.2s\n",
      "79:\tlearn: 1837.2651121\ttotal: 8.03s\tremaining: 32.1s\n",
      "80:\tlearn: 1836.4601236\ttotal: 8.15s\tremaining: 32.1s\n",
      "81:\tlearn: 1834.8459595\ttotal: 8.24s\tremaining: 32s\n",
      "82:\tlearn: 1833.7142694\ttotal: 8.33s\tremaining: 31.8s\n",
      "83:\tlearn: 1832.0073550\ttotal: 8.4s\tremaining: 31.6s\n",
      "84:\tlearn: 1831.1226691\ttotal: 8.5s\tremaining: 31.5s\n",
      "85:\tlearn: 1829.7713564\ttotal: 8.6s\tremaining: 31.4s\n",
      "86:\tlearn: 1828.0774796\ttotal: 8.69s\tremaining: 31.3s\n",
      "87:\tlearn: 1826.3748853\ttotal: 8.79s\tremaining: 31.2s\n",
      "88:\tlearn: 1824.9489399\ttotal: 8.89s\tremaining: 31.1s\n",
      "89:\tlearn: 1823.2574947\ttotal: 8.98s\tremaining: 30.9s\n",
      "90:\tlearn: 1821.8445406\ttotal: 9.07s\tremaining: 30.8s\n",
      "91:\tlearn: 1820.5536775\ttotal: 9.18s\tremaining: 30.7s\n",
      "92:\tlearn: 1819.4724156\ttotal: 9.3s\tremaining: 30.7s\n",
      "93:\tlearn: 1818.1254257\ttotal: 9.4s\tremaining: 30.6s\n",
      "94:\tlearn: 1816.8195112\ttotal: 9.48s\tremaining: 30.4s\n",
      "95:\tlearn: 1814.7014880\ttotal: 9.56s\tremaining: 30.3s\n",
      "96:\tlearn: 1813.4163414\ttotal: 9.65s\tremaining: 30.2s\n",
      "97:\tlearn: 1812.1352718\ttotal: 9.76s\tremaining: 30.1s\n",
      "98:\tlearn: 1810.6881466\ttotal: 9.85s\tremaining: 30s\n",
      "99:\tlearn: 1809.2569204\ttotal: 9.95s\tremaining: 29.8s\n",
      "100:\tlearn: 1807.8557808\ttotal: 10s\tremaining: 29.7s\n",
      "101:\tlearn: 1806.3334868\ttotal: 10.1s\tremaining: 29.5s\n",
      "102:\tlearn: 1805.5819140\ttotal: 10.2s\tremaining: 29.4s\n",
      "103:\tlearn: 1804.7483369\ttotal: 10.3s\tremaining: 29.2s\n",
      "104:\tlearn: 1803.7024102\ttotal: 10.4s\tremaining: 29.1s\n",
      "105:\tlearn: 1802.9858731\ttotal: 10.5s\tremaining: 29.1s\n",
      "106:\tlearn: 1802.3200272\ttotal: 10.6s\tremaining: 29s\n",
      "107:\tlearn: 1800.8726713\ttotal: 10.7s\tremaining: 29s\n",
      "108:\tlearn: 1799.8384446\ttotal: 10.8s\tremaining: 28.9s\n",
      "109:\tlearn: 1797.8509308\ttotal: 10.9s\tremaining: 28.8s\n",
      "110:\tlearn: 1796.5636545\ttotal: 11s\tremaining: 28.7s\n",
      "111:\tlearn: 1795.3297611\ttotal: 11.1s\tremaining: 28.6s\n",
      "112:\tlearn: 1794.6024630\ttotal: 11.2s\tremaining: 28.4s\n",
      "113:\tlearn: 1793.9634036\ttotal: 11.3s\tremaining: 28.3s\n",
      "114:\tlearn: 1793.3079827\ttotal: 11.4s\tremaining: 28.3s\n",
      "115:\tlearn: 1792.2349711\ttotal: 11.5s\tremaining: 28.2s\n",
      "116:\tlearn: 1791.7047937\ttotal: 11.6s\tremaining: 28.1s\n",
      "117:\tlearn: 1791.0344378\ttotal: 11.7s\tremaining: 28s\n",
      "118:\tlearn: 1790.1589163\ttotal: 11.8s\tremaining: 27.9s\n",
      "119:\tlearn: 1789.2281949\ttotal: 11.9s\tremaining: 27.7s\n",
      "120:\tlearn: 1788.4049638\ttotal: 12s\tremaining: 27.6s\n",
      "121:\tlearn: 1787.2911458\ttotal: 12.1s\tremaining: 27.5s\n",
      "122:\tlearn: 1786.5677735\ttotal: 12.2s\tremaining: 27.4s\n",
      "123:\tlearn: 1785.8946592\ttotal: 12.3s\tremaining: 27.3s\n",
      "124:\tlearn: 1785.0484144\ttotal: 12.3s\tremaining: 27.1s\n",
      "125:\tlearn: 1784.4867009\ttotal: 12.4s\tremaining: 27.1s\n",
      "126:\tlearn: 1783.4633550\ttotal: 12.5s\tremaining: 27s\n",
      "127:\tlearn: 1782.6815307\ttotal: 12.7s\tremaining: 27s\n",
      "128:\tlearn: 1782.0587687\ttotal: 12.8s\tremaining: 26.9s\n",
      "129:\tlearn: 1781.0753930\ttotal: 12.9s\tremaining: 26.8s\n",
      "130:\tlearn: 1779.9446693\ttotal: 13s\tremaining: 26.6s\n",
      "131:\tlearn: 1779.4613789\ttotal: 13.1s\tremaining: 26.6s\n",
      "132:\tlearn: 1778.5311187\ttotal: 13.2s\tremaining: 26.5s\n",
      "133:\tlearn: 1777.4482955\ttotal: 13.3s\tremaining: 26.4s\n",
      "134:\tlearn: 1776.6925009\ttotal: 13.4s\tremaining: 26.3s\n",
      "135:\tlearn: 1776.2362537\ttotal: 13.5s\tremaining: 26.2s\n",
      "136:\tlearn: 1775.2216870\ttotal: 13.6s\tremaining: 26.1s\n",
      "137:\tlearn: 1774.2649754\ttotal: 13.7s\tremaining: 26s\n",
      "138:\tlearn: 1773.8606039\ttotal: 13.8s\tremaining: 25.8s\n",
      "139:\tlearn: 1772.9635892\ttotal: 13.9s\tremaining: 25.7s\n",
      "140:\tlearn: 1772.0778155\ttotal: 14s\tremaining: 25.7s\n",
      "141:\tlearn: 1771.0808496\ttotal: 14.1s\tremaining: 25.6s\n",
      "142:\tlearn: 1770.4842729\ttotal: 14.2s\tremaining: 25.5s\n",
      "143:\tlearn: 1769.7737362\ttotal: 14.3s\tremaining: 25.4s\n",
      "144:\tlearn: 1769.2780958\ttotal: 14.4s\tremaining: 25.3s\n",
      "145:\tlearn: 1768.7241291\ttotal: 14.5s\tremaining: 25.2s\n",
      "146:\tlearn: 1768.0223245\ttotal: 14.6s\tremaining: 25.1s\n",
      "147:\tlearn: 1767.3229039\ttotal: 14.7s\tremaining: 25s\n",
      "148:\tlearn: 1766.7239460\ttotal: 14.8s\tremaining: 24.9s\n",
      "149:\tlearn: 1766.1108477\ttotal: 14.9s\tremaining: 24.8s\n",
      "150:\tlearn: 1765.4012898\ttotal: 15s\tremaining: 24.8s\n",
      "151:\tlearn: 1764.5772703\ttotal: 15.1s\tremaining: 24.7s\n",
      "152:\tlearn: 1764.0524272\ttotal: 15.2s\tremaining: 24.6s\n",
      "153:\tlearn: 1763.2859178\ttotal: 15.3s\tremaining: 24.5s\n",
      "154:\tlearn: 1762.6252733\ttotal: 15.4s\tremaining: 24.4s\n",
      "155:\tlearn: 1762.0648394\ttotal: 15.5s\tremaining: 24.3s\n",
      "156:\tlearn: 1761.5108954\ttotal: 15.7s\tremaining: 24.2s\n",
      "157:\tlearn: 1761.2770468\ttotal: 15.8s\tremaining: 24.1s\n",
      "158:\tlearn: 1760.8775256\ttotal: 15.9s\tremaining: 24s\n",
      "159:\tlearn: 1760.4542765\ttotal: 16s\tremaining: 24s\n",
      "160:\tlearn: 1760.0428281\ttotal: 16.1s\tremaining: 23.8s\n",
      "161:\tlearn: 1759.5629356\ttotal: 16.2s\tremaining: 23.7s\n",
      "162:\tlearn: 1759.1644624\ttotal: 16.3s\tremaining: 23.6s\n",
      "163:\tlearn: 1758.4986273\ttotal: 16.4s\tremaining: 23.6s\n",
      "164:\tlearn: 1757.7764078\ttotal: 16.5s\tremaining: 23.4s\n",
      "165:\tlearn: 1757.5096258\ttotal: 16.5s\tremaining: 23.3s\n",
      "166:\tlearn: 1756.6166869\ttotal: 16.6s\tremaining: 23.2s\n",
      "167:\tlearn: 1755.7791205\ttotal: 16.7s\tremaining: 23.1s\n",
      "168:\tlearn: 1755.1118728\ttotal: 16.9s\tremaining: 23.1s\n",
      "169:\tlearn: 1754.5708361\ttotal: 17s\tremaining: 23s\n",
      "170:\tlearn: 1753.9227990\ttotal: 17.1s\tremaining: 23s\n",
      "171:\tlearn: 1753.5962106\ttotal: 17.3s\tremaining: 22.9s\n",
      "172:\tlearn: 1752.9690696\ttotal: 17.4s\tremaining: 22.8s\n",
      "173:\tlearn: 1752.2622192\ttotal: 17.5s\tremaining: 22.7s\n",
      "174:\tlearn: 1751.7759412\ttotal: 17.6s\tremaining: 22.6s\n",
      "175:\tlearn: 1751.3257830\ttotal: 17.7s\tremaining: 22.5s\n",
      "176:\tlearn: 1750.9062042\ttotal: 17.8s\tremaining: 22.4s\n",
      "177:\tlearn: 1750.3794271\ttotal: 17.9s\tremaining: 22.3s\n",
      "178:\tlearn: 1749.8960118\ttotal: 18s\tremaining: 22.2s\n",
      "179:\tlearn: 1749.5106305\ttotal: 18.1s\tremaining: 22.1s\n",
      "180:\tlearn: 1749.1583346\ttotal: 18.2s\tremaining: 22.1s\n",
      "181:\tlearn: 1748.6386656\ttotal: 18.3s\tremaining: 22s\n",
      "182:\tlearn: 1748.1930979\ttotal: 18.5s\tremaining: 21.9s\n",
      "183:\tlearn: 1747.4928292\ttotal: 18.6s\tremaining: 21.8s\n",
      "184:\tlearn: 1746.7075449\ttotal: 18.6s\tremaining: 21.6s\n",
      "185:\tlearn: 1746.2152790\ttotal: 18.7s\tremaining: 21.5s\n",
      "186:\tlearn: 1745.7358836\ttotal: 18.8s\tremaining: 21.4s\n",
      "187:\tlearn: 1745.3504766\ttotal: 18.8s\tremaining: 21.2s\n",
      "188:\tlearn: 1744.7252088\ttotal: 19s\tremaining: 21.2s\n",
      "189:\tlearn: 1744.3199172\ttotal: 19.1s\tremaining: 21.1s\n",
      "190:\tlearn: 1743.7237744\ttotal: 19.2s\tremaining: 21s\n",
      "191:\tlearn: 1743.2795144\ttotal: 19.3s\tremaining: 20.9s\n",
      "192:\tlearn: 1742.7062375\ttotal: 19.4s\tremaining: 20.8s\n",
      "193:\tlearn: 1742.3380846\ttotal: 19.5s\tremaining: 20.7s\n",
      "194:\tlearn: 1742.0181172\ttotal: 19.6s\tremaining: 20.6s\n",
      "195:\tlearn: 1741.5919225\ttotal: 19.7s\tremaining: 20.5s\n",
      "196:\tlearn: 1741.1987431\ttotal: 19.8s\tremaining: 20.4s\n",
      "197:\tlearn: 1740.7430290\ttotal: 19.9s\tremaining: 20.3s\n",
      "198:\tlearn: 1740.4437153\ttotal: 20s\tremaining: 20.2s\n",
      "199:\tlearn: 1739.9751622\ttotal: 20.1s\tremaining: 20.1s\n",
      "200:\tlearn: 1739.2945786\ttotal: 20.2s\tremaining: 20s\n",
      "201:\tlearn: 1738.8852312\ttotal: 20.3s\tremaining: 19.9s\n",
      "202:\tlearn: 1738.4358325\ttotal: 20.4s\tremaining: 19.8s\n",
      "203:\tlearn: 1738.1003275\ttotal: 20.5s\tremaining: 19.7s\n",
      "204:\tlearn: 1737.6748166\ttotal: 20.6s\tremaining: 19.6s\n",
      "205:\tlearn: 1737.4454526\ttotal: 20.7s\tremaining: 19.5s\n",
      "206:\tlearn: 1736.7750177\ttotal: 20.8s\tremaining: 19.4s\n",
      "207:\tlearn: 1736.3975332\ttotal: 20.9s\tremaining: 19.3s\n",
      "208:\tlearn: 1736.0748448\ttotal: 21s\tremaining: 19.2s\n",
      "209:\tlearn: 1735.7298765\ttotal: 21.1s\tremaining: 19.1s\n",
      "210:\tlearn: 1735.3492699\ttotal: 21.2s\tremaining: 19s\n",
      "211:\tlearn: 1735.1031342\ttotal: 21.4s\tremaining: 18.9s\n",
      "212:\tlearn: 1734.8959691\ttotal: 21.4s\tremaining: 18.8s\n",
      "213:\tlearn: 1734.4075873\ttotal: 21.6s\tremaining: 18.7s\n",
      "214:\tlearn: 1733.6860977\ttotal: 21.7s\tremaining: 18.6s\n",
      "215:\tlearn: 1733.0457503\ttotal: 21.8s\tremaining: 18.5s\n",
      "216:\tlearn: 1732.7651952\ttotal: 21.9s\tremaining: 18.4s\n",
      "217:\tlearn: 1732.4325030\ttotal: 22s\tremaining: 18.3s\n",
      "218:\tlearn: 1732.2234776\ttotal: 22.1s\tremaining: 18.2s\n",
      "219:\tlearn: 1731.9984777\ttotal: 22.1s\tremaining: 18.1s\n",
      "220:\tlearn: 1731.7147007\ttotal: 22.2s\tremaining: 18s\n",
      "221:\tlearn: 1731.2770073\ttotal: 22.3s\tremaining: 17.9s\n",
      "222:\tlearn: 1730.9481000\ttotal: 22.5s\tremaining: 17.8s\n",
      "223:\tlearn: 1730.7434076\ttotal: 22.6s\tremaining: 17.7s\n",
      "224:\tlearn: 1730.4615848\ttotal: 22.6s\tremaining: 17.6s\n",
      "225:\tlearn: 1730.1303576\ttotal: 22.7s\tremaining: 17.5s\n",
      "226:\tlearn: 1729.7659461\ttotal: 22.8s\tremaining: 17.4s\n",
      "227:\tlearn: 1729.4774050\ttotal: 22.9s\tremaining: 17.3s\n",
      "228:\tlearn: 1729.2516947\ttotal: 23s\tremaining: 17.2s\n",
      "229:\tlearn: 1728.9547232\ttotal: 23.1s\tremaining: 17.1s\n",
      "230:\tlearn: 1728.6053988\ttotal: 23.2s\tremaining: 17s\n",
      "231:\tlearn: 1728.1265304\ttotal: 23.3s\tremaining: 16.9s\n",
      "232:\tlearn: 1727.9412310\ttotal: 23.4s\tremaining: 16.8s\n",
      "233:\tlearn: 1727.6916954\ttotal: 23.5s\tremaining: 16.7s\n",
      "234:\tlearn: 1727.4161568\ttotal: 23.6s\tremaining: 16.6s\n",
      "235:\tlearn: 1726.9259127\ttotal: 23.8s\tremaining: 16.5s\n",
      "236:\tlearn: 1726.5189135\ttotal: 23.9s\tremaining: 16.4s\n",
      "237:\tlearn: 1726.2992757\ttotal: 24s\tremaining: 16.3s\n",
      "238:\tlearn: 1725.7965810\ttotal: 24.1s\tremaining: 16.2s\n",
      "239:\tlearn: 1725.5838498\ttotal: 24.1s\tremaining: 16.1s\n",
      "240:\tlearn: 1725.0434287\ttotal: 24.2s\tremaining: 16s\n",
      "241:\tlearn: 1724.8122649\ttotal: 24.4s\tremaining: 15.9s\n",
      "242:\tlearn: 1724.5330113\ttotal: 24.5s\tremaining: 15.8s\n",
      "243:\tlearn: 1724.1750053\ttotal: 24.6s\tremaining: 15.7s\n",
      "244:\tlearn: 1723.9008307\ttotal: 24.7s\tremaining: 15.6s\n",
      "245:\tlearn: 1723.4656088\ttotal: 24.8s\tremaining: 15.5s\n",
      "246:\tlearn: 1722.7492841\ttotal: 24.9s\tremaining: 15.4s\n",
      "247:\tlearn: 1722.6495916\ttotal: 25s\tremaining: 15.3s\n",
      "248:\tlearn: 1722.4563489\ttotal: 25s\tremaining: 15.2s\n",
      "249:\tlearn: 1722.2479267\ttotal: 25.2s\tremaining: 15.1s\n",
      "250:\tlearn: 1721.9607572\ttotal: 25.3s\tremaining: 15s\n",
      "251:\tlearn: 1721.4875143\ttotal: 25.4s\tremaining: 14.9s\n",
      "252:\tlearn: 1721.3695103\ttotal: 25.5s\tremaining: 14.8s\n",
      "253:\tlearn: 1721.0682114\ttotal: 25.6s\tremaining: 14.7s\n",
      "254:\tlearn: 1720.8108980\ttotal: 25.6s\tremaining: 14.6s\n",
      "255:\tlearn: 1720.6692949\ttotal: 25.8s\tremaining: 14.5s\n",
      "256:\tlearn: 1720.4537936\ttotal: 25.9s\tremaining: 14.4s\n",
      "257:\tlearn: 1720.2973372\ttotal: 26s\tremaining: 14.3s\n",
      "258:\tlearn: 1719.9287671\ttotal: 26.1s\tremaining: 14.2s\n",
      "259:\tlearn: 1719.6028982\ttotal: 26.2s\tremaining: 14.1s\n",
      "260:\tlearn: 1719.3035537\ttotal: 26.3s\tremaining: 14s\n",
      "261:\tlearn: 1718.9779307\ttotal: 26.4s\tremaining: 13.9s\n",
      "262:\tlearn: 1718.8458152\ttotal: 26.5s\tremaining: 13.8s\n",
      "263:\tlearn: 1718.5430523\ttotal: 26.6s\tremaining: 13.7s\n",
      "264:\tlearn: 1718.1848739\ttotal: 26.7s\tremaining: 13.6s\n",
      "265:\tlearn: 1717.6799773\ttotal: 26.8s\tremaining: 13.5s\n",
      "266:\tlearn: 1717.5097975\ttotal: 26.9s\tremaining: 13.4s\n",
      "267:\tlearn: 1717.2436385\ttotal: 27s\tremaining: 13.3s\n",
      "268:\tlearn: 1716.9938678\ttotal: 27.1s\tremaining: 13.2s\n",
      "269:\tlearn: 1716.7554607\ttotal: 27.2s\tremaining: 13.1s\n",
      "270:\tlearn: 1716.6251934\ttotal: 27.3s\tremaining: 13s\n",
      "271:\tlearn: 1716.4096150\ttotal: 27.4s\tremaining: 12.9s\n",
      "272:\tlearn: 1715.9429072\ttotal: 27.5s\tremaining: 12.8s\n",
      "273:\tlearn: 1715.6207135\ttotal: 27.6s\tremaining: 12.7s\n",
      "274:\tlearn: 1715.3661173\ttotal: 27.7s\tremaining: 12.6s\n",
      "275:\tlearn: 1714.7807315\ttotal: 27.8s\tremaining: 12.5s\n",
      "276:\tlearn: 1714.5152144\ttotal: 27.9s\tremaining: 12.4s\n",
      "277:\tlearn: 1713.9817692\ttotal: 28s\tremaining: 12.3s\n",
      "278:\tlearn: 1713.5262982\ttotal: 28.1s\tremaining: 12.2s\n",
      "279:\tlearn: 1713.3153636\ttotal: 28.2s\tremaining: 12.1s\n",
      "280:\tlearn: 1713.0828087\ttotal: 28.3s\tremaining: 12s\n",
      "281:\tlearn: 1712.8733136\ttotal: 28.4s\tremaining: 11.9s\n",
      "282:\tlearn: 1712.8427123\ttotal: 28.5s\tremaining: 11.8s\n",
      "283:\tlearn: 1712.5728862\ttotal: 28.6s\tremaining: 11.7s\n",
      "284:\tlearn: 1712.2590879\ttotal: 28.7s\tremaining: 11.6s\n",
      "285:\tlearn: 1711.8912947\ttotal: 28.8s\tremaining: 11.5s\n",
      "286:\tlearn: 1711.4799211\ttotal: 28.9s\tremaining: 11.4s\n",
      "287:\tlearn: 1711.2399467\ttotal: 29s\tremaining: 11.3s\n",
      "288:\tlearn: 1710.9601561\ttotal: 29.1s\tremaining: 11.2s\n",
      "289:\tlearn: 1710.7605328\ttotal: 29.2s\tremaining: 11.1s\n",
      "290:\tlearn: 1710.2772061\ttotal: 29.3s\tremaining: 11s\n",
      "291:\tlearn: 1710.0607256\ttotal: 29.4s\tremaining: 10.9s\n",
      "292:\tlearn: 1709.7469681\ttotal: 29.5s\tremaining: 10.8s\n",
      "293:\tlearn: 1709.7179340\ttotal: 29.5s\tremaining: 10.6s\n",
      "294:\tlearn: 1709.3576895\ttotal: 29.6s\tremaining: 10.5s\n",
      "295:\tlearn: 1708.9587384\ttotal: 29.7s\tremaining: 10.4s\n",
      "296:\tlearn: 1708.4499691\ttotal: 29.8s\tremaining: 10.3s\n",
      "297:\tlearn: 1707.9450528\ttotal: 29.9s\tremaining: 10.2s\n",
      "298:\tlearn: 1707.6500346\ttotal: 30s\tremaining: 10.1s\n",
      "299:\tlearn: 1707.4899087\ttotal: 30.1s\tremaining: 10s\n",
      "300:\tlearn: 1707.4210117\ttotal: 30.2s\tremaining: 9.94s\n",
      "301:\tlearn: 1707.3054130\ttotal: 30.3s\tremaining: 9.84s\n",
      "302:\tlearn: 1707.1267786\ttotal: 30.4s\tremaining: 9.74s\n",
      "303:\tlearn: 1707.0479603\ttotal: 30.5s\tremaining: 9.65s\n",
      "304:\tlearn: 1706.7332889\ttotal: 30.7s\tremaining: 9.55s\n",
      "305:\tlearn: 1706.3073840\ttotal: 30.7s\tremaining: 9.45s\n",
      "306:\tlearn: 1706.2932346\ttotal: 30.8s\tremaining: 9.33s\n",
      "307:\tlearn: 1706.0775170\ttotal: 30.9s\tremaining: 9.23s\n",
      "308:\tlearn: 1705.6746191\ttotal: 31s\tremaining: 9.13s\n",
      "309:\tlearn: 1705.4427480\ttotal: 31.1s\tremaining: 9.02s\n",
      "310:\tlearn: 1705.1408302\ttotal: 31.2s\tremaining: 8.92s\n",
      "311:\tlearn: 1704.8027122\ttotal: 31.3s\tremaining: 8.82s\n",
      "312:\tlearn: 1704.6861192\ttotal: 31.4s\tremaining: 8.73s\n",
      "313:\tlearn: 1704.4662644\ttotal: 31.5s\tremaining: 8.63s\n",
      "314:\tlearn: 1704.4067963\ttotal: 31.6s\tremaining: 8.53s\n",
      "315:\tlearn: 1703.9184637\ttotal: 31.7s\tremaining: 8.42s\n",
      "316:\tlearn: 1703.7126570\ttotal: 31.8s\tremaining: 8.34s\n",
      "317:\tlearn: 1703.5314579\ttotal: 32s\tremaining: 8.24s\n",
      "318:\tlearn: 1703.4516323\ttotal: 32.1s\tremaining: 8.14s\n",
      "319:\tlearn: 1703.3047296\ttotal: 32.2s\tremaining: 8.05s\n",
      "320:\tlearn: 1703.0433183\ttotal: 32.4s\tremaining: 7.96s\n",
      "321:\tlearn: 1702.7523106\ttotal: 32.5s\tremaining: 7.86s\n",
      "322:\tlearn: 1702.3112206\ttotal: 32.6s\tremaining: 7.77s\n",
      "323:\tlearn: 1701.9078640\ttotal: 32.7s\tremaining: 7.67s\n",
      "324:\tlearn: 1701.6417548\ttotal: 32.8s\tremaining: 7.57s\n",
      "325:\tlearn: 1701.3543410\ttotal: 32.9s\tremaining: 7.47s\n",
      "326:\tlearn: 1701.1382760\ttotal: 33s\tremaining: 7.37s\n",
      "327:\tlearn: 1700.6586088\ttotal: 33.1s\tremaining: 7.27s\n",
      "328:\tlearn: 1700.4342768\ttotal: 33.2s\tremaining: 7.17s\n",
      "329:\tlearn: 1700.3609243\ttotal: 33.4s\tremaining: 7.07s\n",
      "330:\tlearn: 1700.1741473\ttotal: 33.4s\tremaining: 6.97s\n",
      "331:\tlearn: 1700.0878466\ttotal: 33.5s\tremaining: 6.86s\n",
      "332:\tlearn: 1700.0252121\ttotal: 33.6s\tremaining: 6.75s\n",
      "333:\tlearn: 1699.6380667\ttotal: 33.7s\tremaining: 6.66s\n",
      "334:\tlearn: 1699.4906924\ttotal: 33.8s\tremaining: 6.56s\n",
      "335:\tlearn: 1699.3650195\ttotal: 33.9s\tremaining: 6.46s\n",
      "336:\tlearn: 1699.1055934\ttotal: 34s\tremaining: 6.36s\n",
      "337:\tlearn: 1698.9483399\ttotal: 34.2s\tremaining: 6.27s\n",
      "338:\tlearn: 1698.6487232\ttotal: 34.3s\tremaining: 6.17s\n",
      "339:\tlearn: 1698.4646078\ttotal: 34.4s\tremaining: 6.07s\n",
      "340:\tlearn: 1698.2663605\ttotal: 34.5s\tremaining: 5.97s\n",
      "341:\tlearn: 1698.0514824\ttotal: 34.6s\tremaining: 5.87s\n",
      "342:\tlearn: 1697.6808086\ttotal: 34.7s\tremaining: 5.77s\n",
      "343:\tlearn: 1697.5219316\ttotal: 34.8s\tremaining: 5.67s\n",
      "344:\tlearn: 1697.4214783\ttotal: 34.9s\tremaining: 5.57s\n",
      "345:\tlearn: 1697.1732912\ttotal: 35s\tremaining: 5.46s\n",
      "346:\tlearn: 1697.0884977\ttotal: 35.1s\tremaining: 5.36s\n",
      "347:\tlearn: 1696.8947353\ttotal: 35.2s\tremaining: 5.26s\n",
      "348:\tlearn: 1696.5438673\ttotal: 35.4s\tremaining: 5.17s\n",
      "349:\tlearn: 1696.4426045\ttotal: 35.4s\tremaining: 5.06s\n",
      "350:\tlearn: 1696.2711390\ttotal: 35.6s\tremaining: 4.97s\n",
      "351:\tlearn: 1696.0717750\ttotal: 35.7s\tremaining: 4.87s\n",
      "352:\tlearn: 1696.0129699\ttotal: 35.8s\tremaining: 4.76s\n",
      "353:\tlearn: 1695.9006586\ttotal: 35.9s\tremaining: 4.66s\n",
      "354:\tlearn: 1695.7574841\ttotal: 35.9s\tremaining: 4.56s\n",
      "355:\tlearn: 1695.5755771\ttotal: 36s\tremaining: 4.45s\n",
      "356:\tlearn: 1695.4453436\ttotal: 36.1s\tremaining: 4.35s\n",
      "357:\tlearn: 1695.2166446\ttotal: 36.2s\tremaining: 4.25s\n",
      "358:\tlearn: 1695.0950789\ttotal: 36.3s\tremaining: 4.15s\n",
      "359:\tlearn: 1694.8391596\ttotal: 36.4s\tremaining: 4.05s\n",
      "360:\tlearn: 1694.8025004\ttotal: 36.6s\tremaining: 3.95s\n",
      "361:\tlearn: 1694.5476629\ttotal: 36.7s\tremaining: 3.85s\n",
      "362:\tlearn: 1694.2103829\ttotal: 36.8s\tremaining: 3.75s\n",
      "363:\tlearn: 1693.9442067\ttotal: 36.9s\tremaining: 3.65s\n",
      "364:\tlearn: 1693.6393183\ttotal: 37s\tremaining: 3.55s\n",
      "365:\tlearn: 1693.4052840\ttotal: 37.1s\tremaining: 3.45s\n",
      "366:\tlearn: 1693.3265132\ttotal: 37.2s\tremaining: 3.35s\n",
      "367:\tlearn: 1692.9090876\ttotal: 37.4s\tremaining: 3.25s\n",
      "368:\tlearn: 1692.6009882\ttotal: 37.5s\tremaining: 3.15s\n",
      "369:\tlearn: 1692.3148782\ttotal: 37.5s\tremaining: 3.04s\n",
      "370:\tlearn: 1692.1281555\ttotal: 37.6s\tremaining: 2.94s\n",
      "371:\tlearn: 1692.0278184\ttotal: 37.7s\tremaining: 2.84s\n",
      "372:\tlearn: 1691.5034073\ttotal: 37.8s\tremaining: 2.74s\n",
      "373:\tlearn: 1691.3390999\ttotal: 37.9s\tremaining: 2.64s\n",
      "374:\tlearn: 1691.1912610\ttotal: 38s\tremaining: 2.53s\n",
      "375:\tlearn: 1691.1058277\ttotal: 38.1s\tremaining: 2.43s\n",
      "376:\tlearn: 1690.9155490\ttotal: 38.3s\tremaining: 2.33s\n",
      "377:\tlearn: 1690.5547622\ttotal: 38.4s\tremaining: 2.23s\n",
      "378:\tlearn: 1690.5337144\ttotal: 38.5s\tremaining: 2.13s\n",
      "379:\tlearn: 1690.3874779\ttotal: 38.6s\tremaining: 2.03s\n",
      "380:\tlearn: 1690.2791666\ttotal: 38.7s\tremaining: 1.93s\n",
      "381:\tlearn: 1690.1995195\ttotal: 38.8s\tremaining: 1.83s\n",
      "382:\tlearn: 1690.1486470\ttotal: 38.9s\tremaining: 1.73s\n",
      "383:\tlearn: 1690.0671571\ttotal: 38.9s\tremaining: 1.62s\n",
      "384:\tlearn: 1689.7631936\ttotal: 39.1s\tremaining: 1.52s\n",
      "385:\tlearn: 1689.6583602\ttotal: 39.2s\tremaining: 1.42s\n",
      "386:\tlearn: 1689.2256394\ttotal: 39.3s\tremaining: 1.32s\n",
      "387:\tlearn: 1689.0607955\ttotal: 39.4s\tremaining: 1.22s\n",
      "388:\tlearn: 1688.8374472\ttotal: 39.5s\tremaining: 1.12s\n",
      "389:\tlearn: 1688.6908731\ttotal: 39.6s\tremaining: 1.01s\n",
      "390:\tlearn: 1688.5944438\ttotal: 39.7s\tremaining: 914ms\n",
      "391:\tlearn: 1688.3775454\ttotal: 39.8s\tremaining: 812ms\n",
      "392:\tlearn: 1688.2029435\ttotal: 39.9s\tremaining: 711ms\n",
      "393:\tlearn: 1688.1284570\ttotal: 40s\tremaining: 609ms\n",
      "394:\tlearn: 1687.9767140\ttotal: 40.1s\tremaining: 507ms\n",
      "395:\tlearn: 1687.7395418\ttotal: 40.2s\tremaining: 406ms\n",
      "396:\tlearn: 1687.5108458\ttotal: 40.3s\tremaining: 305ms\n",
      "397:\tlearn: 1687.5021045\ttotal: 40.4s\tremaining: 203ms\n",
      "398:\tlearn: 1687.4362568\ttotal: 40.5s\tremaining: 102ms\n",
      "399:\tlearn: 1687.2170060\ttotal: 40.7s\tremaining: 0us\n",
      "Wall time: 41.1 s\n"
     ]
    },
    {
     "data": {
      "text/plain": [
       "<catboost.core.CatBoostRegressor at 0x22c142c6190>"
      ]
     },
     "execution_count": 80,
     "metadata": {},
     "output_type": "execute_result"
    }
   ],
   "source": [
    "%%time\n",
    "catboost_model.fit(features_train, target_train)"
   ]
  },
  {
   "cell_type": "code",
   "execution_count": 81,
   "metadata": {},
   "outputs": [
    {
     "name": "stdout",
     "output_type": "stream",
     "text": [
      "Wall time: 74.7 ms\n"
     ]
    }
   ],
   "source": [
    "%%time\n",
    "predicted_catboost = catboost_model.predict(features_valid)"
   ]
  },
  {
   "cell_type": "code",
   "execution_count": 82,
   "metadata": {
    "scrolled": true
   },
   "outputs": [
    {
     "name": "stdout",
     "output_type": "stream",
     "text": [
      "RMSE: 1719.591210142019\n"
     ]
    }
   ],
   "source": [
    "print('RMSE:', np.sqrt(mean_squared_error(target_valid, predicted_catboost)))"
   ]
  },
  {
   "cell_type": "markdown",
   "metadata": {},
   "source": [
    "**Общая сводка по моделям:** \n",
    "\n",
    "1. LGBMRegressor:\n",
    "- Время обучения: 1.28 s\n",
    "- Время предсказания: 233 ms\n",
    "- RMSE: 1644.22\n",
    "\n",
    "2. RandomForestRegressor:\n",
    "- Время обучения: 1min 36s\n",
    "- Время предсказания: 2.38 s\n",
    "- RMSE: 2100.54\n",
    "\n",
    "3. CatBoostRegressor:\n",
    "- Время обучения: 41.1 s\n",
    "- Время предсказания: 74.7 ms\n",
    "- RMSE: 1719.59\n",
    "\n",
    "**Вывод:** лучшая модель - LGBMRegressor. Она очень быстрая и показала лучший результат RMSE."
   ]
  },
  {
   "cell_type": "markdown",
   "metadata": {},
   "source": [
    "## Тест лучшей модели"
   ]
  },
  {
   "cell_type": "code",
   "execution_count": 83,
   "metadata": {},
   "outputs": [],
   "source": [
    "#меняю тип данных для категорий, чтобы модель использовала внутреннюю кодировку. categorical_columns уже есть в коде\n",
    "for feature in categorical_columns:\n",
    "    features_test[feature] = pd.Series(features_test[feature], dtype=\"category\")"
   ]
  },
  {
   "cell_type": "code",
   "execution_count": 87,
   "metadata": {},
   "outputs": [
    {
     "name": "stderr",
     "output_type": "stream",
     "text": [
      "D:\\Anaconda_new\\lib\\site-packages\\lightgbm\\basic.py:2065: UserWarning: Using categorical_feature in Dataset.\n",
      "  _log_warning('Using categorical_feature in Dataset.')\n"
     ]
    },
    {
     "name": "stdout",
     "output_type": "stream",
     "text": [
      "[LightGBM] [Warning] Auto-choosing row-wise multi-threading, the overhead of testing was 0.004668 seconds.\n",
      "You can set `force_row_wise=true` to remove the overhead.\n",
      "And if memory is not enough, you can set `force_col_wise=true`.\n",
      "[LightGBM] [Info] Total Bins 614\n",
      "[LightGBM] [Info] Number of data points in the train set: 181833, number of used features: 9\n",
      "[LightGBM] [Info] Start training from score 4552.992664\n",
      "RMSE на тесте: 1637.5110581026127\n"
     ]
    }
   ],
   "source": [
    "# Создание объекта Dataset\n",
    "train_data = lgb.Dataset(features_train, label=target_train, categorical_feature=categorical_columns)\n",
    "\n",
    "# Обучение модели\n",
    "lgbm_model = lgb.train({'boosting_type': 'gbdt', \n",
    "                        'objective': 'regression', \n",
    "                        'seed': 123, \n",
    "                        'learning_rate': 0.1}, \n",
    "                        train_data, \n",
    "                        num_boost_round=500)\n",
    "\n",
    "predicted = model.predict(features_test)\n",
    "print('RMSE на тесте:', np.sqrt(mean_squared_error(target_test, predicted)))"
   ]
  },
  {
   "cell_type": "markdown",
   "metadata": {},
   "source": [
    "Создам константную модель, чтобы проверить адекватность модели:"
   ]
  },
  {
   "cell_type": "code",
   "execution_count": 88,
   "metadata": {},
   "outputs": [
    {
     "name": "stdout",
     "output_type": "stream",
     "text": [
      "RMSE Dummy: 4793.908160022894\n"
     ]
    }
   ],
   "source": [
    "dummy = DummyRegressor(strategy='median')\n",
    "\n",
    "dummy.fit(features_train, target_train)\n",
    "\n",
    "dummy_predicted = dummy.predict(features_test)\n",
    "\n",
    "print('RMSE Dummy:', np.sqrt(mean_squared_error(target_test, dummy_predicted)))"
   ]
  },
  {
   "cell_type": "markdown",
   "metadata": {},
   "source": [
    "**Вывод:** Результат модели намного лучше, чем у константной. Тестирование проведено успешно."
   ]
  },
  {
   "cell_type": "markdown",
   "metadata": {},
   "source": [
    "## Общий вывод\n",
    "\n",
    "1. Данные были изучены и оценены.\n",
    "2. Была проведена предобработка: почищены пропуски, дубли. Удалены аномалии и некоторые колонки.\n",
    "3. Проверено и обучено на тренировочной выборке 3 вида моделей: RandomForestRegressor, LGBMRegressor, CatBoostRegressor.\n",
    "4. По результатам отбора лучшая модель - LGBMRegressor.\n",
    "5. Проведено тестирование лучшей модели с параметрами: n_estimators=500, learning_rate=0.1. Итоговый показатель RMSE - 1637.51.\n",
    "6. Также создана константная модель с помощью DummyRegressor. Итоговый показатель RMSE - 4793.90.\n",
    "\n",
    "**Тестирование проведено успешно, так как показатель RMSE у модели на тесте меньше, чем у константной модели.**\n",
    "\n",
    "**Выбранная модель - LGBMRegressor**"
   ]
  }
 ],
 "metadata": {
  "ExecuteTimeLog": [
   {
    "duration": 394,
    "start_time": "2023-06-08T18:31:49.703Z"
   },
   {
    "duration": 2642,
    "start_time": "2023-06-08T18:33:07.447Z"
   },
   {
    "duration": 668,
    "start_time": "2023-06-08T18:34:56.853Z"
   },
   {
    "duration": 16,
    "start_time": "2023-06-08T18:35:14.625Z"
   },
   {
    "duration": 92,
    "start_time": "2023-06-08T18:35:57.487Z"
   },
   {
    "duration": 374,
    "start_time": "2023-06-08T18:47:23.204Z"
   },
   {
    "duration": 26,
    "start_time": "2023-06-08T18:47:52.953Z"
   },
   {
    "duration": 178,
    "start_time": "2023-06-08T18:49:49.372Z"
   },
   {
    "duration": 142,
    "start_time": "2023-06-08T18:50:03.885Z"
   },
   {
    "duration": 123,
    "start_time": "2023-06-08T18:50:52.073Z"
   },
   {
    "duration": 178,
    "start_time": "2023-06-08T18:52:19.223Z"
   },
   {
    "duration": 131,
    "start_time": "2023-06-08T18:52:40.143Z"
   },
   {
    "duration": 110,
    "start_time": "2023-06-08T18:52:58.744Z"
   },
   {
    "duration": 129,
    "start_time": "2023-06-08T18:53:16.053Z"
   },
   {
    "duration": 136,
    "start_time": "2023-06-08T18:53:21.813Z"
   },
   {
    "duration": 132,
    "start_time": "2023-06-08T18:53:30.204Z"
   },
   {
    "duration": 133,
    "start_time": "2023-06-08T18:53:36.179Z"
   },
   {
    "duration": 136,
    "start_time": "2023-06-08T18:53:41.563Z"
   },
   {
    "duration": 140,
    "start_time": "2023-06-08T18:54:03.853Z"
   },
   {
    "duration": 7,
    "start_time": "2023-06-08T18:54:25.493Z"
   },
   {
    "duration": 27,
    "start_time": "2023-06-08T18:55:38.992Z"
   },
   {
    "duration": 134,
    "start_time": "2023-06-08T18:56:06.782Z"
   },
   {
    "duration": 133,
    "start_time": "2023-06-08T18:56:24.222Z"
   },
   {
    "duration": 191,
    "start_time": "2023-06-08T18:56:30.343Z"
   },
   {
    "duration": 157,
    "start_time": "2023-06-08T18:56:42.294Z"
   },
   {
    "duration": 122,
    "start_time": "2023-06-08T18:57:19.643Z"
   },
   {
    "duration": 112,
    "start_time": "2023-06-08T18:57:23.282Z"
   },
   {
    "duration": 118,
    "start_time": "2023-06-08T18:57:27.202Z"
   },
   {
    "duration": 131,
    "start_time": "2023-06-08T18:57:30.265Z"
   },
   {
    "duration": 117,
    "start_time": "2023-06-08T18:57:33.987Z"
   },
   {
    "duration": 128,
    "start_time": "2023-06-08T18:57:39.253Z"
   },
   {
    "duration": 126,
    "start_time": "2023-06-08T18:57:47.841Z"
   },
   {
    "duration": 133,
    "start_time": "2023-06-08T18:57:58.234Z"
   },
   {
    "duration": 8,
    "start_time": "2023-06-08T18:58:15.642Z"
   },
   {
    "duration": 12,
    "start_time": "2023-06-08T18:58:32.402Z"
   },
   {
    "duration": 9,
    "start_time": "2023-06-08T18:58:45.416Z"
   },
   {
    "duration": 339,
    "start_time": "2023-06-08T18:59:52.892Z"
   },
   {
    "duration": 188,
    "start_time": "2023-06-08T18:59:57.822Z"
   },
   {
    "duration": 193,
    "start_time": "2023-06-08T19:00:02.742Z"
   },
   {
    "duration": 138,
    "start_time": "2023-06-08T19:00:06.856Z"
   },
   {
    "duration": 169,
    "start_time": "2023-06-08T19:00:45.853Z"
   },
   {
    "duration": 140,
    "start_time": "2023-06-08T19:01:11.983Z"
   },
   {
    "duration": 128,
    "start_time": "2023-06-08T19:01:16.322Z"
   },
   {
    "duration": 130,
    "start_time": "2023-06-08T19:01:19.023Z"
   },
   {
    "duration": 135,
    "start_time": "2023-06-08T19:01:23.142Z"
   },
   {
    "duration": 161,
    "start_time": "2023-06-08T19:01:27.193Z"
   },
   {
    "duration": 276,
    "start_time": "2023-06-08T19:01:31.492Z"
   },
   {
    "duration": 249,
    "start_time": "2023-06-08T19:01:49.692Z"
   },
   {
    "duration": 222,
    "start_time": "2023-06-08T19:02:14.302Z"
   },
   {
    "duration": 205,
    "start_time": "2023-06-08T19:02:29.513Z"
   },
   {
    "duration": 28,
    "start_time": "2023-06-08T19:04:22.192Z"
   },
   {
    "duration": 223,
    "start_time": "2023-06-08T19:05:34.173Z"
   },
   {
    "duration": 326,
    "start_time": "2023-06-08T19:05:49.522Z"
   },
   {
    "duration": 171,
    "start_time": "2023-06-08T19:06:07.202Z"
   },
   {
    "duration": 165,
    "start_time": "2023-06-08T19:06:30.292Z"
   },
   {
    "duration": 185,
    "start_time": "2023-06-08T19:06:46.132Z"
   },
   {
    "duration": 179,
    "start_time": "2023-06-08T19:06:50.252Z"
   },
   {
    "duration": 161,
    "start_time": "2023-06-08T19:06:56.253Z"
   },
   {
    "duration": 149,
    "start_time": "2023-06-08T19:07:01.743Z"
   },
   {
    "duration": 173,
    "start_time": "2023-06-08T19:07:07.913Z"
   },
   {
    "duration": 152,
    "start_time": "2023-06-08T19:07:15.182Z"
   },
   {
    "duration": 129,
    "start_time": "2023-06-08T19:07:19.452Z"
   },
   {
    "duration": 215,
    "start_time": "2023-06-08T19:08:24.162Z"
   },
   {
    "duration": 126,
    "start_time": "2023-06-08T19:08:30.968Z"
   },
   {
    "duration": 158,
    "start_time": "2023-06-08T19:08:42.592Z"
   },
   {
    "duration": 120,
    "start_time": "2023-06-08T19:08:46.212Z"
   },
   {
    "duration": 27,
    "start_time": "2023-06-08T19:09:08.262Z"
   },
   {
    "duration": 26,
    "start_time": "2023-06-08T19:09:43.292Z"
   },
   {
    "duration": 29,
    "start_time": "2023-06-08T19:10:44.522Z"
   },
   {
    "duration": 12,
    "start_time": "2023-06-08T19:11:35.372Z"
   },
   {
    "duration": 331,
    "start_time": "2023-06-08T19:13:54.402Z"
   },
   {
    "duration": 208,
    "start_time": "2023-06-08T19:13:59.692Z"
   },
   {
    "duration": 215,
    "start_time": "2023-06-08T19:14:05.541Z"
   },
   {
    "duration": 101,
    "start_time": "2023-06-08T19:17:31.262Z"
   },
   {
    "duration": 477,
    "start_time": "2023-06-08T19:18:01.591Z"
   },
   {
    "duration": 73,
    "start_time": "2023-06-08T19:26:39.911Z"
   },
   {
    "duration": 52,
    "start_time": "2023-06-08T19:26:50.852Z"
   },
   {
    "duration": 84,
    "start_time": "2023-06-08T19:26:58.851Z"
   },
   {
    "duration": 1019,
    "start_time": "2023-06-08T19:32:19.461Z"
   },
   {
    "duration": 13,
    "start_time": "2023-06-08T19:32:35.101Z"
   },
   {
    "duration": 13,
    "start_time": "2023-06-08T19:33:13.036Z"
   },
   {
    "duration": 14,
    "start_time": "2023-06-08T19:33:40.211Z"
   },
   {
    "duration": 24,
    "start_time": "2023-06-08T19:33:58.391Z"
   },
   {
    "duration": 87,
    "start_time": "2023-06-08T19:34:00.461Z"
   },
   {
    "duration": 116,
    "start_time": "2023-06-08T19:34:06.831Z"
   },
   {
    "duration": 1606,
    "start_time": "2023-06-08T19:35:34.801Z"
   },
   {
    "duration": 1632,
    "start_time": "2023-06-08T19:35:40.611Z"
   },
   {
    "duration": 13,
    "start_time": "2023-06-08T19:36:14.882Z"
   },
   {
    "duration": 1521,
    "start_time": "2023-06-08T19:36:20.081Z"
   },
   {
    "duration": 509,
    "start_time": "2023-06-08T19:37:04.672Z"
   },
   {
    "duration": 547,
    "start_time": "2023-06-08T19:38:17.461Z"
   },
   {
    "duration": 558,
    "start_time": "2023-06-08T19:42:22.551Z"
   },
   {
    "duration": 585,
    "start_time": "2023-06-08T19:43:27.291Z"
   },
   {
    "duration": 109,
    "start_time": "2023-06-08T19:43:31.651Z"
   },
   {
    "duration": 561,
    "start_time": "2023-06-08T19:43:35.842Z"
   },
   {
    "duration": 678,
    "start_time": "2023-06-08T19:43:42.324Z"
   },
   {
    "duration": 647,
    "start_time": "2023-06-08T19:44:00.501Z"
   },
   {
    "duration": 597,
    "start_time": "2023-06-08T19:44:55.851Z"
   },
   {
    "duration": 496,
    "start_time": "2023-06-08T19:45:05.640Z"
   },
   {
    "duration": 517,
    "start_time": "2023-06-08T19:45:15.491Z"
   },
   {
    "duration": 589,
    "start_time": "2023-06-08T19:45:46.070Z"
   },
   {
    "duration": 695,
    "start_time": "2023-06-08T19:46:01.161Z"
   },
   {
    "duration": 634,
    "start_time": "2023-06-08T19:46:05.581Z"
   },
   {
    "duration": 632,
    "start_time": "2023-06-08T19:46:13.742Z"
   },
   {
    "duration": 646,
    "start_time": "2023-06-08T19:46:20.271Z"
   },
   {
    "duration": 666,
    "start_time": "2023-06-08T19:46:26.151Z"
   },
   {
    "duration": 700,
    "start_time": "2023-06-08T19:46:34.821Z"
   },
   {
    "duration": 667,
    "start_time": "2023-06-08T19:46:47.850Z"
   },
   {
    "duration": 195,
    "start_time": "2023-06-08T19:49:18.542Z"
   },
   {
    "duration": 197,
    "start_time": "2023-06-08T19:49:26.461Z"
   },
   {
    "duration": 201,
    "start_time": "2023-06-08T19:50:08.621Z"
   },
   {
    "duration": 191,
    "start_time": "2023-06-08T19:50:16.300Z"
   },
   {
    "duration": 279,
    "start_time": "2023-06-08T19:50:23.111Z"
   },
   {
    "duration": 143,
    "start_time": "2023-06-08T19:50:28.310Z"
   },
   {
    "duration": 106,
    "start_time": "2023-06-08T19:50:36.411Z"
   },
   {
    "duration": 129,
    "start_time": "2023-06-08T19:50:55.561Z"
   },
   {
    "duration": 133,
    "start_time": "2023-06-08T19:51:28.590Z"
   },
   {
    "duration": 127,
    "start_time": "2023-06-08T19:51:35.720Z"
   },
   {
    "duration": 131,
    "start_time": "2023-06-08T19:51:42.071Z"
   },
   {
    "duration": 125,
    "start_time": "2023-06-08T19:54:16.060Z"
   },
   {
    "duration": 170,
    "start_time": "2023-06-08T19:54:22.491Z"
   },
   {
    "duration": 148,
    "start_time": "2023-06-08T19:54:49.850Z"
   },
   {
    "duration": 27,
    "start_time": "2023-06-08T19:55:30.350Z"
   },
   {
    "duration": 134,
    "start_time": "2023-06-08T19:56:51.040Z"
   },
   {
    "duration": 124,
    "start_time": "2023-06-08T19:56:58.980Z"
   },
   {
    "duration": 130,
    "start_time": "2023-06-08T19:57:08.612Z"
   },
   {
    "duration": 168,
    "start_time": "2023-06-08T19:57:22.450Z"
   },
   {
    "duration": 166,
    "start_time": "2023-06-08T19:57:44.681Z"
   },
   {
    "duration": 14,
    "start_time": "2023-06-08T19:58:17.600Z"
   },
   {
    "duration": 17,
    "start_time": "2023-06-08T19:58:47.271Z"
   },
   {
    "duration": 10,
    "start_time": "2023-06-08T19:59:06.542Z"
   },
   {
    "duration": 17,
    "start_time": "2023-06-08T19:59:14.369Z"
   },
   {
    "duration": 261,
    "start_time": "2023-06-08T20:00:13.613Z"
   },
   {
    "duration": 162,
    "start_time": "2023-06-08T20:00:19.680Z"
   },
   {
    "duration": 118,
    "start_time": "2023-06-08T20:00:27.023Z"
   },
   {
    "duration": 158,
    "start_time": "2023-06-08T20:00:31.070Z"
   },
   {
    "duration": 9,
    "start_time": "2023-06-08T20:01:02.121Z"
   },
   {
    "duration": 16,
    "start_time": "2023-06-08T20:01:12.180Z"
   },
   {
    "duration": 32,
    "start_time": "2023-06-08T20:02:40.490Z"
   },
   {
    "duration": 19,
    "start_time": "2023-06-08T20:02:49.118Z"
   },
   {
    "duration": 136,
    "start_time": "2023-06-08T20:02:59.790Z"
   },
   {
    "duration": 129,
    "start_time": "2023-06-08T20:03:09.069Z"
   },
   {
    "duration": 144,
    "start_time": "2023-06-08T20:04:03.760Z"
   },
   {
    "duration": 141,
    "start_time": "2023-06-08T20:04:13.773Z"
   },
   {
    "duration": 116,
    "start_time": "2023-06-08T20:04:21.619Z"
   },
   {
    "duration": 20,
    "start_time": "2023-06-08T20:04:46.960Z"
   },
   {
    "duration": 110,
    "start_time": "2023-06-08T20:06:08.350Z"
   },
   {
    "duration": 213,
    "start_time": "2023-06-08T20:06:24.042Z"
   },
   {
    "duration": 183,
    "start_time": "2023-06-08T20:06:35.980Z"
   },
   {
    "duration": 49,
    "start_time": "2023-06-08T20:07:02.480Z"
   },
   {
    "duration": 116,
    "start_time": "2023-06-08T20:09:03.649Z"
   },
   {
    "duration": 117,
    "start_time": "2023-06-08T20:09:07.969Z"
   },
   {
    "duration": 139,
    "start_time": "2023-06-08T20:09:11.720Z"
   },
   {
    "duration": 211,
    "start_time": "2023-06-08T20:09:15.410Z"
   },
   {
    "duration": 134,
    "start_time": "2023-06-08T20:09:20.499Z"
   },
   {
    "duration": 10,
    "start_time": "2023-06-08T20:09:29.935Z"
   },
   {
    "duration": 73,
    "start_time": "2023-06-09T07:10:56.479Z"
   },
   {
    "duration": 0,
    "start_time": "2023-06-09T07:16:18.059Z"
   },
   {
    "duration": 0,
    "start_time": "2023-06-09T07:16:18.061Z"
   },
   {
    "duration": 0,
    "start_time": "2023-06-09T07:16:18.062Z"
   },
   {
    "duration": 0,
    "start_time": "2023-06-09T07:16:18.063Z"
   },
   {
    "duration": 0,
    "start_time": "2023-06-09T07:16:18.065Z"
   },
   {
    "duration": 0,
    "start_time": "2023-06-09T07:16:18.065Z"
   },
   {
    "duration": 0,
    "start_time": "2023-06-09T07:16:18.066Z"
   },
   {
    "duration": 0,
    "start_time": "2023-06-09T07:16:18.070Z"
   },
   {
    "duration": 0,
    "start_time": "2023-06-09T07:16:18.072Z"
   },
   {
    "duration": 0,
    "start_time": "2023-06-09T07:16:18.075Z"
   },
   {
    "duration": 0,
    "start_time": "2023-06-09T07:16:18.077Z"
   },
   {
    "duration": 0,
    "start_time": "2023-06-09T07:16:18.078Z"
   },
   {
    "duration": 0,
    "start_time": "2023-06-09T07:16:18.079Z"
   },
   {
    "duration": 0,
    "start_time": "2023-06-09T07:16:18.080Z"
   },
   {
    "duration": 0,
    "start_time": "2023-06-09T07:16:18.082Z"
   },
   {
    "duration": 0,
    "start_time": "2023-06-09T07:16:18.082Z"
   },
   {
    "duration": 0,
    "start_time": "2023-06-09T07:16:18.083Z"
   },
   {
    "duration": 0,
    "start_time": "2023-06-09T07:16:18.084Z"
   },
   {
    "duration": 0,
    "start_time": "2023-06-09T07:16:18.085Z"
   },
   {
    "duration": 0,
    "start_time": "2023-06-09T07:16:18.086Z"
   },
   {
    "duration": 0,
    "start_time": "2023-06-09T07:16:18.087Z"
   },
   {
    "duration": 0,
    "start_time": "2023-06-09T07:16:18.088Z"
   },
   {
    "duration": 0,
    "start_time": "2023-06-09T07:16:18.089Z"
   },
   {
    "duration": 0,
    "start_time": "2023-06-09T07:16:18.090Z"
   },
   {
    "duration": 0,
    "start_time": "2023-06-09T07:16:18.091Z"
   },
   {
    "duration": 0,
    "start_time": "2023-06-09T07:16:18.092Z"
   },
   {
    "duration": 0,
    "start_time": "2023-06-09T07:16:18.093Z"
   },
   {
    "duration": 0,
    "start_time": "2023-06-09T07:16:18.094Z"
   },
   {
    "duration": 0,
    "start_time": "2023-06-09T07:16:18.095Z"
   },
   {
    "duration": 0,
    "start_time": "2023-06-09T07:16:18.097Z"
   },
   {
    "duration": 0,
    "start_time": "2023-06-09T07:16:18.098Z"
   },
   {
    "duration": 0,
    "start_time": "2023-06-09T07:16:18.099Z"
   },
   {
    "duration": 3,
    "start_time": "2023-06-09T07:16:22.991Z"
   },
   {
    "duration": 10,
    "start_time": "2023-06-09T07:16:31.358Z"
   },
   {
    "duration": 1166,
    "start_time": "2023-06-09T07:16:31.371Z"
   },
   {
    "duration": 23,
    "start_time": "2023-06-09T07:16:32.539Z"
   },
   {
    "duration": 210,
    "start_time": "2023-06-09T07:16:32.566Z"
   },
   {
    "duration": 218,
    "start_time": "2023-06-09T07:16:32.783Z"
   },
   {
    "duration": 72,
    "start_time": "2023-06-09T07:16:33.002Z"
   },
   {
    "duration": 410,
    "start_time": "2023-06-09T07:16:33.077Z"
   },
   {
    "duration": 53,
    "start_time": "2023-06-09T07:16:33.490Z"
   },
   {
    "duration": 351,
    "start_time": "2023-06-09T07:16:33.550Z"
   },
   {
    "duration": 78,
    "start_time": "2023-06-09T07:16:33.905Z"
   },
   {
    "duration": 198,
    "start_time": "2023-06-09T07:16:33.986Z"
   },
   {
    "duration": 193,
    "start_time": "2023-06-09T07:16:34.186Z"
   },
   {
    "duration": 45,
    "start_time": "2023-06-09T07:16:34.388Z"
   },
   {
    "duration": 74,
    "start_time": "2023-06-09T07:16:34.443Z"
   },
   {
    "duration": 65,
    "start_time": "2023-06-09T07:16:34.519Z"
   },
   {
    "duration": 12,
    "start_time": "2023-06-09T07:16:34.586Z"
   },
   {
    "duration": 188,
    "start_time": "2023-06-09T07:16:34.600Z"
   },
   {
    "duration": 566,
    "start_time": "2023-06-09T07:16:34.790Z"
   },
   {
    "duration": 220,
    "start_time": "2023-06-09T07:16:35.362Z"
   },
   {
    "duration": 195,
    "start_time": "2023-06-09T07:16:35.584Z"
   },
   {
    "duration": 22,
    "start_time": "2023-06-09T07:16:35.784Z"
   },
   {
    "duration": 304,
    "start_time": "2023-06-09T07:16:35.808Z"
   },
   {
    "duration": 37,
    "start_time": "2023-06-09T07:16:36.114Z"
   },
   {
    "duration": 288,
    "start_time": "2023-06-09T07:16:36.156Z"
   },
   {
    "duration": 54,
    "start_time": "2023-06-09T07:16:36.453Z"
   },
   {
    "duration": 24,
    "start_time": "2023-06-09T07:16:36.509Z"
   },
   {
    "duration": 37,
    "start_time": "2023-06-09T07:16:36.535Z"
   },
   {
    "duration": 85,
    "start_time": "2023-06-09T07:16:36.578Z"
   },
   {
    "duration": 22,
    "start_time": "2023-06-09T07:16:36.669Z"
   },
   {
    "duration": 20,
    "start_time": "2023-06-09T07:16:36.693Z"
   },
   {
    "duration": 186,
    "start_time": "2023-06-09T07:16:36.715Z"
   },
   {
    "duration": 200,
    "start_time": "2023-06-09T07:20:52.505Z"
   },
   {
    "duration": 111,
    "start_time": "2023-06-09T07:22:24.865Z"
   },
   {
    "duration": 164,
    "start_time": "2023-06-09T07:22:48.023Z"
   },
   {
    "duration": 157,
    "start_time": "2023-06-09T07:23:13.065Z"
   },
   {
    "duration": 48,
    "start_time": "2023-06-09T07:26:32.945Z"
   },
   {
    "duration": 36,
    "start_time": "2023-06-09T07:28:50.276Z"
   },
   {
    "duration": 34,
    "start_time": "2023-06-09T07:29:12.963Z"
   },
   {
    "duration": 27,
    "start_time": "2023-06-09T07:29:17.415Z"
   },
   {
    "duration": 40,
    "start_time": "2023-06-09T07:29:26.065Z"
   },
   {
    "duration": 34,
    "start_time": "2023-06-09T07:31:00.335Z"
   },
   {
    "duration": 43,
    "start_time": "2023-06-09T07:31:24.703Z"
   },
   {
    "duration": 43,
    "start_time": "2023-06-09T07:36:51.216Z"
   },
   {
    "duration": 179,
    "start_time": "2023-06-09T07:37:40.118Z"
   },
   {
    "duration": 4,
    "start_time": "2023-06-09T07:40:17.090Z"
   },
   {
    "duration": 1496,
    "start_time": "2023-06-09T07:40:17.097Z"
   },
   {
    "duration": 27,
    "start_time": "2023-06-09T07:40:18.607Z"
   },
   {
    "duration": 348,
    "start_time": "2023-06-09T07:40:18.636Z"
   },
   {
    "duration": 346,
    "start_time": "2023-06-09T07:40:18.995Z"
   },
   {
    "duration": 80,
    "start_time": "2023-06-09T07:40:19.351Z"
   },
   {
    "duration": 493,
    "start_time": "2023-06-09T07:40:19.435Z"
   },
   {
    "duration": 82,
    "start_time": "2023-06-09T07:40:19.936Z"
   },
   {
    "duration": 519,
    "start_time": "2023-06-09T07:40:20.028Z"
   },
   {
    "duration": 81,
    "start_time": "2023-06-09T07:40:20.555Z"
   },
   {
    "duration": 306,
    "start_time": "2023-06-09T07:40:20.645Z"
   },
   {
    "duration": 318,
    "start_time": "2023-06-09T07:40:20.960Z"
   },
   {
    "duration": 73,
    "start_time": "2023-06-09T07:40:21.286Z"
   },
   {
    "duration": 88,
    "start_time": "2023-06-09T07:40:21.370Z"
   },
   {
    "duration": 62,
    "start_time": "2023-06-09T07:40:21.463Z"
   },
   {
    "duration": 21,
    "start_time": "2023-06-09T07:40:21.528Z"
   },
   {
    "duration": 262,
    "start_time": "2023-06-09T07:40:21.552Z"
   },
   {
    "duration": 833,
    "start_time": "2023-06-09T07:40:21.821Z"
   },
   {
    "duration": 348,
    "start_time": "2023-06-09T07:40:22.682Z"
   },
   {
    "duration": 326,
    "start_time": "2023-06-09T07:40:23.040Z"
   },
   {
    "duration": 19,
    "start_time": "2023-06-09T07:40:23.369Z"
   },
   {
    "duration": 515,
    "start_time": "2023-06-09T07:40:23.394Z"
   },
   {
    "duration": 24,
    "start_time": "2023-06-09T07:40:23.913Z"
   },
   {
    "duration": 419,
    "start_time": "2023-06-09T07:40:23.960Z"
   },
   {
    "duration": 40,
    "start_time": "2023-06-09T07:40:24.387Z"
   },
   {
    "duration": 34,
    "start_time": "2023-06-09T07:40:24.434Z"
   },
   {
    "duration": 114,
    "start_time": "2023-06-09T07:40:24.476Z"
   },
   {
    "duration": 84,
    "start_time": "2023-06-09T07:40:24.593Z"
   },
   {
    "duration": 3,
    "start_time": "2023-06-09T07:40:24.680Z"
   },
   {
    "duration": 30,
    "start_time": "2023-06-09T07:40:24.685Z"
   },
   {
    "duration": 31,
    "start_time": "2023-06-09T07:40:24.720Z"
   },
   {
    "duration": 32,
    "start_time": "2023-06-09T07:40:24.759Z"
   },
   {
    "duration": 20,
    "start_time": "2023-06-09T07:40:24.801Z"
   },
   {
    "duration": 212,
    "start_time": "2023-06-09T07:40:24.823Z"
   },
   {
    "duration": 4,
    "start_time": "2023-06-09T07:42:48.553Z"
   },
   {
    "duration": 1564,
    "start_time": "2023-06-09T07:42:48.560Z"
   },
   {
    "duration": 30,
    "start_time": "2023-06-09T07:42:50.145Z"
   },
   {
    "duration": 287,
    "start_time": "2023-06-09T07:42:50.179Z"
   },
   {
    "duration": 300,
    "start_time": "2023-06-09T07:42:50.469Z"
   },
   {
    "duration": 65,
    "start_time": "2023-06-09T07:42:50.776Z"
   },
   {
    "duration": 437,
    "start_time": "2023-06-09T07:42:50.843Z"
   },
   {
    "duration": 75,
    "start_time": "2023-06-09T07:42:51.282Z"
   },
   {
    "duration": 407,
    "start_time": "2023-06-09T07:42:51.364Z"
   },
   {
    "duration": 65,
    "start_time": "2023-06-09T07:42:51.777Z"
   },
   {
    "duration": 271,
    "start_time": "2023-06-09T07:42:51.846Z"
   },
   {
    "duration": 265,
    "start_time": "2023-06-09T07:42:52.124Z"
   },
   {
    "duration": 70,
    "start_time": "2023-06-09T07:42:52.397Z"
   },
   {
    "duration": 108,
    "start_time": "2023-06-09T07:42:52.469Z"
   },
   {
    "duration": 88,
    "start_time": "2023-06-09T07:42:52.579Z"
   },
   {
    "duration": 21,
    "start_time": "2023-06-09T07:42:52.672Z"
   },
   {
    "duration": 262,
    "start_time": "2023-06-09T07:42:52.695Z"
   },
   {
    "duration": 686,
    "start_time": "2023-06-09T07:42:52.964Z"
   },
   {
    "duration": 282,
    "start_time": "2023-06-09T07:42:53.658Z"
   },
   {
    "duration": 306,
    "start_time": "2023-06-09T07:42:53.943Z"
   },
   {
    "duration": 32,
    "start_time": "2023-06-09T07:42:54.257Z"
   },
   {
    "duration": 365,
    "start_time": "2023-06-09T07:42:54.298Z"
   },
   {
    "duration": 14,
    "start_time": "2023-06-09T07:42:54.667Z"
   },
   {
    "duration": 342,
    "start_time": "2023-06-09T07:42:54.693Z"
   },
   {
    "duration": 48,
    "start_time": "2023-06-09T07:42:55.037Z"
   },
   {
    "duration": 32,
    "start_time": "2023-06-09T07:42:55.090Z"
   },
   {
    "duration": 128,
    "start_time": "2023-06-09T07:42:55.124Z"
   },
   {
    "duration": 94,
    "start_time": "2023-06-09T07:42:55.258Z"
   },
   {
    "duration": 5,
    "start_time": "2023-06-09T07:42:55.360Z"
   },
   {
    "duration": 5,
    "start_time": "2023-06-09T07:42:55.373Z"
   },
   {
    "duration": 5,
    "start_time": "2023-06-09T07:42:55.386Z"
   },
   {
    "duration": 5,
    "start_time": "2023-06-09T07:42:55.399Z"
   },
   {
    "duration": 5,
    "start_time": "2023-06-09T07:42:55.412Z"
   },
   {
    "duration": 5,
    "start_time": "2023-06-09T07:43:31.911Z"
   },
   {
    "duration": 1323,
    "start_time": "2023-06-09T07:43:31.920Z"
   },
   {
    "duration": 62,
    "start_time": "2023-06-09T07:43:33.257Z"
   },
   {
    "duration": 272,
    "start_time": "2023-06-09T07:43:33.326Z"
   },
   {
    "duration": 284,
    "start_time": "2023-06-09T07:43:33.605Z"
   },
   {
    "duration": 74,
    "start_time": "2023-06-09T07:43:33.895Z"
   },
   {
    "duration": 473,
    "start_time": "2023-06-09T07:43:33.975Z"
   },
   {
    "duration": 97,
    "start_time": "2023-06-09T07:43:34.460Z"
   },
   {
    "duration": 441,
    "start_time": "2023-06-09T07:43:34.559Z"
   },
   {
    "duration": 96,
    "start_time": "2023-06-09T07:43:35.001Z"
   },
   {
    "duration": 221,
    "start_time": "2023-06-09T07:43:35.099Z"
   },
   {
    "duration": 230,
    "start_time": "2023-06-09T07:43:35.322Z"
   },
   {
    "duration": 64,
    "start_time": "2023-06-09T07:43:35.554Z"
   },
   {
    "duration": 85,
    "start_time": "2023-06-09T07:43:35.622Z"
   },
   {
    "duration": 87,
    "start_time": "2023-06-09T07:43:35.709Z"
   },
   {
    "duration": 15,
    "start_time": "2023-06-09T07:43:35.807Z"
   },
   {
    "duration": 292,
    "start_time": "2023-06-09T07:43:35.824Z"
   },
   {
    "duration": 741,
    "start_time": "2023-06-09T07:43:36.118Z"
   },
   {
    "duration": 285,
    "start_time": "2023-06-09T07:43:36.866Z"
   },
   {
    "duration": 252,
    "start_time": "2023-06-09T07:43:37.159Z"
   },
   {
    "duration": 21,
    "start_time": "2023-06-09T07:43:37.418Z"
   },
   {
    "duration": 417,
    "start_time": "2023-06-09T07:43:37.447Z"
   },
   {
    "duration": 25,
    "start_time": "2023-06-09T07:43:37.866Z"
   },
   {
    "duration": 297,
    "start_time": "2023-06-09T07:43:37.897Z"
   },
   {
    "duration": 30,
    "start_time": "2023-06-09T07:43:38.199Z"
   },
   {
    "duration": 36,
    "start_time": "2023-06-09T07:43:38.234Z"
   },
   {
    "duration": 63,
    "start_time": "2023-06-09T07:43:38.282Z"
   },
   {
    "duration": 63,
    "start_time": "2023-06-09T07:43:38.354Z"
   },
   {
    "duration": 63,
    "start_time": "2023-06-09T07:43:38.419Z"
   },
   {
    "duration": 40,
    "start_time": "2023-06-09T07:43:38.484Z"
   },
   {
    "duration": 55,
    "start_time": "2023-06-09T07:43:38.536Z"
   },
   {
    "duration": 170,
    "start_time": "2023-06-09T07:43:38.597Z"
   },
   {
    "duration": 250,
    "start_time": "2023-06-09T08:02:56.946Z"
   },
   {
    "duration": 222,
    "start_time": "2023-06-09T08:03:27.668Z"
   },
   {
    "duration": 215,
    "start_time": "2023-06-09T08:05:17.476Z"
   },
   {
    "duration": 203,
    "start_time": "2023-06-09T08:05:33.274Z"
   },
   {
    "duration": 15,
    "start_time": "2023-06-09T08:06:01.667Z"
   },
   {
    "duration": 10,
    "start_time": "2023-06-09T08:06:07.498Z"
   },
   {
    "duration": 29,
    "start_time": "2023-06-09T08:06:32.767Z"
   },
   {
    "duration": 154,
    "start_time": "2023-06-09T08:09:17.659Z"
   },
   {
    "duration": 16,
    "start_time": "2023-06-09T08:10:09.865Z"
   },
   {
    "duration": 16,
    "start_time": "2023-06-09T08:10:13.155Z"
   },
   {
    "duration": 22,
    "start_time": "2023-06-09T08:11:22.031Z"
   },
   {
    "duration": 19,
    "start_time": "2023-06-09T08:13:20.958Z"
   },
   {
    "duration": 8,
    "start_time": "2023-06-09T08:14:45.825Z"
   },
   {
    "duration": 5,
    "start_time": "2023-06-09T08:14:49.606Z"
   },
   {
    "duration": 8,
    "start_time": "2023-06-09T08:14:53.454Z"
   },
   {
    "duration": 15,
    "start_time": "2023-06-09T08:15:16.374Z"
   },
   {
    "duration": 4,
    "start_time": "2023-06-09T08:15:22.717Z"
   },
   {
    "duration": 1376,
    "start_time": "2023-06-09T08:15:22.723Z"
   },
   {
    "duration": 17,
    "start_time": "2023-06-09T08:15:24.101Z"
   },
   {
    "duration": 219,
    "start_time": "2023-06-09T08:15:24.120Z"
   },
   {
    "duration": 227,
    "start_time": "2023-06-09T08:15:24.342Z"
   },
   {
    "duration": 42,
    "start_time": "2023-06-09T08:15:24.579Z"
   },
   {
    "duration": 342,
    "start_time": "2023-06-09T08:15:24.626Z"
   },
   {
    "duration": 46,
    "start_time": "2023-06-09T08:15:24.970Z"
   },
   {
    "duration": 359,
    "start_time": "2023-06-09T08:15:25.032Z"
   },
   {
    "duration": 68,
    "start_time": "2023-06-09T08:15:25.393Z"
   },
   {
    "duration": 220,
    "start_time": "2023-06-09T08:15:25.463Z"
   },
   {
    "duration": 60,
    "start_time": "2023-06-09T08:15:25.688Z"
   },
   {
    "duration": 55,
    "start_time": "2023-06-09T08:15:25.757Z"
   },
   {
    "duration": 71,
    "start_time": "2023-06-09T08:15:25.816Z"
   },
   {
    "duration": 12,
    "start_time": "2023-06-09T08:15:25.889Z"
   },
   {
    "duration": 209,
    "start_time": "2023-06-09T08:15:25.902Z"
   },
   {
    "duration": 651,
    "start_time": "2023-06-09T08:15:26.113Z"
   },
   {
    "duration": 225,
    "start_time": "2023-06-09T08:15:26.766Z"
   },
   {
    "duration": 217,
    "start_time": "2023-06-09T08:15:26.994Z"
   },
   {
    "duration": 39,
    "start_time": "2023-06-09T08:15:27.214Z"
   },
   {
    "duration": 192,
    "start_time": "2023-06-09T08:15:27.266Z"
   },
   {
    "duration": 13,
    "start_time": "2023-06-09T08:15:27.459Z"
   },
   {
    "duration": 411,
    "start_time": "2023-06-09T08:15:27.476Z"
   },
   {
    "duration": 42,
    "start_time": "2023-06-09T08:15:27.889Z"
   },
   {
    "duration": 32,
    "start_time": "2023-06-09T08:15:27.933Z"
   },
   {
    "duration": 10,
    "start_time": "2023-06-09T08:15:27.975Z"
   },
   {
    "duration": 105,
    "start_time": "2023-06-09T08:15:27.988Z"
   },
   {
    "duration": 18,
    "start_time": "2023-06-09T08:15:28.095Z"
   },
   {
    "duration": 69,
    "start_time": "2023-06-09T08:15:28.116Z"
   },
   {
    "duration": 5,
    "start_time": "2023-06-09T08:15:28.187Z"
   },
   {
    "duration": 4,
    "start_time": "2023-06-09T08:16:33.507Z"
   },
   {
    "duration": 1067,
    "start_time": "2023-06-09T08:16:33.513Z"
   },
   {
    "duration": 23,
    "start_time": "2023-06-09T08:16:34.584Z"
   },
   {
    "duration": 263,
    "start_time": "2023-06-09T08:16:34.610Z"
   },
   {
    "duration": 255,
    "start_time": "2023-06-09T08:16:34.881Z"
   },
   {
    "duration": 45,
    "start_time": "2023-06-09T08:16:35.144Z"
   },
   {
    "duration": 306,
    "start_time": "2023-06-09T08:16:35.191Z"
   },
   {
    "duration": 63,
    "start_time": "2023-06-09T08:16:35.499Z"
   },
   {
    "duration": 304,
    "start_time": "2023-06-09T08:16:35.564Z"
   },
   {
    "duration": 40,
    "start_time": "2023-06-09T08:16:35.870Z"
   },
   {
    "duration": 214,
    "start_time": "2023-06-09T08:16:35.930Z"
   },
   {
    "duration": 52,
    "start_time": "2023-06-09T08:16:36.149Z"
   },
   {
    "duration": 62,
    "start_time": "2023-06-09T08:16:36.204Z"
   },
   {
    "duration": 42,
    "start_time": "2023-06-09T08:16:36.270Z"
   },
   {
    "duration": 26,
    "start_time": "2023-06-09T08:16:36.314Z"
   },
   {
    "duration": 188,
    "start_time": "2023-06-09T08:16:36.347Z"
   },
   {
    "duration": 496,
    "start_time": "2023-06-09T08:16:36.546Z"
   },
   {
    "duration": 225,
    "start_time": "2023-06-09T08:16:37.044Z"
   },
   {
    "duration": 196,
    "start_time": "2023-06-09T08:16:37.271Z"
   },
   {
    "duration": 16,
    "start_time": "2023-06-09T08:16:37.469Z"
   },
   {
    "duration": 218,
    "start_time": "2023-06-09T08:16:37.486Z"
   },
   {
    "duration": 26,
    "start_time": "2023-06-09T08:16:37.707Z"
   },
   {
    "duration": 275,
    "start_time": "2023-06-09T08:16:37.742Z"
   },
   {
    "duration": 33,
    "start_time": "2023-06-09T08:16:38.019Z"
   },
   {
    "duration": 24,
    "start_time": "2023-06-09T08:16:38.056Z"
   },
   {
    "duration": 6,
    "start_time": "2023-06-09T08:16:38.083Z"
   },
   {
    "duration": 26,
    "start_time": "2023-06-09T08:16:38.091Z"
   },
   {
    "duration": 21,
    "start_time": "2023-06-09T08:16:38.127Z"
   },
   {
    "duration": 36,
    "start_time": "2023-06-09T08:16:38.151Z"
   },
   {
    "duration": 4,
    "start_time": "2023-06-09T08:16:38.189Z"
   },
   {
    "duration": 25,
    "start_time": "2023-06-09T08:16:38.195Z"
   },
   {
    "duration": 39,
    "start_time": "2023-06-09T08:16:38.226Z"
   },
   {
    "duration": 24,
    "start_time": "2023-06-09T08:16:38.267Z"
   },
   {
    "duration": 34,
    "start_time": "2023-06-09T08:16:38.294Z"
   },
   {
    "duration": 43,
    "start_time": "2023-06-09T08:16:38.336Z"
   },
   {
    "duration": 125,
    "start_time": "2023-06-09T08:16:38.381Z"
   },
   {
    "duration": 231,
    "start_time": "2023-06-09T08:16:38.508Z"
   },
   {
    "duration": 175,
    "start_time": "2023-06-09T08:16:38.744Z"
   },
   {
    "duration": 10,
    "start_time": "2023-06-09T08:16:38.927Z"
   },
   {
    "duration": 4,
    "start_time": "2023-06-09T08:17:42.418Z"
   },
   {
    "duration": 4,
    "start_time": "2023-06-09T08:17:52.809Z"
   },
   {
    "duration": 795,
    "start_time": "2023-06-09T08:23:10.715Z"
   },
   {
    "duration": 6,
    "start_time": "2023-06-09T08:23:34.148Z"
   },
   {
    "duration": 4,
    "start_time": "2023-06-09T08:35:11.492Z"
   },
   {
    "duration": 5,
    "start_time": "2023-06-09T08:35:15.886Z"
   },
   {
    "duration": 9,
    "start_time": "2023-06-09T08:35:36.060Z"
   },
   {
    "duration": 42,
    "start_time": "2023-06-09T08:39:14.902Z"
   },
   {
    "duration": 15,
    "start_time": "2023-06-09T08:39:18.368Z"
   },
   {
    "duration": 865,
    "start_time": "2023-06-09T08:39:23.107Z"
   },
   {
    "duration": 28,
    "start_time": "2023-06-09T09:00:25.619Z"
   },
   {
    "duration": 12,
    "start_time": "2023-06-09T09:00:45.325Z"
   },
   {
    "duration": 24,
    "start_time": "2023-06-09T09:00:48.842Z"
   },
   {
    "duration": 14,
    "start_time": "2023-06-09T09:03:27.379Z"
   },
   {
    "duration": 1810,
    "start_time": "2023-06-09T09:03:44.057Z"
   },
   {
    "duration": 1101,
    "start_time": "2023-06-09T09:03:45.870Z"
   },
   {
    "duration": 21,
    "start_time": "2023-06-09T09:03:46.973Z"
   },
   {
    "duration": 245,
    "start_time": "2023-06-09T09:03:46.997Z"
   },
   {
    "duration": 224,
    "start_time": "2023-06-09T09:03:47.254Z"
   },
   {
    "duration": 63,
    "start_time": "2023-06-09T09:03:47.480Z"
   },
   {
    "duration": 337,
    "start_time": "2023-06-09T09:03:47.545Z"
   },
   {
    "duration": 63,
    "start_time": "2023-06-09T09:03:47.885Z"
   },
   {
    "duration": 414,
    "start_time": "2023-06-09T09:03:47.951Z"
   },
   {
    "duration": 40,
    "start_time": "2023-06-09T09:03:48.367Z"
   },
   {
    "duration": 211,
    "start_time": "2023-06-09T09:03:48.409Z"
   },
   {
    "duration": 57,
    "start_time": "2023-06-09T09:03:48.624Z"
   },
   {
    "duration": 92,
    "start_time": "2023-06-09T09:03:48.683Z"
   },
   {
    "duration": 58,
    "start_time": "2023-06-09T09:03:48.780Z"
   },
   {
    "duration": 25,
    "start_time": "2023-06-09T09:03:48.849Z"
   },
   {
    "duration": 195,
    "start_time": "2023-06-09T09:03:48.876Z"
   },
   {
    "duration": 641,
    "start_time": "2023-06-09T09:03:49.074Z"
   },
   {
    "duration": 281,
    "start_time": "2023-06-09T09:03:49.718Z"
   },
   {
    "duration": 211,
    "start_time": "2023-06-09T09:03:50.002Z"
   },
   {
    "duration": 44,
    "start_time": "2023-06-09T09:03:50.216Z"
   },
   {
    "duration": 204,
    "start_time": "2023-06-09T09:03:50.262Z"
   },
   {
    "duration": 11,
    "start_time": "2023-06-09T09:03:50.469Z"
   },
   {
    "duration": 296,
    "start_time": "2023-06-09T09:03:50.481Z"
   },
   {
    "duration": 25,
    "start_time": "2023-06-09T09:03:50.779Z"
   },
   {
    "duration": 41,
    "start_time": "2023-06-09T09:03:50.831Z"
   },
   {
    "duration": 3,
    "start_time": "2023-06-09T09:03:50.874Z"
   },
   {
    "duration": 33,
    "start_time": "2023-06-09T09:03:50.879Z"
   },
   {
    "duration": 19,
    "start_time": "2023-06-09T09:03:50.914Z"
   },
   {
    "duration": 55,
    "start_time": "2023-06-09T09:03:50.937Z"
   },
   {
    "duration": 4,
    "start_time": "2023-06-09T09:03:50.993Z"
   },
   {
    "duration": 53,
    "start_time": "2023-06-09T09:03:50.999Z"
   },
   {
    "duration": 33,
    "start_time": "2023-06-09T09:03:51.054Z"
   },
   {
    "duration": 50,
    "start_time": "2023-06-09T09:03:51.089Z"
   },
   {
    "duration": 32,
    "start_time": "2023-06-09T09:03:51.146Z"
   },
   {
    "duration": 30,
    "start_time": "2023-06-09T09:03:51.180Z"
   },
   {
    "duration": 119,
    "start_time": "2023-06-09T09:03:51.213Z"
   },
   {
    "duration": 243,
    "start_time": "2023-06-09T09:03:51.339Z"
   },
   {
    "duration": 196,
    "start_time": "2023-06-09T09:03:51.584Z"
   },
   {
    "duration": 4,
    "start_time": "2023-06-09T09:03:51.782Z"
   },
   {
    "duration": 28,
    "start_time": "2023-06-09T09:03:51.788Z"
   },
   {
    "duration": 1044,
    "start_time": "2023-06-09T09:03:51.822Z"
   },
   {
    "duration": 144,
    "start_time": "2023-06-09T09:03:52.869Z"
   },
   {
    "duration": 0,
    "start_time": "2023-06-09T09:03:53.017Z"
   },
   {
    "duration": 15,
    "start_time": "2023-06-09T09:03:59.058Z"
   },
   {
    "duration": 6,
    "start_time": "2023-06-09T09:04:14.358Z"
   },
   {
    "duration": 13,
    "start_time": "2023-06-09T09:04:22.799Z"
   },
   {
    "duration": 49,
    "start_time": "2023-06-09T09:08:14.221Z"
   },
   {
    "duration": 29,
    "start_time": "2023-06-09T09:10:34.067Z"
   },
   {
    "duration": 31,
    "start_time": "2023-06-09T09:11:15.059Z"
   },
   {
    "duration": 2056,
    "start_time": "2023-06-09T09:12:17.167Z"
   },
   {
    "duration": 1425,
    "start_time": "2023-06-09T09:12:19.234Z"
   },
   {
    "duration": 22,
    "start_time": "2023-06-09T09:12:20.673Z"
   },
   {
    "duration": 272,
    "start_time": "2023-06-09T09:12:20.697Z"
   },
   {
    "duration": 273,
    "start_time": "2023-06-09T09:12:20.973Z"
   },
   {
    "duration": 62,
    "start_time": "2023-06-09T09:12:21.252Z"
   },
   {
    "duration": 415,
    "start_time": "2023-06-09T09:12:21.316Z"
   },
   {
    "duration": 63,
    "start_time": "2023-06-09T09:12:21.739Z"
   },
   {
    "duration": 561,
    "start_time": "2023-06-09T09:12:21.804Z"
   },
   {
    "duration": 73,
    "start_time": "2023-06-09T09:12:22.368Z"
   },
   {
    "duration": 251,
    "start_time": "2023-06-09T09:12:22.449Z"
   },
   {
    "duration": 91,
    "start_time": "2023-06-09T09:12:22.702Z"
   },
   {
    "duration": 71,
    "start_time": "2023-06-09T09:12:22.794Z"
   },
   {
    "duration": 228,
    "start_time": "2023-06-09T09:12:22.867Z"
   },
   {
    "duration": 48,
    "start_time": "2023-06-09T09:12:23.097Z"
   },
   {
    "duration": 290,
    "start_time": "2023-06-09T09:12:23.153Z"
   },
   {
    "duration": 685,
    "start_time": "2023-06-09T09:12:23.450Z"
   },
   {
    "duration": 263,
    "start_time": "2023-06-09T09:12:24.142Z"
   },
   {
    "duration": 189,
    "start_time": "2023-06-09T09:12:24.407Z"
   },
   {
    "duration": 40,
    "start_time": "2023-06-09T09:12:24.598Z"
   },
   {
    "duration": 253,
    "start_time": "2023-06-09T09:12:24.640Z"
   },
   {
    "duration": 9,
    "start_time": "2023-06-09T09:12:24.895Z"
   },
   {
    "duration": 408,
    "start_time": "2023-06-09T09:12:24.906Z"
   },
   {
    "duration": 36,
    "start_time": "2023-06-09T09:12:25.316Z"
   },
   {
    "duration": 41,
    "start_time": "2023-06-09T09:12:25.358Z"
   },
   {
    "duration": 4,
    "start_time": "2023-06-09T09:12:25.400Z"
   },
   {
    "duration": 48,
    "start_time": "2023-06-09T09:12:25.406Z"
   },
   {
    "duration": 17,
    "start_time": "2023-06-09T09:12:25.458Z"
   },
   {
    "duration": 166,
    "start_time": "2023-06-09T09:12:25.484Z"
   },
   {
    "duration": 15,
    "start_time": "2023-06-09T09:12:25.652Z"
   },
   {
    "duration": 39,
    "start_time": "2023-06-09T09:12:25.675Z"
   },
   {
    "duration": 49,
    "start_time": "2023-06-09T09:12:25.716Z"
   },
   {
    "duration": 40,
    "start_time": "2023-06-09T09:12:25.771Z"
   },
   {
    "duration": 43,
    "start_time": "2023-06-09T09:12:25.814Z"
   },
   {
    "duration": 55,
    "start_time": "2023-06-09T09:12:25.859Z"
   },
   {
    "duration": 175,
    "start_time": "2023-06-09T09:12:25.917Z"
   },
   {
    "duration": 316,
    "start_time": "2023-06-09T09:12:26.096Z"
   },
   {
    "duration": 254,
    "start_time": "2023-06-09T09:12:26.414Z"
   },
   {
    "duration": 5,
    "start_time": "2023-06-09T09:12:26.674Z"
   },
   {
    "duration": 29,
    "start_time": "2023-06-09T09:12:26.681Z"
   },
   {
    "duration": 135,
    "start_time": "2023-06-09T09:12:35.486Z"
   },
   {
    "duration": 1021,
    "start_time": "2023-06-09T09:14:46.382Z"
   },
   {
    "duration": 785,
    "start_time": "2023-06-09T09:15:35.671Z"
   },
   {
    "duration": 946,
    "start_time": "2023-06-09T09:16:13.458Z"
   },
   {
    "duration": 945,
    "start_time": "2023-06-09T09:16:34.076Z"
   },
   {
    "duration": 872,
    "start_time": "2023-06-09T09:16:47.215Z"
   },
   {
    "duration": 1948,
    "start_time": "2023-06-09T09:20:46.766Z"
   },
   {
    "duration": 1234,
    "start_time": "2023-06-09T09:20:48.716Z"
   },
   {
    "duration": 48,
    "start_time": "2023-06-09T09:20:49.963Z"
   },
   {
    "duration": 333,
    "start_time": "2023-06-09T09:20:50.015Z"
   },
   {
    "duration": 286,
    "start_time": "2023-06-09T09:20:50.350Z"
   },
   {
    "duration": 70,
    "start_time": "2023-06-09T09:20:50.642Z"
   },
   {
    "duration": 393,
    "start_time": "2023-06-09T09:20:50.714Z"
   },
   {
    "duration": 81,
    "start_time": "2023-06-09T09:20:51.110Z"
   },
   {
    "duration": 452,
    "start_time": "2023-06-09T09:20:51.194Z"
   },
   {
    "duration": 65,
    "start_time": "2023-06-09T09:20:51.649Z"
   },
   {
    "duration": 252,
    "start_time": "2023-06-09T09:20:51.735Z"
   },
   {
    "duration": 70,
    "start_time": "2023-06-09T09:20:51.992Z"
   },
   {
    "duration": 64,
    "start_time": "2023-06-09T09:20:52.067Z"
   },
   {
    "duration": 65,
    "start_time": "2023-06-09T09:20:52.147Z"
   },
   {
    "duration": 65,
    "start_time": "2023-06-09T09:20:52.214Z"
   },
   {
    "duration": 225,
    "start_time": "2023-06-09T09:20:52.286Z"
   },
   {
    "duration": 690,
    "start_time": "2023-06-09T09:20:52.512Z"
   },
   {
    "duration": 257,
    "start_time": "2023-06-09T09:20:53.204Z"
   },
   {
    "duration": 212,
    "start_time": "2023-06-09T09:20:53.470Z"
   },
   {
    "duration": 22,
    "start_time": "2023-06-09T09:20:53.684Z"
   },
   {
    "duration": 226,
    "start_time": "2023-06-09T09:20:53.707Z"
   },
   {
    "duration": 16,
    "start_time": "2023-06-09T09:20:53.936Z"
   },
   {
    "duration": 299,
    "start_time": "2023-06-09T09:20:53.954Z"
   },
   {
    "duration": 31,
    "start_time": "2023-06-09T09:20:54.255Z"
   },
   {
    "duration": 43,
    "start_time": "2023-06-09T09:20:54.294Z"
   },
   {
    "duration": 22,
    "start_time": "2023-06-09T09:20:54.339Z"
   },
   {
    "duration": 29,
    "start_time": "2023-06-09T09:20:54.363Z"
   },
   {
    "duration": 10,
    "start_time": "2023-06-09T09:20:54.397Z"
   },
   {
    "duration": 61,
    "start_time": "2023-06-09T09:20:54.410Z"
   },
   {
    "duration": 5,
    "start_time": "2023-06-09T09:20:54.485Z"
   },
   {
    "duration": 28,
    "start_time": "2023-06-09T09:20:54.493Z"
   },
   {
    "duration": 63,
    "start_time": "2023-06-09T09:20:54.523Z"
   },
   {
    "duration": 26,
    "start_time": "2023-06-09T09:20:54.588Z"
   },
   {
    "duration": 60,
    "start_time": "2023-06-09T09:20:54.616Z"
   },
   {
    "duration": 28,
    "start_time": "2023-06-09T09:20:54.679Z"
   },
   {
    "duration": 180,
    "start_time": "2023-06-09T09:20:54.709Z"
   },
   {
    "duration": 284,
    "start_time": "2023-06-09T09:20:54.891Z"
   },
   {
    "duration": 219,
    "start_time": "2023-06-09T09:20:55.184Z"
   },
   {
    "duration": 4,
    "start_time": "2023-06-09T09:20:55.405Z"
   },
   {
    "duration": 40,
    "start_time": "2023-06-09T09:20:55.411Z"
   },
   {
    "duration": 139,
    "start_time": "2023-06-09T09:20:55.471Z"
   },
   {
    "duration": 2036,
    "start_time": "2023-06-09T09:20:55.611Z"
   },
   {
    "duration": 1922,
    "start_time": "2023-06-09T09:21:35.651Z"
   },
   {
    "duration": 67,
    "start_time": "2023-06-09T09:22:46.205Z"
   },
   {
    "duration": 65,
    "start_time": "2023-06-09T09:22:51.652Z"
   },
   {
    "duration": 2180,
    "start_time": "2023-06-09T09:24:45.616Z"
   },
   {
    "duration": 67,
    "start_time": "2023-06-09T09:24:59.906Z"
   },
   {
    "duration": 2800,
    "start_time": "2023-06-09T09:28:54.155Z"
   },
   {
    "duration": 11,
    "start_time": "2023-06-09T09:51:18.125Z"
   },
   {
    "duration": 1618,
    "start_time": "2023-06-09T09:51:18.139Z"
   },
   {
    "duration": 26,
    "start_time": "2023-06-09T09:51:19.759Z"
   },
   {
    "duration": 344,
    "start_time": "2023-06-09T09:51:19.787Z"
   },
   {
    "duration": 301,
    "start_time": "2023-06-09T09:51:20.138Z"
   },
   {
    "duration": 82,
    "start_time": "2023-06-09T09:51:20.445Z"
   },
   {
    "duration": 414,
    "start_time": "2023-06-09T09:51:20.537Z"
   },
   {
    "duration": 90,
    "start_time": "2023-06-09T09:51:20.959Z"
   },
   {
    "duration": 682,
    "start_time": "2023-06-09T09:51:21.055Z"
   },
   {
    "duration": 76,
    "start_time": "2023-06-09T09:51:21.743Z"
   },
   {
    "duration": 267,
    "start_time": "2023-06-09T09:51:21.826Z"
   },
   {
    "duration": 80,
    "start_time": "2023-06-09T09:51:22.099Z"
   },
   {
    "duration": 89,
    "start_time": "2023-06-09T09:51:22.185Z"
   },
   {
    "duration": 81,
    "start_time": "2023-06-09T09:51:22.280Z"
   },
   {
    "duration": 19,
    "start_time": "2023-06-09T09:51:22.367Z"
   },
   {
    "duration": 290,
    "start_time": "2023-06-09T09:51:22.391Z"
   },
   {
    "duration": 686,
    "start_time": "2023-06-09T09:51:22.687Z"
   },
   {
    "duration": 347,
    "start_time": "2023-06-09T09:51:23.379Z"
   },
   {
    "duration": 282,
    "start_time": "2023-06-09T09:51:23.732Z"
   },
   {
    "duration": 35,
    "start_time": "2023-06-09T09:51:24.016Z"
   },
   {
    "duration": 283,
    "start_time": "2023-06-09T09:51:24.058Z"
   },
   {
    "duration": 18,
    "start_time": "2023-06-09T09:51:24.347Z"
   },
   {
    "duration": 329,
    "start_time": "2023-06-09T09:51:24.384Z"
   },
   {
    "duration": 48,
    "start_time": "2023-06-09T09:51:24.719Z"
   },
   {
    "duration": 31,
    "start_time": "2023-06-09T09:51:24.772Z"
   },
   {
    "duration": 10,
    "start_time": "2023-06-09T09:51:24.807Z"
   },
   {
    "duration": 35,
    "start_time": "2023-06-09T09:51:24.818Z"
   },
   {
    "duration": 29,
    "start_time": "2023-06-09T09:51:24.857Z"
   },
   {
    "duration": 47,
    "start_time": "2023-06-09T09:51:24.890Z"
   },
   {
    "duration": 10,
    "start_time": "2023-06-09T09:51:24.942Z"
   },
   {
    "duration": 54,
    "start_time": "2023-06-09T09:51:24.955Z"
   },
   {
    "duration": 62,
    "start_time": "2023-06-09T09:51:25.019Z"
   },
   {
    "duration": 44,
    "start_time": "2023-06-09T09:51:25.088Z"
   },
   {
    "duration": 56,
    "start_time": "2023-06-09T09:51:25.143Z"
   },
   {
    "duration": 34,
    "start_time": "2023-06-09T09:51:25.205Z"
   },
   {
    "duration": 176,
    "start_time": "2023-06-09T09:51:25.246Z"
   },
   {
    "duration": 315,
    "start_time": "2023-06-09T09:51:25.424Z"
   },
   {
    "duration": 245,
    "start_time": "2023-06-09T09:51:25.748Z"
   },
   {
    "duration": 11,
    "start_time": "2023-06-09T09:51:25.998Z"
   },
   {
    "duration": 13,
    "start_time": "2023-06-09T09:51:26.011Z"
   },
   {
    "duration": 157,
    "start_time": "2023-06-09T09:51:26.028Z"
   },
   {
    "duration": 22,
    "start_time": "2023-06-09T09:51:26.187Z"
   },
   {
    "duration": 2194,
    "start_time": "2023-06-09T09:51:26.211Z"
   },
   {
    "duration": 152,
    "start_time": "2023-06-09T09:51:28.409Z"
   },
   {
    "duration": 226,
    "start_time": "2023-06-09T09:52:01.020Z"
   },
   {
    "duration": 2357,
    "start_time": "2023-06-09T09:53:16.106Z"
   },
   {
    "duration": 122,
    "start_time": "2023-06-09T09:53:37.015Z"
   },
   {
    "duration": 3015,
    "start_time": "2023-06-09T09:53:50.759Z"
   },
   {
    "duration": 6018,
    "start_time": "2023-06-09T09:53:53.783Z"
   },
   {
    "duration": 42,
    "start_time": "2023-06-09T09:53:59.803Z"
   },
   {
    "duration": 278,
    "start_time": "2023-06-09T09:53:59.847Z"
   },
   {
    "duration": 317,
    "start_time": "2023-06-09T09:54:00.128Z"
   },
   {
    "duration": 90,
    "start_time": "2023-06-09T09:54:00.447Z"
   },
   {
    "duration": 452,
    "start_time": "2023-06-09T09:54:00.541Z"
   },
   {
    "duration": 96,
    "start_time": "2023-06-09T09:54:00.999Z"
   },
   {
    "duration": 616,
    "start_time": "2023-06-09T09:54:01.102Z"
   },
   {
    "duration": 90,
    "start_time": "2023-06-09T09:54:01.724Z"
   },
   {
    "duration": 299,
    "start_time": "2023-06-09T09:54:01.818Z"
   },
   {
    "duration": 78,
    "start_time": "2023-06-09T09:54:02.123Z"
   },
   {
    "duration": 121,
    "start_time": "2023-06-09T09:54:02.207Z"
   },
   {
    "duration": 99,
    "start_time": "2023-06-09T09:54:02.344Z"
   },
   {
    "duration": 64,
    "start_time": "2023-06-09T09:54:02.460Z"
   },
   {
    "duration": 326,
    "start_time": "2023-06-09T09:54:02.530Z"
   },
   {
    "duration": 893,
    "start_time": "2023-06-09T09:54:02.862Z"
   },
   {
    "duration": 314,
    "start_time": "2023-06-09T09:54:03.765Z"
   },
   {
    "duration": 225,
    "start_time": "2023-06-09T09:54:04.085Z"
   },
   {
    "duration": 71,
    "start_time": "2023-06-09T09:54:04.314Z"
   },
   {
    "duration": 331,
    "start_time": "2023-06-09T09:54:04.401Z"
   },
   {
    "duration": 26,
    "start_time": "2023-06-09T09:54:04.734Z"
   },
   {
    "duration": 423,
    "start_time": "2023-06-09T09:54:04.762Z"
   },
   {
    "duration": 43,
    "start_time": "2023-06-09T09:54:05.190Z"
   },
   {
    "duration": 51,
    "start_time": "2023-06-09T09:54:05.239Z"
   },
   {
    "duration": 25,
    "start_time": "2023-06-09T09:54:05.296Z"
   },
   {
    "duration": 38,
    "start_time": "2023-06-09T09:54:05.338Z"
   },
   {
    "duration": 10,
    "start_time": "2023-06-09T09:54:05.385Z"
   },
   {
    "duration": 99,
    "start_time": "2023-06-09T09:54:05.397Z"
   },
   {
    "duration": 6,
    "start_time": "2023-06-09T09:54:05.498Z"
   },
   {
    "duration": 52,
    "start_time": "2023-06-09T09:54:05.507Z"
   },
   {
    "duration": 36,
    "start_time": "2023-06-09T09:54:05.568Z"
   },
   {
    "duration": 42,
    "start_time": "2023-06-09T09:54:05.611Z"
   },
   {
    "duration": 47,
    "start_time": "2023-06-09T09:54:05.660Z"
   },
   {
    "duration": 60,
    "start_time": "2023-06-09T09:54:05.714Z"
   },
   {
    "duration": 189,
    "start_time": "2023-06-09T09:54:05.784Z"
   },
   {
    "duration": 420,
    "start_time": "2023-06-09T09:54:05.977Z"
   },
   {
    "duration": 258,
    "start_time": "2023-06-09T09:54:06.399Z"
   },
   {
    "duration": 17,
    "start_time": "2023-06-09T09:54:06.664Z"
   },
   {
    "duration": 136,
    "start_time": "2023-06-09T09:54:06.686Z"
   },
   {
    "duration": 279,
    "start_time": "2023-06-09T09:54:06.826Z"
   },
   {
    "duration": 26,
    "start_time": "2023-06-09T09:54:07.111Z"
   },
   {
    "duration": 212,
    "start_time": "2023-06-09T09:54:07.143Z"
   },
   {
    "duration": 2324,
    "start_time": "2023-06-09T09:54:07.358Z"
   },
   {
    "duration": 7913,
    "start_time": "2023-06-09T09:54:09.688Z"
   },
   {
    "duration": 47,
    "start_time": "2023-06-09T09:55:17.866Z"
   },
   {
    "duration": 22,
    "start_time": "2023-06-09T09:56:21.290Z"
   },
   {
    "duration": 1495,
    "start_time": "2023-06-09T09:56:21.314Z"
   },
   {
    "duration": 63,
    "start_time": "2023-06-09T09:56:22.816Z"
   },
   {
    "duration": 341,
    "start_time": "2023-06-09T09:56:22.892Z"
   },
   {
    "duration": 351,
    "start_time": "2023-06-09T09:56:23.258Z"
   },
   {
    "duration": 81,
    "start_time": "2023-06-09T09:56:23.612Z"
   },
   {
    "duration": 461,
    "start_time": "2023-06-09T09:56:23.700Z"
   },
   {
    "duration": 75,
    "start_time": "2023-06-09T09:56:24.166Z"
   },
   {
    "duration": 593,
    "start_time": "2023-06-09T09:56:24.248Z"
   },
   {
    "duration": 89,
    "start_time": "2023-06-09T09:56:24.844Z"
   },
   {
    "duration": 346,
    "start_time": "2023-06-09T09:56:24.935Z"
   },
   {
    "duration": 135,
    "start_time": "2023-06-09T09:56:25.294Z"
   },
   {
    "duration": 114,
    "start_time": "2023-06-09T09:56:25.431Z"
   },
   {
    "duration": 85,
    "start_time": "2023-06-09T09:56:25.550Z"
   },
   {
    "duration": 25,
    "start_time": "2023-06-09T09:56:25.641Z"
   },
   {
    "duration": 234,
    "start_time": "2023-06-09T09:56:25.672Z"
   },
   {
    "duration": 780,
    "start_time": "2023-06-09T09:56:25.908Z"
   },
   {
    "duration": 239,
    "start_time": "2023-06-09T09:56:26.690Z"
   },
   {
    "duration": 229,
    "start_time": "2023-06-09T09:56:26.931Z"
   },
   {
    "duration": 23,
    "start_time": "2023-06-09T09:56:27.162Z"
   },
   {
    "duration": 293,
    "start_time": "2023-06-09T09:56:27.204Z"
   },
   {
    "duration": 22,
    "start_time": "2023-06-09T09:56:27.499Z"
   },
   {
    "duration": 432,
    "start_time": "2023-06-09T09:56:27.523Z"
   },
   {
    "duration": 36,
    "start_time": "2023-06-09T09:56:27.957Z"
   },
   {
    "duration": 27,
    "start_time": "2023-06-09T09:56:27.998Z"
   },
   {
    "duration": 10,
    "start_time": "2023-06-09T09:56:28.030Z"
   },
   {
    "duration": 45,
    "start_time": "2023-06-09T09:56:28.043Z"
   },
   {
    "duration": 36,
    "start_time": "2023-06-09T09:56:28.105Z"
   },
   {
    "duration": 81,
    "start_time": "2023-06-09T09:56:28.155Z"
   },
   {
    "duration": 28,
    "start_time": "2023-06-09T09:56:28.253Z"
   },
   {
    "duration": 55,
    "start_time": "2023-06-09T09:56:28.297Z"
   },
   {
    "duration": 60,
    "start_time": "2023-06-09T09:56:28.362Z"
   },
   {
    "duration": 88,
    "start_time": "2023-06-09T09:56:28.424Z"
   },
   {
    "duration": 41,
    "start_time": "2023-06-09T09:56:28.517Z"
   },
   {
    "duration": 63,
    "start_time": "2023-06-09T09:56:28.560Z"
   },
   {
    "duration": 328,
    "start_time": "2023-06-09T09:56:28.625Z"
   },
   {
    "duration": 320,
    "start_time": "2023-06-09T09:56:28.965Z"
   },
   {
    "duration": 243,
    "start_time": "2023-06-09T09:56:29.295Z"
   },
   {
    "duration": 8,
    "start_time": "2023-06-09T09:56:29.544Z"
   },
   {
    "duration": 24,
    "start_time": "2023-06-09T09:56:29.561Z"
   },
   {
    "duration": 197,
    "start_time": "2023-06-09T09:56:29.596Z"
   },
   {
    "duration": 49,
    "start_time": "2023-06-09T09:56:50.840Z"
   },
   {
    "duration": 177,
    "start_time": "2023-06-09T09:56:54.416Z"
   },
   {
    "duration": 224,
    "start_time": "2023-06-09T09:57:11.116Z"
   },
   {
    "duration": 25,
    "start_time": "2023-06-09T09:57:23.218Z"
   },
   {
    "duration": 26,
    "start_time": "2023-06-09T09:58:08.990Z"
   },
   {
    "duration": 8,
    "start_time": "2023-06-09T09:58:17.089Z"
   },
   {
    "duration": 1466,
    "start_time": "2023-06-09T09:58:17.099Z"
   },
   {
    "duration": 18,
    "start_time": "2023-06-09T09:58:18.579Z"
   },
   {
    "duration": 289,
    "start_time": "2023-06-09T09:58:18.600Z"
   },
   {
    "duration": 266,
    "start_time": "2023-06-09T09:58:18.891Z"
   },
   {
    "duration": 87,
    "start_time": "2023-06-09T09:58:19.162Z"
   },
   {
    "duration": 562,
    "start_time": "2023-06-09T09:58:19.251Z"
   },
   {
    "duration": 114,
    "start_time": "2023-06-09T09:58:19.817Z"
   },
   {
    "duration": 566,
    "start_time": "2023-06-09T09:58:19.944Z"
   },
   {
    "duration": 96,
    "start_time": "2023-06-09T09:58:20.513Z"
   },
   {
    "duration": 294,
    "start_time": "2023-06-09T09:58:20.615Z"
   },
   {
    "duration": 88,
    "start_time": "2023-06-09T09:58:20.915Z"
   },
   {
    "duration": 99,
    "start_time": "2023-06-09T09:58:21.010Z"
   },
   {
    "duration": 86,
    "start_time": "2023-06-09T09:58:21.115Z"
   },
   {
    "duration": 28,
    "start_time": "2023-06-09T09:58:21.207Z"
   },
   {
    "duration": 321,
    "start_time": "2023-06-09T09:58:21.240Z"
   },
   {
    "duration": 806,
    "start_time": "2023-06-09T09:58:21.567Z"
   },
   {
    "duration": 261,
    "start_time": "2023-06-09T09:58:22.380Z"
   },
   {
    "duration": 225,
    "start_time": "2023-06-09T09:58:22.647Z"
   },
   {
    "duration": 23,
    "start_time": "2023-06-09T09:58:22.874Z"
   },
   {
    "duration": 226,
    "start_time": "2023-06-09T09:58:22.903Z"
   },
   {
    "duration": 16,
    "start_time": "2023-06-09T09:58:23.135Z"
   },
   {
    "duration": 443,
    "start_time": "2023-06-09T09:58:23.160Z"
   },
   {
    "duration": 49,
    "start_time": "2023-06-09T09:58:23.608Z"
   },
   {
    "duration": 51,
    "start_time": "2023-06-09T09:58:23.663Z"
   },
   {
    "duration": 0,
    "start_time": "2023-06-09T09:58:23.722Z"
   },
   {
    "duration": 0,
    "start_time": "2023-06-09T09:58:23.735Z"
   },
   {
    "duration": 0,
    "start_time": "2023-06-09T09:58:23.750Z"
   },
   {
    "duration": 0,
    "start_time": "2023-06-09T09:58:23.751Z"
   },
   {
    "duration": 0,
    "start_time": "2023-06-09T09:58:23.752Z"
   },
   {
    "duration": 0,
    "start_time": "2023-06-09T09:58:23.752Z"
   },
   {
    "duration": 0,
    "start_time": "2023-06-09T09:58:23.766Z"
   },
   {
    "duration": 0,
    "start_time": "2023-06-09T09:58:23.770Z"
   },
   {
    "duration": 0,
    "start_time": "2023-06-09T09:58:23.773Z"
   },
   {
    "duration": 0,
    "start_time": "2023-06-09T09:58:23.783Z"
   },
   {
    "duration": 0,
    "start_time": "2023-06-09T09:58:23.785Z"
   },
   {
    "duration": 0,
    "start_time": "2023-06-09T09:58:23.789Z"
   },
   {
    "duration": 0,
    "start_time": "2023-06-09T09:58:23.791Z"
   },
   {
    "duration": 0,
    "start_time": "2023-06-09T09:58:23.794Z"
   },
   {
    "duration": 0,
    "start_time": "2023-06-09T09:58:23.801Z"
   },
   {
    "duration": 17,
    "start_time": "2023-06-09T09:59:34.304Z"
   },
   {
    "duration": 16,
    "start_time": "2023-06-09T09:59:41.571Z"
   },
   {
    "duration": 1478,
    "start_time": "2023-06-09T09:59:41.594Z"
   },
   {
    "duration": 21,
    "start_time": "2023-06-09T09:59:43.074Z"
   },
   {
    "duration": 372,
    "start_time": "2023-06-09T09:59:43.097Z"
   },
   {
    "duration": 301,
    "start_time": "2023-06-09T09:59:43.483Z"
   },
   {
    "duration": 85,
    "start_time": "2023-06-09T09:59:43.786Z"
   },
   {
    "duration": 408,
    "start_time": "2023-06-09T09:59:43.874Z"
   },
   {
    "duration": 82,
    "start_time": "2023-06-09T09:59:44.284Z"
   },
   {
    "duration": 454,
    "start_time": "2023-06-09T09:59:44.368Z"
   },
   {
    "duration": 132,
    "start_time": "2023-06-09T09:59:44.826Z"
   },
   {
    "duration": 539,
    "start_time": "2023-06-09T09:59:44.968Z"
   },
   {
    "duration": 92,
    "start_time": "2023-06-09T09:59:45.509Z"
   },
   {
    "duration": 101,
    "start_time": "2023-06-09T09:59:45.603Z"
   },
   {
    "duration": 111,
    "start_time": "2023-06-09T09:59:45.712Z"
   },
   {
    "duration": 34,
    "start_time": "2023-06-09T09:59:45.843Z"
   },
   {
    "duration": 306,
    "start_time": "2023-06-09T09:59:45.879Z"
   },
   {
    "duration": 864,
    "start_time": "2023-06-09T09:59:46.195Z"
   },
   {
    "duration": 356,
    "start_time": "2023-06-09T09:59:47.067Z"
   },
   {
    "duration": 275,
    "start_time": "2023-06-09T09:59:47.436Z"
   },
   {
    "duration": 17,
    "start_time": "2023-06-09T09:59:47.713Z"
   },
   {
    "duration": 256,
    "start_time": "2023-06-09T09:59:47.733Z"
   },
   {
    "duration": 16,
    "start_time": "2023-06-09T09:59:47.991Z"
   },
   {
    "duration": 362,
    "start_time": "2023-06-09T09:59:48.009Z"
   },
   {
    "duration": 35,
    "start_time": "2023-06-09T09:59:48.375Z"
   },
   {
    "duration": 60,
    "start_time": "2023-06-09T09:59:48.416Z"
   },
   {
    "duration": 39,
    "start_time": "2023-06-09T10:00:13.723Z"
   },
   {
    "duration": 10,
    "start_time": "2023-06-09T10:00:22.400Z"
   },
   {
    "duration": 1421,
    "start_time": "2023-06-09T10:00:22.412Z"
   },
   {
    "duration": 42,
    "start_time": "2023-06-09T10:00:23.835Z"
   },
   {
    "duration": 313,
    "start_time": "2023-06-09T10:00:23.884Z"
   },
   {
    "duration": 271,
    "start_time": "2023-06-09T10:00:24.204Z"
   },
   {
    "duration": 74,
    "start_time": "2023-06-09T10:00:24.481Z"
   },
   {
    "duration": 447,
    "start_time": "2023-06-09T10:00:24.561Z"
   },
   {
    "duration": 100,
    "start_time": "2023-06-09T10:00:25.017Z"
   },
   {
    "duration": 581,
    "start_time": "2023-06-09T10:00:25.119Z"
   },
   {
    "duration": 106,
    "start_time": "2023-06-09T10:00:25.715Z"
   },
   {
    "duration": 301,
    "start_time": "2023-06-09T10:00:25.823Z"
   },
   {
    "duration": 92,
    "start_time": "2023-06-09T10:00:26.137Z"
   },
   {
    "duration": 100,
    "start_time": "2023-06-09T10:00:26.231Z"
   },
   {
    "duration": 108,
    "start_time": "2023-06-09T10:00:26.341Z"
   },
   {
    "duration": 36,
    "start_time": "2023-06-09T10:00:26.451Z"
   },
   {
    "duration": 295,
    "start_time": "2023-06-09T10:00:26.496Z"
   },
   {
    "duration": 712,
    "start_time": "2023-06-09T10:00:26.798Z"
   },
   {
    "duration": 481,
    "start_time": "2023-06-09T10:00:27.516Z"
   },
   {
    "duration": 269,
    "start_time": "2023-06-09T10:00:28.008Z"
   },
   {
    "duration": 22,
    "start_time": "2023-06-09T10:00:28.279Z"
   },
   {
    "duration": 258,
    "start_time": "2023-06-09T10:00:28.303Z"
   },
   {
    "duration": 19,
    "start_time": "2023-06-09T10:00:28.572Z"
   },
   {
    "duration": 386,
    "start_time": "2023-06-09T10:00:28.597Z"
   },
   {
    "duration": 46,
    "start_time": "2023-06-09T10:00:28.991Z"
   },
   {
    "duration": 44,
    "start_time": "2023-06-09T10:00:29.045Z"
   },
   {
    "duration": 13,
    "start_time": "2023-06-09T10:00:39.218Z"
   },
   {
    "duration": 26,
    "start_time": "2023-06-09T10:00:42.493Z"
   },
   {
    "duration": 23,
    "start_time": "2023-06-09T10:00:44.818Z"
   },
   {
    "duration": 107,
    "start_time": "2023-06-09T10:01:00.267Z"
   },
   {
    "duration": 5,
    "start_time": "2023-06-09T10:01:02.856Z"
   },
   {
    "duration": 62,
    "start_time": "2023-06-09T10:01:12.717Z"
   },
   {
    "duration": 67,
    "start_time": "2023-06-09T10:01:13.682Z"
   },
   {
    "duration": 53,
    "start_time": "2023-06-09T10:01:15.655Z"
   },
   {
    "duration": 74,
    "start_time": "2023-06-09T10:01:15.711Z"
   },
   {
    "duration": 38,
    "start_time": "2023-06-09T10:01:16.573Z"
   },
   {
    "duration": 224,
    "start_time": "2023-06-09T10:01:17.582Z"
   },
   {
    "duration": 367,
    "start_time": "2023-06-09T10:01:30.392Z"
   },
   {
    "duration": 326,
    "start_time": "2023-06-09T10:01:46.496Z"
   },
   {
    "duration": 290,
    "start_time": "2023-06-09T10:01:49.674Z"
   },
   {
    "duration": 12,
    "start_time": "2023-06-09T10:01:51.808Z"
   },
   {
    "duration": 4,
    "start_time": "2023-06-09T10:02:01.070Z"
   },
   {
    "duration": 149,
    "start_time": "2023-06-09T10:02:07.124Z"
   },
   {
    "duration": 40,
    "start_time": "2023-06-09T10:02:09.989Z"
   },
   {
    "duration": 15,
    "start_time": "2023-06-09T10:02:13.100Z"
   },
   {
    "duration": 2568,
    "start_time": "2023-06-09T10:03:54.071Z"
   },
   {
    "duration": 7815,
    "start_time": "2023-06-09T10:03:59.762Z"
   },
   {
    "duration": 9,
    "start_time": "2023-06-09T10:10:45.048Z"
   },
   {
    "duration": 74,
    "start_time": "2023-06-09T10:12:31.581Z"
   },
   {
    "duration": 35,
    "start_time": "2023-06-09T10:13:43.224Z"
   },
   {
    "duration": 15,
    "start_time": "2023-06-09T10:15:01.375Z"
   },
   {
    "duration": 42,
    "start_time": "2023-06-09T10:15:41.998Z"
   },
   {
    "duration": 12,
    "start_time": "2023-06-09T10:15:57.873Z"
   },
   {
    "duration": 123,
    "start_time": "2023-06-09T10:17:09.254Z"
   },
   {
    "duration": 4002,
    "start_time": "2023-06-09T10:17:18.411Z"
   },
   {
    "duration": 1449,
    "start_time": "2023-06-09T10:17:22.415Z"
   },
   {
    "duration": 28,
    "start_time": "2023-06-09T10:17:23.867Z"
   },
   {
    "duration": 322,
    "start_time": "2023-06-09T10:17:23.898Z"
   },
   {
    "duration": 325,
    "start_time": "2023-06-09T10:17:24.223Z"
   },
   {
    "duration": 65,
    "start_time": "2023-06-09T10:17:24.554Z"
   },
   {
    "duration": 392,
    "start_time": "2023-06-09T10:17:24.620Z"
   },
   {
    "duration": 99,
    "start_time": "2023-06-09T10:17:25.014Z"
   },
   {
    "duration": 503,
    "start_time": "2023-06-09T10:17:25.118Z"
   },
   {
    "duration": 98,
    "start_time": "2023-06-09T10:17:25.624Z"
   },
   {
    "duration": 257,
    "start_time": "2023-06-09T10:17:25.724Z"
   },
   {
    "duration": 55,
    "start_time": "2023-06-09T10:17:25.983Z"
   },
   {
    "duration": 78,
    "start_time": "2023-06-09T10:17:26.040Z"
   },
   {
    "duration": 89,
    "start_time": "2023-06-09T10:17:26.121Z"
   },
   {
    "duration": 52,
    "start_time": "2023-06-09T10:17:26.212Z"
   },
   {
    "duration": 265,
    "start_time": "2023-06-09T10:17:26.272Z"
   },
   {
    "duration": 765,
    "start_time": "2023-06-09T10:17:26.539Z"
   },
   {
    "duration": 287,
    "start_time": "2023-06-09T10:17:27.310Z"
   },
   {
    "duration": 284,
    "start_time": "2023-06-09T10:17:27.599Z"
   },
   {
    "duration": 23,
    "start_time": "2023-06-09T10:17:27.898Z"
   },
   {
    "duration": 232,
    "start_time": "2023-06-09T10:17:27.923Z"
   },
   {
    "duration": 16,
    "start_time": "2023-06-09T10:17:28.161Z"
   },
   {
    "duration": 374,
    "start_time": "2023-06-09T10:17:28.179Z"
   },
   {
    "duration": 36,
    "start_time": "2023-06-09T10:17:28.555Z"
   },
   {
    "duration": 29,
    "start_time": "2023-06-09T10:17:28.596Z"
   },
   {
    "duration": 32,
    "start_time": "2023-06-09T10:17:28.629Z"
   },
   {
    "duration": 30,
    "start_time": "2023-06-09T10:17:28.663Z"
   },
   {
    "duration": 47,
    "start_time": "2023-06-09T10:17:28.698Z"
   },
   {
    "duration": 137,
    "start_time": "2023-06-09T10:17:28.747Z"
   },
   {
    "duration": 5,
    "start_time": "2023-06-09T10:17:28.887Z"
   },
   {
    "duration": 26,
    "start_time": "2023-06-09T10:17:28.894Z"
   },
   {
    "duration": 69,
    "start_time": "2023-06-09T10:17:28.922Z"
   },
   {
    "duration": 107,
    "start_time": "2023-06-09T10:17:28.993Z"
   },
   {
    "duration": 46,
    "start_time": "2023-06-09T10:17:29.102Z"
   },
   {
    "duration": 72,
    "start_time": "2023-06-09T10:17:29.150Z"
   },
   {
    "duration": 191,
    "start_time": "2023-06-09T10:17:29.224Z"
   },
   {
    "duration": 385,
    "start_time": "2023-06-09T10:17:29.417Z"
   },
   {
    "duration": 293,
    "start_time": "2023-06-09T10:17:29.806Z"
   },
   {
    "duration": 6,
    "start_time": "2023-06-09T10:17:30.101Z"
   },
   {
    "duration": 71,
    "start_time": "2023-06-09T10:17:30.110Z"
   },
   {
    "duration": 227,
    "start_time": "2023-06-09T10:17:30.188Z"
   },
   {
    "duration": 57,
    "start_time": "2023-06-09T10:17:30.417Z"
   },
   {
    "duration": 2570,
    "start_time": "2023-06-09T10:17:30.491Z"
   },
   {
    "duration": 7217,
    "start_time": "2023-06-09T10:17:33.070Z"
   },
   {
    "duration": 2287,
    "start_time": "2023-06-09T10:18:47.893Z"
   },
   {
    "duration": 1488,
    "start_time": "2023-06-09T10:18:50.192Z"
   },
   {
    "duration": 33,
    "start_time": "2023-06-09T10:18:51.688Z"
   },
   {
    "duration": 328,
    "start_time": "2023-06-09T10:18:51.723Z"
   },
   {
    "duration": 282,
    "start_time": "2023-06-09T10:18:52.070Z"
   },
   {
    "duration": 66,
    "start_time": "2023-06-09T10:18:52.354Z"
   },
   {
    "duration": 399,
    "start_time": "2023-06-09T10:18:52.426Z"
   },
   {
    "duration": 66,
    "start_time": "2023-06-09T10:18:52.827Z"
   },
   {
    "duration": 482,
    "start_time": "2023-06-09T10:18:52.895Z"
   },
   {
    "duration": 84,
    "start_time": "2023-06-09T10:18:53.379Z"
   },
   {
    "duration": 247,
    "start_time": "2023-06-09T10:18:53.465Z"
   },
   {
    "duration": 80,
    "start_time": "2023-06-09T10:18:53.714Z"
   },
   {
    "duration": 63,
    "start_time": "2023-06-09T10:18:53.796Z"
   },
   {
    "duration": 67,
    "start_time": "2023-06-09T10:18:53.872Z"
   },
   {
    "duration": 49,
    "start_time": "2023-06-09T10:18:53.941Z"
   },
   {
    "duration": 317,
    "start_time": "2023-06-09T10:18:53.992Z"
   },
   {
    "duration": 825,
    "start_time": "2023-06-09T10:18:54.311Z"
   },
   {
    "duration": 246,
    "start_time": "2023-06-09T10:18:55.139Z"
   },
   {
    "duration": 208,
    "start_time": "2023-06-09T10:18:55.387Z"
   },
   {
    "duration": 31,
    "start_time": "2023-06-09T10:18:55.597Z"
   },
   {
    "duration": 223,
    "start_time": "2023-06-09T10:18:55.636Z"
   },
   {
    "duration": 17,
    "start_time": "2023-06-09T10:18:55.861Z"
   },
   {
    "duration": 329,
    "start_time": "2023-06-09T10:18:55.880Z"
   },
   {
    "duration": 51,
    "start_time": "2023-06-09T10:18:56.214Z"
   },
   {
    "duration": 35,
    "start_time": "2023-06-09T10:18:56.267Z"
   },
   {
    "duration": 11,
    "start_time": "2023-06-09T10:18:56.305Z"
   },
   {
    "duration": 43,
    "start_time": "2023-06-09T10:18:56.318Z"
   },
   {
    "duration": 18,
    "start_time": "2023-06-09T10:18:56.363Z"
   },
   {
    "duration": 128,
    "start_time": "2023-06-09T10:18:56.383Z"
   },
   {
    "duration": 4,
    "start_time": "2023-06-09T10:18:56.513Z"
   },
   {
    "duration": 76,
    "start_time": "2023-06-09T10:18:56.519Z"
   },
   {
    "duration": 24,
    "start_time": "2023-06-09T10:18:56.599Z"
   },
   {
    "duration": 56,
    "start_time": "2023-06-09T10:18:56.632Z"
   },
   {
    "duration": 29,
    "start_time": "2023-06-09T10:18:56.690Z"
   },
   {
    "duration": 52,
    "start_time": "2023-06-09T10:18:56.722Z"
   },
   {
    "duration": 171,
    "start_time": "2023-06-09T10:18:56.776Z"
   },
   {
    "duration": 397,
    "start_time": "2023-06-09T10:18:56.958Z"
   },
   {
    "duration": 257,
    "start_time": "2023-06-09T10:18:57.357Z"
   },
   {
    "duration": 5,
    "start_time": "2023-06-09T10:18:57.619Z"
   },
   {
    "duration": 27,
    "start_time": "2023-06-09T10:18:57.626Z"
   },
   {
    "duration": 211,
    "start_time": "2023-06-09T10:18:57.658Z"
   },
   {
    "duration": 19,
    "start_time": "2023-06-09T10:18:57.878Z"
   },
   {
    "duration": 2328,
    "start_time": "2023-06-09T10:18:57.898Z"
   },
   {
    "duration": 5253,
    "start_time": "2023-06-09T10:19:00.236Z"
   },
   {
    "duration": 2568,
    "start_time": "2023-06-09T10:39:28.190Z"
   },
   {
    "duration": 1922,
    "start_time": "2023-06-09T10:39:30.760Z"
   },
   {
    "duration": 33,
    "start_time": "2023-06-09T10:39:32.692Z"
   },
   {
    "duration": 259,
    "start_time": "2023-06-09T10:39:32.733Z"
   },
   {
    "duration": 328,
    "start_time": "2023-06-09T10:39:32.997Z"
   },
   {
    "duration": 63,
    "start_time": "2023-06-09T10:39:33.327Z"
   },
   {
    "duration": 493,
    "start_time": "2023-06-09T10:39:33.396Z"
   },
   {
    "duration": 69,
    "start_time": "2023-06-09T10:39:33.897Z"
   },
   {
    "duration": 576,
    "start_time": "2023-06-09T10:39:33.974Z"
   },
   {
    "duration": 69,
    "start_time": "2023-06-09T10:39:34.557Z"
   },
   {
    "duration": 320,
    "start_time": "2023-06-09T10:39:34.633Z"
   },
   {
    "duration": 82,
    "start_time": "2023-06-09T10:39:34.955Z"
   },
   {
    "duration": 128,
    "start_time": "2023-06-09T10:39:35.044Z"
   },
   {
    "duration": 102,
    "start_time": "2023-06-09T10:39:35.191Z"
   },
   {
    "duration": 44,
    "start_time": "2023-06-09T10:39:35.309Z"
   },
   {
    "duration": 353,
    "start_time": "2023-06-09T10:39:35.365Z"
   },
   {
    "duration": 950,
    "start_time": "2023-06-09T10:39:35.723Z"
   },
   {
    "duration": 305,
    "start_time": "2023-06-09T10:39:36.680Z"
   },
   {
    "duration": 274,
    "start_time": "2023-06-09T10:39:36.991Z"
   },
   {
    "duration": 34,
    "start_time": "2023-06-09T10:39:37.271Z"
   },
   {
    "duration": 272,
    "start_time": "2023-06-09T10:39:37.311Z"
   },
   {
    "duration": 21,
    "start_time": "2023-06-09T10:39:37.592Z"
   },
   {
    "duration": 433,
    "start_time": "2023-06-09T10:39:37.622Z"
   },
   {
    "duration": 53,
    "start_time": "2023-06-09T10:39:38.062Z"
   },
   {
    "duration": 84,
    "start_time": "2023-06-09T10:39:38.125Z"
   },
   {
    "duration": 6,
    "start_time": "2023-06-09T10:39:38.213Z"
   },
   {
    "duration": 18,
    "start_time": "2023-06-09T10:39:38.221Z"
   },
   {
    "duration": 21,
    "start_time": "2023-06-09T10:39:38.241Z"
   },
   {
    "duration": 102,
    "start_time": "2023-06-09T10:39:38.265Z"
   },
   {
    "duration": 12,
    "start_time": "2023-06-09T10:39:38.369Z"
   },
   {
    "duration": 33,
    "start_time": "2023-06-09T10:39:38.390Z"
   },
   {
    "duration": 42,
    "start_time": "2023-06-09T10:39:38.426Z"
   },
   {
    "duration": 35,
    "start_time": "2023-06-09T10:39:38.471Z"
   },
   {
    "duration": 39,
    "start_time": "2023-06-09T10:39:38.509Z"
   },
   {
    "duration": 90,
    "start_time": "2023-06-09T10:39:38.551Z"
   },
   {
    "duration": 185,
    "start_time": "2023-06-09T10:39:38.658Z"
   },
   {
    "duration": 393,
    "start_time": "2023-06-09T10:39:38.850Z"
   },
   {
    "duration": 261,
    "start_time": "2023-06-09T10:39:39.250Z"
   },
   {
    "duration": 11,
    "start_time": "2023-06-09T10:39:39.516Z"
   },
   {
    "duration": 32,
    "start_time": "2023-06-09T10:39:39.542Z"
   },
   {
    "duration": 227,
    "start_time": "2023-06-09T10:39:39.594Z"
   },
   {
    "duration": 30,
    "start_time": "2023-06-09T10:39:39.823Z"
   },
   {
    "duration": 2589,
    "start_time": "2023-06-09T10:39:39.858Z"
   },
   {
    "duration": 2176,
    "start_time": "2023-06-09T10:41:28.085Z"
   },
   {
    "duration": 1484,
    "start_time": "2023-06-09T10:41:30.269Z"
   },
   {
    "duration": 40,
    "start_time": "2023-06-09T10:41:31.766Z"
   },
   {
    "duration": 553,
    "start_time": "2023-06-09T10:41:31.808Z"
   },
   {
    "duration": 327,
    "start_time": "2023-06-09T10:41:32.378Z"
   },
   {
    "duration": 78,
    "start_time": "2023-06-09T10:41:32.707Z"
   },
   {
    "duration": 440,
    "start_time": "2023-06-09T10:41:32.792Z"
   },
   {
    "duration": 72,
    "start_time": "2023-06-09T10:41:33.239Z"
   },
   {
    "duration": 552,
    "start_time": "2023-06-09T10:41:33.314Z"
   },
   {
    "duration": 85,
    "start_time": "2023-06-09T10:41:33.868Z"
   },
   {
    "duration": 264,
    "start_time": "2023-06-09T10:41:33.955Z"
   },
   {
    "duration": 63,
    "start_time": "2023-06-09T10:41:34.224Z"
   },
   {
    "duration": 83,
    "start_time": "2023-06-09T10:41:34.290Z"
   },
   {
    "duration": 61,
    "start_time": "2023-06-09T10:41:34.378Z"
   },
   {
    "duration": 29,
    "start_time": "2023-06-09T10:41:34.440Z"
   },
   {
    "duration": 232,
    "start_time": "2023-06-09T10:41:34.473Z"
   },
   {
    "duration": 743,
    "start_time": "2023-06-09T10:41:34.707Z"
   },
   {
    "duration": 252,
    "start_time": "2023-06-09T10:41:35.458Z"
   },
   {
    "duration": 236,
    "start_time": "2023-06-09T10:41:35.713Z"
   },
   {
    "duration": 40,
    "start_time": "2023-06-09T10:41:35.952Z"
   },
   {
    "duration": 224,
    "start_time": "2023-06-09T10:41:35.995Z"
   },
   {
    "duration": 36,
    "start_time": "2023-06-09T10:41:36.221Z"
   },
   {
    "duration": 346,
    "start_time": "2023-06-09T10:41:36.269Z"
   },
   {
    "duration": 56,
    "start_time": "2023-06-09T10:41:36.617Z"
   },
   {
    "duration": 35,
    "start_time": "2023-06-09T10:41:36.684Z"
   },
   {
    "duration": 54,
    "start_time": "2023-06-09T10:41:36.721Z"
   },
   {
    "duration": 19,
    "start_time": "2023-06-09T10:41:36.786Z"
   },
   {
    "duration": 9,
    "start_time": "2023-06-09T10:41:36.807Z"
   },
   {
    "duration": 119,
    "start_time": "2023-06-09T10:41:36.818Z"
   },
   {
    "duration": 14,
    "start_time": "2023-06-09T10:41:36.939Z"
   },
   {
    "duration": 39,
    "start_time": "2023-06-09T10:41:36.955Z"
   },
   {
    "duration": 41,
    "start_time": "2023-06-09T10:41:36.996Z"
   },
   {
    "duration": 33,
    "start_time": "2023-06-09T10:41:37.042Z"
   },
   {
    "duration": 31,
    "start_time": "2023-06-09T10:41:37.082Z"
   },
   {
    "duration": 55,
    "start_time": "2023-06-09T10:41:37.116Z"
   },
   {
    "duration": 144,
    "start_time": "2023-06-09T10:41:37.177Z"
   },
   {
    "duration": 363,
    "start_time": "2023-06-09T10:41:37.323Z"
   },
   {
    "duration": 318,
    "start_time": "2023-06-09T10:41:37.692Z"
   },
   {
    "duration": 5,
    "start_time": "2023-06-09T10:41:38.012Z"
   },
   {
    "duration": 50,
    "start_time": "2023-06-09T10:41:38.019Z"
   },
   {
    "duration": 146,
    "start_time": "2023-06-09T10:41:38.086Z"
   },
   {
    "duration": 37,
    "start_time": "2023-06-09T10:41:38.238Z"
   },
   {
    "duration": 2328,
    "start_time": "2023-06-09T10:41:38.277Z"
   },
   {
    "duration": 5749,
    "start_time": "2023-06-09T10:41:40.608Z"
   },
   {
    "duration": 233,
    "start_time": "2023-06-09T10:41:46.360Z"
   },
   {
    "duration": 141,
    "start_time": "2023-06-09T10:50:03.847Z"
   },
   {
    "duration": 2660,
    "start_time": "2023-06-09T10:50:11.213Z"
   },
   {
    "duration": 3501,
    "start_time": "2023-06-09T10:50:13.882Z"
   },
   {
    "duration": 30,
    "start_time": "2023-06-09T10:50:17.389Z"
   },
   {
    "duration": 320,
    "start_time": "2023-06-09T10:50:17.425Z"
   },
   {
    "duration": 293,
    "start_time": "2023-06-09T10:50:17.752Z"
   },
   {
    "duration": 79,
    "start_time": "2023-06-09T10:50:18.051Z"
   },
   {
    "duration": 417,
    "start_time": "2023-06-09T10:50:18.136Z"
   },
   {
    "duration": 86,
    "start_time": "2023-06-09T10:50:18.559Z"
   },
   {
    "duration": 513,
    "start_time": "2023-06-09T10:50:18.652Z"
   },
   {
    "duration": 80,
    "start_time": "2023-06-09T10:50:19.171Z"
   },
   {
    "duration": 258,
    "start_time": "2023-06-09T10:50:19.258Z"
   },
   {
    "duration": 64,
    "start_time": "2023-06-09T10:50:19.518Z"
   },
   {
    "duration": 84,
    "start_time": "2023-06-09T10:50:19.584Z"
   },
   {
    "duration": 84,
    "start_time": "2023-06-09T10:50:19.677Z"
   },
   {
    "duration": 48,
    "start_time": "2023-06-09T10:50:19.770Z"
   },
   {
    "duration": 295,
    "start_time": "2023-06-09T10:50:19.830Z"
   },
   {
    "duration": 878,
    "start_time": "2023-06-09T10:50:20.134Z"
   },
   {
    "duration": 286,
    "start_time": "2023-06-09T10:50:21.019Z"
   },
   {
    "duration": 257,
    "start_time": "2023-06-09T10:50:21.312Z"
   },
   {
    "duration": 32,
    "start_time": "2023-06-09T10:50:21.575Z"
   },
   {
    "duration": 296,
    "start_time": "2023-06-09T10:50:21.613Z"
   },
   {
    "duration": 30,
    "start_time": "2023-06-09T10:50:21.915Z"
   },
   {
    "duration": 426,
    "start_time": "2023-06-09T10:50:21.958Z"
   },
   {
    "duration": 50,
    "start_time": "2023-06-09T10:50:22.392Z"
   },
   {
    "duration": 57,
    "start_time": "2023-06-09T10:50:22.464Z"
   },
   {
    "duration": 12,
    "start_time": "2023-06-09T10:50:22.524Z"
   },
   {
    "duration": 51,
    "start_time": "2023-06-09T10:50:22.538Z"
   },
   {
    "duration": 18,
    "start_time": "2023-06-09T10:50:22.591Z"
   },
   {
    "duration": 112,
    "start_time": "2023-06-09T10:50:22.615Z"
   },
   {
    "duration": 7,
    "start_time": "2023-06-09T10:50:22.734Z"
   },
   {
    "duration": 74,
    "start_time": "2023-06-09T10:50:22.747Z"
   },
   {
    "duration": 62,
    "start_time": "2023-06-09T10:50:22.825Z"
   },
   {
    "duration": 86,
    "start_time": "2023-06-09T10:50:22.889Z"
   },
   {
    "duration": 60,
    "start_time": "2023-06-09T10:50:22.984Z"
   },
   {
    "duration": 79,
    "start_time": "2023-06-09T10:50:23.046Z"
   },
   {
    "duration": 226,
    "start_time": "2023-06-09T10:50:23.135Z"
   },
   {
    "duration": 402,
    "start_time": "2023-06-09T10:50:23.367Z"
   },
   {
    "duration": 246,
    "start_time": "2023-06-09T10:50:23.779Z"
   },
   {
    "duration": 24,
    "start_time": "2023-06-09T10:50:24.033Z"
   },
   {
    "duration": 26,
    "start_time": "2023-06-09T10:50:24.070Z"
   },
   {
    "duration": 242,
    "start_time": "2023-06-09T10:50:24.109Z"
   },
   {
    "duration": 35,
    "start_time": "2023-06-09T10:50:24.354Z"
   },
   {
    "duration": 2493,
    "start_time": "2023-06-09T10:50:24.396Z"
   },
   {
    "duration": 6225,
    "start_time": "2023-06-09T10:50:26.892Z"
   },
   {
    "duration": 2716,
    "start_time": "2023-06-09T12:04:22.417Z"
   },
   {
    "duration": 6631,
    "start_time": "2023-06-09T12:04:25.153Z"
   },
   {
    "duration": 24,
    "start_time": "2023-06-09T12:04:31.786Z"
   },
   {
    "duration": 411,
    "start_time": "2023-06-09T12:04:31.812Z"
   },
   {
    "duration": 332,
    "start_time": "2023-06-09T12:04:32.233Z"
   },
   {
    "duration": 104,
    "start_time": "2023-06-09T12:04:32.571Z"
   },
   {
    "duration": 555,
    "start_time": "2023-06-09T12:04:32.677Z"
   },
   {
    "duration": 85,
    "start_time": "2023-06-09T12:04:33.234Z"
   },
   {
    "duration": 708,
    "start_time": "2023-06-09T12:04:33.325Z"
   },
   {
    "duration": 139,
    "start_time": "2023-06-09T12:04:34.050Z"
   },
   {
    "duration": 312,
    "start_time": "2023-06-09T12:04:34.202Z"
   },
   {
    "duration": 105,
    "start_time": "2023-06-09T12:04:34.518Z"
   },
   {
    "duration": 92,
    "start_time": "2023-06-09T12:04:34.633Z"
   },
   {
    "duration": 95,
    "start_time": "2023-06-09T12:04:34.734Z"
   },
   {
    "duration": 33,
    "start_time": "2023-06-09T12:04:34.847Z"
   },
   {
    "duration": 304,
    "start_time": "2023-06-09T12:04:34.886Z"
   },
   {
    "duration": 918,
    "start_time": "2023-06-09T12:04:35.197Z"
   },
   {
    "duration": 332,
    "start_time": "2023-06-09T12:04:36.126Z"
   },
   {
    "duration": 277,
    "start_time": "2023-06-09T12:04:36.466Z"
   },
   {
    "duration": 34,
    "start_time": "2023-06-09T12:04:36.754Z"
   },
   {
    "duration": 288,
    "start_time": "2023-06-09T12:04:36.796Z"
   },
   {
    "duration": 27,
    "start_time": "2023-06-09T12:04:37.097Z"
   },
   {
    "duration": 422,
    "start_time": "2023-06-09T12:04:37.131Z"
   },
   {
    "duration": 69,
    "start_time": "2023-06-09T12:04:37.559Z"
   },
   {
    "duration": 79,
    "start_time": "2023-06-09T12:04:37.635Z"
   },
   {
    "duration": 11,
    "start_time": "2023-06-09T12:04:37.720Z"
   },
   {
    "duration": 28,
    "start_time": "2023-06-09T12:04:37.741Z"
   },
   {
    "duration": 18,
    "start_time": "2023-06-09T12:04:37.776Z"
   },
   {
    "duration": 99,
    "start_time": "2023-06-09T12:04:37.801Z"
   },
   {
    "duration": 14,
    "start_time": "2023-06-09T12:04:37.910Z"
   },
   {
    "duration": 80,
    "start_time": "2023-06-09T12:04:37.936Z"
   },
   {
    "duration": 67,
    "start_time": "2023-06-09T12:04:38.028Z"
   },
   {
    "duration": 39,
    "start_time": "2023-06-09T12:04:38.110Z"
   },
   {
    "duration": 40,
    "start_time": "2023-06-09T12:04:38.151Z"
   },
   {
    "duration": 52,
    "start_time": "2023-06-09T12:04:38.196Z"
   },
   {
    "duration": 181,
    "start_time": "2023-06-09T12:04:38.254Z"
   },
   {
    "duration": 360,
    "start_time": "2023-06-09T12:04:38.437Z"
   },
   {
    "duration": 256,
    "start_time": "2023-06-09T12:04:38.799Z"
   },
   {
    "duration": 5,
    "start_time": "2023-06-09T12:04:39.064Z"
   },
   {
    "duration": 9,
    "start_time": "2023-06-09T12:04:39.070Z"
   },
   {
    "duration": 200,
    "start_time": "2023-06-09T12:04:39.091Z"
   },
   {
    "duration": 47,
    "start_time": "2023-06-09T12:04:39.294Z"
   },
   {
    "duration": 2833,
    "start_time": "2023-06-09T12:04:39.352Z"
   },
   {
    "duration": 5594,
    "start_time": "2023-06-09T12:04:42.198Z"
   },
   {
    "duration": 14,
    "start_time": "2023-06-09T12:04:47.799Z"
   },
   {
    "duration": 2470,
    "start_time": "2023-06-09T12:08:25.119Z"
   },
   {
    "duration": 23,
    "start_time": "2023-06-09T12:11:44.942Z"
   },
   {
    "duration": 1328,
    "start_time": "2023-06-09T12:11:44.967Z"
   },
   {
    "duration": 23,
    "start_time": "2023-06-09T12:11:46.297Z"
   },
   {
    "duration": 274,
    "start_time": "2023-06-09T12:11:46.322Z"
   },
   {
    "duration": 292,
    "start_time": "2023-06-09T12:11:46.599Z"
   },
   {
    "duration": 93,
    "start_time": "2023-06-09T12:11:46.895Z"
   },
   {
    "duration": 429,
    "start_time": "2023-06-09T12:11:46.994Z"
   },
   {
    "duration": 76,
    "start_time": "2023-06-09T12:11:47.425Z"
   },
   {
    "duration": 570,
    "start_time": "2023-06-09T12:11:47.503Z"
   },
   {
    "duration": 87,
    "start_time": "2023-06-09T12:11:48.086Z"
   },
   {
    "duration": 250,
    "start_time": "2023-06-09T12:11:48.189Z"
   },
   {
    "duration": 77,
    "start_time": "2023-06-09T12:11:48.441Z"
   },
   {
    "duration": 81,
    "start_time": "2023-06-09T12:11:48.520Z"
   },
   {
    "duration": 51,
    "start_time": "2023-06-09T12:11:48.607Z"
   },
   {
    "duration": 30,
    "start_time": "2023-06-09T12:11:48.660Z"
   },
   {
    "duration": 248,
    "start_time": "2023-06-09T12:11:48.694Z"
   },
   {
    "duration": 774,
    "start_time": "2023-06-09T12:11:48.943Z"
   },
   {
    "duration": 252,
    "start_time": "2023-06-09T12:11:49.721Z"
   },
   {
    "duration": 310,
    "start_time": "2023-06-09T12:11:49.980Z"
   },
   {
    "duration": 26,
    "start_time": "2023-06-09T12:11:50.296Z"
   },
   {
    "duration": 240,
    "start_time": "2023-06-09T12:11:50.324Z"
   },
   {
    "duration": 17,
    "start_time": "2023-06-09T12:11:50.570Z"
   },
   {
    "duration": 336,
    "start_time": "2023-06-09T12:11:50.593Z"
   },
   {
    "duration": 58,
    "start_time": "2023-06-09T12:11:50.939Z"
   },
   {
    "duration": 38,
    "start_time": "2023-06-09T12:11:51.002Z"
   },
   {
    "duration": 10,
    "start_time": "2023-06-09T12:11:51.044Z"
   },
   {
    "duration": 55,
    "start_time": "2023-06-09T12:11:51.056Z"
   },
   {
    "duration": 20,
    "start_time": "2023-06-09T12:11:51.116Z"
   },
   {
    "duration": 105,
    "start_time": "2023-06-09T12:11:51.145Z"
   },
   {
    "duration": 4,
    "start_time": "2023-06-09T12:11:51.252Z"
   },
   {
    "duration": 50,
    "start_time": "2023-06-09T12:11:51.258Z"
   },
   {
    "duration": 33,
    "start_time": "2023-06-09T12:11:51.310Z"
   },
   {
    "duration": 34,
    "start_time": "2023-06-09T12:11:51.346Z"
   },
   {
    "duration": 45,
    "start_time": "2023-06-09T12:11:51.383Z"
   },
   {
    "duration": 37,
    "start_time": "2023-06-09T12:11:51.431Z"
   },
   {
    "duration": 188,
    "start_time": "2023-06-09T12:11:51.474Z"
   },
   {
    "duration": 358,
    "start_time": "2023-06-09T12:11:51.667Z"
   },
   {
    "duration": 282,
    "start_time": "2023-06-09T12:11:52.028Z"
   },
   {
    "duration": 7,
    "start_time": "2023-06-09T12:11:52.317Z"
   },
   {
    "duration": 8,
    "start_time": "2023-06-09T12:11:52.329Z"
   },
   {
    "duration": 167,
    "start_time": "2023-06-09T12:11:52.347Z"
   },
   {
    "duration": 36,
    "start_time": "2023-06-09T12:11:52.516Z"
   },
   {
    "duration": 2467,
    "start_time": "2023-06-09T12:11:52.554Z"
   },
   {
    "duration": 4772,
    "start_time": "2023-06-09T12:11:55.023Z"
   },
   {
    "duration": 6,
    "start_time": "2023-06-09T12:11:59.801Z"
   },
   {
    "duration": 187,
    "start_time": "2023-06-09T12:12:03.755Z"
   },
   {
    "duration": 1968,
    "start_time": "2023-06-09T12:36:02.024Z"
   },
   {
    "duration": 1188,
    "start_time": "2023-06-09T12:36:03.997Z"
   },
   {
    "duration": 20,
    "start_time": "2023-06-09T12:36:05.187Z"
   },
   {
    "duration": 233,
    "start_time": "2023-06-09T12:36:05.208Z"
   },
   {
    "duration": 238,
    "start_time": "2023-06-09T12:36:05.447Z"
   },
   {
    "duration": 51,
    "start_time": "2023-06-09T12:36:05.687Z"
   },
   {
    "duration": 365,
    "start_time": "2023-06-09T12:36:05.753Z"
   },
   {
    "duration": 76,
    "start_time": "2023-06-09T12:36:06.120Z"
   },
   {
    "duration": 531,
    "start_time": "2023-06-09T12:36:06.198Z"
   },
   {
    "duration": 68,
    "start_time": "2023-06-09T12:36:06.730Z"
   },
   {
    "duration": 213,
    "start_time": "2023-06-09T12:36:06.801Z"
   },
   {
    "duration": 62,
    "start_time": "2023-06-09T12:36:07.016Z"
   },
   {
    "duration": 69,
    "start_time": "2023-06-09T12:36:07.079Z"
   },
   {
    "duration": 58,
    "start_time": "2023-06-09T12:36:07.152Z"
   },
   {
    "duration": 43,
    "start_time": "2023-06-09T12:36:07.212Z"
   },
   {
    "duration": 216,
    "start_time": "2023-06-09T12:36:07.268Z"
   },
   {
    "duration": 740,
    "start_time": "2023-06-09T12:36:07.487Z"
   },
   {
    "duration": 242,
    "start_time": "2023-06-09T12:36:08.238Z"
   },
   {
    "duration": 197,
    "start_time": "2023-06-09T12:36:08.483Z"
   },
   {
    "duration": 22,
    "start_time": "2023-06-09T12:36:08.685Z"
   },
   {
    "duration": 208,
    "start_time": "2023-06-09T12:36:08.709Z"
   },
   {
    "duration": 20,
    "start_time": "2023-06-09T12:36:08.924Z"
   },
   {
    "duration": 301,
    "start_time": "2023-06-09T12:36:08.946Z"
   },
   {
    "duration": 31,
    "start_time": "2023-06-09T12:36:09.254Z"
   },
   {
    "duration": 45,
    "start_time": "2023-06-09T12:36:09.288Z"
   },
   {
    "duration": 7,
    "start_time": "2023-06-09T12:36:09.335Z"
   },
   {
    "duration": 42,
    "start_time": "2023-06-09T12:36:09.344Z"
   },
   {
    "duration": 64,
    "start_time": "2023-06-09T12:36:09.388Z"
   },
   {
    "duration": 102,
    "start_time": "2023-06-09T12:36:09.455Z"
   },
   {
    "duration": 4,
    "start_time": "2023-06-09T12:36:09.567Z"
   },
   {
    "duration": 33,
    "start_time": "2023-06-09T12:36:09.573Z"
   },
   {
    "duration": 58,
    "start_time": "2023-06-09T12:36:09.610Z"
   },
   {
    "duration": 40,
    "start_time": "2023-06-09T12:36:09.675Z"
   },
   {
    "duration": 71,
    "start_time": "2023-06-09T12:36:09.718Z"
   },
   {
    "duration": 28,
    "start_time": "2023-06-09T12:36:09.795Z"
   },
   {
    "duration": 169,
    "start_time": "2023-06-09T12:36:09.843Z"
   },
   {
    "duration": 351,
    "start_time": "2023-06-09T12:36:10.014Z"
   },
   {
    "duration": 228,
    "start_time": "2023-06-09T12:36:10.372Z"
   },
   {
    "duration": 10,
    "start_time": "2023-06-09T12:36:10.602Z"
   },
   {
    "duration": 16,
    "start_time": "2023-06-09T12:36:10.615Z"
   },
   {
    "duration": 172,
    "start_time": "2023-06-09T12:36:10.638Z"
   },
   {
    "duration": 28,
    "start_time": "2023-06-09T12:36:10.812Z"
   },
   {
    "duration": 2120,
    "start_time": "2023-06-09T12:36:10.849Z"
   },
   {
    "duration": 5544,
    "start_time": "2023-06-09T12:36:12.971Z"
   },
   {
    "duration": 4,
    "start_time": "2023-06-09T12:36:18.517Z"
   },
   {
    "duration": 1975,
    "start_time": "2023-06-09T12:36:39.894Z"
   },
   {
    "duration": 1212,
    "start_time": "2023-06-09T12:36:41.872Z"
   },
   {
    "duration": 31,
    "start_time": "2023-06-09T12:36:43.086Z"
   },
   {
    "duration": 254,
    "start_time": "2023-06-09T12:36:43.119Z"
   },
   {
    "duration": 256,
    "start_time": "2023-06-09T12:36:43.377Z"
   },
   {
    "duration": 56,
    "start_time": "2023-06-09T12:36:43.637Z"
   },
   {
    "duration": 338,
    "start_time": "2023-06-09T12:36:43.695Z"
   },
   {
    "duration": 61,
    "start_time": "2023-06-09T12:36:44.035Z"
   },
   {
    "duration": 478,
    "start_time": "2023-06-09T12:36:44.098Z"
   },
   {
    "duration": 81,
    "start_time": "2023-06-09T12:36:44.586Z"
   },
   {
    "duration": 208,
    "start_time": "2023-06-09T12:36:44.675Z"
   },
   {
    "duration": 35,
    "start_time": "2023-06-09T12:36:44.885Z"
   },
   {
    "duration": 70,
    "start_time": "2023-06-09T12:36:44.926Z"
   },
   {
    "duration": 49,
    "start_time": "2023-06-09T12:36:45.000Z"
   },
   {
    "duration": 29,
    "start_time": "2023-06-09T12:36:45.053Z"
   },
   {
    "duration": 211,
    "start_time": "2023-06-09T12:36:45.084Z"
   },
   {
    "duration": 696,
    "start_time": "2023-06-09T12:36:45.297Z"
   },
   {
    "duration": 224,
    "start_time": "2023-06-09T12:36:45.995Z"
   },
   {
    "duration": 221,
    "start_time": "2023-06-09T12:36:46.226Z"
   },
   {
    "duration": 38,
    "start_time": "2023-06-09T12:36:46.451Z"
   },
   {
    "duration": 271,
    "start_time": "2023-06-09T12:36:46.491Z"
   },
   {
    "duration": 20,
    "start_time": "2023-06-09T12:36:46.765Z"
   },
   {
    "duration": 295,
    "start_time": "2023-06-09T12:36:46.788Z"
   },
   {
    "duration": 25,
    "start_time": "2023-06-09T12:36:47.092Z"
   },
   {
    "duration": 47,
    "start_time": "2023-06-09T12:36:47.120Z"
   },
   {
    "duration": 6,
    "start_time": "2023-06-09T12:36:47.170Z"
   },
   {
    "duration": 12,
    "start_time": "2023-06-09T12:36:47.181Z"
   },
   {
    "duration": 8,
    "start_time": "2023-06-09T12:36:47.195Z"
   },
   {
    "duration": 102,
    "start_time": "2023-06-09T12:36:47.205Z"
   },
   {
    "duration": 4,
    "start_time": "2023-06-09T12:36:47.309Z"
   },
   {
    "duration": 52,
    "start_time": "2023-06-09T12:36:47.331Z"
   },
   {
    "duration": 33,
    "start_time": "2023-06-09T12:36:47.385Z"
   },
   {
    "duration": 54,
    "start_time": "2023-06-09T12:36:47.420Z"
   },
   {
    "duration": 19,
    "start_time": "2023-06-09T12:36:47.479Z"
   },
   {
    "duration": 26,
    "start_time": "2023-06-09T12:36:47.500Z"
   },
   {
    "duration": 156,
    "start_time": "2023-06-09T12:36:47.530Z"
   },
   {
    "duration": 296,
    "start_time": "2023-06-09T12:36:47.688Z"
   },
   {
    "duration": 201,
    "start_time": "2023-06-09T12:36:47.986Z"
   },
   {
    "duration": 4,
    "start_time": "2023-06-09T12:36:48.189Z"
   },
   {
    "duration": 11,
    "start_time": "2023-06-09T12:36:48.194Z"
   },
   {
    "duration": 164,
    "start_time": "2023-06-09T12:36:48.226Z"
   },
   {
    "duration": 57,
    "start_time": "2023-06-09T12:36:48.392Z"
   },
   {
    "duration": 2073,
    "start_time": "2023-06-09T12:36:48.461Z"
   },
   {
    "duration": 5471,
    "start_time": "2023-06-09T12:36:50.536Z"
   },
   {
    "duration": 3,
    "start_time": "2023-06-09T12:36:56.010Z"
   },
   {
    "duration": 1891,
    "start_time": "2023-06-09T14:57:13.642Z"
   },
   {
    "duration": 964,
    "start_time": "2023-06-09T14:57:15.543Z"
   },
   {
    "duration": 34,
    "start_time": "2023-06-09T14:57:16.509Z"
   },
   {
    "duration": 159,
    "start_time": "2023-06-09T14:57:16.545Z"
   },
   {
    "duration": 231,
    "start_time": "2023-06-09T14:57:16.707Z"
   },
   {
    "duration": 37,
    "start_time": "2023-06-09T14:57:16.940Z"
   },
   {
    "duration": 319,
    "start_time": "2023-06-09T14:57:16.979Z"
   },
   {
    "duration": 50,
    "start_time": "2023-06-09T14:57:17.300Z"
   },
   {
    "duration": 502,
    "start_time": "2023-06-09T14:57:17.351Z"
   },
   {
    "duration": 37,
    "start_time": "2023-06-09T14:57:17.855Z"
   },
   {
    "duration": 205,
    "start_time": "2023-06-09T14:57:17.895Z"
   },
   {
    "duration": 72,
    "start_time": "2023-06-09T14:57:18.102Z"
   },
   {
    "duration": 192,
    "start_time": "2023-06-09T14:57:18.177Z"
   },
   {
    "duration": 66,
    "start_time": "2023-06-09T14:57:18.372Z"
   },
   {
    "duration": 20,
    "start_time": "2023-06-09T14:57:18.439Z"
   },
   {
    "duration": 142,
    "start_time": "2023-06-09T14:57:18.461Z"
   },
   {
    "duration": 587,
    "start_time": "2023-06-09T14:57:18.605Z"
   },
   {
    "duration": 202,
    "start_time": "2023-06-09T14:57:19.194Z"
   },
   {
    "duration": 183,
    "start_time": "2023-06-09T14:57:19.398Z"
   },
   {
    "duration": 21,
    "start_time": "2023-06-09T14:57:19.583Z"
   },
   {
    "duration": 227,
    "start_time": "2023-06-09T14:57:19.606Z"
   },
   {
    "duration": 14,
    "start_time": "2023-06-09T14:57:19.843Z"
   },
   {
    "duration": 317,
    "start_time": "2023-06-09T14:57:19.860Z"
   },
   {
    "duration": 25,
    "start_time": "2023-06-09T14:57:20.179Z"
   },
   {
    "duration": 52,
    "start_time": "2023-06-09T14:57:20.206Z"
   },
   {
    "duration": 16,
    "start_time": "2023-06-09T14:57:20.260Z"
   },
   {
    "duration": 37,
    "start_time": "2023-06-09T14:57:20.278Z"
   },
   {
    "duration": 29,
    "start_time": "2023-06-09T14:57:20.316Z"
   },
   {
    "duration": 77,
    "start_time": "2023-06-09T14:57:20.347Z"
   },
   {
    "duration": 10,
    "start_time": "2023-06-09T14:57:20.426Z"
   },
   {
    "duration": 34,
    "start_time": "2023-06-09T14:57:20.444Z"
   },
   {
    "duration": 23,
    "start_time": "2023-06-09T14:57:20.480Z"
   },
   {
    "duration": 50,
    "start_time": "2023-06-09T14:57:20.505Z"
   },
   {
    "duration": 35,
    "start_time": "2023-06-09T14:57:20.557Z"
   },
   {
    "duration": 27,
    "start_time": "2023-06-09T14:57:20.594Z"
   },
   {
    "duration": 120,
    "start_time": "2023-06-09T14:57:20.623Z"
   },
   {
    "duration": 263,
    "start_time": "2023-06-09T14:57:20.744Z"
   },
   {
    "duration": 192,
    "start_time": "2023-06-09T14:57:21.009Z"
   },
   {
    "duration": 3,
    "start_time": "2023-06-09T14:57:21.203Z"
   },
   {
    "duration": 29,
    "start_time": "2023-06-09T14:57:21.208Z"
   },
   {
    "duration": 116,
    "start_time": "2023-06-09T14:57:21.242Z"
   },
   {
    "duration": 26,
    "start_time": "2023-06-09T14:57:21.360Z"
   },
   {
    "duration": 1735,
    "start_time": "2023-06-09T14:57:21.388Z"
   },
   {
    "duration": 5211,
    "start_time": "2023-06-09T14:57:23.126Z"
   },
   {
    "duration": 4,
    "start_time": "2023-06-09T14:57:28.345Z"
   },
   {
    "duration": 1945,
    "start_time": "2023-06-09T16:09:00.338Z"
   },
   {
    "duration": 3370,
    "start_time": "2023-06-09T16:09:02.285Z"
   },
   {
    "duration": 19,
    "start_time": "2023-06-09T16:09:05.657Z"
   },
   {
    "duration": 188,
    "start_time": "2023-06-09T16:09:05.678Z"
   },
   {
    "duration": 214,
    "start_time": "2023-06-09T16:09:05.867Z"
   },
   {
    "duration": 48,
    "start_time": "2023-06-09T16:09:06.082Z"
   },
   {
    "duration": 307,
    "start_time": "2023-06-09T16:09:06.132Z"
   },
   {
    "duration": 37,
    "start_time": "2023-06-09T16:09:06.441Z"
   },
   {
    "duration": 384,
    "start_time": "2023-06-09T16:09:06.480Z"
   },
   {
    "duration": 39,
    "start_time": "2023-06-09T16:09:06.868Z"
   },
   {
    "duration": 213,
    "start_time": "2023-06-09T16:09:06.909Z"
   },
   {
    "duration": 45,
    "start_time": "2023-06-09T16:09:07.130Z"
   },
   {
    "duration": 58,
    "start_time": "2023-06-09T16:09:07.177Z"
   },
   {
    "duration": 49,
    "start_time": "2023-06-09T16:09:07.237Z"
   },
   {
    "duration": 48,
    "start_time": "2023-06-09T16:09:07.288Z"
   },
   {
    "duration": 167,
    "start_time": "2023-06-09T16:09:07.338Z"
   },
   {
    "duration": 592,
    "start_time": "2023-06-09T16:09:07.508Z"
   },
   {
    "duration": 203,
    "start_time": "2023-06-09T16:09:08.102Z"
   },
   {
    "duration": 185,
    "start_time": "2023-06-09T16:09:08.306Z"
   },
   {
    "duration": 34,
    "start_time": "2023-06-09T16:09:08.493Z"
   },
   {
    "duration": 177,
    "start_time": "2023-06-09T16:09:08.535Z"
   },
   {
    "duration": 21,
    "start_time": "2023-06-09T16:09:08.714Z"
   },
   {
    "duration": 256,
    "start_time": "2023-06-09T16:09:08.743Z"
   },
   {
    "duration": 45,
    "start_time": "2023-06-09T16:09:09.001Z"
   },
   {
    "duration": 27,
    "start_time": "2023-06-09T16:09:09.049Z"
   },
   {
    "duration": 14,
    "start_time": "2023-06-09T16:09:09.078Z"
   },
   {
    "duration": 22,
    "start_time": "2023-06-09T16:09:09.095Z"
   },
   {
    "duration": 12,
    "start_time": "2023-06-09T16:09:09.125Z"
   },
   {
    "duration": 82,
    "start_time": "2023-06-09T16:09:09.139Z"
   },
   {
    "duration": 8,
    "start_time": "2023-06-09T16:09:09.223Z"
   },
   {
    "duration": 47,
    "start_time": "2023-06-09T16:09:09.236Z"
   },
   {
    "duration": 44,
    "start_time": "2023-06-09T16:09:09.286Z"
   },
   {
    "duration": 8,
    "start_time": "2023-06-09T16:09:09.338Z"
   },
   {
    "duration": 43,
    "start_time": "2023-06-09T16:09:09.348Z"
   },
   {
    "duration": 27,
    "start_time": "2023-06-09T16:09:09.393Z"
   },
   {
    "duration": 99,
    "start_time": "2023-06-09T16:09:09.423Z"
   },
   {
    "duration": 253,
    "start_time": "2023-06-09T16:09:09.523Z"
   },
   {
    "duration": 185,
    "start_time": "2023-06-09T16:09:09.779Z"
   },
   {
    "duration": 5,
    "start_time": "2023-06-09T16:09:09.967Z"
   },
   {
    "duration": 8,
    "start_time": "2023-06-09T16:09:09.975Z"
   },
   {
    "duration": 138,
    "start_time": "2023-06-09T16:09:09.985Z"
   },
   {
    "duration": 18,
    "start_time": "2023-06-09T16:09:10.125Z"
   },
   {
    "duration": 890,
    "start_time": "2023-06-09T16:09:10.150Z"
   },
   {
    "duration": 715,
    "start_time": "2023-06-09T16:09:11.042Z"
   },
   {
    "duration": 3,
    "start_time": "2023-06-09T16:09:11.759Z"
   },
   {
    "duration": 413127,
    "start_time": "2023-06-09T16:09:22.885Z"
   },
   {
    "duration": 71336,
    "start_time": "2023-06-09T16:16:20.027Z"
   },
   {
    "duration": 6,
    "start_time": "2023-06-09T16:21:14.948Z"
   },
   {
    "duration": 1128,
    "start_time": "2023-06-09T16:21:14.957Z"
   },
   {
    "duration": 16,
    "start_time": "2023-06-09T16:21:16.087Z"
   },
   {
    "duration": 193,
    "start_time": "2023-06-09T16:21:16.105Z"
   },
   {
    "duration": 198,
    "start_time": "2023-06-09T16:21:16.301Z"
   },
   {
    "duration": 53,
    "start_time": "2023-06-09T16:21:16.501Z"
   },
   {
    "duration": 306,
    "start_time": "2023-06-09T16:21:16.556Z"
   },
   {
    "duration": 38,
    "start_time": "2023-06-09T16:21:16.864Z"
   },
   {
    "duration": 462,
    "start_time": "2023-06-09T16:21:16.905Z"
   },
   {
    "duration": 40,
    "start_time": "2023-06-09T16:21:17.368Z"
   },
   {
    "duration": 280,
    "start_time": "2023-06-09T16:21:17.410Z"
   },
   {
    "duration": 54,
    "start_time": "2023-06-09T16:21:17.692Z"
   },
   {
    "duration": 72,
    "start_time": "2023-06-09T16:21:17.748Z"
   },
   {
    "duration": 60,
    "start_time": "2023-06-09T16:21:17.823Z"
   },
   {
    "duration": 206,
    "start_time": "2023-06-09T16:21:17.885Z"
   },
   {
    "duration": 207,
    "start_time": "2023-06-09T16:21:18.093Z"
   },
   {
    "duration": 557,
    "start_time": "2023-06-09T16:21:18.302Z"
   },
   {
    "duration": 214,
    "start_time": "2023-06-09T16:21:18.861Z"
   },
   {
    "duration": 177,
    "start_time": "2023-06-09T16:21:19.077Z"
   },
   {
    "duration": 16,
    "start_time": "2023-06-09T16:21:19.256Z"
   },
   {
    "duration": 192,
    "start_time": "2023-06-09T16:21:19.274Z"
   },
   {
    "duration": 10,
    "start_time": "2023-06-09T16:21:19.467Z"
   },
   {
    "duration": 307,
    "start_time": "2023-06-09T16:21:19.479Z"
   },
   {
    "duration": 53,
    "start_time": "2023-06-09T16:21:19.788Z"
   },
   {
    "duration": 21,
    "start_time": "2023-06-09T16:21:19.843Z"
   },
   {
    "duration": 12,
    "start_time": "2023-06-09T16:21:19.867Z"
   },
   {
    "duration": 74,
    "start_time": "2023-06-09T16:21:19.880Z"
   },
   {
    "duration": 59,
    "start_time": "2023-06-09T16:21:19.956Z"
   },
   {
    "duration": 294,
    "start_time": "2023-06-09T16:21:20.018Z"
   },
   {
    "duration": 226,
    "start_time": "2023-06-09T16:21:20.314Z"
   },
   {
    "duration": 64,
    "start_time": "2023-06-09T16:21:20.542Z"
   },
   {
    "duration": 47,
    "start_time": "2023-06-09T16:21:20.609Z"
   },
   {
    "duration": 34,
    "start_time": "2023-06-09T16:21:20.658Z"
   },
   {
    "duration": 54,
    "start_time": "2023-06-09T16:21:20.694Z"
   },
   {
    "duration": 47,
    "start_time": "2023-06-09T16:21:20.750Z"
   },
   {
    "duration": 141,
    "start_time": "2023-06-09T16:21:20.799Z"
   },
   {
    "duration": 219,
    "start_time": "2023-06-09T16:21:20.945Z"
   },
   {
    "duration": 168,
    "start_time": "2023-06-09T16:21:21.166Z"
   },
   {
    "duration": 5,
    "start_time": "2023-06-09T16:21:21.338Z"
   },
   {
    "duration": 27,
    "start_time": "2023-06-09T16:21:21.345Z"
   },
   {
    "duration": 103,
    "start_time": "2023-06-09T16:21:21.376Z"
   },
   {
    "duration": 27,
    "start_time": "2023-06-09T16:21:21.481Z"
   },
   {
    "duration": 174,
    "start_time": "2023-06-09T16:21:21.510Z"
   },
   {
    "duration": 107,
    "start_time": "2023-06-09T16:21:30.516Z"
   },
   {
    "duration": 13,
    "start_time": "2023-06-09T16:27:12.668Z"
   },
   {
    "duration": 5,
    "start_time": "2023-06-09T16:27:16.666Z"
   },
   {
    "duration": 1006,
    "start_time": "2023-06-09T16:27:16.673Z"
   },
   {
    "duration": 15,
    "start_time": "2023-06-09T16:27:17.681Z"
   },
   {
    "duration": 182,
    "start_time": "2023-06-09T16:27:17.697Z"
   },
   {
    "duration": 198,
    "start_time": "2023-06-09T16:27:17.882Z"
   },
   {
    "duration": 47,
    "start_time": "2023-06-09T16:27:18.082Z"
   },
   {
    "duration": 295,
    "start_time": "2023-06-09T16:27:18.135Z"
   },
   {
    "duration": 39,
    "start_time": "2023-06-09T16:27:18.432Z"
   },
   {
    "duration": 396,
    "start_time": "2023-06-09T16:27:18.472Z"
   },
   {
    "duration": 37,
    "start_time": "2023-06-09T16:27:18.870Z"
   },
   {
    "duration": 198,
    "start_time": "2023-06-09T16:27:18.909Z"
   },
   {
    "duration": 55,
    "start_time": "2023-06-09T16:27:19.110Z"
   },
   {
    "duration": 66,
    "start_time": "2023-06-09T16:27:19.167Z"
   },
   {
    "duration": 40,
    "start_time": "2023-06-09T16:27:19.237Z"
   },
   {
    "duration": 26,
    "start_time": "2023-06-09T16:27:19.279Z"
   },
   {
    "duration": 164,
    "start_time": "2023-06-09T16:27:19.307Z"
   },
   {
    "duration": 596,
    "start_time": "2023-06-09T16:27:19.472Z"
   },
   {
    "duration": 205,
    "start_time": "2023-06-09T16:27:20.070Z"
   },
   {
    "duration": 184,
    "start_time": "2023-06-09T16:27:20.277Z"
   },
   {
    "duration": 16,
    "start_time": "2023-06-09T16:27:20.463Z"
   },
   {
    "duration": 189,
    "start_time": "2023-06-09T16:27:20.481Z"
   },
   {
    "duration": 9,
    "start_time": "2023-06-09T16:27:20.672Z"
   },
   {
    "duration": 267,
    "start_time": "2023-06-09T16:27:20.683Z"
   },
   {
    "duration": 22,
    "start_time": "2023-06-09T16:27:20.952Z"
   },
   {
    "duration": 29,
    "start_time": "2023-06-09T16:27:20.976Z"
   },
   {
    "duration": 20,
    "start_time": "2023-06-09T16:27:21.007Z"
   },
   {
    "duration": 24,
    "start_time": "2023-06-09T16:27:21.036Z"
   },
   {
    "duration": 9,
    "start_time": "2023-06-09T16:27:21.063Z"
   },
   {
    "duration": 99,
    "start_time": "2023-06-09T16:27:21.075Z"
   },
   {
    "duration": 4,
    "start_time": "2023-06-09T16:27:21.176Z"
   },
   {
    "duration": 28,
    "start_time": "2023-06-09T16:27:21.182Z"
   },
   {
    "duration": 51,
    "start_time": "2023-06-09T16:27:21.212Z"
   },
   {
    "duration": 40,
    "start_time": "2023-06-09T16:27:21.264Z"
   },
   {
    "duration": 30,
    "start_time": "2023-06-09T16:27:21.306Z"
   },
   {
    "duration": 29,
    "start_time": "2023-06-09T16:27:21.338Z"
   },
   {
    "duration": 106,
    "start_time": "2023-06-09T16:27:21.368Z"
   },
   {
    "duration": 222,
    "start_time": "2023-06-09T16:27:21.476Z"
   },
   {
    "duration": 155,
    "start_time": "2023-06-09T16:27:21.700Z"
   },
   {
    "duration": 3,
    "start_time": "2023-06-09T16:27:21.857Z"
   },
   {
    "duration": 32,
    "start_time": "2023-06-09T16:27:21.862Z"
   },
   {
    "duration": 114,
    "start_time": "2023-06-09T16:27:21.898Z"
   },
   {
    "duration": 58,
    "start_time": "2023-06-09T16:27:22.014Z"
   },
   {
    "duration": 186,
    "start_time": "2023-06-09T16:27:22.074Z"
   },
   {
    "duration": 82,
    "start_time": "2023-06-09T16:27:22.262Z"
   },
   {
    "duration": 4,
    "start_time": "2023-06-09T16:27:22.346Z"
   },
   {
    "duration": 12,
    "start_time": "2023-06-09T16:27:24.840Z"
   },
   {
    "duration": 4,
    "start_time": "2023-06-09T16:27:43.743Z"
   },
   {
    "duration": 177,
    "start_time": "2023-06-09T16:27:48.666Z"
   },
   {
    "duration": 172,
    "start_time": "2023-06-09T16:28:13.366Z"
   },
   {
    "duration": 165,
    "start_time": "2023-06-09T16:29:06.716Z"
   },
   {
    "duration": 6,
    "start_time": "2023-06-09T16:31:10.767Z"
   },
   {
    "duration": 2901,
    "start_time": "2023-06-09T16:35:05.937Z"
   },
   {
    "duration": 2589,
    "start_time": "2023-06-09T16:37:21.186Z"
   },
   {
    "duration": 2601,
    "start_time": "2023-06-09T16:38:14.956Z"
   },
   {
    "duration": 4,
    "start_time": "2023-06-09T16:40:25.442Z"
   },
   {
    "duration": 18,
    "start_time": "2023-06-09T16:41:54.539Z"
   },
   {
    "duration": 21,
    "start_time": "2023-06-09T16:42:23.296Z"
   },
   {
    "duration": 2875,
    "start_time": "2023-06-09T16:42:37.987Z"
   },
   {
    "duration": 1857,
    "start_time": "2023-06-09T16:44:04.955Z"
   },
   {
    "duration": 1117,
    "start_time": "2023-06-09T16:44:06.814Z"
   },
   {
    "duration": 26,
    "start_time": "2023-06-09T16:44:07.936Z"
   },
   {
    "duration": 242,
    "start_time": "2023-06-09T16:44:07.964Z"
   },
   {
    "duration": 207,
    "start_time": "2023-06-09T16:44:08.208Z"
   },
   {
    "duration": 63,
    "start_time": "2023-06-09T16:44:08.417Z"
   },
   {
    "duration": 346,
    "start_time": "2023-06-09T16:44:08.483Z"
   },
   {
    "duration": 44,
    "start_time": "2023-06-09T16:44:08.840Z"
   },
   {
    "duration": 422,
    "start_time": "2023-06-09T16:44:08.886Z"
   },
   {
    "duration": 59,
    "start_time": "2023-06-09T16:44:09.310Z"
   },
   {
    "duration": 216,
    "start_time": "2023-06-09T16:44:09.371Z"
   },
   {
    "duration": 67,
    "start_time": "2023-06-09T16:44:09.589Z"
   },
   {
    "duration": 51,
    "start_time": "2023-06-09T16:44:09.661Z"
   },
   {
    "duration": 76,
    "start_time": "2023-06-09T16:44:09.714Z"
   },
   {
    "duration": 40,
    "start_time": "2023-06-09T16:44:09.792Z"
   },
   {
    "duration": 243,
    "start_time": "2023-06-09T16:44:09.834Z"
   },
   {
    "duration": 706,
    "start_time": "2023-06-09T16:44:10.080Z"
   },
   {
    "duration": 218,
    "start_time": "2023-06-09T16:44:10.788Z"
   },
   {
    "duration": 211,
    "start_time": "2023-06-09T16:44:11.009Z"
   },
   {
    "duration": 32,
    "start_time": "2023-06-09T16:44:11.225Z"
   },
   {
    "duration": 218,
    "start_time": "2023-06-09T16:44:11.260Z"
   },
   {
    "duration": 12,
    "start_time": "2023-06-09T16:44:11.480Z"
   },
   {
    "duration": 346,
    "start_time": "2023-06-09T16:44:11.494Z"
   },
   {
    "duration": 31,
    "start_time": "2023-06-09T16:44:11.842Z"
   },
   {
    "duration": 29,
    "start_time": "2023-06-09T16:44:11.875Z"
   },
   {
    "duration": 39,
    "start_time": "2023-06-09T16:44:11.906Z"
   },
   {
    "duration": 14,
    "start_time": "2023-06-09T16:44:11.958Z"
   },
   {
    "duration": 10,
    "start_time": "2023-06-09T16:44:11.976Z"
   },
   {
    "duration": 102,
    "start_time": "2023-06-09T16:44:11.988Z"
   },
   {
    "duration": 4,
    "start_time": "2023-06-09T16:44:12.093Z"
   },
   {
    "duration": 52,
    "start_time": "2023-06-09T16:44:12.098Z"
   },
   {
    "duration": 31,
    "start_time": "2023-06-09T16:44:12.160Z"
   },
   {
    "duration": 23,
    "start_time": "2023-06-09T16:44:12.193Z"
   },
   {
    "duration": 58,
    "start_time": "2023-06-09T16:44:12.218Z"
   },
   {
    "duration": 31,
    "start_time": "2023-06-09T16:44:12.277Z"
   },
   {
    "duration": 116,
    "start_time": "2023-06-09T16:44:12.310Z"
   },
   {
    "duration": 289,
    "start_time": "2023-06-09T16:44:12.441Z"
   },
   {
    "duration": 169,
    "start_time": "2023-06-09T16:44:12.734Z"
   },
   {
    "duration": 4,
    "start_time": "2023-06-09T16:44:12.904Z"
   },
   {
    "duration": 20,
    "start_time": "2023-06-09T16:44:12.910Z"
   },
   {
    "duration": 130,
    "start_time": "2023-06-09T16:44:12.934Z"
   },
   {
    "duration": 17,
    "start_time": "2023-06-09T16:44:13.066Z"
   },
   {
    "duration": 206,
    "start_time": "2023-06-09T16:44:13.086Z"
   },
   {
    "duration": 96,
    "start_time": "2023-06-09T16:44:13.294Z"
   },
   {
    "duration": 4,
    "start_time": "2023-06-09T16:44:13.391Z"
   },
   {
    "duration": 184,
    "start_time": "2023-06-09T16:44:33.007Z"
   },
   {
    "duration": 5108,
    "start_time": "2023-06-09T16:44:50.071Z"
   },
   {
    "duration": 2246,
    "start_time": "2023-06-09T16:47:32.559Z"
   },
   {
    "duration": 1137,
    "start_time": "2023-06-09T16:47:34.807Z"
   },
   {
    "duration": 26,
    "start_time": "2023-06-09T16:47:35.947Z"
   },
   {
    "duration": 190,
    "start_time": "2023-06-09T16:47:35.975Z"
   },
   {
    "duration": 233,
    "start_time": "2023-06-09T16:47:36.168Z"
   },
   {
    "duration": 67,
    "start_time": "2023-06-09T16:47:36.410Z"
   },
   {
    "duration": 359,
    "start_time": "2023-06-09T16:47:36.479Z"
   },
   {
    "duration": 48,
    "start_time": "2023-06-09T16:47:36.841Z"
   },
   {
    "duration": 522,
    "start_time": "2023-06-09T16:47:36.891Z"
   },
   {
    "duration": 68,
    "start_time": "2023-06-09T16:47:37.415Z"
   },
   {
    "duration": 260,
    "start_time": "2023-06-09T16:47:37.485Z"
   },
   {
    "duration": 43,
    "start_time": "2023-06-09T16:47:37.755Z"
   },
   {
    "duration": 66,
    "start_time": "2023-06-09T16:47:37.800Z"
   },
   {
    "duration": 47,
    "start_time": "2023-06-09T16:47:37.871Z"
   },
   {
    "duration": 38,
    "start_time": "2023-06-09T16:47:37.931Z"
   },
   {
    "duration": 228,
    "start_time": "2023-06-09T16:47:37.971Z"
   },
   {
    "duration": 688,
    "start_time": "2023-06-09T16:47:38.201Z"
   },
   {
    "duration": 241,
    "start_time": "2023-06-09T16:47:38.890Z"
   },
   {
    "duration": 185,
    "start_time": "2023-06-09T16:47:39.133Z"
   },
   {
    "duration": 27,
    "start_time": "2023-06-09T16:47:39.334Z"
   },
   {
    "duration": 235,
    "start_time": "2023-06-09T16:47:39.367Z"
   },
   {
    "duration": 20,
    "start_time": "2023-06-09T16:47:39.604Z"
   },
   {
    "duration": 442,
    "start_time": "2023-06-09T16:47:39.628Z"
   },
   {
    "duration": 26,
    "start_time": "2023-06-09T16:47:40.078Z"
   },
   {
    "duration": 62,
    "start_time": "2023-06-09T16:47:40.109Z"
   },
   {
    "duration": 30,
    "start_time": "2023-06-09T16:47:40.173Z"
   },
   {
    "duration": 29,
    "start_time": "2023-06-09T16:47:40.205Z"
   },
   {
    "duration": 20,
    "start_time": "2023-06-09T16:47:40.242Z"
   },
   {
    "duration": 93,
    "start_time": "2023-06-09T16:47:40.264Z"
   },
   {
    "duration": 4,
    "start_time": "2023-06-09T16:47:40.364Z"
   },
   {
    "duration": 31,
    "start_time": "2023-06-09T16:47:40.372Z"
   },
   {
    "duration": 43,
    "start_time": "2023-06-09T16:47:40.405Z"
   },
   {
    "duration": 14,
    "start_time": "2023-06-09T16:47:40.451Z"
   },
   {
    "duration": 39,
    "start_time": "2023-06-09T16:47:40.467Z"
   },
   {
    "duration": 42,
    "start_time": "2023-06-09T16:47:40.508Z"
   },
   {
    "duration": 103,
    "start_time": "2023-06-09T16:47:40.552Z"
   },
   {
    "duration": 282,
    "start_time": "2023-06-09T16:47:40.658Z"
   },
   {
    "duration": 216,
    "start_time": "2023-06-09T16:47:40.946Z"
   },
   {
    "duration": 5,
    "start_time": "2023-06-09T16:47:41.163Z"
   },
   {
    "duration": 27,
    "start_time": "2023-06-09T16:47:41.169Z"
   },
   {
    "duration": 113,
    "start_time": "2023-06-09T16:47:41.200Z"
   },
   {
    "duration": 27,
    "start_time": "2023-06-09T16:47:41.315Z"
   },
   {
    "duration": 1200,
    "start_time": "2023-06-09T16:47:41.349Z"
   },
   {
    "duration": 0,
    "start_time": "2023-06-09T16:47:42.551Z"
   },
   {
    "duration": 27,
    "start_time": "2023-06-09T16:48:06.562Z"
   },
   {
    "duration": 1993,
    "start_time": "2023-06-09T16:48:19.071Z"
   },
   {
    "duration": 1144,
    "start_time": "2023-06-09T16:48:21.067Z"
   },
   {
    "duration": 33,
    "start_time": "2023-06-09T16:48:22.213Z"
   },
   {
    "duration": 241,
    "start_time": "2023-06-09T16:48:22.251Z"
   },
   {
    "duration": 266,
    "start_time": "2023-06-09T16:48:22.495Z"
   },
   {
    "duration": 48,
    "start_time": "2023-06-09T16:48:22.763Z"
   },
   {
    "duration": 465,
    "start_time": "2023-06-09T16:48:22.813Z"
   },
   {
    "duration": 83,
    "start_time": "2023-06-09T16:48:23.280Z"
   },
   {
    "duration": 413,
    "start_time": "2023-06-09T16:48:23.365Z"
   },
   {
    "duration": 56,
    "start_time": "2023-06-09T16:48:23.780Z"
   },
   {
    "duration": 247,
    "start_time": "2023-06-09T16:48:23.838Z"
   },
   {
    "duration": 65,
    "start_time": "2023-06-09T16:48:24.087Z"
   },
   {
    "duration": 85,
    "start_time": "2023-06-09T16:48:24.163Z"
   },
   {
    "duration": 97,
    "start_time": "2023-06-09T16:48:24.258Z"
   },
   {
    "duration": 46,
    "start_time": "2023-06-09T16:48:24.363Z"
   },
   {
    "duration": 226,
    "start_time": "2023-06-09T16:48:24.412Z"
   },
   {
    "duration": 687,
    "start_time": "2023-06-09T16:48:24.640Z"
   },
   {
    "duration": 233,
    "start_time": "2023-06-09T16:48:25.343Z"
   },
   {
    "duration": 223,
    "start_time": "2023-06-09T16:48:25.578Z"
   },
   {
    "duration": 24,
    "start_time": "2023-06-09T16:48:25.803Z"
   },
   {
    "duration": 202,
    "start_time": "2023-06-09T16:48:25.828Z"
   },
   {
    "duration": 18,
    "start_time": "2023-06-09T16:48:26.034Z"
   },
   {
    "duration": 287,
    "start_time": "2023-06-09T16:48:26.054Z"
   },
   {
    "duration": 32,
    "start_time": "2023-06-09T16:48:26.353Z"
   },
   {
    "duration": 37,
    "start_time": "2023-06-09T16:48:26.387Z"
   },
   {
    "duration": 24,
    "start_time": "2023-06-09T16:48:26.426Z"
   },
   {
    "duration": 25,
    "start_time": "2023-06-09T16:48:26.452Z"
   },
   {
    "duration": 8,
    "start_time": "2023-06-09T16:48:26.480Z"
   },
   {
    "duration": 93,
    "start_time": "2023-06-09T16:48:26.490Z"
   },
   {
    "duration": 4,
    "start_time": "2023-06-09T16:48:26.585Z"
   },
   {
    "duration": 74,
    "start_time": "2023-06-09T16:48:26.591Z"
   },
   {
    "duration": 44,
    "start_time": "2023-06-09T16:48:26.666Z"
   },
   {
    "duration": 29,
    "start_time": "2023-06-09T16:48:26.712Z"
   },
   {
    "duration": 31,
    "start_time": "2023-06-09T16:48:26.750Z"
   },
   {
    "duration": 36,
    "start_time": "2023-06-09T16:48:26.783Z"
   },
   {
    "duration": 159,
    "start_time": "2023-06-09T16:48:26.821Z"
   },
   {
    "duration": 267,
    "start_time": "2023-06-09T16:48:26.982Z"
   },
   {
    "duration": 157,
    "start_time": "2023-06-09T16:48:27.251Z"
   },
   {
    "duration": 24,
    "start_time": "2023-06-09T16:48:27.410Z"
   },
   {
    "duration": 16,
    "start_time": "2023-06-09T16:48:27.437Z"
   },
   {
    "duration": 126,
    "start_time": "2023-06-09T16:48:27.459Z"
   },
   {
    "duration": 13,
    "start_time": "2023-06-09T16:48:27.588Z"
   },
   {
    "duration": 1053,
    "start_time": "2023-06-09T16:48:27.604Z"
   },
   {
    "duration": 687,
    "start_time": "2023-06-09T16:48:33.917Z"
   },
   {
    "duration": 11,
    "start_time": "2023-06-09T16:48:38.347Z"
   },
   {
    "duration": 207661,
    "start_time": "2023-06-09T16:49:53.206Z"
   },
   {
    "duration": 104057,
    "start_time": "2023-06-09T16:53:23.155Z"
   },
   {
    "duration": 727541,
    "start_time": "2023-06-09T16:55:08.976Z"
   },
   {
    "duration": 13,
    "start_time": "2023-06-09T17:07:16.520Z"
   },
   {
    "duration": 373530,
    "start_time": "2023-06-09T17:07:31.131Z"
   },
   {
    "duration": 3015,
    "start_time": "2023-06-09T18:28:10.952Z"
   },
   {
    "duration": 2881,
    "start_time": "2023-06-09T18:28:13.970Z"
   },
   {
    "duration": 16,
    "start_time": "2023-06-09T18:28:16.853Z"
   },
   {
    "duration": 126,
    "start_time": "2023-06-09T18:28:16.871Z"
   },
   {
    "duration": 198,
    "start_time": "2023-06-09T18:28:16.999Z"
   },
   {
    "duration": 39,
    "start_time": "2023-06-09T18:28:17.198Z"
   },
   {
    "duration": 332,
    "start_time": "2023-06-09T18:28:17.238Z"
   },
   {
    "duration": 28,
    "start_time": "2023-06-09T18:28:17.572Z"
   },
   {
    "duration": 359,
    "start_time": "2023-06-09T18:28:17.601Z"
   },
   {
    "duration": 32,
    "start_time": "2023-06-09T18:28:17.962Z"
   },
   {
    "duration": 168,
    "start_time": "2023-06-09T18:28:17.995Z"
   },
   {
    "duration": 28,
    "start_time": "2023-06-09T18:28:18.165Z"
   },
   {
    "duration": 31,
    "start_time": "2023-06-09T18:28:18.195Z"
   },
   {
    "duration": 50,
    "start_time": "2023-06-09T18:28:18.229Z"
   },
   {
    "duration": 16,
    "start_time": "2023-06-09T18:28:18.281Z"
   },
   {
    "duration": 127,
    "start_time": "2023-06-09T18:28:18.299Z"
   },
   {
    "duration": 567,
    "start_time": "2023-06-09T18:28:18.427Z"
   },
   {
    "duration": 221,
    "start_time": "2023-06-09T18:28:18.997Z"
   },
   {
    "duration": 168,
    "start_time": "2023-06-09T18:28:19.220Z"
   },
   {
    "duration": 22,
    "start_time": "2023-06-09T18:28:19.389Z"
   },
   {
    "duration": 172,
    "start_time": "2023-06-09T18:28:19.412Z"
   },
   {
    "duration": 11,
    "start_time": "2023-06-09T18:28:19.586Z"
   },
   {
    "duration": 237,
    "start_time": "2023-06-09T18:28:19.598Z"
   },
   {
    "duration": 36,
    "start_time": "2023-06-09T18:28:19.837Z"
   },
   {
    "duration": 24,
    "start_time": "2023-06-09T18:28:19.875Z"
   },
   {
    "duration": 5,
    "start_time": "2023-06-09T18:28:19.901Z"
   },
   {
    "duration": 15,
    "start_time": "2023-06-09T18:28:19.908Z"
   },
   {
    "duration": 32,
    "start_time": "2023-06-09T18:28:19.925Z"
   },
   {
    "duration": 65,
    "start_time": "2023-06-09T18:28:19.959Z"
   },
   {
    "duration": 4,
    "start_time": "2023-06-09T18:28:20.026Z"
   },
   {
    "duration": 36,
    "start_time": "2023-06-09T18:28:20.032Z"
   },
   {
    "duration": 21,
    "start_time": "2023-06-09T18:28:20.070Z"
   },
   {
    "duration": 8,
    "start_time": "2023-06-09T18:28:20.093Z"
   },
   {
    "duration": 19,
    "start_time": "2023-06-09T18:28:20.103Z"
   },
   {
    "duration": 29,
    "start_time": "2023-06-09T18:28:20.123Z"
   },
   {
    "duration": 60,
    "start_time": "2023-06-09T18:28:20.154Z"
   },
   {
    "duration": 197,
    "start_time": "2023-06-09T18:28:20.216Z"
   },
   {
    "duration": 124,
    "start_time": "2023-06-09T18:28:20.415Z"
   },
   {
    "duration": 4,
    "start_time": "2023-06-09T18:28:20.541Z"
   },
   {
    "duration": 12,
    "start_time": "2023-06-09T18:28:20.546Z"
   },
   {
    "duration": 58,
    "start_time": "2023-06-09T18:28:20.562Z"
   },
   {
    "duration": 14,
    "start_time": "2023-06-09T18:28:20.622Z"
   },
   {
    "duration": 714,
    "start_time": "2023-06-09T18:28:20.639Z"
   },
   {
    "duration": 1072,
    "start_time": "2023-06-09T18:28:21.355Z"
   },
   {
    "duration": 2,
    "start_time": "2023-06-09T18:28:27.454Z"
   },
   {
    "duration": 686182,
    "start_time": "2023-06-09T18:30:14.082Z"
   },
   {
    "duration": 176370,
    "start_time": "2023-06-09T18:41:48.351Z"
   },
   {
    "duration": 2409548,
    "start_time": "2023-06-09T18:48:06.331Z"
   },
   {
    "duration": 3,
    "start_time": "2023-06-09T19:28:52.230Z"
   },
   {
    "duration": 110670,
    "start_time": "2023-06-09T19:28:53.740Z"
   },
   {
    "duration": 783,
    "start_time": "2023-06-09T19:31:00.260Z"
   },
   {
    "duration": 5,
    "start_time": "2023-06-09T19:31:03.949Z"
   },
   {
    "duration": 3,
    "start_time": "2023-06-09T19:31:18.709Z"
   },
   {
    "duration": 13891,
    "start_time": "2023-06-09T19:31:20.780Z"
   },
   {
    "duration": 1778,
    "start_time": "2023-06-09T19:31:39.090Z"
   },
   {
    "duration": 6,
    "start_time": "2023-06-09T19:31:47.149Z"
   },
   {
    "duration": 3,
    "start_time": "2023-06-09T19:31:49.830Z"
   },
   {
    "duration": 11551,
    "start_time": "2023-06-09T19:31:52.480Z"
   },
   {
    "duration": 47,
    "start_time": "2023-06-09T19:32:08.389Z"
   },
   {
    "duration": 5,
    "start_time": "2023-06-09T19:32:12.620Z"
   },
   {
    "duration": 16294,
    "start_time": "2023-06-09T19:38:00.179Z"
   },
   {
    "duration": 9,
    "start_time": "2023-06-09T19:38:18.949Z"
   },
   {
    "duration": 46,
    "start_time": "2023-06-10T08:54:16.317Z"
   },
   {
    "duration": 1867,
    "start_time": "2023-06-10T09:07:12.899Z"
   },
   {
    "duration": 3114,
    "start_time": "2023-06-10T09:07:14.768Z"
   },
   {
    "duration": 16,
    "start_time": "2023-06-10T09:07:17.889Z"
   },
   {
    "duration": 191,
    "start_time": "2023-06-10T09:07:17.907Z"
   },
   {
    "duration": 192,
    "start_time": "2023-06-10T09:07:18.102Z"
   },
   {
    "duration": 33,
    "start_time": "2023-06-10T09:07:18.296Z"
   },
   {
    "duration": 283,
    "start_time": "2023-06-10T09:07:18.331Z"
   },
   {
    "duration": 32,
    "start_time": "2023-06-10T09:07:18.615Z"
   },
   {
    "duration": 341,
    "start_time": "2023-06-10T09:07:18.648Z"
   },
   {
    "duration": 45,
    "start_time": "2023-06-10T09:07:18.992Z"
   },
   {
    "duration": 173,
    "start_time": "2023-06-10T09:07:19.039Z"
   },
   {
    "duration": 36,
    "start_time": "2023-06-10T09:07:19.215Z"
   },
   {
    "duration": 78,
    "start_time": "2023-06-10T09:07:19.252Z"
   },
   {
    "duration": 31,
    "start_time": "2023-06-10T09:07:19.334Z"
   },
   {
    "duration": 14,
    "start_time": "2023-06-10T09:07:19.366Z"
   },
   {
    "duration": 163,
    "start_time": "2023-06-10T09:07:19.382Z"
   },
   {
    "duration": 489,
    "start_time": "2023-06-10T09:07:19.547Z"
   },
   {
    "duration": 189,
    "start_time": "2023-06-10T09:07:20.037Z"
   },
   {
    "duration": 175,
    "start_time": "2023-06-10T09:07:20.228Z"
   },
   {
    "duration": 16,
    "start_time": "2023-06-10T09:07:20.404Z"
   },
   {
    "duration": 198,
    "start_time": "2023-06-10T09:07:20.422Z"
   },
   {
    "duration": 9,
    "start_time": "2023-06-10T09:07:20.623Z"
   },
   {
    "duration": 275,
    "start_time": "2023-06-10T09:07:20.634Z"
   },
   {
    "duration": 21,
    "start_time": "2023-06-10T09:07:20.911Z"
   },
   {
    "duration": 39,
    "start_time": "2023-06-10T09:07:20.934Z"
   },
   {
    "duration": 22,
    "start_time": "2023-06-10T09:07:20.975Z"
   },
   {
    "duration": 26,
    "start_time": "2023-06-10T09:07:20.999Z"
   },
   {
    "duration": 8,
    "start_time": "2023-06-10T09:07:21.027Z"
   },
   {
    "duration": 71,
    "start_time": "2023-06-10T09:07:21.037Z"
   },
   {
    "duration": 3,
    "start_time": "2023-06-10T09:07:21.110Z"
   },
   {
    "duration": 25,
    "start_time": "2023-06-10T09:07:21.115Z"
   },
   {
    "duration": 32,
    "start_time": "2023-06-10T09:07:21.142Z"
   },
   {
    "duration": 24,
    "start_time": "2023-06-10T09:07:21.190Z"
   },
   {
    "duration": 38,
    "start_time": "2023-06-10T09:07:21.216Z"
   },
   {
    "duration": 82,
    "start_time": "2023-06-10T09:07:21.256Z"
   },
   {
    "duration": 131,
    "start_time": "2023-06-10T09:07:21.339Z"
   },
   {
    "duration": 0,
    "start_time": "2023-06-10T09:07:21.477Z"
   },
   {
    "duration": 0,
    "start_time": "2023-06-10T09:07:21.478Z"
   },
   {
    "duration": 0,
    "start_time": "2023-06-10T09:07:21.481Z"
   },
   {
    "duration": 0,
    "start_time": "2023-06-10T09:07:21.482Z"
   },
   {
    "duration": 0,
    "start_time": "2023-06-10T09:07:21.483Z"
   },
   {
    "duration": 1,
    "start_time": "2023-06-10T09:07:21.484Z"
   },
   {
    "duration": 0,
    "start_time": "2023-06-10T09:07:21.486Z"
   },
   {
    "duration": 0,
    "start_time": "2023-06-10T09:07:21.487Z"
   },
   {
    "duration": 0,
    "start_time": "2023-06-10T09:07:21.488Z"
   },
   {
    "duration": 0,
    "start_time": "2023-06-10T09:07:21.490Z"
   },
   {
    "duration": 0,
    "start_time": "2023-06-10T09:07:21.491Z"
   },
   {
    "duration": 0,
    "start_time": "2023-06-10T09:07:21.493Z"
   },
   {
    "duration": 0,
    "start_time": "2023-06-10T09:07:21.495Z"
   },
   {
    "duration": 0,
    "start_time": "2023-06-10T09:07:21.496Z"
   },
   {
    "duration": 0,
    "start_time": "2023-06-10T09:07:21.497Z"
   },
   {
    "duration": 0,
    "start_time": "2023-06-10T09:07:21.498Z"
   },
   {
    "duration": 0,
    "start_time": "2023-06-10T09:07:21.499Z"
   },
   {
    "duration": 0,
    "start_time": "2023-06-10T09:07:21.500Z"
   },
   {
    "duration": 0,
    "start_time": "2023-06-10T09:07:21.501Z"
   },
   {
    "duration": 0,
    "start_time": "2023-06-10T09:07:21.502Z"
   },
   {
    "duration": 0,
    "start_time": "2023-06-10T09:07:21.503Z"
   },
   {
    "duration": 0,
    "start_time": "2023-06-10T09:07:21.504Z"
   },
   {
    "duration": 0,
    "start_time": "2023-06-10T09:07:21.505Z"
   },
   {
    "duration": 0,
    "start_time": "2023-06-10T09:07:21.507Z"
   },
   {
    "duration": 0,
    "start_time": "2023-06-10T09:07:21.508Z"
   },
   {
    "duration": 0,
    "start_time": "2023-06-10T09:07:21.509Z"
   },
   {
    "duration": 1540,
    "start_time": "2023-06-10T09:07:49.149Z"
   },
   {
    "duration": 837,
    "start_time": "2023-06-10T09:07:50.691Z"
   },
   {
    "duration": 17,
    "start_time": "2023-06-10T09:07:51.529Z"
   },
   {
    "duration": 164,
    "start_time": "2023-06-10T09:07:51.548Z"
   },
   {
    "duration": 207,
    "start_time": "2023-06-10T09:07:51.714Z"
   },
   {
    "duration": 37,
    "start_time": "2023-06-10T09:07:51.923Z"
   },
   {
    "duration": 310,
    "start_time": "2023-06-10T09:07:51.962Z"
   },
   {
    "duration": 46,
    "start_time": "2023-06-10T09:07:52.274Z"
   },
   {
    "duration": 346,
    "start_time": "2023-06-10T09:07:52.322Z"
   },
   {
    "duration": 53,
    "start_time": "2023-06-10T09:07:52.670Z"
   },
   {
    "duration": 182,
    "start_time": "2023-06-10T09:07:52.725Z"
   },
   {
    "duration": 45,
    "start_time": "2023-06-10T09:07:52.910Z"
   },
   {
    "duration": 56,
    "start_time": "2023-06-10T09:07:52.957Z"
   },
   {
    "duration": 45,
    "start_time": "2023-06-10T09:07:53.015Z"
   },
   {
    "duration": 29,
    "start_time": "2023-06-10T09:07:53.062Z"
   },
   {
    "duration": 142,
    "start_time": "2023-06-10T09:07:53.093Z"
   },
   {
    "duration": 509,
    "start_time": "2023-06-10T09:07:53.237Z"
   },
   {
    "duration": 182,
    "start_time": "2023-06-10T09:07:53.748Z"
   },
   {
    "duration": 238,
    "start_time": "2023-06-10T09:07:53.932Z"
   },
   {
    "duration": 34,
    "start_time": "2023-06-10T09:07:54.172Z"
   },
   {
    "duration": 173,
    "start_time": "2023-06-10T09:07:54.208Z"
   },
   {
    "duration": 11,
    "start_time": "2023-06-10T09:07:54.383Z"
   },
   {
    "duration": 238,
    "start_time": "2023-06-10T09:07:54.395Z"
   },
   {
    "duration": 20,
    "start_time": "2023-06-10T09:07:54.635Z"
   },
   {
    "duration": 38,
    "start_time": "2023-06-10T09:07:54.656Z"
   },
   {
    "duration": 4,
    "start_time": "2023-06-10T09:07:54.696Z"
   },
   {
    "duration": 45,
    "start_time": "2023-06-10T09:07:54.701Z"
   },
   {
    "duration": 7,
    "start_time": "2023-06-10T09:07:54.748Z"
   },
   {
    "duration": 64,
    "start_time": "2023-06-10T09:07:54.757Z"
   },
   {
    "duration": 3,
    "start_time": "2023-06-10T09:07:54.823Z"
   },
   {
    "duration": 19,
    "start_time": "2023-06-10T09:07:54.828Z"
   },
   {
    "duration": 34,
    "start_time": "2023-06-10T09:07:54.848Z"
   },
   {
    "duration": 29,
    "start_time": "2023-06-10T09:07:54.884Z"
   },
   {
    "duration": 19,
    "start_time": "2023-06-10T09:07:54.914Z"
   },
   {
    "duration": 92,
    "start_time": "2023-06-10T09:07:54.935Z"
   },
   {
    "duration": 169,
    "start_time": "2023-06-10T09:07:55.029Z"
   },
   {
    "duration": 212,
    "start_time": "2023-06-10T09:07:55.200Z"
   },
   {
    "duration": 126,
    "start_time": "2023-06-10T09:07:55.414Z"
   },
   {
    "duration": 4,
    "start_time": "2023-06-10T09:07:55.542Z"
   },
   {
    "duration": 5,
    "start_time": "2023-06-10T09:07:55.548Z"
   },
   {
    "duration": 95,
    "start_time": "2023-06-10T09:07:55.557Z"
   },
   {
    "duration": 31,
    "start_time": "2023-06-10T09:07:55.654Z"
   },
   {
    "duration": 783,
    "start_time": "2023-06-10T09:07:55.687Z"
   },
   {
    "duration": 675,
    "start_time": "2023-06-10T09:07:56.471Z"
   },
   {
    "duration": 3,
    "start_time": "2023-06-10T09:07:57.148Z"
   },
   {
    "duration": 2184797,
    "start_time": "2023-06-10T09:07:57.153Z"
   },
   {
    "duration": 5055714,
    "start_time": "2023-06-10T09:44:21.951Z"
   },
   {
    "duration": 81290,
    "start_time": "2023-06-10T11:08:37.667Z"
   },
   {
    "duration": 2,
    "start_time": "2023-06-10T11:09:58.959Z"
   },
   {
    "duration": 7471,
    "start_time": "2023-06-10T11:09:58.963Z"
   },
   {
    "duration": 167,
    "start_time": "2023-06-10T11:10:06.436Z"
   },
   {
    "duration": 11,
    "start_time": "2023-06-10T11:10:06.608Z"
   },
   {
    "duration": 0,
    "start_time": "2023-06-10T11:10:06.620Z"
   },
   {
    "duration": 0,
    "start_time": "2023-06-10T11:10:06.622Z"
   },
   {
    "duration": 0,
    "start_time": "2023-06-10T11:10:06.623Z"
   },
   {
    "duration": 0,
    "start_time": "2023-06-10T11:10:06.624Z"
   },
   {
    "duration": 0,
    "start_time": "2023-06-10T11:10:06.625Z"
   },
   {
    "duration": 0,
    "start_time": "2023-06-10T11:10:06.626Z"
   },
   {
    "duration": 0,
    "start_time": "2023-06-10T11:10:06.627Z"
   },
   {
    "duration": 0,
    "start_time": "2023-06-10T11:10:06.628Z"
   },
   {
    "duration": 0,
    "start_time": "2023-06-10T11:10:06.629Z"
   },
   {
    "duration": 0,
    "start_time": "2023-06-10T11:10:06.630Z"
   },
   {
    "duration": 0,
    "start_time": "2023-06-10T11:10:06.634Z"
   },
   {
    "duration": 1613,
    "start_time": "2023-06-10T11:12:55.265Z"
   },
   {
    "duration": 946,
    "start_time": "2023-06-10T11:12:56.880Z"
   },
   {
    "duration": 17,
    "start_time": "2023-06-10T11:12:57.828Z"
   },
   {
    "duration": 193,
    "start_time": "2023-06-10T11:12:57.846Z"
   },
   {
    "duration": 215,
    "start_time": "2023-06-10T11:12:58.041Z"
   },
   {
    "duration": 64,
    "start_time": "2023-06-10T11:12:58.257Z"
   },
   {
    "duration": 301,
    "start_time": "2023-06-10T11:12:58.323Z"
   },
   {
    "duration": 33,
    "start_time": "2023-06-10T11:12:58.626Z"
   },
   {
    "duration": 374,
    "start_time": "2023-06-10T11:12:58.661Z"
   },
   {
    "duration": 45,
    "start_time": "2023-06-10T11:12:59.036Z"
   },
   {
    "duration": 185,
    "start_time": "2023-06-10T11:12:59.083Z"
   },
   {
    "duration": 59,
    "start_time": "2023-06-10T11:12:59.270Z"
   },
   {
    "duration": 41,
    "start_time": "2023-06-10T11:12:59.331Z"
   },
   {
    "duration": 58,
    "start_time": "2023-06-10T11:12:59.375Z"
   },
   {
    "duration": 13,
    "start_time": "2023-06-10T11:12:59.435Z"
   },
   {
    "duration": 177,
    "start_time": "2023-06-10T11:12:59.449Z"
   },
   {
    "duration": 524,
    "start_time": "2023-06-10T11:12:59.628Z"
   },
   {
    "duration": 189,
    "start_time": "2023-06-10T11:13:00.153Z"
   },
   {
    "duration": 185,
    "start_time": "2023-06-10T11:13:00.344Z"
   },
   {
    "duration": 19,
    "start_time": "2023-06-10T11:13:00.531Z"
   },
   {
    "duration": 253,
    "start_time": "2023-06-10T11:13:00.551Z"
   },
   {
    "duration": 14,
    "start_time": "2023-06-10T11:13:00.812Z"
   },
   {
    "duration": 275,
    "start_time": "2023-06-10T11:13:00.830Z"
   },
   {
    "duration": 23,
    "start_time": "2023-06-10T11:13:01.107Z"
   },
   {
    "duration": 56,
    "start_time": "2023-06-10T11:13:01.131Z"
   },
   {
    "duration": 16,
    "start_time": "2023-06-10T11:13:01.196Z"
   },
   {
    "duration": 28,
    "start_time": "2023-06-10T11:13:01.214Z"
   },
   {
    "duration": 13,
    "start_time": "2023-06-10T11:13:01.244Z"
   },
   {
    "duration": 69,
    "start_time": "2023-06-10T11:13:01.259Z"
   },
   {
    "duration": 4,
    "start_time": "2023-06-10T11:13:01.329Z"
   },
   {
    "duration": 39,
    "start_time": "2023-06-10T11:13:01.335Z"
   },
   {
    "duration": 60,
    "start_time": "2023-06-10T11:13:01.376Z"
   },
   {
    "duration": 73,
    "start_time": "2023-06-10T11:13:01.438Z"
   },
   {
    "duration": 33,
    "start_time": "2023-06-10T11:13:01.512Z"
   },
   {
    "duration": 113,
    "start_time": "2023-06-10T11:13:01.546Z"
   },
   {
    "duration": 199,
    "start_time": "2023-06-10T11:13:01.662Z"
   },
   {
    "duration": 234,
    "start_time": "2023-06-10T11:13:01.863Z"
   },
   {
    "duration": 156,
    "start_time": "2023-06-10T11:13:02.098Z"
   },
   {
    "duration": 4,
    "start_time": "2023-06-10T11:13:02.255Z"
   },
   {
    "duration": 6,
    "start_time": "2023-06-10T11:13:02.260Z"
   },
   {
    "duration": 88,
    "start_time": "2023-06-10T11:13:02.275Z"
   },
   {
    "duration": 24,
    "start_time": "2023-06-10T11:13:02.364Z"
   },
   {
    "duration": 931,
    "start_time": "2023-06-10T11:13:02.395Z"
   },
   {
    "duration": 643,
    "start_time": "2023-06-10T11:13:03.328Z"
   },
   {
    "duration": 9,
    "start_time": "2023-06-10T11:13:03.973Z"
   },
   {
    "duration": 2388764,
    "start_time": "2023-06-10T11:13:03.984Z"
   },
   {
    "duration": 8175907,
    "start_time": "2023-06-10T11:52:52.749Z"
   },
   {
    "duration": 208198,
    "start_time": "2023-06-10T14:09:08.658Z"
   },
   {
    "duration": 3,
    "start_time": "2023-06-10T14:12:36.857Z"
   },
   {
    "duration": 115634,
    "start_time": "2023-06-10T14:12:36.862Z"
   },
   {
    "duration": 879,
    "start_time": "2023-06-10T14:14:32.498Z"
   },
   {
    "duration": 6,
    "start_time": "2023-06-10T14:14:33.379Z"
   },
   {
    "duration": 6,
    "start_time": "2023-06-10T14:14:33.387Z"
   },
   {
    "duration": 286687,
    "start_time": "2023-06-10T14:14:33.396Z"
   },
   {
    "duration": 141,
    "start_time": "2023-06-10T14:19:20.085Z"
   },
   {
    "duration": 12,
    "start_time": "2023-06-10T14:19:20.228Z"
   },
   {
    "duration": 0,
    "start_time": "2023-06-10T14:19:20.242Z"
   },
   {
    "duration": 0,
    "start_time": "2023-06-10T14:19:20.243Z"
   },
   {
    "duration": 0,
    "start_time": "2023-06-10T14:19:20.245Z"
   },
   {
    "duration": 0,
    "start_time": "2023-06-10T14:19:20.246Z"
   },
   {
    "duration": 0,
    "start_time": "2023-06-10T14:19:20.247Z"
   },
   {
    "duration": 0,
    "start_time": "2023-06-10T14:19:20.249Z"
   },
   {
    "duration": 0,
    "start_time": "2023-06-10T14:19:20.252Z"
   },
   {
    "duration": 1811,
    "start_time": "2023-06-10T14:41:43.412Z"
   },
   {
    "duration": 905,
    "start_time": "2023-06-10T14:41:45.228Z"
   },
   {
    "duration": 23,
    "start_time": "2023-06-10T14:41:46.136Z"
   },
   {
    "duration": 211,
    "start_time": "2023-06-10T14:41:46.160Z"
   },
   {
    "duration": 224,
    "start_time": "2023-06-10T14:41:46.373Z"
   },
   {
    "duration": 43,
    "start_time": "2023-06-10T14:41:46.609Z"
   },
   {
    "duration": 292,
    "start_time": "2023-06-10T14:41:46.653Z"
   },
   {
    "duration": 51,
    "start_time": "2023-06-10T14:41:46.947Z"
   },
   {
    "duration": 354,
    "start_time": "2023-06-10T14:41:47.008Z"
   },
   {
    "duration": 69,
    "start_time": "2023-06-10T14:41:47.364Z"
   },
   {
    "duration": 193,
    "start_time": "2023-06-10T14:41:47.435Z"
   },
   {
    "duration": 32,
    "start_time": "2023-06-10T14:41:47.631Z"
   },
   {
    "duration": 77,
    "start_time": "2023-06-10T14:41:47.665Z"
   },
   {
    "duration": 39,
    "start_time": "2023-06-10T14:41:47.745Z"
   },
   {
    "duration": 25,
    "start_time": "2023-06-10T14:41:47.785Z"
   },
   {
    "duration": 159,
    "start_time": "2023-06-10T14:41:47.811Z"
   },
   {
    "duration": 562,
    "start_time": "2023-06-10T14:41:47.971Z"
   },
   {
    "duration": 207,
    "start_time": "2023-06-10T14:41:48.535Z"
   },
   {
    "duration": 192,
    "start_time": "2023-06-10T14:41:48.743Z"
   },
   {
    "duration": 18,
    "start_time": "2023-06-10T14:41:48.937Z"
   },
   {
    "duration": 193,
    "start_time": "2023-06-10T14:41:48.956Z"
   },
   {
    "duration": 10,
    "start_time": "2023-06-10T14:41:49.150Z"
   },
   {
    "duration": 275,
    "start_time": "2023-06-10T14:41:49.161Z"
   },
   {
    "duration": 20,
    "start_time": "2023-06-10T14:41:49.439Z"
   },
   {
    "duration": 35,
    "start_time": "2023-06-10T14:41:49.461Z"
   },
   {
    "duration": 4,
    "start_time": "2023-06-10T14:41:49.503Z"
   },
   {
    "duration": 16,
    "start_time": "2023-06-10T14:41:49.509Z"
   },
   {
    "duration": 12,
    "start_time": "2023-06-10T14:41:49.527Z"
   },
   {
    "duration": 88,
    "start_time": "2023-06-10T14:41:49.541Z"
   },
   {
    "duration": 3,
    "start_time": "2023-06-10T14:41:49.631Z"
   },
   {
    "duration": 21,
    "start_time": "2023-06-10T14:41:49.636Z"
   },
   {
    "duration": 28,
    "start_time": "2023-06-10T14:41:49.658Z"
   },
   {
    "duration": 40,
    "start_time": "2023-06-10T14:41:49.691Z"
   },
   {
    "duration": 17,
    "start_time": "2023-06-10T14:41:49.733Z"
   },
   {
    "duration": 115,
    "start_time": "2023-06-10T14:41:49.752Z"
   },
   {
    "duration": 194,
    "start_time": "2023-06-10T14:41:49.868Z"
   },
   {
    "duration": 238,
    "start_time": "2023-06-10T14:41:50.063Z"
   },
   {
    "duration": 156,
    "start_time": "2023-06-10T14:41:50.303Z"
   },
   {
    "duration": 3,
    "start_time": "2023-06-10T14:41:50.461Z"
   },
   {
    "duration": 7,
    "start_time": "2023-06-10T14:41:50.475Z"
   },
   {
    "duration": 86,
    "start_time": "2023-06-10T14:41:50.487Z"
   },
   {
    "duration": 23,
    "start_time": "2023-06-10T14:41:50.575Z"
   },
   {
    "duration": 955,
    "start_time": "2023-06-10T14:41:50.604Z"
   },
   {
    "duration": 678,
    "start_time": "2023-06-10T14:41:51.560Z"
   },
   {
    "duration": 2,
    "start_time": "2023-06-10T14:41:52.240Z"
   },
   {
    "duration": 2770014,
    "start_time": "2023-06-10T14:41:52.244Z"
   },
   {
    "duration": 3804460,
    "start_time": "2023-06-10T15:28:02.261Z"
   },
   {
    "duration": 9887,
    "start_time": "2023-06-10T16:31:26.723Z"
   },
   {
    "duration": 3,
    "start_time": "2023-06-10T16:31:36.612Z"
   },
   {
    "duration": 4495,
    "start_time": "2023-06-10T16:31:36.617Z"
   },
   {
    "duration": 150,
    "start_time": "2023-06-10T16:31:41.114Z"
   },
   {
    "duration": 13,
    "start_time": "2023-06-10T16:31:41.266Z"
   },
   {
    "duration": 0,
    "start_time": "2023-06-10T16:31:41.280Z"
   },
   {
    "duration": 0,
    "start_time": "2023-06-10T16:31:41.281Z"
   },
   {
    "duration": 0,
    "start_time": "2023-06-10T16:31:41.283Z"
   },
   {
    "duration": 0,
    "start_time": "2023-06-10T16:31:41.285Z"
   },
   {
    "duration": 0,
    "start_time": "2023-06-10T16:31:41.286Z"
   },
   {
    "duration": 0,
    "start_time": "2023-06-10T16:31:41.287Z"
   },
   {
    "duration": 0,
    "start_time": "2023-06-10T16:31:41.289Z"
   },
   {
    "duration": 0,
    "start_time": "2023-06-10T16:31:41.291Z"
   },
   {
    "duration": 0,
    "start_time": "2023-06-10T16:31:41.292Z"
   },
   {
    "duration": 0,
    "start_time": "2023-06-10T16:31:41.294Z"
   },
   {
    "duration": 4,
    "start_time": "2023-06-10T16:32:16.525Z"
   },
   {
    "duration": 139,
    "start_time": "2023-06-10T16:32:19.334Z"
   },
   {
    "duration": 46,
    "start_time": "2023-06-10T16:32:45.635Z"
   },
   {
    "duration": 2204,
    "start_time": "2023-06-10T16:32:58.997Z"
   },
   {
    "duration": 2267,
    "start_time": "2023-06-10T16:33:01.203Z"
   },
   {
    "duration": 29,
    "start_time": "2023-06-10T16:33:03.472Z"
   },
   {
    "duration": 155,
    "start_time": "2023-06-10T16:33:03.502Z"
   },
   {
    "duration": 215,
    "start_time": "2023-06-10T16:33:03.660Z"
   },
   {
    "duration": 45,
    "start_time": "2023-06-10T16:33:03.877Z"
   },
   {
    "duration": 389,
    "start_time": "2023-06-10T16:33:03.925Z"
   },
   {
    "duration": 43,
    "start_time": "2023-06-10T16:33:04.317Z"
   },
   {
    "duration": 416,
    "start_time": "2023-06-10T16:33:04.365Z"
   },
   {
    "duration": 47,
    "start_time": "2023-06-10T16:33:04.783Z"
   },
   {
    "duration": 209,
    "start_time": "2023-06-10T16:33:04.832Z"
   },
   {
    "duration": 39,
    "start_time": "2023-06-10T16:33:05.043Z"
   },
   {
    "duration": 53,
    "start_time": "2023-06-10T16:33:05.084Z"
   },
   {
    "duration": 76,
    "start_time": "2023-06-10T16:33:05.141Z"
   },
   {
    "duration": 18,
    "start_time": "2023-06-10T16:33:05.219Z"
   },
   {
    "duration": 160,
    "start_time": "2023-06-10T16:33:05.239Z"
   },
   {
    "duration": 517,
    "start_time": "2023-06-10T16:33:05.401Z"
   },
   {
    "duration": 202,
    "start_time": "2023-06-10T16:33:05.920Z"
   },
   {
    "duration": 232,
    "start_time": "2023-06-10T16:33:06.124Z"
   },
   {
    "duration": 25,
    "start_time": "2023-06-10T16:33:06.358Z"
   },
   {
    "duration": 163,
    "start_time": "2023-06-10T16:33:06.384Z"
   },
   {
    "duration": 12,
    "start_time": "2023-06-10T16:33:06.549Z"
   },
   {
    "duration": 271,
    "start_time": "2023-06-10T16:33:06.562Z"
   },
   {
    "duration": 23,
    "start_time": "2023-06-10T16:33:06.834Z"
   },
   {
    "duration": 43,
    "start_time": "2023-06-10T16:33:06.859Z"
   },
   {
    "duration": 4,
    "start_time": "2023-06-10T16:33:06.904Z"
   },
   {
    "duration": 14,
    "start_time": "2023-06-10T16:33:06.910Z"
   },
   {
    "duration": 8,
    "start_time": "2023-06-10T16:33:06.926Z"
   },
   {
    "duration": 90,
    "start_time": "2023-06-10T16:33:06.936Z"
   },
   {
    "duration": 3,
    "start_time": "2023-06-10T16:33:07.028Z"
   },
   {
    "duration": 18,
    "start_time": "2023-06-10T16:33:07.033Z"
   },
   {
    "duration": 54,
    "start_time": "2023-06-10T16:33:07.053Z"
   },
   {
    "duration": 19,
    "start_time": "2023-06-10T16:33:07.110Z"
   },
   {
    "duration": 20,
    "start_time": "2023-06-10T16:33:07.130Z"
   },
   {
    "duration": 107,
    "start_time": "2023-06-10T16:33:07.152Z"
   },
   {
    "duration": 177,
    "start_time": "2023-06-10T16:33:07.261Z"
   },
   {
    "duration": 222,
    "start_time": "2023-06-10T16:33:07.440Z"
   },
   {
    "duration": 136,
    "start_time": "2023-06-10T16:33:07.664Z"
   },
   {
    "duration": 4,
    "start_time": "2023-06-10T16:33:07.803Z"
   },
   {
    "duration": 5,
    "start_time": "2023-06-10T16:33:07.809Z"
   },
   {
    "duration": 102,
    "start_time": "2023-06-10T16:33:07.817Z"
   },
   {
    "duration": 11,
    "start_time": "2023-06-10T16:33:07.921Z"
   },
   {
    "duration": 835,
    "start_time": "2023-06-10T16:33:07.934Z"
   },
   {
    "duration": 701,
    "start_time": "2023-06-10T16:33:08.771Z"
   },
   {
    "duration": 21,
    "start_time": "2023-06-10T16:33:09.481Z"
   },
   {
    "duration": 2103185,
    "start_time": "2023-06-10T16:33:09.504Z"
   },
   {
    "duration": 338199,
    "start_time": "2023-06-10T17:08:12.691Z"
   },
   {
    "duration": 154363,
    "start_time": "2023-06-10T17:13:50.892Z"
   },
   {
    "duration": 4,
    "start_time": "2023-06-10T17:16:25.256Z"
   },
   {
    "duration": 93155,
    "start_time": "2023-06-10T17:16:25.261Z"
   },
   {
    "duration": 731,
    "start_time": "2023-06-10T17:17:58.418Z"
   },
   {
    "duration": 4,
    "start_time": "2023-06-10T17:17:59.151Z"
   },
   {
    "duration": 5,
    "start_time": "2023-06-10T17:17:59.156Z"
   },
   {
    "duration": 24921,
    "start_time": "2023-06-10T17:17:59.163Z"
   },
   {
    "duration": 1891,
    "start_time": "2023-06-10T17:18:24.086Z"
   },
   {
    "duration": 4,
    "start_time": "2023-06-10T17:18:25.979Z"
   },
   {
    "duration": 9,
    "start_time": "2023-06-10T17:18:25.984Z"
   },
   {
    "duration": 9681,
    "start_time": "2023-06-10T17:18:25.994Z"
   },
   {
    "duration": 39,
    "start_time": "2023-06-10T17:18:35.677Z"
   },
   {
    "duration": 5,
    "start_time": "2023-06-10T17:18:35.719Z"
   },
   {
    "duration": 16066,
    "start_time": "2023-06-10T17:18:35.726Z"
   },
   {
    "duration": 7,
    "start_time": "2023-06-10T17:18:51.794Z"
   },
   {
    "duration": 1771,
    "start_time": "2023-06-11T06:26:03.787Z"
   },
   {
    "duration": 2992,
    "start_time": "2023-06-11T06:26:05.561Z"
   },
   {
    "duration": 27,
    "start_time": "2023-06-11T06:26:08.555Z"
   },
   {
    "duration": 127,
    "start_time": "2023-06-11T06:26:08.585Z"
   },
   {
    "duration": 195,
    "start_time": "2023-06-11T06:26:08.714Z"
   },
   {
    "duration": 54,
    "start_time": "2023-06-11T06:26:08.911Z"
   },
   {
    "duration": 323,
    "start_time": "2023-06-11T06:26:08.966Z"
   },
   {
    "duration": 29,
    "start_time": "2023-06-11T06:26:09.290Z"
   },
   {
    "duration": 369,
    "start_time": "2023-06-11T06:26:09.321Z"
   },
   {
    "duration": 31,
    "start_time": "2023-06-11T06:26:09.693Z"
   },
   {
    "duration": 174,
    "start_time": "2023-06-11T06:26:09.726Z"
   },
   {
    "duration": 28,
    "start_time": "2023-06-11T06:26:09.902Z"
   },
   {
    "duration": 49,
    "start_time": "2023-06-11T06:26:09.931Z"
   },
   {
    "duration": 27,
    "start_time": "2023-06-11T06:26:09.982Z"
   },
   {
    "duration": 22,
    "start_time": "2023-06-11T06:26:10.011Z"
   },
   {
    "duration": 127,
    "start_time": "2023-06-11T06:26:10.034Z"
   },
   {
    "duration": 485,
    "start_time": "2023-06-11T06:26:10.166Z"
   },
   {
    "duration": 172,
    "start_time": "2023-06-11T06:26:10.652Z"
   },
   {
    "duration": 163,
    "start_time": "2023-06-11T06:26:10.826Z"
   },
   {
    "duration": 18,
    "start_time": "2023-06-11T06:26:10.991Z"
   },
   {
    "duration": 169,
    "start_time": "2023-06-11T06:26:11.011Z"
   },
   {
    "duration": 10,
    "start_time": "2023-06-11T06:26:11.182Z"
   },
   {
    "duration": 248,
    "start_time": "2023-06-11T06:26:11.193Z"
   },
   {
    "duration": 29,
    "start_time": "2023-06-11T06:26:11.443Z"
   },
   {
    "duration": 23,
    "start_time": "2023-06-11T06:26:11.474Z"
   },
   {
    "duration": 10,
    "start_time": "2023-06-11T06:26:11.498Z"
   },
   {
    "duration": 15,
    "start_time": "2023-06-11T06:26:11.510Z"
   },
   {
    "duration": 35,
    "start_time": "2023-06-11T06:26:11.528Z"
   },
   {
    "duration": 61,
    "start_time": "2023-06-11T06:26:11.564Z"
   },
   {
    "duration": 4,
    "start_time": "2023-06-11T06:26:11.627Z"
   },
   {
    "duration": 43,
    "start_time": "2023-06-11T06:26:11.633Z"
   },
   {
    "duration": 30,
    "start_time": "2023-06-11T06:26:11.677Z"
   },
   {
    "duration": 32,
    "start_time": "2023-06-11T06:26:11.709Z"
   },
   {
    "duration": 31,
    "start_time": "2023-06-11T06:26:11.743Z"
   },
   {
    "duration": 57,
    "start_time": "2023-06-11T06:26:11.776Z"
   },
   {
    "duration": 177,
    "start_time": "2023-06-11T06:26:11.836Z"
   },
   {
    "duration": 202,
    "start_time": "2023-06-11T06:26:12.015Z"
   },
   {
    "duration": 123,
    "start_time": "2023-06-11T06:26:12.219Z"
   },
   {
    "duration": 19,
    "start_time": "2023-06-11T06:26:12.344Z"
   },
   {
    "duration": 4,
    "start_time": "2023-06-11T06:26:12.369Z"
   },
   {
    "duration": 84,
    "start_time": "2023-06-11T06:26:12.374Z"
   },
   {
    "duration": 16,
    "start_time": "2023-06-11T06:26:12.463Z"
   },
   {
    "duration": 748,
    "start_time": "2023-06-11T06:26:12.481Z"
   },
   {
    "duration": 740,
    "start_time": "2023-06-11T06:26:13.231Z"
   },
   {
    "duration": 3,
    "start_time": "2023-06-11T06:26:13.974Z"
   },
   {
    "duration": 1752,
    "start_time": "2023-06-11T11:39:00.353Z"
   },
   {
    "duration": 2934,
    "start_time": "2023-06-11T11:39:02.107Z"
   },
   {
    "duration": 18,
    "start_time": "2023-06-11T11:39:05.043Z"
   },
   {
    "duration": 137,
    "start_time": "2023-06-11T11:39:05.062Z"
   },
   {
    "duration": 174,
    "start_time": "2023-06-11T11:39:05.201Z"
   },
   {
    "duration": 34,
    "start_time": "2023-06-11T11:39:05.377Z"
   },
   {
    "duration": 265,
    "start_time": "2023-06-11T11:39:05.412Z"
   },
   {
    "duration": 29,
    "start_time": "2023-06-11T11:39:05.678Z"
   },
   {
    "duration": 330,
    "start_time": "2023-06-11T11:39:05.709Z"
   },
   {
    "duration": 36,
    "start_time": "2023-06-11T11:39:06.040Z"
   },
   {
    "duration": 31,
    "start_time": "2023-06-11T11:40:20.457Z"
   },
   {
    "duration": 1558,
    "start_time": "2023-06-11T11:40:41.649Z"
   },
   {
    "duration": 837,
    "start_time": "2023-06-11T11:40:43.209Z"
   },
   {
    "duration": 28,
    "start_time": "2023-06-11T11:40:44.048Z"
   },
   {
    "duration": 139,
    "start_time": "2023-06-11T11:40:44.078Z"
   },
   {
    "duration": 200,
    "start_time": "2023-06-11T11:40:44.220Z"
   },
   {
    "duration": 36,
    "start_time": "2023-06-11T11:40:44.422Z"
   },
   {
    "duration": 271,
    "start_time": "2023-06-11T11:40:44.459Z"
   },
   {
    "duration": 34,
    "start_time": "2023-06-11T11:40:44.732Z"
   },
   {
    "duration": 363,
    "start_time": "2023-06-11T11:40:44.768Z"
   },
   {
    "duration": 32,
    "start_time": "2023-06-11T11:40:45.133Z"
   },
   {
    "duration": 2671,
    "start_time": "2023-06-12T06:19:27.627Z"
   },
   {
    "duration": 3600,
    "start_time": "2023-06-12T06:19:30.300Z"
   },
   {
    "duration": 21,
    "start_time": "2023-06-12T06:19:33.902Z"
   },
   {
    "duration": 209,
    "start_time": "2023-06-12T06:19:33.925Z"
   },
   {
    "duration": 267,
    "start_time": "2023-06-12T06:19:34.148Z"
   },
   {
    "duration": 47,
    "start_time": "2023-06-12T06:19:34.417Z"
   },
   {
    "duration": 365,
    "start_time": "2023-06-12T06:19:34.467Z"
   },
   {
    "duration": 67,
    "start_time": "2023-06-12T06:19:34.834Z"
   },
   {
    "duration": 474,
    "start_time": "2023-06-12T06:19:34.902Z"
   },
   {
    "duration": 49,
    "start_time": "2023-06-12T06:19:35.379Z"
   },
   {
    "duration": 273,
    "start_time": "2023-06-12T06:19:35.430Z"
   },
   {
    "duration": 80,
    "start_time": "2023-06-12T06:19:35.706Z"
   },
   {
    "duration": 100,
    "start_time": "2023-06-12T06:19:35.788Z"
   },
   {
    "duration": 93,
    "start_time": "2023-06-12T06:19:35.893Z"
   },
   {
    "duration": 76,
    "start_time": "2023-06-12T06:19:35.987Z"
   },
   {
    "duration": 333,
    "start_time": "2023-06-12T06:19:36.069Z"
   },
   {
    "duration": 5,
    "start_time": "2023-06-12T06:20:27.505Z"
   },
   {
    "duration": 1114,
    "start_time": "2023-06-12T06:20:27.512Z"
   },
   {
    "duration": 26,
    "start_time": "2023-06-12T06:20:28.628Z"
   },
   {
    "duration": 176,
    "start_time": "2023-06-12T06:20:28.659Z"
   },
   {
    "duration": 200,
    "start_time": "2023-06-12T06:20:28.836Z"
   },
   {
    "duration": 61,
    "start_time": "2023-06-12T06:20:29.038Z"
   },
   {
    "duration": 371,
    "start_time": "2023-06-12T06:20:29.101Z"
   },
   {
    "duration": 67,
    "start_time": "2023-06-12T06:20:29.474Z"
   },
   {
    "duration": 504,
    "start_time": "2023-06-12T06:20:29.544Z"
   },
   {
    "duration": 55,
    "start_time": "2023-06-12T06:20:30.050Z"
   },
   {
    "duration": 293,
    "start_time": "2023-06-12T06:20:30.107Z"
   },
   {
    "duration": 78,
    "start_time": "2023-06-12T06:20:30.402Z"
   },
   {
    "duration": 95,
    "start_time": "2023-06-12T06:20:30.486Z"
   },
   {
    "duration": 143,
    "start_time": "2023-06-12T06:20:30.583Z"
   },
   {
    "duration": 101,
    "start_time": "2023-06-12T06:20:30.728Z"
   },
   {
    "duration": 261,
    "start_time": "2023-06-12T06:20:30.831Z"
   },
   {
    "duration": 746,
    "start_time": "2023-06-12T06:20:31.096Z"
   },
   {
    "duration": 276,
    "start_time": "2023-06-12T06:22:21.277Z"
   },
   {
    "duration": 66,
    "start_time": "2023-06-12T06:22:23.545Z"
   },
   {
    "duration": 46,
    "start_time": "2023-06-12T06:22:32.280Z"
   },
   {
    "duration": 25,
    "start_time": "2023-06-12T06:22:44.901Z"
   },
   {
    "duration": 33,
    "start_time": "2023-06-12T06:23:45.999Z"
   },
   {
    "duration": 18,
    "start_time": "2023-06-12T06:25:01.694Z"
   },
   {
    "duration": 22,
    "start_time": "2023-06-12T06:25:55.009Z"
   },
   {
    "duration": 117,
    "start_time": "2023-06-12T06:27:17.208Z"
   },
   {
    "duration": 153,
    "start_time": "2023-06-12T06:27:42.434Z"
   },
   {
    "duration": 12,
    "start_time": "2023-06-12T06:28:05.927Z"
   },
   {
    "duration": 195,
    "start_time": "2023-06-12T06:28:59.265Z"
   },
   {
    "duration": 359,
    "start_time": "2023-06-12T06:29:06.016Z"
   },
   {
    "duration": 229,
    "start_time": "2023-06-12T06:30:56.382Z"
   },
   {
    "duration": 22,
    "start_time": "2023-06-12T06:30:58.831Z"
   },
   {
    "duration": 22,
    "start_time": "2023-06-12T06:31:28.936Z"
   },
   {
    "duration": 22,
    "start_time": "2023-06-12T06:32:09.365Z"
   },
   {
    "duration": 19,
    "start_time": "2023-06-12T06:32:26.476Z"
   },
   {
    "duration": 20,
    "start_time": "2023-06-12T06:33:46.267Z"
   },
   {
    "duration": 15,
    "start_time": "2023-06-12T06:33:58.304Z"
   },
   {
    "duration": 15,
    "start_time": "2023-06-12T06:34:06.098Z"
   },
   {
    "duration": 90,
    "start_time": "2023-06-12T06:34:42.275Z"
   },
   {
    "duration": 11,
    "start_time": "2023-06-12T06:34:58.233Z"
   },
   {
    "duration": 2271,
    "start_time": "2023-06-12T06:36:13.013Z"
   },
   {
    "duration": 1305,
    "start_time": "2023-06-12T06:36:15.290Z"
   },
   {
    "duration": 25,
    "start_time": "2023-06-12T06:36:16.597Z"
   },
   {
    "duration": 280,
    "start_time": "2023-06-12T06:36:16.624Z"
   },
   {
    "duration": 299,
    "start_time": "2023-06-12T06:36:16.906Z"
   },
   {
    "duration": 36,
    "start_time": "2023-06-12T06:36:17.206Z"
   },
   {
    "duration": 393,
    "start_time": "2023-06-12T06:36:17.243Z"
   },
   {
    "duration": 70,
    "start_time": "2023-06-12T06:36:17.638Z"
   },
   {
    "duration": 513,
    "start_time": "2023-06-12T06:36:17.710Z"
   },
   {
    "duration": 59,
    "start_time": "2023-06-12T06:36:18.225Z"
   },
   {
    "duration": 248,
    "start_time": "2023-06-12T06:36:18.290Z"
   },
   {
    "duration": 75,
    "start_time": "2023-06-12T06:36:18.540Z"
   },
   {
    "duration": 77,
    "start_time": "2023-06-12T06:36:18.617Z"
   },
   {
    "duration": 78,
    "start_time": "2023-06-12T06:36:18.697Z"
   },
   {
    "duration": 49,
    "start_time": "2023-06-12T06:36:18.777Z"
   },
   {
    "duration": 198,
    "start_time": "2023-06-12T06:36:18.829Z"
   },
   {
    "duration": 713,
    "start_time": "2023-06-12T06:36:19.029Z"
   },
   {
    "duration": 289,
    "start_time": "2023-06-12T06:36:19.745Z"
   },
   {
    "duration": 20,
    "start_time": "2023-06-12T06:36:20.035Z"
   },
   {
    "duration": 63,
    "start_time": "2023-06-12T06:36:20.060Z"
   },
   {
    "duration": 104,
    "start_time": "2023-06-12T06:36:20.125Z"
   },
   {
    "duration": 10,
    "start_time": "2023-06-12T06:36:20.231Z"
   },
   {
    "duration": 200,
    "start_time": "2023-06-12T06:36:20.243Z"
   },
   {
    "duration": 36,
    "start_time": "2023-06-12T06:36:20.450Z"
   },
   {
    "duration": 27,
    "start_time": "2023-06-12T06:36:20.490Z"
   },
   {
    "duration": 10,
    "start_time": "2023-06-12T06:36:20.519Z"
   },
   {
    "duration": 48,
    "start_time": "2023-06-12T16:37:05.215Z"
   },
   {
    "duration": 1634,
    "start_time": "2023-06-12T16:37:08.686Z"
   },
   {
    "duration": 2956,
    "start_time": "2023-06-12T16:37:10.322Z"
   },
   {
    "duration": 19,
    "start_time": "2023-06-12T16:37:13.280Z"
   },
   {
    "duration": 120,
    "start_time": "2023-06-12T16:37:13.300Z"
   },
   {
    "duration": 198,
    "start_time": "2023-06-12T16:37:13.422Z"
   },
   {
    "duration": 37,
    "start_time": "2023-06-12T16:37:13.622Z"
   },
   {
    "duration": 275,
    "start_time": "2023-06-12T16:37:13.662Z"
   },
   {
    "duration": 38,
    "start_time": "2023-06-12T16:37:13.939Z"
   },
   {
    "duration": 357,
    "start_time": "2023-06-12T16:37:13.980Z"
   },
   {
    "duration": 35,
    "start_time": "2023-06-12T16:37:14.339Z"
   },
   {
    "duration": 179,
    "start_time": "2023-06-12T16:37:14.376Z"
   },
   {
    "duration": 27,
    "start_time": "2023-06-12T16:37:14.557Z"
   },
   {
    "duration": 34,
    "start_time": "2023-06-12T16:37:14.585Z"
   },
   {
    "duration": 39,
    "start_time": "2023-06-12T16:37:14.621Z"
   },
   {
    "duration": 13,
    "start_time": "2023-06-12T16:37:14.662Z"
   },
   {
    "duration": 111,
    "start_time": "2023-06-12T16:37:14.676Z"
   },
   {
    "duration": 483,
    "start_time": "2023-06-12T16:37:14.789Z"
   },
   {
    "duration": 170,
    "start_time": "2023-06-12T16:37:15.273Z"
   },
   {
    "duration": 23,
    "start_time": "2023-06-12T16:37:15.445Z"
   },
   {
    "duration": 17,
    "start_time": "2023-06-12T16:37:15.470Z"
   },
   {
    "duration": 91,
    "start_time": "2023-06-12T16:37:15.488Z"
   },
   {
    "duration": 10,
    "start_time": "2023-06-12T16:37:15.580Z"
   },
   {
    "duration": 150,
    "start_time": "2023-06-12T16:37:15.591Z"
   },
   {
    "duration": 22,
    "start_time": "2023-06-12T16:37:15.742Z"
   },
   {
    "duration": 14,
    "start_time": "2023-06-12T16:37:15.766Z"
   },
   {
    "duration": 18,
    "start_time": "2023-06-12T16:37:15.782Z"
   },
   {
    "duration": 158,
    "start_time": "2023-06-12T16:37:15.802Z"
   },
   {
    "duration": 5,
    "start_time": "2023-06-12T16:38:03.536Z"
   },
   {
    "duration": 853,
    "start_time": "2023-06-12T16:38:03.542Z"
   },
   {
    "duration": 17,
    "start_time": "2023-06-12T16:38:04.397Z"
   },
   {
    "duration": 141,
    "start_time": "2023-06-12T16:38:04.417Z"
   },
   {
    "duration": 178,
    "start_time": "2023-06-12T16:38:04.561Z"
   },
   {
    "duration": 36,
    "start_time": "2023-06-12T16:38:04.740Z"
   },
   {
    "duration": 277,
    "start_time": "2023-06-12T16:38:04.778Z"
   },
   {
    "duration": 32,
    "start_time": "2023-06-12T16:38:05.060Z"
   },
   {
    "duration": 268,
    "start_time": "2023-06-12T16:38:05.094Z"
   },
   {
    "duration": 32,
    "start_time": "2023-06-12T16:38:05.365Z"
   },
   {
    "duration": 282,
    "start_time": "2023-06-12T16:38:05.399Z"
   },
   {
    "duration": 36,
    "start_time": "2023-06-12T16:38:05.683Z"
   },
   {
    "duration": 39,
    "start_time": "2023-06-12T16:38:05.720Z"
   },
   {
    "duration": 34,
    "start_time": "2023-06-12T16:38:05.762Z"
   },
   {
    "duration": 14,
    "start_time": "2023-06-12T16:38:05.798Z"
   },
   {
    "duration": 136,
    "start_time": "2023-06-12T16:38:05.813Z"
   },
   {
    "duration": 412,
    "start_time": "2023-06-12T16:38:05.957Z"
   },
   {
    "duration": 175,
    "start_time": "2023-06-12T16:38:06.371Z"
   },
   {
    "duration": 15,
    "start_time": "2023-06-12T16:38:06.555Z"
   },
   {
    "duration": 15,
    "start_time": "2023-06-12T16:38:06.574Z"
   },
   {
    "duration": 69,
    "start_time": "2023-06-12T16:38:06.591Z"
   },
   {
    "duration": 10,
    "start_time": "2023-06-12T16:38:06.662Z"
   },
   {
    "duration": 155,
    "start_time": "2023-06-12T16:38:06.674Z"
   },
   {
    "duration": 14,
    "start_time": "2023-06-12T16:38:06.831Z"
   },
   {
    "duration": 13,
    "start_time": "2023-06-12T16:38:06.858Z"
   },
   {
    "duration": 7,
    "start_time": "2023-06-12T16:38:06.873Z"
   },
   {
    "duration": 169,
    "start_time": "2023-06-12T16:38:06.882Z"
   },
   {
    "duration": 13,
    "start_time": "2023-06-12T16:38:10.486Z"
   },
   {
    "duration": 21,
    "start_time": "2023-06-12T16:38:55.235Z"
   },
   {
    "duration": 11,
    "start_time": "2023-06-12T16:54:47.826Z"
   },
   {
    "duration": 12,
    "start_time": "2023-06-12T16:55:47.394Z"
   },
   {
    "duration": 244,
    "start_time": "2023-06-12T16:57:28.088Z"
   },
   {
    "duration": 259,
    "start_time": "2023-06-12T16:57:31.187Z"
   },
   {
    "duration": 31,
    "start_time": "2023-06-12T16:57:33.946Z"
   },
   {
    "duration": 12,
    "start_time": "2023-06-12T17:03:20.026Z"
   },
   {
    "duration": 17,
    "start_time": "2023-06-12T17:03:38.588Z"
   },
   {
    "duration": 1568,
    "start_time": "2023-06-12T17:03:49.152Z"
   },
   {
    "duration": 898,
    "start_time": "2023-06-12T17:03:50.722Z"
   },
   {
    "duration": 21,
    "start_time": "2023-06-12T17:03:51.622Z"
   },
   {
    "duration": 146,
    "start_time": "2023-06-12T17:03:51.645Z"
   },
   {
    "duration": 215,
    "start_time": "2023-06-12T17:03:51.793Z"
   },
   {
    "duration": 30,
    "start_time": "2023-06-12T17:03:52.009Z"
   },
   {
    "duration": 335,
    "start_time": "2023-06-12T17:03:52.041Z"
   },
   {
    "duration": 28,
    "start_time": "2023-06-12T17:03:52.382Z"
   },
   {
    "duration": 375,
    "start_time": "2023-06-12T17:03:52.412Z"
   },
   {
    "duration": 29,
    "start_time": "2023-06-12T17:03:52.789Z"
   },
   {
    "duration": 174,
    "start_time": "2023-06-12T17:03:52.819Z"
   },
   {
    "duration": 30,
    "start_time": "2023-06-12T17:03:52.995Z"
   },
   {
    "duration": 59,
    "start_time": "2023-06-12T17:03:53.026Z"
   },
   {
    "duration": 29,
    "start_time": "2023-06-12T17:03:53.088Z"
   },
   {
    "duration": 15,
    "start_time": "2023-06-12T17:03:53.118Z"
   },
   {
    "duration": 137,
    "start_time": "2023-06-12T17:03:53.134Z"
   },
   {
    "duration": 509,
    "start_time": "2023-06-12T17:03:53.272Z"
   },
   {
    "duration": 216,
    "start_time": "2023-06-12T17:03:53.783Z"
   },
   {
    "duration": 16,
    "start_time": "2023-06-12T17:03:54.001Z"
   },
   {
    "duration": 52,
    "start_time": "2023-06-12T17:03:54.020Z"
   },
   {
    "duration": 180,
    "start_time": "2023-06-12T17:03:54.075Z"
   },
   {
    "duration": 26,
    "start_time": "2023-06-12T17:03:54.257Z"
   },
   {
    "duration": 23,
    "start_time": "2023-06-12T17:03:54.285Z"
   },
   {
    "duration": 11,
    "start_time": "2023-06-12T17:03:54.310Z"
   },
   {
    "duration": 180,
    "start_time": "2023-06-12T17:03:54.323Z"
   },
   {
    "duration": 17,
    "start_time": "2023-06-12T17:03:54.504Z"
   },
   {
    "duration": 41,
    "start_time": "2023-06-12T17:03:54.523Z"
   },
   {
    "duration": 17,
    "start_time": "2023-06-12T17:03:54.568Z"
   },
   {
    "duration": 244,
    "start_time": "2023-06-12T17:03:54.587Z"
   },
   {
    "duration": 13,
    "start_time": "2023-06-12T17:03:54.833Z"
   },
   {
    "duration": 39,
    "start_time": "2023-06-12T17:03:54.847Z"
   },
   {
    "duration": 123,
    "start_time": "2023-06-12T17:05:15.696Z"
   },
   {
    "duration": 26,
    "start_time": "2023-06-12T17:12:22.788Z"
   },
   {
    "duration": 1651,
    "start_time": "2023-06-12T17:12:33.997Z"
   },
   {
    "duration": 964,
    "start_time": "2023-06-12T17:12:35.651Z"
   },
   {
    "duration": 17,
    "start_time": "2023-06-12T17:12:36.617Z"
   },
   {
    "duration": 138,
    "start_time": "2023-06-12T17:12:36.635Z"
   },
   {
    "duration": 198,
    "start_time": "2023-06-12T17:12:36.775Z"
   },
   {
    "duration": 34,
    "start_time": "2023-06-12T17:12:36.975Z"
   },
   {
    "duration": 294,
    "start_time": "2023-06-12T17:12:37.011Z"
   },
   {
    "duration": 28,
    "start_time": "2023-06-12T17:12:37.307Z"
   },
   {
    "duration": 377,
    "start_time": "2023-06-12T17:12:37.337Z"
   },
   {
    "duration": 30,
    "start_time": "2023-06-12T17:12:37.716Z"
   },
   {
    "duration": 176,
    "start_time": "2023-06-12T17:12:37.748Z"
   },
   {
    "duration": 50,
    "start_time": "2023-06-12T17:12:37.926Z"
   },
   {
    "duration": 34,
    "start_time": "2023-06-12T17:12:37.985Z"
   },
   {
    "duration": 45,
    "start_time": "2023-06-12T17:12:38.023Z"
   },
   {
    "duration": 18,
    "start_time": "2023-06-12T17:12:38.070Z"
   },
   {
    "duration": 125,
    "start_time": "2023-06-12T17:12:38.089Z"
   },
   {
    "duration": 566,
    "start_time": "2023-06-12T17:12:38.216Z"
   },
   {
    "duration": 208,
    "start_time": "2023-06-12T17:12:38.786Z"
   },
   {
    "duration": 16,
    "start_time": "2023-06-12T17:12:38.996Z"
   },
   {
    "duration": 48,
    "start_time": "2023-06-12T17:12:39.015Z"
   },
   {
    "duration": 168,
    "start_time": "2023-06-12T17:12:39.071Z"
   },
   {
    "duration": 40,
    "start_time": "2023-06-12T17:12:39.241Z"
   },
   {
    "duration": 15,
    "start_time": "2023-06-12T17:12:39.283Z"
   },
   {
    "duration": 13,
    "start_time": "2023-06-12T17:12:39.300Z"
   },
   {
    "duration": 204,
    "start_time": "2023-06-12T17:12:39.315Z"
   },
   {
    "duration": 20,
    "start_time": "2023-06-12T17:12:39.520Z"
   },
   {
    "duration": 46,
    "start_time": "2023-06-12T17:12:39.542Z"
   },
   {
    "duration": 9,
    "start_time": "2023-06-12T17:12:39.590Z"
   },
   {
    "duration": 287,
    "start_time": "2023-06-12T17:12:39.601Z"
   },
   {
    "duration": 22,
    "start_time": "2023-06-12T17:12:39.890Z"
   },
   {
    "duration": 26,
    "start_time": "2023-06-12T17:12:39.915Z"
   },
   {
    "duration": 40,
    "start_time": "2023-06-12T17:14:31.626Z"
   },
   {
    "duration": 4,
    "start_time": "2023-06-12T17:14:35.091Z"
   },
   {
    "duration": 52,
    "start_time": "2023-06-12T17:17:14.960Z"
   },
   {
    "duration": 77,
    "start_time": "2023-06-12T17:22:15.018Z"
   },
   {
    "duration": 39,
    "start_time": "2023-06-12T17:25:26.817Z"
   },
   {
    "duration": 48,
    "start_time": "2023-06-12T17:26:26.939Z"
   },
   {
    "duration": 4,
    "start_time": "2023-06-12T17:28:05.707Z"
   },
   {
    "duration": 4,
    "start_time": "2023-06-12T17:28:13.291Z"
   },
   {
    "duration": 3,
    "start_time": "2023-06-12T17:28:20.247Z"
   },
   {
    "duration": 4,
    "start_time": "2023-06-12T17:28:33.697Z"
   },
   {
    "duration": 13,
    "start_time": "2023-06-12T17:28:42.656Z"
   },
   {
    "duration": 21,
    "start_time": "2023-06-12T17:34:45.447Z"
   },
   {
    "duration": 18,
    "start_time": "2023-06-12T17:34:47.318Z"
   },
   {
    "duration": 15,
    "start_time": "2023-06-12T17:34:50.036Z"
   },
   {
    "duration": 16,
    "start_time": "2023-06-12T17:34:53.687Z"
   },
   {
    "duration": 26,
    "start_time": "2023-06-12T17:34:55.547Z"
   },
   {
    "duration": 73,
    "start_time": "2023-06-12T17:34:57.917Z"
   },
   {
    "duration": 195,
    "start_time": "2023-06-12T17:35:04.147Z"
   },
   {
    "duration": 1891,
    "start_time": "2023-06-12T17:39:02.304Z"
   },
   {
    "duration": 996,
    "start_time": "2023-06-12T17:39:04.210Z"
   },
   {
    "duration": 18,
    "start_time": "2023-06-12T17:39:05.208Z"
   },
   {
    "duration": 164,
    "start_time": "2023-06-12T17:39:05.229Z"
   },
   {
    "duration": 214,
    "start_time": "2023-06-12T17:39:05.401Z"
   },
   {
    "duration": 28,
    "start_time": "2023-06-12T17:39:05.617Z"
   },
   {
    "duration": 355,
    "start_time": "2023-06-12T17:39:05.646Z"
   },
   {
    "duration": 29,
    "start_time": "2023-06-12T17:39:06.007Z"
   },
   {
    "duration": 385,
    "start_time": "2023-06-12T17:39:06.038Z"
   },
   {
    "duration": 51,
    "start_time": "2023-06-12T17:39:06.426Z"
   },
   {
    "duration": 173,
    "start_time": "2023-06-12T17:39:06.481Z"
   },
   {
    "duration": 49,
    "start_time": "2023-06-12T17:39:06.663Z"
   },
   {
    "duration": 38,
    "start_time": "2023-06-12T17:39:06.714Z"
   },
   {
    "duration": 58,
    "start_time": "2023-06-12T17:39:06.754Z"
   },
   {
    "duration": 16,
    "start_time": "2023-06-12T17:39:06.814Z"
   },
   {
    "duration": 153,
    "start_time": "2023-06-12T17:39:06.832Z"
   },
   {
    "duration": 562,
    "start_time": "2023-06-12T17:39:06.990Z"
   },
   {
    "duration": 184,
    "start_time": "2023-06-12T17:39:07.558Z"
   },
   {
    "duration": 41,
    "start_time": "2023-06-12T17:39:07.743Z"
   },
   {
    "duration": 22,
    "start_time": "2023-06-12T17:39:07.789Z"
   },
   {
    "duration": 188,
    "start_time": "2023-06-12T17:39:07.812Z"
   },
   {
    "duration": 18,
    "start_time": "2023-06-12T17:39:08.002Z"
   },
   {
    "duration": 14,
    "start_time": "2023-06-12T17:39:08.022Z"
   },
   {
    "duration": 33,
    "start_time": "2023-06-12T17:39:08.038Z"
   },
   {
    "duration": 214,
    "start_time": "2023-06-12T17:39:08.073Z"
   },
   {
    "duration": 21,
    "start_time": "2023-06-12T17:39:08.300Z"
   },
   {
    "duration": 24,
    "start_time": "2023-06-12T17:39:08.323Z"
   },
   {
    "duration": 8,
    "start_time": "2023-06-12T17:39:08.351Z"
   },
   {
    "duration": 286,
    "start_time": "2023-06-12T17:39:08.361Z"
   },
   {
    "duration": 23,
    "start_time": "2023-06-12T17:39:08.649Z"
   },
   {
    "duration": 36,
    "start_time": "2023-06-12T17:39:08.674Z"
   },
   {
    "duration": 27,
    "start_time": "2023-06-12T17:39:08.712Z"
   },
   {
    "duration": 5,
    "start_time": "2023-06-12T17:39:08.741Z"
   },
   {
    "duration": 73,
    "start_time": "2023-06-12T17:39:08.748Z"
   },
   {
    "duration": 84,
    "start_time": "2023-06-12T17:39:08.824Z"
   },
   {
    "duration": 42,
    "start_time": "2023-06-12T17:39:08.910Z"
   },
   {
    "duration": 53,
    "start_time": "2023-06-12T17:39:08.953Z"
   },
   {
    "duration": 5,
    "start_time": "2023-06-12T17:39:09.009Z"
   },
   {
    "duration": 28,
    "start_time": "2023-06-12T17:39:09.016Z"
   },
   {
    "duration": 25,
    "start_time": "2023-06-12T17:39:09.045Z"
   },
   {
    "duration": 36,
    "start_time": "2023-06-12T17:39:09.073Z"
   },
   {
    "duration": 15,
    "start_time": "2023-06-12T17:39:09.111Z"
   },
   {
    "duration": 21,
    "start_time": "2023-06-12T17:39:09.128Z"
   },
   {
    "duration": 91,
    "start_time": "2023-06-12T17:39:09.150Z"
   },
   {
    "duration": 185,
    "start_time": "2023-06-12T17:39:11.739Z"
   },
   {
    "duration": 125,
    "start_time": "2023-06-12T17:43:41.612Z"
   },
   {
    "duration": 1843,
    "start_time": "2023-06-12T18:18:22.977Z"
   },
   {
    "duration": 3486,
    "start_time": "2023-06-12T18:18:24.822Z"
   },
   {
    "duration": 19,
    "start_time": "2023-06-12T18:18:28.310Z"
   },
   {
    "duration": 115,
    "start_time": "2023-06-12T18:18:28.331Z"
   },
   {
    "duration": 192,
    "start_time": "2023-06-12T18:18:28.451Z"
   },
   {
    "duration": 44,
    "start_time": "2023-06-12T18:18:28.644Z"
   },
   {
    "duration": 313,
    "start_time": "2023-06-12T18:18:28.690Z"
   },
   {
    "duration": 57,
    "start_time": "2023-06-12T18:18:29.005Z"
   },
   {
    "duration": 374,
    "start_time": "2023-06-12T18:18:29.064Z"
   },
   {
    "duration": 45,
    "start_time": "2023-06-12T18:18:29.440Z"
   },
   {
    "duration": 183,
    "start_time": "2023-06-12T18:18:29.487Z"
   },
   {
    "duration": 48,
    "start_time": "2023-06-12T18:18:29.673Z"
   },
   {
    "duration": 54,
    "start_time": "2023-06-12T18:18:29.723Z"
   },
   {
    "duration": 33,
    "start_time": "2023-06-12T18:18:29.779Z"
   },
   {
    "duration": 14,
    "start_time": "2023-06-12T18:18:29.814Z"
   },
   {
    "duration": 140,
    "start_time": "2023-06-12T18:18:29.830Z"
   },
   {
    "duration": 489,
    "start_time": "2023-06-12T18:18:29.972Z"
   },
   {
    "duration": 230,
    "start_time": "2023-06-12T18:18:30.463Z"
   },
   {
    "duration": 15,
    "start_time": "2023-06-12T18:18:30.696Z"
   },
   {
    "duration": 70,
    "start_time": "2023-06-12T18:18:30.713Z"
   },
   {
    "duration": 205,
    "start_time": "2023-06-12T18:18:30.785Z"
   },
   {
    "duration": 16,
    "start_time": "2023-06-12T18:18:30.992Z"
   },
   {
    "duration": 48,
    "start_time": "2023-06-12T18:18:31.010Z"
   },
   {
    "duration": 17,
    "start_time": "2023-06-12T18:18:31.064Z"
   },
   {
    "duration": 185,
    "start_time": "2023-06-12T18:18:31.084Z"
   },
   {
    "duration": 17,
    "start_time": "2023-06-12T18:18:31.272Z"
   },
   {
    "duration": 40,
    "start_time": "2023-06-12T18:18:31.291Z"
   },
   {
    "duration": 10,
    "start_time": "2023-06-12T18:18:31.333Z"
   },
   {
    "duration": 246,
    "start_time": "2023-06-12T18:18:31.345Z"
   },
   {
    "duration": 15,
    "start_time": "2023-06-12T18:18:31.592Z"
   },
   {
    "duration": 46,
    "start_time": "2023-06-12T18:18:31.609Z"
   },
   {
    "duration": 26,
    "start_time": "2023-06-12T18:18:31.661Z"
   },
   {
    "duration": 48,
    "start_time": "2023-06-12T18:18:31.690Z"
   },
   {
    "duration": 106,
    "start_time": "2023-06-12T18:18:31.740Z"
   },
   {
    "duration": 12,
    "start_time": "2023-06-12T18:18:31.848Z"
   },
   {
    "duration": 80,
    "start_time": "2023-06-12T18:18:31.864Z"
   },
   {
    "duration": 74,
    "start_time": "2023-06-12T18:18:31.953Z"
   },
   {
    "duration": 31,
    "start_time": "2023-06-12T18:18:32.029Z"
   },
   {
    "duration": 33,
    "start_time": "2023-06-12T18:18:32.062Z"
   },
   {
    "duration": 124,
    "start_time": "2023-06-12T18:21:02.211Z"
   },
   {
    "duration": 211,
    "start_time": "2023-06-12T18:22:29.426Z"
   },
   {
    "duration": 4,
    "start_time": "2023-06-12T18:23:43.046Z"
   },
   {
    "duration": 1488,
    "start_time": "2023-06-12T18:23:57.783Z"
   },
   {
    "duration": 788,
    "start_time": "2023-06-12T18:23:59.273Z"
   },
   {
    "duration": 20,
    "start_time": "2023-06-12T18:24:00.063Z"
   },
   {
    "duration": 141,
    "start_time": "2023-06-12T18:24:00.084Z"
   },
   {
    "duration": 193,
    "start_time": "2023-06-12T18:24:00.227Z"
   },
   {
    "duration": 50,
    "start_time": "2023-06-12T18:24:00.422Z"
   },
   {
    "duration": 293,
    "start_time": "2023-06-12T18:24:00.474Z"
   },
   {
    "duration": 33,
    "start_time": "2023-06-12T18:24:00.768Z"
   },
   {
    "duration": 336,
    "start_time": "2023-06-12T18:24:00.803Z"
   },
   {
    "duration": 42,
    "start_time": "2023-06-12T18:24:01.140Z"
   },
   {
    "duration": 191,
    "start_time": "2023-06-12T18:24:01.183Z"
   },
   {
    "duration": 32,
    "start_time": "2023-06-12T18:24:01.376Z"
   },
   {
    "duration": 73,
    "start_time": "2023-06-12T18:24:01.410Z"
   },
   {
    "duration": 59,
    "start_time": "2023-06-12T18:24:01.486Z"
   },
   {
    "duration": 39,
    "start_time": "2023-06-12T18:24:01.547Z"
   },
   {
    "duration": 150,
    "start_time": "2023-06-12T18:24:01.588Z"
   },
   {
    "duration": 496,
    "start_time": "2023-06-12T18:24:01.740Z"
   },
   {
    "duration": 177,
    "start_time": "2023-06-12T18:24:02.237Z"
   },
   {
    "duration": 12,
    "start_time": "2023-06-12T18:24:02.415Z"
   },
   {
    "duration": 40,
    "start_time": "2023-06-12T18:24:02.429Z"
   },
   {
    "duration": 168,
    "start_time": "2023-06-12T18:24:02.473Z"
   },
   {
    "duration": 32,
    "start_time": "2023-06-12T18:24:02.643Z"
   },
   {
    "duration": 13,
    "start_time": "2023-06-12T18:24:02.676Z"
   },
   {
    "duration": 12,
    "start_time": "2023-06-12T18:24:02.691Z"
   },
   {
    "duration": 166,
    "start_time": "2023-06-12T18:24:02.705Z"
   },
   {
    "duration": 15,
    "start_time": "2023-06-12T18:24:02.872Z"
   },
   {
    "duration": 18,
    "start_time": "2023-06-12T18:24:02.888Z"
   },
   {
    "duration": 8,
    "start_time": "2023-06-12T18:24:02.907Z"
   },
   {
    "duration": 267,
    "start_time": "2023-06-12T18:24:02.916Z"
   },
   {
    "duration": 13,
    "start_time": "2023-06-12T18:24:03.185Z"
   },
   {
    "duration": 23,
    "start_time": "2023-06-12T18:24:03.200Z"
   },
   {
    "duration": 51,
    "start_time": "2023-06-12T18:24:03.225Z"
   },
   {
    "duration": 4,
    "start_time": "2023-06-12T18:24:03.278Z"
   },
   {
    "duration": 90,
    "start_time": "2023-06-12T18:24:03.284Z"
   },
   {
    "duration": 9,
    "start_time": "2023-06-12T18:24:03.376Z"
   },
   {
    "duration": 79,
    "start_time": "2023-06-12T18:24:03.386Z"
   },
   {
    "duration": 69,
    "start_time": "2023-06-12T18:24:03.467Z"
   },
   {
    "duration": 23,
    "start_time": "2023-06-12T18:24:03.537Z"
   },
   {
    "duration": 65,
    "start_time": "2023-06-12T18:24:03.561Z"
   },
   {
    "duration": 4,
    "start_time": "2023-06-12T18:24:03.628Z"
   },
   {
    "duration": 15,
    "start_time": "2023-06-12T18:27:04.897Z"
   },
   {
    "duration": 15,
    "start_time": "2023-06-12T18:27:06.496Z"
   },
   {
    "duration": 23,
    "start_time": "2023-06-12T18:27:08.046Z"
   },
   {
    "duration": 16,
    "start_time": "2023-06-12T18:27:09.826Z"
   },
   {
    "duration": 17,
    "start_time": "2023-06-12T18:27:13.718Z"
   },
   {
    "duration": 65,
    "start_time": "2023-06-12T18:27:19.377Z"
   },
   {
    "duration": 156,
    "start_time": "2023-06-12T18:27:21.436Z"
   },
   {
    "duration": 212,
    "start_time": "2023-06-12T18:27:25.846Z"
   },
   {
    "duration": 147,
    "start_time": "2023-06-12T18:27:28.186Z"
   },
   {
    "duration": 4,
    "start_time": "2023-06-12T18:27:30.146Z"
   },
   {
    "duration": 4,
    "start_time": "2023-06-12T18:27:32.306Z"
   },
   {
    "duration": 4,
    "start_time": "2023-06-12T18:28:08.126Z"
   },
   {
    "duration": 11,
    "start_time": "2023-06-12T18:28:28.986Z"
   },
   {
    "duration": 10,
    "start_time": "2023-06-12T18:31:45.258Z"
   },
   {
    "duration": 829,
    "start_time": "2023-06-12T18:31:45.270Z"
   },
   {
    "duration": 14,
    "start_time": "2023-06-12T18:31:46.101Z"
   },
   {
    "duration": 137,
    "start_time": "2023-06-12T18:31:46.117Z"
   },
   {
    "duration": 190,
    "start_time": "2023-06-12T18:31:46.256Z"
   },
   {
    "duration": 56,
    "start_time": "2023-06-12T18:31:46.450Z"
   },
   {
    "duration": 305,
    "start_time": "2023-06-12T18:31:46.509Z"
   },
   {
    "duration": 46,
    "start_time": "2023-06-12T18:31:46.815Z"
   },
   {
    "duration": 379,
    "start_time": "2023-06-12T18:31:46.864Z"
   },
   {
    "duration": 57,
    "start_time": "2023-06-12T18:31:47.251Z"
   },
   {
    "duration": 182,
    "start_time": "2023-06-12T18:31:47.311Z"
   },
   {
    "duration": 30,
    "start_time": "2023-06-12T18:31:47.495Z"
   },
   {
    "duration": 60,
    "start_time": "2023-06-12T18:31:47.527Z"
   },
   {
    "duration": 32,
    "start_time": "2023-06-12T18:31:47.589Z"
   },
   {
    "duration": 46,
    "start_time": "2023-06-12T18:31:47.623Z"
   },
   {
    "duration": 133,
    "start_time": "2023-06-12T18:31:47.672Z"
   },
   {
    "duration": 439,
    "start_time": "2023-06-12T18:31:47.807Z"
   },
   {
    "duration": 199,
    "start_time": "2023-06-12T18:31:48.250Z"
   },
   {
    "duration": 20,
    "start_time": "2023-06-12T18:31:48.457Z"
   },
   {
    "duration": 19,
    "start_time": "2023-06-12T18:31:48.483Z"
   },
   {
    "duration": 195,
    "start_time": "2023-06-12T18:31:48.504Z"
   },
   {
    "duration": 14,
    "start_time": "2023-06-12T18:31:48.701Z"
   },
   {
    "duration": 37,
    "start_time": "2023-06-12T18:31:48.717Z"
   },
   {
    "duration": 11,
    "start_time": "2023-06-12T18:31:48.755Z"
   },
   {
    "duration": 176,
    "start_time": "2023-06-12T18:31:48.770Z"
   },
   {
    "duration": 20,
    "start_time": "2023-06-12T18:31:48.948Z"
   },
   {
    "duration": 24,
    "start_time": "2023-06-12T18:31:48.973Z"
   },
   {
    "duration": 10,
    "start_time": "2023-06-12T18:31:48.999Z"
   },
   {
    "duration": 269,
    "start_time": "2023-06-12T18:31:49.012Z"
   },
   {
    "duration": 13,
    "start_time": "2023-06-12T18:31:49.283Z"
   },
   {
    "duration": 27,
    "start_time": "2023-06-12T18:31:49.298Z"
   },
   {
    "duration": 40,
    "start_time": "2023-06-12T18:31:49.327Z"
   },
   {
    "duration": 5,
    "start_time": "2023-06-12T18:31:49.369Z"
   },
   {
    "duration": 429,
    "start_time": "2023-06-12T18:31:49.376Z"
   },
   {
    "duration": 9,
    "start_time": "2023-06-12T18:31:49.806Z"
   },
   {
    "duration": 65,
    "start_time": "2023-06-12T18:31:49.817Z"
   },
   {
    "duration": 1195,
    "start_time": "2023-06-12T18:31:49.884Z"
   },
   {
    "duration": 10,
    "start_time": "2023-06-12T18:31:51.081Z"
   },
   {
    "duration": 78,
    "start_time": "2023-06-12T18:31:51.093Z"
   },
   {
    "duration": 4,
    "start_time": "2023-06-12T18:31:51.173Z"
   },
   {
    "duration": 18,
    "start_time": "2023-06-12T18:31:51.179Z"
   },
   {
    "duration": 30,
    "start_time": "2023-06-12T18:31:51.198Z"
   },
   {
    "duration": 21,
    "start_time": "2023-06-12T18:31:51.229Z"
   },
   {
    "duration": 20,
    "start_time": "2023-06-12T18:31:51.257Z"
   },
   {
    "duration": 18,
    "start_time": "2023-06-12T18:31:51.279Z"
   },
   {
    "duration": 90,
    "start_time": "2023-06-12T18:31:51.299Z"
   },
   {
    "duration": 4,
    "start_time": "2023-06-12T18:32:25.776Z"
   },
   {
    "duration": 795,
    "start_time": "2023-06-12T18:32:25.785Z"
   },
   {
    "duration": 14,
    "start_time": "2023-06-12T18:32:26.582Z"
   },
   {
    "duration": 131,
    "start_time": "2023-06-12T18:32:26.598Z"
   },
   {
    "duration": 196,
    "start_time": "2023-06-12T18:32:26.731Z"
   },
   {
    "duration": 40,
    "start_time": "2023-06-12T18:32:26.929Z"
   },
   {
    "duration": 297,
    "start_time": "2023-06-12T18:32:26.971Z"
   },
   {
    "duration": 28,
    "start_time": "2023-06-12T18:32:27.270Z"
   },
   {
    "duration": 269,
    "start_time": "2023-06-12T18:32:27.300Z"
   },
   {
    "duration": 35,
    "start_time": "2023-06-12T18:32:27.570Z"
   },
   {
    "duration": 282,
    "start_time": "2023-06-12T18:32:27.607Z"
   },
   {
    "duration": 31,
    "start_time": "2023-06-12T18:32:27.891Z"
   },
   {
    "duration": 60,
    "start_time": "2023-06-12T18:32:27.924Z"
   },
   {
    "duration": 28,
    "start_time": "2023-06-12T18:32:27.986Z"
   },
   {
    "duration": 11,
    "start_time": "2023-06-12T18:32:28.018Z"
   },
   {
    "duration": 163,
    "start_time": "2023-06-12T18:32:28.031Z"
   },
   {
    "duration": 473,
    "start_time": "2023-06-12T18:32:28.196Z"
   },
   {
    "duration": 206,
    "start_time": "2023-06-12T18:32:28.671Z"
   },
   {
    "duration": 14,
    "start_time": "2023-06-12T18:32:28.879Z"
   },
   {
    "duration": 15,
    "start_time": "2023-06-12T18:32:28.894Z"
   },
   {
    "duration": 180,
    "start_time": "2023-06-12T18:32:28.911Z"
   },
   {
    "duration": 15,
    "start_time": "2023-06-12T18:32:29.093Z"
   },
   {
    "duration": 14,
    "start_time": "2023-06-12T18:32:29.111Z"
   },
   {
    "duration": 16,
    "start_time": "2023-06-12T18:32:29.152Z"
   },
   {
    "duration": 170,
    "start_time": "2023-06-12T18:32:29.170Z"
   },
   {
    "duration": 22,
    "start_time": "2023-06-12T18:32:29.342Z"
   },
   {
    "duration": 24,
    "start_time": "2023-06-12T18:32:29.366Z"
   },
   {
    "duration": 9,
    "start_time": "2023-06-12T18:32:29.391Z"
   },
   {
    "duration": 277,
    "start_time": "2023-06-12T18:32:29.402Z"
   },
   {
    "duration": 13,
    "start_time": "2023-06-12T18:32:29.681Z"
   },
   {
    "duration": 22,
    "start_time": "2023-06-12T18:32:29.696Z"
   },
   {
    "duration": 47,
    "start_time": "2023-06-12T18:32:29.720Z"
   },
   {
    "duration": 4,
    "start_time": "2023-06-12T18:32:29.768Z"
   },
   {
    "duration": 65,
    "start_time": "2023-06-12T18:32:29.774Z"
   },
   {
    "duration": 17,
    "start_time": "2023-06-12T18:32:29.851Z"
   },
   {
    "duration": 53,
    "start_time": "2023-06-12T18:32:29.871Z"
   },
   {
    "duration": 111,
    "start_time": "2023-06-12T18:32:29.926Z"
   },
   {
    "duration": 22,
    "start_time": "2023-06-12T18:32:30.040Z"
   },
   {
    "duration": 57,
    "start_time": "2023-06-12T18:32:30.068Z"
   },
   {
    "duration": 10,
    "start_time": "2023-06-12T18:32:30.127Z"
   },
   {
    "duration": 44,
    "start_time": "2023-06-12T18:32:30.139Z"
   },
   {
    "duration": 64,
    "start_time": "2023-06-12T18:32:30.187Z"
   },
   {
    "duration": 51,
    "start_time": "2023-06-12T18:32:30.253Z"
   },
   {
    "duration": 45,
    "start_time": "2023-06-12T18:32:30.306Z"
   },
   {
    "duration": 46,
    "start_time": "2023-06-12T18:32:30.353Z"
   },
   {
    "duration": 108,
    "start_time": "2023-06-12T18:32:30.400Z"
   },
   {
    "duration": 164,
    "start_time": "2023-06-12T18:32:33.468Z"
   },
   {
    "duration": 252,
    "start_time": "2023-06-12T18:32:41.535Z"
   },
   {
    "duration": 136,
    "start_time": "2023-06-12T18:32:43.277Z"
   },
   {
    "duration": 4,
    "start_time": "2023-06-12T18:32:45.328Z"
   },
   {
    "duration": 4,
    "start_time": "2023-06-12T18:32:47.577Z"
   },
   {
    "duration": 1612,
    "start_time": "2023-06-12T18:35:56.146Z"
   },
   {
    "duration": 838,
    "start_time": "2023-06-12T18:35:57.762Z"
   },
   {
    "duration": 18,
    "start_time": "2023-06-12T18:35:58.601Z"
   },
   {
    "duration": 146,
    "start_time": "2023-06-12T18:35:58.620Z"
   },
   {
    "duration": 212,
    "start_time": "2023-06-12T18:35:58.770Z"
   },
   {
    "duration": 31,
    "start_time": "2023-06-12T18:35:58.984Z"
   },
   {
    "duration": 282,
    "start_time": "2023-06-12T18:35:59.017Z"
   },
   {
    "duration": 31,
    "start_time": "2023-06-12T18:35:59.301Z"
   },
   {
    "duration": 357,
    "start_time": "2023-06-12T18:35:59.334Z"
   },
   {
    "duration": 31,
    "start_time": "2023-06-12T18:35:59.693Z"
   },
   {
    "duration": 210,
    "start_time": "2023-06-12T18:35:59.727Z"
   },
   {
    "duration": 44,
    "start_time": "2023-06-12T18:35:59.938Z"
   },
   {
    "duration": 31,
    "start_time": "2023-06-12T18:35:59.983Z"
   },
   {
    "duration": 51,
    "start_time": "2023-06-12T18:36:00.017Z"
   },
   {
    "duration": 29,
    "start_time": "2023-06-12T18:36:00.069Z"
   },
   {
    "duration": 125,
    "start_time": "2023-06-12T18:36:00.101Z"
   },
   {
    "duration": 511,
    "start_time": "2023-06-12T18:36:00.228Z"
   },
   {
    "duration": 200,
    "start_time": "2023-06-12T18:36:00.741Z"
   },
   {
    "duration": 21,
    "start_time": "2023-06-12T18:36:00.942Z"
   },
   {
    "duration": 32,
    "start_time": "2023-06-12T18:36:00.965Z"
   },
   {
    "duration": 171,
    "start_time": "2023-06-12T18:36:00.998Z"
   },
   {
    "duration": 17,
    "start_time": "2023-06-12T18:36:01.171Z"
   },
   {
    "duration": 28,
    "start_time": "2023-06-12T18:36:01.189Z"
   },
   {
    "duration": 27,
    "start_time": "2023-06-12T18:36:01.218Z"
   },
   {
    "duration": 187,
    "start_time": "2023-06-12T18:36:01.251Z"
   },
   {
    "duration": 37,
    "start_time": "2023-06-12T18:36:01.440Z"
   },
   {
    "duration": 53,
    "start_time": "2023-06-12T18:36:01.479Z"
   },
   {
    "duration": 34,
    "start_time": "2023-06-12T18:36:01.534Z"
   },
   {
    "duration": 299,
    "start_time": "2023-06-12T18:36:01.570Z"
   },
   {
    "duration": 14,
    "start_time": "2023-06-12T18:36:01.871Z"
   },
   {
    "duration": 57,
    "start_time": "2023-06-12T18:36:01.887Z"
   },
   {
    "duration": 58,
    "start_time": "2023-06-12T18:36:01.946Z"
   },
   {
    "duration": 58,
    "start_time": "2023-06-12T18:36:02.006Z"
   },
   {
    "duration": 144,
    "start_time": "2023-06-12T18:36:02.066Z"
   },
   {
    "duration": 9,
    "start_time": "2023-06-12T18:36:02.212Z"
   },
   {
    "duration": 98,
    "start_time": "2023-06-12T18:36:02.223Z"
   },
   {
    "duration": 76,
    "start_time": "2023-06-12T18:36:02.323Z"
   },
   {
    "duration": 14,
    "start_time": "2023-06-12T18:36:02.401Z"
   },
   {
    "duration": 84,
    "start_time": "2023-06-12T18:36:02.417Z"
   },
   {
    "duration": 5,
    "start_time": "2023-06-12T18:36:02.504Z"
   },
   {
    "duration": 22,
    "start_time": "2023-06-12T18:36:02.512Z"
   },
   {
    "duration": 34,
    "start_time": "2023-06-12T18:36:02.538Z"
   },
   {
    "duration": 17,
    "start_time": "2023-06-12T18:36:02.574Z"
   },
   {
    "duration": 36,
    "start_time": "2023-06-12T18:36:02.593Z"
   },
   {
    "duration": 24,
    "start_time": "2023-06-12T18:36:02.631Z"
   },
   {
    "duration": 102,
    "start_time": "2023-06-12T18:36:02.658Z"
   },
   {
    "duration": 155,
    "start_time": "2023-06-12T18:36:02.761Z"
   },
   {
    "duration": 216,
    "start_time": "2023-06-12T18:36:02.917Z"
   },
   {
    "duration": 151,
    "start_time": "2023-06-12T18:36:03.135Z"
   },
   {
    "duration": 3,
    "start_time": "2023-06-12T18:36:03.288Z"
   },
   {
    "duration": 7,
    "start_time": "2023-06-12T18:36:03.293Z"
   },
   {
    "duration": 62,
    "start_time": "2023-06-12T18:36:11.065Z"
   },
   {
    "duration": 6,
    "start_time": "2023-06-12T18:45:25.171Z"
   },
   {
    "duration": 119,
    "start_time": "2023-06-12T18:49:30.116Z"
   },
   {
    "duration": 7,
    "start_time": "2023-06-12T18:49:35.262Z"
   },
   {
    "duration": 802,
    "start_time": "2023-06-12T18:49:35.271Z"
   },
   {
    "duration": 15,
    "start_time": "2023-06-12T18:49:36.074Z"
   },
   {
    "duration": 131,
    "start_time": "2023-06-12T18:49:36.090Z"
   },
   {
    "duration": 204,
    "start_time": "2023-06-12T18:49:36.224Z"
   },
   {
    "duration": 48,
    "start_time": "2023-06-12T18:49:36.430Z"
   },
   {
    "duration": 287,
    "start_time": "2023-06-12T18:49:36.480Z"
   },
   {
    "duration": 30,
    "start_time": "2023-06-12T18:49:36.771Z"
   },
   {
    "duration": 372,
    "start_time": "2023-06-12T18:49:36.803Z"
   },
   {
    "duration": 38,
    "start_time": "2023-06-12T18:49:37.176Z"
   },
   {
    "duration": 195,
    "start_time": "2023-06-12T18:49:37.215Z"
   },
   {
    "duration": 42,
    "start_time": "2023-06-12T18:49:37.412Z"
   },
   {
    "duration": 50,
    "start_time": "2023-06-12T18:49:37.455Z"
   },
   {
    "duration": 42,
    "start_time": "2023-06-12T18:49:37.510Z"
   },
   {
    "duration": 14,
    "start_time": "2023-06-12T18:49:37.557Z"
   },
   {
    "duration": 122,
    "start_time": "2023-06-12T18:49:37.573Z"
   },
   {
    "duration": 476,
    "start_time": "2023-06-12T18:49:37.697Z"
   },
   {
    "duration": 203,
    "start_time": "2023-06-12T18:49:38.174Z"
   },
   {
    "duration": 12,
    "start_time": "2023-06-12T18:49:38.379Z"
   },
   {
    "duration": 109,
    "start_time": "2023-06-12T18:49:38.393Z"
   },
   {
    "duration": 172,
    "start_time": "2023-06-12T18:49:38.504Z"
   },
   {
    "duration": 14,
    "start_time": "2023-06-12T18:49:38.678Z"
   },
   {
    "duration": 12,
    "start_time": "2023-06-12T18:49:38.694Z"
   },
   {
    "duration": 10,
    "start_time": "2023-06-12T18:49:38.708Z"
   },
   {
    "duration": 173,
    "start_time": "2023-06-12T18:49:38.751Z"
   },
   {
    "duration": 25,
    "start_time": "2023-06-12T18:49:38.926Z"
   },
   {
    "duration": 23,
    "start_time": "2023-06-12T18:49:38.960Z"
   },
   {
    "duration": 9,
    "start_time": "2023-06-12T18:49:38.985Z"
   },
   {
    "duration": 250,
    "start_time": "2023-06-12T18:49:38.996Z"
   },
   {
    "duration": 16,
    "start_time": "2023-06-12T18:49:39.250Z"
   },
   {
    "duration": 21,
    "start_time": "2023-06-12T18:49:39.271Z"
   },
   {
    "duration": 21,
    "start_time": "2023-06-12T18:49:39.294Z"
   },
   {
    "duration": 5,
    "start_time": "2023-06-12T18:49:39.316Z"
   },
   {
    "duration": 106,
    "start_time": "2023-06-12T18:49:39.324Z"
   },
   {
    "duration": 19,
    "start_time": "2023-06-12T18:49:39.432Z"
   },
   {
    "duration": 75,
    "start_time": "2023-06-12T18:49:39.454Z"
   },
   {
    "duration": 68,
    "start_time": "2023-06-12T18:49:39.530Z"
   },
   {
    "duration": 10,
    "start_time": "2023-06-12T18:49:39.600Z"
   },
   {
    "duration": 81,
    "start_time": "2023-06-12T18:49:39.612Z"
   },
   {
    "duration": 4,
    "start_time": "2023-06-12T18:49:39.695Z"
   },
   {
    "duration": 66,
    "start_time": "2023-06-12T18:49:39.702Z"
   },
   {
    "duration": 16,
    "start_time": "2023-06-12T18:49:39.770Z"
   },
   {
    "duration": 18,
    "start_time": "2023-06-12T18:49:39.787Z"
   },
   {
    "duration": 19,
    "start_time": "2023-06-12T18:49:39.807Z"
   },
   {
    "duration": 46,
    "start_time": "2023-06-12T18:49:39.827Z"
   },
   {
    "duration": 103,
    "start_time": "2023-06-12T18:49:39.876Z"
   },
   {
    "duration": 157,
    "start_time": "2023-06-12T18:49:39.981Z"
   },
   {
    "duration": 206,
    "start_time": "2023-06-12T18:49:40.140Z"
   },
   {
    "duration": 144,
    "start_time": "2023-06-12T18:49:40.350Z"
   },
   {
    "duration": 5,
    "start_time": "2023-06-12T18:49:40.496Z"
   },
   {
    "duration": 17,
    "start_time": "2023-06-12T18:49:40.502Z"
   },
   {
    "duration": 105,
    "start_time": "2023-06-12T18:49:40.521Z"
   },
   {
    "duration": 33,
    "start_time": "2023-06-12T18:49:40.628Z"
   },
   {
    "duration": 94,
    "start_time": "2023-06-12T18:49:40.667Z"
   },
   {
    "duration": 64,
    "start_time": "2023-06-12T18:49:40.768Z"
   },
   {
    "duration": 366,
    "start_time": "2023-06-12T18:49:40.834Z"
   },
   {
    "duration": 11,
    "start_time": "2023-06-12T18:49:54.075Z"
   },
   {
    "duration": 4,
    "start_time": "2023-06-12T18:51:59.248Z"
   },
   {
    "duration": 863,
    "start_time": "2023-06-12T18:51:59.254Z"
   },
   {
    "duration": 17,
    "start_time": "2023-06-12T18:52:00.120Z"
   },
   {
    "duration": 173,
    "start_time": "2023-06-12T18:52:00.139Z"
   },
   {
    "duration": 203,
    "start_time": "2023-06-12T18:52:00.315Z"
   },
   {
    "duration": 47,
    "start_time": "2023-06-12T18:52:00.520Z"
   },
   {
    "duration": 334,
    "start_time": "2023-06-12T18:52:00.568Z"
   },
   {
    "duration": 31,
    "start_time": "2023-06-12T18:52:00.904Z"
   },
   {
    "duration": 292,
    "start_time": "2023-06-12T18:52:00.938Z"
   },
   {
    "duration": 46,
    "start_time": "2023-06-12T18:52:01.231Z"
   },
   {
    "duration": 312,
    "start_time": "2023-06-12T18:52:01.283Z"
   },
   {
    "duration": 35,
    "start_time": "2023-06-12T18:52:01.597Z"
   },
   {
    "duration": 111,
    "start_time": "2023-06-12T18:52:01.635Z"
   },
   {
    "duration": 114,
    "start_time": "2023-06-12T18:52:01.748Z"
   },
   {
    "duration": 105,
    "start_time": "2023-06-12T18:52:01.863Z"
   },
   {
    "duration": 132,
    "start_time": "2023-06-12T18:52:01.970Z"
   },
   {
    "duration": 478,
    "start_time": "2023-06-12T18:52:02.103Z"
   },
   {
    "duration": 191,
    "start_time": "2023-06-12T18:52:02.583Z"
   },
   {
    "duration": 13,
    "start_time": "2023-06-12T18:52:02.776Z"
   },
   {
    "duration": 58,
    "start_time": "2023-06-12T18:52:02.790Z"
   },
   {
    "duration": 169,
    "start_time": "2023-06-12T18:52:02.849Z"
   },
   {
    "duration": 14,
    "start_time": "2023-06-12T18:52:03.020Z"
   },
   {
    "duration": 33,
    "start_time": "2023-06-12T18:52:03.036Z"
   },
   {
    "duration": 21,
    "start_time": "2023-06-12T18:52:03.073Z"
   },
   {
    "duration": 159,
    "start_time": "2023-06-12T18:52:03.095Z"
   },
   {
    "duration": 16,
    "start_time": "2023-06-12T18:52:03.256Z"
   },
   {
    "duration": 27,
    "start_time": "2023-06-12T18:52:03.274Z"
   },
   {
    "duration": 9,
    "start_time": "2023-06-12T18:52:03.303Z"
   },
   {
    "duration": 251,
    "start_time": "2023-06-12T18:52:03.314Z"
   },
   {
    "duration": 11,
    "start_time": "2023-06-12T18:52:03.567Z"
   },
   {
    "duration": 23,
    "start_time": "2023-06-12T18:52:03.580Z"
   },
   {
    "duration": 15,
    "start_time": "2023-06-12T18:52:03.605Z"
   },
   {
    "duration": 4,
    "start_time": "2023-06-12T18:52:03.622Z"
   },
   {
    "duration": 82,
    "start_time": "2023-06-12T18:52:03.650Z"
   },
   {
    "duration": 33,
    "start_time": "2023-06-12T18:52:03.734Z"
   },
   {
    "duration": 63,
    "start_time": "2023-06-12T18:52:03.769Z"
   },
   {
    "duration": 66,
    "start_time": "2023-06-12T18:52:03.834Z"
   },
   {
    "duration": 11,
    "start_time": "2023-06-12T18:52:03.902Z"
   },
   {
    "duration": 81,
    "start_time": "2023-06-12T18:52:03.916Z"
   },
   {
    "duration": 4,
    "start_time": "2023-06-12T18:52:03.999Z"
   },
   {
    "duration": 19,
    "start_time": "2023-06-12T18:52:04.005Z"
   },
   {
    "duration": 38,
    "start_time": "2023-06-12T18:52:04.026Z"
   },
   {
    "duration": 16,
    "start_time": "2023-06-12T18:52:04.066Z"
   },
   {
    "duration": 19,
    "start_time": "2023-06-12T18:52:04.084Z"
   },
   {
    "duration": 21,
    "start_time": "2023-06-12T18:52:04.104Z"
   },
   {
    "duration": 103,
    "start_time": "2023-06-12T18:52:04.127Z"
   },
   {
    "duration": 194,
    "start_time": "2023-06-12T18:52:04.232Z"
   },
   {
    "duration": 230,
    "start_time": "2023-06-12T18:52:04.428Z"
   },
   {
    "duration": 144,
    "start_time": "2023-06-12T18:52:04.659Z"
   },
   {
    "duration": 4,
    "start_time": "2023-06-12T18:52:04.805Z"
   },
   {
    "duration": 5,
    "start_time": "2023-06-12T18:52:04.811Z"
   },
   {
    "duration": 92,
    "start_time": "2023-06-12T18:52:04.817Z"
   },
   {
    "duration": 15,
    "start_time": "2023-06-12T18:52:04.911Z"
   },
   {
    "duration": 126,
    "start_time": "2023-06-12T18:52:04.928Z"
   },
   {
    "duration": 72,
    "start_time": "2023-06-12T18:52:05.056Z"
   },
   {
    "duration": 12,
    "start_time": "2023-06-12T18:52:08.716Z"
   },
   {
    "duration": 9,
    "start_time": "2023-06-12T18:55:47.377Z"
   },
   {
    "duration": 11,
    "start_time": "2023-06-12T18:55:59.187Z"
   },
   {
    "duration": 1510,
    "start_time": "2023-06-12T18:56:34.448Z"
   },
   {
    "duration": 866,
    "start_time": "2023-06-12T18:56:35.960Z"
   },
   {
    "duration": 30,
    "start_time": "2023-06-12T18:56:36.827Z"
   },
   {
    "duration": 135,
    "start_time": "2023-06-12T18:56:36.859Z"
   },
   {
    "duration": 208,
    "start_time": "2023-06-12T18:56:36.997Z"
   },
   {
    "duration": 27,
    "start_time": "2023-06-12T18:56:37.206Z"
   },
   {
    "duration": 283,
    "start_time": "2023-06-12T18:56:37.235Z"
   },
   {
    "duration": 62,
    "start_time": "2023-06-12T18:56:37.520Z"
   },
   {
    "duration": 342,
    "start_time": "2023-06-12T18:56:37.584Z"
   },
   {
    "duration": 56,
    "start_time": "2023-06-12T18:56:37.927Z"
   },
   {
    "duration": 189,
    "start_time": "2023-06-12T18:56:37.985Z"
   },
   {
    "duration": 30,
    "start_time": "2023-06-12T18:56:38.184Z"
   },
   {
    "duration": 39,
    "start_time": "2023-06-12T18:56:38.216Z"
   },
   {
    "duration": 54,
    "start_time": "2023-06-12T18:56:38.261Z"
   },
   {
    "duration": 18,
    "start_time": "2023-06-12T18:56:38.317Z"
   },
   {
    "duration": 150,
    "start_time": "2023-06-12T18:56:38.336Z"
   },
   {
    "duration": 497,
    "start_time": "2023-06-12T18:56:38.491Z"
   },
   {
    "duration": 195,
    "start_time": "2023-06-12T18:56:38.990Z"
   },
   {
    "duration": 15,
    "start_time": "2023-06-12T18:56:39.188Z"
   },
   {
    "duration": 17,
    "start_time": "2023-06-12T18:56:39.205Z"
   },
   {
    "duration": 186,
    "start_time": "2023-06-12T18:56:39.224Z"
   },
   {
    "duration": 18,
    "start_time": "2023-06-12T18:56:39.415Z"
   },
   {
    "duration": 29,
    "start_time": "2023-06-12T18:56:39.435Z"
   },
   {
    "duration": 16,
    "start_time": "2023-06-12T18:56:39.472Z"
   },
   {
    "duration": 163,
    "start_time": "2023-06-12T18:56:39.490Z"
   },
   {
    "duration": 20,
    "start_time": "2023-06-12T18:56:39.655Z"
   },
   {
    "duration": 27,
    "start_time": "2023-06-12T18:56:39.677Z"
   },
   {
    "duration": 9,
    "start_time": "2023-06-12T18:56:39.705Z"
   },
   {
    "duration": 272,
    "start_time": "2023-06-12T18:56:39.715Z"
   },
   {
    "duration": 14,
    "start_time": "2023-06-12T18:56:39.988Z"
   },
   {
    "duration": 21,
    "start_time": "2023-06-12T18:56:40.004Z"
   },
   {
    "duration": 50,
    "start_time": "2023-06-12T18:56:40.026Z"
   },
   {
    "duration": 4,
    "start_time": "2023-06-12T18:56:40.080Z"
   },
   {
    "duration": 88,
    "start_time": "2023-06-12T18:56:40.085Z"
   },
   {
    "duration": 12,
    "start_time": "2023-06-12T18:56:40.177Z"
   },
   {
    "duration": 88,
    "start_time": "2023-06-12T18:56:40.190Z"
   },
   {
    "duration": 86,
    "start_time": "2023-06-12T18:56:40.282Z"
   },
   {
    "duration": 19,
    "start_time": "2023-06-12T18:56:40.370Z"
   },
   {
    "duration": 79,
    "start_time": "2023-06-12T18:56:40.391Z"
   },
   {
    "duration": 8,
    "start_time": "2023-06-12T18:56:40.475Z"
   },
   {
    "duration": 28,
    "start_time": "2023-06-12T18:56:40.488Z"
   },
   {
    "duration": 17,
    "start_time": "2023-06-12T18:56:40.518Z"
   },
   {
    "duration": 19,
    "start_time": "2023-06-12T18:56:40.537Z"
   },
   {
    "duration": 28,
    "start_time": "2023-06-12T18:56:40.559Z"
   },
   {
    "duration": 19,
    "start_time": "2023-06-12T18:56:40.589Z"
   },
   {
    "duration": 82,
    "start_time": "2023-06-12T18:56:40.610Z"
   },
   {
    "duration": 175,
    "start_time": "2023-06-12T18:56:40.693Z"
   },
   {
    "duration": 197,
    "start_time": "2023-06-12T18:56:40.876Z"
   },
   {
    "duration": 142,
    "start_time": "2023-06-12T18:56:41.075Z"
   },
   {
    "duration": 3,
    "start_time": "2023-06-12T18:56:41.219Z"
   },
   {
    "duration": 4,
    "start_time": "2023-06-12T18:56:41.224Z"
   },
   {
    "duration": 97,
    "start_time": "2023-06-12T18:56:41.230Z"
   },
   {
    "duration": 30,
    "start_time": "2023-06-12T18:56:41.328Z"
   },
   {
    "duration": 114,
    "start_time": "2023-06-12T18:56:41.365Z"
   },
   {
    "duration": 69,
    "start_time": "2023-06-12T18:56:41.483Z"
   },
   {
    "duration": 20,
    "start_time": "2023-06-12T18:56:41.554Z"
   },
   {
    "duration": 752,
    "start_time": "2023-06-12T18:56:41.576Z"
   },
   {
    "duration": 13,
    "start_time": "2023-06-12T18:56:44.781Z"
   },
   {
    "duration": 1589,
    "start_time": "2023-06-12T18:57:28.978Z"
   },
   {
    "duration": 912,
    "start_time": "2023-06-12T18:57:30.569Z"
   },
   {
    "duration": 25,
    "start_time": "2023-06-12T18:57:31.483Z"
   },
   {
    "duration": 181,
    "start_time": "2023-06-12T18:57:31.510Z"
   },
   {
    "duration": 240,
    "start_time": "2023-06-12T18:57:31.695Z"
   },
   {
    "duration": 57,
    "start_time": "2023-06-12T18:57:31.938Z"
   },
   {
    "duration": 315,
    "start_time": "2023-06-12T18:57:31.998Z"
   },
   {
    "duration": 30,
    "start_time": "2023-06-12T18:57:32.314Z"
   },
   {
    "duration": 397,
    "start_time": "2023-06-12T18:57:32.354Z"
   },
   {
    "duration": 48,
    "start_time": "2023-06-12T18:57:32.755Z"
   },
   {
    "duration": 195,
    "start_time": "2023-06-12T18:57:32.805Z"
   },
   {
    "duration": 31,
    "start_time": "2023-06-12T18:57:33.002Z"
   },
   {
    "duration": 53,
    "start_time": "2023-06-12T18:57:33.035Z"
   },
   {
    "duration": 27,
    "start_time": "2023-06-12T18:57:33.092Z"
   },
   {
    "duration": 42,
    "start_time": "2023-06-12T18:57:33.121Z"
   },
   {
    "duration": 131,
    "start_time": "2023-06-12T18:57:33.165Z"
   },
   {
    "duration": 533,
    "start_time": "2023-06-12T18:57:33.297Z"
   },
   {
    "duration": 202,
    "start_time": "2023-06-12T18:57:33.832Z"
   },
   {
    "duration": 28,
    "start_time": "2023-06-12T18:57:34.036Z"
   },
   {
    "duration": 24,
    "start_time": "2023-06-12T18:57:34.066Z"
   },
   {
    "duration": 174,
    "start_time": "2023-06-12T18:57:34.092Z"
   },
   {
    "duration": 18,
    "start_time": "2023-06-12T18:57:34.267Z"
   },
   {
    "duration": 55,
    "start_time": "2023-06-12T18:57:34.287Z"
   },
   {
    "duration": 14,
    "start_time": "2023-06-12T18:57:34.345Z"
   },
   {
    "duration": 228,
    "start_time": "2023-06-12T18:57:34.361Z"
   },
   {
    "duration": 22,
    "start_time": "2023-06-12T18:57:34.591Z"
   },
   {
    "duration": 51,
    "start_time": "2023-06-12T18:57:34.615Z"
   },
   {
    "duration": 16,
    "start_time": "2023-06-12T18:57:34.668Z"
   },
   {
    "duration": 276,
    "start_time": "2023-06-12T18:57:34.689Z"
   },
   {
    "duration": 16,
    "start_time": "2023-06-12T18:57:34.976Z"
   },
   {
    "duration": 24,
    "start_time": "2023-06-12T18:57:34.994Z"
   },
   {
    "duration": 45,
    "start_time": "2023-06-12T18:57:35.020Z"
   },
   {
    "duration": 10,
    "start_time": "2023-06-12T18:57:35.067Z"
   },
   {
    "duration": 80,
    "start_time": "2023-06-12T18:57:35.081Z"
   },
   {
    "duration": 10,
    "start_time": "2023-06-12T18:57:35.167Z"
   },
   {
    "duration": 62,
    "start_time": "2023-06-12T18:57:35.179Z"
   },
   {
    "duration": 76,
    "start_time": "2023-06-12T18:57:35.243Z"
   },
   {
    "duration": 14,
    "start_time": "2023-06-12T18:57:35.321Z"
   },
   {
    "duration": 65,
    "start_time": "2023-06-12T18:57:35.350Z"
   },
   {
    "duration": 3,
    "start_time": "2023-06-12T18:57:35.417Z"
   },
   {
    "duration": 33,
    "start_time": "2023-06-12T18:57:35.424Z"
   },
   {
    "duration": 30,
    "start_time": "2023-06-12T18:57:35.459Z"
   },
   {
    "duration": 28,
    "start_time": "2023-06-12T18:57:35.491Z"
   },
   {
    "duration": 45,
    "start_time": "2023-06-12T18:57:35.521Z"
   },
   {
    "duration": 22,
    "start_time": "2023-06-12T18:57:35.570Z"
   },
   {
    "duration": 87,
    "start_time": "2023-06-12T18:57:35.594Z"
   },
   {
    "duration": 158,
    "start_time": "2023-06-12T18:57:35.683Z"
   },
   {
    "duration": 210,
    "start_time": "2023-06-12T18:57:35.843Z"
   },
   {
    "duration": 143,
    "start_time": "2023-06-12T18:57:36.055Z"
   },
   {
    "duration": 4,
    "start_time": "2023-06-12T18:57:36.200Z"
   },
   {
    "duration": 7,
    "start_time": "2023-06-12T18:57:36.206Z"
   },
   {
    "duration": 89,
    "start_time": "2023-06-12T18:57:36.214Z"
   },
   {
    "duration": 13,
    "start_time": "2023-06-12T18:57:36.305Z"
   },
   {
    "duration": 115,
    "start_time": "2023-06-12T18:57:36.319Z"
   },
   {
    "duration": 77,
    "start_time": "2023-06-12T18:57:36.436Z"
   },
   {
    "duration": 17,
    "start_time": "2023-06-12T18:57:36.515Z"
   },
   {
    "duration": 811,
    "start_time": "2023-06-12T18:57:36.533Z"
   },
   {
    "duration": 0,
    "start_time": "2023-06-12T18:57:37.345Z"
   },
   {
    "duration": 67,
    "start_time": "2023-06-12T19:00:15.155Z"
   },
   {
    "duration": 15,
    "start_time": "2023-06-12T19:02:14.249Z"
   },
   {
    "duration": 432,
    "start_time": "2023-06-12T19:02:16.388Z"
   },
   {
    "duration": 3409,
    "start_time": "2023-06-12T19:05:23.571Z"
   },
   {
    "duration": 4,
    "start_time": "2023-06-12T19:05:53.901Z"
   },
   {
    "duration": 867,
    "start_time": "2023-06-12T19:05:53.911Z"
   },
   {
    "duration": 13,
    "start_time": "2023-06-12T19:05:54.780Z"
   },
   {
    "duration": 137,
    "start_time": "2023-06-12T19:05:54.795Z"
   },
   {
    "duration": 185,
    "start_time": "2023-06-12T19:05:54.934Z"
   },
   {
    "duration": 46,
    "start_time": "2023-06-12T19:05:55.121Z"
   },
   {
    "duration": 375,
    "start_time": "2023-06-12T19:05:55.168Z"
   },
   {
    "duration": 43,
    "start_time": "2023-06-12T19:05:55.553Z"
   },
   {
    "duration": 289,
    "start_time": "2023-06-12T19:05:55.597Z"
   },
   {
    "duration": 33,
    "start_time": "2023-06-12T19:05:55.888Z"
   },
   {
    "duration": 195,
    "start_time": "2023-06-12T19:05:55.922Z"
   },
   {
    "duration": 42,
    "start_time": "2023-06-12T19:05:56.119Z"
   },
   {
    "duration": 40,
    "start_time": "2023-06-12T19:05:56.170Z"
   },
   {
    "duration": 41,
    "start_time": "2023-06-12T19:05:56.212Z"
   },
   {
    "duration": 26,
    "start_time": "2023-06-12T19:05:56.256Z"
   },
   {
    "duration": 125,
    "start_time": "2023-06-12T19:05:56.286Z"
   },
   {
    "duration": 457,
    "start_time": "2023-06-12T19:05:56.413Z"
   },
   {
    "duration": 196,
    "start_time": "2023-06-12T19:05:56.872Z"
   },
   {
    "duration": 13,
    "start_time": "2023-06-12T19:05:57.077Z"
   },
   {
    "duration": 24,
    "start_time": "2023-06-12T19:05:57.091Z"
   },
   {
    "duration": 170,
    "start_time": "2023-06-12T19:05:57.116Z"
   },
   {
    "duration": 14,
    "start_time": "2023-06-12T19:05:57.288Z"
   },
   {
    "duration": 12,
    "start_time": "2023-06-12T19:05:57.303Z"
   },
   {
    "duration": 8,
    "start_time": "2023-06-12T19:05:57.317Z"
   },
   {
    "duration": 167,
    "start_time": "2023-06-12T19:05:57.350Z"
   },
   {
    "duration": 13,
    "start_time": "2023-06-12T19:05:57.519Z"
   },
   {
    "duration": 36,
    "start_time": "2023-06-12T19:05:57.534Z"
   },
   {
    "duration": 11,
    "start_time": "2023-06-12T19:05:57.571Z"
   },
   {
    "duration": 250,
    "start_time": "2023-06-12T19:05:57.585Z"
   },
   {
    "duration": 29,
    "start_time": "2023-06-12T19:05:57.837Z"
   },
   {
    "duration": 119,
    "start_time": "2023-06-12T19:05:57.868Z"
   },
   {
    "duration": 30,
    "start_time": "2023-06-12T19:05:57.989Z"
   },
   {
    "duration": 20,
    "start_time": "2023-06-12T19:05:58.021Z"
   },
   {
    "duration": 83,
    "start_time": "2023-06-12T19:05:58.043Z"
   },
   {
    "duration": 11,
    "start_time": "2023-06-12T19:05:58.128Z"
   },
   {
    "duration": 105,
    "start_time": "2023-06-12T19:05:58.141Z"
   },
   {
    "duration": 83,
    "start_time": "2023-06-12T19:05:58.248Z"
   },
   {
    "duration": 10,
    "start_time": "2023-06-12T19:05:58.333Z"
   },
   {
    "duration": 85,
    "start_time": "2023-06-12T19:05:58.354Z"
   },
   {
    "duration": 4,
    "start_time": "2023-06-12T19:05:58.441Z"
   },
   {
    "duration": 48,
    "start_time": "2023-06-12T19:05:58.447Z"
   },
   {
    "duration": 33,
    "start_time": "2023-06-12T19:05:58.501Z"
   },
   {
    "duration": 47,
    "start_time": "2023-06-12T19:05:58.536Z"
   },
   {
    "duration": 27,
    "start_time": "2023-06-12T19:05:58.585Z"
   },
   {
    "duration": 26,
    "start_time": "2023-06-12T19:05:58.614Z"
   },
   {
    "duration": 91,
    "start_time": "2023-06-12T19:05:58.642Z"
   },
   {
    "duration": 178,
    "start_time": "2023-06-12T19:05:58.736Z"
   },
   {
    "duration": 188,
    "start_time": "2023-06-12T19:05:58.915Z"
   },
   {
    "duration": 162,
    "start_time": "2023-06-12T19:05:59.104Z"
   },
   {
    "duration": 7,
    "start_time": "2023-06-12T19:05:59.268Z"
   },
   {
    "duration": 7,
    "start_time": "2023-06-12T19:05:59.278Z"
   },
   {
    "duration": 81,
    "start_time": "2023-06-12T19:05:59.287Z"
   },
   {
    "duration": 19,
    "start_time": "2023-06-12T19:05:59.370Z"
   },
   {
    "duration": 3531,
    "start_time": "2023-06-12T19:05:59.390Z"
   },
   {
    "duration": 4,
    "start_time": "2023-06-12T19:07:10.223Z"
   },
   {
    "duration": 4,
    "start_time": "2023-06-12T19:07:16.134Z"
   },
   {
    "duration": 8,
    "start_time": "2023-06-12T19:14:00.749Z"
   },
   {
    "duration": 790,
    "start_time": "2023-06-12T19:14:00.764Z"
   },
   {
    "duration": 16,
    "start_time": "2023-06-12T19:14:01.556Z"
   },
   {
    "duration": 145,
    "start_time": "2023-06-12T19:14:01.574Z"
   },
   {
    "duration": 195,
    "start_time": "2023-06-12T19:14:01.721Z"
   },
   {
    "duration": 35,
    "start_time": "2023-06-12T19:14:01.918Z"
   },
   {
    "duration": 273,
    "start_time": "2023-06-12T19:14:01.955Z"
   },
   {
    "duration": 46,
    "start_time": "2023-06-12T19:14:02.229Z"
   },
   {
    "duration": 300,
    "start_time": "2023-06-12T19:14:02.277Z"
   },
   {
    "duration": 30,
    "start_time": "2023-06-12T19:14:02.578Z"
   },
   {
    "duration": 172,
    "start_time": "2023-06-12T19:14:02.610Z"
   },
   {
    "duration": 29,
    "start_time": "2023-06-12T19:14:02.784Z"
   },
   {
    "duration": 50,
    "start_time": "2023-06-12T19:14:02.815Z"
   },
   {
    "duration": 37,
    "start_time": "2023-06-12T19:14:02.867Z"
   },
   {
    "duration": 10,
    "start_time": "2023-06-12T19:14:02.907Z"
   },
   {
    "duration": 123,
    "start_time": "2023-06-12T19:14:02.919Z"
   },
   {
    "duration": 432,
    "start_time": "2023-06-12T19:14:03.050Z"
   },
   {
    "duration": 181,
    "start_time": "2023-06-12T19:14:03.484Z"
   },
   {
    "duration": 12,
    "start_time": "2023-06-12T19:14:03.666Z"
   },
   {
    "duration": 16,
    "start_time": "2023-06-12T19:14:03.680Z"
   },
   {
    "duration": 161,
    "start_time": "2023-06-12T19:14:03.697Z"
   },
   {
    "duration": 15,
    "start_time": "2023-06-12T19:14:03.862Z"
   },
   {
    "duration": 13,
    "start_time": "2023-06-12T19:14:03.878Z"
   },
   {
    "duration": 8,
    "start_time": "2023-06-12T19:14:03.893Z"
   },
   {
    "duration": 174,
    "start_time": "2023-06-12T19:14:03.903Z"
   },
   {
    "duration": 14,
    "start_time": "2023-06-12T19:14:04.079Z"
   },
   {
    "duration": 32,
    "start_time": "2023-06-12T19:14:04.095Z"
   },
   {
    "duration": 30,
    "start_time": "2023-06-12T19:14:04.129Z"
   },
   {
    "duration": 257,
    "start_time": "2023-06-12T19:14:04.167Z"
   },
   {
    "duration": 29,
    "start_time": "2023-06-12T19:14:04.425Z"
   },
   {
    "duration": 22,
    "start_time": "2023-06-12T19:14:04.463Z"
   },
   {
    "duration": 16,
    "start_time": "2023-06-12T19:14:04.487Z"
   },
   {
    "duration": 3,
    "start_time": "2023-06-12T19:14:04.505Z"
   },
   {
    "duration": 95,
    "start_time": "2023-06-12T19:14:04.510Z"
   },
   {
    "duration": 7,
    "start_time": "2023-06-12T19:14:04.607Z"
   },
   {
    "duration": 70,
    "start_time": "2023-06-12T19:14:04.616Z"
   },
   {
    "duration": 67,
    "start_time": "2023-06-12T19:14:04.687Z"
   },
   {
    "duration": 14,
    "start_time": "2023-06-12T19:14:04.756Z"
   },
   {
    "duration": 56,
    "start_time": "2023-06-12T19:14:04.772Z"
   },
   {
    "duration": 21,
    "start_time": "2023-06-12T19:14:04.830Z"
   },
   {
    "duration": 27,
    "start_time": "2023-06-12T19:14:04.853Z"
   },
   {
    "duration": 16,
    "start_time": "2023-06-12T19:14:04.885Z"
   },
   {
    "duration": 18,
    "start_time": "2023-06-12T19:14:04.903Z"
   },
   {
    "duration": 47,
    "start_time": "2023-06-12T19:14:04.923Z"
   },
   {
    "duration": 18,
    "start_time": "2023-06-12T19:14:04.973Z"
   },
   {
    "duration": 85,
    "start_time": "2023-06-12T19:14:04.993Z"
   },
   {
    "duration": 148,
    "start_time": "2023-06-12T19:14:05.079Z"
   },
   {
    "duration": 181,
    "start_time": "2023-06-12T19:14:05.229Z"
   },
   {
    "duration": 128,
    "start_time": "2023-06-12T19:14:05.412Z"
   },
   {
    "duration": 20,
    "start_time": "2023-06-12T19:14:05.542Z"
   },
   {
    "duration": 4,
    "start_time": "2023-06-12T19:14:05.564Z"
   },
   {
    "duration": 71,
    "start_time": "2023-06-12T19:14:05.569Z"
   },
   {
    "duration": 21,
    "start_time": "2023-06-12T19:14:05.642Z"
   },
   {
    "duration": 98,
    "start_time": "2023-06-12T19:14:05.665Z"
   },
   {
    "duration": 70,
    "start_time": "2023-06-12T19:14:05.765Z"
   },
   {
    "duration": 26,
    "start_time": "2023-06-12T19:14:05.837Z"
   },
   {
    "duration": 15,
    "start_time": "2023-06-12T19:14:05.865Z"
   },
   {
    "duration": 882,
    "start_time": "2023-06-12T19:14:05.881Z"
   },
   {
    "duration": 151,
    "start_time": "2023-06-12T19:14:06.765Z"
   },
   {
    "duration": 10,
    "start_time": "2023-06-12T19:14:10.859Z"
   },
   {
    "duration": 4,
    "start_time": "2023-06-12T19:17:22.351Z"
   },
   {
    "duration": 4,
    "start_time": "2023-06-12T19:18:26.555Z"
   },
   {
    "duration": 719,
    "start_time": "2023-06-12T19:18:26.561Z"
   },
   {
    "duration": 12,
    "start_time": "2023-06-12T19:18:27.282Z"
   },
   {
    "duration": 114,
    "start_time": "2023-06-12T19:18:27.296Z"
   },
   {
    "duration": 168,
    "start_time": "2023-06-12T19:18:27.412Z"
   },
   {
    "duration": 28,
    "start_time": "2023-06-12T19:18:27.581Z"
   },
   {
    "duration": 274,
    "start_time": "2023-06-12T19:18:27.611Z"
   },
   {
    "duration": 27,
    "start_time": "2023-06-12T19:18:27.887Z"
   },
   {
    "duration": 265,
    "start_time": "2023-06-12T19:18:27.916Z"
   },
   {
    "duration": 33,
    "start_time": "2023-06-12T19:18:28.183Z"
   },
   {
    "duration": 169,
    "start_time": "2023-06-12T19:18:28.219Z"
   },
   {
    "duration": 27,
    "start_time": "2023-06-12T19:18:28.389Z"
   },
   {
    "duration": 42,
    "start_time": "2023-06-12T19:18:28.418Z"
   },
   {
    "duration": 34,
    "start_time": "2023-06-12T19:18:28.461Z"
   },
   {
    "duration": 15,
    "start_time": "2023-06-12T19:18:28.497Z"
   },
   {
    "duration": 115,
    "start_time": "2023-06-12T19:18:28.513Z"
   },
   {
    "duration": 424,
    "start_time": "2023-06-12T19:18:28.630Z"
   },
   {
    "duration": 169,
    "start_time": "2023-06-12T19:18:29.055Z"
   },
   {
    "duration": 11,
    "start_time": "2023-06-12T19:18:29.225Z"
   },
   {
    "duration": 16,
    "start_time": "2023-06-12T19:18:29.250Z"
   },
   {
    "duration": 152,
    "start_time": "2023-06-12T19:18:29.268Z"
   },
   {
    "duration": 15,
    "start_time": "2023-06-12T19:18:29.421Z"
   },
   {
    "duration": 23,
    "start_time": "2023-06-12T19:18:29.437Z"
   },
   {
    "duration": 8,
    "start_time": "2023-06-12T19:18:29.464Z"
   },
   {
    "duration": 170,
    "start_time": "2023-06-12T19:18:29.473Z"
   },
   {
    "duration": 16,
    "start_time": "2023-06-12T19:18:29.644Z"
   },
   {
    "duration": 20,
    "start_time": "2023-06-12T19:18:29.662Z"
   },
   {
    "duration": 9,
    "start_time": "2023-06-12T19:18:29.684Z"
   },
   {
    "duration": 255,
    "start_time": "2023-06-12T19:18:29.695Z"
   },
   {
    "duration": 11,
    "start_time": "2023-06-12T19:18:29.952Z"
   },
   {
    "duration": 20,
    "start_time": "2023-06-12T19:18:29.964Z"
   },
   {
    "duration": 23,
    "start_time": "2023-06-12T19:18:29.986Z"
   },
   {
    "duration": 29,
    "start_time": "2023-06-12T19:18:30.011Z"
   },
   {
    "duration": 78,
    "start_time": "2023-06-12T19:18:30.042Z"
   },
   {
    "duration": 104,
    "start_time": "2023-06-12T19:18:30.122Z"
   },
   {
    "duration": 89,
    "start_time": "2023-06-12T19:18:30.227Z"
   },
   {
    "duration": 63,
    "start_time": "2023-06-12T19:18:30.318Z"
   },
   {
    "duration": 10,
    "start_time": "2023-06-12T19:18:30.382Z"
   },
   {
    "duration": 91,
    "start_time": "2023-06-12T19:18:30.393Z"
   },
   {
    "duration": 4,
    "start_time": "2023-06-12T19:18:30.486Z"
   },
   {
    "duration": 43,
    "start_time": "2023-06-12T19:18:30.492Z"
   },
   {
    "duration": 51,
    "start_time": "2023-06-12T19:18:30.537Z"
   },
   {
    "duration": 42,
    "start_time": "2023-06-12T19:18:30.590Z"
   },
   {
    "duration": 61,
    "start_time": "2023-06-12T19:18:30.633Z"
   },
   {
    "duration": 100,
    "start_time": "2023-06-12T19:18:30.696Z"
   },
   {
    "duration": 122,
    "start_time": "2023-06-12T19:18:30.798Z"
   },
   {
    "duration": 142,
    "start_time": "2023-06-12T19:18:30.921Z"
   },
   {
    "duration": 175,
    "start_time": "2023-06-12T19:18:31.065Z"
   },
   {
    "duration": 133,
    "start_time": "2023-06-12T19:18:31.243Z"
   },
   {
    "duration": 4,
    "start_time": "2023-06-12T19:18:31.378Z"
   },
   {
    "duration": 64,
    "start_time": "2023-06-12T19:18:31.384Z"
   },
   {
    "duration": 87,
    "start_time": "2023-06-12T19:18:31.450Z"
   },
   {
    "duration": 17,
    "start_time": "2023-06-12T19:18:31.539Z"
   },
   {
    "duration": 104,
    "start_time": "2023-06-12T19:18:31.557Z"
   },
   {
    "duration": 71,
    "start_time": "2023-06-12T19:18:31.662Z"
   },
   {
    "duration": 22,
    "start_time": "2023-06-12T19:18:31.735Z"
   },
   {
    "duration": 313,
    "start_time": "2023-06-12T19:18:31.759Z"
   },
   {
    "duration": 1450,
    "start_time": "2023-06-12T19:18:52.432Z"
   },
   {
    "duration": 808,
    "start_time": "2023-06-12T19:18:53.884Z"
   },
   {
    "duration": 16,
    "start_time": "2023-06-12T19:18:54.694Z"
   },
   {
    "duration": 116,
    "start_time": "2023-06-12T19:18:54.711Z"
   },
   {
    "duration": 173,
    "start_time": "2023-06-12T19:18:54.830Z"
   },
   {
    "duration": 30,
    "start_time": "2023-06-12T19:18:55.004Z"
   },
   {
    "duration": 262,
    "start_time": "2023-06-12T19:18:55.035Z"
   },
   {
    "duration": 28,
    "start_time": "2023-06-12T19:18:55.298Z"
   },
   {
    "duration": 323,
    "start_time": "2023-06-12T19:18:55.328Z"
   },
   {
    "duration": 31,
    "start_time": "2023-06-12T19:18:55.653Z"
   },
   {
    "duration": 155,
    "start_time": "2023-06-12T19:18:55.685Z"
   },
   {
    "duration": 36,
    "start_time": "2023-06-12T19:18:55.842Z"
   },
   {
    "duration": 41,
    "start_time": "2023-06-12T19:18:55.879Z"
   },
   {
    "duration": 30,
    "start_time": "2023-06-12T19:18:55.923Z"
   },
   {
    "duration": 11,
    "start_time": "2023-06-12T19:18:55.954Z"
   },
   {
    "duration": 117,
    "start_time": "2023-06-12T19:18:55.967Z"
   },
   {
    "duration": 476,
    "start_time": "2023-06-12T19:18:56.087Z"
   },
   {
    "duration": 193,
    "start_time": "2023-06-12T19:18:56.566Z"
   },
   {
    "duration": 12,
    "start_time": "2023-06-12T19:18:56.761Z"
   },
   {
    "duration": 17,
    "start_time": "2023-06-12T19:18:56.775Z"
   },
   {
    "duration": 160,
    "start_time": "2023-06-12T19:18:56.793Z"
   },
   {
    "duration": 14,
    "start_time": "2023-06-12T19:18:56.955Z"
   },
   {
    "duration": 12,
    "start_time": "2023-06-12T19:18:56.971Z"
   },
   {
    "duration": 7,
    "start_time": "2023-06-12T19:18:56.984Z"
   },
   {
    "duration": 171,
    "start_time": "2023-06-12T19:18:56.993Z"
   },
   {
    "duration": 13,
    "start_time": "2023-06-12T19:18:57.166Z"
   },
   {
    "duration": 19,
    "start_time": "2023-06-12T19:18:57.181Z"
   },
   {
    "duration": 8,
    "start_time": "2023-06-12T19:18:57.201Z"
   },
   {
    "duration": 232,
    "start_time": "2023-06-12T19:18:57.211Z"
   },
   {
    "duration": 13,
    "start_time": "2023-06-12T19:18:57.449Z"
   },
   {
    "duration": 22,
    "start_time": "2023-06-12T19:18:57.464Z"
   },
   {
    "duration": 24,
    "start_time": "2023-06-12T19:18:57.488Z"
   },
   {
    "duration": 4,
    "start_time": "2023-06-12T19:18:57.514Z"
   },
   {
    "duration": 76,
    "start_time": "2023-06-12T19:18:57.550Z"
   },
   {
    "duration": 22,
    "start_time": "2023-06-12T19:18:57.628Z"
   },
   {
    "duration": 68,
    "start_time": "2023-06-12T19:18:57.652Z"
   },
   {
    "duration": 73,
    "start_time": "2023-06-12T19:18:57.722Z"
   },
   {
    "duration": 14,
    "start_time": "2023-06-12T19:18:57.797Z"
   },
   {
    "duration": 79,
    "start_time": "2023-06-12T19:18:57.813Z"
   },
   {
    "duration": 4,
    "start_time": "2023-06-12T19:18:57.894Z"
   },
   {
    "duration": 18,
    "start_time": "2023-06-12T19:18:57.901Z"
   },
   {
    "duration": 26,
    "start_time": "2023-06-12T19:18:57.921Z"
   },
   {
    "duration": 15,
    "start_time": "2023-06-12T19:18:57.949Z"
   },
   {
    "duration": 20,
    "start_time": "2023-06-12T19:18:57.966Z"
   },
   {
    "duration": 22,
    "start_time": "2023-06-12T19:18:57.988Z"
   },
   {
    "duration": 71,
    "start_time": "2023-06-12T19:18:58.012Z"
   },
   {
    "duration": 158,
    "start_time": "2023-06-12T19:18:58.085Z"
   },
   {
    "duration": 209,
    "start_time": "2023-06-12T19:18:58.244Z"
   },
   {
    "duration": 135,
    "start_time": "2023-06-12T19:18:58.455Z"
   },
   {
    "duration": 3,
    "start_time": "2023-06-12T19:18:58.592Z"
   },
   {
    "duration": 5,
    "start_time": "2023-06-12T19:18:58.597Z"
   },
   {
    "duration": 81,
    "start_time": "2023-06-12T19:18:58.603Z"
   },
   {
    "duration": 13,
    "start_time": "2023-06-12T19:18:58.686Z"
   },
   {
    "duration": 117,
    "start_time": "2023-06-12T19:18:58.701Z"
   },
   {
    "duration": 78,
    "start_time": "2023-06-12T19:18:58.820Z"
   },
   {
    "duration": 16,
    "start_time": "2023-06-12T19:18:58.900Z"
   },
   {
    "duration": 412,
    "start_time": "2023-06-12T19:19:03.280Z"
   },
   {
    "duration": 4,
    "start_time": "2023-06-12T19:20:13.377Z"
   },
   {
    "duration": 847,
    "start_time": "2023-06-12T19:20:13.384Z"
   },
   {
    "duration": 20,
    "start_time": "2023-06-12T19:20:14.234Z"
   },
   {
    "duration": 127,
    "start_time": "2023-06-12T19:20:14.256Z"
   },
   {
    "duration": 171,
    "start_time": "2023-06-12T19:20:14.385Z"
   },
   {
    "duration": 29,
    "start_time": "2023-06-12T19:20:14.558Z"
   },
   {
    "duration": 270,
    "start_time": "2023-06-12T19:20:14.589Z"
   },
   {
    "duration": 28,
    "start_time": "2023-06-12T19:20:14.861Z"
   },
   {
    "duration": 353,
    "start_time": "2023-06-12T19:20:14.891Z"
   },
   {
    "duration": 30,
    "start_time": "2023-06-12T19:20:15.246Z"
   },
   {
    "duration": 162,
    "start_time": "2023-06-12T19:20:15.278Z"
   },
   {
    "duration": 34,
    "start_time": "2023-06-12T19:20:15.442Z"
   },
   {
    "duration": 30,
    "start_time": "2023-06-12T19:20:15.478Z"
   },
   {
    "duration": 46,
    "start_time": "2023-06-12T19:20:15.512Z"
   },
   {
    "duration": 16,
    "start_time": "2023-06-12T19:20:15.560Z"
   },
   {
    "duration": 111,
    "start_time": "2023-06-12T19:20:15.578Z"
   },
   {
    "duration": 440,
    "start_time": "2023-06-12T19:20:15.691Z"
   },
   {
    "duration": 173,
    "start_time": "2023-06-12T19:20:16.133Z"
   },
   {
    "duration": 13,
    "start_time": "2023-06-12T19:20:16.308Z"
   },
   {
    "duration": 35,
    "start_time": "2023-06-12T19:20:16.323Z"
   },
   {
    "duration": 153,
    "start_time": "2023-06-12T19:20:16.360Z"
   },
   {
    "duration": 15,
    "start_time": "2023-06-12T19:20:16.515Z"
   },
   {
    "duration": 29,
    "start_time": "2023-06-12T19:20:16.532Z"
   },
   {
    "duration": 9,
    "start_time": "2023-06-12T19:20:16.563Z"
   },
   {
    "duration": 166,
    "start_time": "2023-06-12T19:20:16.574Z"
   },
   {
    "duration": 19,
    "start_time": "2023-06-12T19:20:16.742Z"
   },
   {
    "duration": 21,
    "start_time": "2023-06-12T19:20:16.763Z"
   },
   {
    "duration": 9,
    "start_time": "2023-06-12T19:20:16.786Z"
   },
   {
    "duration": 261,
    "start_time": "2023-06-12T19:20:16.796Z"
   },
   {
    "duration": 11,
    "start_time": "2023-06-12T19:20:17.059Z"
   },
   {
    "duration": 20,
    "start_time": "2023-06-12T19:20:17.072Z"
   },
   {
    "duration": 16,
    "start_time": "2023-06-12T19:20:17.094Z"
   },
   {
    "duration": 4,
    "start_time": "2023-06-12T19:20:17.112Z"
   },
   {
    "duration": 80,
    "start_time": "2023-06-12T19:20:17.149Z"
   },
   {
    "duration": 25,
    "start_time": "2023-06-12T19:20:17.230Z"
   },
   {
    "duration": 64,
    "start_time": "2023-06-12T19:20:17.257Z"
   },
   {
    "duration": 76,
    "start_time": "2023-06-12T19:20:17.323Z"
   },
   {
    "duration": 9,
    "start_time": "2023-06-12T19:20:17.401Z"
   },
   {
    "duration": 63,
    "start_time": "2023-06-12T19:20:17.412Z"
   },
   {
    "duration": 3,
    "start_time": "2023-06-12T19:20:17.477Z"
   },
   {
    "duration": 16,
    "start_time": "2023-06-12T19:20:17.484Z"
   },
   {
    "duration": 21,
    "start_time": "2023-06-12T19:20:17.502Z"
   },
   {
    "duration": 28,
    "start_time": "2023-06-12T19:20:17.525Z"
   },
   {
    "duration": 15,
    "start_time": "2023-06-12T19:20:17.554Z"
   },
   {
    "duration": 20,
    "start_time": "2023-06-12T19:20:17.571Z"
   },
   {
    "duration": 76,
    "start_time": "2023-06-12T19:20:17.593Z"
   },
   {
    "duration": 166,
    "start_time": "2023-06-12T19:20:17.671Z"
   },
   {
    "duration": 179,
    "start_time": "2023-06-12T19:20:17.839Z"
   },
   {
    "duration": 139,
    "start_time": "2023-06-12T19:20:18.020Z"
   },
   {
    "duration": 4,
    "start_time": "2023-06-12T19:20:18.160Z"
   },
   {
    "duration": 4,
    "start_time": "2023-06-12T19:20:18.166Z"
   },
   {
    "duration": 83,
    "start_time": "2023-06-12T19:20:18.171Z"
   },
   {
    "duration": 17,
    "start_time": "2023-06-12T19:20:18.256Z"
   },
   {
    "duration": 109,
    "start_time": "2023-06-12T19:20:18.275Z"
   },
   {
    "duration": 64,
    "start_time": "2023-06-12T19:20:18.386Z"
   },
   {
    "duration": 10,
    "start_time": "2023-06-12T19:20:18.452Z"
   },
   {
    "duration": 22,
    "start_time": "2023-06-12T19:20:18.464Z"
   },
   {
    "duration": 302,
    "start_time": "2023-06-12T19:20:32.801Z"
   },
   {
    "duration": 11,
    "start_time": "2023-06-12T19:21:16.558Z"
   },
   {
    "duration": 10,
    "start_time": "2023-06-12T19:22:53.221Z"
   },
   {
    "duration": 13,
    "start_time": "2023-06-12T19:23:04.362Z"
   },
   {
    "duration": 4,
    "start_time": "2023-06-12T19:23:51.922Z"
   },
   {
    "duration": 756,
    "start_time": "2023-06-12T19:23:51.927Z"
   },
   {
    "duration": 14,
    "start_time": "2023-06-12T19:23:52.685Z"
   },
   {
    "duration": 133,
    "start_time": "2023-06-12T19:23:52.700Z"
   },
   {
    "duration": 162,
    "start_time": "2023-06-12T19:23:52.836Z"
   },
   {
    "duration": 30,
    "start_time": "2023-06-12T19:23:53.000Z"
   },
   {
    "duration": 257,
    "start_time": "2023-06-12T19:23:53.032Z"
   },
   {
    "duration": 29,
    "start_time": "2023-06-12T19:23:53.291Z"
   },
   {
    "duration": 275,
    "start_time": "2023-06-12T19:23:53.321Z"
   },
   {
    "duration": 32,
    "start_time": "2023-06-12T19:23:53.597Z"
   },
   {
    "duration": 262,
    "start_time": "2023-06-12T19:23:53.631Z"
   },
   {
    "duration": 30,
    "start_time": "2023-06-12T19:23:53.894Z"
   },
   {
    "duration": 46,
    "start_time": "2023-06-12T19:23:53.926Z"
   },
   {
    "duration": 36,
    "start_time": "2023-06-12T19:23:53.974Z"
   },
   {
    "duration": 26,
    "start_time": "2023-06-12T19:23:54.011Z"
   },
   {
    "duration": 100,
    "start_time": "2023-06-12T19:23:54.038Z"
   },
   {
    "duration": 426,
    "start_time": "2023-06-12T19:23:54.149Z"
   },
   {
    "duration": 166,
    "start_time": "2023-06-12T19:23:54.577Z"
   },
   {
    "duration": 15,
    "start_time": "2023-06-12T19:23:54.745Z"
   },
   {
    "duration": 16,
    "start_time": "2023-06-12T19:23:54.761Z"
   },
   {
    "duration": 164,
    "start_time": "2023-06-12T19:23:54.778Z"
   },
   {
    "duration": 15,
    "start_time": "2023-06-12T19:23:54.949Z"
   },
   {
    "duration": 12,
    "start_time": "2023-06-12T19:23:54.965Z"
   },
   {
    "duration": 8,
    "start_time": "2023-06-12T19:23:54.979Z"
   },
   {
    "duration": 174,
    "start_time": "2023-06-12T19:23:54.988Z"
   },
   {
    "duration": 13,
    "start_time": "2023-06-12T19:23:55.164Z"
   },
   {
    "duration": 20,
    "start_time": "2023-06-12T19:23:55.178Z"
   },
   {
    "duration": 8,
    "start_time": "2023-06-12T19:23:55.200Z"
   },
   {
    "duration": 243,
    "start_time": "2023-06-12T19:23:55.212Z"
   },
   {
    "duration": 12,
    "start_time": "2023-06-12T19:23:55.456Z"
   },
   {
    "duration": 22,
    "start_time": "2023-06-12T19:23:55.470Z"
   },
   {
    "duration": 16,
    "start_time": "2023-06-12T19:23:55.494Z"
   },
   {
    "duration": 3,
    "start_time": "2023-06-12T19:23:55.513Z"
   },
   {
    "duration": 93,
    "start_time": "2023-06-12T19:23:55.518Z"
   },
   {
    "duration": 8,
    "start_time": "2023-06-12T19:23:55.613Z"
   },
   {
    "duration": 66,
    "start_time": "2023-06-12T19:23:55.623Z"
   },
   {
    "duration": 65,
    "start_time": "2023-06-12T19:23:55.690Z"
   },
   {
    "duration": 10,
    "start_time": "2023-06-12T19:23:55.757Z"
   },
   {
    "duration": 35,
    "start_time": "2023-06-12T19:23:55.768Z"
   },
   {
    "duration": 3,
    "start_time": "2023-06-12T19:23:55.805Z"
   },
   {
    "duration": 17,
    "start_time": "2023-06-12T19:23:55.809Z"
   },
   {
    "duration": 34,
    "start_time": "2023-06-12T19:23:55.828Z"
   },
   {
    "duration": 16,
    "start_time": "2023-06-12T19:23:55.863Z"
   },
   {
    "duration": 18,
    "start_time": "2023-06-12T19:23:55.881Z"
   },
   {
    "duration": 16,
    "start_time": "2023-06-12T19:23:55.900Z"
   },
   {
    "duration": 91,
    "start_time": "2023-06-12T19:23:55.918Z"
   },
   {
    "duration": 154,
    "start_time": "2023-06-12T19:23:56.011Z"
   },
   {
    "duration": 175,
    "start_time": "2023-06-12T19:23:56.167Z"
   },
   {
    "duration": 135,
    "start_time": "2023-06-12T19:23:56.344Z"
   },
   {
    "duration": 5,
    "start_time": "2023-06-12T19:23:56.481Z"
   },
   {
    "duration": 6,
    "start_time": "2023-06-12T19:23:56.488Z"
   },
   {
    "duration": 86,
    "start_time": "2023-06-12T19:23:56.495Z"
   },
   {
    "duration": 16,
    "start_time": "2023-06-12T19:23:56.583Z"
   },
   {
    "duration": 100,
    "start_time": "2023-06-12T19:23:56.601Z"
   },
   {
    "duration": 132,
    "start_time": "2023-06-12T19:23:56.703Z"
   },
   {
    "duration": 17,
    "start_time": "2023-06-12T19:23:56.837Z"
   },
   {
    "duration": 10,
    "start_time": "2023-06-12T19:23:56.856Z"
   },
   {
    "duration": 317,
    "start_time": "2023-06-12T19:23:56.868Z"
   },
   {
    "duration": 10,
    "start_time": "2023-06-12T19:23:59.912Z"
   },
   {
    "duration": 1570,
    "start_time": "2023-06-12T19:26:18.051Z"
   },
   {
    "duration": 831,
    "start_time": "2023-06-12T19:26:19.623Z"
   },
   {
    "duration": 17,
    "start_time": "2023-06-12T19:26:20.462Z"
   },
   {
    "duration": 137,
    "start_time": "2023-06-12T19:26:20.481Z"
   },
   {
    "duration": 184,
    "start_time": "2023-06-12T19:26:20.621Z"
   },
   {
    "duration": 30,
    "start_time": "2023-06-12T19:26:20.807Z"
   },
   {
    "duration": 265,
    "start_time": "2023-06-12T19:26:20.851Z"
   },
   {
    "duration": 46,
    "start_time": "2023-06-12T19:26:21.117Z"
   },
   {
    "duration": 338,
    "start_time": "2023-06-12T19:26:21.165Z"
   },
   {
    "duration": 30,
    "start_time": "2023-06-12T19:26:21.505Z"
   },
   {
    "duration": 179,
    "start_time": "2023-06-12T19:26:21.537Z"
   },
   {
    "duration": 46,
    "start_time": "2023-06-12T19:26:21.718Z"
   },
   {
    "duration": 30,
    "start_time": "2023-06-12T19:26:21.765Z"
   },
   {
    "duration": 29,
    "start_time": "2023-06-12T19:26:21.798Z"
   },
   {
    "duration": 33,
    "start_time": "2023-06-12T19:26:21.828Z"
   },
   {
    "duration": 110,
    "start_time": "2023-06-12T19:26:21.863Z"
   },
   {
    "duration": 479,
    "start_time": "2023-06-12T19:26:21.975Z"
   },
   {
    "duration": 182,
    "start_time": "2023-06-12T19:26:22.460Z"
   },
   {
    "duration": 17,
    "start_time": "2023-06-12T19:26:22.644Z"
   },
   {
    "duration": 16,
    "start_time": "2023-06-12T19:26:22.664Z"
   },
   {
    "duration": 160,
    "start_time": "2023-06-12T19:26:22.681Z"
   },
   {
    "duration": 20,
    "start_time": "2023-06-12T19:26:22.843Z"
   },
   {
    "duration": 14,
    "start_time": "2023-06-12T19:26:22.865Z"
   },
   {
    "duration": 11,
    "start_time": "2023-06-12T19:26:22.881Z"
   },
   {
    "duration": 188,
    "start_time": "2023-06-12T19:26:22.893Z"
   },
   {
    "duration": 17,
    "start_time": "2023-06-12T19:26:23.084Z"
   },
   {
    "duration": 24,
    "start_time": "2023-06-12T19:26:23.103Z"
   },
   {
    "duration": 33,
    "start_time": "2023-06-12T19:26:23.129Z"
   },
   {
    "duration": 230,
    "start_time": "2023-06-12T19:26:23.165Z"
   },
   {
    "duration": 13,
    "start_time": "2023-06-12T19:26:23.396Z"
   },
   {
    "duration": 20,
    "start_time": "2023-06-12T19:26:23.411Z"
   },
   {
    "duration": 41,
    "start_time": "2023-06-12T19:26:23.433Z"
   },
   {
    "duration": 5,
    "start_time": "2023-06-12T19:26:23.476Z"
   },
   {
    "duration": 86,
    "start_time": "2023-06-12T19:26:23.482Z"
   },
   {
    "duration": 9,
    "start_time": "2023-06-12T19:26:23.570Z"
   },
   {
    "duration": 88,
    "start_time": "2023-06-12T19:26:23.580Z"
   },
   {
    "duration": 70,
    "start_time": "2023-06-12T19:26:23.669Z"
   },
   {
    "duration": 24,
    "start_time": "2023-06-12T19:26:23.750Z"
   },
   {
    "duration": 83,
    "start_time": "2023-06-12T19:26:23.776Z"
   },
   {
    "duration": 4,
    "start_time": "2023-06-12T19:26:23.861Z"
   },
   {
    "duration": 16,
    "start_time": "2023-06-12T19:26:23.870Z"
   },
   {
    "duration": 16,
    "start_time": "2023-06-12T19:26:23.887Z"
   },
   {
    "duration": 21,
    "start_time": "2023-06-12T19:26:23.904Z"
   },
   {
    "duration": 14,
    "start_time": "2023-06-12T19:26:23.927Z"
   },
   {
    "duration": 30,
    "start_time": "2023-06-12T19:26:23.950Z"
   },
   {
    "duration": 96,
    "start_time": "2023-06-12T19:26:23.981Z"
   },
   {
    "duration": 168,
    "start_time": "2023-06-12T19:26:24.079Z"
   },
   {
    "duration": 212,
    "start_time": "2023-06-12T19:26:24.249Z"
   },
   {
    "duration": 134,
    "start_time": "2023-06-12T19:26:24.467Z"
   },
   {
    "duration": 3,
    "start_time": "2023-06-12T19:26:24.603Z"
   },
   {
    "duration": 5,
    "start_time": "2023-06-12T19:26:24.607Z"
   },
   {
    "duration": 78,
    "start_time": "2023-06-12T19:26:24.613Z"
   },
   {
    "duration": 13,
    "start_time": "2023-06-12T19:26:24.693Z"
   },
   {
    "duration": 100,
    "start_time": "2023-06-12T19:26:24.708Z"
   },
   {
    "duration": 158,
    "start_time": "2023-06-12T19:26:24.809Z"
   },
   {
    "duration": 17,
    "start_time": "2023-06-12T19:26:24.971Z"
   },
   {
    "duration": 13,
    "start_time": "2023-06-12T19:26:24.990Z"
   },
   {
    "duration": 363,
    "start_time": "2023-06-12T19:26:25.005Z"
   },
   {
    "duration": 1518,
    "start_time": "2023-06-12T19:27:42.879Z"
   },
   {
    "duration": 799,
    "start_time": "2023-06-12T19:27:44.399Z"
   },
   {
    "duration": 18,
    "start_time": "2023-06-12T19:27:45.199Z"
   },
   {
    "duration": 145,
    "start_time": "2023-06-12T19:27:45.218Z"
   },
   {
    "duration": 174,
    "start_time": "2023-06-12T19:27:45.365Z"
   },
   {
    "duration": 40,
    "start_time": "2023-06-12T19:27:45.541Z"
   },
   {
    "duration": 259,
    "start_time": "2023-06-12T19:27:45.583Z"
   },
   {
    "duration": 38,
    "start_time": "2023-06-12T19:27:45.843Z"
   },
   {
    "duration": 337,
    "start_time": "2023-06-12T19:27:45.883Z"
   },
   {
    "duration": 45,
    "start_time": "2023-06-12T19:27:46.222Z"
   },
   {
    "duration": 160,
    "start_time": "2023-06-12T19:27:46.268Z"
   },
   {
    "duration": 38,
    "start_time": "2023-06-12T19:27:46.429Z"
   },
   {
    "duration": 38,
    "start_time": "2023-06-12T19:27:46.469Z"
   },
   {
    "duration": 30,
    "start_time": "2023-06-12T19:27:46.509Z"
   },
   {
    "duration": 26,
    "start_time": "2023-06-12T19:27:46.540Z"
   },
   {
    "duration": 130,
    "start_time": "2023-06-12T19:27:46.568Z"
   },
   {
    "duration": 491,
    "start_time": "2023-06-12T19:27:46.700Z"
   },
   {
    "duration": 183,
    "start_time": "2023-06-12T19:27:47.192Z"
   },
   {
    "duration": 12,
    "start_time": "2023-06-12T19:27:47.376Z"
   },
   {
    "duration": 16,
    "start_time": "2023-06-12T19:27:47.389Z"
   },
   {
    "duration": 170,
    "start_time": "2023-06-12T19:27:47.407Z"
   },
   {
    "duration": 16,
    "start_time": "2023-06-12T19:27:47.578Z"
   },
   {
    "duration": 14,
    "start_time": "2023-06-12T19:27:47.596Z"
   },
   {
    "duration": 11,
    "start_time": "2023-06-12T19:27:47.611Z"
   },
   {
    "duration": 175,
    "start_time": "2023-06-12T19:27:47.624Z"
   },
   {
    "duration": 16,
    "start_time": "2023-06-12T19:27:47.801Z"
   },
   {
    "duration": 45,
    "start_time": "2023-06-12T19:27:47.819Z"
   },
   {
    "duration": 8,
    "start_time": "2023-06-12T19:27:47.866Z"
   },
   {
    "duration": 229,
    "start_time": "2023-06-12T19:27:47.876Z"
   },
   {
    "duration": 14,
    "start_time": "2023-06-12T19:27:48.106Z"
   },
   {
    "duration": 44,
    "start_time": "2023-06-12T19:27:48.122Z"
   },
   {
    "duration": 26,
    "start_time": "2023-06-12T19:27:48.167Z"
   },
   {
    "duration": 6,
    "start_time": "2023-06-12T19:27:48.194Z"
   },
   {
    "duration": 99,
    "start_time": "2023-06-12T19:27:48.202Z"
   },
   {
    "duration": 8,
    "start_time": "2023-06-12T19:27:48.302Z"
   },
   {
    "duration": 82,
    "start_time": "2023-06-12T19:27:48.312Z"
   },
   {
    "duration": 78,
    "start_time": "2023-06-12T19:27:48.396Z"
   },
   {
    "duration": 16,
    "start_time": "2023-06-12T19:27:48.476Z"
   },
   {
    "duration": 86,
    "start_time": "2023-06-12T19:27:48.494Z"
   },
   {
    "duration": 5,
    "start_time": "2023-06-12T19:27:48.582Z"
   },
   {
    "duration": 17,
    "start_time": "2023-06-12T19:27:48.590Z"
   },
   {
    "duration": 32,
    "start_time": "2023-06-12T19:27:48.609Z"
   },
   {
    "duration": 30,
    "start_time": "2023-06-12T19:27:48.643Z"
   },
   {
    "duration": 15,
    "start_time": "2023-06-12T19:27:48.675Z"
   },
   {
    "duration": 17,
    "start_time": "2023-06-12T19:27:48.692Z"
   },
   {
    "duration": 69,
    "start_time": "2023-06-12T19:27:48.711Z"
   },
   {
    "duration": 151,
    "start_time": "2023-06-12T19:27:48.781Z"
   },
   {
    "duration": 203,
    "start_time": "2023-06-12T19:27:48.934Z"
   },
   {
    "duration": 129,
    "start_time": "2023-06-12T19:27:49.139Z"
   },
   {
    "duration": 3,
    "start_time": "2023-06-12T19:27:49.270Z"
   },
   {
    "duration": 37,
    "start_time": "2023-06-12T19:27:49.274Z"
   },
   {
    "duration": 69,
    "start_time": "2023-06-12T19:27:49.312Z"
   },
   {
    "duration": 14,
    "start_time": "2023-06-12T19:27:49.383Z"
   },
   {
    "duration": 101,
    "start_time": "2023-06-12T19:27:49.398Z"
   },
   {
    "duration": 165,
    "start_time": "2023-06-12T19:27:49.501Z"
   },
   {
    "duration": 15,
    "start_time": "2023-06-12T19:27:49.668Z"
   },
   {
    "duration": 14,
    "start_time": "2023-06-12T19:27:49.685Z"
   },
   {
    "duration": 341,
    "start_time": "2023-06-12T19:27:49.701Z"
   },
   {
    "duration": 1545,
    "start_time": "2023-06-12T19:28:44.651Z"
   },
   {
    "duration": 834,
    "start_time": "2023-06-12T19:28:46.199Z"
   },
   {
    "duration": 32,
    "start_time": "2023-06-12T19:28:47.035Z"
   },
   {
    "duration": 134,
    "start_time": "2023-06-12T19:28:47.069Z"
   },
   {
    "duration": 193,
    "start_time": "2023-06-12T19:28:47.205Z"
   },
   {
    "duration": 29,
    "start_time": "2023-06-12T19:28:47.399Z"
   },
   {
    "duration": 285,
    "start_time": "2023-06-12T19:28:47.430Z"
   },
   {
    "duration": 49,
    "start_time": "2023-06-12T19:28:47.716Z"
   },
   {
    "duration": 326,
    "start_time": "2023-06-12T19:28:47.767Z"
   },
   {
    "duration": 30,
    "start_time": "2023-06-12T19:28:48.094Z"
   },
   {
    "duration": 178,
    "start_time": "2023-06-12T19:28:48.125Z"
   },
   {
    "duration": 28,
    "start_time": "2023-06-12T19:28:48.304Z"
   },
   {
    "duration": 45,
    "start_time": "2023-06-12T19:28:48.333Z"
   },
   {
    "duration": 33,
    "start_time": "2023-06-12T19:28:48.381Z"
   },
   {
    "duration": 14,
    "start_time": "2023-06-12T19:28:48.415Z"
   },
   {
    "duration": 134,
    "start_time": "2023-06-12T19:28:48.430Z"
   },
   {
    "duration": 471,
    "start_time": "2023-06-12T19:28:48.565Z"
   },
   {
    "duration": 192,
    "start_time": "2023-06-12T19:28:49.037Z"
   },
   {
    "duration": 32,
    "start_time": "2023-06-12T19:28:49.231Z"
   },
   {
    "duration": 18,
    "start_time": "2023-06-12T19:28:49.265Z"
   },
   {
    "duration": 154,
    "start_time": "2023-06-12T19:28:49.284Z"
   },
   {
    "duration": 25,
    "start_time": "2023-06-12T19:28:49.439Z"
   },
   {
    "duration": 15,
    "start_time": "2023-06-12T19:28:49.466Z"
   },
   {
    "duration": 11,
    "start_time": "2023-06-12T19:28:49.482Z"
   },
   {
    "duration": 178,
    "start_time": "2023-06-12T19:28:49.495Z"
   },
   {
    "duration": 18,
    "start_time": "2023-06-12T19:28:49.675Z"
   },
   {
    "duration": 24,
    "start_time": "2023-06-12T19:28:49.694Z"
   },
   {
    "duration": 43,
    "start_time": "2023-06-12T19:28:49.720Z"
   },
   {
    "duration": 236,
    "start_time": "2023-06-12T19:28:49.765Z"
   },
   {
    "duration": 15,
    "start_time": "2023-06-12T19:28:50.003Z"
   },
   {
    "duration": 47,
    "start_time": "2023-06-12T19:28:50.019Z"
   },
   {
    "duration": 28,
    "start_time": "2023-06-12T19:28:50.068Z"
   },
   {
    "duration": 5,
    "start_time": "2023-06-12T19:28:50.098Z"
   },
   {
    "duration": 106,
    "start_time": "2023-06-12T19:28:50.104Z"
   },
   {
    "duration": 12,
    "start_time": "2023-06-12T19:28:50.211Z"
   },
   {
    "duration": 87,
    "start_time": "2023-06-12T19:28:50.225Z"
   },
   {
    "duration": 85,
    "start_time": "2023-06-12T19:28:50.314Z"
   },
   {
    "duration": 14,
    "start_time": "2023-06-12T19:28:50.401Z"
   },
   {
    "duration": 82,
    "start_time": "2023-06-12T19:28:50.416Z"
   },
   {
    "duration": 3,
    "start_time": "2023-06-12T19:28:50.500Z"
   },
   {
    "duration": 42,
    "start_time": "2023-06-12T19:28:50.507Z"
   },
   {
    "duration": 19,
    "start_time": "2023-06-12T19:28:50.553Z"
   },
   {
    "duration": 23,
    "start_time": "2023-06-12T19:28:50.574Z"
   },
   {
    "duration": 16,
    "start_time": "2023-06-12T19:28:50.599Z"
   },
   {
    "duration": 21,
    "start_time": "2023-06-12T19:28:50.617Z"
   },
   {
    "duration": 76,
    "start_time": "2023-06-12T19:28:50.640Z"
   },
   {
    "duration": 173,
    "start_time": "2023-06-12T19:28:50.718Z"
   },
   {
    "duration": 198,
    "start_time": "2023-06-12T19:28:50.893Z"
   },
   {
    "duration": 139,
    "start_time": "2023-06-12T19:28:51.093Z"
   },
   {
    "duration": 3,
    "start_time": "2023-06-12T19:28:51.234Z"
   },
   {
    "duration": 27,
    "start_time": "2023-06-12T19:28:51.238Z"
   },
   {
    "duration": 74,
    "start_time": "2023-06-12T19:28:51.267Z"
   },
   {
    "duration": 21,
    "start_time": "2023-06-12T19:28:51.342Z"
   },
   {
    "duration": 90,
    "start_time": "2023-06-12T19:28:53.740Z"
   },
   {
    "duration": 144,
    "start_time": "2023-06-12T19:29:20.920Z"
   },
   {
    "duration": 140,
    "start_time": "2023-06-12T19:30:28.650Z"
   },
   {
    "duration": 134,
    "start_time": "2023-06-12T19:31:29.039Z"
   },
   {
    "duration": 147,
    "start_time": "2023-06-12T19:31:54.423Z"
   },
   {
    "duration": 138,
    "start_time": "2023-06-12T19:32:22.159Z"
   },
   {
    "duration": 123,
    "start_time": "2023-06-12T19:33:19.073Z"
   },
   {
    "duration": 127,
    "start_time": "2023-06-12T19:35:24.879Z"
   },
   {
    "duration": 1399,
    "start_time": "2023-06-12T19:36:46.697Z"
   },
   {
    "duration": 770,
    "start_time": "2023-06-12T19:36:48.098Z"
   },
   {
    "duration": 17,
    "start_time": "2023-06-12T19:36:48.870Z"
   },
   {
    "duration": 125,
    "start_time": "2023-06-12T19:36:48.889Z"
   },
   {
    "duration": 173,
    "start_time": "2023-06-12T19:36:49.016Z"
   },
   {
    "duration": 27,
    "start_time": "2023-06-12T19:36:49.191Z"
   },
   {
    "duration": 260,
    "start_time": "2023-06-12T19:36:49.220Z"
   },
   {
    "duration": 26,
    "start_time": "2023-06-12T19:36:49.482Z"
   },
   {
    "duration": 326,
    "start_time": "2023-06-12T19:36:49.510Z"
   },
   {
    "duration": 33,
    "start_time": "2023-06-12T19:36:49.839Z"
   },
   {
    "duration": 163,
    "start_time": "2023-06-12T19:36:49.874Z"
   },
   {
    "duration": 34,
    "start_time": "2023-06-12T19:36:50.039Z"
   },
   {
    "duration": 34,
    "start_time": "2023-06-12T19:36:50.074Z"
   },
   {
    "duration": 43,
    "start_time": "2023-06-12T19:36:50.110Z"
   },
   {
    "duration": 14,
    "start_time": "2023-06-12T19:36:50.155Z"
   },
   {
    "duration": 127,
    "start_time": "2023-06-12T19:36:50.170Z"
   },
   {
    "duration": 472,
    "start_time": "2023-06-12T19:36:50.299Z"
   },
   {
    "duration": 171,
    "start_time": "2023-06-12T19:36:50.773Z"
   },
   {
    "duration": 16,
    "start_time": "2023-06-12T19:36:50.945Z"
   },
   {
    "duration": 17,
    "start_time": "2023-06-12T19:36:50.963Z"
   },
   {
    "duration": 160,
    "start_time": "2023-06-12T19:36:50.982Z"
   },
   {
    "duration": 19,
    "start_time": "2023-06-12T19:36:51.143Z"
   },
   {
    "duration": 15,
    "start_time": "2023-06-12T19:36:51.164Z"
   },
   {
    "duration": 9,
    "start_time": "2023-06-12T19:36:51.181Z"
   },
   {
    "duration": 163,
    "start_time": "2023-06-12T19:36:51.192Z"
   },
   {
    "duration": 16,
    "start_time": "2023-06-12T19:36:51.357Z"
   },
   {
    "duration": 21,
    "start_time": "2023-06-12T19:36:51.375Z"
   },
   {
    "duration": 7,
    "start_time": "2023-06-12T19:36:51.399Z"
   },
   {
    "duration": 235,
    "start_time": "2023-06-12T19:36:51.408Z"
   },
   {
    "duration": 16,
    "start_time": "2023-06-12T19:36:51.645Z"
   },
   {
    "duration": 20,
    "start_time": "2023-06-12T19:36:51.662Z"
   },
   {
    "duration": 24,
    "start_time": "2023-06-12T19:36:51.683Z"
   },
   {
    "duration": 14,
    "start_time": "2023-06-12T19:36:51.708Z"
   },
   {
    "duration": 92,
    "start_time": "2023-06-12T19:36:51.724Z"
   },
   {
    "duration": 8,
    "start_time": "2023-06-12T19:36:51.818Z"
   },
   {
    "duration": 80,
    "start_time": "2023-06-12T19:36:51.828Z"
   },
   {
    "duration": 73,
    "start_time": "2023-06-12T19:36:51.910Z"
   },
   {
    "duration": 12,
    "start_time": "2023-06-12T19:36:51.985Z"
   },
   {
    "duration": 76,
    "start_time": "2023-06-12T19:36:51.998Z"
   },
   {
    "duration": 3,
    "start_time": "2023-06-12T19:36:52.076Z"
   },
   {
    "duration": 39,
    "start_time": "2023-06-12T19:36:52.081Z"
   },
   {
    "duration": 21,
    "start_time": "2023-06-12T19:36:52.122Z"
   },
   {
    "duration": 29,
    "start_time": "2023-06-12T19:36:52.144Z"
   },
   {
    "duration": 20,
    "start_time": "2023-06-12T19:36:52.175Z"
   },
   {
    "duration": 38,
    "start_time": "2023-06-12T19:36:52.197Z"
   },
   {
    "duration": 109,
    "start_time": "2023-06-12T19:36:52.237Z"
   },
   {
    "duration": 146,
    "start_time": "2023-06-12T19:36:52.347Z"
   },
   {
    "duration": 193,
    "start_time": "2023-06-12T19:36:52.495Z"
   },
   {
    "duration": 134,
    "start_time": "2023-06-12T19:36:52.690Z"
   },
   {
    "duration": 4,
    "start_time": "2023-06-12T19:36:52.826Z"
   },
   {
    "duration": 6,
    "start_time": "2023-06-12T19:36:52.831Z"
   },
   {
    "duration": 59,
    "start_time": "2023-06-12T19:36:52.850Z"
   },
   {
    "duration": 13,
    "start_time": "2023-06-12T19:36:52.911Z"
   },
   {
    "duration": 99,
    "start_time": "2023-06-12T19:36:52.926Z"
   },
   {
    "duration": 1498,
    "start_time": "2023-06-12T19:38:48.017Z"
   },
   {
    "duration": 806,
    "start_time": "2023-06-12T19:38:49.516Z"
   },
   {
    "duration": 28,
    "start_time": "2023-06-12T19:38:50.323Z"
   },
   {
    "duration": 117,
    "start_time": "2023-06-12T19:38:50.352Z"
   },
   {
    "duration": 187,
    "start_time": "2023-06-12T19:38:50.472Z"
   },
   {
    "duration": 30,
    "start_time": "2023-06-12T19:38:50.661Z"
   },
   {
    "duration": 261,
    "start_time": "2023-06-12T19:38:50.692Z"
   },
   {
    "duration": 28,
    "start_time": "2023-06-12T19:38:50.955Z"
   },
   {
    "duration": 324,
    "start_time": "2023-06-12T19:38:50.985Z"
   },
   {
    "duration": 40,
    "start_time": "2023-06-12T19:38:51.311Z"
   },
   {
    "duration": 157,
    "start_time": "2023-06-12T19:38:51.353Z"
   },
   {
    "duration": 38,
    "start_time": "2023-06-12T19:38:51.512Z"
   },
   {
    "duration": 31,
    "start_time": "2023-06-12T19:38:51.552Z"
   },
   {
    "duration": 29,
    "start_time": "2023-06-12T19:38:51.586Z"
   },
   {
    "duration": 34,
    "start_time": "2023-06-12T19:38:51.617Z"
   },
   {
    "duration": 107,
    "start_time": "2023-06-12T19:38:51.652Z"
   },
   {
    "duration": 457,
    "start_time": "2023-06-12T19:38:51.761Z"
   },
   {
    "duration": 184,
    "start_time": "2023-06-12T19:38:52.220Z"
   },
   {
    "duration": 16,
    "start_time": "2023-06-12T19:38:52.406Z"
   },
   {
    "duration": 42,
    "start_time": "2023-06-12T19:38:52.423Z"
   },
   {
    "duration": 172,
    "start_time": "2023-06-12T19:38:52.467Z"
   },
   {
    "duration": 21,
    "start_time": "2023-06-12T19:38:52.641Z"
   },
   {
    "duration": 17,
    "start_time": "2023-06-12T19:38:52.664Z"
   },
   {
    "duration": 11,
    "start_time": "2023-06-12T19:38:52.683Z"
   },
   {
    "duration": 203,
    "start_time": "2023-06-12T19:38:52.696Z"
   },
   {
    "duration": 16,
    "start_time": "2023-06-12T19:38:52.902Z"
   },
   {
    "duration": 46,
    "start_time": "2023-06-12T19:38:52.920Z"
   },
   {
    "duration": 12,
    "start_time": "2023-06-12T19:38:52.968Z"
   },
   {
    "duration": 235,
    "start_time": "2023-06-12T19:38:52.982Z"
   },
   {
    "duration": 15,
    "start_time": "2023-06-12T19:38:53.219Z"
   },
   {
    "duration": 23,
    "start_time": "2023-06-12T19:38:53.249Z"
   },
   {
    "duration": 25,
    "start_time": "2023-06-12T19:38:53.274Z"
   },
   {
    "duration": 10,
    "start_time": "2023-06-12T19:38:53.301Z"
   },
   {
    "duration": 95,
    "start_time": "2023-06-12T19:38:53.313Z"
   },
   {
    "duration": 8,
    "start_time": "2023-06-12T19:38:53.410Z"
   },
   {
    "duration": 87,
    "start_time": "2023-06-12T19:38:53.419Z"
   },
   {
    "duration": 76,
    "start_time": "2023-06-12T19:38:53.508Z"
   },
   {
    "duration": 14,
    "start_time": "2023-06-12T19:38:53.586Z"
   },
   {
    "duration": 77,
    "start_time": "2023-06-12T19:38:53.602Z"
   },
   {
    "duration": 4,
    "start_time": "2023-06-12T19:38:53.681Z"
   },
   {
    "duration": 14,
    "start_time": "2023-06-12T19:38:53.689Z"
   },
   {
    "duration": 15,
    "start_time": "2023-06-12T19:38:53.704Z"
   },
   {
    "duration": 37,
    "start_time": "2023-06-12T19:38:53.720Z"
   },
   {
    "duration": 18,
    "start_time": "2023-06-12T19:38:53.759Z"
   },
   {
    "duration": 17,
    "start_time": "2023-06-12T19:38:53.779Z"
   },
   {
    "duration": 91,
    "start_time": "2023-06-12T19:38:53.797Z"
   },
   {
    "duration": 159,
    "start_time": "2023-06-12T19:38:53.889Z"
   },
   {
    "duration": 231,
    "start_time": "2023-06-12T19:38:54.050Z"
   },
   {
    "duration": 130,
    "start_time": "2023-06-12T19:38:54.283Z"
   },
   {
    "duration": 4,
    "start_time": "2023-06-12T19:38:54.415Z"
   },
   {
    "duration": 15,
    "start_time": "2023-06-12T19:38:54.421Z"
   },
   {
    "duration": 81,
    "start_time": "2023-06-12T19:38:54.437Z"
   },
   {
    "duration": 14,
    "start_time": "2023-06-12T19:38:54.519Z"
   },
   {
    "duration": 95,
    "start_time": "2023-06-12T19:38:54.534Z"
   },
   {
    "duration": 144,
    "start_time": "2023-06-12T19:38:54.631Z"
   },
   {
    "duration": 12,
    "start_time": "2023-06-12T19:38:58.586Z"
   },
   {
    "duration": 13,
    "start_time": "2023-06-12T19:39:02.317Z"
   },
   {
    "duration": 332,
    "start_time": "2023-06-12T19:39:08.197Z"
   },
   {
    "duration": 11,
    "start_time": "2023-06-12T19:39:11.596Z"
   },
   {
    "duration": 11,
    "start_time": "2023-06-12T19:39:25.676Z"
   },
   {
    "duration": 11,
    "start_time": "2023-06-12T19:39:34.767Z"
   },
   {
    "duration": 3,
    "start_time": "2023-06-12T19:40:11.217Z"
   },
   {
    "duration": 271,
    "start_time": "2023-06-12T19:41:03.729Z"
   },
   {
    "duration": 916877,
    "start_time": "2023-06-12T19:41:40.427Z"
   },
   {
    "duration": 111,
    "start_time": "2023-06-12T19:56:57.307Z"
   },
   {
    "duration": 610,
    "start_time": "2023-06-12T20:02:06.576Z"
   },
   {
    "duration": 583,
    "start_time": "2023-06-12T20:03:55.919Z"
   },
   {
    "duration": 605,
    "start_time": "2023-06-12T20:04:17.732Z"
   },
   {
    "duration": 612,
    "start_time": "2023-06-12T20:05:50.977Z"
   },
   {
    "duration": 708,
    "start_time": "2023-06-12T20:06:34.360Z"
   },
   {
    "duration": 870692,
    "start_time": "2023-06-12T20:15:22.319Z"
   },
   {
    "duration": 2,
    "start_time": "2023-06-12T20:30:03.521Z"
   },
   {
    "duration": 5,
    "start_time": "2023-06-12T20:30:10.980Z"
   },
   {
    "duration": 855,
    "start_time": "2023-06-12T20:30:10.991Z"
   },
   {
    "duration": 31,
    "start_time": "2023-06-12T20:30:11.848Z"
   },
   {
    "duration": 199,
    "start_time": "2023-06-12T20:30:11.881Z"
   },
   {
    "duration": 170,
    "start_time": "2023-06-12T20:30:12.081Z"
   },
   {
    "duration": 41,
    "start_time": "2023-06-12T20:30:12.255Z"
   },
   {
    "duration": 453,
    "start_time": "2023-06-12T20:30:12.297Z"
   },
   {
    "duration": 43,
    "start_time": "2023-06-12T20:30:12.752Z"
   },
   {
    "duration": 312,
    "start_time": "2023-06-12T20:30:12.796Z"
   },
   {
    "duration": 34,
    "start_time": "2023-06-12T20:30:13.110Z"
   },
   {
    "duration": 157,
    "start_time": "2023-06-12T20:30:13.163Z"
   },
   {
    "duration": 69,
    "start_time": "2023-06-12T20:30:13.323Z"
   },
   {
    "duration": 99,
    "start_time": "2023-06-12T20:30:13.394Z"
   },
   {
    "duration": 93,
    "start_time": "2023-06-12T20:30:13.495Z"
   },
   {
    "duration": 15,
    "start_time": "2023-06-12T20:30:13.591Z"
   },
   {
    "duration": 165,
    "start_time": "2023-06-12T20:30:13.608Z"
   },
   {
    "duration": 528,
    "start_time": "2023-06-12T20:30:13.776Z"
   },
   {
    "duration": 234,
    "start_time": "2023-06-12T20:30:14.306Z"
   },
   {
    "duration": 32,
    "start_time": "2023-06-12T20:30:14.543Z"
   },
   {
    "duration": 16,
    "start_time": "2023-06-12T20:30:14.582Z"
   },
   {
    "duration": 177,
    "start_time": "2023-06-12T20:30:14.600Z"
   },
   {
    "duration": 14,
    "start_time": "2023-06-12T20:30:14.779Z"
   },
   {
    "duration": 20,
    "start_time": "2023-06-12T20:30:14.795Z"
   },
   {
    "duration": 23,
    "start_time": "2023-06-12T20:30:14.817Z"
   },
   {
    "duration": 186,
    "start_time": "2023-06-12T20:30:14.842Z"
   },
   {
    "duration": 29,
    "start_time": "2023-06-12T20:30:15.030Z"
   },
   {
    "duration": 29,
    "start_time": "2023-06-12T20:30:15.061Z"
   },
   {
    "duration": 9,
    "start_time": "2023-06-12T20:30:15.092Z"
   },
   {
    "duration": 241,
    "start_time": "2023-06-12T20:30:15.103Z"
   },
   {
    "duration": 13,
    "start_time": "2023-06-12T20:30:15.349Z"
   },
   {
    "duration": 27,
    "start_time": "2023-06-12T20:30:15.364Z"
   },
   {
    "duration": 16,
    "start_time": "2023-06-12T20:30:15.393Z"
   },
   {
    "duration": 4,
    "start_time": "2023-06-12T20:30:15.411Z"
   },
   {
    "duration": 113,
    "start_time": "2023-06-12T20:30:15.417Z"
   },
   {
    "duration": 7,
    "start_time": "2023-06-12T20:30:15.532Z"
   },
   {
    "duration": 80,
    "start_time": "2023-06-12T20:30:15.541Z"
   },
   {
    "duration": 72,
    "start_time": "2023-06-12T20:30:15.622Z"
   },
   {
    "duration": 14,
    "start_time": "2023-06-12T20:30:15.697Z"
   },
   {
    "duration": 92,
    "start_time": "2023-06-12T20:30:15.713Z"
   },
   {
    "duration": 4,
    "start_time": "2023-06-12T20:30:15.807Z"
   },
   {
    "duration": 20,
    "start_time": "2023-06-12T20:30:15.812Z"
   },
   {
    "duration": 45,
    "start_time": "2023-06-12T20:30:15.836Z"
   },
   {
    "duration": 23,
    "start_time": "2023-06-12T20:30:15.883Z"
   },
   {
    "duration": 14,
    "start_time": "2023-06-12T20:30:15.908Z"
   },
   {
    "duration": 32,
    "start_time": "2023-06-12T20:30:15.924Z"
   },
   {
    "duration": 77,
    "start_time": "2023-06-12T20:30:15.959Z"
   },
   {
    "duration": 185,
    "start_time": "2023-06-12T20:30:16.037Z"
   },
   {
    "duration": 201,
    "start_time": "2023-06-12T20:30:16.224Z"
   },
   {
    "duration": 159,
    "start_time": "2023-06-12T20:30:16.427Z"
   },
   {
    "duration": 5,
    "start_time": "2023-06-12T20:30:16.588Z"
   },
   {
    "duration": 9,
    "start_time": "2023-06-12T20:30:16.595Z"
   },
   {
    "duration": 109,
    "start_time": "2023-06-12T20:30:16.605Z"
   },
   {
    "duration": 16,
    "start_time": "2023-06-12T20:30:16.716Z"
   },
   {
    "duration": 123,
    "start_time": "2023-06-12T20:30:16.734Z"
   },
   {
    "duration": 153,
    "start_time": "2023-06-12T20:30:16.861Z"
   },
   {
    "duration": 10,
    "start_time": "2023-06-12T20:30:17.016Z"
   },
   {
    "duration": 10,
    "start_time": "2023-06-12T20:30:17.028Z"
   },
   {
    "duration": 359,
    "start_time": "2023-06-12T20:30:17.051Z"
   },
   {
    "duration": 10,
    "start_time": "2023-06-12T20:30:17.411Z"
   },
   {
    "duration": 13,
    "start_time": "2023-06-12T20:30:17.422Z"
   },
   {
    "duration": 15,
    "start_time": "2023-06-12T20:30:17.454Z"
   },
   {
    "duration": 4,
    "start_time": "2023-06-12T20:30:20.100Z"
   },
   {
    "duration": 1722837,
    "start_time": "2023-06-12T20:30:23.890Z"
   },
   {
    "duration": 717381,
    "start_time": "2023-06-12T20:59:09.055Z"
   },
   {
    "duration": 1765,
    "start_time": "2023-06-13T06:15:54.355Z"
   },
   {
    "duration": 1256,
    "start_time": "2023-06-13T06:15:56.122Z"
   },
   {
    "duration": 17,
    "start_time": "2023-06-13T06:15:57.380Z"
   },
   {
    "duration": 164,
    "start_time": "2023-06-13T06:15:57.399Z"
   },
   {
    "duration": 205,
    "start_time": "2023-06-13T06:15:57.566Z"
   },
   {
    "duration": 37,
    "start_time": "2023-06-13T06:15:57.774Z"
   },
   {
    "duration": 295,
    "start_time": "2023-06-13T06:15:57.813Z"
   },
   {
    "duration": 55,
    "start_time": "2023-06-13T06:15:58.110Z"
   },
   {
    "duration": 364,
    "start_time": "2023-06-13T06:15:58.167Z"
   },
   {
    "duration": 53,
    "start_time": "2023-06-13T06:15:58.533Z"
   },
   {
    "duration": 192,
    "start_time": "2023-06-13T06:15:58.588Z"
   },
   {
    "duration": 35,
    "start_time": "2023-06-13T06:15:58.782Z"
   },
   {
    "duration": 59,
    "start_time": "2023-06-13T06:15:58.819Z"
   },
   {
    "duration": 35,
    "start_time": "2023-06-13T06:15:58.881Z"
   },
   {
    "duration": 26,
    "start_time": "2023-06-13T06:15:58.918Z"
   },
   {
    "duration": 150,
    "start_time": "2023-06-13T06:15:58.946Z"
   },
   {
    "duration": 514,
    "start_time": "2023-06-13T06:15:59.098Z"
   },
   {
    "duration": 195,
    "start_time": "2023-06-13T06:15:59.614Z"
   },
   {
    "duration": 14,
    "start_time": "2023-06-13T06:15:59.811Z"
   },
   {
    "duration": 39,
    "start_time": "2023-06-13T06:15:59.826Z"
   },
   {
    "duration": 166,
    "start_time": "2023-06-13T06:15:59.867Z"
   },
   {
    "duration": 23,
    "start_time": "2023-06-13T06:16:00.035Z"
   },
   {
    "duration": 45,
    "start_time": "2023-06-13T06:16:00.060Z"
   },
   {
    "duration": 26,
    "start_time": "2023-06-13T06:16:00.107Z"
   },
   {
    "duration": 178,
    "start_time": "2023-06-13T06:16:00.135Z"
   },
   {
    "duration": 16,
    "start_time": "2023-06-13T06:16:00.315Z"
   },
   {
    "duration": 43,
    "start_time": "2023-06-13T06:16:00.346Z"
   },
   {
    "duration": 39,
    "start_time": "2023-06-13T06:16:00.390Z"
   },
   {
    "duration": 269,
    "start_time": "2023-06-13T06:16:00.431Z"
   },
   {
    "duration": 13,
    "start_time": "2023-06-13T06:16:00.702Z"
   },
   {
    "duration": 41,
    "start_time": "2023-06-13T06:16:00.717Z"
   },
   {
    "duration": 44,
    "start_time": "2023-06-13T06:16:00.761Z"
   },
   {
    "duration": 61,
    "start_time": "2023-06-13T06:16:00.807Z"
   },
   {
    "duration": 125,
    "start_time": "2023-06-13T06:16:00.870Z"
   },
   {
    "duration": 9,
    "start_time": "2023-06-13T06:16:00.997Z"
   },
   {
    "duration": 107,
    "start_time": "2023-06-13T06:16:01.008Z"
   },
   {
    "duration": 103,
    "start_time": "2023-06-13T06:16:01.117Z"
   },
   {
    "duration": 15,
    "start_time": "2023-06-13T06:16:01.222Z"
   },
   {
    "duration": 88,
    "start_time": "2023-06-13T06:16:01.252Z"
   },
   {
    "duration": 7,
    "start_time": "2023-06-13T06:16:01.342Z"
   },
   {
    "duration": 38,
    "start_time": "2023-06-13T06:16:01.360Z"
   },
   {
    "duration": 42,
    "start_time": "2023-06-13T06:16:01.399Z"
   },
   {
    "duration": 70,
    "start_time": "2023-06-13T06:16:01.443Z"
   },
   {
    "duration": 66,
    "start_time": "2023-06-13T06:16:01.515Z"
   },
   {
    "duration": 42,
    "start_time": "2023-06-13T06:16:01.583Z"
   },
   {
    "duration": 129,
    "start_time": "2023-06-13T06:16:01.626Z"
   },
   {
    "duration": 214,
    "start_time": "2023-06-13T06:16:01.756Z"
   },
   {
    "duration": 221,
    "start_time": "2023-06-13T06:16:01.972Z"
   },
   {
    "duration": 170,
    "start_time": "2023-06-13T06:16:02.195Z"
   },
   {
    "duration": 5,
    "start_time": "2023-06-13T06:16:02.369Z"
   },
   {
    "duration": 65,
    "start_time": "2023-06-13T06:16:02.376Z"
   },
   {
    "duration": 180,
    "start_time": "2023-06-13T06:16:02.443Z"
   },
   {
    "duration": 15,
    "start_time": "2023-06-13T06:16:02.625Z"
   },
   {
    "duration": 164,
    "start_time": "2023-06-13T06:16:02.645Z"
   },
   {
    "duration": 169,
    "start_time": "2023-06-13T06:16:02.811Z"
   },
   {
    "duration": 12,
    "start_time": "2023-06-13T06:16:02.982Z"
   },
   {
    "duration": 101,
    "start_time": "2023-06-13T06:16:02.995Z"
   },
   {
    "duration": 133,
    "start_time": "2023-06-13T06:16:03.495Z"
   },
   {
    "duration": 1609,
    "start_time": "2023-06-13T06:16:22.617Z"
   },
   {
    "duration": 851,
    "start_time": "2023-06-13T06:16:24.228Z"
   },
   {
    "duration": 15,
    "start_time": "2023-06-13T06:16:25.081Z"
   },
   {
    "duration": 159,
    "start_time": "2023-06-13T06:16:25.098Z"
   },
   {
    "duration": 205,
    "start_time": "2023-06-13T06:16:25.259Z"
   },
   {
    "duration": 36,
    "start_time": "2023-06-13T06:16:25.466Z"
   },
   {
    "duration": 304,
    "start_time": "2023-06-13T06:16:25.504Z"
   },
   {
    "duration": 51,
    "start_time": "2023-06-13T06:16:25.810Z"
   },
   {
    "duration": 337,
    "start_time": "2023-06-13T06:16:25.864Z"
   },
   {
    "duration": 48,
    "start_time": "2023-06-13T06:16:26.203Z"
   },
   {
    "duration": 241,
    "start_time": "2023-06-13T06:16:26.256Z"
   },
   {
    "duration": 36,
    "start_time": "2023-06-13T06:16:26.499Z"
   },
   {
    "duration": 66,
    "start_time": "2023-06-13T06:16:26.537Z"
   },
   {
    "duration": 64,
    "start_time": "2023-06-13T06:16:26.607Z"
   },
   {
    "duration": 99,
    "start_time": "2023-06-13T06:16:26.672Z"
   },
   {
    "duration": 182,
    "start_time": "2023-06-13T06:16:26.772Z"
   },
   {
    "duration": 531,
    "start_time": "2023-06-13T06:16:26.956Z"
   },
   {
    "duration": 202,
    "start_time": "2023-06-13T06:16:27.489Z"
   },
   {
    "duration": 15,
    "start_time": "2023-06-13T06:16:27.694Z"
   },
   {
    "duration": 39,
    "start_time": "2023-06-13T06:16:27.711Z"
   },
   {
    "duration": 164,
    "start_time": "2023-06-13T06:16:27.752Z"
   },
   {
    "duration": 15,
    "start_time": "2023-06-13T06:16:27.918Z"
   },
   {
    "duration": 23,
    "start_time": "2023-06-13T06:16:27.947Z"
   },
   {
    "duration": 8,
    "start_time": "2023-06-13T06:16:27.972Z"
   },
   {
    "duration": 178,
    "start_time": "2023-06-13T06:16:27.982Z"
   },
   {
    "duration": 17,
    "start_time": "2023-06-13T06:16:28.164Z"
   },
   {
    "duration": 24,
    "start_time": "2023-06-13T06:16:28.183Z"
   },
   {
    "duration": 12,
    "start_time": "2023-06-13T06:16:28.209Z"
   },
   {
    "duration": 260,
    "start_time": "2023-06-13T06:16:28.223Z"
   },
   {
    "duration": 12,
    "start_time": "2023-06-13T06:16:28.485Z"
   },
   {
    "duration": 159,
    "start_time": "2023-06-13T06:16:28.499Z"
   },
   {
    "duration": 39,
    "start_time": "2023-06-13T06:16:28.660Z"
   },
   {
    "duration": 6,
    "start_time": "2023-06-13T06:16:28.702Z"
   },
   {
    "duration": 100,
    "start_time": "2023-06-13T06:16:28.710Z"
   },
   {
    "duration": 9,
    "start_time": "2023-06-13T06:16:28.812Z"
   },
   {
    "duration": 79,
    "start_time": "2023-06-13T06:16:28.823Z"
   },
   {
    "duration": 81,
    "start_time": "2023-06-13T06:16:28.904Z"
   },
   {
    "duration": 15,
    "start_time": "2023-06-13T06:16:28.987Z"
   },
   {
    "duration": 86,
    "start_time": "2023-06-13T06:16:29.004Z"
   },
   {
    "duration": 4,
    "start_time": "2023-06-13T06:16:29.092Z"
   },
   {
    "duration": 44,
    "start_time": "2023-06-13T06:16:29.100Z"
   },
   {
    "duration": 40,
    "start_time": "2023-06-13T06:16:29.146Z"
   },
   {
    "duration": 25,
    "start_time": "2023-06-13T06:16:29.188Z"
   },
   {
    "duration": 22,
    "start_time": "2023-06-13T06:16:29.215Z"
   },
   {
    "duration": 42,
    "start_time": "2023-06-13T06:16:29.238Z"
   },
   {
    "duration": 154,
    "start_time": "2023-06-13T06:16:29.282Z"
   },
   {
    "duration": 182,
    "start_time": "2023-06-13T06:16:29.438Z"
   },
   {
    "duration": 213,
    "start_time": "2023-06-13T06:16:29.621Z"
   },
   {
    "duration": 158,
    "start_time": "2023-06-13T06:16:29.836Z"
   },
   {
    "duration": 4,
    "start_time": "2023-06-13T06:16:29.995Z"
   },
   {
    "duration": 75,
    "start_time": "2023-06-13T06:16:30.001Z"
   },
   {
    "duration": 143,
    "start_time": "2023-06-13T06:16:30.078Z"
   },
   {
    "duration": 24,
    "start_time": "2023-06-13T06:16:30.223Z"
   },
   {
    "duration": 135,
    "start_time": "2023-06-13T06:16:30.249Z"
   },
   {
    "duration": 156,
    "start_time": "2023-06-13T06:16:30.387Z"
   },
   {
    "duration": 15,
    "start_time": "2023-06-13T06:16:30.545Z"
   },
   {
    "duration": 184,
    "start_time": "2023-06-13T06:16:30.563Z"
   },
   {
    "duration": 26,
    "start_time": "2023-06-13T06:18:11.536Z"
   },
   {
    "duration": 13,
    "start_time": "2023-06-13T06:19:32.563Z"
   },
   {
    "duration": 1718,
    "start_time": "2023-06-13T06:20:39.909Z"
   },
   {
    "duration": 1171,
    "start_time": "2023-06-13T06:20:41.629Z"
   },
   {
    "duration": 23,
    "start_time": "2023-06-13T06:20:42.803Z"
   },
   {
    "duration": 452,
    "start_time": "2023-06-13T06:20:42.828Z"
   },
   {
    "duration": 398,
    "start_time": "2023-06-13T06:20:43.285Z"
   },
   {
    "duration": 38,
    "start_time": "2023-06-13T06:20:43.684Z"
   },
   {
    "duration": 368,
    "start_time": "2023-06-13T06:20:43.723Z"
   },
   {
    "duration": 44,
    "start_time": "2023-06-13T06:20:44.093Z"
   },
   {
    "duration": 431,
    "start_time": "2023-06-13T06:20:44.146Z"
   },
   {
    "duration": 38,
    "start_time": "2023-06-13T06:20:44.579Z"
   },
   {
    "duration": 240,
    "start_time": "2023-06-13T06:20:44.619Z"
   },
   {
    "duration": 45,
    "start_time": "2023-06-13T06:20:44.861Z"
   },
   {
    "duration": 53,
    "start_time": "2023-06-13T06:20:44.908Z"
   },
   {
    "duration": 70,
    "start_time": "2023-06-13T06:20:44.966Z"
   },
   {
    "duration": 78,
    "start_time": "2023-06-13T06:20:45.038Z"
   },
   {
    "duration": 201,
    "start_time": "2023-06-13T06:20:45.118Z"
   },
   {
    "duration": 549,
    "start_time": "2023-06-13T06:20:45.321Z"
   },
   {
    "duration": 215,
    "start_time": "2023-06-13T06:20:45.872Z"
   },
   {
    "duration": 14,
    "start_time": "2023-06-13T06:20:46.089Z"
   },
   {
    "duration": 164,
    "start_time": "2023-06-13T06:20:46.104Z"
   },
   {
    "duration": 232,
    "start_time": "2023-06-13T06:20:46.270Z"
   },
   {
    "duration": 16,
    "start_time": "2023-06-13T06:20:46.505Z"
   },
   {
    "duration": 28,
    "start_time": "2023-06-13T06:20:46.523Z"
   },
   {
    "duration": 18,
    "start_time": "2023-06-13T06:20:46.553Z"
   },
   {
    "duration": 218,
    "start_time": "2023-06-13T06:20:46.573Z"
   },
   {
    "duration": 22,
    "start_time": "2023-06-13T06:20:46.793Z"
   },
   {
    "duration": 36,
    "start_time": "2023-06-13T06:20:46.817Z"
   },
   {
    "duration": 11,
    "start_time": "2023-06-13T06:20:46.856Z"
   },
   {
    "duration": 277,
    "start_time": "2023-06-13T06:20:46.869Z"
   },
   {
    "duration": 19,
    "start_time": "2023-06-13T06:20:47.148Z"
   },
   {
    "duration": 48,
    "start_time": "2023-06-13T06:20:47.169Z"
   },
   {
    "duration": 25,
    "start_time": "2023-06-13T06:20:47.219Z"
   },
   {
    "duration": 41,
    "start_time": "2023-06-13T06:20:47.252Z"
   },
   {
    "duration": 102,
    "start_time": "2023-06-13T06:20:47.295Z"
   },
   {
    "duration": 9,
    "start_time": "2023-06-13T06:20:47.399Z"
   },
   {
    "duration": 112,
    "start_time": "2023-06-13T06:20:47.409Z"
   },
   {
    "duration": 95,
    "start_time": "2023-06-13T06:20:47.523Z"
   },
   {
    "duration": 12,
    "start_time": "2023-06-13T06:20:47.620Z"
   },
   {
    "duration": 105,
    "start_time": "2023-06-13T06:20:47.634Z"
   },
   {
    "duration": 5,
    "start_time": "2023-06-13T06:20:47.741Z"
   },
   {
    "duration": 55,
    "start_time": "2023-06-13T06:20:47.750Z"
   },
   {
    "duration": 24,
    "start_time": "2023-06-13T06:20:47.806Z"
   },
   {
    "duration": 68,
    "start_time": "2023-06-13T06:20:47.832Z"
   },
   {
    "duration": 28,
    "start_time": "2023-06-13T06:20:47.902Z"
   },
   {
    "duration": 31,
    "start_time": "2023-06-13T06:20:47.932Z"
   },
   {
    "duration": 126,
    "start_time": "2023-06-13T06:20:47.965Z"
   },
   {
    "duration": 190,
    "start_time": "2023-06-13T06:20:48.093Z"
   },
   {
    "duration": 247,
    "start_time": "2023-06-13T06:20:48.285Z"
   },
   {
    "duration": 170,
    "start_time": "2023-06-13T06:20:48.535Z"
   },
   {
    "duration": 4,
    "start_time": "2023-06-13T06:20:48.707Z"
   },
   {
    "duration": 22,
    "start_time": "2023-06-13T06:20:48.712Z"
   },
   {
    "duration": 145,
    "start_time": "2023-06-13T06:20:48.737Z"
   },
   {
    "duration": 14,
    "start_time": "2023-06-13T06:20:48.883Z"
   },
   {
    "duration": 107,
    "start_time": "2023-06-13T06:20:48.899Z"
   },
   {
    "duration": 177,
    "start_time": "2023-06-13T06:20:49.008Z"
   },
   {
    "duration": 16,
    "start_time": "2023-06-13T06:20:49.187Z"
   },
   {
    "duration": 11,
    "start_time": "2023-06-13T06:20:49.205Z"
   },
   {
    "duration": 35,
    "start_time": "2023-06-13T06:20:49.218Z"
   },
   {
    "duration": 475,
    "start_time": "2023-06-13T06:20:49.254Z"
   },
   {
    "duration": 15,
    "start_time": "2023-06-13T06:20:49.731Z"
   },
   {
    "duration": 51,
    "start_time": "2023-06-13T06:20:49.748Z"
   },
   {
    "duration": 58,
    "start_time": "2023-06-13T06:20:49.801Z"
   },
   {
    "duration": 4,
    "start_time": "2023-06-13T06:21:45.563Z"
   },
   {
    "duration": 1712,
    "start_time": "2023-06-13T06:22:21.075Z"
   },
   {
    "duration": 949,
    "start_time": "2023-06-13T06:22:22.789Z"
   },
   {
    "duration": 29,
    "start_time": "2023-06-13T06:22:23.740Z"
   },
   {
    "duration": 228,
    "start_time": "2023-06-13T06:22:23.771Z"
   },
   {
    "duration": 212,
    "start_time": "2023-06-13T06:22:24.002Z"
   },
   {
    "duration": 40,
    "start_time": "2023-06-13T06:22:24.216Z"
   },
   {
    "duration": 342,
    "start_time": "2023-06-13T06:22:24.258Z"
   },
   {
    "duration": 44,
    "start_time": "2023-06-13T06:22:24.602Z"
   },
   {
    "duration": 392,
    "start_time": "2023-06-13T06:22:24.648Z"
   },
   {
    "duration": 47,
    "start_time": "2023-06-13T06:22:25.041Z"
   },
   {
    "duration": 197,
    "start_time": "2023-06-13T06:22:25.090Z"
   },
   {
    "duration": 33,
    "start_time": "2023-06-13T06:22:25.289Z"
   },
   {
    "duration": 74,
    "start_time": "2023-06-13T06:22:25.324Z"
   },
   {
    "duration": 43,
    "start_time": "2023-06-13T06:22:25.402Z"
   },
   {
    "duration": 29,
    "start_time": "2023-06-13T06:22:25.448Z"
   },
   {
    "duration": 142,
    "start_time": "2023-06-13T06:22:25.479Z"
   },
   {
    "duration": 540,
    "start_time": "2023-06-13T06:22:25.623Z"
   },
   {
    "duration": 221,
    "start_time": "2023-06-13T06:22:26.165Z"
   },
   {
    "duration": 14,
    "start_time": "2023-06-13T06:22:26.388Z"
   },
   {
    "duration": 18,
    "start_time": "2023-06-13T06:22:26.404Z"
   },
   {
    "duration": 200,
    "start_time": "2023-06-13T06:22:26.424Z"
   },
   {
    "duration": 25,
    "start_time": "2023-06-13T06:22:26.627Z"
   },
   {
    "duration": 48,
    "start_time": "2023-06-13T06:22:26.653Z"
   },
   {
    "duration": 20,
    "start_time": "2023-06-13T06:22:26.703Z"
   },
   {
    "duration": 181,
    "start_time": "2023-06-13T06:22:26.724Z"
   },
   {
    "duration": 18,
    "start_time": "2023-06-13T06:22:26.907Z"
   },
   {
    "duration": 48,
    "start_time": "2023-06-13T06:22:26.927Z"
   },
   {
    "duration": 27,
    "start_time": "2023-06-13T06:22:26.978Z"
   },
   {
    "duration": 286,
    "start_time": "2023-06-13T06:22:27.008Z"
   },
   {
    "duration": 17,
    "start_time": "2023-06-13T06:22:27.296Z"
   },
   {
    "duration": 47,
    "start_time": "2023-06-13T06:22:27.315Z"
   },
   {
    "duration": 26,
    "start_time": "2023-06-13T06:22:27.364Z"
   },
   {
    "duration": 14,
    "start_time": "2023-06-13T06:22:27.391Z"
   },
   {
    "duration": 99,
    "start_time": "2023-06-13T06:22:27.407Z"
   },
   {
    "duration": 9,
    "start_time": "2023-06-13T06:22:27.508Z"
   },
   {
    "duration": 90,
    "start_time": "2023-06-13T06:22:27.519Z"
   },
   {
    "duration": 90,
    "start_time": "2023-06-13T06:22:27.611Z"
   },
   {
    "duration": 15,
    "start_time": "2023-06-13T06:22:27.703Z"
   },
   {
    "duration": 85,
    "start_time": "2023-06-13T06:22:27.720Z"
   },
   {
    "duration": 4,
    "start_time": "2023-06-13T06:22:27.807Z"
   },
   {
    "duration": 53,
    "start_time": "2023-06-13T06:22:27.816Z"
   },
   {
    "duration": 46,
    "start_time": "2023-06-13T06:22:27.871Z"
   },
   {
    "duration": 22,
    "start_time": "2023-06-13T06:22:27.919Z"
   },
   {
    "duration": 35,
    "start_time": "2023-06-13T06:22:27.943Z"
   },
   {
    "duration": 36,
    "start_time": "2023-06-13T06:22:27.980Z"
   },
   {
    "duration": 124,
    "start_time": "2023-06-13T06:22:28.017Z"
   },
   {
    "duration": 209,
    "start_time": "2023-06-13T06:22:28.143Z"
   },
   {
    "duration": 220,
    "start_time": "2023-06-13T06:22:28.359Z"
   },
   {
    "duration": 154,
    "start_time": "2023-06-13T06:22:28.580Z"
   },
   {
    "duration": 3,
    "start_time": "2023-06-13T06:22:28.736Z"
   },
   {
    "duration": 14,
    "start_time": "2023-06-13T06:22:28.746Z"
   },
   {
    "duration": 105,
    "start_time": "2023-06-13T06:22:28.762Z"
   },
   {
    "duration": 14,
    "start_time": "2023-06-13T06:22:28.869Z"
   },
   {
    "duration": 109,
    "start_time": "2023-06-13T06:22:28.885Z"
   },
   {
    "duration": 173,
    "start_time": "2023-06-13T06:22:28.996Z"
   },
   {
    "duration": 16,
    "start_time": "2023-06-13T06:22:29.171Z"
   },
   {
    "duration": 29,
    "start_time": "2023-06-13T06:22:29.189Z"
   },
   {
    "duration": 44,
    "start_time": "2023-06-13T06:22:29.220Z"
   },
   {
    "duration": 381,
    "start_time": "2023-06-13T06:22:29.265Z"
   },
   {
    "duration": 17,
    "start_time": "2023-06-13T06:22:29.649Z"
   },
   {
    "duration": 23,
    "start_time": "2023-06-13T06:22:29.668Z"
   },
   {
    "duration": 36,
    "start_time": "2023-06-13T06:22:29.693Z"
   },
   {
    "duration": 30,
    "start_time": "2023-06-13T06:22:29.731Z"
   },
   {
    "duration": 1599,
    "start_time": "2023-06-13T06:28:01.077Z"
   },
   {
    "duration": 907,
    "start_time": "2023-06-13T06:28:02.679Z"
   },
   {
    "duration": 17,
    "start_time": "2023-06-13T06:28:03.587Z"
   },
   {
    "duration": 265,
    "start_time": "2023-06-13T06:28:03.605Z"
   },
   {
    "duration": 202,
    "start_time": "2023-06-13T06:28:03.873Z"
   },
   {
    "duration": 38,
    "start_time": "2023-06-13T06:28:04.076Z"
   },
   {
    "duration": 318,
    "start_time": "2023-06-13T06:28:04.116Z"
   },
   {
    "duration": 54,
    "start_time": "2023-06-13T06:28:04.436Z"
   },
   {
    "duration": 356,
    "start_time": "2023-06-13T06:28:04.493Z"
   },
   {
    "duration": 41,
    "start_time": "2023-06-13T06:28:04.851Z"
   },
   {
    "duration": 187,
    "start_time": "2023-06-13T06:28:04.893Z"
   },
   {
    "duration": 37,
    "start_time": "2023-06-13T06:28:05.082Z"
   },
   {
    "duration": 57,
    "start_time": "2023-06-13T06:28:05.121Z"
   },
   {
    "duration": 126,
    "start_time": "2023-06-13T06:28:05.182Z"
   },
   {
    "duration": 86,
    "start_time": "2023-06-13T06:28:05.310Z"
   },
   {
    "duration": 213,
    "start_time": "2023-06-13T06:28:05.397Z"
   },
   {
    "duration": 670,
    "start_time": "2023-06-13T06:28:05.611Z"
   },
   {
    "duration": 205,
    "start_time": "2023-06-13T06:28:06.283Z"
   },
   {
    "duration": 14,
    "start_time": "2023-06-13T06:28:06.490Z"
   },
   {
    "duration": 17,
    "start_time": "2023-06-13T06:28:06.505Z"
   },
   {
    "duration": 180,
    "start_time": "2023-06-13T06:28:06.524Z"
   },
   {
    "duration": 15,
    "start_time": "2023-06-13T06:28:06.706Z"
   },
   {
    "duration": 63,
    "start_time": "2023-06-13T06:28:06.723Z"
   },
   {
    "duration": 18,
    "start_time": "2023-06-13T06:28:06.789Z"
   },
   {
    "duration": 178,
    "start_time": "2023-06-13T06:28:06.809Z"
   },
   {
    "duration": 19,
    "start_time": "2023-06-13T06:28:06.989Z"
   },
   {
    "duration": 47,
    "start_time": "2023-06-13T06:28:07.010Z"
   },
   {
    "duration": 11,
    "start_time": "2023-06-13T06:28:07.059Z"
   },
   {
    "duration": 265,
    "start_time": "2023-06-13T06:28:07.072Z"
   },
   {
    "duration": 24,
    "start_time": "2023-06-13T06:28:07.339Z"
   },
   {
    "duration": 27,
    "start_time": "2023-06-13T06:28:07.364Z"
   },
   {
    "duration": 25,
    "start_time": "2023-06-13T06:28:07.393Z"
   },
   {
    "duration": 17,
    "start_time": "2023-06-13T06:28:07.420Z"
   },
   {
    "duration": 101,
    "start_time": "2023-06-13T06:28:07.449Z"
   },
   {
    "duration": 12,
    "start_time": "2023-06-13T06:28:07.552Z"
   },
   {
    "duration": 90,
    "start_time": "2023-06-13T06:28:07.565Z"
   },
   {
    "duration": 75,
    "start_time": "2023-06-13T06:28:07.656Z"
   },
   {
    "duration": 25,
    "start_time": "2023-06-13T06:28:07.733Z"
   },
   {
    "duration": 81,
    "start_time": "2023-06-13T06:28:07.762Z"
   },
   {
    "duration": 6,
    "start_time": "2023-06-13T06:28:07.847Z"
   },
   {
    "duration": 29,
    "start_time": "2023-06-13T06:28:07.861Z"
   },
   {
    "duration": 44,
    "start_time": "2023-06-13T06:28:07.893Z"
   },
   {
    "duration": 39,
    "start_time": "2023-06-13T06:28:07.939Z"
   },
   {
    "duration": 32,
    "start_time": "2023-06-13T06:28:07.980Z"
   },
   {
    "duration": 70,
    "start_time": "2023-06-13T06:28:08.013Z"
   },
   {
    "duration": 126,
    "start_time": "2023-06-13T06:28:08.086Z"
   },
   {
    "duration": 188,
    "start_time": "2023-06-13T06:28:08.214Z"
   },
   {
    "duration": 218,
    "start_time": "2023-06-13T06:28:08.404Z"
   },
   {
    "duration": 159,
    "start_time": "2023-06-13T06:28:08.623Z"
   },
   {
    "duration": 3,
    "start_time": "2023-06-13T06:28:08.784Z"
   },
   {
    "duration": 32,
    "start_time": "2023-06-13T06:28:08.789Z"
   },
   {
    "duration": 114,
    "start_time": "2023-06-13T06:28:08.823Z"
   },
   {
    "duration": 20,
    "start_time": "2023-06-13T06:28:08.939Z"
   },
   {
    "duration": 95,
    "start_time": "2023-06-13T06:28:08.963Z"
   },
   {
    "duration": 153,
    "start_time": "2023-06-13T06:28:09.064Z"
   },
   {
    "duration": 17,
    "start_time": "2023-06-13T06:28:09.219Z"
   },
   {
    "duration": 24,
    "start_time": "2023-06-13T06:28:09.238Z"
   },
   {
    "duration": 23,
    "start_time": "2023-06-13T06:28:09.266Z"
   },
   {
    "duration": 1722,
    "start_time": "2023-06-13T06:30:36.853Z"
   },
   {
    "duration": 906,
    "start_time": "2023-06-13T06:30:38.576Z"
   },
   {
    "duration": 19,
    "start_time": "2023-06-13T06:30:39.484Z"
   },
   {
    "duration": 192,
    "start_time": "2023-06-13T06:30:39.505Z"
   },
   {
    "duration": 204,
    "start_time": "2023-06-13T06:30:39.699Z"
   },
   {
    "duration": 44,
    "start_time": "2023-06-13T06:30:39.905Z"
   },
   {
    "duration": 303,
    "start_time": "2023-06-13T06:30:39.952Z"
   },
   {
    "duration": 36,
    "start_time": "2023-06-13T06:30:40.261Z"
   },
   {
    "duration": 368,
    "start_time": "2023-06-13T06:30:40.299Z"
   },
   {
    "duration": 38,
    "start_time": "2023-06-13T06:30:40.670Z"
   },
   {
    "duration": 222,
    "start_time": "2023-06-13T06:30:40.710Z"
   },
   {
    "duration": 49,
    "start_time": "2023-06-13T06:30:40.933Z"
   },
   {
    "duration": 41,
    "start_time": "2023-06-13T06:30:40.983Z"
   },
   {
    "duration": 40,
    "start_time": "2023-06-13T06:30:41.047Z"
   },
   {
    "duration": 24,
    "start_time": "2023-06-13T06:30:41.089Z"
   },
   {
    "duration": 173,
    "start_time": "2023-06-13T06:30:41.114Z"
   },
   {
    "duration": 514,
    "start_time": "2023-06-13T06:30:41.289Z"
   },
   {
    "duration": 254,
    "start_time": "2023-06-13T06:30:41.805Z"
   },
   {
    "duration": 15,
    "start_time": "2023-06-13T06:30:42.064Z"
   },
   {
    "duration": 17,
    "start_time": "2023-06-13T06:30:42.081Z"
   },
   {
    "duration": 177,
    "start_time": "2023-06-13T06:30:42.099Z"
   },
   {
    "duration": 16,
    "start_time": "2023-06-13T06:30:42.278Z"
   },
   {
    "duration": 18,
    "start_time": "2023-06-13T06:30:42.296Z"
   },
   {
    "duration": 12,
    "start_time": "2023-06-13T06:30:42.316Z"
   },
   {
    "duration": 348,
    "start_time": "2023-06-13T06:30:42.330Z"
   },
   {
    "duration": 76,
    "start_time": "2023-06-13T06:30:42.680Z"
   },
   {
    "duration": 44,
    "start_time": "2023-06-13T06:30:42.758Z"
   },
   {
    "duration": 36,
    "start_time": "2023-06-13T06:30:42.850Z"
   },
   {
    "duration": 398,
    "start_time": "2023-06-13T06:30:42.888Z"
   },
   {
    "duration": 17,
    "start_time": "2023-06-13T06:30:43.287Z"
   },
   {
    "duration": 56,
    "start_time": "2023-06-13T06:30:43.306Z"
   },
   {
    "duration": 58,
    "start_time": "2023-06-13T06:30:43.364Z"
   },
   {
    "duration": 14,
    "start_time": "2023-06-13T06:30:43.424Z"
   },
   {
    "duration": 110,
    "start_time": "2023-06-13T06:30:43.440Z"
   },
   {
    "duration": 12,
    "start_time": "2023-06-13T06:30:43.551Z"
   },
   {
    "duration": 82,
    "start_time": "2023-06-13T06:30:43.565Z"
   },
   {
    "duration": 73,
    "start_time": "2023-06-13T06:30:43.657Z"
   },
   {
    "duration": 28,
    "start_time": "2023-06-13T06:30:43.731Z"
   },
   {
    "duration": 66,
    "start_time": "2023-06-13T06:30:43.760Z"
   },
   {
    "duration": 3,
    "start_time": "2023-06-13T06:30:43.828Z"
   },
   {
    "duration": 36,
    "start_time": "2023-06-13T06:30:43.833Z"
   },
   {
    "duration": 28,
    "start_time": "2023-06-13T06:30:43.871Z"
   },
   {
    "duration": 25,
    "start_time": "2023-06-13T06:30:43.901Z"
   },
   {
    "duration": 32,
    "start_time": "2023-06-13T06:30:43.928Z"
   },
   {
    "duration": 30,
    "start_time": "2023-06-13T06:30:43.962Z"
   },
   {
    "duration": 107,
    "start_time": "2023-06-13T06:30:43.994Z"
   },
   {
    "duration": 183,
    "start_time": "2023-06-13T06:30:44.103Z"
   },
   {
    "duration": 225,
    "start_time": "2023-06-13T06:30:44.288Z"
   },
   {
    "duration": 157,
    "start_time": "2023-06-13T06:30:44.515Z"
   },
   {
    "duration": 4,
    "start_time": "2023-06-13T06:30:44.674Z"
   },
   {
    "duration": 10,
    "start_time": "2023-06-13T06:30:44.680Z"
   },
   {
    "duration": 113,
    "start_time": "2023-06-13T06:30:44.692Z"
   },
   {
    "duration": 13,
    "start_time": "2023-06-13T06:30:44.807Z"
   },
   {
    "duration": 103,
    "start_time": "2023-06-13T06:30:44.822Z"
   },
   {
    "duration": 182,
    "start_time": "2023-06-13T06:30:44.927Z"
   },
   {
    "duration": 13,
    "start_time": "2023-06-13T06:30:45.112Z"
   },
   {
    "duration": 20,
    "start_time": "2023-06-13T06:30:45.127Z"
   },
   {
    "duration": 15,
    "start_time": "2023-06-13T06:30:45.155Z"
   },
   {
    "duration": 26,
    "start_time": "2023-06-13T06:30:45.172Z"
   },
   {
    "duration": 7,
    "start_time": "2023-06-13T06:30:45.200Z"
   },
   {
    "duration": 375,
    "start_time": "2023-06-13T06:30:45.209Z"
   },
   {
    "duration": 11,
    "start_time": "2023-06-13T06:30:45.585Z"
   },
   {
    "duration": 24,
    "start_time": "2023-06-13T06:30:45.598Z"
   },
   {
    "duration": 42,
    "start_time": "2023-06-13T06:30:45.624Z"
   },
   {
    "duration": 13,
    "start_time": "2023-06-13T06:30:45.667Z"
   },
   {
    "duration": 5,
    "start_time": "2023-06-13T06:32:06.120Z"
   },
   {
    "duration": 4,
    "start_time": "2023-06-13T06:32:10.680Z"
   },
   {
    "duration": 4,
    "start_time": "2023-06-13T06:32:21.580Z"
   },
   {
    "duration": 1575,
    "start_time": "2023-06-13T06:32:49.390Z"
   },
   {
    "duration": 898,
    "start_time": "2023-06-13T06:32:50.967Z"
   },
   {
    "duration": 17,
    "start_time": "2023-06-13T06:32:51.867Z"
   },
   {
    "duration": 198,
    "start_time": "2023-06-13T06:32:51.886Z"
   },
   {
    "duration": 206,
    "start_time": "2023-06-13T06:32:52.087Z"
   },
   {
    "duration": 37,
    "start_time": "2023-06-13T06:32:52.295Z"
   },
   {
    "duration": 417,
    "start_time": "2023-06-13T06:32:52.334Z"
   },
   {
    "duration": 55,
    "start_time": "2023-06-13T06:32:52.753Z"
   },
   {
    "duration": 416,
    "start_time": "2023-06-13T06:32:52.810Z"
   },
   {
    "duration": 54,
    "start_time": "2023-06-13T06:32:53.228Z"
   },
   {
    "duration": 183,
    "start_time": "2023-06-13T06:32:53.284Z"
   },
   {
    "duration": 41,
    "start_time": "2023-06-13T06:32:53.468Z"
   },
   {
    "duration": 103,
    "start_time": "2023-06-13T06:32:53.511Z"
   },
   {
    "duration": 57,
    "start_time": "2023-06-13T06:32:53.616Z"
   },
   {
    "duration": 18,
    "start_time": "2023-06-13T06:32:53.674Z"
   },
   {
    "duration": 160,
    "start_time": "2023-06-13T06:32:53.694Z"
   },
   {
    "duration": 505,
    "start_time": "2023-06-13T06:32:53.856Z"
   },
   {
    "duration": 201,
    "start_time": "2023-06-13T06:32:54.364Z"
   },
   {
    "duration": 14,
    "start_time": "2023-06-13T06:32:54.566Z"
   },
   {
    "duration": 22,
    "start_time": "2023-06-13T06:32:54.581Z"
   },
   {
    "duration": 177,
    "start_time": "2023-06-13T06:32:54.605Z"
   },
   {
    "duration": 16,
    "start_time": "2023-06-13T06:32:54.784Z"
   },
   {
    "duration": 24,
    "start_time": "2023-06-13T06:32:54.801Z"
   },
   {
    "duration": 35,
    "start_time": "2023-06-13T06:32:54.827Z"
   },
   {
    "duration": 175,
    "start_time": "2023-06-13T06:32:54.865Z"
   },
   {
    "duration": 29,
    "start_time": "2023-06-13T06:32:55.041Z"
   },
   {
    "duration": 55,
    "start_time": "2023-06-13T06:32:55.072Z"
   },
   {
    "duration": 10,
    "start_time": "2023-06-13T06:32:55.128Z"
   },
   {
    "duration": 256,
    "start_time": "2023-06-13T06:32:55.140Z"
   },
   {
    "duration": 15,
    "start_time": "2023-06-13T06:32:55.398Z"
   },
   {
    "duration": 42,
    "start_time": "2023-06-13T06:32:55.415Z"
   },
   {
    "duration": 25,
    "start_time": "2023-06-13T06:32:55.463Z"
   },
   {
    "duration": 9,
    "start_time": "2023-06-13T06:32:55.490Z"
   },
   {
    "duration": 99,
    "start_time": "2023-06-13T06:32:55.500Z"
   },
   {
    "duration": 9,
    "start_time": "2023-06-13T06:32:55.600Z"
   },
   {
    "duration": 103,
    "start_time": "2023-06-13T06:32:55.610Z"
   },
   {
    "duration": 83,
    "start_time": "2023-06-13T06:32:55.715Z"
   },
   {
    "duration": 17,
    "start_time": "2023-06-13T06:32:55.800Z"
   },
   {
    "duration": 83,
    "start_time": "2023-06-13T06:32:55.819Z"
   },
   {
    "duration": 7,
    "start_time": "2023-06-13T06:32:55.904Z"
   },
   {
    "duration": 47,
    "start_time": "2023-06-13T06:32:55.916Z"
   },
   {
    "duration": 30,
    "start_time": "2023-06-13T06:32:55.965Z"
   },
   {
    "duration": 25,
    "start_time": "2023-06-13T06:32:55.997Z"
   },
   {
    "duration": 43,
    "start_time": "2023-06-13T06:32:56.023Z"
   },
   {
    "duration": 33,
    "start_time": "2023-06-13T06:32:56.068Z"
   },
   {
    "duration": 116,
    "start_time": "2023-06-13T06:32:56.103Z"
   },
   {
    "duration": 186,
    "start_time": "2023-06-13T06:32:56.221Z"
   },
   {
    "duration": 222,
    "start_time": "2023-06-13T06:32:56.408Z"
   },
   {
    "duration": 170,
    "start_time": "2023-06-13T06:32:56.632Z"
   },
   {
    "duration": 4,
    "start_time": "2023-06-13T06:32:56.804Z"
   },
   {
    "duration": 9,
    "start_time": "2023-06-13T06:32:56.810Z"
   },
   {
    "duration": 108,
    "start_time": "2023-06-13T06:32:56.821Z"
   },
   {
    "duration": 28,
    "start_time": "2023-06-13T06:32:56.931Z"
   },
   {
    "duration": 90,
    "start_time": "2023-06-13T06:32:56.964Z"
   },
   {
    "duration": 163,
    "start_time": "2023-06-13T06:32:57.057Z"
   },
   {
    "duration": 16,
    "start_time": "2023-06-13T06:32:57.222Z"
   },
   {
    "duration": 14,
    "start_time": "2023-06-13T06:32:57.254Z"
   },
   {
    "duration": 13,
    "start_time": "2023-06-13T06:32:57.270Z"
   },
   {
    "duration": 20,
    "start_time": "2023-06-13T06:32:57.285Z"
   },
   {
    "duration": 5,
    "start_time": "2023-06-13T06:32:57.307Z"
   },
   {
    "duration": 10,
    "start_time": "2023-06-13T06:32:57.314Z"
   },
   {
    "duration": 37,
    "start_time": "2023-06-13T06:32:57.326Z"
   },
   {
    "duration": 400,
    "start_time": "2023-06-13T06:32:57.365Z"
   },
   {
    "duration": 10,
    "start_time": "2023-06-13T06:32:57.767Z"
   },
   {
    "duration": 34,
    "start_time": "2023-06-13T06:32:57.779Z"
   },
   {
    "duration": 13,
    "start_time": "2023-06-13T06:32:57.815Z"
   },
   {
    "duration": 10,
    "start_time": "2023-06-13T06:32:57.830Z"
   },
   {
    "duration": 1676,
    "start_time": "2023-06-13T06:36:10.816Z"
   },
   {
    "duration": 972,
    "start_time": "2023-06-13T06:36:12.495Z"
   },
   {
    "duration": 18,
    "start_time": "2023-06-13T06:36:13.469Z"
   },
   {
    "duration": 177,
    "start_time": "2023-06-13T06:36:13.489Z"
   },
   {
    "duration": 223,
    "start_time": "2023-06-13T06:36:13.668Z"
   },
   {
    "duration": 37,
    "start_time": "2023-06-13T06:36:13.893Z"
   },
   {
    "duration": 297,
    "start_time": "2023-06-13T06:36:13.932Z"
   },
   {
    "duration": 52,
    "start_time": "2023-06-13T06:36:14.231Z"
   },
   {
    "duration": 382,
    "start_time": "2023-06-13T06:36:14.285Z"
   },
   {
    "duration": 38,
    "start_time": "2023-06-13T06:36:14.670Z"
   },
   {
    "duration": 191,
    "start_time": "2023-06-13T06:36:14.710Z"
   },
   {
    "duration": 44,
    "start_time": "2023-06-13T06:36:14.902Z"
   },
   {
    "duration": 51,
    "start_time": "2023-06-13T06:36:14.949Z"
   },
   {
    "duration": 82,
    "start_time": "2023-06-13T06:36:15.003Z"
   },
   {
    "duration": 26,
    "start_time": "2023-06-13T06:36:15.088Z"
   },
   {
    "duration": 159,
    "start_time": "2023-06-13T06:36:15.116Z"
   },
   {
    "duration": 502,
    "start_time": "2023-06-13T06:36:15.278Z"
   },
   {
    "duration": 200,
    "start_time": "2023-06-13T06:36:15.782Z"
   },
   {
    "duration": 15,
    "start_time": "2023-06-13T06:36:15.984Z"
   },
   {
    "duration": 33,
    "start_time": "2023-06-13T06:36:16.001Z"
   },
   {
    "duration": 203,
    "start_time": "2023-06-13T06:36:16.036Z"
   },
   {
    "duration": 17,
    "start_time": "2023-06-13T06:36:16.240Z"
   },
   {
    "duration": 37,
    "start_time": "2023-06-13T06:36:16.259Z"
   },
   {
    "duration": 14,
    "start_time": "2023-06-13T06:36:16.298Z"
   },
   {
    "duration": 196,
    "start_time": "2023-06-13T06:36:16.314Z"
   },
   {
    "duration": 19,
    "start_time": "2023-06-13T06:36:16.512Z"
   },
   {
    "duration": 26,
    "start_time": "2023-06-13T06:36:16.550Z"
   },
   {
    "duration": 19,
    "start_time": "2023-06-13T06:36:16.581Z"
   },
   {
    "duration": 272,
    "start_time": "2023-06-13T06:36:16.602Z"
   },
   {
    "duration": 14,
    "start_time": "2023-06-13T06:36:16.875Z"
   },
   {
    "duration": 22,
    "start_time": "2023-06-13T06:36:16.891Z"
   },
   {
    "duration": 59,
    "start_time": "2023-06-13T06:36:16.915Z"
   },
   {
    "duration": 3,
    "start_time": "2023-06-13T06:36:16.976Z"
   },
   {
    "duration": 96,
    "start_time": "2023-06-13T06:36:16.981Z"
   },
   {
    "duration": 9,
    "start_time": "2023-06-13T06:36:17.079Z"
   },
   {
    "duration": 89,
    "start_time": "2023-06-13T06:36:17.090Z"
   },
   {
    "duration": 85,
    "start_time": "2023-06-13T06:36:17.181Z"
   },
   {
    "duration": 189,
    "start_time": "2023-06-13T06:36:17.267Z"
   },
   {
    "duration": 83,
    "start_time": "2023-06-13T06:36:17.459Z"
   },
   {
    "duration": 9,
    "start_time": "2023-06-13T06:36:17.544Z"
   },
   {
    "duration": 48,
    "start_time": "2023-06-13T06:36:17.560Z"
   },
   {
    "duration": 72,
    "start_time": "2023-06-13T06:36:17.610Z"
   },
   {
    "duration": 78,
    "start_time": "2023-06-13T06:36:17.684Z"
   },
   {
    "duration": 37,
    "start_time": "2023-06-13T06:36:17.765Z"
   },
   {
    "duration": 38,
    "start_time": "2023-06-13T06:36:17.805Z"
   },
   {
    "duration": 137,
    "start_time": "2023-06-13T06:36:17.845Z"
   },
   {
    "duration": 191,
    "start_time": "2023-06-13T06:36:17.985Z"
   },
   {
    "duration": 224,
    "start_time": "2023-06-13T06:36:18.177Z"
   },
   {
    "duration": 162,
    "start_time": "2023-06-13T06:36:18.403Z"
   },
   {
    "duration": 4,
    "start_time": "2023-06-13T06:36:18.566Z"
   },
   {
    "duration": 15,
    "start_time": "2023-06-13T06:36:18.572Z"
   },
   {
    "duration": 126,
    "start_time": "2023-06-13T06:36:18.588Z"
   },
   {
    "duration": 14,
    "start_time": "2023-06-13T06:36:18.715Z"
   },
   {
    "duration": 101,
    "start_time": "2023-06-13T06:36:18.732Z"
   },
   {
    "duration": 170,
    "start_time": "2023-06-13T06:36:18.835Z"
   },
   {
    "duration": 18,
    "start_time": "2023-06-13T06:36:19.006Z"
   },
   {
    "duration": 34,
    "start_time": "2023-06-13T06:36:19.026Z"
   },
   {
    "duration": 15,
    "start_time": "2023-06-13T06:36:19.062Z"
   },
   {
    "duration": 34,
    "start_time": "2023-06-13T06:36:19.079Z"
   },
   {
    "duration": 11,
    "start_time": "2023-06-13T06:36:19.115Z"
   },
   {
    "duration": 18,
    "start_time": "2023-06-13T06:36:19.128Z"
   },
   {
    "duration": 21,
    "start_time": "2023-06-13T06:36:19.150Z"
   },
   {
    "duration": 389,
    "start_time": "2023-06-13T06:36:19.172Z"
   },
   {
    "duration": 13,
    "start_time": "2023-06-13T06:36:19.563Z"
   },
   {
    "duration": 14,
    "start_time": "2023-06-13T06:36:19.578Z"
   },
   {
    "duration": 20,
    "start_time": "2023-06-13T06:36:19.594Z"
   },
   {
    "duration": 13,
    "start_time": "2023-06-13T06:36:19.616Z"
   },
   {
    "duration": 1648,
    "start_time": "2023-06-13T06:37:44.648Z"
   },
   {
    "duration": 910,
    "start_time": "2023-06-13T06:37:46.298Z"
   },
   {
    "duration": 19,
    "start_time": "2023-06-13T06:37:47.210Z"
   },
   {
    "duration": 177,
    "start_time": "2023-06-13T06:37:47.231Z"
   },
   {
    "duration": 197,
    "start_time": "2023-06-13T06:37:47.410Z"
   },
   {
    "duration": 38,
    "start_time": "2023-06-13T06:37:47.609Z"
   },
   {
    "duration": 302,
    "start_time": "2023-06-13T06:37:47.650Z"
   },
   {
    "duration": 37,
    "start_time": "2023-06-13T06:37:47.954Z"
   },
   {
    "duration": 394,
    "start_time": "2023-06-13T06:37:47.993Z"
   },
   {
    "duration": 40,
    "start_time": "2023-06-13T06:37:48.389Z"
   },
   {
    "duration": 195,
    "start_time": "2023-06-13T06:37:48.430Z"
   },
   {
    "duration": 48,
    "start_time": "2023-06-13T06:37:48.627Z"
   },
   {
    "duration": 38,
    "start_time": "2023-06-13T06:37:48.677Z"
   },
   {
    "duration": 64,
    "start_time": "2023-06-13T06:37:48.718Z"
   },
   {
    "duration": 45,
    "start_time": "2023-06-13T06:37:48.784Z"
   },
   {
    "duration": 164,
    "start_time": "2023-06-13T06:37:48.831Z"
   },
   {
    "duration": 513,
    "start_time": "2023-06-13T06:37:48.997Z"
   },
   {
    "duration": 202,
    "start_time": "2023-06-13T06:37:49.512Z"
   },
   {
    "duration": 15,
    "start_time": "2023-06-13T06:37:49.716Z"
   },
   {
    "duration": 42,
    "start_time": "2023-06-13T06:37:49.746Z"
   },
   {
    "duration": 173,
    "start_time": "2023-06-13T06:37:49.790Z"
   },
   {
    "duration": 16,
    "start_time": "2023-06-13T06:37:49.965Z"
   },
   {
    "duration": 49,
    "start_time": "2023-06-13T06:37:49.982Z"
   },
   {
    "duration": 33,
    "start_time": "2023-06-13T06:37:50.033Z"
   },
   {
    "duration": 193,
    "start_time": "2023-06-13T06:37:50.068Z"
   },
   {
    "duration": 22,
    "start_time": "2023-06-13T06:37:50.264Z"
   },
   {
    "duration": 29,
    "start_time": "2023-06-13T06:37:50.288Z"
   },
   {
    "duration": 9,
    "start_time": "2023-06-13T06:37:50.319Z"
   },
   {
    "duration": 256,
    "start_time": "2023-06-13T06:37:50.347Z"
   },
   {
    "duration": 14,
    "start_time": "2023-06-13T06:37:50.605Z"
   },
   {
    "duration": 44,
    "start_time": "2023-06-13T06:37:50.620Z"
   },
   {
    "duration": 26,
    "start_time": "2023-06-13T06:37:50.666Z"
   },
   {
    "duration": 48,
    "start_time": "2023-06-13T06:37:50.693Z"
   },
   {
    "duration": 111,
    "start_time": "2023-06-13T06:37:50.743Z"
   },
   {
    "duration": 12,
    "start_time": "2023-06-13T06:37:50.857Z"
   },
   {
    "duration": 83,
    "start_time": "2023-06-13T06:37:50.871Z"
   },
   {
    "duration": 76,
    "start_time": "2023-06-13T06:37:50.956Z"
   },
   {
    "duration": 22,
    "start_time": "2023-06-13T06:37:51.034Z"
   },
   {
    "duration": 76,
    "start_time": "2023-06-13T06:37:51.057Z"
   },
   {
    "duration": 16,
    "start_time": "2023-06-13T06:37:51.135Z"
   },
   {
    "duration": 30,
    "start_time": "2023-06-13T06:37:51.157Z"
   },
   {
    "duration": 24,
    "start_time": "2023-06-13T06:37:51.189Z"
   },
   {
    "duration": 30,
    "start_time": "2023-06-13T06:37:51.214Z"
   },
   {
    "duration": 56,
    "start_time": "2023-06-13T06:37:51.247Z"
   },
   {
    "duration": 53,
    "start_time": "2023-06-13T06:37:51.305Z"
   },
   {
    "duration": 104,
    "start_time": "2023-06-13T06:37:51.360Z"
   },
   {
    "duration": 173,
    "start_time": "2023-06-13T06:37:51.466Z"
   },
   {
    "duration": 230,
    "start_time": "2023-06-13T06:37:51.641Z"
   },
   {
    "duration": 158,
    "start_time": "2023-06-13T06:37:51.873Z"
   },
   {
    "duration": 20,
    "start_time": "2023-06-13T06:37:52.033Z"
   },
   {
    "duration": 80,
    "start_time": "2023-06-13T06:37:52.059Z"
   },
   {
    "duration": 143,
    "start_time": "2023-06-13T06:37:52.141Z"
   },
   {
    "duration": 14,
    "start_time": "2023-06-13T06:37:52.286Z"
   },
   {
    "duration": 159,
    "start_time": "2023-06-13T06:37:52.303Z"
   },
   {
    "duration": 229,
    "start_time": "2023-06-13T06:37:52.466Z"
   },
   {
    "duration": 20,
    "start_time": "2023-06-13T06:37:52.697Z"
   },
   {
    "duration": 119,
    "start_time": "2023-06-13T06:37:52.719Z"
   },
   {
    "duration": 64,
    "start_time": "2023-06-13T06:37:52.839Z"
   },
   {
    "duration": 50,
    "start_time": "2023-06-13T06:37:52.904Z"
   },
   {
    "duration": 40,
    "start_time": "2023-06-13T06:37:52.955Z"
   },
   {
    "duration": 69,
    "start_time": "2023-06-13T06:37:52.997Z"
   },
   {
    "duration": 110,
    "start_time": "2023-06-13T06:37:53.070Z"
   },
   {
    "duration": 434,
    "start_time": "2023-06-13T06:37:53.183Z"
   },
   {
    "duration": 11,
    "start_time": "2023-06-13T06:37:53.619Z"
   },
   {
    "duration": 56,
    "start_time": "2023-06-13T06:37:53.631Z"
   },
   {
    "duration": 119,
    "start_time": "2023-06-13T06:37:53.688Z"
   },
   {
    "duration": 78,
    "start_time": "2023-06-13T06:37:53.809Z"
   },
   {
    "duration": 1104406,
    "start_time": "2023-06-13T06:37:53.889Z"
   },
   {
    "duration": 83,
    "start_time": "2023-06-13T07:12:30.714Z"
   },
   {
    "duration": 1787,
    "start_time": "2023-06-13T07:12:48.671Z"
   },
   {
    "duration": 1009,
    "start_time": "2023-06-13T07:12:50.460Z"
   },
   {
    "duration": 25,
    "start_time": "2023-06-13T07:12:51.473Z"
   },
   {
    "duration": 214,
    "start_time": "2023-06-13T07:12:51.500Z"
   },
   {
    "duration": 296,
    "start_time": "2023-06-13T07:12:51.718Z"
   },
   {
    "duration": 41,
    "start_time": "2023-06-13T07:12:52.016Z"
   },
   {
    "duration": 366,
    "start_time": "2023-06-13T07:12:52.061Z"
   },
   {
    "duration": 65,
    "start_time": "2023-06-13T07:12:52.429Z"
   },
   {
    "duration": 505,
    "start_time": "2023-06-13T07:12:52.497Z"
   },
   {
    "duration": 74,
    "start_time": "2023-06-13T07:12:53.005Z"
   },
   {
    "duration": 325,
    "start_time": "2023-06-13T07:12:53.083Z"
   },
   {
    "duration": 64,
    "start_time": "2023-06-13T07:12:53.411Z"
   },
   {
    "duration": 45,
    "start_time": "2023-06-13T07:12:53.477Z"
   },
   {
    "duration": 58,
    "start_time": "2023-06-13T07:12:53.526Z"
   },
   {
    "duration": 29,
    "start_time": "2023-06-13T07:12:53.586Z"
   },
   {
    "duration": 168,
    "start_time": "2023-06-13T07:12:53.617Z"
   },
   {
    "duration": 555,
    "start_time": "2023-06-13T07:12:53.787Z"
   },
   {
    "duration": 216,
    "start_time": "2023-06-13T07:12:54.345Z"
   },
   {
    "duration": 17,
    "start_time": "2023-06-13T07:12:54.565Z"
   },
   {
    "duration": 22,
    "start_time": "2023-06-13T07:12:54.584Z"
   },
   {
    "duration": 191,
    "start_time": "2023-06-13T07:12:54.608Z"
   },
   {
    "duration": 18,
    "start_time": "2023-06-13T07:12:54.801Z"
   },
   {
    "duration": 37,
    "start_time": "2023-06-13T07:12:54.822Z"
   },
   {
    "duration": 15,
    "start_time": "2023-06-13T07:12:54.863Z"
   },
   {
    "duration": 200,
    "start_time": "2023-06-13T07:12:54.881Z"
   },
   {
    "duration": 24,
    "start_time": "2023-06-13T07:12:55.085Z"
   },
   {
    "duration": 49,
    "start_time": "2023-06-13T07:12:55.111Z"
   },
   {
    "duration": 17,
    "start_time": "2023-06-13T07:12:55.162Z"
   },
   {
    "duration": 273,
    "start_time": "2023-06-13T07:12:55.181Z"
   },
   {
    "duration": 22,
    "start_time": "2023-06-13T07:12:55.456Z"
   },
   {
    "duration": 36,
    "start_time": "2023-06-13T07:12:55.480Z"
   },
   {
    "duration": 34,
    "start_time": "2023-06-13T07:12:55.518Z"
   },
   {
    "duration": 6,
    "start_time": "2023-06-13T07:12:55.558Z"
   },
   {
    "duration": 103,
    "start_time": "2023-06-13T07:12:55.566Z"
   },
   {
    "duration": 10,
    "start_time": "2023-06-13T07:12:55.671Z"
   },
   {
    "duration": 117,
    "start_time": "2023-06-13T07:12:55.684Z"
   },
   {
    "duration": 90,
    "start_time": "2023-06-13T07:12:55.803Z"
   },
   {
    "duration": 16,
    "start_time": "2023-06-13T07:12:55.894Z"
   },
   {
    "duration": 108,
    "start_time": "2023-06-13T07:12:55.912Z"
   },
   {
    "duration": 5,
    "start_time": "2023-06-13T07:12:56.022Z"
   },
   {
    "duration": 59,
    "start_time": "2023-06-13T07:12:56.032Z"
   },
   {
    "duration": 38,
    "start_time": "2023-06-13T07:12:56.093Z"
   },
   {
    "duration": 58,
    "start_time": "2023-06-13T07:12:56.133Z"
   },
   {
    "duration": 51,
    "start_time": "2023-06-13T07:12:56.193Z"
   },
   {
    "duration": 92,
    "start_time": "2023-06-13T07:12:56.246Z"
   },
   {
    "duration": 151,
    "start_time": "2023-06-13T07:12:56.340Z"
   },
   {
    "duration": 228,
    "start_time": "2023-06-13T07:12:56.493Z"
   },
   {
    "duration": 271,
    "start_time": "2023-06-13T07:12:56.723Z"
   },
   {
    "duration": 172,
    "start_time": "2023-06-13T07:12:56.997Z"
   },
   {
    "duration": 5,
    "start_time": "2023-06-13T07:12:57.170Z"
   },
   {
    "duration": 20,
    "start_time": "2023-06-13T07:12:57.177Z"
   },
   {
    "duration": 102,
    "start_time": "2023-06-13T07:12:57.199Z"
   },
   {
    "duration": 18,
    "start_time": "2023-06-13T07:12:57.304Z"
   },
   {
    "duration": 163,
    "start_time": "2023-06-13T07:12:57.324Z"
   },
   {
    "duration": 213,
    "start_time": "2023-06-13T07:12:57.489Z"
   },
   {
    "duration": 19,
    "start_time": "2023-06-13T07:12:57.704Z"
   },
   {
    "duration": 79,
    "start_time": "2023-06-13T07:12:57.725Z"
   },
   {
    "duration": 26,
    "start_time": "2023-06-13T07:12:57.807Z"
   },
   {
    "duration": 58,
    "start_time": "2023-06-13T07:12:57.835Z"
   },
   {
    "duration": 5,
    "start_time": "2023-06-13T07:12:57.895Z"
   },
   {
    "duration": 18,
    "start_time": "2023-06-13T07:12:57.902Z"
   },
   {
    "duration": 6,
    "start_time": "2023-06-13T07:12:57.922Z"
   },
   {
    "duration": 486,
    "start_time": "2023-06-13T07:12:57.930Z"
   },
   {
    "duration": 12,
    "start_time": "2023-06-13T07:12:58.417Z"
   },
   {
    "duration": 28,
    "start_time": "2023-06-13T07:12:58.431Z"
   },
   {
    "duration": 34,
    "start_time": "2023-06-13T07:12:58.462Z"
   },
   {
    "duration": 5,
    "start_time": "2023-06-13T07:13:03.094Z"
   },
   {
    "duration": 3,
    "start_time": "2023-06-13T07:13:17.614Z"
   },
   {
    "duration": 317,
    "start_time": "2023-06-13T07:13:19.914Z"
   },
   {
    "duration": 7,
    "start_time": "2023-06-13T07:13:25.244Z"
   },
   {
    "duration": 983,
    "start_time": "2023-06-13T07:13:25.253Z"
   },
   {
    "duration": 36,
    "start_time": "2023-06-13T07:13:26.238Z"
   },
   {
    "duration": 242,
    "start_time": "2023-06-13T07:13:26.277Z"
   },
   {
    "duration": 230,
    "start_time": "2023-06-13T07:13:26.522Z"
   },
   {
    "duration": 50,
    "start_time": "2023-06-13T07:13:26.756Z"
   },
   {
    "duration": 364,
    "start_time": "2023-06-13T07:13:26.809Z"
   },
   {
    "duration": 38,
    "start_time": "2023-06-13T07:13:27.175Z"
   },
   {
    "duration": 491,
    "start_time": "2023-06-13T07:13:27.215Z"
   },
   {
    "duration": 72,
    "start_time": "2023-06-13T07:13:27.708Z"
   },
   {
    "duration": 226,
    "start_time": "2023-06-13T07:13:27.785Z"
   },
   {
    "duration": 71,
    "start_time": "2023-06-13T07:13:28.013Z"
   },
   {
    "duration": 75,
    "start_time": "2023-06-13T07:13:28.085Z"
   },
   {
    "duration": 81,
    "start_time": "2023-06-13T07:13:28.163Z"
   },
   {
    "duration": 47,
    "start_time": "2023-06-13T07:13:28.249Z"
   },
   {
    "duration": 225,
    "start_time": "2023-06-13T07:13:28.299Z"
   },
   {
    "duration": 577,
    "start_time": "2023-06-13T07:13:28.526Z"
   },
   {
    "duration": 228,
    "start_time": "2023-06-13T07:13:29.105Z"
   },
   {
    "duration": 24,
    "start_time": "2023-06-13T07:13:29.336Z"
   },
   {
    "duration": 42,
    "start_time": "2023-06-13T07:13:29.364Z"
   },
   {
    "duration": 263,
    "start_time": "2023-06-13T07:13:29.409Z"
   },
   {
    "duration": 18,
    "start_time": "2023-06-13T07:13:29.679Z"
   },
   {
    "duration": 15,
    "start_time": "2023-06-13T07:13:29.700Z"
   },
   {
    "duration": 20,
    "start_time": "2023-06-13T07:13:29.717Z"
   },
   {
    "duration": 172,
    "start_time": "2023-06-13T07:13:29.739Z"
   },
   {
    "duration": 15,
    "start_time": "2023-06-13T07:13:29.913Z"
   },
   {
    "duration": 25,
    "start_time": "2023-06-13T07:13:29.946Z"
   },
   {
    "duration": 9,
    "start_time": "2023-06-13T07:13:29.974Z"
   },
   {
    "duration": 252,
    "start_time": "2023-06-13T07:13:29.988Z"
   },
   {
    "duration": 23,
    "start_time": "2023-06-13T07:13:30.242Z"
   },
   {
    "duration": 52,
    "start_time": "2023-06-13T07:13:30.271Z"
   },
   {
    "duration": 38,
    "start_time": "2023-06-13T07:13:30.325Z"
   },
   {
    "duration": 26,
    "start_time": "2023-06-13T07:13:30.366Z"
   },
   {
    "duration": 135,
    "start_time": "2023-06-13T07:13:30.395Z"
   },
   {
    "duration": 18,
    "start_time": "2023-06-13T07:13:30.532Z"
   },
   {
    "duration": 90,
    "start_time": "2023-06-13T07:13:30.553Z"
   },
   {
    "duration": 83,
    "start_time": "2023-06-13T07:13:30.648Z"
   },
   {
    "duration": 11,
    "start_time": "2023-06-13T07:13:30.733Z"
   },
   {
    "duration": 136,
    "start_time": "2023-06-13T07:13:30.748Z"
   },
   {
    "duration": 138,
    "start_time": "2023-06-13T07:13:30.886Z"
   },
   {
    "duration": 106,
    "start_time": "2023-06-13T07:13:31.026Z"
   },
   {
    "duration": 57,
    "start_time": "2023-06-13T07:13:31.134Z"
   },
   {
    "duration": 58,
    "start_time": "2023-06-13T07:13:31.193Z"
   },
   {
    "duration": 65,
    "start_time": "2023-06-13T07:13:31.254Z"
   },
   {
    "duration": 59,
    "start_time": "2023-06-13T07:13:31.321Z"
   },
   {
    "duration": 196,
    "start_time": "2023-06-13T07:13:31.383Z"
   },
   {
    "duration": 275,
    "start_time": "2023-06-13T07:13:31.582Z"
   },
   {
    "duration": 224,
    "start_time": "2023-06-13T07:13:31.859Z"
   },
   {
    "duration": 270,
    "start_time": "2023-06-13T07:13:32.085Z"
   },
   {
    "duration": 8,
    "start_time": "2023-06-13T07:13:32.359Z"
   },
   {
    "duration": 23,
    "start_time": "2023-06-13T07:13:32.369Z"
   },
   {
    "duration": 154,
    "start_time": "2023-06-13T07:13:32.394Z"
   },
   {
    "duration": 20,
    "start_time": "2023-06-13T07:13:32.550Z"
   },
   {
    "duration": 194,
    "start_time": "2023-06-13T07:13:32.573Z"
   },
   {
    "duration": 239,
    "start_time": "2023-06-13T07:13:32.772Z"
   },
   {
    "duration": 15,
    "start_time": "2023-06-13T07:13:33.013Z"
   },
   {
    "duration": 249,
    "start_time": "2023-06-13T07:13:33.031Z"
   },
   {
    "duration": 14,
    "start_time": "2023-06-13T07:13:33.282Z"
   },
   {
    "duration": 22,
    "start_time": "2023-06-13T07:13:33.298Z"
   },
   {
    "duration": 4,
    "start_time": "2023-06-13T07:13:33.323Z"
   },
   {
    "duration": 14,
    "start_time": "2023-06-13T07:13:33.329Z"
   },
   {
    "duration": 23,
    "start_time": "2023-06-13T07:13:33.345Z"
   },
   {
    "duration": 477,
    "start_time": "2023-06-13T07:13:33.370Z"
   },
   {
    "duration": 17,
    "start_time": "2023-06-13T07:13:33.849Z"
   },
   {
    "duration": 34,
    "start_time": "2023-06-13T07:13:33.872Z"
   },
   {
    "duration": 36,
    "start_time": "2023-06-13T07:13:33.908Z"
   },
   {
    "duration": 38,
    "start_time": "2023-06-13T07:13:33.949Z"
   },
   {
    "duration": 1228223,
    "start_time": "2023-06-13T07:13:33.989Z"
   },
   {
    "duration": 1966,
    "start_time": "2023-06-13T07:58:08.246Z"
   },
   {
    "duration": 1013,
    "start_time": "2023-06-13T07:58:10.214Z"
   },
   {
    "duration": 35,
    "start_time": "2023-06-13T07:58:11.229Z"
   },
   {
    "duration": 206,
    "start_time": "2023-06-13T07:58:11.267Z"
   },
   {
    "duration": 223,
    "start_time": "2023-06-13T07:58:11.481Z"
   },
   {
    "duration": 35,
    "start_time": "2023-06-13T07:58:11.706Z"
   },
   {
    "duration": 381,
    "start_time": "2023-06-13T07:58:11.752Z"
   },
   {
    "duration": 64,
    "start_time": "2023-06-13T07:58:12.135Z"
   },
   {
    "duration": 455,
    "start_time": "2023-06-13T07:58:12.201Z"
   },
   {
    "duration": 61,
    "start_time": "2023-06-13T07:58:12.660Z"
   },
   {
    "duration": 245,
    "start_time": "2023-06-13T07:58:12.723Z"
   },
   {
    "duration": 50,
    "start_time": "2023-06-13T07:58:12.970Z"
   },
   {
    "duration": 102,
    "start_time": "2023-06-13T07:58:13.022Z"
   },
   {
    "duration": 94,
    "start_time": "2023-06-13T07:58:13.126Z"
   },
   {
    "duration": 67,
    "start_time": "2023-06-13T07:58:13.222Z"
   },
   {
    "duration": 201,
    "start_time": "2023-06-13T07:58:13.291Z"
   },
   {
    "duration": 601,
    "start_time": "2023-06-13T07:58:13.494Z"
   },
   {
    "duration": 219,
    "start_time": "2023-06-13T07:58:14.097Z"
   },
   {
    "duration": 28,
    "start_time": "2023-06-13T07:58:14.318Z"
   },
   {
    "duration": 45,
    "start_time": "2023-06-13T07:58:14.348Z"
   },
   {
    "duration": 212,
    "start_time": "2023-06-13T07:58:14.395Z"
   },
   {
    "duration": 17,
    "start_time": "2023-06-13T07:58:14.609Z"
   },
   {
    "duration": 64,
    "start_time": "2023-06-13T07:58:14.628Z"
   },
   {
    "duration": 23,
    "start_time": "2023-06-13T07:58:14.694Z"
   },
   {
    "duration": 188,
    "start_time": "2023-06-13T07:58:14.719Z"
   },
   {
    "duration": 20,
    "start_time": "2023-06-13T07:58:14.910Z"
   },
   {
    "duration": 68,
    "start_time": "2023-06-13T07:58:14.932Z"
   },
   {
    "duration": 15,
    "start_time": "2023-06-13T07:58:15.005Z"
   },
   {
    "duration": 356,
    "start_time": "2023-06-13T07:58:15.021Z"
   },
   {
    "duration": 14,
    "start_time": "2023-06-13T07:58:15.379Z"
   },
   {
    "duration": 21,
    "start_time": "2023-06-13T07:58:15.395Z"
   },
   {
    "duration": 60,
    "start_time": "2023-06-13T07:58:15.418Z"
   },
   {
    "duration": 9,
    "start_time": "2023-06-13T07:58:15.480Z"
   },
   {
    "duration": 117,
    "start_time": "2023-06-13T07:58:15.491Z"
   },
   {
    "duration": 12,
    "start_time": "2023-06-13T07:58:15.610Z"
   },
   {
    "duration": 112,
    "start_time": "2023-06-13T07:58:15.624Z"
   },
   {
    "duration": 94,
    "start_time": "2023-06-13T07:58:15.738Z"
   },
   {
    "duration": 31,
    "start_time": "2023-06-13T07:58:15.834Z"
   },
   {
    "duration": 116,
    "start_time": "2023-06-13T07:58:15.867Z"
   },
   {
    "duration": 4,
    "start_time": "2023-06-13T07:58:15.985Z"
   },
   {
    "duration": 38,
    "start_time": "2023-06-13T07:58:15.991Z"
   },
   {
    "duration": 56,
    "start_time": "2023-06-13T07:58:16.032Z"
   },
   {
    "duration": 34,
    "start_time": "2023-06-13T07:58:16.090Z"
   },
   {
    "duration": 87,
    "start_time": "2023-06-13T07:58:16.126Z"
   },
   {
    "duration": 24,
    "start_time": "2023-06-13T07:58:16.215Z"
   },
   {
    "duration": 161,
    "start_time": "2023-06-13T07:58:16.241Z"
   },
   {
    "duration": 206,
    "start_time": "2023-06-13T07:58:16.408Z"
   },
   {
    "duration": 270,
    "start_time": "2023-06-13T07:58:16.616Z"
   },
   {
    "duration": 177,
    "start_time": "2023-06-13T07:58:16.889Z"
   },
   {
    "duration": 10,
    "start_time": "2023-06-13T07:58:17.070Z"
   },
   {
    "duration": 19,
    "start_time": "2023-06-13T07:58:17.082Z"
   },
   {
    "duration": 129,
    "start_time": "2023-06-13T07:58:17.102Z"
   },
   {
    "duration": 26,
    "start_time": "2023-06-13T07:58:17.233Z"
   },
   {
    "duration": 108,
    "start_time": "2023-06-13T07:58:17.270Z"
   },
   {
    "duration": 212,
    "start_time": "2023-06-13T07:58:17.380Z"
   },
   {
    "duration": 19,
    "start_time": "2023-06-13T07:58:17.594Z"
   },
   {
    "duration": 11,
    "start_time": "2023-06-13T07:58:17.615Z"
   },
   {
    "duration": 57,
    "start_time": "2023-06-13T07:58:17.627Z"
   },
   {
    "duration": 38,
    "start_time": "2023-06-13T07:58:17.687Z"
   },
   {
    "duration": 10,
    "start_time": "2023-06-13T07:58:17.727Z"
   },
   {
    "duration": 48,
    "start_time": "2023-06-13T07:58:17.740Z"
   },
   {
    "duration": 24,
    "start_time": "2023-06-13T07:58:17.790Z"
   },
   {
    "duration": 507,
    "start_time": "2023-06-13T07:58:17.817Z"
   },
   {
    "duration": 24,
    "start_time": "2023-06-13T07:58:18.326Z"
   },
   {
    "duration": 30,
    "start_time": "2023-06-13T07:58:18.359Z"
   },
   {
    "duration": 21,
    "start_time": "2023-06-13T07:58:18.391Z"
   },
   {
    "duration": 15,
    "start_time": "2023-06-13T07:58:18.413Z"
   },
   {
    "duration": 125045,
    "start_time": "2023-06-13T07:58:18.430Z"
   },
   {
    "duration": 61,
    "start_time": "2023-06-13T17:21:41.126Z"
   },
   {
    "duration": 61,
    "start_time": "2023-06-14T07:18:17.980Z"
   },
   {
    "duration": 1742,
    "start_time": "2023-06-14T07:18:22.431Z"
   },
   {
    "duration": 2896,
    "start_time": "2023-06-14T07:18:24.176Z"
   },
   {
    "duration": 17,
    "start_time": "2023-06-14T07:18:27.074Z"
   },
   {
    "duration": 118,
    "start_time": "2023-06-14T07:18:27.092Z"
   },
   {
    "duration": 19,
    "start_time": "2023-06-14T07:18:32.444Z"
   }
  ],
  "kernelspec": {
   "display_name": "Python 3 (ipykernel)",
   "language": "python",
   "name": "python3"
  },
  "language_info": {
   "codemirror_mode": {
    "name": "ipython",
    "version": 3
   },
   "file_extension": ".py",
   "mimetype": "text/x-python",
   "name": "python",
   "nbconvert_exporter": "python",
   "pygments_lexer": "ipython3",
   "version": "3.9.13"
  },
  "toc": {
   "base_numbering": 1,
   "nav_menu": {},
   "number_sections": true,
   "sideBar": true,
   "skip_h1_title": true,
   "title_cell": "Table of Contents",
   "title_sidebar": "Contents",
   "toc_cell": false,
   "toc_position": {},
   "toc_section_display": true,
   "toc_window_display": false
  }
 },
 "nbformat": 4,
 "nbformat_minor": 2
}
