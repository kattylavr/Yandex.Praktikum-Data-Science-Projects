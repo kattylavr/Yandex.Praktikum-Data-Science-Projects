{
 "cells": [
  {
   "cell_type": "markdown",
   "id": "5a855ae2",
   "metadata": {},
   "source": [
    "## Попробуем что ли\n",
    "\n",
    "апвыпаввапвапвапав"
   ]
  },
  {
   "cell_type": "markdown",
   "id": "74c8481d",
   "metadata": {},
   "source": [
    "## Попробуем что ли 2\n",
    "\n",
    "апвыпаввапвапвапав"
   ]
  },
  {
   "cell_type": "markdown",
   "id": "f346fcf7",
   "metadata": {},
   "source": [
    "## Попробуем что ли 3\n",
    "\n",
    "апвыпаввапвапвапав"
   ]
  },
  {
   "cell_type": "markdown",
   "id": "76057549",
   "metadata": {},
   "source": [
    "## Попробуем что ли 4\n",
    "\n",
    "апвыпаввапвапвапав"
   ]
  }
 ],
 "metadata": {
  "kernelspec": {
   "display_name": "Python 3 (ipykernel)",
   "language": "python",
   "name": "python3"
  },
  "language_info": {
   "codemirror_mode": {
    "name": "ipython",
    "version": 3
   },
   "file_extension": ".py",
   "mimetype": "text/x-python",
   "name": "python",
   "nbconvert_exporter": "python",
   "pygments_lexer": "ipython3",
   "version": "3.9.15"
  },
  "toc": {
   "base_numbering": 1,
   "nav_menu": {},
   "number_sections": true,
   "sideBar": true,
   "skip_h1_title": true,
   "title_cell": "Содержание",
   "title_sidebar": "Contents",
   "toc_cell": false,
   "toc_position": {
    "height": "calc(100% - 180px)",
    "left": "10px",
    "top": "150px",
    "width": "384px"
   },
   "toc_section_display": true,
   "toc_window_display": true
  }
 },
 "nbformat": 4,
 "nbformat_minor": 5
}
