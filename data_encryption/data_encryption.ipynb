{
 "cells": [
  {
   "cell_type": "markdown",
   "metadata": {},
   "source": [
    "# Защита персональных данных клиентов"
   ]
  },
  {
   "cell_type": "markdown",
   "metadata": {},
   "source": [
    "Нужно защитить данные клиентов страховой компании «Хоть потоп». \n",
    "\n",
    "Задача: разработать такой метод преобразования данных, чтобы по ним было сложно восстановить персональную информацию. Обосновать корректность его работы.\n",
    "\n",
    "Нужно защитить данные, чтобы при преобразовании качество моделей машинного обучения не ухудшилось. Подбирать наилучшую модель не требуется.\n",
    "\n",
    "**Описание данных:**\n",
    "Набор данных находится в файле /datasets/insurance.csv.<br>\n",
    "<br>\n",
    "**Признаки:** пол, возраст и зарплата застрахованного, количество членов его семьи.<br>\n",
    "<br>\n",
    "**Целевой признак:** количество страховых выплат клиенту за последние 5 лет."
   ]
  },
  {
   "cell_type": "markdown",
   "metadata": {},
   "source": [
    "## Импорт библиотек"
   ]
  },
  {
   "cell_type": "code",
   "execution_count": 1,
   "metadata": {},
   "outputs": [],
   "source": [
    "import pandas as pd\n",
    "import numpy as np\n",
    "import matplotlib.pyplot as plt\n",
    "\n",
    "from sklearn.linear_model import LinearRegression\n",
    "from sklearn.metrics import r2_score\n",
    "from sklearn.model_selection import train_test_split"
   ]
  },
  {
   "cell_type": "markdown",
   "metadata": {},
   "source": [
    "## Загрузка данных и их проверка"
   ]
  },
  {
   "cell_type": "markdown",
   "metadata": {},
   "source": [
    "Присвою переменной имя:"
   ]
  },
  {
   "cell_type": "code",
   "execution_count": 2,
   "metadata": {},
   "outputs": [],
   "source": [
    "try:\n",
    "    data = pd.read_csv('/datasets/insurance.csv')\n",
    "except:\n",
    "    data = pd.read_csv('D:\\Data\\insurance.csv')"
   ]
  },
  {
   "cell_type": "markdown",
   "metadata": {},
   "source": [
    "Head:"
   ]
  },
  {
   "cell_type": "code",
   "execution_count": 3,
   "metadata": {},
   "outputs": [
    {
     "data": {
      "text/html": [
       "<div>\n",
       "<style scoped>\n",
       "    .dataframe tbody tr th:only-of-type {\n",
       "        vertical-align: middle;\n",
       "    }\n",
       "\n",
       "    .dataframe tbody tr th {\n",
       "        vertical-align: top;\n",
       "    }\n",
       "\n",
       "    .dataframe thead th {\n",
       "        text-align: right;\n",
       "    }\n",
       "</style>\n",
       "<table border=\"1\" class=\"dataframe\">\n",
       "  <thead>\n",
       "    <tr style=\"text-align: right;\">\n",
       "      <th></th>\n",
       "      <th>Пол</th>\n",
       "      <th>Возраст</th>\n",
       "      <th>Зарплата</th>\n",
       "      <th>Члены семьи</th>\n",
       "      <th>Страховые выплаты</th>\n",
       "    </tr>\n",
       "  </thead>\n",
       "  <tbody>\n",
       "    <tr>\n",
       "      <th>0</th>\n",
       "      <td>1</td>\n",
       "      <td>41.0</td>\n",
       "      <td>49600.0</td>\n",
       "      <td>1</td>\n",
       "      <td>0</td>\n",
       "    </tr>\n",
       "    <tr>\n",
       "      <th>1</th>\n",
       "      <td>0</td>\n",
       "      <td>46.0</td>\n",
       "      <td>38000.0</td>\n",
       "      <td>1</td>\n",
       "      <td>1</td>\n",
       "    </tr>\n",
       "    <tr>\n",
       "      <th>2</th>\n",
       "      <td>0</td>\n",
       "      <td>29.0</td>\n",
       "      <td>21000.0</td>\n",
       "      <td>0</td>\n",
       "      <td>0</td>\n",
       "    </tr>\n",
       "    <tr>\n",
       "      <th>3</th>\n",
       "      <td>0</td>\n",
       "      <td>21.0</td>\n",
       "      <td>41700.0</td>\n",
       "      <td>2</td>\n",
       "      <td>0</td>\n",
       "    </tr>\n",
       "    <tr>\n",
       "      <th>4</th>\n",
       "      <td>1</td>\n",
       "      <td>28.0</td>\n",
       "      <td>26100.0</td>\n",
       "      <td>0</td>\n",
       "      <td>0</td>\n",
       "    </tr>\n",
       "  </tbody>\n",
       "</table>\n",
       "</div>"
      ],
      "text/plain": [
       "   Пол  Возраст  Зарплата  Члены семьи  Страховые выплаты\n",
       "0    1     41.0   49600.0            1                  0\n",
       "1    0     46.0   38000.0            1                  1\n",
       "2    0     29.0   21000.0            0                  0\n",
       "3    0     21.0   41700.0            2                  0\n",
       "4    1     28.0   26100.0            0                  0"
      ]
     },
     "execution_count": 3,
     "metadata": {},
     "output_type": "execute_result"
    }
   ],
   "source": [
    "data.head()"
   ]
  },
  {
   "cell_type": "markdown",
   "metadata": {},
   "source": [
    "Info:"
   ]
  },
  {
   "cell_type": "code",
   "execution_count": 4,
   "metadata": {
    "scrolled": true
   },
   "outputs": [
    {
     "name": "stdout",
     "output_type": "stream",
     "text": [
      "<class 'pandas.core.frame.DataFrame'>\n",
      "RangeIndex: 5000 entries, 0 to 4999\n",
      "Data columns (total 5 columns):\n",
      " #   Column             Non-Null Count  Dtype  \n",
      "---  ------             --------------  -----  \n",
      " 0   Пол                5000 non-null   int64  \n",
      " 1   Возраст            5000 non-null   float64\n",
      " 2   Зарплата           5000 non-null   float64\n",
      " 3   Члены семьи        5000 non-null   int64  \n",
      " 4   Страховые выплаты  5000 non-null   int64  \n",
      "dtypes: float64(2), int64(3)\n",
      "memory usage: 195.4 KB\n"
     ]
    }
   ],
   "source": [
    "data.info()"
   ]
  },
  {
   "cell_type": "markdown",
   "metadata": {},
   "source": [
    "Посмотрю на разброс значений в столбцах:"
   ]
  },
  {
   "cell_type": "markdown",
   "metadata": {},
   "source": [
    "Пол:"
   ]
  },
  {
   "cell_type": "code",
   "execution_count": 5,
   "metadata": {
    "scrolled": true
   },
   "outputs": [
    {
     "data": {
      "text/plain": [
       "0    2505\n",
       "1    2495\n",
       "Name: Пол, dtype: int64"
      ]
     },
     "execution_count": 5,
     "metadata": {},
     "output_type": "execute_result"
    }
   ],
   "source": [
    "data['Пол'].value_counts()"
   ]
  },
  {
   "cell_type": "markdown",
   "metadata": {},
   "source": [
    "Возраст:"
   ]
  },
  {
   "cell_type": "code",
   "execution_count": 6,
   "metadata": {
    "scrolled": true
   },
   "outputs": [
    {
     "data": {
      "image/png": "[encoded data removed]",
      "text/plain": [
       "<Figure size 432x288 with 1 Axes>"
      ]
     },
     "metadata": {
      "needs_background": "light"
     },
     "output_type": "display_data"
    }
   ],
   "source": [
    "data['Возраст'].hist()\n",
    "\n",
    "plt.xlabel(\"Возраст\")\n",
    "plt.ylabel(\"Частота\")\n",
    "plt.title(\"Гистограмма с данными по возрасту\");"
   ]
  },
  {
   "cell_type": "markdown",
   "metadata": {},
   "source": [
    "Зарплата:"
   ]
  },
  {
   "cell_type": "code",
   "execution_count": 7,
   "metadata": {
    "scrolled": true
   },
   "outputs": [
    {
     "data": {
      "image/png": "[encoded data removed]",
      "text/plain": [
       "<Figure size 432x288 with 1 Axes>"
      ]
     },
     "metadata": {
      "needs_background": "light"
     },
     "output_type": "display_data"
    }
   ],
   "source": [
    "data['Зарплата'].hist()\n",
    "plt.xlabel(\"Зарплата\")\n",
    "plt.ylabel(\"Частота\")\n",
    "plt.title(\"Гистограмма с данными по зарплате\");"
   ]
  },
  {
   "cell_type": "markdown",
   "metadata": {},
   "source": [
    "Члены семьи:"
   ]
  },
  {
   "cell_type": "code",
   "execution_count": 8,
   "metadata": {},
   "outputs": [
    {
     "data": {
      "image/png": "[encoded data removed]",
      "text/plain": [
       "<Figure size 432x288 with 1 Axes>"
      ]
     },
     "metadata": {
      "needs_background": "light"
     },
     "output_type": "display_data"
    }
   ],
   "source": [
    "data['Члены семьи'].hist()\n",
    "plt.xlabel(\"Количество членов семьи\")\n",
    "plt.ylabel(\"Частота\")\n",
    "plt.title(\"Гистограмма с данными по членам семьи\");"
   ]
  },
  {
   "cell_type": "markdown",
   "metadata": {},
   "source": [
    "Страховые выплаты:"
   ]
  },
  {
   "cell_type": "code",
   "execution_count": 9,
   "metadata": {
    "scrolled": true
   },
   "outputs": [
    {
     "data": {
      "image/png": "[encoded data removed]",
      "text/plain": [
       "<Figure size 432x288 with 1 Axes>"
      ]
     },
     "metadata": {
      "needs_background": "light"
     },
     "output_type": "display_data"
    }
   ],
   "source": [
    "data['Страховые выплаты'].hist();\n",
    "plt.xlabel(\"Количество страховых выплат\")\n",
    "plt.ylabel(\"Частота\")\n",
    "plt.title(\"Гистограмма с данными по страховым выплатам\");"
   ]
  },
  {
   "cell_type": "markdown",
   "metadata": {},
   "source": [
    "Проверю, есть ли пропуски:"
   ]
  },
  {
   "cell_type": "code",
   "execution_count": 10,
   "metadata": {},
   "outputs": [
    {
     "name": "stdout",
     "output_type": "stream",
     "text": [
      "Количество пропусков:\n"
     ]
    },
    {
     "data": {
      "text/plain": [
       "Пол                  0\n",
       "Возраст              0\n",
       "Зарплата             0\n",
       "Члены семьи          0\n",
       "Страховые выплаты    0\n",
       "dtype: int64"
      ]
     },
     "execution_count": 10,
     "metadata": {},
     "output_type": "execute_result"
    }
   ],
   "source": [
    "print(\"Количество пропусков:\")\n",
    "data.isna().sum()"
   ]
  },
  {
   "cell_type": "markdown",
   "metadata": {},
   "source": [
    "Проверю, есть ли дубликаты строк:"
   ]
  },
  {
   "cell_type": "code",
   "execution_count": 11,
   "metadata": {},
   "outputs": [
    {
     "name": "stdout",
     "output_type": "stream",
     "text": [
      "Количество дубликатов: 153\n"
     ]
    }
   ],
   "source": [
    "print(\"Количество дубликатов:\", data.duplicated().sum())"
   ]
  },
  {
   "cell_type": "markdown",
   "metadata": {},
   "source": [
    "**Промежуточный вывод:** есть дубликаты строк, надо удалить. 2 типа данных в формате float, можно их перевести в int, если они целочисленные. В остальном все в порядке."
   ]
  },
  {
   "cell_type": "markdown",
   "metadata": {},
   "source": [
    "## Предобработка данных"
   ]
  },
  {
   "cell_type": "markdown",
   "metadata": {},
   "source": [
    "Чистка от дубликатов:"
   ]
  },
  {
   "cell_type": "code",
   "execution_count": 12,
   "metadata": {},
   "outputs": [],
   "source": [
    "data = data.drop_duplicates().reset_index(drop=True)"
   ]
  },
  {
   "cell_type": "markdown",
   "metadata": {},
   "source": [
    "Изменение типов данных:"
   ]
  },
  {
   "cell_type": "code",
   "execution_count": 13,
   "metadata": {
    "scrolled": true
   },
   "outputs": [
    {
     "data": {
      "text/plain": [
       "19.0    213\n",
       "25.0    205\n",
       "31.0    202\n",
       "26.0    201\n",
       "22.0    201\n",
       "27.0    201\n",
       "32.0    196\n",
       "30.0    196\n",
       "29.0    196\n",
       "28.0    196\n",
       "23.0    195\n",
       "21.0    193\n",
       "20.0    190\n",
       "36.0    186\n",
       "33.0    186\n",
       "24.0    176\n",
       "35.0    173\n",
       "34.0    173\n",
       "37.0    143\n",
       "39.0    140\n",
       "38.0    135\n",
       "41.0    124\n",
       "18.0    116\n",
       "40.0    110\n",
       "42.0     93\n",
       "43.0     77\n",
       "44.0     74\n",
       "45.0     73\n",
       "46.0     60\n",
       "47.0     47\n",
       "49.0     37\n",
       "48.0     26\n",
       "50.0     26\n",
       "52.0     22\n",
       "51.0     21\n",
       "53.0     11\n",
       "55.0      9\n",
       "54.0      7\n",
       "56.0      5\n",
       "59.0      3\n",
       "60.0      2\n",
       "58.0      2\n",
       "57.0      2\n",
       "65.0      1\n",
       "61.0      1\n",
       "62.0      1\n",
       "Name: Возраст, dtype: int64"
      ]
     },
     "execution_count": 13,
     "metadata": {},
     "output_type": "execute_result"
    }
   ],
   "source": [
    "data['Возраст'].value_counts()"
   ]
  },
  {
   "cell_type": "markdown",
   "metadata": {},
   "source": [
    "Можно перевести в целочисленный формат:"
   ]
  },
  {
   "cell_type": "code",
   "execution_count": 14,
   "metadata": {},
   "outputs": [],
   "source": [
    "data['Возраст'] = data['Возраст'].astype('int')"
   ]
  },
  {
   "cell_type": "markdown",
   "metadata": {},
   "source": [
    "Также проверю колонку \"Зарплата\":"
   ]
  },
  {
   "cell_type": "code",
   "execution_count": 15,
   "metadata": {},
   "outputs": [
    {
     "data": {
      "text/plain": [
       "45800.0    28\n",
       "37100.0    27\n",
       "38800.0    26\n",
       "32800.0    26\n",
       "43200.0    25\n",
       "           ..\n",
       "67200.0     1\n",
       "69200.0     1\n",
       "14700.0     1\n",
       "60000.0     1\n",
       "68400.0     1\n",
       "Name: Зарплата, Length: 524, dtype: int64"
      ]
     },
     "execution_count": 15,
     "metadata": {},
     "output_type": "execute_result"
    }
   ],
   "source": [
    "data['Зарплата'].value_counts()"
   ]
  },
  {
   "cell_type": "markdown",
   "metadata": {},
   "source": [
    "Можно перевести в целочисленный формат:"
   ]
  },
  {
   "cell_type": "code",
   "execution_count": 16,
   "metadata": {},
   "outputs": [],
   "source": [
    "data['Зарплата'] = data['Зарплата'].astype('int')"
   ]
  },
  {
   "cell_type": "markdown",
   "metadata": {},
   "source": [
    "Проверка:"
   ]
  },
  {
   "cell_type": "code",
   "execution_count": 17,
   "metadata": {},
   "outputs": [
    {
     "data": {
      "text/plain": [
       "0"
      ]
     },
     "execution_count": 17,
     "metadata": {},
     "output_type": "execute_result"
    }
   ],
   "source": [
    "data.duplicated().sum() #есть ли дубли"
   ]
  },
  {
   "cell_type": "code",
   "execution_count": 18,
   "metadata": {
    "scrolled": true
   },
   "outputs": [
    {
     "name": "stdout",
     "output_type": "stream",
     "text": [
      "<class 'pandas.core.frame.DataFrame'>\n",
      "RangeIndex: 4847 entries, 0 to 4846\n",
      "Data columns (total 5 columns):\n",
      " #   Column             Non-Null Count  Dtype\n",
      "---  ------             --------------  -----\n",
      " 0   Пол                4847 non-null   int64\n",
      " 1   Возраст            4847 non-null   int64\n",
      " 2   Зарплата           4847 non-null   int64\n",
      " 3   Члены семьи        4847 non-null   int64\n",
      " 4   Страховые выплаты  4847 non-null   int64\n",
      "dtypes: int64(5)\n",
      "memory usage: 189.5 KB\n"
     ]
    }
   ],
   "source": [
    "data.info()"
   ]
  },
  {
   "cell_type": "markdown",
   "metadata": {},
   "source": [
    "**Промежуточный вывод:** удалены дубликаты, изменен тип данных в 2 колонках."
   ]
  },
  {
   "cell_type": "markdown",
   "metadata": {},
   "source": [
    "## Умножение матриц"
   ]
  },
  {
   "cell_type": "markdown",
   "metadata": {},
   "source": [
    "**Вопрос:** Признаки умножают на обратимую матрицу. Изменится ли качество линейной регрессии? (Её можно обучить заново.) Укажите, как связаны параметры линейной регрессии в исходной задаче и в преобразованной.\n",
    "\n",
    "\n",
    "**Ответ:** Не изменится.\n",
    "\n",
    "\n",
    "**Обоснование:** параметры линейной регрессии связаны линейным преобразованием."
   ]
  },
  {
   "cell_type": "markdown",
   "metadata": {},
   "source": [
    "Предсказания:\n",
    "\n",
    "$$\n",
    "a = Xw\n",
    "$$\n",
    "\n",
    "Задача обучения:\n",
    "\n",
    "$$\n",
    "w = \\arg\\min_w MSE(Xw, y)\n",
    "$$\n",
    "\n",
    "Формула обучения:\n",
    "\n",
    "$$\n",
    "w = (X^T X)^{-1} X^T y\n",
    "$$"
   ]
  },
  {
   "cell_type": "markdown",
   "metadata": {},
   "source": [
    "Обозначения:\n",
    "\n",
    "- $X$ — матрица признаков (нулевой столбец состоит из единиц)\n",
    "\n",
    "- $y$ — вектор целевого признака\n",
    "\n",
    "- $P$ — матрица, на которую умножаются признаки\n",
    "\n",
    "- $w$ — вектор весов линейной регрессии (нулевой элемент равен сдвигу)"
   ]
  },
  {
   "cell_type": "markdown",
   "metadata": {},
   "source": [
    "Если мы умножим матрицу признаков X на обратимую матрицу, получится новая матрица. Обозначим ее как XP (где X - признаки, P - обратимая матрица). Тогда:\n",
    "\n",
    "$$ a = Xw $$\n",
    "\n",
    "$$ a_1 = XPw_1 $$\n",
    "\n",
    "$$ w = (X^T X)^{-1} X^T y $$\n",
    "\n",
    "$$ w_1 = ((XP)^T XP)^{-1} (XP)^T y $$\n",
    "\n",
    "1. Используем свойства матриц в выражении  $ w_1 $, а также вынесем за скобки квадратную матрицу:\n",
    "\n",
    "$$ w_1 = (P^T X^T XP)^{-1} (XP)^T y $$\n",
    "\n",
    "$$ w_1 = P^{-1}(X^T X)^{-1}(P^T)^{-1} (XP)^T y $$\n",
    "\n",
    "2. Подставим выражения в формулу предсказаний. Сравним $a$ и $a_1$. Предположим, что они равны:\n",
    "\n",
    "\n",
    "$$ Xw = XPw_1 $$\n",
    "\n",
    "$$ X(X^T X)^{-1} X^T y = XP P^{-1}(X^T X)^{-1}(P^T)^{-1} (XP)^T y $$\n",
    "\n",
    "$$ X(X^T X)^{-1} X^T y = XP P^{-1}(X^T X)^{-1}(P^T)^{-1} P^T X^T y $$\n",
    "\n",
    "$$ X(X^T X)^{-1} X^T y = X E (X^T X)^{-1} E X^T y $$\n",
    "\n",
    "$$ X(X^T X)^{-1} X^T y = X(X^T X)^{-1} X^T y $$"
   ]
  },
  {
   "cell_type": "markdown",
   "metadata": {},
   "source": [
    "Левая и правая части равны. Доказано, что при умножении признаков на обратимую матрицу качество предсказаний не изменится."
   ]
  },
  {
   "cell_type": "markdown",
   "metadata": {},
   "source": [
    "**Промежуточный вывод:** качество линейной регрессии не изменится после преобразования признаков."
   ]
  },
  {
   "cell_type": "markdown",
   "metadata": {},
   "source": [
    "## Алгоритм преобразования"
   ]
  },
  {
   "cell_type": "markdown",
   "metadata": {},
   "source": [
    "**Алгоритм**\n",
    "\n",
    "1. Разделить данные на features и target.\n",
    "2. Создать рандомную обратимую матрицу и проверить ее на обратимость.\n",
    "3. Умножить features на обратимую матрицу.\n",
    "4. Разделить данные на исходные и преобразованные с помощью train_test_split.\n",
    "5. Обучить линейную регрессию на исходных данных.\n",
    "6. Обучить линейную регрессию на преобразованных данных.\n",
    "7. Вычислить предсказания на исходных данных.\n",
    "8. Вычислить предсказания на преобразованных данных.\n",
    "9. Оценить качество линейной регрессии на преобразованных и исходных данных с помощью метрики R2.\n",
    "10. Сравнить качество моделей."
   ]
  },
  {
   "cell_type": "markdown",
   "metadata": {},
   "source": [
    "**Обоснование**\n",
    "\n",
    "Качество линейной регрессии не изменится, так как это доказано в предыдущем пункте. Этот алгоритм работы поможет на практике доказать, что качество регрессии не меняется. Проверка будет для исходных и преобразованных данных."
   ]
  },
  {
   "cell_type": "markdown",
   "metadata": {},
   "source": [
    "## Проверка алгоритма"
   ]
  },
  {
   "cell_type": "markdown",
   "metadata": {},
   "source": [
    "Выделю признаки и таргет:"
   ]
  },
  {
   "cell_type": "code",
   "execution_count": 19,
   "metadata": {},
   "outputs": [],
   "source": [
    "features = data.drop(columns=['Страховые выплаты'])\n",
    "target = data['Страховые выплаты']"
   ]
  },
  {
   "cell_type": "markdown",
   "metadata": {},
   "source": [
    "Создам рандомную обратимую матрицу:"
   ]
  },
  {
   "cell_type": "code",
   "execution_count": 20,
   "metadata": {},
   "outputs": [
    {
     "data": {
      "text/plain": [
       "array([[ 0.32705799,  0.01979544,  0.16612312, -1.23887648],\n",
       "       [-0.80271904, -1.01063059,  0.52301562, -0.91824889],\n",
       "       [-3.54582345,  0.58386743,  0.58008733, -1.13815604],\n",
       "       [-2.70954661,  0.23984046, -0.15131498, -0.9194223 ]])"
      ]
     },
     "execution_count": 20,
     "metadata": {},
     "output_type": "execute_result"
    }
   ],
   "source": [
    "matrix = np.random.normal(0, 1, (4, 4)) #создание матрицы\n",
    "np.linalg.inv(matrix) # проверка на обратимость. если матрица необратима, будет ошибка"
   ]
  },
  {
   "cell_type": "markdown",
   "metadata": {},
   "source": [
    "Умножу признаки на обратимую матрицу:"
   ]
  },
  {
   "cell_type": "code",
   "execution_count": 21,
   "metadata": {},
   "outputs": [],
   "source": [
    "features_transformed = np.dot(features, matrix)"
   ]
  },
  {
   "cell_type": "markdown",
   "metadata": {},
   "source": [
    "Разделю данные для исходных данных:"
   ]
  },
  {
   "cell_type": "code",
   "execution_count": 22,
   "metadata": {},
   "outputs": [],
   "source": [
    "x_train, x_test, y_train, y_test = train_test_split(features, target, test_size=0.25, random_state=42)"
   ]
  },
  {
   "cell_type": "markdown",
   "metadata": {},
   "source": [
    "Разделю данные для трансформированных данных:"
   ]
  },
  {
   "cell_type": "code",
   "execution_count": 23,
   "metadata": {},
   "outputs": [],
   "source": [
    "x_train_transformed, x_test_transformed, y_train_transformed, y_test_transformed\\\n",
    "= train_test_split(features_transformed, target, test_size=0.25, random_state=42)"
   ]
  },
  {
   "cell_type": "markdown",
   "metadata": {},
   "source": [
    "Обучу 2 модели: на исходных данных и на трансформированных. Сравню полученную метрику R2."
   ]
  },
  {
   "cell_type": "code",
   "execution_count": 24,
   "metadata": {},
   "outputs": [
    {
     "name": "stdout",
     "output_type": "stream",
     "text": [
      "R2 на исходных данных: 0.44346331080942847\n",
      "R2 на преобразованных данных: 0.4434633108101128\n"
     ]
    }
   ],
   "source": [
    "model = LinearRegression()\n",
    "model.fit(x_train, y_train) #обучение модели на исходных данных\n",
    "\n",
    "model_transformed = LinearRegression()\n",
    "model_transformed.fit(x_train_transformed, y_train_transformed) #обучение модели на трансформированных данных\n",
    "\n",
    "# Оценка качества на исходных данных\n",
    "pred_original = model.predict(x_test)\n",
    "r2_original = r2_score(y_test, pred_original)\n",
    "\n",
    "# Оценка качества на трансформированных данных\n",
    "pred_transformed = model_transformed.predict(x_test_transformed)\n",
    "r2_transformed = r2_score(y_test_transformed, pred_transformed)\n",
    "\n",
    "print(\"R2 на исходных данных:\", r2_original)\n",
    "print(\"R2 на преобразованных данных:\", r2_transformed)"
   ]
  },
  {
   "cell_type": "markdown",
   "metadata": {},
   "source": [
    "**Промежуточный вывод:** R2 практически равны, доказано на практике, что умножение признаков на обратимую матрицу не изменит качество модели."
   ]
  },
  {
   "cell_type": "markdown",
   "metadata": {},
   "source": [
    "Для расшифровки данных я предлагаю следующий алгоритм:\n",
    "1. Сначала умножить зашифрованные данные на матрицу, обратную созданной matrix.\n",
    "2. Перевести формат расшифрованных данных в датафрейм, округлить значения.\n",
    "3. Изменить формат float в данных на int, как в исходных данных.\n",
    "4. Заменить названия колонок (0,1,2,3) на те названия, которые были у оригинального датасета.\n",
    "5. Сравнить 2 датафрейма методом equals и вывести ответ принтом."
   ]
  },
  {
   "cell_type": "code",
   "execution_count": 25,
   "metadata": {},
   "outputs": [],
   "source": [
    "features_decrypted = pd.DataFrame(np.round(features_transformed @ np.linalg.inv(matrix),0)) #умножение на обратную матрицу\n",
    "features_decrypted = features_decrypted.astype('int') #перевод в int\n",
    "\n",
    "#присвоение названий колонок\n",
    "features_decrypted = features_decrypted.rename(columns={0 : 'Пол', 1 : 'Возраст', 2 : 'Зарплата', 3 : 'Члены семьи'})"
   ]
  },
  {
   "cell_type": "code",
   "execution_count": 26,
   "metadata": {
    "scrolled": true
   },
   "outputs": [
    {
     "name": "stdout",
     "output_type": "stream",
     "text": [
      "Данные равны\n"
     ]
    }
   ],
   "source": [
    "#сравнение датафреймов\n",
    "equal = features.equals(features_decrypted)\n",
    "\n",
    "if equal:\n",
    "    print(\"Данные равны\")\n",
    "else:\n",
    "    print(\"Данные не равны\")"
   ]
  },
  {
   "cell_type": "markdown",
   "metadata": {},
   "source": [
    "**Промежуточный вывод:** Расшифровка данных прошла успешно."
   ]
  },
  {
   "cell_type": "markdown",
   "metadata": {},
   "source": [
    "## Общий вывод"
   ]
  },
  {
   "cell_type": "markdown",
   "metadata": {},
   "source": [
    "1. Была проведена предобработка данных, также данные были изучены.\n",
    "2. Приведено доказательство того, что при умножении признаков на обратимую матрицу качество регрессии не изменится.\n",
    "3. Создан алгоритм шифровки данных.\n",
    "4. Алгоритм опробован на практике. Обучены модели линейной регрессии.\n",
    "5. Рассчитана метрика R2 для моделей. Она равна 0.443 в обоих случаях.\n",
    "6. Также данные были проверены на дешифровку. Их получилось вернуть в первоначальном виде после умножения на обратную матрицу.\n",
    "\n",
    "Выявлено, что качество моделей, обученных на исходных и трансформированных данных, одинаково. А значит, метод работает и его можно использовать."
   ]
  }
 ],
 "metadata": {
  "ExecuteTimeLog": [
   {
    "duration": 459,
    "start_time": "2023-05-25T12:00:39.706Z"
   },
   {
    "duration": 3,
    "start_time": "2023-05-25T12:00:49.017Z"
   },
   {
    "duration": 87,
    "start_time": "2023-05-25T12:01:05.595Z"
   },
   {
    "duration": 23,
    "start_time": "2023-05-25T12:01:13.197Z"
   },
   {
    "duration": 12,
    "start_time": "2023-05-25T12:01:20.755Z"
   },
   {
    "duration": 72,
    "start_time": "2023-05-25T12:01:42.067Z"
   },
   {
    "duration": 9,
    "start_time": "2023-05-25T12:01:51.015Z"
   },
   {
    "duration": 71,
    "start_time": "2023-05-25T12:02:54.016Z"
   },
   {
    "duration": 464,
    "start_time": "2023-05-25T12:03:01.425Z"
   },
   {
    "duration": 3,
    "start_time": "2023-05-25T12:03:05.787Z"
   },
   {
    "duration": 3,
    "start_time": "2023-05-25T12:03:26.625Z"
   },
   {
    "duration": 330,
    "start_time": "2023-05-25T12:03:38.566Z"
   },
   {
    "duration": 385,
    "start_time": "2023-05-25T12:03:42.415Z"
   },
   {
    "duration": 383,
    "start_time": "2023-05-25T12:03:49.635Z"
   },
   {
    "duration": 369,
    "start_time": "2023-05-25T12:03:55.517Z"
   },
   {
    "duration": 280,
    "start_time": "2023-05-25T12:04:13.986Z"
   },
   {
    "duration": 282,
    "start_time": "2023-05-25T12:04:19.046Z"
   },
   {
    "duration": 159,
    "start_time": "2023-05-25T12:04:35.426Z"
   },
   {
    "duration": 20,
    "start_time": "2023-05-25T12:04:55.385Z"
   },
   {
    "duration": 11,
    "start_time": "2023-05-25T12:04:59.575Z"
   },
   {
    "duration": 5,
    "start_time": "2023-05-25T12:05:03.796Z"
   },
   {
    "duration": 5,
    "start_time": "2023-05-25T12:05:07.106Z"
   },
   {
    "duration": 152,
    "start_time": "2023-05-25T12:05:28.886Z"
   },
   {
    "duration": 144,
    "start_time": "2023-05-25T12:05:37.374Z"
   },
   {
    "duration": 117,
    "start_time": "2023-05-25T12:05:42.178Z"
   },
   {
    "duration": 6,
    "start_time": "2023-05-25T12:06:02.576Z"
   },
   {
    "duration": 6,
    "start_time": "2023-05-25T12:06:21.280Z"
   },
   {
    "duration": 135,
    "start_time": "2023-05-25T12:06:38.056Z"
   },
   {
    "duration": 126,
    "start_time": "2023-05-25T12:06:43.226Z"
   },
   {
    "duration": 142,
    "start_time": "2023-05-25T12:06:50.806Z"
   },
   {
    "duration": 113,
    "start_time": "2023-05-25T12:06:53.596Z"
   },
   {
    "duration": 198,
    "start_time": "2023-05-25T12:09:10.270Z"
   },
   {
    "duration": 112,
    "start_time": "2023-05-25T12:09:20.506Z"
   },
   {
    "duration": 146,
    "start_time": "2023-05-25T12:09:47.175Z"
   },
   {
    "duration": 126,
    "start_time": "2023-05-25T12:09:53.305Z"
   },
   {
    "duration": 149,
    "start_time": "2023-05-25T12:09:57.156Z"
   },
   {
    "duration": 171,
    "start_time": "2023-05-25T12:10:00.826Z"
   },
   {
    "duration": 7,
    "start_time": "2023-05-25T12:11:00.275Z"
   },
   {
    "duration": 7,
    "start_time": "2023-05-25T12:11:09.946Z"
   },
   {
    "duration": 6,
    "start_time": "2023-05-25T12:11:14.425Z"
   },
   {
    "duration": 7,
    "start_time": "2023-05-25T12:11:21.675Z"
   },
   {
    "duration": 7,
    "start_time": "2023-05-25T12:11:26.105Z"
   },
   {
    "duration": 7,
    "start_time": "2023-05-25T12:13:24.405Z"
   },
   {
    "duration": 173,
    "start_time": "2023-05-25T12:14:11.378Z"
   },
   {
    "duration": 8,
    "start_time": "2023-05-25T12:14:41.175Z"
   },
   {
    "duration": 174,
    "start_time": "2023-05-25T12:14:46.645Z"
   },
   {
    "duration": 173,
    "start_time": "2023-05-25T12:14:50.555Z"
   },
   {
    "duration": 23,
    "start_time": "2023-05-25T12:15:06.126Z"
   },
   {
    "duration": 0,
    "start_time": "2023-05-25T12:18:05.029Z"
   },
   {
    "duration": 334,
    "start_time": "2023-05-25T12:20:52.058Z"
   },
   {
    "duration": 7,
    "start_time": "2023-05-25T12:25:00.095Z"
   },
   {
    "duration": 8,
    "start_time": "2023-05-25T12:25:47.384Z"
   },
   {
    "duration": 3,
    "start_time": "2023-05-25T12:27:15.096Z"
   },
   {
    "duration": 7,
    "start_time": "2023-05-25T12:27:48.079Z"
   },
   {
    "duration": 5,
    "start_time": "2023-05-25T12:28:31.595Z"
   },
   {
    "duration": 6,
    "start_time": "2023-05-25T12:29:02.035Z"
   },
   {
    "duration": 11,
    "start_time": "2023-05-25T12:29:12.544Z"
   },
   {
    "duration": 705,
    "start_time": "2023-05-25T12:30:04.216Z"
   },
   {
    "duration": 29,
    "start_time": "2023-05-25T12:30:04.923Z"
   },
   {
    "duration": 14,
    "start_time": "2023-05-25T12:30:04.953Z"
   },
   {
    "duration": 11,
    "start_time": "2023-05-25T12:30:04.969Z"
   },
   {
    "duration": 6,
    "start_time": "2023-05-25T12:30:04.982Z"
   },
   {
    "duration": 140,
    "start_time": "2023-05-25T12:30:04.989Z"
   },
   {
    "duration": 149,
    "start_time": "2023-05-25T12:30:05.131Z"
   },
   {
    "duration": 152,
    "start_time": "2023-05-25T12:30:05.282Z"
   },
   {
    "duration": 124,
    "start_time": "2023-05-25T12:30:05.436Z"
   },
   {
    "duration": 7,
    "start_time": "2023-05-25T12:30:05.562Z"
   },
   {
    "duration": 13,
    "start_time": "2023-05-25T12:30:05.571Z"
   },
   {
    "duration": 5,
    "start_time": "2023-05-25T12:30:05.586Z"
   },
   {
    "duration": 6,
    "start_time": "2023-05-25T12:30:05.593Z"
   },
   {
    "duration": 4,
    "start_time": "2023-05-25T12:30:05.626Z"
   },
   {
    "duration": 48,
    "start_time": "2023-05-25T12:30:05.632Z"
   },
   {
    "duration": 25,
    "start_time": "2023-05-25T12:30:05.681Z"
   },
   {
    "duration": 12,
    "start_time": "2023-05-25T12:30:05.708Z"
   },
   {
    "duration": 14,
    "start_time": "2023-05-25T12:30:05.722Z"
   },
   {
    "duration": 2,
    "start_time": "2023-05-25T12:32:29.055Z"
   },
   {
    "duration": 171,
    "start_time": "2023-05-25T12:32:32.172Z"
   },
   {
    "duration": 140,
    "start_time": "2023-05-25T12:32:33.674Z"
   },
   {
    "duration": 139,
    "start_time": "2023-05-25T12:32:35.314Z"
   },
   {
    "duration": 140,
    "start_time": "2023-05-25T12:32:36.734Z"
   },
   {
    "duration": 380,
    "start_time": "2023-05-25T12:32:44.086Z"
   },
   {
    "duration": 32,
    "start_time": "2023-05-25T12:32:44.467Z"
   },
   {
    "duration": 17,
    "start_time": "2023-05-25T12:32:44.501Z"
   },
   {
    "duration": 12,
    "start_time": "2023-05-25T12:32:44.520Z"
   },
   {
    "duration": 6,
    "start_time": "2023-05-25T12:32:44.534Z"
   },
   {
    "duration": 461,
    "start_time": "2023-05-25T12:32:44.542Z"
   },
   {
    "duration": 155,
    "start_time": "2023-05-25T12:32:45.006Z"
   },
   {
    "duration": 154,
    "start_time": "2023-05-25T12:32:45.163Z"
   },
   {
    "duration": 125,
    "start_time": "2023-05-25T12:32:45.324Z"
   },
   {
    "duration": 6,
    "start_time": "2023-05-25T12:32:45.451Z"
   },
   {
    "duration": 10,
    "start_time": "2023-05-25T12:32:45.458Z"
   },
   {
    "duration": 11,
    "start_time": "2023-05-25T12:32:45.470Z"
   },
   {
    "duration": 7,
    "start_time": "2023-05-25T12:32:45.483Z"
   },
   {
    "duration": 11,
    "start_time": "2023-05-25T12:32:45.493Z"
   },
   {
    "duration": 23,
    "start_time": "2023-05-25T12:32:45.505Z"
   },
   {
    "duration": 3,
    "start_time": "2023-05-25T12:32:45.530Z"
   },
   {
    "duration": 9,
    "start_time": "2023-05-25T12:32:45.535Z"
   },
   {
    "duration": 24,
    "start_time": "2023-05-25T12:32:45.546Z"
   },
   {
    "duration": 102,
    "start_time": "2023-05-25T12:33:51.304Z"
   },
   {
    "duration": 5,
    "start_time": "2023-05-25T12:33:54.584Z"
   },
   {
    "duration": 7,
    "start_time": "2023-05-25T12:34:22.504Z"
   },
   {
    "duration": 82,
    "start_time": "2023-05-25T19:34:00.802Z"
   },
   {
    "duration": 1514,
    "start_time": "2023-05-25T20:11:53.656Z"
   },
   {
    "duration": 159,
    "start_time": "2023-05-25T20:14:05.267Z"
   },
   {
    "duration": 1215,
    "start_time": "2023-05-25T20:14:14.950Z"
   },
   {
    "duration": 74,
    "start_time": "2023-05-25T20:14:16.167Z"
   },
   {
    "duration": 23,
    "start_time": "2023-05-25T20:14:16.243Z"
   },
   {
    "duration": 15,
    "start_time": "2023-05-25T20:14:16.268Z"
   },
   {
    "duration": 8,
    "start_time": "2023-05-25T20:14:16.285Z"
   },
   {
    "duration": 632,
    "start_time": "2023-05-25T20:14:16.295Z"
   },
   {
    "duration": 183,
    "start_time": "2023-05-25T20:14:16.929Z"
   },
   {
    "duration": 162,
    "start_time": "2023-05-25T20:14:17.114Z"
   },
   {
    "duration": 221,
    "start_time": "2023-05-25T20:14:17.279Z"
   },
   {
    "duration": 22,
    "start_time": "2023-05-25T20:14:17.503Z"
   },
   {
    "duration": 9,
    "start_time": "2023-05-25T20:14:17.527Z"
   },
   {
    "duration": 21,
    "start_time": "2023-05-25T20:14:17.538Z"
   },
   {
    "duration": 20,
    "start_time": "2023-05-25T20:14:17.564Z"
   },
   {
    "duration": 12,
    "start_time": "2023-05-25T20:14:17.589Z"
   },
   {
    "duration": 34,
    "start_time": "2023-05-25T20:14:17.603Z"
   },
   {
    "duration": 32,
    "start_time": "2023-05-25T20:14:17.639Z"
   },
   {
    "duration": 22,
    "start_time": "2023-05-25T20:14:17.673Z"
   },
   {
    "duration": 29,
    "start_time": "2023-05-25T20:14:17.698Z"
   },
   {
    "duration": 23,
    "start_time": "2023-05-25T20:14:17.730Z"
   },
   {
    "duration": 182,
    "start_time": "2023-05-25T20:14:17.756Z"
   },
   {
    "duration": 5,
    "start_time": "2023-05-25T20:15:51.084Z"
   },
   {
    "duration": 3,
    "start_time": "2023-05-25T20:18:49.578Z"
   },
   {
    "duration": 9,
    "start_time": "2023-05-25T20:19:46.656Z"
   },
   {
    "duration": 5,
    "start_time": "2023-05-25T20:20:25.287Z"
   },
   {
    "duration": 6,
    "start_time": "2023-05-25T20:25:06.979Z"
   },
   {
    "duration": 4,
    "start_time": "2023-05-25T20:25:10.079Z"
   },
   {
    "duration": 212,
    "start_time": "2023-05-25T20:27:14.958Z"
   },
   {
    "duration": 110,
    "start_time": "2023-05-25T20:27:33.488Z"
   },
   {
    "duration": 95,
    "start_time": "2023-05-25T20:27:37.514Z"
   },
   {
    "duration": 347791,
    "start_time": "2023-05-25T20:27:50.037Z"
   },
   {
    "duration": 5,
    "start_time": "2023-05-25T20:39:17.529Z"
   },
   {
    "duration": 0,
    "start_time": "2023-05-25T20:46:17.362Z"
   },
   {
    "duration": 1203,
    "start_time": "2023-05-25T20:47:13.787Z"
   },
   {
    "duration": 1156,
    "start_time": "2023-05-25T20:48:09.864Z"
   },
   {
    "duration": 6,
    "start_time": "2023-05-25T20:48:48.456Z"
   },
   {
    "duration": 382581,
    "start_time": "2023-05-25T20:49:12.888Z"
   },
   {
    "duration": 1224,
    "start_time": "2023-05-26T16:24:29.929Z"
   },
   {
    "duration": 76,
    "start_time": "2023-05-26T16:24:31.155Z"
   },
   {
    "duration": 18,
    "start_time": "2023-05-26T16:24:31.233Z"
   },
   {
    "duration": 22,
    "start_time": "2023-05-26T16:24:31.253Z"
   },
   {
    "duration": 45,
    "start_time": "2023-05-26T16:24:31.277Z"
   },
   {
    "duration": 662,
    "start_time": "2023-05-26T16:24:31.324Z"
   },
   {
    "duration": 187,
    "start_time": "2023-05-26T16:24:31.987Z"
   },
   {
    "duration": 149,
    "start_time": "2023-05-26T16:24:32.176Z"
   },
   {
    "duration": 134,
    "start_time": "2023-05-26T16:24:32.327Z"
   },
   {
    "duration": 9,
    "start_time": "2023-05-26T16:24:32.464Z"
   },
   {
    "duration": 27,
    "start_time": "2023-05-26T16:24:32.474Z"
   },
   {
    "duration": 10,
    "start_time": "2023-05-26T16:24:32.503Z"
   },
   {
    "duration": 28,
    "start_time": "2023-05-26T16:24:32.514Z"
   },
   {
    "duration": 18,
    "start_time": "2023-05-26T16:24:32.544Z"
   },
   {
    "duration": 26,
    "start_time": "2023-05-26T16:24:32.564Z"
   },
   {
    "duration": 33,
    "start_time": "2023-05-26T16:24:32.592Z"
   },
   {
    "duration": 9,
    "start_time": "2023-05-26T16:24:32.627Z"
   },
   {
    "duration": 16,
    "start_time": "2023-05-26T16:24:32.638Z"
   },
   {
    "duration": 5,
    "start_time": "2023-05-26T16:24:32.656Z"
   },
   {
    "duration": 197,
    "start_time": "2023-05-26T16:25:40.746Z"
   },
   {
    "duration": 6,
    "start_time": "2023-05-26T16:26:39.166Z"
   },
   {
    "duration": 3,
    "start_time": "2023-05-26T16:26:42.126Z"
   },
   {
    "duration": 10,
    "start_time": "2023-05-26T16:26:53.316Z"
   },
   {
    "duration": 5,
    "start_time": "2023-05-26T16:26:58.897Z"
   },
   {
    "duration": 4,
    "start_time": "2023-05-26T16:46:16.056Z"
   },
   {
    "duration": 4,
    "start_time": "2023-05-26T16:46:17.405Z"
   },
   {
    "duration": 3,
    "start_time": "2023-05-26T16:46:19.566Z"
   },
   {
    "duration": 4,
    "start_time": "2023-05-26T16:46:21.553Z"
   },
   {
    "duration": 6,
    "start_time": "2023-05-26T16:47:30.086Z"
   },
   {
    "duration": 5,
    "start_time": "2023-05-26T16:47:31.797Z"
   },
   {
    "duration": 14,
    "start_time": "2023-05-26T16:48:27.171Z"
   },
   {
    "duration": 3,
    "start_time": "2023-05-26T16:50:51.780Z"
   },
   {
    "duration": 4,
    "start_time": "2023-05-26T16:50:52.605Z"
   },
   {
    "duration": 4,
    "start_time": "2023-05-26T16:50:54.188Z"
   },
   {
    "duration": 5,
    "start_time": "2023-05-26T16:50:55.486Z"
   },
   {
    "duration": 5,
    "start_time": "2023-05-26T16:50:56.221Z"
   },
   {
    "duration": 22,
    "start_time": "2023-05-26T16:50:57.237Z"
   },
   {
    "duration": 11,
    "start_time": "2023-05-26T16:53:09.416Z"
   },
   {
    "duration": 6,
    "start_time": "2023-05-26T17:09:36.702Z"
   },
   {
    "duration": 4,
    "start_time": "2023-05-26T17:09:59.077Z"
   },
   {
    "duration": 6,
    "start_time": "2023-05-26T17:10:03.633Z"
   },
   {
    "duration": 4,
    "start_time": "2023-05-26T17:10:04.397Z"
   },
   {
    "duration": 12,
    "start_time": "2023-05-26T17:10:05.086Z"
   },
   {
    "duration": 5,
    "start_time": "2023-05-26T17:10:25.281Z"
   },
   {
    "duration": 1128,
    "start_time": "2023-05-26T17:14:50.934Z"
   },
   {
    "duration": 28,
    "start_time": "2023-05-26T17:14:52.064Z"
   },
   {
    "duration": 15,
    "start_time": "2023-05-26T17:14:52.094Z"
   },
   {
    "duration": 23,
    "start_time": "2023-05-26T17:14:52.111Z"
   },
   {
    "duration": 41,
    "start_time": "2023-05-26T17:14:52.136Z"
   },
   {
    "duration": 418,
    "start_time": "2023-05-26T17:14:52.179Z"
   },
   {
    "duration": 138,
    "start_time": "2023-05-26T17:14:52.598Z"
   },
   {
    "duration": 144,
    "start_time": "2023-05-26T17:14:52.741Z"
   },
   {
    "duration": 139,
    "start_time": "2023-05-26T17:14:52.887Z"
   },
   {
    "duration": 22,
    "start_time": "2023-05-26T17:14:53.028Z"
   },
   {
    "duration": 17,
    "start_time": "2023-05-26T17:14:53.055Z"
   },
   {
    "duration": 19,
    "start_time": "2023-05-26T17:14:53.073Z"
   },
   {
    "duration": 15,
    "start_time": "2023-05-26T17:14:53.094Z"
   },
   {
    "duration": 8,
    "start_time": "2023-05-26T17:14:53.112Z"
   },
   {
    "duration": 9,
    "start_time": "2023-05-26T17:14:53.121Z"
   },
   {
    "duration": 7,
    "start_time": "2023-05-26T17:14:53.132Z"
   },
   {
    "duration": 27,
    "start_time": "2023-05-26T17:14:53.141Z"
   },
   {
    "duration": 16,
    "start_time": "2023-05-26T17:14:53.171Z"
   },
   {
    "duration": 4,
    "start_time": "2023-05-26T17:14:53.189Z"
   },
   {
    "duration": 8,
    "start_time": "2023-05-26T17:14:53.194Z"
   },
   {
    "duration": 40,
    "start_time": "2023-05-26T17:14:53.204Z"
   },
   {
    "duration": 27,
    "start_time": "2023-05-26T17:14:53.248Z"
   },
   {
    "duration": 19,
    "start_time": "2023-05-26T17:14:53.342Z"
   },
   {
    "duration": 28,
    "start_time": "2023-05-26T17:14:53.363Z"
   },
   {
    "duration": 1107,
    "start_time": "2023-05-26T18:27:41.342Z"
   },
   {
    "duration": 28,
    "start_time": "2023-05-26T18:27:42.451Z"
   },
   {
    "duration": 18,
    "start_time": "2023-05-26T18:27:42.481Z"
   },
   {
    "duration": 12,
    "start_time": "2023-05-26T18:27:42.500Z"
   },
   {
    "duration": 8,
    "start_time": "2023-05-26T18:27:42.514Z"
   },
   {
    "duration": 395,
    "start_time": "2023-05-26T18:27:42.523Z"
   },
   {
    "duration": 153,
    "start_time": "2023-05-26T18:27:42.920Z"
   },
   {
    "duration": 136,
    "start_time": "2023-05-26T18:27:43.074Z"
   },
   {
    "duration": 124,
    "start_time": "2023-05-26T18:27:43.212Z"
   },
   {
    "duration": 9,
    "start_time": "2023-05-26T18:27:43.338Z"
   },
   {
    "duration": 6,
    "start_time": "2023-05-26T18:27:43.349Z"
   },
   {
    "duration": 7,
    "start_time": "2023-05-26T18:27:43.356Z"
   },
   {
    "duration": 10,
    "start_time": "2023-05-26T18:27:43.365Z"
   },
   {
    "duration": 7,
    "start_time": "2023-05-26T18:27:43.377Z"
   },
   {
    "duration": 11,
    "start_time": "2023-05-26T18:27:43.385Z"
   },
   {
    "duration": 3,
    "start_time": "2023-05-26T18:27:43.398Z"
   },
   {
    "duration": 42,
    "start_time": "2023-05-26T18:27:43.403Z"
   },
   {
    "duration": 11,
    "start_time": "2023-05-26T18:27:43.446Z"
   },
   {
    "duration": 11,
    "start_time": "2023-05-26T18:27:43.459Z"
   },
   {
    "duration": 9,
    "start_time": "2023-05-26T18:27:43.472Z"
   },
   {
    "duration": 59,
    "start_time": "2023-05-26T18:27:43.483Z"
   },
   {
    "duration": 7,
    "start_time": "2023-05-26T18:27:43.544Z"
   },
   {
    "duration": 5,
    "start_time": "2023-05-26T18:27:43.553Z"
   },
   {
    "duration": 91,
    "start_time": "2023-05-26T18:27:43.560Z"
   },
   {
    "duration": 1052,
    "start_time": "2023-05-26T18:33:44.443Z"
   },
   {
    "duration": 29,
    "start_time": "2023-05-26T18:33:45.497Z"
   },
   {
    "duration": 16,
    "start_time": "2023-05-26T18:33:45.528Z"
   },
   {
    "duration": 13,
    "start_time": "2023-05-26T18:33:45.545Z"
   },
   {
    "duration": 9,
    "start_time": "2023-05-26T18:33:45.560Z"
   },
   {
    "duration": 373,
    "start_time": "2023-05-26T18:33:45.570Z"
   },
   {
    "duration": 130,
    "start_time": "2023-05-26T18:33:45.945Z"
   },
   {
    "duration": 137,
    "start_time": "2023-05-26T18:33:46.077Z"
   },
   {
    "duration": 109,
    "start_time": "2023-05-26T18:33:46.216Z"
   },
   {
    "duration": 6,
    "start_time": "2023-05-26T18:33:46.326Z"
   },
   {
    "duration": 4,
    "start_time": "2023-05-26T18:33:46.342Z"
   },
   {
    "duration": 9,
    "start_time": "2023-05-26T18:33:46.348Z"
   },
   {
    "duration": 9,
    "start_time": "2023-05-26T18:33:46.359Z"
   },
   {
    "duration": 3,
    "start_time": "2023-05-26T18:33:46.370Z"
   },
   {
    "duration": 7,
    "start_time": "2023-05-26T18:33:46.375Z"
   },
   {
    "duration": 3,
    "start_time": "2023-05-26T18:33:46.384Z"
   },
   {
    "duration": 9,
    "start_time": "2023-05-26T18:33:46.388Z"
   },
   {
    "duration": 10,
    "start_time": "2023-05-26T18:33:46.398Z"
   },
   {
    "duration": 31,
    "start_time": "2023-05-26T18:33:46.410Z"
   },
   {
    "duration": 5,
    "start_time": "2023-05-26T18:33:46.443Z"
   },
   {
    "duration": 7,
    "start_time": "2023-05-26T18:33:46.450Z"
   },
   {
    "duration": 84,
    "start_time": "2023-05-26T18:33:46.459Z"
   },
   {
    "duration": 4,
    "start_time": "2023-05-26T18:33:46.545Z"
   },
   {
    "duration": 95,
    "start_time": "2023-05-26T18:33:46.551Z"
   },
   {
    "duration": 1110,
    "start_time": "2023-05-26T18:39:19.522Z"
   },
   {
    "duration": 29,
    "start_time": "2023-05-26T18:39:20.634Z"
   },
   {
    "duration": 16,
    "start_time": "2023-05-26T18:39:20.665Z"
   },
   {
    "duration": 11,
    "start_time": "2023-05-26T18:39:20.684Z"
   },
   {
    "duration": 5,
    "start_time": "2023-05-26T18:39:20.696Z"
   },
   {
    "duration": 392,
    "start_time": "2023-05-26T18:39:20.703Z"
   },
   {
    "duration": 143,
    "start_time": "2023-05-26T18:39:21.097Z"
   },
   {
    "duration": 141,
    "start_time": "2023-05-26T18:39:21.242Z"
   },
   {
    "duration": 122,
    "start_time": "2023-05-26T18:39:21.385Z"
   },
   {
    "duration": 6,
    "start_time": "2023-05-26T18:39:21.510Z"
   },
   {
    "duration": 9,
    "start_time": "2023-05-26T18:39:21.518Z"
   },
   {
    "duration": 4,
    "start_time": "2023-05-26T18:39:21.542Z"
   },
   {
    "duration": 10,
    "start_time": "2023-05-26T18:39:21.548Z"
   },
   {
    "duration": 8,
    "start_time": "2023-05-26T18:39:21.560Z"
   },
   {
    "duration": 9,
    "start_time": "2023-05-26T18:39:21.569Z"
   },
   {
    "duration": 8,
    "start_time": "2023-05-26T18:39:21.579Z"
   },
   {
    "duration": 11,
    "start_time": "2023-05-26T18:39:21.588Z"
   },
   {
    "duration": 13,
    "start_time": "2023-05-26T18:39:21.601Z"
   },
   {
    "duration": 4,
    "start_time": "2023-05-26T18:39:21.616Z"
   },
   {
    "duration": 23,
    "start_time": "2023-05-26T18:39:21.622Z"
   },
   {
    "duration": 9,
    "start_time": "2023-05-26T18:39:21.646Z"
   },
   {
    "duration": 87,
    "start_time": "2023-05-26T18:39:21.657Z"
   },
   {
    "duration": 4,
    "start_time": "2023-05-26T18:39:21.746Z"
   },
   {
    "duration": 15,
    "start_time": "2023-05-26T18:39:21.753Z"
   },
   {
    "duration": 5817,
    "start_time": "2023-05-26T22:52:28.878Z"
   },
   {
    "duration": 205,
    "start_time": "2023-05-26T22:52:34.781Z"
   },
   {
    "duration": 107,
    "start_time": "2023-05-26T22:52:34.991Z"
   },
   {
    "duration": 17,
    "start_time": "2023-05-26T22:52:35.181Z"
   },
   {
    "duration": 15,
    "start_time": "2023-05-26T22:52:35.281Z"
   },
   {
    "duration": 2187,
    "start_time": "2023-05-26T22:52:35.297Z"
   },
   {
    "duration": 902,
    "start_time": "2023-05-26T22:52:37.490Z"
   },
   {
    "duration": 814,
    "start_time": "2023-05-26T22:52:38.476Z"
   },
   {
    "duration": 785,
    "start_time": "2023-05-26T22:52:39.295Z"
   },
   {
    "duration": 10,
    "start_time": "2023-05-26T22:52:40.081Z"
   },
   {
    "duration": 106,
    "start_time": "2023-05-26T22:52:40.095Z"
   },
   {
    "duration": 87,
    "start_time": "2023-05-26T22:52:40.203Z"
   },
   {
    "duration": 93,
    "start_time": "2023-05-26T22:52:40.292Z"
   },
   {
    "duration": 4,
    "start_time": "2023-05-26T22:52:40.478Z"
   },
   {
    "duration": 12,
    "start_time": "2023-05-26T22:52:40.485Z"
   },
   {
    "duration": 13,
    "start_time": "2023-05-26T22:52:40.583Z"
   },
   {
    "duration": 85,
    "start_time": "2023-05-26T22:52:40.598Z"
   },
   {
    "duration": 12,
    "start_time": "2023-05-26T22:52:40.685Z"
   },
   {
    "duration": 8,
    "start_time": "2023-05-26T22:52:40.780Z"
   },
   {
    "duration": 99,
    "start_time": "2023-05-26T22:52:40.794Z"
   },
   {
    "duration": 81,
    "start_time": "2023-05-26T22:52:40.898Z"
   },
   {
    "duration": 15,
    "start_time": "2023-05-26T22:52:40.981Z"
   },
   {
    "duration": 414,
    "start_time": "2023-05-26T22:52:41.078Z"
   },
   {
    "duration": 103,
    "start_time": "2023-05-26T22:52:41.494Z"
   },
   {
    "duration": 1131,
    "start_time": "2023-05-27T14:52:40.487Z"
   },
   {
    "duration": 132,
    "start_time": "2023-05-27T14:52:41.620Z"
   },
   {
    "duration": 21,
    "start_time": "2023-05-27T14:52:41.754Z"
   },
   {
    "duration": 14,
    "start_time": "2023-05-27T14:52:41.778Z"
   },
   {
    "duration": 6,
    "start_time": "2023-05-27T14:52:41.794Z"
   },
   {
    "duration": 581,
    "start_time": "2023-05-27T14:52:41.802Z"
   },
   {
    "duration": 167,
    "start_time": "2023-05-27T14:52:42.384Z"
   },
   {
    "duration": 139,
    "start_time": "2023-05-27T14:52:42.553Z"
   },
   {
    "duration": 125,
    "start_time": "2023-05-27T14:52:42.694Z"
   },
   {
    "duration": 9,
    "start_time": "2023-05-27T14:52:42.823Z"
   },
   {
    "duration": 20,
    "start_time": "2023-05-27T14:52:42.834Z"
   },
   {
    "duration": 5,
    "start_time": "2023-05-27T14:52:42.855Z"
   },
   {
    "duration": 8,
    "start_time": "2023-05-27T14:52:42.862Z"
   },
   {
    "duration": 4,
    "start_time": "2023-05-27T14:52:42.871Z"
   },
   {
    "duration": 7,
    "start_time": "2023-05-27T14:52:42.876Z"
   },
   {
    "duration": 4,
    "start_time": "2023-05-27T14:52:42.885Z"
   },
   {
    "duration": 7,
    "start_time": "2023-05-27T14:52:42.890Z"
   },
   {
    "duration": 52,
    "start_time": "2023-05-27T14:52:42.898Z"
   },
   {
    "duration": 5,
    "start_time": "2023-05-27T14:52:42.952Z"
   },
   {
    "duration": 9,
    "start_time": "2023-05-27T14:52:42.959Z"
   },
   {
    "duration": 5,
    "start_time": "2023-05-27T14:52:42.969Z"
   },
   {
    "duration": 83,
    "start_time": "2023-05-27T14:52:42.975Z"
   },
   {
    "duration": 90,
    "start_time": "2023-05-27T14:52:43.064Z"
   },
   {
    "duration": 17,
    "start_time": "2023-05-27T14:52:43.156Z"
   },
   {
    "duration": 3,
    "start_time": "2023-05-27T14:54:17.767Z"
   },
   {
    "duration": 5,
    "start_time": "2023-05-27T14:56:17.780Z"
   },
   {
    "duration": 4,
    "start_time": "2023-05-27T14:58:02.826Z"
   },
   {
    "duration": 4,
    "start_time": "2023-05-27T14:59:03.116Z"
   },
   {
    "duration": 4,
    "start_time": "2023-05-27T14:59:10.346Z"
   },
   {
    "duration": 3,
    "start_time": "2023-05-27T14:59:42.636Z"
   },
   {
    "duration": 4,
    "start_time": "2023-05-27T14:59:43.960Z"
   },
   {
    "duration": 13,
    "start_time": "2023-05-27T15:00:43.607Z"
   },
   {
    "duration": 8,
    "start_time": "2023-05-27T15:00:53.260Z"
   },
   {
    "duration": 5,
    "start_time": "2023-05-27T15:01:41.226Z"
   },
   {
    "duration": 3,
    "start_time": "2023-05-27T15:01:43.797Z"
   },
   {
    "duration": 8,
    "start_time": "2023-05-27T15:01:46.477Z"
   },
   {
    "duration": 8,
    "start_time": "2023-05-27T15:01:48.889Z"
   },
   {
    "duration": 4,
    "start_time": "2023-05-27T15:03:20.706Z"
   },
   {
    "duration": 4,
    "start_time": "2023-05-27T15:03:21.986Z"
   },
   {
    "duration": 136,
    "start_time": "2023-05-27T15:03:39.447Z"
   },
   {
    "duration": 12,
    "start_time": "2023-05-27T15:03:46.968Z"
   },
   {
    "duration": 4,
    "start_time": "2023-05-27T15:04:08.086Z"
   },
   {
    "duration": 4,
    "start_time": "2023-05-27T15:04:09.972Z"
   },
   {
    "duration": 13,
    "start_time": "2023-05-27T15:04:12.583Z"
   },
   {
    "duration": 5,
    "start_time": "2023-05-27T15:04:19.173Z"
   },
   {
    "duration": 4,
    "start_time": "2023-05-27T15:04:35.570Z"
   },
   {
    "duration": 4,
    "start_time": "2023-05-27T15:04:37.116Z"
   },
   {
    "duration": 14,
    "start_time": "2023-05-27T15:04:38.938Z"
   },
   {
    "duration": 9,
    "start_time": "2023-05-27T15:04:44.696Z"
   },
   {
    "duration": 9,
    "start_time": "2023-05-27T15:04:47.829Z"
   },
   {
    "duration": 16,
    "start_time": "2023-05-27T15:05:08.267Z"
   },
   {
    "duration": 5,
    "start_time": "2023-05-27T15:05:41.715Z"
   },
   {
    "duration": 4,
    "start_time": "2023-05-27T15:05:43.669Z"
   },
   {
    "duration": 7,
    "start_time": "2023-05-27T15:05:45.574Z"
   },
   {
    "duration": 7,
    "start_time": "2023-05-27T15:05:47.773Z"
   },
   {
    "duration": 6,
    "start_time": "2023-05-27T15:06:23.425Z"
   },
   {
    "duration": 8,
    "start_time": "2023-05-27T15:06:25.495Z"
   },
   {
    "duration": 7,
    "start_time": "2023-05-27T15:06:28.872Z"
   },
   {
    "duration": 14,
    "start_time": "2023-05-27T15:07:28.226Z"
   },
   {
    "duration": 4,
    "start_time": "2023-05-27T15:07:30.185Z"
   },
   {
    "duration": 7,
    "start_time": "2023-05-27T15:07:31.968Z"
   },
   {
    "duration": 8,
    "start_time": "2023-05-27T15:08:16.044Z"
   },
   {
    "duration": 7,
    "start_time": "2023-05-27T15:08:19.686Z"
   },
   {
    "duration": 6,
    "start_time": "2023-05-27T15:08:36.276Z"
   },
   {
    "duration": 4,
    "start_time": "2023-05-27T15:08:38.791Z"
   },
   {
    "duration": 10,
    "start_time": "2023-05-27T15:08:40.410Z"
   },
   {
    "duration": 6,
    "start_time": "2023-05-27T15:10:38.286Z"
   },
   {
    "duration": 5,
    "start_time": "2023-05-27T15:10:39.235Z"
   },
   {
    "duration": 10,
    "start_time": "2023-05-27T15:10:40.498Z"
   },
   {
    "duration": 6,
    "start_time": "2023-05-27T15:10:41.901Z"
   },
   {
    "duration": 4,
    "start_time": "2023-05-27T15:14:25.085Z"
   },
   {
    "duration": 100,
    "start_time": "2023-05-27T15:20:35.805Z"
   },
   {
    "duration": 1247,
    "start_time": "2023-05-27T15:20:51.779Z"
   },
   {
    "duration": 30,
    "start_time": "2023-05-27T15:20:53.029Z"
   },
   {
    "duration": 21,
    "start_time": "2023-05-27T15:20:53.061Z"
   },
   {
    "duration": 11,
    "start_time": "2023-05-27T15:20:53.084Z"
   },
   {
    "duration": 9,
    "start_time": "2023-05-27T15:20:53.097Z"
   },
   {
    "duration": 429,
    "start_time": "2023-05-27T15:20:53.108Z"
   },
   {
    "duration": 167,
    "start_time": "2023-05-27T15:20:53.539Z"
   },
   {
    "duration": 161,
    "start_time": "2023-05-27T15:20:53.708Z"
   },
   {
    "duration": 147,
    "start_time": "2023-05-27T15:20:53.872Z"
   },
   {
    "duration": 9,
    "start_time": "2023-05-27T15:20:54.029Z"
   },
   {
    "duration": 13,
    "start_time": "2023-05-27T15:20:54.040Z"
   },
   {
    "duration": 6,
    "start_time": "2023-05-27T15:20:54.056Z"
   },
   {
    "duration": 10,
    "start_time": "2023-05-27T15:20:54.064Z"
   },
   {
    "duration": 5,
    "start_time": "2023-05-27T15:20:54.076Z"
   },
   {
    "duration": 9,
    "start_time": "2023-05-27T15:20:54.083Z"
   },
   {
    "duration": 6,
    "start_time": "2023-05-27T15:20:54.094Z"
   },
   {
    "duration": 53,
    "start_time": "2023-05-27T15:20:54.101Z"
   },
   {
    "duration": 17,
    "start_time": "2023-05-27T15:20:54.156Z"
   },
   {
    "duration": 5,
    "start_time": "2023-05-27T15:20:54.176Z"
   },
   {
    "duration": 64,
    "start_time": "2023-05-27T15:20:54.186Z"
   },
   {
    "duration": 8,
    "start_time": "2023-05-27T15:20:54.253Z"
   },
   {
    "duration": 17,
    "start_time": "2023-05-27T15:20:54.263Z"
   },
   {
    "duration": 75,
    "start_time": "2023-05-27T15:20:54.284Z"
   },
   {
    "duration": 17,
    "start_time": "2023-05-27T15:20:54.361Z"
   },
   {
    "duration": 15,
    "start_time": "2023-05-27T15:20:54.379Z"
   },
   {
    "duration": 55,
    "start_time": "2023-05-27T15:20:54.396Z"
   },
   {
    "duration": 4,
    "start_time": "2023-05-27T15:24:29.292Z"
   },
   {
    "duration": 212,
    "start_time": "2023-05-27T15:25:14.395Z"
   },
   {
    "duration": 169,
    "start_time": "2023-05-27T15:25:23.155Z"
   },
   {
    "duration": 267,
    "start_time": "2023-05-27T15:25:34.155Z"
   },
   {
    "duration": 199,
    "start_time": "2023-05-27T15:25:42.055Z"
   },
   {
    "duration": 127,
    "start_time": "2023-05-27T15:25:46.215Z"
   },
   {
    "duration": 136,
    "start_time": "2023-05-27T15:25:50.594Z"
   },
   {
    "duration": 174,
    "start_time": "2023-05-27T15:26:10.408Z"
   },
   {
    "duration": 144,
    "start_time": "2023-05-27T15:26:35.698Z"
   },
   {
    "duration": 173,
    "start_time": "2023-05-27T15:27:01.656Z"
   },
   {
    "duration": 12,
    "start_time": "2023-05-27T15:36:18.411Z"
   },
   {
    "duration": 11,
    "start_time": "2023-05-27T15:36:28.401Z"
   },
   {
    "duration": 1426,
    "start_time": "2023-05-27T17:29:29.240Z"
   },
   {
    "duration": 28,
    "start_time": "2023-05-27T17:29:30.668Z"
   },
   {
    "duration": 16,
    "start_time": "2023-05-27T17:29:30.698Z"
   },
   {
    "duration": 33,
    "start_time": "2023-05-27T17:29:30.716Z"
   },
   {
    "duration": 45,
    "start_time": "2023-05-27T17:29:30.753Z"
   },
   {
    "duration": 186,
    "start_time": "2023-05-27T17:29:30.800Z"
   },
   {
    "duration": 200,
    "start_time": "2023-05-27T17:29:30.988Z"
   },
   {
    "duration": 162,
    "start_time": "2023-05-27T17:29:31.190Z"
   },
   {
    "duration": 163,
    "start_time": "2023-05-27T17:29:31.353Z"
   },
   {
    "duration": 7,
    "start_time": "2023-05-27T17:29:31.518Z"
   },
   {
    "duration": 24,
    "start_time": "2023-05-27T17:29:31.526Z"
   },
   {
    "duration": 7,
    "start_time": "2023-05-27T17:29:31.552Z"
   },
   {
    "duration": 20,
    "start_time": "2023-05-27T17:29:31.561Z"
   },
   {
    "duration": 16,
    "start_time": "2023-05-27T17:29:31.585Z"
   },
   {
    "duration": 22,
    "start_time": "2023-05-27T17:29:31.604Z"
   },
   {
    "duration": 4,
    "start_time": "2023-05-27T17:29:31.629Z"
   },
   {
    "duration": 20,
    "start_time": "2023-05-27T17:29:31.635Z"
   },
   {
    "duration": 23,
    "start_time": "2023-05-27T17:29:31.657Z"
   },
   {
    "duration": 6,
    "start_time": "2023-05-27T17:29:31.682Z"
   },
   {
    "duration": 19,
    "start_time": "2023-05-27T17:29:31.690Z"
   },
   {
    "duration": 40,
    "start_time": "2023-05-27T17:29:31.711Z"
   },
   {
    "duration": 9,
    "start_time": "2023-05-27T17:29:31.754Z"
   },
   {
    "duration": 6,
    "start_time": "2023-05-27T17:29:31.765Z"
   },
   {
    "duration": 16,
    "start_time": "2023-05-27T17:29:31.849Z"
   },
   {
    "duration": 15,
    "start_time": "2023-05-27T17:29:31.868Z"
   },
   {
    "duration": 11,
    "start_time": "2023-05-27T17:29:31.884Z"
   },
   {
    "duration": 1352,
    "start_time": "2023-05-27T17:41:50.611Z"
   },
   {
    "duration": 29,
    "start_time": "2023-05-27T17:41:51.966Z"
   },
   {
    "duration": 15,
    "start_time": "2023-05-27T17:41:51.997Z"
   },
   {
    "duration": 23,
    "start_time": "2023-05-27T17:41:52.014Z"
   },
   {
    "duration": 22,
    "start_time": "2023-05-27T17:41:52.040Z"
   },
   {
    "duration": 148,
    "start_time": "2023-05-27T17:41:52.064Z"
   },
   {
    "duration": 172,
    "start_time": "2023-05-27T17:41:52.214Z"
   },
   {
    "duration": 180,
    "start_time": "2023-05-27T17:41:52.389Z"
   },
   {
    "duration": 152,
    "start_time": "2023-05-27T17:41:52.571Z"
   },
   {
    "duration": 7,
    "start_time": "2023-05-27T17:41:52.725Z"
   },
   {
    "duration": 6,
    "start_time": "2023-05-27T17:41:52.749Z"
   },
   {
    "duration": 5,
    "start_time": "2023-05-27T17:41:52.757Z"
   },
   {
    "duration": 7,
    "start_time": "2023-05-27T17:41:52.764Z"
   },
   {
    "duration": 3,
    "start_time": "2023-05-27T17:41:52.775Z"
   },
   {
    "duration": 7,
    "start_time": "2023-05-27T17:41:52.780Z"
   },
   {
    "duration": 4,
    "start_time": "2023-05-27T17:41:52.788Z"
   },
   {
    "duration": 6,
    "start_time": "2023-05-27T17:41:52.793Z"
   },
   {
    "duration": 55,
    "start_time": "2023-05-27T17:41:52.800Z"
   },
   {
    "duration": 6,
    "start_time": "2023-05-27T17:41:52.857Z"
   },
   {
    "duration": 5,
    "start_time": "2023-05-27T17:41:52.865Z"
   },
   {
    "duration": 9,
    "start_time": "2023-05-27T17:41:52.873Z"
   },
   {
    "duration": 8,
    "start_time": "2023-05-27T17:41:52.949Z"
   },
   {
    "duration": 5,
    "start_time": "2023-05-27T17:41:52.962Z"
   },
   {
    "duration": 93,
    "start_time": "2023-05-27T17:41:52.968Z"
   },
   {
    "duration": 5,
    "start_time": "2023-05-27T17:41:53.063Z"
   },
   {
    "duration": 4,
    "start_time": "2023-05-27T17:41:53.070Z"
   },
   {
    "duration": 5818,
    "start_time": "2023-05-28T12:15:40.228Z"
   },
   {
    "duration": 137,
    "start_time": "2023-05-28T12:15:46.056Z"
   },
   {
    "duration": 142,
    "start_time": "2023-05-28T12:15:46.195Z"
   },
   {
    "duration": 198,
    "start_time": "2023-05-28T12:15:46.339Z"
   },
   {
    "duration": 184,
    "start_time": "2023-05-28T12:15:46.547Z"
   },
   {
    "duration": 720,
    "start_time": "2023-05-28T12:15:46.737Z"
   },
   {
    "duration": 797,
    "start_time": "2023-05-28T12:15:47.461Z"
   },
   {
    "duration": 817,
    "start_time": "2023-05-28T12:15:48.332Z"
   },
   {
    "duration": 810,
    "start_time": "2023-05-28T12:15:49.226Z"
   },
   {
    "duration": 20,
    "start_time": "2023-05-28T12:15:50.040Z"
   },
   {
    "duration": 25,
    "start_time": "2023-05-28T12:15:50.130Z"
   },
   {
    "duration": 172,
    "start_time": "2023-05-28T12:15:50.157Z"
   },
   {
    "duration": 217,
    "start_time": "2023-05-28T12:15:50.331Z"
   },
   {
    "duration": 177,
    "start_time": "2023-05-28T12:15:50.558Z"
   },
   {
    "duration": 96,
    "start_time": "2023-05-28T12:15:50.737Z"
   },
   {
    "duration": 92,
    "start_time": "2023-05-28T12:15:50.835Z"
   },
   {
    "duration": 201,
    "start_time": "2023-05-28T12:15:50.933Z"
   },
   {
    "duration": 93,
    "start_time": "2023-05-28T12:15:51.144Z"
   },
   {
    "duration": 91,
    "start_time": "2023-05-28T12:15:51.243Z"
   },
   {
    "duration": 195,
    "start_time": "2023-05-28T12:15:51.337Z"
   },
   {
    "duration": 12,
    "start_time": "2023-05-28T12:15:51.544Z"
   },
   {
    "duration": 96,
    "start_time": "2023-05-28T12:15:51.632Z"
   },
   {
    "duration": 8,
    "start_time": "2023-05-28T12:15:51.734Z"
   },
   {
    "duration": 301,
    "start_time": "2023-05-28T12:15:51.750Z"
   },
   {
    "duration": 272,
    "start_time": "2023-05-28T12:15:52.058Z"
   },
   {
    "duration": 290,
    "start_time": "2023-05-28T12:15:52.344Z"
   }
  ],
  "kernelspec": {
   "display_name": "Python 3 (ipykernel)",
   "language": "python",
   "name": "python3"
  },
  "language_info": {
   "codemirror_mode": {
    "name": "ipython",
    "version": 3
   },
   "file_extension": ".py",
   "mimetype": "text/x-python",
   "name": "python",
   "nbconvert_exporter": "python",
   "pygments_lexer": "ipython3",
   "version": "3.9.13"
  },
  "toc": {
   "base_numbering": 1,
   "nav_menu": {},
   "number_sections": true,
   "sideBar": true,
   "skip_h1_title": true,
   "title_cell": "Содержание",
   "title_sidebar": "Contents",
   "toc_cell": true,
   "toc_position": {},
   "toc_section_display": true,
   "toc_window_display": false
  }
 },
 "nbformat": 4,
 "nbformat_minor": 2
}
