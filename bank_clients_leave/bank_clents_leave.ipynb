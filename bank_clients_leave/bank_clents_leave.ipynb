{
 "cells": [
  {
   "cell_type": "markdown",
   "metadata": {},
   "source": [
    "# Отток клиентов"
   ]
  },
  {
   "cell_type": "markdown",
   "metadata": {},
   "source": [
    "**Данные:** исторические данные о поведении клиентов и расторжении договоров с банком. \n",
    "\n",
    "**Описание данных:**\n",
    "\n",
    "Признаки:\n",
    "- RowNumber — индекс строки в данных\n",
    "- CustomerId — уникальный идентификатор клиента\n",
    "- Surname — фамилия\n",
    "- CreditScore — кредитный рейтинг\n",
    "- Geography — страна проживания\n",
    "- Gender — пол\n",
    "- Age — возраст\n",
    "- Tenure — сколько лет человек является клиентом банка\n",
    "- Balance — баланс на счёте\n",
    "- NumOfProducts — количество продуктов банка, используемых клиентом\n",
    "- HasCrCard — наличие кредитной карты\n",
    "- IsActiveMember — активность клиента\n",
    "- EstimatedSalary — предполагаемая зарплата\n",
    "\n",
    "Целевой признак:\n",
    "- Exited — факт ухода клиента\n",
    "\n",
    "**Цель исследования:** спрогнозировать, уйдёт клиент из банка в ближайшее время или нет. Построить модель с предельно большим значением *F1*-меры. Нужно довести метрику до 0.59.\n",
    "\n",
    "**Ход исследования:**\n",
    "Данные о поведении клиентов находятся в файле Churn.csv. Так как о качестве данных мне неизвестно, сначала я проведу предобработку. Потом я разобью данные на 3 выборки: тренировочную, валидационную и тестовую, посмотрю на дисбаланс классов и предприму меры для решения проблемы. Также проверю разные модели, рассчитаю F1-меру и AUC-ROC, выберу лучшую модель. В конце лучшую модель проверю на тестовой выборке и посмотрю на адекватность.\n",
    "\n",
    "**Исследование пройдёт в несколько этапов:**\n",
    "\n",
    "- Импорт библиотек.\n",
    "- Общая информация о данных.\n",
    "- Предобработка.\n",
    "- Разбивка данных на выборки.\n",
    "- Исследование моделей.\n",
    "- Проверка лучшей модели на тестовой выборке.\n",
    "- Проверка модели на адекватность.\n",
    "- Вывод."
   ]
  },
  {
   "cell_type": "markdown",
   "metadata": {},
   "source": [
    "## Импорт библиотек"
   ]
  },
  {
   "cell_type": "code",
   "execution_count": 1,
   "metadata": {},
   "outputs": [],
   "source": [
    "import pandas as pd\n",
    "from sklearn.model_selection import train_test_split\n",
    "from sklearn.preprocessing import StandardScaler \n",
    "from sklearn.linear_model import LogisticRegression\n",
    "from sklearn.tree import DecisionTreeClassifier\n",
    "from sklearn.ensemble import RandomForestClassifier\n",
    "from sklearn.metrics import accuracy_score\n",
    "from sklearn.metrics import confusion_matrix\n",
    "from sklearn.metrics import f1_score\n",
    "from sklearn.utils import shuffle\n",
    "from sklearn.metrics import roc_auc_score\n",
    "from sklearn.metrics import recall_score"
   ]
  },
  {
   "cell_type": "markdown",
   "metadata": {},
   "source": [
    "## Подготовка данных"
   ]
  },
  {
   "cell_type": "markdown",
   "metadata": {},
   "source": [
    "### Загрузка данных и просмотр информации о них"
   ]
  },
  {
   "cell_type": "code",
   "execution_count": 2,
   "metadata": {},
   "outputs": [
    {
     "data": {
      "text/html": [
       "<div>\n",
       "<style scoped>\n",
       "    .dataframe tbody tr th:only-of-type {\n",
       "        vertical-align: middle;\n",
       "    }\n",
       "\n",
       "    .dataframe tbody tr th {\n",
       "        vertical-align: top;\n",
       "    }\n",
       "\n",
       "    .dataframe thead th {\n",
       "        text-align: right;\n",
       "    }\n",
       "</style>\n",
       "<table border=\"1\" class=\"dataframe\">\n",
       "  <thead>\n",
       "    <tr style=\"text-align: right;\">\n",
       "      <th></th>\n",
       "      <th>RowNumber</th>\n",
       "      <th>CustomerId</th>\n",
       "      <th>Surname</th>\n",
       "      <th>CreditScore</th>\n",
       "      <th>Geography</th>\n",
       "      <th>Gender</th>\n",
       "      <th>Age</th>\n",
       "      <th>Tenure</th>\n",
       "      <th>Balance</th>\n",
       "      <th>NumOfProducts</th>\n",
       "      <th>HasCrCard</th>\n",
       "      <th>IsActiveMember</th>\n",
       "      <th>EstimatedSalary</th>\n",
       "      <th>Exited</th>\n",
       "    </tr>\n",
       "  </thead>\n",
       "  <tbody>\n",
       "    <tr>\n",
       "      <th>0</th>\n",
       "      <td>1</td>\n",
       "      <td>15634602</td>\n",
       "      <td>Hargrave</td>\n",
       "      <td>619</td>\n",
       "      <td>France</td>\n",
       "      <td>Female</td>\n",
       "      <td>42</td>\n",
       "      <td>2.0</td>\n",
       "      <td>0.00</td>\n",
       "      <td>1</td>\n",
       "      <td>1</td>\n",
       "      <td>1</td>\n",
       "      <td>101348.88</td>\n",
       "      <td>1</td>\n",
       "    </tr>\n",
       "    <tr>\n",
       "      <th>1</th>\n",
       "      <td>2</td>\n",
       "      <td>15647311</td>\n",
       "      <td>Hill</td>\n",
       "      <td>608</td>\n",
       "      <td>Spain</td>\n",
       "      <td>Female</td>\n",
       "      <td>41</td>\n",
       "      <td>1.0</td>\n",
       "      <td>83807.86</td>\n",
       "      <td>1</td>\n",
       "      <td>0</td>\n",
       "      <td>1</td>\n",
       "      <td>112542.58</td>\n",
       "      <td>0</td>\n",
       "    </tr>\n",
       "    <tr>\n",
       "      <th>2</th>\n",
       "      <td>3</td>\n",
       "      <td>15619304</td>\n",
       "      <td>Onio</td>\n",
       "      <td>502</td>\n",
       "      <td>France</td>\n",
       "      <td>Female</td>\n",
       "      <td>42</td>\n",
       "      <td>8.0</td>\n",
       "      <td>159660.80</td>\n",
       "      <td>3</td>\n",
       "      <td>1</td>\n",
       "      <td>0</td>\n",
       "      <td>113931.57</td>\n",
       "      <td>1</td>\n",
       "    </tr>\n",
       "    <tr>\n",
       "      <th>3</th>\n",
       "      <td>4</td>\n",
       "      <td>15701354</td>\n",
       "      <td>Boni</td>\n",
       "      <td>699</td>\n",
       "      <td>France</td>\n",
       "      <td>Female</td>\n",
       "      <td>39</td>\n",
       "      <td>1.0</td>\n",
       "      <td>0.00</td>\n",
       "      <td>2</td>\n",
       "      <td>0</td>\n",
       "      <td>0</td>\n",
       "      <td>93826.63</td>\n",
       "      <td>0</td>\n",
       "    </tr>\n",
       "    <tr>\n",
       "      <th>4</th>\n",
       "      <td>5</td>\n",
       "      <td>15737888</td>\n",
       "      <td>Mitchell</td>\n",
       "      <td>850</td>\n",
       "      <td>Spain</td>\n",
       "      <td>Female</td>\n",
       "      <td>43</td>\n",
       "      <td>2.0</td>\n",
       "      <td>125510.82</td>\n",
       "      <td>1</td>\n",
       "      <td>1</td>\n",
       "      <td>1</td>\n",
       "      <td>79084.10</td>\n",
       "      <td>0</td>\n",
       "    </tr>\n",
       "  </tbody>\n",
       "</table>\n",
       "</div>"
      ],
      "text/plain": [
       "   RowNumber  CustomerId   Surname  CreditScore Geography  Gender  Age  \\\n",
       "0          1    15634602  Hargrave          619    France  Female   42   \n",
       "1          2    15647311      Hill          608     Spain  Female   41   \n",
       "2          3    15619304      Onio          502    France  Female   42   \n",
       "3          4    15701354      Boni          699    France  Female   39   \n",
       "4          5    15737888  Mitchell          850     Spain  Female   43   \n",
       "\n",
       "   Tenure    Balance  NumOfProducts  HasCrCard  IsActiveMember  \\\n",
       "0     2.0       0.00              1          1               1   \n",
       "1     1.0   83807.86              1          0               1   \n",
       "2     8.0  159660.80              3          1               0   \n",
       "3     1.0       0.00              2          0               0   \n",
       "4     2.0  125510.82              1          1               1   \n",
       "\n",
       "   EstimatedSalary  Exited  \n",
       "0        101348.88       1  \n",
       "1        112542.58       0  \n",
       "2        113931.57       1  \n",
       "3         93826.63       0  \n",
       "4         79084.10       0  "
      ]
     },
     "execution_count": 2,
     "metadata": {},
     "output_type": "execute_result"
    }
   ],
   "source": [
    "data = pd.read_csv('/datasets/Churn.csv')\n",
    "data.head()"
   ]
  },
  {
   "cell_type": "code",
   "execution_count": 3,
   "metadata": {},
   "outputs": [
    {
     "data": {
      "text/plain": [
       "RowNumber            int64\n",
       "CustomerId           int64\n",
       "Surname             object\n",
       "CreditScore          int64\n",
       "Geography           object\n",
       "Gender              object\n",
       "Age                  int64\n",
       "Tenure             float64\n",
       "Balance            float64\n",
       "NumOfProducts        int64\n",
       "HasCrCard            int64\n",
       "IsActiveMember       int64\n",
       "EstimatedSalary    float64\n",
       "Exited               int64\n",
       "dtype: object"
      ]
     },
     "execution_count": 3,
     "metadata": {},
     "output_type": "execute_result"
    }
   ],
   "source": [
    "data.dtypes"
   ]
  },
  {
   "cell_type": "code",
   "execution_count": 4,
   "metadata": {},
   "outputs": [
    {
     "data": {
      "text/plain": [
       "(10000, 14)"
      ]
     },
     "execution_count": 4,
     "metadata": {},
     "output_type": "execute_result"
    }
   ],
   "source": [
    "data.shape"
   ]
  },
  {
   "cell_type": "markdown",
   "metadata": {},
   "source": [
    "**Промежуточный вывод:**\n",
    "- названия колонок надо изменить\n",
    "- проверить данные на пропуски и заполнить их, если будут\n",
    "- проверить данные на дубликаты\n",
    "- некоторые типы данных надо заменить на bool"
   ]
  },
  {
   "cell_type": "markdown",
   "metadata": {},
   "source": [
    "### Изменение названий колонок"
   ]
  },
  {
   "cell_type": "markdown",
   "metadata": {},
   "source": [
    "Названия столбцов приведу к нижнему регистру, добавлю змеиный регистр к тем столбцам, где несколько слов:"
   ]
  },
  {
   "cell_type": "code",
   "execution_count": 5,
   "metadata": {},
   "outputs": [],
   "source": [
    "data.columns = map(str.lower, data.columns)\n",
    "\n",
    "data = data.rename(columns={'rownumber': 'row_number', 'customerid': 'customer_id', 'creditscore': 'credit_score', \\\n",
    "                            'numofproducts': 'num_of_products', 'hascrcard': 'has_cr_card', \\\n",
    "                            'isactivemember': 'is_active_member', 'estimatedsalary': 'estimated_salary'})"
   ]
  },
  {
   "cell_type": "markdown",
   "metadata": {},
   "source": [
    "### Проверка на пропуски и их заполнение"
   ]
  },
  {
   "cell_type": "markdown",
   "metadata": {},
   "source": [
    "Проверю, есть ли пропуски:"
   ]
  },
  {
   "cell_type": "code",
   "execution_count": 6,
   "metadata": {
    "scrolled": true
   },
   "outputs": [
    {
     "data": {
      "text/plain": [
       "row_number            0\n",
       "customer_id           0\n",
       "surname               0\n",
       "credit_score          0\n",
       "geography             0\n",
       "gender                0\n",
       "age                   0\n",
       "tenure              909\n",
       "balance               0\n",
       "num_of_products       0\n",
       "has_cr_card           0\n",
       "is_active_member      0\n",
       "estimated_salary      0\n",
       "exited                0\n",
       "dtype: int64"
      ]
     },
     "execution_count": 6,
     "metadata": {},
     "output_type": "execute_result"
    }
   ],
   "source": [
    "data.isnull().sum()"
   ]
  },
  {
   "cell_type": "markdown",
   "metadata": {},
   "source": [
    "Так как в колонке tenure пропусков меньше 10% от данных, проще их удалить, так как заполнение медианой по другому признаку поменяет распределение, я проверяла."
   ]
  },
  {
   "cell_type": "code",
   "execution_count": 7,
   "metadata": {},
   "outputs": [
    {
     "data": {
      "text/plain": [
       "0"
      ]
     },
     "execution_count": 7,
     "metadata": {},
     "output_type": "execute_result"
    }
   ],
   "source": [
    "data = data.dropna()\n",
    "\n",
    "data['tenure'].isna().sum() #проверка"
   ]
  },
  {
   "cell_type": "markdown",
   "metadata": {},
   "source": [
    "Еще одна проверка:"
   ]
  },
  {
   "cell_type": "code",
   "execution_count": 8,
   "metadata": {},
   "outputs": [
    {
     "data": {
      "text/plain": [
       "(9091, 14)"
      ]
     },
     "execution_count": 8,
     "metadata": {},
     "output_type": "execute_result"
    }
   ],
   "source": [
    "data.shape"
   ]
  },
  {
   "cell_type": "markdown",
   "metadata": {},
   "source": [
    "Теперь пропусков в данных нет."
   ]
  },
  {
   "cell_type": "markdown",
   "metadata": {},
   "source": [
    "### Проверка на дубликаты"
   ]
  },
  {
   "cell_type": "code",
   "execution_count": 9,
   "metadata": {},
   "outputs": [
    {
     "data": {
      "text/plain": [
       "0"
      ]
     },
     "execution_count": 9,
     "metadata": {},
     "output_type": "execute_result"
    }
   ],
   "source": [
    "data.duplicated().sum() #Проверила на дубликаты"
   ]
  },
  {
   "cell_type": "markdown",
   "metadata": {},
   "source": [
    "Дубликатов нет."
   ]
  },
  {
   "cell_type": "markdown",
   "metadata": {},
   "source": [
    "### Замена типов данных"
   ]
  },
  {
   "cell_type": "markdown",
   "metadata": {},
   "source": [
    "Эти данные я изменю на формат bool, так как потом буду проводить стандартизацию. Чтобы их не нужно было стандартизировать.\n",
    "\n",
    "- has_cr_card            int64\n",
    "- is_active_member       int64"
   ]
  },
  {
   "cell_type": "code",
   "execution_count": 10,
   "metadata": {},
   "outputs": [],
   "source": [
    "data[['has_cr_card', 'is_active_member']] = data[['has_cr_card', 'is_active_member']].astype('bool')"
   ]
  },
  {
   "cell_type": "code",
   "execution_count": 11,
   "metadata": {},
   "outputs": [
    {
     "data": {
      "text/plain": [
       "has_cr_card         bool\n",
       "is_active_member    bool\n",
       "dtype: object"
      ]
     },
     "execution_count": 11,
     "metadata": {},
     "output_type": "execute_result"
    }
   ],
   "source": [
    "data[['has_cr_card', 'is_active_member']].dtypes #проверка"
   ]
  },
  {
   "cell_type": "markdown",
   "metadata": {},
   "source": [
    "**Вывод:**\n",
    "- удалены пропуски\n",
    "- изменены названия колонок\n",
    "- некоторым колонкам присвоен новый тип данных\n",
    "- проведена проверка на дубли"
   ]
  },
  {
   "cell_type": "markdown",
   "metadata": {},
   "source": [
    "## Исследование задачи"
   ]
  },
  {
   "cell_type": "markdown",
   "metadata": {},
   "source": [
    "### Прямое кодирование и разбивка на выборки"
   ]
  },
  {
   "cell_type": "markdown",
   "metadata": {},
   "source": [
    "Техникой OHE категориальные признаки переведу в численные, также удалю первые столбцы, чтобы не угодить в dummy-ловушку.\n",
    "\n",
    "Разобью данные на тренировочную и валидационную выборку, а потом валидационную разобью пополам. Так я получу 3 выборки с соотношением:\n",
    "- тренировочная выборка 0.6\n",
    "- валидационная выборка 0.2\n",
    "- тестовая выборка 0.2"
   ]
  },
  {
   "cell_type": "markdown",
   "metadata": {},
   "source": [
    "Также я решила удалить некоторые столбцы, которые к таргету не имеют отношения и не помогут при построении модели: 'customer_id', 'row_number', 'surname'."
   ]
  },
  {
   "cell_type": "code",
   "execution_count": 12,
   "metadata": {},
   "outputs": [
    {
     "name": "stdout",
     "output_type": "stream",
     "text": [
      "(5454, 11) (1818, 11) (1819, 11)\n",
      "(5454,) (1818,) (1819,)\n"
     ]
    }
   ],
   "source": [
    "data = data.drop(['customer_id', 'row_number', 'surname'], axis='columns')\n",
    "\n",
    "data_ohe = pd.get_dummies(data, drop_first=True)\n",
    "\n",
    "target = data_ohe['exited']\n",
    "features = data_ohe.drop('exited', axis='columns')\n",
    "\n",
    "features_train, features_valid, target_train, target_valid = train_test_split(\n",
    "    features, target, test_size=0.4, random_state=12345)\n",
    "\n",
    "features_valid, features_test, target_valid, target_test = train_test_split(\n",
    "    features_valid, target_valid, test_size=0.5, random_state=12345)\n",
    "\n",
    "print(features_train.shape, features_valid.shape, features_test.shape) #проверка размера выборок\n",
    "print(target_train.shape, target_valid.shape, target_test.shape)"
   ]
  },
  {
   "cell_type": "markdown",
   "metadata": {},
   "source": [
    "### Стандартизация данных"
   ]
  },
  {
   "cell_type": "markdown",
   "metadata": {},
   "source": [
    "Чтобы все численные признаки были одинаково значимыми, масштабирую их:"
   ]
  },
  {
   "cell_type": "code",
   "execution_count": 13,
   "metadata": {
    "scrolled": true
   },
   "outputs": [
    {
     "data": {
      "text/plain": [
       "credit_score           int64\n",
       "age                    int64\n",
       "tenure               float64\n",
       "balance              float64\n",
       "num_of_products        int64\n",
       "has_cr_card             bool\n",
       "is_active_member        bool\n",
       "estimated_salary     float64\n",
       "geography_Germany      uint8\n",
       "geography_Spain        uint8\n",
       "gender_Male            uint8\n",
       "dtype: object"
      ]
     },
     "execution_count": 13,
     "metadata": {},
     "output_type": "execute_result"
    }
   ],
   "source": [
    "features_train.dtypes"
   ]
  },
  {
   "cell_type": "markdown",
   "metadata": {},
   "source": [
    "Буду стандартизировать: \n",
    "- 'credit_score', \n",
    "- 'age', \n",
    "- 'tenure', \n",
    "- 'balance', \n",
    "- 'num_of_products', \n",
    "- 'estimated_salary'."
   ]
  },
  {
   "cell_type": "code",
   "execution_count": 14,
   "metadata": {},
   "outputs": [],
   "source": [
    "pd.options.mode.chained_assignment = None\n",
    "numeric = ['credit_score', 'age', 'tenure', 'balance', 'estimated_salary', 'num_of_products']\n",
    "\n",
    "scaler = StandardScaler()\n",
    "\n",
    "features_train[numeric] = scaler.fit_transform(features_train[numeric])\n",
    "features_valid[numeric] = scaler.transform(features_valid[numeric])\n",
    "features_test[numeric] = scaler.transform(features_test[numeric])"
   ]
  },
  {
   "cell_type": "markdown",
   "metadata": {},
   "source": [
    "### Модель без учета баланса классов"
   ]
  },
  {
   "cell_type": "markdown",
   "metadata": {},
   "source": [
    "Проверю, как отработает модель без учета проверки баланса классов:"
   ]
  },
  {
   "cell_type": "code",
   "execution_count": 15,
   "metadata": {},
   "outputs": [
    {
     "name": "stdout",
     "output_type": "stream",
     "text": [
      "Accuracy: 0.7904290429042904\n",
      "F1-мера: 0.4926764314247669\n",
      "AUC-ROC: 0.6797786314764468\n"
     ]
    }
   ],
   "source": [
    "model = DecisionTreeClassifier(random_state=12345)\n",
    "model.fit(features_train, target_train)\n",
    "predicted_valid = pd.Series(model.predict(features_valid))\n",
    "\n",
    "print(\"Accuracy:\", accuracy_score(target_valid, predicted_valid))\n",
    "print(\"F1-мера:\", f1_score(target_valid,predicted_valid))\n",
    "\n",
    "probabilities_valid = model.predict_proba(features_valid)\n",
    "probabilities_one_valid = probabilities_valid[:, 1]\n",
    "\n",
    "print(\"AUC-ROC:\", roc_auc_score(target_valid, probabilities_one_valid))"
   ]
  },
  {
   "cell_type": "markdown",
   "metadata": {},
   "source": [
    "Баланс классов в target_train:"
   ]
  },
  {
   "cell_type": "code",
   "execution_count": 16,
   "metadata": {
    "scrolled": false
   },
   "outputs": [
    {
     "data": {
      "text/plain": [
       "0    0.793546\n",
       "1    0.206454\n",
       "Name: exited, dtype: float64"
      ]
     },
     "execution_count": 16,
     "metadata": {},
     "output_type": "execute_result"
    }
   ],
   "source": [
    "target_train.value_counts(normalize=True)"
   ]
  },
  {
   "cell_type": "markdown",
   "metadata": {},
   "source": [
    "Также проверю распределение классов в результатах предсказаний решающего дерева:"
   ]
  },
  {
   "cell_type": "code",
   "execution_count": 17,
   "metadata": {
    "scrolled": true
   },
   "outputs": [
    {
     "data": {
      "text/plain": [
       "0    0.794279\n",
       "1    0.205721\n",
       "dtype: float64"
      ]
     },
     "execution_count": 17,
     "metadata": {},
     "output_type": "execute_result"
    }
   ],
   "source": [
    "predicted_valid.value_counts(normalize=True)"
   ]
  },
  {
   "cell_type": "markdown",
   "metadata": {},
   "source": [
    "И построю константную модель, которая будет присваивать нули:"
   ]
  },
  {
   "cell_type": "code",
   "execution_count": 18,
   "metadata": {
    "scrolled": true
   },
   "outputs": [
    {
     "name": "stdout",
     "output_type": "stream",
     "text": [
      "Accuracy константной модели: 0.7935460212687936\n"
     ]
    }
   ],
   "source": [
    "target_train_pred_constant = pd.Series(pd.Series(0, index=target_train.index))\n",
    "\n",
    "print(\"Accuracy константной модели:\", accuracy_score(target_train, target_train_pred_constant))"
   ]
  },
  {
   "cell_type": "markdown",
   "metadata": {},
   "source": [
    "Матрица ошибок построенной модели решающего дерева:"
   ]
  },
  {
   "cell_type": "code",
   "execution_count": 19,
   "metadata": {
    "scrolled": true
   },
   "outputs": [
    {
     "data": {
      "text/plain": [
       "array([[1252,  189],\n",
       "       [ 192,  185]])"
      ]
     },
     "execution_count": 19,
     "metadata": {},
     "output_type": "execute_result"
    }
   ],
   "source": [
    "confusion_matrix(target_valid, predicted_valid)"
   ]
  },
  {
   "cell_type": "markdown",
   "metadata": {},
   "source": [
    "Позитивные ответы модель угадывает не очень хорошо, только 50%."
   ]
  },
  {
   "cell_type": "code",
   "execution_count": 20,
   "metadata": {
    "scrolled": true
   },
   "outputs": [
    {
     "name": "stdout",
     "output_type": "stream",
     "text": [
      "Полнота: 0.4907161803713528\n"
     ]
    }
   ],
   "source": [
    "print(\"Полнота:\", recall_score(target_valid, predicted_valid))"
   ]
  },
  {
   "cell_type": "markdown",
   "metadata": {},
   "source": [
    "Значение recall далеко от идеала (единицы): модель не очень хорошо ищет положительные объекты."
   ]
  },
  {
   "cell_type": "markdown",
   "metadata": {},
   "source": [
    "**Вывод:** \n",
    "- Accuracy модели: 0.7904\n",
    "- Accuracy константной модели: 0.793\n",
    "\n",
    "Accuracy модели меньше, чем случайной константной модели. F1-мера всего 0.49, auc-roc - 0.68. Модель часто ошибается при присвоении положительных ответов. Ее можно улучшить, поработав с дисбалансом классов. Судя по расчетам выше, он довольно большой."
   ]
  },
  {
   "cell_type": "markdown",
   "metadata": {},
   "source": [
    "## Борьба с дисбалансом"
   ]
  },
  {
   "cell_type": "markdown",
   "metadata": {},
   "source": [
    "Для борьбы с дисбалансом я попробую **увеличить выборку**:"
   ]
  },
  {
   "cell_type": "code",
   "execution_count": 21,
   "metadata": {},
   "outputs": [
    {
     "name": "stdout",
     "output_type": "stream",
     "text": [
      "(8832, 11)\n",
      "(8832,)\n"
     ]
    }
   ],
   "source": [
    "def upsample(features, target, repeat):\n",
    "    features_zeros = features[target == 0]\n",
    "    features_ones = features[target == 1]\n",
    "    target_zeros = target[target == 0]\n",
    "    target_ones = target[target == 1]\n",
    "    repeat = repeat\n",
    "    features_upsampled = pd.concat([features_zeros] + [features_ones] * repeat)\n",
    "    target_upsampled = pd.concat([target_zeros] + [target_ones] * repeat)\n",
    "    features_upsampled, target_upsampled = shuffle(features_upsampled, target_upsampled, random_state=12345)\n",
    "    return features_upsampled, target_upsampled\n",
    "    \n",
    "features_upsampled, target_upsampled = upsample(features_train, target_train, 4)\n",
    "\n",
    "print(features_upsampled.shape) #проверка\n",
    "print(target_upsampled.shape)"
   ]
  },
  {
   "cell_type": "markdown",
   "metadata": {},
   "source": [
    "Проверю баланс классов после увеличения выборки:"
   ]
  },
  {
   "cell_type": "code",
   "execution_count": 22,
   "metadata": {
    "scrolled": true
   },
   "outputs": [
    {
     "data": {
      "text/plain": [
       "1    4504\n",
       "0    4328\n",
       "Name: exited, dtype: int64"
      ]
     },
     "execution_count": 22,
     "metadata": {},
     "output_type": "execute_result"
    }
   ],
   "source": [
    "target_upsampled.value_counts()"
   ]
  },
  {
   "cell_type": "markdown",
   "metadata": {},
   "source": [
    "Классы разделились почти поровну, что очень хорошо. Обучу модель и посмотрю на F1-меру и AUC-ROC:"
   ]
  },
  {
   "cell_type": "code",
   "execution_count": 23,
   "metadata": {
    "scrolled": false
   },
   "outputs": [
    {
     "name": "stdout",
     "output_type": "stream",
     "text": [
      "F1: 0.46195652173913043\n",
      "AUC-ROC: 0.6598847322722027\n"
     ]
    }
   ],
   "source": [
    "model = DecisionTreeClassifier(random_state=12345)\n",
    "model.fit(features_upsampled, target_upsampled)\n",
    "predicted_valid = model.predict(features_valid)\n",
    "\n",
    "print('F1:', f1_score(target_valid,predicted_valid))\n",
    "\n",
    "probabilities_valid = model.predict_proba(features_valid)\n",
    "probabilities_one_valid = probabilities_valid[:, 1]\n",
    "\n",
    "print(\"AUC-ROC:\", roc_auc_score(target_valid, probabilities_one_valid))"
   ]
  },
  {
   "cell_type": "markdown",
   "metadata": {},
   "source": [
    "Матрица ошибок модели:"
   ]
  },
  {
   "cell_type": "code",
   "execution_count": 24,
   "metadata": {
    "scrolled": true
   },
   "outputs": [
    {
     "data": {
      "text/plain": [
       "array([[1252,  189],\n",
       "       [ 207,  170]])"
      ]
     },
     "execution_count": 24,
     "metadata": {},
     "output_type": "execute_result"
    }
   ],
   "source": [
    "confusion_matrix(target_valid, predicted_valid)"
   ]
  },
  {
   "cell_type": "markdown",
   "metadata": {},
   "source": [
    "Модель плохо угадывает положительные ответы, а показатель F1 ниже, чем был. Похоже, этот способ не очень сработал."
   ]
  },
  {
   "cell_type": "markdown",
   "metadata": {},
   "source": [
    "Попробую **сбалансировать классы настройкой** при обучении модели:"
   ]
  },
  {
   "cell_type": "code",
   "execution_count": 25,
   "metadata": {},
   "outputs": [
    {
     "data": {
      "text/plain": [
       "0.47248322147651006"
      ]
     },
     "execution_count": 25,
     "metadata": {},
     "output_type": "execute_result"
    }
   ],
   "source": [
    "model = DecisionTreeClassifier(random_state=12345, class_weight='balanced')\n",
    "model.fit(features_train, target_train)\n",
    "predicted_valid = model.predict(features_valid)\n",
    "\n",
    "f1_score(target_valid, predicted_valid)"
   ]
  },
  {
   "cell_type": "markdown",
   "metadata": {},
   "source": [
    "Модель все еще работает не очень хорошо. Попробую **уменьшить выборку**:"
   ]
  },
  {
   "cell_type": "code",
   "execution_count": 26,
   "metadata": {},
   "outputs": [
    {
     "name": "stdout",
     "output_type": "stream",
     "text": [
      "F1: 0.4987775061124694\n"
     ]
    }
   ],
   "source": [
    "def downsample(features, target, fraction):\n",
    "    features_zeros = features[target == 0]\n",
    "    features_ones = features[target == 1]\n",
    "    target_zeros = target[target == 0]\n",
    "    target_ones = target[target == 1]\n",
    "\n",
    "    features_downsampled = pd.concat(\n",
    "        [features_zeros.sample(frac=fraction, random_state=12345)] + [features_ones])\n",
    "    target_downsampled = pd.concat(\n",
    "        [target_zeros.sample(frac=fraction, random_state=12345)] + [target_ones])\n",
    "    \n",
    "    features_downsampled, target_downsampled = shuffle(\n",
    "        features_downsampled, target_downsampled, random_state=12345)\n",
    "    \n",
    "    return features_downsampled, target_downsampled\n",
    "\n",
    "features_downsampled, target_downsampled = downsample(features_train, target_train, 0.4)\n",
    "\n",
    "model = LogisticRegression(random_state=12345, solver='liblinear')\n",
    "model.fit(features_downsampled, target_downsampled)\n",
    "predicted_valid = model.predict(features_valid)\n",
    "\n",
    "print(\"F1:\", f1_score(target_valid, predicted_valid))"
   ]
  },
  {
   "cell_type": "markdown",
   "metadata": {},
   "source": [
    "Проверю баланс классов после уменьшения:"
   ]
  },
  {
   "cell_type": "code",
   "execution_count": 27,
   "metadata": {},
   "outputs": [
    {
     "data": {
      "text/plain": [
       "0    1731\n",
       "1    1126\n",
       "Name: exited, dtype: int64"
      ]
     },
     "execution_count": 27,
     "metadata": {},
     "output_type": "execute_result"
    }
   ],
   "source": [
    "target_downsampled.value_counts()"
   ]
  },
  {
   "cell_type": "markdown",
   "metadata": {},
   "source": [
    "С этим можно работать, так как F1-меры больше у меня не было. Теперь буду искать модель и перебирать гиперпараметры:"
   ]
  },
  {
   "cell_type": "markdown",
   "metadata": {},
   "source": [
    "### DecisionTreeClassifier"
   ]
  },
  {
   "cell_type": "code",
   "execution_count": 28,
   "metadata": {},
   "outputs": [
    {
     "name": "stdout",
     "output_type": "stream",
     "text": [
      "F1-мера наилучшей модели на валидационной выборке: 0.6004618937644342 ; max_depth: 5 ; criterion: entropy ; splitter: random\n"
     ]
    }
   ],
   "source": [
    "best_model = None\n",
    "best_result = 0\n",
    "\n",
    "for depth in range(1, 11):\n",
    "    for crit in ['gini', 'entropy']:\n",
    "        for spl in ['best', 'random']:\n",
    "            model = DecisionTreeClassifier(random_state=12345, max_depth=depth, criterion=crit, splitter=spl)\n",
    "            model.fit(features_downsampled, target_downsampled)\n",
    "            predicted_valid = model.predict(features_valid)\n",
    "            result = f1_score(target_valid, predicted_valid)\n",
    "            if result > best_result:\n",
    "                best_model = model\n",
    "                best_result = result\n",
    "                d = depth\n",
    "                c = crit\n",
    "                s = spl\n",
    "\n",
    "print(\"F1-мера наилучшей модели на валидационной выборке:\", best_result, \"; max_depth:\", d, \\\n",
    "      \"; criterion:\", c, \"; splitter:\", s)"
   ]
  },
  {
   "cell_type": "markdown",
   "metadata": {},
   "source": [
    "### RandomForestClassifier"
   ]
  },
  {
   "cell_type": "code",
   "execution_count": 29,
   "metadata": {
    "scrolled": true
   },
   "outputs": [
    {
     "name": "stdout",
     "output_type": "stream",
     "text": [
      "F1-мера наилучшей модели на валидационной выборке: 0.6393034825870647 ; n_estimators: 65 ; max_depth: 9 ; max_features: log2\n"
     ]
    }
   ],
   "source": [
    "best_model = None\n",
    "best_result = 0\n",
    "\n",
    "for est in range(5, 201, 10):\n",
    "    for md in range(1,21):\n",
    "        for mf in ['log2', 'sqrt']:\n",
    "            model = RandomForestClassifier(random_state=12345, n_estimators=est, max_depth=md, max_features=mf)\n",
    "            model.fit(features_downsampled, target_downsampled)\n",
    "            predicted_valid = model.predict(features_valid)\n",
    "            result = f1_score(target_valid, predicted_valid)\n",
    "            if result > best_result:\n",
    "                best_model = model\n",
    "                best_result = result\n",
    "                estim = est\n",
    "                mdt = md\n",
    "                mfr = mf\n",
    "\n",
    "print(\"F1-мера наилучшей модели на валидационной выборке:\", best_result, \"; n_estimators:\", estim, \"; max_depth:\", \\\n",
    "      \n",
    "      mdt, \"; max_features:\", mfr)"
   ]
  },
  {
   "cell_type": "markdown",
   "metadata": {},
   "source": [
    "### LogisticRegression"
   ]
  },
  {
   "cell_type": "code",
   "execution_count": 30,
   "metadata": {},
   "outputs": [
    {
     "name": "stdout",
     "output_type": "stream",
     "text": [
      "F1-мера наилучшей модели на валидационной выборке: 0.4987775061124694 ; max_iter: 100 ; penalty: l2\n"
     ]
    }
   ],
   "source": [
    "best_model = None\n",
    "best_result = 0\n",
    "\n",
    "for max_it in range(100, 1101, 100):\n",
    "    for p in ['l2', 'none']:\n",
    "        model = LogisticRegression(random_state=12345, solver='lbfgs', max_iter=max_it, penalty=p)\n",
    "        model.fit(features_downsampled, target_downsampled)\n",
    "        predicted_valid = model.predict(features_valid)\n",
    "        result = f1_score(target_valid, predicted_valid)\n",
    "        if result > best_result:\n",
    "            best_model = model\n",
    "            best_result = result\n",
    "            maxit = max_it\n",
    "            pen=p\n",
    "            \n",
    "\n",
    "print(\"F1-мера наилучшей модели на валидационной выборке:\", best_result, \"; max_iter:\", maxit, \"; penalty:\", pen)"
   ]
  },
  {
   "cell_type": "markdown",
   "metadata": {},
   "source": [
    "**Вывод:** Избавиться от дисбаланса получилось с помощью уменьшения выборки. Был сделан перебор моделей и гиперпараметров для наилучшего результата. Лучший результат показала модель RandomForestClassifier. F1-мера = 0.639."
   ]
  },
  {
   "cell_type": "markdown",
   "metadata": {},
   "source": [
    "## Тестирование модели"
   ]
  },
  {
   "cell_type": "markdown",
   "metadata": {},
   "source": [
    "Так как я выбрала модель RandomForestClassifier, протестирую ее еще раз на тестовой выборке и проверю на адекватность."
   ]
  },
  {
   "cell_type": "code",
   "execution_count": 31,
   "metadata": {},
   "outputs": [
    {
     "name": "stdout",
     "output_type": "stream",
     "text": [
      "F1-мера: 0.6215864759427828\n",
      "Accuracy: 0.840021990104453\n"
     ]
    }
   ],
   "source": [
    "model = RandomForestClassifier(random_state=12345, n_estimators=65, max_depth=9, max_features='log2')\n",
    "model.fit(features_downsampled, target_downsampled)\n",
    "predicted_test = pd.Series(model.predict(features_test))\n",
    "print(\"F1-мера:\", f1_score(target_test, predicted_test))\n",
    "print(\"Accuracy:\", accuracy_score(target_test, predicted_test))"
   ]
  },
  {
   "cell_type": "code",
   "execution_count": 32,
   "metadata": {},
   "outputs": [
    {
     "name": "stdout",
     "output_type": "stream",
     "text": [
      "AUC-ROC: 0.8601426830309664\n"
     ]
    }
   ],
   "source": [
    "probabilities_test = model.predict_proba(features_test)\n",
    "probabilities_one_test = probabilities_test[:, 1]\n",
    "\n",
    "print(\"AUC-ROC:\", roc_auc_score(target_test, probabilities_one_test))"
   ]
  },
  {
   "cell_type": "markdown",
   "metadata": {},
   "source": [
    "Баланс классов в тестовой выборке:"
   ]
  },
  {
   "cell_type": "code",
   "execution_count": 33,
   "metadata": {
    "scrolled": false
   },
   "outputs": [
    {
     "data": {
      "text/plain": [
       "0    0.807037\n",
       "1    0.192963\n",
       "Name: exited, dtype: float64"
      ]
     },
     "execution_count": 33,
     "metadata": {},
     "output_type": "execute_result"
    }
   ],
   "source": [
    "target_test.value_counts(normalize=True)"
   ]
  },
  {
   "cell_type": "markdown",
   "metadata": {},
   "source": [
    "Матрица ошибок:"
   ]
  },
  {
   "cell_type": "code",
   "execution_count": 34,
   "metadata": {
    "scrolled": true
   },
   "outputs": [
    {
     "data": {
      "text/plain": [
       "array([[1289,  179],\n",
       "       [ 112,  239]])"
      ]
     },
     "execution_count": 34,
     "metadata": {},
     "output_type": "execute_result"
    }
   ],
   "source": [
    "confusion_matrix(target_test, predicted_test)"
   ]
  },
  {
   "cell_type": "markdown",
   "metadata": {},
   "source": [
    "Константная модель, которая ставит нули:"
   ]
  },
  {
   "cell_type": "code",
   "execution_count": 35,
   "metadata": {},
   "outputs": [
    {
     "name": "stdout",
     "output_type": "stream",
     "text": [
      "Accuracy константной модели: 0.8070368334249588\n"
     ]
    }
   ],
   "source": [
    "target_test_pred_constant = pd.Series(pd.Series(0, index=target_test.index))\n",
    "\n",
    "print(\"Accuracy константной модели:\", accuracy_score(target_test, target_test_pred_constant))"
   ]
  },
  {
   "cell_type": "markdown",
   "metadata": {},
   "source": [
    "**Вывод:** F1-мера равна 0.622, AUC-ROC: 0.860, угадывать положительные ответы модель стала лучше. Тестирование проведено успешно, модель прошла проверку на адекватность."
   ]
  },
  {
   "cell_type": "markdown",
   "metadata": {},
   "source": [
    "## **Общий вывод:**\n",
    "\n",
    "В рамках работы над задачей была выполнена **предобработка данных:**\n",
    "- изменены названия ячеек,\n",
    "- сделана проверка на дубли,\n",
    "- удалены пропуски,\n",
    "- изменены типы данных в некоторых столбцах.\n",
    "\n",
    "**В рамках исследования задачи** для лучшего обучения модели были применены:\n",
    "- прямое кодирование для перевода категориальных признаков в численные,\n",
    "- разбивка данных на выборки: обучающую, тестовую и валидационную,\n",
    "- удалены некоторые столбцы, которые никак не влияли на достижение цели,\n",
    "- проведена стандартизация численных данных\n",
    "- обучена модель без учета баланса классов, рассчитаны метрики по ней,\n",
    "- определен дисбаланс классов.\n",
    "\n",
    "Выявлено, что модель, обученная без учета дисбаланса классов, не очень хорошо справляется с поставленной задачей.\n",
    "\n",
    "**В рамках борбьбы с дисбалансом:**\n",
    "- протестировано увеличение выборки,\n",
    "- протестировано уменьшение выборки,\n",
    "- протестирована балансировка классов при обучении модели.\n",
    "\n",
    "Выявлено, что лучший результат показало уменьшение выборки, именно новые полученные данные дальше использовались для поиска модели.\n",
    "\n",
    "При поиске моделей были использованы с перебором гиперпараметров:\n",
    "- DecisionTreeClassifier\n",
    "- RandomForestClassifier\n",
    "- LogisticRegression.\n",
    "\n",
    "Значения F1-меры, полученные при тестировании на валидационной выборке:<br>\n",
    "DecisionTreeClassifier: **0.600**<br>\n",
    "RandomForestClassifier: **0.639**<br>\n",
    "LogisticRegression: **0.498**<br>\n",
    "\n",
    "По результатам тестирования на валидационной выборке была выбрана модель **RandomForestClassifier.**\n",
    "\n",
    "**В рамках итогового тестирования** была проверена модель **RandomForestClassifier** с такими гиперпараметрами: \n",
    "- n_estimators: 65 \n",
    "- max_depth: 9 \n",
    "- max_features: log2\n",
    "\n",
    "Рассчитаны метрики этой модели: <br>\n",
    "\n",
    "F1-мера: 0.622 <br>\n",
    "Accuracy: 0.840 <br>\n",
    "AUC-ROC: 0.860 <br>\n",
    "\n",
    "Также для проверки адекватности была использована константная модель, которая автоматически поставила нули всем предсказаниям. Accuracy этой модели получилась равной 0.807, что меньше, чем у выбранной мной обученной и протестированной модели.\n",
    "\n",
    "**Цель задачи:** построить модель с предельно большим значением F1-меры. Нужно довести метрику до 0.59. **Эта цель выполнена, так как F1-мера равна 0.622.**"
   ]
  }
 ],
 "metadata": {
  "ExecuteTimeLog": [
   {
    "duration": 62,
    "start_time": "2023-04-13T07:37:42.206Z"
   },
   {
    "duration": 407,
    "start_time": "2023-04-13T07:37:45.424Z"
   },
   {
    "duration": 244,
    "start_time": "2023-04-13T07:37:47.172Z"
   },
   {
    "duration": 38,
    "start_time": "2023-04-13T08:50:19.191Z"
   },
   {
    "duration": 9,
    "start_time": "2023-04-13T08:50:32.191Z"
   },
   {
    "duration": 12,
    "start_time": "2023-04-13T08:50:42.430Z"
   },
   {
    "duration": 1313,
    "start_time": "2023-04-13T08:50:58.435Z"
   },
   {
    "duration": 10,
    "start_time": "2023-04-13T08:51:01.891Z"
   },
   {
    "duration": 14,
    "start_time": "2023-04-13T08:52:44.171Z"
   },
   {
    "duration": 12,
    "start_time": "2023-04-13T08:53:08.786Z"
   },
   {
    "duration": 8,
    "start_time": "2023-04-13T09:05:36.990Z"
   },
   {
    "duration": 8,
    "start_time": "2023-04-13T09:06:10.629Z"
   },
   {
    "duration": 6,
    "start_time": "2023-04-13T09:06:39.189Z"
   },
   {
    "duration": 5,
    "start_time": "2023-04-13T09:06:55.822Z"
   },
   {
    "duration": 5658,
    "start_time": "2023-04-13T09:12:58.158Z"
   },
   {
    "duration": 10,
    "start_time": "2023-04-13T09:13:49.686Z"
   },
   {
    "duration": 9,
    "start_time": "2023-04-13T09:13:56.923Z"
   },
   {
    "duration": 8,
    "start_time": "2023-04-13T09:14:03.912Z"
   },
   {
    "duration": 9,
    "start_time": "2023-04-13T09:16:47.382Z"
   },
   {
    "duration": 239,
    "start_time": "2023-04-13T09:17:00.262Z"
   },
   {
    "duration": 3,
    "start_time": "2023-04-13T09:17:48.611Z"
   },
   {
    "duration": 8,
    "start_time": "2023-04-13T09:17:54.012Z"
   },
   {
    "duration": 11,
    "start_time": "2023-04-13T09:18:00.554Z"
   },
   {
    "duration": 35,
    "start_time": "2023-04-13T09:18:06.032Z"
   },
   {
    "duration": 13,
    "start_time": "2023-04-13T09:18:35.167Z"
   },
   {
    "duration": 11,
    "start_time": "2023-04-13T09:18:58.064Z"
   },
   {
    "duration": 10,
    "start_time": "2023-04-13T09:20:45.581Z"
   },
   {
    "duration": 5,
    "start_time": "2023-04-13T09:20:56.271Z"
   },
   {
    "duration": 5,
    "start_time": "2023-04-13T09:26:16.018Z"
   },
   {
    "duration": 5,
    "start_time": "2023-04-13T09:26:56.268Z"
   },
   {
    "duration": 9,
    "start_time": "2023-04-13T09:27:13.978Z"
   },
   {
    "duration": 1130,
    "start_time": "2023-04-13T09:27:23.770Z"
   },
   {
    "duration": 68,
    "start_time": "2023-04-13T09:27:24.902Z"
   },
   {
    "duration": 6,
    "start_time": "2023-04-13T09:27:24.972Z"
   },
   {
    "duration": 13,
    "start_time": "2023-04-13T09:27:24.979Z"
   },
   {
    "duration": 23,
    "start_time": "2023-04-13T09:27:24.994Z"
   },
   {
    "duration": 57,
    "start_time": "2023-04-13T09:27:25.019Z"
   },
   {
    "duration": 23,
    "start_time": "2023-04-13T09:27:25.078Z"
   },
   {
    "duration": 23,
    "start_time": "2023-04-13T09:27:25.103Z"
   },
   {
    "duration": 160,
    "start_time": "2023-04-13T09:27:25.127Z"
   },
   {
    "duration": 60,
    "start_time": "2023-04-13T09:28:15.148Z"
   },
   {
    "duration": 6,
    "start_time": "2023-04-13T09:28:22.107Z"
   },
   {
    "duration": 8,
    "start_time": "2023-04-13T09:30:09.927Z"
   },
   {
    "duration": 14,
    "start_time": "2023-04-13T09:31:22.452Z"
   },
   {
    "duration": 15,
    "start_time": "2023-04-13T09:32:30.402Z"
   },
   {
    "duration": 14,
    "start_time": "2023-04-13T09:32:42.586Z"
   },
   {
    "duration": 53,
    "start_time": "2023-04-13T19:00:37.201Z"
   },
   {
    "duration": 1293,
    "start_time": "2023-04-13T19:00:45.714Z"
   },
   {
    "duration": 112,
    "start_time": "2023-04-13T19:00:47.010Z"
   },
   {
    "duration": 7,
    "start_time": "2023-04-13T19:00:47.123Z"
   },
   {
    "duration": 10,
    "start_time": "2023-04-13T19:00:47.133Z"
   },
   {
    "duration": 12,
    "start_time": "2023-04-13T19:00:47.145Z"
   },
   {
    "duration": 17,
    "start_time": "2023-04-13T19:00:47.161Z"
   },
   {
    "duration": 16,
    "start_time": "2023-04-13T19:00:47.181Z"
   },
   {
    "duration": 12,
    "start_time": "2023-04-13T19:00:47.199Z"
   },
   {
    "duration": 6,
    "start_time": "2023-04-13T19:00:47.213Z"
   },
   {
    "duration": 48,
    "start_time": "2023-04-13T19:00:47.222Z"
   },
   {
    "duration": 16,
    "start_time": "2023-04-13T19:00:47.273Z"
   },
   {
    "duration": 2410,
    "start_time": "2023-04-13T19:02:52.623Z"
   },
   {
    "duration": 28,
    "start_time": "2023-04-13T19:13:10.122Z"
   },
   {
    "duration": 122,
    "start_time": "2023-04-13T19:13:41.013Z"
   },
   {
    "duration": 1512,
    "start_time": "2023-04-13T19:17:46.989Z"
   },
   {
    "duration": 955,
    "start_time": "2023-04-13T19:18:25.981Z"
   },
   {
    "duration": 818,
    "start_time": "2023-04-13T19:20:08.122Z"
   },
   {
    "duration": 335,
    "start_time": "2023-04-13T19:20:21.582Z"
   },
   {
    "duration": 339,
    "start_time": "2023-04-13T19:20:39.791Z"
   },
   {
    "duration": 19,
    "start_time": "2023-04-13T19:22:10.692Z"
   },
   {
    "duration": 411,
    "start_time": "2023-04-13T19:24:32.031Z"
   },
   {
    "duration": 4,
    "start_time": "2023-04-13T19:30:29.100Z"
   },
   {
    "duration": 48,
    "start_time": "2023-04-13T19:42:15.483Z"
   },
   {
    "duration": 49,
    "start_time": "2023-04-13T19:42:39.223Z"
   },
   {
    "duration": 30,
    "start_time": "2023-04-13T19:57:22.584Z"
   },
   {
    "duration": 56,
    "start_time": "2023-04-14T06:06:33.662Z"
   },
   {
    "duration": 1165,
    "start_time": "2023-04-14T06:06:45.573Z"
   },
   {
    "duration": 195,
    "start_time": "2023-04-14T06:06:46.741Z"
   },
   {
    "duration": 8,
    "start_time": "2023-04-14T06:06:46.939Z"
   },
   {
    "duration": 28,
    "start_time": "2023-04-14T06:06:46.949Z"
   },
   {
    "duration": 31,
    "start_time": "2023-04-14T06:06:46.980Z"
   },
   {
    "duration": 15,
    "start_time": "2023-04-14T06:06:47.013Z"
   },
   {
    "duration": 19,
    "start_time": "2023-04-14T06:06:47.030Z"
   },
   {
    "duration": 26,
    "start_time": "2023-04-14T06:06:47.051Z"
   },
   {
    "duration": 29,
    "start_time": "2023-04-14T06:06:47.079Z"
   },
   {
    "duration": 33,
    "start_time": "2023-04-14T06:06:47.110Z"
   },
   {
    "duration": 348,
    "start_time": "2023-04-14T06:06:47.145Z"
   },
   {
    "duration": 0,
    "start_time": "2023-04-14T06:06:47.495Z"
   },
   {
    "duration": 914,
    "start_time": "2023-04-14T06:09:32.761Z"
   },
   {
    "duration": 939,
    "start_time": "2023-04-14T06:10:19.882Z"
   },
   {
    "duration": 885,
    "start_time": "2023-04-14T06:10:42.831Z"
   },
   {
    "duration": 929,
    "start_time": "2023-04-14T06:10:52.254Z"
   },
   {
    "duration": 1608,
    "start_time": "2023-04-14T06:11:31.317Z"
   },
   {
    "duration": 6,
    "start_time": "2023-04-14T06:11:53.271Z"
   },
   {
    "duration": 6,
    "start_time": "2023-04-14T06:12:09.118Z"
   },
   {
    "duration": 8,
    "start_time": "2023-04-14T06:12:16.815Z"
   },
   {
    "duration": 6,
    "start_time": "2023-04-14T06:12:47.310Z"
   },
   {
    "duration": 6,
    "start_time": "2023-04-14T06:12:49.071Z"
   },
   {
    "duration": 1292,
    "start_time": "2023-04-14T06:13:49.325Z"
   },
   {
    "duration": 70,
    "start_time": "2023-04-14T06:13:50.620Z"
   },
   {
    "duration": 9,
    "start_time": "2023-04-14T06:13:50.692Z"
   },
   {
    "duration": 13,
    "start_time": "2023-04-14T06:13:50.704Z"
   },
   {
    "duration": 49,
    "start_time": "2023-04-14T06:13:50.719Z"
   },
   {
    "duration": 8,
    "start_time": "2023-04-14T06:13:50.771Z"
   },
   {
    "duration": 21,
    "start_time": "2023-04-14T06:13:50.781Z"
   },
   {
    "duration": 19,
    "start_time": "2023-04-14T06:13:50.803Z"
   },
   {
    "duration": 8,
    "start_time": "2023-04-14T06:13:50.824Z"
   },
   {
    "duration": 26,
    "start_time": "2023-04-14T06:13:50.843Z"
   },
   {
    "duration": 17,
    "start_time": "2023-04-14T06:13:50.871Z"
   },
   {
    "duration": 17,
    "start_time": "2023-04-14T06:13:50.891Z"
   },
   {
    "duration": 408,
    "start_time": "2023-04-14T06:13:50.910Z"
   },
   {
    "duration": 0,
    "start_time": "2023-04-14T06:13:51.321Z"
   },
   {
    "duration": 239,
    "start_time": "2023-04-14T06:15:56.320Z"
   },
   {
    "duration": 231,
    "start_time": "2023-04-14T06:16:31.116Z"
   },
   {
    "duration": 17,
    "start_time": "2023-04-14T06:16:38.241Z"
   },
   {
    "duration": 236,
    "start_time": "2023-04-14T06:17:28.871Z"
   },
   {
    "duration": 222,
    "start_time": "2023-04-14T06:17:44.013Z"
   },
   {
    "duration": 224,
    "start_time": "2023-04-14T06:17:57.331Z"
   },
   {
    "duration": 228,
    "start_time": "2023-04-14T06:18:19.308Z"
   },
   {
    "duration": 22,
    "start_time": "2023-04-14T06:20:17.441Z"
   },
   {
    "duration": 1185,
    "start_time": "2023-04-14T06:20:30.111Z"
   },
   {
    "duration": 64,
    "start_time": "2023-04-14T06:20:31.298Z"
   },
   {
    "duration": 6,
    "start_time": "2023-04-14T06:20:31.364Z"
   },
   {
    "duration": 102,
    "start_time": "2023-04-14T06:20:31.371Z"
   },
   {
    "duration": 64,
    "start_time": "2023-04-14T06:20:31.476Z"
   },
   {
    "duration": 54,
    "start_time": "2023-04-14T06:20:31.542Z"
   },
   {
    "duration": 34,
    "start_time": "2023-04-14T06:20:31.598Z"
   },
   {
    "duration": 57,
    "start_time": "2023-04-14T06:20:31.634Z"
   },
   {
    "duration": 35,
    "start_time": "2023-04-14T06:20:31.693Z"
   },
   {
    "duration": 42,
    "start_time": "2023-04-14T06:20:31.730Z"
   },
   {
    "duration": 39,
    "start_time": "2023-04-14T06:20:31.774Z"
   },
   {
    "duration": 27,
    "start_time": "2023-04-14T06:20:31.815Z"
   },
   {
    "duration": 43,
    "start_time": "2023-04-14T06:20:31.845Z"
   },
   {
    "duration": 39,
    "start_time": "2023-04-14T06:20:31.891Z"
   },
   {
    "duration": 25,
    "start_time": "2023-04-14T06:21:08.250Z"
   },
   {
    "duration": 6,
    "start_time": "2023-04-14T06:21:38.296Z"
   },
   {
    "duration": 6,
    "start_time": "2023-04-14T06:22:37.441Z"
   },
   {
    "duration": 25,
    "start_time": "2023-04-14T06:22:54.866Z"
   },
   {
    "duration": 121,
    "start_time": "2023-04-14T06:23:49.250Z"
   },
   {
    "duration": 1192,
    "start_time": "2023-04-14T06:23:58.913Z"
   },
   {
    "duration": 61,
    "start_time": "2023-04-14T06:24:00.108Z"
   },
   {
    "duration": 6,
    "start_time": "2023-04-14T06:24:00.171Z"
   },
   {
    "duration": 37,
    "start_time": "2023-04-14T06:24:00.179Z"
   },
   {
    "duration": 58,
    "start_time": "2023-04-14T06:24:00.218Z"
   },
   {
    "duration": 57,
    "start_time": "2023-04-14T06:24:00.278Z"
   },
   {
    "duration": 71,
    "start_time": "2023-04-14T06:24:00.337Z"
   },
   {
    "duration": 96,
    "start_time": "2023-04-14T06:24:00.410Z"
   },
   {
    "duration": 45,
    "start_time": "2023-04-14T06:24:00.508Z"
   },
   {
    "duration": 81,
    "start_time": "2023-04-14T06:24:00.556Z"
   },
   {
    "duration": 49,
    "start_time": "2023-04-14T06:24:00.639Z"
   },
   {
    "duration": 54,
    "start_time": "2023-04-14T06:24:00.690Z"
   },
   {
    "duration": 70,
    "start_time": "2023-04-14T06:24:00.746Z"
   },
   {
    "duration": 39,
    "start_time": "2023-04-14T06:24:00.819Z"
   },
   {
    "duration": 55,
    "start_time": "2023-04-14T06:24:00.860Z"
   },
   {
    "duration": 7,
    "start_time": "2023-04-14T06:24:33.616Z"
   },
   {
    "duration": 118,
    "start_time": "2023-04-14T06:25:29.912Z"
   },
   {
    "duration": 1180,
    "start_time": "2023-04-14T06:25:38.441Z"
   },
   {
    "duration": 64,
    "start_time": "2023-04-14T06:25:39.623Z"
   },
   {
    "duration": 6,
    "start_time": "2023-04-14T06:25:39.689Z"
   },
   {
    "duration": 38,
    "start_time": "2023-04-14T06:25:39.696Z"
   },
   {
    "duration": 32,
    "start_time": "2023-04-14T06:25:39.736Z"
   },
   {
    "duration": 27,
    "start_time": "2023-04-14T06:25:39.770Z"
   },
   {
    "duration": 25,
    "start_time": "2023-04-14T06:25:39.798Z"
   },
   {
    "duration": 19,
    "start_time": "2023-04-14T06:25:39.825Z"
   },
   {
    "duration": 18,
    "start_time": "2023-04-14T06:25:39.847Z"
   },
   {
    "duration": 60,
    "start_time": "2023-04-14T06:25:39.867Z"
   },
   {
    "duration": 6,
    "start_time": "2023-04-14T06:25:39.929Z"
   },
   {
    "duration": 20,
    "start_time": "2023-04-14T06:25:39.937Z"
   },
   {
    "duration": 38,
    "start_time": "2023-04-14T06:25:39.959Z"
   },
   {
    "duration": 30,
    "start_time": "2023-04-14T06:25:39.999Z"
   },
   {
    "duration": 40,
    "start_time": "2023-04-14T06:25:40.031Z"
   },
   {
    "duration": 1352,
    "start_time": "2023-04-14T06:27:07.831Z"
   },
   {
    "duration": 65,
    "start_time": "2023-04-14T06:27:09.186Z"
   },
   {
    "duration": 6,
    "start_time": "2023-04-14T06:27:09.253Z"
   },
   {
    "duration": 16,
    "start_time": "2023-04-14T06:27:09.260Z"
   },
   {
    "duration": 15,
    "start_time": "2023-04-14T06:27:09.279Z"
   },
   {
    "duration": 12,
    "start_time": "2023-04-14T06:27:09.296Z"
   },
   {
    "duration": 14,
    "start_time": "2023-04-14T06:27:09.310Z"
   },
   {
    "duration": 27,
    "start_time": "2023-04-14T06:27:09.326Z"
   },
   {
    "duration": 5,
    "start_time": "2023-04-14T06:27:09.355Z"
   },
   {
    "duration": 26,
    "start_time": "2023-04-14T06:27:09.362Z"
   },
   {
    "duration": 7,
    "start_time": "2023-04-14T06:27:09.389Z"
   },
   {
    "duration": 13,
    "start_time": "2023-04-14T06:27:09.399Z"
   },
   {
    "duration": 48,
    "start_time": "2023-04-14T06:27:09.414Z"
   },
   {
    "duration": 6,
    "start_time": "2023-04-14T06:27:09.465Z"
   },
   {
    "duration": 46,
    "start_time": "2023-04-14T06:27:09.473Z"
   },
   {
    "duration": 5,
    "start_time": "2023-04-14T06:27:47.331Z"
   },
   {
    "duration": 14,
    "start_time": "2023-04-14T06:28:28.915Z"
   },
   {
    "duration": 32,
    "start_time": "2023-04-14T06:38:46.409Z"
   },
   {
    "duration": 25,
    "start_time": "2023-04-14T06:40:14.520Z"
   },
   {
    "duration": 45,
    "start_time": "2023-04-14T06:41:24.480Z"
   },
   {
    "duration": 955,
    "start_time": "2023-04-14T06:43:06.379Z"
   },
   {
    "duration": 762,
    "start_time": "2023-04-14T06:43:14.410Z"
   },
   {
    "duration": 10,
    "start_time": "2023-04-14T06:43:25.504Z"
   },
   {
    "duration": 667,
    "start_time": "2023-04-14T06:43:58.205Z"
   },
   {
    "duration": 160,
    "start_time": "2023-04-14T06:45:00.751Z"
   },
   {
    "duration": 8,
    "start_time": "2023-04-14T06:45:33.280Z"
   },
   {
    "duration": 7,
    "start_time": "2023-04-14T06:45:52.306Z"
   },
   {
    "duration": 15,
    "start_time": "2023-04-14T06:46:46.663Z"
   },
   {
    "duration": 7,
    "start_time": "2023-04-14T06:47:33.406Z"
   },
   {
    "duration": 8,
    "start_time": "2023-04-14T06:47:44.460Z"
   },
   {
    "duration": 4,
    "start_time": "2023-04-14T06:52:10.120Z"
   },
   {
    "duration": 10,
    "start_time": "2023-04-14T06:52:48.350Z"
   },
   {
    "duration": 4,
    "start_time": "2023-04-14T07:04:17.129Z"
   },
   {
    "duration": 7,
    "start_time": "2023-04-14T07:04:33.509Z"
   },
   {
    "duration": 301,
    "start_time": "2023-04-14T07:04:46.380Z"
   },
   {
    "duration": 87,
    "start_time": "2023-04-14T07:05:34.529Z"
   },
   {
    "duration": 42,
    "start_time": "2023-04-14T07:14:59.709Z"
   },
   {
    "duration": 4,
    "start_time": "2023-04-14T07:15:10.129Z"
   },
   {
    "duration": 20,
    "start_time": "2023-04-14T07:15:13.092Z"
   },
   {
    "duration": 52,
    "start_time": "2023-04-14T07:16:01.319Z"
   },
   {
    "duration": 15,
    "start_time": "2023-04-14T07:18:05.539Z"
   },
   {
    "duration": 6,
    "start_time": "2023-04-14T07:18:10.739Z"
   },
   {
    "duration": 14,
    "start_time": "2023-04-14T07:18:35.439Z"
   },
   {
    "duration": 7,
    "start_time": "2023-04-14T07:18:38.658Z"
   },
   {
    "duration": 49,
    "start_time": "2023-04-14T07:18:43.185Z"
   },
   {
    "duration": 7,
    "start_time": "2023-04-14T07:18:46.539Z"
   },
   {
    "duration": 15,
    "start_time": "2023-04-14T07:18:48.699Z"
   },
   {
    "duration": 45,
    "start_time": "2023-04-14T07:18:50.499Z"
   },
   {
    "duration": 44,
    "start_time": "2023-04-14T07:19:07.987Z"
   },
   {
    "duration": 14,
    "start_time": "2023-04-14T07:20:00.199Z"
   },
   {
    "duration": 58,
    "start_time": "2023-04-14T07:20:34.558Z"
   },
   {
    "duration": 78,
    "start_time": "2023-04-14T07:20:46.728Z"
   },
   {
    "duration": 59,
    "start_time": "2023-04-14T07:21:17.449Z"
   },
   {
    "duration": 60,
    "start_time": "2023-04-14T07:21:22.128Z"
   },
   {
    "duration": 25,
    "start_time": "2023-04-14T07:21:44.129Z"
   },
   {
    "duration": 8,
    "start_time": "2023-04-14T07:21:46.484Z"
   },
   {
    "duration": 81,
    "start_time": "2023-04-14T07:21:48.698Z"
   },
   {
    "duration": 15,
    "start_time": "2023-04-14T07:21:55.185Z"
   },
   {
    "duration": 6,
    "start_time": "2023-04-14T07:21:57.360Z"
   },
   {
    "duration": 16,
    "start_time": "2023-04-14T07:22:01.389Z"
   },
   {
    "duration": 6,
    "start_time": "2023-04-14T07:22:03.298Z"
   },
   {
    "duration": 15,
    "start_time": "2023-04-14T07:22:08.098Z"
   },
   {
    "duration": 7,
    "start_time": "2023-04-14T07:22:09.975Z"
   },
   {
    "duration": 60,
    "start_time": "2023-04-14T07:22:11.938Z"
   },
   {
    "duration": 61,
    "start_time": "2023-04-14T07:22:26.792Z"
   },
   {
    "duration": 55,
    "start_time": "2023-04-14T07:22:33.922Z"
   },
   {
    "duration": 8,
    "start_time": "2023-04-14T07:24:20.958Z"
   },
   {
    "duration": 63,
    "start_time": "2023-04-14T07:26:27.788Z"
   },
   {
    "duration": 8,
    "start_time": "2023-04-14T07:26:36.429Z"
   },
   {
    "duration": 177,
    "start_time": "2023-04-14T07:27:14.754Z"
   },
   {
    "duration": 70,
    "start_time": "2023-04-14T07:28:16.598Z"
   },
   {
    "duration": 9,
    "start_time": "2023-04-14T07:28:26.555Z"
   },
   {
    "duration": 1314,
    "start_time": "2023-04-14T07:29:28.610Z"
   },
   {
    "duration": 87,
    "start_time": "2023-04-14T07:29:29.926Z"
   },
   {
    "duration": 8,
    "start_time": "2023-04-14T07:29:30.015Z"
   },
   {
    "duration": 48,
    "start_time": "2023-04-14T07:29:30.025Z"
   },
   {
    "duration": 60,
    "start_time": "2023-04-14T07:29:30.076Z"
   },
   {
    "duration": 54,
    "start_time": "2023-04-14T07:29:30.139Z"
   },
   {
    "duration": 47,
    "start_time": "2023-04-14T07:29:30.195Z"
   },
   {
    "duration": 61,
    "start_time": "2023-04-14T07:29:30.244Z"
   },
   {
    "duration": 82,
    "start_time": "2023-04-14T07:29:30.307Z"
   },
   {
    "duration": 54,
    "start_time": "2023-04-14T07:29:30.390Z"
   },
   {
    "duration": 94,
    "start_time": "2023-04-14T07:29:30.445Z"
   },
   {
    "duration": 70,
    "start_time": "2023-04-14T07:29:30.541Z"
   },
   {
    "duration": 56,
    "start_time": "2023-04-14T07:29:30.613Z"
   },
   {
    "duration": 69,
    "start_time": "2023-04-14T07:29:30.674Z"
   },
   {
    "duration": 73,
    "start_time": "2023-04-14T07:29:30.745Z"
   },
   {
    "duration": 82,
    "start_time": "2023-04-14T07:29:30.820Z"
   },
   {
    "duration": 82,
    "start_time": "2023-04-14T07:29:30.904Z"
   },
   {
    "duration": 9,
    "start_time": "2023-04-14T07:29:30.989Z"
   },
   {
    "duration": 77,
    "start_time": "2023-04-14T07:29:31.000Z"
   },
   {
    "duration": 177,
    "start_time": "2023-04-14T07:29:31.078Z"
   },
   {
    "duration": 60,
    "start_time": "2023-04-14T07:29:31.258Z"
   },
   {
    "duration": 123,
    "start_time": "2023-04-14T07:29:31.320Z"
   },
   {
    "duration": 198,
    "start_time": "2023-04-14T07:29:31.445Z"
   },
   {
    "duration": 163,
    "start_time": "2023-04-14T07:29:31.646Z"
   },
   {
    "duration": 138,
    "start_time": "2023-04-14T07:29:31.811Z"
   },
   {
    "duration": 14,
    "start_time": "2023-04-14T07:29:31.951Z"
   },
   {
    "duration": 92,
    "start_time": "2023-04-14T07:29:31.968Z"
   },
   {
    "duration": 7,
    "start_time": "2023-04-14T07:29:32.062Z"
   },
   {
    "duration": 83,
    "start_time": "2023-04-14T07:29:32.071Z"
   },
   {
    "duration": 90,
    "start_time": "2023-04-14T07:29:32.157Z"
   },
   {
    "duration": 31,
    "start_time": "2023-04-14T07:32:23.391Z"
   },
   {
    "duration": 28,
    "start_time": "2023-04-14T07:32:28.138Z"
   },
   {
    "duration": 35,
    "start_time": "2023-04-14T07:32:31.683Z"
   },
   {
    "duration": 31,
    "start_time": "2023-04-14T07:32:35.108Z"
   },
   {
    "duration": 67,
    "start_time": "2023-04-14T07:34:20.408Z"
   },
   {
    "duration": 7,
    "start_time": "2023-04-14T07:34:58.858Z"
   },
   {
    "duration": 29,
    "start_time": "2023-04-14T07:35:05.298Z"
   },
   {
    "duration": 32,
    "start_time": "2023-04-14T07:35:09.298Z"
   },
   {
    "duration": 33,
    "start_time": "2023-04-14T07:35:14.008Z"
   },
   {
    "duration": 33,
    "start_time": "2023-04-14T07:35:17.738Z"
   },
   {
    "duration": 54,
    "start_time": "2023-04-14T07:35:20.388Z"
   },
   {
    "duration": 31,
    "start_time": "2023-04-14T07:35:22.908Z"
   },
   {
    "duration": 7,
    "start_time": "2023-04-14T07:35:26.338Z"
   },
   {
    "duration": 524,
    "start_time": "2023-04-14T07:38:40.108Z"
   },
   {
    "duration": 127,
    "start_time": "2023-04-14T07:39:23.938Z"
   },
   {
    "duration": 12,
    "start_time": "2023-04-14T07:39:54.169Z"
   },
   {
    "duration": 2699,
    "start_time": "2023-04-14T07:40:28.018Z"
   },
   {
    "duration": 4150,
    "start_time": "2023-04-14T07:41:18.999Z"
   },
   {
    "duration": 4,
    "start_time": "2023-04-14T07:42:06.197Z"
   },
   {
    "duration": 56,
    "start_time": "2023-04-14T07:43:22.708Z"
   },
   {
    "duration": 47,
    "start_time": "2023-04-14T07:46:16.258Z"
   },
   {
    "duration": 7,
    "start_time": "2023-04-14T07:46:22.199Z"
   },
   {
    "duration": 44,
    "start_time": "2023-04-14T07:46:31.728Z"
   },
   {
    "duration": 9,
    "start_time": "2023-04-14T07:46:46.898Z"
   },
   {
    "duration": 48,
    "start_time": "2023-04-14T07:48:53.184Z"
   },
   {
    "duration": 44,
    "start_time": "2023-04-14T07:48:59.290Z"
   },
   {
    "duration": 123,
    "start_time": "2023-04-14T07:49:20.418Z"
   },
   {
    "duration": 34,
    "start_time": "2023-04-14T07:49:25.837Z"
   },
   {
    "duration": 134,
    "start_time": "2023-04-14T07:51:25.538Z"
   },
   {
    "duration": 56,
    "start_time": "2023-04-14T07:51:50.484Z"
   },
   {
    "duration": 5999,
    "start_time": "2023-04-14T07:52:00.237Z"
   },
   {
    "duration": 67,
    "start_time": "2023-04-14T07:52:27.997Z"
   },
   {
    "duration": 17511,
    "start_time": "2023-04-14T07:54:10.917Z"
   },
   {
    "duration": 53,
    "start_time": "2023-04-14T07:55:09.286Z"
   },
   {
    "duration": 403,
    "start_time": "2023-04-14T07:55:38.038Z"
   },
   {
    "duration": 485,
    "start_time": "2023-04-14T07:55:44.956Z"
   },
   {
    "duration": 60,
    "start_time": "2023-04-14T07:56:11.588Z"
   },
   {
    "duration": 26,
    "start_time": "2023-04-14T07:56:56.737Z"
   },
   {
    "duration": 54,
    "start_time": "2023-04-14T07:57:07.387Z"
   },
   {
    "duration": 2940,
    "start_time": "2023-04-14T07:58:11.958Z"
   },
   {
    "duration": 3044,
    "start_time": "2023-04-14T07:58:25.480Z"
   },
   {
    "duration": 51,
    "start_time": "2023-04-14T07:58:38.486Z"
   },
   {
    "duration": 1277,
    "start_time": "2023-04-14T07:58:48.214Z"
   },
   {
    "duration": 64,
    "start_time": "2023-04-14T07:58:49.493Z"
   },
   {
    "duration": 7,
    "start_time": "2023-04-14T07:58:49.559Z"
   },
   {
    "duration": 11,
    "start_time": "2023-04-14T07:58:49.568Z"
   },
   {
    "duration": 22,
    "start_time": "2023-04-14T07:58:49.582Z"
   },
   {
    "duration": 29,
    "start_time": "2023-04-14T07:58:49.606Z"
   },
   {
    "duration": 28,
    "start_time": "2023-04-14T07:58:49.637Z"
   },
   {
    "duration": 35,
    "start_time": "2023-04-14T07:58:49.667Z"
   },
   {
    "duration": 49,
    "start_time": "2023-04-14T07:58:49.705Z"
   },
   {
    "duration": 15,
    "start_time": "2023-04-14T07:58:49.756Z"
   },
   {
    "duration": 32,
    "start_time": "2023-04-14T07:58:49.774Z"
   },
   {
    "duration": 9,
    "start_time": "2023-04-14T07:58:49.809Z"
   },
   {
    "duration": 22,
    "start_time": "2023-04-14T07:58:49.820Z"
   },
   {
    "duration": 42,
    "start_time": "2023-04-14T07:58:49.845Z"
   },
   {
    "duration": 9,
    "start_time": "2023-04-14T07:58:49.889Z"
   },
   {
    "duration": 47,
    "start_time": "2023-04-14T07:58:49.900Z"
   },
   {
    "duration": 44,
    "start_time": "2023-04-14T07:58:49.949Z"
   },
   {
    "duration": 9,
    "start_time": "2023-04-14T07:58:49.994Z"
   },
   {
    "duration": 43,
    "start_time": "2023-04-14T07:58:50.005Z"
   },
   {
    "duration": 10,
    "start_time": "2023-04-14T07:58:50.050Z"
   },
   {
    "duration": 35,
    "start_time": "2023-04-14T07:58:50.062Z"
   },
   {
    "duration": 31,
    "start_time": "2023-04-14T07:58:50.099Z"
   },
   {
    "duration": 25,
    "start_time": "2023-04-14T07:58:50.132Z"
   },
   {
    "duration": 24,
    "start_time": "2023-04-14T07:58:50.159Z"
   },
   {
    "duration": 82,
    "start_time": "2023-04-14T07:58:50.185Z"
   },
   {
    "duration": 8,
    "start_time": "2023-04-14T07:58:50.269Z"
   },
   {
    "duration": 67,
    "start_time": "2023-04-14T07:58:50.279Z"
   },
   {
    "duration": 97,
    "start_time": "2023-04-14T07:58:50.348Z"
   },
   {
    "duration": 98,
    "start_time": "2023-04-14T07:58:50.448Z"
   },
   {
    "duration": 578,
    "start_time": "2023-04-14T07:58:50.548Z"
   },
   {
    "duration": 131,
    "start_time": "2023-04-14T07:58:51.128Z"
   },
   {
    "duration": 0,
    "start_time": "2023-04-14T07:58:51.261Z"
   },
   {
    "duration": 0,
    "start_time": "2023-04-14T07:58:51.263Z"
   },
   {
    "duration": 1297,
    "start_time": "2023-04-14T07:59:12.691Z"
   },
   {
    "duration": 64,
    "start_time": "2023-04-14T07:59:13.990Z"
   },
   {
    "duration": 7,
    "start_time": "2023-04-14T07:59:14.056Z"
   },
   {
    "duration": 15,
    "start_time": "2023-04-14T07:59:14.065Z"
   },
   {
    "duration": 15,
    "start_time": "2023-04-14T07:59:14.083Z"
   },
   {
    "duration": 19,
    "start_time": "2023-04-14T07:59:14.100Z"
   },
   {
    "duration": 19,
    "start_time": "2023-04-14T07:59:14.122Z"
   },
   {
    "duration": 23,
    "start_time": "2023-04-14T07:59:14.142Z"
   },
   {
    "duration": 30,
    "start_time": "2023-04-14T07:59:14.167Z"
   },
   {
    "duration": 18,
    "start_time": "2023-04-14T07:59:14.198Z"
   },
   {
    "duration": 43,
    "start_time": "2023-04-14T07:59:14.217Z"
   },
   {
    "duration": 14,
    "start_time": "2023-04-14T07:59:14.261Z"
   },
   {
    "duration": 38,
    "start_time": "2023-04-14T07:59:14.277Z"
   },
   {
    "duration": 32,
    "start_time": "2023-04-14T07:59:14.318Z"
   },
   {
    "duration": 15,
    "start_time": "2023-04-14T07:59:14.353Z"
   },
   {
    "duration": 70,
    "start_time": "2023-04-14T07:59:14.370Z"
   },
   {
    "duration": 44,
    "start_time": "2023-04-14T07:59:14.442Z"
   },
   {
    "duration": 8,
    "start_time": "2023-04-14T07:59:14.488Z"
   },
   {
    "duration": 48,
    "start_time": "2023-04-14T07:59:14.498Z"
   },
   {
    "duration": 21,
    "start_time": "2023-04-14T07:59:14.548Z"
   },
   {
    "duration": 121,
    "start_time": "2023-04-14T07:59:14.571Z"
   },
   {
    "duration": 29,
    "start_time": "2023-04-14T07:59:14.694Z"
   },
   {
    "duration": 25,
    "start_time": "2023-04-14T07:59:14.725Z"
   },
   {
    "duration": 6,
    "start_time": "2023-04-14T07:59:14.752Z"
   },
   {
    "duration": 60,
    "start_time": "2023-04-14T07:59:14.760Z"
   },
   {
    "duration": 20,
    "start_time": "2023-04-14T07:59:14.822Z"
   },
   {
    "duration": 44,
    "start_time": "2023-04-14T07:59:14.844Z"
   },
   {
    "duration": 56,
    "start_time": "2023-04-14T07:59:14.890Z"
   },
   {
    "duration": 99,
    "start_time": "2023-04-14T07:59:14.948Z"
   },
   {
    "duration": 579,
    "start_time": "2023-04-14T07:59:15.049Z"
   },
   {
    "duration": 2985,
    "start_time": "2023-04-14T07:59:15.630Z"
   },
   {
    "duration": 2728,
    "start_time": "2023-04-14T07:59:18.617Z"
   },
   {
    "duration": 135,
    "start_time": "2023-04-14T07:59:21.348Z"
   },
   {
    "duration": 7,
    "start_time": "2023-04-14T08:03:04.828Z"
   },
   {
    "duration": 62,
    "start_time": "2023-04-14T08:03:35.743Z"
   },
   {
    "duration": 55,
    "start_time": "2023-04-14T08:03:42.198Z"
   },
   {
    "duration": 113,
    "start_time": "2023-04-14T08:04:37.098Z"
   },
   {
    "duration": 52,
    "start_time": "2023-04-14T08:06:30.187Z"
   },
   {
    "duration": 9,
    "start_time": "2023-04-14T08:06:38.692Z"
   },
   {
    "duration": 49,
    "start_time": "2023-04-14T08:23:31.285Z"
   },
   {
    "duration": 8,
    "start_time": "2023-04-14T08:24:23.848Z"
   },
   {
    "duration": 13,
    "start_time": "2023-04-14T08:27:38.684Z"
   },
   {
    "duration": 15,
    "start_time": "2023-04-14T08:27:42.998Z"
   },
   {
    "duration": 63,
    "start_time": "2023-04-14T08:28:03.158Z"
   },
   {
    "duration": 15,
    "start_time": "2023-04-14T08:28:11.258Z"
   },
   {
    "duration": 1090,
    "start_time": "2023-04-14T11:34:08.215Z"
   },
   {
    "duration": 97,
    "start_time": "2023-04-14T11:34:09.307Z"
   },
   {
    "duration": 7,
    "start_time": "2023-04-14T11:34:09.406Z"
   },
   {
    "duration": 9,
    "start_time": "2023-04-14T11:34:09.415Z"
   },
   {
    "duration": 7,
    "start_time": "2023-04-14T11:34:09.426Z"
   },
   {
    "duration": 9,
    "start_time": "2023-04-14T11:34:09.434Z"
   },
   {
    "duration": 5,
    "start_time": "2023-04-14T11:34:09.444Z"
   },
   {
    "duration": 27,
    "start_time": "2023-04-14T11:34:09.450Z"
   },
   {
    "duration": 21,
    "start_time": "2023-04-14T11:34:09.479Z"
   },
   {
    "duration": 11,
    "start_time": "2023-04-14T11:34:09.502Z"
   },
   {
    "duration": 13,
    "start_time": "2023-04-14T11:34:09.515Z"
   },
   {
    "duration": 9,
    "start_time": "2023-04-14T11:34:09.529Z"
   },
   {
    "duration": 18,
    "start_time": "2023-04-14T11:34:09.539Z"
   },
   {
    "duration": 17,
    "start_time": "2023-04-14T11:34:09.559Z"
   },
   {
    "duration": 4,
    "start_time": "2023-04-14T11:34:09.578Z"
   },
   {
    "duration": 27,
    "start_time": "2023-04-14T11:34:09.601Z"
   },
   {
    "duration": 35,
    "start_time": "2023-04-14T11:34:09.630Z"
   },
   {
    "duration": 7,
    "start_time": "2023-04-14T11:34:09.666Z"
   },
   {
    "duration": 32,
    "start_time": "2023-04-14T11:34:09.674Z"
   },
   {
    "duration": 4,
    "start_time": "2023-04-14T11:34:09.708Z"
   },
   {
    "duration": 7,
    "start_time": "2023-04-14T11:34:09.714Z"
   },
   {
    "duration": 5,
    "start_time": "2023-04-14T11:34:09.722Z"
   },
   {
    "duration": 8,
    "start_time": "2023-04-14T11:34:09.728Z"
   },
   {
    "duration": 11,
    "start_time": "2023-04-14T11:34:09.738Z"
   },
   {
    "duration": 5,
    "start_time": "2023-04-14T11:34:09.750Z"
   },
   {
    "duration": 82,
    "start_time": "2023-04-14T11:34:09.756Z"
   },
   {
    "duration": 6,
    "start_time": "2023-04-14T11:34:09.840Z"
   },
   {
    "duration": 36,
    "start_time": "2023-04-14T11:34:09.847Z"
   },
   {
    "duration": 30,
    "start_time": "2023-04-14T11:34:09.893Z"
   },
   {
    "duration": 76,
    "start_time": "2023-04-14T11:34:09.925Z"
   },
   {
    "duration": 505,
    "start_time": "2023-04-14T11:34:10.003Z"
   },
   {
    "duration": 2336,
    "start_time": "2023-04-14T11:34:10.509Z"
   },
   {
    "duration": 5769,
    "start_time": "2023-04-14T11:34:12.846Z"
   },
   {
    "duration": 128,
    "start_time": "2023-04-14T11:34:18.694Z"
   },
   {
    "duration": 11,
    "start_time": "2023-04-14T11:34:18.823Z"
   },
   {
    "duration": 5,
    "start_time": "2023-04-14T11:34:18.836Z"
   },
   {
    "duration": 94,
    "start_time": "2023-04-14T11:39:35.689Z"
   },
   {
    "duration": 116,
    "start_time": "2023-04-14T11:39:57.380Z"
   },
   {
    "duration": 46,
    "start_time": "2023-04-14T11:40:01.289Z"
   },
   {
    "duration": 7,
    "start_time": "2023-04-14T11:46:55.158Z"
   },
   {
    "duration": 73,
    "start_time": "2023-04-14T11:52:48.469Z"
   },
   {
    "duration": 45,
    "start_time": "2023-04-14T11:52:52.471Z"
   },
   {
    "duration": 8,
    "start_time": "2023-04-14T11:53:43.554Z"
   },
   {
    "duration": 5,
    "start_time": "2023-04-14T11:54:37.125Z"
   },
   {
    "duration": 4,
    "start_time": "2023-04-14T11:54:47.268Z"
   },
   {
    "duration": 4,
    "start_time": "2023-04-14T11:54:55.930Z"
   },
   {
    "duration": 8,
    "start_time": "2023-04-14T11:57:26.749Z"
   },
   {
    "duration": 15,
    "start_time": "2023-04-14T11:58:03.000Z"
   },
   {
    "duration": 9,
    "start_time": "2023-04-14T11:59:21.828Z"
   },
   {
    "duration": 1097,
    "start_time": "2023-04-14T11:59:28.620Z"
   },
   {
    "duration": 53,
    "start_time": "2023-04-14T11:59:29.719Z"
   },
   {
    "duration": 5,
    "start_time": "2023-04-14T11:59:29.774Z"
   },
   {
    "duration": 5,
    "start_time": "2023-04-14T11:59:29.781Z"
   },
   {
    "duration": 13,
    "start_time": "2023-04-14T11:59:29.788Z"
   },
   {
    "duration": 9,
    "start_time": "2023-04-14T11:59:29.802Z"
   },
   {
    "duration": 5,
    "start_time": "2023-04-14T11:59:29.812Z"
   },
   {
    "duration": 14,
    "start_time": "2023-04-14T11:59:29.819Z"
   },
   {
    "duration": 8,
    "start_time": "2023-04-14T11:59:29.835Z"
   },
   {
    "duration": 4,
    "start_time": "2023-04-14T11:59:29.845Z"
   },
   {
    "duration": 14,
    "start_time": "2023-04-14T11:59:29.850Z"
   },
   {
    "duration": 31,
    "start_time": "2023-04-14T11:59:29.865Z"
   },
   {
    "duration": 12,
    "start_time": "2023-04-14T11:59:29.898Z"
   },
   {
    "duration": 21,
    "start_time": "2023-04-14T11:59:29.914Z"
   },
   {
    "duration": 5,
    "start_time": "2023-04-14T11:59:29.937Z"
   },
   {
    "duration": 26,
    "start_time": "2023-04-14T11:59:29.944Z"
   },
   {
    "duration": 40,
    "start_time": "2023-04-14T11:59:29.995Z"
   },
   {
    "duration": 6,
    "start_time": "2023-04-14T11:59:30.037Z"
   },
   {
    "duration": 28,
    "start_time": "2023-04-14T11:59:30.045Z"
   },
   {
    "duration": 23,
    "start_time": "2023-04-14T11:59:30.075Z"
   },
   {
    "duration": 32,
    "start_time": "2023-04-14T11:59:30.099Z"
   },
   {
    "duration": 25,
    "start_time": "2023-04-14T11:59:30.133Z"
   },
   {
    "duration": 25,
    "start_time": "2023-04-14T11:59:30.161Z"
   },
   {
    "duration": 47,
    "start_time": "2023-04-14T11:59:30.188Z"
   },
   {
    "duration": 18,
    "start_time": "2023-04-14T11:59:30.237Z"
   },
   {
    "duration": 65,
    "start_time": "2023-04-14T11:59:30.256Z"
   },
   {
    "duration": 8,
    "start_time": "2023-04-14T11:59:30.323Z"
   },
   {
    "duration": 20,
    "start_time": "2023-04-14T11:59:30.332Z"
   },
   {
    "duration": 55,
    "start_time": "2023-04-14T11:59:30.353Z"
   },
   {
    "duration": 26,
    "start_time": "2023-04-14T11:59:30.410Z"
   },
   {
    "duration": 63,
    "start_time": "2023-04-14T11:59:30.438Z"
   },
   {
    "duration": 556,
    "start_time": "2023-04-14T11:59:30.503Z"
   },
   {
    "duration": 2420,
    "start_time": "2023-04-14T11:59:31.061Z"
   },
   {
    "duration": 1815,
    "start_time": "2023-04-14T11:59:33.483Z"
   },
   {
    "duration": 214,
    "start_time": "2023-04-14T11:59:35.299Z"
   },
   {
    "duration": 11,
    "start_time": "2023-04-14T11:59:35.515Z"
   },
   {
    "duration": 20,
    "start_time": "2023-04-14T11:59:35.527Z"
   },
   {
    "duration": 11,
    "start_time": "2023-04-14T11:59:35.548Z"
   },
   {
    "duration": 4,
    "start_time": "2023-04-14T12:21:24.668Z"
   },
   {
    "duration": 103,
    "start_time": "2023-04-14T12:22:01.798Z"
   },
   {
    "duration": 1075,
    "start_time": "2023-04-14T12:27:39.710Z"
   },
   {
    "duration": 51,
    "start_time": "2023-04-14T12:27:40.787Z"
   },
   {
    "duration": 5,
    "start_time": "2023-04-14T12:27:40.840Z"
   },
   {
    "duration": 6,
    "start_time": "2023-04-14T12:27:40.846Z"
   },
   {
    "duration": 7,
    "start_time": "2023-04-14T12:27:40.854Z"
   },
   {
    "duration": 10,
    "start_time": "2023-04-14T12:27:40.862Z"
   },
   {
    "duration": 7,
    "start_time": "2023-04-14T12:27:40.874Z"
   },
   {
    "duration": 16,
    "start_time": "2023-04-14T12:27:40.882Z"
   },
   {
    "duration": 7,
    "start_time": "2023-04-14T12:27:40.900Z"
   },
   {
    "duration": 4,
    "start_time": "2023-04-14T12:27:40.909Z"
   },
   {
    "duration": 12,
    "start_time": "2023-04-14T12:27:40.914Z"
   },
   {
    "duration": 5,
    "start_time": "2023-04-14T12:27:40.928Z"
   },
   {
    "duration": 10,
    "start_time": "2023-04-14T12:27:40.934Z"
   },
   {
    "duration": 48,
    "start_time": "2023-04-14T12:27:40.947Z"
   },
   {
    "duration": 6,
    "start_time": "2023-04-14T12:27:40.997Z"
   },
   {
    "duration": 33,
    "start_time": "2023-04-14T12:27:41.004Z"
   },
   {
    "duration": 55,
    "start_time": "2023-04-14T12:27:41.039Z"
   },
   {
    "duration": 6,
    "start_time": "2023-04-14T12:27:41.096Z"
   },
   {
    "duration": 11,
    "start_time": "2023-04-14T12:27:41.104Z"
   },
   {
    "duration": 4,
    "start_time": "2023-04-14T12:27:41.116Z"
   },
   {
    "duration": 14,
    "start_time": "2023-04-14T12:27:41.122Z"
   },
   {
    "duration": 5,
    "start_time": "2023-04-14T12:27:41.138Z"
   },
   {
    "duration": 19,
    "start_time": "2023-04-14T12:27:41.145Z"
   },
   {
    "duration": 13,
    "start_time": "2023-04-14T12:27:41.165Z"
   },
   {
    "duration": 39,
    "start_time": "2023-04-14T12:27:41.193Z"
   },
   {
    "duration": 47,
    "start_time": "2023-04-14T12:27:41.233Z"
   },
   {
    "duration": 7,
    "start_time": "2023-04-14T12:27:41.281Z"
   },
   {
    "duration": 11,
    "start_time": "2023-04-14T12:27:41.289Z"
   },
   {
    "duration": 39,
    "start_time": "2023-04-14T12:27:41.301Z"
   },
   {
    "duration": 62,
    "start_time": "2023-04-14T12:27:41.341Z"
   },
   {
    "duration": 91,
    "start_time": "2023-04-14T12:27:41.405Z"
   },
   {
    "duration": 415,
    "start_time": "2023-04-14T12:27:41.497Z"
   },
   {
    "duration": 1113,
    "start_time": "2023-04-14T12:29:49.970Z"
   },
   {
    "duration": 51,
    "start_time": "2023-04-14T12:29:51.086Z"
   },
   {
    "duration": 5,
    "start_time": "2023-04-14T12:29:51.138Z"
   },
   {
    "duration": 25,
    "start_time": "2023-04-14T12:29:51.145Z"
   },
   {
    "duration": 6,
    "start_time": "2023-04-14T12:29:51.172Z"
   },
   {
    "duration": 11,
    "start_time": "2023-04-14T12:29:51.180Z"
   },
   {
    "duration": 5,
    "start_time": "2023-04-14T12:29:51.193Z"
   },
   {
    "duration": 12,
    "start_time": "2023-04-14T12:29:51.200Z"
   },
   {
    "duration": 37,
    "start_time": "2023-04-14T12:29:51.214Z"
   },
   {
    "duration": 4,
    "start_time": "2023-04-14T12:29:51.253Z"
   },
   {
    "duration": 13,
    "start_time": "2023-04-14T12:29:51.258Z"
   },
   {
    "duration": 6,
    "start_time": "2023-04-14T12:29:51.273Z"
   },
   {
    "duration": 29,
    "start_time": "2023-04-14T12:29:51.280Z"
   },
   {
    "duration": 24,
    "start_time": "2023-04-14T12:29:51.313Z"
   },
   {
    "duration": 5,
    "start_time": "2023-04-14T12:29:51.338Z"
   },
   {
    "duration": 42,
    "start_time": "2023-04-14T12:29:51.345Z"
   },
   {
    "duration": 45,
    "start_time": "2023-04-14T12:29:51.388Z"
   },
   {
    "duration": 9,
    "start_time": "2023-04-14T12:29:51.438Z"
   },
   {
    "duration": 30,
    "start_time": "2023-04-14T12:29:51.449Z"
   },
   {
    "duration": 31,
    "start_time": "2023-04-14T12:29:51.481Z"
   },
   {
    "duration": 34,
    "start_time": "2023-04-14T12:29:51.514Z"
   },
   {
    "duration": 13,
    "start_time": "2023-04-14T12:29:51.550Z"
   },
   {
    "duration": 28,
    "start_time": "2023-04-14T12:29:51.565Z"
   },
   {
    "duration": 46,
    "start_time": "2023-04-14T12:29:51.595Z"
   },
   {
    "duration": 30,
    "start_time": "2023-04-14T12:29:51.643Z"
   },
   {
    "duration": 82,
    "start_time": "2023-04-14T12:29:51.675Z"
   },
   {
    "duration": 11,
    "start_time": "2023-04-14T12:29:51.760Z"
   },
   {
    "duration": 24,
    "start_time": "2023-04-14T12:29:51.772Z"
   },
   {
    "duration": 62,
    "start_time": "2023-04-14T12:29:51.798Z"
   },
   {
    "duration": 40,
    "start_time": "2023-04-14T12:29:51.862Z"
   },
   {
    "duration": 95,
    "start_time": "2023-04-14T12:29:51.907Z"
   },
   {
    "duration": 549,
    "start_time": "2023-04-14T12:29:52.004Z"
   },
   {
    "duration": 1043,
    "start_time": "2023-04-14T12:31:56.441Z"
   },
   {
    "duration": 49,
    "start_time": "2023-04-14T12:31:57.486Z"
   },
   {
    "duration": 5,
    "start_time": "2023-04-14T12:31:57.536Z"
   },
   {
    "duration": 14,
    "start_time": "2023-04-14T12:31:57.543Z"
   },
   {
    "duration": 30,
    "start_time": "2023-04-14T12:31:57.559Z"
   },
   {
    "duration": 11,
    "start_time": "2023-04-14T12:31:57.591Z"
   },
   {
    "duration": 25,
    "start_time": "2023-04-14T12:31:57.603Z"
   },
   {
    "duration": 18,
    "start_time": "2023-04-14T12:31:57.630Z"
   },
   {
    "duration": 39,
    "start_time": "2023-04-14T12:31:57.650Z"
   },
   {
    "duration": 29,
    "start_time": "2023-04-14T12:31:57.692Z"
   },
   {
    "duration": 30,
    "start_time": "2023-04-14T12:31:57.723Z"
   },
   {
    "duration": 15,
    "start_time": "2023-04-14T12:31:57.754Z"
   },
   {
    "duration": 20,
    "start_time": "2023-04-14T12:31:57.770Z"
   },
   {
    "duration": 23,
    "start_time": "2023-04-14T12:31:57.792Z"
   },
   {
    "duration": 17,
    "start_time": "2023-04-14T12:31:57.816Z"
   },
   {
    "duration": 31,
    "start_time": "2023-04-14T12:31:57.834Z"
   },
   {
    "duration": 37,
    "start_time": "2023-04-14T12:31:57.866Z"
   },
   {
    "duration": 6,
    "start_time": "2023-04-14T12:31:57.904Z"
   },
   {
    "duration": 9,
    "start_time": "2023-04-14T12:31:57.911Z"
   },
   {
    "duration": 11,
    "start_time": "2023-04-14T12:31:57.921Z"
   },
   {
    "duration": 18,
    "start_time": "2023-04-14T12:31:57.933Z"
   },
   {
    "duration": 5,
    "start_time": "2023-04-14T12:31:57.952Z"
   },
   {
    "duration": 8,
    "start_time": "2023-04-14T12:31:57.958Z"
   },
   {
    "duration": 11,
    "start_time": "2023-04-14T12:31:57.968Z"
   },
   {
    "duration": 16,
    "start_time": "2023-04-14T12:31:57.981Z"
   },
   {
    "duration": 46,
    "start_time": "2023-04-14T12:31:57.998Z"
   },
   {
    "duration": 8,
    "start_time": "2023-04-14T12:31:58.045Z"
   },
   {
    "duration": 34,
    "start_time": "2023-04-14T12:31:58.054Z"
   },
   {
    "duration": 35,
    "start_time": "2023-04-14T12:31:58.090Z"
   },
   {
    "duration": 25,
    "start_time": "2023-04-14T12:31:58.127Z"
   },
   {
    "duration": 5,
    "start_time": "2023-04-14T12:31:58.196Z"
   },
   {
    "duration": 569,
    "start_time": "2023-04-14T12:31:58.203Z"
   },
   {
    "duration": 96,
    "start_time": "2023-04-14T12:31:58.773Z"
   },
   {
    "duration": 0,
    "start_time": "2023-04-14T12:31:58.871Z"
   },
   {
    "duration": 0,
    "start_time": "2023-04-14T12:31:58.873Z"
   },
   {
    "duration": 0,
    "start_time": "2023-04-14T12:31:58.874Z"
   },
   {
    "duration": 0,
    "start_time": "2023-04-14T12:31:58.876Z"
   },
   {
    "duration": 0,
    "start_time": "2023-04-14T12:31:58.877Z"
   },
   {
    "duration": 0,
    "start_time": "2023-04-14T12:31:58.878Z"
   },
   {
    "duration": 0,
    "start_time": "2023-04-14T12:31:58.894Z"
   },
   {
    "duration": 13,
    "start_time": "2023-04-14T12:32:43.771Z"
   },
   {
    "duration": 171723,
    "start_time": "2023-04-14T12:33:02.440Z"
   },
   {
    "duration": 9,
    "start_time": "2023-04-14T12:35:54.165Z"
   },
   {
    "duration": 171590,
    "start_time": "2023-04-14T12:37:20.670Z"
   },
   {
    "duration": 6,
    "start_time": "2023-04-14T12:40:12.261Z"
   },
   {
    "duration": 69,
    "start_time": "2023-04-14T12:43:00.069Z"
   },
   {
    "duration": 94,
    "start_time": "2023-04-14T12:43:24.239Z"
   },
   {
    "duration": 192,
    "start_time": "2023-04-14T12:43:51.080Z"
   },
   {
    "duration": 194,
    "start_time": "2023-04-14T12:43:56.439Z"
   },
   {
    "duration": 2310,
    "start_time": "2023-04-14T12:44:01.450Z"
   },
   {
    "duration": 1118,
    "start_time": "2023-04-14T12:44:25.789Z"
   },
   {
    "duration": 52,
    "start_time": "2023-04-14T12:44:26.909Z"
   },
   {
    "duration": 5,
    "start_time": "2023-04-14T12:44:26.963Z"
   },
   {
    "duration": 19,
    "start_time": "2023-04-14T12:44:26.969Z"
   },
   {
    "duration": 5,
    "start_time": "2023-04-14T12:44:26.990Z"
   },
   {
    "duration": 8,
    "start_time": "2023-04-14T12:44:26.996Z"
   },
   {
    "duration": 5,
    "start_time": "2023-04-14T12:44:27.006Z"
   },
   {
    "duration": 14,
    "start_time": "2023-04-14T12:44:27.012Z"
   },
   {
    "duration": 8,
    "start_time": "2023-04-14T12:44:27.028Z"
   },
   {
    "duration": 6,
    "start_time": "2023-04-14T12:44:27.037Z"
   },
   {
    "duration": 15,
    "start_time": "2023-04-14T12:44:27.045Z"
   },
   {
    "duration": 33,
    "start_time": "2023-04-14T12:44:27.061Z"
   },
   {
    "duration": 6,
    "start_time": "2023-04-14T12:44:27.096Z"
   },
   {
    "duration": 24,
    "start_time": "2023-04-14T12:44:27.105Z"
   },
   {
    "duration": 4,
    "start_time": "2023-04-14T12:44:27.131Z"
   },
   {
    "duration": 28,
    "start_time": "2023-04-14T12:44:27.137Z"
   },
   {
    "duration": 49,
    "start_time": "2023-04-14T12:44:27.194Z"
   },
   {
    "duration": 8,
    "start_time": "2023-04-14T12:44:27.244Z"
   },
   {
    "duration": 10,
    "start_time": "2023-04-14T12:44:27.254Z"
   },
   {
    "duration": 4,
    "start_time": "2023-04-14T12:44:27.265Z"
   },
   {
    "duration": 7,
    "start_time": "2023-04-14T12:44:27.293Z"
   },
   {
    "duration": 5,
    "start_time": "2023-04-14T12:44:27.302Z"
   },
   {
    "duration": 7,
    "start_time": "2023-04-14T12:44:27.309Z"
   },
   {
    "duration": 12,
    "start_time": "2023-04-14T12:44:27.317Z"
   },
   {
    "duration": 5,
    "start_time": "2023-04-14T12:44:27.330Z"
   },
   {
    "duration": 76,
    "start_time": "2023-04-14T12:44:27.337Z"
   },
   {
    "duration": 11,
    "start_time": "2023-04-14T12:44:27.416Z"
   },
   {
    "duration": 7,
    "start_time": "2023-04-14T12:44:27.432Z"
   },
   {
    "duration": 61,
    "start_time": "2023-04-14T12:44:27.441Z"
   },
   {
    "duration": 90,
    "start_time": "2023-04-14T12:44:27.504Z"
   },
   {
    "duration": 6,
    "start_time": "2023-04-14T12:44:27.596Z"
   },
   {
    "duration": 515,
    "start_time": "2023-04-14T12:44:27.604Z"
   },
   {
    "duration": 179403,
    "start_time": "2023-04-14T12:44:28.121Z"
   },
   {
    "duration": 3,
    "start_time": "2023-04-14T12:47:27.526Z"
   },
   {
    "duration": 222,
    "start_time": "2023-04-14T12:47:27.531Z"
   },
   {
    "duration": 2327,
    "start_time": "2023-04-14T12:47:27.755Z"
   },
   {
    "duration": 3315,
    "start_time": "2023-04-14T12:47:30.084Z"
   },
   {
    "duration": 214,
    "start_time": "2023-04-14T12:47:33.401Z"
   },
   {
    "duration": 11,
    "start_time": "2023-04-14T12:47:33.616Z"
   },
   {
    "duration": 6,
    "start_time": "2023-04-14T12:47:33.629Z"
   },
   {
    "duration": 6,
    "start_time": "2023-04-14T12:47:33.638Z"
   },
   {
    "duration": 166,
    "start_time": "2023-04-14T12:47:52.579Z"
   },
   {
    "duration": 147,
    "start_time": "2023-04-14T12:48:44.908Z"
   },
   {
    "duration": 1227,
    "start_time": "2023-04-14T14:57:02.253Z"
   },
   {
    "duration": 190,
    "start_time": "2023-04-14T14:57:03.481Z"
   },
   {
    "duration": 6,
    "start_time": "2023-04-14T14:57:03.672Z"
   },
   {
    "duration": 12,
    "start_time": "2023-04-14T14:57:03.679Z"
   },
   {
    "duration": 9,
    "start_time": "2023-04-14T14:57:03.693Z"
   },
   {
    "duration": 9,
    "start_time": "2023-04-14T14:57:03.704Z"
   },
   {
    "duration": 6,
    "start_time": "2023-04-14T14:57:03.714Z"
   },
   {
    "duration": 14,
    "start_time": "2023-04-14T14:57:03.721Z"
   },
   {
    "duration": 17,
    "start_time": "2023-04-14T14:57:03.736Z"
   },
   {
    "duration": 5,
    "start_time": "2023-04-14T14:57:03.772Z"
   },
   {
    "duration": 17,
    "start_time": "2023-04-14T14:57:03.778Z"
   },
   {
    "duration": 16,
    "start_time": "2023-04-14T14:57:03.796Z"
   },
   {
    "duration": 9,
    "start_time": "2023-04-14T14:57:03.814Z"
   },
   {
    "duration": 30,
    "start_time": "2023-04-14T14:57:03.827Z"
   },
   {
    "duration": 13,
    "start_time": "2023-04-14T14:57:03.859Z"
   },
   {
    "duration": 33,
    "start_time": "2023-04-14T14:57:03.873Z"
   },
   {
    "duration": 43,
    "start_time": "2023-04-14T14:57:03.907Z"
   },
   {
    "duration": 21,
    "start_time": "2023-04-14T14:57:03.952Z"
   },
   {
    "duration": 10,
    "start_time": "2023-04-14T14:57:03.975Z"
   },
   {
    "duration": 10,
    "start_time": "2023-04-14T14:57:03.988Z"
   },
   {
    "duration": 24,
    "start_time": "2023-04-14T14:57:03.999Z"
   },
   {
    "duration": 45,
    "start_time": "2023-04-14T14:57:04.025Z"
   },
   {
    "duration": 24,
    "start_time": "2023-04-14T14:57:04.072Z"
   },
   {
    "duration": 12,
    "start_time": "2023-04-14T14:57:04.098Z"
   },
   {
    "duration": 13,
    "start_time": "2023-04-14T14:57:04.112Z"
   },
   {
    "duration": 63,
    "start_time": "2023-04-14T14:57:04.127Z"
   },
   {
    "duration": 8,
    "start_time": "2023-04-14T14:57:04.191Z"
   },
   {
    "duration": 8,
    "start_time": "2023-04-14T14:57:04.201Z"
   },
   {
    "duration": 61,
    "start_time": "2023-04-14T14:57:04.210Z"
   },
   {
    "duration": 100,
    "start_time": "2023-04-14T14:57:04.272Z"
   },
   {
    "duration": 6,
    "start_time": "2023-04-14T14:57:04.376Z"
   },
   {
    "duration": 502,
    "start_time": "2023-04-14T14:57:04.471Z"
   },
   {
    "duration": 2450,
    "start_time": "2023-04-14T14:57:04.975Z"
   },
   {
    "duration": 1849,
    "start_time": "2023-04-14T14:57:07.427Z"
   },
   {
    "duration": 133,
    "start_time": "2023-04-14T14:57:09.278Z"
   },
   {
    "duration": 10,
    "start_time": "2023-04-14T14:57:09.413Z"
   },
   {
    "duration": 8,
    "start_time": "2023-04-14T14:57:09.425Z"
   },
   {
    "duration": 20,
    "start_time": "2023-04-14T14:57:09.435Z"
   },
   {
    "duration": 1068,
    "start_time": "2023-04-14T14:57:17.074Z"
   },
   {
    "duration": 55,
    "start_time": "2023-04-14T14:57:18.144Z"
   },
   {
    "duration": 4,
    "start_time": "2023-04-14T14:57:18.201Z"
   },
   {
    "duration": 14,
    "start_time": "2023-04-14T14:57:18.207Z"
   },
   {
    "duration": 5,
    "start_time": "2023-04-14T14:57:18.223Z"
   },
   {
    "duration": 10,
    "start_time": "2023-04-14T14:57:18.230Z"
   },
   {
    "duration": 4,
    "start_time": "2023-04-14T14:57:18.242Z"
   },
   {
    "duration": 27,
    "start_time": "2023-04-14T14:57:18.248Z"
   },
   {
    "duration": 8,
    "start_time": "2023-04-14T14:57:18.277Z"
   },
   {
    "duration": 11,
    "start_time": "2023-04-14T14:57:18.286Z"
   },
   {
    "duration": 18,
    "start_time": "2023-04-14T14:57:18.299Z"
   },
   {
    "duration": 5,
    "start_time": "2023-04-14T14:57:18.318Z"
   },
   {
    "duration": 6,
    "start_time": "2023-04-14T14:57:18.325Z"
   },
   {
    "duration": 40,
    "start_time": "2023-04-14T14:57:18.333Z"
   },
   {
    "duration": 5,
    "start_time": "2023-04-14T14:57:18.375Z"
   },
   {
    "duration": 25,
    "start_time": "2023-04-14T14:57:18.382Z"
   },
   {
    "duration": 40,
    "start_time": "2023-04-14T14:57:18.408Z"
   },
   {
    "duration": 8,
    "start_time": "2023-04-14T14:57:18.472Z"
   },
   {
    "duration": 28,
    "start_time": "2023-04-14T14:57:18.481Z"
   },
   {
    "duration": 5,
    "start_time": "2023-04-14T14:57:18.510Z"
   },
   {
    "duration": 11,
    "start_time": "2023-04-14T14:57:18.517Z"
   },
   {
    "duration": 8,
    "start_time": "2023-04-14T14:57:18.530Z"
   },
   {
    "duration": 12,
    "start_time": "2023-04-14T14:57:18.540Z"
   },
   {
    "duration": 29,
    "start_time": "2023-04-14T14:57:18.554Z"
   },
   {
    "duration": 9,
    "start_time": "2023-04-14T14:57:18.584Z"
   },
   {
    "duration": 52,
    "start_time": "2023-04-14T14:57:18.594Z"
   },
   {
    "duration": 7,
    "start_time": "2023-04-14T14:57:18.647Z"
   },
   {
    "duration": 16,
    "start_time": "2023-04-14T14:57:18.656Z"
   },
   {
    "duration": 41,
    "start_time": "2023-04-14T14:57:18.674Z"
   },
   {
    "duration": 155,
    "start_time": "2023-04-14T14:57:18.717Z"
   },
   {
    "duration": 5,
    "start_time": "2023-04-14T14:57:18.873Z"
   },
   {
    "duration": 488,
    "start_time": "2023-04-14T14:57:18.880Z"
   },
   {
    "duration": 2203,
    "start_time": "2023-04-14T14:57:19.371Z"
   },
   {
    "duration": 2003,
    "start_time": "2023-04-14T14:57:21.576Z"
   },
   {
    "duration": 206,
    "start_time": "2023-04-14T14:57:23.581Z"
   },
   {
    "duration": 10,
    "start_time": "2023-04-14T14:57:23.789Z"
   },
   {
    "duration": 6,
    "start_time": "2023-04-14T14:57:23.801Z"
   },
   {
    "duration": 21,
    "start_time": "2023-04-14T14:57:23.808Z"
   },
   {
    "duration": 601,
    "start_time": "2023-04-14T14:59:24.034Z"
   },
   {
    "duration": 1537,
    "start_time": "2023-04-14T15:00:03.994Z"
   },
   {
    "duration": 56,
    "start_time": "2023-04-14T15:00:05.533Z"
   },
   {
    "duration": 5,
    "start_time": "2023-04-14T15:00:05.591Z"
   },
   {
    "duration": 41,
    "start_time": "2023-04-14T15:00:05.597Z"
   },
   {
    "duration": 41,
    "start_time": "2023-04-14T15:00:05.640Z"
   },
   {
    "duration": 44,
    "start_time": "2023-04-14T15:00:05.683Z"
   },
   {
    "duration": 833,
    "start_time": "2023-04-14T15:00:05.729Z"
   },
   {
    "duration": 10,
    "start_time": "2023-04-14T15:00:06.563Z"
   },
   {
    "duration": 17,
    "start_time": "2023-04-14T15:00:06.575Z"
   },
   {
    "duration": 37,
    "start_time": "2023-04-14T15:00:06.594Z"
   },
   {
    "duration": 25,
    "start_time": "2023-04-14T15:00:06.632Z"
   },
   {
    "duration": 254,
    "start_time": "2023-04-14T15:00:06.658Z"
   },
   {
    "duration": 13,
    "start_time": "2023-04-14T15:00:06.914Z"
   },
   {
    "duration": 20,
    "start_time": "2023-04-14T15:00:06.929Z"
   },
   {
    "duration": 15,
    "start_time": "2023-04-14T15:00:06.951Z"
   },
   {
    "duration": 33,
    "start_time": "2023-04-14T15:00:06.967Z"
   },
   {
    "duration": 6,
    "start_time": "2023-04-14T15:00:07.001Z"
   },
   {
    "duration": 42,
    "start_time": "2023-04-14T15:00:07.009Z"
   },
   {
    "duration": 54,
    "start_time": "2023-04-14T15:00:07.052Z"
   },
   {
    "duration": 9,
    "start_time": "2023-04-14T15:00:07.108Z"
   },
   {
    "duration": 22,
    "start_time": "2023-04-14T15:00:07.119Z"
   },
   {
    "duration": 6,
    "start_time": "2023-04-14T15:00:07.143Z"
   },
   {
    "duration": 13,
    "start_time": "2023-04-14T15:00:07.151Z"
   },
   {
    "duration": 25,
    "start_time": "2023-04-14T15:00:07.166Z"
   },
   {
    "duration": 33,
    "start_time": "2023-04-14T15:00:07.192Z"
   },
   {
    "duration": 36,
    "start_time": "2023-04-14T15:00:07.227Z"
   },
   {
    "duration": 41,
    "start_time": "2023-04-14T15:00:07.265Z"
   },
   {
    "duration": 106,
    "start_time": "2023-04-14T15:00:07.308Z"
   },
   {
    "duration": 10,
    "start_time": "2023-04-14T15:00:07.416Z"
   },
   {
    "duration": 18,
    "start_time": "2023-04-14T15:00:07.428Z"
   },
   {
    "duration": 66,
    "start_time": "2023-04-14T15:00:07.448Z"
   },
   {
    "duration": 63,
    "start_time": "2023-04-14T15:00:07.515Z"
   },
   {
    "duration": 112,
    "start_time": "2023-04-14T15:00:07.579Z"
   },
   {
    "duration": 540,
    "start_time": "2023-04-14T15:00:07.693Z"
   },
   {
    "duration": 2325,
    "start_time": "2023-04-14T15:00:08.235Z"
   },
   {
    "duration": 1912,
    "start_time": "2023-04-14T15:00:10.561Z"
   },
   {
    "duration": 131,
    "start_time": "2023-04-14T15:00:12.475Z"
   },
   {
    "duration": 10,
    "start_time": "2023-04-14T15:00:12.607Z"
   },
   {
    "duration": 97,
    "start_time": "2023-04-14T15:00:12.618Z"
   },
   {
    "duration": 188,
    "start_time": "2023-04-14T15:00:12.716Z"
   },
   {
    "duration": 1143,
    "start_time": "2023-04-14T15:00:27.013Z"
   },
   {
    "duration": 56,
    "start_time": "2023-04-14T15:00:28.158Z"
   },
   {
    "duration": 5,
    "start_time": "2023-04-14T15:00:28.216Z"
   },
   {
    "duration": 29,
    "start_time": "2023-04-14T15:00:28.223Z"
   },
   {
    "duration": 9,
    "start_time": "2023-04-14T15:00:28.254Z"
   },
   {
    "duration": 11,
    "start_time": "2023-04-14T15:00:28.264Z"
   },
   {
    "duration": 477,
    "start_time": "2023-04-14T15:00:28.276Z"
   },
   {
    "duration": 4,
    "start_time": "2023-04-14T15:00:28.755Z"
   },
   {
    "duration": 19,
    "start_time": "2023-04-14T15:00:28.760Z"
   },
   {
    "duration": 8,
    "start_time": "2023-04-14T15:00:28.781Z"
   },
   {
    "duration": 8,
    "start_time": "2023-04-14T15:00:28.791Z"
   },
   {
    "duration": 273,
    "start_time": "2023-04-14T15:00:28.801Z"
   },
   {
    "duration": 13,
    "start_time": "2023-04-14T15:00:29.076Z"
   },
   {
    "duration": 14,
    "start_time": "2023-04-14T15:00:29.091Z"
   },
   {
    "duration": 7,
    "start_time": "2023-04-14T15:00:29.107Z"
   },
   {
    "duration": 23,
    "start_time": "2023-04-14T15:00:29.115Z"
   },
   {
    "duration": 5,
    "start_time": "2023-04-14T15:00:29.140Z"
   },
   {
    "duration": 50,
    "start_time": "2023-04-14T15:00:29.146Z"
   },
   {
    "duration": 46,
    "start_time": "2023-04-14T15:00:29.197Z"
   },
   {
    "duration": 28,
    "start_time": "2023-04-14T15:00:29.246Z"
   },
   {
    "duration": 10,
    "start_time": "2023-04-14T15:00:29.276Z"
   },
   {
    "duration": 9,
    "start_time": "2023-04-14T15:00:29.288Z"
   },
   {
    "duration": 34,
    "start_time": "2023-04-14T15:00:29.299Z"
   },
   {
    "duration": 7,
    "start_time": "2023-04-14T15:00:29.335Z"
   },
   {
    "duration": 14,
    "start_time": "2023-04-14T15:00:29.344Z"
   },
   {
    "duration": 13,
    "start_time": "2023-04-14T15:00:29.360Z"
   },
   {
    "duration": 4,
    "start_time": "2023-04-14T15:00:29.375Z"
   },
   {
    "duration": 56,
    "start_time": "2023-04-14T15:00:29.382Z"
   },
   {
    "duration": 7,
    "start_time": "2023-04-14T15:00:29.439Z"
   },
   {
    "duration": 27,
    "start_time": "2023-04-14T15:00:29.448Z"
   },
   {
    "duration": 42,
    "start_time": "2023-04-14T15:00:29.477Z"
   },
   {
    "duration": 154,
    "start_time": "2023-04-14T15:00:29.521Z"
   },
   {
    "duration": 7,
    "start_time": "2023-04-14T15:00:29.677Z"
   },
   {
    "duration": 470,
    "start_time": "2023-04-14T15:00:29.686Z"
   },
   {
    "duration": 2321,
    "start_time": "2023-04-14T15:00:30.158Z"
   },
   {
    "duration": 2597,
    "start_time": "2023-04-14T15:00:32.480Z"
   },
   {
    "duration": 142,
    "start_time": "2023-04-14T15:00:35.082Z"
   },
   {
    "duration": 12,
    "start_time": "2023-04-14T15:00:35.225Z"
   },
   {
    "duration": 11,
    "start_time": "2023-04-14T15:00:35.239Z"
   },
   {
    "duration": 25,
    "start_time": "2023-04-14T15:00:35.251Z"
   },
   {
    "duration": 6,
    "start_time": "2023-04-14T15:03:55.003Z"
   },
   {
    "duration": 1062,
    "start_time": "2023-04-14T15:04:33.098Z"
   },
   {
    "duration": 58,
    "start_time": "2023-04-14T15:04:34.162Z"
   },
   {
    "duration": 6,
    "start_time": "2023-04-14T15:04:34.221Z"
   },
   {
    "duration": 27,
    "start_time": "2023-04-14T15:04:34.228Z"
   },
   {
    "duration": 30,
    "start_time": "2023-04-14T15:04:34.258Z"
   },
   {
    "duration": 140,
    "start_time": "2023-04-14T15:04:34.290Z"
   },
   {
    "duration": 28,
    "start_time": "2023-04-14T15:04:34.431Z"
   },
   {
    "duration": 23,
    "start_time": "2023-04-14T15:04:34.460Z"
   },
   {
    "duration": 7,
    "start_time": "2023-04-14T15:04:34.485Z"
   },
   {
    "duration": 24,
    "start_time": "2023-04-14T15:04:34.493Z"
   },
   {
    "duration": 29,
    "start_time": "2023-04-14T15:04:34.518Z"
   },
   {
    "duration": 25,
    "start_time": "2023-04-14T15:04:34.548Z"
   },
   {
    "duration": 27,
    "start_time": "2023-04-14T15:04:34.574Z"
   },
   {
    "duration": 134,
    "start_time": "2023-04-14T15:04:34.604Z"
   },
   {
    "duration": 0,
    "start_time": "2023-04-14T15:04:34.740Z"
   },
   {
    "duration": 0,
    "start_time": "2023-04-14T15:04:34.741Z"
   },
   {
    "duration": 1,
    "start_time": "2023-04-14T15:04:34.742Z"
   },
   {
    "duration": 0,
    "start_time": "2023-04-14T15:04:34.743Z"
   },
   {
    "duration": 0,
    "start_time": "2023-04-14T15:04:34.744Z"
   },
   {
    "duration": 0,
    "start_time": "2023-04-14T15:04:34.745Z"
   },
   {
    "duration": 0,
    "start_time": "2023-04-14T15:04:34.747Z"
   },
   {
    "duration": 0,
    "start_time": "2023-04-14T15:04:34.748Z"
   },
   {
    "duration": 0,
    "start_time": "2023-04-14T15:04:34.749Z"
   },
   {
    "duration": 0,
    "start_time": "2023-04-14T15:04:34.771Z"
   },
   {
    "duration": 0,
    "start_time": "2023-04-14T15:04:34.772Z"
   },
   {
    "duration": 0,
    "start_time": "2023-04-14T15:04:34.773Z"
   },
   {
    "duration": 0,
    "start_time": "2023-04-14T15:04:34.774Z"
   },
   {
    "duration": 0,
    "start_time": "2023-04-14T15:04:34.775Z"
   },
   {
    "duration": 0,
    "start_time": "2023-04-14T15:04:34.776Z"
   },
   {
    "duration": 0,
    "start_time": "2023-04-14T15:04:34.776Z"
   },
   {
    "duration": 0,
    "start_time": "2023-04-14T15:04:34.777Z"
   },
   {
    "duration": 0,
    "start_time": "2023-04-14T15:04:34.778Z"
   },
   {
    "duration": 0,
    "start_time": "2023-04-14T15:04:34.779Z"
   },
   {
    "duration": 0,
    "start_time": "2023-04-14T15:04:34.780Z"
   },
   {
    "duration": 0,
    "start_time": "2023-04-14T15:04:34.780Z"
   },
   {
    "duration": 1182,
    "start_time": "2023-04-14T15:05:15.197Z"
   },
   {
    "duration": 54,
    "start_time": "2023-04-14T15:05:16.381Z"
   },
   {
    "duration": 5,
    "start_time": "2023-04-14T15:05:16.437Z"
   },
   {
    "duration": 8,
    "start_time": "2023-04-14T15:05:16.443Z"
   },
   {
    "duration": 9,
    "start_time": "2023-04-14T15:05:16.453Z"
   },
   {
    "duration": 16,
    "start_time": "2023-04-14T15:05:16.463Z"
   },
   {
    "duration": 9,
    "start_time": "2023-04-14T15:05:16.481Z"
   },
   {
    "duration": 15,
    "start_time": "2023-04-14T15:05:16.491Z"
   },
   {
    "duration": 8,
    "start_time": "2023-04-14T15:05:16.507Z"
   },
   {
    "duration": 19,
    "start_time": "2023-04-14T15:05:16.516Z"
   },
   {
    "duration": 24,
    "start_time": "2023-04-14T15:05:16.536Z"
   },
   {
    "duration": 15,
    "start_time": "2023-04-14T15:05:16.562Z"
   },
   {
    "duration": 34,
    "start_time": "2023-04-14T15:05:16.579Z"
   },
   {
    "duration": 43,
    "start_time": "2023-04-14T15:05:16.617Z"
   },
   {
    "duration": 6,
    "start_time": "2023-04-14T15:05:16.672Z"
   },
   {
    "duration": 29,
    "start_time": "2023-04-14T15:05:16.680Z"
   },
   {
    "duration": 11,
    "start_time": "2023-04-14T15:05:16.711Z"
   },
   {
    "duration": 10,
    "start_time": "2023-04-14T15:05:16.724Z"
   },
   {
    "duration": 8,
    "start_time": "2023-04-14T15:05:16.736Z"
   },
   {
    "duration": 15,
    "start_time": "2023-04-14T15:05:16.745Z"
   },
   {
    "duration": 22,
    "start_time": "2023-04-14T15:05:16.761Z"
   },
   {
    "duration": 13,
    "start_time": "2023-04-14T15:05:16.784Z"
   },
   {
    "duration": 53,
    "start_time": "2023-04-14T15:05:16.798Z"
   },
   {
    "duration": 7,
    "start_time": "2023-04-14T15:05:16.852Z"
   },
   {
    "duration": 9,
    "start_time": "2023-04-14T15:05:16.860Z"
   },
   {
    "duration": 40,
    "start_time": "2023-04-14T15:05:16.871Z"
   },
   {
    "duration": 62,
    "start_time": "2023-04-14T15:05:16.913Z"
   },
   {
    "duration": 7,
    "start_time": "2023-04-14T15:05:16.976Z"
   },
   {
    "duration": 415,
    "start_time": "2023-04-14T15:05:17.071Z"
   },
   {
    "duration": 2042,
    "start_time": "2023-04-14T15:05:17.488Z"
   },
   {
    "duration": 1745,
    "start_time": "2023-04-14T15:05:19.531Z"
   },
   {
    "duration": 129,
    "start_time": "2023-04-14T15:05:21.278Z"
   },
   {
    "duration": 13,
    "start_time": "2023-04-14T15:05:21.408Z"
   },
   {
    "duration": 9,
    "start_time": "2023-04-14T15:05:21.423Z"
   },
   {
    "duration": 10,
    "start_time": "2023-04-14T15:05:21.434Z"
   },
   {
    "duration": 8,
    "start_time": "2023-04-14T15:05:31.079Z"
   },
   {
    "duration": 1087,
    "start_time": "2023-04-14T15:05:42.158Z"
   },
   {
    "duration": 55,
    "start_time": "2023-04-14T15:05:43.247Z"
   },
   {
    "duration": 4,
    "start_time": "2023-04-14T15:05:43.304Z"
   },
   {
    "duration": 8,
    "start_time": "2023-04-14T15:05:43.309Z"
   },
   {
    "duration": 22,
    "start_time": "2023-04-14T15:05:43.319Z"
   },
   {
    "duration": 9,
    "start_time": "2023-04-14T15:05:43.342Z"
   },
   {
    "duration": 11,
    "start_time": "2023-04-14T15:05:43.352Z"
   },
   {
    "duration": 3,
    "start_time": "2023-04-14T15:05:43.365Z"
   },
   {
    "duration": 12,
    "start_time": "2023-04-14T15:05:43.372Z"
   },
   {
    "duration": 4,
    "start_time": "2023-04-14T15:05:43.385Z"
   },
   {
    "duration": 7,
    "start_time": "2023-04-14T15:05:43.391Z"
   },
   {
    "duration": 19,
    "start_time": "2023-04-14T15:05:43.400Z"
   },
   {
    "duration": 4,
    "start_time": "2023-04-14T15:05:43.421Z"
   },
   {
    "duration": 52,
    "start_time": "2023-04-14T15:05:43.428Z"
   },
   {
    "duration": 36,
    "start_time": "2023-04-14T15:05:43.482Z"
   },
   {
    "duration": 7,
    "start_time": "2023-04-14T15:05:43.519Z"
   },
   {
    "duration": 16,
    "start_time": "2023-04-14T15:05:43.527Z"
   },
   {
    "duration": 4,
    "start_time": "2023-04-14T15:05:43.545Z"
   },
   {
    "duration": 29,
    "start_time": "2023-04-14T15:05:43.550Z"
   },
   {
    "duration": 7,
    "start_time": "2023-04-14T15:05:43.580Z"
   },
   {
    "duration": 10,
    "start_time": "2023-04-14T15:05:43.588Z"
   },
   {
    "duration": 11,
    "start_time": "2023-04-14T15:05:43.600Z"
   },
   {
    "duration": 5,
    "start_time": "2023-04-14T15:05:43.612Z"
   },
   {
    "duration": 72,
    "start_time": "2023-04-14T15:05:43.618Z"
   },
   {
    "duration": 7,
    "start_time": "2023-04-14T15:05:43.692Z"
   },
   {
    "duration": 8,
    "start_time": "2023-04-14T15:05:43.700Z"
   },
   {
    "duration": 36,
    "start_time": "2023-04-14T15:05:43.710Z"
   },
   {
    "duration": 47,
    "start_time": "2023-04-14T15:05:43.748Z"
   },
   {
    "duration": 80,
    "start_time": "2023-04-14T15:05:43.796Z"
   },
   {
    "duration": 501,
    "start_time": "2023-04-14T15:05:43.878Z"
   },
   {
    "duration": 2093,
    "start_time": "2023-04-14T15:05:44.380Z"
   },
   {
    "duration": 1501,
    "start_time": "2023-04-14T15:05:46.475Z"
   },
   {
    "duration": 125,
    "start_time": "2023-04-14T15:05:47.978Z"
   },
   {
    "duration": 10,
    "start_time": "2023-04-14T15:05:48.104Z"
   },
   {
    "duration": 5,
    "start_time": "2023-04-14T15:05:48.115Z"
   },
   {
    "duration": 6,
    "start_time": "2023-04-14T15:05:48.122Z"
   },
   {
    "duration": 1258,
    "start_time": "2023-04-14T15:06:29.994Z"
   },
   {
    "duration": 58,
    "start_time": "2023-04-14T15:06:31.254Z"
   },
   {
    "duration": 43,
    "start_time": "2023-04-14T15:06:31.314Z"
   },
   {
    "duration": 45,
    "start_time": "2023-04-14T15:06:31.359Z"
   },
   {
    "duration": 41,
    "start_time": "2023-04-14T15:06:31.407Z"
   },
   {
    "duration": 126,
    "start_time": "2023-04-14T15:06:31.449Z"
   },
   {
    "duration": 43,
    "start_time": "2023-04-14T15:06:31.577Z"
   },
   {
    "duration": 35,
    "start_time": "2023-04-14T15:06:31.622Z"
   },
   {
    "duration": 56,
    "start_time": "2023-04-14T15:06:31.659Z"
   },
   {
    "duration": 25,
    "start_time": "2023-04-14T15:06:31.716Z"
   },
   {
    "duration": 37,
    "start_time": "2023-04-14T15:06:31.743Z"
   },
   {
    "duration": 42,
    "start_time": "2023-04-14T15:06:31.782Z"
   },
   {
    "duration": 13,
    "start_time": "2023-04-14T15:06:31.825Z"
   },
   {
    "duration": 47,
    "start_time": "2023-04-14T15:06:31.841Z"
   },
   {
    "duration": 58,
    "start_time": "2023-04-14T15:06:31.890Z"
   },
   {
    "duration": 8,
    "start_time": "2023-04-14T15:06:31.950Z"
   },
   {
    "duration": 52,
    "start_time": "2023-04-14T15:06:31.959Z"
   },
   {
    "duration": 47,
    "start_time": "2023-04-14T15:06:32.013Z"
   },
   {
    "duration": 34,
    "start_time": "2023-04-14T15:06:32.062Z"
   },
   {
    "duration": 57,
    "start_time": "2023-04-14T15:06:32.097Z"
   },
   {
    "duration": 38,
    "start_time": "2023-04-14T15:06:32.155Z"
   },
   {
    "duration": 47,
    "start_time": "2023-04-14T15:06:32.194Z"
   },
   {
    "duration": 51,
    "start_time": "2023-04-14T15:06:32.242Z"
   },
   {
    "duration": 60,
    "start_time": "2023-04-14T15:06:32.294Z"
   },
   {
    "duration": 10,
    "start_time": "2023-04-14T15:06:32.356Z"
   },
   {
    "duration": 20,
    "start_time": "2023-04-14T15:06:32.368Z"
   },
   {
    "duration": 69,
    "start_time": "2023-04-14T15:06:32.390Z"
   },
   {
    "duration": 27,
    "start_time": "2023-04-14T15:06:32.461Z"
   },
   {
    "duration": 187,
    "start_time": "2023-04-14T15:06:32.489Z"
   },
   {
    "duration": 451,
    "start_time": "2023-04-14T15:06:32.677Z"
   },
   {
    "duration": 2192,
    "start_time": "2023-04-14T15:06:33.130Z"
   },
   {
    "duration": 1551,
    "start_time": "2023-04-14T15:06:35.324Z"
   },
   {
    "duration": 128,
    "start_time": "2023-04-14T15:06:36.877Z"
   },
   {
    "duration": 11,
    "start_time": "2023-04-14T15:06:37.073Z"
   },
   {
    "duration": 12,
    "start_time": "2023-04-14T15:06:37.085Z"
   },
   {
    "duration": 11,
    "start_time": "2023-04-14T15:06:37.099Z"
   },
   {
    "duration": 1170,
    "start_time": "2023-04-14T15:16:10.045Z"
   },
   {
    "duration": 58,
    "start_time": "2023-04-14T15:16:11.217Z"
   },
   {
    "duration": 6,
    "start_time": "2023-04-14T15:16:11.278Z"
   },
   {
    "duration": 5,
    "start_time": "2023-04-14T15:16:11.286Z"
   },
   {
    "duration": 6,
    "start_time": "2023-04-14T15:16:11.294Z"
   },
   {
    "duration": 9,
    "start_time": "2023-04-14T15:16:11.302Z"
   },
   {
    "duration": 12,
    "start_time": "2023-04-14T15:16:11.313Z"
   },
   {
    "duration": 4,
    "start_time": "2023-04-14T15:16:11.326Z"
   },
   {
    "duration": 48,
    "start_time": "2023-04-14T15:16:11.331Z"
   },
   {
    "duration": 5,
    "start_time": "2023-04-14T15:16:11.381Z"
   },
   {
    "duration": 9,
    "start_time": "2023-04-14T15:16:11.388Z"
   },
   {
    "duration": 28,
    "start_time": "2023-04-14T15:16:11.398Z"
   },
   {
    "duration": 5,
    "start_time": "2023-04-14T15:16:11.427Z"
   },
   {
    "duration": 46,
    "start_time": "2023-04-14T15:16:11.434Z"
   },
   {
    "duration": 43,
    "start_time": "2023-04-14T15:16:11.482Z"
   },
   {
    "duration": 6,
    "start_time": "2023-04-14T15:16:11.527Z"
   },
   {
    "duration": 37,
    "start_time": "2023-04-14T15:16:11.535Z"
   },
   {
    "duration": 4,
    "start_time": "2023-04-14T15:16:11.574Z"
   },
   {
    "duration": 14,
    "start_time": "2023-04-14T15:16:11.580Z"
   },
   {
    "duration": 19,
    "start_time": "2023-04-14T15:16:11.595Z"
   },
   {
    "duration": 12,
    "start_time": "2023-04-14T15:16:11.616Z"
   },
   {
    "duration": 34,
    "start_time": "2023-04-14T15:16:11.630Z"
   },
   {
    "duration": 28,
    "start_time": "2023-04-14T15:16:11.666Z"
   },
   {
    "duration": 59,
    "start_time": "2023-04-14T15:16:11.696Z"
   },
   {
    "duration": 8,
    "start_time": "2023-04-14T15:16:11.757Z"
   },
   {
    "duration": 8,
    "start_time": "2023-04-14T15:16:11.766Z"
   },
   {
    "duration": 40,
    "start_time": "2023-04-14T15:16:11.776Z"
   },
   {
    "duration": 58,
    "start_time": "2023-04-14T15:16:11.818Z"
   },
   {
    "duration": 95,
    "start_time": "2023-04-14T15:16:11.878Z"
   },
   {
    "duration": 454,
    "start_time": "2023-04-14T15:16:11.975Z"
   },
   {
    "duration": 2348,
    "start_time": "2023-04-14T15:16:12.430Z"
   },
   {
    "duration": 1698,
    "start_time": "2023-04-14T15:16:14.779Z"
   },
   {
    "duration": 217,
    "start_time": "2023-04-14T15:16:16.479Z"
   },
   {
    "duration": 10,
    "start_time": "2023-04-14T15:16:16.698Z"
   },
   {
    "duration": 6,
    "start_time": "2023-04-14T15:16:16.709Z"
   },
   {
    "duration": 11,
    "start_time": "2023-04-14T15:16:16.717Z"
   },
   {
    "duration": 20,
    "start_time": "2023-04-14T15:17:57.554Z"
   },
   {
    "duration": 1066,
    "start_time": "2023-04-14T15:20:56.673Z"
   },
   {
    "duration": 52,
    "start_time": "2023-04-14T15:20:57.741Z"
   },
   {
    "duration": 5,
    "start_time": "2023-04-14T15:20:57.794Z"
   },
   {
    "duration": 7,
    "start_time": "2023-04-14T15:20:57.800Z"
   },
   {
    "duration": 7,
    "start_time": "2023-04-14T15:20:57.809Z"
   },
   {
    "duration": 11,
    "start_time": "2023-04-14T15:20:57.818Z"
   },
   {
    "duration": 8,
    "start_time": "2023-04-14T15:20:57.830Z"
   },
   {
    "duration": 4,
    "start_time": "2023-04-14T15:20:57.840Z"
   },
   {
    "duration": 15,
    "start_time": "2023-04-14T15:20:57.845Z"
   },
   {
    "duration": 4,
    "start_time": "2023-04-14T15:20:57.872Z"
   },
   {
    "duration": 9,
    "start_time": "2023-04-14T15:20:57.877Z"
   },
   {
    "duration": 22,
    "start_time": "2023-04-14T15:20:57.887Z"
   },
   {
    "duration": 4,
    "start_time": "2023-04-14T15:20:57.911Z"
   },
   {
    "duration": 27,
    "start_time": "2023-04-14T15:20:57.917Z"
   },
   {
    "duration": 47,
    "start_time": "2023-04-14T15:20:57.946Z"
   },
   {
    "duration": 5,
    "start_time": "2023-04-14T15:20:57.994Z"
   },
   {
    "duration": 10,
    "start_time": "2023-04-14T15:20:58.001Z"
   },
   {
    "duration": 7,
    "start_time": "2023-04-14T15:20:58.012Z"
   },
   {
    "duration": 10,
    "start_time": "2023-04-14T15:20:58.020Z"
   },
   {
    "duration": 7,
    "start_time": "2023-04-14T15:20:58.031Z"
   },
   {
    "duration": 14,
    "start_time": "2023-04-14T15:20:58.039Z"
   },
   {
    "duration": 23,
    "start_time": "2023-04-14T15:20:58.054Z"
   },
   {
    "duration": 4,
    "start_time": "2023-04-14T15:20:58.079Z"
   },
   {
    "duration": 46,
    "start_time": "2023-04-14T15:20:58.084Z"
   },
   {
    "duration": 7,
    "start_time": "2023-04-14T15:20:58.131Z"
   },
   {
    "duration": 8,
    "start_time": "2023-04-14T15:20:58.140Z"
   },
   {
    "duration": 59,
    "start_time": "2023-04-14T15:20:58.149Z"
   },
   {
    "duration": 64,
    "start_time": "2023-04-14T15:20:58.210Z"
   },
   {
    "duration": 100,
    "start_time": "2023-04-14T15:20:58.276Z"
   },
   {
    "duration": 411,
    "start_time": "2023-04-14T15:20:58.378Z"
   },
   {
    "duration": 1989,
    "start_time": "2023-04-14T15:20:58.791Z"
   },
   {
    "duration": 1893,
    "start_time": "2023-04-14T15:21:00.782Z"
   },
   {
    "duration": 130,
    "start_time": "2023-04-14T15:21:02.677Z"
   },
   {
    "duration": 11,
    "start_time": "2023-04-14T15:21:02.809Z"
   },
   {
    "duration": 27,
    "start_time": "2023-04-14T15:21:02.822Z"
   },
   {
    "duration": 29,
    "start_time": "2023-04-14T15:21:02.851Z"
   },
   {
    "duration": 27,
    "start_time": "2023-04-14T15:37:12.254Z"
   },
   {
    "duration": 25,
    "start_time": "2023-04-14T15:37:19.474Z"
   },
   {
    "duration": 21,
    "start_time": "2023-04-14T15:37:24.513Z"
   },
   {
    "duration": 23,
    "start_time": "2023-04-14T15:37:30.563Z"
   },
   {
    "duration": 23,
    "start_time": "2023-04-14T15:37:35.543Z"
   },
   {
    "duration": 23,
    "start_time": "2023-04-14T15:37:39.093Z"
   },
   {
    "duration": 5,
    "start_time": "2023-04-14T15:37:42.582Z"
   },
   {
    "duration": 5,
    "start_time": "2023-04-14T15:37:46.152Z"
   },
   {
    "duration": 988,
    "start_time": "2023-04-14T15:37:50.734Z"
   },
   {
    "duration": 55,
    "start_time": "2023-04-14T15:37:51.723Z"
   },
   {
    "duration": 5,
    "start_time": "2023-04-14T15:37:51.779Z"
   },
   {
    "duration": 9,
    "start_time": "2023-04-14T15:37:51.785Z"
   },
   {
    "duration": 6,
    "start_time": "2023-04-14T15:37:51.796Z"
   },
   {
    "duration": 7,
    "start_time": "2023-04-14T15:37:51.803Z"
   },
   {
    "duration": 16,
    "start_time": "2023-04-14T15:37:51.811Z"
   },
   {
    "duration": 18,
    "start_time": "2023-04-14T15:37:51.829Z"
   },
   {
    "duration": 20,
    "start_time": "2023-04-14T15:37:51.849Z"
   },
   {
    "duration": 9,
    "start_time": "2023-04-14T15:37:51.870Z"
   },
   {
    "duration": 17,
    "start_time": "2023-04-14T15:37:51.880Z"
   },
   {
    "duration": 20,
    "start_time": "2023-04-14T15:37:51.898Z"
   },
   {
    "duration": 18,
    "start_time": "2023-04-14T15:37:51.919Z"
   },
   {
    "duration": 39,
    "start_time": "2023-04-14T15:37:51.939Z"
   },
   {
    "duration": 35,
    "start_time": "2023-04-14T15:37:51.979Z"
   },
   {
    "duration": 5,
    "start_time": "2023-04-14T15:37:52.015Z"
   },
   {
    "duration": 12,
    "start_time": "2023-04-14T15:37:52.021Z"
   },
   {
    "duration": 13,
    "start_time": "2023-04-14T15:37:52.034Z"
   },
   {
    "duration": 16,
    "start_time": "2023-04-14T15:37:52.048Z"
   },
   {
    "duration": 22,
    "start_time": "2023-04-14T15:37:52.065Z"
   },
   {
    "duration": 10,
    "start_time": "2023-04-14T15:37:52.088Z"
   },
   {
    "duration": 23,
    "start_time": "2023-04-14T15:37:52.100Z"
   },
   {
    "duration": 11,
    "start_time": "2023-04-14T15:37:52.125Z"
   },
   {
    "duration": 50,
    "start_time": "2023-04-14T15:37:52.137Z"
   },
   {
    "duration": 6,
    "start_time": "2023-04-14T15:37:52.189Z"
   },
   {
    "duration": 42,
    "start_time": "2023-04-14T15:37:52.196Z"
   },
   {
    "duration": 37,
    "start_time": "2023-04-14T15:37:52.240Z"
   },
   {
    "duration": 26,
    "start_time": "2023-04-14T15:37:52.279Z"
   },
   {
    "duration": 6,
    "start_time": "2023-04-14T15:37:52.372Z"
   },
   {
    "duration": 471,
    "start_time": "2023-04-14T15:37:52.380Z"
   },
   {
    "duration": 1951,
    "start_time": "2023-04-14T15:37:52.853Z"
   },
   {
    "duration": 1776,
    "start_time": "2023-04-14T15:37:54.806Z"
   },
   {
    "duration": 214,
    "start_time": "2023-04-14T15:37:56.583Z"
   },
   {
    "duration": 9,
    "start_time": "2023-04-14T15:37:56.799Z"
   },
   {
    "duration": 4,
    "start_time": "2023-04-14T15:37:56.810Z"
   },
   {
    "duration": 7,
    "start_time": "2023-04-14T15:37:56.815Z"
   },
   {
    "duration": 1077,
    "start_time": "2023-04-14T15:38:44.104Z"
   },
   {
    "duration": 55,
    "start_time": "2023-04-14T15:38:45.183Z"
   },
   {
    "duration": 5,
    "start_time": "2023-04-14T15:38:45.239Z"
   },
   {
    "duration": 11,
    "start_time": "2023-04-14T15:38:45.246Z"
   },
   {
    "duration": 6,
    "start_time": "2023-04-14T15:38:45.259Z"
   },
   {
    "duration": 20,
    "start_time": "2023-04-14T15:38:45.266Z"
   },
   {
    "duration": 14,
    "start_time": "2023-04-14T15:38:45.287Z"
   },
   {
    "duration": 5,
    "start_time": "2023-04-14T15:38:45.303Z"
   },
   {
    "duration": 15,
    "start_time": "2023-04-14T15:38:45.310Z"
   },
   {
    "duration": 5,
    "start_time": "2023-04-14T15:38:45.326Z"
   },
   {
    "duration": 13,
    "start_time": "2023-04-14T15:38:45.332Z"
   },
   {
    "duration": 19,
    "start_time": "2023-04-14T15:38:45.346Z"
   },
   {
    "duration": 7,
    "start_time": "2023-04-14T15:38:45.367Z"
   },
   {
    "duration": 36,
    "start_time": "2023-04-14T15:38:45.377Z"
   },
   {
    "duration": 35,
    "start_time": "2023-04-14T15:38:45.415Z"
   },
   {
    "duration": 6,
    "start_time": "2023-04-14T15:38:45.452Z"
   },
   {
    "duration": 8,
    "start_time": "2023-04-14T15:38:45.471Z"
   },
   {
    "duration": 4,
    "start_time": "2023-04-14T15:38:45.480Z"
   },
   {
    "duration": 6,
    "start_time": "2023-04-14T15:38:45.486Z"
   },
   {
    "duration": 6,
    "start_time": "2023-04-14T15:38:45.494Z"
   },
   {
    "duration": 8,
    "start_time": "2023-04-14T15:38:45.501Z"
   },
   {
    "duration": 12,
    "start_time": "2023-04-14T15:38:45.510Z"
   },
   {
    "duration": 5,
    "start_time": "2023-04-14T15:38:45.524Z"
   },
   {
    "duration": 45,
    "start_time": "2023-04-14T15:38:45.573Z"
   },
   {
    "duration": 8,
    "start_time": "2023-04-14T15:38:45.620Z"
   },
   {
    "duration": 20,
    "start_time": "2023-04-14T15:38:45.630Z"
   },
   {
    "duration": 47,
    "start_time": "2023-04-14T15:38:45.652Z"
   },
   {
    "duration": 24,
    "start_time": "2023-04-14T15:38:45.700Z"
   },
   {
    "duration": 6,
    "start_time": "2023-04-14T15:38:45.772Z"
   },
   {
    "duration": 545,
    "start_time": "2023-04-14T15:38:45.779Z"
   },
   {
    "duration": 2019,
    "start_time": "2023-04-14T15:38:46.326Z"
   },
   {
    "duration": 1825,
    "start_time": "2023-04-14T15:38:48.347Z"
   },
   {
    "duration": 130,
    "start_time": "2023-04-14T15:38:50.174Z"
   },
   {
    "duration": 10,
    "start_time": "2023-04-14T15:38:50.306Z"
   },
   {
    "duration": 21,
    "start_time": "2023-04-14T15:38:50.318Z"
   },
   {
    "duration": 14,
    "start_time": "2023-04-14T15:38:50.340Z"
   },
   {
    "duration": 1056,
    "start_time": "2023-04-14T15:50:47.193Z"
   },
   {
    "duration": 55,
    "start_time": "2023-04-14T15:50:48.251Z"
   },
   {
    "duration": 4,
    "start_time": "2023-04-14T15:50:48.307Z"
   },
   {
    "duration": 7,
    "start_time": "2023-04-14T15:50:48.313Z"
   },
   {
    "duration": 8,
    "start_time": "2023-04-14T15:50:48.321Z"
   },
   {
    "duration": 8,
    "start_time": "2023-04-14T15:50:48.330Z"
   },
   {
    "duration": 13,
    "start_time": "2023-04-14T15:50:48.340Z"
   },
   {
    "duration": 16,
    "start_time": "2023-04-14T15:50:48.354Z"
   },
   {
    "duration": 14,
    "start_time": "2023-04-14T15:50:48.371Z"
   },
   {
    "duration": 13,
    "start_time": "2023-04-14T15:50:48.386Z"
   },
   {
    "duration": 7,
    "start_time": "2023-04-14T15:50:48.400Z"
   },
   {
    "duration": 20,
    "start_time": "2023-04-14T15:50:48.408Z"
   },
   {
    "duration": 4,
    "start_time": "2023-04-14T15:50:48.430Z"
   },
   {
    "duration": 23,
    "start_time": "2023-04-14T15:50:48.437Z"
   },
   {
    "duration": 44,
    "start_time": "2023-04-14T15:50:48.461Z"
   },
   {
    "duration": 5,
    "start_time": "2023-04-14T15:50:48.506Z"
   },
   {
    "duration": 10,
    "start_time": "2023-04-14T15:50:48.513Z"
   },
   {
    "duration": 4,
    "start_time": "2023-04-14T15:50:48.524Z"
   },
   {
    "duration": 7,
    "start_time": "2023-04-14T15:50:48.530Z"
   },
   {
    "duration": 6,
    "start_time": "2023-04-14T15:50:48.538Z"
   },
   {
    "duration": 31,
    "start_time": "2023-04-14T15:50:48.545Z"
   },
   {
    "duration": 11,
    "start_time": "2023-04-14T15:50:48.577Z"
   },
   {
    "duration": 5,
    "start_time": "2023-04-14T15:50:48.590Z"
   },
   {
    "duration": 45,
    "start_time": "2023-04-14T15:50:48.597Z"
   },
   {
    "duration": 29,
    "start_time": "2023-04-14T15:50:48.643Z"
   },
   {
    "duration": 6,
    "start_time": "2023-04-14T15:50:48.673Z"
   },
   {
    "duration": 52,
    "start_time": "2023-04-14T15:50:48.680Z"
   },
   {
    "duration": 40,
    "start_time": "2023-04-14T15:50:48.734Z"
   },
   {
    "duration": 6,
    "start_time": "2023-04-14T15:50:48.776Z"
   },
   {
    "duration": 470,
    "start_time": "2023-04-14T15:50:48.875Z"
   },
   {
    "duration": 2010,
    "start_time": "2023-04-14T15:50:49.346Z"
   },
   {
    "duration": 1617,
    "start_time": "2023-04-14T15:50:51.358Z"
   },
   {
    "duration": 130,
    "start_time": "2023-04-14T15:50:52.978Z"
   },
   {
    "duration": 17,
    "start_time": "2023-04-14T15:50:53.111Z"
   },
   {
    "duration": 6,
    "start_time": "2023-04-14T15:50:53.130Z"
   },
   {
    "duration": 25,
    "start_time": "2023-04-14T15:50:53.138Z"
   },
   {
    "duration": 50,
    "start_time": "2023-04-16T12:22:11.276Z"
   },
   {
    "duration": 1096,
    "start_time": "2023-04-16T12:22:17.952Z"
   },
   {
    "duration": 196,
    "start_time": "2023-04-16T12:22:19.052Z"
   },
   {
    "duration": 5,
    "start_time": "2023-04-16T12:22:19.249Z"
   },
   {
    "duration": 6,
    "start_time": "2023-04-16T12:22:19.256Z"
   },
   {
    "duration": 10,
    "start_time": "2023-04-16T12:22:19.263Z"
   },
   {
    "duration": 9,
    "start_time": "2023-04-16T12:22:19.274Z"
   },
   {
    "duration": 13,
    "start_time": "2023-04-16T12:22:19.285Z"
   },
   {
    "duration": 30,
    "start_time": "2023-04-16T12:22:19.300Z"
   },
   {
    "duration": 26,
    "start_time": "2023-04-16T12:22:19.331Z"
   },
   {
    "duration": 5,
    "start_time": "2023-04-16T12:22:19.359Z"
   },
   {
    "duration": 8,
    "start_time": "2023-04-16T12:22:19.365Z"
   },
   {
    "duration": 21,
    "start_time": "2023-04-16T12:22:19.374Z"
   },
   {
    "duration": 10,
    "start_time": "2023-04-16T12:22:19.396Z"
   },
   {
    "duration": 27,
    "start_time": "2023-04-16T12:22:19.408Z"
   },
   {
    "duration": 42,
    "start_time": "2023-04-16T12:22:19.442Z"
   },
   {
    "duration": 6,
    "start_time": "2023-04-16T12:22:19.485Z"
   },
   {
    "duration": 15,
    "start_time": "2023-04-16T12:22:19.492Z"
   },
   {
    "duration": 4,
    "start_time": "2023-04-16T12:22:19.508Z"
   },
   {
    "duration": 25,
    "start_time": "2023-04-16T12:22:19.514Z"
   },
   {
    "duration": 13,
    "start_time": "2023-04-16T12:22:19.540Z"
   },
   {
    "duration": 14,
    "start_time": "2023-04-16T12:22:19.555Z"
   },
   {
    "duration": 14,
    "start_time": "2023-04-16T12:22:19.571Z"
   },
   {
    "duration": 6,
    "start_time": "2023-04-16T12:22:19.587Z"
   },
   {
    "duration": 72,
    "start_time": "2023-04-16T12:22:19.595Z"
   },
   {
    "duration": 9,
    "start_time": "2023-04-16T12:22:19.669Z"
   },
   {
    "duration": 22,
    "start_time": "2023-04-16T12:22:19.680Z"
   },
   {
    "duration": 48,
    "start_time": "2023-04-16T12:22:19.704Z"
   },
   {
    "duration": 88,
    "start_time": "2023-04-16T12:22:19.755Z"
   },
   {
    "duration": 10,
    "start_time": "2023-04-16T12:22:19.844Z"
   },
   {
    "duration": 520,
    "start_time": "2023-04-16T12:22:19.858Z"
   },
   {
    "duration": 2262,
    "start_time": "2023-04-16T12:22:20.380Z"
   },
   {
    "duration": 4502,
    "start_time": "2023-04-16T12:22:22.643Z"
   },
   {
    "duration": 204,
    "start_time": "2023-04-16T12:22:27.146Z"
   },
   {
    "duration": 13,
    "start_time": "2023-04-16T12:22:27.352Z"
   },
   {
    "duration": 6,
    "start_time": "2023-04-16T12:22:27.367Z"
   },
   {
    "duration": 15,
    "start_time": "2023-04-16T12:22:27.375Z"
   },
   {
    "duration": 45,
    "start_time": "2023-04-16T12:23:17.416Z"
   },
   {
    "duration": 101,
    "start_time": "2023-04-16T12:24:14.050Z"
   },
   {
    "duration": 53,
    "start_time": "2023-04-16T12:24:18.930Z"
   },
   {
    "duration": 9,
    "start_time": "2023-04-16T12:24:27.340Z"
   },
   {
    "duration": 4,
    "start_time": "2023-04-16T12:25:23.750Z"
   },
   {
    "duration": 56,
    "start_time": "2023-04-16T12:28:04.049Z"
   },
   {
    "duration": 47,
    "start_time": "2023-04-16T12:33:54.650Z"
   },
   {
    "duration": 38,
    "start_time": "2023-04-16T12:34:02.085Z"
   },
   {
    "duration": 1437,
    "start_time": "2023-04-16T12:34:14.318Z"
   },
   {
    "duration": 59,
    "start_time": "2023-04-16T12:34:15.757Z"
   },
   {
    "duration": 5,
    "start_time": "2023-04-16T12:34:15.817Z"
   },
   {
    "duration": 14,
    "start_time": "2023-04-16T12:34:15.824Z"
   },
   {
    "duration": 31,
    "start_time": "2023-04-16T12:34:15.846Z"
   },
   {
    "duration": 14,
    "start_time": "2023-04-16T12:34:15.879Z"
   },
   {
    "duration": 12,
    "start_time": "2023-04-16T12:34:15.894Z"
   },
   {
    "duration": 6,
    "start_time": "2023-04-16T12:34:15.908Z"
   },
   {
    "duration": 24,
    "start_time": "2023-04-16T12:34:15.915Z"
   },
   {
    "duration": 22,
    "start_time": "2023-04-16T12:34:15.943Z"
   },
   {
    "duration": 31,
    "start_time": "2023-04-16T12:34:15.967Z"
   },
   {
    "duration": 28,
    "start_time": "2023-04-16T12:34:16.001Z"
   },
   {
    "duration": 7,
    "start_time": "2023-04-16T12:34:16.032Z"
   },
   {
    "duration": 45,
    "start_time": "2023-04-16T12:34:16.048Z"
   },
   {
    "duration": 48,
    "start_time": "2023-04-16T12:34:16.095Z"
   },
   {
    "duration": 12,
    "start_time": "2023-04-16T12:34:16.147Z"
   },
   {
    "duration": 21,
    "start_time": "2023-04-16T12:34:16.160Z"
   },
   {
    "duration": 11,
    "start_time": "2023-04-16T12:34:16.182Z"
   },
   {
    "duration": 11,
    "start_time": "2023-04-16T12:34:16.195Z"
   },
   {
    "duration": 16,
    "start_time": "2023-04-16T12:34:16.208Z"
   },
   {
    "duration": 6,
    "start_time": "2023-04-16T12:34:16.226Z"
   },
   {
    "duration": 87,
    "start_time": "2023-04-16T12:34:16.233Z"
   },
   {
    "duration": 5,
    "start_time": "2023-04-16T12:34:16.322Z"
   },
   {
    "duration": 57,
    "start_time": "2023-04-16T12:34:16.328Z"
   },
   {
    "duration": 157,
    "start_time": "2023-04-16T12:34:16.387Z"
   },
   {
    "duration": 33,
    "start_time": "2023-04-16T12:34:16.547Z"
   },
   {
    "duration": 495,
    "start_time": "2023-04-16T12:34:16.582Z"
   },
   {
    "duration": 2266,
    "start_time": "2023-04-16T12:34:17.079Z"
   },
   {
    "duration": 5491,
    "start_time": "2023-04-16T12:34:19.350Z"
   },
   {
    "duration": 130,
    "start_time": "2023-04-16T12:34:24.843Z"
   },
   {
    "duration": 15,
    "start_time": "2023-04-16T12:34:24.974Z"
   },
   {
    "duration": 28,
    "start_time": "2023-04-16T12:34:24.990Z"
   },
   {
    "duration": 64,
    "start_time": "2023-04-16T12:34:25.019Z"
   },
   {
    "duration": 1184,
    "start_time": "2023-04-16T12:41:11.413Z"
   },
   {
    "duration": 60,
    "start_time": "2023-04-16T12:41:12.599Z"
   },
   {
    "duration": 5,
    "start_time": "2023-04-16T12:41:12.660Z"
   },
   {
    "duration": 15,
    "start_time": "2023-04-16T12:41:12.667Z"
   },
   {
    "duration": 13,
    "start_time": "2023-04-16T12:41:12.684Z"
   },
   {
    "duration": 17,
    "start_time": "2023-04-16T12:41:12.698Z"
   },
   {
    "duration": 24,
    "start_time": "2023-04-16T12:41:12.717Z"
   },
   {
    "duration": 13,
    "start_time": "2023-04-16T12:41:12.745Z"
   },
   {
    "duration": 16,
    "start_time": "2023-04-16T12:41:12.759Z"
   },
   {
    "duration": 15,
    "start_time": "2023-04-16T12:41:12.776Z"
   },
   {
    "duration": 17,
    "start_time": "2023-04-16T12:41:12.793Z"
   },
   {
    "duration": 20,
    "start_time": "2023-04-16T12:41:12.812Z"
   },
   {
    "duration": 23,
    "start_time": "2023-04-16T12:41:12.833Z"
   },
   {
    "duration": 27,
    "start_time": "2023-04-16T12:41:12.859Z"
   },
   {
    "duration": 40,
    "start_time": "2023-04-16T12:41:12.888Z"
   },
   {
    "duration": 14,
    "start_time": "2023-04-16T12:41:12.929Z"
   },
   {
    "duration": 13,
    "start_time": "2023-04-16T12:41:12.953Z"
   },
   {
    "duration": 8,
    "start_time": "2023-04-16T12:41:12.967Z"
   },
   {
    "duration": 8,
    "start_time": "2023-04-16T12:41:12.977Z"
   },
   {
    "duration": 11,
    "start_time": "2023-04-16T12:41:12.986Z"
   },
   {
    "duration": 6,
    "start_time": "2023-04-16T12:41:12.999Z"
   },
   {
    "duration": 58,
    "start_time": "2023-04-16T12:41:13.007Z"
   },
   {
    "duration": 6,
    "start_time": "2023-04-16T12:41:13.068Z"
   },
   {
    "duration": 35,
    "start_time": "2023-04-16T12:41:13.076Z"
   },
   {
    "duration": 49,
    "start_time": "2023-04-16T12:41:13.113Z"
   },
   {
    "duration": 196,
    "start_time": "2023-04-16T12:41:13.164Z"
   },
   {
    "duration": 428,
    "start_time": "2023-04-16T12:41:13.362Z"
   },
   {
    "duration": 32133,
    "start_time": "2023-04-16T12:41:13.791Z"
   },
   {
    "duration": 5026,
    "start_time": "2023-04-16T12:41:45.925Z"
   },
   {
    "duration": 126,
    "start_time": "2023-04-16T12:41:50.958Z"
   },
   {
    "duration": 13,
    "start_time": "2023-04-16T12:41:51.086Z"
   },
   {
    "duration": 8,
    "start_time": "2023-04-16T12:41:51.101Z"
   },
   {
    "duration": 7,
    "start_time": "2023-04-16T12:41:51.110Z"
   },
   {
    "duration": 36,
    "start_time": "2023-04-16T12:43:22.973Z"
   },
   {
    "duration": 136434,
    "start_time": "2023-04-16T12:46:35.195Z"
   },
   {
    "duration": 49,
    "start_time": "2023-04-16T12:49:05.806Z"
   },
   {
    "duration": 3918,
    "start_time": "2023-04-16T12:49:22.828Z"
   },
   {
    "duration": 430,
    "start_time": "2023-04-16T12:49:33.948Z"
   },
   {
    "duration": 260709,
    "start_time": "2023-04-16T12:55:52.991Z"
   },
   {
    "duration": 110,
    "start_time": "2023-04-16T13:00:37.308Z"
   },
   {
    "duration": 100,
    "start_time": "2023-04-16T13:00:47.348Z"
   },
   {
    "duration": 226,
    "start_time": "2023-04-16T13:01:01.747Z"
   },
   {
    "duration": 46,
    "start_time": "2023-04-16T15:31:03.386Z"
   },
   {
    "duration": 989,
    "start_time": "2023-04-16T15:31:12.026Z"
   },
   {
    "duration": 171,
    "start_time": "2023-04-16T15:31:13.017Z"
   },
   {
    "duration": 5,
    "start_time": "2023-04-16T15:31:13.190Z"
   },
   {
    "duration": 6,
    "start_time": "2023-04-16T15:31:13.196Z"
   },
   {
    "duration": 10,
    "start_time": "2023-04-16T15:31:13.204Z"
   },
   {
    "duration": 9,
    "start_time": "2023-04-16T15:31:13.216Z"
   },
   {
    "duration": 13,
    "start_time": "2023-04-16T15:31:13.227Z"
   },
   {
    "duration": 6,
    "start_time": "2023-04-16T15:31:13.241Z"
   },
   {
    "duration": 24,
    "start_time": "2023-04-16T15:31:13.249Z"
   },
   {
    "duration": 4,
    "start_time": "2023-04-16T15:31:13.275Z"
   },
   {
    "duration": 9,
    "start_time": "2023-04-16T15:31:13.280Z"
   },
   {
    "duration": 19,
    "start_time": "2023-04-16T15:31:13.290Z"
   },
   {
    "duration": 4,
    "start_time": "2023-04-16T15:31:13.310Z"
   },
   {
    "duration": 29,
    "start_time": "2023-04-16T15:31:13.316Z"
   },
   {
    "duration": 65,
    "start_time": "2023-04-16T15:31:13.346Z"
   },
   {
    "duration": 5,
    "start_time": "2023-04-16T15:31:13.412Z"
   },
   {
    "duration": 11,
    "start_time": "2023-04-16T15:31:13.418Z"
   },
   {
    "duration": 8,
    "start_time": "2023-04-16T15:31:13.431Z"
   },
   {
    "duration": 10,
    "start_time": "2023-04-16T15:31:13.440Z"
   },
   {
    "duration": 22,
    "start_time": "2023-04-16T15:31:13.451Z"
   },
   {
    "duration": 4,
    "start_time": "2023-04-16T15:31:13.474Z"
   },
   {
    "duration": 53,
    "start_time": "2023-04-16T15:31:13.479Z"
   },
   {
    "duration": 5,
    "start_time": "2023-04-16T15:31:13.533Z"
   },
   {
    "duration": 53,
    "start_time": "2023-04-16T15:31:13.539Z"
   },
   {
    "duration": 80,
    "start_time": "2023-04-16T15:31:13.594Z"
   },
   {
    "duration": 7,
    "start_time": "2023-04-16T15:31:13.675Z"
   },
   {
    "duration": 489,
    "start_time": "2023-04-16T15:31:13.683Z"
   },
   {
    "duration": 253247,
    "start_time": "2023-04-16T15:31:14.174Z"
   },
   {
    "duration": 107,
    "start_time": "2023-04-16T15:35:27.423Z"
   },
   {
    "duration": 0,
    "start_time": "2023-04-16T15:35:27.532Z"
   },
   {
    "duration": 0,
    "start_time": "2023-04-16T15:35:27.533Z"
   },
   {
    "duration": 0,
    "start_time": "2023-04-16T15:35:27.535Z"
   },
   {
    "duration": 0,
    "start_time": "2023-04-16T15:35:27.536Z"
   },
   {
    "duration": 12,
    "start_time": "2023-04-16T15:36:42.389Z"
   },
   {
    "duration": 144,
    "start_time": "2023-04-16T15:37:25.531Z"
   },
   {
    "duration": 2925,
    "start_time": "2023-04-16T15:37:43.951Z"
   },
   {
    "duration": 212,
    "start_time": "2023-04-16T15:39:48.982Z"
   },
   {
    "duration": 24,
    "start_time": "2023-04-16T15:39:51.232Z"
   },
   {
    "duration": 6,
    "start_time": "2023-04-16T15:39:53.552Z"
   },
   {
    "duration": 6,
    "start_time": "2023-04-16T15:39:55.621Z"
   },
   {
    "duration": 1109,
    "start_time": "2023-04-16T15:40:36.962Z"
   },
   {
    "duration": 57,
    "start_time": "2023-04-16T15:40:38.073Z"
   },
   {
    "duration": 6,
    "start_time": "2023-04-16T15:40:38.132Z"
   },
   {
    "duration": 21,
    "start_time": "2023-04-16T15:40:38.141Z"
   },
   {
    "duration": 10,
    "start_time": "2023-04-16T15:40:38.164Z"
   },
   {
    "duration": 10,
    "start_time": "2023-04-16T15:40:38.176Z"
   },
   {
    "duration": 11,
    "start_time": "2023-04-16T15:40:38.188Z"
   },
   {
    "duration": 4,
    "start_time": "2023-04-16T15:40:38.201Z"
   },
   {
    "duration": 12,
    "start_time": "2023-04-16T15:40:38.206Z"
   },
   {
    "duration": 4,
    "start_time": "2023-04-16T15:40:38.221Z"
   },
   {
    "duration": 5,
    "start_time": "2023-04-16T15:40:38.227Z"
   },
   {
    "duration": 46,
    "start_time": "2023-04-16T15:40:38.234Z"
   },
   {
    "duration": 5,
    "start_time": "2023-04-16T15:40:38.282Z"
   },
   {
    "duration": 25,
    "start_time": "2023-04-16T15:40:38.288Z"
   },
   {
    "duration": 66,
    "start_time": "2023-04-16T15:40:38.314Z"
   },
   {
    "duration": 7,
    "start_time": "2023-04-16T15:40:38.381Z"
   },
   {
    "duration": 7,
    "start_time": "2023-04-16T15:40:38.389Z"
   },
   {
    "duration": 7,
    "start_time": "2023-04-16T15:40:38.398Z"
   },
   {
    "duration": 6,
    "start_time": "2023-04-16T15:40:38.406Z"
   },
   {
    "duration": 11,
    "start_time": "2023-04-16T15:40:38.414Z"
   },
   {
    "duration": 5,
    "start_time": "2023-04-16T15:40:38.427Z"
   },
   {
    "duration": 91,
    "start_time": "2023-04-16T15:40:38.433Z"
   },
   {
    "duration": 6,
    "start_time": "2023-04-16T15:40:38.526Z"
   },
   {
    "duration": 52,
    "start_time": "2023-04-16T15:40:38.533Z"
   },
   {
    "duration": 87,
    "start_time": "2023-04-16T15:40:38.587Z"
   },
   {
    "duration": 8,
    "start_time": "2023-04-16T15:40:38.676Z"
   },
   {
    "duration": 510,
    "start_time": "2023-04-16T15:40:38.686Z"
   },
   {
    "duration": 251426,
    "start_time": "2023-04-16T15:40:39.199Z"
   },
   {
    "duration": 3359,
    "start_time": "2023-04-16T15:44:50.626Z"
   },
   {
    "duration": 416,
    "start_time": "2023-04-16T15:44:53.987Z"
   },
   {
    "duration": 25,
    "start_time": "2023-04-16T15:44:54.405Z"
   },
   {
    "duration": 5,
    "start_time": "2023-04-16T15:44:54.432Z"
   },
   {
    "duration": 10,
    "start_time": "2023-04-16T15:44:54.438Z"
   },
   {
    "duration": 7,
    "start_time": "2023-04-16T15:46:21.402Z"
   },
   {
    "duration": 5,
    "start_time": "2023-04-16T15:48:13.299Z"
   },
   {
    "duration": 101,
    "start_time": "2023-04-16T15:48:36.028Z"
   },
   {
    "duration": 1129,
    "start_time": "2023-04-16T15:49:55.905Z"
   },
   {
    "duration": 67,
    "start_time": "2023-04-16T15:49:57.037Z"
   },
   {
    "duration": 5,
    "start_time": "2023-04-16T15:49:57.105Z"
   },
   {
    "duration": 14,
    "start_time": "2023-04-16T15:49:57.111Z"
   },
   {
    "duration": 15,
    "start_time": "2023-04-16T15:49:57.127Z"
   },
   {
    "duration": 13,
    "start_time": "2023-04-16T15:49:57.143Z"
   },
   {
    "duration": 20,
    "start_time": "2023-04-16T15:49:57.157Z"
   },
   {
    "duration": 5,
    "start_time": "2023-04-16T15:49:57.188Z"
   },
   {
    "duration": 24,
    "start_time": "2023-04-16T15:49:57.194Z"
   },
   {
    "duration": 5,
    "start_time": "2023-04-16T15:49:57.219Z"
   },
   {
    "duration": 26,
    "start_time": "2023-04-16T15:49:57.226Z"
   },
   {
    "duration": 19,
    "start_time": "2023-04-16T15:49:57.254Z"
   },
   {
    "duration": 32,
    "start_time": "2023-04-16T15:49:57.275Z"
   },
   {
    "duration": 25,
    "start_time": "2023-04-16T15:49:57.309Z"
   },
   {
    "duration": 41,
    "start_time": "2023-04-16T15:49:57.336Z"
   },
   {
    "duration": 11,
    "start_time": "2023-04-16T15:49:57.378Z"
   },
   {
    "duration": 16,
    "start_time": "2023-04-16T15:49:57.391Z"
   },
   {
    "duration": 8,
    "start_time": "2023-04-16T15:49:57.408Z"
   },
   {
    "duration": 10,
    "start_time": "2023-04-16T15:49:57.418Z"
   },
   {
    "duration": 14,
    "start_time": "2023-04-16T15:49:57.430Z"
   },
   {
    "duration": 5,
    "start_time": "2023-04-16T15:49:57.446Z"
   },
   {
    "duration": 77,
    "start_time": "2023-04-16T15:49:57.453Z"
   },
   {
    "duration": 6,
    "start_time": "2023-04-16T15:49:57.532Z"
   },
   {
    "duration": 56,
    "start_time": "2023-04-16T15:49:57.540Z"
   },
   {
    "duration": 79,
    "start_time": "2023-04-16T15:49:57.598Z"
   },
   {
    "duration": 9,
    "start_time": "2023-04-16T15:49:57.679Z"
   },
   {
    "duration": 526,
    "start_time": "2023-04-16T15:49:57.690Z"
   },
   {
    "duration": 259150,
    "start_time": "2023-04-16T15:49:58.217Z"
   },
   {
    "duration": 8500,
    "start_time": "2023-04-16T15:54:17.372Z"
   },
   {
    "duration": 332,
    "start_time": "2023-04-16T15:54:25.873Z"
   },
   {
    "duration": 82,
    "start_time": "2023-04-16T15:54:26.207Z"
   },
   {
    "duration": 7,
    "start_time": "2023-04-16T15:54:26.292Z"
   },
   {
    "duration": 42,
    "start_time": "2023-04-16T15:54:26.302Z"
   },
   {
    "duration": 10,
    "start_time": "2023-04-16T15:54:26.346Z"
   },
   {
    "duration": 2195,
    "start_time": "2023-04-16T16:27:55.013Z"
   },
   {
    "duration": 61,
    "start_time": "2023-04-16T16:27:57.210Z"
   },
   {
    "duration": 5,
    "start_time": "2023-04-16T16:27:57.273Z"
   },
   {
    "duration": 16,
    "start_time": "2023-04-16T16:27:57.280Z"
   },
   {
    "duration": 22,
    "start_time": "2023-04-16T16:27:57.298Z"
   },
   {
    "duration": 14,
    "start_time": "2023-04-16T16:27:57.322Z"
   },
   {
    "duration": 20,
    "start_time": "2023-04-16T16:27:57.337Z"
   },
   {
    "duration": 4,
    "start_time": "2023-04-16T16:27:57.359Z"
   },
   {
    "duration": 25,
    "start_time": "2023-04-16T16:27:57.364Z"
   },
   {
    "duration": 6,
    "start_time": "2023-04-16T16:27:57.391Z"
   },
   {
    "duration": 9,
    "start_time": "2023-04-16T16:27:57.399Z"
   },
   {
    "duration": 21,
    "start_time": "2023-04-16T16:27:57.417Z"
   },
   {
    "duration": 22,
    "start_time": "2023-04-16T16:27:57.439Z"
   },
   {
    "duration": 35,
    "start_time": "2023-04-16T16:27:57.464Z"
   },
   {
    "duration": 50,
    "start_time": "2023-04-16T16:27:57.501Z"
   },
   {
    "duration": 6,
    "start_time": "2023-04-16T16:27:57.552Z"
   },
   {
    "duration": 21,
    "start_time": "2023-04-16T16:27:57.560Z"
   },
   {
    "duration": 7,
    "start_time": "2023-04-16T16:27:57.583Z"
   },
   {
    "duration": 9,
    "start_time": "2023-04-16T16:27:57.591Z"
   },
   {
    "duration": 24,
    "start_time": "2023-04-16T16:27:57.602Z"
   },
   {
    "duration": 7,
    "start_time": "2023-04-16T16:27:57.628Z"
   },
   {
    "duration": 57,
    "start_time": "2023-04-16T16:27:57.637Z"
   },
   {
    "duration": 23,
    "start_time": "2023-04-16T16:27:57.695Z"
   },
   {
    "duration": 41,
    "start_time": "2023-04-16T16:27:57.720Z"
   },
   {
    "duration": 66,
    "start_time": "2023-04-16T16:27:57.763Z"
   },
   {
    "duration": 90,
    "start_time": "2023-04-16T16:27:57.831Z"
   },
   {
    "duration": 461,
    "start_time": "2023-04-16T16:27:57.923Z"
   },
   {
    "duration": 276132,
    "start_time": "2023-04-16T16:27:58.386Z"
   },
   {
    "duration": 5499,
    "start_time": "2023-04-16T16:32:34.520Z"
   },
   {
    "duration": 328,
    "start_time": "2023-04-16T16:32:40.021Z"
   },
   {
    "duration": 31,
    "start_time": "2023-04-16T16:32:40.351Z"
   },
   {
    "duration": 6,
    "start_time": "2023-04-16T16:32:40.383Z"
   },
   {
    "duration": 21,
    "start_time": "2023-04-16T16:32:40.390Z"
   },
   {
    "duration": 5,
    "start_time": "2023-04-16T16:32:40.418Z"
   },
   {
    "duration": 54,
    "start_time": "2023-04-17T06:14:21.709Z"
   },
   {
    "duration": 67,
    "start_time": "2023-04-17T06:15:10.729Z"
   },
   {
    "duration": 66,
    "start_time": "2023-04-17T06:15:15.749Z"
   },
   {
    "duration": 1117,
    "start_time": "2023-04-17T06:26:23.604Z"
   },
   {
    "duration": 188,
    "start_time": "2023-04-17T06:26:24.722Z"
   },
   {
    "duration": 5,
    "start_time": "2023-04-17T06:26:24.912Z"
   },
   {
    "duration": 7,
    "start_time": "2023-04-17T06:26:24.918Z"
   },
   {
    "duration": 7,
    "start_time": "2023-04-17T06:26:24.927Z"
   },
   {
    "duration": 10,
    "start_time": "2023-04-17T06:26:24.935Z"
   },
   {
    "duration": 14,
    "start_time": "2023-04-17T06:26:24.947Z"
   },
   {
    "duration": 3,
    "start_time": "2023-04-17T06:26:24.962Z"
   },
   {
    "duration": 13,
    "start_time": "2023-04-17T06:26:24.966Z"
   },
   {
    "duration": 9,
    "start_time": "2023-04-17T06:26:24.980Z"
   },
   {
    "duration": 24,
    "start_time": "2023-04-17T06:26:24.991Z"
   },
   {
    "duration": 35,
    "start_time": "2023-04-17T06:26:25.017Z"
   },
   {
    "duration": 5,
    "start_time": "2023-04-17T06:26:25.054Z"
   },
   {
    "duration": 31,
    "start_time": "2023-04-17T06:26:25.062Z"
   },
   {
    "duration": 57,
    "start_time": "2023-04-17T06:26:25.095Z"
   },
   {
    "duration": 6,
    "start_time": "2023-04-17T06:26:25.153Z"
   },
   {
    "duration": 12,
    "start_time": "2023-04-17T06:26:25.160Z"
   },
   {
    "duration": 9,
    "start_time": "2023-04-17T06:26:25.173Z"
   },
   {
    "duration": 5,
    "start_time": "2023-04-17T06:26:25.184Z"
   },
   {
    "duration": 13,
    "start_time": "2023-04-17T06:26:25.191Z"
   },
   {
    "duration": 5,
    "start_time": "2023-04-17T06:26:25.206Z"
   },
   {
    "duration": 74,
    "start_time": "2023-04-17T06:26:25.212Z"
   },
   {
    "duration": 6,
    "start_time": "2023-04-17T06:26:25.288Z"
   },
   {
    "duration": 54,
    "start_time": "2023-04-17T06:26:25.295Z"
   },
   {
    "duration": 24,
    "start_time": "2023-04-17T06:26:25.351Z"
   },
   {
    "duration": 76,
    "start_time": "2023-04-17T06:26:25.377Z"
   },
   {
    "duration": 523,
    "start_time": "2023-04-17T06:26:25.455Z"
   },
   {
    "duration": 267489,
    "start_time": "2023-04-17T06:26:25.979Z"
   },
   {
    "duration": 3586,
    "start_time": "2023-04-17T06:30:53.469Z"
   },
   {
    "duration": 323,
    "start_time": "2023-04-17T06:30:57.057Z"
   },
   {
    "duration": 26,
    "start_time": "2023-04-17T06:30:57.382Z"
   },
   {
    "duration": 6,
    "start_time": "2023-04-17T06:30:57.409Z"
   },
   {
    "duration": 9,
    "start_time": "2023-04-17T06:30:57.416Z"
   },
   {
    "duration": 23,
    "start_time": "2023-04-17T06:30:57.427Z"
   },
   {
    "duration": 3,
    "start_time": "2023-04-17T06:30:57.454Z"
   },
   {
    "duration": 21,
    "start_time": "2023-04-17T06:30:57.458Z"
   },
   {
    "duration": 50,
    "start_time": "2023-04-17T06:31:30.238Z"
   },
   {
    "duration": 5,
    "start_time": "2023-04-17T06:31:33.278Z"
   },
   {
    "duration": 60,
    "start_time": "2023-04-17T06:31:54.988Z"
   },
   {
    "duration": 1146,
    "start_time": "2023-04-17T06:33:27.209Z"
   },
   {
    "duration": 55,
    "start_time": "2023-04-17T06:33:28.356Z"
   },
   {
    "duration": 5,
    "start_time": "2023-04-17T06:33:28.413Z"
   },
   {
    "duration": 15,
    "start_time": "2023-04-17T06:33:28.419Z"
   },
   {
    "duration": 10,
    "start_time": "2023-04-17T06:33:28.436Z"
   },
   {
    "duration": 18,
    "start_time": "2023-04-17T06:33:28.447Z"
   },
   {
    "duration": 16,
    "start_time": "2023-04-17T06:33:28.466Z"
   },
   {
    "duration": 3,
    "start_time": "2023-04-17T06:33:28.484Z"
   },
   {
    "duration": 13,
    "start_time": "2023-04-17T06:33:28.489Z"
   },
   {
    "duration": 4,
    "start_time": "2023-04-17T06:33:28.504Z"
   },
   {
    "duration": 6,
    "start_time": "2023-04-17T06:33:28.509Z"
   },
   {
    "duration": 34,
    "start_time": "2023-04-17T06:33:28.516Z"
   },
   {
    "duration": 5,
    "start_time": "2023-04-17T06:33:28.552Z"
   },
   {
    "duration": 22,
    "start_time": "2023-04-17T06:33:28.561Z"
   },
   {
    "duration": 69,
    "start_time": "2023-04-17T06:33:28.584Z"
   },
   {
    "duration": 6,
    "start_time": "2023-04-17T06:33:28.654Z"
   },
   {
    "duration": 11,
    "start_time": "2023-04-17T06:33:28.661Z"
   },
   {
    "duration": 8,
    "start_time": "2023-04-17T06:33:28.673Z"
   },
   {
    "duration": 6,
    "start_time": "2023-04-17T06:33:28.682Z"
   },
   {
    "duration": 6,
    "start_time": "2023-04-17T06:33:28.689Z"
   },
   {
    "duration": 14,
    "start_time": "2023-04-17T06:33:28.696Z"
   },
   {
    "duration": 7,
    "start_time": "2023-04-17T06:33:28.711Z"
   },
   {
    "duration": 79,
    "start_time": "2023-04-17T06:33:28.719Z"
   },
   {
    "duration": 6,
    "start_time": "2023-04-17T06:33:28.800Z"
   },
   {
    "duration": 50,
    "start_time": "2023-04-17T06:33:28.808Z"
   },
   {
    "duration": 90,
    "start_time": "2023-04-17T06:33:28.860Z"
   },
   {
    "duration": 6,
    "start_time": "2023-04-17T06:33:28.952Z"
   },
   {
    "duration": 436,
    "start_time": "2023-04-17T06:33:29.049Z"
   },
   {
    "duration": 269393,
    "start_time": "2023-04-17T06:33:29.486Z"
   },
   {
    "duration": 3972,
    "start_time": "2023-04-17T06:37:58.881Z"
   },
   {
    "duration": 424,
    "start_time": "2023-04-17T06:38:02.854Z"
   },
   {
    "duration": 27,
    "start_time": "2023-04-17T06:38:03.279Z"
   },
   {
    "duration": 23,
    "start_time": "2023-04-17T06:38:03.308Z"
   },
   {
    "duration": 49,
    "start_time": "2023-04-17T06:38:03.332Z"
   },
   {
    "duration": 7,
    "start_time": "2023-04-17T06:38:03.383Z"
   },
   {
    "duration": 178,
    "start_time": "2023-04-17T06:38:03.393Z"
   },
   {
    "duration": 275851,
    "start_time": "2023-04-17T06:47:34.696Z"
   },
   {
    "duration": 54,
    "start_time": "2023-04-17T06:55:09.023Z"
   },
   {
    "duration": 1130,
    "start_time": "2023-04-17T07:29:10.915Z"
   },
   {
    "duration": 66,
    "start_time": "2023-04-17T07:29:12.047Z"
   },
   {
    "duration": 5,
    "start_time": "2023-04-17T07:29:12.115Z"
   },
   {
    "duration": 12,
    "start_time": "2023-04-17T07:29:12.122Z"
   },
   {
    "duration": 7,
    "start_time": "2023-04-17T07:29:12.136Z"
   },
   {
    "duration": 42,
    "start_time": "2023-04-17T07:29:12.144Z"
   },
   {
    "duration": 31,
    "start_time": "2023-04-17T07:29:12.188Z"
   },
   {
    "duration": 16,
    "start_time": "2023-04-17T07:29:12.221Z"
   },
   {
    "duration": 32,
    "start_time": "2023-04-17T07:29:12.238Z"
   },
   {
    "duration": 4,
    "start_time": "2023-04-17T07:29:12.272Z"
   },
   {
    "duration": 30,
    "start_time": "2023-04-17T07:29:12.278Z"
   },
   {
    "duration": 27,
    "start_time": "2023-04-17T07:29:12.310Z"
   },
   {
    "duration": 13,
    "start_time": "2023-04-17T07:29:12.339Z"
   },
   {
    "duration": 42,
    "start_time": "2023-04-17T07:29:12.354Z"
   },
   {
    "duration": 59,
    "start_time": "2023-04-17T07:29:12.398Z"
   },
   {
    "duration": 5,
    "start_time": "2023-04-17T07:29:12.458Z"
   },
   {
    "duration": 7,
    "start_time": "2023-04-17T07:29:12.465Z"
   },
   {
    "duration": 5,
    "start_time": "2023-04-17T07:29:12.474Z"
   },
   {
    "duration": 7,
    "start_time": "2023-04-17T07:29:12.480Z"
   },
   {
    "duration": 6,
    "start_time": "2023-04-17T07:29:12.488Z"
   },
   {
    "duration": 11,
    "start_time": "2023-04-17T07:29:12.496Z"
   },
   {
    "duration": 5,
    "start_time": "2023-04-17T07:29:12.509Z"
   },
   {
    "duration": 84,
    "start_time": "2023-04-17T07:29:12.516Z"
   },
   {
    "duration": 5,
    "start_time": "2023-04-17T07:29:12.602Z"
   },
   {
    "duration": 60,
    "start_time": "2023-04-17T07:29:12.608Z"
   },
   {
    "duration": 30,
    "start_time": "2023-04-17T07:29:12.670Z"
   },
   {
    "duration": 6,
    "start_time": "2023-04-17T07:29:12.751Z"
   },
   {
    "duration": 471,
    "start_time": "2023-04-17T07:29:12.850Z"
   },
   {
    "duration": 1096,
    "start_time": "2023-04-17T07:33:39.475Z"
   },
   {
    "duration": 57,
    "start_time": "2023-04-17T07:33:40.573Z"
   },
   {
    "duration": 4,
    "start_time": "2023-04-17T07:33:40.632Z"
   },
   {
    "duration": 6,
    "start_time": "2023-04-17T07:33:40.638Z"
   },
   {
    "duration": 17,
    "start_time": "2023-04-17T07:33:40.647Z"
   },
   {
    "duration": 8,
    "start_time": "2023-04-17T07:33:40.666Z"
   },
   {
    "duration": 11,
    "start_time": "2023-04-17T07:33:40.676Z"
   },
   {
    "duration": 4,
    "start_time": "2023-04-17T07:33:40.688Z"
   },
   {
    "duration": 12,
    "start_time": "2023-04-17T07:33:40.693Z"
   },
   {
    "duration": 4,
    "start_time": "2023-04-17T07:33:40.706Z"
   },
   {
    "duration": 10,
    "start_time": "2023-04-17T07:33:40.711Z"
   },
   {
    "duration": 33,
    "start_time": "2023-04-17T07:33:40.722Z"
   },
   {
    "duration": 4,
    "start_time": "2023-04-17T07:33:40.757Z"
   },
   {
    "duration": 25,
    "start_time": "2023-04-17T07:33:40.764Z"
   },
   {
    "duration": 59,
    "start_time": "2023-04-17T07:33:40.790Z"
   },
   {
    "duration": 6,
    "start_time": "2023-04-17T07:33:40.850Z"
   },
   {
    "duration": 14,
    "start_time": "2023-04-17T07:33:40.857Z"
   },
   {
    "duration": 17,
    "start_time": "2023-04-17T07:33:40.872Z"
   },
   {
    "duration": 15,
    "start_time": "2023-04-17T07:33:40.890Z"
   },
   {
    "duration": 4,
    "start_time": "2023-04-17T07:33:40.907Z"
   },
   {
    "duration": 11,
    "start_time": "2023-04-17T07:33:40.913Z"
   },
   {
    "duration": 4,
    "start_time": "2023-04-17T07:33:40.925Z"
   },
   {
    "duration": 78,
    "start_time": "2023-04-17T07:33:40.931Z"
   },
   {
    "duration": 5,
    "start_time": "2023-04-17T07:33:41.010Z"
   },
   {
    "duration": 54,
    "start_time": "2023-04-17T07:33:41.017Z"
   },
   {
    "duration": 79,
    "start_time": "2023-04-17T07:33:41.072Z"
   },
   {
    "duration": 96,
    "start_time": "2023-04-17T07:33:41.153Z"
   },
   {
    "duration": 447,
    "start_time": "2023-04-17T07:33:41.251Z"
   },
   {
    "duration": 271318,
    "start_time": "2023-04-17T07:33:41.699Z"
   },
   {
    "duration": 3433,
    "start_time": "2023-04-17T07:38:13.019Z"
   },
   {
    "duration": 345,
    "start_time": "2023-04-17T07:38:16.454Z"
   },
   {
    "duration": 26,
    "start_time": "2023-04-17T07:38:16.801Z"
   },
   {
    "duration": 9,
    "start_time": "2023-04-17T07:38:16.828Z"
   },
   {
    "duration": 21,
    "start_time": "2023-04-17T07:38:16.848Z"
   },
   {
    "duration": 27,
    "start_time": "2023-04-17T07:38:16.870Z"
   }
  ],
  "kernelspec": {
   "display_name": "Python 3 (ipykernel)",
   "language": "python",
   "name": "python3"
  },
  "language_info": {
   "codemirror_mode": {
    "name": "ipython",
    "version": 3
   },
   "file_extension": ".py",
   "mimetype": "text/x-python",
   "name": "python",
   "nbconvert_exporter": "python",
   "pygments_lexer": "ipython3",
   "version": "3.9.13"
  },
  "toc": {
   "base_numbering": 1,
   "nav_menu": {},
   "number_sections": true,
   "sideBar": true,
   "skip_h1_title": true,
   "title_cell": "Содержание",
   "title_sidebar": "Contents",
   "toc_cell": true,
   "toc_position": {
    "height": "calc(100% - 180px)",
    "left": "10px",
    "top": "150px",
    "width": "212.525px"
   },
   "toc_section_display": true,
   "toc_window_display": true
  }
 },
 "nbformat": 4,
 "nbformat_minor": 2
}
