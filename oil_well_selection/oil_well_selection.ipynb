{
 "cells": [
  {
   "cell_type": "markdown",
   "metadata": {},
   "source": [
    "# Выбор локации для скважины"
   ]
  },
  {
   "cell_type": "markdown",
   "metadata": {},
   "source": [
    "**Данные:** пробы нефти в трёх регионах: в каждом 10 000 месторождений, где измерили качество нефти и объём её запасов.\n",
    "\n",
    "**Описание данных:**\n",
    "\n",
    "id — уникальный идентификатор скважины;<br>\n",
    "f0, f1, f2 — три признака точек (неважно, что они означают, но сами признаки значимы);<br>\n",
    "product — объём запасов в скважине (тыс. баррелей).<br>\n",
    "\n",
    "**Цель исследования:** построить модель для определения региона, где добыча принесёт наибольшую прибыль. Проанализировать возможную прибыль и риски техникой Bootstrap.\n",
    "\n",
    "**Исследование пройдёт в несколько этапов:**\n",
    "\n",
    "Импорт библиотек.<br>\n",
    "Загрузка и подготовка данных.<br>\n",
    "Разбивка данных на выборки.<br>\n",
    "Обучение моделей и расчет метрики RMSE.<br>\n",
    "Расчет суммарной прибыли по регионам.<br>\n",
    "Техника Bootstrap для проверки распределения прибыли.<br>\n",
    "Расчет средней прибыли, 95%-го доверительного интервала. <br>\n",
    "Расчет риска убытков.<br> \n",
    "Вывод.<br>\n",
    "\n",
    "**Задача будет решаться с помощью модели линейной регрессии.**"
   ]
  },
  {
   "cell_type": "markdown",
   "metadata": {},
   "source": [
    "## Импорт библиотек"
   ]
  },
  {
   "cell_type": "code",
   "execution_count": 1,
   "metadata": {},
   "outputs": [],
   "source": [
    "import pandas as pd\n",
    "from sklearn.model_selection import train_test_split\n",
    "from sklearn.linear_model import LinearRegression\n",
    "from sklearn.metrics import mean_squared_error\n",
    "import numpy as np\n",
    "from scipy import stats as st"
   ]
  },
  {
   "cell_type": "markdown",
   "metadata": {},
   "source": [
    "## Загрузка и подготовка данных"
   ]
  },
  {
   "cell_type": "markdown",
   "metadata": {},
   "source": [
    "### Загрузка данных и просмотр информации о них"
   ]
  },
  {
   "cell_type": "code",
   "execution_count": 2,
   "metadata": {},
   "outputs": [
    {
     "data": {
      "text/html": [
       "<div>\n",
       "<style scoped>\n",
       "    .dataframe tbody tr th:only-of-type {\n",
       "        vertical-align: middle;\n",
       "    }\n",
       "\n",
       "    .dataframe tbody tr th {\n",
       "        vertical-align: top;\n",
       "    }\n",
       "\n",
       "    .dataframe thead th {\n",
       "        text-align: right;\n",
       "    }\n",
       "</style>\n",
       "<table border=\"1\" class=\"dataframe\">\n",
       "  <thead>\n",
       "    <tr style=\"text-align: right;\">\n",
       "      <th></th>\n",
       "      <th>id</th>\n",
       "      <th>f0</th>\n",
       "      <th>f1</th>\n",
       "      <th>f2</th>\n",
       "      <th>product</th>\n",
       "    </tr>\n",
       "  </thead>\n",
       "  <tbody>\n",
       "    <tr>\n",
       "      <th>0</th>\n",
       "      <td>txEyH</td>\n",
       "      <td>0.705745</td>\n",
       "      <td>-0.497823</td>\n",
       "      <td>1.221170</td>\n",
       "      <td>105.280062</td>\n",
       "    </tr>\n",
       "    <tr>\n",
       "      <th>1</th>\n",
       "      <td>2acmU</td>\n",
       "      <td>1.334711</td>\n",
       "      <td>-0.340164</td>\n",
       "      <td>4.365080</td>\n",
       "      <td>73.037750</td>\n",
       "    </tr>\n",
       "    <tr>\n",
       "      <th>2</th>\n",
       "      <td>409Wp</td>\n",
       "      <td>1.022732</td>\n",
       "      <td>0.151990</td>\n",
       "      <td>1.419926</td>\n",
       "      <td>85.265647</td>\n",
       "    </tr>\n",
       "    <tr>\n",
       "      <th>3</th>\n",
       "      <td>iJLyR</td>\n",
       "      <td>-0.032172</td>\n",
       "      <td>0.139033</td>\n",
       "      <td>2.978566</td>\n",
       "      <td>168.620776</td>\n",
       "    </tr>\n",
       "    <tr>\n",
       "      <th>4</th>\n",
       "      <td>Xdl7t</td>\n",
       "      <td>1.988431</td>\n",
       "      <td>0.155413</td>\n",
       "      <td>4.751769</td>\n",
       "      <td>154.036647</td>\n",
       "    </tr>\n",
       "  </tbody>\n",
       "</table>\n",
       "</div>"
      ],
      "text/plain": [
       "      id        f0        f1        f2     product\n",
       "0  txEyH  0.705745 -0.497823  1.221170  105.280062\n",
       "1  2acmU  1.334711 -0.340164  4.365080   73.037750\n",
       "2  409Wp  1.022732  0.151990  1.419926   85.265647\n",
       "3  iJLyR -0.032172  0.139033  2.978566  168.620776\n",
       "4  Xdl7t  1.988431  0.155413  4.751769  154.036647"
      ]
     },
     "execution_count": 2,
     "metadata": {},
     "output_type": "execute_result"
    }
   ],
   "source": [
    "data_1 = pd.read_csv('/datasets/geo_data_0.csv')\n",
    "data_1.head()"
   ]
  },
  {
   "cell_type": "code",
   "execution_count": 3,
   "metadata": {},
   "outputs": [
    {
     "data": {
      "text/plain": [
       "100000"
      ]
     },
     "execution_count": 3,
     "metadata": {},
     "output_type": "execute_result"
    }
   ],
   "source": [
    "data_1.shape[0] #Размер первой выборки"
   ]
  },
  {
   "cell_type": "code",
   "execution_count": 4,
   "metadata": {},
   "outputs": [
    {
     "data": {
      "text/plain": [
       "id          object\n",
       "f0         float64\n",
       "f1         float64\n",
       "f2         float64\n",
       "product    float64\n",
       "dtype: object"
      ]
     },
     "execution_count": 4,
     "metadata": {},
     "output_type": "execute_result"
    }
   ],
   "source": [
    "data_1.dtypes #проверка типов данных"
   ]
  },
  {
   "cell_type": "code",
   "execution_count": 5,
   "metadata": {},
   "outputs": [
    {
     "data": {
      "text/html": [
       "<div>\n",
       "<style scoped>\n",
       "    .dataframe tbody tr th:only-of-type {\n",
       "        vertical-align: middle;\n",
       "    }\n",
       "\n",
       "    .dataframe tbody tr th {\n",
       "        vertical-align: top;\n",
       "    }\n",
       "\n",
       "    .dataframe thead th {\n",
       "        text-align: right;\n",
       "    }\n",
       "</style>\n",
       "<table border=\"1\" class=\"dataframe\">\n",
       "  <thead>\n",
       "    <tr style=\"text-align: right;\">\n",
       "      <th></th>\n",
       "      <th>id</th>\n",
       "      <th>f0</th>\n",
       "      <th>f1</th>\n",
       "      <th>f2</th>\n",
       "      <th>product</th>\n",
       "    </tr>\n",
       "  </thead>\n",
       "  <tbody>\n",
       "    <tr>\n",
       "      <th>0</th>\n",
       "      <td>kBEdx</td>\n",
       "      <td>-15.001348</td>\n",
       "      <td>-8.276000</td>\n",
       "      <td>-0.005876</td>\n",
       "      <td>3.179103</td>\n",
       "    </tr>\n",
       "    <tr>\n",
       "      <th>1</th>\n",
       "      <td>62mP7</td>\n",
       "      <td>14.272088</td>\n",
       "      <td>-3.475083</td>\n",
       "      <td>0.999183</td>\n",
       "      <td>26.953261</td>\n",
       "    </tr>\n",
       "    <tr>\n",
       "      <th>2</th>\n",
       "      <td>vyE1P</td>\n",
       "      <td>6.263187</td>\n",
       "      <td>-5.948386</td>\n",
       "      <td>5.001160</td>\n",
       "      <td>134.766305</td>\n",
       "    </tr>\n",
       "    <tr>\n",
       "      <th>3</th>\n",
       "      <td>KcrkZ</td>\n",
       "      <td>-13.081196</td>\n",
       "      <td>-11.506057</td>\n",
       "      <td>4.999415</td>\n",
       "      <td>137.945408</td>\n",
       "    </tr>\n",
       "    <tr>\n",
       "      <th>4</th>\n",
       "      <td>AHL4O</td>\n",
       "      <td>12.702195</td>\n",
       "      <td>-8.147433</td>\n",
       "      <td>5.004363</td>\n",
       "      <td>134.766305</td>\n",
       "    </tr>\n",
       "  </tbody>\n",
       "</table>\n",
       "</div>"
      ],
      "text/plain": [
       "      id         f0         f1        f2     product\n",
       "0  kBEdx -15.001348  -8.276000 -0.005876    3.179103\n",
       "1  62mP7  14.272088  -3.475083  0.999183   26.953261\n",
       "2  vyE1P   6.263187  -5.948386  5.001160  134.766305\n",
       "3  KcrkZ -13.081196 -11.506057  4.999415  137.945408\n",
       "4  AHL4O  12.702195  -8.147433  5.004363  134.766305"
      ]
     },
     "execution_count": 5,
     "metadata": {},
     "output_type": "execute_result"
    }
   ],
   "source": [
    "data_2 = pd.read_csv('/datasets/geo_data_1.csv')\n",
    "data_2.head() "
   ]
  },
  {
   "cell_type": "code",
   "execution_count": 6,
   "metadata": {},
   "outputs": [
    {
     "data": {
      "text/plain": [
       "100000"
      ]
     },
     "execution_count": 6,
     "metadata": {},
     "output_type": "execute_result"
    }
   ],
   "source": [
    "data_2.shape[0] #Размер второй выборки"
   ]
  },
  {
   "cell_type": "code",
   "execution_count": 7,
   "metadata": {},
   "outputs": [
    {
     "data": {
      "text/plain": [
       "id          object\n",
       "f0         float64\n",
       "f1         float64\n",
       "f2         float64\n",
       "product    float64\n",
       "dtype: object"
      ]
     },
     "execution_count": 7,
     "metadata": {},
     "output_type": "execute_result"
    }
   ],
   "source": [
    "data_2.dtypes #проверка типов данных"
   ]
  },
  {
   "cell_type": "code",
   "execution_count": 8,
   "metadata": {
    "scrolled": true
   },
   "outputs": [
    {
     "data": {
      "text/html": [
       "<div>\n",
       "<style scoped>\n",
       "    .dataframe tbody tr th:only-of-type {\n",
       "        vertical-align: middle;\n",
       "    }\n",
       "\n",
       "    .dataframe tbody tr th {\n",
       "        vertical-align: top;\n",
       "    }\n",
       "\n",
       "    .dataframe thead th {\n",
       "        text-align: right;\n",
       "    }\n",
       "</style>\n",
       "<table border=\"1\" class=\"dataframe\">\n",
       "  <thead>\n",
       "    <tr style=\"text-align: right;\">\n",
       "      <th></th>\n",
       "      <th>id</th>\n",
       "      <th>f0</th>\n",
       "      <th>f1</th>\n",
       "      <th>f2</th>\n",
       "      <th>product</th>\n",
       "    </tr>\n",
       "  </thead>\n",
       "  <tbody>\n",
       "    <tr>\n",
       "      <th>0</th>\n",
       "      <td>fwXo0</td>\n",
       "      <td>-1.146987</td>\n",
       "      <td>0.963328</td>\n",
       "      <td>-0.828965</td>\n",
       "      <td>27.758673</td>\n",
       "    </tr>\n",
       "    <tr>\n",
       "      <th>1</th>\n",
       "      <td>WJtFt</td>\n",
       "      <td>0.262778</td>\n",
       "      <td>0.269839</td>\n",
       "      <td>-2.530187</td>\n",
       "      <td>56.069697</td>\n",
       "    </tr>\n",
       "    <tr>\n",
       "      <th>2</th>\n",
       "      <td>ovLUW</td>\n",
       "      <td>0.194587</td>\n",
       "      <td>0.289035</td>\n",
       "      <td>-5.586433</td>\n",
       "      <td>62.871910</td>\n",
       "    </tr>\n",
       "    <tr>\n",
       "      <th>3</th>\n",
       "      <td>q6cA6</td>\n",
       "      <td>2.236060</td>\n",
       "      <td>-0.553760</td>\n",
       "      <td>0.930038</td>\n",
       "      <td>114.572842</td>\n",
       "    </tr>\n",
       "    <tr>\n",
       "      <th>4</th>\n",
       "      <td>WPMUX</td>\n",
       "      <td>-0.515993</td>\n",
       "      <td>1.716266</td>\n",
       "      <td>5.899011</td>\n",
       "      <td>149.600746</td>\n",
       "    </tr>\n",
       "  </tbody>\n",
       "</table>\n",
       "</div>"
      ],
      "text/plain": [
       "      id        f0        f1        f2     product\n",
       "0  fwXo0 -1.146987  0.963328 -0.828965   27.758673\n",
       "1  WJtFt  0.262778  0.269839 -2.530187   56.069697\n",
       "2  ovLUW  0.194587  0.289035 -5.586433   62.871910\n",
       "3  q6cA6  2.236060 -0.553760  0.930038  114.572842\n",
       "4  WPMUX -0.515993  1.716266  5.899011  149.600746"
      ]
     },
     "execution_count": 8,
     "metadata": {},
     "output_type": "execute_result"
    }
   ],
   "source": [
    "data_3 = pd.read_csv('/datasets/geo_data_2.csv')\n",
    "data_3.head() "
   ]
  },
  {
   "cell_type": "code",
   "execution_count": 9,
   "metadata": {},
   "outputs": [
    {
     "data": {
      "text/plain": [
       "100000"
      ]
     },
     "execution_count": 9,
     "metadata": {},
     "output_type": "execute_result"
    }
   ],
   "source": [
    "data_3.shape[0] #Размер третьей выборки"
   ]
  },
  {
   "cell_type": "code",
   "execution_count": 10,
   "metadata": {},
   "outputs": [
    {
     "data": {
      "text/plain": [
       "id          object\n",
       "f0         float64\n",
       "f1         float64\n",
       "f2         float64\n",
       "product    float64\n",
       "dtype: object"
      ]
     },
     "execution_count": 10,
     "metadata": {},
     "output_type": "execute_result"
    }
   ],
   "source": [
    "data_3.dtypes #проверка типов данных"
   ]
  },
  {
   "cell_type": "markdown",
   "metadata": {},
   "source": [
    "Промежуточный вывод:\n",
    "\n",
    "- надо проверить данные на пропуски,\n",
    "- надо проверить данные на дубликаты.\n",
    "\n",
    "С типами данных все в порядке, размеры выборок одинаковые - 100000 строк."
   ]
  },
  {
   "cell_type": "markdown",
   "metadata": {},
   "source": [
    "### Проверка на пропуски"
   ]
  },
  {
   "cell_type": "code",
   "execution_count": 11,
   "metadata": {},
   "outputs": [
    {
     "data": {
      "text/plain": [
       "id         0\n",
       "f0         0\n",
       "f1         0\n",
       "f2         0\n",
       "product    0\n",
       "dtype: int64"
      ]
     },
     "execution_count": 11,
     "metadata": {},
     "output_type": "execute_result"
    }
   ],
   "source": [
    "data_1.isnull().sum()"
   ]
  },
  {
   "cell_type": "code",
   "execution_count": 12,
   "metadata": {},
   "outputs": [
    {
     "data": {
      "text/plain": [
       "id         0\n",
       "f0         0\n",
       "f1         0\n",
       "f2         0\n",
       "product    0\n",
       "dtype: int64"
      ]
     },
     "execution_count": 12,
     "metadata": {},
     "output_type": "execute_result"
    }
   ],
   "source": [
    "data_2.isnull().sum()"
   ]
  },
  {
   "cell_type": "code",
   "execution_count": 13,
   "metadata": {},
   "outputs": [
    {
     "data": {
      "text/plain": [
       "id         0\n",
       "f0         0\n",
       "f1         0\n",
       "f2         0\n",
       "product    0\n",
       "dtype: int64"
      ]
     },
     "execution_count": 13,
     "metadata": {},
     "output_type": "execute_result"
    }
   ],
   "source": [
    "data_3.isnull().sum()"
   ]
  },
  {
   "cell_type": "markdown",
   "metadata": {},
   "source": [
    "Промежуточный вывод:\n",
    "\n",
    "- пропусков в данных нет."
   ]
  },
  {
   "cell_type": "markdown",
   "metadata": {},
   "source": [
    "### Проверка на дубликаты"
   ]
  },
  {
   "cell_type": "code",
   "execution_count": 14,
   "metadata": {},
   "outputs": [
    {
     "data": {
      "text/plain": [
       "0"
      ]
     },
     "execution_count": 14,
     "metadata": {},
     "output_type": "execute_result"
    }
   ],
   "source": [
    "data_1.duplicated().sum() #Проверка на дубликаты"
   ]
  },
  {
   "cell_type": "code",
   "execution_count": 15,
   "metadata": {},
   "outputs": [
    {
     "data": {
      "text/plain": [
       "0"
      ]
     },
     "execution_count": 15,
     "metadata": {},
     "output_type": "execute_result"
    }
   ],
   "source": [
    "data_2.duplicated().sum() #Проверка на дубликаты"
   ]
  },
  {
   "cell_type": "code",
   "execution_count": 16,
   "metadata": {},
   "outputs": [
    {
     "data": {
      "text/plain": [
       "0"
      ]
     },
     "execution_count": 16,
     "metadata": {},
     "output_type": "execute_result"
    }
   ],
   "source": [
    "data_3.duplicated().sum() #Проверка на дубликаты"
   ]
  },
  {
   "cell_type": "markdown",
   "metadata": {},
   "source": [
    "Промежуточный вывод:\n",
    "\n",
    "- дубликатов в данных нет."
   ]
  },
  {
   "cell_type": "markdown",
   "metadata": {},
   "source": [
    "### Разбивка данных на выборки"
   ]
  },
  {
   "cell_type": "markdown",
   "metadata": {},
   "source": [
    "Разобью данные на тренировочную и валидационную выборку в соотношении 75:25.\n",
    "Также я решила из features удалить столбец с ID - он никак не поможет обучить модель."
   ]
  },
  {
   "cell_type": "code",
   "execution_count": 17,
   "metadata": {},
   "outputs": [
    {
     "name": "stdout",
     "output_type": "stream",
     "text": [
      "75000 25000\n",
      "75000 25000\n"
     ]
    }
   ],
   "source": [
    "target_1 = data_1['product']\n",
    "features_1 = data_1.drop(['product', 'id'], axis='columns')\n",
    "\n",
    "features_train_1, features_valid_1, target_train_1, target_valid_1 = train_test_split(\n",
    "    features_1, target_1, test_size=0.25, random_state=12345)\n",
    "\n",
    "print(features_train_1.shape[0], features_valid_1.shape[0]) #проверка размера выборок\n",
    "print(target_train_1.shape[0], target_valid_1.shape[0])"
   ]
  },
  {
   "cell_type": "code",
   "execution_count": 18,
   "metadata": {},
   "outputs": [
    {
     "name": "stdout",
     "output_type": "stream",
     "text": [
      "75000 25000\n",
      "75000 25000\n"
     ]
    }
   ],
   "source": [
    "target_2 = data_2['product']\n",
    "features_2 = data_2.drop(['product', 'id'], axis='columns')\n",
    "\n",
    "features_train_2, features_valid_2, target_train_2, target_valid_2 = train_test_split(\n",
    "    features_2, target_2, test_size=0.25, random_state=12345)\n",
    "\n",
    "print(features_train_2.shape[0], features_valid_2.shape[0]) #проверка размера выборок\n",
    "print(target_train_2.shape[0], target_valid_2.shape[0])"
   ]
  },
  {
   "cell_type": "code",
   "execution_count": 19,
   "metadata": {},
   "outputs": [
    {
     "name": "stdout",
     "output_type": "stream",
     "text": [
      "75000 25000\n",
      "75000 25000\n"
     ]
    }
   ],
   "source": [
    "target_3 = data_3['product']\n",
    "features_3 = data_3.drop(['product', 'id'], axis='columns')\n",
    "\n",
    "features_train_3, features_valid_3, target_train_3, target_valid_3 = train_test_split(\n",
    "    features_3, target_3, test_size=0.25, random_state=12345)\n",
    "\n",
    "print(features_train_3.shape[0], features_valid_3.shape[0]) #проверка размера выборок\n",
    "print(target_train_3.shape[0], target_valid_3.shape[0])"
   ]
  },
  {
   "cell_type": "markdown",
   "metadata": {},
   "source": [
    "Вывод:\n",
    "\n",
    "- проведена проверка на пропуски, их нет\n",
    "- проведена проверка на дубли, их нет\n",
    "- данные разбиты на выборки в соотношении 75:25."
   ]
  },
  {
   "cell_type": "markdown",
   "metadata": {},
   "source": [
    "## Обучение и проверка модели"
   ]
  },
  {
   "cell_type": "markdown",
   "metadata": {},
   "source": [
    "### Обучение модели на данных из первого региона:"
   ]
  },
  {
   "cell_type": "markdown",
   "metadata": {},
   "source": [
    "При расчете предсказаний сразу же перевожу их в формат Series и оставляю индексы скважин, чтобы потом все работало корректно."
   ]
  },
  {
   "cell_type": "code",
   "execution_count": 20,
   "metadata": {
    "scrolled": true
   },
   "outputs": [
    {
     "name": "stdout",
     "output_type": "stream",
     "text": [
      "RMSE первого региона = 37.5794217150813\n",
      "Средний запас предсказанного сырья первого региона = 92.59256778438035\n"
     ]
    }
   ],
   "source": [
    "model_1 = LinearRegression()\n",
    "model_1.fit(features_train_1, target_train_1)\n",
    "predicted_valid_1 = pd.Series(model_1.predict(features_valid_1), index=features_valid_1.index)\n",
    "\n",
    "rmse_1 = (mean_squared_error(target_valid_1, predicted_valid_1))** 0.5\n",
    "print(\"RMSE первого региона =\", rmse_1)\n",
    "print('Средний запас предсказанного сырья первого региона =', predicted_valid_1.mean())"
   ]
  },
  {
   "cell_type": "markdown",
   "metadata": {},
   "source": [
    "### Обучение модели на данных из второго региона:"
   ]
  },
  {
   "cell_type": "code",
   "execution_count": 21,
   "metadata": {},
   "outputs": [
    {
     "name": "stdout",
     "output_type": "stream",
     "text": [
      "RMSE второго региона = 0.893099286775617\n",
      "Средний запас предсказанного сырья второго региона = 68.728546895446\n"
     ]
    }
   ],
   "source": [
    "model_2 = LinearRegression()\n",
    "model_2.fit(features_train_2, target_train_2)\n",
    "predicted_valid_2 = pd.Series(model_2.predict(features_valid_2), index=features_valid_2.index)\n",
    "\n",
    "rmse_2 = (mean_squared_error(target_valid_2, predicted_valid_2))** 0.5\n",
    "print(\"RMSE второго региона =\", rmse_2)\n",
    "print('Средний запас предсказанного сырья второго региона =', predicted_valid_2.mean())"
   ]
  },
  {
   "cell_type": "markdown",
   "metadata": {},
   "source": [
    "### Обучение модели на данных из третьего региона:"
   ]
  },
  {
   "cell_type": "code",
   "execution_count": 22,
   "metadata": {},
   "outputs": [
    {
     "name": "stdout",
     "output_type": "stream",
     "text": [
      "RMSE третьего региона = 40.02970873393434\n",
      "Средний запас предсказанного сырья третьего региона = 94.96504596800489\n"
     ]
    }
   ],
   "source": [
    "model_3 = LinearRegression()\n",
    "model_3.fit(features_train_3, target_train_3)\n",
    "predicted_valid_3 = pd.Series(model_3.predict(features_valid_3), index=features_valid_3.index)\n",
    "\n",
    "rmse_3 = (mean_squared_error(target_valid_3, predicted_valid_3))** 0.5\n",
    "print(\"RMSE третьего региона =\", rmse_3)\n",
    "print('Средний запас предсказанного сырья третьего региона =', predicted_valid_3.mean())"
   ]
  },
  {
   "cell_type": "markdown",
   "metadata": {},
   "source": [
    "**Промежуточный вывод:**\n",
    "\n",
    "Самый большой запас предсказанного сырья в третьем регионе - 95 тыс. баррелей, но метрика RMSE далека от идеала, самая лучшая метрика у модели по второму региону - 0.893. Значит, ошибка по расчетам этих данных самая минимальная. Поэтому более надежна вторая модель."
   ]
  },
  {
   "cell_type": "markdown",
   "metadata": {},
   "source": [
    "## Подготовка к расчёту прибыли"
   ]
  },
  {
   "cell_type": "code",
   "execution_count": 23,
   "metadata": {
    "scrolled": true
   },
   "outputs": [
    {
     "name": "stdout",
     "output_type": "stream",
     "text": [
      "Достаточный объём сырья для безубыточной разработки новой скважины =  111.11111111111111 тыс.баррелей\n"
     ]
    }
   ],
   "source": [
    "budget = 10000000000 #сколько надо денег в рублях на разработку скважиин\n",
    "income_per_thousand = 450000 #сколько в рублях приносит тысяча баррелей\n",
    "\n",
    "#ожидаемый объем сырья для безубыточной стратегии\n",
    "expected_profit = budget / income_per_thousand / 200\n",
    "print('Достаточный объём сырья для безубыточной разработки новой скважины = ', expected_profit, 'тыс.баррелей')"
   ]
  },
  {
   "cell_type": "markdown",
   "metadata": {},
   "source": [
    "**Промежуточный вывод:**\n",
    "\n",
    "Во всех 3 регионах минимальное среднее предсказанное количество сырья меньше, чем требуется для безубыточной стратегии при бурении скважины. Но нужна перепроверка с помощью бутстрэпа, так как это очень простые расчеты, которые не всегда корректно отображают результат."
   ]
  },
  {
   "cell_type": "markdown",
   "metadata": {},
   "source": [
    "## Расчёт прибыли и рисков "
   ]
  },
  {
   "cell_type": "markdown",
   "metadata": {},
   "source": [
    "### Формула для расчета прибыли:"
   ]
  },
  {
   "cell_type": "markdown",
   "metadata": {},
   "source": [
    "Для расчета прибыли я создам функию и применю ее к датасетам трех регионов, чтобы увидеть суммарную прибыль по топ-200 скважинам по запасам сырья."
   ]
  },
  {
   "cell_type": "code",
   "execution_count": 24,
   "metadata": {},
   "outputs": [],
   "source": [
    "def revenue(target, predictions, count):\n",
    "    predictions_sorted = predictions.sort_values(ascending=False) #сортировка предсказаний от большего к меньшему\n",
    "    valid_indexes = predictions_sorted.iloc[0:count].index #индексы первых топ объектов по count\n",
    "    selected = target.loc[valid_indexes] #выбор строк таргета с номерами индексов из предсказаний\n",
    "    #расчет прибыли: цена за тысячу, умноженная на сумму объема объектов и от этого числа отнимается бюджет\n",
    "    return (income_per_thousand * selected.sum()) - budget "
   ]
  },
  {
   "cell_type": "markdown",
   "metadata": {},
   "source": [
    "### Прибыль первого региона:"
   ]
  },
  {
   "cell_type": "code",
   "execution_count": 25,
   "metadata": {
    "scrolled": false
   },
   "outputs": [
    {
     "name": "stdout",
     "output_type": "stream",
     "text": [
      "Прибыль в первом регионе: 3320826043.14\n"
     ]
    }
   ],
   "source": [
    "revenue_1 = revenue(target_valid_1, predicted_valid_1, 200) #считаю прибыль по топ-200 объектам\n",
    "print('Прибыль в первом регионе:', round(revenue_1, 2))"
   ]
  },
  {
   "cell_type": "markdown",
   "metadata": {},
   "source": [
    "### Прибыль второго региона:"
   ]
  },
  {
   "cell_type": "code",
   "execution_count": 26,
   "metadata": {
    "scrolled": true
   },
   "outputs": [
    {
     "name": "stdout",
     "output_type": "stream",
     "text": [
      "Прибыль во втором регионе: 2415086696.68\n"
     ]
    }
   ],
   "source": [
    "revenue_2 = revenue(target_valid_2, predicted_valid_2, 200) #считаю прибыль по топ-200 объектам\n",
    "print('Прибыль во втором регионе:', round(revenue_2, 2))"
   ]
  },
  {
   "cell_type": "markdown",
   "metadata": {},
   "source": [
    "### Прибыль третьего региона:"
   ]
  },
  {
   "cell_type": "code",
   "execution_count": 27,
   "metadata": {
    "scrolled": false
   },
   "outputs": [
    {
     "name": "stdout",
     "output_type": "stream",
     "text": [
      "Прибыль в третьем регионе: 2710349963.6\n"
     ]
    }
   ],
   "source": [
    "revenue_3 = revenue(target_valid_3, predicted_valid_3, 200) #считаю прибыль по топ-200 объектам\n",
    "print('Прибыль в третьем регионе:', round(revenue_3, 2))"
   ]
  },
  {
   "cell_type": "markdown",
   "metadata": {},
   "source": [
    "**Промежуточный вывод:**\n",
    "\n",
    "По расчету самый прибыльный первый регион, на втором месте третий регион."
   ]
  },
  {
   "cell_type": "markdown",
   "metadata": {},
   "source": [
    "## Bootstrap для распределения прибыли:"
   ]
  },
  {
   "cell_type": "markdown",
   "metadata": {},
   "source": [
    "Применю технику bootstrap для трех датасетов и рассчитаю доверительный интервал 95% и риски убытков:"
   ]
  },
  {
   "cell_type": "markdown",
   "metadata": {},
   "source": [
    "### Bootstrap для распределения прибыли первого региона:"
   ]
  },
  {
   "cell_type": "code",
   "execution_count": 28,
   "metadata": {},
   "outputs": [
    {
     "name": "stdout",
     "output_type": "stream",
     "text": [
      "Средняя прибыль первого региона: 600735244.2611653\n",
      "95%-ый доверительный интервал первого региона: (580991087.3188789, 620479401.2034516)\n",
      "Риск убытков первого региона: 0.02\n"
     ]
    }
   ],
   "source": [
    "state = np.random.RandomState(12345)\n",
    "values_1 = []\n",
    "\n",
    "for i in range(1000): #добавляю 1000 значений прибыли техникой бутстрэп\n",
    "    target_sample_1 = target_valid_1.sample(n=500, replace=True, random_state=state)\n",
    "    valid_indexes_1 = target_sample_1.iloc[0:500].index\n",
    "    predictions_1 = predicted_valid_1.loc[valid_indexes_1]\n",
    "    values_1.append(revenue(target_sample_1, predictions_1, 200))\n",
    "    \n",
    "values_1 = pd.Series(values_1) #перевожу список в Series\n",
    "\n",
    "mean_1 = values_1.mean() #среднее по прибыли\n",
    "print(\"Средняя прибыль первого региона:\", mean_1)\n",
    "\n",
    "confidence_interval_1 = st.t.interval(\n",
    "    0.95, len(values_1)-1, values_1.mean(), values_1.sem()) #доверительный интервал\n",
    "\n",
    "print(\"95%-ый доверительный интервал первого региона:\", confidence_interval_1)\n",
    "\n",
    "#риск убытков:\n",
    "risk_of_loss_1 = 0\n",
    "for i in range(1000):\n",
    "    if values_1[i] < 0:\n",
    "        risk_of_loss_1 +=1\n",
    "        \n",
    "risk_of_loss_1 = risk_of_loss_1 / 1000\n",
    "\n",
    "print(\"Риск убытков первого региона:\", risk_of_loss_1)"
   ]
  },
  {
   "cell_type": "markdown",
   "metadata": {},
   "source": [
    "### Bootstrap для распределения прибыли второго региона:"
   ]
  },
  {
   "cell_type": "code",
   "execution_count": 30,
   "metadata": {},
   "outputs": [
    {
     "name": "stdout",
     "output_type": "stream",
     "text": [
      "Средняя прибыль: 663958995.2601906\n",
      "95%-ый доверительный интервал: (648077906.0159814, 679840084.5043998)\n",
      "Риск убытков: 0.001\n"
     ]
    }
   ],
   "source": [
    "values_2 = []\n",
    "\n",
    "for i in range(1000): #добавляю 1000 значений прибыли техникой бутстрэп\n",
    "    target_sample_2 = target_valid_2.sample(n=500, replace=True, random_state=state)\n",
    "    valid_indexes_2 = target_sample_2.iloc[0:500].index\n",
    "    predictions_2 = predicted_valid_2.loc[valid_indexes_2]\n",
    "    values_2.append(revenue(target_sample_2, predictions_2, 200))\n",
    "    \n",
    "values_2 = pd.Series(values_2) #перевожу список в Series\n",
    "\n",
    "mean_2 = values_2.mean() #среднее по прибыли\n",
    "print(\"Средняя прибыль:\", mean_2)\n",
    "\n",
    "confidence_interval_2 = st.t.interval(\n",
    "    0.95, len(values_2)-1, values_2.mean(), values_2.sem()) #доверительный интервал\n",
    "\n",
    "print(\"95%-ый доверительный интервал:\", confidence_interval_2)\n",
    "\n",
    "#риск убытков:\n",
    "risk_of_loss_2 = 0\n",
    "for i in range(1000):\n",
    "    if values_2[i] < 0:\n",
    "        risk_of_loss_2 +=1\n",
    "        \n",
    "risk_of_loss_2= risk_of_loss_2 / 1000\n",
    "\n",
    "print(\"Риск убытков:\", risk_of_loss_2)"
   ]
  },
  {
   "cell_type": "markdown",
   "metadata": {},
   "source": [
    "### Bootstrap для распределения прибыли третьего региона:"
   ]
  },
  {
   "cell_type": "code",
   "execution_count": 31,
   "metadata": {
    "scrolled": false
   },
   "outputs": [
    {
     "name": "stdout",
     "output_type": "stream",
     "text": [
      "Средняя прибыль: 597381047.9005232\n",
      "95%-ый доверительный интервал: (577080076.0794092, 617682019.7216371)\n",
      "Риск убытков: 0.025\n"
     ]
    }
   ],
   "source": [
    "values_3 = []\n",
    "\n",
    "for i in range(1000): #добавляю 1000 значений прибыли техникой бутстрэп\n",
    "    target_sample_3 = target_valid_3.sample(n=500, replace=True, random_state=state)\n",
    "    valid_indexes_3 = target_sample_3.iloc[0:500].index\n",
    "    predictions_3 = predicted_valid_3.loc[valid_indexes_3]\n",
    "    values_3.append(revenue(target_sample_3, predictions_3, 200))\n",
    "    \n",
    "values_3 = pd.Series(values_3) #перевожу список в Series\n",
    "\n",
    "mean_3 = values_3.mean() #среднее по прибыли\n",
    "print(\"Средняя прибыль:\", mean_3)\n",
    "\n",
    "confidence_interval_3 = st.t.interval(\n",
    "    0.95, len(values_3)-1, values_3.mean(), values_3.sem()) #доверительный интервал\n",
    "\n",
    "print(\"95%-ый доверительный интервал:\", confidence_interval_3)\n",
    "\n",
    "#риск убытков:\n",
    "risk_of_loss_3 = 0\n",
    "for i in range(1000):\n",
    "    if values_3[i] < 0:\n",
    "        risk_of_loss_3 +=1\n",
    "        \n",
    "risk_of_loss_3 = risk_of_loss_3 / 1000\n",
    "\n",
    "print(\"Риск убытков:\", risk_of_loss_3)"
   ]
  },
  {
   "cell_type": "markdown",
   "metadata": {},
   "source": [
    "**Промежуточный вывод:**\n",
    "\n",
    "Судя по расчетам, выгоднее всего бурить новую скважину во втором регионе, так как меньше всего риск убытков и самая большая прибыль."
   ]
  },
  {
   "cell_type": "markdown",
   "metadata": {},
   "source": [
    "## **Общий вывод:**\n",
    "\n",
    "При работе над задачей была выполнена проверка данных. Данные были разбиты на выборки для машинного обучения в соотношении 75:25.\n",
    "\n",
    "Также была обучена модель линейной регрессии по 3 датасетам, получены предсказания по объему сырья, также рассчитана метрика RMSE:\n",
    "\n",
    "-------------------------------------------------------------------------------------------------------------------------------\n",
    "\n",
    "**RMSE первого региона:** 37.579<br>\n",
    "**Средний запас предсказанного сырья первого региона:** 92.592<br>\n",
    "<br>\n",
    "**RMSE второго региона:** 0.893<br>\n",
    "**Средний запас предсказанного сырья второго региона:** 68.728<br>\n",
    "<br>\n",
    "**RMSE второго региона:** 40.029<br>\n",
    "**Средний запас предсказанного сырья третьего региона:** 94.965<br>\n",
    "\n",
    "-------------------------------------------------------------------------------------------------------------------------------\n",
    "\n",
    "Самый большой запас предсказанного сырья в третьем регионе, но метрика RMSE далека от идеала, самая лучшая метрика у модели по второму региону. Значит, ошибка по расчетам этих данных самая минимальная. Поэтому более надежна вторая модель.\n",
    "\n",
    "-------------------------------------------------------------------------------------------------------------------------------\n",
    "\n",
    "**Был также рассчитан ожидаемый объем сырья от скважины для безубыточной стратегии:** 111.111 тыс.баррелей.\n",
    "\n",
    "-------------------------------------------------------------------------------------------------------------------------------\n",
    "\n",
    "Во всех 3 регионах среднее предсказанное количество сырья оказалось меньше, чем минимально требуется для безубыточной стратегии при бурении скважины. Но так как это очень простые расчеты, которые не всегда корректно отображают результат, нужна перепроверка результата техникой bootstrap.\n",
    "\n",
    "-------------------------------------------------------------------------------------------------------------------------------\n",
    "\n",
    "Также была рассчитана **суммарная прибыль в 3 регионах по топ-200 предсказанным скважинам** (по объему нефти):\n",
    "1. Прибыль в первом регионе: 3320826043.14\n",
    "2. Прибыль во втором регионе: 2415086696.68\n",
    "3. Прибыль в третьем регионе: 2710349963.6\n",
    "\n",
    "По этим расчетам самым прибыльным оказался первый регион. Но этих данных также недостаточно для принятия решения.\n",
    "\n",
    "-------------------------------------------------------------------------------------------------------------------------------\n",
    "\n",
    "**Была применена техника Bootstrap с 1000 выборок, чтобы найти распределение прибыли:**\n",
    "в рамках этой техники была найдена средняя прибыль, 95%-й доверительный интервал и риск убытков по каждому из регионов.\n",
    "\n",
    "**Средняя прибыль первого региона:** 600735244.261<br>\n",
    "**95%-ый доверительный интервал первого региона:** 580991087.318, 620479401.203<br>\n",
    "**Риск убытков первого региона:** 2%<br>\n",
    "<br>\n",
    "**Средняя прибыль второго региона:** 663958995.260<br>\n",
    "**95%-ый доверительный интервал второго региона:** (648077906.015, 679840084.504)<br>\n",
    "**Риск убытков второго региона:** 0.1%<br>\n",
    "<br>\n",
    "**Средняя прибыль третьего региона:** 597381047.900<br>\n",
    "**95%-ый доверительный интервал третьего региона:** (577080076.079, 617682019.721)<br>\n",
    "**Риск убытков третьего региона:** 2.5%<br>\n",
    "<br>\n",
    "\n",
    "📌--------------------------------------------------------------------------------------------------------------------------------------------------------------------------------------------------------📌<br>\n",
    "**В итоге для бурения я предлагаю выбрать второй регион, потому что там самый небольшой риск убытков - 0.1%, а также самая высокая прибыль.**<br>\n",
    "📌--------------------------------------------------------------------------------------------------------------------------------------------------------------------------------------------------------📌<br>"
   ]
  }
 ],
 "metadata": {
  "ExecuteTimeLog": [
   {
    "duration": 45,
    "start_time": "2023-04-27T07:08:37.865Z"
   },
   {
    "duration": 1099,
    "start_time": "2023-04-27T07:08:39.865Z"
   },
   {
    "duration": 689,
    "start_time": "2023-04-27T07:08:42.335Z"
   },
   {
    "duration": 149,
    "start_time": "2023-04-27T07:08:54.625Z"
   },
   {
    "duration": 582,
    "start_time": "2023-04-27T07:09:04.885Z"
   },
   {
    "duration": 618,
    "start_time": "2023-04-27T07:09:14.086Z"
   },
   {
    "duration": 4,
    "start_time": "2023-04-27T07:09:47.885Z"
   },
   {
    "duration": 3,
    "start_time": "2023-04-27T07:09:54.406Z"
   },
   {
    "duration": 4,
    "start_time": "2023-04-27T07:10:01.855Z"
   },
   {
    "duration": 5,
    "start_time": "2023-04-27T07:11:31.475Z"
   },
   {
    "duration": 5,
    "start_time": "2023-04-27T07:11:40.025Z"
   },
   {
    "duration": 4,
    "start_time": "2023-04-27T07:11:45.845Z"
   },
   {
    "duration": 8,
    "start_time": "2023-04-27T07:15:50.525Z"
   },
   {
    "duration": 9,
    "start_time": "2023-04-27T07:15:57.855Z"
   },
   {
    "duration": 9,
    "start_time": "2023-04-27T07:16:04.875Z"
   },
   {
    "duration": 50,
    "start_time": "2023-04-27T07:17:23.324Z"
   },
   {
    "duration": 45,
    "start_time": "2023-04-27T07:17:28.035Z"
   },
   {
    "duration": 45,
    "start_time": "2023-04-27T07:17:32.645Z"
   },
   {
    "duration": 10,
    "start_time": "2023-04-27T07:32:46.684Z"
   },
   {
    "duration": 22,
    "start_time": "2023-04-27T07:33:02.954Z"
   },
   {
    "duration": 25,
    "start_time": "2023-04-27T07:33:40.794Z"
   },
   {
    "duration": 26,
    "start_time": "2023-04-27T07:34:21.924Z"
   },
   {
    "duration": 26,
    "start_time": "2023-04-27T07:34:45.874Z"
   },
   {
    "duration": 23,
    "start_time": "2023-04-27T07:34:46.624Z"
   },
   {
    "duration": 24,
    "start_time": "2023-04-27T07:34:48.004Z"
   },
   {
    "duration": 31,
    "start_time": "2023-04-27T07:35:09.045Z"
   },
   {
    "duration": 1244,
    "start_time": "2023-04-27T07:35:10.745Z"
   },
   {
    "duration": 25,
    "start_time": "2023-04-27T07:35:20.265Z"
   },
   {
    "duration": 1401,
    "start_time": "2023-04-27T07:35:22.714Z"
   },
   {
    "duration": 24,
    "start_time": "2023-04-27T07:35:30.234Z"
   },
   {
    "duration": 42,
    "start_time": "2023-04-27T07:39:21.183Z"
   },
   {
    "duration": 15,
    "start_time": "2023-04-27T07:40:43.704Z"
   },
   {
    "duration": 94,
    "start_time": "2023-04-27T07:43:06.524Z"
   },
   {
    "duration": 11,
    "start_time": "2023-04-27T07:46:58.183Z"
   },
   {
    "duration": 45,
    "start_time": "2023-04-27T07:47:59.074Z"
   },
   {
    "duration": 33,
    "start_time": "2023-04-27T07:49:28.074Z"
   },
   {
    "duration": 1100,
    "start_time": "2023-04-27T07:49:34.776Z"
   },
   {
    "duration": 165,
    "start_time": "2023-04-27T07:49:35.878Z"
   },
   {
    "duration": 5,
    "start_time": "2023-04-27T07:49:36.045Z"
   },
   {
    "duration": 16,
    "start_time": "2023-04-27T07:49:36.055Z"
   },
   {
    "duration": 149,
    "start_time": "2023-04-27T07:49:36.074Z"
   },
   {
    "duration": 4,
    "start_time": "2023-04-27T07:49:36.225Z"
   },
   {
    "duration": 6,
    "start_time": "2023-04-27T07:49:36.231Z"
   },
   {
    "duration": 137,
    "start_time": "2023-04-27T07:49:36.239Z"
   },
   {
    "duration": 3,
    "start_time": "2023-04-27T07:49:36.378Z"
   },
   {
    "duration": 12,
    "start_time": "2023-04-27T07:49:36.382Z"
   },
   {
    "duration": 25,
    "start_time": "2023-04-27T07:49:36.396Z"
   },
   {
    "duration": 39,
    "start_time": "2023-04-27T07:49:36.423Z"
   },
   {
    "duration": 22,
    "start_time": "2023-04-27T07:49:36.464Z"
   },
   {
    "duration": 58,
    "start_time": "2023-04-27T07:49:36.488Z"
   },
   {
    "duration": 46,
    "start_time": "2023-04-27T07:49:36.547Z"
   },
   {
    "duration": 49,
    "start_time": "2023-04-27T07:49:36.594Z"
   },
   {
    "duration": 32,
    "start_time": "2023-04-27T07:49:36.645Z"
   },
   {
    "duration": 23,
    "start_time": "2023-04-27T07:49:36.679Z"
   },
   {
    "duration": 23,
    "start_time": "2023-04-27T07:49:36.704Z"
   },
   {
    "duration": 151,
    "start_time": "2023-04-27T07:49:36.729Z"
   },
   {
    "duration": 18,
    "start_time": "2023-04-27T07:53:46.882Z"
   },
   {
    "duration": 20,
    "start_time": "2023-04-27T07:53:59.913Z"
   },
   {
    "duration": 22,
    "start_time": "2023-04-27T07:54:02.543Z"
   },
   {
    "duration": 20,
    "start_time": "2023-04-27T07:54:06.252Z"
   },
   {
    "duration": 20,
    "start_time": "2023-04-27T07:54:10.082Z"
   },
   {
    "duration": 15,
    "start_time": "2023-04-27T07:54:47.113Z"
   },
   {
    "duration": 14,
    "start_time": "2023-04-27T07:54:47.722Z"
   },
   {
    "duration": 15,
    "start_time": "2023-04-27T07:54:48.313Z"
   },
   {
    "duration": 28,
    "start_time": "2023-04-27T07:54:50.174Z"
   },
   {
    "duration": 66,
    "start_time": "2023-04-27T07:56:05.193Z"
   },
   {
    "duration": 23,
    "start_time": "2023-04-27T07:56:53.883Z"
   },
   {
    "duration": 1286,
    "start_time": "2023-04-27T07:56:58.955Z"
   },
   {
    "duration": 197,
    "start_time": "2023-04-27T07:57:00.243Z"
   },
   {
    "duration": 4,
    "start_time": "2023-04-27T07:57:00.442Z"
   },
   {
    "duration": 28,
    "start_time": "2023-04-27T07:57:00.448Z"
   },
   {
    "duration": 160,
    "start_time": "2023-04-27T07:57:00.479Z"
   },
   {
    "duration": 5,
    "start_time": "2023-04-27T07:57:00.642Z"
   },
   {
    "duration": 20,
    "start_time": "2023-04-27T07:57:00.655Z"
   },
   {
    "duration": 167,
    "start_time": "2023-04-27T07:57:00.677Z"
   },
   {
    "duration": 12,
    "start_time": "2023-04-27T07:57:00.847Z"
   },
   {
    "duration": 32,
    "start_time": "2023-04-27T07:57:00.861Z"
   },
   {
    "duration": 49,
    "start_time": "2023-04-27T07:57:00.895Z"
   },
   {
    "duration": 42,
    "start_time": "2023-04-27T07:57:00.946Z"
   },
   {
    "duration": 16,
    "start_time": "2023-04-27T07:57:00.991Z"
   },
   {
    "duration": 86,
    "start_time": "2023-04-27T07:57:01.011Z"
   },
   {
    "duration": 73,
    "start_time": "2023-04-27T07:57:01.099Z"
   },
   {
    "duration": 55,
    "start_time": "2023-04-27T07:57:01.175Z"
   },
   {
    "duration": 35,
    "start_time": "2023-04-27T07:57:01.232Z"
   },
   {
    "duration": 21,
    "start_time": "2023-04-27T07:57:01.270Z"
   },
   {
    "duration": 79,
    "start_time": "2023-04-27T07:57:01.293Z"
   },
   {
    "duration": 44,
    "start_time": "2023-04-27T07:57:01.374Z"
   },
   {
    "duration": 149,
    "start_time": "2023-04-27T07:57:01.420Z"
   },
   {
    "duration": 20,
    "start_time": "2023-04-27T07:58:04.192Z"
   },
   {
    "duration": 1299,
    "start_time": "2023-04-27T07:58:13.846Z"
   },
   {
    "duration": 169,
    "start_time": "2023-04-27T07:58:15.147Z"
   },
   {
    "duration": 5,
    "start_time": "2023-04-27T07:58:15.318Z"
   },
   {
    "duration": 16,
    "start_time": "2023-04-27T07:58:15.325Z"
   },
   {
    "duration": 157,
    "start_time": "2023-04-27T07:58:15.343Z"
   },
   {
    "duration": 4,
    "start_time": "2023-04-27T07:58:15.502Z"
   },
   {
    "duration": 20,
    "start_time": "2023-04-27T07:58:15.508Z"
   },
   {
    "duration": 163,
    "start_time": "2023-04-27T07:58:15.530Z"
   },
   {
    "duration": 5,
    "start_time": "2023-04-27T07:58:15.695Z"
   },
   {
    "duration": 11,
    "start_time": "2023-04-27T07:58:15.702Z"
   },
   {
    "duration": 17,
    "start_time": "2023-04-27T07:58:15.716Z"
   },
   {
    "duration": 32,
    "start_time": "2023-04-27T07:58:15.735Z"
   },
   {
    "duration": 11,
    "start_time": "2023-04-27T07:58:15.769Z"
   },
   {
    "duration": 81,
    "start_time": "2023-04-27T07:58:15.783Z"
   },
   {
    "duration": 54,
    "start_time": "2023-04-27T07:58:15.866Z"
   },
   {
    "duration": 83,
    "start_time": "2023-04-27T07:58:15.922Z"
   },
   {
    "duration": 22,
    "start_time": "2023-04-27T07:58:16.008Z"
   },
   {
    "duration": 41,
    "start_time": "2023-04-27T07:58:16.032Z"
   },
   {
    "duration": 21,
    "start_time": "2023-04-27T07:58:16.076Z"
   },
   {
    "duration": 60,
    "start_time": "2023-04-27T07:58:16.099Z"
   },
   {
    "duration": 102,
    "start_time": "2023-04-27T07:58:16.162Z"
   },
   {
    "duration": 106,
    "start_time": "2023-04-27T07:58:16.266Z"
   },
   {
    "duration": 20,
    "start_time": "2023-04-27T07:59:23.235Z"
   },
   {
    "duration": 16,
    "start_time": "2023-04-27T07:59:26.042Z"
   },
   {
    "duration": 15,
    "start_time": "2023-04-27T07:59:29.523Z"
   },
   {
    "duration": 23,
    "start_time": "2023-04-27T07:59:31.683Z"
   },
   {
    "duration": 19,
    "start_time": "2023-04-27T07:59:33.895Z"
   },
   {
    "duration": 1116,
    "start_time": "2023-04-27T07:59:39.453Z"
   },
   {
    "duration": 154,
    "start_time": "2023-04-27T07:59:40.571Z"
   },
   {
    "duration": 5,
    "start_time": "2023-04-27T07:59:40.726Z"
   },
   {
    "duration": 8,
    "start_time": "2023-04-27T07:59:40.733Z"
   },
   {
    "duration": 143,
    "start_time": "2023-04-27T07:59:40.755Z"
   },
   {
    "duration": 6,
    "start_time": "2023-04-27T07:59:40.900Z"
   },
   {
    "duration": 7,
    "start_time": "2023-04-27T07:59:40.907Z"
   },
   {
    "duration": 150,
    "start_time": "2023-04-27T07:59:40.916Z"
   },
   {
    "duration": 5,
    "start_time": "2023-04-27T07:59:41.068Z"
   },
   {
    "duration": 26,
    "start_time": "2023-04-27T07:59:41.075Z"
   },
   {
    "duration": 20,
    "start_time": "2023-04-27T07:59:41.103Z"
   },
   {
    "duration": 12,
    "start_time": "2023-04-27T07:59:41.124Z"
   },
   {
    "duration": 22,
    "start_time": "2023-04-27T07:59:41.137Z"
   },
   {
    "duration": 52,
    "start_time": "2023-04-27T07:59:41.162Z"
   },
   {
    "duration": 68,
    "start_time": "2023-04-27T07:59:41.216Z"
   },
   {
    "duration": 52,
    "start_time": "2023-04-27T07:59:41.286Z"
   },
   {
    "duration": 31,
    "start_time": "2023-04-27T07:59:41.339Z"
   },
   {
    "duration": 19,
    "start_time": "2023-04-27T07:59:41.372Z"
   },
   {
    "duration": 18,
    "start_time": "2023-04-27T07:59:41.393Z"
   },
   {
    "duration": 45,
    "start_time": "2023-04-27T07:59:41.413Z"
   },
   {
    "duration": 107,
    "start_time": "2023-04-27T07:59:41.460Z"
   },
   {
    "duration": 105,
    "start_time": "2023-04-27T07:59:41.656Z"
   },
   {
    "duration": 18,
    "start_time": "2023-04-27T08:01:08.913Z"
   },
   {
    "duration": 18,
    "start_time": "2023-04-27T08:01:15.846Z"
   },
   {
    "duration": 19,
    "start_time": "2023-04-27T08:01:33.013Z"
   },
   {
    "duration": 17,
    "start_time": "2023-04-27T08:01:53.052Z"
   },
   {
    "duration": 88,
    "start_time": "2023-04-27T11:36:31.807Z"
   },
   {
    "duration": 1204,
    "start_time": "2023-04-27T11:36:40.622Z"
   },
   {
    "duration": 834,
    "start_time": "2023-04-27T11:36:41.830Z"
   },
   {
    "duration": 4,
    "start_time": "2023-04-27T11:36:42.666Z"
   },
   {
    "duration": 14,
    "start_time": "2023-04-27T11:36:42.672Z"
   },
   {
    "duration": 793,
    "start_time": "2023-04-27T11:36:42.688Z"
   },
   {
    "duration": 5,
    "start_time": "2023-04-27T11:36:43.483Z"
   },
   {
    "duration": 14,
    "start_time": "2023-04-27T11:36:43.490Z"
   },
   {
    "duration": 757,
    "start_time": "2023-04-27T11:36:43.505Z"
   },
   {
    "duration": 4,
    "start_time": "2023-04-27T11:36:44.263Z"
   },
   {
    "duration": 7,
    "start_time": "2023-04-27T11:36:44.269Z"
   },
   {
    "duration": 14,
    "start_time": "2023-04-27T11:36:44.277Z"
   },
   {
    "duration": 18,
    "start_time": "2023-04-27T11:36:44.292Z"
   },
   {
    "duration": 12,
    "start_time": "2023-04-27T11:36:44.312Z"
   },
   {
    "duration": 58,
    "start_time": "2023-04-27T11:36:44.326Z"
   },
   {
    "duration": 50,
    "start_time": "2023-04-27T11:36:44.385Z"
   },
   {
    "duration": 71,
    "start_time": "2023-04-27T11:36:44.437Z"
   },
   {
    "duration": 17,
    "start_time": "2023-04-27T11:36:44.518Z"
   },
   {
    "duration": 18,
    "start_time": "2023-04-27T11:36:44.537Z"
   },
   {
    "duration": 18,
    "start_time": "2023-04-27T11:36:44.557Z"
   },
   {
    "duration": 53,
    "start_time": "2023-04-27T11:36:44.577Z"
   },
   {
    "duration": 87,
    "start_time": "2023-04-27T11:36:44.632Z"
   },
   {
    "duration": 36,
    "start_time": "2023-04-27T11:36:44.794Z"
   },
   {
    "duration": 14,
    "start_time": "2023-04-27T11:36:44.893Z"
   },
   {
    "duration": 6,
    "start_time": "2023-04-27T11:39:38.230Z"
   },
   {
    "duration": 4,
    "start_time": "2023-04-27T11:40:25.619Z"
   },
   {
    "duration": 5,
    "start_time": "2023-04-27T11:42:33.568Z"
   },
   {
    "duration": 3,
    "start_time": "2023-04-27T11:43:03.179Z"
   },
   {
    "duration": 999,
    "start_time": "2023-04-27T17:56:49.897Z"
   },
   {
    "duration": 104,
    "start_time": "2023-04-27T17:57:26.237Z"
   },
   {
    "duration": 1092,
    "start_time": "2023-04-27T17:57:34.126Z"
   },
   {
    "duration": 514,
    "start_time": "2023-04-27T17:57:35.220Z"
   },
   {
    "duration": 5,
    "start_time": "2023-04-27T17:57:35.737Z"
   },
   {
    "duration": 23,
    "start_time": "2023-04-27T17:57:35.745Z"
   },
   {
    "duration": 201,
    "start_time": "2023-04-27T17:57:35.770Z"
   },
   {
    "duration": 4,
    "start_time": "2023-04-27T17:57:35.972Z"
   },
   {
    "duration": 6,
    "start_time": "2023-04-27T17:57:35.977Z"
   },
   {
    "duration": 179,
    "start_time": "2023-04-27T17:57:35.985Z"
   },
   {
    "duration": 4,
    "start_time": "2023-04-27T17:57:36.165Z"
   },
   {
    "duration": 5,
    "start_time": "2023-04-27T17:57:36.171Z"
   },
   {
    "duration": 10,
    "start_time": "2023-04-27T17:57:36.177Z"
   },
   {
    "duration": 8,
    "start_time": "2023-04-27T17:57:36.188Z"
   },
   {
    "duration": 10,
    "start_time": "2023-04-27T17:57:36.197Z"
   },
   {
    "duration": 60,
    "start_time": "2023-04-27T17:57:36.208Z"
   },
   {
    "duration": 37,
    "start_time": "2023-04-27T17:57:36.270Z"
   },
   {
    "duration": 51,
    "start_time": "2023-04-27T17:57:36.309Z"
   },
   {
    "duration": 14,
    "start_time": "2023-04-27T17:57:36.362Z"
   },
   {
    "duration": 16,
    "start_time": "2023-04-27T17:57:36.378Z"
   },
   {
    "duration": 15,
    "start_time": "2023-04-27T17:57:36.396Z"
   },
   {
    "duration": 47,
    "start_time": "2023-04-27T17:57:36.413Z"
   },
   {
    "duration": 189,
    "start_time": "2023-04-27T17:57:36.461Z"
   },
   {
    "duration": 117,
    "start_time": "2023-04-27T17:57:36.652Z"
   },
   {
    "duration": 4,
    "start_time": "2023-04-27T17:57:36.850Z"
   },
   {
    "duration": 14,
    "start_time": "2023-04-27T17:57:59.908Z"
   },
   {
    "duration": 54,
    "start_time": "2023-04-27T18:01:43.585Z"
   },
   {
    "duration": 109,
    "start_time": "2023-04-27T18:02:08.998Z"
   },
   {
    "duration": 10,
    "start_time": "2023-04-27T18:02:46.000Z"
   },
   {
    "duration": 50,
    "start_time": "2023-04-27T18:03:25.299Z"
   },
   {
    "duration": 10,
    "start_time": "2023-04-27T18:04:10.834Z"
   },
   {
    "duration": 10,
    "start_time": "2023-04-27T18:05:16.355Z"
   },
   {
    "duration": 5,
    "start_time": "2023-04-27T18:07:02.964Z"
   },
   {
    "duration": 7,
    "start_time": "2023-04-27T18:07:31.315Z"
   },
   {
    "duration": 3,
    "start_time": "2023-04-27T18:09:36.535Z"
   },
   {
    "duration": 11,
    "start_time": "2023-04-27T18:11:29.035Z"
   },
   {
    "duration": 11,
    "start_time": "2023-04-27T18:12:10.802Z"
   },
   {
    "duration": 17,
    "start_time": "2023-04-27T18:12:35.115Z"
   },
   {
    "duration": 24,
    "start_time": "2023-04-27T18:12:48.235Z"
   },
   {
    "duration": 12,
    "start_time": "2023-04-27T18:13:03.503Z"
   },
   {
    "duration": 15,
    "start_time": "2023-04-27T18:14:05.995Z"
   },
   {
    "duration": 14,
    "start_time": "2023-04-27T18:14:10.715Z"
   },
   {
    "duration": 6,
    "start_time": "2023-04-27T18:15:30.346Z"
   },
   {
    "duration": 23,
    "start_time": "2023-04-27T18:15:48.601Z"
   },
   {
    "duration": 3,
    "start_time": "2023-04-27T18:16:17.715Z"
   },
   {
    "duration": 22,
    "start_time": "2023-04-27T18:17:50.855Z"
   },
   {
    "duration": 4,
    "start_time": "2023-04-27T18:18:33.025Z"
   },
   {
    "duration": 28,
    "start_time": "2023-04-27T18:18:34.916Z"
   },
   {
    "duration": 45,
    "start_time": "2023-04-27T18:20:08.585Z"
   },
   {
    "duration": 21,
    "start_time": "2023-04-27T18:20:12.295Z"
   },
   {
    "duration": 3,
    "start_time": "2023-04-27T18:21:21.235Z"
   },
   {
    "duration": 21,
    "start_time": "2023-04-27T18:21:24.975Z"
   },
   {
    "duration": 3,
    "start_time": "2023-04-27T18:21:32.325Z"
   },
   {
    "duration": 19,
    "start_time": "2023-04-27T18:27:03.794Z"
   },
   {
    "duration": 16,
    "start_time": "2023-04-27T18:33:08.624Z"
   },
   {
    "duration": 22,
    "start_time": "2023-04-27T18:33:28.155Z"
   },
   {
    "duration": 23,
    "start_time": "2023-04-27T18:37:26.634Z"
   },
   {
    "duration": 7,
    "start_time": "2023-04-27T18:37:44.615Z"
   },
   {
    "duration": 5,
    "start_time": "2023-04-27T18:37:54.985Z"
   },
   {
    "duration": 27,
    "start_time": "2023-04-27T18:38:59.044Z"
   },
   {
    "duration": 14,
    "start_time": "2023-04-27T18:40:34.154Z"
   },
   {
    "duration": 15,
    "start_time": "2023-04-27T18:40:38.604Z"
   },
   {
    "duration": 56,
    "start_time": "2023-04-27T18:40:51.343Z"
   },
   {
    "duration": 15,
    "start_time": "2023-04-27T18:41:01.664Z"
   },
   {
    "duration": 15,
    "start_time": "2023-04-27T18:41:09.474Z"
   },
   {
    "duration": 50,
    "start_time": "2023-04-27T18:41:29.234Z"
   },
   {
    "duration": 51,
    "start_time": "2023-04-27T18:41:47.974Z"
   },
   {
    "duration": 19,
    "start_time": "2023-04-27T18:42:02.871Z"
   },
   {
    "duration": 68,
    "start_time": "2023-04-27T18:42:14.384Z"
   },
   {
    "duration": 22,
    "start_time": "2023-04-27T18:42:26.714Z"
   },
   {
    "duration": 8,
    "start_time": "2023-04-27T18:45:36.165Z"
   },
   {
    "duration": 8,
    "start_time": "2023-04-27T18:45:42.294Z"
   },
   {
    "duration": 15,
    "start_time": "2023-04-27T18:46:09.963Z"
   },
   {
    "duration": 22,
    "start_time": "2023-04-27T18:47:53.514Z"
   },
   {
    "duration": 15,
    "start_time": "2023-04-27T18:48:02.534Z"
   },
   {
    "duration": 9,
    "start_time": "2023-04-27T18:48:31.423Z"
   },
   {
    "duration": 14,
    "start_time": "2023-04-27T18:48:36.573Z"
   },
   {
    "duration": 14,
    "start_time": "2023-04-27T18:49:20.974Z"
   },
   {
    "duration": 14,
    "start_time": "2023-04-27T18:49:56.371Z"
   },
   {
    "duration": 9,
    "start_time": "2023-04-27T18:52:15.863Z"
   },
   {
    "duration": 5,
    "start_time": "2023-04-27T18:53:01.734Z"
   },
   {
    "duration": 8,
    "start_time": "2023-04-27T18:53:14.134Z"
   },
   {
    "duration": 6,
    "start_time": "2023-04-27T18:53:23.723Z"
   },
   {
    "duration": 6,
    "start_time": "2023-04-27T18:53:33.063Z"
   },
   {
    "duration": 9,
    "start_time": "2023-04-27T18:53:41.973Z"
   },
   {
    "duration": 16,
    "start_time": "2023-04-27T18:53:46.714Z"
   },
   {
    "duration": 17,
    "start_time": "2023-04-27T18:53:56.353Z"
   },
   {
    "duration": 29,
    "start_time": "2023-04-27T18:56:51.133Z"
   },
   {
    "duration": 22,
    "start_time": "2023-04-27T18:57:19.393Z"
   },
   {
    "duration": 35,
    "start_time": "2023-04-27T18:58:41.494Z"
   },
   {
    "duration": 24,
    "start_time": "2023-04-27T18:59:11.984Z"
   },
   {
    "duration": 8,
    "start_time": "2023-04-27T18:59:42.984Z"
   },
   {
    "duration": 8,
    "start_time": "2023-04-27T18:59:49.423Z"
   },
   {
    "duration": 8,
    "start_time": "2023-04-27T19:04:25.974Z"
   },
   {
    "duration": 6,
    "start_time": "2023-04-27T19:05:09.013Z"
   },
   {
    "duration": 9,
    "start_time": "2023-04-27T19:05:14.516Z"
   },
   {
    "duration": 5,
    "start_time": "2023-04-27T19:05:39.883Z"
   },
   {
    "duration": 3,
    "start_time": "2023-04-27T19:06:02.633Z"
   },
   {
    "duration": 5,
    "start_time": "2023-04-27T19:06:09.024Z"
   },
   {
    "duration": 4,
    "start_time": "2023-04-27T19:07:17.398Z"
   },
   {
    "duration": 4,
    "start_time": "2023-04-27T19:07:34.573Z"
   },
   {
    "duration": 6,
    "start_time": "2023-04-27T19:08:07.599Z"
   },
   {
    "duration": 7,
    "start_time": "2023-04-27T19:08:28.504Z"
   },
   {
    "duration": 7,
    "start_time": "2023-04-27T19:08:54.112Z"
   },
   {
    "duration": 6,
    "start_time": "2023-04-27T19:09:14.203Z"
   },
   {
    "duration": 3,
    "start_time": "2023-04-27T19:12:21.654Z"
   },
   {
    "duration": 7,
    "start_time": "2023-04-27T19:12:23.773Z"
   },
   {
    "duration": 7,
    "start_time": "2023-04-27T19:12:37.503Z"
   },
   {
    "duration": 7,
    "start_time": "2023-04-27T19:12:38.343Z"
   },
   {
    "duration": 6,
    "start_time": "2023-04-27T19:12:39.000Z"
   },
   {
    "duration": 2,
    "start_time": "2023-04-27T19:16:37.134Z"
   },
   {
    "duration": 3,
    "start_time": "2023-04-27T19:20:30.743Z"
   },
   {
    "duration": 15,
    "start_time": "2023-04-27T19:20:33.184Z"
   },
   {
    "duration": 5,
    "start_time": "2023-04-27T19:21:28.564Z"
   },
   {
    "duration": 13,
    "start_time": "2023-04-27T19:21:30.473Z"
   },
   {
    "duration": 12,
    "start_time": "2023-04-27T19:21:32.003Z"
   },
   {
    "duration": 11,
    "start_time": "2023-04-27T19:22:20.743Z"
   },
   {
    "duration": 8,
    "start_time": "2023-04-28T04:58:51.127Z"
   },
   {
    "duration": 37,
    "start_time": "2023-04-28T04:58:53.017Z"
   },
   {
    "duration": 1011,
    "start_time": "2023-04-28T04:59:00.238Z"
   },
   {
    "duration": 831,
    "start_time": "2023-04-28T04:59:01.251Z"
   },
   {
    "duration": 4,
    "start_time": "2023-04-28T04:59:02.083Z"
   },
   {
    "duration": 16,
    "start_time": "2023-04-28T04:59:02.089Z"
   },
   {
    "duration": 544,
    "start_time": "2023-04-28T04:59:02.107Z"
   },
   {
    "duration": 3,
    "start_time": "2023-04-28T04:59:02.653Z"
   },
   {
    "duration": 10,
    "start_time": "2023-04-28T04:59:02.657Z"
   },
   {
    "duration": 504,
    "start_time": "2023-04-28T04:59:02.669Z"
   },
   {
    "duration": 4,
    "start_time": "2023-04-28T04:59:03.175Z"
   },
   {
    "duration": 33,
    "start_time": "2023-04-28T04:59:03.180Z"
   },
   {
    "duration": 13,
    "start_time": "2023-04-28T04:59:03.214Z"
   },
   {
    "duration": 13,
    "start_time": "2023-04-28T04:59:03.228Z"
   },
   {
    "duration": 12,
    "start_time": "2023-04-28T04:59:03.243Z"
   },
   {
    "duration": 44,
    "start_time": "2023-04-28T04:59:03.258Z"
   },
   {
    "duration": 44,
    "start_time": "2023-04-28T04:59:03.303Z"
   },
   {
    "duration": 52,
    "start_time": "2023-04-28T04:59:03.349Z"
   },
   {
    "duration": 13,
    "start_time": "2023-04-28T04:59:03.403Z"
   },
   {
    "duration": 39,
    "start_time": "2023-04-28T04:59:03.418Z"
   },
   {
    "duration": 25,
    "start_time": "2023-04-28T04:59:03.458Z"
   },
   {
    "duration": 29,
    "start_time": "2023-04-28T04:59:03.485Z"
   },
   {
    "duration": 85,
    "start_time": "2023-04-28T04:59:03.516Z"
   },
   {
    "duration": 200,
    "start_time": "2023-04-28T04:59:03.602Z"
   },
   {
    "duration": 94,
    "start_time": "2023-04-28T04:59:03.804Z"
   },
   {
    "duration": 101,
    "start_time": "2023-04-28T04:59:03.899Z"
   },
   {
    "duration": 111,
    "start_time": "2023-04-28T04:59:04.002Z"
   },
   {
    "duration": 0,
    "start_time": "2023-04-28T04:59:04.116Z"
   },
   {
    "duration": 0,
    "start_time": "2023-04-28T04:59:04.117Z"
   },
   {
    "duration": 4,
    "start_time": "2023-04-28T05:01:31.666Z"
   },
   {
    "duration": 11,
    "start_time": "2023-04-28T05:01:34.276Z"
   },
   {
    "duration": 3,
    "start_time": "2023-04-28T05:02:17.027Z"
   },
   {
    "duration": 4,
    "start_time": "2023-04-28T05:02:18.847Z"
   },
   {
    "duration": 4,
    "start_time": "2023-04-28T05:02:27.867Z"
   },
   {
    "duration": 5,
    "start_time": "2023-04-28T05:02:31.916Z"
   },
   {
    "duration": 3,
    "start_time": "2023-04-28T05:08:01.217Z"
   },
   {
    "duration": 5,
    "start_time": "2023-04-28T05:08:03.507Z"
   },
   {
    "duration": 5,
    "start_time": "2023-04-28T05:08:05.416Z"
   },
   {
    "duration": 5,
    "start_time": "2023-04-28T05:08:07.286Z"
   },
   {
    "duration": 9,
    "start_time": "2023-04-28T06:28:48.072Z"
   },
   {
    "duration": 15,
    "start_time": "2023-04-28T06:28:55.904Z"
   },
   {
    "duration": 631,
    "start_time": "2023-04-28T06:33:03.134Z"
   },
   {
    "duration": 635,
    "start_time": "2023-04-28T06:33:15.474Z"
   },
   {
    "duration": 630,
    "start_time": "2023-04-28T06:33:23.154Z"
   },
   {
    "duration": 596,
    "start_time": "2023-04-28T06:33:29.524Z"
   },
   {
    "duration": 606,
    "start_time": "2023-04-28T06:33:49.654Z"
   },
   {
    "duration": 3,
    "start_time": "2023-04-28T06:40:51.943Z"
   },
   {
    "duration": 20,
    "start_time": "2023-04-28T06:41:11.784Z"
   },
   {
    "duration": 4,
    "start_time": "2023-04-28T06:42:04.933Z"
   },
   {
    "duration": 6,
    "start_time": "2023-04-28T06:42:07.134Z"
   },
   {
    "duration": 7,
    "start_time": "2023-04-28T06:49:58.614Z"
   },
   {
    "duration": 7,
    "start_time": "2023-04-28T06:50:05.383Z"
   },
   {
    "duration": 7,
    "start_time": "2023-04-28T06:50:09.343Z"
   },
   {
    "duration": 2466,
    "start_time": "2023-04-28T06:50:23.113Z"
   },
   {
    "duration": 6,
    "start_time": "2023-04-28T07:01:51.154Z"
   },
   {
    "duration": 7,
    "start_time": "2023-04-28T07:01:55.133Z"
   },
   {
    "duration": 7,
    "start_time": "2023-04-28T07:01:58.033Z"
   },
   {
    "duration": 7,
    "start_time": "2023-04-28T07:02:07.403Z"
   },
   {
    "duration": 3,
    "start_time": "2023-04-28T07:02:29.474Z"
   },
   {
    "duration": 6,
    "start_time": "2023-04-28T07:02:32.018Z"
   },
   {
    "duration": 7,
    "start_time": "2023-04-28T07:02:39.054Z"
   },
   {
    "duration": 4,
    "start_time": "2023-04-28T07:02:47.423Z"
   },
   {
    "duration": 3,
    "start_time": "2023-04-28T07:02:55.073Z"
   },
   {
    "duration": 6,
    "start_time": "2023-04-28T07:02:57.344Z"
   },
   {
    "duration": 6,
    "start_time": "2023-04-28T07:02:59.899Z"
   },
   {
    "duration": 7,
    "start_time": "2023-04-28T07:03:05.353Z"
   },
   {
    "duration": 16,
    "start_time": "2023-04-28T07:04:13.963Z"
   },
   {
    "duration": 9,
    "start_time": "2023-04-28T07:07:56.815Z"
   },
   {
    "duration": 10,
    "start_time": "2023-04-28T07:08:18.633Z"
   },
   {
    "duration": 17,
    "start_time": "2023-04-28T07:08:32.643Z"
   },
   {
    "duration": 16,
    "start_time": "2023-04-28T07:08:55.353Z"
   },
   {
    "duration": 15,
    "start_time": "2023-04-28T07:09:22.693Z"
   },
   {
    "duration": 15,
    "start_time": "2023-04-28T07:11:22.173Z"
   },
   {
    "duration": 1489,
    "start_time": "2023-04-28T07:13:39.343Z"
   },
   {
    "duration": 1475,
    "start_time": "2023-04-28T07:13:51.723Z"
   },
   {
    "duration": 12,
    "start_time": "2023-04-28T07:14:11.684Z"
   },
   {
    "duration": 1507,
    "start_time": "2023-04-28T07:14:15.054Z"
   },
   {
    "duration": 1601,
    "start_time": "2023-04-28T07:14:19.497Z"
   },
   {
    "duration": 1547,
    "start_time": "2023-04-28T07:14:25.903Z"
   },
   {
    "duration": 20,
    "start_time": "2023-04-28T07:17:24.053Z"
   },
   {
    "duration": 11,
    "start_time": "2023-04-28T07:20:08.298Z"
   },
   {
    "duration": 4,
    "start_time": "2023-04-28T07:20:23.072Z"
   },
   {
    "duration": 13,
    "start_time": "2023-04-28T07:20:36.163Z"
   },
   {
    "duration": 12,
    "start_time": "2023-04-28T07:21:16.713Z"
   },
   {
    "duration": 15,
    "start_time": "2023-04-28T07:28:30.992Z"
   },
   {
    "duration": 9,
    "start_time": "2023-04-28T07:28:46.352Z"
   },
   {
    "duration": 10,
    "start_time": "2023-04-28T07:28:52.682Z"
   },
   {
    "duration": 16,
    "start_time": "2023-04-28T07:29:04.892Z"
   },
   {
    "duration": 16,
    "start_time": "2023-04-28T07:30:55.062Z"
   },
   {
    "duration": 9,
    "start_time": "2023-04-28T07:32:21.322Z"
   },
   {
    "duration": 10,
    "start_time": "2023-04-28T07:32:28.662Z"
   },
   {
    "duration": 10,
    "start_time": "2023-04-28T07:32:48.842Z"
   },
   {
    "duration": 16,
    "start_time": "2023-04-28T07:34:29.552Z"
   },
   {
    "duration": 14,
    "start_time": "2023-04-28T07:34:40.083Z"
   },
   {
    "duration": 13,
    "start_time": "2023-04-28T07:39:53.715Z"
   },
   {
    "duration": 14,
    "start_time": "2023-04-28T07:39:58.052Z"
   },
   {
    "duration": 15,
    "start_time": "2023-04-28T07:40:06.204Z"
   },
   {
    "duration": 14,
    "start_time": "2023-04-28T07:40:11.310Z"
   },
   {
    "duration": 14,
    "start_time": "2023-04-28T07:40:14.362Z"
   },
   {
    "duration": 218,
    "start_time": "2023-04-28T07:40:37.562Z"
   },
   {
    "duration": 4,
    "start_time": "2023-04-28T07:41:13.181Z"
   },
   {
    "duration": 3,
    "start_time": "2023-04-28T07:41:21.622Z"
   },
   {
    "duration": 4,
    "start_time": "2023-04-28T07:41:36.021Z"
   },
   {
    "duration": 3,
    "start_time": "2023-04-28T07:41:43.152Z"
   },
   {
    "duration": 4,
    "start_time": "2023-04-28T07:42:17.552Z"
   },
   {
    "duration": 4,
    "start_time": "2023-04-28T07:42:29.481Z"
   },
   {
    "duration": 14,
    "start_time": "2023-04-28T07:43:02.582Z"
   },
   {
    "duration": 79,
    "start_time": "2023-04-28T07:47:15.642Z"
   },
   {
    "duration": 17,
    "start_time": "2023-04-28T07:47:31.361Z"
   },
   {
    "duration": 13,
    "start_time": "2023-04-28T07:47:41.152Z"
   },
   {
    "duration": 13,
    "start_time": "2023-04-28T07:47:49.283Z"
   },
   {
    "duration": 11,
    "start_time": "2023-04-28T07:48:48.296Z"
   },
   {
    "duration": 10,
    "start_time": "2023-04-28T07:49:08.952Z"
   },
   {
    "duration": 14,
    "start_time": "2023-04-28T07:49:17.100Z"
   },
   {
    "duration": 11,
    "start_time": "2023-04-28T07:49:40.902Z"
   },
   {
    "duration": 12,
    "start_time": "2023-04-28T07:49:55.013Z"
   },
   {
    "duration": 11,
    "start_time": "2023-04-28T07:50:00.098Z"
   },
   {
    "duration": 15,
    "start_time": "2023-04-28T07:50:31.861Z"
   },
   {
    "duration": 11,
    "start_time": "2023-04-28T07:52:49.502Z"
   },
   {
    "duration": 12,
    "start_time": "2023-04-28T07:52:56.002Z"
   },
   {
    "duration": 8,
    "start_time": "2023-04-28T07:53:13.662Z"
   },
   {
    "duration": 4,
    "start_time": "2023-04-28T07:53:19.382Z"
   },
   {
    "duration": 12,
    "start_time": "2023-04-28T07:53:52.303Z"
   },
   {
    "duration": 9,
    "start_time": "2023-04-28T07:54:27.802Z"
   },
   {
    "duration": 12,
    "start_time": "2023-04-28T07:54:36.374Z"
   },
   {
    "duration": 14,
    "start_time": "2023-04-28T07:54:59.756Z"
   },
   {
    "duration": 14,
    "start_time": "2023-04-28T07:55:07.152Z"
   },
   {
    "duration": 15,
    "start_time": "2023-04-28T07:55:10.032Z"
   },
   {
    "duration": 48,
    "start_time": "2023-04-28T16:47:45.761Z"
   },
   {
    "duration": 1173,
    "start_time": "2023-04-28T16:48:31.842Z"
   },
   {
    "duration": 782,
    "start_time": "2023-04-28T16:48:33.017Z"
   },
   {
    "duration": 5,
    "start_time": "2023-04-28T16:48:33.801Z"
   },
   {
    "duration": 8,
    "start_time": "2023-04-28T16:48:33.807Z"
   },
   {
    "duration": 575,
    "start_time": "2023-04-28T16:48:33.817Z"
   },
   {
    "duration": 4,
    "start_time": "2023-04-28T16:48:34.393Z"
   },
   {
    "duration": 7,
    "start_time": "2023-04-28T16:48:34.399Z"
   },
   {
    "duration": 519,
    "start_time": "2023-04-28T16:48:34.407Z"
   },
   {
    "duration": 5,
    "start_time": "2023-04-28T16:48:34.928Z"
   },
   {
    "duration": 11,
    "start_time": "2023-04-28T16:48:34.934Z"
   },
   {
    "duration": 18,
    "start_time": "2023-04-28T16:48:34.947Z"
   },
   {
    "duration": 10,
    "start_time": "2023-04-28T16:48:34.967Z"
   },
   {
    "duration": 17,
    "start_time": "2023-04-28T16:48:34.979Z"
   },
   {
    "duration": 46,
    "start_time": "2023-04-28T16:48:34.998Z"
   },
   {
    "duration": 64,
    "start_time": "2023-04-28T16:48:35.046Z"
   },
   {
    "duration": 45,
    "start_time": "2023-04-28T16:48:35.112Z"
   },
   {
    "duration": 34,
    "start_time": "2023-04-28T16:48:35.159Z"
   },
   {
    "duration": 17,
    "start_time": "2023-04-28T16:48:35.195Z"
   },
   {
    "duration": 17,
    "start_time": "2023-04-28T16:48:35.213Z"
   },
   {
    "duration": 54,
    "start_time": "2023-04-28T16:48:35.232Z"
   },
   {
    "duration": 107,
    "start_time": "2023-04-28T16:48:35.288Z"
   },
   {
    "duration": 92,
    "start_time": "2023-04-28T16:48:35.397Z"
   },
   {
    "duration": 9,
    "start_time": "2023-04-28T16:48:35.491Z"
   },
   {
    "duration": 5,
    "start_time": "2023-04-28T16:48:35.585Z"
   },
   {
    "duration": 92,
    "start_time": "2023-04-28T16:48:35.593Z"
   },
   {
    "duration": 9,
    "start_time": "2023-04-28T16:48:35.687Z"
   },
   {
    "duration": 15,
    "start_time": "2023-04-28T16:48:35.697Z"
   },
   {
    "duration": 10,
    "start_time": "2023-04-28T16:48:35.714Z"
   },
   {
    "duration": 111,
    "start_time": "2023-04-28T16:48:35.726Z"
   },
   {
    "duration": 0,
    "start_time": "2023-04-28T16:48:35.839Z"
   },
   {
    "duration": 0,
    "start_time": "2023-04-28T16:48:35.840Z"
   },
   {
    "duration": 0,
    "start_time": "2023-04-28T16:48:35.841Z"
   },
   {
    "duration": 8,
    "start_time": "2023-04-28T16:49:01.972Z"
   },
   {
    "duration": 18,
    "start_time": "2023-04-28T16:51:04.472Z"
   },
   {
    "duration": 6,
    "start_time": "2023-04-28T16:55:35.671Z"
   },
   {
    "duration": 17,
    "start_time": "2023-04-28T17:03:21.061Z"
   },
   {
    "duration": 19,
    "start_time": "2023-04-28T17:07:21.061Z"
   },
   {
    "duration": 4,
    "start_time": "2023-04-28T17:07:35.124Z"
   },
   {
    "duration": 19,
    "start_time": "2023-04-28T17:07:55.403Z"
   },
   {
    "duration": 6,
    "start_time": "2023-04-28T17:07:57.854Z"
   },
   {
    "duration": 6,
    "start_time": "2023-04-28T17:08:35.720Z"
   },
   {
    "duration": 1172,
    "start_time": "2023-04-28T17:08:47.002Z"
   },
   {
    "duration": 421,
    "start_time": "2023-04-28T17:08:48.177Z"
   },
   {
    "duration": 5,
    "start_time": "2023-04-28T17:08:48.599Z"
   },
   {
    "duration": 9,
    "start_time": "2023-04-28T17:08:48.605Z"
   },
   {
    "duration": 136,
    "start_time": "2023-04-28T17:08:48.617Z"
   },
   {
    "duration": 4,
    "start_time": "2023-04-28T17:08:48.755Z"
   },
   {
    "duration": 17,
    "start_time": "2023-04-28T17:08:48.761Z"
   },
   {
    "duration": 138,
    "start_time": "2023-04-28T17:08:48.779Z"
   },
   {
    "duration": 4,
    "start_time": "2023-04-28T17:08:48.919Z"
   },
   {
    "duration": 11,
    "start_time": "2023-04-28T17:08:48.924Z"
   },
   {
    "duration": 14,
    "start_time": "2023-04-28T17:08:48.937Z"
   },
   {
    "duration": 9,
    "start_time": "2023-04-28T17:08:48.953Z"
   },
   {
    "duration": 23,
    "start_time": "2023-04-28T17:08:48.963Z"
   },
   {
    "duration": 46,
    "start_time": "2023-04-28T17:08:48.989Z"
   },
   {
    "duration": 56,
    "start_time": "2023-04-28T17:08:49.037Z"
   },
   {
    "duration": 50,
    "start_time": "2023-04-28T17:08:49.094Z"
   },
   {
    "duration": 14,
    "start_time": "2023-04-28T17:08:49.146Z"
   },
   {
    "duration": 36,
    "start_time": "2023-04-28T17:08:49.161Z"
   },
   {
    "duration": 18,
    "start_time": "2023-04-28T17:08:49.198Z"
   },
   {
    "duration": 69,
    "start_time": "2023-04-28T17:08:49.218Z"
   },
   {
    "duration": 98,
    "start_time": "2023-04-28T17:08:49.289Z"
   },
   {
    "duration": 21,
    "start_time": "2023-04-28T17:08:49.389Z"
   },
   {
    "duration": 121,
    "start_time": "2023-04-28T17:08:49.487Z"
   },
   {
    "duration": 98,
    "start_time": "2023-04-28T17:08:49.687Z"
   },
   {
    "duration": 11,
    "start_time": "2023-04-28T17:08:49.787Z"
   },
   {
    "duration": 12,
    "start_time": "2023-04-28T17:08:49.799Z"
   },
   {
    "duration": 10,
    "start_time": "2023-04-28T17:08:49.813Z"
   },
   {
    "duration": 12,
    "start_time": "2023-04-28T17:08:49.825Z"
   },
   {
    "duration": 7,
    "start_time": "2023-04-28T17:08:49.839Z"
   },
   {
    "duration": 7,
    "start_time": "2023-04-28T17:08:49.847Z"
   },
   {
    "duration": 10,
    "start_time": "2023-04-28T17:08:49.855Z"
   },
   {
    "duration": 138,
    "start_time": "2023-04-28T17:08:49.866Z"
   },
   {
    "duration": 0,
    "start_time": "2023-04-28T17:08:50.005Z"
   },
   {
    "duration": 9,
    "start_time": "2023-04-28T17:10:28.011Z"
   },
   {
    "duration": 8,
    "start_time": "2023-04-28T17:10:32.400Z"
   },
   {
    "duration": 6,
    "start_time": "2023-04-28T17:10:38.741Z"
   },
   {
    "duration": 6,
    "start_time": "2023-04-28T17:10:53.229Z"
   },
   {
    "duration": 74,
    "start_time": "2023-04-28T17:11:10.180Z"
   },
   {
    "duration": 104,
    "start_time": "2023-04-28T17:11:35.181Z"
   },
   {
    "duration": 18,
    "start_time": "2023-04-28T17:12:14.411Z"
   },
   {
    "duration": 7,
    "start_time": "2023-04-28T17:12:17.691Z"
   },
   {
    "duration": 10,
    "start_time": "2023-04-28T17:12:45.680Z"
   },
   {
    "duration": 1194,
    "start_time": "2023-04-28T17:13:18.834Z"
   },
   {
    "duration": 154,
    "start_time": "2023-04-28T17:13:20.030Z"
   },
   {
    "duration": 4,
    "start_time": "2023-04-28T17:13:20.186Z"
   },
   {
    "duration": 23,
    "start_time": "2023-04-28T17:13:20.192Z"
   },
   {
    "duration": 140,
    "start_time": "2023-04-28T17:13:20.218Z"
   },
   {
    "duration": 5,
    "start_time": "2023-04-28T17:13:20.360Z"
   },
   {
    "duration": 23,
    "start_time": "2023-04-28T17:13:20.367Z"
   },
   {
    "duration": 147,
    "start_time": "2023-04-28T17:13:20.392Z"
   },
   {
    "duration": 4,
    "start_time": "2023-04-28T17:13:20.541Z"
   },
   {
    "duration": 29,
    "start_time": "2023-04-28T17:13:20.546Z"
   },
   {
    "duration": 25,
    "start_time": "2023-04-28T17:13:20.577Z"
   },
   {
    "duration": 24,
    "start_time": "2023-04-28T17:13:20.604Z"
   },
   {
    "duration": 27,
    "start_time": "2023-04-28T17:13:20.630Z"
   },
   {
    "duration": 66,
    "start_time": "2023-04-28T17:13:20.660Z"
   },
   {
    "duration": 43,
    "start_time": "2023-04-28T17:13:20.728Z"
   },
   {
    "duration": 57,
    "start_time": "2023-04-28T17:13:20.773Z"
   },
   {
    "duration": 16,
    "start_time": "2023-04-28T17:13:20.832Z"
   },
   {
    "duration": 53,
    "start_time": "2023-04-28T17:13:20.850Z"
   },
   {
    "duration": 34,
    "start_time": "2023-04-28T17:13:20.905Z"
   },
   {
    "duration": 143,
    "start_time": "2023-04-28T17:13:20.941Z"
   },
   {
    "duration": 6,
    "start_time": "2023-04-28T17:13:21.088Z"
   },
   {
    "duration": 15,
    "start_time": "2023-04-28T17:13:21.096Z"
   },
   {
    "duration": 81,
    "start_time": "2023-04-28T17:13:21.113Z"
   },
   {
    "duration": 105,
    "start_time": "2023-04-28T17:13:21.196Z"
   },
   {
    "duration": 87,
    "start_time": "2023-04-28T17:13:21.303Z"
   },
   {
    "duration": 110,
    "start_time": "2023-04-28T17:13:21.392Z"
   },
   {
    "duration": 21,
    "start_time": "2023-04-28T17:13:21.503Z"
   },
   {
    "duration": 132,
    "start_time": "2023-04-28T17:13:21.525Z"
   },
   {
    "duration": 0,
    "start_time": "2023-04-28T17:13:21.659Z"
   },
   {
    "duration": 0,
    "start_time": "2023-04-28T17:13:21.660Z"
   },
   {
    "duration": 1,
    "start_time": "2023-04-28T17:13:21.661Z"
   },
   {
    "duration": 0,
    "start_time": "2023-04-28T17:13:21.663Z"
   },
   {
    "duration": 0,
    "start_time": "2023-04-28T17:13:21.664Z"
   },
   {
    "duration": 0,
    "start_time": "2023-04-28T17:13:21.665Z"
   },
   {
    "duration": 5,
    "start_time": "2023-04-28T17:14:52.920Z"
   },
   {
    "duration": 1060,
    "start_time": "2023-04-28T17:15:48.222Z"
   },
   {
    "duration": 152,
    "start_time": "2023-04-28T17:15:49.285Z"
   },
   {
    "duration": 4,
    "start_time": "2023-04-28T17:15:49.438Z"
   },
   {
    "duration": 9,
    "start_time": "2023-04-28T17:15:49.444Z"
   },
   {
    "duration": 131,
    "start_time": "2023-04-28T17:15:49.455Z"
   },
   {
    "duration": 3,
    "start_time": "2023-04-28T17:15:49.588Z"
   },
   {
    "duration": 11,
    "start_time": "2023-04-28T17:15:49.593Z"
   },
   {
    "duration": 135,
    "start_time": "2023-04-28T17:15:49.605Z"
   },
   {
    "duration": 5,
    "start_time": "2023-04-28T17:15:49.741Z"
   },
   {
    "duration": 12,
    "start_time": "2023-04-28T17:15:49.747Z"
   },
   {
    "duration": 10,
    "start_time": "2023-04-28T17:15:49.761Z"
   },
   {
    "duration": 19,
    "start_time": "2023-04-28T17:15:49.772Z"
   },
   {
    "duration": 9,
    "start_time": "2023-04-28T17:15:49.792Z"
   },
   {
    "duration": 43,
    "start_time": "2023-04-28T17:15:49.804Z"
   },
   {
    "duration": 69,
    "start_time": "2023-04-28T17:15:49.849Z"
   },
   {
    "duration": 45,
    "start_time": "2023-04-28T17:15:49.920Z"
   },
   {
    "duration": 29,
    "start_time": "2023-04-28T17:15:49.967Z"
   },
   {
    "duration": 25,
    "start_time": "2023-04-28T17:15:49.998Z"
   },
   {
    "duration": 16,
    "start_time": "2023-04-28T17:15:50.025Z"
   },
   {
    "duration": 145,
    "start_time": "2023-04-28T17:15:50.043Z"
   },
   {
    "duration": 8,
    "start_time": "2023-04-28T17:15:50.190Z"
   },
   {
    "duration": 108,
    "start_time": "2023-04-28T17:15:50.199Z"
   },
   {
    "duration": 9,
    "start_time": "2023-04-28T17:15:50.309Z"
   },
   {
    "duration": 28,
    "start_time": "2023-04-28T17:15:50.320Z"
   },
   {
    "duration": 146,
    "start_time": "2023-04-28T17:15:50.350Z"
   },
   {
    "duration": 91,
    "start_time": "2023-04-28T17:15:50.499Z"
   },
   {
    "duration": 97,
    "start_time": "2023-04-28T17:15:50.592Z"
   },
   {
    "duration": 16,
    "start_time": "2023-04-28T17:15:50.690Z"
   },
   {
    "duration": 7,
    "start_time": "2023-04-28T17:15:50.708Z"
   },
   {
    "duration": 8,
    "start_time": "2023-04-28T17:15:50.717Z"
   },
   {
    "duration": 111,
    "start_time": "2023-04-28T17:15:50.727Z"
   },
   {
    "duration": 0,
    "start_time": "2023-04-28T17:15:50.840Z"
   },
   {
    "duration": 0,
    "start_time": "2023-04-28T17:15:50.842Z"
   },
   {
    "duration": 0,
    "start_time": "2023-04-28T17:15:50.843Z"
   },
   {
    "duration": 0,
    "start_time": "2023-04-28T17:15:50.844Z"
   },
   {
    "duration": 0,
    "start_time": "2023-04-28T17:15:50.846Z"
   },
   {
    "duration": 0,
    "start_time": "2023-04-28T17:15:50.847Z"
   },
   {
    "duration": 8,
    "start_time": "2023-04-28T17:17:10.570Z"
   },
   {
    "duration": 6,
    "start_time": "2023-04-28T17:17:18.760Z"
   },
   {
    "duration": 9,
    "start_time": "2023-04-28T17:17:28.790Z"
   },
   {
    "duration": 70,
    "start_time": "2023-04-28T17:18:12.770Z"
   },
   {
    "duration": 9,
    "start_time": "2023-04-28T17:18:18.650Z"
   },
   {
    "duration": 12,
    "start_time": "2023-04-28T17:18:40.090Z"
   },
   {
    "duration": 11,
    "start_time": "2023-04-28T17:18:46.741Z"
   },
   {
    "duration": 10,
    "start_time": "2023-04-28T17:18:52.420Z"
   },
   {
    "duration": 9,
    "start_time": "2023-04-28T17:18:55.630Z"
   },
   {
    "duration": 10,
    "start_time": "2023-04-28T17:18:58.431Z"
   },
   {
    "duration": 8,
    "start_time": "2023-04-28T17:19:15.001Z"
   },
   {
    "duration": 17,
    "start_time": "2023-04-28T17:20:44.251Z"
   },
   {
    "duration": 9,
    "start_time": "2023-04-28T17:21:01.781Z"
   },
   {
    "duration": 12,
    "start_time": "2023-04-28T17:21:47.541Z"
   },
   {
    "duration": 8,
    "start_time": "2023-04-28T17:22:25.830Z"
   },
   {
    "duration": 4,
    "start_time": "2023-04-28T17:22:35.567Z"
   },
   {
    "duration": 5,
    "start_time": "2023-04-28T17:23:14.103Z"
   },
   {
    "duration": 1165,
    "start_time": "2023-04-28T17:23:24.510Z"
   },
   {
    "duration": 5,
    "start_time": "2023-04-28T17:26:06.492Z"
   },
   {
    "duration": 10,
    "start_time": "2023-04-28T17:26:23.480Z"
   },
   {
    "duration": 22,
    "start_time": "2023-04-28T17:27:22.021Z"
   },
   {
    "duration": 3,
    "start_time": "2023-04-28T17:29:07.050Z"
   },
   {
    "duration": 6,
    "start_time": "2023-04-28T17:29:22.951Z"
   },
   {
    "duration": 1364,
    "start_time": "2023-04-28T17:31:29.850Z"
   },
   {
    "duration": 1193,
    "start_time": "2023-04-28T17:31:52.021Z"
   },
   {
    "duration": 156,
    "start_time": "2023-04-28T17:31:53.217Z"
   },
   {
    "duration": 4,
    "start_time": "2023-04-28T17:31:53.375Z"
   },
   {
    "duration": 16,
    "start_time": "2023-04-28T17:31:53.385Z"
   },
   {
    "duration": 172,
    "start_time": "2023-04-28T17:31:53.404Z"
   },
   {
    "duration": 4,
    "start_time": "2023-04-28T17:31:53.578Z"
   },
   {
    "duration": 6,
    "start_time": "2023-04-28T17:31:53.585Z"
   },
   {
    "duration": 136,
    "start_time": "2023-04-28T17:31:53.593Z"
   },
   {
    "duration": 5,
    "start_time": "2023-04-28T17:31:53.731Z"
   },
   {
    "duration": 5,
    "start_time": "2023-04-28T17:31:53.738Z"
   },
   {
    "duration": 10,
    "start_time": "2023-04-28T17:31:53.745Z"
   },
   {
    "duration": 32,
    "start_time": "2023-04-28T17:31:53.757Z"
   },
   {
    "duration": 10,
    "start_time": "2023-04-28T17:31:53.790Z"
   },
   {
    "duration": 47,
    "start_time": "2023-04-28T17:31:53.804Z"
   },
   {
    "duration": 68,
    "start_time": "2023-04-28T17:31:53.853Z"
   },
   {
    "duration": 65,
    "start_time": "2023-04-28T17:31:53.923Z"
   },
   {
    "duration": 19,
    "start_time": "2023-04-28T17:31:53.990Z"
   },
   {
    "duration": 20,
    "start_time": "2023-04-28T17:31:54.011Z"
   },
   {
    "duration": 51,
    "start_time": "2023-04-28T17:31:54.034Z"
   },
   {
    "duration": 33,
    "start_time": "2023-04-28T17:31:54.088Z"
   },
   {
    "duration": 13,
    "start_time": "2023-04-28T17:31:54.185Z"
   },
   {
    "duration": 11,
    "start_time": "2023-04-28T17:31:54.285Z"
   },
   {
    "duration": 7,
    "start_time": "2023-04-28T17:31:54.297Z"
   },
   {
    "duration": 19,
    "start_time": "2023-04-28T17:31:54.306Z"
   },
   {
    "duration": 165,
    "start_time": "2023-04-28T17:31:54.327Z"
   },
   {
    "duration": 95,
    "start_time": "2023-04-28T17:31:54.494Z"
   },
   {
    "duration": 3,
    "start_time": "2023-04-28T17:31:54.593Z"
   },
   {
    "duration": 7,
    "start_time": "2023-04-28T17:31:54.685Z"
   },
   {
    "duration": 5,
    "start_time": "2023-04-28T17:31:54.693Z"
   },
   {
    "duration": 6,
    "start_time": "2023-04-28T17:31:54.699Z"
   },
   {
    "duration": 4,
    "start_time": "2023-04-28T17:31:54.706Z"
   },
   {
    "duration": 6,
    "start_time": "2023-04-28T17:31:54.712Z"
   },
   {
    "duration": 4,
    "start_time": "2023-04-28T17:31:54.720Z"
   },
   {
    "duration": 9,
    "start_time": "2023-04-28T17:31:54.726Z"
   },
   {
    "duration": 128,
    "start_time": "2023-04-28T17:31:54.737Z"
   },
   {
    "duration": 0,
    "start_time": "2023-04-28T17:31:54.867Z"
   },
   {
    "duration": 0,
    "start_time": "2023-04-28T17:31:54.869Z"
   },
   {
    "duration": 0,
    "start_time": "2023-04-28T17:31:54.870Z"
   },
   {
    "duration": 0,
    "start_time": "2023-04-28T17:31:54.871Z"
   },
   {
    "duration": 0,
    "start_time": "2023-04-28T17:31:54.872Z"
   },
   {
    "duration": 1091,
    "start_time": "2023-04-28T17:33:41.400Z"
   },
   {
    "duration": 161,
    "start_time": "2023-04-28T17:33:42.493Z"
   },
   {
    "duration": 6,
    "start_time": "2023-04-28T17:33:42.656Z"
   },
   {
    "duration": 10,
    "start_time": "2023-04-28T17:33:42.664Z"
   },
   {
    "duration": 126,
    "start_time": "2023-04-28T17:33:42.675Z"
   },
   {
    "duration": 4,
    "start_time": "2023-04-28T17:33:42.802Z"
   },
   {
    "duration": 6,
    "start_time": "2023-04-28T17:33:42.807Z"
   },
   {
    "duration": 127,
    "start_time": "2023-04-28T17:33:42.814Z"
   },
   {
    "duration": 4,
    "start_time": "2023-04-28T17:33:42.942Z"
   },
   {
    "duration": 5,
    "start_time": "2023-04-28T17:33:42.949Z"
   },
   {
    "duration": 12,
    "start_time": "2023-04-28T17:33:42.955Z"
   },
   {
    "duration": 10,
    "start_time": "2023-04-28T17:33:42.984Z"
   },
   {
    "duration": 9,
    "start_time": "2023-04-28T17:33:42.995Z"
   },
   {
    "duration": 44,
    "start_time": "2023-04-28T17:33:43.006Z"
   },
   {
    "duration": 62,
    "start_time": "2023-04-28T17:33:43.051Z"
   },
   {
    "duration": 50,
    "start_time": "2023-04-28T17:33:43.115Z"
   },
   {
    "duration": 31,
    "start_time": "2023-04-28T17:33:43.167Z"
   },
   {
    "duration": 18,
    "start_time": "2023-04-28T17:33:43.200Z"
   },
   {
    "duration": 18,
    "start_time": "2023-04-28T17:33:43.220Z"
   },
   {
    "duration": 49,
    "start_time": "2023-04-28T17:33:43.240Z"
   },
   {
    "duration": 6,
    "start_time": "2023-04-28T17:33:43.384Z"
   },
   {
    "duration": 12,
    "start_time": "2023-04-28T17:33:43.391Z"
   },
   {
    "duration": 7,
    "start_time": "2023-04-28T17:33:43.405Z"
   },
   {
    "duration": 73,
    "start_time": "2023-04-28T17:33:43.414Z"
   },
   {
    "duration": 193,
    "start_time": "2023-04-28T17:33:43.493Z"
   },
   {
    "duration": 6,
    "start_time": "2023-04-28T17:33:43.689Z"
   },
   {
    "duration": 89,
    "start_time": "2023-04-28T17:33:43.697Z"
   },
   {
    "duration": 3,
    "start_time": "2023-04-28T17:33:43.790Z"
   },
   {
    "duration": 7,
    "start_time": "2023-04-28T17:33:43.795Z"
   },
   {
    "duration": 4,
    "start_time": "2023-04-28T17:33:43.803Z"
   },
   {
    "duration": 3,
    "start_time": "2023-04-28T17:33:43.809Z"
   },
   {
    "duration": 3,
    "start_time": "2023-04-28T17:33:43.814Z"
   },
   {
    "duration": 4,
    "start_time": "2023-04-28T17:33:43.819Z"
   },
   {
    "duration": 14,
    "start_time": "2023-04-28T17:33:43.824Z"
   },
   {
    "duration": 18,
    "start_time": "2023-04-28T17:33:43.839Z"
   },
   {
    "duration": 28,
    "start_time": "2023-04-28T17:33:43.858Z"
   },
   {
    "duration": 7,
    "start_time": "2023-04-28T17:33:43.887Z"
   },
   {
    "duration": 7,
    "start_time": "2023-04-28T17:33:43.895Z"
   },
   {
    "duration": 140,
    "start_time": "2023-04-28T17:33:43.903Z"
   },
   {
    "duration": 0,
    "start_time": "2023-04-28T17:33:44.045Z"
   },
   {
    "duration": 1299,
    "start_time": "2023-04-28T17:35:14.472Z"
   },
   {
    "duration": 7,
    "start_time": "2023-04-28T17:35:27.560Z"
   },
   {
    "duration": 5,
    "start_time": "2023-04-28T17:35:29.691Z"
   },
   {
    "duration": 8,
    "start_time": "2023-04-28T17:35:48.831Z"
   },
   {
    "duration": 4,
    "start_time": "2023-04-28T17:36:01.170Z"
   },
   {
    "duration": 6,
    "start_time": "2023-04-28T17:37:02.070Z"
   },
   {
    "duration": 1378,
    "start_time": "2023-04-28T17:37:31.741Z"
   },
   {
    "duration": 1375,
    "start_time": "2023-04-28T17:37:42.305Z"
   },
   {
    "duration": 89,
    "start_time": "2023-04-28T17:39:02.651Z"
   },
   {
    "duration": 1360,
    "start_time": "2023-04-28T17:39:15.860Z"
   },
   {
    "duration": 1378,
    "start_time": "2023-04-28T17:39:26.381Z"
   },
   {
    "duration": 1380,
    "start_time": "2023-04-28T17:39:58.490Z"
   },
   {
    "duration": 1552,
    "start_time": "2023-04-28T17:40:29.450Z"
   },
   {
    "duration": 1347,
    "start_time": "2023-04-28T17:40:55.601Z"
   },
   {
    "duration": 1422,
    "start_time": "2023-04-28T17:45:50.921Z"
   },
   {
    "duration": 466,
    "start_time": "2023-04-28T17:45:52.345Z"
   },
   {
    "duration": 4,
    "start_time": "2023-04-28T17:45:52.813Z"
   },
   {
    "duration": 7,
    "start_time": "2023-04-28T17:45:52.819Z"
   },
   {
    "duration": 287,
    "start_time": "2023-04-28T17:45:52.829Z"
   },
   {
    "duration": 5,
    "start_time": "2023-04-28T17:45:53.118Z"
   },
   {
    "duration": 13,
    "start_time": "2023-04-28T17:45:53.125Z"
   },
   {
    "duration": 551,
    "start_time": "2023-04-28T17:45:53.140Z"
   },
   {
    "duration": 4,
    "start_time": "2023-04-28T17:45:53.693Z"
   },
   {
    "duration": 10,
    "start_time": "2023-04-28T17:45:53.699Z"
   },
   {
    "duration": 15,
    "start_time": "2023-04-28T17:45:53.711Z"
   },
   {
    "duration": 11,
    "start_time": "2023-04-28T17:45:53.727Z"
   },
   {
    "duration": 10,
    "start_time": "2023-04-28T17:45:53.740Z"
   },
   {
    "duration": 80,
    "start_time": "2023-04-28T17:45:53.753Z"
   },
   {
    "duration": 58,
    "start_time": "2023-04-28T17:45:53.834Z"
   },
   {
    "duration": 52,
    "start_time": "2023-04-28T17:45:53.894Z"
   },
   {
    "duration": 37,
    "start_time": "2023-04-28T17:45:53.948Z"
   },
   {
    "duration": 23,
    "start_time": "2023-04-28T17:45:53.988Z"
   },
   {
    "duration": 77,
    "start_time": "2023-04-28T17:45:54.013Z"
   },
   {
    "duration": 48,
    "start_time": "2023-04-28T17:45:54.092Z"
   },
   {
    "duration": 117,
    "start_time": "2023-04-28T17:45:54.185Z"
   },
   {
    "duration": 111,
    "start_time": "2023-04-28T17:45:54.305Z"
   },
   {
    "duration": 15,
    "start_time": "2023-04-28T17:45:54.486Z"
   },
   {
    "duration": 6,
    "start_time": "2023-04-28T17:45:54.584Z"
   },
   {
    "duration": 4,
    "start_time": "2023-04-28T17:45:54.592Z"
   },
   {
    "duration": 5,
    "start_time": "2023-04-28T17:45:54.598Z"
   },
   {
    "duration": 7,
    "start_time": "2023-04-28T17:45:54.605Z"
   },
   {
    "duration": 12,
    "start_time": "2023-04-28T17:45:54.614Z"
   },
   {
    "duration": 10,
    "start_time": "2023-04-28T17:45:54.627Z"
   },
   {
    "duration": 7,
    "start_time": "2023-04-28T17:45:54.639Z"
   },
   {
    "duration": 19,
    "start_time": "2023-04-28T17:45:54.648Z"
   },
   {
    "duration": 29,
    "start_time": "2023-04-28T17:45:54.670Z"
   },
   {
    "duration": 9,
    "start_time": "2023-04-28T17:45:54.700Z"
   },
   {
    "duration": 8,
    "start_time": "2023-04-28T17:45:54.711Z"
   },
   {
    "duration": 6,
    "start_time": "2023-04-28T17:45:54.721Z"
   },
   {
    "duration": 9,
    "start_time": "2023-04-28T17:45:54.729Z"
   },
   {
    "duration": 1380,
    "start_time": "2023-04-28T17:45:54.740Z"
   },
   {
    "duration": 5,
    "start_time": "2023-04-28T17:45:56.122Z"
   },
   {
    "duration": 1265,
    "start_time": "2023-04-28T17:46:26.342Z"
   },
   {
    "duration": 166,
    "start_time": "2023-04-28T17:46:27.609Z"
   },
   {
    "duration": 5,
    "start_time": "2023-04-28T17:46:27.776Z"
   },
   {
    "duration": 15,
    "start_time": "2023-04-28T17:46:27.782Z"
   },
   {
    "duration": 166,
    "start_time": "2023-04-28T17:46:27.799Z"
   },
   {
    "duration": 5,
    "start_time": "2023-04-28T17:46:27.966Z"
   },
   {
    "duration": 22,
    "start_time": "2023-04-28T17:46:27.973Z"
   },
   {
    "duration": 151,
    "start_time": "2023-04-28T17:46:27.997Z"
   },
   {
    "duration": 4,
    "start_time": "2023-04-28T17:46:28.149Z"
   },
   {
    "duration": 22,
    "start_time": "2023-04-28T17:46:28.155Z"
   },
   {
    "duration": 31,
    "start_time": "2023-04-28T17:46:28.179Z"
   },
   {
    "duration": 17,
    "start_time": "2023-04-28T17:46:28.212Z"
   },
   {
    "duration": 15,
    "start_time": "2023-04-28T17:46:28.230Z"
   },
   {
    "duration": 82,
    "start_time": "2023-04-28T17:46:28.249Z"
   },
   {
    "duration": 42,
    "start_time": "2023-04-28T17:46:28.333Z"
   },
   {
    "duration": 48,
    "start_time": "2023-04-28T17:46:28.386Z"
   },
   {
    "duration": 18,
    "start_time": "2023-04-28T17:46:28.435Z"
   },
   {
    "duration": 43,
    "start_time": "2023-04-28T17:46:28.455Z"
   },
   {
    "duration": 18,
    "start_time": "2023-04-28T17:46:28.500Z"
   },
   {
    "duration": 67,
    "start_time": "2023-04-28T17:46:28.520Z"
   },
   {
    "duration": 106,
    "start_time": "2023-04-28T17:46:28.589Z"
   },
   {
    "duration": 196,
    "start_time": "2023-04-28T17:46:28.697Z"
   },
   {
    "duration": 93,
    "start_time": "2023-04-28T17:46:28.895Z"
   },
   {
    "duration": 116,
    "start_time": "2023-04-28T17:46:28.990Z"
   },
   {
    "duration": 27,
    "start_time": "2023-04-28T17:46:29.108Z"
   },
   {
    "duration": 21,
    "start_time": "2023-04-28T17:46:29.137Z"
   },
   {
    "duration": 19,
    "start_time": "2023-04-28T17:46:29.159Z"
   },
   {
    "duration": 26,
    "start_time": "2023-04-28T17:46:29.180Z"
   },
   {
    "duration": 22,
    "start_time": "2023-04-28T17:46:29.208Z"
   },
   {
    "duration": 39,
    "start_time": "2023-04-28T17:46:29.232Z"
   },
   {
    "duration": 19,
    "start_time": "2023-04-28T17:46:29.273Z"
   },
   {
    "duration": 29,
    "start_time": "2023-04-28T17:46:29.294Z"
   },
   {
    "duration": 20,
    "start_time": "2023-04-28T17:46:29.325Z"
   },
   {
    "duration": 10,
    "start_time": "2023-04-28T17:46:29.347Z"
   },
   {
    "duration": 25,
    "start_time": "2023-04-28T17:46:29.358Z"
   },
   {
    "duration": 12,
    "start_time": "2023-04-28T17:46:29.385Z"
   },
   {
    "duration": 1493,
    "start_time": "2023-04-28T17:46:29.398Z"
   },
   {
    "duration": 4,
    "start_time": "2023-04-28T17:46:30.893Z"
   },
   {
    "duration": 1435,
    "start_time": "2023-04-28T17:47:27.739Z"
   },
   {
    "duration": 1325,
    "start_time": "2023-04-28T17:47:41.509Z"
   },
   {
    "duration": 6,
    "start_time": "2023-04-28T17:48:45.189Z"
   },
   {
    "duration": 27,
    "start_time": "2023-04-28T17:53:32.920Z"
   },
   {
    "duration": 1389,
    "start_time": "2023-04-28T17:53:43.019Z"
   },
   {
    "duration": 14,
    "start_time": "2023-04-28T17:56:16.129Z"
   },
   {
    "duration": 1693,
    "start_time": "2023-04-28T17:56:29.079Z"
   },
   {
    "duration": 8,
    "start_time": "2023-04-28T17:56:46.289Z"
   },
   {
    "duration": 13,
    "start_time": "2023-04-28T17:57:32.566Z"
   },
   {
    "duration": 6,
    "start_time": "2023-04-28T17:58:05.107Z"
   },
   {
    "duration": 4,
    "start_time": "2023-04-28T17:58:21.149Z"
   },
   {
    "duration": 8,
    "start_time": "2023-04-28T17:58:34.220Z"
   },
   {
    "duration": 82,
    "start_time": "2023-04-28T17:59:18.360Z"
   },
   {
    "duration": 1442,
    "start_time": "2023-04-28T17:59:25.304Z"
   },
   {
    "duration": 1162,
    "start_time": "2023-04-28T18:00:07.680Z"
   },
   {
    "duration": 179,
    "start_time": "2023-04-28T18:00:08.844Z"
   },
   {
    "duration": 4,
    "start_time": "2023-04-28T18:00:09.025Z"
   },
   {
    "duration": 22,
    "start_time": "2023-04-28T18:00:09.030Z"
   },
   {
    "duration": 161,
    "start_time": "2023-04-28T18:00:09.054Z"
   },
   {
    "duration": 4,
    "start_time": "2023-04-28T18:00:09.217Z"
   },
   {
    "duration": 25,
    "start_time": "2023-04-28T18:00:09.223Z"
   },
   {
    "duration": 161,
    "start_time": "2023-04-28T18:00:09.250Z"
   },
   {
    "duration": 5,
    "start_time": "2023-04-28T18:00:09.413Z"
   },
   {
    "duration": 13,
    "start_time": "2023-04-28T18:00:09.420Z"
   },
   {
    "duration": 19,
    "start_time": "2023-04-28T18:00:09.434Z"
   },
   {
    "duration": 10,
    "start_time": "2023-04-28T18:00:09.457Z"
   },
   {
    "duration": 56,
    "start_time": "2023-04-28T18:00:09.469Z"
   },
   {
    "duration": 46,
    "start_time": "2023-04-28T18:00:09.528Z"
   },
   {
    "duration": 58,
    "start_time": "2023-04-28T18:00:09.575Z"
   },
   {
    "duration": 46,
    "start_time": "2023-04-28T18:00:09.634Z"
   },
   {
    "duration": 19,
    "start_time": "2023-04-28T18:00:09.685Z"
   },
   {
    "duration": 22,
    "start_time": "2023-04-28T18:00:09.706Z"
   },
   {
    "duration": 18,
    "start_time": "2023-04-28T18:00:09.729Z"
   },
   {
    "duration": 57,
    "start_time": "2023-04-28T18:00:09.748Z"
   },
   {
    "duration": 97,
    "start_time": "2023-04-28T18:00:09.809Z"
   },
   {
    "duration": 168,
    "start_time": "2023-04-28T18:00:09.918Z"
   },
   {
    "duration": 21,
    "start_time": "2023-04-28T18:00:10.091Z"
   },
   {
    "duration": 70,
    "start_time": "2023-04-28T18:00:10.117Z"
   },
   {
    "duration": 26,
    "start_time": "2023-04-28T18:00:10.192Z"
   },
   {
    "duration": 8,
    "start_time": "2023-04-28T18:00:10.220Z"
   },
   {
    "duration": 14,
    "start_time": "2023-04-28T18:00:10.229Z"
   },
   {
    "duration": 7,
    "start_time": "2023-04-28T18:00:10.244Z"
   },
   {
    "duration": 14,
    "start_time": "2023-04-28T18:00:10.253Z"
   },
   {
    "duration": 6,
    "start_time": "2023-04-28T18:00:10.269Z"
   },
   {
    "duration": 6,
    "start_time": "2023-04-28T18:00:10.277Z"
   },
   {
    "duration": 31,
    "start_time": "2023-04-28T18:00:10.287Z"
   },
   {
    "duration": 10,
    "start_time": "2023-04-28T18:00:10.320Z"
   },
   {
    "duration": 9,
    "start_time": "2023-04-28T18:00:10.332Z"
   },
   {
    "duration": 7,
    "start_time": "2023-04-28T18:00:10.343Z"
   },
   {
    "duration": 11,
    "start_time": "2023-04-28T18:00:10.351Z"
   },
   {
    "duration": 1472,
    "start_time": "2023-04-28T18:00:10.363Z"
   },
   {
    "duration": 5,
    "start_time": "2023-04-28T18:00:11.837Z"
   },
   {
    "duration": 8,
    "start_time": "2023-04-28T18:00:11.843Z"
   },
   {
    "duration": 15,
    "start_time": "2023-04-28T18:00:11.852Z"
   },
   {
    "duration": 12,
    "start_time": "2023-04-28T18:00:11.870Z"
   },
   {
    "duration": 1533,
    "start_time": "2023-04-28T18:00:37.850Z"
   },
   {
    "duration": 16,
    "start_time": "2023-04-28T18:00:47.704Z"
   },
   {
    "duration": 1637,
    "start_time": "2023-04-28T18:03:07.159Z"
   },
   {
    "duration": 1529,
    "start_time": "2023-04-28T18:03:16.781Z"
   },
   {
    "duration": 1335,
    "start_time": "2023-04-28T18:03:33.991Z"
   },
   {
    "duration": 1251,
    "start_time": "2023-04-28T18:04:18.769Z"
   },
   {
    "duration": 54,
    "start_time": "2023-04-29T09:49:00.614Z"
   },
   {
    "duration": 1112,
    "start_time": "2023-04-29T09:49:06.457Z"
   },
   {
    "duration": 531,
    "start_time": "2023-04-29T09:49:07.570Z"
   },
   {
    "duration": 5,
    "start_time": "2023-04-29T09:49:08.102Z"
   },
   {
    "duration": 7,
    "start_time": "2023-04-29T09:49:08.108Z"
   },
   {
    "duration": 550,
    "start_time": "2023-04-29T09:49:08.117Z"
   },
   {
    "duration": 4,
    "start_time": "2023-04-29T09:49:08.669Z"
   },
   {
    "duration": 5,
    "start_time": "2023-04-29T09:49:08.675Z"
   },
   {
    "duration": 549,
    "start_time": "2023-04-29T09:49:08.682Z"
   },
   {
    "duration": 3,
    "start_time": "2023-04-29T09:49:09.232Z"
   },
   {
    "duration": 6,
    "start_time": "2023-04-29T09:49:09.237Z"
   },
   {
    "duration": 10,
    "start_time": "2023-04-29T09:49:09.244Z"
   },
   {
    "duration": 9,
    "start_time": "2023-04-29T09:49:09.256Z"
   },
   {
    "duration": 9,
    "start_time": "2023-04-29T09:49:09.267Z"
   },
   {
    "duration": 72,
    "start_time": "2023-04-29T09:49:09.278Z"
   },
   {
    "duration": 43,
    "start_time": "2023-04-29T09:49:09.351Z"
   },
   {
    "duration": 64,
    "start_time": "2023-04-29T09:49:09.395Z"
   },
   {
    "duration": 15,
    "start_time": "2023-04-29T09:49:09.461Z"
   },
   {
    "duration": 41,
    "start_time": "2023-04-29T09:49:09.478Z"
   },
   {
    "duration": 17,
    "start_time": "2023-04-29T09:49:09.521Z"
   },
   {
    "duration": 259,
    "start_time": "2023-04-29T09:49:09.540Z"
   },
   {
    "duration": 0,
    "start_time": "2023-04-29T09:49:09.812Z"
   },
   {
    "duration": 0,
    "start_time": "2023-04-29T09:49:09.813Z"
   },
   {
    "duration": 0,
    "start_time": "2023-04-29T09:49:09.814Z"
   },
   {
    "duration": 0,
    "start_time": "2023-04-29T09:49:09.815Z"
   },
   {
    "duration": 0,
    "start_time": "2023-04-29T09:49:09.816Z"
   },
   {
    "duration": 0,
    "start_time": "2023-04-29T09:49:09.817Z"
   },
   {
    "duration": 0,
    "start_time": "2023-04-29T09:49:09.818Z"
   },
   {
    "duration": 0,
    "start_time": "2023-04-29T09:49:09.819Z"
   },
   {
    "duration": 4,
    "start_time": "2023-04-29T09:49:52.610Z"
   },
   {
    "duration": 18,
    "start_time": "2023-04-29T09:50:05.183Z"
   },
   {
    "duration": 78,
    "start_time": "2023-04-29T09:50:36.164Z"
   },
   {
    "duration": 19,
    "start_time": "2023-04-29T09:50:44.409Z"
   },
   {
    "duration": 1141,
    "start_time": "2023-04-29T09:51:18.274Z"
   },
   {
    "duration": 148,
    "start_time": "2023-04-29T09:51:19.418Z"
   },
   {
    "duration": 4,
    "start_time": "2023-04-29T09:51:19.567Z"
   },
   {
    "duration": 23,
    "start_time": "2023-04-29T09:51:19.572Z"
   },
   {
    "duration": 142,
    "start_time": "2023-04-29T09:51:19.597Z"
   },
   {
    "duration": 3,
    "start_time": "2023-04-29T09:51:19.740Z"
   },
   {
    "duration": 19,
    "start_time": "2023-04-29T09:51:19.745Z"
   },
   {
    "duration": 153,
    "start_time": "2023-04-29T09:51:19.766Z"
   },
   {
    "duration": 4,
    "start_time": "2023-04-29T09:51:19.921Z"
   },
   {
    "duration": 14,
    "start_time": "2023-04-29T09:51:19.926Z"
   },
   {
    "duration": 23,
    "start_time": "2023-04-29T09:51:19.942Z"
   },
   {
    "duration": 13,
    "start_time": "2023-04-29T09:51:19.967Z"
   },
   {
    "duration": 15,
    "start_time": "2023-04-29T09:51:19.982Z"
   },
   {
    "duration": 56,
    "start_time": "2023-04-29T09:51:20.000Z"
   },
   {
    "duration": 54,
    "start_time": "2023-04-29T09:51:20.058Z"
   },
   {
    "duration": 46,
    "start_time": "2023-04-29T09:51:20.114Z"
   },
   {
    "duration": 15,
    "start_time": "2023-04-29T09:51:20.161Z"
   },
   {
    "duration": 40,
    "start_time": "2023-04-29T09:51:20.177Z"
   },
   {
    "duration": 17,
    "start_time": "2023-04-29T09:51:20.218Z"
   },
   {
    "duration": 81,
    "start_time": "2023-04-29T09:51:20.236Z"
   },
   {
    "duration": 101,
    "start_time": "2023-04-29T09:51:20.320Z"
   },
   {
    "duration": 193,
    "start_time": "2023-04-29T09:51:20.423Z"
   },
   {
    "duration": 95,
    "start_time": "2023-04-29T09:51:20.619Z"
   },
   {
    "duration": 8,
    "start_time": "2023-04-29T09:51:20.716Z"
   },
   {
    "duration": 92,
    "start_time": "2023-04-29T09:51:20.726Z"
   },
   {
    "duration": 8,
    "start_time": "2023-04-29T09:51:20.820Z"
   },
   {
    "duration": 17,
    "start_time": "2023-04-29T09:51:20.830Z"
   },
   {
    "duration": 1197,
    "start_time": "2023-04-29T09:51:20.849Z"
   },
   {
    "duration": 1112,
    "start_time": "2023-04-29T15:19:13.167Z"
   },
   {
    "duration": 548,
    "start_time": "2023-04-29T15:19:14.281Z"
   },
   {
    "duration": 4,
    "start_time": "2023-04-29T15:19:14.831Z"
   },
   {
    "duration": 8,
    "start_time": "2023-04-29T15:19:14.837Z"
   },
   {
    "duration": 564,
    "start_time": "2023-04-29T15:19:14.847Z"
   },
   {
    "duration": 4,
    "start_time": "2023-04-29T15:19:15.413Z"
   },
   {
    "duration": 6,
    "start_time": "2023-04-29T15:19:15.419Z"
   },
   {
    "duration": 536,
    "start_time": "2023-04-29T15:19:15.426Z"
   },
   {
    "duration": 4,
    "start_time": "2023-04-29T15:19:15.964Z"
   },
   {
    "duration": 8,
    "start_time": "2023-04-29T15:19:15.970Z"
   },
   {
    "duration": 18,
    "start_time": "2023-04-29T15:19:15.979Z"
   },
   {
    "duration": 14,
    "start_time": "2023-04-29T15:19:15.998Z"
   },
   {
    "duration": 9,
    "start_time": "2023-04-29T15:19:16.013Z"
   },
   {
    "duration": 44,
    "start_time": "2023-04-29T15:19:16.025Z"
   },
   {
    "duration": 65,
    "start_time": "2023-04-29T15:19:16.071Z"
   },
   {
    "duration": 46,
    "start_time": "2023-04-29T15:19:16.138Z"
   },
   {
    "duration": 32,
    "start_time": "2023-04-29T15:19:16.186Z"
   },
   {
    "duration": 16,
    "start_time": "2023-04-29T15:19:16.219Z"
   },
   {
    "duration": 16,
    "start_time": "2023-04-29T15:19:16.237Z"
   },
   {
    "duration": 65,
    "start_time": "2023-04-29T15:19:16.255Z"
   },
   {
    "duration": 103,
    "start_time": "2023-04-29T15:19:16.322Z"
   },
   {
    "duration": 193,
    "start_time": "2023-04-29T15:19:16.427Z"
   },
   {
    "duration": 90,
    "start_time": "2023-04-29T15:19:16.622Z"
   },
   {
    "duration": 4,
    "start_time": "2023-04-29T15:19:16.714Z"
   },
   {
    "duration": 106,
    "start_time": "2023-04-29T15:19:16.720Z"
   },
   {
    "duration": 8,
    "start_time": "2023-04-29T15:19:16.828Z"
   },
   {
    "duration": 8,
    "start_time": "2023-04-29T15:19:16.837Z"
   },
   {
    "duration": 1161,
    "start_time": "2023-04-29T15:19:16.846Z"
   },
   {
    "duration": 3,
    "start_time": "2023-04-29T15:23:21.347Z"
   },
   {
    "duration": 1126,
    "start_time": "2023-04-29T15:26:06.347Z"
   },
   {
    "duration": 1188,
    "start_time": "2023-04-29T15:32:23.655Z"
   },
   {
    "duration": 1139,
    "start_time": "2023-04-29T15:33:35.047Z"
   },
   {
    "duration": 1164,
    "start_time": "2023-04-29T15:39:15.037Z"
   },
   {
    "duration": 1116,
    "start_time": "2023-04-29T15:45:53.937Z"
   },
   {
    "duration": 1131,
    "start_time": "2023-04-29T15:46:03.567Z"
   },
   {
    "duration": 1167,
    "start_time": "2023-04-29T15:52:55.714Z"
   },
   {
    "duration": 1175,
    "start_time": "2023-04-29T15:53:06.136Z"
   },
   {
    "duration": 1144,
    "start_time": "2023-04-29T16:00:33.726Z"
   },
   {
    "duration": 75,
    "start_time": "2023-04-29T16:03:06.456Z"
   },
   {
    "duration": 1238,
    "start_time": "2023-04-29T16:03:09.865Z"
   },
   {
    "duration": 1296,
    "start_time": "2023-04-29T16:03:27.776Z"
   },
   {
    "duration": 1360,
    "start_time": "2023-04-29T16:03:48.299Z"
   },
   {
    "duration": 1175,
    "start_time": "2023-04-29T16:04:02.136Z"
   },
   {
    "duration": 1203,
    "start_time": "2023-04-29T16:04:12.615Z"
   },
   {
    "duration": 1231,
    "start_time": "2023-04-29T16:04:38.246Z"
   },
   {
    "duration": 1188,
    "start_time": "2023-04-29T16:04:59.486Z"
   },
   {
    "duration": 1117,
    "start_time": "2023-04-29T16:05:09.416Z"
   },
   {
    "duration": 71,
    "start_time": "2023-04-29T16:09:09.626Z"
   },
   {
    "duration": 4,
    "start_time": "2023-04-29T16:09:13.476Z"
   },
   {
    "duration": 5,
    "start_time": "2023-04-29T16:09:35.976Z"
   },
   {
    "duration": 4,
    "start_time": "2023-04-29T16:09:56.836Z"
   },
   {
    "duration": 4,
    "start_time": "2023-04-29T16:10:36.185Z"
   },
   {
    "duration": 1105,
    "start_time": "2023-04-29T16:49:20.774Z"
   },
   {
    "duration": 158,
    "start_time": "2023-04-29T16:49:21.881Z"
   },
   {
    "duration": 4,
    "start_time": "2023-04-29T16:49:22.040Z"
   },
   {
    "duration": 6,
    "start_time": "2023-04-29T16:49:22.046Z"
   },
   {
    "duration": 134,
    "start_time": "2023-04-29T16:49:22.054Z"
   },
   {
    "duration": 3,
    "start_time": "2023-04-29T16:49:22.190Z"
   },
   {
    "duration": 18,
    "start_time": "2023-04-29T16:49:22.195Z"
   },
   {
    "duration": 134,
    "start_time": "2023-04-29T16:49:22.215Z"
   },
   {
    "duration": 3,
    "start_time": "2023-04-29T16:49:22.351Z"
   },
   {
    "duration": 9,
    "start_time": "2023-04-29T16:49:22.356Z"
   },
   {
    "duration": 15,
    "start_time": "2023-04-29T16:49:22.367Z"
   },
   {
    "duration": 9,
    "start_time": "2023-04-29T16:49:22.383Z"
   },
   {
    "duration": 27,
    "start_time": "2023-04-29T16:49:22.394Z"
   },
   {
    "duration": 51,
    "start_time": "2023-04-29T16:49:22.424Z"
   },
   {
    "duration": 64,
    "start_time": "2023-04-29T16:49:22.476Z"
   },
   {
    "duration": 46,
    "start_time": "2023-04-29T16:49:22.542Z"
   },
   {
    "duration": 32,
    "start_time": "2023-04-29T16:49:22.589Z"
   },
   {
    "duration": 19,
    "start_time": "2023-04-29T16:49:22.623Z"
   },
   {
    "duration": 19,
    "start_time": "2023-04-29T16:49:22.643Z"
   },
   {
    "duration": 53,
    "start_time": "2023-04-29T16:49:22.664Z"
   },
   {
    "duration": 110,
    "start_time": "2023-04-29T16:49:22.719Z"
   },
   {
    "duration": 187,
    "start_time": "2023-04-29T16:49:22.831Z"
   },
   {
    "duration": 99,
    "start_time": "2023-04-29T16:49:23.021Z"
   },
   {
    "duration": 94,
    "start_time": "2023-04-29T16:49:23.122Z"
   },
   {
    "duration": 5,
    "start_time": "2023-04-29T16:49:23.218Z"
   },
   {
    "duration": 3,
    "start_time": "2023-04-29T16:49:23.224Z"
   },
   {
    "duration": 6,
    "start_time": "2023-04-29T16:49:23.229Z"
   },
   {
    "duration": 18,
    "start_time": "2023-04-29T16:49:23.236Z"
   },
   {
    "duration": 8,
    "start_time": "2023-04-29T16:49:23.256Z"
   },
   {
    "duration": 7,
    "start_time": "2023-04-29T16:49:23.265Z"
   },
   {
    "duration": 1317,
    "start_time": "2023-04-29T16:49:23.274Z"
   },
   {
    "duration": 0,
    "start_time": "2023-04-29T16:49:24.592Z"
   },
   {
    "duration": 0,
    "start_time": "2023-04-29T16:49:24.593Z"
   },
   {
    "duration": 1129,
    "start_time": "2023-04-29T16:49:53.601Z"
   },
   {
    "duration": 156,
    "start_time": "2023-04-29T16:49:54.732Z"
   },
   {
    "duration": 4,
    "start_time": "2023-04-29T16:49:54.890Z"
   },
   {
    "duration": 15,
    "start_time": "2023-04-29T16:49:54.896Z"
   },
   {
    "duration": 156,
    "start_time": "2023-04-29T16:49:54.913Z"
   },
   {
    "duration": 4,
    "start_time": "2023-04-29T16:49:55.071Z"
   },
   {
    "duration": 7,
    "start_time": "2023-04-29T16:49:55.076Z"
   },
   {
    "duration": 146,
    "start_time": "2023-04-29T16:49:55.084Z"
   },
   {
    "duration": 4,
    "start_time": "2023-04-29T16:49:55.232Z"
   },
   {
    "duration": 14,
    "start_time": "2023-04-29T16:49:55.239Z"
   },
   {
    "duration": 17,
    "start_time": "2023-04-29T16:49:55.256Z"
   },
   {
    "duration": 28,
    "start_time": "2023-04-29T16:49:55.275Z"
   },
   {
    "duration": 11,
    "start_time": "2023-04-29T16:49:55.305Z"
   },
   {
    "duration": 55,
    "start_time": "2023-04-29T16:49:55.318Z"
   },
   {
    "duration": 67,
    "start_time": "2023-04-29T16:49:55.375Z"
   },
   {
    "duration": 51,
    "start_time": "2023-04-29T16:49:55.444Z"
   },
   {
    "duration": 18,
    "start_time": "2023-04-29T16:49:55.513Z"
   },
   {
    "duration": 20,
    "start_time": "2023-04-29T16:49:55.533Z"
   },
   {
    "duration": 20,
    "start_time": "2023-04-29T16:49:55.555Z"
   },
   {
    "duration": 52,
    "start_time": "2023-04-29T16:49:55.577Z"
   },
   {
    "duration": 190,
    "start_time": "2023-04-29T16:49:55.631Z"
   },
   {
    "duration": 109,
    "start_time": "2023-04-29T16:49:55.913Z"
   },
   {
    "duration": 88,
    "start_time": "2023-04-29T16:49:56.025Z"
   },
   {
    "duration": 92,
    "start_time": "2023-04-29T16:49:56.121Z"
   },
   {
    "duration": 8,
    "start_time": "2023-04-29T16:49:56.215Z"
   },
   {
    "duration": 4,
    "start_time": "2023-04-29T16:49:56.225Z"
   },
   {
    "duration": 4,
    "start_time": "2023-04-29T16:49:56.232Z"
   },
   {
    "duration": 10,
    "start_time": "2023-04-29T16:49:56.240Z"
   },
   {
    "duration": 9,
    "start_time": "2023-04-29T16:49:56.252Z"
   },
   {
    "duration": 8,
    "start_time": "2023-04-29T16:49:56.263Z"
   },
   {
    "duration": 1260,
    "start_time": "2023-04-29T16:49:56.312Z"
   },
   {
    "duration": 1176,
    "start_time": "2023-04-29T16:49:57.574Z"
   },
   {
    "duration": 1238,
    "start_time": "2023-04-29T16:49:58.752Z"
   },
   {
    "duration": 98,
    "start_time": "2023-04-29T16:55:47.931Z"
   },
   {
    "duration": 110,
    "start_time": "2023-04-29T16:56:11.561Z"
   },
   {
    "duration": 80,
    "start_time": "2023-04-29T16:56:22.881Z"
   },
   {
    "duration": 5,
    "start_time": "2023-04-29T16:56:30.302Z"
   },
   {
    "duration": 4,
    "start_time": "2023-04-29T16:56:50.351Z"
   },
   {
    "duration": 3,
    "start_time": "2023-04-29T16:57:00.901Z"
   },
   {
    "duration": 4,
    "start_time": "2023-04-29T16:57:15.551Z"
   },
   {
    "duration": 4,
    "start_time": "2023-04-29T16:57:19.801Z"
   },
   {
    "duration": 1171,
    "start_time": "2023-04-29T17:13:14.482Z"
   },
   {
    "duration": 157,
    "start_time": "2023-04-29T17:13:15.655Z"
   },
   {
    "duration": 5,
    "start_time": "2023-04-29T17:13:15.813Z"
   },
   {
    "duration": 23,
    "start_time": "2023-04-29T17:13:15.819Z"
   },
   {
    "duration": 135,
    "start_time": "2023-04-29T17:13:15.845Z"
   },
   {
    "duration": 4,
    "start_time": "2023-04-29T17:13:15.982Z"
   },
   {
    "duration": 6,
    "start_time": "2023-04-29T17:13:15.987Z"
   },
   {
    "duration": 151,
    "start_time": "2023-04-29T17:13:15.995Z"
   },
   {
    "duration": 4,
    "start_time": "2023-04-29T17:13:16.148Z"
   },
   {
    "duration": 6,
    "start_time": "2023-04-29T17:13:16.153Z"
   },
   {
    "duration": 14,
    "start_time": "2023-04-29T17:13:16.161Z"
   },
   {
    "duration": 10,
    "start_time": "2023-04-29T17:13:16.176Z"
   },
   {
    "duration": 48,
    "start_time": "2023-04-29T17:13:16.188Z"
   },
   {
    "duration": 48,
    "start_time": "2023-04-29T17:13:16.239Z"
   },
   {
    "duration": 49,
    "start_time": "2023-04-29T17:13:16.289Z"
   },
   {
    "duration": 49,
    "start_time": "2023-04-29T17:13:16.340Z"
   },
   {
    "duration": 30,
    "start_time": "2023-04-29T17:13:16.390Z"
   },
   {
    "duration": 18,
    "start_time": "2023-04-29T17:13:16.422Z"
   },
   {
    "duration": 20,
    "start_time": "2023-04-29T17:13:16.441Z"
   },
   {
    "duration": 55,
    "start_time": "2023-04-29T17:13:16.462Z"
   },
   {
    "duration": 17,
    "start_time": "2023-04-29T17:13:16.611Z"
   },
   {
    "duration": 190,
    "start_time": "2023-04-29T17:13:16.631Z"
   },
   {
    "duration": 91,
    "start_time": "2023-04-29T17:13:16.823Z"
   },
   {
    "duration": 102,
    "start_time": "2023-04-29T17:13:16.916Z"
   },
   {
    "duration": 35,
    "start_time": "2023-04-29T17:13:17.019Z"
   },
   {
    "duration": 5,
    "start_time": "2023-04-29T17:13:17.056Z"
   },
   {
    "duration": 4,
    "start_time": "2023-04-29T17:13:17.063Z"
   },
   {
    "duration": 9,
    "start_time": "2023-04-29T17:13:17.069Z"
   },
   {
    "duration": 8,
    "start_time": "2023-04-29T17:13:17.080Z"
   },
   {
    "duration": 9,
    "start_time": "2023-04-29T17:13:17.089Z"
   },
   {
    "duration": 1161,
    "start_time": "2023-04-29T17:13:17.100Z"
   },
   {
    "duration": 1231,
    "start_time": "2023-04-29T17:13:18.263Z"
   },
   {
    "duration": 1147,
    "start_time": "2023-04-29T17:13:19.495Z"
   },
   {
    "duration": 19,
    "start_time": "2023-04-29T17:17:00.750Z"
   },
   {
    "duration": 19,
    "start_time": "2023-04-29T17:17:21.005Z"
   },
   {
    "duration": 21,
    "start_time": "2023-04-29T17:17:30.209Z"
   },
   {
    "duration": 4,
    "start_time": "2023-04-29T17:19:12.630Z"
   },
   {
    "duration": 4,
    "start_time": "2023-04-29T17:22:19.190Z"
   },
   {
    "duration": 8,
    "start_time": "2023-04-29T17:22:22.505Z"
   },
   {
    "duration": 1175,
    "start_time": "2023-04-29T17:27:57.705Z"
   },
   {
    "duration": 1162,
    "start_time": "2023-04-29T17:28:01.307Z"
   },
   {
    "duration": 1200,
    "start_time": "2023-04-29T17:28:04.520Z"
   },
   {
    "duration": 1076,
    "start_time": "2023-04-29T17:30:17.231Z"
   },
   {
    "duration": 166,
    "start_time": "2023-04-29T17:30:18.309Z"
   },
   {
    "duration": 5,
    "start_time": "2023-04-29T17:30:18.477Z"
   },
   {
    "duration": 13,
    "start_time": "2023-04-29T17:30:18.484Z"
   },
   {
    "duration": 149,
    "start_time": "2023-04-29T17:30:18.499Z"
   },
   {
    "duration": 5,
    "start_time": "2023-04-29T17:30:18.650Z"
   },
   {
    "duration": 6,
    "start_time": "2023-04-29T17:30:18.657Z"
   },
   {
    "duration": 160,
    "start_time": "2023-04-29T17:30:18.664Z"
   },
   {
    "duration": 5,
    "start_time": "2023-04-29T17:30:18.826Z"
   },
   {
    "duration": 12,
    "start_time": "2023-04-29T17:30:18.833Z"
   },
   {
    "duration": 28,
    "start_time": "2023-04-29T17:30:18.848Z"
   },
   {
    "duration": 40,
    "start_time": "2023-04-29T17:30:18.878Z"
   },
   {
    "duration": 14,
    "start_time": "2023-04-29T17:30:18.920Z"
   },
   {
    "duration": 95,
    "start_time": "2023-04-29T17:30:18.938Z"
   },
   {
    "duration": 76,
    "start_time": "2023-04-29T17:30:19.035Z"
   },
   {
    "duration": 59,
    "start_time": "2023-04-29T17:30:19.114Z"
   },
   {
    "duration": 38,
    "start_time": "2023-04-29T17:30:19.175Z"
   },
   {
    "duration": 20,
    "start_time": "2023-04-29T17:30:19.215Z"
   },
   {
    "duration": 19,
    "start_time": "2023-04-29T17:30:19.236Z"
   },
   {
    "duration": 60,
    "start_time": "2023-04-29T17:30:19.257Z"
   },
   {
    "duration": 199,
    "start_time": "2023-04-29T17:30:19.319Z"
   },
   {
    "duration": 190,
    "start_time": "2023-04-29T17:30:19.521Z"
   },
   {
    "duration": 95,
    "start_time": "2023-04-29T17:30:19.716Z"
   },
   {
    "duration": 5,
    "start_time": "2023-04-29T17:30:19.813Z"
   },
   {
    "duration": 5,
    "start_time": "2023-04-29T17:30:19.820Z"
   },
   {
    "duration": 4,
    "start_time": "2023-04-29T17:30:19.827Z"
   },
   {
    "duration": 8,
    "start_time": "2023-04-29T17:30:19.833Z"
   },
   {
    "duration": 11,
    "start_time": "2023-04-29T17:30:19.843Z"
   },
   {
    "duration": 9,
    "start_time": "2023-04-29T17:30:19.856Z"
   },
   {
    "duration": 9,
    "start_time": "2023-04-29T17:30:19.911Z"
   },
   {
    "duration": 1254,
    "start_time": "2023-04-29T17:30:19.922Z"
   },
   {
    "duration": 1182,
    "start_time": "2023-04-29T17:30:21.177Z"
   },
   {
    "duration": 1237,
    "start_time": "2023-04-29T17:30:22.361Z"
   },
   {
    "duration": 1844,
    "start_time": "2023-04-29T18:09:16.989Z"
   },
   {
    "duration": 772,
    "start_time": "2023-04-29T18:09:18.834Z"
   },
   {
    "duration": 4,
    "start_time": "2023-04-29T18:09:19.608Z"
   },
   {
    "duration": 15,
    "start_time": "2023-04-29T18:09:19.614Z"
   },
   {
    "duration": 571,
    "start_time": "2023-04-29T18:09:19.630Z"
   },
   {
    "duration": 3,
    "start_time": "2023-04-29T18:09:20.203Z"
   },
   {
    "duration": 9,
    "start_time": "2023-04-29T18:09:20.207Z"
   },
   {
    "duration": 549,
    "start_time": "2023-04-29T18:09:20.217Z"
   },
   {
    "duration": 3,
    "start_time": "2023-04-29T18:09:20.768Z"
   },
   {
    "duration": 7,
    "start_time": "2023-04-29T18:09:20.773Z"
   },
   {
    "duration": 13,
    "start_time": "2023-04-29T18:09:20.781Z"
   },
   {
    "duration": 9,
    "start_time": "2023-04-29T18:09:20.795Z"
   },
   {
    "duration": 10,
    "start_time": "2023-04-29T18:09:20.805Z"
   },
   {
    "duration": 46,
    "start_time": "2023-04-29T18:09:20.817Z"
   },
   {
    "duration": 68,
    "start_time": "2023-04-29T18:09:20.865Z"
   },
   {
    "duration": 59,
    "start_time": "2023-04-29T18:09:20.934Z"
   },
   {
    "duration": 15,
    "start_time": "2023-04-29T18:09:20.995Z"
   },
   {
    "duration": 18,
    "start_time": "2023-04-29T18:09:21.012Z"
   },
   {
    "duration": 33,
    "start_time": "2023-04-29T18:09:21.032Z"
   },
   {
    "duration": 34,
    "start_time": "2023-04-29T18:09:21.066Z"
   },
   {
    "duration": 196,
    "start_time": "2023-04-29T18:09:21.102Z"
   },
   {
    "duration": 108,
    "start_time": "2023-04-29T18:09:21.300Z"
   },
   {
    "duration": 83,
    "start_time": "2023-04-29T18:09:21.410Z"
   },
   {
    "duration": 5,
    "start_time": "2023-04-29T18:09:21.495Z"
   },
   {
    "duration": 92,
    "start_time": "2023-04-29T18:09:21.502Z"
   },
   {
    "duration": 11,
    "start_time": "2023-04-29T18:09:21.596Z"
   },
   {
    "duration": 12,
    "start_time": "2023-04-29T18:09:21.608Z"
   },
   {
    "duration": 10,
    "start_time": "2023-04-29T18:09:21.624Z"
   },
   {
    "duration": 9,
    "start_time": "2023-04-29T18:09:21.635Z"
   },
   {
    "duration": 8,
    "start_time": "2023-04-29T18:09:21.645Z"
   },
   {
    "duration": 1222,
    "start_time": "2023-04-29T18:09:21.655Z"
   },
   {
    "duration": 1136,
    "start_time": "2023-04-29T18:09:22.879Z"
   },
   {
    "duration": 1137,
    "start_time": "2023-04-29T18:09:24.017Z"
   },
   {
    "duration": 5,
    "start_time": "2023-04-29T18:33:14.399Z"
   },
   {
    "duration": 4,
    "start_time": "2023-04-29T18:33:23.549Z"
   },
   {
    "duration": 6,
    "start_time": "2023-04-29T18:33:26.649Z"
   },
   {
    "duration": 6,
    "start_time": "2023-04-29T18:33:29.780Z"
   },
   {
    "duration": 6,
    "start_time": "2023-04-29T18:34:23.169Z"
   },
   {
    "duration": 23,
    "start_time": "2023-04-29T18:34:24.544Z"
   },
   {
    "duration": 10,
    "start_time": "2023-04-29T18:34:25.931Z"
   },
   {
    "duration": 1796,
    "start_time": "2023-04-29T19:07:53.950Z"
   },
   {
    "duration": 296,
    "start_time": "2023-04-29T19:07:55.748Z"
   },
   {
    "duration": 9,
    "start_time": "2023-04-29T19:07:56.055Z"
   },
   {
    "duration": 13,
    "start_time": "2023-04-29T19:07:56.071Z"
   },
   {
    "duration": 258,
    "start_time": "2023-04-29T19:07:56.091Z"
   },
   {
    "duration": 10,
    "start_time": "2023-04-29T19:07:56.356Z"
   },
   {
    "duration": 17,
    "start_time": "2023-04-29T19:07:56.376Z"
   },
   {
    "duration": 256,
    "start_time": "2023-04-29T19:07:56.397Z"
   },
   {
    "duration": 22,
    "start_time": "2023-04-29T19:07:56.664Z"
   },
   {
    "duration": 17,
    "start_time": "2023-04-29T19:07:56.690Z"
   },
   {
    "duration": 42,
    "start_time": "2023-04-29T19:07:56.708Z"
   },
   {
    "duration": 49,
    "start_time": "2023-04-29T19:07:56.755Z"
   },
   {
    "duration": 43,
    "start_time": "2023-04-29T19:07:56.821Z"
   },
   {
    "duration": 111,
    "start_time": "2023-04-29T19:07:56.870Z"
   },
   {
    "duration": 105,
    "start_time": "2023-04-29T19:07:56.988Z"
   },
   {
    "duration": 97,
    "start_time": "2023-04-29T19:07:57.101Z"
   },
   {
    "duration": 28,
    "start_time": "2023-04-29T19:07:57.205Z"
   },
   {
    "duration": 30,
    "start_time": "2023-04-29T19:07:57.240Z"
   },
   {
    "duration": 31,
    "start_time": "2023-04-29T19:07:57.277Z"
   },
   {
    "duration": 88,
    "start_time": "2023-04-29T19:07:57.311Z"
   },
   {
    "duration": 138,
    "start_time": "2023-04-29T19:07:57.416Z"
   },
   {
    "duration": 150,
    "start_time": "2023-04-29T19:07:57.564Z"
   },
   {
    "duration": 5,
    "start_time": "2023-04-29T19:07:57.720Z"
   },
   {
    "duration": 49,
    "start_time": "2023-04-29T19:07:57.727Z"
   },
   {
    "duration": 38,
    "start_time": "2023-04-29T19:07:57.778Z"
   },
   {
    "duration": 24,
    "start_time": "2023-04-29T19:07:57.819Z"
   },
   {
    "duration": 15,
    "start_time": "2023-04-29T19:07:57.845Z"
   },
   {
    "duration": 1835,
    "start_time": "2023-04-29T19:07:57.864Z"
   },
   {
    "duration": 1834,
    "start_time": "2023-04-29T19:07:59.701Z"
   },
   {
    "duration": 1928,
    "start_time": "2023-04-29T19:08:01.537Z"
   },
   {
    "duration": 1498,
    "start_time": "2023-04-29T19:16:32.980Z"
   },
   {
    "duration": 262,
    "start_time": "2023-04-29T19:16:34.481Z"
   },
   {
    "duration": 6,
    "start_time": "2023-04-29T19:16:34.750Z"
   },
   {
    "duration": 27,
    "start_time": "2023-04-29T19:16:34.758Z"
   },
   {
    "duration": 210,
    "start_time": "2023-04-29T19:16:34.787Z"
   },
   {
    "duration": 5,
    "start_time": "2023-04-29T19:16:34.998Z"
   },
   {
    "duration": 6,
    "start_time": "2023-04-29T19:16:35.011Z"
   },
   {
    "duration": 230,
    "start_time": "2023-04-29T19:16:35.019Z"
   },
   {
    "duration": 6,
    "start_time": "2023-04-29T19:16:35.252Z"
   },
   {
    "duration": 17,
    "start_time": "2023-04-29T19:16:35.261Z"
   },
   {
    "duration": 19,
    "start_time": "2023-04-29T19:16:35.280Z"
   },
   {
    "duration": 30,
    "start_time": "2023-04-29T19:16:35.301Z"
   },
   {
    "duration": 23,
    "start_time": "2023-04-29T19:16:35.333Z"
   },
   {
    "duration": 80,
    "start_time": "2023-04-29T19:16:35.360Z"
   },
   {
    "duration": 69,
    "start_time": "2023-04-29T19:16:35.442Z"
   },
   {
    "duration": 79,
    "start_time": "2023-04-29T19:16:35.515Z"
   },
   {
    "duration": 37,
    "start_time": "2023-04-29T19:16:35.596Z"
   },
   {
    "duration": 29,
    "start_time": "2023-04-29T19:16:35.639Z"
   },
   {
    "duration": 25,
    "start_time": "2023-04-29T19:16:35.670Z"
   },
   {
    "duration": 46,
    "start_time": "2023-04-29T19:16:35.697Z"
   },
   {
    "duration": 118,
    "start_time": "2023-04-29T19:16:35.745Z"
   },
   {
    "duration": 148,
    "start_time": "2023-04-29T19:16:35.879Z"
   },
   {
    "duration": 24,
    "start_time": "2023-04-29T19:16:36.034Z"
   },
   {
    "duration": 37,
    "start_time": "2023-04-29T19:16:36.083Z"
   },
   {
    "duration": 29,
    "start_time": "2023-04-29T19:16:36.130Z"
   },
   {
    "duration": 20,
    "start_time": "2023-04-29T19:16:36.162Z"
   },
   {
    "duration": 11,
    "start_time": "2023-04-29T19:16:36.184Z"
   },
   {
    "duration": 1493,
    "start_time": "2023-04-29T19:16:36.197Z"
   },
   {
    "duration": 1505,
    "start_time": "2023-04-29T19:16:37.692Z"
   },
   {
    "duration": 1711,
    "start_time": "2023-04-29T19:16:39.201Z"
   },
   {
    "duration": 95,
    "start_time": "2023-04-29T19:39:04.756Z"
   },
   {
    "duration": 2484,
    "start_time": "2023-04-29T19:39:14.889Z"
   },
   {
    "duration": 1312,
    "start_time": "2023-04-29T19:39:17.376Z"
   },
   {
    "duration": 6,
    "start_time": "2023-04-29T19:39:18.690Z"
   },
   {
    "duration": 43,
    "start_time": "2023-04-29T19:39:18.699Z"
   },
   {
    "duration": 957,
    "start_time": "2023-04-29T19:39:18.744Z"
   },
   {
    "duration": 5,
    "start_time": "2023-04-29T19:39:19.703Z"
   },
   {
    "duration": 16,
    "start_time": "2023-04-29T19:39:19.710Z"
   },
   {
    "duration": 796,
    "start_time": "2023-04-29T19:39:19.728Z"
   },
   {
    "duration": 6,
    "start_time": "2023-04-29T19:39:20.527Z"
   },
   {
    "duration": 11,
    "start_time": "2023-04-29T19:39:20.539Z"
   },
   {
    "duration": 28,
    "start_time": "2023-04-29T19:39:20.552Z"
   },
   {
    "duration": 15,
    "start_time": "2023-04-29T19:39:20.582Z"
   },
   {
    "duration": 56,
    "start_time": "2023-04-29T19:39:20.599Z"
   },
   {
    "duration": 70,
    "start_time": "2023-04-29T19:39:20.668Z"
   },
   {
    "duration": 64,
    "start_time": "2023-04-29T19:39:20.740Z"
   },
   {
    "duration": 73,
    "start_time": "2023-04-29T19:39:20.806Z"
   },
   {
    "duration": 25,
    "start_time": "2023-04-29T19:39:20.883Z"
   },
   {
    "duration": 41,
    "start_time": "2023-04-29T19:39:20.916Z"
   },
   {
    "duration": 38,
    "start_time": "2023-04-29T19:39:20.959Z"
   },
   {
    "duration": 91,
    "start_time": "2023-04-29T19:39:20.999Z"
   },
   {
    "duration": 54,
    "start_time": "2023-04-29T19:39:21.114Z"
   },
   {
    "duration": 104,
    "start_time": "2023-04-29T19:39:21.218Z"
   },
   {
    "duration": 11,
    "start_time": "2023-04-29T19:39:21.328Z"
   },
   {
    "duration": 10,
    "start_time": "2023-04-29T19:39:21.346Z"
   },
   {
    "duration": 53,
    "start_time": "2023-04-29T19:39:21.359Z"
   },
   {
    "duration": 20,
    "start_time": "2023-04-29T19:39:21.414Z"
   },
   {
    "duration": 33,
    "start_time": "2023-04-29T19:39:21.438Z"
   },
   {
    "duration": 1545,
    "start_time": "2023-04-29T19:39:21.477Z"
   },
   {
    "duration": 11,
    "start_time": "2023-04-29T19:39:23.024Z"
   },
   {
    "duration": 1484,
    "start_time": "2023-04-29T19:39:23.040Z"
   },
   {
    "duration": 1459,
    "start_time": "2023-04-29T19:39:24.526Z"
   },
   {
    "duration": 9,
    "start_time": "2023-04-29T19:41:41.860Z"
   }
  ],
  "kernelspec": {
   "display_name": "Python 3 (ipykernel)",
   "language": "python",
   "name": "python3"
  },
  "language_info": {
   "codemirror_mode": {
    "name": "ipython",
    "version": 3
   },
   "file_extension": ".py",
   "mimetype": "text/x-python",
   "name": "python",
   "nbconvert_exporter": "python",
   "pygments_lexer": "ipython3",
   "version": "3.9.13"
  },
  "toc": {
   "base_numbering": 1,
   "nav_menu": {},
   "number_sections": true,
   "sideBar": true,
   "skip_h1_title": true,
   "title_cell": "Table of Contents",
   "title_sidebar": "Contents",
   "toc_cell": false,
   "toc_position": {},
   "toc_section_display": true,
   "toc_window_display": true
  }
 },
 "nbformat": 4,
 "nbformat_minor": 2
}
