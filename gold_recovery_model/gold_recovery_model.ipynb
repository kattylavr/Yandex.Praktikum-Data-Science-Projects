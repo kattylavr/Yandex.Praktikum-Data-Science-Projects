{
 "cells": [
  {
   "cell_type": "markdown",
   "metadata": {},
   "source": [
    "# Восстановление золота из руды"
   ]
  },
  {
   "cell_type": "markdown",
   "metadata": {},
   "source": [
    "**Цель исследования** — подготовить прототип модели машинного обучения для «Цифры». Модель должна предсказать коэффициент восстановления золота из золотосодержащей руды.\n",
    "<br>\n",
    "<br>\n",
    "**Ход исследования:**\n",
    "1. Подготовка данных;<br>\n",
    "2. Исследовательский анализ данных;<br>\n",
    "3. Построение и обучение моделей.<br>\n",
    "4. Выбор лучшей модели и ее проверка на тестовой выборке.<br>\n",
    "<br>\n",
    "**Данные находятся в трёх файлах:**<br>\n",
    "\n",
    "gold_industry_train.csv — обучающая выборка;<br>\n",
    "gold_industry_test.csv — тестовая выборка;<br>\n",
    "gold_industry_full.csv — исходные данные.<br>\n",
    "<br>\n",
    "\n",
    "**Описание данных:**<br>\n",
    "\n",
    "**Технологический процесс:**<br>\n",
    "Rougher feed — исходное сырье<br>\n",
    "Rougher additions (или reagent additions) — флотационные реагенты: Xanthate, Sulphate, Depressant<br>\n",
    "Xanthate — ксантогенат (промотер, или активатор флотации);<br>\n",
    "Sulphate — сульфат (на данном производстве сульфид натрия);<br>\n",
    "Depressant — депрессант (силикат натрия).<br>\n",
    "Rougher process (англ. «грубый процесс») — флотация<br>\n",
    "Rougher tails — отвальные хвосты<br>\n",
    "Float banks — флотационная установка<br>\n",
    "Cleaner process — очистка<br>\n",
    "Rougher Au — черновой концентрат золота<br>\n",
    "Final Au — финальный концентрат золота<br>\n",
    "\n",
    "**Параметры этапов:**<br>\n",
    "air amount — объём воздуха<br>\n",
    "fluid levels — уровень жидкости<br>\n",
    "feed size — размер гранул сырья<br>\n",
    "feed rate — скорость подачи<br>\n",
    "<br>\n",
    "**Наименование признаков:**<br>\n",
    "[этап].[тип_параметра].[название_параметра]<br>\n",
    "Пример: rougher.input.feed_ag<br>\n",
    "Возможные значения для блока [этап]:<br>\n",
    "rougher — флотация<br>\n",
    "primary_cleaner — первичная очистка<br>\n",
    "secondary_cleaner — вторичная очистка<br>\n",
    "final — финальные характеристики<br>\n",
    "Возможные значения для блока [тип_параметра]:<br>\n",
    "input — параметры сырья<br>\n",
    "output — параметры продукта<br>\n",
    "state — параметры, характеризующие текущее состояние этапа<br>\n",
    "calculation — расчётные характеристики<br>"
   ]
  },
  {
   "cell_type": "markdown",
   "metadata": {},
   "source": [
    "## Импорт библиотек"
   ]
  },
  {
   "cell_type": "code",
   "execution_count": 1,
   "metadata": {
    "scrolled": false
   },
   "outputs": [],
   "source": [
    "import pandas as pd\n",
    "import matplotlib.pyplot as plt\n",
    "import numpy as np\n",
    "import seaborn as sns\n",
    "\n",
    "from sklearn.metrics import mean_absolute_error\n",
    "from sklearn.metrics import make_scorer\n",
    "\n",
    "from sklearn.tree import DecisionTreeRegressor\n",
    "from sklearn.ensemble import RandomForestRegressor\n",
    "from sklearn.linear_model import LinearRegression\n",
    "\n",
    "from sklearn.model_selection import cross_val_score\n",
    "\n",
    "from sklearn.dummy import DummyRegressor\n",
    "from sklearn.preprocessing import StandardScaler"
   ]
  },
  {
   "cell_type": "markdown",
   "metadata": {},
   "source": [
    "## Подготовка данных"
   ]
  },
  {
   "cell_type": "markdown",
   "metadata": {},
   "source": [
    "### Чтение файлов и их изучение"
   ]
  },
  {
   "cell_type": "markdown",
   "metadata": {},
   "source": [
    "Сохранение файлов в переменных:"
   ]
  },
  {
   "cell_type": "code",
   "execution_count": 2,
   "metadata": {
    "scrolled": false
   },
   "outputs": [],
   "source": [
    "train = pd.read_csv('/datasets/gold_industry_train.csv')\n",
    "test = pd.read_csv('/datasets/gold_industry_test.csv')\n",
    "data = pd.read_csv('/datasets/gold_industry_full.csv')"
   ]
  },
  {
   "cell_type": "markdown",
   "metadata": {},
   "source": [
    "Настройка для отображения всех колонок и строк:"
   ]
  },
  {
   "cell_type": "code",
   "execution_count": 3,
   "metadata": {
    "scrolled": false
   },
   "outputs": [],
   "source": [
    "pd.set_option('display.max_columns', None)\n",
    "pd.set_option('display.max_rows', None)"
   ]
  },
  {
   "cell_type": "markdown",
   "metadata": {},
   "source": [
    "Функция для первичного изучения файлов:"
   ]
  },
  {
   "cell_type": "code",
   "execution_count": 4,
   "metadata": {
    "scrolled": false
   },
   "outputs": [],
   "source": [
    "def learn_data(data):\n",
    "    print('---------------------------------------HEAD---------------------------------------------------------')\n",
    "    display(data.head())\n",
    "    print('--------------------------------------------SHAPE---------------------------------------------------')\n",
    "    display(data.shape)\n",
    "    print('-----------------------------------------DTYPES-----------------------------------------------------')\n",
    "    display(data.dtypes)\n",
    "    print('--------------------------------------------NAN-----------------------------------------------------')\n",
    "    display(data.isna().sum()) \n",
    "    print('----------------------------------------DUPLICATES--------------------------------------------------')\n",
    "    print(data.duplicated().sum())"
   ]
  },
  {
   "cell_type": "markdown",
   "metadata": {},
   "source": [
    "Изучение переменной train:"
   ]
  },
  {
   "cell_type": "code",
   "execution_count": 5,
   "metadata": {
    "scrolled": true
   },
   "outputs": [
    {
     "name": "stdout",
     "output_type": "stream",
     "text": [
      "---------------------------------------HEAD---------------------------------------------------------\n"
     ]
    },
    {
     "data": {
      "text/html": [
       "<div>\n",
       "<style scoped>\n",
       "    .dataframe tbody tr th:only-of-type {\n",
       "        vertical-align: middle;\n",
       "    }\n",
       "\n",
       "    .dataframe tbody tr th {\n",
       "        vertical-align: top;\n",
       "    }\n",
       "\n",
       "    .dataframe thead th {\n",
       "        text-align: right;\n",
       "    }\n",
       "</style>\n",
       "<table border=\"1\" class=\"dataframe\">\n",
       "  <thead>\n",
       "    <tr style=\"text-align: right;\">\n",
       "      <th></th>\n",
       "      <th>date</th>\n",
       "      <th>rougher.input.feed_au</th>\n",
       "      <th>rougher.input.feed_ag</th>\n",
       "      <th>rougher.input.feed_pb</th>\n",
       "      <th>rougher.input.feed_sol</th>\n",
       "      <th>rougher.input.feed_rate</th>\n",
       "      <th>rougher.input.feed_size</th>\n",
       "      <th>rougher.input.floatbank10_sulfate</th>\n",
       "      <th>rougher.input.floatbank10_xanthate</th>\n",
       "      <th>rougher.state.floatbank10_a_air</th>\n",
       "      <th>rougher.state.floatbank10_a_level</th>\n",
       "      <th>rougher.state.floatbank10_b_air</th>\n",
       "      <th>rougher.state.floatbank10_b_level</th>\n",
       "      <th>rougher.state.floatbank10_c_air</th>\n",
       "      <th>rougher.state.floatbank10_c_level</th>\n",
       "      <th>rougher.state.floatbank10_d_air</th>\n",
       "      <th>rougher.state.floatbank10_d_level</th>\n",
       "      <th>rougher.state.floatbank10_e_air</th>\n",
       "      <th>rougher.state.floatbank10_e_level</th>\n",
       "      <th>rougher.state.floatbank10_f_air</th>\n",
       "      <th>rougher.state.floatbank10_f_level</th>\n",
       "      <th>rougher.input.floatbank11_sulfate</th>\n",
       "      <th>rougher.input.floatbank11_xanthate</th>\n",
       "      <th>rougher.calculation.sulfate_to_au_concentrate</th>\n",
       "      <th>rougher.calculation.floatbank10_sulfate_to_au_feed</th>\n",
       "      <th>rougher.calculation.floatbank11_sulfate_to_au_feed</th>\n",
       "      <th>rougher.calculation.au_pb_ratio</th>\n",
       "      <th>rougher.output.concentrate_au</th>\n",
       "      <th>rougher.output.concentrate_ag</th>\n",
       "      <th>rougher.output.concentrate_pb</th>\n",
       "      <th>rougher.output.concentrate_sol</th>\n",
       "      <th>rougher.output.recovery</th>\n",
       "      <th>rougher.output.tail_au</th>\n",
       "      <th>rougher.output.tail_ag</th>\n",
       "      <th>rougher.output.tail_pb</th>\n",
       "      <th>rougher.output.tail_sol</th>\n",
       "      <th>primary_cleaner.input.sulfate</th>\n",
       "      <th>primary_cleaner.input.depressant</th>\n",
       "      <th>primary_cleaner.input.feed_size</th>\n",
       "      <th>primary_cleaner.input.xanthate</th>\n",
       "      <th>primary_cleaner.state.floatbank8_a_air</th>\n",
       "      <th>primary_cleaner.state.floatbank8_a_level</th>\n",
       "      <th>primary_cleaner.state.floatbank8_b_air</th>\n",
       "      <th>primary_cleaner.state.floatbank8_b_level</th>\n",
       "      <th>primary_cleaner.state.floatbank8_c_air</th>\n",
       "      <th>primary_cleaner.state.floatbank8_c_level</th>\n",
       "      <th>primary_cleaner.state.floatbank8_d_air</th>\n",
       "      <th>primary_cleaner.state.floatbank8_d_level</th>\n",
       "      <th>primary_cleaner.output.concentrate_au</th>\n",
       "      <th>primary_cleaner.output.concentrate_ag</th>\n",
       "      <th>primary_cleaner.output.concentrate_pb</th>\n",
       "      <th>primary_cleaner.output.concentrate_sol</th>\n",
       "      <th>primary_cleaner.output.tail_au</th>\n",
       "      <th>primary_cleaner.output.tail_ag</th>\n",
       "      <th>primary_cleaner.output.tail_pb</th>\n",
       "      <th>primary_cleaner.output.tail_sol</th>\n",
       "      <th>secondary_cleaner.state.floatbank2_a_air</th>\n",
       "      <th>secondary_cleaner.state.floatbank2_a_level</th>\n",
       "      <th>secondary_cleaner.state.floatbank2_b_air</th>\n",
       "      <th>secondary_cleaner.state.floatbank2_b_level</th>\n",
       "      <th>secondary_cleaner.state.floatbank3_a_air</th>\n",
       "      <th>secondary_cleaner.state.floatbank3_a_level</th>\n",
       "      <th>secondary_cleaner.state.floatbank3_b_air</th>\n",
       "      <th>secondary_cleaner.state.floatbank3_b_level</th>\n",
       "      <th>secondary_cleaner.state.floatbank4_a_air</th>\n",
       "      <th>secondary_cleaner.state.floatbank4_a_level</th>\n",
       "      <th>secondary_cleaner.state.floatbank4_b_air</th>\n",
       "      <th>secondary_cleaner.state.floatbank4_b_level</th>\n",
       "      <th>secondary_cleaner.state.floatbank5_a_air</th>\n",
       "      <th>secondary_cleaner.state.floatbank5_a_level</th>\n",
       "      <th>secondary_cleaner.state.floatbank5_b_air</th>\n",
       "      <th>secondary_cleaner.state.floatbank5_b_level</th>\n",
       "      <th>secondary_cleaner.state.floatbank6_a_air</th>\n",
       "      <th>secondary_cleaner.state.floatbank6_a_level</th>\n",
       "      <th>secondary_cleaner.output.tail_au</th>\n",
       "      <th>secondary_cleaner.output.tail_ag</th>\n",
       "      <th>secondary_cleaner.output.tail_pb</th>\n",
       "      <th>secondary_cleaner.output.tail_sol</th>\n",
       "      <th>final.output.concentrate_au</th>\n",
       "      <th>final.output.concentrate_ag</th>\n",
       "      <th>final.output.concentrate_pb</th>\n",
       "      <th>final.output.concentrate_sol</th>\n",
       "      <th>final.output.recovery</th>\n",
       "      <th>final.output.tail_au</th>\n",
       "      <th>final.output.tail_ag</th>\n",
       "      <th>final.output.tail_pb</th>\n",
       "      <th>final.output.tail_sol</th>\n",
       "    </tr>\n",
       "  </thead>\n",
       "  <tbody>\n",
       "    <tr>\n",
       "      <th>0</th>\n",
       "      <td>2016-01-15 00:00:00</td>\n",
       "      <td>6.486150</td>\n",
       "      <td>6.100378</td>\n",
       "      <td>2.284912</td>\n",
       "      <td>36.808594</td>\n",
       "      <td>523.546326</td>\n",
       "      <td>55.486599</td>\n",
       "      <td>11.986616</td>\n",
       "      <td>6.007990</td>\n",
       "      <td>999.706909</td>\n",
       "      <td>-404.066986</td>\n",
       "      <td>1603.011353</td>\n",
       "      <td>-434.715027</td>\n",
       "      <td>1602.375000</td>\n",
       "      <td>-442.204468</td>\n",
       "      <td>1598.937256</td>\n",
       "      <td>-451.294128</td>\n",
       "      <td>1404.472046</td>\n",
       "      <td>-455.462982</td>\n",
       "      <td>1416.354980</td>\n",
       "      <td>-451.939636</td>\n",
       "      <td>11.836743</td>\n",
       "      <td>6.005818</td>\n",
       "      <td>41885.707031</td>\n",
       "      <td>3481.779053</td>\n",
       "      <td>3520.337158</td>\n",
       "      <td>2.838687</td>\n",
       "      <td>19.793808</td>\n",
       "      <td>11.500771</td>\n",
       "      <td>7.101074</td>\n",
       "      <td>28.029297</td>\n",
       "      <td>87.107763</td>\n",
       "      <td>1.170244</td>\n",
       "      <td>5.008018</td>\n",
       "      <td>0.508728</td>\n",
       "      <td>19.154297</td>\n",
       "      <td>127.092003</td>\n",
       "      <td>10.128295</td>\n",
       "      <td>7.25</td>\n",
       "      <td>0.988759</td>\n",
       "      <td>1549.775757</td>\n",
       "      <td>-498.912140</td>\n",
       "      <td>1551.434204</td>\n",
       "      <td>-516.403442</td>\n",
       "      <td>1549.873901</td>\n",
       "      <td>-498.666595</td>\n",
       "      <td>1554.367432</td>\n",
       "      <td>-493.428131</td>\n",
       "      <td>34.174427</td>\n",
       "      <td>8.547551</td>\n",
       "      <td>10.389648</td>\n",
       "      <td>19.529297</td>\n",
       "      <td>2.106679</td>\n",
       "      <td>14.936526</td>\n",
       "      <td>2.534912</td>\n",
       "      <td>7.476074</td>\n",
       "      <td>25.853109</td>\n",
       "      <td>-498.526489</td>\n",
       "      <td>23.893660</td>\n",
       "      <td>-501.406281</td>\n",
       "      <td>23.961798</td>\n",
       "      <td>-495.262817</td>\n",
       "      <td>21.940409</td>\n",
       "      <td>-499.340973</td>\n",
       "      <td>14.016835</td>\n",
       "      <td>-502.488007</td>\n",
       "      <td>12.099931</td>\n",
       "      <td>-504.715942</td>\n",
       "      <td>9.925633</td>\n",
       "      <td>-498.310211</td>\n",
       "      <td>8.079666</td>\n",
       "      <td>-500.470978</td>\n",
       "      <td>14.151341</td>\n",
       "      <td>-605.841980</td>\n",
       "      <td>2.606185</td>\n",
       "      <td>14.500184</td>\n",
       "      <td>4.694824</td>\n",
       "      <td>8.764648</td>\n",
       "      <td>42.192020</td>\n",
       "      <td>6.055403</td>\n",
       "      <td>9.889648</td>\n",
       "      <td>5.507324</td>\n",
       "      <td>70.541216</td>\n",
       "      <td>2.143149</td>\n",
       "      <td>10.411962</td>\n",
       "      <td>0.895447</td>\n",
       "      <td>16.904297</td>\n",
       "    </tr>\n",
       "    <tr>\n",
       "      <th>1</th>\n",
       "      <td>2016-01-15 01:00:00</td>\n",
       "      <td>6.478583</td>\n",
       "      <td>6.161113</td>\n",
       "      <td>2.266033</td>\n",
       "      <td>35.753385</td>\n",
       "      <td>525.290581</td>\n",
       "      <td>57.278666</td>\n",
       "      <td>11.971193</td>\n",
       "      <td>6.005766</td>\n",
       "      <td>1000.286398</td>\n",
       "      <td>-400.065196</td>\n",
       "      <td>1600.754587</td>\n",
       "      <td>-449.953435</td>\n",
       "      <td>1600.479580</td>\n",
       "      <td>-449.830646</td>\n",
       "      <td>1600.527589</td>\n",
       "      <td>-449.953649</td>\n",
       "      <td>1399.227084</td>\n",
       "      <td>-450.869848</td>\n",
       "      <td>1399.719514</td>\n",
       "      <td>-450.119001</td>\n",
       "      <td>11.996163</td>\n",
       "      <td>6.012594</td>\n",
       "      <td>42050.861809</td>\n",
       "      <td>3498.370979</td>\n",
       "      <td>3489.981857</td>\n",
       "      <td>2.858998</td>\n",
       "      <td>20.050975</td>\n",
       "      <td>11.615865</td>\n",
       "      <td>7.278807</td>\n",
       "      <td>28.067063</td>\n",
       "      <td>86.843261</td>\n",
       "      <td>1.184827</td>\n",
       "      <td>4.955378</td>\n",
       "      <td>0.536689</td>\n",
       "      <td>18.965234</td>\n",
       "      <td>125.629232</td>\n",
       "      <td>10.296251</td>\n",
       "      <td>7.25</td>\n",
       "      <td>1.002663</td>\n",
       "      <td>1576.166671</td>\n",
       "      <td>-500.904965</td>\n",
       "      <td>1575.950626</td>\n",
       "      <td>-499.865889</td>\n",
       "      <td>1575.994189</td>\n",
       "      <td>-499.315107</td>\n",
       "      <td>1574.479259</td>\n",
       "      <td>-498.931665</td>\n",
       "      <td>34.118526</td>\n",
       "      <td>8.558743</td>\n",
       "      <td>10.497069</td>\n",
       "      <td>19.369147</td>\n",
       "      <td>2.353017</td>\n",
       "      <td>16.250511</td>\n",
       "      <td>3.049646</td>\n",
       "      <td>6.733907</td>\n",
       "      <td>25.880539</td>\n",
       "      <td>-499.989656</td>\n",
       "      <td>23.889530</td>\n",
       "      <td>-500.372428</td>\n",
       "      <td>23.970550</td>\n",
       "      <td>-500.085473</td>\n",
       "      <td>22.085714</td>\n",
       "      <td>-499.446897</td>\n",
       "      <td>13.992281</td>\n",
       "      <td>-505.503262</td>\n",
       "      <td>11.950531</td>\n",
       "      <td>-501.331529</td>\n",
       "      <td>10.039245</td>\n",
       "      <td>-500.169983</td>\n",
       "      <td>7.984757</td>\n",
       "      <td>-500.582168</td>\n",
       "      <td>13.998353</td>\n",
       "      <td>-599.787184</td>\n",
       "      <td>2.488248</td>\n",
       "      <td>14.265474</td>\n",
       "      <td>4.592547</td>\n",
       "      <td>9.001494</td>\n",
       "      <td>42.701629</td>\n",
       "      <td>6.029369</td>\n",
       "      <td>9.968944</td>\n",
       "      <td>5.257781</td>\n",
       "      <td>69.266198</td>\n",
       "      <td>2.224930</td>\n",
       "      <td>10.462676</td>\n",
       "      <td>0.927452</td>\n",
       "      <td>16.634514</td>\n",
       "    </tr>\n",
       "    <tr>\n",
       "      <th>2</th>\n",
       "      <td>2016-01-15 02:00:00</td>\n",
       "      <td>6.362222</td>\n",
       "      <td>6.116455</td>\n",
       "      <td>2.159622</td>\n",
       "      <td>35.971630</td>\n",
       "      <td>530.026610</td>\n",
       "      <td>57.510649</td>\n",
       "      <td>11.920603</td>\n",
       "      <td>6.197377</td>\n",
       "      <td>999.719565</td>\n",
       "      <td>-400.074028</td>\n",
       "      <td>1599.337330</td>\n",
       "      <td>-450.008530</td>\n",
       "      <td>1599.672797</td>\n",
       "      <td>-449.954491</td>\n",
       "      <td>1599.849325</td>\n",
       "      <td>-449.954185</td>\n",
       "      <td>1399.180945</td>\n",
       "      <td>-449.937588</td>\n",
       "      <td>1400.316682</td>\n",
       "      <td>-450.527147</td>\n",
       "      <td>11.920305</td>\n",
       "      <td>6.204633</td>\n",
       "      <td>42018.101184</td>\n",
       "      <td>3495.348910</td>\n",
       "      <td>3502.359819</td>\n",
       "      <td>2.945989</td>\n",
       "      <td>19.737170</td>\n",
       "      <td>11.695753</td>\n",
       "      <td>7.216833</td>\n",
       "      <td>27.454037</td>\n",
       "      <td>86.842308</td>\n",
       "      <td>1.162562</td>\n",
       "      <td>4.843460</td>\n",
       "      <td>0.546416</td>\n",
       "      <td>18.808533</td>\n",
       "      <td>123.819808</td>\n",
       "      <td>11.316280</td>\n",
       "      <td>7.25</td>\n",
       "      <td>0.991265</td>\n",
       "      <td>1601.556163</td>\n",
       "      <td>-499.997791</td>\n",
       "      <td>1600.386685</td>\n",
       "      <td>-500.607762</td>\n",
       "      <td>1602.003542</td>\n",
       "      <td>-500.870069</td>\n",
       "      <td>1599.541515</td>\n",
       "      <td>-499.827444</td>\n",
       "      <td>33.969464</td>\n",
       "      <td>8.603505</td>\n",
       "      <td>10.354494</td>\n",
       "      <td>19.167579</td>\n",
       "      <td>2.416800</td>\n",
       "      <td>16.491823</td>\n",
       "      <td>3.124664</td>\n",
       "      <td>6.471768</td>\n",
       "      <td>26.005245</td>\n",
       "      <td>-499.929616</td>\n",
       "      <td>23.886657</td>\n",
       "      <td>-499.951928</td>\n",
       "      <td>23.913535</td>\n",
       "      <td>-499.442343</td>\n",
       "      <td>23.957717</td>\n",
       "      <td>-499.901982</td>\n",
       "      <td>14.015015</td>\n",
       "      <td>-502.520901</td>\n",
       "      <td>11.912783</td>\n",
       "      <td>-501.133383</td>\n",
       "      <td>10.070913</td>\n",
       "      <td>-500.129135</td>\n",
       "      <td>8.013877</td>\n",
       "      <td>-500.517572</td>\n",
       "      <td>14.028663</td>\n",
       "      <td>-601.427363</td>\n",
       "      <td>2.458187</td>\n",
       "      <td>14.115662</td>\n",
       "      <td>4.624775</td>\n",
       "      <td>8.842896</td>\n",
       "      <td>42.657501</td>\n",
       "      <td>6.055926</td>\n",
       "      <td>10.213995</td>\n",
       "      <td>5.383759</td>\n",
       "      <td>68.116445</td>\n",
       "      <td>2.257889</td>\n",
       "      <td>10.507046</td>\n",
       "      <td>0.953716</td>\n",
       "      <td>16.208849</td>\n",
       "    </tr>\n",
       "    <tr>\n",
       "      <th>3</th>\n",
       "      <td>2016-01-15 03:00:00</td>\n",
       "      <td>6.118189</td>\n",
       "      <td>6.043309</td>\n",
       "      <td>2.037807</td>\n",
       "      <td>36.862241</td>\n",
       "      <td>542.590390</td>\n",
       "      <td>57.792734</td>\n",
       "      <td>11.630094</td>\n",
       "      <td>6.203177</td>\n",
       "      <td>999.814770</td>\n",
       "      <td>-400.200179</td>\n",
       "      <td>1600.059442</td>\n",
       "      <td>-450.619948</td>\n",
       "      <td>1600.012842</td>\n",
       "      <td>-449.910497</td>\n",
       "      <td>1597.725177</td>\n",
       "      <td>-450.130127</td>\n",
       "      <td>1400.943157</td>\n",
       "      <td>-450.030142</td>\n",
       "      <td>1400.234743</td>\n",
       "      <td>-449.790835</td>\n",
       "      <td>11.692450</td>\n",
       "      <td>6.196578</td>\n",
       "      <td>42029.447991</td>\n",
       "      <td>3498.578313</td>\n",
       "      <td>3499.162912</td>\n",
       "      <td>3.002340</td>\n",
       "      <td>19.320810</td>\n",
       "      <td>11.915047</td>\n",
       "      <td>7.175616</td>\n",
       "      <td>27.341277</td>\n",
       "      <td>87.226430</td>\n",
       "      <td>1.079755</td>\n",
       "      <td>4.655288</td>\n",
       "      <td>0.542525</td>\n",
       "      <td>19.330200</td>\n",
       "      <td>122.270188</td>\n",
       "      <td>11.322140</td>\n",
       "      <td>7.25</td>\n",
       "      <td>0.996739</td>\n",
       "      <td>1599.968720</td>\n",
       "      <td>-500.951778</td>\n",
       "      <td>1600.659236</td>\n",
       "      <td>-499.677094</td>\n",
       "      <td>1600.304144</td>\n",
       "      <td>-500.727997</td>\n",
       "      <td>1600.449520</td>\n",
       "      <td>-500.052575</td>\n",
       "      <td>28.260743</td>\n",
       "      <td>7.221879</td>\n",
       "      <td>8.496563</td>\n",
       "      <td>15.978538</td>\n",
       "      <td>2.262051</td>\n",
       "      <td>16.024359</td>\n",
       "      <td>2.960362</td>\n",
       "      <td>6.843791</td>\n",
       "      <td>25.942508</td>\n",
       "      <td>-499.176749</td>\n",
       "      <td>23.955516</td>\n",
       "      <td>-499.848796</td>\n",
       "      <td>23.966838</td>\n",
       "      <td>-500.008812</td>\n",
       "      <td>23.954443</td>\n",
       "      <td>-499.944710</td>\n",
       "      <td>14.036510</td>\n",
       "      <td>-500.857308</td>\n",
       "      <td>11.999550</td>\n",
       "      <td>-501.193686</td>\n",
       "      <td>9.970366</td>\n",
       "      <td>-499.201640</td>\n",
       "      <td>7.977324</td>\n",
       "      <td>-500.255908</td>\n",
       "      <td>14.005551</td>\n",
       "      <td>-599.996129</td>\n",
       "      <td>2.322062</td>\n",
       "      <td>13.732071</td>\n",
       "      <td>4.482453</td>\n",
       "      <td>9.122857</td>\n",
       "      <td>42.689819</td>\n",
       "      <td>6.047977</td>\n",
       "      <td>9.977019</td>\n",
       "      <td>4.858634</td>\n",
       "      <td>68.347543</td>\n",
       "      <td>2.146849</td>\n",
       "      <td>10.422762</td>\n",
       "      <td>0.883763</td>\n",
       "      <td>16.532835</td>\n",
       "    </tr>\n",
       "    <tr>\n",
       "      <th>4</th>\n",
       "      <td>2016-01-15 04:00:00</td>\n",
       "      <td>5.663707</td>\n",
       "      <td>6.060915</td>\n",
       "      <td>1.786875</td>\n",
       "      <td>34.347666</td>\n",
       "      <td>540.531893</td>\n",
       "      <td>56.047189</td>\n",
       "      <td>10.957755</td>\n",
       "      <td>6.198826</td>\n",
       "      <td>999.678690</td>\n",
       "      <td>-399.752729</td>\n",
       "      <td>1600.208824</td>\n",
       "      <td>-449.599614</td>\n",
       "      <td>1600.357732</td>\n",
       "      <td>-450.034364</td>\n",
       "      <td>1599.759049</td>\n",
       "      <td>-449.909799</td>\n",
       "      <td>1401.560902</td>\n",
       "      <td>-448.877187</td>\n",
       "      <td>1401.160227</td>\n",
       "      <td>-450.407128</td>\n",
       "      <td>10.960521</td>\n",
       "      <td>6.194897</td>\n",
       "      <td>42125.354245</td>\n",
       "      <td>3494.800771</td>\n",
       "      <td>3506.679315</td>\n",
       "      <td>3.169615</td>\n",
       "      <td>19.216101</td>\n",
       "      <td>12.411054</td>\n",
       "      <td>7.240205</td>\n",
       "      <td>27.041023</td>\n",
       "      <td>86.688794</td>\n",
       "      <td>1.012642</td>\n",
       "      <td>4.552800</td>\n",
       "      <td>0.515438</td>\n",
       "      <td>19.267422</td>\n",
       "      <td>117.988169</td>\n",
       "      <td>11.913613</td>\n",
       "      <td>7.25</td>\n",
       "      <td>1.009869</td>\n",
       "      <td>1601.339707</td>\n",
       "      <td>-498.975456</td>\n",
       "      <td>1601.437854</td>\n",
       "      <td>-500.323246</td>\n",
       "      <td>1599.581894</td>\n",
       "      <td>-500.888152</td>\n",
       "      <td>1602.649541</td>\n",
       "      <td>-500.593010</td>\n",
       "      <td>33.044932</td>\n",
       "      <td>9.089428</td>\n",
       "      <td>9.986786</td>\n",
       "      <td>19.199864</td>\n",
       "      <td>2.277073</td>\n",
       "      <td>16.480185</td>\n",
       "      <td>3.112100</td>\n",
       "      <td>6.550154</td>\n",
       "      <td>26.024787</td>\n",
       "      <td>-500.279091</td>\n",
       "      <td>23.955345</td>\n",
       "      <td>-500.593614</td>\n",
       "      <td>23.985703</td>\n",
       "      <td>-500.083811</td>\n",
       "      <td>23.958945</td>\n",
       "      <td>-499.990309</td>\n",
       "      <td>14.027298</td>\n",
       "      <td>-499.838632</td>\n",
       "      <td>11.953070</td>\n",
       "      <td>-501.053894</td>\n",
       "      <td>9.925709</td>\n",
       "      <td>-501.686727</td>\n",
       "      <td>7.894242</td>\n",
       "      <td>-500.356035</td>\n",
       "      <td>13.996647</td>\n",
       "      <td>-601.496691</td>\n",
       "      <td>2.330448</td>\n",
       "      <td>14.079996</td>\n",
       "      <td>4.470737</td>\n",
       "      <td>8.871028</td>\n",
       "      <td>42.774141</td>\n",
       "      <td>6.148599</td>\n",
       "      <td>10.142511</td>\n",
       "      <td>4.939416</td>\n",
       "      <td>66.927016</td>\n",
       "      <td>2.055292</td>\n",
       "      <td>10.360302</td>\n",
       "      <td>0.792826</td>\n",
       "      <td>16.525686</td>\n",
       "    </tr>\n",
       "  </tbody>\n",
       "</table>\n",
       "</div>"
      ],
      "text/plain": [
       "                  date  rougher.input.feed_au  rougher.input.feed_ag  \\\n",
       "0  2016-01-15 00:00:00               6.486150               6.100378   \n",
       "1  2016-01-15 01:00:00               6.478583               6.161113   \n",
       "2  2016-01-15 02:00:00               6.362222               6.116455   \n",
       "3  2016-01-15 03:00:00               6.118189               6.043309   \n",
       "4  2016-01-15 04:00:00               5.663707               6.060915   \n",
       "\n",
       "   rougher.input.feed_pb  rougher.input.feed_sol  rougher.input.feed_rate  \\\n",
       "0               2.284912               36.808594               523.546326   \n",
       "1               2.266033               35.753385               525.290581   \n",
       "2               2.159622               35.971630               530.026610   \n",
       "3               2.037807               36.862241               542.590390   \n",
       "4               1.786875               34.347666               540.531893   \n",
       "\n",
       "   rougher.input.feed_size  rougher.input.floatbank10_sulfate  \\\n",
       "0                55.486599                          11.986616   \n",
       "1                57.278666                          11.971193   \n",
       "2                57.510649                          11.920603   \n",
       "3                57.792734                          11.630094   \n",
       "4                56.047189                          10.957755   \n",
       "\n",
       "   rougher.input.floatbank10_xanthate  rougher.state.floatbank10_a_air  \\\n",
       "0                            6.007990                       999.706909   \n",
       "1                            6.005766                      1000.286398   \n",
       "2                            6.197377                       999.719565   \n",
       "3                            6.203177                       999.814770   \n",
       "4                            6.198826                       999.678690   \n",
       "\n",
       "   rougher.state.floatbank10_a_level  rougher.state.floatbank10_b_air  \\\n",
       "0                        -404.066986                      1603.011353   \n",
       "1                        -400.065196                      1600.754587   \n",
       "2                        -400.074028                      1599.337330   \n",
       "3                        -400.200179                      1600.059442   \n",
       "4                        -399.752729                      1600.208824   \n",
       "\n",
       "   rougher.state.floatbank10_b_level  rougher.state.floatbank10_c_air  \\\n",
       "0                        -434.715027                      1602.375000   \n",
       "1                        -449.953435                      1600.479580   \n",
       "2                        -450.008530                      1599.672797   \n",
       "3                        -450.619948                      1600.012842   \n",
       "4                        -449.599614                      1600.357732   \n",
       "\n",
       "   rougher.state.floatbank10_c_level  rougher.state.floatbank10_d_air  \\\n",
       "0                        -442.204468                      1598.937256   \n",
       "1                        -449.830646                      1600.527589   \n",
       "2                        -449.954491                      1599.849325   \n",
       "3                        -449.910497                      1597.725177   \n",
       "4                        -450.034364                      1599.759049   \n",
       "\n",
       "   rougher.state.floatbank10_d_level  rougher.state.floatbank10_e_air  \\\n",
       "0                        -451.294128                      1404.472046   \n",
       "1                        -449.953649                      1399.227084   \n",
       "2                        -449.954185                      1399.180945   \n",
       "3                        -450.130127                      1400.943157   \n",
       "4                        -449.909799                      1401.560902   \n",
       "\n",
       "   rougher.state.floatbank10_e_level  rougher.state.floatbank10_f_air  \\\n",
       "0                        -455.462982                      1416.354980   \n",
       "1                        -450.869848                      1399.719514   \n",
       "2                        -449.937588                      1400.316682   \n",
       "3                        -450.030142                      1400.234743   \n",
       "4                        -448.877187                      1401.160227   \n",
       "\n",
       "   rougher.state.floatbank10_f_level  rougher.input.floatbank11_sulfate  \\\n",
       "0                        -451.939636                          11.836743   \n",
       "1                        -450.119001                          11.996163   \n",
       "2                        -450.527147                          11.920305   \n",
       "3                        -449.790835                          11.692450   \n",
       "4                        -450.407128                          10.960521   \n",
       "\n",
       "   rougher.input.floatbank11_xanthate  \\\n",
       "0                            6.005818   \n",
       "1                            6.012594   \n",
       "2                            6.204633   \n",
       "3                            6.196578   \n",
       "4                            6.194897   \n",
       "\n",
       "   rougher.calculation.sulfate_to_au_concentrate  \\\n",
       "0                                   41885.707031   \n",
       "1                                   42050.861809   \n",
       "2                                   42018.101184   \n",
       "3                                   42029.447991   \n",
       "4                                   42125.354245   \n",
       "\n",
       "   rougher.calculation.floatbank10_sulfate_to_au_feed  \\\n",
       "0                                        3481.779053    \n",
       "1                                        3498.370979    \n",
       "2                                        3495.348910    \n",
       "3                                        3498.578313    \n",
       "4                                        3494.800771    \n",
       "\n",
       "   rougher.calculation.floatbank11_sulfate_to_au_feed  \\\n",
       "0                                        3520.337158    \n",
       "1                                        3489.981857    \n",
       "2                                        3502.359819    \n",
       "3                                        3499.162912    \n",
       "4                                        3506.679315    \n",
       "\n",
       "   rougher.calculation.au_pb_ratio  rougher.output.concentrate_au  \\\n",
       "0                         2.838687                      19.793808   \n",
       "1                         2.858998                      20.050975   \n",
       "2                         2.945989                      19.737170   \n",
       "3                         3.002340                      19.320810   \n",
       "4                         3.169615                      19.216101   \n",
       "\n",
       "   rougher.output.concentrate_ag  rougher.output.concentrate_pb  \\\n",
       "0                      11.500771                       7.101074   \n",
       "1                      11.615865                       7.278807   \n",
       "2                      11.695753                       7.216833   \n",
       "3                      11.915047                       7.175616   \n",
       "4                      12.411054                       7.240205   \n",
       "\n",
       "   rougher.output.concentrate_sol  rougher.output.recovery  \\\n",
       "0                       28.029297                87.107763   \n",
       "1                       28.067063                86.843261   \n",
       "2                       27.454037                86.842308   \n",
       "3                       27.341277                87.226430   \n",
       "4                       27.041023                86.688794   \n",
       "\n",
       "   rougher.output.tail_au  rougher.output.tail_ag  rougher.output.tail_pb  \\\n",
       "0                1.170244                5.008018                0.508728   \n",
       "1                1.184827                4.955378                0.536689   \n",
       "2                1.162562                4.843460                0.546416   \n",
       "3                1.079755                4.655288                0.542525   \n",
       "4                1.012642                4.552800                0.515438   \n",
       "\n",
       "   rougher.output.tail_sol  primary_cleaner.input.sulfate  \\\n",
       "0                19.154297                     127.092003   \n",
       "1                18.965234                     125.629232   \n",
       "2                18.808533                     123.819808   \n",
       "3                19.330200                     122.270188   \n",
       "4                19.267422                     117.988169   \n",
       "\n",
       "   primary_cleaner.input.depressant  primary_cleaner.input.feed_size  \\\n",
       "0                         10.128295                             7.25   \n",
       "1                         10.296251                             7.25   \n",
       "2                         11.316280                             7.25   \n",
       "3                         11.322140                             7.25   \n",
       "4                         11.913613                             7.25   \n",
       "\n",
       "   primary_cleaner.input.xanthate  primary_cleaner.state.floatbank8_a_air  \\\n",
       "0                        0.988759                             1549.775757   \n",
       "1                        1.002663                             1576.166671   \n",
       "2                        0.991265                             1601.556163   \n",
       "3                        0.996739                             1599.968720   \n",
       "4                        1.009869                             1601.339707   \n",
       "\n",
       "   primary_cleaner.state.floatbank8_a_level  \\\n",
       "0                               -498.912140   \n",
       "1                               -500.904965   \n",
       "2                               -499.997791   \n",
       "3                               -500.951778   \n",
       "4                               -498.975456   \n",
       "\n",
       "   primary_cleaner.state.floatbank8_b_air  \\\n",
       "0                             1551.434204   \n",
       "1                             1575.950626   \n",
       "2                             1600.386685   \n",
       "3                             1600.659236   \n",
       "4                             1601.437854   \n",
       "\n",
       "   primary_cleaner.state.floatbank8_b_level  \\\n",
       "0                               -516.403442   \n",
       "1                               -499.865889   \n",
       "2                               -500.607762   \n",
       "3                               -499.677094   \n",
       "4                               -500.323246   \n",
       "\n",
       "   primary_cleaner.state.floatbank8_c_air  \\\n",
       "0                             1549.873901   \n",
       "1                             1575.994189   \n",
       "2                             1602.003542   \n",
       "3                             1600.304144   \n",
       "4                             1599.581894   \n",
       "\n",
       "   primary_cleaner.state.floatbank8_c_level  \\\n",
       "0                               -498.666595   \n",
       "1                               -499.315107   \n",
       "2                               -500.870069   \n",
       "3                               -500.727997   \n",
       "4                               -500.888152   \n",
       "\n",
       "   primary_cleaner.state.floatbank8_d_air  \\\n",
       "0                             1554.367432   \n",
       "1                             1574.479259   \n",
       "2                             1599.541515   \n",
       "3                             1600.449520   \n",
       "4                             1602.649541   \n",
       "\n",
       "   primary_cleaner.state.floatbank8_d_level  \\\n",
       "0                               -493.428131   \n",
       "1                               -498.931665   \n",
       "2                               -499.827444   \n",
       "3                               -500.052575   \n",
       "4                               -500.593010   \n",
       "\n",
       "   primary_cleaner.output.concentrate_au  \\\n",
       "0                              34.174427   \n",
       "1                              34.118526   \n",
       "2                              33.969464   \n",
       "3                              28.260743   \n",
       "4                              33.044932   \n",
       "\n",
       "   primary_cleaner.output.concentrate_ag  \\\n",
       "0                               8.547551   \n",
       "1                               8.558743   \n",
       "2                               8.603505   \n",
       "3                               7.221879   \n",
       "4                               9.089428   \n",
       "\n",
       "   primary_cleaner.output.concentrate_pb  \\\n",
       "0                              10.389648   \n",
       "1                              10.497069   \n",
       "2                              10.354494   \n",
       "3                               8.496563   \n",
       "4                               9.986786   \n",
       "\n",
       "   primary_cleaner.output.concentrate_sol  primary_cleaner.output.tail_au  \\\n",
       "0                               19.529297                        2.106679   \n",
       "1                               19.369147                        2.353017   \n",
       "2                               19.167579                        2.416800   \n",
       "3                               15.978538                        2.262051   \n",
       "4                               19.199864                        2.277073   \n",
       "\n",
       "   primary_cleaner.output.tail_ag  primary_cleaner.output.tail_pb  \\\n",
       "0                       14.936526                        2.534912   \n",
       "1                       16.250511                        3.049646   \n",
       "2                       16.491823                        3.124664   \n",
       "3                       16.024359                        2.960362   \n",
       "4                       16.480185                        3.112100   \n",
       "\n",
       "   primary_cleaner.output.tail_sol  secondary_cleaner.state.floatbank2_a_air  \\\n",
       "0                         7.476074                                 25.853109   \n",
       "1                         6.733907                                 25.880539   \n",
       "2                         6.471768                                 26.005245   \n",
       "3                         6.843791                                 25.942508   \n",
       "4                         6.550154                                 26.024787   \n",
       "\n",
       "   secondary_cleaner.state.floatbank2_a_level  \\\n",
       "0                                 -498.526489   \n",
       "1                                 -499.989656   \n",
       "2                                 -499.929616   \n",
       "3                                 -499.176749   \n",
       "4                                 -500.279091   \n",
       "\n",
       "   secondary_cleaner.state.floatbank2_b_air  \\\n",
       "0                                 23.893660   \n",
       "1                                 23.889530   \n",
       "2                                 23.886657   \n",
       "3                                 23.955516   \n",
       "4                                 23.955345   \n",
       "\n",
       "   secondary_cleaner.state.floatbank2_b_level  \\\n",
       "0                                 -501.406281   \n",
       "1                                 -500.372428   \n",
       "2                                 -499.951928   \n",
       "3                                 -499.848796   \n",
       "4                                 -500.593614   \n",
       "\n",
       "   secondary_cleaner.state.floatbank3_a_air  \\\n",
       "0                                 23.961798   \n",
       "1                                 23.970550   \n",
       "2                                 23.913535   \n",
       "3                                 23.966838   \n",
       "4                                 23.985703   \n",
       "\n",
       "   secondary_cleaner.state.floatbank3_a_level  \\\n",
       "0                                 -495.262817   \n",
       "1                                 -500.085473   \n",
       "2                                 -499.442343   \n",
       "3                                 -500.008812   \n",
       "4                                 -500.083811   \n",
       "\n",
       "   secondary_cleaner.state.floatbank3_b_air  \\\n",
       "0                                 21.940409   \n",
       "1                                 22.085714   \n",
       "2                                 23.957717   \n",
       "3                                 23.954443   \n",
       "4                                 23.958945   \n",
       "\n",
       "   secondary_cleaner.state.floatbank3_b_level  \\\n",
       "0                                 -499.340973   \n",
       "1                                 -499.446897   \n",
       "2                                 -499.901982   \n",
       "3                                 -499.944710   \n",
       "4                                 -499.990309   \n",
       "\n",
       "   secondary_cleaner.state.floatbank4_a_air  \\\n",
       "0                                 14.016835   \n",
       "1                                 13.992281   \n",
       "2                                 14.015015   \n",
       "3                                 14.036510   \n",
       "4                                 14.027298   \n",
       "\n",
       "   secondary_cleaner.state.floatbank4_a_level  \\\n",
       "0                                 -502.488007   \n",
       "1                                 -505.503262   \n",
       "2                                 -502.520901   \n",
       "3                                 -500.857308   \n",
       "4                                 -499.838632   \n",
       "\n",
       "   secondary_cleaner.state.floatbank4_b_air  \\\n",
       "0                                 12.099931   \n",
       "1                                 11.950531   \n",
       "2                                 11.912783   \n",
       "3                                 11.999550   \n",
       "4                                 11.953070   \n",
       "\n",
       "   secondary_cleaner.state.floatbank4_b_level  \\\n",
       "0                                 -504.715942   \n",
       "1                                 -501.331529   \n",
       "2                                 -501.133383   \n",
       "3                                 -501.193686   \n",
       "4                                 -501.053894   \n",
       "\n",
       "   secondary_cleaner.state.floatbank5_a_air  \\\n",
       "0                                  9.925633   \n",
       "1                                 10.039245   \n",
       "2                                 10.070913   \n",
       "3                                  9.970366   \n",
       "4                                  9.925709   \n",
       "\n",
       "   secondary_cleaner.state.floatbank5_a_level  \\\n",
       "0                                 -498.310211   \n",
       "1                                 -500.169983   \n",
       "2                                 -500.129135   \n",
       "3                                 -499.201640   \n",
       "4                                 -501.686727   \n",
       "\n",
       "   secondary_cleaner.state.floatbank5_b_air  \\\n",
       "0                                  8.079666   \n",
       "1                                  7.984757   \n",
       "2                                  8.013877   \n",
       "3                                  7.977324   \n",
       "4                                  7.894242   \n",
       "\n",
       "   secondary_cleaner.state.floatbank5_b_level  \\\n",
       "0                                 -500.470978   \n",
       "1                                 -500.582168   \n",
       "2                                 -500.517572   \n",
       "3                                 -500.255908   \n",
       "4                                 -500.356035   \n",
       "\n",
       "   secondary_cleaner.state.floatbank6_a_air  \\\n",
       "0                                 14.151341   \n",
       "1                                 13.998353   \n",
       "2                                 14.028663   \n",
       "3                                 14.005551   \n",
       "4                                 13.996647   \n",
       "\n",
       "   secondary_cleaner.state.floatbank6_a_level  \\\n",
       "0                                 -605.841980   \n",
       "1                                 -599.787184   \n",
       "2                                 -601.427363   \n",
       "3                                 -599.996129   \n",
       "4                                 -601.496691   \n",
       "\n",
       "   secondary_cleaner.output.tail_au  secondary_cleaner.output.tail_ag  \\\n",
       "0                          2.606185                         14.500184   \n",
       "1                          2.488248                         14.265474   \n",
       "2                          2.458187                         14.115662   \n",
       "3                          2.322062                         13.732071   \n",
       "4                          2.330448                         14.079996   \n",
       "\n",
       "   secondary_cleaner.output.tail_pb  secondary_cleaner.output.tail_sol  \\\n",
       "0                          4.694824                           8.764648   \n",
       "1                          4.592547                           9.001494   \n",
       "2                          4.624775                           8.842896   \n",
       "3                          4.482453                           9.122857   \n",
       "4                          4.470737                           8.871028   \n",
       "\n",
       "   final.output.concentrate_au  final.output.concentrate_ag  \\\n",
       "0                    42.192020                     6.055403   \n",
       "1                    42.701629                     6.029369   \n",
       "2                    42.657501                     6.055926   \n",
       "3                    42.689819                     6.047977   \n",
       "4                    42.774141                     6.148599   \n",
       "\n",
       "   final.output.concentrate_pb  final.output.concentrate_sol  \\\n",
       "0                     9.889648                      5.507324   \n",
       "1                     9.968944                      5.257781   \n",
       "2                    10.213995                      5.383759   \n",
       "3                     9.977019                      4.858634   \n",
       "4                    10.142511                      4.939416   \n",
       "\n",
       "   final.output.recovery  final.output.tail_au  final.output.tail_ag  \\\n",
       "0              70.541216              2.143149             10.411962   \n",
       "1              69.266198              2.224930             10.462676   \n",
       "2              68.116445              2.257889             10.507046   \n",
       "3              68.347543              2.146849             10.422762   \n",
       "4              66.927016              2.055292             10.360302   \n",
       "\n",
       "   final.output.tail_pb  final.output.tail_sol  \n",
       "0              0.895447              16.904297  \n",
       "1              0.927452              16.634514  \n",
       "2              0.953716              16.208849  \n",
       "3              0.883763              16.532835  \n",
       "4              0.792826              16.525686  "
      ]
     },
     "metadata": {},
     "output_type": "display_data"
    },
    {
     "name": "stdout",
     "output_type": "stream",
     "text": [
      "--------------------------------------------SHAPE---------------------------------------------------\n"
     ]
    },
    {
     "data": {
      "text/plain": [
       "(14579, 87)"
      ]
     },
     "metadata": {},
     "output_type": "display_data"
    },
    {
     "name": "stdout",
     "output_type": "stream",
     "text": [
      "-----------------------------------------DTYPES-----------------------------------------------------\n"
     ]
    },
    {
     "data": {
      "text/plain": [
       "date                                                   object\n",
       "rougher.input.feed_au                                 float64\n",
       "rougher.input.feed_ag                                 float64\n",
       "rougher.input.feed_pb                                 float64\n",
       "rougher.input.feed_sol                                float64\n",
       "rougher.input.feed_rate                               float64\n",
       "rougher.input.feed_size                               float64\n",
       "rougher.input.floatbank10_sulfate                     float64\n",
       "rougher.input.floatbank10_xanthate                    float64\n",
       "rougher.state.floatbank10_a_air                       float64\n",
       "rougher.state.floatbank10_a_level                     float64\n",
       "rougher.state.floatbank10_b_air                       float64\n",
       "rougher.state.floatbank10_b_level                     float64\n",
       "rougher.state.floatbank10_c_air                       float64\n",
       "rougher.state.floatbank10_c_level                     float64\n",
       "rougher.state.floatbank10_d_air                       float64\n",
       "rougher.state.floatbank10_d_level                     float64\n",
       "rougher.state.floatbank10_e_air                       float64\n",
       "rougher.state.floatbank10_e_level                     float64\n",
       "rougher.state.floatbank10_f_air                       float64\n",
       "rougher.state.floatbank10_f_level                     float64\n",
       "rougher.input.floatbank11_sulfate                     float64\n",
       "rougher.input.floatbank11_xanthate                    float64\n",
       "rougher.calculation.sulfate_to_au_concentrate         float64\n",
       "rougher.calculation.floatbank10_sulfate_to_au_feed    float64\n",
       "rougher.calculation.floatbank11_sulfate_to_au_feed    float64\n",
       "rougher.calculation.au_pb_ratio                       float64\n",
       "rougher.output.concentrate_au                         float64\n",
       "rougher.output.concentrate_ag                         float64\n",
       "rougher.output.concentrate_pb                         float64\n",
       "rougher.output.concentrate_sol                        float64\n",
       "rougher.output.recovery                               float64\n",
       "rougher.output.tail_au                                float64\n",
       "rougher.output.tail_ag                                float64\n",
       "rougher.output.tail_pb                                float64\n",
       "rougher.output.tail_sol                               float64\n",
       "primary_cleaner.input.sulfate                         float64\n",
       "primary_cleaner.input.depressant                      float64\n",
       "primary_cleaner.input.feed_size                       float64\n",
       "primary_cleaner.input.xanthate                        float64\n",
       "primary_cleaner.state.floatbank8_a_air                float64\n",
       "primary_cleaner.state.floatbank8_a_level              float64\n",
       "primary_cleaner.state.floatbank8_b_air                float64\n",
       "primary_cleaner.state.floatbank8_b_level              float64\n",
       "primary_cleaner.state.floatbank8_c_air                float64\n",
       "primary_cleaner.state.floatbank8_c_level              float64\n",
       "primary_cleaner.state.floatbank8_d_air                float64\n",
       "primary_cleaner.state.floatbank8_d_level              float64\n",
       "primary_cleaner.output.concentrate_au                 float64\n",
       "primary_cleaner.output.concentrate_ag                 float64\n",
       "primary_cleaner.output.concentrate_pb                 float64\n",
       "primary_cleaner.output.concentrate_sol                float64\n",
       "primary_cleaner.output.tail_au                        float64\n",
       "primary_cleaner.output.tail_ag                        float64\n",
       "primary_cleaner.output.tail_pb                        float64\n",
       "primary_cleaner.output.tail_sol                       float64\n",
       "secondary_cleaner.state.floatbank2_a_air              float64\n",
       "secondary_cleaner.state.floatbank2_a_level            float64\n",
       "secondary_cleaner.state.floatbank2_b_air              float64\n",
       "secondary_cleaner.state.floatbank2_b_level            float64\n",
       "secondary_cleaner.state.floatbank3_a_air              float64\n",
       "secondary_cleaner.state.floatbank3_a_level            float64\n",
       "secondary_cleaner.state.floatbank3_b_air              float64\n",
       "secondary_cleaner.state.floatbank3_b_level            float64\n",
       "secondary_cleaner.state.floatbank4_a_air              float64\n",
       "secondary_cleaner.state.floatbank4_a_level            float64\n",
       "secondary_cleaner.state.floatbank4_b_air              float64\n",
       "secondary_cleaner.state.floatbank4_b_level            float64\n",
       "secondary_cleaner.state.floatbank5_a_air              float64\n",
       "secondary_cleaner.state.floatbank5_a_level            float64\n",
       "secondary_cleaner.state.floatbank5_b_air              float64\n",
       "secondary_cleaner.state.floatbank5_b_level            float64\n",
       "secondary_cleaner.state.floatbank6_a_air              float64\n",
       "secondary_cleaner.state.floatbank6_a_level            float64\n",
       "secondary_cleaner.output.tail_au                      float64\n",
       "secondary_cleaner.output.tail_ag                      float64\n",
       "secondary_cleaner.output.tail_pb                      float64\n",
       "secondary_cleaner.output.tail_sol                     float64\n",
       "final.output.concentrate_au                           float64\n",
       "final.output.concentrate_ag                           float64\n",
       "final.output.concentrate_pb                           float64\n",
       "final.output.concentrate_sol                          float64\n",
       "final.output.recovery                                 float64\n",
       "final.output.tail_au                                  float64\n",
       "final.output.tail_ag                                  float64\n",
       "final.output.tail_pb                                  float64\n",
       "final.output.tail_sol                                 float64\n",
       "dtype: object"
      ]
     },
     "metadata": {},
     "output_type": "display_data"
    },
    {
     "name": "stdout",
     "output_type": "stream",
     "text": [
      "--------------------------------------------NAN-----------------------------------------------------\n"
     ]
    },
    {
     "data": {
      "text/plain": [
       "date                                                    0\n",
       "rougher.input.feed_au                                   0\n",
       "rougher.input.feed_ag                                   0\n",
       "rougher.input.feed_pb                                  72\n",
       "rougher.input.feed_sol                                 77\n",
       "rougher.input.feed_rate                                 7\n",
       "rougher.input.feed_size                               101\n",
       "rougher.input.floatbank10_sulfate                      31\n",
       "rougher.input.floatbank10_xanthate                      7\n",
       "rougher.state.floatbank10_a_air                         0\n",
       "rougher.state.floatbank10_a_level                       0\n",
       "rougher.state.floatbank10_b_air                         0\n",
       "rougher.state.floatbank10_b_level                       0\n",
       "rougher.state.floatbank10_c_air                         0\n",
       "rougher.state.floatbank10_c_level                       0\n",
       "rougher.state.floatbank10_d_air                         0\n",
       "rougher.state.floatbank10_d_level                       0\n",
       "rougher.state.floatbank10_e_air                       429\n",
       "rougher.state.floatbank10_e_level                       0\n",
       "rougher.state.floatbank10_f_air                         0\n",
       "rougher.state.floatbank10_f_level                       0\n",
       "rougher.input.floatbank11_sulfate                      36\n",
       "rougher.input.floatbank11_xanthate                    407\n",
       "rougher.calculation.sulfate_to_au_concentrate           1\n",
       "rougher.calculation.floatbank10_sulfate_to_au_feed      1\n",
       "rougher.calculation.floatbank11_sulfate_to_au_feed      1\n",
       "rougher.calculation.au_pb_ratio                         0\n",
       "rougher.output.concentrate_au                           0\n",
       "rougher.output.concentrate_ag                           0\n",
       "rougher.output.concentrate_pb                           0\n",
       "rougher.output.concentrate_sol                         18\n",
       "rougher.output.recovery                                 0\n",
       "rougher.output.tail_au                                  0\n",
       "rougher.output.tail_ag                                  1\n",
       "rougher.output.tail_pb                                  0\n",
       "rougher.output.tail_sol                                 0\n",
       "primary_cleaner.input.sulfate                          23\n",
       "primary_cleaner.input.depressant                       28\n",
       "primary_cleaner.input.feed_size                         0\n",
       "primary_cleaner.input.xanthate                         61\n",
       "primary_cleaner.state.floatbank8_a_air                  3\n",
       "primary_cleaner.state.floatbank8_a_level                0\n",
       "primary_cleaner.state.floatbank8_b_air                  3\n",
       "primary_cleaner.state.floatbank8_b_level                0\n",
       "primary_cleaner.state.floatbank8_c_air                  0\n",
       "primary_cleaner.state.floatbank8_c_level                0\n",
       "primary_cleaner.state.floatbank8_d_air                  1\n",
       "primary_cleaner.state.floatbank8_d_level                0\n",
       "primary_cleaner.output.concentrate_au                   0\n",
       "primary_cleaner.output.concentrate_ag                   0\n",
       "primary_cleaner.output.concentrate_pb                  88\n",
       "primary_cleaner.output.concentrate_sol                265\n",
       "primary_cleaner.output.tail_au                          0\n",
       "primary_cleaner.output.tail_ag                          4\n",
       "primary_cleaner.output.tail_pb                          6\n",
       "primary_cleaner.output.tail_sol                        45\n",
       "secondary_cleaner.state.floatbank2_a_air               94\n",
       "secondary_cleaner.state.floatbank2_a_level              0\n",
       "secondary_cleaner.state.floatbank2_b_air               22\n",
       "secondary_cleaner.state.floatbank2_b_level              0\n",
       "secondary_cleaner.state.floatbank3_a_air               12\n",
       "secondary_cleaner.state.floatbank3_a_level              0\n",
       "secondary_cleaner.state.floatbank3_b_air                0\n",
       "secondary_cleaner.state.floatbank3_b_level              0\n",
       "secondary_cleaner.state.floatbank4_a_air                5\n",
       "secondary_cleaner.state.floatbank4_a_level              0\n",
       "secondary_cleaner.state.floatbank4_b_air                0\n",
       "secondary_cleaner.state.floatbank4_b_level              0\n",
       "secondary_cleaner.state.floatbank5_a_air                0\n",
       "secondary_cleaner.state.floatbank5_a_level              0\n",
       "secondary_cleaner.state.floatbank5_b_air                0\n",
       "secondary_cleaner.state.floatbank5_b_level              0\n",
       "secondary_cleaner.state.floatbank6_a_air                1\n",
       "secondary_cleaner.state.floatbank6_a_level              0\n",
       "secondary_cleaner.output.tail_au                        0\n",
       "secondary_cleaner.output.tail_ag                        1\n",
       "secondary_cleaner.output.tail_pb                        4\n",
       "secondary_cleaner.output.tail_sol                     920\n",
       "final.output.concentrate_au                             0\n",
       "final.output.concentrate_ag                             1\n",
       "final.output.concentrate_pb                             1\n",
       "final.output.concentrate_sol                          192\n",
       "final.output.recovery                                   0\n",
       "final.output.tail_au                                    0\n",
       "final.output.tail_ag                                    1\n",
       "final.output.tail_pb                                   75\n",
       "final.output.tail_sol                                   5\n",
       "dtype: int64"
      ]
     },
     "metadata": {},
     "output_type": "display_data"
    },
    {
     "name": "stdout",
     "output_type": "stream",
     "text": [
      "----------------------------------------DUPLICATES--------------------------------------------------\n",
      "0\n"
     ]
    }
   ],
   "source": [
    "learn_data(train)"
   ]
  },
  {
   "cell_type": "markdown",
   "metadata": {},
   "source": [
    "**Вывод по переменной train:** явных дубликатов нет, есть пропуски, с которыми нужно будет поработать на этапе предобработки. Тип даты изменю на datetime в рамках предобработки данных. Все остальные типы данных корректные."
   ]
  },
  {
   "cell_type": "markdown",
   "metadata": {},
   "source": [
    "Изучение переменной test:"
   ]
  },
  {
   "cell_type": "code",
   "execution_count": 6,
   "metadata": {
    "scrolled": true
   },
   "outputs": [
    {
     "name": "stdout",
     "output_type": "stream",
     "text": [
      "---------------------------------------HEAD---------------------------------------------------------\n"
     ]
    },
    {
     "data": {
      "text/html": [
       "<div>\n",
       "<style scoped>\n",
       "    .dataframe tbody tr th:only-of-type {\n",
       "        vertical-align: middle;\n",
       "    }\n",
       "\n",
       "    .dataframe tbody tr th {\n",
       "        vertical-align: top;\n",
       "    }\n",
       "\n",
       "    .dataframe thead th {\n",
       "        text-align: right;\n",
       "    }\n",
       "</style>\n",
       "<table border=\"1\" class=\"dataframe\">\n",
       "  <thead>\n",
       "    <tr style=\"text-align: right;\">\n",
       "      <th></th>\n",
       "      <th>date</th>\n",
       "      <th>rougher.input.feed_au</th>\n",
       "      <th>rougher.input.feed_ag</th>\n",
       "      <th>rougher.input.feed_pb</th>\n",
       "      <th>rougher.input.feed_sol</th>\n",
       "      <th>rougher.input.feed_rate</th>\n",
       "      <th>rougher.input.feed_size</th>\n",
       "      <th>rougher.input.floatbank10_sulfate</th>\n",
       "      <th>rougher.input.floatbank10_xanthate</th>\n",
       "      <th>rougher.state.floatbank10_a_air</th>\n",
       "      <th>rougher.state.floatbank10_a_level</th>\n",
       "      <th>rougher.state.floatbank10_b_air</th>\n",
       "      <th>rougher.state.floatbank10_b_level</th>\n",
       "      <th>rougher.state.floatbank10_c_air</th>\n",
       "      <th>rougher.state.floatbank10_c_level</th>\n",
       "      <th>rougher.state.floatbank10_d_air</th>\n",
       "      <th>rougher.state.floatbank10_d_level</th>\n",
       "      <th>rougher.state.floatbank10_e_air</th>\n",
       "      <th>rougher.state.floatbank10_e_level</th>\n",
       "      <th>rougher.state.floatbank10_f_air</th>\n",
       "      <th>rougher.state.floatbank10_f_level</th>\n",
       "      <th>rougher.input.floatbank11_sulfate</th>\n",
       "      <th>rougher.input.floatbank11_xanthate</th>\n",
       "      <th>primary_cleaner.input.sulfate</th>\n",
       "      <th>primary_cleaner.input.depressant</th>\n",
       "      <th>primary_cleaner.input.feed_size</th>\n",
       "      <th>primary_cleaner.input.xanthate</th>\n",
       "      <th>primary_cleaner.state.floatbank8_a_air</th>\n",
       "      <th>primary_cleaner.state.floatbank8_a_level</th>\n",
       "      <th>primary_cleaner.state.floatbank8_b_air</th>\n",
       "      <th>primary_cleaner.state.floatbank8_b_level</th>\n",
       "      <th>primary_cleaner.state.floatbank8_c_air</th>\n",
       "      <th>primary_cleaner.state.floatbank8_c_level</th>\n",
       "      <th>primary_cleaner.state.floatbank8_d_air</th>\n",
       "      <th>primary_cleaner.state.floatbank8_d_level</th>\n",
       "      <th>secondary_cleaner.state.floatbank2_a_air</th>\n",
       "      <th>secondary_cleaner.state.floatbank2_a_level</th>\n",
       "      <th>secondary_cleaner.state.floatbank2_b_air</th>\n",
       "      <th>secondary_cleaner.state.floatbank2_b_level</th>\n",
       "      <th>secondary_cleaner.state.floatbank3_a_air</th>\n",
       "      <th>secondary_cleaner.state.floatbank3_a_level</th>\n",
       "      <th>secondary_cleaner.state.floatbank3_b_air</th>\n",
       "      <th>secondary_cleaner.state.floatbank3_b_level</th>\n",
       "      <th>secondary_cleaner.state.floatbank4_a_air</th>\n",
       "      <th>secondary_cleaner.state.floatbank4_a_level</th>\n",
       "      <th>secondary_cleaner.state.floatbank4_b_air</th>\n",
       "      <th>secondary_cleaner.state.floatbank4_b_level</th>\n",
       "      <th>secondary_cleaner.state.floatbank5_a_air</th>\n",
       "      <th>secondary_cleaner.state.floatbank5_a_level</th>\n",
       "      <th>secondary_cleaner.state.floatbank5_b_air</th>\n",
       "      <th>secondary_cleaner.state.floatbank5_b_level</th>\n",
       "      <th>secondary_cleaner.state.floatbank6_a_air</th>\n",
       "      <th>secondary_cleaner.state.floatbank6_a_level</th>\n",
       "    </tr>\n",
       "  </thead>\n",
       "  <tbody>\n",
       "    <tr>\n",
       "      <th>0</th>\n",
       "      <td>2017-12-09 14:59:59</td>\n",
       "      <td>4.365491</td>\n",
       "      <td>6.158718</td>\n",
       "      <td>3.875727</td>\n",
       "      <td>39.135119</td>\n",
       "      <td>555.820208</td>\n",
       "      <td>94.544358</td>\n",
       "      <td>6.146982</td>\n",
       "      <td>9.308612</td>\n",
       "      <td>1196.238112</td>\n",
       "      <td>-299.862743</td>\n",
       "      <td>1147.248241</td>\n",
       "      <td>-500.363165</td>\n",
       "      <td>1047.279065</td>\n",
       "      <td>-500.354091</td>\n",
       "      <td>948.756608</td>\n",
       "      <td>-498.439416</td>\n",
       "      <td>849.441918</td>\n",
       "      <td>-499.255503</td>\n",
       "      <td>850.112246</td>\n",
       "      <td>-499.407112</td>\n",
       "      <td>6.168939</td>\n",
       "      <td>9.309852</td>\n",
       "      <td>95.248427</td>\n",
       "      <td>8.078957</td>\n",
       "      <td>6.500000</td>\n",
       "      <td>1.283045</td>\n",
       "      <td>1648.759906</td>\n",
       "      <td>-399.862053</td>\n",
       "      <td>1650.135395</td>\n",
       "      <td>-399.957321</td>\n",
       "      <td>1648.831890</td>\n",
       "      <td>-400.586116</td>\n",
       "      <td>1649.464582</td>\n",
       "      <td>-400.673303</td>\n",
       "      <td>34.940919</td>\n",
       "      <td>-500.150510</td>\n",
       "      <td>30.031867</td>\n",
       "      <td>-500.328335</td>\n",
       "      <td>26.033990</td>\n",
       "      <td>-500.147792</td>\n",
       "      <td>22.952306</td>\n",
       "      <td>-500.037678</td>\n",
       "      <td>23.018622</td>\n",
       "      <td>-500.492702</td>\n",
       "      <td>20.020205</td>\n",
       "      <td>-500.220296</td>\n",
       "      <td>17.963512</td>\n",
       "      <td>-499.939490</td>\n",
       "      <td>12.990306</td>\n",
       "      <td>-500.080993</td>\n",
       "      <td>19.990336</td>\n",
       "      <td>-499.191575</td>\n",
       "    </tr>\n",
       "    <tr>\n",
       "      <th>1</th>\n",
       "      <td>2017-12-09 15:59:59</td>\n",
       "      <td>4.362781</td>\n",
       "      <td>6.048130</td>\n",
       "      <td>3.902537</td>\n",
       "      <td>39.713906</td>\n",
       "      <td>544.731687</td>\n",
       "      <td>123.742430</td>\n",
       "      <td>6.210119</td>\n",
       "      <td>9.297709</td>\n",
       "      <td>1201.904177</td>\n",
       "      <td>-299.907308</td>\n",
       "      <td>1154.087804</td>\n",
       "      <td>-500.036580</td>\n",
       "      <td>1054.009756</td>\n",
       "      <td>-500.237335</td>\n",
       "      <td>944.138793</td>\n",
       "      <td>-496.866953</td>\n",
       "      <td>851.589767</td>\n",
       "      <td>-499.040466</td>\n",
       "      <td>851.345606</td>\n",
       "      <td>-499.122561</td>\n",
       "      <td>6.209517</td>\n",
       "      <td>9.297194</td>\n",
       "      <td>98.880538</td>\n",
       "      <td>7.984164</td>\n",
       "      <td>6.500000</td>\n",
       "      <td>1.241969</td>\n",
       "      <td>1646.547763</td>\n",
       "      <td>-398.977083</td>\n",
       "      <td>1648.212240</td>\n",
       "      <td>-400.383265</td>\n",
       "      <td>1648.917387</td>\n",
       "      <td>-399.521344</td>\n",
       "      <td>1651.498591</td>\n",
       "      <td>-399.745329</td>\n",
       "      <td>34.980742</td>\n",
       "      <td>-498.131002</td>\n",
       "      <td>29.968453</td>\n",
       "      <td>-586.013330</td>\n",
       "      <td>25.971737</td>\n",
       "      <td>-499.608392</td>\n",
       "      <td>22.958448</td>\n",
       "      <td>-499.821308</td>\n",
       "      <td>23.024963</td>\n",
       "      <td>-501.153409</td>\n",
       "      <td>20.054122</td>\n",
       "      <td>-500.314711</td>\n",
       "      <td>17.979515</td>\n",
       "      <td>-499.272871</td>\n",
       "      <td>12.992404</td>\n",
       "      <td>-499.976268</td>\n",
       "      <td>20.013986</td>\n",
       "      <td>-500.625471</td>\n",
       "    </tr>\n",
       "    <tr>\n",
       "      <th>2</th>\n",
       "      <td>2017-12-09 16:59:59</td>\n",
       "      <td>5.081681</td>\n",
       "      <td>6.082745</td>\n",
       "      <td>4.564078</td>\n",
       "      <td>37.208683</td>\n",
       "      <td>558.155110</td>\n",
       "      <td>82.610855</td>\n",
       "      <td>7.363824</td>\n",
       "      <td>9.003562</td>\n",
       "      <td>1200.826926</td>\n",
       "      <td>-300.124116</td>\n",
       "      <td>1150.754676</td>\n",
       "      <td>-499.986009</td>\n",
       "      <td>1049.182824</td>\n",
       "      <td>-500.014696</td>\n",
       "      <td>948.085464</td>\n",
       "      <td>-499.997003</td>\n",
       "      <td>850.170086</td>\n",
       "      <td>-500.270334</td>\n",
       "      <td>849.557905</td>\n",
       "      <td>-500.198702</td>\n",
       "      <td>7.358308</td>\n",
       "      <td>9.000624</td>\n",
       "      <td>119.497545</td>\n",
       "      <td>8.003752</td>\n",
       "      <td>6.500000</td>\n",
       "      <td>1.259741</td>\n",
       "      <td>1647.368779</td>\n",
       "      <td>-399.788506</td>\n",
       "      <td>1648.395206</td>\n",
       "      <td>-400.166490</td>\n",
       "      <td>1648.953828</td>\n",
       "      <td>-400.468641</td>\n",
       "      <td>1649.821569</td>\n",
       "      <td>-400.071884</td>\n",
       "      <td>34.952967</td>\n",
       "      <td>-501.204647</td>\n",
       "      <td>29.927025</td>\n",
       "      <td>-500.106628</td>\n",
       "      <td>25.978253</td>\n",
       "      <td>-499.890060</td>\n",
       "      <td>23.004376</td>\n",
       "      <td>-500.014529</td>\n",
       "      <td>22.993827</td>\n",
       "      <td>-501.559663</td>\n",
       "      <td>20.029144</td>\n",
       "      <td>-500.000662</td>\n",
       "      <td>18.012723</td>\n",
       "      <td>-500.024764</td>\n",
       "      <td>13.016445</td>\n",
       "      <td>-500.058432</td>\n",
       "      <td>19.973767</td>\n",
       "      <td>-501.394155</td>\n",
       "    </tr>\n",
       "    <tr>\n",
       "      <th>3</th>\n",
       "      <td>2017-12-09 17:59:59</td>\n",
       "      <td>5.145949</td>\n",
       "      <td>6.084374</td>\n",
       "      <td>4.768124</td>\n",
       "      <td>36.808874</td>\n",
       "      <td>539.713765</td>\n",
       "      <td>77.984784</td>\n",
       "      <td>6.927072</td>\n",
       "      <td>8.955597</td>\n",
       "      <td>1199.292489</td>\n",
       "      <td>-299.778385</td>\n",
       "      <td>1152.512559</td>\n",
       "      <td>-500.338106</td>\n",
       "      <td>1052.601592</td>\n",
       "      <td>-499.695075</td>\n",
       "      <td>955.171539</td>\n",
       "      <td>-500.294989</td>\n",
       "      <td>851.957342</td>\n",
       "      <td>-499.779541</td>\n",
       "      <td>850.765662</td>\n",
       "      <td>-501.030559</td>\n",
       "      <td>6.929364</td>\n",
       "      <td>8.920717</td>\n",
       "      <td>108.080163</td>\n",
       "      <td>7.970121</td>\n",
       "      <td>6.660000</td>\n",
       "      <td>0.774909</td>\n",
       "      <td>1652.660845</td>\n",
       "      <td>-399.702218</td>\n",
       "      <td>1651.203128</td>\n",
       "      <td>-400.291472</td>\n",
       "      <td>1651.924848</td>\n",
       "      <td>-398.058033</td>\n",
       "      <td>1650.782696</td>\n",
       "      <td>-399.597977</td>\n",
       "      <td>35.038256</td>\n",
       "      <td>-500.102649</td>\n",
       "      <td>30.066959</td>\n",
       "      <td>-500.211499</td>\n",
       "      <td>26.013515</td>\n",
       "      <td>-500.054597</td>\n",
       "      <td>22.988928</td>\n",
       "      <td>-499.981410</td>\n",
       "      <td>23.032807</td>\n",
       "      <td>-501.287889</td>\n",
       "      <td>19.977466</td>\n",
       "      <td>-500.159903</td>\n",
       "      <td>17.980463</td>\n",
       "      <td>-500.504602</td>\n",
       "      <td>12.949071</td>\n",
       "      <td>-500.009937</td>\n",
       "      <td>20.010332</td>\n",
       "      <td>-508.337973</td>\n",
       "    </tr>\n",
       "    <tr>\n",
       "      <th>4</th>\n",
       "      <td>2017-12-09 18:59:59</td>\n",
       "      <td>5.735249</td>\n",
       "      <td>6.165220</td>\n",
       "      <td>4.512346</td>\n",
       "      <td>37.810642</td>\n",
       "      <td>558.713584</td>\n",
       "      <td>86.434874</td>\n",
       "      <td>7.823471</td>\n",
       "      <td>7.490356</td>\n",
       "      <td>1198.005449</td>\n",
       "      <td>-300.283401</td>\n",
       "      <td>1099.481500</td>\n",
       "      <td>-499.702465</td>\n",
       "      <td>999.539264</td>\n",
       "      <td>-499.306051</td>\n",
       "      <td>889.445596</td>\n",
       "      <td>-498.118617</td>\n",
       "      <td>800.533525</td>\n",
       "      <td>-499.765068</td>\n",
       "      <td>800.510356</td>\n",
       "      <td>-497.289533</td>\n",
       "      <td>7.824875</td>\n",
       "      <td>7.500678</td>\n",
       "      <td>117.750648</td>\n",
       "      <td>6.954311</td>\n",
       "      <td>6.426667</td>\n",
       "      <td>0.731271</td>\n",
       "      <td>1649.411497</td>\n",
       "      <td>-399.853156</td>\n",
       "      <td>1648.917211</td>\n",
       "      <td>-400.321866</td>\n",
       "      <td>1649.117753</td>\n",
       "      <td>-399.645348</td>\n",
       "      <td>1650.398209</td>\n",
       "      <td>-400.654533</td>\n",
       "      <td>34.894598</td>\n",
       "      <td>-498.444587</td>\n",
       "      <td>30.020745</td>\n",
       "      <td>-533.831343</td>\n",
       "      <td>26.022094</td>\n",
       "      <td>-499.725484</td>\n",
       "      <td>22.992992</td>\n",
       "      <td>-499.891405</td>\n",
       "      <td>23.001911</td>\n",
       "      <td>-499.947838</td>\n",
       "      <td>20.023735</td>\n",
       "      <td>-499.713680</td>\n",
       "      <td>17.990955</td>\n",
       "      <td>-500.334769</td>\n",
       "      <td>13.007523</td>\n",
       "      <td>-499.968459</td>\n",
       "      <td>19.995999</td>\n",
       "      <td>-499.788805</td>\n",
       "    </tr>\n",
       "  </tbody>\n",
       "</table>\n",
       "</div>"
      ],
      "text/plain": [
       "                  date  rougher.input.feed_au  rougher.input.feed_ag  \\\n",
       "0  2017-12-09 14:59:59               4.365491               6.158718   \n",
       "1  2017-12-09 15:59:59               4.362781               6.048130   \n",
       "2  2017-12-09 16:59:59               5.081681               6.082745   \n",
       "3  2017-12-09 17:59:59               5.145949               6.084374   \n",
       "4  2017-12-09 18:59:59               5.735249               6.165220   \n",
       "\n",
       "   rougher.input.feed_pb  rougher.input.feed_sol  rougher.input.feed_rate  \\\n",
       "0               3.875727               39.135119               555.820208   \n",
       "1               3.902537               39.713906               544.731687   \n",
       "2               4.564078               37.208683               558.155110   \n",
       "3               4.768124               36.808874               539.713765   \n",
       "4               4.512346               37.810642               558.713584   \n",
       "\n",
       "   rougher.input.feed_size  rougher.input.floatbank10_sulfate  \\\n",
       "0                94.544358                           6.146982   \n",
       "1               123.742430                           6.210119   \n",
       "2                82.610855                           7.363824   \n",
       "3                77.984784                           6.927072   \n",
       "4                86.434874                           7.823471   \n",
       "\n",
       "   rougher.input.floatbank10_xanthate  rougher.state.floatbank10_a_air  \\\n",
       "0                            9.308612                      1196.238112   \n",
       "1                            9.297709                      1201.904177   \n",
       "2                            9.003562                      1200.826926   \n",
       "3                            8.955597                      1199.292489   \n",
       "4                            7.490356                      1198.005449   \n",
       "\n",
       "   rougher.state.floatbank10_a_level  rougher.state.floatbank10_b_air  \\\n",
       "0                        -299.862743                      1147.248241   \n",
       "1                        -299.907308                      1154.087804   \n",
       "2                        -300.124116                      1150.754676   \n",
       "3                        -299.778385                      1152.512559   \n",
       "4                        -300.283401                      1099.481500   \n",
       "\n",
       "   rougher.state.floatbank10_b_level  rougher.state.floatbank10_c_air  \\\n",
       "0                        -500.363165                      1047.279065   \n",
       "1                        -500.036580                      1054.009756   \n",
       "2                        -499.986009                      1049.182824   \n",
       "3                        -500.338106                      1052.601592   \n",
       "4                        -499.702465                       999.539264   \n",
       "\n",
       "   rougher.state.floatbank10_c_level  rougher.state.floatbank10_d_air  \\\n",
       "0                        -500.354091                       948.756608   \n",
       "1                        -500.237335                       944.138793   \n",
       "2                        -500.014696                       948.085464   \n",
       "3                        -499.695075                       955.171539   \n",
       "4                        -499.306051                       889.445596   \n",
       "\n",
       "   rougher.state.floatbank10_d_level  rougher.state.floatbank10_e_air  \\\n",
       "0                        -498.439416                       849.441918   \n",
       "1                        -496.866953                       851.589767   \n",
       "2                        -499.997003                       850.170086   \n",
       "3                        -500.294989                       851.957342   \n",
       "4                        -498.118617                       800.533525   \n",
       "\n",
       "   rougher.state.floatbank10_e_level  rougher.state.floatbank10_f_air  \\\n",
       "0                        -499.255503                       850.112246   \n",
       "1                        -499.040466                       851.345606   \n",
       "2                        -500.270334                       849.557905   \n",
       "3                        -499.779541                       850.765662   \n",
       "4                        -499.765068                       800.510356   \n",
       "\n",
       "   rougher.state.floatbank10_f_level  rougher.input.floatbank11_sulfate  \\\n",
       "0                        -499.407112                           6.168939   \n",
       "1                        -499.122561                           6.209517   \n",
       "2                        -500.198702                           7.358308   \n",
       "3                        -501.030559                           6.929364   \n",
       "4                        -497.289533                           7.824875   \n",
       "\n",
       "   rougher.input.floatbank11_xanthate  primary_cleaner.input.sulfate  \\\n",
       "0                            9.309852                      95.248427   \n",
       "1                            9.297194                      98.880538   \n",
       "2                            9.000624                     119.497545   \n",
       "3                            8.920717                     108.080163   \n",
       "4                            7.500678                     117.750648   \n",
       "\n",
       "   primary_cleaner.input.depressant  primary_cleaner.input.feed_size  \\\n",
       "0                          8.078957                         6.500000   \n",
       "1                          7.984164                         6.500000   \n",
       "2                          8.003752                         6.500000   \n",
       "3                          7.970121                         6.660000   \n",
       "4                          6.954311                         6.426667   \n",
       "\n",
       "   primary_cleaner.input.xanthate  primary_cleaner.state.floatbank8_a_air  \\\n",
       "0                        1.283045                             1648.759906   \n",
       "1                        1.241969                             1646.547763   \n",
       "2                        1.259741                             1647.368779   \n",
       "3                        0.774909                             1652.660845   \n",
       "4                        0.731271                             1649.411497   \n",
       "\n",
       "   primary_cleaner.state.floatbank8_a_level  \\\n",
       "0                               -399.862053   \n",
       "1                               -398.977083   \n",
       "2                               -399.788506   \n",
       "3                               -399.702218   \n",
       "4                               -399.853156   \n",
       "\n",
       "   primary_cleaner.state.floatbank8_b_air  \\\n",
       "0                             1650.135395   \n",
       "1                             1648.212240   \n",
       "2                             1648.395206   \n",
       "3                             1651.203128   \n",
       "4                             1648.917211   \n",
       "\n",
       "   primary_cleaner.state.floatbank8_b_level  \\\n",
       "0                               -399.957321   \n",
       "1                               -400.383265   \n",
       "2                               -400.166490   \n",
       "3                               -400.291472   \n",
       "4                               -400.321866   \n",
       "\n",
       "   primary_cleaner.state.floatbank8_c_air  \\\n",
       "0                             1648.831890   \n",
       "1                             1648.917387   \n",
       "2                             1648.953828   \n",
       "3                             1651.924848   \n",
       "4                             1649.117753   \n",
       "\n",
       "   primary_cleaner.state.floatbank8_c_level  \\\n",
       "0                               -400.586116   \n",
       "1                               -399.521344   \n",
       "2                               -400.468641   \n",
       "3                               -398.058033   \n",
       "4                               -399.645348   \n",
       "\n",
       "   primary_cleaner.state.floatbank8_d_air  \\\n",
       "0                             1649.464582   \n",
       "1                             1651.498591   \n",
       "2                             1649.821569   \n",
       "3                             1650.782696   \n",
       "4                             1650.398209   \n",
       "\n",
       "   primary_cleaner.state.floatbank8_d_level  \\\n",
       "0                               -400.673303   \n",
       "1                               -399.745329   \n",
       "2                               -400.071884   \n",
       "3                               -399.597977   \n",
       "4                               -400.654533   \n",
       "\n",
       "   secondary_cleaner.state.floatbank2_a_air  \\\n",
       "0                                 34.940919   \n",
       "1                                 34.980742   \n",
       "2                                 34.952967   \n",
       "3                                 35.038256   \n",
       "4                                 34.894598   \n",
       "\n",
       "   secondary_cleaner.state.floatbank2_a_level  \\\n",
       "0                                 -500.150510   \n",
       "1                                 -498.131002   \n",
       "2                                 -501.204647   \n",
       "3                                 -500.102649   \n",
       "4                                 -498.444587   \n",
       "\n",
       "   secondary_cleaner.state.floatbank2_b_air  \\\n",
       "0                                 30.031867   \n",
       "1                                 29.968453   \n",
       "2                                 29.927025   \n",
       "3                                 30.066959   \n",
       "4                                 30.020745   \n",
       "\n",
       "   secondary_cleaner.state.floatbank2_b_level  \\\n",
       "0                                 -500.328335   \n",
       "1                                 -586.013330   \n",
       "2                                 -500.106628   \n",
       "3                                 -500.211499   \n",
       "4                                 -533.831343   \n",
       "\n",
       "   secondary_cleaner.state.floatbank3_a_air  \\\n",
       "0                                 26.033990   \n",
       "1                                 25.971737   \n",
       "2                                 25.978253   \n",
       "3                                 26.013515   \n",
       "4                                 26.022094   \n",
       "\n",
       "   secondary_cleaner.state.floatbank3_a_level  \\\n",
       "0                                 -500.147792   \n",
       "1                                 -499.608392   \n",
       "2                                 -499.890060   \n",
       "3                                 -500.054597   \n",
       "4                                 -499.725484   \n",
       "\n",
       "   secondary_cleaner.state.floatbank3_b_air  \\\n",
       "0                                 22.952306   \n",
       "1                                 22.958448   \n",
       "2                                 23.004376   \n",
       "3                                 22.988928   \n",
       "4                                 22.992992   \n",
       "\n",
       "   secondary_cleaner.state.floatbank3_b_level  \\\n",
       "0                                 -500.037678   \n",
       "1                                 -499.821308   \n",
       "2                                 -500.014529   \n",
       "3                                 -499.981410   \n",
       "4                                 -499.891405   \n",
       "\n",
       "   secondary_cleaner.state.floatbank4_a_air  \\\n",
       "0                                 23.018622   \n",
       "1                                 23.024963   \n",
       "2                                 22.993827   \n",
       "3                                 23.032807   \n",
       "4                                 23.001911   \n",
       "\n",
       "   secondary_cleaner.state.floatbank4_a_level  \\\n",
       "0                                 -500.492702   \n",
       "1                                 -501.153409   \n",
       "2                                 -501.559663   \n",
       "3                                 -501.287889   \n",
       "4                                 -499.947838   \n",
       "\n",
       "   secondary_cleaner.state.floatbank4_b_air  \\\n",
       "0                                 20.020205   \n",
       "1                                 20.054122   \n",
       "2                                 20.029144   \n",
       "3                                 19.977466   \n",
       "4                                 20.023735   \n",
       "\n",
       "   secondary_cleaner.state.floatbank4_b_level  \\\n",
       "0                                 -500.220296   \n",
       "1                                 -500.314711   \n",
       "2                                 -500.000662   \n",
       "3                                 -500.159903   \n",
       "4                                 -499.713680   \n",
       "\n",
       "   secondary_cleaner.state.floatbank5_a_air  \\\n",
       "0                                 17.963512   \n",
       "1                                 17.979515   \n",
       "2                                 18.012723   \n",
       "3                                 17.980463   \n",
       "4                                 17.990955   \n",
       "\n",
       "   secondary_cleaner.state.floatbank5_a_level  \\\n",
       "0                                 -499.939490   \n",
       "1                                 -499.272871   \n",
       "2                                 -500.024764   \n",
       "3                                 -500.504602   \n",
       "4                                 -500.334769   \n",
       "\n",
       "   secondary_cleaner.state.floatbank5_b_air  \\\n",
       "0                                 12.990306   \n",
       "1                                 12.992404   \n",
       "2                                 13.016445   \n",
       "3                                 12.949071   \n",
       "4                                 13.007523   \n",
       "\n",
       "   secondary_cleaner.state.floatbank5_b_level  \\\n",
       "0                                 -500.080993   \n",
       "1                                 -499.976268   \n",
       "2                                 -500.058432   \n",
       "3                                 -500.009937   \n",
       "4                                 -499.968459   \n",
       "\n",
       "   secondary_cleaner.state.floatbank6_a_air  \\\n",
       "0                                 19.990336   \n",
       "1                                 20.013986   \n",
       "2                                 19.973767   \n",
       "3                                 20.010332   \n",
       "4                                 19.995999   \n",
       "\n",
       "   secondary_cleaner.state.floatbank6_a_level  \n",
       "0                                 -499.191575  \n",
       "1                                 -500.625471  \n",
       "2                                 -501.394155  \n",
       "3                                 -508.337973  \n",
       "4                                 -499.788805  "
      ]
     },
     "metadata": {},
     "output_type": "display_data"
    },
    {
     "name": "stdout",
     "output_type": "stream",
     "text": [
      "--------------------------------------------SHAPE---------------------------------------------------\n"
     ]
    },
    {
     "data": {
      "text/plain": [
       "(4860, 53)"
      ]
     },
     "metadata": {},
     "output_type": "display_data"
    },
    {
     "name": "stdout",
     "output_type": "stream",
     "text": [
      "-----------------------------------------DTYPES-----------------------------------------------------\n"
     ]
    },
    {
     "data": {
      "text/plain": [
       "date                                           object\n",
       "rougher.input.feed_au                         float64\n",
       "rougher.input.feed_ag                         float64\n",
       "rougher.input.feed_pb                         float64\n",
       "rougher.input.feed_sol                        float64\n",
       "rougher.input.feed_rate                       float64\n",
       "rougher.input.feed_size                       float64\n",
       "rougher.input.floatbank10_sulfate             float64\n",
       "rougher.input.floatbank10_xanthate            float64\n",
       "rougher.state.floatbank10_a_air               float64\n",
       "rougher.state.floatbank10_a_level             float64\n",
       "rougher.state.floatbank10_b_air               float64\n",
       "rougher.state.floatbank10_b_level             float64\n",
       "rougher.state.floatbank10_c_air               float64\n",
       "rougher.state.floatbank10_c_level             float64\n",
       "rougher.state.floatbank10_d_air               float64\n",
       "rougher.state.floatbank10_d_level             float64\n",
       "rougher.state.floatbank10_e_air               float64\n",
       "rougher.state.floatbank10_e_level             float64\n",
       "rougher.state.floatbank10_f_air               float64\n",
       "rougher.state.floatbank10_f_level             float64\n",
       "rougher.input.floatbank11_sulfate             float64\n",
       "rougher.input.floatbank11_xanthate            float64\n",
       "primary_cleaner.input.sulfate                 float64\n",
       "primary_cleaner.input.depressant              float64\n",
       "primary_cleaner.input.feed_size               float64\n",
       "primary_cleaner.input.xanthate                float64\n",
       "primary_cleaner.state.floatbank8_a_air        float64\n",
       "primary_cleaner.state.floatbank8_a_level      float64\n",
       "primary_cleaner.state.floatbank8_b_air        float64\n",
       "primary_cleaner.state.floatbank8_b_level      float64\n",
       "primary_cleaner.state.floatbank8_c_air        float64\n",
       "primary_cleaner.state.floatbank8_c_level      float64\n",
       "primary_cleaner.state.floatbank8_d_air        float64\n",
       "primary_cleaner.state.floatbank8_d_level      float64\n",
       "secondary_cleaner.state.floatbank2_a_air      float64\n",
       "secondary_cleaner.state.floatbank2_a_level    float64\n",
       "secondary_cleaner.state.floatbank2_b_air      float64\n",
       "secondary_cleaner.state.floatbank2_b_level    float64\n",
       "secondary_cleaner.state.floatbank3_a_air      float64\n",
       "secondary_cleaner.state.floatbank3_a_level    float64\n",
       "secondary_cleaner.state.floatbank3_b_air      float64\n",
       "secondary_cleaner.state.floatbank3_b_level    float64\n",
       "secondary_cleaner.state.floatbank4_a_air      float64\n",
       "secondary_cleaner.state.floatbank4_a_level    float64\n",
       "secondary_cleaner.state.floatbank4_b_air      float64\n",
       "secondary_cleaner.state.floatbank4_b_level    float64\n",
       "secondary_cleaner.state.floatbank5_a_air      float64\n",
       "secondary_cleaner.state.floatbank5_a_level    float64\n",
       "secondary_cleaner.state.floatbank5_b_air      float64\n",
       "secondary_cleaner.state.floatbank5_b_level    float64\n",
       "secondary_cleaner.state.floatbank6_a_air      float64\n",
       "secondary_cleaner.state.floatbank6_a_level    float64\n",
       "dtype: object"
      ]
     },
     "metadata": {},
     "output_type": "display_data"
    },
    {
     "name": "stdout",
     "output_type": "stream",
     "text": [
      "--------------------------------------------NAN-----------------------------------------------------\n"
     ]
    },
    {
     "data": {
      "text/plain": [
       "date                                            0\n",
       "rougher.input.feed_au                           0\n",
       "rougher.input.feed_ag                           0\n",
       "rougher.input.feed_pb                          28\n",
       "rougher.input.feed_sol                         22\n",
       "rougher.input.feed_rate                         4\n",
       "rougher.input.feed_size                        44\n",
       "rougher.input.floatbank10_sulfate               3\n",
       "rougher.input.floatbank10_xanthate              1\n",
       "rougher.state.floatbank10_a_air                 1\n",
       "rougher.state.floatbank10_a_level               1\n",
       "rougher.state.floatbank10_b_air                 1\n",
       "rougher.state.floatbank10_b_level               1\n",
       "rougher.state.floatbank10_c_air                 1\n",
       "rougher.state.floatbank10_c_level               1\n",
       "rougher.state.floatbank10_d_air                 0\n",
       "rougher.state.floatbank10_d_level               0\n",
       "rougher.state.floatbank10_e_air                 7\n",
       "rougher.state.floatbank10_e_level               0\n",
       "rougher.state.floatbank10_f_air                 0\n",
       "rougher.state.floatbank10_f_level               0\n",
       "rougher.input.floatbank11_sulfate               8\n",
       "rougher.input.floatbank11_xanthate             46\n",
       "primary_cleaner.input.sulfate                   1\n",
       "primary_cleaner.input.depressant                9\n",
       "primary_cleaner.input.feed_size                 0\n",
       "primary_cleaner.input.xanthate                 43\n",
       "primary_cleaner.state.floatbank8_a_air          1\n",
       "primary_cleaner.state.floatbank8_a_level        1\n",
       "primary_cleaner.state.floatbank8_b_air          1\n",
       "primary_cleaner.state.floatbank8_b_level        1\n",
       "primary_cleaner.state.floatbank8_c_air          2\n",
       "primary_cleaner.state.floatbank8_c_level        1\n",
       "primary_cleaner.state.floatbank8_d_air          2\n",
       "primary_cleaner.state.floatbank8_d_level        1\n",
       "secondary_cleaner.state.floatbank2_a_air      126\n",
       "secondary_cleaner.state.floatbank2_a_level      1\n",
       "secondary_cleaner.state.floatbank2_b_air        1\n",
       "secondary_cleaner.state.floatbank2_b_level      1\n",
       "secondary_cleaner.state.floatbank3_a_air        1\n",
       "secondary_cleaner.state.floatbank3_a_level      1\n",
       "secondary_cleaner.state.floatbank3_b_air        1\n",
       "secondary_cleaner.state.floatbank3_b_level      1\n",
       "secondary_cleaner.state.floatbank4_a_air        1\n",
       "secondary_cleaner.state.floatbank4_a_level      1\n",
       "secondary_cleaner.state.floatbank4_b_air        1\n",
       "secondary_cleaner.state.floatbank4_b_level      1\n",
       "secondary_cleaner.state.floatbank5_a_air        1\n",
       "secondary_cleaner.state.floatbank5_a_level      1\n",
       "secondary_cleaner.state.floatbank5_b_air        1\n",
       "secondary_cleaner.state.floatbank5_b_level      1\n",
       "secondary_cleaner.state.floatbank6_a_air        1\n",
       "secondary_cleaner.state.floatbank6_a_level      1\n",
       "dtype: int64"
      ]
     },
     "metadata": {},
     "output_type": "display_data"
    },
    {
     "name": "stdout",
     "output_type": "stream",
     "text": [
      "----------------------------------------DUPLICATES--------------------------------------------------\n",
      "0\n"
     ]
    }
   ],
   "source": [
    "learn_data(test)"
   ]
  },
  {
   "cell_type": "markdown",
   "metadata": {},
   "source": [
    "**Вывод по переменной train:** явных дубликатов нет, есть пропуски, с которыми нужно будет поработать на этапе предобработки. Тип даты изменю на datetime в рамках предобработки данных. Все остальные типы данных корректные. Количество колонок значительно отличается от тренировочной выборки, нужно будет изучить этот вопрос на этапе предобработки."
   ]
  },
  {
   "cell_type": "markdown",
   "metadata": {},
   "source": [
    "Изучение переменной data:"
   ]
  },
  {
   "cell_type": "code",
   "execution_count": 7,
   "metadata": {
    "scrolled": true
   },
   "outputs": [
    {
     "name": "stdout",
     "output_type": "stream",
     "text": [
      "---------------------------------------HEAD---------------------------------------------------------\n"
     ]
    },
    {
     "data": {
      "text/html": [
       "<div>\n",
       "<style scoped>\n",
       "    .dataframe tbody tr th:only-of-type {\n",
       "        vertical-align: middle;\n",
       "    }\n",
       "\n",
       "    .dataframe tbody tr th {\n",
       "        vertical-align: top;\n",
       "    }\n",
       "\n",
       "    .dataframe thead th {\n",
       "        text-align: right;\n",
       "    }\n",
       "</style>\n",
       "<table border=\"1\" class=\"dataframe\">\n",
       "  <thead>\n",
       "    <tr style=\"text-align: right;\">\n",
       "      <th></th>\n",
       "      <th>date</th>\n",
       "      <th>rougher.input.feed_au</th>\n",
       "      <th>rougher.input.feed_ag</th>\n",
       "      <th>rougher.input.feed_pb</th>\n",
       "      <th>rougher.input.feed_sol</th>\n",
       "      <th>rougher.input.feed_rate</th>\n",
       "      <th>rougher.input.feed_size</th>\n",
       "      <th>rougher.input.floatbank10_sulfate</th>\n",
       "      <th>rougher.input.floatbank10_xanthate</th>\n",
       "      <th>rougher.state.floatbank10_a_air</th>\n",
       "      <th>rougher.state.floatbank10_a_level</th>\n",
       "      <th>rougher.state.floatbank10_b_air</th>\n",
       "      <th>rougher.state.floatbank10_b_level</th>\n",
       "      <th>rougher.state.floatbank10_c_air</th>\n",
       "      <th>rougher.state.floatbank10_c_level</th>\n",
       "      <th>rougher.state.floatbank10_d_air</th>\n",
       "      <th>rougher.state.floatbank10_d_level</th>\n",
       "      <th>rougher.state.floatbank10_e_air</th>\n",
       "      <th>rougher.state.floatbank10_e_level</th>\n",
       "      <th>rougher.state.floatbank10_f_air</th>\n",
       "      <th>rougher.state.floatbank10_f_level</th>\n",
       "      <th>rougher.input.floatbank11_sulfate</th>\n",
       "      <th>rougher.input.floatbank11_xanthate</th>\n",
       "      <th>rougher.calculation.sulfate_to_au_concentrate</th>\n",
       "      <th>rougher.calculation.floatbank10_sulfate_to_au_feed</th>\n",
       "      <th>rougher.calculation.floatbank11_sulfate_to_au_feed</th>\n",
       "      <th>rougher.calculation.au_pb_ratio</th>\n",
       "      <th>rougher.output.concentrate_au</th>\n",
       "      <th>rougher.output.concentrate_ag</th>\n",
       "      <th>rougher.output.concentrate_pb</th>\n",
       "      <th>rougher.output.concentrate_sol</th>\n",
       "      <th>rougher.output.recovery</th>\n",
       "      <th>rougher.output.tail_au</th>\n",
       "      <th>rougher.output.tail_ag</th>\n",
       "      <th>rougher.output.tail_pb</th>\n",
       "      <th>rougher.output.tail_sol</th>\n",
       "      <th>primary_cleaner.input.sulfate</th>\n",
       "      <th>primary_cleaner.input.depressant</th>\n",
       "      <th>primary_cleaner.input.feed_size</th>\n",
       "      <th>primary_cleaner.input.xanthate</th>\n",
       "      <th>primary_cleaner.state.floatbank8_a_air</th>\n",
       "      <th>primary_cleaner.state.floatbank8_a_level</th>\n",
       "      <th>primary_cleaner.state.floatbank8_b_air</th>\n",
       "      <th>primary_cleaner.state.floatbank8_b_level</th>\n",
       "      <th>primary_cleaner.state.floatbank8_c_air</th>\n",
       "      <th>primary_cleaner.state.floatbank8_c_level</th>\n",
       "      <th>primary_cleaner.state.floatbank8_d_air</th>\n",
       "      <th>primary_cleaner.state.floatbank8_d_level</th>\n",
       "      <th>primary_cleaner.output.concentrate_au</th>\n",
       "      <th>primary_cleaner.output.concentrate_ag</th>\n",
       "      <th>primary_cleaner.output.concentrate_pb</th>\n",
       "      <th>primary_cleaner.output.concentrate_sol</th>\n",
       "      <th>primary_cleaner.output.tail_au</th>\n",
       "      <th>primary_cleaner.output.tail_ag</th>\n",
       "      <th>primary_cleaner.output.tail_pb</th>\n",
       "      <th>primary_cleaner.output.tail_sol</th>\n",
       "      <th>secondary_cleaner.state.floatbank2_a_air</th>\n",
       "      <th>secondary_cleaner.state.floatbank2_a_level</th>\n",
       "      <th>secondary_cleaner.state.floatbank2_b_air</th>\n",
       "      <th>secondary_cleaner.state.floatbank2_b_level</th>\n",
       "      <th>secondary_cleaner.state.floatbank3_a_air</th>\n",
       "      <th>secondary_cleaner.state.floatbank3_a_level</th>\n",
       "      <th>secondary_cleaner.state.floatbank3_b_air</th>\n",
       "      <th>secondary_cleaner.state.floatbank3_b_level</th>\n",
       "      <th>secondary_cleaner.state.floatbank4_a_air</th>\n",
       "      <th>secondary_cleaner.state.floatbank4_a_level</th>\n",
       "      <th>secondary_cleaner.state.floatbank4_b_air</th>\n",
       "      <th>secondary_cleaner.state.floatbank4_b_level</th>\n",
       "      <th>secondary_cleaner.state.floatbank5_a_air</th>\n",
       "      <th>secondary_cleaner.state.floatbank5_a_level</th>\n",
       "      <th>secondary_cleaner.state.floatbank5_b_air</th>\n",
       "      <th>secondary_cleaner.state.floatbank5_b_level</th>\n",
       "      <th>secondary_cleaner.state.floatbank6_a_air</th>\n",
       "      <th>secondary_cleaner.state.floatbank6_a_level</th>\n",
       "      <th>secondary_cleaner.output.tail_au</th>\n",
       "      <th>secondary_cleaner.output.tail_ag</th>\n",
       "      <th>secondary_cleaner.output.tail_pb</th>\n",
       "      <th>secondary_cleaner.output.tail_sol</th>\n",
       "      <th>final.output.concentrate_au</th>\n",
       "      <th>final.output.concentrate_ag</th>\n",
       "      <th>final.output.concentrate_pb</th>\n",
       "      <th>final.output.concentrate_sol</th>\n",
       "      <th>final.output.recovery</th>\n",
       "      <th>final.output.tail_au</th>\n",
       "      <th>final.output.tail_ag</th>\n",
       "      <th>final.output.tail_pb</th>\n",
       "      <th>final.output.tail_sol</th>\n",
       "    </tr>\n",
       "  </thead>\n",
       "  <tbody>\n",
       "    <tr>\n",
       "      <th>0</th>\n",
       "      <td>2016-01-15 00:00:00</td>\n",
       "      <td>6.486150</td>\n",
       "      <td>6.100378</td>\n",
       "      <td>2.284912</td>\n",
       "      <td>36.808594</td>\n",
       "      <td>523.546326</td>\n",
       "      <td>55.486599</td>\n",
       "      <td>11.986616</td>\n",
       "      <td>6.007990</td>\n",
       "      <td>999.706909</td>\n",
       "      <td>-404.066986</td>\n",
       "      <td>1603.011353</td>\n",
       "      <td>-434.715027</td>\n",
       "      <td>1602.375000</td>\n",
       "      <td>-442.204468</td>\n",
       "      <td>1598.937256</td>\n",
       "      <td>-451.294128</td>\n",
       "      <td>1404.472046</td>\n",
       "      <td>-455.462982</td>\n",
       "      <td>1416.354980</td>\n",
       "      <td>-451.939636</td>\n",
       "      <td>11.836743</td>\n",
       "      <td>6.005818</td>\n",
       "      <td>41885.707031</td>\n",
       "      <td>3481.779053</td>\n",
       "      <td>3520.337158</td>\n",
       "      <td>2.838687</td>\n",
       "      <td>19.793808</td>\n",
       "      <td>11.500771</td>\n",
       "      <td>7.101074</td>\n",
       "      <td>28.029297</td>\n",
       "      <td>87.107763</td>\n",
       "      <td>1.170244</td>\n",
       "      <td>5.008018</td>\n",
       "      <td>0.508728</td>\n",
       "      <td>19.154297</td>\n",
       "      <td>127.092003</td>\n",
       "      <td>10.128295</td>\n",
       "      <td>7.25</td>\n",
       "      <td>0.988759</td>\n",
       "      <td>1549.775757</td>\n",
       "      <td>-498.912140</td>\n",
       "      <td>1551.434204</td>\n",
       "      <td>-516.403442</td>\n",
       "      <td>1549.873901</td>\n",
       "      <td>-498.666595</td>\n",
       "      <td>1554.367432</td>\n",
       "      <td>-493.428131</td>\n",
       "      <td>34.174427</td>\n",
       "      <td>8.547551</td>\n",
       "      <td>10.389648</td>\n",
       "      <td>19.529297</td>\n",
       "      <td>2.106679</td>\n",
       "      <td>14.936526</td>\n",
       "      <td>2.534912</td>\n",
       "      <td>7.476074</td>\n",
       "      <td>25.853109</td>\n",
       "      <td>-498.526489</td>\n",
       "      <td>23.893660</td>\n",
       "      <td>-501.406281</td>\n",
       "      <td>23.961798</td>\n",
       "      <td>-495.262817</td>\n",
       "      <td>21.940409</td>\n",
       "      <td>-499.340973</td>\n",
       "      <td>14.016835</td>\n",
       "      <td>-502.488007</td>\n",
       "      <td>12.099931</td>\n",
       "      <td>-504.715942</td>\n",
       "      <td>9.925633</td>\n",
       "      <td>-498.310211</td>\n",
       "      <td>8.079666</td>\n",
       "      <td>-500.470978</td>\n",
       "      <td>14.151341</td>\n",
       "      <td>-605.841980</td>\n",
       "      <td>2.606185</td>\n",
       "      <td>14.500184</td>\n",
       "      <td>4.694824</td>\n",
       "      <td>8.764648</td>\n",
       "      <td>42.192020</td>\n",
       "      <td>6.055403</td>\n",
       "      <td>9.889648</td>\n",
       "      <td>5.507324</td>\n",
       "      <td>70.541216</td>\n",
       "      <td>2.143149</td>\n",
       "      <td>10.411962</td>\n",
       "      <td>0.895447</td>\n",
       "      <td>16.904297</td>\n",
       "    </tr>\n",
       "    <tr>\n",
       "      <th>1</th>\n",
       "      <td>2016-01-15 01:00:00</td>\n",
       "      <td>6.478583</td>\n",
       "      <td>6.161113</td>\n",
       "      <td>2.266033</td>\n",
       "      <td>35.753385</td>\n",
       "      <td>525.290581</td>\n",
       "      <td>57.278666</td>\n",
       "      <td>11.971193</td>\n",
       "      <td>6.005766</td>\n",
       "      <td>1000.286398</td>\n",
       "      <td>-400.065196</td>\n",
       "      <td>1600.754587</td>\n",
       "      <td>-449.953435</td>\n",
       "      <td>1600.479580</td>\n",
       "      <td>-449.830646</td>\n",
       "      <td>1600.527589</td>\n",
       "      <td>-449.953649</td>\n",
       "      <td>1399.227084</td>\n",
       "      <td>-450.869848</td>\n",
       "      <td>1399.719514</td>\n",
       "      <td>-450.119001</td>\n",
       "      <td>11.996163</td>\n",
       "      <td>6.012594</td>\n",
       "      <td>42050.861809</td>\n",
       "      <td>3498.370979</td>\n",
       "      <td>3489.981857</td>\n",
       "      <td>2.858998</td>\n",
       "      <td>20.050975</td>\n",
       "      <td>11.615865</td>\n",
       "      <td>7.278807</td>\n",
       "      <td>28.067063</td>\n",
       "      <td>86.843261</td>\n",
       "      <td>1.184827</td>\n",
       "      <td>4.955378</td>\n",
       "      <td>0.536689</td>\n",
       "      <td>18.965234</td>\n",
       "      <td>125.629232</td>\n",
       "      <td>10.296251</td>\n",
       "      <td>7.25</td>\n",
       "      <td>1.002663</td>\n",
       "      <td>1576.166671</td>\n",
       "      <td>-500.904965</td>\n",
       "      <td>1575.950626</td>\n",
       "      <td>-499.865889</td>\n",
       "      <td>1575.994189</td>\n",
       "      <td>-499.315107</td>\n",
       "      <td>1574.479259</td>\n",
       "      <td>-498.931665</td>\n",
       "      <td>34.118526</td>\n",
       "      <td>8.558743</td>\n",
       "      <td>10.497069</td>\n",
       "      <td>19.369147</td>\n",
       "      <td>2.353017</td>\n",
       "      <td>16.250511</td>\n",
       "      <td>3.049646</td>\n",
       "      <td>6.733907</td>\n",
       "      <td>25.880539</td>\n",
       "      <td>-499.989656</td>\n",
       "      <td>23.889530</td>\n",
       "      <td>-500.372428</td>\n",
       "      <td>23.970550</td>\n",
       "      <td>-500.085473</td>\n",
       "      <td>22.085714</td>\n",
       "      <td>-499.446897</td>\n",
       "      <td>13.992281</td>\n",
       "      <td>-505.503262</td>\n",
       "      <td>11.950531</td>\n",
       "      <td>-501.331529</td>\n",
       "      <td>10.039245</td>\n",
       "      <td>-500.169983</td>\n",
       "      <td>7.984757</td>\n",
       "      <td>-500.582168</td>\n",
       "      <td>13.998353</td>\n",
       "      <td>-599.787184</td>\n",
       "      <td>2.488248</td>\n",
       "      <td>14.265474</td>\n",
       "      <td>4.592547</td>\n",
       "      <td>9.001494</td>\n",
       "      <td>42.701629</td>\n",
       "      <td>6.029369</td>\n",
       "      <td>9.968944</td>\n",
       "      <td>5.257781</td>\n",
       "      <td>69.266198</td>\n",
       "      <td>2.224930</td>\n",
       "      <td>10.462676</td>\n",
       "      <td>0.927452</td>\n",
       "      <td>16.634514</td>\n",
       "    </tr>\n",
       "    <tr>\n",
       "      <th>2</th>\n",
       "      <td>2016-01-15 02:00:00</td>\n",
       "      <td>6.362222</td>\n",
       "      <td>6.116455</td>\n",
       "      <td>2.159622</td>\n",
       "      <td>35.971630</td>\n",
       "      <td>530.026610</td>\n",
       "      <td>57.510649</td>\n",
       "      <td>11.920603</td>\n",
       "      <td>6.197377</td>\n",
       "      <td>999.719565</td>\n",
       "      <td>-400.074028</td>\n",
       "      <td>1599.337330</td>\n",
       "      <td>-450.008530</td>\n",
       "      <td>1599.672797</td>\n",
       "      <td>-449.954491</td>\n",
       "      <td>1599.849325</td>\n",
       "      <td>-449.954185</td>\n",
       "      <td>1399.180945</td>\n",
       "      <td>-449.937588</td>\n",
       "      <td>1400.316682</td>\n",
       "      <td>-450.527147</td>\n",
       "      <td>11.920305</td>\n",
       "      <td>6.204633</td>\n",
       "      <td>42018.101184</td>\n",
       "      <td>3495.348910</td>\n",
       "      <td>3502.359819</td>\n",
       "      <td>2.945989</td>\n",
       "      <td>19.737170</td>\n",
       "      <td>11.695753</td>\n",
       "      <td>7.216833</td>\n",
       "      <td>27.454037</td>\n",
       "      <td>86.842308</td>\n",
       "      <td>1.162562</td>\n",
       "      <td>4.843460</td>\n",
       "      <td>0.546416</td>\n",
       "      <td>18.808533</td>\n",
       "      <td>123.819808</td>\n",
       "      <td>11.316280</td>\n",
       "      <td>7.25</td>\n",
       "      <td>0.991265</td>\n",
       "      <td>1601.556163</td>\n",
       "      <td>-499.997791</td>\n",
       "      <td>1600.386685</td>\n",
       "      <td>-500.607762</td>\n",
       "      <td>1602.003542</td>\n",
       "      <td>-500.870069</td>\n",
       "      <td>1599.541515</td>\n",
       "      <td>-499.827444</td>\n",
       "      <td>33.969464</td>\n",
       "      <td>8.603505</td>\n",
       "      <td>10.354494</td>\n",
       "      <td>19.167579</td>\n",
       "      <td>2.416800</td>\n",
       "      <td>16.491823</td>\n",
       "      <td>3.124664</td>\n",
       "      <td>6.471768</td>\n",
       "      <td>26.005245</td>\n",
       "      <td>-499.929616</td>\n",
       "      <td>23.886657</td>\n",
       "      <td>-499.951928</td>\n",
       "      <td>23.913535</td>\n",
       "      <td>-499.442343</td>\n",
       "      <td>23.957717</td>\n",
       "      <td>-499.901982</td>\n",
       "      <td>14.015015</td>\n",
       "      <td>-502.520901</td>\n",
       "      <td>11.912783</td>\n",
       "      <td>-501.133383</td>\n",
       "      <td>10.070913</td>\n",
       "      <td>-500.129135</td>\n",
       "      <td>8.013877</td>\n",
       "      <td>-500.517572</td>\n",
       "      <td>14.028663</td>\n",
       "      <td>-601.427363</td>\n",
       "      <td>2.458187</td>\n",
       "      <td>14.115662</td>\n",
       "      <td>4.624775</td>\n",
       "      <td>8.842896</td>\n",
       "      <td>42.657501</td>\n",
       "      <td>6.055926</td>\n",
       "      <td>10.213995</td>\n",
       "      <td>5.383759</td>\n",
       "      <td>68.116445</td>\n",
       "      <td>2.257889</td>\n",
       "      <td>10.507046</td>\n",
       "      <td>0.953716</td>\n",
       "      <td>16.208849</td>\n",
       "    </tr>\n",
       "    <tr>\n",
       "      <th>3</th>\n",
       "      <td>2016-01-15 03:00:00</td>\n",
       "      <td>6.118189</td>\n",
       "      <td>6.043309</td>\n",
       "      <td>2.037807</td>\n",
       "      <td>36.862241</td>\n",
       "      <td>542.590390</td>\n",
       "      <td>57.792734</td>\n",
       "      <td>11.630094</td>\n",
       "      <td>6.203177</td>\n",
       "      <td>999.814770</td>\n",
       "      <td>-400.200179</td>\n",
       "      <td>1600.059442</td>\n",
       "      <td>-450.619948</td>\n",
       "      <td>1600.012842</td>\n",
       "      <td>-449.910497</td>\n",
       "      <td>1597.725177</td>\n",
       "      <td>-450.130127</td>\n",
       "      <td>1400.943157</td>\n",
       "      <td>-450.030142</td>\n",
       "      <td>1400.234743</td>\n",
       "      <td>-449.790835</td>\n",
       "      <td>11.692450</td>\n",
       "      <td>6.196578</td>\n",
       "      <td>42029.447991</td>\n",
       "      <td>3498.578313</td>\n",
       "      <td>3499.162912</td>\n",
       "      <td>3.002340</td>\n",
       "      <td>19.320810</td>\n",
       "      <td>11.915047</td>\n",
       "      <td>7.175616</td>\n",
       "      <td>27.341277</td>\n",
       "      <td>87.226430</td>\n",
       "      <td>1.079755</td>\n",
       "      <td>4.655288</td>\n",
       "      <td>0.542525</td>\n",
       "      <td>19.330200</td>\n",
       "      <td>122.270188</td>\n",
       "      <td>11.322140</td>\n",
       "      <td>7.25</td>\n",
       "      <td>0.996739</td>\n",
       "      <td>1599.968720</td>\n",
       "      <td>-500.951778</td>\n",
       "      <td>1600.659236</td>\n",
       "      <td>-499.677094</td>\n",
       "      <td>1600.304144</td>\n",
       "      <td>-500.727997</td>\n",
       "      <td>1600.449520</td>\n",
       "      <td>-500.052575</td>\n",
       "      <td>28.260743</td>\n",
       "      <td>7.221879</td>\n",
       "      <td>8.496563</td>\n",
       "      <td>15.978538</td>\n",
       "      <td>2.262051</td>\n",
       "      <td>16.024359</td>\n",
       "      <td>2.960362</td>\n",
       "      <td>6.843791</td>\n",
       "      <td>25.942508</td>\n",
       "      <td>-499.176749</td>\n",
       "      <td>23.955516</td>\n",
       "      <td>-499.848796</td>\n",
       "      <td>23.966838</td>\n",
       "      <td>-500.008812</td>\n",
       "      <td>23.954443</td>\n",
       "      <td>-499.944710</td>\n",
       "      <td>14.036510</td>\n",
       "      <td>-500.857308</td>\n",
       "      <td>11.999550</td>\n",
       "      <td>-501.193686</td>\n",
       "      <td>9.970366</td>\n",
       "      <td>-499.201640</td>\n",
       "      <td>7.977324</td>\n",
       "      <td>-500.255908</td>\n",
       "      <td>14.005551</td>\n",
       "      <td>-599.996129</td>\n",
       "      <td>2.322062</td>\n",
       "      <td>13.732071</td>\n",
       "      <td>4.482453</td>\n",
       "      <td>9.122857</td>\n",
       "      <td>42.689819</td>\n",
       "      <td>6.047977</td>\n",
       "      <td>9.977019</td>\n",
       "      <td>4.858634</td>\n",
       "      <td>68.347543</td>\n",
       "      <td>2.146849</td>\n",
       "      <td>10.422762</td>\n",
       "      <td>0.883763</td>\n",
       "      <td>16.532835</td>\n",
       "    </tr>\n",
       "    <tr>\n",
       "      <th>4</th>\n",
       "      <td>2016-01-15 04:00:00</td>\n",
       "      <td>5.663707</td>\n",
       "      <td>6.060915</td>\n",
       "      <td>1.786875</td>\n",
       "      <td>34.347666</td>\n",
       "      <td>540.531893</td>\n",
       "      <td>56.047189</td>\n",
       "      <td>10.957755</td>\n",
       "      <td>6.198826</td>\n",
       "      <td>999.678690</td>\n",
       "      <td>-399.752729</td>\n",
       "      <td>1600.208824</td>\n",
       "      <td>-449.599614</td>\n",
       "      <td>1600.357732</td>\n",
       "      <td>-450.034364</td>\n",
       "      <td>1599.759049</td>\n",
       "      <td>-449.909799</td>\n",
       "      <td>1401.560902</td>\n",
       "      <td>-448.877187</td>\n",
       "      <td>1401.160227</td>\n",
       "      <td>-450.407128</td>\n",
       "      <td>10.960521</td>\n",
       "      <td>6.194897</td>\n",
       "      <td>42125.354245</td>\n",
       "      <td>3494.800771</td>\n",
       "      <td>3506.679315</td>\n",
       "      <td>3.169615</td>\n",
       "      <td>19.216101</td>\n",
       "      <td>12.411054</td>\n",
       "      <td>7.240205</td>\n",
       "      <td>27.041023</td>\n",
       "      <td>86.688794</td>\n",
       "      <td>1.012642</td>\n",
       "      <td>4.552800</td>\n",
       "      <td>0.515438</td>\n",
       "      <td>19.267422</td>\n",
       "      <td>117.988169</td>\n",
       "      <td>11.913613</td>\n",
       "      <td>7.25</td>\n",
       "      <td>1.009869</td>\n",
       "      <td>1601.339707</td>\n",
       "      <td>-498.975456</td>\n",
       "      <td>1601.437854</td>\n",
       "      <td>-500.323246</td>\n",
       "      <td>1599.581894</td>\n",
       "      <td>-500.888152</td>\n",
       "      <td>1602.649541</td>\n",
       "      <td>-500.593010</td>\n",
       "      <td>33.044932</td>\n",
       "      <td>9.089428</td>\n",
       "      <td>9.986786</td>\n",
       "      <td>19.199864</td>\n",
       "      <td>2.277073</td>\n",
       "      <td>16.480185</td>\n",
       "      <td>3.112100</td>\n",
       "      <td>6.550154</td>\n",
       "      <td>26.024787</td>\n",
       "      <td>-500.279091</td>\n",
       "      <td>23.955345</td>\n",
       "      <td>-500.593614</td>\n",
       "      <td>23.985703</td>\n",
       "      <td>-500.083811</td>\n",
       "      <td>23.958945</td>\n",
       "      <td>-499.990309</td>\n",
       "      <td>14.027298</td>\n",
       "      <td>-499.838632</td>\n",
       "      <td>11.953070</td>\n",
       "      <td>-501.053894</td>\n",
       "      <td>9.925709</td>\n",
       "      <td>-501.686727</td>\n",
       "      <td>7.894242</td>\n",
       "      <td>-500.356035</td>\n",
       "      <td>13.996647</td>\n",
       "      <td>-601.496691</td>\n",
       "      <td>2.330448</td>\n",
       "      <td>14.079996</td>\n",
       "      <td>4.470737</td>\n",
       "      <td>8.871028</td>\n",
       "      <td>42.774141</td>\n",
       "      <td>6.148599</td>\n",
       "      <td>10.142511</td>\n",
       "      <td>4.939416</td>\n",
       "      <td>66.927016</td>\n",
       "      <td>2.055292</td>\n",
       "      <td>10.360302</td>\n",
       "      <td>0.792826</td>\n",
       "      <td>16.525686</td>\n",
       "    </tr>\n",
       "  </tbody>\n",
       "</table>\n",
       "</div>"
      ],
      "text/plain": [
       "                  date  rougher.input.feed_au  rougher.input.feed_ag  \\\n",
       "0  2016-01-15 00:00:00               6.486150               6.100378   \n",
       "1  2016-01-15 01:00:00               6.478583               6.161113   \n",
       "2  2016-01-15 02:00:00               6.362222               6.116455   \n",
       "3  2016-01-15 03:00:00               6.118189               6.043309   \n",
       "4  2016-01-15 04:00:00               5.663707               6.060915   \n",
       "\n",
       "   rougher.input.feed_pb  rougher.input.feed_sol  rougher.input.feed_rate  \\\n",
       "0               2.284912               36.808594               523.546326   \n",
       "1               2.266033               35.753385               525.290581   \n",
       "2               2.159622               35.971630               530.026610   \n",
       "3               2.037807               36.862241               542.590390   \n",
       "4               1.786875               34.347666               540.531893   \n",
       "\n",
       "   rougher.input.feed_size  rougher.input.floatbank10_sulfate  \\\n",
       "0                55.486599                          11.986616   \n",
       "1                57.278666                          11.971193   \n",
       "2                57.510649                          11.920603   \n",
       "3                57.792734                          11.630094   \n",
       "4                56.047189                          10.957755   \n",
       "\n",
       "   rougher.input.floatbank10_xanthate  rougher.state.floatbank10_a_air  \\\n",
       "0                            6.007990                       999.706909   \n",
       "1                            6.005766                      1000.286398   \n",
       "2                            6.197377                       999.719565   \n",
       "3                            6.203177                       999.814770   \n",
       "4                            6.198826                       999.678690   \n",
       "\n",
       "   rougher.state.floatbank10_a_level  rougher.state.floatbank10_b_air  \\\n",
       "0                        -404.066986                      1603.011353   \n",
       "1                        -400.065196                      1600.754587   \n",
       "2                        -400.074028                      1599.337330   \n",
       "3                        -400.200179                      1600.059442   \n",
       "4                        -399.752729                      1600.208824   \n",
       "\n",
       "   rougher.state.floatbank10_b_level  rougher.state.floatbank10_c_air  \\\n",
       "0                        -434.715027                      1602.375000   \n",
       "1                        -449.953435                      1600.479580   \n",
       "2                        -450.008530                      1599.672797   \n",
       "3                        -450.619948                      1600.012842   \n",
       "4                        -449.599614                      1600.357732   \n",
       "\n",
       "   rougher.state.floatbank10_c_level  rougher.state.floatbank10_d_air  \\\n",
       "0                        -442.204468                      1598.937256   \n",
       "1                        -449.830646                      1600.527589   \n",
       "2                        -449.954491                      1599.849325   \n",
       "3                        -449.910497                      1597.725177   \n",
       "4                        -450.034364                      1599.759049   \n",
       "\n",
       "   rougher.state.floatbank10_d_level  rougher.state.floatbank10_e_air  \\\n",
       "0                        -451.294128                      1404.472046   \n",
       "1                        -449.953649                      1399.227084   \n",
       "2                        -449.954185                      1399.180945   \n",
       "3                        -450.130127                      1400.943157   \n",
       "4                        -449.909799                      1401.560902   \n",
       "\n",
       "   rougher.state.floatbank10_e_level  rougher.state.floatbank10_f_air  \\\n",
       "0                        -455.462982                      1416.354980   \n",
       "1                        -450.869848                      1399.719514   \n",
       "2                        -449.937588                      1400.316682   \n",
       "3                        -450.030142                      1400.234743   \n",
       "4                        -448.877187                      1401.160227   \n",
       "\n",
       "   rougher.state.floatbank10_f_level  rougher.input.floatbank11_sulfate  \\\n",
       "0                        -451.939636                          11.836743   \n",
       "1                        -450.119001                          11.996163   \n",
       "2                        -450.527147                          11.920305   \n",
       "3                        -449.790835                          11.692450   \n",
       "4                        -450.407128                          10.960521   \n",
       "\n",
       "   rougher.input.floatbank11_xanthate  \\\n",
       "0                            6.005818   \n",
       "1                            6.012594   \n",
       "2                            6.204633   \n",
       "3                            6.196578   \n",
       "4                            6.194897   \n",
       "\n",
       "   rougher.calculation.sulfate_to_au_concentrate  \\\n",
       "0                                   41885.707031   \n",
       "1                                   42050.861809   \n",
       "2                                   42018.101184   \n",
       "3                                   42029.447991   \n",
       "4                                   42125.354245   \n",
       "\n",
       "   rougher.calculation.floatbank10_sulfate_to_au_feed  \\\n",
       "0                                        3481.779053    \n",
       "1                                        3498.370979    \n",
       "2                                        3495.348910    \n",
       "3                                        3498.578313    \n",
       "4                                        3494.800771    \n",
       "\n",
       "   rougher.calculation.floatbank11_sulfate_to_au_feed  \\\n",
       "0                                        3520.337158    \n",
       "1                                        3489.981857    \n",
       "2                                        3502.359819    \n",
       "3                                        3499.162912    \n",
       "4                                        3506.679315    \n",
       "\n",
       "   rougher.calculation.au_pb_ratio  rougher.output.concentrate_au  \\\n",
       "0                         2.838687                      19.793808   \n",
       "1                         2.858998                      20.050975   \n",
       "2                         2.945989                      19.737170   \n",
       "3                         3.002340                      19.320810   \n",
       "4                         3.169615                      19.216101   \n",
       "\n",
       "   rougher.output.concentrate_ag  rougher.output.concentrate_pb  \\\n",
       "0                      11.500771                       7.101074   \n",
       "1                      11.615865                       7.278807   \n",
       "2                      11.695753                       7.216833   \n",
       "3                      11.915047                       7.175616   \n",
       "4                      12.411054                       7.240205   \n",
       "\n",
       "   rougher.output.concentrate_sol  rougher.output.recovery  \\\n",
       "0                       28.029297                87.107763   \n",
       "1                       28.067063                86.843261   \n",
       "2                       27.454037                86.842308   \n",
       "3                       27.341277                87.226430   \n",
       "4                       27.041023                86.688794   \n",
       "\n",
       "   rougher.output.tail_au  rougher.output.tail_ag  rougher.output.tail_pb  \\\n",
       "0                1.170244                5.008018                0.508728   \n",
       "1                1.184827                4.955378                0.536689   \n",
       "2                1.162562                4.843460                0.546416   \n",
       "3                1.079755                4.655288                0.542525   \n",
       "4                1.012642                4.552800                0.515438   \n",
       "\n",
       "   rougher.output.tail_sol  primary_cleaner.input.sulfate  \\\n",
       "0                19.154297                     127.092003   \n",
       "1                18.965234                     125.629232   \n",
       "2                18.808533                     123.819808   \n",
       "3                19.330200                     122.270188   \n",
       "4                19.267422                     117.988169   \n",
       "\n",
       "   primary_cleaner.input.depressant  primary_cleaner.input.feed_size  \\\n",
       "0                         10.128295                             7.25   \n",
       "1                         10.296251                             7.25   \n",
       "2                         11.316280                             7.25   \n",
       "3                         11.322140                             7.25   \n",
       "4                         11.913613                             7.25   \n",
       "\n",
       "   primary_cleaner.input.xanthate  primary_cleaner.state.floatbank8_a_air  \\\n",
       "0                        0.988759                             1549.775757   \n",
       "1                        1.002663                             1576.166671   \n",
       "2                        0.991265                             1601.556163   \n",
       "3                        0.996739                             1599.968720   \n",
       "4                        1.009869                             1601.339707   \n",
       "\n",
       "   primary_cleaner.state.floatbank8_a_level  \\\n",
       "0                               -498.912140   \n",
       "1                               -500.904965   \n",
       "2                               -499.997791   \n",
       "3                               -500.951778   \n",
       "4                               -498.975456   \n",
       "\n",
       "   primary_cleaner.state.floatbank8_b_air  \\\n",
       "0                             1551.434204   \n",
       "1                             1575.950626   \n",
       "2                             1600.386685   \n",
       "3                             1600.659236   \n",
       "4                             1601.437854   \n",
       "\n",
       "   primary_cleaner.state.floatbank8_b_level  \\\n",
       "0                               -516.403442   \n",
       "1                               -499.865889   \n",
       "2                               -500.607762   \n",
       "3                               -499.677094   \n",
       "4                               -500.323246   \n",
       "\n",
       "   primary_cleaner.state.floatbank8_c_air  \\\n",
       "0                             1549.873901   \n",
       "1                             1575.994189   \n",
       "2                             1602.003542   \n",
       "3                             1600.304144   \n",
       "4                             1599.581894   \n",
       "\n",
       "   primary_cleaner.state.floatbank8_c_level  \\\n",
       "0                               -498.666595   \n",
       "1                               -499.315107   \n",
       "2                               -500.870069   \n",
       "3                               -500.727997   \n",
       "4                               -500.888152   \n",
       "\n",
       "   primary_cleaner.state.floatbank8_d_air  \\\n",
       "0                             1554.367432   \n",
       "1                             1574.479259   \n",
       "2                             1599.541515   \n",
       "3                             1600.449520   \n",
       "4                             1602.649541   \n",
       "\n",
       "   primary_cleaner.state.floatbank8_d_level  \\\n",
       "0                               -493.428131   \n",
       "1                               -498.931665   \n",
       "2                               -499.827444   \n",
       "3                               -500.052575   \n",
       "4                               -500.593010   \n",
       "\n",
       "   primary_cleaner.output.concentrate_au  \\\n",
       "0                              34.174427   \n",
       "1                              34.118526   \n",
       "2                              33.969464   \n",
       "3                              28.260743   \n",
       "4                              33.044932   \n",
       "\n",
       "   primary_cleaner.output.concentrate_ag  \\\n",
       "0                               8.547551   \n",
       "1                               8.558743   \n",
       "2                               8.603505   \n",
       "3                               7.221879   \n",
       "4                               9.089428   \n",
       "\n",
       "   primary_cleaner.output.concentrate_pb  \\\n",
       "0                              10.389648   \n",
       "1                              10.497069   \n",
       "2                              10.354494   \n",
       "3                               8.496563   \n",
       "4                               9.986786   \n",
       "\n",
       "   primary_cleaner.output.concentrate_sol  primary_cleaner.output.tail_au  \\\n",
       "0                               19.529297                        2.106679   \n",
       "1                               19.369147                        2.353017   \n",
       "2                               19.167579                        2.416800   \n",
       "3                               15.978538                        2.262051   \n",
       "4                               19.199864                        2.277073   \n",
       "\n",
       "   primary_cleaner.output.tail_ag  primary_cleaner.output.tail_pb  \\\n",
       "0                       14.936526                        2.534912   \n",
       "1                       16.250511                        3.049646   \n",
       "2                       16.491823                        3.124664   \n",
       "3                       16.024359                        2.960362   \n",
       "4                       16.480185                        3.112100   \n",
       "\n",
       "   primary_cleaner.output.tail_sol  secondary_cleaner.state.floatbank2_a_air  \\\n",
       "0                         7.476074                                 25.853109   \n",
       "1                         6.733907                                 25.880539   \n",
       "2                         6.471768                                 26.005245   \n",
       "3                         6.843791                                 25.942508   \n",
       "4                         6.550154                                 26.024787   \n",
       "\n",
       "   secondary_cleaner.state.floatbank2_a_level  \\\n",
       "0                                 -498.526489   \n",
       "1                                 -499.989656   \n",
       "2                                 -499.929616   \n",
       "3                                 -499.176749   \n",
       "4                                 -500.279091   \n",
       "\n",
       "   secondary_cleaner.state.floatbank2_b_air  \\\n",
       "0                                 23.893660   \n",
       "1                                 23.889530   \n",
       "2                                 23.886657   \n",
       "3                                 23.955516   \n",
       "4                                 23.955345   \n",
       "\n",
       "   secondary_cleaner.state.floatbank2_b_level  \\\n",
       "0                                 -501.406281   \n",
       "1                                 -500.372428   \n",
       "2                                 -499.951928   \n",
       "3                                 -499.848796   \n",
       "4                                 -500.593614   \n",
       "\n",
       "   secondary_cleaner.state.floatbank3_a_air  \\\n",
       "0                                 23.961798   \n",
       "1                                 23.970550   \n",
       "2                                 23.913535   \n",
       "3                                 23.966838   \n",
       "4                                 23.985703   \n",
       "\n",
       "   secondary_cleaner.state.floatbank3_a_level  \\\n",
       "0                                 -495.262817   \n",
       "1                                 -500.085473   \n",
       "2                                 -499.442343   \n",
       "3                                 -500.008812   \n",
       "4                                 -500.083811   \n",
       "\n",
       "   secondary_cleaner.state.floatbank3_b_air  \\\n",
       "0                                 21.940409   \n",
       "1                                 22.085714   \n",
       "2                                 23.957717   \n",
       "3                                 23.954443   \n",
       "4                                 23.958945   \n",
       "\n",
       "   secondary_cleaner.state.floatbank3_b_level  \\\n",
       "0                                 -499.340973   \n",
       "1                                 -499.446897   \n",
       "2                                 -499.901982   \n",
       "3                                 -499.944710   \n",
       "4                                 -499.990309   \n",
       "\n",
       "   secondary_cleaner.state.floatbank4_a_air  \\\n",
       "0                                 14.016835   \n",
       "1                                 13.992281   \n",
       "2                                 14.015015   \n",
       "3                                 14.036510   \n",
       "4                                 14.027298   \n",
       "\n",
       "   secondary_cleaner.state.floatbank4_a_level  \\\n",
       "0                                 -502.488007   \n",
       "1                                 -505.503262   \n",
       "2                                 -502.520901   \n",
       "3                                 -500.857308   \n",
       "4                                 -499.838632   \n",
       "\n",
       "   secondary_cleaner.state.floatbank4_b_air  \\\n",
       "0                                 12.099931   \n",
       "1                                 11.950531   \n",
       "2                                 11.912783   \n",
       "3                                 11.999550   \n",
       "4                                 11.953070   \n",
       "\n",
       "   secondary_cleaner.state.floatbank4_b_level  \\\n",
       "0                                 -504.715942   \n",
       "1                                 -501.331529   \n",
       "2                                 -501.133383   \n",
       "3                                 -501.193686   \n",
       "4                                 -501.053894   \n",
       "\n",
       "   secondary_cleaner.state.floatbank5_a_air  \\\n",
       "0                                  9.925633   \n",
       "1                                 10.039245   \n",
       "2                                 10.070913   \n",
       "3                                  9.970366   \n",
       "4                                  9.925709   \n",
       "\n",
       "   secondary_cleaner.state.floatbank5_a_level  \\\n",
       "0                                 -498.310211   \n",
       "1                                 -500.169983   \n",
       "2                                 -500.129135   \n",
       "3                                 -499.201640   \n",
       "4                                 -501.686727   \n",
       "\n",
       "   secondary_cleaner.state.floatbank5_b_air  \\\n",
       "0                                  8.079666   \n",
       "1                                  7.984757   \n",
       "2                                  8.013877   \n",
       "3                                  7.977324   \n",
       "4                                  7.894242   \n",
       "\n",
       "   secondary_cleaner.state.floatbank5_b_level  \\\n",
       "0                                 -500.470978   \n",
       "1                                 -500.582168   \n",
       "2                                 -500.517572   \n",
       "3                                 -500.255908   \n",
       "4                                 -500.356035   \n",
       "\n",
       "   secondary_cleaner.state.floatbank6_a_air  \\\n",
       "0                                 14.151341   \n",
       "1                                 13.998353   \n",
       "2                                 14.028663   \n",
       "3                                 14.005551   \n",
       "4                                 13.996647   \n",
       "\n",
       "   secondary_cleaner.state.floatbank6_a_level  \\\n",
       "0                                 -605.841980   \n",
       "1                                 -599.787184   \n",
       "2                                 -601.427363   \n",
       "3                                 -599.996129   \n",
       "4                                 -601.496691   \n",
       "\n",
       "   secondary_cleaner.output.tail_au  secondary_cleaner.output.tail_ag  \\\n",
       "0                          2.606185                         14.500184   \n",
       "1                          2.488248                         14.265474   \n",
       "2                          2.458187                         14.115662   \n",
       "3                          2.322062                         13.732071   \n",
       "4                          2.330448                         14.079996   \n",
       "\n",
       "   secondary_cleaner.output.tail_pb  secondary_cleaner.output.tail_sol  \\\n",
       "0                          4.694824                           8.764648   \n",
       "1                          4.592547                           9.001494   \n",
       "2                          4.624775                           8.842896   \n",
       "3                          4.482453                           9.122857   \n",
       "4                          4.470737                           8.871028   \n",
       "\n",
       "   final.output.concentrate_au  final.output.concentrate_ag  \\\n",
       "0                    42.192020                     6.055403   \n",
       "1                    42.701629                     6.029369   \n",
       "2                    42.657501                     6.055926   \n",
       "3                    42.689819                     6.047977   \n",
       "4                    42.774141                     6.148599   \n",
       "\n",
       "   final.output.concentrate_pb  final.output.concentrate_sol  \\\n",
       "0                     9.889648                      5.507324   \n",
       "1                     9.968944                      5.257781   \n",
       "2                    10.213995                      5.383759   \n",
       "3                     9.977019                      4.858634   \n",
       "4                    10.142511                      4.939416   \n",
       "\n",
       "   final.output.recovery  final.output.tail_au  final.output.tail_ag  \\\n",
       "0              70.541216              2.143149             10.411962   \n",
       "1              69.266198              2.224930             10.462676   \n",
       "2              68.116445              2.257889             10.507046   \n",
       "3              68.347543              2.146849             10.422762   \n",
       "4              66.927016              2.055292             10.360302   \n",
       "\n",
       "   final.output.tail_pb  final.output.tail_sol  \n",
       "0              0.895447              16.904297  \n",
       "1              0.927452              16.634514  \n",
       "2              0.953716              16.208849  \n",
       "3              0.883763              16.532835  \n",
       "4              0.792826              16.525686  "
      ]
     },
     "metadata": {},
     "output_type": "display_data"
    },
    {
     "name": "stdout",
     "output_type": "stream",
     "text": [
      "--------------------------------------------SHAPE---------------------------------------------------\n"
     ]
    },
    {
     "data": {
      "text/plain": [
       "(19439, 87)"
      ]
     },
     "metadata": {},
     "output_type": "display_data"
    },
    {
     "name": "stdout",
     "output_type": "stream",
     "text": [
      "-----------------------------------------DTYPES-----------------------------------------------------\n"
     ]
    },
    {
     "data": {
      "text/plain": [
       "date                                                   object\n",
       "rougher.input.feed_au                                 float64\n",
       "rougher.input.feed_ag                                 float64\n",
       "rougher.input.feed_pb                                 float64\n",
       "rougher.input.feed_sol                                float64\n",
       "rougher.input.feed_rate                               float64\n",
       "rougher.input.feed_size                               float64\n",
       "rougher.input.floatbank10_sulfate                     float64\n",
       "rougher.input.floatbank10_xanthate                    float64\n",
       "rougher.state.floatbank10_a_air                       float64\n",
       "rougher.state.floatbank10_a_level                     float64\n",
       "rougher.state.floatbank10_b_air                       float64\n",
       "rougher.state.floatbank10_b_level                     float64\n",
       "rougher.state.floatbank10_c_air                       float64\n",
       "rougher.state.floatbank10_c_level                     float64\n",
       "rougher.state.floatbank10_d_air                       float64\n",
       "rougher.state.floatbank10_d_level                     float64\n",
       "rougher.state.floatbank10_e_air                       float64\n",
       "rougher.state.floatbank10_e_level                     float64\n",
       "rougher.state.floatbank10_f_air                       float64\n",
       "rougher.state.floatbank10_f_level                     float64\n",
       "rougher.input.floatbank11_sulfate                     float64\n",
       "rougher.input.floatbank11_xanthate                    float64\n",
       "rougher.calculation.sulfate_to_au_concentrate         float64\n",
       "rougher.calculation.floatbank10_sulfate_to_au_feed    float64\n",
       "rougher.calculation.floatbank11_sulfate_to_au_feed    float64\n",
       "rougher.calculation.au_pb_ratio                       float64\n",
       "rougher.output.concentrate_au                         float64\n",
       "rougher.output.concentrate_ag                         float64\n",
       "rougher.output.concentrate_pb                         float64\n",
       "rougher.output.concentrate_sol                        float64\n",
       "rougher.output.recovery                               float64\n",
       "rougher.output.tail_au                                float64\n",
       "rougher.output.tail_ag                                float64\n",
       "rougher.output.tail_pb                                float64\n",
       "rougher.output.tail_sol                               float64\n",
       "primary_cleaner.input.sulfate                         float64\n",
       "primary_cleaner.input.depressant                      float64\n",
       "primary_cleaner.input.feed_size                       float64\n",
       "primary_cleaner.input.xanthate                        float64\n",
       "primary_cleaner.state.floatbank8_a_air                float64\n",
       "primary_cleaner.state.floatbank8_a_level              float64\n",
       "primary_cleaner.state.floatbank8_b_air                float64\n",
       "primary_cleaner.state.floatbank8_b_level              float64\n",
       "primary_cleaner.state.floatbank8_c_air                float64\n",
       "primary_cleaner.state.floatbank8_c_level              float64\n",
       "primary_cleaner.state.floatbank8_d_air                float64\n",
       "primary_cleaner.state.floatbank8_d_level              float64\n",
       "primary_cleaner.output.concentrate_au                 float64\n",
       "primary_cleaner.output.concentrate_ag                 float64\n",
       "primary_cleaner.output.concentrate_pb                 float64\n",
       "primary_cleaner.output.concentrate_sol                float64\n",
       "primary_cleaner.output.tail_au                        float64\n",
       "primary_cleaner.output.tail_ag                        float64\n",
       "primary_cleaner.output.tail_pb                        float64\n",
       "primary_cleaner.output.tail_sol                       float64\n",
       "secondary_cleaner.state.floatbank2_a_air              float64\n",
       "secondary_cleaner.state.floatbank2_a_level            float64\n",
       "secondary_cleaner.state.floatbank2_b_air              float64\n",
       "secondary_cleaner.state.floatbank2_b_level            float64\n",
       "secondary_cleaner.state.floatbank3_a_air              float64\n",
       "secondary_cleaner.state.floatbank3_a_level            float64\n",
       "secondary_cleaner.state.floatbank3_b_air              float64\n",
       "secondary_cleaner.state.floatbank3_b_level            float64\n",
       "secondary_cleaner.state.floatbank4_a_air              float64\n",
       "secondary_cleaner.state.floatbank4_a_level            float64\n",
       "secondary_cleaner.state.floatbank4_b_air              float64\n",
       "secondary_cleaner.state.floatbank4_b_level            float64\n",
       "secondary_cleaner.state.floatbank5_a_air              float64\n",
       "secondary_cleaner.state.floatbank5_a_level            float64\n",
       "secondary_cleaner.state.floatbank5_b_air              float64\n",
       "secondary_cleaner.state.floatbank5_b_level            float64\n",
       "secondary_cleaner.state.floatbank6_a_air              float64\n",
       "secondary_cleaner.state.floatbank6_a_level            float64\n",
       "secondary_cleaner.output.tail_au                      float64\n",
       "secondary_cleaner.output.tail_ag                      float64\n",
       "secondary_cleaner.output.tail_pb                      float64\n",
       "secondary_cleaner.output.tail_sol                     float64\n",
       "final.output.concentrate_au                           float64\n",
       "final.output.concentrate_ag                           float64\n",
       "final.output.concentrate_pb                           float64\n",
       "final.output.concentrate_sol                          float64\n",
       "final.output.recovery                                 float64\n",
       "final.output.tail_au                                  float64\n",
       "final.output.tail_ag                                  float64\n",
       "final.output.tail_pb                                  float64\n",
       "final.output.tail_sol                                 float64\n",
       "dtype: object"
      ]
     },
     "metadata": {},
     "output_type": "display_data"
    },
    {
     "name": "stdout",
     "output_type": "stream",
     "text": [
      "--------------------------------------------NAN-----------------------------------------------------\n"
     ]
    },
    {
     "data": {
      "text/plain": [
       "date                                                     0\n",
       "rougher.input.feed_au                                    0\n",
       "rougher.input.feed_ag                                    0\n",
       "rougher.input.feed_pb                                  100\n",
       "rougher.input.feed_sol                                  99\n",
       "rougher.input.feed_rate                                 11\n",
       "rougher.input.feed_size                                145\n",
       "rougher.input.floatbank10_sulfate                       34\n",
       "rougher.input.floatbank10_xanthate                       8\n",
       "rougher.state.floatbank10_a_air                          1\n",
       "rougher.state.floatbank10_a_level                        1\n",
       "rougher.state.floatbank10_b_air                          1\n",
       "rougher.state.floatbank10_b_level                        1\n",
       "rougher.state.floatbank10_c_air                          1\n",
       "rougher.state.floatbank10_c_level                        1\n",
       "rougher.state.floatbank10_d_air                          0\n",
       "rougher.state.floatbank10_d_level                        0\n",
       "rougher.state.floatbank10_e_air                        436\n",
       "rougher.state.floatbank10_e_level                        0\n",
       "rougher.state.floatbank10_f_air                          0\n",
       "rougher.state.floatbank10_f_level                        0\n",
       "rougher.input.floatbank11_sulfate                       44\n",
       "rougher.input.floatbank11_xanthate                     453\n",
       "rougher.calculation.sulfate_to_au_concentrate            2\n",
       "rougher.calculation.floatbank10_sulfate_to_au_feed       2\n",
       "rougher.calculation.floatbank11_sulfate_to_au_feed       2\n",
       "rougher.calculation.au_pb_ratio                          0\n",
       "rougher.output.concentrate_au                            0\n",
       "rougher.output.concentrate_ag                            0\n",
       "rougher.output.concentrate_pb                            0\n",
       "rougher.output.concentrate_sol                          23\n",
       "rougher.output.recovery                                  0\n",
       "rougher.output.tail_au                                   0\n",
       "rougher.output.tail_ag                                   1\n",
       "rougher.output.tail_pb                                   0\n",
       "rougher.output.tail_sol                                  0\n",
       "primary_cleaner.input.sulfate                           24\n",
       "primary_cleaner.input.depressant                        37\n",
       "primary_cleaner.input.feed_size                          0\n",
       "primary_cleaner.input.xanthate                         104\n",
       "primary_cleaner.state.floatbank8_a_air                   4\n",
       "primary_cleaner.state.floatbank8_a_level                 1\n",
       "primary_cleaner.state.floatbank8_b_air                   4\n",
       "primary_cleaner.state.floatbank8_b_level                 1\n",
       "primary_cleaner.state.floatbank8_c_air                   2\n",
       "primary_cleaner.state.floatbank8_c_level                 1\n",
       "primary_cleaner.state.floatbank8_d_air                   3\n",
       "primary_cleaner.state.floatbank8_d_level                 1\n",
       "primary_cleaner.output.concentrate_au                    0\n",
       "primary_cleaner.output.concentrate_ag                    0\n",
       "primary_cleaner.output.concentrate_pb                  116\n",
       "primary_cleaner.output.concentrate_sol                 370\n",
       "primary_cleaner.output.tail_au                           0\n",
       "primary_cleaner.output.tail_ag                           4\n",
       "primary_cleaner.output.tail_pb                          21\n",
       "primary_cleaner.output.tail_sol                         62\n",
       "secondary_cleaner.state.floatbank2_a_air               220\n",
       "secondary_cleaner.state.floatbank2_a_level               1\n",
       "secondary_cleaner.state.floatbank2_b_air                23\n",
       "secondary_cleaner.state.floatbank2_b_level               1\n",
       "secondary_cleaner.state.floatbank3_a_air                13\n",
       "secondary_cleaner.state.floatbank3_a_level               1\n",
       "secondary_cleaner.state.floatbank3_b_air                 1\n",
       "secondary_cleaner.state.floatbank3_b_level               1\n",
       "secondary_cleaner.state.floatbank4_a_air                 6\n",
       "secondary_cleaner.state.floatbank4_a_level               1\n",
       "secondary_cleaner.state.floatbank4_b_air                 1\n",
       "secondary_cleaner.state.floatbank4_b_level               1\n",
       "secondary_cleaner.state.floatbank5_a_air                 1\n",
       "secondary_cleaner.state.floatbank5_a_level               1\n",
       "secondary_cleaner.state.floatbank5_b_air                 1\n",
       "secondary_cleaner.state.floatbank5_b_level               1\n",
       "secondary_cleaner.state.floatbank6_a_air                 2\n",
       "secondary_cleaner.state.floatbank6_a_level               1\n",
       "secondary_cleaner.output.tail_au                         0\n",
       "secondary_cleaner.output.tail_ag                         2\n",
       "secondary_cleaner.output.tail_pb                        12\n",
       "secondary_cleaner.output.tail_sol                     1748\n",
       "final.output.concentrate_au                              0\n",
       "final.output.concentrate_ag                              1\n",
       "final.output.concentrate_pb                              1\n",
       "final.output.concentrate_sol                           211\n",
       "final.output.recovery                                    0\n",
       "final.output.tail_au                                     0\n",
       "final.output.tail_ag                                     1\n",
       "final.output.tail_pb                                   101\n",
       "final.output.tail_sol                                    6\n",
       "dtype: int64"
      ]
     },
     "metadata": {},
     "output_type": "display_data"
    },
    {
     "name": "stdout",
     "output_type": "stream",
     "text": [
      "----------------------------------------DUPLICATES--------------------------------------------------\n",
      "0\n"
     ]
    }
   ],
   "source": [
    "learn_data(data)"
   ]
  },
  {
   "cell_type": "markdown",
   "metadata": {},
   "source": [
    "**Вывод по переменной data:** явных дубликатов нет, есть пропуски, с которыми нужно будет поработать на этапе предобработки. Тип даты изменю на datetime в рамках предобработки данных. Все остальные типы данных корректные. Количество колонок совпадает с тренировочной выборкой."
   ]
  },
  {
   "cell_type": "markdown",
   "metadata": {},
   "source": [
    "### Проверка расчета эффективности обогащения:"
   ]
  },
  {
   "cell_type": "markdown",
   "metadata": {},
   "source": [
    "Эффективность обогащения уже рассчитана - rougher.output.recovery.\n",
    "Я посчитаю ее сама на обучающей выборке и сравню, насколько верно рассчитан признак выше."
   ]
  },
  {
   "cell_type": "code",
   "execution_count": 8,
   "metadata": {
    "scrolled": false
   },
   "outputs": [],
   "source": [
    "C = train['rougher.output.concentrate_au'] # доля золота в концентрате после флотации/очистки;\n",
    "F = train['rougher.input.feed_au'] # доля золота в сырье/концентрате до флотации/очистки;\n",
    "T = train['rougher.output.tail_au'] # доля золота в отвальных хвостах после флотации/очистки.\n",
    "\n",
    "R = train['rougher.output.recovery'] # рассчитанный коэффициент обогащения\n",
    "\n",
    "\n",
    "\n",
    "recovery = ((C * (F - T)) / (F * (C - T))) * 100 # мой расчет коэффициента восстановления"
   ]
  },
  {
   "cell_type": "code",
   "execution_count": 9,
   "metadata": {},
   "outputs": [
    {
     "name": "stdout",
     "output_type": "stream",
     "text": [
      "MAE: 9.83758577644259e-15\n"
     ]
    }
   ],
   "source": [
    "print('MAE:', mean_absolute_error(R, recovery))"
   ]
  },
  {
   "cell_type": "markdown",
   "metadata": {},
   "source": [
    "**Вывод по MAE:** метрика показывает, что расхождения между существующим и моим расчетом минимально. Можно использовать изначальное значение - rougher.output.recovery."
   ]
  },
  {
   "cell_type": "markdown",
   "metadata": {},
   "source": [
    "### Анализ признаков, недоступных в тестовой выборке:"
   ]
  },
  {
   "cell_type": "markdown",
   "metadata": {},
   "source": [
    "Колонки, которые есть в train и data, но нет в test:"
   ]
  },
  {
   "cell_type": "code",
   "execution_count": 10,
   "metadata": {},
   "outputs": [
    {
     "data": {
      "text/plain": [
       "['rougher.calculation.sulfate_to_au_concentrate',\n",
       " 'rougher.calculation.floatbank10_sulfate_to_au_feed',\n",
       " 'rougher.calculation.floatbank11_sulfate_to_au_feed',\n",
       " 'rougher.calculation.au_pb_ratio',\n",
       " 'rougher.output.concentrate_au',\n",
       " 'rougher.output.concentrate_ag',\n",
       " 'rougher.output.concentrate_pb',\n",
       " 'rougher.output.concentrate_sol',\n",
       " 'rougher.output.recovery',\n",
       " 'rougher.output.tail_au',\n",
       " 'rougher.output.tail_ag',\n",
       " 'rougher.output.tail_pb',\n",
       " 'rougher.output.tail_sol',\n",
       " 'primary_cleaner.output.concentrate_au',\n",
       " 'primary_cleaner.output.concentrate_ag',\n",
       " 'primary_cleaner.output.concentrate_pb',\n",
       " 'primary_cleaner.output.concentrate_sol',\n",
       " 'primary_cleaner.output.tail_au',\n",
       " 'primary_cleaner.output.tail_ag',\n",
       " 'primary_cleaner.output.tail_pb',\n",
       " 'primary_cleaner.output.tail_sol',\n",
       " 'secondary_cleaner.output.tail_au',\n",
       " 'secondary_cleaner.output.tail_ag',\n",
       " 'secondary_cleaner.output.tail_pb',\n",
       " 'secondary_cleaner.output.tail_sol',\n",
       " 'final.output.concentrate_au',\n",
       " 'final.output.concentrate_ag',\n",
       " 'final.output.concentrate_pb',\n",
       " 'final.output.concentrate_sol',\n",
       " 'final.output.recovery',\n",
       " 'final.output.tail_au',\n",
       " 'final.output.tail_ag',\n",
       " 'final.output.tail_pb',\n",
       " 'final.output.tail_sol']"
      ]
     },
     "execution_count": 10,
     "metadata": {},
     "output_type": "execute_result"
    }
   ],
   "source": [
    "columns_test = []\n",
    "\n",
    "#создаю пустой список и наполняю его теми названиями колонок, которых нет в тестовой выборке\n",
    "\n",
    "for column in list(train.columns):\n",
    "    if column not in list(test.columns):\n",
    "        columns_test.append(column)\n",
    "        \n",
    "columns_test"
   ]
  },
  {
   "cell_type": "markdown",
   "metadata": {},
   "source": [
    "**Вывод по отсутствующим колонкам:** в проекте есть указание \"некоторые параметры недоступны, потому что замеряются и/или рассчитываются значительно позже. Из-за этого в тестовой выборке отсутствуют некоторые признаки, которые могут быть в обучающей.\" В основном отсутствуют параметры продукта и расчетные характеристики. Так как эти данные рассчитываются позднее, чем все остальные, считаю, что их не стоит использовать при обучении и тесте модели. После анализа данных я удалю эти признаки из тестовой выборки."
   ]
  },
  {
   "cell_type": "markdown",
   "metadata": {},
   "source": [
    "### Предобработка данных"
   ]
  },
  {
   "cell_type": "markdown",
   "metadata": {},
   "source": [
    "#### Изменение типа даты"
   ]
  },
  {
   "cell_type": "code",
   "execution_count": 11,
   "metadata": {},
   "outputs": [],
   "source": [
    "train['date'] = pd.to_datetime(train['date'], format='%Y-%m-%d %H:%M:%S')\n",
    "test['date'] = pd.to_datetime(test['date'], format='%Y-%m-%d %H:%M:%S')\n",
    "data['date'] = pd.to_datetime(data['date'], format='%Y-%m-%d %H:%M:%S')"
   ]
  },
  {
   "cell_type": "markdown",
   "metadata": {},
   "source": [
    "#### Работа с пропусками"
   ]
  },
  {
   "cell_type": "markdown",
   "metadata": {},
   "source": [
    "Так как данные индексируются датой и временем получения информации (признак date), соседние по времени параметры часто похожи. Я заполню пропуски предыдущим значением с помощью fillna и метода bfill."
   ]
  },
  {
   "cell_type": "code",
   "execution_count": 12,
   "metadata": {},
   "outputs": [
    {
     "data": {
      "text/plain": [
       "date                                                  0\n",
       "rougher.input.feed_au                                 0\n",
       "rougher.input.feed_ag                                 0\n",
       "rougher.input.feed_pb                                 0\n",
       "rougher.input.feed_sol                                0\n",
       "rougher.input.feed_rate                               0\n",
       "rougher.input.feed_size                               0\n",
       "rougher.input.floatbank10_sulfate                     0\n",
       "rougher.input.floatbank10_xanthate                    0\n",
       "rougher.state.floatbank10_a_air                       0\n",
       "rougher.state.floatbank10_a_level                     0\n",
       "rougher.state.floatbank10_b_air                       0\n",
       "rougher.state.floatbank10_b_level                     0\n",
       "rougher.state.floatbank10_c_air                       0\n",
       "rougher.state.floatbank10_c_level                     0\n",
       "rougher.state.floatbank10_d_air                       0\n",
       "rougher.state.floatbank10_d_level                     0\n",
       "rougher.state.floatbank10_e_air                       0\n",
       "rougher.state.floatbank10_e_level                     0\n",
       "rougher.state.floatbank10_f_air                       0\n",
       "rougher.state.floatbank10_f_level                     0\n",
       "rougher.input.floatbank11_sulfate                     0\n",
       "rougher.input.floatbank11_xanthate                    0\n",
       "rougher.calculation.sulfate_to_au_concentrate         0\n",
       "rougher.calculation.floatbank10_sulfate_to_au_feed    0\n",
       "rougher.calculation.floatbank11_sulfate_to_au_feed    0\n",
       "rougher.calculation.au_pb_ratio                       0\n",
       "rougher.output.concentrate_au                         0\n",
       "rougher.output.concentrate_ag                         0\n",
       "rougher.output.concentrate_pb                         0\n",
       "rougher.output.concentrate_sol                        0\n",
       "rougher.output.recovery                               0\n",
       "rougher.output.tail_au                                0\n",
       "rougher.output.tail_ag                                0\n",
       "rougher.output.tail_pb                                0\n",
       "rougher.output.tail_sol                               0\n",
       "primary_cleaner.input.sulfate                         0\n",
       "primary_cleaner.input.depressant                      0\n",
       "primary_cleaner.input.feed_size                       0\n",
       "primary_cleaner.input.xanthate                        0\n",
       "primary_cleaner.state.floatbank8_a_air                0\n",
       "primary_cleaner.state.floatbank8_a_level              0\n",
       "primary_cleaner.state.floatbank8_b_air                0\n",
       "primary_cleaner.state.floatbank8_b_level              0\n",
       "primary_cleaner.state.floatbank8_c_air                0\n",
       "primary_cleaner.state.floatbank8_c_level              0\n",
       "primary_cleaner.state.floatbank8_d_air                0\n",
       "primary_cleaner.state.floatbank8_d_level              0\n",
       "primary_cleaner.output.concentrate_au                 0\n",
       "primary_cleaner.output.concentrate_ag                 0\n",
       "primary_cleaner.output.concentrate_pb                 0\n",
       "primary_cleaner.output.concentrate_sol                0\n",
       "primary_cleaner.output.tail_au                        0\n",
       "primary_cleaner.output.tail_ag                        0\n",
       "primary_cleaner.output.tail_pb                        0\n",
       "primary_cleaner.output.tail_sol                       0\n",
       "secondary_cleaner.state.floatbank2_a_air              0\n",
       "secondary_cleaner.state.floatbank2_a_level            0\n",
       "secondary_cleaner.state.floatbank2_b_air              0\n",
       "secondary_cleaner.state.floatbank2_b_level            0\n",
       "secondary_cleaner.state.floatbank3_a_air              0\n",
       "secondary_cleaner.state.floatbank3_a_level            0\n",
       "secondary_cleaner.state.floatbank3_b_air              0\n",
       "secondary_cleaner.state.floatbank3_b_level            0\n",
       "secondary_cleaner.state.floatbank4_a_air              0\n",
       "secondary_cleaner.state.floatbank4_a_level            0\n",
       "secondary_cleaner.state.floatbank4_b_air              0\n",
       "secondary_cleaner.state.floatbank4_b_level            0\n",
       "secondary_cleaner.state.floatbank5_a_air              0\n",
       "secondary_cleaner.state.floatbank5_a_level            0\n",
       "secondary_cleaner.state.floatbank5_b_air              0\n",
       "secondary_cleaner.state.floatbank5_b_level            0\n",
       "secondary_cleaner.state.floatbank6_a_air              0\n",
       "secondary_cleaner.state.floatbank6_a_level            0\n",
       "secondary_cleaner.output.tail_au                      0\n",
       "secondary_cleaner.output.tail_ag                      0\n",
       "secondary_cleaner.output.tail_pb                      0\n",
       "secondary_cleaner.output.tail_sol                     0\n",
       "final.output.concentrate_au                           0\n",
       "final.output.concentrate_ag                           0\n",
       "final.output.concentrate_pb                           0\n",
       "final.output.concentrate_sol                          0\n",
       "final.output.recovery                                 0\n",
       "final.output.tail_au                                  0\n",
       "final.output.tail_ag                                  0\n",
       "final.output.tail_pb                                  0\n",
       "final.output.tail_sol                                 0\n",
       "dtype: int64"
      ]
     },
     "execution_count": 12,
     "metadata": {},
     "output_type": "execute_result"
    }
   ],
   "source": [
    "train.fillna(method='bfill', inplace=True) # использую inplace=True, чтобы сразу внести изменения в train\n",
    "train.isna().sum() #проверка"
   ]
  },
  {
   "cell_type": "code",
   "execution_count": 13,
   "metadata": {},
   "outputs": [
    {
     "data": {
      "text/plain": [
       "date                                                  0\n",
       "rougher.input.feed_au                                 0\n",
       "rougher.input.feed_ag                                 0\n",
       "rougher.input.feed_pb                                 0\n",
       "rougher.input.feed_sol                                0\n",
       "rougher.input.feed_rate                               0\n",
       "rougher.input.feed_size                               0\n",
       "rougher.input.floatbank10_sulfate                     0\n",
       "rougher.input.floatbank10_xanthate                    0\n",
       "rougher.state.floatbank10_a_air                       0\n",
       "rougher.state.floatbank10_a_level                     0\n",
       "rougher.state.floatbank10_b_air                       0\n",
       "rougher.state.floatbank10_b_level                     0\n",
       "rougher.state.floatbank10_c_air                       0\n",
       "rougher.state.floatbank10_c_level                     0\n",
       "rougher.state.floatbank10_d_air                       0\n",
       "rougher.state.floatbank10_d_level                     0\n",
       "rougher.state.floatbank10_e_air                       0\n",
       "rougher.state.floatbank10_e_level                     0\n",
       "rougher.state.floatbank10_f_air                       0\n",
       "rougher.state.floatbank10_f_level                     0\n",
       "rougher.input.floatbank11_sulfate                     0\n",
       "rougher.input.floatbank11_xanthate                    0\n",
       "rougher.calculation.sulfate_to_au_concentrate         0\n",
       "rougher.calculation.floatbank10_sulfate_to_au_feed    0\n",
       "rougher.calculation.floatbank11_sulfate_to_au_feed    0\n",
       "rougher.calculation.au_pb_ratio                       0\n",
       "rougher.output.concentrate_au                         0\n",
       "rougher.output.concentrate_ag                         0\n",
       "rougher.output.concentrate_pb                         0\n",
       "rougher.output.concentrate_sol                        0\n",
       "rougher.output.recovery                               0\n",
       "rougher.output.tail_au                                0\n",
       "rougher.output.tail_ag                                0\n",
       "rougher.output.tail_pb                                0\n",
       "rougher.output.tail_sol                               0\n",
       "primary_cleaner.input.sulfate                         0\n",
       "primary_cleaner.input.depressant                      0\n",
       "primary_cleaner.input.feed_size                       0\n",
       "primary_cleaner.input.xanthate                        0\n",
       "primary_cleaner.state.floatbank8_a_air                0\n",
       "primary_cleaner.state.floatbank8_a_level              0\n",
       "primary_cleaner.state.floatbank8_b_air                0\n",
       "primary_cleaner.state.floatbank8_b_level              0\n",
       "primary_cleaner.state.floatbank8_c_air                0\n",
       "primary_cleaner.state.floatbank8_c_level              0\n",
       "primary_cleaner.state.floatbank8_d_air                0\n",
       "primary_cleaner.state.floatbank8_d_level              0\n",
       "primary_cleaner.output.concentrate_au                 0\n",
       "primary_cleaner.output.concentrate_ag                 0\n",
       "primary_cleaner.output.concentrate_pb                 0\n",
       "primary_cleaner.output.concentrate_sol                0\n",
       "primary_cleaner.output.tail_au                        0\n",
       "primary_cleaner.output.tail_ag                        0\n",
       "primary_cleaner.output.tail_pb                        0\n",
       "primary_cleaner.output.tail_sol                       0\n",
       "secondary_cleaner.state.floatbank2_a_air              0\n",
       "secondary_cleaner.state.floatbank2_a_level            0\n",
       "secondary_cleaner.state.floatbank2_b_air              0\n",
       "secondary_cleaner.state.floatbank2_b_level            0\n",
       "secondary_cleaner.state.floatbank3_a_air              0\n",
       "secondary_cleaner.state.floatbank3_a_level            0\n",
       "secondary_cleaner.state.floatbank3_b_air              0\n",
       "secondary_cleaner.state.floatbank3_b_level            0\n",
       "secondary_cleaner.state.floatbank4_a_air              0\n",
       "secondary_cleaner.state.floatbank4_a_level            0\n",
       "secondary_cleaner.state.floatbank4_b_air              0\n",
       "secondary_cleaner.state.floatbank4_b_level            0\n",
       "secondary_cleaner.state.floatbank5_a_air              0\n",
       "secondary_cleaner.state.floatbank5_a_level            0\n",
       "secondary_cleaner.state.floatbank5_b_air              0\n",
       "secondary_cleaner.state.floatbank5_b_level            0\n",
       "secondary_cleaner.state.floatbank6_a_air              0\n",
       "secondary_cleaner.state.floatbank6_a_level            0\n",
       "secondary_cleaner.output.tail_au                      0\n",
       "secondary_cleaner.output.tail_ag                      0\n",
       "secondary_cleaner.output.tail_pb                      0\n",
       "secondary_cleaner.output.tail_sol                     0\n",
       "final.output.concentrate_au                           0\n",
       "final.output.concentrate_ag                           0\n",
       "final.output.concentrate_pb                           0\n",
       "final.output.concentrate_sol                          0\n",
       "final.output.recovery                                 0\n",
       "final.output.tail_au                                  0\n",
       "final.output.tail_ag                                  0\n",
       "final.output.tail_pb                                  0\n",
       "final.output.tail_sol                                 0\n",
       "dtype: int64"
      ]
     },
     "execution_count": 13,
     "metadata": {},
     "output_type": "execute_result"
    }
   ],
   "source": [
    "data.fillna(method='bfill', inplace=True) # использую inplace=True, чтобы сразу внести изменения в train\n",
    "data.isna().sum() #проверка"
   ]
  },
  {
   "cell_type": "code",
   "execution_count": 14,
   "metadata": {},
   "outputs": [
    {
     "data": {
      "text/plain": [
       "date                                          0\n",
       "rougher.input.feed_au                         0\n",
       "rougher.input.feed_ag                         0\n",
       "rougher.input.feed_pb                         0\n",
       "rougher.input.feed_sol                        0\n",
       "rougher.input.feed_rate                       0\n",
       "rougher.input.feed_size                       0\n",
       "rougher.input.floatbank10_sulfate             0\n",
       "rougher.input.floatbank10_xanthate            0\n",
       "rougher.state.floatbank10_a_air               0\n",
       "rougher.state.floatbank10_a_level             0\n",
       "rougher.state.floatbank10_b_air               0\n",
       "rougher.state.floatbank10_b_level             0\n",
       "rougher.state.floatbank10_c_air               0\n",
       "rougher.state.floatbank10_c_level             0\n",
       "rougher.state.floatbank10_d_air               0\n",
       "rougher.state.floatbank10_d_level             0\n",
       "rougher.state.floatbank10_e_air               0\n",
       "rougher.state.floatbank10_e_level             0\n",
       "rougher.state.floatbank10_f_air               0\n",
       "rougher.state.floatbank10_f_level             0\n",
       "rougher.input.floatbank11_sulfate             0\n",
       "rougher.input.floatbank11_xanthate            0\n",
       "primary_cleaner.input.sulfate                 0\n",
       "primary_cleaner.input.depressant              0\n",
       "primary_cleaner.input.feed_size               0\n",
       "primary_cleaner.input.xanthate                0\n",
       "primary_cleaner.state.floatbank8_a_air        0\n",
       "primary_cleaner.state.floatbank8_a_level      0\n",
       "primary_cleaner.state.floatbank8_b_air        0\n",
       "primary_cleaner.state.floatbank8_b_level      0\n",
       "primary_cleaner.state.floatbank8_c_air        0\n",
       "primary_cleaner.state.floatbank8_c_level      0\n",
       "primary_cleaner.state.floatbank8_d_air        0\n",
       "primary_cleaner.state.floatbank8_d_level      0\n",
       "secondary_cleaner.state.floatbank2_a_air      0\n",
       "secondary_cleaner.state.floatbank2_a_level    0\n",
       "secondary_cleaner.state.floatbank2_b_air      0\n",
       "secondary_cleaner.state.floatbank2_b_level    0\n",
       "secondary_cleaner.state.floatbank3_a_air      0\n",
       "secondary_cleaner.state.floatbank3_a_level    0\n",
       "secondary_cleaner.state.floatbank3_b_air      0\n",
       "secondary_cleaner.state.floatbank3_b_level    0\n",
       "secondary_cleaner.state.floatbank4_a_air      0\n",
       "secondary_cleaner.state.floatbank4_a_level    0\n",
       "secondary_cleaner.state.floatbank4_b_air      0\n",
       "secondary_cleaner.state.floatbank4_b_level    0\n",
       "secondary_cleaner.state.floatbank5_a_air      0\n",
       "secondary_cleaner.state.floatbank5_a_level    0\n",
       "secondary_cleaner.state.floatbank5_b_air      0\n",
       "secondary_cleaner.state.floatbank5_b_level    0\n",
       "secondary_cleaner.state.floatbank6_a_air      0\n",
       "secondary_cleaner.state.floatbank6_a_level    0\n",
       "dtype: int64"
      ]
     },
     "execution_count": 14,
     "metadata": {},
     "output_type": "execute_result"
    }
   ],
   "source": [
    "test.fillna(method='bfill', inplace=True) # использую inplace=True, чтобы сразу внести изменения в train\n",
    "test.isna().sum() #проверка"
   ]
  },
  {
   "cell_type": "markdown",
   "metadata": {},
   "source": [
    "Теперь пропусков нет."
   ]
  },
  {
   "cell_type": "markdown",
   "metadata": {},
   "source": [
    "#### Добавление столбцов в test"
   ]
  },
  {
   "cell_type": "markdown",
   "metadata": {},
   "source": [
    "Целевых признаков нет в тестовой выборке, их нужно добавить. Так как записи логируются по дате, можно с помощью объединения таблиц из общей выборки добавить недостающие колонки:"
   ]
  },
  {
   "cell_type": "code",
   "execution_count": 15,
   "metadata": {},
   "outputs": [
    {
     "data": {
      "text/plain": [
       "(4860, 55)"
      ]
     },
     "execution_count": 15,
     "metadata": {},
     "output_type": "execute_result"
    }
   ],
   "source": [
    "test = test.merge(data.loc[:, ['date','rougher.output.recovery','final.output.recovery']], on='date')\n",
    "test.shape #сколько стало колонок"
   ]
  },
  {
   "cell_type": "markdown",
   "metadata": {},
   "source": [
    "**Вывод:** добавлены 2 колонки таргета в тестовую выборку."
   ]
  },
  {
   "cell_type": "markdown",
   "metadata": {},
   "source": [
    "**Итоговый вывод по подготовке данных:** <br>\n",
    "\n",
    "1. Изучены все 3 выборки.\n",
    "2. По параметру rougher.output.recovery пересчитан коэффициент обогащения и проверена правильность расчетов. Все верно.\n",
    "3. Выявлено, что в тренировочной и полной выборке есть такие колонки, которых нет в тестовой выборке. Принято решение эти колонки не использовать для модели, а значит, после анализа данных они будут удалены из обучающей выборки.\n",
    "4. Добавлены таргеты в тестовую выборку, так как их там не было. Объединение таблиц сделано по дате.\n",
    "5. Тип даты во всех выборках изменен на datetime.\n",
    "6. Почищены все пропуски с заполнением их предыдущим значением.    "
   ]
  },
  {
   "cell_type": "markdown",
   "metadata": {},
   "source": [
    "## Анализ данных"
   ]
  },
  {
   "cell_type": "markdown",
   "metadata": {},
   "source": [
    "### Как меняется концентрация металлов (Au, Ag, Pb) в сырье, в черновом концентрате, в концентрате после первой очистки и в финальном концентрате"
   ]
  },
  {
   "cell_type": "markdown",
   "metadata": {},
   "source": [
    "#### Как меняется концентрация золота"
   ]
  },
  {
   "cell_type": "code",
   "execution_count": 16,
   "metadata": {},
   "outputs": [
    {
     "data": {
      "image/png": "[encoded data removed]",
      "text/plain": [
       "<Figure size 720x360 with 1 Axes>"
      ]
     },
     "metadata": {},
     "output_type": "display_data"
    }
   ],
   "source": [
    "sns.set()\n",
    "sns.set_palette('bright')\n",
    "plt.figure(figsize=[10,5])\n",
    "\n",
    "plt.hist(train['rougher.input.feed_au'], bins=100, label = 'концентрация в сырье', alpha=0.6)\n",
    "plt.hist(train['rougher.output.concentrate_au'], bins=100, label = 'концентрация после флотации', alpha=0.6)\n",
    "plt.hist(train['primary_cleaner.output.concentrate_au'], bins=100, label = 'концентрация после первой очистки', alpha=0.6)\n",
    "plt.hist(train['final.output.concentrate_au'], bins=100, label = 'концентрация в финальном концентрате', alpha=0.6)\n",
    "\n",
    "\n",
    "plt.xlim([0, 55])\n",
    "plt.ylim([0, 1600])\n",
    "\n",
    "plt.xlabel(\"Концентрация золота на разных этапах\")\n",
    "plt.ylabel(\"Частота\")\n",
    "\n",
    "plt.legend(loc='upper left')\n",
    "\n",
    "plt.title(\"Гистограмма с распределением концентрации золота\")\n",
    "plt.show()"
   ]
  },
  {
   "cell_type": "markdown",
   "metadata": {},
   "source": [
    "На гистограмме видно, что концентрация золота увеличивается от этапа к этапу, распределение похоже на нормальное.Также в районе значения 0 видны аномалии:"
   ]
  },
  {
   "cell_type": "code",
   "execution_count": 17,
   "metadata": {},
   "outputs": [
    {
     "data": {
      "image/png": "[encoded data removed]",
      "text/plain": [
       "<Figure size 720x360 with 1 Axes>"
      ]
     },
     "metadata": {},
     "output_type": "display_data"
    }
   ],
   "source": [
    "plt.figure(figsize=[10,5])\n",
    "\n",
    "plt.hist(train['rougher.input.feed_au'], bins=100, label = 'концентрация в сырье', alpha=0.6)\n",
    "plt.hist(train['rougher.output.concentrate_au'], bins=100, label = 'концентрация после флотации', alpha=0.6)\n",
    "plt.hist(train['primary_cleaner.output.concentrate_au'], bins=100, label = 'концентрация после первой очистки', alpha=0.6)\n",
    "plt.hist(train['final.output.concentrate_au'], bins=100, label = 'концентрация в финальном концентрате', alpha=0.6)\n",
    "\n",
    "\n",
    "plt.xlim([0, 0.6])\n",
    "plt.ylim([0, 450])\n",
    "\n",
    "plt.xlabel(\"Концентрация золота на разных этапах\")\n",
    "plt.ylabel(\"Частота\")\n",
    "\n",
    "plt.legend(loc='upper right')\n",
    "\n",
    "plt.title(\"Аномалии концентрации золота\")\n",
    "plt.show()"
   ]
  },
  {
   "cell_type": "markdown",
   "metadata": {},
   "source": [
    "Получается, что аномалии есть на этих участках:\n",
    "- train['rougher.output.concentrate_au'] < 0.3\n",
    "- train['primary_cleaner.output.concentrate_au'] < 0.47\n",
    "- train['final.output.concentrate_au'] < 0.53"
   ]
  },
  {
   "cell_type": "markdown",
   "metadata": {},
   "source": [
    "#### Как меняется концентрация серебра"
   ]
  },
  {
   "cell_type": "code",
   "execution_count": 18,
   "metadata": {},
   "outputs": [
    {
     "data": {
      "image/png": "[encoded data removed]",
      "text/plain": [
       "<Figure size 720x360 with 1 Axes>"
      ]
     },
     "metadata": {},
     "output_type": "display_data"
    }
   ],
   "source": [
    "plt.figure(figsize=[10,5])\n",
    "\n",
    "plt.hist(train['rougher.input.feed_ag'], bins=100, label = 'концентрация в сырье', alpha=0.6)\n",
    "plt.hist(train['rougher.output.concentrate_ag'], bins=100, label = 'концентрация после флотации', alpha=0.6)\n",
    "plt.hist(train['primary_cleaner.output.concentrate_ag'], bins=100, label = 'концентрация после первой очистки', alpha=0.6)\n",
    "plt.hist(train['final.output.concentrate_ag'], bins=100, label = 'концентрация в финальном концентрате', alpha=0.6)\n",
    "\n",
    "\n",
    "plt.xlim([0, 20])\n",
    "plt.ylim([0, 900])\n",
    "\n",
    "plt.xlabel(\"Концентрация серебра на разных этапах\")\n",
    "plt.ylabel(\"Частота\")\n",
    "\n",
    "plt.legend(loc='upper right')\n",
    "\n",
    "plt.title(\"Гистограмма с распределением концентрации серебра\")\n",
    "plt.show()"
   ]
  },
  {
   "cell_type": "markdown",
   "metadata": {},
   "source": [
    "Видно, что самое меньшее количества серебра на этапе финального концентрата. А больше всего после флотации. То есть нет четко прослеживаемого увеличения или уменьшения концентрации от этапа к этапу."
   ]
  },
  {
   "cell_type": "markdown",
   "metadata": {},
   "source": [
    "Аномалии:"
   ]
  },
  {
   "cell_type": "code",
   "execution_count": 19,
   "metadata": {
    "scrolled": true
   },
   "outputs": [
    {
     "data": {
      "image/png": "[encoded data removed]",
      "text/plain": [
       "<Figure size 720x360 with 1 Axes>"
      ]
     },
     "metadata": {},
     "output_type": "display_data"
    }
   ],
   "source": [
    "plt.figure(figsize=[10,5])\n",
    "\n",
    "plt.hist(train['rougher.input.feed_ag'], bins=100, label = 'концентрация в сырье', alpha=0.6)\n",
    "plt.hist(train['rougher.output.concentrate_ag'], bins=100, label = 'концентрация после флотации', alpha=0.6)\n",
    "plt.hist(train['primary_cleaner.output.concentrate_ag'], bins=100, label = 'концентрация после первой очистки', alpha=0.6)\n",
    "plt.hist(train['final.output.concentrate_ag'], bins=100, label = 'концентрация в финальном концентрате', alpha=0.6)\n",
    "\n",
    "\n",
    "plt.xlim([0, 0.3])\n",
    "plt.ylim([0, 800])\n",
    "\n",
    "plt.xlabel(\"Концентрация серебра на разных этапах\")\n",
    "plt.ylabel(\"Частота\")\n",
    "\n",
    "plt.legend(loc='upper right')\n",
    "\n",
    "plt.title(\"Аномалии концентрации серебра\")\n",
    "plt.show()"
   ]
  },
  {
   "cell_type": "markdown",
   "metadata": {},
   "source": [
    "Получается, что аномалии есть на этих участках:\n",
    "\n",
    "- train['rougher.output.concentrate_ag'] < 0.25\n",
    "- train['primary_cleaner.output.concentrate_ag'] < 0.17\n",
    "- train['final.output.concentrate_ag'] < 0.17"
   ]
  },
  {
   "cell_type": "markdown",
   "metadata": {},
   "source": [
    "#### Как меняется концентрация Pb"
   ]
  },
  {
   "cell_type": "code",
   "execution_count": 20,
   "metadata": {
    "scrolled": false
   },
   "outputs": [
    {
     "data": {
      "image/png": "[encoded data removed]",
      "text/plain": [
       "<Figure size 720x360 with 1 Axes>"
      ]
     },
     "metadata": {},
     "output_type": "display_data"
    }
   ],
   "source": [
    "plt.figure(figsize=[10,5])\n",
    "\n",
    "plt.hist(train['rougher.input.feed_pb'], bins=100, label = 'концентрация в сырье', alpha=0.6)\n",
    "plt.hist(train['rougher.output.concentrate_pb'], bins=100, label = 'концентрация после флотации', alpha=0.6)\n",
    "plt.hist(train['primary_cleaner.output.concentrate_pb'], bins=100, label = 'концентрация после первой очистки', alpha=0.6)\n",
    "plt.hist(train['final.output.concentrate_pb'], bins=100, label = 'концентрация в финальном концентрате', alpha=0.6)\n",
    "\n",
    "plt.xlim([0, 20])\n",
    "plt.ylim([0, 900])\n",
    "\n",
    "plt.xlabel(\"Концентрация свинца на разных этапах\")\n",
    "plt.ylabel(\"Частота\")\n",
    "\n",
    "plt.legend(loc='upper right')\n",
    "\n",
    "plt.title(\"Гистограмма с распределением концентрации свинца\")\n",
    "plt.show()"
   ]
  },
  {
   "cell_type": "markdown",
   "metadata": {},
   "source": [
    "Меньше всего свинца на этапе концентрации в сырье, больше всего на этапе финального концентрата и на этапе после первой очистки. То есть концентрация свинца растет от этапа к этапу."
   ]
  },
  {
   "cell_type": "markdown",
   "metadata": {},
   "source": [
    "Аномалии:"
   ]
  },
  {
   "cell_type": "code",
   "execution_count": 21,
   "metadata": {
    "scrolled": true
   },
   "outputs": [
    {
     "data": {
      "image/png": "[encoded data removed]",
      "text/plain": [
       "<Figure size 720x360 with 1 Axes>"
      ]
     },
     "metadata": {},
     "output_type": "display_data"
    }
   ],
   "source": [
    "plt.figure(figsize=[10,5])\n",
    "\n",
    "plt.hist(train['rougher.input.feed_pb'], bins=100, label = 'концентрация в сырье', alpha=0.6)\n",
    "plt.hist(train['rougher.output.concentrate_pb'], bins=100, label = 'концентрация после флотации', alpha=0.6)\n",
    "plt.hist(train['primary_cleaner.output.concentrate_pb'], bins=100, label = 'концентрация после первой очистки', alpha=0.6)\n",
    "plt.hist(train['final.output.concentrate_pb'], bins=100, label = 'концентрация в финальном концентрате', alpha=0.6)\n",
    "\n",
    "plt.xlim([0, 0.2])\n",
    "plt.ylim([0, 600])\n",
    "\n",
    "plt.xlabel(\"Концентрация свинца на разных этапах\")\n",
    "plt.ylabel(\"Частота\")\n",
    "\n",
    "plt.legend(loc='upper right')\n",
    "\n",
    "plt.title(\"Гистограмма с аномалиями свинца\")\n",
    "plt.show()"
   ]
  },
  {
   "cell_type": "markdown",
   "metadata": {},
   "source": [
    "Получается, что аномалии есть на этих участках:\n",
    "\n",
    "- train['rougher.output.concentrate_pb'] < 0.13\n",
    "- train['primary_cleaner.output.concentrate_pb'] < 0.175\n",
    "- train['final.output.concentrate_pb'] < 0.175"
   ]
  },
  {
   "cell_type": "markdown",
   "metadata": {},
   "source": [
    "### Работа с выявленными аномалиями"
   ]
  },
  {
   "cell_type": "markdown",
   "metadata": {},
   "source": [
    "Создам переменную с первичным размером выборки train, чтобы потом сравнить, сколько данных было удалено:"
   ]
  },
  {
   "cell_type": "code",
   "execution_count": 22,
   "metadata": {},
   "outputs": [
    {
     "data": {
      "text/plain": [
       "14579"
      ]
     },
     "execution_count": 22,
     "metadata": {},
     "output_type": "execute_result"
    }
   ],
   "source": [
    "train_initial_size = train.shape[0]\n",
    "train_initial_size"
   ]
  },
  {
   "cell_type": "markdown",
   "metadata": {},
   "source": [
    "Удалю все аномалии, которые нашла:"
   ]
  },
  {
   "cell_type": "code",
   "execution_count": 23,
   "metadata": {},
   "outputs": [],
   "source": [
    "train = train[(train['rougher.output.concentrate_au'] > 0.3) & \\\n",
    "(train['primary_cleaner.output.concentrate_au'] > 0.47) & \\\n",
    "(train['final.output.concentrate_au'] > 0.53) & \\\n",
    "(train['rougher.output.concentrate_ag'] > 0.25) & \\\n",
    "(train['primary_cleaner.output.concentrate_ag'] > 0.17) & \\\n",
    "(train['final.output.concentrate_ag'] > 0.17) & \\\n",
    "(train['rougher.output.concentrate_pb'] > 0.13) & \\\n",
    "(train['primary_cleaner.output.concentrate_pb'] > 0.175) & \\\n",
    "(train['final.output.concentrate_pb'] > 0.175)]"
   ]
  },
  {
   "cell_type": "markdown",
   "metadata": {},
   "source": [
    "Посмотрю, сколько строк данных осталось:"
   ]
  },
  {
   "cell_type": "code",
   "execution_count": 24,
   "metadata": {
    "scrolled": true
   },
   "outputs": [
    {
     "data": {
      "text/plain": [
       "13879"
      ]
     },
     "execution_count": 24,
     "metadata": {},
     "output_type": "execute_result"
    }
   ],
   "source": [
    "train.shape[0]"
   ]
  },
  {
   "cell_type": "markdown",
   "metadata": {},
   "source": [
    "Рассчитаю, сколько % строк осталось от исходного количества:"
   ]
  },
  {
   "cell_type": "code",
   "execution_count": 25,
   "metadata": {
    "scrolled": false
   },
   "outputs": [
    {
     "name": "stdout",
     "output_type": "stream",
     "text": [
      "Сколько осталось данных: 95.2 %\n"
     ]
    }
   ],
   "source": [
    "print('Сколько осталось данных:', round(train.shape[0] / train_initial_size * 100, 2), '%')"
   ]
  },
  {
   "cell_type": "markdown",
   "metadata": {},
   "source": [
    "Удалено не больше 5% от исходного объема данных."
   ]
  },
  {
   "cell_type": "markdown",
   "metadata": {},
   "source": [
    "### Сравнение распределения размеров гранул исходного сырья на обучающей и тестовой выборках:"
   ]
  },
  {
   "cell_type": "code",
   "execution_count": 26,
   "metadata": {
    "scrolled": true
   },
   "outputs": [
    {
     "data": {
      "image/png": "[encoded data removed]",
      "text/plain": [
       "<Figure size 720x360 with 1 Axes>"
      ]
     },
     "metadata": {},
     "output_type": "display_data"
    }
   ],
   "source": [
    "sns.set(rc={'figure.figsize':(10,5)})\n",
    "sns.kdeplot(train['rougher.input.feed_size']);\n",
    "sns.kdeplot(test['rougher.input.feed_size']);\n",
    "\n",
    "plt.xlabel(\"Размер гранул исходного сырья\")\n",
    "plt.ylabel(\"Плотность\")\n",
    "\n",
    "plt.title(\"Гистограмма распределения гранул исходного сырья\")\n",
    "plt.show()"
   ]
  },
  {
   "cell_type": "markdown",
   "metadata": {},
   "source": [
    "Работа с аномалиями по гранулам сырья в тренировочной выборке:"
   ]
  },
  {
   "cell_type": "code",
   "execution_count": 27,
   "metadata": {},
   "outputs": [
    {
     "data": {
      "image/png": "[encoded data removed]",
      "text/plain": [
       "<Figure size 720x360 with 1 Axes>"
      ]
     },
     "metadata": {},
     "output_type": "display_data"
    }
   ],
   "source": [
    "sns.set(rc={'figure.figsize':(10,5)})\n",
    "plt.hist(train['rougher.input.feed_size'], bins=100, label = 'Размер гранул исходного сырья в тренировочной выборке', alpha=0.6)\n",
    "\n",
    "plt.xlabel(\"Размер гранул исходного сырья\")\n",
    "plt.ylabel(\"Плотность\")\n",
    "\n",
    "plt.title(\"Гистограмма распределения гранул исходного сырья\")\n",
    "\n",
    "plt.xlim([0, 40])\n",
    "\n",
    "plt.show()"
   ]
  },
  {
   "cell_type": "code",
   "execution_count": null,
   "metadata": {},
   "outputs": [],
   "source": [
    "sns.set(rc={'figure.figsize':(10,5)})\n",
    "plt.hist(train['rougher.input.feed_size'], bins=100, label = 'Размер гранул исходного сырья в тренировочной выборке', alpha=0.6)\n",
    "\n",
    "plt.xlabel(\"Размер гранул исходного сырья\")\n",
    "plt.ylabel(\"Плотность\")\n",
    "\n",
    "plt.title(\"Гистограмма распределения гранул исходного сырья\")\n",
    "\n",
    "plt.xlim([100, 500])\n",
    "\n",
    "plt.show()"
   ]
  },
  {
   "cell_type": "markdown",
   "metadata": {},
   "source": [
    "Удаляю аномалии:"
   ]
  },
  {
   "cell_type": "code",
   "execution_count": 28,
   "metadata": {},
   "outputs": [
    {
     "data": {
      "text/plain": [
       "13229"
      ]
     },
     "execution_count": 28,
     "metadata": {},
     "output_type": "execute_result"
    }
   ],
   "source": [
    "train = train[(train['rougher.input.feed_size'] > 39) & \\\n",
    "(train['rougher.input.feed_size'] < 100)]\n",
    "\n",
    "train.shape[0]"
   ]
  },
  {
   "cell_type": "code",
   "execution_count": 29,
   "metadata": {
    "scrolled": true
   },
   "outputs": [
    {
     "name": "stdout",
     "output_type": "stream",
     "text": [
      "Сколько осталось данных: 90.74 %\n"
     ]
    }
   ],
   "source": [
    "print('Сколько осталось данных:', round(train.shape[0] / train_initial_size * 100, 2), '%')"
   ]
  },
  {
   "cell_type": "markdown",
   "metadata": {},
   "source": [
    "Распределение похоже как в обучающей, так и в тестовой выбрке."
   ]
  },
  {
   "cell_type": "markdown",
   "metadata": {},
   "source": [
    "### Исследование суммарной концентрации металлов в сырье, в черновом концентрате, в концентрате после первой очистки и в финальном концентрате:"
   ]
  },
  {
   "cell_type": "markdown",
   "metadata": {},
   "source": [
    "Исследуйте суммарную концентрацию металлов на разных стадиях: в сырье, в черновом концентрате, в концентрате после первой очистки и в финальном концентрате."
   ]
  },
  {
   "cell_type": "markdown",
   "metadata": {},
   "source": [
    "Сначала нужно создать новые переменные с суммарной концентрациям по этапам:"
   ]
  },
  {
   "cell_type": "code",
   "execution_count": 30,
   "metadata": {},
   "outputs": [],
   "source": [
    "#cуммарная концентрация ag, au, pb в сырье\n",
    "rougher_input_feed_sum = (train['rougher.input.feed_au'] + train['rougher.input.feed_ag'] + train['rougher.input.feed_pb'])\n",
    "\n",
    "#cуммарная концентрация ag, au, pb в черновом концентрате\n",
    "rougher_output_concentrate_sum = (train['rougher.output.concentrate_au'] + train['rougher.output.concentrate_ag'] + \\\n",
    "                                  train['rougher.output.concentrate_pb'])\n",
    "\n",
    "#cуммарная концентрация ag, au, pb после первой очистки\n",
    "primary_cleaner_output_concentrate_sum = (train['primary_cleaner.output.concentrate_au'] + \\\n",
    "                                          train['primary_cleaner.output.concentrate_ag'] + \\\n",
    "                                          train['primary_cleaner.output.concentrate_pb'])\n",
    "\n",
    "#cуммарная концентрация ag, au, pb в финальном концентрате\n",
    "final_output_concentrate_sum = (train['final.output.concentrate_au'] + train['final.output.concentrate_ag'] + \\\n",
    "                                train['final.output.concentrate_pb'])"
   ]
  },
  {
   "cell_type": "markdown",
   "metadata": {},
   "source": [
    "Теперь нужно построить гистограмму:"
   ]
  },
  {
   "cell_type": "code",
   "execution_count": 31,
   "metadata": {},
   "outputs": [
    {
     "data": {
      "image/png": "[encoded data removed]",
      "text/plain": [
       "<Figure size 720x360 with 1 Axes>"
      ]
     },
     "metadata": {},
     "output_type": "display_data"
    }
   ],
   "source": [
    "plt.figure(figsize=[10,5])\n",
    "sns.set_palette('bright')\n",
    "\n",
    "plt.hist(rougher_input_feed_sum, bins=100, label = 'cуммарная концентрация ag, au, pb в сырье', alpha=0.6)\n",
    "plt.hist(rougher_output_concentrate_sum, bins=100, label = 'cуммарная концентрация ag, au, pb в черновом концентрате', \\\n",
    "         alpha=0.6)\n",
    "plt.hist(primary_cleaner_output_concentrate_sum, bins=100, label = 'cуммарная концентрация ag, au, pb после первой очистки',\\\n",
    "         alpha=0.6)\n",
    "plt.hist(final_output_concentrate_sum, bins=100, label = 'cуммарная концентрация ag, au, pb в финальном концентрате',\\\n",
    "         alpha=0.6)\n",
    "\n",
    "\n",
    "plt.xlim([0, 90])\n",
    "plt.ylim([0, 3500])\n",
    "\n",
    "plt.xlabel(\"Суммарная концентрация ag, au, pb на разных этапах\")\n",
    "plt.ylabel(\"Частота\")\n",
    "\n",
    "plt.legend(loc='upper left')\n",
    "\n",
    "plt.title(\"Гистограмма по суммарным концентрациям металлов\")\n",
    "plt.show()"
   ]
  },
  {
   "cell_type": "markdown",
   "metadata": {},
   "source": [
    "Суммарная концентрация увеличивается от этапа к этапу, а ширина распределения суммарной концентрации уменьшается."
   ]
  },
  {
   "cell_type": "markdown",
   "metadata": {},
   "source": [
    "**Общий вывод по анализу данных:** \n",
    "\n",
    "- Концентрация золота и свинца увеличивается от этапа к этапу и максимальна на финале, а у серебра иная ситуация: самое меньшее количества серебра на этапе финального концентрата.\n",
    "- Распределения размера гранул исходного сырья в обучающей и тестовой выборке похожи.\n",
    "- Суммарная концентрация металлов увеличивается к финальному этапу. При этом диапазон распределения уменьшается.\n",
    "- Аномалии в концентрациях металлов удалены."
   ]
  },
  {
   "cell_type": "markdown",
   "metadata": {},
   "source": [
    "## Проверка моделей и расчет sMAPE"
   ]
  },
  {
   "cell_type": "markdown",
   "metadata": {},
   "source": [
    "### Удаление столбцов из тренировочной выборки"
   ]
  },
  {
   "cell_type": "markdown",
   "metadata": {},
   "source": [
    "Так как я решила, что столбцы, которых нет в тестовой выборке, надо удалить, я их удалю из тренировочной выборки."
   ]
  },
  {
   "cell_type": "code",
   "execution_count": 32,
   "metadata": {},
   "outputs": [
    {
     "data": {
      "text/plain": [
       "55"
      ]
     },
     "execution_count": 32,
     "metadata": {},
     "output_type": "execute_result"
    }
   ],
   "source": [
    "list_to_delete = list(set(train.columns) - set(test.columns))\n",
    "\n",
    "train = train.drop(columns=list_to_delete)\n",
    "train.shape[1] #сколько осталось колонок в train"
   ]
  },
  {
   "cell_type": "markdown",
   "metadata": {},
   "source": [
    "**Вывод по отсутствующим колонкам:** было 87 колонок, стало 55 - удалено 32 колонки, все верно."
   ]
  },
  {
   "cell_type": "markdown",
   "metadata": {
    "scrolled": false
   },
   "source": [
    "### Функция для вычисления итоговой sMAPE:"
   ]
  },
  {
   "cell_type": "markdown",
   "metadata": {},
   "source": [
    "В первой функции я сначала рассчитаю sMAPE для одного таргета, во второй - суммарную sMAPE для 2 таргетов."
   ]
  },
  {
   "cell_type": "markdown",
   "metadata": {},
   "source": [
    "Так как с функциями pandas (abs и sum) на кросс-валидации иногда выдавался результат nan, я решила использовать функции numpy, это сработало в моем случае:"
   ]
  },
  {
   "cell_type": "markdown",
   "metadata": {},
   "source": [
    "Функция sMAPE для одного таргета:"
   ]
  },
  {
   "cell_type": "code",
   "execution_count": 33,
   "metadata": {},
   "outputs": [],
   "source": [
    "def smape(target, prediction):\n",
    "    return (1 / len(target)) * np.sum((np.abs(target - prediction)) / ( (np.abs(target) + np.abs(prediction)) / 2)) * 100"
   ]
  },
  {
   "cell_type": "markdown",
   "metadata": {},
   "source": [
    "Передача функции sMAPE скореру, чтобы можно было использовать метрику на кросс-валидации в будущем:"
   ]
  },
  {
   "cell_type": "code",
   "execution_count": 34,
   "metadata": {},
   "outputs": [],
   "source": [
    "smape_scorer = make_scorer(smape, greater_is_better=False)"
   ]
  },
  {
   "cell_type": "markdown",
   "metadata": {},
   "source": [
    "Функция sMAPE для двух таргетов:"
   ]
  },
  {
   "cell_type": "code",
   "execution_count": 35,
   "metadata": {},
   "outputs": [],
   "source": [
    "def sum_smape(rougher, final):\n",
    "    final = 0.25*rougher+0.75*final\n",
    "    return final"
   ]
  },
  {
   "cell_type": "markdown",
   "metadata": {},
   "source": [
    "Теперь нужно обучить разные модели и оценить их качество кросс-валидацией.<br>\n",
    "Потом выбрать лучшую модель и проверить её на тестовой выборке."
   ]
  },
  {
   "cell_type": "markdown",
   "metadata": {},
   "source": [
    "### Подготовка выборок для обучения и теста"
   ]
  },
  {
   "cell_type": "markdown",
   "metadata": {},
   "source": [
    "Удаляю 3 колонки (2 таргета и колонку \"дата\") из тренировочной выборки и делаю 2 переменные с таргетами, то же самое делаю с тестовой выборкой:"
   ]
  },
  {
   "cell_type": "code",
   "execution_count": 36,
   "metadata": {},
   "outputs": [],
   "source": [
    "features_train = train.drop(columns=['rougher.output.recovery', 'final.output.recovery', 'date'], axis=1)\n",
    "target_train_rougher = train['rougher.output.recovery']\n",
    "target_train_final = train['final.output.recovery']"
   ]
  },
  {
   "cell_type": "code",
   "execution_count": 37,
   "metadata": {},
   "outputs": [],
   "source": [
    "features_test = test.drop(columns=['rougher.output.recovery', 'final.output.recovery', 'date'], axis=1)\n",
    "target_test_rougher = test['rougher.output.recovery']\n",
    "target_test_final = test['final.output.recovery']"
   ]
  },
  {
   "cell_type": "markdown",
   "metadata": {},
   "source": [
    "### Стандартизация данных"
   ]
  },
  {
   "cell_type": "markdown",
   "metadata": {},
   "source": [
    "Для лучших расчетов делаю стандартизацию данных с StandardScaler():"
   ]
  },
  {
   "cell_type": "code",
   "execution_count": 38,
   "metadata": {},
   "outputs": [],
   "source": [
    "scaler = StandardScaler()\n",
    "\n",
    "features_train = scaler.fit_transform(features_train)\n",
    "features_test = scaler.transform(features_test)"
   ]
  },
  {
   "cell_type": "markdown",
   "metadata": {},
   "source": [
    "### Обучение и проверка модели LinearRegression:"
   ]
  },
  {
   "cell_type": "markdown",
   "metadata": {},
   "source": [
    "Сначала получу sMAPE для модели, основанной на предсказании **rougher.output.recovery**."
   ]
  },
  {
   "cell_type": "code",
   "execution_count": 39,
   "metadata": {},
   "outputs": [
    {
     "name": "stderr",
     "output_type": "stream",
     "text": [
      "[Parallel(n_jobs=-1)]: Using backend SequentialBackend with 1 concurrent workers.\n"
     ]
    },
    {
     "name": "stdout",
     "output_type": "stream",
     "text": [
      "[CV] START .....................................................................\n",
      "[CV] END ............................... score: (test=-7.790) total time=   0.6s\n",
      "[CV] START .....................................................................\n"
     ]
    },
    {
     "name": "stderr",
     "output_type": "stream",
     "text": [
      "[Parallel(n_jobs=-1)]: Done   1 out of   1 | elapsed:    0.6s remaining:    0.0s\n"
     ]
    },
    {
     "name": "stdout",
     "output_type": "stream",
     "text": [
      "[CV] END ............................... score: (test=-5.992) total time=   0.2s\n",
      "[CV] START .....................................................................\n"
     ]
    },
    {
     "name": "stderr",
     "output_type": "stream",
     "text": [
      "[Parallel(n_jobs=-1)]: Done   2 out of   2 | elapsed:    0.9s remaining:    0.0s\n"
     ]
    },
    {
     "name": "stdout",
     "output_type": "stream",
     "text": [
      "[CV] END .............................. score: (test=-11.413) total time=   0.4s\n",
      "sMAPE rougher: 8.398314558995603\n"
     ]
    },
    {
     "name": "stderr",
     "output_type": "stream",
     "text": [
      "[Parallel(n_jobs=-1)]: Done   3 out of   3 | elapsed:    1.3s remaining:    0.0s\n",
      "[Parallel(n_jobs=-1)]: Done   3 out of   3 | elapsed:    1.3s finished\n"
     ]
    }
   ],
   "source": [
    "model_lr_rougher = LinearRegression()\n",
    "smape_rougher = cross_val_score(model_lr_rougher, features_train, target_train_rougher, scoring=smape_scorer, cv=3, \\\n",
    "                                n_jobs=-1, verbose=10)\n",
    "final_smape_rougher = smape_rougher.mean()\n",
    "print('sMAPE rougher:', abs(final_smape_rougher))"
   ]
  },
  {
   "cell_type": "markdown",
   "metadata": {},
   "source": [
    "Получу sMAPE для модели, основанной на предсказании **final.output.recovery**."
   ]
  },
  {
   "cell_type": "code",
   "execution_count": 40,
   "metadata": {},
   "outputs": [
    {
     "name": "stderr",
     "output_type": "stream",
     "text": [
      "[Parallel(n_jobs=-1)]: Using backend SequentialBackend with 1 concurrent workers.\n"
     ]
    },
    {
     "name": "stdout",
     "output_type": "stream",
     "text": [
      "[CV] START .....................................................................\n",
      "[CV] END .............................. score: (test=-10.309) total time=   0.3s\n",
      "[CV] START .....................................................................\n"
     ]
    },
    {
     "name": "stderr",
     "output_type": "stream",
     "text": [
      "[Parallel(n_jobs=-1)]: Done   1 out of   1 | elapsed:    0.3s remaining:    0.0s\n"
     ]
    },
    {
     "name": "stdout",
     "output_type": "stream",
     "text": [
      "[CV] END ............................... score: (test=-8.673) total time=   1.0s\n",
      "[CV] START .....................................................................\n"
     ]
    },
    {
     "name": "stderr",
     "output_type": "stream",
     "text": [
      "[Parallel(n_jobs=-1)]: Done   2 out of   2 | elapsed:    1.3s remaining:    0.0s\n"
     ]
    },
    {
     "name": "stdout",
     "output_type": "stream",
     "text": [
      "[CV] END .............................. score: (test=-13.875) total time=   0.6s\n",
      "sMAPE final: 10.95236615541328\n"
     ]
    },
    {
     "name": "stderr",
     "output_type": "stream",
     "text": [
      "[Parallel(n_jobs=-1)]: Done   3 out of   3 | elapsed:    1.9s remaining:    0.0s\n",
      "[Parallel(n_jobs=-1)]: Done   3 out of   3 | elapsed:    1.9s finished\n"
     ]
    }
   ],
   "source": [
    "model_lr_final = LinearRegression()\n",
    "smape_final = cross_val_score(model_lr_final, features_train, target_train_final, scoring=smape_scorer, cv=3, n_jobs=-1, \\\n",
    "                             verbose=10)\n",
    "final_smape_final = smape_final.mean()\n",
    "print('sMAPE final:', abs(final_smape_final))"
   ]
  },
  {
   "cell_type": "markdown",
   "metadata": {},
   "source": [
    "Посчитаю суммарную sMAPE, основанную на 2 предсказаниях таргетов:"
   ]
  },
  {
   "cell_type": "code",
   "execution_count": 41,
   "metadata": {},
   "outputs": [
    {
     "name": "stdout",
     "output_type": "stream",
     "text": [
      "Summary sMAPE: 10.31385325630886\n"
     ]
    }
   ],
   "source": [
    "result_smape = sum_smape(smape_rougher, smape_final)\n",
    "print('Summary sMAPE:', abs(result_smape.mean()))"
   ]
  },
  {
   "cell_type": "markdown",
   "metadata": {},
   "source": [
    "### Обучение и проверка модели RandomForestRegressor:"
   ]
  },
  {
   "cell_type": "markdown",
   "metadata": {},
   "source": [
    "Сначала получу sMAPE для модели, основанной на предсказании **rougher.output.recovery**."
   ]
  },
  {
   "cell_type": "code",
   "execution_count": 42,
   "metadata": {},
   "outputs": [
    {
     "name": "stderr",
     "output_type": "stream",
     "text": [
      "[Parallel(n_jobs=-1)]: Using backend SequentialBackend with 1 concurrent workers.\n"
     ]
    },
    {
     "name": "stdout",
     "output_type": "stream",
     "text": [
      "[CV] START .....................................................................\n",
      "[CV] END ............................... score: (test=-8.953) total time=   0.3s\n",
      "[CV] START .....................................................................\n"
     ]
    },
    {
     "name": "stderr",
     "output_type": "stream",
     "text": [
      "[Parallel(n_jobs=-1)]: Done   1 out of   1 | elapsed:    0.3s remaining:    0.0s\n"
     ]
    },
    {
     "name": "stdout",
     "output_type": "stream",
     "text": [
      "[CV] END ............................... score: (test=-4.912) total time=   0.3s\n",
      "[CV] START .....................................................................\n"
     ]
    },
    {
     "name": "stderr",
     "output_type": "stream",
     "text": [
      "[Parallel(n_jobs=-1)]: Done   2 out of   2 | elapsed:    0.7s remaining:    0.0s\n"
     ]
    },
    {
     "name": "stdout",
     "output_type": "stream",
     "text": [
      "[CV] END ............................... score: (test=-7.925) total time=   0.4s\n",
      "[CV] START .....................................................................\n"
     ]
    },
    {
     "name": "stderr",
     "output_type": "stream",
     "text": [
      "[Parallel(n_jobs=-1)]: Done   3 out of   3 | elapsed:    1.1s remaining:    0.0s\n",
      "[Parallel(n_jobs=-1)]: Done   3 out of   3 | elapsed:    1.1s finished\n",
      "[Parallel(n_jobs=-1)]: Using backend SequentialBackend with 1 concurrent workers.\n"
     ]
    },
    {
     "name": "stdout",
     "output_type": "stream",
     "text": [
      "[CV] END ............................... score: (test=-8.338) total time=   0.6s\n",
      "[CV] START .....................................................................\n"
     ]
    },
    {
     "name": "stderr",
     "output_type": "stream",
     "text": [
      "[Parallel(n_jobs=-1)]: Done   1 out of   1 | elapsed:    0.6s remaining:    0.0s\n"
     ]
    },
    {
     "name": "stdout",
     "output_type": "stream",
     "text": [
      "[CV] END ............................... score: (test=-4.625) total time=   0.6s\n",
      "[CV] START .....................................................................\n"
     ]
    },
    {
     "name": "stderr",
     "output_type": "stream",
     "text": [
      "[Parallel(n_jobs=-1)]: Done   2 out of   2 | elapsed:    1.2s remaining:    0.0s\n"
     ]
    },
    {
     "name": "stdout",
     "output_type": "stream",
     "text": [
      "[CV] END ............................... score: (test=-6.828) total time=   0.6s\n",
      "[CV] START .....................................................................\n"
     ]
    },
    {
     "name": "stderr",
     "output_type": "stream",
     "text": [
      "[Parallel(n_jobs=-1)]: Done   3 out of   3 | elapsed:    1.9s remaining:    0.0s\n",
      "[Parallel(n_jobs=-1)]: Done   3 out of   3 | elapsed:    1.9s finished\n",
      "[Parallel(n_jobs=-1)]: Using backend SequentialBackend with 1 concurrent workers.\n"
     ]
    },
    {
     "name": "stdout",
     "output_type": "stream",
     "text": [
      "[CV] END ............................... score: (test=-8.057) total time=   0.9s\n",
      "[CV] START .....................................................................\n"
     ]
    },
    {
     "name": "stderr",
     "output_type": "stream",
     "text": [
      "[Parallel(n_jobs=-1)]: Done   1 out of   1 | elapsed:    0.9s remaining:    0.0s\n"
     ]
    },
    {
     "name": "stdout",
     "output_type": "stream",
     "text": [
      "[CV] END ............................... score: (test=-4.638) total time=   0.8s\n",
      "[CV] START .....................................................................\n"
     ]
    },
    {
     "name": "stderr",
     "output_type": "stream",
     "text": [
      "[Parallel(n_jobs=-1)]: Done   2 out of   2 | elapsed:    1.8s remaining:    0.0s\n"
     ]
    },
    {
     "name": "stdout",
     "output_type": "stream",
     "text": [
      "[CV] END ............................... score: (test=-7.012) total time=   0.9s\n",
      "[CV] START .....................................................................\n"
     ]
    },
    {
     "name": "stderr",
     "output_type": "stream",
     "text": [
      "[Parallel(n_jobs=-1)]: Done   3 out of   3 | elapsed:    2.6s remaining:    0.0s\n",
      "[Parallel(n_jobs=-1)]: Done   3 out of   3 | elapsed:    2.6s finished\n",
      "[Parallel(n_jobs=-1)]: Using backend SequentialBackend with 1 concurrent workers.\n"
     ]
    },
    {
     "name": "stdout",
     "output_type": "stream",
     "text": [
      "[CV] END ............................... score: (test=-7.793) total time=   1.1s\n",
      "[CV] START .....................................................................\n"
     ]
    },
    {
     "name": "stderr",
     "output_type": "stream",
     "text": [
      "[Parallel(n_jobs=-1)]: Done   1 out of   1 | elapsed:    1.1s remaining:    0.0s\n"
     ]
    },
    {
     "name": "stdout",
     "output_type": "stream",
     "text": [
      "[CV] END ............................... score: (test=-4.711) total time=   1.2s\n",
      "[CV] START .....................................................................\n"
     ]
    },
    {
     "name": "stderr",
     "output_type": "stream",
     "text": [
      "[Parallel(n_jobs=-1)]: Done   2 out of   2 | elapsed:    2.3s remaining:    0.0s\n"
     ]
    },
    {
     "name": "stdout",
     "output_type": "stream",
     "text": [
      "[CV] END ............................... score: (test=-6.834) total time=   1.2s\n",
      "[CV] START .....................................................................\n"
     ]
    },
    {
     "name": "stderr",
     "output_type": "stream",
     "text": [
      "[Parallel(n_jobs=-1)]: Done   3 out of   3 | elapsed:    3.5s remaining:    0.0s\n",
      "[Parallel(n_jobs=-1)]: Done   3 out of   3 | elapsed:    3.5s finished\n",
      "[Parallel(n_jobs=-1)]: Using backend SequentialBackend with 1 concurrent workers.\n"
     ]
    },
    {
     "name": "stdout",
     "output_type": "stream",
     "text": [
      "[CV] END ............................... score: (test=-7.867) total time=   1.4s\n",
      "[CV] START .....................................................................\n"
     ]
    },
    {
     "name": "stderr",
     "output_type": "stream",
     "text": [
      "[Parallel(n_jobs=-1)]: Done   1 out of   1 | elapsed:    1.4s remaining:    0.0s\n"
     ]
    },
    {
     "name": "stdout",
     "output_type": "stream",
     "text": [
      "[CV] END ............................... score: (test=-4.555) total time=   1.4s\n",
      "[CV] START .....................................................................\n"
     ]
    },
    {
     "name": "stderr",
     "output_type": "stream",
     "text": [
      "[Parallel(n_jobs=-1)]: Done   2 out of   2 | elapsed:    2.9s remaining:    0.0s\n"
     ]
    },
    {
     "name": "stdout",
     "output_type": "stream",
     "text": [
      "[CV] END ............................... score: (test=-7.084) total time=   1.4s\n",
      "[CV] START .....................................................................\n"
     ]
    },
    {
     "name": "stderr",
     "output_type": "stream",
     "text": [
      "[Parallel(n_jobs=-1)]: Done   3 out of   3 | elapsed:    4.3s remaining:    0.0s\n",
      "[Parallel(n_jobs=-1)]: Done   3 out of   3 | elapsed:    4.3s finished\n",
      "[Parallel(n_jobs=-1)]: Using backend SequentialBackend with 1 concurrent workers.\n"
     ]
    },
    {
     "name": "stdout",
     "output_type": "stream",
     "text": [
      "[CV] END ............................... score: (test=-7.829) total time=   1.7s\n",
      "[CV] START .....................................................................\n"
     ]
    },
    {
     "name": "stderr",
     "output_type": "stream",
     "text": [
      "[Parallel(n_jobs=-1)]: Done   1 out of   1 | elapsed:    1.7s remaining:    0.0s\n"
     ]
    },
    {
     "name": "stdout",
     "output_type": "stream",
     "text": [
      "[CV] END ............................... score: (test=-4.522) total time=   1.6s\n",
      "[CV] START .....................................................................\n"
     ]
    },
    {
     "name": "stderr",
     "output_type": "stream",
     "text": [
      "[Parallel(n_jobs=-1)]: Done   2 out of   2 | elapsed:    3.3s remaining:    0.0s\n"
     ]
    },
    {
     "name": "stdout",
     "output_type": "stream",
     "text": [
      "[CV] END ............................... score: (test=-7.539) total time=   1.6s\n",
      "[CV] START .....................................................................\n"
     ]
    },
    {
     "name": "stderr",
     "output_type": "stream",
     "text": [
      "[Parallel(n_jobs=-1)]: Done   3 out of   3 | elapsed:    4.9s remaining:    0.0s\n",
      "[Parallel(n_jobs=-1)]: Done   3 out of   3 | elapsed:    4.9s finished\n",
      "[Parallel(n_jobs=-1)]: Using backend SequentialBackend with 1 concurrent workers.\n"
     ]
    },
    {
     "name": "stdout",
     "output_type": "stream",
     "text": [
      "[CV] END ............................... score: (test=-8.032) total time=   1.9s\n",
      "[CV] START .....................................................................\n"
     ]
    },
    {
     "name": "stderr",
     "output_type": "stream",
     "text": [
      "[Parallel(n_jobs=-1)]: Done   1 out of   1 | elapsed:    1.9s remaining:    0.0s\n"
     ]
    },
    {
     "name": "stdout",
     "output_type": "stream",
     "text": [
      "[CV] END ............................... score: (test=-4.829) total time=   1.8s\n",
      "[CV] START .....................................................................\n"
     ]
    },
    {
     "name": "stderr",
     "output_type": "stream",
     "text": [
      "[Parallel(n_jobs=-1)]: Done   2 out of   2 | elapsed:    3.7s remaining:    0.0s\n"
     ]
    },
    {
     "name": "stdout",
     "output_type": "stream",
     "text": [
      "[CV] END ............................... score: (test=-7.695) total time=   1.8s\n",
      "[CV] START .....................................................................\n"
     ]
    },
    {
     "name": "stderr",
     "output_type": "stream",
     "text": [
      "[Parallel(n_jobs=-1)]: Done   3 out of   3 | elapsed:    5.5s remaining:    0.0s\n",
      "[Parallel(n_jobs=-1)]: Done   3 out of   3 | elapsed:    5.5s finished\n",
      "[Parallel(n_jobs=-1)]: Using backend SequentialBackend with 1 concurrent workers.\n"
     ]
    },
    {
     "name": "stdout",
     "output_type": "stream",
     "text": [
      "[CV] END ............................... score: (test=-8.108) total time=   2.1s\n",
      "[CV] START .....................................................................\n"
     ]
    },
    {
     "name": "stderr",
     "output_type": "stream",
     "text": [
      "[Parallel(n_jobs=-1)]: Done   1 out of   1 | elapsed:    2.1s remaining:    0.0s\n"
     ]
    },
    {
     "name": "stdout",
     "output_type": "stream",
     "text": [
      "[CV] END ............................... score: (test=-4.668) total time=   2.0s\n",
      "[CV] START .....................................................................\n"
     ]
    },
    {
     "name": "stderr",
     "output_type": "stream",
     "text": [
      "[Parallel(n_jobs=-1)]: Done   2 out of   2 | elapsed:    4.1s remaining:    0.0s\n"
     ]
    },
    {
     "name": "stdout",
     "output_type": "stream",
     "text": [
      "[CV] END ............................... score: (test=-7.803) total time=   2.1s\n",
      "[CV] START .....................................................................\n"
     ]
    },
    {
     "name": "stderr",
     "output_type": "stream",
     "text": [
      "[Parallel(n_jobs=-1)]: Done   3 out of   3 | elapsed:    6.2s remaining:    0.0s\n",
      "[Parallel(n_jobs=-1)]: Done   3 out of   3 | elapsed:    6.2s finished\n",
      "[Parallel(n_jobs=-1)]: Using backend SequentialBackend with 1 concurrent workers.\n"
     ]
    },
    {
     "name": "stdout",
     "output_type": "stream",
     "text": [
      "[CV] END ............................... score: (test=-7.973) total time=   2.3s\n",
      "[CV] START .....................................................................\n"
     ]
    },
    {
     "name": "stderr",
     "output_type": "stream",
     "text": [
      "[Parallel(n_jobs=-1)]: Done   1 out of   1 | elapsed:    2.3s remaining:    0.0s\n"
     ]
    },
    {
     "name": "stdout",
     "output_type": "stream",
     "text": [
      "[CV] END ............................... score: (test=-4.896) total time=   2.3s\n",
      "[CV] START .....................................................................\n"
     ]
    },
    {
     "name": "stderr",
     "output_type": "stream",
     "text": [
      "[Parallel(n_jobs=-1)]: Done   2 out of   2 | elapsed:    4.6s remaining:    0.0s\n"
     ]
    },
    {
     "name": "stdout",
     "output_type": "stream",
     "text": [
      "[CV] END ............................... score: (test=-7.985) total time=   2.3s\n",
      "[CV] START .....................................................................\n"
     ]
    },
    {
     "name": "stderr",
     "output_type": "stream",
     "text": [
      "[Parallel(n_jobs=-1)]: Done   3 out of   3 | elapsed:    6.8s remaining:    0.0s\n",
      "[Parallel(n_jobs=-1)]: Done   3 out of   3 | elapsed:    6.8s finished\n",
      "[Parallel(n_jobs=-1)]: Using backend SequentialBackend with 1 concurrent workers.\n"
     ]
    },
    {
     "name": "stdout",
     "output_type": "stream",
     "text": [
      "[CV] END ............................... score: (test=-8.096) total time=   2.5s\n",
      "[CV] START .....................................................................\n"
     ]
    },
    {
     "name": "stderr",
     "output_type": "stream",
     "text": [
      "[Parallel(n_jobs=-1)]: Done   1 out of   1 | elapsed:    2.5s remaining:    0.0s\n"
     ]
    },
    {
     "name": "stdout",
     "output_type": "stream",
     "text": [
      "[CV] END ............................... score: (test=-5.074) total time=   2.5s\n",
      "[CV] START .....................................................................\n"
     ]
    },
    {
     "name": "stderr",
     "output_type": "stream",
     "text": [
      "[Parallel(n_jobs=-1)]: Done   2 out of   2 | elapsed:    4.9s remaining:    0.0s\n"
     ]
    },
    {
     "name": "stdout",
     "output_type": "stream",
     "text": [
      "[CV] END ............................... score: (test=-8.076) total time=   2.4s\n",
      "[CV] START .....................................................................\n"
     ]
    },
    {
     "name": "stderr",
     "output_type": "stream",
     "text": [
      "[Parallel(n_jobs=-1)]: Done   3 out of   3 | elapsed:    7.3s remaining:    0.0s\n",
      "[Parallel(n_jobs=-1)]: Done   3 out of   3 | elapsed:    7.3s finished\n",
      "[Parallel(n_jobs=-1)]: Using backend SequentialBackend with 1 concurrent workers.\n"
     ]
    },
    {
     "name": "stdout",
     "output_type": "stream",
     "text": [
      "[CV] END ............................... score: (test=-8.991) total time=   0.7s\n",
      "[CV] START .....................................................................\n"
     ]
    },
    {
     "name": "stderr",
     "output_type": "stream",
     "text": [
      "[Parallel(n_jobs=-1)]: Done   1 out of   1 | elapsed:    0.7s remaining:    0.0s\n"
     ]
    },
    {
     "name": "stdout",
     "output_type": "stream",
     "text": [
      "[CV] END ............................... score: (test=-4.972) total time=   0.6s\n",
      "[CV] START .....................................................................\n"
     ]
    },
    {
     "name": "stderr",
     "output_type": "stream",
     "text": [
      "[Parallel(n_jobs=-1)]: Done   2 out of   2 | elapsed:    1.3s remaining:    0.0s\n"
     ]
    },
    {
     "name": "stdout",
     "output_type": "stream",
     "text": [
      "[CV] END ............................... score: (test=-7.952) total time=   0.7s\n",
      "[CV] START .....................................................................\n"
     ]
    },
    {
     "name": "stderr",
     "output_type": "stream",
     "text": [
      "[Parallel(n_jobs=-1)]: Done   3 out of   3 | elapsed:    2.0s remaining:    0.0s\n",
      "[Parallel(n_jobs=-1)]: Done   3 out of   3 | elapsed:    2.0s finished\n",
      "[Parallel(n_jobs=-1)]: Using backend SequentialBackend with 1 concurrent workers.\n"
     ]
    },
    {
     "name": "stdout",
     "output_type": "stream",
     "text": [
      "[CV] END ............................... score: (test=-8.353) total time=   1.2s\n",
      "[CV] START .....................................................................\n"
     ]
    },
    {
     "name": "stderr",
     "output_type": "stream",
     "text": [
      "[Parallel(n_jobs=-1)]: Done   1 out of   1 | elapsed:    1.2s remaining:    0.0s\n"
     ]
    },
    {
     "name": "stdout",
     "output_type": "stream",
     "text": [
      "[CV] END ............................... score: (test=-4.710) total time=   1.2s\n",
      "[CV] START .....................................................................\n"
     ]
    },
    {
     "name": "stderr",
     "output_type": "stream",
     "text": [
      "[Parallel(n_jobs=-1)]: Done   2 out of   2 | elapsed:    2.4s remaining:    0.0s\n"
     ]
    },
    {
     "name": "stdout",
     "output_type": "stream",
     "text": [
      "[CV] END ............................... score: (test=-6.934) total time=   1.3s\n",
      "[CV] START .....................................................................\n"
     ]
    },
    {
     "name": "stderr",
     "output_type": "stream",
     "text": [
      "[Parallel(n_jobs=-1)]: Done   3 out of   3 | elapsed:    3.7s remaining:    0.0s\n",
      "[Parallel(n_jobs=-1)]: Done   3 out of   3 | elapsed:    3.7s finished\n",
      "[Parallel(n_jobs=-1)]: Using backend SequentialBackend with 1 concurrent workers.\n"
     ]
    },
    {
     "name": "stdout",
     "output_type": "stream",
     "text": [
      "[CV] END ............................... score: (test=-8.013) total time=   1.8s\n",
      "[CV] START .....................................................................\n"
     ]
    },
    {
     "name": "stderr",
     "output_type": "stream",
     "text": [
      "[Parallel(n_jobs=-1)]: Done   1 out of   1 | elapsed:    1.8s remaining:    0.0s\n"
     ]
    },
    {
     "name": "stdout",
     "output_type": "stream",
     "text": [
      "[CV] END ............................... score: (test=-4.794) total time=   1.7s\n",
      "[CV] START .....................................................................\n"
     ]
    },
    {
     "name": "stderr",
     "output_type": "stream",
     "text": [
      "[Parallel(n_jobs=-1)]: Done   2 out of   2 | elapsed:    3.5s remaining:    0.0s\n"
     ]
    },
    {
     "name": "stdout",
     "output_type": "stream",
     "text": [
      "[CV] END ............................... score: (test=-7.047) total time=   1.8s\n",
      "[CV] START .....................................................................\n"
     ]
    },
    {
     "name": "stderr",
     "output_type": "stream",
     "text": [
      "[Parallel(n_jobs=-1)]: Done   3 out of   3 | elapsed:    5.3s remaining:    0.0s\n",
      "[Parallel(n_jobs=-1)]: Done   3 out of   3 | elapsed:    5.3s finished\n",
      "[Parallel(n_jobs=-1)]: Using backend SequentialBackend with 1 concurrent workers.\n"
     ]
    },
    {
     "name": "stdout",
     "output_type": "stream",
     "text": [
      "[CV] END ............................... score: (test=-7.785) total time=   2.3s\n",
      "[CV] START .....................................................................\n"
     ]
    },
    {
     "name": "stderr",
     "output_type": "stream",
     "text": [
      "[Parallel(n_jobs=-1)]: Done   1 out of   1 | elapsed:    2.3s remaining:    0.0s\n"
     ]
    },
    {
     "name": "stdout",
     "output_type": "stream",
     "text": [
      "[CV] END ............................... score: (test=-4.780) total time=   2.3s\n",
      "[CV] START .....................................................................\n"
     ]
    },
    {
     "name": "stderr",
     "output_type": "stream",
     "text": [
      "[Parallel(n_jobs=-1)]: Done   2 out of   2 | elapsed:    4.7s remaining:    0.0s\n"
     ]
    },
    {
     "name": "stdout",
     "output_type": "stream",
     "text": [
      "[CV] END ............................... score: (test=-6.808) total time=   2.3s\n",
      "[CV] START .....................................................................\n"
     ]
    },
    {
     "name": "stderr",
     "output_type": "stream",
     "text": [
      "[Parallel(n_jobs=-1)]: Done   3 out of   3 | elapsed:    6.9s remaining:    0.0s\n",
      "[Parallel(n_jobs=-1)]: Done   3 out of   3 | elapsed:    6.9s finished\n",
      "[Parallel(n_jobs=-1)]: Using backend SequentialBackend with 1 concurrent workers.\n"
     ]
    },
    {
     "name": "stdout",
     "output_type": "stream",
     "text": [
      "[CV] END ............................... score: (test=-7.829) total time=   2.7s\n",
      "[CV] START .....................................................................\n"
     ]
    },
    {
     "name": "stderr",
     "output_type": "stream",
     "text": [
      "[Parallel(n_jobs=-1)]: Done   1 out of   1 | elapsed:    2.7s remaining:    0.0s\n"
     ]
    },
    {
     "name": "stdout",
     "output_type": "stream",
     "text": [
      "[CV] END ............................... score: (test=-4.526) total time=   2.7s\n",
      "[CV] START .....................................................................\n"
     ]
    },
    {
     "name": "stderr",
     "output_type": "stream",
     "text": [
      "[Parallel(n_jobs=-1)]: Done   2 out of   2 | elapsed:    5.5s remaining:    0.0s\n"
     ]
    },
    {
     "name": "stdout",
     "output_type": "stream",
     "text": [
      "[CV] END ............................... score: (test=-6.909) total time=   2.8s\n",
      "[CV] START .....................................................................\n"
     ]
    },
    {
     "name": "stderr",
     "output_type": "stream",
     "text": [
      "[Parallel(n_jobs=-1)]: Done   3 out of   3 | elapsed:    8.2s remaining:    0.0s\n",
      "[Parallel(n_jobs=-1)]: Done   3 out of   3 | elapsed:    8.2s finished\n",
      "[Parallel(n_jobs=-1)]: Using backend SequentialBackend with 1 concurrent workers.\n"
     ]
    },
    {
     "name": "stdout",
     "output_type": "stream",
     "text": [
      "[CV] END ............................... score: (test=-7.845) total time=   3.3s\n",
      "[CV] START .....................................................................\n"
     ]
    },
    {
     "name": "stderr",
     "output_type": "stream",
     "text": [
      "[Parallel(n_jobs=-1)]: Done   1 out of   1 | elapsed:    3.3s remaining:    0.0s\n"
     ]
    },
    {
     "name": "stdout",
     "output_type": "stream",
     "text": [
      "[CV] END ............................... score: (test=-4.653) total time=   3.3s\n",
      "[CV] START .....................................................................\n"
     ]
    },
    {
     "name": "stderr",
     "output_type": "stream",
     "text": [
      "[Parallel(n_jobs=-1)]: Done   2 out of   2 | elapsed:    6.5s remaining:    0.0s\n"
     ]
    },
    {
     "name": "stdout",
     "output_type": "stream",
     "text": [
      "[CV] END ............................... score: (test=-7.486) total time=   3.4s\n",
      "[CV] START .....................................................................\n"
     ]
    },
    {
     "name": "stderr",
     "output_type": "stream",
     "text": [
      "[Parallel(n_jobs=-1)]: Done   3 out of   3 | elapsed:   10.0s remaining:    0.0s\n",
      "[Parallel(n_jobs=-1)]: Done   3 out of   3 | elapsed:   10.0s finished\n",
      "[Parallel(n_jobs=-1)]: Using backend SequentialBackend with 1 concurrent workers.\n"
     ]
    },
    {
     "name": "stdout",
     "output_type": "stream",
     "text": [
      "[CV] END ............................... score: (test=-8.087) total time=   3.8s\n",
      "[CV] START .....................................................................\n"
     ]
    },
    {
     "name": "stderr",
     "output_type": "stream",
     "text": [
      "[Parallel(n_jobs=-1)]: Done   1 out of   1 | elapsed:    3.8s remaining:    0.0s\n"
     ]
    },
    {
     "name": "stdout",
     "output_type": "stream",
     "text": [
      "[CV] END ............................... score: (test=-4.805) total time=   3.8s\n",
      "[CV] START .....................................................................\n"
     ]
    },
    {
     "name": "stderr",
     "output_type": "stream",
     "text": [
      "[Parallel(n_jobs=-1)]: Done   2 out of   2 | elapsed:    7.7s remaining:    0.0s\n"
     ]
    },
    {
     "name": "stdout",
     "output_type": "stream",
     "text": [
      "[CV] END ............................... score: (test=-7.389) total time=   3.8s\n",
      "[CV] START .....................................................................\n"
     ]
    },
    {
     "name": "stderr",
     "output_type": "stream",
     "text": [
      "[Parallel(n_jobs=-1)]: Done   3 out of   3 | elapsed:   11.4s remaining:    0.0s\n",
      "[Parallel(n_jobs=-1)]: Done   3 out of   3 | elapsed:   11.4s finished\n",
      "[Parallel(n_jobs=-1)]: Using backend SequentialBackend with 1 concurrent workers.\n"
     ]
    },
    {
     "name": "stdout",
     "output_type": "stream",
     "text": [
      "[CV] END ............................... score: (test=-8.042) total time=   4.1s\n",
      "[CV] START .....................................................................\n"
     ]
    },
    {
     "name": "stderr",
     "output_type": "stream",
     "text": [
      "[Parallel(n_jobs=-1)]: Done   1 out of   1 | elapsed:    4.1s remaining:    0.0s\n"
     ]
    },
    {
     "name": "stdout",
     "output_type": "stream",
     "text": [
      "[CV] END ............................... score: (test=-4.696) total time=   4.2s\n",
      "[CV] START .....................................................................\n"
     ]
    },
    {
     "name": "stderr",
     "output_type": "stream",
     "text": [
      "[Parallel(n_jobs=-1)]: Done   2 out of   2 | elapsed:    8.3s remaining:    0.0s\n"
     ]
    },
    {
     "name": "stdout",
     "output_type": "stream",
     "text": [
      "[CV] END ............................... score: (test=-7.534) total time=   4.0s\n",
      "[CV] START .....................................................................\n"
     ]
    },
    {
     "name": "stderr",
     "output_type": "stream",
     "text": [
      "[Parallel(n_jobs=-1)]: Done   3 out of   3 | elapsed:   12.3s remaining:    0.0s\n",
      "[Parallel(n_jobs=-1)]: Done   3 out of   3 | elapsed:   12.3s finished\n",
      "[Parallel(n_jobs=-1)]: Using backend SequentialBackend with 1 concurrent workers.\n"
     ]
    },
    {
     "name": "stdout",
     "output_type": "stream",
     "text": [
      "[CV] END ............................... score: (test=-7.952) total time=   4.3s\n",
      "[CV] START .....................................................................\n"
     ]
    },
    {
     "name": "stderr",
     "output_type": "stream",
     "text": [
      "[Parallel(n_jobs=-1)]: Done   1 out of   1 | elapsed:    4.3s remaining:    0.0s\n"
     ]
    },
    {
     "name": "stdout",
     "output_type": "stream",
     "text": [
      "[CV] END ............................... score: (test=-4.802) total time=   4.9s\n",
      "[CV] START .....................................................................\n"
     ]
    },
    {
     "name": "stderr",
     "output_type": "stream",
     "text": [
      "[Parallel(n_jobs=-1)]: Done   2 out of   2 | elapsed:    9.3s remaining:    0.0s\n"
     ]
    },
    {
     "name": "stdout",
     "output_type": "stream",
     "text": [
      "[CV] END ............................... score: (test=-7.750) total time=   4.6s\n",
      "[CV] START .....................................................................\n"
     ]
    },
    {
     "name": "stderr",
     "output_type": "stream",
     "text": [
      "[Parallel(n_jobs=-1)]: Done   3 out of   3 | elapsed:   13.9s remaining:    0.0s\n",
      "[Parallel(n_jobs=-1)]: Done   3 out of   3 | elapsed:   13.9s finished\n",
      "[Parallel(n_jobs=-1)]: Using backend SequentialBackend with 1 concurrent workers.\n"
     ]
    },
    {
     "name": "stdout",
     "output_type": "stream",
     "text": [
      "[CV] END ............................... score: (test=-8.049) total time=   5.2s\n",
      "[CV] START .....................................................................\n"
     ]
    },
    {
     "name": "stderr",
     "output_type": "stream",
     "text": [
      "[Parallel(n_jobs=-1)]: Done   1 out of   1 | elapsed:    5.2s remaining:    0.0s\n"
     ]
    },
    {
     "name": "stdout",
     "output_type": "stream",
     "text": [
      "[CV] END ............................... score: (test=-4.930) total time=   5.0s\n",
      "[CV] START .....................................................................\n"
     ]
    },
    {
     "name": "stderr",
     "output_type": "stream",
     "text": [
      "[Parallel(n_jobs=-1)]: Done   2 out of   2 | elapsed:   10.2s remaining:    0.0s\n"
     ]
    },
    {
     "name": "stdout",
     "output_type": "stream",
     "text": [
      "[CV] END ............................... score: (test=-8.048) total time=   4.9s\n",
      "[CV] START .....................................................................\n"
     ]
    },
    {
     "name": "stderr",
     "output_type": "stream",
     "text": [
      "[Parallel(n_jobs=-1)]: Done   3 out of   3 | elapsed:   15.1s remaining:    0.0s\n",
      "[Parallel(n_jobs=-1)]: Done   3 out of   3 | elapsed:   15.1s finished\n",
      "[Parallel(n_jobs=-1)]: Using backend SequentialBackend with 1 concurrent workers.\n"
     ]
    },
    {
     "name": "stdout",
     "output_type": "stream",
     "text": [
      "[CV] END ............................... score: (test=-8.959) total time=   1.0s\n",
      "[CV] START .....................................................................\n"
     ]
    },
    {
     "name": "stderr",
     "output_type": "stream",
     "text": [
      "[Parallel(n_jobs=-1)]: Done   1 out of   1 | elapsed:    1.0s remaining:    0.0s\n"
     ]
    },
    {
     "name": "stdout",
     "output_type": "stream",
     "text": [
      "[CV] END ............................... score: (test=-4.999) total time=   1.0s\n",
      "[CV] START .....................................................................\n"
     ]
    },
    {
     "name": "stderr",
     "output_type": "stream",
     "text": [
      "[Parallel(n_jobs=-1)]: Done   2 out of   2 | elapsed:    2.0s remaining:    0.0s\n"
     ]
    },
    {
     "name": "stdout",
     "output_type": "stream",
     "text": [
      "[CV] END ............................... score: (test=-7.936) total time=   1.0s\n",
      "[CV] START .....................................................................\n"
     ]
    },
    {
     "name": "stderr",
     "output_type": "stream",
     "text": [
      "[Parallel(n_jobs=-1)]: Done   3 out of   3 | elapsed:    2.9s remaining:    0.0s\n",
      "[Parallel(n_jobs=-1)]: Done   3 out of   3 | elapsed:    2.9s finished\n",
      "[Parallel(n_jobs=-1)]: Using backend SequentialBackend with 1 concurrent workers.\n"
     ]
    },
    {
     "name": "stdout",
     "output_type": "stream",
     "text": [
      "[CV] END ............................... score: (test=-8.367) total time=   1.8s\n",
      "[CV] START .....................................................................\n"
     ]
    },
    {
     "name": "stderr",
     "output_type": "stream",
     "text": [
      "[Parallel(n_jobs=-1)]: Done   1 out of   1 | elapsed:    1.8s remaining:    0.0s\n"
     ]
    },
    {
     "name": "stdout",
     "output_type": "stream",
     "text": [
      "[CV] END ............................... score: (test=-4.753) total time=   1.8s\n",
      "[CV] START .....................................................................\n"
     ]
    },
    {
     "name": "stderr",
     "output_type": "stream",
     "text": [
      "[Parallel(n_jobs=-1)]: Done   2 out of   2 | elapsed:    3.6s remaining:    0.0s\n"
     ]
    },
    {
     "name": "stdout",
     "output_type": "stream",
     "text": [
      "[CV] END ............................... score: (test=-6.889) total time=   1.8s\n",
      "[CV] START .....................................................................\n"
     ]
    },
    {
     "name": "stderr",
     "output_type": "stream",
     "text": [
      "[Parallel(n_jobs=-1)]: Done   3 out of   3 | elapsed:    5.4s remaining:    0.0s\n",
      "[Parallel(n_jobs=-1)]: Done   3 out of   3 | elapsed:    5.4s finished\n",
      "[Parallel(n_jobs=-1)]: Using backend SequentialBackend with 1 concurrent workers.\n"
     ]
    },
    {
     "name": "stdout",
     "output_type": "stream",
     "text": [
      "[CV] END ............................... score: (test=-8.069) total time=   2.6s\n",
      "[CV] START .....................................................................\n"
     ]
    },
    {
     "name": "stderr",
     "output_type": "stream",
     "text": [
      "[Parallel(n_jobs=-1)]: Done   1 out of   1 | elapsed:    2.6s remaining:    0.0s\n"
     ]
    },
    {
     "name": "stdout",
     "output_type": "stream",
     "text": [
      "[CV] END ............................... score: (test=-4.869) total time=   2.5s\n",
      "[CV] START .....................................................................\n"
     ]
    },
    {
     "name": "stderr",
     "output_type": "stream",
     "text": [
      "[Parallel(n_jobs=-1)]: Done   2 out of   2 | elapsed:    5.1s remaining:    0.0s\n"
     ]
    },
    {
     "name": "stdout",
     "output_type": "stream",
     "text": [
      "[CV] END ............................... score: (test=-7.003) total time=   2.6s\n",
      "[CV] START .....................................................................\n"
     ]
    },
    {
     "name": "stderr",
     "output_type": "stream",
     "text": [
      "[Parallel(n_jobs=-1)]: Done   3 out of   3 | elapsed:    7.7s remaining:    0.0s\n",
      "[Parallel(n_jobs=-1)]: Done   3 out of   3 | elapsed:    7.7s finished\n",
      "[Parallel(n_jobs=-1)]: Using backend SequentialBackend with 1 concurrent workers.\n"
     ]
    },
    {
     "name": "stdout",
     "output_type": "stream",
     "text": [
      "[CV] END ............................... score: (test=-7.801) total time=   3.5s\n",
      "[CV] START .....................................................................\n"
     ]
    },
    {
     "name": "stderr",
     "output_type": "stream",
     "text": [
      "[Parallel(n_jobs=-1)]: Done   1 out of   1 | elapsed:    3.5s remaining:    0.0s\n"
     ]
    },
    {
     "name": "stdout",
     "output_type": "stream",
     "text": [
      "[CV] END ............................... score: (test=-4.802) total time=   3.3s\n",
      "[CV] START .....................................................................\n"
     ]
    },
    {
     "name": "stderr",
     "output_type": "stream",
     "text": [
      "[Parallel(n_jobs=-1)]: Done   2 out of   2 | elapsed:    6.8s remaining:    0.0s\n"
     ]
    },
    {
     "name": "stdout",
     "output_type": "stream",
     "text": [
      "[CV] END ............................... score: (test=-6.855) total time=   3.3s\n",
      "[CV] START .....................................................................\n"
     ]
    },
    {
     "name": "stderr",
     "output_type": "stream",
     "text": [
      "[Parallel(n_jobs=-1)]: Done   3 out of   3 | elapsed:   10.1s remaining:    0.0s\n",
      "[Parallel(n_jobs=-1)]: Done   3 out of   3 | elapsed:   10.1s finished\n",
      "[Parallel(n_jobs=-1)]: Using backend SequentialBackend with 1 concurrent workers.\n"
     ]
    },
    {
     "name": "stdout",
     "output_type": "stream",
     "text": [
      "[CV] END ............................... score: (test=-7.850) total time=   4.2s\n",
      "[CV] START .....................................................................\n"
     ]
    },
    {
     "name": "stderr",
     "output_type": "stream",
     "text": [
      "[Parallel(n_jobs=-1)]: Done   1 out of   1 | elapsed:    4.2s remaining:    0.0s\n"
     ]
    },
    {
     "name": "stdout",
     "output_type": "stream",
     "text": [
      "[CV] END ............................... score: (test=-4.567) total time=   4.1s\n",
      "[CV] START .....................................................................\n"
     ]
    },
    {
     "name": "stderr",
     "output_type": "stream",
     "text": [
      "[Parallel(n_jobs=-1)]: Done   2 out of   2 | elapsed:    8.2s remaining:    0.0s\n"
     ]
    },
    {
     "name": "stdout",
     "output_type": "stream",
     "text": [
      "[CV] END ............................... score: (test=-6.885) total time=   4.1s\n",
      "[CV] START .....................................................................\n"
     ]
    },
    {
     "name": "stderr",
     "output_type": "stream",
     "text": [
      "[Parallel(n_jobs=-1)]: Done   3 out of   3 | elapsed:   12.3s remaining:    0.0s\n",
      "[Parallel(n_jobs=-1)]: Done   3 out of   3 | elapsed:   12.3s finished\n",
      "[Parallel(n_jobs=-1)]: Using backend SequentialBackend with 1 concurrent workers.\n"
     ]
    },
    {
     "name": "stdout",
     "output_type": "stream",
     "text": [
      "[CV] END ............................... score: (test=-7.909) total time=   4.7s\n",
      "[CV] START .....................................................................\n"
     ]
    },
    {
     "name": "stderr",
     "output_type": "stream",
     "text": [
      "[Parallel(n_jobs=-1)]: Done   1 out of   1 | elapsed:    4.7s remaining:    0.0s\n"
     ]
    },
    {
     "name": "stdout",
     "output_type": "stream",
     "text": [
      "[CV] END ............................... score: (test=-4.685) total time=   4.8s\n",
      "[CV] START .....................................................................\n"
     ]
    },
    {
     "name": "stderr",
     "output_type": "stream",
     "text": [
      "[Parallel(n_jobs=-1)]: Done   2 out of   2 | elapsed:    9.5s remaining:    0.0s\n"
     ]
    },
    {
     "name": "stdout",
     "output_type": "stream",
     "text": [
      "[CV] END ............................... score: (test=-7.314) total time=   4.7s\n",
      "[CV] START .....................................................................\n"
     ]
    },
    {
     "name": "stderr",
     "output_type": "stream",
     "text": [
      "[Parallel(n_jobs=-1)]: Done   3 out of   3 | elapsed:   14.2s remaining:    0.0s\n",
      "[Parallel(n_jobs=-1)]: Done   3 out of   3 | elapsed:   14.2s finished\n",
      "[Parallel(n_jobs=-1)]: Using backend SequentialBackend with 1 concurrent workers.\n"
     ]
    },
    {
     "name": "stdout",
     "output_type": "stream",
     "text": [
      "[CV] END ............................... score: (test=-8.070) total time=   5.6s\n",
      "[CV] START .....................................................................\n"
     ]
    },
    {
     "name": "stderr",
     "output_type": "stream",
     "text": [
      "[Parallel(n_jobs=-1)]: Done   1 out of   1 | elapsed:    5.6s remaining:    0.0s\n"
     ]
    },
    {
     "name": "stdout",
     "output_type": "stream",
     "text": [
      "[CV] END ............................... score: (test=-4.848) total time=   5.4s\n",
      "[CV] START .....................................................................\n"
     ]
    },
    {
     "name": "stderr",
     "output_type": "stream",
     "text": [
      "[Parallel(n_jobs=-1)]: Done   2 out of   2 | elapsed:   11.0s remaining:    0.0s\n"
     ]
    },
    {
     "name": "stdout",
     "output_type": "stream",
     "text": [
      "[CV] END ............................... score: (test=-7.303) total time=   5.4s\n",
      "[CV] START .....................................................................\n"
     ]
    },
    {
     "name": "stderr",
     "output_type": "stream",
     "text": [
      "[Parallel(n_jobs=-1)]: Done   3 out of   3 | elapsed:   16.4s remaining:    0.0s\n",
      "[Parallel(n_jobs=-1)]: Done   3 out of   3 | elapsed:   16.4s finished\n",
      "[Parallel(n_jobs=-1)]: Using backend SequentialBackend with 1 concurrent workers.\n"
     ]
    },
    {
     "name": "stdout",
     "output_type": "stream",
     "text": [
      "[CV] END ............................... score: (test=-8.078) total time=   6.0s\n",
      "[CV] START .....................................................................\n"
     ]
    },
    {
     "name": "stderr",
     "output_type": "stream",
     "text": [
      "[Parallel(n_jobs=-1)]: Done   1 out of   1 | elapsed:    6.0s remaining:    0.0s\n"
     ]
    },
    {
     "name": "stdout",
     "output_type": "stream",
     "text": [
      "[CV] END ............................... score: (test=-4.814) total time=   6.1s\n",
      "[CV] START .....................................................................\n"
     ]
    },
    {
     "name": "stderr",
     "output_type": "stream",
     "text": [
      "[Parallel(n_jobs=-1)]: Done   2 out of   2 | elapsed:   12.1s remaining:    0.0s\n"
     ]
    },
    {
     "name": "stdout",
     "output_type": "stream",
     "text": [
      "[CV] END ............................... score: (test=-7.470) total time=   6.0s\n",
      "[CV] START .....................................................................\n"
     ]
    },
    {
     "name": "stderr",
     "output_type": "stream",
     "text": [
      "[Parallel(n_jobs=-1)]: Done   3 out of   3 | elapsed:   18.2s remaining:    0.0s\n",
      "[Parallel(n_jobs=-1)]: Done   3 out of   3 | elapsed:   18.2s finished\n",
      "[Parallel(n_jobs=-1)]: Using backend SequentialBackend with 1 concurrent workers.\n"
     ]
    },
    {
     "name": "stdout",
     "output_type": "stream",
     "text": [
      "[CV] END ............................... score: (test=-8.000) total time=   7.0s\n",
      "[CV] START .....................................................................\n"
     ]
    },
    {
     "name": "stderr",
     "output_type": "stream",
     "text": [
      "[Parallel(n_jobs=-1)]: Done   1 out of   1 | elapsed:    7.0s remaining:    0.0s\n"
     ]
    },
    {
     "name": "stdout",
     "output_type": "stream",
     "text": [
      "[CV] END ............................... score: (test=-4.850) total time=   7.1s\n",
      "[CV] START .....................................................................\n"
     ]
    },
    {
     "name": "stderr",
     "output_type": "stream",
     "text": [
      "[Parallel(n_jobs=-1)]: Done   2 out of   2 | elapsed:   14.1s remaining:    0.0s\n"
     ]
    },
    {
     "name": "stdout",
     "output_type": "stream",
     "text": [
      "[CV] END ............................... score: (test=-7.728) total time=   6.9s\n",
      "[CV] START .....................................................................\n"
     ]
    },
    {
     "name": "stderr",
     "output_type": "stream",
     "text": [
      "[Parallel(n_jobs=-1)]: Done   3 out of   3 | elapsed:   21.0s remaining:    0.0s\n",
      "[Parallel(n_jobs=-1)]: Done   3 out of   3 | elapsed:   21.0s finished\n",
      "[Parallel(n_jobs=-1)]: Using backend SequentialBackend with 1 concurrent workers.\n"
     ]
    },
    {
     "name": "stdout",
     "output_type": "stream",
     "text": [
      "[CV] END ............................... score: (test=-8.098) total time=   7.2s\n",
      "[CV] START .....................................................................\n"
     ]
    },
    {
     "name": "stderr",
     "output_type": "stream",
     "text": [
      "[Parallel(n_jobs=-1)]: Done   1 out of   1 | elapsed:    7.2s remaining:    0.0s\n"
     ]
    },
    {
     "name": "stdout",
     "output_type": "stream",
     "text": [
      "[CV] END ............................... score: (test=-5.011) total time=   7.2s\n",
      "[CV] START .....................................................................\n"
     ]
    },
    {
     "name": "stderr",
     "output_type": "stream",
     "text": [
      "[Parallel(n_jobs=-1)]: Done   2 out of   2 | elapsed:   14.4s remaining:    0.0s\n"
     ]
    },
    {
     "name": "stdout",
     "output_type": "stream",
     "text": [
      "[CV] END ............................... score: (test=-7.867) total time=   7.0s\n",
      "[CV] START .....................................................................\n"
     ]
    },
    {
     "name": "stderr",
     "output_type": "stream",
     "text": [
      "[Parallel(n_jobs=-1)]: Done   3 out of   3 | elapsed:   21.4s remaining:    0.0s\n",
      "[Parallel(n_jobs=-1)]: Done   3 out of   3 | elapsed:   21.4s finished\n",
      "[Parallel(n_jobs=-1)]: Using backend SequentialBackend with 1 concurrent workers.\n"
     ]
    },
    {
     "name": "stdout",
     "output_type": "stream",
     "text": [
      "[CV] END ............................... score: (test=-8.971) total time=   1.3s\n",
      "[CV] START .....................................................................\n"
     ]
    },
    {
     "name": "stderr",
     "output_type": "stream",
     "text": [
      "[Parallel(n_jobs=-1)]: Done   1 out of   1 | elapsed:    1.3s remaining:    0.0s\n"
     ]
    },
    {
     "name": "stdout",
     "output_type": "stream",
     "text": [
      "[CV] END ............................... score: (test=-5.008) total time=   1.3s\n",
      "[CV] START .....................................................................\n"
     ]
    },
    {
     "name": "stderr",
     "output_type": "stream",
     "text": [
      "[Parallel(n_jobs=-1)]: Done   2 out of   2 | elapsed:    2.5s remaining:    0.0s\n"
     ]
    },
    {
     "name": "stdout",
     "output_type": "stream",
     "text": [
      "[CV] END ............................... score: (test=-7.923) total time=   1.3s\n",
      "[CV] START .....................................................................\n"
     ]
    },
    {
     "name": "stderr",
     "output_type": "stream",
     "text": [
      "[Parallel(n_jobs=-1)]: Done   3 out of   3 | elapsed:    3.8s remaining:    0.0s\n",
      "[Parallel(n_jobs=-1)]: Done   3 out of   3 | elapsed:    3.8s finished\n",
      "[Parallel(n_jobs=-1)]: Using backend SequentialBackend with 1 concurrent workers.\n"
     ]
    },
    {
     "name": "stdout",
     "output_type": "stream",
     "text": [
      "[CV] END ............................... score: (test=-8.364) total time=   2.3s\n",
      "[CV] START .....................................................................\n"
     ]
    },
    {
     "name": "stderr",
     "output_type": "stream",
     "text": [
      "[Parallel(n_jobs=-1)]: Done   1 out of   1 | elapsed:    2.3s remaining:    0.0s\n"
     ]
    },
    {
     "name": "stdout",
     "output_type": "stream",
     "text": [
      "[CV] END ............................... score: (test=-4.785) total time=   2.4s\n",
      "[CV] START .....................................................................\n"
     ]
    },
    {
     "name": "stderr",
     "output_type": "stream",
     "text": [
      "[Parallel(n_jobs=-1)]: Done   2 out of   2 | elapsed:    4.7s remaining:    0.0s\n"
     ]
    },
    {
     "name": "stdout",
     "output_type": "stream",
     "text": [
      "[CV] END ............................... score: (test=-6.917) total time=   2.4s\n",
      "[CV] START .....................................................................\n"
     ]
    },
    {
     "name": "stderr",
     "output_type": "stream",
     "text": [
      "[Parallel(n_jobs=-1)]: Done   3 out of   3 | elapsed:    7.2s remaining:    0.0s\n",
      "[Parallel(n_jobs=-1)]: Done   3 out of   3 | elapsed:    7.2s finished\n",
      "[Parallel(n_jobs=-1)]: Using backend SequentialBackend with 1 concurrent workers.\n"
     ]
    },
    {
     "name": "stdout",
     "output_type": "stream",
     "text": [
      "[CV] END ............................... score: (test=-8.079) total time=   3.5s\n",
      "[CV] START .....................................................................\n"
     ]
    },
    {
     "name": "stderr",
     "output_type": "stream",
     "text": [
      "[Parallel(n_jobs=-1)]: Done   1 out of   1 | elapsed:    3.5s remaining:    0.0s\n"
     ]
    },
    {
     "name": "stdout",
     "output_type": "stream",
     "text": [
      "[CV] END ............................... score: (test=-4.905) total time=   3.4s\n",
      "[CV] START .....................................................................\n"
     ]
    },
    {
     "name": "stderr",
     "output_type": "stream",
     "text": [
      "[Parallel(n_jobs=-1)]: Done   2 out of   2 | elapsed:    6.9s remaining:    0.0s\n"
     ]
    },
    {
     "name": "stdout",
     "output_type": "stream",
     "text": [
      "[CV] END ............................... score: (test=-7.033) total time=   3.5s\n",
      "[CV] START .....................................................................\n"
     ]
    },
    {
     "name": "stderr",
     "output_type": "stream",
     "text": [
      "[Parallel(n_jobs=-1)]: Done   3 out of   3 | elapsed:   10.4s remaining:    0.0s\n",
      "[Parallel(n_jobs=-1)]: Done   3 out of   3 | elapsed:   10.4s finished\n",
      "[Parallel(n_jobs=-1)]: Using backend SequentialBackend with 1 concurrent workers.\n"
     ]
    },
    {
     "name": "stdout",
     "output_type": "stream",
     "text": [
      "[CV] END ............................... score: (test=-7.812) total time=   4.4s\n",
      "[CV] START .....................................................................\n"
     ]
    },
    {
     "name": "stderr",
     "output_type": "stream",
     "text": [
      "[Parallel(n_jobs=-1)]: Done   1 out of   1 | elapsed:    4.4s remaining:    0.0s\n"
     ]
    },
    {
     "name": "stdout",
     "output_type": "stream",
     "text": [
      "[CV] END ............................... score: (test=-4.855) total time=   4.5s\n",
      "[CV] START .....................................................................\n"
     ]
    },
    {
     "name": "stderr",
     "output_type": "stream",
     "text": [
      "[Parallel(n_jobs=-1)]: Done   2 out of   2 | elapsed:    8.9s remaining:    0.0s\n"
     ]
    },
    {
     "name": "stdout",
     "output_type": "stream",
     "text": [
      "[CV] END ............................... score: (test=-6.853) total time=   4.5s\n",
      "[CV] START .....................................................................\n"
     ]
    },
    {
     "name": "stderr",
     "output_type": "stream",
     "text": [
      "[Parallel(n_jobs=-1)]: Done   3 out of   3 | elapsed:   13.4s remaining:    0.0s\n",
      "[Parallel(n_jobs=-1)]: Done   3 out of   3 | elapsed:   13.4s finished\n",
      "[Parallel(n_jobs=-1)]: Using backend SequentialBackend with 1 concurrent workers.\n"
     ]
    },
    {
     "name": "stdout",
     "output_type": "stream",
     "text": [
      "[CV] END ............................... score: (test=-7.812) total time=   5.4s\n",
      "[CV] START .....................................................................\n"
     ]
    },
    {
     "name": "stderr",
     "output_type": "stream",
     "text": [
      "[Parallel(n_jobs=-1)]: Done   1 out of   1 | elapsed:    5.4s remaining:    0.0s\n"
     ]
    },
    {
     "name": "stdout",
     "output_type": "stream",
     "text": [
      "[CV] END ............................... score: (test=-4.604) total time=   5.3s\n",
      "[CV] START .....................................................................\n"
     ]
    },
    {
     "name": "stderr",
     "output_type": "stream",
     "text": [
      "[Parallel(n_jobs=-1)]: Done   2 out of   2 | elapsed:   10.7s remaining:    0.0s\n"
     ]
    },
    {
     "name": "stdout",
     "output_type": "stream",
     "text": [
      "[CV] END ............................... score: (test=-6.903) total time=   5.4s\n",
      "[CV] START .....................................................................\n"
     ]
    },
    {
     "name": "stderr",
     "output_type": "stream",
     "text": [
      "[Parallel(n_jobs=-1)]: Done   3 out of   3 | elapsed:   16.1s remaining:    0.0s\n",
      "[Parallel(n_jobs=-1)]: Done   3 out of   3 | elapsed:   16.1s finished\n",
      "[Parallel(n_jobs=-1)]: Using backend SequentialBackend with 1 concurrent workers.\n"
     ]
    },
    {
     "name": "stdout",
     "output_type": "stream",
     "text": [
      "[CV] END ............................... score: (test=-7.908) total time=   6.4s\n",
      "[CV] START .....................................................................\n"
     ]
    },
    {
     "name": "stderr",
     "output_type": "stream",
     "text": [
      "[Parallel(n_jobs=-1)]: Done   1 out of   1 | elapsed:    6.4s remaining:    0.0s\n"
     ]
    },
    {
     "name": "stdout",
     "output_type": "stream",
     "text": [
      "[CV] END ............................... score: (test=-4.628) total time=   6.3s\n",
      "[CV] START .....................................................................\n"
     ]
    },
    {
     "name": "stderr",
     "output_type": "stream",
     "text": [
      "[Parallel(n_jobs=-1)]: Done   2 out of   2 | elapsed:   12.6s remaining:    0.0s\n"
     ]
    },
    {
     "name": "stdout",
     "output_type": "stream",
     "text": [
      "[CV] END ............................... score: (test=-7.334) total time=   6.5s\n",
      "[CV] START .....................................................................\n"
     ]
    },
    {
     "name": "stderr",
     "output_type": "stream",
     "text": [
      "[Parallel(n_jobs=-1)]: Done   3 out of   3 | elapsed:   19.1s remaining:    0.0s\n",
      "[Parallel(n_jobs=-1)]: Done   3 out of   3 | elapsed:   19.1s finished\n",
      "[Parallel(n_jobs=-1)]: Using backend SequentialBackend with 1 concurrent workers.\n"
     ]
    },
    {
     "name": "stdout",
     "output_type": "stream",
     "text": [
      "[CV] END ............................... score: (test=-8.044) total time=   7.3s\n",
      "[CV] START .....................................................................\n"
     ]
    },
    {
     "name": "stderr",
     "output_type": "stream",
     "text": [
      "[Parallel(n_jobs=-1)]: Done   1 out of   1 | elapsed:    7.3s remaining:    0.0s\n"
     ]
    },
    {
     "name": "stdout",
     "output_type": "stream",
     "text": [
      "[CV] END ............................... score: (test=-4.781) total time=   7.2s\n",
      "[CV] START .....................................................................\n"
     ]
    },
    {
     "name": "stderr",
     "output_type": "stream",
     "text": [
      "[Parallel(n_jobs=-1)]: Done   2 out of   2 | elapsed:   14.5s remaining:    0.0s\n"
     ]
    },
    {
     "name": "stdout",
     "output_type": "stream",
     "text": [
      "[CV] END ............................... score: (test=-7.382) total time=   7.5s\n",
      "[CV] START .....................................................................\n"
     ]
    },
    {
     "name": "stderr",
     "output_type": "stream",
     "text": [
      "[Parallel(n_jobs=-1)]: Done   3 out of   3 | elapsed:   22.0s remaining:    0.0s\n",
      "[Parallel(n_jobs=-1)]: Done   3 out of   3 | elapsed:   22.0s finished\n",
      "[Parallel(n_jobs=-1)]: Using backend SequentialBackend with 1 concurrent workers.\n"
     ]
    },
    {
     "name": "stdout",
     "output_type": "stream",
     "text": [
      "[CV] END ............................... score: (test=-8.039) total time=   8.2s\n",
      "[CV] START .....................................................................\n"
     ]
    },
    {
     "name": "stderr",
     "output_type": "stream",
     "text": [
      "[Parallel(n_jobs=-1)]: Done   1 out of   1 | elapsed:    8.2s remaining:    0.0s\n"
     ]
    },
    {
     "name": "stdout",
     "output_type": "stream",
     "text": [
      "[CV] END ............................... score: (test=-4.723) total time=   8.1s\n",
      "[CV] START .....................................................................\n"
     ]
    },
    {
     "name": "stderr",
     "output_type": "stream",
     "text": [
      "[Parallel(n_jobs=-1)]: Done   2 out of   2 | elapsed:   16.3s remaining:    0.0s\n"
     ]
    },
    {
     "name": "stdout",
     "output_type": "stream",
     "text": [
      "[CV] END ............................... score: (test=-7.525) total time=   8.1s\n",
      "[CV] START .....................................................................\n"
     ]
    },
    {
     "name": "stderr",
     "output_type": "stream",
     "text": [
      "[Parallel(n_jobs=-1)]: Done   3 out of   3 | elapsed:   24.4s remaining:    0.0s\n",
      "[Parallel(n_jobs=-1)]: Done   3 out of   3 | elapsed:   24.4s finished\n",
      "[Parallel(n_jobs=-1)]: Using backend SequentialBackend with 1 concurrent workers.\n"
     ]
    },
    {
     "name": "stdout",
     "output_type": "stream",
     "text": [
      "[CV] END ............................... score: (test=-8.009) total time=   9.0s\n",
      "[CV] START .....................................................................\n"
     ]
    },
    {
     "name": "stderr",
     "output_type": "stream",
     "text": [
      "[Parallel(n_jobs=-1)]: Done   1 out of   1 | elapsed:    9.0s remaining:    0.0s\n"
     ]
    },
    {
     "name": "stdout",
     "output_type": "stream",
     "text": [
      "[CV] END ............................... score: (test=-4.840) total time=   9.0s\n",
      "[CV] START .....................................................................\n"
     ]
    },
    {
     "name": "stderr",
     "output_type": "stream",
     "text": [
      "[Parallel(n_jobs=-1)]: Done   2 out of   2 | elapsed:   18.1s remaining:    0.0s\n"
     ]
    },
    {
     "name": "stdout",
     "output_type": "stream",
     "text": [
      "[CV] END ............................... score: (test=-7.730) total time=   9.0s\n",
      "[CV] START .....................................................................\n"
     ]
    },
    {
     "name": "stderr",
     "output_type": "stream",
     "text": [
      "[Parallel(n_jobs=-1)]: Done   3 out of   3 | elapsed:   27.0s remaining:    0.0s\n",
      "[Parallel(n_jobs=-1)]: Done   3 out of   3 | elapsed:   27.0s finished\n",
      "[Parallel(n_jobs=-1)]: Using backend SequentialBackend with 1 concurrent workers.\n"
     ]
    },
    {
     "name": "stdout",
     "output_type": "stream",
     "text": [
      "[CV] END ............................... score: (test=-8.085) total time=   9.8s\n",
      "[CV] START .....................................................................\n"
     ]
    },
    {
     "name": "stderr",
     "output_type": "stream",
     "text": [
      "[Parallel(n_jobs=-1)]: Done   1 out of   1 | elapsed:    9.8s remaining:    0.0s\n"
     ]
    },
    {
     "name": "stdout",
     "output_type": "stream",
     "text": [
      "[CV] END ............................... score: (test=-4.868) total time=   9.8s\n",
      "[CV] START .....................................................................\n"
     ]
    },
    {
     "name": "stderr",
     "output_type": "stream",
     "text": [
      "[Parallel(n_jobs=-1)]: Done   2 out of   2 | elapsed:   19.6s remaining:    0.0s\n"
     ]
    },
    {
     "name": "stdout",
     "output_type": "stream",
     "text": [
      "[CV] END ............................... score: (test=-7.854) total time=   9.6s\n",
      "[CV] START .....................................................................\n"
     ]
    },
    {
     "name": "stderr",
     "output_type": "stream",
     "text": [
      "[Parallel(n_jobs=-1)]: Done   3 out of   3 | elapsed:   29.2s remaining:    0.0s\n",
      "[Parallel(n_jobs=-1)]: Done   3 out of   3 | elapsed:   29.2s finished\n",
      "[Parallel(n_jobs=-1)]: Using backend SequentialBackend with 1 concurrent workers.\n"
     ]
    },
    {
     "name": "stdout",
     "output_type": "stream",
     "text": [
      "[CV] END ............................... score: (test=-8.982) total time=   1.6s\n",
      "[CV] START .....................................................................\n"
     ]
    },
    {
     "name": "stderr",
     "output_type": "stream",
     "text": [
      "[Parallel(n_jobs=-1)]: Done   1 out of   1 | elapsed:    1.6s remaining:    0.0s\n"
     ]
    },
    {
     "name": "stdout",
     "output_type": "stream",
     "text": [
      "[CV] END ............................... score: (test=-4.985) total time=   1.6s\n",
      "[CV] START .....................................................................\n"
     ]
    },
    {
     "name": "stderr",
     "output_type": "stream",
     "text": [
      "[Parallel(n_jobs=-1)]: Done   2 out of   2 | elapsed:    3.2s remaining:    0.0s\n"
     ]
    },
    {
     "name": "stdout",
     "output_type": "stream",
     "text": [
      "[CV] END ............................... score: (test=-7.931) total time=   1.7s\n",
      "[CV] START .....................................................................\n"
     ]
    },
    {
     "name": "stderr",
     "output_type": "stream",
     "text": [
      "[Parallel(n_jobs=-1)]: Done   3 out of   3 | elapsed:    4.9s remaining:    0.0s\n",
      "[Parallel(n_jobs=-1)]: Done   3 out of   3 | elapsed:    4.9s finished\n",
      "[Parallel(n_jobs=-1)]: Using backend SequentialBackend with 1 concurrent workers.\n"
     ]
    },
    {
     "name": "stdout",
     "output_type": "stream",
     "text": [
      "[CV] END ............................... score: (test=-8.366) total time=   2.9s\n",
      "[CV] START .....................................................................\n"
     ]
    },
    {
     "name": "stderr",
     "output_type": "stream",
     "text": [
      "[Parallel(n_jobs=-1)]: Done   1 out of   1 | elapsed:    2.9s remaining:    0.0s\n"
     ]
    },
    {
     "name": "stdout",
     "output_type": "stream",
     "text": [
      "[CV] END ............................... score: (test=-4.753) total time=   3.0s\n",
      "[CV] START .....................................................................\n"
     ]
    },
    {
     "name": "stderr",
     "output_type": "stream",
     "text": [
      "[Parallel(n_jobs=-1)]: Done   2 out of   2 | elapsed:    5.9s remaining:    0.0s\n"
     ]
    },
    {
     "name": "stdout",
     "output_type": "stream",
     "text": [
      "[CV] END ............................... score: (test=-6.948) total time=   3.0s\n",
      "[CV] START .....................................................................\n"
     ]
    },
    {
     "name": "stderr",
     "output_type": "stream",
     "text": [
      "[Parallel(n_jobs=-1)]: Done   3 out of   3 | elapsed:    8.9s remaining:    0.0s\n",
      "[Parallel(n_jobs=-1)]: Done   3 out of   3 | elapsed:    8.9s finished\n",
      "[Parallel(n_jobs=-1)]: Using backend SequentialBackend with 1 concurrent workers.\n"
     ]
    },
    {
     "name": "stdout",
     "output_type": "stream",
     "text": [
      "[CV] END ............................... score: (test=-8.077) total time=   4.4s\n",
      "[CV] START .....................................................................\n"
     ]
    },
    {
     "name": "stderr",
     "output_type": "stream",
     "text": [
      "[Parallel(n_jobs=-1)]: Done   1 out of   1 | elapsed:    4.4s remaining:    0.0s\n"
     ]
    },
    {
     "name": "stdout",
     "output_type": "stream",
     "text": [
      "[CV] END ............................... score: (test=-4.850) total time=   4.3s\n",
      "[CV] START .....................................................................\n"
     ]
    },
    {
     "name": "stderr",
     "output_type": "stream",
     "text": [
      "[Parallel(n_jobs=-1)]: Done   2 out of   2 | elapsed:    8.6s remaining:    0.0s\n"
     ]
    },
    {
     "name": "stdout",
     "output_type": "stream",
     "text": [
      "[CV] END ............................... score: (test=-7.158) total time=   4.4s\n",
      "[CV] START .....................................................................\n"
     ]
    },
    {
     "name": "stderr",
     "output_type": "stream",
     "text": [
      "[Parallel(n_jobs=-1)]: Done   3 out of   3 | elapsed:   13.0s remaining:    0.0s\n",
      "[Parallel(n_jobs=-1)]: Done   3 out of   3 | elapsed:   13.0s finished\n",
      "[Parallel(n_jobs=-1)]: Using backend SequentialBackend with 1 concurrent workers.\n"
     ]
    },
    {
     "name": "stdout",
     "output_type": "stream",
     "text": [
      "[CV] END ............................... score: (test=-7.809) total time=   5.6s\n",
      "[CV] START .....................................................................\n"
     ]
    },
    {
     "name": "stderr",
     "output_type": "stream",
     "text": [
      "[Parallel(n_jobs=-1)]: Done   1 out of   1 | elapsed:    5.6s remaining:    0.0s\n"
     ]
    },
    {
     "name": "stdout",
     "output_type": "stream",
     "text": [
      "[CV] END ............................... score: (test=-4.813) total time=   6.2s\n",
      "[CV] START .....................................................................\n"
     ]
    },
    {
     "name": "stderr",
     "output_type": "stream",
     "text": [
      "[Parallel(n_jobs=-1)]: Done   2 out of   2 | elapsed:   11.8s remaining:    0.0s\n"
     ]
    },
    {
     "name": "stdout",
     "output_type": "stream",
     "text": [
      "[CV] END ............................... score: (test=-6.923) total time=   5.7s\n",
      "[CV] START .....................................................................\n"
     ]
    },
    {
     "name": "stderr",
     "output_type": "stream",
     "text": [
      "[Parallel(n_jobs=-1)]: Done   3 out of   3 | elapsed:   17.6s remaining:    0.0s\n",
      "[Parallel(n_jobs=-1)]: Done   3 out of   3 | elapsed:   17.6s finished\n",
      "[Parallel(n_jobs=-1)]: Using backend SequentialBackend with 1 concurrent workers.\n"
     ]
    },
    {
     "name": "stdout",
     "output_type": "stream",
     "text": [
      "[CV] END ............................... score: (test=-7.789) total time=   6.7s\n",
      "[CV] START .....................................................................\n"
     ]
    },
    {
     "name": "stderr",
     "output_type": "stream",
     "text": [
      "[Parallel(n_jobs=-1)]: Done   1 out of   1 | elapsed:    6.7s remaining:    0.0s\n"
     ]
    },
    {
     "name": "stdout",
     "output_type": "stream",
     "text": [
      "[CV] END ............................... score: (test=-4.562) total time=   6.8s\n",
      "[CV] START .....................................................................\n"
     ]
    },
    {
     "name": "stderr",
     "output_type": "stream",
     "text": [
      "[Parallel(n_jobs=-1)]: Done   2 out of   2 | elapsed:   13.5s remaining:    0.0s\n"
     ]
    },
    {
     "name": "stdout",
     "output_type": "stream",
     "text": [
      "[CV] END ............................... score: (test=-6.949) total time=   6.8s\n",
      "[CV] START .....................................................................\n"
     ]
    },
    {
     "name": "stderr",
     "output_type": "stream",
     "text": [
      "[Parallel(n_jobs=-1)]: Done   3 out of   3 | elapsed:   20.3s remaining:    0.0s\n",
      "[Parallel(n_jobs=-1)]: Done   3 out of   3 | elapsed:   20.3s finished\n",
      "[Parallel(n_jobs=-1)]: Using backend SequentialBackend with 1 concurrent workers.\n"
     ]
    },
    {
     "name": "stdout",
     "output_type": "stream",
     "text": [
      "[CV] END ............................... score: (test=-7.889) total time=   7.8s\n",
      "[CV] START .....................................................................\n"
     ]
    },
    {
     "name": "stderr",
     "output_type": "stream",
     "text": [
      "[Parallel(n_jobs=-1)]: Done   1 out of   1 | elapsed:    7.8s remaining:    0.0s\n"
     ]
    },
    {
     "name": "stdout",
     "output_type": "stream",
     "text": [
      "[CV] END ............................... score: (test=-4.570) total time=   8.4s\n",
      "[CV] START .....................................................................\n"
     ]
    },
    {
     "name": "stderr",
     "output_type": "stream",
     "text": [
      "[Parallel(n_jobs=-1)]: Done   2 out of   2 | elapsed:   16.2s remaining:    0.0s\n"
     ]
    },
    {
     "name": "stdout",
     "output_type": "stream",
     "text": [
      "[CV] END ............................... score: (test=-7.323) total time=   8.2s\n",
      "[CV] START .....................................................................\n"
     ]
    },
    {
     "name": "stderr",
     "output_type": "stream",
     "text": [
      "[Parallel(n_jobs=-1)]: Done   3 out of   3 | elapsed:   24.4s remaining:    0.0s\n",
      "[Parallel(n_jobs=-1)]: Done   3 out of   3 | elapsed:   24.4s finished\n",
      "[Parallel(n_jobs=-1)]: Using backend SequentialBackend with 1 concurrent workers.\n"
     ]
    },
    {
     "name": "stdout",
     "output_type": "stream",
     "text": [
      "[CV] END ............................... score: (test=-8.025) total time=   9.1s\n",
      "[CV] START .....................................................................\n"
     ]
    },
    {
     "name": "stderr",
     "output_type": "stream",
     "text": [
      "[Parallel(n_jobs=-1)]: Done   1 out of   1 | elapsed:    9.1s remaining:    0.0s\n"
     ]
    },
    {
     "name": "stdout",
     "output_type": "stream",
     "text": [
      "[CV] END ............................... score: (test=-4.678) total time=   9.0s\n",
      "[CV] START .....................................................................\n"
     ]
    },
    {
     "name": "stderr",
     "output_type": "stream",
     "text": [
      "[Parallel(n_jobs=-1)]: Done   2 out of   2 | elapsed:   18.1s remaining:    0.0s\n"
     ]
    },
    {
     "name": "stdout",
     "output_type": "stream",
     "text": [
      "[CV] END ............................... score: (test=-7.409) total time=   8.9s\n",
      "[CV] START .....................................................................\n"
     ]
    },
    {
     "name": "stderr",
     "output_type": "stream",
     "text": [
      "[Parallel(n_jobs=-1)]: Done   3 out of   3 | elapsed:   27.1s remaining:    0.0s\n",
      "[Parallel(n_jobs=-1)]: Done   3 out of   3 | elapsed:   27.1s finished\n",
      "[Parallel(n_jobs=-1)]: Using backend SequentialBackend with 1 concurrent workers.\n"
     ]
    },
    {
     "name": "stdout",
     "output_type": "stream",
     "text": [
      "[CV] END ............................... score: (test=-7.999) total time=   9.9s\n",
      "[CV] START .....................................................................\n"
     ]
    },
    {
     "name": "stderr",
     "output_type": "stream",
     "text": [
      "[Parallel(n_jobs=-1)]: Done   1 out of   1 | elapsed:    9.9s remaining:    0.0s\n"
     ]
    },
    {
     "name": "stdout",
     "output_type": "stream",
     "text": [
      "[CV] END ............................... score: (test=-4.646) total time=  10.1s\n",
      "[CV] START .....................................................................\n"
     ]
    },
    {
     "name": "stderr",
     "output_type": "stream",
     "text": [
      "[Parallel(n_jobs=-1)]: Done   2 out of   2 | elapsed:   20.0s remaining:    0.0s\n"
     ]
    },
    {
     "name": "stdout",
     "output_type": "stream",
     "text": [
      "[CV] END ............................... score: (test=-7.556) total time=  10.2s\n",
      "[CV] START .....................................................................\n"
     ]
    },
    {
     "name": "stderr",
     "output_type": "stream",
     "text": [
      "[Parallel(n_jobs=-1)]: Done   3 out of   3 | elapsed:   30.2s remaining:    0.0s\n",
      "[Parallel(n_jobs=-1)]: Done   3 out of   3 | elapsed:   30.2s finished\n",
      "[Parallel(n_jobs=-1)]: Using backend SequentialBackend with 1 concurrent workers.\n"
     ]
    },
    {
     "name": "stdout",
     "output_type": "stream",
     "text": [
      "[CV] END ............................... score: (test=-7.988) total time=  11.5s\n",
      "[CV] START .....................................................................\n"
     ]
    },
    {
     "name": "stderr",
     "output_type": "stream",
     "text": [
      "[Parallel(n_jobs=-1)]: Done   1 out of   1 | elapsed:   11.5s remaining:    0.0s\n"
     ]
    },
    {
     "name": "stdout",
     "output_type": "stream",
     "text": [
      "[CV] END ............................... score: (test=-4.716) total time=  11.2s\n",
      "[CV] START .....................................................................\n"
     ]
    },
    {
     "name": "stderr",
     "output_type": "stream",
     "text": [
      "[Parallel(n_jobs=-1)]: Done   2 out of   2 | elapsed:   22.7s remaining:    0.0s\n"
     ]
    },
    {
     "name": "stdout",
     "output_type": "stream",
     "text": [
      "[CV] END ............................... score: (test=-7.748) total time=  11.1s\n",
      "[CV] START .....................................................................\n"
     ]
    },
    {
     "name": "stderr",
     "output_type": "stream",
     "text": [
      "[Parallel(n_jobs=-1)]: Done   3 out of   3 | elapsed:   33.8s remaining:    0.0s\n",
      "[Parallel(n_jobs=-1)]: Done   3 out of   3 | elapsed:   33.8s finished\n",
      "[Parallel(n_jobs=-1)]: Using backend SequentialBackend with 1 concurrent workers.\n"
     ]
    },
    {
     "name": "stdout",
     "output_type": "stream",
     "text": [
      "[CV] END ............................... score: (test=-8.019) total time=  12.1s\n",
      "[CV] START .....................................................................\n"
     ]
    },
    {
     "name": "stderr",
     "output_type": "stream",
     "text": [
      "[Parallel(n_jobs=-1)]: Done   1 out of   1 | elapsed:   12.1s remaining:    0.0s\n"
     ]
    },
    {
     "name": "stdout",
     "output_type": "stream",
     "text": [
      "[CV] END ............................... score: (test=-4.787) total time=  12.2s\n",
      "[CV] START .....................................................................\n"
     ]
    },
    {
     "name": "stderr",
     "output_type": "stream",
     "text": [
      "[Parallel(n_jobs=-1)]: Done   2 out of   2 | elapsed:   24.2s remaining:    0.0s\n"
     ]
    },
    {
     "name": "stdout",
     "output_type": "stream",
     "text": [
      "[CV] END ............................... score: (test=-7.824) total time=  12.1s\n",
      "sMAPE rougher: 6.421427529350413 Глубина дерева: 5 Estimators: 20\n"
     ]
    },
    {
     "name": "stderr",
     "output_type": "stream",
     "text": [
      "[Parallel(n_jobs=-1)]: Done   3 out of   3 | elapsed:   36.4s remaining:    0.0s\n",
      "[Parallel(n_jobs=-1)]: Done   3 out of   3 | elapsed:   36.4s finished\n"
     ]
    }
   ],
   "source": [
    "best_result_r = 100\n",
    "best_est_r = 0\n",
    "best_depth_r = 0\n",
    "for est_r in range(10, 51, 10):\n",
    "    for depth_r in range (1, 11):\n",
    "        model_rf_rougher = RandomForestRegressor(random_state=12345, n_estimators=est_r, max_depth=depth_r)\n",
    "        smape_rougher = cross_val_score(model_rf_rougher, features_train, target_train_rougher, scoring=smape_scorer, cv=3, \\\n",
    "                                        n_jobs=-1, verbose=10)\n",
    "        result_r = abs(smape_rougher.mean())\n",
    "        if result_r < best_result_r:\n",
    "            best_result_r = result_r\n",
    "            best_est_r = est_r\n",
    "            best_depth_r = depth_r\n",
    "\n",
    "print(\"sMAPE rougher:\", best_result_r, \"Глубина дерева:\", best_depth_r, \"Estimators:\", best_est_r)"
   ]
  },
  {
   "cell_type": "markdown",
   "metadata": {},
   "source": [
    "Получу sMAPE для модели, основанной на предсказании **final.output.recovery**."
   ]
  },
  {
   "cell_type": "code",
   "execution_count": 43,
   "metadata": {},
   "outputs": [
    {
     "name": "stderr",
     "output_type": "stream",
     "text": [
      "[Parallel(n_jobs=-1)]: Using backend SequentialBackend with 1 concurrent workers.\n"
     ]
    },
    {
     "name": "stdout",
     "output_type": "stream",
     "text": [
      "[CV] START .....................................................................\n",
      "[CV] END ............................... score: (test=-9.297) total time=   0.3s\n",
      "[CV] START .....................................................................\n"
     ]
    },
    {
     "name": "stderr",
     "output_type": "stream",
     "text": [
      "[Parallel(n_jobs=-1)]: Done   1 out of   1 | elapsed:    0.3s remaining:    0.0s\n"
     ]
    },
    {
     "name": "stdout",
     "output_type": "stream",
     "text": [
      "[CV] END ............................... score: (test=-8.848) total time=   0.3s\n",
      "[CV] START .....................................................................\n"
     ]
    },
    {
     "name": "stderr",
     "output_type": "stream",
     "text": [
      "[Parallel(n_jobs=-1)]: Done   2 out of   2 | elapsed:    0.7s remaining:    0.0s\n"
     ]
    },
    {
     "name": "stdout",
     "output_type": "stream",
     "text": [
      "[CV] END .............................. score: (test=-10.078) total time=   0.3s\n",
      "[CV] START .....................................................................\n"
     ]
    },
    {
     "name": "stderr",
     "output_type": "stream",
     "text": [
      "[Parallel(n_jobs=-1)]: Done   3 out of   3 | elapsed:    1.0s remaining:    0.0s\n",
      "[Parallel(n_jobs=-1)]: Done   3 out of   3 | elapsed:    1.0s finished\n",
      "[Parallel(n_jobs=-1)]: Using backend SequentialBackend with 1 concurrent workers.\n"
     ]
    },
    {
     "name": "stdout",
     "output_type": "stream",
     "text": [
      "[CV] END ............................... score: (test=-9.305) total time=   0.6s\n",
      "[CV] START .....................................................................\n"
     ]
    },
    {
     "name": "stderr",
     "output_type": "stream",
     "text": [
      "[Parallel(n_jobs=-1)]: Done   1 out of   1 | elapsed:    0.6s remaining:    0.0s\n"
     ]
    },
    {
     "name": "stdout",
     "output_type": "stream",
     "text": [
      "[CV] END ............................... score: (test=-9.078) total time=   0.6s\n",
      "[CV] START .....................................................................\n"
     ]
    },
    {
     "name": "stderr",
     "output_type": "stream",
     "text": [
      "[Parallel(n_jobs=-1)]: Done   2 out of   2 | elapsed:    1.2s remaining:    0.0s\n"
     ]
    },
    {
     "name": "stdout",
     "output_type": "stream",
     "text": [
      "[CV] END ............................... score: (test=-9.669) total time=   0.6s\n",
      "[CV] START .....................................................................\n"
     ]
    },
    {
     "name": "stderr",
     "output_type": "stream",
     "text": [
      "[Parallel(n_jobs=-1)]: Done   3 out of   3 | elapsed:    1.9s remaining:    0.0s\n",
      "[Parallel(n_jobs=-1)]: Done   3 out of   3 | elapsed:    1.9s finished\n",
      "[Parallel(n_jobs=-1)]: Using backend SequentialBackend with 1 concurrent workers.\n"
     ]
    },
    {
     "name": "stdout",
     "output_type": "stream",
     "text": [
      "[CV] END ............................... score: (test=-9.031) total time=   0.9s\n",
      "[CV] START .....................................................................\n"
     ]
    },
    {
     "name": "stderr",
     "output_type": "stream",
     "text": [
      "[Parallel(n_jobs=-1)]: Done   1 out of   1 | elapsed:    0.9s remaining:    0.0s\n"
     ]
    },
    {
     "name": "stdout",
     "output_type": "stream",
     "text": [
      "[CV] END ............................... score: (test=-9.006) total time=   0.9s\n",
      "[CV] START .....................................................................\n"
     ]
    },
    {
     "name": "stderr",
     "output_type": "stream",
     "text": [
      "[Parallel(n_jobs=-1)]: Done   2 out of   2 | elapsed:    1.8s remaining:    0.0s\n"
     ]
    },
    {
     "name": "stdout",
     "output_type": "stream",
     "text": [
      "[CV] END .............................. score: (test=-12.046) total time=   0.9s\n",
      "[CV] START .....................................................................\n"
     ]
    },
    {
     "name": "stderr",
     "output_type": "stream",
     "text": [
      "[Parallel(n_jobs=-1)]: Done   3 out of   3 | elapsed:    2.7s remaining:    0.0s\n",
      "[Parallel(n_jobs=-1)]: Done   3 out of   3 | elapsed:    2.7s finished\n",
      "[Parallel(n_jobs=-1)]: Using backend SequentialBackend with 1 concurrent workers.\n"
     ]
    },
    {
     "name": "stdout",
     "output_type": "stream",
     "text": [
      "[CV] END ............................... score: (test=-8.907) total time=   1.1s\n",
      "[CV] START .....................................................................\n"
     ]
    },
    {
     "name": "stderr",
     "output_type": "stream",
     "text": [
      "[Parallel(n_jobs=-1)]: Done   1 out of   1 | elapsed:    1.1s remaining:    0.0s\n"
     ]
    },
    {
     "name": "stdout",
     "output_type": "stream",
     "text": [
      "[CV] END ............................... score: (test=-9.094) total time=   1.2s\n",
      "[CV] START .....................................................................\n"
     ]
    },
    {
     "name": "stderr",
     "output_type": "stream",
     "text": [
      "[Parallel(n_jobs=-1)]: Done   2 out of   2 | elapsed:    2.3s remaining:    0.0s\n"
     ]
    },
    {
     "name": "stdout",
     "output_type": "stream",
     "text": [
      "[CV] END .............................. score: (test=-12.798) total time=   1.1s\n",
      "[CV] START .....................................................................\n"
     ]
    },
    {
     "name": "stderr",
     "output_type": "stream",
     "text": [
      "[Parallel(n_jobs=-1)]: Done   3 out of   3 | elapsed:    3.4s remaining:    0.0s\n",
      "[Parallel(n_jobs=-1)]: Done   3 out of   3 | elapsed:    3.4s finished\n",
      "[Parallel(n_jobs=-1)]: Using backend SequentialBackend with 1 concurrent workers.\n"
     ]
    },
    {
     "name": "stdout",
     "output_type": "stream",
     "text": [
      "[CV] END ............................... score: (test=-8.867) total time=   1.4s\n",
      "[CV] START .....................................................................\n"
     ]
    },
    {
     "name": "stderr",
     "output_type": "stream",
     "text": [
      "[Parallel(n_jobs=-1)]: Done   1 out of   1 | elapsed:    1.4s remaining:    0.0s\n"
     ]
    },
    {
     "name": "stdout",
     "output_type": "stream",
     "text": [
      "[CV] END ............................... score: (test=-9.208) total time=   1.3s\n",
      "[CV] START .....................................................................\n"
     ]
    },
    {
     "name": "stderr",
     "output_type": "stream",
     "text": [
      "[Parallel(n_jobs=-1)]: Done   2 out of   2 | elapsed:    2.7s remaining:    0.0s\n"
     ]
    },
    {
     "name": "stdout",
     "output_type": "stream",
     "text": [
      "[CV] END .............................. score: (test=-12.403) total time=   1.4s\n",
      "[CV] START .....................................................................\n"
     ]
    },
    {
     "name": "stderr",
     "output_type": "stream",
     "text": [
      "[Parallel(n_jobs=-1)]: Done   3 out of   3 | elapsed:    4.1s remaining:    0.0s\n",
      "[Parallel(n_jobs=-1)]: Done   3 out of   3 | elapsed:    4.1s finished\n",
      "[Parallel(n_jobs=-1)]: Using backend SequentialBackend with 1 concurrent workers.\n"
     ]
    },
    {
     "name": "stdout",
     "output_type": "stream",
     "text": [
      "[CV] END ............................... score: (test=-9.056) total time=   1.7s\n",
      "[CV] START .....................................................................\n"
     ]
    },
    {
     "name": "stderr",
     "output_type": "stream",
     "text": [
      "[Parallel(n_jobs=-1)]: Done   1 out of   1 | elapsed:    1.7s remaining:    0.0s\n"
     ]
    },
    {
     "name": "stdout",
     "output_type": "stream",
     "text": [
      "[CV] END ............................... score: (test=-9.390) total time=   1.6s\n",
      "[CV] START .....................................................................\n"
     ]
    },
    {
     "name": "stderr",
     "output_type": "stream",
     "text": [
      "[Parallel(n_jobs=-1)]: Done   2 out of   2 | elapsed:    3.3s remaining:    0.0s\n"
     ]
    },
    {
     "name": "stdout",
     "output_type": "stream",
     "text": [
      "[CV] END .............................. score: (test=-11.971) total time=   1.7s\n",
      "[CV] START .....................................................................\n"
     ]
    },
    {
     "name": "stderr",
     "output_type": "stream",
     "text": [
      "[Parallel(n_jobs=-1)]: Done   3 out of   3 | elapsed:    5.0s remaining:    0.0s\n",
      "[Parallel(n_jobs=-1)]: Done   3 out of   3 | elapsed:    5.0s finished\n",
      "[Parallel(n_jobs=-1)]: Using backend SequentialBackend with 1 concurrent workers.\n"
     ]
    },
    {
     "name": "stdout",
     "output_type": "stream",
     "text": [
      "[CV] END ............................... score: (test=-9.277) total time=   1.8s\n",
      "[CV] START .....................................................................\n"
     ]
    },
    {
     "name": "stderr",
     "output_type": "stream",
     "text": [
      "[Parallel(n_jobs=-1)]: Done   1 out of   1 | elapsed:    1.8s remaining:    0.0s\n"
     ]
    },
    {
     "name": "stdout",
     "output_type": "stream",
     "text": [
      "[CV] END ............................... score: (test=-9.520) total time=   1.8s\n",
      "[CV] START .....................................................................\n"
     ]
    },
    {
     "name": "stderr",
     "output_type": "stream",
     "text": [
      "[Parallel(n_jobs=-1)]: Done   2 out of   2 | elapsed:    3.7s remaining:    0.0s\n"
     ]
    },
    {
     "name": "stdout",
     "output_type": "stream",
     "text": [
      "[CV] END .............................. score: (test=-11.803) total time=   1.8s\n",
      "[CV] START .....................................................................\n"
     ]
    },
    {
     "name": "stderr",
     "output_type": "stream",
     "text": [
      "[Parallel(n_jobs=-1)]: Done   3 out of   3 | elapsed:    5.5s remaining:    0.0s\n",
      "[Parallel(n_jobs=-1)]: Done   3 out of   3 | elapsed:    5.5s finished\n",
      "[Parallel(n_jobs=-1)]: Using backend SequentialBackend with 1 concurrent workers.\n"
     ]
    },
    {
     "name": "stdout",
     "output_type": "stream",
     "text": [
      "[CV] END ............................... score: (test=-9.466) total time=   2.0s\n",
      "[CV] START .....................................................................\n"
     ]
    },
    {
     "name": "stderr",
     "output_type": "stream",
     "text": [
      "[Parallel(n_jobs=-1)]: Done   1 out of   1 | elapsed:    2.0s remaining:    0.0s\n"
     ]
    },
    {
     "name": "stdout",
     "output_type": "stream",
     "text": [
      "[CV] END ............................... score: (test=-9.520) total time=   2.0s\n",
      "[CV] START .....................................................................\n"
     ]
    },
    {
     "name": "stderr",
     "output_type": "stream",
     "text": [
      "[Parallel(n_jobs=-1)]: Done   2 out of   2 | elapsed:    4.0s remaining:    0.0s\n"
     ]
    },
    {
     "name": "stdout",
     "output_type": "stream",
     "text": [
      "[CV] END .............................. score: (test=-11.659) total time=   2.1s\n",
      "[CV] START .....................................................................\n"
     ]
    },
    {
     "name": "stderr",
     "output_type": "stream",
     "text": [
      "[Parallel(n_jobs=-1)]: Done   3 out of   3 | elapsed:    6.2s remaining:    0.0s\n",
      "[Parallel(n_jobs=-1)]: Done   3 out of   3 | elapsed:    6.2s finished\n",
      "[Parallel(n_jobs=-1)]: Using backend SequentialBackend with 1 concurrent workers.\n"
     ]
    },
    {
     "name": "stdout",
     "output_type": "stream",
     "text": [
      "[CV] END ............................... score: (test=-9.600) total time=   2.3s\n",
      "[CV] START .....................................................................\n"
     ]
    },
    {
     "name": "stderr",
     "output_type": "stream",
     "text": [
      "[Parallel(n_jobs=-1)]: Done   1 out of   1 | elapsed:    2.3s remaining:    0.0s\n"
     ]
    },
    {
     "name": "stdout",
     "output_type": "stream",
     "text": [
      "[CV] END ............................... score: (test=-9.716) total time=   2.3s\n",
      "[CV] START .....................................................................\n"
     ]
    },
    {
     "name": "stderr",
     "output_type": "stream",
     "text": [
      "[Parallel(n_jobs=-1)]: Done   2 out of   2 | elapsed:    4.6s remaining:    0.0s\n"
     ]
    },
    {
     "name": "stdout",
     "output_type": "stream",
     "text": [
      "[CV] END .............................. score: (test=-11.917) total time=   2.7s\n",
      "[CV] START .....................................................................\n"
     ]
    },
    {
     "name": "stderr",
     "output_type": "stream",
     "text": [
      "[Parallel(n_jobs=-1)]: Done   3 out of   3 | elapsed:    7.3s remaining:    0.0s\n",
      "[Parallel(n_jobs=-1)]: Done   3 out of   3 | elapsed:    7.3s finished\n",
      "[Parallel(n_jobs=-1)]: Using backend SequentialBackend with 1 concurrent workers.\n"
     ]
    },
    {
     "name": "stdout",
     "output_type": "stream",
     "text": [
      "[CV] END ............................... score: (test=-9.686) total time=   2.4s\n",
      "[CV] START .....................................................................\n"
     ]
    },
    {
     "name": "stderr",
     "output_type": "stream",
     "text": [
      "[Parallel(n_jobs=-1)]: Done   1 out of   1 | elapsed:    2.4s remaining:    0.0s\n"
     ]
    },
    {
     "name": "stdout",
     "output_type": "stream",
     "text": [
      "[CV] END .............................. score: (test=-10.060) total time=   2.3s\n",
      "[CV] START .....................................................................\n"
     ]
    },
    {
     "name": "stderr",
     "output_type": "stream",
     "text": [
      "[Parallel(n_jobs=-1)]: Done   2 out of   2 | elapsed:    4.7s remaining:    0.0s\n"
     ]
    },
    {
     "name": "stdout",
     "output_type": "stream",
     "text": [
      "[CV] END .............................. score: (test=-11.758) total time=   2.5s\n",
      "[CV] START .....................................................................\n"
     ]
    },
    {
     "name": "stderr",
     "output_type": "stream",
     "text": [
      "[Parallel(n_jobs=-1)]: Done   3 out of   3 | elapsed:    7.3s remaining:    0.0s\n",
      "[Parallel(n_jobs=-1)]: Done   3 out of   3 | elapsed:    7.3s finished\n",
      "[Parallel(n_jobs=-1)]: Using backend SequentialBackend with 1 concurrent workers.\n"
     ]
    },
    {
     "name": "stdout",
     "output_type": "stream",
     "text": [
      "[CV] END ............................... score: (test=-9.327) total time=   0.6s\n",
      "[CV] START .....................................................................\n"
     ]
    },
    {
     "name": "stderr",
     "output_type": "stream",
     "text": [
      "[Parallel(n_jobs=-1)]: Done   1 out of   1 | elapsed:    0.6s remaining:    0.0s\n"
     ]
    },
    {
     "name": "stdout",
     "output_type": "stream",
     "text": [
      "[CV] END ............................... score: (test=-8.835) total time=   0.7s\n",
      "[CV] START .....................................................................\n"
     ]
    },
    {
     "name": "stderr",
     "output_type": "stream",
     "text": [
      "[Parallel(n_jobs=-1)]: Done   2 out of   2 | elapsed:    1.3s remaining:    0.0s\n"
     ]
    },
    {
     "name": "stdout",
     "output_type": "stream",
     "text": [
      "[CV] END .............................. score: (test=-10.083) total time=   0.7s\n",
      "[CV] START .....................................................................\n"
     ]
    },
    {
     "name": "stderr",
     "output_type": "stream",
     "text": [
      "[Parallel(n_jobs=-1)]: Done   3 out of   3 | elapsed:    1.9s remaining:    0.0s\n",
      "[Parallel(n_jobs=-1)]: Done   3 out of   3 | elapsed:    1.9s finished\n",
      "[Parallel(n_jobs=-1)]: Using backend SequentialBackend with 1 concurrent workers.\n"
     ]
    },
    {
     "name": "stdout",
     "output_type": "stream",
     "text": [
      "[CV] END ............................... score: (test=-9.322) total time=   1.3s\n",
      "[CV] START .....................................................................\n"
     ]
    },
    {
     "name": "stderr",
     "output_type": "stream",
     "text": [
      "[Parallel(n_jobs=-1)]: Done   1 out of   1 | elapsed:    1.3s remaining:    0.0s\n"
     ]
    },
    {
     "name": "stdout",
     "output_type": "stream",
     "text": [
      "[CV] END ............................... score: (test=-9.026) total time=   1.3s\n",
      "[CV] START .....................................................................\n"
     ]
    },
    {
     "name": "stderr",
     "output_type": "stream",
     "text": [
      "[Parallel(n_jobs=-1)]: Done   2 out of   2 | elapsed:    2.6s remaining:    0.0s\n"
     ]
    },
    {
     "name": "stdout",
     "output_type": "stream",
     "text": [
      "[CV] END ............................... score: (test=-9.684) total time=   1.2s\n",
      "[CV] START .....................................................................\n"
     ]
    },
    {
     "name": "stderr",
     "output_type": "stream",
     "text": [
      "[Parallel(n_jobs=-1)]: Done   3 out of   3 | elapsed:    3.8s remaining:    0.0s\n",
      "[Parallel(n_jobs=-1)]: Done   3 out of   3 | elapsed:    3.8s finished\n",
      "[Parallel(n_jobs=-1)]: Using backend SequentialBackend with 1 concurrent workers.\n"
     ]
    },
    {
     "name": "stdout",
     "output_type": "stream",
     "text": [
      "[CV] END ............................... score: (test=-9.089) total time=   1.8s\n",
      "[CV] START .....................................................................\n"
     ]
    },
    {
     "name": "stderr",
     "output_type": "stream",
     "text": [
      "[Parallel(n_jobs=-1)]: Done   1 out of   1 | elapsed:    1.8s remaining:    0.0s\n"
     ]
    },
    {
     "name": "stdout",
     "output_type": "stream",
     "text": [
      "[CV] END ............................... score: (test=-8.918) total time=   1.8s\n",
      "[CV] START .....................................................................\n"
     ]
    },
    {
     "name": "stderr",
     "output_type": "stream",
     "text": [
      "[Parallel(n_jobs=-1)]: Done   2 out of   2 | elapsed:    3.5s remaining:    0.0s\n"
     ]
    },
    {
     "name": "stdout",
     "output_type": "stream",
     "text": [
      "[CV] END .............................. score: (test=-11.889) total time=   1.8s\n",
      "[CV] START .....................................................................\n"
     ]
    },
    {
     "name": "stderr",
     "output_type": "stream",
     "text": [
      "[Parallel(n_jobs=-1)]: Done   3 out of   3 | elapsed:    5.3s remaining:    0.0s\n",
      "[Parallel(n_jobs=-1)]: Done   3 out of   3 | elapsed:    5.3s finished\n",
      "[Parallel(n_jobs=-1)]: Using backend SequentialBackend with 1 concurrent workers.\n"
     ]
    },
    {
     "name": "stdout",
     "output_type": "stream",
     "text": [
      "[CV] END ............................... score: (test=-8.867) total time=   2.3s\n",
      "[CV] START .....................................................................\n"
     ]
    },
    {
     "name": "stderr",
     "output_type": "stream",
     "text": [
      "[Parallel(n_jobs=-1)]: Done   1 out of   1 | elapsed:    2.3s remaining:    0.0s\n"
     ]
    },
    {
     "name": "stdout",
     "output_type": "stream",
     "text": [
      "[CV] END ............................... score: (test=-9.090) total time=   2.3s\n",
      "[CV] START .....................................................................\n"
     ]
    },
    {
     "name": "stderr",
     "output_type": "stream",
     "text": [
      "[Parallel(n_jobs=-1)]: Done   2 out of   2 | elapsed:    4.6s remaining:    0.0s\n"
     ]
    },
    {
     "name": "stdout",
     "output_type": "stream",
     "text": [
      "[CV] END .............................. score: (test=-12.278) total time=   2.4s\n",
      "[CV] START .....................................................................\n"
     ]
    },
    {
     "name": "stderr",
     "output_type": "stream",
     "text": [
      "[Parallel(n_jobs=-1)]: Done   3 out of   3 | elapsed:    7.0s remaining:    0.0s\n",
      "[Parallel(n_jobs=-1)]: Done   3 out of   3 | elapsed:    7.0s finished\n",
      "[Parallel(n_jobs=-1)]: Using backend SequentialBackend with 1 concurrent workers.\n"
     ]
    },
    {
     "name": "stdout",
     "output_type": "stream",
     "text": [
      "[CV] END ............................... score: (test=-8.801) total time=   3.0s\n",
      "[CV] START .....................................................................\n"
     ]
    },
    {
     "name": "stderr",
     "output_type": "stream",
     "text": [
      "[Parallel(n_jobs=-1)]: Done   1 out of   1 | elapsed:    3.0s remaining:    0.0s\n"
     ]
    },
    {
     "name": "stdout",
     "output_type": "stream",
     "text": [
      "[CV] END ............................... score: (test=-9.149) total time=   2.8s\n",
      "[CV] START .....................................................................\n"
     ]
    },
    {
     "name": "stderr",
     "output_type": "stream",
     "text": [
      "[Parallel(n_jobs=-1)]: Done   2 out of   2 | elapsed:    5.7s remaining:    0.0s\n"
     ]
    },
    {
     "name": "stdout",
     "output_type": "stream",
     "text": [
      "[CV] END .............................. score: (test=-11.980) total time=   2.9s\n",
      "[CV] START .....................................................................\n"
     ]
    },
    {
     "name": "stderr",
     "output_type": "stream",
     "text": [
      "[Parallel(n_jobs=-1)]: Done   3 out of   3 | elapsed:    8.6s remaining:    0.0s\n",
      "[Parallel(n_jobs=-1)]: Done   3 out of   3 | elapsed:    8.6s finished\n",
      "[Parallel(n_jobs=-1)]: Using backend SequentialBackend with 1 concurrent workers.\n"
     ]
    },
    {
     "name": "stdout",
     "output_type": "stream",
     "text": [
      "[CV] END ............................... score: (test=-8.814) total time=   3.4s\n",
      "[CV] START .....................................................................\n"
     ]
    },
    {
     "name": "stderr",
     "output_type": "stream",
     "text": [
      "[Parallel(n_jobs=-1)]: Done   1 out of   1 | elapsed:    3.4s remaining:    0.0s\n"
     ]
    },
    {
     "name": "stdout",
     "output_type": "stream",
     "text": [
      "[CV] END ............................... score: (test=-9.214) total time=   3.2s\n",
      "[CV] START .....................................................................\n"
     ]
    },
    {
     "name": "stderr",
     "output_type": "stream",
     "text": [
      "[Parallel(n_jobs=-1)]: Done   2 out of   2 | elapsed:    6.6s remaining:    0.0s\n"
     ]
    },
    {
     "name": "stdout",
     "output_type": "stream",
     "text": [
      "[CV] END .............................. score: (test=-11.827) total time=   3.4s\n",
      "[CV] START .....................................................................\n"
     ]
    },
    {
     "name": "stderr",
     "output_type": "stream",
     "text": [
      "[Parallel(n_jobs=-1)]: Done   3 out of   3 | elapsed:   10.0s remaining:    0.0s\n",
      "[Parallel(n_jobs=-1)]: Done   3 out of   3 | elapsed:   10.0s finished\n",
      "[Parallel(n_jobs=-1)]: Using backend SequentialBackend with 1 concurrent workers.\n"
     ]
    },
    {
     "name": "stdout",
     "output_type": "stream",
     "text": [
      "[CV] END ............................... score: (test=-8.925) total time=   3.9s\n",
      "[CV] START .....................................................................\n"
     ]
    },
    {
     "name": "stderr",
     "output_type": "stream",
     "text": [
      "[Parallel(n_jobs=-1)]: Done   1 out of   1 | elapsed:    3.9s remaining:    0.0s\n"
     ]
    },
    {
     "name": "stdout",
     "output_type": "stream",
     "text": [
      "[CV] END ............................... score: (test=-9.137) total time=   3.7s\n",
      "[CV] START .....................................................................\n"
     ]
    },
    {
     "name": "stderr",
     "output_type": "stream",
     "text": [
      "[Parallel(n_jobs=-1)]: Done   2 out of   2 | elapsed:    7.7s remaining:    0.0s\n"
     ]
    },
    {
     "name": "stdout",
     "output_type": "stream",
     "text": [
      "[CV] END .............................. score: (test=-12.108) total time=   3.8s\n",
      "[CV] START .....................................................................\n"
     ]
    },
    {
     "name": "stderr",
     "output_type": "stream",
     "text": [
      "[Parallel(n_jobs=-1)]: Done   3 out of   3 | elapsed:   11.5s remaining:    0.0s\n",
      "[Parallel(n_jobs=-1)]: Done   3 out of   3 | elapsed:   11.5s finished\n",
      "[Parallel(n_jobs=-1)]: Using backend SequentialBackend with 1 concurrent workers.\n"
     ]
    },
    {
     "name": "stdout",
     "output_type": "stream",
     "text": [
      "[CV] END ............................... score: (test=-9.067) total time=   4.3s\n",
      "[CV] START .....................................................................\n"
     ]
    },
    {
     "name": "stderr",
     "output_type": "stream",
     "text": [
      "[Parallel(n_jobs=-1)]: Done   1 out of   1 | elapsed:    4.3s remaining:    0.0s\n"
     ]
    },
    {
     "name": "stdout",
     "output_type": "stream",
     "text": [
      "[CV] END ............................... score: (test=-9.249) total time=   4.1s\n",
      "[CV] START .....................................................................\n"
     ]
    },
    {
     "name": "stderr",
     "output_type": "stream",
     "text": [
      "[Parallel(n_jobs=-1)]: Done   2 out of   2 | elapsed:    8.4s remaining:    0.0s\n"
     ]
    },
    {
     "name": "stdout",
     "output_type": "stream",
     "text": [
      "[CV] END .............................. score: (test=-12.145) total time=   4.2s\n",
      "[CV] START .....................................................................\n"
     ]
    },
    {
     "name": "stderr",
     "output_type": "stream",
     "text": [
      "[Parallel(n_jobs=-1)]: Done   3 out of   3 | elapsed:   12.6s remaining:    0.0s\n",
      "[Parallel(n_jobs=-1)]: Done   3 out of   3 | elapsed:   12.6s finished\n",
      "[Parallel(n_jobs=-1)]: Using backend SequentialBackend with 1 concurrent workers.\n"
     ]
    },
    {
     "name": "stdout",
     "output_type": "stream",
     "text": [
      "[CV] END ............................... score: (test=-9.212) total time=   4.6s\n",
      "[CV] START .....................................................................\n"
     ]
    },
    {
     "name": "stderr",
     "output_type": "stream",
     "text": [
      "[Parallel(n_jobs=-1)]: Done   1 out of   1 | elapsed:    4.6s remaining:    0.0s\n"
     ]
    },
    {
     "name": "stdout",
     "output_type": "stream",
     "text": [
      "[CV] END ............................... score: (test=-9.279) total time=   4.6s\n",
      "[CV] START .....................................................................\n"
     ]
    },
    {
     "name": "stderr",
     "output_type": "stream",
     "text": [
      "[Parallel(n_jobs=-1)]: Done   2 out of   2 | elapsed:    9.2s remaining:    0.0s\n"
     ]
    },
    {
     "name": "stdout",
     "output_type": "stream",
     "text": [
      "[CV] END .............................. score: (test=-12.254) total time=   4.6s\n",
      "[CV] START .....................................................................\n"
     ]
    },
    {
     "name": "stderr",
     "output_type": "stream",
     "text": [
      "[Parallel(n_jobs=-1)]: Done   3 out of   3 | elapsed:   13.8s remaining:    0.0s\n",
      "[Parallel(n_jobs=-1)]: Done   3 out of   3 | elapsed:   13.8s finished\n",
      "[Parallel(n_jobs=-1)]: Using backend SequentialBackend with 1 concurrent workers.\n"
     ]
    },
    {
     "name": "stdout",
     "output_type": "stream",
     "text": [
      "[CV] END ............................... score: (test=-9.185) total time=   5.1s\n",
      "[CV] START .....................................................................\n"
     ]
    },
    {
     "name": "stderr",
     "output_type": "stream",
     "text": [
      "[Parallel(n_jobs=-1)]: Done   1 out of   1 | elapsed:    5.1s remaining:    0.0s\n"
     ]
    },
    {
     "name": "stdout",
     "output_type": "stream",
     "text": [
      "[CV] END ............................... score: (test=-9.521) total time=   4.9s\n",
      "[CV] START .....................................................................\n"
     ]
    },
    {
     "name": "stderr",
     "output_type": "stream",
     "text": [
      "[Parallel(n_jobs=-1)]: Done   2 out of   2 | elapsed:   10.0s remaining:    0.0s\n"
     ]
    },
    {
     "name": "stdout",
     "output_type": "stream",
     "text": [
      "[CV] END .............................. score: (test=-12.254) total time=   5.0s\n",
      "[CV] START .....................................................................\n"
     ]
    },
    {
     "name": "stderr",
     "output_type": "stream",
     "text": [
      "[Parallel(n_jobs=-1)]: Done   3 out of   3 | elapsed:   15.0s remaining:    0.0s\n",
      "[Parallel(n_jobs=-1)]: Done   3 out of   3 | elapsed:   15.0s finished\n",
      "[Parallel(n_jobs=-1)]: Using backend SequentialBackend with 1 concurrent workers.\n"
     ]
    },
    {
     "name": "stdout",
     "output_type": "stream",
     "text": [
      "[CV] END ............................... score: (test=-9.326) total time=   1.0s\n",
      "[CV] START .....................................................................\n"
     ]
    },
    {
     "name": "stderr",
     "output_type": "stream",
     "text": [
      "[Parallel(n_jobs=-1)]: Done   1 out of   1 | elapsed:    1.0s remaining:    0.0s\n"
     ]
    },
    {
     "name": "stdout",
     "output_type": "stream",
     "text": [
      "[CV] END ............................... score: (test=-8.835) total time=   1.0s\n",
      "[CV] START .....................................................................\n"
     ]
    },
    {
     "name": "stderr",
     "output_type": "stream",
     "text": [
      "[Parallel(n_jobs=-1)]: Done   2 out of   2 | elapsed:    2.0s remaining:    0.0s\n"
     ]
    },
    {
     "name": "stdout",
     "output_type": "stream",
     "text": [
      "[CV] END .............................. score: (test=-10.087) total time=   1.0s\n",
      "[CV] START .....................................................................\n"
     ]
    },
    {
     "name": "stderr",
     "output_type": "stream",
     "text": [
      "[Parallel(n_jobs=-1)]: Done   3 out of   3 | elapsed:    3.1s remaining:    0.0s\n",
      "[Parallel(n_jobs=-1)]: Done   3 out of   3 | elapsed:    3.1s finished\n",
      "[Parallel(n_jobs=-1)]: Using backend SequentialBackend with 1 concurrent workers.\n"
     ]
    },
    {
     "name": "stdout",
     "output_type": "stream",
     "text": [
      "[CV] END ............................... score: (test=-9.321) total time=   1.8s\n",
      "[CV] START .....................................................................\n"
     ]
    },
    {
     "name": "stderr",
     "output_type": "stream",
     "text": [
      "[Parallel(n_jobs=-1)]: Done   1 out of   1 | elapsed:    1.8s remaining:    0.0s\n"
     ]
    },
    {
     "name": "stdout",
     "output_type": "stream",
     "text": [
      "[CV] END ............................... score: (test=-9.033) total time=   2.0s\n",
      "[CV] START .....................................................................\n"
     ]
    },
    {
     "name": "stderr",
     "output_type": "stream",
     "text": [
      "[Parallel(n_jobs=-1)]: Done   2 out of   2 | elapsed:    3.8s remaining:    0.0s\n"
     ]
    },
    {
     "name": "stdout",
     "output_type": "stream",
     "text": [
      "[CV] END ............................... score: (test=-9.688) total time=   2.0s\n",
      "[CV] START .....................................................................\n"
     ]
    },
    {
     "name": "stderr",
     "output_type": "stream",
     "text": [
      "[Parallel(n_jobs=-1)]: Done   3 out of   3 | elapsed:    5.8s remaining:    0.0s\n",
      "[Parallel(n_jobs=-1)]: Done   3 out of   3 | elapsed:    5.8s finished\n",
      "[Parallel(n_jobs=-1)]: Using backend SequentialBackend with 1 concurrent workers.\n"
     ]
    },
    {
     "name": "stdout",
     "output_type": "stream",
     "text": [
      "[CV] END ............................... score: (test=-9.074) total time=   2.8s\n",
      "[CV] START .....................................................................\n"
     ]
    },
    {
     "name": "stderr",
     "output_type": "stream",
     "text": [
      "[Parallel(n_jobs=-1)]: Done   1 out of   1 | elapsed:    2.8s remaining:    0.0s\n"
     ]
    },
    {
     "name": "stdout",
     "output_type": "stream",
     "text": [
      "[CV] END ............................... score: (test=-9.019) total time=   2.7s\n",
      "[CV] START .....................................................................\n"
     ]
    },
    {
     "name": "stderr",
     "output_type": "stream",
     "text": [
      "[Parallel(n_jobs=-1)]: Done   2 out of   2 | elapsed:    5.6s remaining:    0.0s\n"
     ]
    },
    {
     "name": "stdout",
     "output_type": "stream",
     "text": [
      "[CV] END .............................. score: (test=-11.738) total time=   2.7s\n",
      "[CV] START .....................................................................\n"
     ]
    },
    {
     "name": "stderr",
     "output_type": "stream",
     "text": [
      "[Parallel(n_jobs=-1)]: Done   3 out of   3 | elapsed:    8.3s remaining:    0.0s\n",
      "[Parallel(n_jobs=-1)]: Done   3 out of   3 | elapsed:    8.3s finished\n",
      "[Parallel(n_jobs=-1)]: Using backend SequentialBackend with 1 concurrent workers.\n"
     ]
    },
    {
     "name": "stdout",
     "output_type": "stream",
     "text": [
      "[CV] END ............................... score: (test=-8.870) total time=   3.6s\n",
      "[CV] START .....................................................................\n"
     ]
    },
    {
     "name": "stderr",
     "output_type": "stream",
     "text": [
      "[Parallel(n_jobs=-1)]: Done   1 out of   1 | elapsed:    3.6s remaining:    0.0s\n"
     ]
    },
    {
     "name": "stdout",
     "output_type": "stream",
     "text": [
      "[CV] END ............................... score: (test=-9.175) total time=   3.5s\n",
      "[CV] START .....................................................................\n"
     ]
    },
    {
     "name": "stderr",
     "output_type": "stream",
     "text": [
      "[Parallel(n_jobs=-1)]: Done   2 out of   2 | elapsed:    7.1s remaining:    0.0s\n"
     ]
    },
    {
     "name": "stdout",
     "output_type": "stream",
     "text": [
      "[CV] END .............................. score: (test=-12.201) total time=   3.5s\n",
      "[CV] START .....................................................................\n"
     ]
    },
    {
     "name": "stderr",
     "output_type": "stream",
     "text": [
      "[Parallel(n_jobs=-1)]: Done   3 out of   3 | elapsed:   10.6s remaining:    0.0s\n",
      "[Parallel(n_jobs=-1)]: Done   3 out of   3 | elapsed:   10.6s finished\n",
      "[Parallel(n_jobs=-1)]: Using backend SequentialBackend with 1 concurrent workers.\n"
     ]
    },
    {
     "name": "stdout",
     "output_type": "stream",
     "text": [
      "[CV] END ............................... score: (test=-8.850) total time=   4.4s\n",
      "[CV] START .....................................................................\n"
     ]
    },
    {
     "name": "stderr",
     "output_type": "stream",
     "text": [
      "[Parallel(n_jobs=-1)]: Done   1 out of   1 | elapsed:    4.4s remaining:    0.0s\n"
     ]
    },
    {
     "name": "stdout",
     "output_type": "stream",
     "text": [
      "[CV] END ............................... score: (test=-9.183) total time=   4.2s\n",
      "[CV] START .....................................................................\n"
     ]
    },
    {
     "name": "stderr",
     "output_type": "stream",
     "text": [
      "[Parallel(n_jobs=-1)]: Done   2 out of   2 | elapsed:    8.6s remaining:    0.0s\n"
     ]
    },
    {
     "name": "stdout",
     "output_type": "stream",
     "text": [
      "[CV] END .............................. score: (test=-11.997) total time=   4.3s\n",
      "[CV] START .....................................................................\n"
     ]
    },
    {
     "name": "stderr",
     "output_type": "stream",
     "text": [
      "[Parallel(n_jobs=-1)]: Done   3 out of   3 | elapsed:   12.9s remaining:    0.0s\n",
      "[Parallel(n_jobs=-1)]: Done   3 out of   3 | elapsed:   12.9s finished\n",
      "[Parallel(n_jobs=-1)]: Using backend SequentialBackend with 1 concurrent workers.\n"
     ]
    },
    {
     "name": "stdout",
     "output_type": "stream",
     "text": [
      "[CV] END ............................... score: (test=-8.859) total time=   5.0s\n",
      "[CV] START .....................................................................\n"
     ]
    },
    {
     "name": "stderr",
     "output_type": "stream",
     "text": [
      "[Parallel(n_jobs=-1)]: Done   1 out of   1 | elapsed:    5.0s remaining:    0.0s\n"
     ]
    },
    {
     "name": "stdout",
     "output_type": "stream",
     "text": [
      "[CV] END ............................... score: (test=-9.179) total time=   4.9s\n",
      "[CV] START .....................................................................\n"
     ]
    },
    {
     "name": "stderr",
     "output_type": "stream",
     "text": [
      "[Parallel(n_jobs=-1)]: Done   2 out of   2 | elapsed:    9.9s remaining:    0.0s\n"
     ]
    },
    {
     "name": "stdout",
     "output_type": "stream",
     "text": [
      "[CV] END .............................. score: (test=-11.681) total time=   5.3s\n",
      "[CV] START .....................................................................\n"
     ]
    },
    {
     "name": "stderr",
     "output_type": "stream",
     "text": [
      "[Parallel(n_jobs=-1)]: Done   3 out of   3 | elapsed:   15.2s remaining:    0.0s\n",
      "[Parallel(n_jobs=-1)]: Done   3 out of   3 | elapsed:   15.2s finished\n",
      "[Parallel(n_jobs=-1)]: Using backend SequentialBackend with 1 concurrent workers.\n"
     ]
    },
    {
     "name": "stdout",
     "output_type": "stream",
     "text": [
      "[CV] END ............................... score: (test=-8.846) total time=   5.6s\n",
      "[CV] START .....................................................................\n"
     ]
    },
    {
     "name": "stderr",
     "output_type": "stream",
     "text": [
      "[Parallel(n_jobs=-1)]: Done   1 out of   1 | elapsed:    5.6s remaining:    0.0s\n"
     ]
    },
    {
     "name": "stdout",
     "output_type": "stream",
     "text": [
      "[CV] END ............................... score: (test=-9.114) total time=   5.6s\n",
      "[CV] START .....................................................................\n"
     ]
    },
    {
     "name": "stderr",
     "output_type": "stream",
     "text": [
      "[Parallel(n_jobs=-1)]: Done   2 out of   2 | elapsed:   11.2s remaining:    0.0s\n"
     ]
    },
    {
     "name": "stdout",
     "output_type": "stream",
     "text": [
      "[CV] END .............................. score: (test=-11.612) total time=   5.7s\n",
      "[CV] START .....................................................................\n"
     ]
    },
    {
     "name": "stderr",
     "output_type": "stream",
     "text": [
      "[Parallel(n_jobs=-1)]: Done   3 out of   3 | elapsed:   16.8s remaining:    0.0s\n",
      "[Parallel(n_jobs=-1)]: Done   3 out of   3 | elapsed:   16.8s finished\n",
      "[Parallel(n_jobs=-1)]: Using backend SequentialBackend with 1 concurrent workers.\n"
     ]
    },
    {
     "name": "stdout",
     "output_type": "stream",
     "text": [
      "[CV] END ............................... score: (test=-8.971) total time=   6.2s\n",
      "[CV] START .....................................................................\n"
     ]
    },
    {
     "name": "stderr",
     "output_type": "stream",
     "text": [
      "[Parallel(n_jobs=-1)]: Done   1 out of   1 | elapsed:    6.2s remaining:    0.0s\n"
     ]
    },
    {
     "name": "stdout",
     "output_type": "stream",
     "text": [
      "[CV] END ............................... score: (test=-9.101) total time=   6.0s\n",
      "[CV] START .....................................................................\n"
     ]
    },
    {
     "name": "stderr",
     "output_type": "stream",
     "text": [
      "[Parallel(n_jobs=-1)]: Done   2 out of   2 | elapsed:   12.3s remaining:    0.0s\n"
     ]
    },
    {
     "name": "stdout",
     "output_type": "stream",
     "text": [
      "[CV] END .............................. score: (test=-11.624) total time=   6.2s\n",
      "[CV] START .....................................................................\n"
     ]
    },
    {
     "name": "stderr",
     "output_type": "stream",
     "text": [
      "[Parallel(n_jobs=-1)]: Done   3 out of   3 | elapsed:   18.5s remaining:    0.0s\n",
      "[Parallel(n_jobs=-1)]: Done   3 out of   3 | elapsed:   18.5s finished\n",
      "[Parallel(n_jobs=-1)]: Using backend SequentialBackend with 1 concurrent workers.\n"
     ]
    },
    {
     "name": "stdout",
     "output_type": "stream",
     "text": [
      "[CV] END ............................... score: (test=-9.073) total time=   6.8s\n",
      "[CV] START .....................................................................\n"
     ]
    },
    {
     "name": "stderr",
     "output_type": "stream",
     "text": [
      "[Parallel(n_jobs=-1)]: Done   1 out of   1 | elapsed:    6.8s remaining:    0.0s\n"
     ]
    },
    {
     "name": "stdout",
     "output_type": "stream",
     "text": [
      "[CV] END ............................... score: (test=-9.064) total time=   6.8s\n",
      "[CV] START .....................................................................\n"
     ]
    },
    {
     "name": "stderr",
     "output_type": "stream",
     "text": [
      "[Parallel(n_jobs=-1)]: Done   2 out of   2 | elapsed:   13.6s remaining:    0.0s\n"
     ]
    },
    {
     "name": "stdout",
     "output_type": "stream",
     "text": [
      "[CV] END .............................. score: (test=-11.511) total time=   6.8s\n",
      "[CV] START .....................................................................\n"
     ]
    },
    {
     "name": "stderr",
     "output_type": "stream",
     "text": [
      "[Parallel(n_jobs=-1)]: Done   3 out of   3 | elapsed:   20.4s remaining:    0.0s\n",
      "[Parallel(n_jobs=-1)]: Done   3 out of   3 | elapsed:   20.4s finished\n",
      "[Parallel(n_jobs=-1)]: Using backend SequentialBackend with 1 concurrent workers.\n"
     ]
    },
    {
     "name": "stdout",
     "output_type": "stream",
     "text": [
      "[CV] END ............................... score: (test=-9.122) total time=   7.4s\n",
      "[CV] START .....................................................................\n"
     ]
    },
    {
     "name": "stderr",
     "output_type": "stream",
     "text": [
      "[Parallel(n_jobs=-1)]: Done   1 out of   1 | elapsed:    7.4s remaining:    0.0s\n"
     ]
    },
    {
     "name": "stdout",
     "output_type": "stream",
     "text": [
      "[CV] END ............................... score: (test=-9.352) total time=   7.5s\n",
      "[CV] START .....................................................................\n"
     ]
    },
    {
     "name": "stderr",
     "output_type": "stream",
     "text": [
      "[Parallel(n_jobs=-1)]: Done   2 out of   2 | elapsed:   14.9s remaining:    0.0s\n"
     ]
    },
    {
     "name": "stdout",
     "output_type": "stream",
     "text": [
      "[CV] END .............................. score: (test=-11.617) total time=   7.6s\n",
      "[CV] START .....................................................................\n"
     ]
    },
    {
     "name": "stderr",
     "output_type": "stream",
     "text": [
      "[Parallel(n_jobs=-1)]: Done   3 out of   3 | elapsed:   22.5s remaining:    0.0s\n",
      "[Parallel(n_jobs=-1)]: Done   3 out of   3 | elapsed:   22.5s finished\n",
      "[Parallel(n_jobs=-1)]: Using backend SequentialBackend with 1 concurrent workers.\n"
     ]
    },
    {
     "name": "stdout",
     "output_type": "stream",
     "text": [
      "[CV] END ............................... score: (test=-9.330) total time=   1.3s\n",
      "[CV] START .....................................................................\n"
     ]
    },
    {
     "name": "stderr",
     "output_type": "stream",
     "text": [
      "[Parallel(n_jobs=-1)]: Done   1 out of   1 | elapsed:    1.3s remaining:    0.0s\n"
     ]
    },
    {
     "name": "stdout",
     "output_type": "stream",
     "text": [
      "[CV] END ............................... score: (test=-8.823) total time=   1.4s\n",
      "[CV] START .....................................................................\n"
     ]
    },
    {
     "name": "stderr",
     "output_type": "stream",
     "text": [
      "[Parallel(n_jobs=-1)]: Done   2 out of   2 | elapsed:    2.7s remaining:    0.0s\n"
     ]
    },
    {
     "name": "stdout",
     "output_type": "stream",
     "text": [
      "[CV] END .............................. score: (test=-10.076) total time=   1.3s\n",
      "[CV] START .....................................................................\n"
     ]
    },
    {
     "name": "stderr",
     "output_type": "stream",
     "text": [
      "[Parallel(n_jobs=-1)]: Done   3 out of   3 | elapsed:    4.0s remaining:    0.0s\n",
      "[Parallel(n_jobs=-1)]: Done   3 out of   3 | elapsed:    4.0s finished\n",
      "[Parallel(n_jobs=-1)]: Using backend SequentialBackend with 1 concurrent workers.\n"
     ]
    },
    {
     "name": "stdout",
     "output_type": "stream",
     "text": [
      "[CV] END ............................... score: (test=-9.273) total time=   2.5s\n",
      "[CV] START .....................................................................\n"
     ]
    },
    {
     "name": "stderr",
     "output_type": "stream",
     "text": [
      "[Parallel(n_jobs=-1)]: Done   1 out of   1 | elapsed:    2.5s remaining:    0.0s\n"
     ]
    },
    {
     "name": "stdout",
     "output_type": "stream",
     "text": [
      "[CV] END ............................... score: (test=-9.012) total time=   3.0s\n",
      "[CV] START .....................................................................\n"
     ]
    },
    {
     "name": "stderr",
     "output_type": "stream",
     "text": [
      "[Parallel(n_jobs=-1)]: Done   2 out of   2 | elapsed:    5.5s remaining:    0.0s\n"
     ]
    },
    {
     "name": "stdout",
     "output_type": "stream",
     "text": [
      "[CV] END ............................... score: (test=-9.666) total time=   2.4s\n",
      "[CV] START .....................................................................\n"
     ]
    },
    {
     "name": "stderr",
     "output_type": "stream",
     "text": [
      "[Parallel(n_jobs=-1)]: Done   3 out of   3 | elapsed:    7.9s remaining:    0.0s\n",
      "[Parallel(n_jobs=-1)]: Done   3 out of   3 | elapsed:    7.9s finished\n",
      "[Parallel(n_jobs=-1)]: Using backend SequentialBackend with 1 concurrent workers.\n"
     ]
    },
    {
     "name": "stdout",
     "output_type": "stream",
     "text": [
      "[CV] END ............................... score: (test=-9.045) total time=   3.6s\n",
      "[CV] START .....................................................................\n"
     ]
    },
    {
     "name": "stderr",
     "output_type": "stream",
     "text": [
      "[Parallel(n_jobs=-1)]: Done   1 out of   1 | elapsed:    3.6s remaining:    0.0s\n"
     ]
    },
    {
     "name": "stdout",
     "output_type": "stream",
     "text": [
      "[CV] END ............................... score: (test=-9.016) total time=   3.6s\n",
      "[CV] START .....................................................................\n"
     ]
    },
    {
     "name": "stderr",
     "output_type": "stream",
     "text": [
      "[Parallel(n_jobs=-1)]: Done   2 out of   2 | elapsed:    7.3s remaining:    0.0s\n"
     ]
    },
    {
     "name": "stdout",
     "output_type": "stream",
     "text": [
      "[CV] END .............................. score: (test=-11.704) total time=   3.7s\n",
      "[CV] START .....................................................................\n"
     ]
    },
    {
     "name": "stderr",
     "output_type": "stream",
     "text": [
      "[Parallel(n_jobs=-1)]: Done   3 out of   3 | elapsed:   10.9s remaining:    0.0s\n",
      "[Parallel(n_jobs=-1)]: Done   3 out of   3 | elapsed:   10.9s finished\n",
      "[Parallel(n_jobs=-1)]: Using backend SequentialBackend with 1 concurrent workers.\n"
     ]
    },
    {
     "name": "stdout",
     "output_type": "stream",
     "text": [
      "[CV] END ............................... score: (test=-8.880) total time=   4.7s\n",
      "[CV] START .....................................................................\n"
     ]
    },
    {
     "name": "stderr",
     "output_type": "stream",
     "text": [
      "[Parallel(n_jobs=-1)]: Done   1 out of   1 | elapsed:    4.7s remaining:    0.0s\n"
     ]
    },
    {
     "name": "stdout",
     "output_type": "stream",
     "text": [
      "[CV] END ............................... score: (test=-9.133) total time=   4.6s\n",
      "[CV] START .....................................................................\n"
     ]
    },
    {
     "name": "stderr",
     "output_type": "stream",
     "text": [
      "[Parallel(n_jobs=-1)]: Done   2 out of   2 | elapsed:    9.3s remaining:    0.0s\n"
     ]
    },
    {
     "name": "stdout",
     "output_type": "stream",
     "text": [
      "[CV] END .............................. score: (test=-12.147) total time=   4.7s\n",
      "[CV] START .....................................................................\n"
     ]
    },
    {
     "name": "stderr",
     "output_type": "stream",
     "text": [
      "[Parallel(n_jobs=-1)]: Done   3 out of   3 | elapsed:   14.0s remaining:    0.0s\n",
      "[Parallel(n_jobs=-1)]: Done   3 out of   3 | elapsed:   14.0s finished\n",
      "[Parallel(n_jobs=-1)]: Using backend SequentialBackend with 1 concurrent workers.\n"
     ]
    },
    {
     "name": "stdout",
     "output_type": "stream",
     "text": [
      "[CV] END ............................... score: (test=-8.839) total time=   5.7s\n",
      "[CV] START .....................................................................\n"
     ]
    },
    {
     "name": "stderr",
     "output_type": "stream",
     "text": [
      "[Parallel(n_jobs=-1)]: Done   1 out of   1 | elapsed:    5.7s remaining:    0.0s\n"
     ]
    },
    {
     "name": "stdout",
     "output_type": "stream",
     "text": [
      "[CV] END ............................... score: (test=-9.112) total time=   5.4s\n",
      "[CV] START .....................................................................\n"
     ]
    },
    {
     "name": "stderr",
     "output_type": "stream",
     "text": [
      "[Parallel(n_jobs=-1)]: Done   2 out of   2 | elapsed:   11.2s remaining:    0.0s\n"
     ]
    },
    {
     "name": "stdout",
     "output_type": "stream",
     "text": [
      "[CV] END .............................. score: (test=-11.844) total time=   5.6s\n",
      "[CV] START .....................................................................\n"
     ]
    },
    {
     "name": "stderr",
     "output_type": "stream",
     "text": [
      "[Parallel(n_jobs=-1)]: Done   3 out of   3 | elapsed:   16.8s remaining:    0.0s\n",
      "[Parallel(n_jobs=-1)]: Done   3 out of   3 | elapsed:   16.8s finished\n",
      "[Parallel(n_jobs=-1)]: Using backend SequentialBackend with 1 concurrent workers.\n"
     ]
    },
    {
     "name": "stdout",
     "output_type": "stream",
     "text": [
      "[CV] END ............................... score: (test=-8.871) total time=   6.5s\n",
      "[CV] START .....................................................................\n"
     ]
    },
    {
     "name": "stderr",
     "output_type": "stream",
     "text": [
      "[Parallel(n_jobs=-1)]: Done   1 out of   1 | elapsed:    6.5s remaining:    0.0s\n"
     ]
    },
    {
     "name": "stdout",
     "output_type": "stream",
     "text": [
      "[CV] END ............................... score: (test=-9.069) total time=   6.4s\n",
      "[CV] START .....................................................................\n"
     ]
    },
    {
     "name": "stderr",
     "output_type": "stream",
     "text": [
      "[Parallel(n_jobs=-1)]: Done   2 out of   2 | elapsed:   12.9s remaining:    0.0s\n"
     ]
    },
    {
     "name": "stdout",
     "output_type": "stream",
     "text": [
      "[CV] END .............................. score: (test=-11.594) total time=   6.3s\n",
      "[CV] START .....................................................................\n"
     ]
    },
    {
     "name": "stderr",
     "output_type": "stream",
     "text": [
      "[Parallel(n_jobs=-1)]: Done   3 out of   3 | elapsed:   19.2s remaining:    0.0s\n",
      "[Parallel(n_jobs=-1)]: Done   3 out of   3 | elapsed:   19.2s finished\n",
      "[Parallel(n_jobs=-1)]: Using backend SequentialBackend with 1 concurrent workers.\n"
     ]
    },
    {
     "name": "stdout",
     "output_type": "stream",
     "text": [
      "[CV] END ............................... score: (test=-8.857) total time=   7.2s\n",
      "[CV] START .....................................................................\n"
     ]
    },
    {
     "name": "stderr",
     "output_type": "stream",
     "text": [
      "[Parallel(n_jobs=-1)]: Done   1 out of   1 | elapsed:    7.2s remaining:    0.0s\n"
     ]
    },
    {
     "name": "stdout",
     "output_type": "stream",
     "text": [
      "[CV] END ............................... score: (test=-9.063) total time=   7.1s\n",
      "[CV] START .....................................................................\n"
     ]
    },
    {
     "name": "stderr",
     "output_type": "stream",
     "text": [
      "[Parallel(n_jobs=-1)]: Done   2 out of   2 | elapsed:   14.4s remaining:    0.0s\n"
     ]
    },
    {
     "name": "stdout",
     "output_type": "stream",
     "text": [
      "[CV] END .............................. score: (test=-11.514) total time=   7.2s\n",
      "[CV] START .....................................................................\n"
     ]
    },
    {
     "name": "stderr",
     "output_type": "stream",
     "text": [
      "[Parallel(n_jobs=-1)]: Done   3 out of   3 | elapsed:   21.6s remaining:    0.0s\n",
      "[Parallel(n_jobs=-1)]: Done   3 out of   3 | elapsed:   21.6s finished\n",
      "[Parallel(n_jobs=-1)]: Using backend SequentialBackend with 1 concurrent workers.\n"
     ]
    },
    {
     "name": "stdout",
     "output_type": "stream",
     "text": [
      "[CV] END ............................... score: (test=-8.939) total time=   8.1s\n",
      "[CV] START .....................................................................\n"
     ]
    },
    {
     "name": "stderr",
     "output_type": "stream",
     "text": [
      "[Parallel(n_jobs=-1)]: Done   1 out of   1 | elapsed:    8.1s remaining:    0.0s\n"
     ]
    },
    {
     "name": "stdout",
     "output_type": "stream",
     "text": [
      "[CV] END ............................... score: (test=-9.002) total time=   7.9s\n",
      "[CV] START .....................................................................\n"
     ]
    },
    {
     "name": "stderr",
     "output_type": "stream",
     "text": [
      "[Parallel(n_jobs=-1)]: Done   2 out of   2 | elapsed:   16.0s remaining:    0.0s\n"
     ]
    },
    {
     "name": "stdout",
     "output_type": "stream",
     "text": [
      "[CV] END .............................. score: (test=-11.409) total time=   8.2s\n",
      "[CV] START .....................................................................\n"
     ]
    },
    {
     "name": "stderr",
     "output_type": "stream",
     "text": [
      "[Parallel(n_jobs=-1)]: Done   3 out of   3 | elapsed:   24.2s remaining:    0.0s\n",
      "[Parallel(n_jobs=-1)]: Done   3 out of   3 | elapsed:   24.2s finished\n",
      "[Parallel(n_jobs=-1)]: Using backend SequentialBackend with 1 concurrent workers.\n"
     ]
    },
    {
     "name": "stdout",
     "output_type": "stream",
     "text": [
      "[CV] END ............................... score: (test=-9.029) total time=   9.0s\n",
      "[CV] START .....................................................................\n"
     ]
    },
    {
     "name": "stderr",
     "output_type": "stream",
     "text": [
      "[Parallel(n_jobs=-1)]: Done   1 out of   1 | elapsed:    9.0s remaining:    0.0s\n"
     ]
    },
    {
     "name": "stdout",
     "output_type": "stream",
     "text": [
      "[CV] END ............................... score: (test=-8.953) total time=   9.3s\n",
      "[CV] START .....................................................................\n"
     ]
    },
    {
     "name": "stderr",
     "output_type": "stream",
     "text": [
      "[Parallel(n_jobs=-1)]: Done   2 out of   2 | elapsed:   18.3s remaining:    0.0s\n"
     ]
    },
    {
     "name": "stdout",
     "output_type": "stream",
     "text": [
      "[CV] END .............................. score: (test=-11.351) total time=   9.0s\n",
      "[CV] START .....................................................................\n"
     ]
    },
    {
     "name": "stderr",
     "output_type": "stream",
     "text": [
      "[Parallel(n_jobs=-1)]: Done   3 out of   3 | elapsed:   27.3s remaining:    0.0s\n",
      "[Parallel(n_jobs=-1)]: Done   3 out of   3 | elapsed:   27.3s finished\n",
      "[Parallel(n_jobs=-1)]: Using backend SequentialBackend with 1 concurrent workers.\n"
     ]
    },
    {
     "name": "stdout",
     "output_type": "stream",
     "text": [
      "[CV] END ............................... score: (test=-9.063) total time=   9.6s\n",
      "[CV] START .....................................................................\n"
     ]
    },
    {
     "name": "stderr",
     "output_type": "stream",
     "text": [
      "[Parallel(n_jobs=-1)]: Done   1 out of   1 | elapsed:    9.6s remaining:    0.0s\n"
     ]
    },
    {
     "name": "stdout",
     "output_type": "stream",
     "text": [
      "[CV] END ............................... score: (test=-9.133) total time=   9.4s\n",
      "[CV] START .....................................................................\n"
     ]
    },
    {
     "name": "stderr",
     "output_type": "stream",
     "text": [
      "[Parallel(n_jobs=-1)]: Done   2 out of   2 | elapsed:   19.1s remaining:    0.0s\n"
     ]
    },
    {
     "name": "stdout",
     "output_type": "stream",
     "text": [
      "[CV] END .............................. score: (test=-11.463) total time=   9.7s\n",
      "[CV] START .....................................................................\n"
     ]
    },
    {
     "name": "stderr",
     "output_type": "stream",
     "text": [
      "[Parallel(n_jobs=-1)]: Done   3 out of   3 | elapsed:   28.8s remaining:    0.0s\n",
      "[Parallel(n_jobs=-1)]: Done   3 out of   3 | elapsed:   28.8s finished\n",
      "[Parallel(n_jobs=-1)]: Using backend SequentialBackend with 1 concurrent workers.\n"
     ]
    },
    {
     "name": "stdout",
     "output_type": "stream",
     "text": [
      "[CV] END ............................... score: (test=-9.330) total time=   1.7s\n",
      "[CV] START .....................................................................\n"
     ]
    },
    {
     "name": "stderr",
     "output_type": "stream",
     "text": [
      "[Parallel(n_jobs=-1)]: Done   1 out of   1 | elapsed:    1.7s remaining:    0.0s\n"
     ]
    },
    {
     "name": "stdout",
     "output_type": "stream",
     "text": [
      "[CV] END ............................... score: (test=-8.823) total time=   1.6s\n",
      "[CV] START .....................................................................\n"
     ]
    },
    {
     "name": "stderr",
     "output_type": "stream",
     "text": [
      "[Parallel(n_jobs=-1)]: Done   2 out of   2 | elapsed:    3.3s remaining:    0.0s\n"
     ]
    },
    {
     "name": "stdout",
     "output_type": "stream",
     "text": [
      "[CV] END .............................. score: (test=-10.076) total time=   1.6s\n",
      "[CV] START .....................................................................\n"
     ]
    },
    {
     "name": "stderr",
     "output_type": "stream",
     "text": [
      "[Parallel(n_jobs=-1)]: Done   3 out of   3 | elapsed:    4.9s remaining:    0.0s\n",
      "[Parallel(n_jobs=-1)]: Done   3 out of   3 | elapsed:    4.9s finished\n",
      "[Parallel(n_jobs=-1)]: Using backend SequentialBackend with 1 concurrent workers.\n"
     ]
    },
    {
     "name": "stdout",
     "output_type": "stream",
     "text": [
      "[CV] END ............................... score: (test=-9.262) total time=   3.0s\n",
      "[CV] START .....................................................................\n"
     ]
    },
    {
     "name": "stderr",
     "output_type": "stream",
     "text": [
      "[Parallel(n_jobs=-1)]: Done   1 out of   1 | elapsed:    3.0s remaining:    0.0s\n"
     ]
    },
    {
     "name": "stdout",
     "output_type": "stream",
     "text": [
      "[CV] END ............................... score: (test=-8.996) total time=   3.1s\n",
      "[CV] START .....................................................................\n"
     ]
    },
    {
     "name": "stderr",
     "output_type": "stream",
     "text": [
      "[Parallel(n_jobs=-1)]: Done   2 out of   2 | elapsed:    6.2s remaining:    0.0s\n"
     ]
    },
    {
     "name": "stdout",
     "output_type": "stream",
     "text": [
      "[CV] END ............................... score: (test=-9.674) total time=   3.0s\n",
      "[CV] START .....................................................................\n"
     ]
    },
    {
     "name": "stderr",
     "output_type": "stream",
     "text": [
      "[Parallel(n_jobs=-1)]: Done   3 out of   3 | elapsed:    9.1s remaining:    0.0s\n",
      "[Parallel(n_jobs=-1)]: Done   3 out of   3 | elapsed:    9.1s finished\n",
      "[Parallel(n_jobs=-1)]: Using backend SequentialBackend with 1 concurrent workers.\n"
     ]
    },
    {
     "name": "stdout",
     "output_type": "stream",
     "text": [
      "[CV] END ............................... score: (test=-9.039) total time=   4.2s\n",
      "[CV] START .....................................................................\n"
     ]
    },
    {
     "name": "stderr",
     "output_type": "stream",
     "text": [
      "[Parallel(n_jobs=-1)]: Done   1 out of   1 | elapsed:    4.2s remaining:    0.0s\n"
     ]
    },
    {
     "name": "stdout",
     "output_type": "stream",
     "text": [
      "[CV] END ............................... score: (test=-8.973) total time=   4.4s\n",
      "[CV] START .....................................................................\n"
     ]
    },
    {
     "name": "stderr",
     "output_type": "stream",
     "text": [
      "[Parallel(n_jobs=-1)]: Done   2 out of   2 | elapsed:    8.6s remaining:    0.0s\n"
     ]
    },
    {
     "name": "stdout",
     "output_type": "stream",
     "text": [
      "[CV] END .............................. score: (test=-11.710) total time=   4.4s\n",
      "[CV] START .....................................................................\n"
     ]
    },
    {
     "name": "stderr",
     "output_type": "stream",
     "text": [
      "[Parallel(n_jobs=-1)]: Done   3 out of   3 | elapsed:   13.0s remaining:    0.0s\n",
      "[Parallel(n_jobs=-1)]: Done   3 out of   3 | elapsed:   13.0s finished\n",
      "[Parallel(n_jobs=-1)]: Using backend SequentialBackend with 1 concurrent workers.\n"
     ]
    },
    {
     "name": "stdout",
     "output_type": "stream",
     "text": [
      "[CV] END ............................... score: (test=-8.848) total time=   5.7s\n",
      "[CV] START .....................................................................\n"
     ]
    },
    {
     "name": "stderr",
     "output_type": "stream",
     "text": [
      "[Parallel(n_jobs=-1)]: Done   1 out of   1 | elapsed:    5.7s remaining:    0.0s\n"
     ]
    },
    {
     "name": "stdout",
     "output_type": "stream",
     "text": [
      "[CV] END ............................... score: (test=-9.032) total time=   5.5s\n",
      "[CV] START .....................................................................\n"
     ]
    },
    {
     "name": "stderr",
     "output_type": "stream",
     "text": [
      "[Parallel(n_jobs=-1)]: Done   2 out of   2 | elapsed:   11.2s remaining:    0.0s\n"
     ]
    },
    {
     "name": "stdout",
     "output_type": "stream",
     "text": [
      "[CV] END .............................. score: (test=-12.201) total time=   5.6s\n",
      "[CV] START .....................................................................\n"
     ]
    },
    {
     "name": "stderr",
     "output_type": "stream",
     "text": [
      "[Parallel(n_jobs=-1)]: Done   3 out of   3 | elapsed:   16.8s remaining:    0.0s\n",
      "[Parallel(n_jobs=-1)]: Done   3 out of   3 | elapsed:   16.8s finished\n",
      "[Parallel(n_jobs=-1)]: Using backend SequentialBackend with 1 concurrent workers.\n"
     ]
    },
    {
     "name": "stdout",
     "output_type": "stream",
     "text": [
      "[CV] END ............................... score: (test=-8.817) total time=   6.8s\n",
      "[CV] START .....................................................................\n"
     ]
    },
    {
     "name": "stderr",
     "output_type": "stream",
     "text": [
      "[Parallel(n_jobs=-1)]: Done   1 out of   1 | elapsed:    6.8s remaining:    0.0s\n"
     ]
    },
    {
     "name": "stdout",
     "output_type": "stream",
     "text": [
      "[CV] END ............................... score: (test=-9.064) total time=   6.7s\n",
      "[CV] START .....................................................................\n"
     ]
    },
    {
     "name": "stderr",
     "output_type": "stream",
     "text": [
      "[Parallel(n_jobs=-1)]: Done   2 out of   2 | elapsed:   13.5s remaining:    0.0s\n"
     ]
    },
    {
     "name": "stdout",
     "output_type": "stream",
     "text": [
      "[CV] END .............................. score: (test=-11.832) total time=   6.9s\n",
      "[CV] START .....................................................................\n"
     ]
    },
    {
     "name": "stderr",
     "output_type": "stream",
     "text": [
      "[Parallel(n_jobs=-1)]: Done   3 out of   3 | elapsed:   20.4s remaining:    0.0s\n",
      "[Parallel(n_jobs=-1)]: Done   3 out of   3 | elapsed:   20.4s finished\n",
      "[Parallel(n_jobs=-1)]: Using backend SequentialBackend with 1 concurrent workers.\n"
     ]
    },
    {
     "name": "stdout",
     "output_type": "stream",
     "text": [
      "[CV] END ............................... score: (test=-8.838) total time=   7.8s\n",
      "[CV] START .....................................................................\n"
     ]
    },
    {
     "name": "stderr",
     "output_type": "stream",
     "text": [
      "[Parallel(n_jobs=-1)]: Done   1 out of   1 | elapsed:    7.8s remaining:    0.0s\n"
     ]
    },
    {
     "name": "stdout",
     "output_type": "stream",
     "text": [
      "[CV] END ............................... score: (test=-8.987) total time=   8.2s\n",
      "[CV] START .....................................................................\n"
     ]
    },
    {
     "name": "stderr",
     "output_type": "stream",
     "text": [
      "[Parallel(n_jobs=-1)]: Done   2 out of   2 | elapsed:   16.1s remaining:    0.0s\n"
     ]
    },
    {
     "name": "stdout",
     "output_type": "stream",
     "text": [
      "[CV] END .............................. score: (test=-11.630) total time=   7.9s\n",
      "[CV] START .....................................................................\n"
     ]
    },
    {
     "name": "stderr",
     "output_type": "stream",
     "text": [
      "[Parallel(n_jobs=-1)]: Done   3 out of   3 | elapsed:   24.0s remaining:    0.0s\n",
      "[Parallel(n_jobs=-1)]: Done   3 out of   3 | elapsed:   24.0s finished\n",
      "[Parallel(n_jobs=-1)]: Using backend SequentialBackend with 1 concurrent workers.\n"
     ]
    },
    {
     "name": "stdout",
     "output_type": "stream",
     "text": [
      "[CV] END ............................... score: (test=-8.857) total time=   8.9s\n",
      "[CV] START .....................................................................\n"
     ]
    },
    {
     "name": "stderr",
     "output_type": "stream",
     "text": [
      "[Parallel(n_jobs=-1)]: Done   1 out of   1 | elapsed:    8.9s remaining:    0.0s\n"
     ]
    },
    {
     "name": "stdout",
     "output_type": "stream",
     "text": [
      "[CV] END ............................... score: (test=-8.914) total time=   8.7s\n",
      "[CV] START .....................................................................\n"
     ]
    },
    {
     "name": "stderr",
     "output_type": "stream",
     "text": [
      "[Parallel(n_jobs=-1)]: Done   2 out of   2 | elapsed:   17.7s remaining:    0.0s\n"
     ]
    },
    {
     "name": "stdout",
     "output_type": "stream",
     "text": [
      "[CV] END .............................. score: (test=-11.471) total time=   9.1s\n",
      "[CV] START .....................................................................\n"
     ]
    },
    {
     "name": "stderr",
     "output_type": "stream",
     "text": [
      "[Parallel(n_jobs=-1)]: Done   3 out of   3 | elapsed:   26.7s remaining:    0.0s\n",
      "[Parallel(n_jobs=-1)]: Done   3 out of   3 | elapsed:   26.7s finished\n",
      "[Parallel(n_jobs=-1)]: Using backend SequentialBackend with 1 concurrent workers.\n"
     ]
    },
    {
     "name": "stdout",
     "output_type": "stream",
     "text": [
      "[CV] END ............................... score: (test=-8.910) total time=  10.2s\n",
      "[CV] START .....................................................................\n"
     ]
    },
    {
     "name": "stderr",
     "output_type": "stream",
     "text": [
      "[Parallel(n_jobs=-1)]: Done   1 out of   1 | elapsed:   10.2s remaining:    0.0s\n"
     ]
    },
    {
     "name": "stdout",
     "output_type": "stream",
     "text": [
      "[CV] END ............................... score: (test=-8.869) total time=   9.7s\n",
      "[CV] START .....................................................................\n"
     ]
    },
    {
     "name": "stderr",
     "output_type": "stream",
     "text": [
      "[Parallel(n_jobs=-1)]: Done   2 out of   2 | elapsed:   19.9s remaining:    0.0s\n"
     ]
    },
    {
     "name": "stdout",
     "output_type": "stream",
     "text": [
      "[CV] END .............................. score: (test=-11.483) total time=  10.1s\n",
      "[CV] START .....................................................................\n"
     ]
    },
    {
     "name": "stderr",
     "output_type": "stream",
     "text": [
      "[Parallel(n_jobs=-1)]: Done   3 out of   3 | elapsed:   30.0s remaining:    0.0s\n",
      "[Parallel(n_jobs=-1)]: Done   3 out of   3 | elapsed:   30.0s finished\n",
      "[Parallel(n_jobs=-1)]: Using backend SequentialBackend with 1 concurrent workers.\n"
     ]
    },
    {
     "name": "stdout",
     "output_type": "stream",
     "text": [
      "[CV] END ............................... score: (test=-9.009) total time=  11.2s\n",
      "[CV] START .....................................................................\n"
     ]
    },
    {
     "name": "stderr",
     "output_type": "stream",
     "text": [
      "[Parallel(n_jobs=-1)]: Done   1 out of   1 | elapsed:   11.2s remaining:    0.0s\n"
     ]
    },
    {
     "name": "stdout",
     "output_type": "stream",
     "text": [
      "[CV] END ............................... score: (test=-8.802) total time=  10.8s\n",
      "[CV] START .....................................................................\n"
     ]
    },
    {
     "name": "stderr",
     "output_type": "stream",
     "text": [
      "[Parallel(n_jobs=-1)]: Done   2 out of   2 | elapsed:   22.0s remaining:    0.0s\n"
     ]
    },
    {
     "name": "stdout",
     "output_type": "stream",
     "text": [
      "[CV] END .............................. score: (test=-11.351) total time=  11.1s\n",
      "[CV] START .....................................................................\n"
     ]
    },
    {
     "name": "stderr",
     "output_type": "stream",
     "text": [
      "[Parallel(n_jobs=-1)]: Done   3 out of   3 | elapsed:   33.1s remaining:    0.0s\n",
      "[Parallel(n_jobs=-1)]: Done   3 out of   3 | elapsed:   33.1s finished\n",
      "[Parallel(n_jobs=-1)]: Using backend SequentialBackend with 1 concurrent workers.\n"
     ]
    },
    {
     "name": "stdout",
     "output_type": "stream",
     "text": [
      "[CV] END ............................... score: (test=-9.058) total time=  12.1s\n",
      "[CV] START .....................................................................\n"
     ]
    },
    {
     "name": "stderr",
     "output_type": "stream",
     "text": [
      "[Parallel(n_jobs=-1)]: Done   1 out of   1 | elapsed:   12.1s remaining:    0.0s\n"
     ]
    },
    {
     "name": "stdout",
     "output_type": "stream",
     "text": [
      "[CV] END ............................... score: (test=-8.986) total time=  12.0s\n",
      "[CV] START .....................................................................\n"
     ]
    },
    {
     "name": "stderr",
     "output_type": "stream",
     "text": [
      "[Parallel(n_jobs=-1)]: Done   2 out of   2 | elapsed:   24.1s remaining:    0.0s\n"
     ]
    },
    {
     "name": "stdout",
     "output_type": "stream",
     "text": [
      "[CV] END .............................. score: (test=-11.463) total time=  12.1s\n",
      "sMAPE final: 9.310863410074996 Глубина дерева: 2 Estimators: 50\n"
     ]
    },
    {
     "name": "stderr",
     "output_type": "stream",
     "text": [
      "[Parallel(n_jobs=-1)]: Done   3 out of   3 | elapsed:   36.2s remaining:    0.0s\n",
      "[Parallel(n_jobs=-1)]: Done   3 out of   3 | elapsed:   36.2s finished\n"
     ]
    }
   ],
   "source": [
    "best_result_f = 100\n",
    "best_est_f = 0\n",
    "best_depth_f = 0\n",
    "for est_f in range(10, 51, 10):\n",
    "    for depth_f in range (1, 11):\n",
    "        model_rf_final = RandomForestRegressor(random_state=12345, n_estimators=est_f, max_depth=depth_f)\n",
    "        smape_final = cross_val_score(model_rf_final, features_train, target_train_final, scoring=smape_scorer, cv=3, \\\n",
    "                                     n_jobs=-1, verbose=10)\n",
    "        result_f = abs(smape_final.mean())\n",
    "        if result_f < best_result_f:\n",
    "            best_result_f = result_f\n",
    "            best_est_f = est_f\n",
    "            best_depth_f = depth_f\n",
    "\n",
    "print(\"sMAPE final:\", best_result_f, \"Глубина дерева:\", best_depth_f, \"Estimators:\", best_est_f)"
   ]
  },
  {
   "cell_type": "markdown",
   "metadata": {},
   "source": [
    "Посчитаю суммарную sMAPE, основанную на 2 предсказаниях таргетов:"
   ]
  },
  {
   "cell_type": "code",
   "execution_count": 44,
   "metadata": {
    "scrolled": false
   },
   "outputs": [
    {
     "name": "stdout",
     "output_type": "stream",
     "text": [
      "Summary sMAPE: 8.58850443989385\n"
     ]
    }
   ],
   "source": [
    "result_smape = sum_smape(best_result_r, best_result_f)\n",
    "print('Summary sMAPE:', result_smape)"
   ]
  },
  {
   "cell_type": "markdown",
   "metadata": {},
   "source": [
    "### Обучение и проверка модели DecisionTreeRegressor:"
   ]
  },
  {
   "cell_type": "markdown",
   "metadata": {},
   "source": [
    "Сначала получу sMAPE для модели, основанной на предсказании **rougher.output.recovery**."
   ]
  },
  {
   "cell_type": "code",
   "execution_count": 45,
   "metadata": {},
   "outputs": [
    {
     "name": "stderr",
     "output_type": "stream",
     "text": [
      "[Parallel(n_jobs=-1)]: Using backend SequentialBackend with 1 concurrent workers.\n",
      "[Parallel(n_jobs=-1)]: Done   1 out of   1 | elapsed:    0.1s remaining:    0.0s\n",
      "[Parallel(n_jobs=-1)]: Done   2 out of   2 | elapsed:    0.1s remaining:    0.0s\n",
      "[Parallel(n_jobs=-1)]: Done   3 out of   3 | elapsed:    0.2s remaining:    0.0s\n",
      "[Parallel(n_jobs=-1)]: Done   3 out of   3 | elapsed:    0.2s finished\n",
      "[Parallel(n_jobs=-1)]: Using backend SequentialBackend with 1 concurrent workers.\n"
     ]
    },
    {
     "name": "stdout",
     "output_type": "stream",
     "text": [
      "[CV] START .....................................................................\n",
      "[CV] END ............................... score: (test=-9.028) total time=   0.1s\n",
      "[CV] START .....................................................................\n",
      "[CV] END ............................... score: (test=-5.060) total time=   0.1s\n",
      "[CV] START .....................................................................\n",
      "[CV] END ............................... score: (test=-7.899) total time=   0.1s\n",
      "[CV] START .....................................................................\n",
      "[CV] END ............................... score: (test=-8.438) total time=   0.1s\n",
      "[CV] START .....................................................................\n",
      "[CV] END ............................... score: (test=-4.810) total time=   0.1s\n",
      "[CV] START .....................................................................\n"
     ]
    },
    {
     "name": "stderr",
     "output_type": "stream",
     "text": [
      "[Parallel(n_jobs=-1)]: Done   1 out of   1 | elapsed:    0.1s remaining:    0.0s\n",
      "[Parallel(n_jobs=-1)]: Done   2 out of   2 | elapsed:    0.2s remaining:    0.0s\n"
     ]
    },
    {
     "name": "stdout",
     "output_type": "stream",
     "text": [
      "[CV] END ............................... score: (test=-6.894) total time=   0.1s\n",
      "[CV] START .....................................................................\n",
      "[CV] END ............................... score: (test=-8.129) total time=   0.1s\n",
      "[CV] START .....................................................................\n"
     ]
    },
    {
     "name": "stderr",
     "output_type": "stream",
     "text": [
      "[Parallel(n_jobs=-1)]: Done   3 out of   3 | elapsed:    0.3s remaining:    0.0s\n",
      "[Parallel(n_jobs=-1)]: Done   3 out of   3 | elapsed:    0.3s finished\n",
      "[Parallel(n_jobs=-1)]: Using backend SequentialBackend with 1 concurrent workers.\n",
      "[Parallel(n_jobs=-1)]: Done   1 out of   1 | elapsed:    0.1s remaining:    0.0s\n"
     ]
    },
    {
     "name": "stdout",
     "output_type": "stream",
     "text": [
      "[CV] END ............................... score: (test=-5.158) total time=   0.2s\n",
      "[CV] START .....................................................................\n",
      "[CV] END ............................... score: (test=-8.210) total time=   0.1s\n",
      "[CV] START .....................................................................\n"
     ]
    },
    {
     "name": "stderr",
     "output_type": "stream",
     "text": [
      "[Parallel(n_jobs=-1)]: Done   2 out of   2 | elapsed:    0.3s remaining:    0.0s\n",
      "[Parallel(n_jobs=-1)]: Done   3 out of   3 | elapsed:    0.4s remaining:    0.0s\n",
      "[Parallel(n_jobs=-1)]: Done   3 out of   3 | elapsed:    0.4s finished\n",
      "[Parallel(n_jobs=-1)]: Using backend SequentialBackend with 1 concurrent workers.\n"
     ]
    },
    {
     "name": "stdout",
     "output_type": "stream",
     "text": [
      "[CV] END ............................... score: (test=-7.871) total time=   0.2s\n",
      "[CV] START .....................................................................\n",
      "[CV] END ............................... score: (test=-5.508) total time=   0.2s\n",
      "[CV] START .....................................................................\n"
     ]
    },
    {
     "name": "stderr",
     "output_type": "stream",
     "text": [
      "[Parallel(n_jobs=-1)]: Done   1 out of   1 | elapsed:    0.2s remaining:    0.0s\n",
      "[Parallel(n_jobs=-1)]: Done   2 out of   2 | elapsed:    0.4s remaining:    0.0s\n"
     ]
    },
    {
     "name": "stdout",
     "output_type": "stream",
     "text": [
      "[CV] END ............................... score: (test=-6.966) total time=   0.2s\n",
      "[CV] START .....................................................................\n"
     ]
    },
    {
     "name": "stderr",
     "output_type": "stream",
     "text": [
      "[Parallel(n_jobs=-1)]: Done   3 out of   3 | elapsed:    0.6s remaining:    0.0s\n",
      "[Parallel(n_jobs=-1)]: Done   3 out of   3 | elapsed:    0.6s finished\n",
      "[Parallel(n_jobs=-1)]: Using backend SequentialBackend with 1 concurrent workers.\n"
     ]
    },
    {
     "name": "stdout",
     "output_type": "stream",
     "text": [
      "[CV] END ............................... score: (test=-7.902) total time=   0.2s\n",
      "[CV] START .....................................................................\n"
     ]
    },
    {
     "name": "stderr",
     "output_type": "stream",
     "text": [
      "[Parallel(n_jobs=-1)]: Done   1 out of   1 | elapsed:    0.2s remaining:    0.0s\n"
     ]
    },
    {
     "name": "stdout",
     "output_type": "stream",
     "text": [
      "[CV] END ............................... score: (test=-4.972) total time=   0.2s\n",
      "[CV] START .....................................................................\n"
     ]
    },
    {
     "name": "stderr",
     "output_type": "stream",
     "text": [
      "[Parallel(n_jobs=-1)]: Done   2 out of   2 | elapsed:    0.5s remaining:    0.0s\n"
     ]
    },
    {
     "name": "stdout",
     "output_type": "stream",
     "text": [
      "[CV] END ............................... score: (test=-7.077) total time=   0.2s\n",
      "[CV] START .....................................................................\n"
     ]
    },
    {
     "name": "stderr",
     "output_type": "stream",
     "text": [
      "[Parallel(n_jobs=-1)]: Done   3 out of   3 | elapsed:    0.7s remaining:    0.0s\n",
      "[Parallel(n_jobs=-1)]: Done   3 out of   3 | elapsed:    0.7s finished\n",
      "[Parallel(n_jobs=-1)]: Using backend SequentialBackend with 1 concurrent workers.\n"
     ]
    },
    {
     "name": "stdout",
     "output_type": "stream",
     "text": [
      "[CV] END ............................... score: (test=-8.299) total time=   0.3s\n",
      "[CV] START .....................................................................\n"
     ]
    },
    {
     "name": "stderr",
     "output_type": "stream",
     "text": [
      "[Parallel(n_jobs=-1)]: Done   1 out of   1 | elapsed:    0.3s remaining:    0.0s\n"
     ]
    },
    {
     "name": "stdout",
     "output_type": "stream",
     "text": [
      "[CV] END ............................... score: (test=-5.790) total time=   0.3s\n",
      "[CV] START .....................................................................\n"
     ]
    },
    {
     "name": "stderr",
     "output_type": "stream",
     "text": [
      "[Parallel(n_jobs=-1)]: Done   2 out of   2 | elapsed:    0.6s remaining:    0.0s\n"
     ]
    },
    {
     "name": "stdout",
     "output_type": "stream",
     "text": [
      "[CV] END ............................... score: (test=-7.253) total time=   0.3s\n",
      "[CV] START .....................................................................\n"
     ]
    },
    {
     "name": "stderr",
     "output_type": "stream",
     "text": [
      "[Parallel(n_jobs=-1)]: Done   3 out of   3 | elapsed:    0.9s remaining:    0.0s\n",
      "[Parallel(n_jobs=-1)]: Done   3 out of   3 | elapsed:    0.9s finished\n",
      "[Parallel(n_jobs=-1)]: Using backend SequentialBackend with 1 concurrent workers.\n"
     ]
    },
    {
     "name": "stdout",
     "output_type": "stream",
     "text": [
      "[CV] END ............................... score: (test=-8.409) total time=   0.3s\n",
      "[CV] START .....................................................................\n"
     ]
    },
    {
     "name": "stderr",
     "output_type": "stream",
     "text": [
      "[Parallel(n_jobs=-1)]: Done   1 out of   1 | elapsed:    0.3s remaining:    0.0s\n"
     ]
    },
    {
     "name": "stdout",
     "output_type": "stream",
     "text": [
      "[CV] END ............................... score: (test=-5.474) total time=   0.3s\n",
      "[CV] START .....................................................................\n"
     ]
    },
    {
     "name": "stderr",
     "output_type": "stream",
     "text": [
      "[Parallel(n_jobs=-1)]: Done   2 out of   2 | elapsed:    0.6s remaining:    0.0s\n"
     ]
    },
    {
     "name": "stdout",
     "output_type": "stream",
     "text": [
      "[CV] END ............................... score: (test=-7.469) total time=   0.3s\n",
      "[CV] START .....................................................................\n"
     ]
    },
    {
     "name": "stderr",
     "output_type": "stream",
     "text": [
      "[Parallel(n_jobs=-1)]: Done   3 out of   3 | elapsed:    0.9s remaining:    0.0s\n",
      "[Parallel(n_jobs=-1)]: Done   3 out of   3 | elapsed:    0.9s finished\n",
      "[Parallel(n_jobs=-1)]: Using backend SequentialBackend with 1 concurrent workers.\n"
     ]
    },
    {
     "name": "stdout",
     "output_type": "stream",
     "text": [
      "[CV] END ............................... score: (test=-9.352) total time=   0.3s\n",
      "[CV] START .....................................................................\n"
     ]
    },
    {
     "name": "stderr",
     "output_type": "stream",
     "text": [
      "[Parallel(n_jobs=-1)]: Done   1 out of   1 | elapsed:    0.3s remaining:    0.0s\n"
     ]
    },
    {
     "name": "stdout",
     "output_type": "stream",
     "text": [
      "[CV] END ............................... score: (test=-5.957) total time=   0.3s\n",
      "[CV] START .....................................................................\n"
     ]
    },
    {
     "name": "stderr",
     "output_type": "stream",
     "text": [
      "[Parallel(n_jobs=-1)]: Done   2 out of   2 | elapsed:    0.7s remaining:    0.0s\n"
     ]
    },
    {
     "name": "stdout",
     "output_type": "stream",
     "text": [
      "[CV] END ............................... score: (test=-7.501) total time=   0.3s\n",
      "[CV] START .....................................................................\n"
     ]
    },
    {
     "name": "stderr",
     "output_type": "stream",
     "text": [
      "[Parallel(n_jobs=-1)]: Done   3 out of   3 | elapsed:    1.0s remaining:    0.0s\n",
      "[Parallel(n_jobs=-1)]: Done   3 out of   3 | elapsed:    1.0s finished\n",
      "[Parallel(n_jobs=-1)]: Using backend SequentialBackend with 1 concurrent workers.\n"
     ]
    },
    {
     "name": "stdout",
     "output_type": "stream",
     "text": [
      "[CV] END ............................... score: (test=-9.538) total time=   0.4s\n",
      "[CV] START .....................................................................\n"
     ]
    },
    {
     "name": "stderr",
     "output_type": "stream",
     "text": [
      "[Parallel(n_jobs=-1)]: Done   1 out of   1 | elapsed:    0.4s remaining:    0.0s\n"
     ]
    },
    {
     "name": "stdout",
     "output_type": "stream",
     "text": [
      "[CV] END ............................... score: (test=-5.912) total time=   0.4s\n",
      "[CV] START .....................................................................\n"
     ]
    },
    {
     "name": "stderr",
     "output_type": "stream",
     "text": [
      "[Parallel(n_jobs=-1)]: Done   2 out of   2 | elapsed:    0.8s remaining:    0.0s\n"
     ]
    },
    {
     "name": "stdout",
     "output_type": "stream",
     "text": [
      "[CV] END ............................... score: (test=-8.074) total time=   0.4s\n",
      "[CV] START .....................................................................\n"
     ]
    },
    {
     "name": "stderr",
     "output_type": "stream",
     "text": [
      "[Parallel(n_jobs=-1)]: Done   3 out of   3 | elapsed:    1.1s remaining:    0.0s\n",
      "[Parallel(n_jobs=-1)]: Done   3 out of   3 | elapsed:    1.1s finished\n",
      "[Parallel(n_jobs=-1)]: Using backend SequentialBackend with 1 concurrent workers.\n"
     ]
    },
    {
     "name": "stdout",
     "output_type": "stream",
     "text": [
      "[CV] END .............................. score: (test=-10.187) total time=   0.5s\n",
      "[CV] START .....................................................................\n"
     ]
    },
    {
     "name": "stderr",
     "output_type": "stream",
     "text": [
      "[Parallel(n_jobs=-1)]: Done   1 out of   1 | elapsed:    0.5s remaining:    0.0s\n"
     ]
    },
    {
     "name": "stdout",
     "output_type": "stream",
     "text": [
      "[CV] END ............................... score: (test=-6.566) total time=   0.4s\n",
      "[CV] START .....................................................................\n"
     ]
    },
    {
     "name": "stderr",
     "output_type": "stream",
     "text": [
      "[Parallel(n_jobs=-1)]: Done   2 out of   2 | elapsed:    0.9s remaining:    0.0s\n"
     ]
    },
    {
     "name": "stdout",
     "output_type": "stream",
     "text": [
      "[CV] END ............................... score: (test=-8.867) total time=   0.4s\n",
      "[CV] START .....................................................................\n"
     ]
    },
    {
     "name": "stderr",
     "output_type": "stream",
     "text": [
      "[Parallel(n_jobs=-1)]: Done   3 out of   3 | elapsed:    1.3s remaining:    0.0s\n",
      "[Parallel(n_jobs=-1)]: Done   3 out of   3 | elapsed:    1.3s finished\n",
      "[Parallel(n_jobs=-1)]: Using backend SequentialBackend with 1 concurrent workers.\n"
     ]
    },
    {
     "name": "stdout",
     "output_type": "stream",
     "text": [
      "[CV] END ............................... score: (test=-9.326) total time=   0.4s\n",
      "[CV] START .....................................................................\n"
     ]
    },
    {
     "name": "stderr",
     "output_type": "stream",
     "text": [
      "[Parallel(n_jobs=-1)]: Done   1 out of   1 | elapsed:    0.4s remaining:    0.0s\n"
     ]
    },
    {
     "name": "stdout",
     "output_type": "stream",
     "text": [
      "[CV] END ............................... score: (test=-7.297) total time=   0.4s\n",
      "[CV] START .....................................................................\n"
     ]
    },
    {
     "name": "stderr",
     "output_type": "stream",
     "text": [
      "[Parallel(n_jobs=-1)]: Done   2 out of   2 | elapsed:    0.8s remaining:    0.0s\n"
     ]
    },
    {
     "name": "stdout",
     "output_type": "stream",
     "text": [
      "[CV] END ............................... score: (test=-8.226) total time=   0.4s\n",
      "[CV] START .....................................................................\n"
     ]
    },
    {
     "name": "stderr",
     "output_type": "stream",
     "text": [
      "[Parallel(n_jobs=-1)]: Done   3 out of   3 | elapsed:    1.3s remaining:    0.0s\n",
      "[Parallel(n_jobs=-1)]: Done   3 out of   3 | elapsed:    1.3s finished\n",
      "[Parallel(n_jobs=-1)]: Using backend SequentialBackend with 1 concurrent workers.\n"
     ]
    },
    {
     "name": "stdout",
     "output_type": "stream",
     "text": [
      "[CV] END ............................... score: (test=-9.810) total time=   0.4s\n",
      "[CV] START .....................................................................\n"
     ]
    },
    {
     "name": "stderr",
     "output_type": "stream",
     "text": [
      "[Parallel(n_jobs=-1)]: Done   1 out of   1 | elapsed:    0.4s remaining:    0.0s\n"
     ]
    },
    {
     "name": "stdout",
     "output_type": "stream",
     "text": [
      "[CV] END ............................... score: (test=-7.299) total time=   0.5s\n",
      "[CV] START .....................................................................\n"
     ]
    },
    {
     "name": "stderr",
     "output_type": "stream",
     "text": [
      "[Parallel(n_jobs=-1)]: Done   2 out of   2 | elapsed:    0.9s remaining:    0.0s\n"
     ]
    },
    {
     "name": "stdout",
     "output_type": "stream",
     "text": [
      "[CV] END ............................... score: (test=-8.206) total time=   0.5s\n",
      "[CV] START .....................................................................\n"
     ]
    },
    {
     "name": "stderr",
     "output_type": "stream",
     "text": [
      "[Parallel(n_jobs=-1)]: Done   3 out of   3 | elapsed:    1.4s remaining:    0.0s\n",
      "[Parallel(n_jobs=-1)]: Done   3 out of   3 | elapsed:    1.4s finished\n",
      "[Parallel(n_jobs=-1)]: Using backend SequentialBackend with 1 concurrent workers.\n"
     ]
    },
    {
     "name": "stdout",
     "output_type": "stream",
     "text": [
      "[CV] END ............................... score: (test=-9.128) total time=   0.5s\n",
      "[CV] START .....................................................................\n"
     ]
    },
    {
     "name": "stderr",
     "output_type": "stream",
     "text": [
      "[Parallel(n_jobs=-1)]: Done   1 out of   1 | elapsed:    0.5s remaining:    0.0s\n"
     ]
    },
    {
     "name": "stdout",
     "output_type": "stream",
     "text": [
      "[CV] END ............................... score: (test=-7.368) total time=   0.5s\n",
      "[CV] START .....................................................................\n"
     ]
    },
    {
     "name": "stderr",
     "output_type": "stream",
     "text": [
      "[Parallel(n_jobs=-1)]: Done   2 out of   2 | elapsed:    1.0s remaining:    0.0s\n"
     ]
    },
    {
     "name": "stdout",
     "output_type": "stream",
     "text": [
      "[CV] END ............................... score: (test=-9.377) total time=   0.5s\n",
      "[CV] START .....................................................................\n"
     ]
    },
    {
     "name": "stderr",
     "output_type": "stream",
     "text": [
      "[Parallel(n_jobs=-1)]: Done   3 out of   3 | elapsed:    1.5s remaining:    0.0s\n",
      "[Parallel(n_jobs=-1)]: Done   3 out of   3 | elapsed:    1.5s finished\n",
      "[Parallel(n_jobs=-1)]: Using backend SequentialBackend with 1 concurrent workers.\n"
     ]
    },
    {
     "name": "stdout",
     "output_type": "stream",
     "text": [
      "[CV] END ............................... score: (test=-9.903) total time=   0.5s\n",
      "[CV] START .....................................................................\n"
     ]
    },
    {
     "name": "stderr",
     "output_type": "stream",
     "text": [
      "[Parallel(n_jobs=-1)]: Done   1 out of   1 | elapsed:    0.5s remaining:    0.0s\n"
     ]
    },
    {
     "name": "stdout",
     "output_type": "stream",
     "text": [
      "[CV] END ............................... score: (test=-6.885) total time=   0.5s\n",
      "[CV] START .....................................................................\n"
     ]
    },
    {
     "name": "stderr",
     "output_type": "stream",
     "text": [
      "[Parallel(n_jobs=-1)]: Done   2 out of   2 | elapsed:    1.0s remaining:    0.0s\n"
     ]
    },
    {
     "name": "stdout",
     "output_type": "stream",
     "text": [
      "[CV] END ............................... score: (test=-8.024) total time=   0.5s\n",
      "[CV] START .....................................................................\n"
     ]
    },
    {
     "name": "stderr",
     "output_type": "stream",
     "text": [
      "[Parallel(n_jobs=-1)]: Done   3 out of   3 | elapsed:    1.6s remaining:    0.0s\n",
      "[Parallel(n_jobs=-1)]: Done   3 out of   3 | elapsed:    1.6s finished\n",
      "[Parallel(n_jobs=-1)]: Using backend SequentialBackend with 1 concurrent workers.\n"
     ]
    },
    {
     "name": "stdout",
     "output_type": "stream",
     "text": [
      "[CV] END .............................. score: (test=-11.282) total time=   0.5s\n",
      "[CV] START .....................................................................\n"
     ]
    },
    {
     "name": "stderr",
     "output_type": "stream",
     "text": [
      "[Parallel(n_jobs=-1)]: Done   1 out of   1 | elapsed:    0.5s remaining:    0.0s\n"
     ]
    },
    {
     "name": "stdout",
     "output_type": "stream",
     "text": [
      "[CV] END ............................... score: (test=-6.826) total time=   0.5s\n",
      "[CV] START .....................................................................\n"
     ]
    },
    {
     "name": "stderr",
     "output_type": "stream",
     "text": [
      "[Parallel(n_jobs=-1)]: Done   2 out of   2 | elapsed:    1.1s remaining:    0.0s\n"
     ]
    },
    {
     "name": "stdout",
     "output_type": "stream",
     "text": [
      "[CV] END ............................... score: (test=-8.344) total time=   0.5s\n",
      "[CV] START .....................................................................\n"
     ]
    },
    {
     "name": "stderr",
     "output_type": "stream",
     "text": [
      "[Parallel(n_jobs=-1)]: Done   3 out of   3 | elapsed:    1.6s remaining:    0.0s\n",
      "[Parallel(n_jobs=-1)]: Done   3 out of   3 | elapsed:    1.6s finished\n",
      "[Parallel(n_jobs=-1)]: Using backend SequentialBackend with 1 concurrent workers.\n"
     ]
    },
    {
     "name": "stdout",
     "output_type": "stream",
     "text": [
      "[CV] END .............................. score: (test=-12.596) total time=   0.5s\n",
      "[CV] START .....................................................................\n"
     ]
    },
    {
     "name": "stderr",
     "output_type": "stream",
     "text": [
      "[Parallel(n_jobs=-1)]: Done   1 out of   1 | elapsed:    0.5s remaining:    0.0s\n"
     ]
    },
    {
     "name": "stdout",
     "output_type": "stream",
     "text": [
      "[CV] END ............................... score: (test=-7.170) total time=   0.5s\n",
      "[CV] START .....................................................................\n"
     ]
    },
    {
     "name": "stderr",
     "output_type": "stream",
     "text": [
      "[Parallel(n_jobs=-1)]: Done   2 out of   2 | elapsed:    1.1s remaining:    0.0s\n"
     ]
    },
    {
     "name": "stdout",
     "output_type": "stream",
     "text": [
      "[CV] END ............................... score: (test=-9.433) total time=   0.6s\n",
      "[CV] START .....................................................................\n"
     ]
    },
    {
     "name": "stderr",
     "output_type": "stream",
     "text": [
      "[Parallel(n_jobs=-1)]: Done   3 out of   3 | elapsed:    1.6s remaining:    0.0s\n",
      "[Parallel(n_jobs=-1)]: Done   3 out of   3 | elapsed:    1.6s finished\n",
      "[Parallel(n_jobs=-1)]: Using backend SequentialBackend with 1 concurrent workers.\n"
     ]
    },
    {
     "name": "stdout",
     "output_type": "stream",
     "text": [
      "[CV] END .............................. score: (test=-12.547) total time=   0.6s\n",
      "[CV] START .....................................................................\n"
     ]
    },
    {
     "name": "stderr",
     "output_type": "stream",
     "text": [
      "[Parallel(n_jobs=-1)]: Done   1 out of   1 | elapsed:    0.6s remaining:    0.0s\n"
     ]
    },
    {
     "name": "stdout",
     "output_type": "stream",
     "text": [
      "[CV] END ............................... score: (test=-7.091) total time=   0.6s\n",
      "[CV] START .....................................................................\n"
     ]
    },
    {
     "name": "stderr",
     "output_type": "stream",
     "text": [
      "[Parallel(n_jobs=-1)]: Done   2 out of   2 | elapsed:    1.2s remaining:    0.0s\n"
     ]
    },
    {
     "name": "stdout",
     "output_type": "stream",
     "text": [
      "[CV] END ............................... score: (test=-8.757) total time=   0.6s\n",
      "[CV] START .....................................................................\n"
     ]
    },
    {
     "name": "stderr",
     "output_type": "stream",
     "text": [
      "[Parallel(n_jobs=-1)]: Done   3 out of   3 | elapsed:    1.8s remaining:    0.0s\n",
      "[Parallel(n_jobs=-1)]: Done   3 out of   3 | elapsed:    1.8s finished\n",
      "[Parallel(n_jobs=-1)]: Using backend SequentialBackend with 1 concurrent workers.\n"
     ]
    },
    {
     "name": "stdout",
     "output_type": "stream",
     "text": [
      "[CV] END .............................. score: (test=-11.701) total time=   0.6s\n",
      "[CV] START .....................................................................\n"
     ]
    },
    {
     "name": "stderr",
     "output_type": "stream",
     "text": [
      "[Parallel(n_jobs=-1)]: Done   1 out of   1 | elapsed:    0.6s remaining:    0.0s\n"
     ]
    },
    {
     "name": "stdout",
     "output_type": "stream",
     "text": [
      "[CV] END ............................... score: (test=-7.065) total time=   0.6s\n",
      "[CV] START .....................................................................\n"
     ]
    },
    {
     "name": "stderr",
     "output_type": "stream",
     "text": [
      "[Parallel(n_jobs=-1)]: Done   2 out of   2 | elapsed:    1.2s remaining:    0.0s\n"
     ]
    },
    {
     "name": "stdout",
     "output_type": "stream",
     "text": [
      "[CV] END ............................... score: (test=-8.454) total time=   0.6s\n",
      "[CV] START .....................................................................\n"
     ]
    },
    {
     "name": "stderr",
     "output_type": "stream",
     "text": [
      "[Parallel(n_jobs=-1)]: Done   3 out of   3 | elapsed:    1.8s remaining:    0.0s\n",
      "[Parallel(n_jobs=-1)]: Done   3 out of   3 | elapsed:    1.8s finished\n",
      "[Parallel(n_jobs=-1)]: Using backend SequentialBackend with 1 concurrent workers.\n"
     ]
    },
    {
     "name": "stdout",
     "output_type": "stream",
     "text": [
      "[CV] END .............................. score: (test=-12.035) total time=   0.6s\n",
      "[CV] START .....................................................................\n"
     ]
    },
    {
     "name": "stderr",
     "output_type": "stream",
     "text": [
      "[Parallel(n_jobs=-1)]: Done   1 out of   1 | elapsed:    0.6s remaining:    0.0s\n"
     ]
    },
    {
     "name": "stdout",
     "output_type": "stream",
     "text": [
      "[CV] END ............................... score: (test=-7.201) total time=   0.6s\n",
      "[CV] START .....................................................................\n"
     ]
    },
    {
     "name": "stderr",
     "output_type": "stream",
     "text": [
      "[Parallel(n_jobs=-1)]: Done   2 out of   2 | elapsed:    1.2s remaining:    0.0s\n"
     ]
    },
    {
     "name": "stdout",
     "output_type": "stream",
     "text": [
      "[CV] END ............................... score: (test=-9.475) total time=   0.6s\n",
      "[CV] START .....................................................................\n"
     ]
    },
    {
     "name": "stderr",
     "output_type": "stream",
     "text": [
      "[Parallel(n_jobs=-1)]: Done   3 out of   3 | elapsed:    1.8s remaining:    0.0s\n",
      "[Parallel(n_jobs=-1)]: Done   3 out of   3 | elapsed:    1.8s finished\n",
      "[Parallel(n_jobs=-1)]: Using backend SequentialBackend with 1 concurrent workers.\n"
     ]
    },
    {
     "name": "stdout",
     "output_type": "stream",
     "text": [
      "[CV] END .............................. score: (test=-11.450) total time=   0.6s\n",
      "[CV] START .....................................................................\n"
     ]
    },
    {
     "name": "stderr",
     "output_type": "stream",
     "text": [
      "[Parallel(n_jobs=-1)]: Done   1 out of   1 | elapsed:    0.6s remaining:    0.0s\n"
     ]
    },
    {
     "name": "stdout",
     "output_type": "stream",
     "text": [
      "[CV] END ............................... score: (test=-7.448) total time=   0.6s\n",
      "[CV] START .....................................................................\n"
     ]
    },
    {
     "name": "stderr",
     "output_type": "stream",
     "text": [
      "[Parallel(n_jobs=-1)]: Done   2 out of   2 | elapsed:    1.2s remaining:    0.0s\n"
     ]
    },
    {
     "name": "stdout",
     "output_type": "stream",
     "text": [
      "[CV] END ............................... score: (test=-9.459) total time=   0.6s\n",
      "sMAPE rougher: 6.650231370059287 Глубина дерева: 5\n"
     ]
    },
    {
     "name": "stderr",
     "output_type": "stream",
     "text": [
      "[Parallel(n_jobs=-1)]: Done   3 out of   3 | elapsed:    1.9s remaining:    0.0s\n",
      "[Parallel(n_jobs=-1)]: Done   3 out of   3 | elapsed:    1.9s finished\n"
     ]
    }
   ],
   "source": [
    "best_result_r = 100\n",
    "best_depth_r = 0\n",
    "for depth_r in range(1, 21):\n",
    "    model_dtr_rougher = DecisionTreeRegressor(random_state=12345, max_depth=depth_r)\n",
    "    smape_rougher = cross_val_score(model_dtr_rougher, features_train, target_train_rougher, scoring=smape_scorer, cv=3, \\\n",
    "                                    n_jobs=-1, verbose=10)\n",
    "    result_r = abs(smape_rougher.mean())\n",
    "    if result_r < best_result_r:\n",
    "        best_result_r = result_r\n",
    "        best_depth_r = depth_r\n",
    "        \n",
    "print(\"sMAPE rougher:\", best_result_r, \"Глубина дерева:\", best_depth_r)"
   ]
  },
  {
   "cell_type": "markdown",
   "metadata": {},
   "source": [
    "Получу sMAPE для модели, основанной на предсказании **final.output.recovery**."
   ]
  },
  {
   "cell_type": "code",
   "execution_count": 46,
   "metadata": {},
   "outputs": [
    {
     "name": "stderr",
     "output_type": "stream",
     "text": [
      "[Parallel(n_jobs=-1)]: Using backend SequentialBackend with 1 concurrent workers.\n",
      "[Parallel(n_jobs=-1)]: Done   1 out of   1 | elapsed:    0.1s remaining:    0.0s\n",
      "[Parallel(n_jobs=-1)]: Done   2 out of   2 | elapsed:    0.1s remaining:    0.0s\n",
      "[Parallel(n_jobs=-1)]: Done   3 out of   3 | elapsed:    0.2s remaining:    0.0s\n",
      "[Parallel(n_jobs=-1)]: Done   3 out of   3 | elapsed:    0.2s finished\n",
      "[Parallel(n_jobs=-1)]: Using backend SequentialBackend with 1 concurrent workers.\n"
     ]
    },
    {
     "name": "stdout",
     "output_type": "stream",
     "text": [
      "[CV] START .....................................................................\n",
      "[CV] END ............................... score: (test=-9.376) total time=   0.1s\n",
      "[CV] START .....................................................................\n",
      "[CV] END ............................... score: (test=-8.892) total time=   0.1s\n",
      "[CV] START .....................................................................\n",
      "[CV] END .............................. score: (test=-10.092) total time=   0.1s\n",
      "[CV] START .....................................................................\n",
      "[CV] END ............................... score: (test=-9.534) total time=   0.1s\n",
      "[CV] START .....................................................................\n",
      "[CV] END ............................... score: (test=-9.157) total time=   0.1s\n",
      "[CV] START .....................................................................\n"
     ]
    },
    {
     "name": "stderr",
     "output_type": "stream",
     "text": [
      "[Parallel(n_jobs=-1)]: Done   1 out of   1 | elapsed:    0.1s remaining:    0.0s\n",
      "[Parallel(n_jobs=-1)]: Done   2 out of   2 | elapsed:    0.2s remaining:    0.0s\n"
     ]
    },
    {
     "name": "stdout",
     "output_type": "stream",
     "text": [
      "[CV] END ............................... score: (test=-9.715) total time=   0.1s\n",
      "[CV] START .....................................................................\n",
      "[CV] END ............................... score: (test=-9.431) total time=   0.1s\n",
      "[CV] START .....................................................................\n"
     ]
    },
    {
     "name": "stderr",
     "output_type": "stream",
     "text": [
      "[Parallel(n_jobs=-1)]: Done   3 out of   3 | elapsed:    0.3s remaining:    0.0s\n",
      "[Parallel(n_jobs=-1)]: Done   3 out of   3 | elapsed:    0.3s finished\n",
      "[Parallel(n_jobs=-1)]: Using backend SequentialBackend with 1 concurrent workers.\n",
      "[Parallel(n_jobs=-1)]: Done   1 out of   1 | elapsed:    0.1s remaining:    0.0s\n"
     ]
    },
    {
     "name": "stdout",
     "output_type": "stream",
     "text": [
      "[CV] END ............................... score: (test=-9.271) total time=   0.2s\n",
      "[CV] START .....................................................................\n",
      "[CV] END .............................. score: (test=-11.477) total time=   0.1s\n",
      "[CV] START .....................................................................\n"
     ]
    },
    {
     "name": "stderr",
     "output_type": "stream",
     "text": [
      "[Parallel(n_jobs=-1)]: Done   2 out of   2 | elapsed:    0.3s remaining:    0.0s\n",
      "[Parallel(n_jobs=-1)]: Done   3 out of   3 | elapsed:    0.5s remaining:    0.0s\n",
      "[Parallel(n_jobs=-1)]: Done   3 out of   3 | elapsed:    0.5s finished\n",
      "[Parallel(n_jobs=-1)]: Using backend SequentialBackend with 1 concurrent workers.\n"
     ]
    },
    {
     "name": "stdout",
     "output_type": "stream",
     "text": [
      "[CV] END ............................... score: (test=-9.222) total time=   0.2s\n",
      "[CV] START .....................................................................\n",
      "[CV] END .............................. score: (test=-10.072) total time=   0.2s\n",
      "[CV] START .....................................................................\n"
     ]
    },
    {
     "name": "stderr",
     "output_type": "stream",
     "text": [
      "[Parallel(n_jobs=-1)]: Done   1 out of   1 | elapsed:    0.2s remaining:    0.0s\n",
      "[Parallel(n_jobs=-1)]: Done   2 out of   2 | elapsed:    0.4s remaining:    0.0s\n"
     ]
    },
    {
     "name": "stdout",
     "output_type": "stream",
     "text": [
      "[CV] END .............................. score: (test=-13.230) total time=   0.2s\n",
      "[CV] START .....................................................................\n"
     ]
    },
    {
     "name": "stderr",
     "output_type": "stream",
     "text": [
      "[Parallel(n_jobs=-1)]: Done   3 out of   3 | elapsed:    0.6s remaining:    0.0s\n",
      "[Parallel(n_jobs=-1)]: Done   3 out of   3 | elapsed:    0.6s finished\n",
      "[Parallel(n_jobs=-1)]: Using backend SequentialBackend with 1 concurrent workers.\n"
     ]
    },
    {
     "name": "stdout",
     "output_type": "stream",
     "text": [
      "[CV] END ............................... score: (test=-9.539) total time=   0.2s\n",
      "[CV] START .....................................................................\n"
     ]
    },
    {
     "name": "stderr",
     "output_type": "stream",
     "text": [
      "[Parallel(n_jobs=-1)]: Done   1 out of   1 | elapsed:    0.2s remaining:    0.0s\n"
     ]
    },
    {
     "name": "stdout",
     "output_type": "stream",
     "text": [
      "[CV] END .............................. score: (test=-14.482) total time=   0.2s\n",
      "[CV] START .....................................................................\n"
     ]
    },
    {
     "name": "stderr",
     "output_type": "stream",
     "text": [
      "[Parallel(n_jobs=-1)]: Done   2 out of   2 | elapsed:    0.5s remaining:    0.0s\n"
     ]
    },
    {
     "name": "stdout",
     "output_type": "stream",
     "text": [
      "[CV] END .............................. score: (test=-11.972) total time=   0.3s\n",
      "[CV] START .....................................................................\n"
     ]
    },
    {
     "name": "stderr",
     "output_type": "stream",
     "text": [
      "[Parallel(n_jobs=-1)]: Done   3 out of   3 | elapsed:    0.7s remaining:    0.0s\n",
      "[Parallel(n_jobs=-1)]: Done   3 out of   3 | elapsed:    0.7s finished\n",
      "[Parallel(n_jobs=-1)]: Using backend SequentialBackend with 1 concurrent workers.\n"
     ]
    },
    {
     "name": "stdout",
     "output_type": "stream",
     "text": [
      "[CV] END ............................... score: (test=-9.492) total time=   0.3s\n",
      "[CV] START .....................................................................\n"
     ]
    },
    {
     "name": "stderr",
     "output_type": "stream",
     "text": [
      "[Parallel(n_jobs=-1)]: Done   1 out of   1 | elapsed:    0.3s remaining:    0.0s\n"
     ]
    },
    {
     "name": "stdout",
     "output_type": "stream",
     "text": [
      "[CV] END .............................. score: (test=-11.985) total time=   0.3s\n",
      "[CV] START .....................................................................\n"
     ]
    },
    {
     "name": "stderr",
     "output_type": "stream",
     "text": [
      "[Parallel(n_jobs=-1)]: Done   2 out of   2 | elapsed:    0.5s remaining:    0.0s\n"
     ]
    },
    {
     "name": "stdout",
     "output_type": "stream",
     "text": [
      "[CV] END .............................. score: (test=-11.218) total time=   0.3s\n",
      "[CV] START .....................................................................\n"
     ]
    },
    {
     "name": "stderr",
     "output_type": "stream",
     "text": [
      "[Parallel(n_jobs=-1)]: Done   3 out of   3 | elapsed:    0.8s remaining:    0.0s\n",
      "[Parallel(n_jobs=-1)]: Done   3 out of   3 | elapsed:    0.8s finished\n",
      "[Parallel(n_jobs=-1)]: Using backend SequentialBackend with 1 concurrent workers.\n"
     ]
    },
    {
     "name": "stdout",
     "output_type": "stream",
     "text": [
      "[CV] END .............................. score: (test=-10.168) total time=   0.3s\n",
      "[CV] START .....................................................................\n"
     ]
    },
    {
     "name": "stderr",
     "output_type": "stream",
     "text": [
      "[Parallel(n_jobs=-1)]: Done   1 out of   1 | elapsed:    0.3s remaining:    0.0s\n"
     ]
    },
    {
     "name": "stdout",
     "output_type": "stream",
     "text": [
      "[CV] END .............................. score: (test=-15.072) total time=   0.3s\n",
      "[CV] START .....................................................................\n"
     ]
    },
    {
     "name": "stderr",
     "output_type": "stream",
     "text": [
      "[Parallel(n_jobs=-1)]: Done   2 out of   2 | elapsed:    0.7s remaining:    0.0s\n"
     ]
    },
    {
     "name": "stdout",
     "output_type": "stream",
     "text": [
      "[CV] END .............................. score: (test=-10.909) total time=   0.3s\n",
      "[CV] START .....................................................................\n"
     ]
    },
    {
     "name": "stderr",
     "output_type": "stream",
     "text": [
      "[Parallel(n_jobs=-1)]: Done   3 out of   3 | elapsed:    1.0s remaining:    0.0s\n",
      "[Parallel(n_jobs=-1)]: Done   3 out of   3 | elapsed:    1.0s finished\n",
      "[Parallel(n_jobs=-1)]: Using backend SequentialBackend with 1 concurrent workers.\n"
     ]
    },
    {
     "name": "stdout",
     "output_type": "stream",
     "text": [
      "[CV] END .............................. score: (test=-10.747) total time=   0.4s\n",
      "[CV] START .....................................................................\n"
     ]
    },
    {
     "name": "stderr",
     "output_type": "stream",
     "text": [
      "[Parallel(n_jobs=-1)]: Done   1 out of   1 | elapsed:    0.4s remaining:    0.0s\n"
     ]
    },
    {
     "name": "stdout",
     "output_type": "stream",
     "text": [
      "[CV] END .............................. score: (test=-17.687) total time=   0.3s\n",
      "[CV] START .....................................................................\n"
     ]
    },
    {
     "name": "stderr",
     "output_type": "stream",
     "text": [
      "[Parallel(n_jobs=-1)]: Done   2 out of   2 | elapsed:    0.7s remaining:    0.0s\n"
     ]
    },
    {
     "name": "stdout",
     "output_type": "stream",
     "text": [
      "[CV] END .............................. score: (test=-11.302) total time=   0.4s\n",
      "[CV] START .....................................................................\n"
     ]
    },
    {
     "name": "stderr",
     "output_type": "stream",
     "text": [
      "[Parallel(n_jobs=-1)]: Done   3 out of   3 | elapsed:    1.0s remaining:    0.0s\n",
      "[Parallel(n_jobs=-1)]: Done   3 out of   3 | elapsed:    1.0s finished\n",
      "[Parallel(n_jobs=-1)]: Using backend SequentialBackend with 1 concurrent workers.\n"
     ]
    },
    {
     "name": "stdout",
     "output_type": "stream",
     "text": [
      "[CV] END .............................. score: (test=-13.380) total time=   0.4s\n",
      "[CV] START .....................................................................\n"
     ]
    },
    {
     "name": "stderr",
     "output_type": "stream",
     "text": [
      "[Parallel(n_jobs=-1)]: Done   1 out of   1 | elapsed:    0.4s remaining:    0.0s\n"
     ]
    },
    {
     "name": "stdout",
     "output_type": "stream",
     "text": [
      "[CV] END .............................. score: (test=-15.031) total time=   0.4s\n",
      "[CV] START .....................................................................\n"
     ]
    },
    {
     "name": "stderr",
     "output_type": "stream",
     "text": [
      "[Parallel(n_jobs=-1)]: Done   2 out of   2 | elapsed:    0.8s remaining:    0.0s\n"
     ]
    },
    {
     "name": "stdout",
     "output_type": "stream",
     "text": [
      "[CV] END .............................. score: (test=-11.454) total time=   0.4s\n",
      "[CV] START .....................................................................\n"
     ]
    },
    {
     "name": "stderr",
     "output_type": "stream",
     "text": [
      "[Parallel(n_jobs=-1)]: Done   3 out of   3 | elapsed:    1.2s remaining:    0.0s\n",
      "[Parallel(n_jobs=-1)]: Done   3 out of   3 | elapsed:    1.2s finished\n",
      "[Parallel(n_jobs=-1)]: Using backend SequentialBackend with 1 concurrent workers.\n"
     ]
    },
    {
     "name": "stdout",
     "output_type": "stream",
     "text": [
      "[CV] END .............................. score: (test=-13.166) total time=   0.4s\n",
      "[CV] START .....................................................................\n"
     ]
    },
    {
     "name": "stderr",
     "output_type": "stream",
     "text": [
      "[Parallel(n_jobs=-1)]: Done   1 out of   1 | elapsed:    0.4s remaining:    0.0s\n"
     ]
    },
    {
     "name": "stdout",
     "output_type": "stream",
     "text": [
      "[CV] END .............................. score: (test=-14.836) total time=   0.4s\n",
      "[CV] START .....................................................................\n"
     ]
    },
    {
     "name": "stderr",
     "output_type": "stream",
     "text": [
      "[Parallel(n_jobs=-1)]: Done   2 out of   2 | elapsed:    0.8s remaining:    0.0s\n"
     ]
    },
    {
     "name": "stdout",
     "output_type": "stream",
     "text": [
      "[CV] END .............................. score: (test=-12.577) total time=   0.4s\n",
      "[CV] START .....................................................................\n"
     ]
    },
    {
     "name": "stderr",
     "output_type": "stream",
     "text": [
      "[Parallel(n_jobs=-1)]: Done   3 out of   3 | elapsed:    1.2s remaining:    0.0s\n",
      "[Parallel(n_jobs=-1)]: Done   3 out of   3 | elapsed:    1.2s finished\n",
      "[Parallel(n_jobs=-1)]: Using backend SequentialBackend with 1 concurrent workers.\n"
     ]
    },
    {
     "name": "stdout",
     "output_type": "stream",
     "text": [
      "[CV] END .............................. score: (test=-13.957) total time=   0.5s\n",
      "[CV] START .....................................................................\n"
     ]
    },
    {
     "name": "stderr",
     "output_type": "stream",
     "text": [
      "[Parallel(n_jobs=-1)]: Done   1 out of   1 | elapsed:    0.5s remaining:    0.0s\n"
     ]
    },
    {
     "name": "stdout",
     "output_type": "stream",
     "text": [
      "[CV] END .............................. score: (test=-16.522) total time=   0.4s\n",
      "[CV] START .....................................................................\n"
     ]
    },
    {
     "name": "stderr",
     "output_type": "stream",
     "text": [
      "[Parallel(n_jobs=-1)]: Done   2 out of   2 | elapsed:    0.9s remaining:    0.0s\n"
     ]
    },
    {
     "name": "stdout",
     "output_type": "stream",
     "text": [
      "[CV] END .............................. score: (test=-13.494) total time=   0.4s\n",
      "[CV] START .....................................................................\n"
     ]
    },
    {
     "name": "stderr",
     "output_type": "stream",
     "text": [
      "[Parallel(n_jobs=-1)]: Done   3 out of   3 | elapsed:    1.3s remaining:    0.0s\n",
      "[Parallel(n_jobs=-1)]: Done   3 out of   3 | elapsed:    1.3s finished\n",
      "[Parallel(n_jobs=-1)]: Using backend SequentialBackend with 1 concurrent workers.\n"
     ]
    },
    {
     "name": "stdout",
     "output_type": "stream",
     "text": [
      "[CV] END .............................. score: (test=-14.242) total time=   0.5s\n",
      "[CV] START .....................................................................\n"
     ]
    },
    {
     "name": "stderr",
     "output_type": "stream",
     "text": [
      "[Parallel(n_jobs=-1)]: Done   1 out of   1 | elapsed:    0.5s remaining:    0.0s\n"
     ]
    },
    {
     "name": "stdout",
     "output_type": "stream",
     "text": [
      "[CV] END .............................. score: (test=-15.726) total time=   0.5s\n",
      "[CV] START .....................................................................\n"
     ]
    },
    {
     "name": "stderr",
     "output_type": "stream",
     "text": [
      "[Parallel(n_jobs=-1)]: Done   2 out of   2 | elapsed:    1.0s remaining:    0.0s\n"
     ]
    },
    {
     "name": "stdout",
     "output_type": "stream",
     "text": [
      "[CV] END .............................. score: (test=-12.241) total time=   0.5s\n",
      "[CV] START .....................................................................\n"
     ]
    },
    {
     "name": "stderr",
     "output_type": "stream",
     "text": [
      "[Parallel(n_jobs=-1)]: Done   3 out of   3 | elapsed:    1.4s remaining:    0.0s\n",
      "[Parallel(n_jobs=-1)]: Done   3 out of   3 | elapsed:    1.4s finished\n",
      "[Parallel(n_jobs=-1)]: Using backend SequentialBackend with 1 concurrent workers.\n"
     ]
    },
    {
     "name": "stdout",
     "output_type": "stream",
     "text": [
      "[CV] END .............................. score: (test=-14.624) total time=   0.5s\n",
      "[CV] START .....................................................................\n"
     ]
    },
    {
     "name": "stderr",
     "output_type": "stream",
     "text": [
      "[Parallel(n_jobs=-1)]: Done   1 out of   1 | elapsed:    0.5s remaining:    0.0s\n"
     ]
    },
    {
     "name": "stdout",
     "output_type": "stream",
     "text": [
      "[CV] END .............................. score: (test=-15.912) total time=   0.5s\n",
      "[CV] START .....................................................................\n"
     ]
    },
    {
     "name": "stderr",
     "output_type": "stream",
     "text": [
      "[Parallel(n_jobs=-1)]: Done   2 out of   2 | elapsed:    1.0s remaining:    0.0s\n"
     ]
    },
    {
     "name": "stdout",
     "output_type": "stream",
     "text": [
      "[CV] END .............................. score: (test=-12.435) total time=   0.5s\n",
      "[CV] START .....................................................................\n"
     ]
    },
    {
     "name": "stderr",
     "output_type": "stream",
     "text": [
      "[Parallel(n_jobs=-1)]: Done   3 out of   3 | elapsed:    1.5s remaining:    0.0s\n",
      "[Parallel(n_jobs=-1)]: Done   3 out of   3 | elapsed:    1.5s finished\n",
      "[Parallel(n_jobs=-1)]: Using backend SequentialBackend with 1 concurrent workers.\n"
     ]
    },
    {
     "name": "stdout",
     "output_type": "stream",
     "text": [
      "[CV] END .............................. score: (test=-16.275) total time=   0.5s\n",
      "[CV] START .....................................................................\n"
     ]
    },
    {
     "name": "stderr",
     "output_type": "stream",
     "text": [
      "[Parallel(n_jobs=-1)]: Done   1 out of   1 | elapsed:    0.5s remaining:    0.0s\n"
     ]
    },
    {
     "name": "stdout",
     "output_type": "stream",
     "text": [
      "[CV] END .............................. score: (test=-15.776) total time=   0.5s\n",
      "[CV] START .....................................................................\n"
     ]
    },
    {
     "name": "stderr",
     "output_type": "stream",
     "text": [
      "[Parallel(n_jobs=-1)]: Done   2 out of   2 | elapsed:    1.0s remaining:    0.0s\n"
     ]
    },
    {
     "name": "stdout",
     "output_type": "stream",
     "text": [
      "[CV] END .............................. score: (test=-13.707) total time=   0.5s\n",
      "[CV] START .....................................................................\n"
     ]
    },
    {
     "name": "stderr",
     "output_type": "stream",
     "text": [
      "[Parallel(n_jobs=-1)]: Done   3 out of   3 | elapsed:    1.5s remaining:    0.0s\n",
      "[Parallel(n_jobs=-1)]: Done   3 out of   3 | elapsed:    1.5s finished\n",
      "[Parallel(n_jobs=-1)]: Using backend SequentialBackend with 1 concurrent workers.\n"
     ]
    },
    {
     "name": "stdout",
     "output_type": "stream",
     "text": [
      "[CV] END .............................. score: (test=-15.807) total time=   0.6s\n",
      "[CV] START .....................................................................\n"
     ]
    },
    {
     "name": "stderr",
     "output_type": "stream",
     "text": [
      "[Parallel(n_jobs=-1)]: Done   1 out of   1 | elapsed:    0.6s remaining:    0.0s\n"
     ]
    },
    {
     "name": "stdout",
     "output_type": "stream",
     "text": [
      "[CV] END .............................. score: (test=-16.999) total time=   0.5s\n",
      "[CV] START .....................................................................\n"
     ]
    },
    {
     "name": "stderr",
     "output_type": "stream",
     "text": [
      "[Parallel(n_jobs=-1)]: Done   2 out of   2 | elapsed:    1.1s remaining:    0.0s\n"
     ]
    },
    {
     "name": "stdout",
     "output_type": "stream",
     "text": [
      "[CV] END .............................. score: (test=-14.666) total time=   0.6s\n",
      "[CV] START .....................................................................\n"
     ]
    },
    {
     "name": "stderr",
     "output_type": "stream",
     "text": [
      "[Parallel(n_jobs=-1)]: Done   3 out of   3 | elapsed:    1.7s remaining:    0.0s\n",
      "[Parallel(n_jobs=-1)]: Done   3 out of   3 | elapsed:    1.7s finished\n",
      "[Parallel(n_jobs=-1)]: Using backend SequentialBackend with 1 concurrent workers.\n"
     ]
    },
    {
     "name": "stdout",
     "output_type": "stream",
     "text": [
      "[CV] END .............................. score: (test=-16.536) total time=   0.6s\n",
      "[CV] START .....................................................................\n"
     ]
    },
    {
     "name": "stderr",
     "output_type": "stream",
     "text": [
      "[Parallel(n_jobs=-1)]: Done   1 out of   1 | elapsed:    0.6s remaining:    0.0s\n"
     ]
    },
    {
     "name": "stdout",
     "output_type": "stream",
     "text": [
      "[CV] END .............................. score: (test=-16.980) total time=   0.6s\n",
      "[CV] START .....................................................................\n"
     ]
    },
    {
     "name": "stderr",
     "output_type": "stream",
     "text": [
      "[Parallel(n_jobs=-1)]: Done   2 out of   2 | elapsed:    1.2s remaining:    0.0s\n"
     ]
    },
    {
     "name": "stdout",
     "output_type": "stream",
     "text": [
      "[CV] END .............................. score: (test=-13.816) total time=   0.6s\n",
      "[CV] START .....................................................................\n"
     ]
    },
    {
     "name": "stderr",
     "output_type": "stream",
     "text": [
      "[Parallel(n_jobs=-1)]: Done   3 out of   3 | elapsed:    1.7s remaining:    0.0s\n",
      "[Parallel(n_jobs=-1)]: Done   3 out of   3 | elapsed:    1.7s finished\n",
      "[Parallel(n_jobs=-1)]: Using backend SequentialBackend with 1 concurrent workers.\n"
     ]
    },
    {
     "name": "stdout",
     "output_type": "stream",
     "text": [
      "[CV] END .............................. score: (test=-17.255) total time=   0.6s\n",
      "[CV] START .....................................................................\n"
     ]
    },
    {
     "name": "stderr",
     "output_type": "stream",
     "text": [
      "[Parallel(n_jobs=-1)]: Done   1 out of   1 | elapsed:    0.6s remaining:    0.0s\n"
     ]
    },
    {
     "name": "stdout",
     "output_type": "stream",
     "text": [
      "[CV] END .............................. score: (test=-17.377) total time=   0.5s\n",
      "[CV] START .....................................................................\n"
     ]
    },
    {
     "name": "stderr",
     "output_type": "stream",
     "text": [
      "[Parallel(n_jobs=-1)]: Done   2 out of   2 | elapsed:    1.2s remaining:    0.0s\n"
     ]
    },
    {
     "name": "stdout",
     "output_type": "stream",
     "text": [
      "[CV] END .............................. score: (test=-13.692) total time=   0.6s\n",
      "[CV] START .....................................................................\n"
     ]
    },
    {
     "name": "stderr",
     "output_type": "stream",
     "text": [
      "[Parallel(n_jobs=-1)]: Done   3 out of   3 | elapsed:    1.7s remaining:    0.0s\n",
      "[Parallel(n_jobs=-1)]: Done   3 out of   3 | elapsed:    1.7s finished\n",
      "[Parallel(n_jobs=-1)]: Using backend SequentialBackend with 1 concurrent workers.\n"
     ]
    },
    {
     "name": "stdout",
     "output_type": "stream",
     "text": [
      "[CV] END .............................. score: (test=-16.879) total time=   0.6s\n",
      "[CV] START .....................................................................\n"
     ]
    },
    {
     "name": "stderr",
     "output_type": "stream",
     "text": [
      "[Parallel(n_jobs=-1)]: Done   1 out of   1 | elapsed:    0.6s remaining:    0.0s\n"
     ]
    },
    {
     "name": "stdout",
     "output_type": "stream",
     "text": [
      "[CV] END .............................. score: (test=-17.282) total time=   0.6s\n",
      "[CV] START .....................................................................\n"
     ]
    },
    {
     "name": "stderr",
     "output_type": "stream",
     "text": [
      "[Parallel(n_jobs=-1)]: Done   2 out of   2 | elapsed:    1.2s remaining:    0.0s\n"
     ]
    },
    {
     "name": "stdout",
     "output_type": "stream",
     "text": [
      "[CV] END .............................. score: (test=-13.909) total time=   0.6s\n",
      "[CV] START .....................................................................\n"
     ]
    },
    {
     "name": "stderr",
     "output_type": "stream",
     "text": [
      "[Parallel(n_jobs=-1)]: Done   3 out of   3 | elapsed:    1.9s remaining:    0.0s\n",
      "[Parallel(n_jobs=-1)]: Done   3 out of   3 | elapsed:    1.9s finished\n",
      "[Parallel(n_jobs=-1)]: Using backend SequentialBackend with 1 concurrent workers.\n"
     ]
    },
    {
     "name": "stdout",
     "output_type": "stream",
     "text": [
      "[CV] END .............................. score: (test=-17.161) total time=   0.6s\n",
      "[CV] START .....................................................................\n"
     ]
    },
    {
     "name": "stderr",
     "output_type": "stream",
     "text": [
      "[Parallel(n_jobs=-1)]: Done   1 out of   1 | elapsed:    0.6s remaining:    0.0s\n"
     ]
    },
    {
     "name": "stdout",
     "output_type": "stream",
     "text": [
      "[CV] END .............................. score: (test=-17.589) total time=   0.6s\n",
      "[CV] START .....................................................................\n"
     ]
    },
    {
     "name": "stderr",
     "output_type": "stream",
     "text": [
      "[Parallel(n_jobs=-1)]: Done   2 out of   2 | elapsed:    1.2s remaining:    0.0s\n"
     ]
    },
    {
     "name": "stdout",
     "output_type": "stream",
     "text": [
      "[CV] END .............................. score: (test=-14.343) total time=   0.7s\n",
      "[CV] START .....................................................................\n"
     ]
    },
    {
     "name": "stderr",
     "output_type": "stream",
     "text": [
      "[Parallel(n_jobs=-1)]: Done   3 out of   3 | elapsed:    1.9s remaining:    0.0s\n",
      "[Parallel(n_jobs=-1)]: Done   3 out of   3 | elapsed:    1.9s finished\n",
      "[Parallel(n_jobs=-1)]: Using backend SequentialBackend with 1 concurrent workers.\n"
     ]
    },
    {
     "name": "stdout",
     "output_type": "stream",
     "text": [
      "[CV] END .............................. score: (test=-16.969) total time=   0.7s\n",
      "[CV] START .....................................................................\n"
     ]
    },
    {
     "name": "stderr",
     "output_type": "stream",
     "text": [
      "[Parallel(n_jobs=-1)]: Done   1 out of   1 | elapsed:    0.7s remaining:    0.0s\n"
     ]
    },
    {
     "name": "stdout",
     "output_type": "stream",
     "text": [
      "[CV] END .............................. score: (test=-16.685) total time=   0.6s\n",
      "[CV] START .....................................................................\n"
     ]
    },
    {
     "name": "stderr",
     "output_type": "stream",
     "text": [
      "[Parallel(n_jobs=-1)]: Done   2 out of   2 | elapsed:    1.3s remaining:    0.0s\n"
     ]
    },
    {
     "name": "stdout",
     "output_type": "stream",
     "text": [
      "[CV] END .............................. score: (test=-14.087) total time=   0.7s\n",
      "sMAPE final: 9.453219331248008 Глубина дерева: 1\n"
     ]
    },
    {
     "name": "stderr",
     "output_type": "stream",
     "text": [
      "[Parallel(n_jobs=-1)]: Done   3 out of   3 | elapsed:    1.9s remaining:    0.0s\n",
      "[Parallel(n_jobs=-1)]: Done   3 out of   3 | elapsed:    1.9s finished\n"
     ]
    }
   ],
   "source": [
    "best_result_f = 100\n",
    "best_depth_f = 0\n",
    "for depth_f in range(1, 21):\n",
    "    model_dtr_final = DecisionTreeRegressor(random_state=12345, max_depth=depth_f)\n",
    "    smape_final = cross_val_score(model_dtr_final, features_train, target_train_final, scoring=smape_scorer, cv=3, n_jobs=-1, \\\n",
    "                                 verbose=10)\n",
    "    result_f = abs(smape_final.mean())\n",
    "    if result_f < best_result_f:\n",
    "        best_result_f = result_f\n",
    "        best_depth_f = depth_f\n",
    "        \n",
    "print(\"sMAPE final:\", best_result_f, \"Глубина дерева:\", best_depth_f)"
   ]
  },
  {
   "cell_type": "markdown",
   "metadata": {},
   "source": [
    "Посчитаю суммарную sMAPE, основанную на 2 предсказаниях таргетов:"
   ]
  },
  {
   "cell_type": "code",
   "execution_count": 47,
   "metadata": {
    "scrolled": true
   },
   "outputs": [
    {
     "name": "stdout",
     "output_type": "stream",
     "text": [
      "Summary sMAPE: 8.752472340950828\n"
     ]
    }
   ],
   "source": [
    "result_smape = sum_smape(best_result_r, best_result_f)\n",
    "print('Summary sMAPE:', result_smape)"
   ]
  },
  {
   "cell_type": "markdown",
   "metadata": {},
   "source": [
    "**Общий вывод по обучению моделей:** самая лучшая модель - RandomForestRegressor. Суммарная sMAPE = 8.588."
   ]
  },
  {
   "cell_type": "markdown",
   "metadata": {},
   "source": [
    "### Проверка модели на тесте:"
   ]
  },
  {
   "cell_type": "markdown",
   "metadata": {},
   "source": [
    "Тестирование лучшей модели:"
   ]
  },
  {
   "cell_type": "code",
   "execution_count": 48,
   "metadata": {},
   "outputs": [],
   "source": [
    "#предсказываю первый таргет\n",
    "model_test_rougher = RandomForestRegressor(random_state=12345, n_estimators=20, max_depth=5)\n",
    "model_test_rougher.fit(features_train, target_train_rougher)\n",
    "predicted_rougher = model_test_rougher.predict(features_test)\n",
    "\n",
    "#предсказываю второй таргет\n",
    "model_test_final = RandomForestRegressor(random_state=12345, n_estimators=50, max_depth=2)\n",
    "model_test_final.fit(features_train, target_train_final)\n",
    "predicted_final = model_test_final.predict(features_test)\n",
    "\n",
    "#считаю sMAPE\n",
    "smape_test_rougher = smape(target_test_rougher, predicted_rougher)\n",
    "smape_test_final = smape(target_test_final, predicted_final)\n",
    "final_smape_test = sum_smape(smape_test_rougher, smape_test_final)"
   ]
  },
  {
   "cell_type": "code",
   "execution_count": 49,
   "metadata": {
    "scrolled": false
   },
   "outputs": [
    {
     "name": "stdout",
     "output_type": "stream",
     "text": [
      "Суммарная sMAPE: 7.31444323474745\n"
     ]
    }
   ],
   "source": [
    "print('Суммарная sMAPE:', final_smape_test)"
   ]
  },
  {
   "cell_type": "markdown",
   "metadata": {},
   "source": [
    "Создам константную модель, чтобы проверить адекватность модели:"
   ]
  },
  {
   "cell_type": "code",
   "execution_count": 50,
   "metadata": {
    "scrolled": true
   },
   "outputs": [
    {
     "name": "stdout",
     "output_type": "stream",
     "text": [
      "Суммарная sMAPE: 8.288528061124824\n"
     ]
    }
   ],
   "source": [
    "dummy_rougher = DummyRegressor(strategy='median')\n",
    "dummy_final = DummyRegressor(strategy='median')\n",
    "\n",
    "dummy_rougher.fit(features_train, target_train_rougher)\n",
    "dummy_final.fit(features_train, target_train_final)\n",
    "\n",
    "dummy_predicted_rougher = dummy_rougher.predict(features_test)\n",
    "dummy_predicted_final = dummy_final.predict(features_test)\n",
    "\n",
    "smape_rougher = smape(target_test_rougher, dummy_predicted_rougher)\n",
    "smape_final = smape(target_test_final, dummy_predicted_final)\n",
    "\n",
    "final_smape = sum_smape(smape_rougher, smape_final)\n",
    "\n",
    "print('Суммарная sMAPE:', final_smape)"
   ]
  },
  {
   "cell_type": "markdown",
   "metadata": {},
   "source": [
    "**Вывод по тестированию:** sMAPE на тесте меньше, чем sMAPE константной модели (7.314 < 8.288). Это значит, что модель подходит для использования и она адекватна."
   ]
  },
  {
   "cell_type": "markdown",
   "metadata": {},
   "source": [
    "## Общий вывод\n",
    "\n",
    "1. Данные были изучены и оценены.\n",
    "2. Была проведена предобработка: добавлены некоторые колонки, изменен тип данных и заменены значения пропусков.\n",
    "3. Проведен анализ данных по концентрациям металлов и размеру гранул исходного сырья. Концентрация золота и свинца растет к концу обработки, а концентрация серебра уменьшается. Распределение размера гранул в обучающей и тестовой выборке похоже.\n",
    "4. Были созданы формулы для расчета метрики sMAPE.\n",
    "5. Проверено и обучено на тренировочной выборке 3 вида моделей: LinearRegression, RandomForestRegressor, DecisionTreeRegressor.\n",
    "6. По результатам отбора лучшая модель - RandomForestRegressor с суммарным sMAPE = 8.588.\n",
    "7. Проведено тестирование лучшей модели с параметрами: n_estimators=30, max_depth=5 для таргета rougher и n_estimators=50, max_depth=2 для таргета final. Итоговый показатель sMAPE - 7.314.\n",
    "8. Также создана константная модель с помощью DummyRegressor. Итоговый показатель sMAPE -  8.288\n",
    "\n",
    "**Тестирование проведено успешно, так как показатель sMAPE у модели на тесте меньше, чем у константной модели.**\n",
    "\n",
    "**Выбранная модель - RandomForestRegressor.**"
   ]
  }
 ],
 "metadata": {
  "ExecuteTimeLog": [
   {
    "duration": 1210,
    "start_time": "2023-05-08T10:25:03.595Z"
   },
   {
    "duration": 3,
    "start_time": "2023-05-08T10:25:08.221Z"
   },
   {
    "duration": 140,
    "start_time": "2023-05-08T10:26:12.647Z"
   },
   {
    "duration": 75,
    "start_time": "2023-05-08T10:27:41.288Z"
   },
   {
    "duration": 15,
    "start_time": "2023-05-08T10:27:49.397Z"
   },
   {
    "duration": 3247,
    "start_time": "2023-05-08T10:30:03.291Z"
   },
   {
    "duration": 41,
    "start_time": "2023-05-08T10:30:23.781Z"
   },
   {
    "duration": 23,
    "start_time": "2023-05-08T10:30:35.694Z"
   },
   {
    "duration": 24,
    "start_time": "2023-05-08T10:30:50.985Z"
   },
   {
    "duration": 48,
    "start_time": "2023-05-09T10:10:02.705Z"
   },
   {
    "duration": 997,
    "start_time": "2023-05-09T10:10:09.317Z"
   },
   {
    "duration": 2334,
    "start_time": "2023-05-09T10:10:10.316Z"
   },
   {
    "duration": 3,
    "start_time": "2023-05-09T10:10:12.651Z"
   },
   {
    "duration": 67,
    "start_time": "2023-05-09T10:10:12.657Z"
   },
   {
    "duration": 35,
    "start_time": "2023-05-09T10:10:12.726Z"
   },
   {
    "duration": 52,
    "start_time": "2023-05-09T10:10:12.771Z"
   },
   {
    "duration": 365,
    "start_time": "2023-05-09T10:11:09.353Z"
   },
   {
    "duration": 166,
    "start_time": "2023-05-09T10:12:16.562Z"
   },
   {
    "duration": 3,
    "start_time": "2023-05-09T10:12:23.813Z"
   },
   {
    "duration": 328,
    "start_time": "2023-05-09T10:17:55.173Z"
   },
   {
    "duration": 65,
    "start_time": "2023-05-09T10:19:11.805Z"
   },
   {
    "duration": 99,
    "start_time": "2023-05-09T10:19:26.995Z"
   },
   {
    "duration": 42,
    "start_time": "2023-05-09T10:19:37.662Z"
   },
   {
    "duration": 49,
    "start_time": "2023-05-09T10:19:51.770Z"
   },
   {
    "duration": 52,
    "start_time": "2023-05-09T10:20:26.328Z"
   },
   {
    "duration": 4,
    "start_time": "2023-05-09T10:20:42.496Z"
   },
   {
    "duration": 67,
    "start_time": "2023-05-09T10:21:24.325Z"
   },
   {
    "duration": 3,
    "start_time": "2023-05-09T10:21:31.365Z"
   },
   {
    "duration": 53,
    "start_time": "2023-05-09T10:21:33.281Z"
   },
   {
    "duration": 3,
    "start_time": "2023-05-09T10:21:37.984Z"
   },
   {
    "duration": 62,
    "start_time": "2023-05-09T10:21:38.969Z"
   },
   {
    "duration": 3,
    "start_time": "2023-05-09T10:21:45.207Z"
   },
   {
    "duration": 55,
    "start_time": "2023-05-09T10:21:48.021Z"
   },
   {
    "duration": 3,
    "start_time": "2023-05-09T10:22:43.324Z"
   },
   {
    "duration": 54,
    "start_time": "2023-05-09T10:22:46.836Z"
   },
   {
    "duration": 3,
    "start_time": "2023-05-09T10:22:59.991Z"
   },
   {
    "duration": 6165,
    "start_time": "2023-05-09T10:23:01.036Z"
   },
   {
    "duration": 4,
    "start_time": "2023-05-09T10:23:10.506Z"
   },
   {
    "duration": 6288,
    "start_time": "2023-05-09T10:23:11.884Z"
   },
   {
    "duration": 5,
    "start_time": "2023-05-09T10:23:20.834Z"
   },
   {
    "duration": 6628,
    "start_time": "2023-05-09T10:23:22.556Z"
   },
   {
    "duration": 3,
    "start_time": "2023-05-09T10:23:44.507Z"
   },
   {
    "duration": 6453,
    "start_time": "2023-05-09T10:23:44.511Z"
   },
   {
    "duration": 4,
    "start_time": "2023-05-09T10:23:52.048Z"
   },
   {
    "duration": 6526,
    "start_time": "2023-05-09T10:23:53.590Z"
   },
   {
    "duration": 5,
    "start_time": "2023-05-09T10:26:28.596Z"
   },
   {
    "duration": 7197,
    "start_time": "2023-05-09T10:26:31.859Z"
   },
   {
    "duration": 46,
    "start_time": "2023-05-09T10:26:52.863Z"
   },
   {
    "duration": 44,
    "start_time": "2023-05-09T10:26:59.742Z"
   },
   {
    "duration": 5,
    "start_time": "2023-05-09T10:27:05.803Z"
   },
   {
    "duration": 6692,
    "start_time": "2023-05-09T10:27:12.366Z"
   },
   {
    "duration": 4,
    "start_time": "2023-05-09T10:27:49.217Z"
   },
   {
    "duration": 393,
    "start_time": "2023-05-09T10:27:50.227Z"
   },
   {
    "duration": 3,
    "start_time": "2023-05-09T10:28:40.651Z"
   },
   {
    "duration": 219,
    "start_time": "2023-05-09T10:28:42.952Z"
   },
   {
    "duration": 4,
    "start_time": "2023-05-09T10:29:21.929Z"
   },
   {
    "duration": 4,
    "start_time": "2023-05-09T10:29:28.410Z"
   },
   {
    "duration": 98,
    "start_time": "2023-05-09T10:29:31.119Z"
   },
   {
    "duration": 4,
    "start_time": "2023-05-09T10:29:45.857Z"
   },
   {
    "duration": 165,
    "start_time": "2023-05-09T10:29:48.804Z"
   },
   {
    "duration": 4,
    "start_time": "2023-05-09T10:30:13.181Z"
   },
   {
    "duration": 176,
    "start_time": "2023-05-09T10:30:18.060Z"
   },
   {
    "duration": 3,
    "start_time": "2023-05-09T10:31:39.612Z"
   },
   {
    "duration": 4,
    "start_time": "2023-05-09T10:31:41.932Z"
   },
   {
    "duration": 184,
    "start_time": "2023-05-09T10:31:43.294Z"
   },
   {
    "duration": 4,
    "start_time": "2023-05-09T10:33:16.602Z"
   },
   {
    "duration": 182,
    "start_time": "2023-05-09T10:33:18.161Z"
   },
   {
    "duration": 4,
    "start_time": "2023-05-09T10:33:33.811Z"
   },
   {
    "duration": 185,
    "start_time": "2023-05-09T10:33:35.289Z"
   },
   {
    "duration": 5,
    "start_time": "2023-05-09T10:36:04.742Z"
   },
   {
    "duration": 235,
    "start_time": "2023-05-09T10:36:05.769Z"
   },
   {
    "duration": 166,
    "start_time": "2023-05-09T10:36:51.713Z"
   },
   {
    "duration": 4,
    "start_time": "2023-05-09T10:37:53.281Z"
   },
   {
    "duration": 181,
    "start_time": "2023-05-09T10:37:55.912Z"
   },
   {
    "duration": 75,
    "start_time": "2023-05-09T10:42:53.685Z"
   },
   {
    "duration": 326,
    "start_time": "2023-05-09T10:48:13.600Z"
   },
   {
    "duration": 10,
    "start_time": "2023-05-09T11:00:45.015Z"
   },
   {
    "duration": 145,
    "start_time": "2023-05-09T11:01:22.705Z"
   },
   {
    "duration": 14,
    "start_time": "2023-05-09T11:01:33.992Z"
   },
   {
    "duration": 2163,
    "start_time": "2023-05-09T11:02:56.114Z"
   },
   {
    "duration": 51,
    "start_time": "2023-05-10T06:26:20.717Z"
   },
   {
    "duration": 988,
    "start_time": "2023-05-10T06:26:29.048Z"
   },
   {
    "duration": 3693,
    "start_time": "2023-05-10T06:26:30.039Z"
   },
   {
    "duration": 3,
    "start_time": "2023-05-10T06:26:33.735Z"
   },
   {
    "duration": 9,
    "start_time": "2023-05-10T06:26:33.740Z"
   },
   {
    "duration": 305,
    "start_time": "2023-05-10T06:26:33.751Z"
   },
   {
    "duration": 136,
    "start_time": "2023-05-10T06:26:34.058Z"
   },
   {
    "duration": 254,
    "start_time": "2023-05-10T06:26:34.196Z"
   },
   {
    "duration": 1477,
    "start_time": "2023-05-10T06:26:34.453Z"
   },
   {
    "duration": 1324,
    "start_time": "2023-05-10T06:27:16.557Z"
   },
   {
    "duration": 1690,
    "start_time": "2023-05-10T06:30:11.538Z"
   },
   {
    "duration": 1539,
    "start_time": "2023-05-10T06:30:52.411Z"
   },
   {
    "duration": 1557,
    "start_time": "2023-05-10T06:31:10.411Z"
   },
   {
    "duration": 1751,
    "start_time": "2023-05-10T06:32:20.621Z"
   },
   {
    "duration": 188,
    "start_time": "2023-05-10T06:32:32.929Z"
   },
   {
    "duration": 1609,
    "start_time": "2023-05-10T06:32:48.667Z"
   },
   {
    "duration": 8,
    "start_time": "2023-05-10T06:33:22.138Z"
   },
   {
    "duration": 5,
    "start_time": "2023-05-10T06:35:07.657Z"
   },
   {
    "duration": 1701,
    "start_time": "2023-05-10T09:39:20.789Z"
   },
   {
    "duration": 121,
    "start_time": "2023-05-10T09:40:00.030Z"
   },
   {
    "duration": 9,
    "start_time": "2023-05-10T09:40:07.659Z"
   },
   {
    "duration": 12,
    "start_time": "2023-05-10T09:40:18.920Z"
   },
   {
    "duration": 96,
    "start_time": "2023-05-10T09:40:24.480Z"
   },
   {
    "duration": 0,
    "start_time": "2023-05-10T09:40:24.579Z"
   },
   {
    "duration": 0,
    "start_time": "2023-05-10T09:40:24.581Z"
   },
   {
    "duration": 0,
    "start_time": "2023-05-10T09:40:24.583Z"
   },
   {
    "duration": 0,
    "start_time": "2023-05-10T09:40:24.585Z"
   },
   {
    "duration": 0,
    "start_time": "2023-05-10T09:40:24.586Z"
   },
   {
    "duration": 0,
    "start_time": "2023-05-10T09:40:24.593Z"
   },
   {
    "duration": 0,
    "start_time": "2023-05-10T09:40:24.595Z"
   },
   {
    "duration": 0,
    "start_time": "2023-05-10T09:40:24.596Z"
   },
   {
    "duration": 0,
    "start_time": "2023-05-10T09:40:24.597Z"
   },
   {
    "duration": 99,
    "start_time": "2023-05-10T09:40:40.932Z"
   },
   {
    "duration": 0,
    "start_time": "2023-05-10T09:40:41.033Z"
   },
   {
    "duration": 0,
    "start_time": "2023-05-10T09:40:41.035Z"
   },
   {
    "duration": 0,
    "start_time": "2023-05-10T09:40:41.037Z"
   },
   {
    "duration": 0,
    "start_time": "2023-05-10T09:40:41.038Z"
   },
   {
    "duration": 0,
    "start_time": "2023-05-10T09:40:41.039Z"
   },
   {
    "duration": 0,
    "start_time": "2023-05-10T09:40:41.041Z"
   },
   {
    "duration": 0,
    "start_time": "2023-05-10T09:40:41.042Z"
   },
   {
    "duration": 0,
    "start_time": "2023-05-10T09:40:41.043Z"
   },
   {
    "duration": 0,
    "start_time": "2023-05-10T09:40:41.044Z"
   },
   {
    "duration": 1728,
    "start_time": "2023-05-10T09:41:00.981Z"
   },
   {
    "duration": 3970,
    "start_time": "2023-05-10T09:41:02.712Z"
   },
   {
    "duration": 3,
    "start_time": "2023-05-10T09:41:06.683Z"
   },
   {
    "duration": 14,
    "start_time": "2023-05-10T09:41:06.688Z"
   },
   {
    "duration": 263,
    "start_time": "2023-05-10T09:41:06.708Z"
   },
   {
    "duration": 120,
    "start_time": "2023-05-10T09:41:06.973Z"
   },
   {
    "duration": 292,
    "start_time": "2023-05-10T09:41:07.096Z"
   },
   {
    "duration": 22,
    "start_time": "2023-05-10T09:41:07.393Z"
   },
   {
    "duration": 9,
    "start_time": "2023-05-10T09:41:07.417Z"
   },
   {
    "duration": 6,
    "start_time": "2023-05-10T09:59:01.469Z"
   },
   {
    "duration": 6,
    "start_time": "2023-05-10T09:59:08.268Z"
   },
   {
    "duration": 7,
    "start_time": "2023-05-10T09:59:34.128Z"
   },
   {
    "duration": 7,
    "start_time": "2023-05-10T09:59:42.188Z"
   },
   {
    "duration": 7,
    "start_time": "2023-05-10T10:00:41.323Z"
   },
   {
    "duration": 5,
    "start_time": "2023-05-10T10:00:50.919Z"
   },
   {
    "duration": 4,
    "start_time": "2023-05-10T10:02:54.168Z"
   },
   {
    "duration": 6,
    "start_time": "2023-05-10T10:03:04.028Z"
   },
   {
    "duration": 7,
    "start_time": "2023-05-10T10:04:16.488Z"
   },
   {
    "duration": 45,
    "start_time": "2023-05-10T12:01:48.450Z"
   },
   {
    "duration": 1439,
    "start_time": "2023-05-10T12:01:56.540Z"
   },
   {
    "duration": 2224,
    "start_time": "2023-05-10T12:01:57.981Z"
   },
   {
    "duration": 3,
    "start_time": "2023-05-10T12:02:00.206Z"
   },
   {
    "duration": 27,
    "start_time": "2023-05-10T12:02:00.211Z"
   },
   {
    "duration": 234,
    "start_time": "2023-05-10T12:02:00.240Z"
   },
   {
    "duration": 65,
    "start_time": "2023-05-10T12:02:00.476Z"
   },
   {
    "duration": 199,
    "start_time": "2023-05-10T12:02:00.542Z"
   },
   {
    "duration": 5,
    "start_time": "2023-05-10T12:02:00.742Z"
   },
   {
    "duration": 55,
    "start_time": "2023-05-10T12:02:00.748Z"
   },
   {
    "duration": 42,
    "start_time": "2023-05-10T12:02:00.804Z"
   },
   {
    "duration": 13,
    "start_time": "2023-05-10T12:06:52.010Z"
   },
   {
    "duration": 5,
    "start_time": "2023-05-10T12:10:49.228Z"
   },
   {
    "duration": 10,
    "start_time": "2023-05-10T12:11:00.884Z"
   },
   {
    "duration": 11,
    "start_time": "2023-05-10T12:11:28.538Z"
   },
   {
    "duration": 7,
    "start_time": "2023-05-10T12:11:40.799Z"
   },
   {
    "duration": 116,
    "start_time": "2023-05-10T12:13:44.638Z"
   },
   {
    "duration": 4,
    "start_time": "2023-05-10T12:13:52.235Z"
   },
   {
    "duration": 11,
    "start_time": "2023-05-10T12:14:01.248Z"
   },
   {
    "duration": 11,
    "start_time": "2023-05-10T12:14:07.389Z"
   },
   {
    "duration": 8,
    "start_time": "2023-05-10T12:14:23.448Z"
   },
   {
    "duration": 10,
    "start_time": "2023-05-10T12:14:28.648Z"
   },
   {
    "duration": 11,
    "start_time": "2023-05-10T12:18:09.196Z"
   },
   {
    "duration": 4,
    "start_time": "2023-05-10T12:19:01.396Z"
   },
   {
    "duration": 10,
    "start_time": "2023-05-10T12:19:19.996Z"
   },
   {
    "duration": 11,
    "start_time": "2023-05-10T12:19:30.236Z"
   },
   {
    "duration": 4,
    "start_time": "2023-05-10T12:19:49.271Z"
   },
   {
    "duration": 1274,
    "start_time": "2023-05-10T12:20:11.597Z"
   },
   {
    "duration": 635,
    "start_time": "2023-05-10T12:20:12.873Z"
   },
   {
    "duration": 2,
    "start_time": "2023-05-10T12:20:13.510Z"
   },
   {
    "duration": 14,
    "start_time": "2023-05-10T12:20:13.514Z"
   },
   {
    "duration": 173,
    "start_time": "2023-05-10T12:20:13.529Z"
   },
   {
    "duration": 70,
    "start_time": "2023-05-10T12:20:13.704Z"
   },
   {
    "duration": 156,
    "start_time": "2023-05-10T12:20:13.776Z"
   },
   {
    "duration": 6,
    "start_time": "2023-05-10T12:20:13.933Z"
   },
   {
    "duration": 29,
    "start_time": "2023-05-10T12:20:13.940Z"
   },
   {
    "duration": 9,
    "start_time": "2023-05-10T12:20:13.971Z"
   },
   {
    "duration": 14,
    "start_time": "2023-05-10T12:20:13.981Z"
   },
   {
    "duration": 36,
    "start_time": "2023-05-10T12:20:13.996Z"
   },
   {
    "duration": 16,
    "start_time": "2023-05-10T12:20:14.034Z"
   },
   {
    "duration": 7,
    "start_time": "2023-05-10T12:20:14.052Z"
   },
   {
    "duration": 129,
    "start_time": "2023-05-10T12:20:14.060Z"
   },
   {
    "duration": 0,
    "start_time": "2023-05-10T12:20:14.190Z"
   },
   {
    "duration": 74,
    "start_time": "2023-05-10T15:03:02.264Z"
   },
   {
    "duration": 1800,
    "start_time": "2023-05-10T15:03:10.585Z"
   },
   {
    "duration": 2819,
    "start_time": "2023-05-10T15:03:12.388Z"
   },
   {
    "duration": 3,
    "start_time": "2023-05-10T15:03:15.209Z"
   },
   {
    "duration": 17,
    "start_time": "2023-05-10T15:03:15.214Z"
   },
   {
    "duration": 281,
    "start_time": "2023-05-10T15:03:15.233Z"
   },
   {
    "duration": 88,
    "start_time": "2023-05-10T15:03:15.516Z"
   },
   {
    "duration": 256,
    "start_time": "2023-05-10T15:03:15.606Z"
   },
   {
    "duration": 10,
    "start_time": "2023-05-10T15:03:15.865Z"
   },
   {
    "duration": 19,
    "start_time": "2023-05-10T15:03:15.878Z"
   },
   {
    "duration": 19,
    "start_time": "2023-05-10T15:03:15.900Z"
   },
   {
    "duration": 47,
    "start_time": "2023-05-10T15:03:15.921Z"
   },
   {
    "duration": 29,
    "start_time": "2023-05-10T15:03:15.970Z"
   },
   {
    "duration": 26,
    "start_time": "2023-05-10T15:03:16.001Z"
   },
   {
    "duration": 40,
    "start_time": "2023-05-10T15:03:16.030Z"
   },
   {
    "duration": 18,
    "start_time": "2023-05-10T15:03:16.072Z"
   },
   {
    "duration": 19,
    "start_time": "2023-05-10T15:03:16.093Z"
   },
   {
    "duration": 5,
    "start_time": "2023-05-10T15:05:19.294Z"
   },
   {
    "duration": 143,
    "start_time": "2023-05-10T15:11:59.243Z"
   },
   {
    "duration": 18,
    "start_time": "2023-05-10T15:12:04.194Z"
   },
   {
    "duration": 1661,
    "start_time": "2023-05-10T15:12:17.521Z"
   },
   {
    "duration": 882,
    "start_time": "2023-05-10T15:12:19.186Z"
   },
   {
    "duration": 4,
    "start_time": "2023-05-10T15:12:20.070Z"
   },
   {
    "duration": 9,
    "start_time": "2023-05-10T15:12:20.076Z"
   },
   {
    "duration": 300,
    "start_time": "2023-05-10T15:12:20.088Z"
   },
   {
    "duration": 103,
    "start_time": "2023-05-10T15:12:20.390Z"
   },
   {
    "duration": 234,
    "start_time": "2023-05-10T15:12:20.495Z"
   },
   {
    "duration": 16,
    "start_time": "2023-05-10T15:12:20.741Z"
   },
   {
    "duration": 17,
    "start_time": "2023-05-10T15:12:20.760Z"
   },
   {
    "duration": 11,
    "start_time": "2023-05-10T15:12:20.779Z"
   },
   {
    "duration": 27,
    "start_time": "2023-05-10T15:12:20.792Z"
   },
   {
    "duration": 47,
    "start_time": "2023-05-10T15:12:20.821Z"
   },
   {
    "duration": 25,
    "start_time": "2023-05-10T15:12:20.870Z"
   },
   {
    "duration": 10,
    "start_time": "2023-05-10T15:12:20.897Z"
   },
   {
    "duration": 17,
    "start_time": "2023-05-10T15:12:20.909Z"
   },
   {
    "duration": 19,
    "start_time": "2023-05-10T15:14:45.932Z"
   },
   {
    "duration": 1706,
    "start_time": "2023-05-10T15:14:54.723Z"
   },
   {
    "duration": 847,
    "start_time": "2023-05-10T15:14:56.432Z"
   },
   {
    "duration": 4,
    "start_time": "2023-05-10T15:14:57.281Z"
   },
   {
    "duration": 8,
    "start_time": "2023-05-10T15:14:57.287Z"
   },
   {
    "duration": 265,
    "start_time": "2023-05-10T15:14:57.298Z"
   },
   {
    "duration": 111,
    "start_time": "2023-05-10T15:14:57.565Z"
   },
   {
    "duration": 262,
    "start_time": "2023-05-10T15:14:57.679Z"
   },
   {
    "duration": 9,
    "start_time": "2023-05-10T15:14:57.943Z"
   },
   {
    "duration": 21,
    "start_time": "2023-05-10T15:14:57.953Z"
   },
   {
    "duration": 77,
    "start_time": "2023-05-10T15:14:57.976Z"
   },
   {
    "duration": 60,
    "start_time": "2023-05-10T15:14:58.055Z"
   },
   {
    "duration": 39,
    "start_time": "2023-05-10T15:14:58.117Z"
   },
   {
    "duration": 21,
    "start_time": "2023-05-10T15:14:58.158Z"
   },
   {
    "duration": 9,
    "start_time": "2023-05-10T15:14:58.181Z"
   },
   {
    "duration": 48,
    "start_time": "2023-05-10T15:14:58.193Z"
   },
   {
    "duration": 41,
    "start_time": "2023-05-10T15:14:58.243Z"
   },
   {
    "duration": 326,
    "start_time": "2023-05-10T15:16:21.262Z"
   },
   {
    "duration": 59,
    "start_time": "2023-05-10T18:54:51.169Z"
   },
   {
    "duration": 1803,
    "start_time": "2023-05-10T18:55:02.540Z"
   },
   {
    "duration": 2977,
    "start_time": "2023-05-10T18:55:04.345Z"
   },
   {
    "duration": 3,
    "start_time": "2023-05-10T18:55:07.324Z"
   },
   {
    "duration": 13,
    "start_time": "2023-05-10T18:55:07.329Z"
   },
   {
    "duration": 244,
    "start_time": "2023-05-10T18:55:07.344Z"
   },
   {
    "duration": 97,
    "start_time": "2023-05-10T18:55:07.591Z"
   },
   {
    "duration": 252,
    "start_time": "2023-05-10T18:55:07.690Z"
   },
   {
    "duration": 10,
    "start_time": "2023-05-10T18:55:07.944Z"
   },
   {
    "duration": 19,
    "start_time": "2023-05-10T18:55:07.956Z"
   },
   {
    "duration": 27,
    "start_time": "2023-05-10T18:55:07.987Z"
   },
   {
    "duration": 31,
    "start_time": "2023-05-10T18:55:08.016Z"
   },
   {
    "duration": 18,
    "start_time": "2023-05-10T18:55:08.049Z"
   },
   {
    "duration": 25,
    "start_time": "2023-05-10T18:55:08.069Z"
   },
   {
    "duration": 17,
    "start_time": "2023-05-10T18:55:08.096Z"
   },
   {
    "duration": 9,
    "start_time": "2023-05-10T18:55:08.115Z"
   },
   {
    "duration": 41,
    "start_time": "2023-05-10T18:55:08.127Z"
   },
   {
    "duration": 1002,
    "start_time": "2023-05-10T18:55:08.171Z"
   },
   {
    "duration": 1424,
    "start_time": "2023-05-10T18:56:12.444Z"
   },
   {
    "duration": 871,
    "start_time": "2023-05-10T18:56:13.870Z"
   },
   {
    "duration": 4,
    "start_time": "2023-05-10T18:56:14.742Z"
   },
   {
    "duration": 8,
    "start_time": "2023-05-10T18:56:14.748Z"
   },
   {
    "duration": 245,
    "start_time": "2023-05-10T18:56:14.759Z"
   },
   {
    "duration": 103,
    "start_time": "2023-05-10T18:56:15.006Z"
   },
   {
    "duration": 233,
    "start_time": "2023-05-10T18:56:15.111Z"
   },
   {
    "duration": 7,
    "start_time": "2023-05-10T18:56:15.346Z"
   },
   {
    "duration": 18,
    "start_time": "2023-05-10T18:56:15.355Z"
   },
   {
    "duration": 26,
    "start_time": "2023-05-10T18:56:15.375Z"
   },
   {
    "duration": 51,
    "start_time": "2023-05-10T18:56:15.404Z"
   },
   {
    "duration": 45,
    "start_time": "2023-05-10T18:56:15.457Z"
   },
   {
    "duration": 25,
    "start_time": "2023-05-10T18:56:15.504Z"
   },
   {
    "duration": 9,
    "start_time": "2023-05-10T18:56:15.531Z"
   },
   {
    "duration": 16,
    "start_time": "2023-05-10T18:56:15.541Z"
   },
   {
    "duration": 763,
    "start_time": "2023-05-10T18:56:15.559Z"
   },
   {
    "duration": 14,
    "start_time": "2023-05-10T18:56:16.324Z"
   },
   {
    "duration": 1042,
    "start_time": "2023-05-10T18:56:28.548Z"
   },
   {
    "duration": 844,
    "start_time": "2023-05-10T18:57:06.819Z"
   },
   {
    "duration": 1054,
    "start_time": "2023-05-10T18:57:23.758Z"
   },
   {
    "duration": 1501,
    "start_time": "2023-05-10T18:57:30.692Z"
   },
   {
    "duration": 892,
    "start_time": "2023-05-10T18:57:32.196Z"
   },
   {
    "duration": 3,
    "start_time": "2023-05-10T18:57:33.090Z"
   },
   {
    "duration": 16,
    "start_time": "2023-05-10T18:57:33.095Z"
   },
   {
    "duration": 258,
    "start_time": "2023-05-10T18:57:33.114Z"
   },
   {
    "duration": 107,
    "start_time": "2023-05-10T18:57:33.374Z"
   },
   {
    "duration": 244,
    "start_time": "2023-05-10T18:57:33.489Z"
   },
   {
    "duration": 9,
    "start_time": "2023-05-10T18:57:33.735Z"
   },
   {
    "duration": 16,
    "start_time": "2023-05-10T18:57:33.747Z"
   },
   {
    "duration": 8,
    "start_time": "2023-05-10T18:57:33.782Z"
   },
   {
    "duration": 31,
    "start_time": "2023-05-10T18:57:33.792Z"
   },
   {
    "duration": 23,
    "start_time": "2023-05-10T18:57:33.825Z"
   },
   {
    "duration": 15,
    "start_time": "2023-05-10T18:57:33.851Z"
   },
   {
    "duration": 21,
    "start_time": "2023-05-10T18:57:33.869Z"
   },
   {
    "duration": 36,
    "start_time": "2023-05-10T18:57:33.893Z"
   },
   {
    "duration": 716,
    "start_time": "2023-05-10T18:57:33.931Z"
   },
   {
    "duration": 22,
    "start_time": "2023-05-10T18:57:34.649Z"
   },
   {
    "duration": 1526,
    "start_time": "2023-05-10T18:57:54.568Z"
   },
   {
    "duration": 900,
    "start_time": "2023-05-10T18:57:56.096Z"
   },
   {
    "duration": 3,
    "start_time": "2023-05-10T18:57:56.998Z"
   },
   {
    "duration": 23,
    "start_time": "2023-05-10T18:57:57.003Z"
   },
   {
    "duration": 242,
    "start_time": "2023-05-10T18:57:57.029Z"
   },
   {
    "duration": 95,
    "start_time": "2023-05-10T18:57:57.276Z"
   },
   {
    "duration": 215,
    "start_time": "2023-05-10T18:57:57.373Z"
   },
   {
    "duration": 8,
    "start_time": "2023-05-10T18:57:57.591Z"
   },
   {
    "duration": 43,
    "start_time": "2023-05-10T18:57:57.600Z"
   },
   {
    "duration": 59,
    "start_time": "2023-05-10T18:57:57.645Z"
   },
   {
    "duration": 25,
    "start_time": "2023-05-10T18:57:57.706Z"
   },
   {
    "duration": 36,
    "start_time": "2023-05-10T18:57:57.732Z"
   },
   {
    "duration": 29,
    "start_time": "2023-05-10T18:57:57.770Z"
   },
   {
    "duration": 9,
    "start_time": "2023-05-10T18:57:57.801Z"
   },
   {
    "duration": 19,
    "start_time": "2023-05-10T18:57:57.811Z"
   },
   {
    "duration": 674,
    "start_time": "2023-05-10T18:57:57.832Z"
   },
   {
    "duration": 6,
    "start_time": "2023-05-10T18:57:58.508Z"
   },
   {
    "duration": 714,
    "start_time": "2023-05-10T18:58:04.812Z"
   },
   {
    "duration": 618,
    "start_time": "2023-05-10T18:58:09.659Z"
   },
   {
    "duration": 626,
    "start_time": "2023-05-10T18:58:18.119Z"
   },
   {
    "duration": 809,
    "start_time": "2023-05-10T18:58:21.989Z"
   },
   {
    "duration": 797,
    "start_time": "2023-05-10T19:01:46.769Z"
   },
   {
    "duration": 964,
    "start_time": "2023-05-10T19:02:12.749Z"
   },
   {
    "duration": 723,
    "start_time": "2023-05-10T19:03:07.087Z"
   },
   {
    "duration": 901,
    "start_time": "2023-05-10T19:04:40.958Z"
   },
   {
    "duration": 766,
    "start_time": "2023-05-10T19:04:52.485Z"
   },
   {
    "duration": 898,
    "start_time": "2023-05-10T19:05:17.250Z"
   },
   {
    "duration": 1017,
    "start_time": "2023-05-10T19:05:25.220Z"
   },
   {
    "duration": 733,
    "start_time": "2023-05-10T19:07:03.949Z"
   },
   {
    "duration": 892,
    "start_time": "2023-05-10T19:07:08.047Z"
   },
   {
    "duration": 743,
    "start_time": "2023-05-10T19:07:12.612Z"
   },
   {
    "duration": 972,
    "start_time": "2023-05-10T19:07:20.820Z"
   },
   {
    "duration": 776,
    "start_time": "2023-05-10T19:07:28.069Z"
   },
   {
    "duration": 895,
    "start_time": "2023-05-10T19:07:55.011Z"
   },
   {
    "duration": 804,
    "start_time": "2023-05-10T19:08:02.011Z"
   },
   {
    "duration": 971,
    "start_time": "2023-05-10T19:09:33.516Z"
   },
   {
    "duration": 81,
    "start_time": "2023-05-10T19:10:06.250Z"
   },
   {
    "duration": 796,
    "start_time": "2023-05-10T19:10:31.160Z"
   },
   {
    "duration": 729,
    "start_time": "2023-05-10T19:10:36.308Z"
   },
   {
    "duration": 940,
    "start_time": "2023-05-10T19:10:53.075Z"
   },
   {
    "duration": 955,
    "start_time": "2023-05-10T19:18:52.289Z"
   },
   {
    "duration": 1025,
    "start_time": "2023-05-10T19:21:13.129Z"
   },
   {
    "duration": 868,
    "start_time": "2023-05-10T19:21:33.428Z"
   },
   {
    "duration": 1288,
    "start_time": "2023-05-10T19:21:42.269Z"
   },
   {
    "duration": 962,
    "start_time": "2023-05-10T19:23:20.789Z"
   },
   {
    "duration": 1038,
    "start_time": "2023-05-10T19:23:40.898Z"
   },
   {
    "duration": 831,
    "start_time": "2023-05-10T19:23:50.951Z"
   },
   {
    "duration": 951,
    "start_time": "2023-05-10T19:28:24.548Z"
   },
   {
    "duration": 1092,
    "start_time": "2023-05-10T19:28:57.520Z"
   },
   {
    "duration": 789,
    "start_time": "2023-05-10T19:31:41.918Z"
   },
   {
    "duration": 1067,
    "start_time": "2023-05-10T19:32:55.698Z"
   },
   {
    "duration": 9,
    "start_time": "2023-05-10T19:37:05.248Z"
   },
   {
    "duration": 83,
    "start_time": "2023-05-10T19:39:00.947Z"
   },
   {
    "duration": 63,
    "start_time": "2023-05-10T19:39:34.068Z"
   },
   {
    "duration": 68,
    "start_time": "2023-05-10T19:39:42.837Z"
   },
   {
    "duration": 78,
    "start_time": "2023-05-10T19:39:56.880Z"
   },
   {
    "duration": 601,
    "start_time": "2023-05-10T19:41:03.541Z"
   },
   {
    "duration": 848,
    "start_time": "2023-05-10T19:41:19.298Z"
   },
   {
    "duration": 625,
    "start_time": "2023-05-10T19:42:15.056Z"
   },
   {
    "duration": 696,
    "start_time": "2023-05-10T19:42:24.939Z"
   },
   {
    "duration": 838,
    "start_time": "2023-05-10T19:42:33.369Z"
   },
   {
    "duration": 659,
    "start_time": "2023-05-10T20:04:21.583Z"
   },
   {
    "duration": 12,
    "start_time": "2023-05-10T20:04:27.093Z"
   },
   {
    "duration": 1298,
    "start_time": "2023-05-10T20:04:28.786Z"
   },
   {
    "duration": 627,
    "start_time": "2023-05-10T20:04:32.990Z"
   },
   {
    "duration": 728,
    "start_time": "2023-05-10T20:04:43.138Z"
   },
   {
    "duration": 175,
    "start_time": "2023-05-10T20:16:50.250Z"
   },
   {
    "duration": 6,
    "start_time": "2023-05-10T20:16:54.608Z"
   },
   {
    "duration": 1649,
    "start_time": "2023-05-11T05:55:47.153Z"
   },
   {
    "duration": 2614,
    "start_time": "2023-05-11T05:55:48.804Z"
   },
   {
    "duration": 4,
    "start_time": "2023-05-11T05:55:51.420Z"
   },
   {
    "duration": 41,
    "start_time": "2023-05-11T05:55:51.426Z"
   },
   {
    "duration": 251,
    "start_time": "2023-05-11T05:55:51.469Z"
   },
   {
    "duration": 89,
    "start_time": "2023-05-11T05:55:51.721Z"
   },
   {
    "duration": 227,
    "start_time": "2023-05-11T05:55:51.812Z"
   },
   {
    "duration": 7,
    "start_time": "2023-05-11T05:55:52.041Z"
   },
   {
    "duration": 8,
    "start_time": "2023-05-11T05:55:52.050Z"
   },
   {
    "duration": 6,
    "start_time": "2023-05-11T05:55:52.071Z"
   },
   {
    "duration": 37,
    "start_time": "2023-05-11T05:55:52.079Z"
   },
   {
    "duration": 25,
    "start_time": "2023-05-11T05:55:52.118Z"
   },
   {
    "duration": 22,
    "start_time": "2023-05-11T05:55:52.144Z"
   },
   {
    "duration": 10,
    "start_time": "2023-05-11T05:55:52.170Z"
   },
   {
    "duration": 28,
    "start_time": "2023-05-11T05:55:52.183Z"
   },
   {
    "duration": 742,
    "start_time": "2023-05-11T05:55:52.214Z"
   },
   {
    "duration": 794,
    "start_time": "2023-05-11T05:55:52.958Z"
   },
   {
    "duration": 760,
    "start_time": "2023-05-11T05:55:53.754Z"
   },
   {
    "duration": 845,
    "start_time": "2023-05-11T05:55:54.517Z"
   },
   {
    "duration": 795,
    "start_time": "2023-05-11T05:55:55.363Z"
   },
   {
    "duration": 875,
    "start_time": "2023-05-11T05:55:56.161Z"
   },
   {
    "duration": 709,
    "start_time": "2023-05-11T05:55:57.038Z"
   },
   {
    "duration": 911,
    "start_time": "2023-05-11T05:55:57.750Z"
   },
   {
    "duration": 14,
    "start_time": "2023-05-11T05:55:58.664Z"
   },
   {
    "duration": 747,
    "start_time": "2023-05-11T05:55:58.680Z"
   },
   {
    "duration": 668,
    "start_time": "2023-05-11T05:55:59.429Z"
   },
   {
    "duration": 7,
    "start_time": "2023-05-11T05:56:00.099Z"
   },
   {
    "duration": 1704,
    "start_time": "2023-05-11T05:57:29.871Z"
   },
   {
    "duration": 808,
    "start_time": "2023-05-11T05:57:31.577Z"
   },
   {
    "duration": 3,
    "start_time": "2023-05-11T05:57:32.387Z"
   },
   {
    "duration": 28,
    "start_time": "2023-05-11T05:57:32.391Z"
   },
   {
    "duration": 264,
    "start_time": "2023-05-11T05:57:32.422Z"
   },
   {
    "duration": 102,
    "start_time": "2023-05-11T05:57:32.689Z"
   },
   {
    "duration": 220,
    "start_time": "2023-05-11T05:57:32.794Z"
   },
   {
    "duration": 7,
    "start_time": "2023-05-11T05:57:33.016Z"
   },
   {
    "duration": 14,
    "start_time": "2023-05-11T05:57:33.024Z"
   },
   {
    "duration": 15,
    "start_time": "2023-05-11T05:57:33.040Z"
   },
   {
    "duration": 53,
    "start_time": "2023-05-11T05:57:33.057Z"
   },
   {
    "duration": 42,
    "start_time": "2023-05-11T05:57:33.112Z"
   },
   {
    "duration": 17,
    "start_time": "2023-05-11T05:57:33.156Z"
   },
   {
    "duration": 23,
    "start_time": "2023-05-11T05:57:33.177Z"
   },
   {
    "duration": 21,
    "start_time": "2023-05-11T05:57:33.202Z"
   },
   {
    "duration": 716,
    "start_time": "2023-05-11T05:57:33.226Z"
   },
   {
    "duration": 837,
    "start_time": "2023-05-11T05:57:33.945Z"
   },
   {
    "duration": 717,
    "start_time": "2023-05-11T05:57:34.784Z"
   },
   {
    "duration": 891,
    "start_time": "2023-05-11T05:57:35.503Z"
   },
   {
    "duration": 723,
    "start_time": "2023-05-11T05:57:36.397Z"
   },
   {
    "duration": 886,
    "start_time": "2023-05-11T05:57:37.122Z"
   },
   {
    "duration": 684,
    "start_time": "2023-05-11T05:57:38.010Z"
   },
   {
    "duration": 812,
    "start_time": "2023-05-11T05:57:38.696Z"
   },
   {
    "duration": 9,
    "start_time": "2023-05-11T05:57:39.510Z"
   },
   {
    "duration": 710,
    "start_time": "2023-05-11T05:57:39.521Z"
   },
   {
    "duration": 676,
    "start_time": "2023-05-11T05:57:40.234Z"
   },
   {
    "duration": 12,
    "start_time": "2023-05-11T05:57:40.913Z"
   },
   {
    "duration": 4,
    "start_time": "2023-05-11T06:04:28.353Z"
   },
   {
    "duration": 147,
    "start_time": "2023-05-11T06:08:57.962Z"
   },
   {
    "duration": 4,
    "start_time": "2023-05-11T06:09:06.307Z"
   },
   {
    "duration": 4,
    "start_time": "2023-05-11T06:09:08.021Z"
   },
   {
    "duration": 143,
    "start_time": "2023-05-11T06:19:46.711Z"
   },
   {
    "duration": 250,
    "start_time": "2023-05-11T06:20:00.581Z"
   },
   {
    "duration": 5,
    "start_time": "2023-05-11T06:21:38.580Z"
   },
   {
    "duration": 6,
    "start_time": "2023-05-11T06:22:17.200Z"
   },
   {
    "duration": 5,
    "start_time": "2023-05-11T06:23:35.350Z"
   },
   {
    "duration": 6,
    "start_time": "2023-05-11T06:25:30.820Z"
   },
   {
    "duration": 8,
    "start_time": "2023-05-11T06:34:55.542Z"
   },
   {
    "duration": 241,
    "start_time": "2023-05-11T06:40:51.741Z"
   },
   {
    "duration": 4,
    "start_time": "2023-05-11T06:49:17.181Z"
   },
   {
    "duration": 18,
    "start_time": "2023-05-11T06:59:19.972Z"
   },
   {
    "duration": 42,
    "start_time": "2023-05-11T07:00:43.352Z"
   },
   {
    "duration": 6,
    "start_time": "2023-05-11T07:01:22.712Z"
   },
   {
    "duration": 5,
    "start_time": "2023-05-11T07:01:32.482Z"
   },
   {
    "duration": 35,
    "start_time": "2023-05-11T07:02:11.701Z"
   },
   {
    "duration": 87,
    "start_time": "2023-05-11T07:27:32.500Z"
   },
   {
    "duration": 224,
    "start_time": "2023-05-11T07:27:38.610Z"
   },
   {
    "duration": 176,
    "start_time": "2023-05-11T07:28:24.599Z"
   },
   {
    "duration": 123,
    "start_time": "2023-05-11T07:28:42.642Z"
   },
   {
    "duration": 197,
    "start_time": "2023-05-11T07:29:00.269Z"
   },
   {
    "duration": 71,
    "start_time": "2023-05-11T07:29:22.100Z"
   },
   {
    "duration": 1878,
    "start_time": "2023-05-11T07:39:38.049Z"
   },
   {
    "duration": 857,
    "start_time": "2023-05-11T07:39:39.930Z"
   },
   {
    "duration": 4,
    "start_time": "2023-05-11T07:39:40.789Z"
   },
   {
    "duration": 16,
    "start_time": "2023-05-11T07:39:40.795Z"
   },
   {
    "duration": 253,
    "start_time": "2023-05-11T07:39:40.813Z"
   },
   {
    "duration": 75,
    "start_time": "2023-05-11T07:39:41.072Z"
   },
   {
    "duration": 248,
    "start_time": "2023-05-11T07:39:41.149Z"
   },
   {
    "duration": 9,
    "start_time": "2023-05-11T07:39:41.399Z"
   },
   {
    "duration": 20,
    "start_time": "2023-05-11T07:39:41.410Z"
   },
   {
    "duration": 13,
    "start_time": "2023-05-11T07:39:41.434Z"
   },
   {
    "duration": 31,
    "start_time": "2023-05-11T07:39:41.449Z"
   },
   {
    "duration": 57,
    "start_time": "2023-05-11T07:39:41.482Z"
   },
   {
    "duration": 18,
    "start_time": "2023-05-11T07:39:41.541Z"
   },
   {
    "duration": 11,
    "start_time": "2023-05-11T07:39:41.561Z"
   },
   {
    "duration": 23,
    "start_time": "2023-05-11T07:39:41.574Z"
   },
   {
    "duration": 880,
    "start_time": "2023-05-11T07:39:41.599Z"
   },
   {
    "duration": 741,
    "start_time": "2023-05-11T07:39:42.482Z"
   },
   {
    "duration": 747,
    "start_time": "2023-05-11T07:39:43.225Z"
   },
   {
    "duration": 951,
    "start_time": "2023-05-11T07:39:43.975Z"
   },
   {
    "duration": 764,
    "start_time": "2023-05-11T07:39:44.928Z"
   },
   {
    "duration": 1006,
    "start_time": "2023-05-11T07:39:45.694Z"
   },
   {
    "duration": 722,
    "start_time": "2023-05-11T07:39:46.702Z"
   },
   {
    "duration": 896,
    "start_time": "2023-05-11T07:39:47.426Z"
   },
   {
    "duration": 9,
    "start_time": "2023-05-11T07:39:48.325Z"
   },
   {
    "duration": 789,
    "start_time": "2023-05-11T07:39:48.336Z"
   },
   {
    "duration": 876,
    "start_time": "2023-05-11T07:39:49.127Z"
   },
   {
    "duration": 13,
    "start_time": "2023-05-11T07:39:50.006Z"
   },
   {
    "duration": 28,
    "start_time": "2023-05-11T07:39:50.022Z"
   },
   {
    "duration": 61,
    "start_time": "2023-05-11T07:39:50.052Z"
   },
   {
    "duration": 84,
    "start_time": "2023-05-11T07:39:50.115Z"
   },
   {
    "duration": 5,
    "start_time": "2023-05-11T07:39:50.201Z"
   },
   {
    "duration": 5,
    "start_time": "2023-05-11T07:50:28.092Z"
   },
   {
    "duration": 126,
    "start_time": "2023-05-11T07:50:42.908Z"
   },
   {
    "duration": 4,
    "start_time": "2023-05-11T07:52:13.078Z"
   },
   {
    "duration": 4,
    "start_time": "2023-05-11T07:52:21.338Z"
   },
   {
    "duration": 5,
    "start_time": "2023-05-11T07:52:57.918Z"
   },
   {
    "duration": 19,
    "start_time": "2023-05-11T07:53:16.919Z"
   },
   {
    "duration": 92,
    "start_time": "2023-05-11T07:53:24.688Z"
   },
   {
    "duration": 70,
    "start_time": "2023-05-11T07:55:33.446Z"
   },
   {
    "duration": 4,
    "start_time": "2023-05-11T07:58:14.217Z"
   },
   {
    "duration": 4,
    "start_time": "2023-05-11T07:58:16.218Z"
   },
   {
    "duration": 5,
    "start_time": "2023-05-11T07:58:26.746Z"
   },
   {
    "duration": 70,
    "start_time": "2023-05-11T08:02:13.189Z"
   },
   {
    "duration": 73,
    "start_time": "2023-05-11T08:03:21.089Z"
   },
   {
    "duration": 138,
    "start_time": "2023-05-11T08:03:33.268Z"
   },
   {
    "duration": 64,
    "start_time": "2023-05-11T08:03:40.479Z"
   },
   {
    "duration": 84,
    "start_time": "2023-05-11T08:05:32.668Z"
   },
   {
    "duration": 84,
    "start_time": "2023-05-11T08:07:02.413Z"
   },
   {
    "duration": 10,
    "start_time": "2023-05-11T08:07:17.143Z"
   },
   {
    "duration": 79,
    "start_time": "2023-05-11T08:07:18.898Z"
   },
   {
    "duration": 4,
    "start_time": "2023-05-11T08:09:09.118Z"
   },
   {
    "duration": 3,
    "start_time": "2023-05-11T08:09:18.878Z"
   },
   {
    "duration": 4,
    "start_time": "2023-05-11T08:09:35.439Z"
   },
   {
    "duration": 8,
    "start_time": "2023-05-11T08:09:40.520Z"
   },
   {
    "duration": 83,
    "start_time": "2023-05-11T08:09:59.239Z"
   },
   {
    "duration": 8,
    "start_time": "2023-05-11T08:10:47.119Z"
   },
   {
    "duration": 3699,
    "start_time": "2023-05-11T08:10:49.378Z"
   },
   {
    "duration": 4,
    "start_time": "2023-05-11T08:11:25.809Z"
   },
   {
    "duration": 6,
    "start_time": "2023-05-11T08:11:28.658Z"
   },
   {
    "duration": 5,
    "start_time": "2023-05-11T08:11:30.998Z"
   },
   {
    "duration": 4,
    "start_time": "2023-05-11T08:11:33.190Z"
   },
   {
    "duration": 7,
    "start_time": "2023-05-11T08:11:36.088Z"
   },
   {
    "duration": 4014,
    "start_time": "2023-05-11T08:11:36.759Z"
   },
   {
    "duration": 3594,
    "start_time": "2023-05-11T08:14:51.779Z"
   },
   {
    "duration": 4,
    "start_time": "2023-05-11T08:15:47.574Z"
   },
   {
    "duration": 4,
    "start_time": "2023-05-11T08:15:48.735Z"
   },
   {
    "duration": 3,
    "start_time": "2023-05-11T08:15:50.244Z"
   },
   {
    "duration": 12,
    "start_time": "2023-05-11T08:15:51.508Z"
   },
   {
    "duration": 3386,
    "start_time": "2023-05-11T08:15:52.792Z"
   },
   {
    "duration": 3385,
    "start_time": "2023-05-11T08:18:38.988Z"
   },
   {
    "duration": 63,
    "start_time": "2023-05-11T08:20:23.097Z"
   },
   {
    "duration": 4,
    "start_time": "2023-05-11T08:20:29.339Z"
   },
   {
    "duration": 11,
    "start_time": "2023-05-11T08:20:30.549Z"
   },
   {
    "duration": 1897,
    "start_time": "2023-05-11T08:20:44.058Z"
   },
   {
    "duration": 2951,
    "start_time": "2023-05-11T08:20:45.958Z"
   },
   {
    "duration": 3,
    "start_time": "2023-05-11T08:20:48.911Z"
   },
   {
    "duration": 9,
    "start_time": "2023-05-11T08:20:48.917Z"
   },
   {
    "duration": 317,
    "start_time": "2023-05-11T08:20:48.928Z"
   },
   {
    "duration": 130,
    "start_time": "2023-05-11T08:20:49.247Z"
   },
   {
    "duration": 265,
    "start_time": "2023-05-11T08:20:49.379Z"
   },
   {
    "duration": 9,
    "start_time": "2023-05-11T08:20:49.647Z"
   },
   {
    "duration": 31,
    "start_time": "2023-05-11T08:20:49.671Z"
   },
   {
    "duration": 11,
    "start_time": "2023-05-11T08:20:49.706Z"
   },
   {
    "duration": 35,
    "start_time": "2023-05-11T08:20:49.719Z"
   },
   {
    "duration": 31,
    "start_time": "2023-05-11T08:20:49.757Z"
   },
   {
    "duration": 19,
    "start_time": "2023-05-11T08:20:49.789Z"
   },
   {
    "duration": 9,
    "start_time": "2023-05-11T08:20:49.810Z"
   },
   {
    "duration": 36,
    "start_time": "2023-05-11T08:20:49.821Z"
   },
   {
    "duration": 896,
    "start_time": "2023-05-11T08:20:49.859Z"
   },
   {
    "duration": 769,
    "start_time": "2023-05-11T08:20:50.757Z"
   },
   {
    "duration": 785,
    "start_time": "2023-05-11T08:20:51.528Z"
   },
   {
    "duration": 951,
    "start_time": "2023-05-11T08:20:52.315Z"
   },
   {
    "duration": 775,
    "start_time": "2023-05-11T08:20:53.271Z"
   },
   {
    "duration": 943,
    "start_time": "2023-05-11T08:20:54.049Z"
   },
   {
    "duration": 732,
    "start_time": "2023-05-11T08:20:54.996Z"
   },
   {
    "duration": 1004,
    "start_time": "2023-05-11T08:20:55.731Z"
   },
   {
    "duration": 10,
    "start_time": "2023-05-11T08:20:56.737Z"
   },
   {
    "duration": 796,
    "start_time": "2023-05-11T08:20:56.749Z"
   },
   {
    "duration": 948,
    "start_time": "2023-05-11T08:20:57.548Z"
   },
   {
    "duration": 15,
    "start_time": "2023-05-11T08:20:58.504Z"
   },
   {
    "duration": 38,
    "start_time": "2023-05-11T08:20:58.523Z"
   },
   {
    "duration": 37,
    "start_time": "2023-05-11T08:20:58.563Z"
   },
   {
    "duration": 32,
    "start_time": "2023-05-11T08:20:58.601Z"
   },
   {
    "duration": 39,
    "start_time": "2023-05-11T08:20:58.635Z"
   },
   {
    "duration": 37,
    "start_time": "2023-05-11T08:20:58.676Z"
   },
   {
    "duration": 67,
    "start_time": "2023-05-11T08:21:16.447Z"
   },
   {
    "duration": 2101,
    "start_time": "2023-05-11T08:21:24.306Z"
   },
   {
    "duration": 2667,
    "start_time": "2023-05-11T08:21:26.410Z"
   },
   {
    "duration": 4,
    "start_time": "2023-05-11T08:21:29.079Z"
   },
   {
    "duration": 24,
    "start_time": "2023-05-11T08:21:29.085Z"
   },
   {
    "duration": 288,
    "start_time": "2023-05-11T08:21:29.111Z"
   },
   {
    "duration": 109,
    "start_time": "2023-05-11T08:21:29.402Z"
   },
   {
    "duration": 262,
    "start_time": "2023-05-11T08:21:29.513Z"
   },
   {
    "duration": 8,
    "start_time": "2023-05-11T08:21:29.777Z"
   },
   {
    "duration": 16,
    "start_time": "2023-05-11T08:21:29.787Z"
   },
   {
    "duration": 21,
    "start_time": "2023-05-11T08:21:29.806Z"
   },
   {
    "duration": 45,
    "start_time": "2023-05-11T08:21:29.830Z"
   },
   {
    "duration": 61,
    "start_time": "2023-05-11T08:21:29.877Z"
   },
   {
    "duration": 25,
    "start_time": "2023-05-11T08:21:29.940Z"
   },
   {
    "duration": 12,
    "start_time": "2023-05-11T08:21:29.969Z"
   },
   {
    "duration": 24,
    "start_time": "2023-05-11T08:21:29.983Z"
   },
   {
    "duration": 957,
    "start_time": "2023-05-11T08:21:30.010Z"
   },
   {
    "duration": 761,
    "start_time": "2023-05-11T08:21:30.977Z"
   },
   {
    "duration": 807,
    "start_time": "2023-05-11T08:21:31.740Z"
   },
   {
    "duration": 1018,
    "start_time": "2023-05-11T08:21:32.549Z"
   },
   {
    "duration": 777,
    "start_time": "2023-05-11T08:21:33.572Z"
   },
   {
    "duration": 919,
    "start_time": "2023-05-11T08:21:34.351Z"
   },
   {
    "duration": 932,
    "start_time": "2023-05-11T08:21:35.272Z"
   },
   {
    "duration": 972,
    "start_time": "2023-05-11T08:21:36.206Z"
   },
   {
    "duration": 12,
    "start_time": "2023-05-11T08:21:37.180Z"
   },
   {
    "duration": 964,
    "start_time": "2023-05-11T08:21:37.194Z"
   },
   {
    "duration": 945,
    "start_time": "2023-05-11T08:21:38.160Z"
   },
   {
    "duration": 13,
    "start_time": "2023-05-11T08:21:39.108Z"
   },
   {
    "duration": 7,
    "start_time": "2023-05-11T08:21:39.124Z"
   },
   {
    "duration": 49,
    "start_time": "2023-05-11T08:21:39.133Z"
   },
   {
    "duration": 24,
    "start_time": "2023-05-11T08:21:39.185Z"
   },
   {
    "duration": 18,
    "start_time": "2023-05-11T08:21:39.211Z"
   },
   {
    "duration": 19,
    "start_time": "2023-05-11T08:21:39.232Z"
   },
   {
    "duration": 1683,
    "start_time": "2023-05-11T08:21:53.450Z"
   },
   {
    "duration": 2616,
    "start_time": "2023-05-11T08:21:55.136Z"
   },
   {
    "duration": 4,
    "start_time": "2023-05-11T08:21:57.754Z"
   },
   {
    "duration": 11,
    "start_time": "2023-05-11T08:21:57.760Z"
   },
   {
    "duration": 288,
    "start_time": "2023-05-11T08:21:57.774Z"
   },
   {
    "duration": 145,
    "start_time": "2023-05-11T08:21:58.065Z"
   },
   {
    "duration": 236,
    "start_time": "2023-05-11T08:21:58.212Z"
   },
   {
    "duration": 10,
    "start_time": "2023-05-11T08:21:58.450Z"
   },
   {
    "duration": 16,
    "start_time": "2023-05-11T08:21:58.472Z"
   },
   {
    "duration": 38,
    "start_time": "2023-05-11T08:21:58.491Z"
   },
   {
    "duration": 32,
    "start_time": "2023-05-11T08:21:58.531Z"
   },
   {
    "duration": 44,
    "start_time": "2023-05-11T08:21:58.565Z"
   },
   {
    "duration": 169,
    "start_time": "2023-05-11T08:21:58.612Z"
   },
   {
    "duration": 13,
    "start_time": "2023-05-11T08:21:58.786Z"
   },
   {
    "duration": 33,
    "start_time": "2023-05-11T08:21:58.801Z"
   },
   {
    "duration": 890,
    "start_time": "2023-05-11T08:21:58.838Z"
   },
   {
    "duration": 747,
    "start_time": "2023-05-11T08:21:59.730Z"
   },
   {
    "duration": 1062,
    "start_time": "2023-05-11T08:22:00.480Z"
   },
   {
    "duration": 974,
    "start_time": "2023-05-11T08:22:01.545Z"
   },
   {
    "duration": 807,
    "start_time": "2023-05-11T08:22:02.522Z"
   },
   {
    "duration": 981,
    "start_time": "2023-05-11T08:22:03.331Z"
   },
   {
    "duration": 800,
    "start_time": "2023-05-11T08:22:04.314Z"
   },
   {
    "duration": 1089,
    "start_time": "2023-05-11T08:22:05.116Z"
   },
   {
    "duration": 13,
    "start_time": "2023-05-11T08:22:06.208Z"
   },
   {
    "duration": 887,
    "start_time": "2023-05-11T08:22:06.225Z"
   },
   {
    "duration": 1010,
    "start_time": "2023-05-11T08:22:07.115Z"
   },
   {
    "duration": 12,
    "start_time": "2023-05-11T08:22:08.127Z"
   },
   {
    "duration": 17,
    "start_time": "2023-05-11T08:22:08.141Z"
   },
   {
    "duration": 29,
    "start_time": "2023-05-11T08:22:08.161Z"
   },
   {
    "duration": 16,
    "start_time": "2023-05-11T08:22:08.193Z"
   },
   {
    "duration": 23,
    "start_time": "2023-05-11T08:22:08.211Z"
   },
   {
    "duration": 20,
    "start_time": "2023-05-11T08:22:08.237Z"
   },
   {
    "duration": 3914,
    "start_time": "2023-05-11T08:22:08.259Z"
   },
   {
    "duration": 5,
    "start_time": "2023-05-11T08:22:12.175Z"
   },
   {
    "duration": 4322,
    "start_time": "2023-05-11T08:27:39.668Z"
   },
   {
    "duration": 4673,
    "start_time": "2023-05-11T08:27:52.719Z"
   },
   {
    "duration": 6015,
    "start_time": "2023-05-11T08:27:59.068Z"
   },
   {
    "duration": 5551,
    "start_time": "2023-05-11T08:28:16.928Z"
   },
   {
    "duration": 2570,
    "start_time": "2023-05-11T14:23:21.197Z"
   },
   {
    "duration": 3260,
    "start_time": "2023-05-11T14:23:23.770Z"
   },
   {
    "duration": 4,
    "start_time": "2023-05-11T14:23:27.032Z"
   },
   {
    "duration": 29,
    "start_time": "2023-05-11T14:23:27.039Z"
   },
   {
    "duration": 279,
    "start_time": "2023-05-11T14:23:27.070Z"
   },
   {
    "duration": 103,
    "start_time": "2023-05-11T14:23:27.352Z"
   },
   {
    "duration": 258,
    "start_time": "2023-05-11T14:23:27.457Z"
   },
   {
    "duration": 13,
    "start_time": "2023-05-11T14:23:27.717Z"
   },
   {
    "duration": 38,
    "start_time": "2023-05-11T14:23:27.732Z"
   },
   {
    "duration": 17,
    "start_time": "2023-05-11T14:23:27.772Z"
   },
   {
    "duration": 47,
    "start_time": "2023-05-11T14:23:27.791Z"
   },
   {
    "duration": 28,
    "start_time": "2023-05-11T14:23:27.840Z"
   },
   {
    "duration": 14,
    "start_time": "2023-05-11T14:23:27.870Z"
   },
   {
    "duration": 7,
    "start_time": "2023-05-11T14:23:27.887Z"
   },
   {
    "duration": 47,
    "start_time": "2023-05-11T14:23:27.896Z"
   },
   {
    "duration": 944,
    "start_time": "2023-05-11T14:23:27.945Z"
   },
   {
    "duration": 799,
    "start_time": "2023-05-11T14:23:28.890Z"
   },
   {
    "duration": 859,
    "start_time": "2023-05-11T14:23:29.691Z"
   },
   {
    "duration": 987,
    "start_time": "2023-05-11T14:23:30.551Z"
   },
   {
    "duration": 934,
    "start_time": "2023-05-11T14:23:31.540Z"
   },
   {
    "duration": 1003,
    "start_time": "2023-05-11T14:23:32.476Z"
   },
   {
    "duration": 883,
    "start_time": "2023-05-11T14:23:33.481Z"
   },
   {
    "duration": 917,
    "start_time": "2023-05-11T14:23:34.366Z"
   },
   {
    "duration": 14,
    "start_time": "2023-05-11T14:23:35.285Z"
   },
   {
    "duration": 906,
    "start_time": "2023-05-11T14:23:35.301Z"
   },
   {
    "duration": 1008,
    "start_time": "2023-05-11T14:23:36.209Z"
   },
   {
    "duration": 17,
    "start_time": "2023-05-11T14:23:37.225Z"
   },
   {
    "duration": 26,
    "start_time": "2023-05-11T14:23:37.244Z"
   },
   {
    "duration": 55,
    "start_time": "2023-05-11T14:23:37.273Z"
   },
   {
    "duration": 18,
    "start_time": "2023-05-11T14:23:37.331Z"
   },
   {
    "duration": 20,
    "start_time": "2023-05-11T14:23:37.352Z"
   },
   {
    "duration": 52,
    "start_time": "2023-05-11T14:23:37.374Z"
   },
   {
    "duration": 4677,
    "start_time": "2023-05-11T14:23:37.429Z"
   },
   {
    "duration": 718392,
    "start_time": "2023-05-11T14:23:42.114Z"
   },
   {
    "duration": 12152,
    "start_time": "2023-05-11T14:35:40.508Z"
   },
   {
    "duration": 2236,
    "start_time": "2023-05-11T14:35:57.401Z"
   },
   {
    "duration": 2097,
    "start_time": "2023-05-11T14:35:59.639Z"
   },
   {
    "duration": 63,
    "start_time": "2023-05-11T14:36:01.740Z"
   },
   {
    "duration": 1663,
    "start_time": "2023-05-11T14:36:37.385Z"
   },
   {
    "duration": 973,
    "start_time": "2023-05-11T14:36:39.052Z"
   },
   {
    "duration": 3,
    "start_time": "2023-05-11T14:36:40.028Z"
   },
   {
    "duration": 23,
    "start_time": "2023-05-11T14:36:40.032Z"
   },
   {
    "duration": 264,
    "start_time": "2023-05-11T14:36:40.059Z"
   },
   {
    "duration": 117,
    "start_time": "2023-05-11T14:36:40.326Z"
   },
   {
    "duration": 217,
    "start_time": "2023-05-11T14:36:40.445Z"
   },
   {
    "duration": 8,
    "start_time": "2023-05-11T14:36:40.664Z"
   },
   {
    "duration": 29,
    "start_time": "2023-05-11T14:36:40.673Z"
   },
   {
    "duration": 61,
    "start_time": "2023-05-11T14:36:40.704Z"
   },
   {
    "duration": 86,
    "start_time": "2023-05-11T14:36:40.767Z"
   },
   {
    "duration": 27,
    "start_time": "2023-05-11T14:36:40.855Z"
   },
   {
    "duration": 35,
    "start_time": "2023-05-11T14:36:40.884Z"
   },
   {
    "duration": 23,
    "start_time": "2023-05-11T14:36:40.923Z"
   },
   {
    "duration": 14,
    "start_time": "2023-05-11T14:36:40.949Z"
   },
   {
    "duration": 959,
    "start_time": "2023-05-11T14:36:40.965Z"
   },
   {
    "duration": 779,
    "start_time": "2023-05-11T14:36:41.926Z"
   },
   {
    "duration": 862,
    "start_time": "2023-05-11T14:36:42.707Z"
   },
   {
    "duration": 982,
    "start_time": "2023-05-11T14:36:43.570Z"
   },
   {
    "duration": 821,
    "start_time": "2023-05-11T14:36:44.554Z"
   },
   {
    "duration": 915,
    "start_time": "2023-05-11T14:36:45.377Z"
   },
   {
    "duration": 751,
    "start_time": "2023-05-11T14:36:46.298Z"
   },
   {
    "duration": 1048,
    "start_time": "2023-05-11T14:36:47.051Z"
   },
   {
    "duration": 10,
    "start_time": "2023-05-11T14:36:48.101Z"
   },
   {
    "duration": 855,
    "start_time": "2023-05-11T14:36:48.113Z"
   },
   {
    "duration": 981,
    "start_time": "2023-05-11T14:36:48.969Z"
   },
   {
    "duration": 11,
    "start_time": "2023-05-11T14:36:49.954Z"
   },
   {
    "duration": 8,
    "start_time": "2023-05-11T14:36:49.967Z"
   },
   {
    "duration": 10,
    "start_time": "2023-05-11T14:36:49.977Z"
   },
   {
    "duration": 41,
    "start_time": "2023-05-11T14:36:49.996Z"
   },
   {
    "duration": 8,
    "start_time": "2023-05-11T14:36:50.039Z"
   },
   {
    "duration": 29,
    "start_time": "2023-05-11T14:36:50.049Z"
   },
   {
    "duration": 2060,
    "start_time": "2023-05-11T14:36:50.080Z"
   },
   {
    "duration": 1771,
    "start_time": "2023-05-11T14:36:52.143Z"
   },
   {
    "duration": 102,
    "start_time": "2023-05-11T14:36:53.929Z"
   },
   {
    "duration": 1660,
    "start_time": "2023-05-11T14:42:11.920Z"
   },
   {
    "duration": 1056,
    "start_time": "2023-05-11T14:42:13.582Z"
   },
   {
    "duration": 3,
    "start_time": "2023-05-11T14:42:14.641Z"
   },
   {
    "duration": 14,
    "start_time": "2023-05-11T14:42:14.647Z"
   },
   {
    "duration": 277,
    "start_time": "2023-05-11T14:42:14.664Z"
   },
   {
    "duration": 97,
    "start_time": "2023-05-11T14:42:14.943Z"
   },
   {
    "duration": 246,
    "start_time": "2023-05-11T14:42:15.042Z"
   },
   {
    "duration": 13,
    "start_time": "2023-05-11T14:42:15.290Z"
   },
   {
    "duration": 37,
    "start_time": "2023-05-11T14:42:15.306Z"
   },
   {
    "duration": 11,
    "start_time": "2023-05-11T14:42:15.345Z"
   },
   {
    "duration": 15,
    "start_time": "2023-05-11T14:42:15.358Z"
   },
   {
    "duration": 34,
    "start_time": "2023-05-11T14:42:15.375Z"
   },
   {
    "duration": 45,
    "start_time": "2023-05-11T14:42:15.412Z"
   },
   {
    "duration": 19,
    "start_time": "2023-05-11T14:42:15.460Z"
   },
   {
    "duration": 82,
    "start_time": "2023-05-11T14:42:15.482Z"
   },
   {
    "duration": 922,
    "start_time": "2023-05-11T14:42:15.566Z"
   },
   {
    "duration": 968,
    "start_time": "2023-05-11T14:42:16.490Z"
   },
   {
    "duration": 812,
    "start_time": "2023-05-11T14:42:17.460Z"
   },
   {
    "duration": 1022,
    "start_time": "2023-05-11T14:42:18.274Z"
   },
   {
    "duration": 984,
    "start_time": "2023-05-11T14:42:19.299Z"
   },
   {
    "duration": 935,
    "start_time": "2023-05-11T14:42:20.285Z"
   },
   {
    "duration": 769,
    "start_time": "2023-05-11T14:42:21.225Z"
   },
   {
    "duration": 857,
    "start_time": "2023-05-11T14:42:22.000Z"
   },
   {
    "duration": 9,
    "start_time": "2023-05-11T14:42:22.858Z"
   },
   {
    "duration": 814,
    "start_time": "2023-05-11T14:42:22.868Z"
   },
   {
    "duration": 968,
    "start_time": "2023-05-11T14:42:23.684Z"
   },
   {
    "duration": 15,
    "start_time": "2023-05-11T14:42:24.654Z"
   },
   {
    "duration": 62,
    "start_time": "2023-05-11T14:42:24.671Z"
   },
   {
    "duration": 25,
    "start_time": "2023-05-11T14:42:24.736Z"
   },
   {
    "duration": 14,
    "start_time": "2023-05-11T14:42:24.763Z"
   },
   {
    "duration": 13,
    "start_time": "2023-05-11T14:42:24.779Z"
   },
   {
    "duration": 53,
    "start_time": "2023-05-11T14:42:24.794Z"
   },
   {
    "duration": 2086,
    "start_time": "2023-05-11T14:42:24.849Z"
   },
   {
    "duration": 2382,
    "start_time": "2023-05-11T14:42:26.937Z"
   },
   {
    "duration": 96,
    "start_time": "2023-05-11T14:42:29.336Z"
   },
   {
    "duration": 349465,
    "start_time": "2023-05-11T14:42:29.434Z"
   },
   {
    "duration": 356212,
    "start_time": "2023-05-11T14:48:18.901Z"
   },
   {
    "duration": 4,
    "start_time": "2023-05-11T14:54:15.116Z"
   },
   {
    "duration": 6191,
    "start_time": "2023-05-11T14:54:15.122Z"
   },
   {
    "duration": 6022,
    "start_time": "2023-05-11T14:54:21.314Z"
   },
   {
    "duration": 3,
    "start_time": "2023-05-11T14:54:27.340Z"
   },
   {
    "duration": 5793,
    "start_time": "2023-05-11T14:55:10.976Z"
   },
   {
    "duration": 5990,
    "start_time": "2023-05-11T14:55:26.159Z"
   },
   {
    "duration": 5916,
    "start_time": "2023-05-11T14:58:22.078Z"
   },
   {
    "duration": 5955,
    "start_time": "2023-05-11T14:58:38.788Z"
   },
   {
    "duration": 5923,
    "start_time": "2023-05-11T14:58:50.488Z"
   },
   {
    "duration": 3168,
    "start_time": "2023-05-11T14:59:40.722Z"
   },
   {
    "duration": 5832,
    "start_time": "2023-05-11T14:59:53.088Z"
   },
   {
    "duration": 5979,
    "start_time": "2023-05-11T15:00:54.258Z"
   },
   {
    "duration": 1760,
    "start_time": "2023-05-11T15:12:16.026Z"
   },
   {
    "duration": 1530,
    "start_time": "2023-05-11T15:12:32.735Z"
   },
   {
    "duration": 1340,
    "start_time": "2023-05-11T15:13:10.896Z"
   },
   {
    "duration": 1365,
    "start_time": "2023-05-11T15:13:45.546Z"
   },
   {
    "duration": 1375,
    "start_time": "2023-05-11T15:13:57.666Z"
   },
   {
    "duration": 1388,
    "start_time": "2023-05-11T15:14:39.436Z"
   },
   {
    "duration": 1703,
    "start_time": "2023-05-11T15:15:00.920Z"
   },
   {
    "duration": 1747,
    "start_time": "2023-05-11T15:15:21.926Z"
   },
   {
    "duration": 1678,
    "start_time": "2023-05-11T15:15:38.770Z"
   },
   {
    "duration": 1356,
    "start_time": "2023-05-11T15:16:07.797Z"
   },
   {
    "duration": 1618,
    "start_time": "2023-05-11T15:16:24.519Z"
   },
   {
    "duration": 1499,
    "start_time": "2023-05-11T15:17:41.715Z"
   },
   {
    "duration": 4,
    "start_time": "2023-05-11T15:18:24.033Z"
   },
   {
    "duration": 3,
    "start_time": "2023-05-11T15:18:44.644Z"
   },
   {
    "duration": 6020,
    "start_time": "2023-05-11T15:18:51.245Z"
   },
   {
    "duration": 6027,
    "start_time": "2023-05-11T15:19:01.079Z"
   },
   {
    "duration": 8,
    "start_time": "2023-05-11T15:19:41.415Z"
   },
   {
    "duration": 6,
    "start_time": "2023-05-11T15:19:52.286Z"
   },
   {
    "duration": 4,
    "start_time": "2023-05-11T15:20:17.381Z"
   },
   {
    "duration": 5842,
    "start_time": "2023-05-11T15:20:19.217Z"
   },
   {
    "duration": 3,
    "start_time": "2023-05-11T15:20:46.518Z"
   },
   {
    "duration": 6012,
    "start_time": "2023-05-11T15:20:48.917Z"
   },
   {
    "duration": 5955,
    "start_time": "2023-05-11T15:21:00.037Z"
   },
   {
    "duration": 24,
    "start_time": "2023-05-11T15:21:40.614Z"
   },
   {
    "duration": 5,
    "start_time": "2023-05-11T15:21:46.182Z"
   },
   {
    "duration": 5,
    "start_time": "2023-05-11T15:22:10.489Z"
   },
   {
    "duration": 6150,
    "start_time": "2023-05-11T15:23:34.789Z"
   },
   {
    "duration": 1818,
    "start_time": "2023-05-11T15:26:11.413Z"
   },
   {
    "duration": 968,
    "start_time": "2023-05-11T15:26:13.233Z"
   },
   {
    "duration": 4,
    "start_time": "2023-05-11T15:26:14.213Z"
   },
   {
    "duration": 12,
    "start_time": "2023-05-11T15:26:14.219Z"
   },
   {
    "duration": 290,
    "start_time": "2023-05-11T15:26:14.235Z"
   },
   {
    "duration": 109,
    "start_time": "2023-05-11T15:26:14.528Z"
   },
   {
    "duration": 246,
    "start_time": "2023-05-11T15:26:14.639Z"
   },
   {
    "duration": 23,
    "start_time": "2023-05-11T15:26:14.887Z"
   },
   {
    "duration": 5,
    "start_time": "2023-05-11T15:26:14.913Z"
   },
   {
    "duration": 11,
    "start_time": "2023-05-11T15:26:14.919Z"
   },
   {
    "duration": 21,
    "start_time": "2023-05-11T15:26:14.932Z"
   },
   {
    "duration": 24,
    "start_time": "2023-05-11T15:26:14.955Z"
   },
   {
    "duration": 36,
    "start_time": "2023-05-11T15:26:14.981Z"
   },
   {
    "duration": 9,
    "start_time": "2023-05-11T15:26:15.021Z"
   },
   {
    "duration": 18,
    "start_time": "2023-05-11T15:26:15.032Z"
   },
   {
    "duration": 900,
    "start_time": "2023-05-11T15:26:15.052Z"
   },
   {
    "duration": 765,
    "start_time": "2023-05-11T15:26:15.955Z"
   },
   {
    "duration": 892,
    "start_time": "2023-05-11T15:26:16.722Z"
   },
   {
    "duration": 941,
    "start_time": "2023-05-11T15:26:17.617Z"
   },
   {
    "duration": 783,
    "start_time": "2023-05-11T15:26:18.560Z"
   },
   {
    "duration": 911,
    "start_time": "2023-05-11T15:26:19.345Z"
   },
   {
    "duration": 883,
    "start_time": "2023-05-11T15:26:20.258Z"
   },
   {
    "duration": 905,
    "start_time": "2023-05-11T15:26:21.143Z"
   },
   {
    "duration": 9,
    "start_time": "2023-05-11T15:26:22.050Z"
   },
   {
    "duration": 801,
    "start_time": "2023-05-11T15:26:22.060Z"
   },
   {
    "duration": 980,
    "start_time": "2023-05-11T15:26:22.863Z"
   },
   {
    "duration": 13,
    "start_time": "2023-05-11T15:26:23.845Z"
   },
   {
    "duration": 11,
    "start_time": "2023-05-11T15:26:23.860Z"
   },
   {
    "duration": 39,
    "start_time": "2023-05-11T15:26:23.873Z"
   },
   {
    "duration": 11,
    "start_time": "2023-05-11T15:26:23.915Z"
   },
   {
    "duration": 13,
    "start_time": "2023-05-11T15:26:23.928Z"
   },
   {
    "duration": 2393,
    "start_time": "2023-05-11T15:26:23.943Z"
   },
   {
    "duration": 5594,
    "start_time": "2023-05-11T15:26:26.412Z"
   },
   {
    "duration": 9,
    "start_time": "2023-05-11T15:26:32.014Z"
   },
   {
    "duration": 345701,
    "start_time": "2023-05-11T15:26:32.030Z"
   },
   {
    "duration": 344025,
    "start_time": "2023-05-11T15:32:17.733Z"
   },
   {
    "duration": 5,
    "start_time": "2023-05-11T15:38:01.760Z"
   },
   {
    "duration": 67,
    "start_time": "2023-05-11T15:38:01.767Z"
   },
   {
    "duration": 6898,
    "start_time": "2023-05-11T15:38:01.836Z"
   },
   {
    "duration": 5,
    "start_time": "2023-05-11T15:38:08.736Z"
   },
   {
    "duration": 6497,
    "start_time": "2023-05-11T15:38:08.745Z"
   },
   {
    "duration": 5,
    "start_time": "2023-05-11T15:38:15.244Z"
   },
   {
    "duration": 18,
    "start_time": "2023-05-11T15:38:15.251Z"
   },
   {
    "duration": 5962,
    "start_time": "2023-05-11T15:41:21.596Z"
   },
   {
    "duration": 163,
    "start_time": "2023-05-11T15:45:52.493Z"
   },
   {
    "duration": 13,
    "start_time": "2023-05-11T15:46:19.022Z"
   },
   {
    "duration": 6,
    "start_time": "2023-05-11T15:46:36.682Z"
   },
   {
    "duration": 9,
    "start_time": "2023-05-11T15:46:44.132Z"
   },
   {
    "duration": 4,
    "start_time": "2023-05-11T15:47:08.932Z"
   },
   {
    "duration": 5918,
    "start_time": "2023-05-11T15:47:18.620Z"
   },
   {
    "duration": 5885,
    "start_time": "2023-05-11T15:48:28.763Z"
   },
   {
    "duration": 5467,
    "start_time": "2023-05-11T15:48:40.497Z"
   },
   {
    "duration": 6126,
    "start_time": "2023-05-11T15:49:12.982Z"
   },
   {
    "duration": 12553,
    "start_time": "2023-05-11T15:51:50.832Z"
   },
   {
    "duration": 13435,
    "start_time": "2023-05-11T15:52:16.486Z"
   },
   {
    "duration": 13013,
    "start_time": "2023-05-11T15:53:42.413Z"
   },
   {
    "duration": 13930,
    "start_time": "2023-05-11T15:54:03.341Z"
   },
   {
    "duration": 13686,
    "start_time": "2023-05-11T15:55:39.161Z"
   },
   {
    "duration": 51,
    "start_time": "2023-05-11T15:58:20.697Z"
   },
   {
    "duration": 12,
    "start_time": "2023-05-11T15:58:52.604Z"
   },
   {
    "duration": 9,
    "start_time": "2023-05-11T15:59:08.760Z"
   },
   {
    "duration": 11,
    "start_time": "2023-05-11T15:59:56.411Z"
   },
   {
    "duration": 6,
    "start_time": "2023-05-11T16:00:25.356Z"
   },
   {
    "duration": 14083,
    "start_time": "2023-05-11T16:00:39.091Z"
   },
   {
    "duration": 14146,
    "start_time": "2023-05-11T16:01:44.495Z"
   },
   {
    "duration": 6372,
    "start_time": "2023-05-11T16:02:33.776Z"
   },
   {
    "duration": 1611,
    "start_time": "2023-05-11T16:02:47.429Z"
   },
   {
    "duration": 1096,
    "start_time": "2023-05-11T16:02:49.042Z"
   },
   {
    "duration": 4,
    "start_time": "2023-05-11T16:02:50.140Z"
   },
   {
    "duration": 15,
    "start_time": "2023-05-11T16:02:50.146Z"
   },
   {
    "duration": 349,
    "start_time": "2023-05-11T16:02:50.165Z"
   },
   {
    "duration": 110,
    "start_time": "2023-05-11T16:02:50.518Z"
   },
   {
    "duration": 280,
    "start_time": "2023-05-11T16:02:50.630Z"
   },
   {
    "duration": 9,
    "start_time": "2023-05-11T16:02:50.918Z"
   },
   {
    "duration": 13,
    "start_time": "2023-05-11T16:02:50.930Z"
   },
   {
    "duration": 26,
    "start_time": "2023-05-11T16:02:50.944Z"
   },
   {
    "duration": 26,
    "start_time": "2023-05-11T16:02:50.972Z"
   },
   {
    "duration": 42,
    "start_time": "2023-05-11T16:02:51.004Z"
   },
   {
    "duration": 16,
    "start_time": "2023-05-11T16:02:51.049Z"
   },
   {
    "duration": 9,
    "start_time": "2023-05-11T16:02:51.069Z"
   },
   {
    "duration": 12,
    "start_time": "2023-05-11T16:02:51.081Z"
   },
   {
    "duration": 952,
    "start_time": "2023-05-11T16:02:51.099Z"
   },
   {
    "duration": 800,
    "start_time": "2023-05-11T16:02:52.053Z"
   },
   {
    "duration": 889,
    "start_time": "2023-05-11T16:02:52.855Z"
   },
   {
    "duration": 970,
    "start_time": "2023-05-11T16:02:53.746Z"
   },
   {
    "duration": 826,
    "start_time": "2023-05-11T16:02:54.725Z"
   },
   {
    "duration": 911,
    "start_time": "2023-05-11T16:02:55.554Z"
   },
   {
    "duration": 888,
    "start_time": "2023-05-11T16:02:56.467Z"
   },
   {
    "duration": 916,
    "start_time": "2023-05-11T16:02:57.357Z"
   },
   {
    "duration": 10,
    "start_time": "2023-05-11T16:02:58.274Z"
   },
   {
    "duration": 854,
    "start_time": "2023-05-11T16:02:58.285Z"
   },
   {
    "duration": 896,
    "start_time": "2023-05-11T16:02:59.141Z"
   },
   {
    "duration": 11,
    "start_time": "2023-05-11T16:03:00.039Z"
   },
   {
    "duration": 17,
    "start_time": "2023-05-11T16:03:00.052Z"
   },
   {
    "duration": 25,
    "start_time": "2023-05-11T16:03:00.071Z"
   },
   {
    "duration": 32,
    "start_time": "2023-05-11T16:03:00.105Z"
   },
   {
    "duration": 20,
    "start_time": "2023-05-11T16:03:00.139Z"
   },
   {
    "duration": 2754,
    "start_time": "2023-05-11T16:03:00.161Z"
   },
   {
    "duration": 4090,
    "start_time": "2023-05-11T16:03:02.929Z"
   },
   {
    "duration": 64,
    "start_time": "2023-05-11T16:03:07.035Z"
   },
   {
    "duration": 1889,
    "start_time": "2023-05-11T18:27:39.877Z"
   },
   {
    "duration": 3868,
    "start_time": "2023-05-11T18:27:41.772Z"
   },
   {
    "duration": 11,
    "start_time": "2023-05-11T18:27:45.643Z"
   },
   {
    "duration": 53,
    "start_time": "2023-05-11T18:27:45.655Z"
   },
   {
    "duration": 270,
    "start_time": "2023-05-11T18:27:45.711Z"
   },
   {
    "duration": 107,
    "start_time": "2023-05-11T18:27:45.987Z"
   },
   {
    "duration": 231,
    "start_time": "2023-05-11T18:27:46.096Z"
   },
   {
    "duration": 8,
    "start_time": "2023-05-11T18:27:46.329Z"
   },
   {
    "duration": 47,
    "start_time": "2023-05-11T18:27:46.355Z"
   },
   {
    "duration": 11,
    "start_time": "2023-05-11T18:27:46.405Z"
   },
   {
    "duration": 22,
    "start_time": "2023-05-11T18:27:46.419Z"
   },
   {
    "duration": 71,
    "start_time": "2023-05-11T18:27:46.445Z"
   },
   {
    "duration": 53,
    "start_time": "2023-05-11T18:27:46.518Z"
   },
   {
    "duration": 13,
    "start_time": "2023-05-11T18:27:46.581Z"
   },
   {
    "duration": 32,
    "start_time": "2023-05-11T18:27:46.596Z"
   },
   {
    "duration": 981,
    "start_time": "2023-05-11T18:27:46.631Z"
   },
   {
    "duration": 820,
    "start_time": "2023-05-11T18:27:47.614Z"
   },
   {
    "duration": 956,
    "start_time": "2023-05-11T18:27:48.436Z"
   },
   {
    "duration": 1039,
    "start_time": "2023-05-11T18:27:49.393Z"
   },
   {
    "duration": 904,
    "start_time": "2023-05-11T18:27:50.434Z"
   },
   {
    "duration": 981,
    "start_time": "2023-05-11T18:27:51.340Z"
   },
   {
    "duration": 991,
    "start_time": "2023-05-11T18:27:52.323Z"
   },
   {
    "duration": 965,
    "start_time": "2023-05-11T18:27:53.316Z"
   },
   {
    "duration": 11,
    "start_time": "2023-05-11T18:27:54.283Z"
   },
   {
    "duration": 891,
    "start_time": "2023-05-11T18:27:54.296Z"
   },
   {
    "duration": 997,
    "start_time": "2023-05-11T18:27:55.191Z"
   },
   {
    "duration": 12,
    "start_time": "2023-05-11T18:27:56.190Z"
   },
   {
    "duration": 7,
    "start_time": "2023-05-11T18:27:56.204Z"
   },
   {
    "duration": 22,
    "start_time": "2023-05-11T18:27:56.213Z"
   },
   {
    "duration": 42,
    "start_time": "2023-05-11T18:27:56.237Z"
   },
   {
    "duration": 12,
    "start_time": "2023-05-11T18:27:56.290Z"
   },
   {
    "duration": 5151,
    "start_time": "2023-05-11T18:27:56.304Z"
   },
   {
    "duration": 5146,
    "start_time": "2023-05-11T18:28:01.464Z"
   },
   {
    "duration": 40,
    "start_time": "2023-05-11T18:28:06.612Z"
   },
   {
    "duration": 1731,
    "start_time": "2023-05-11T18:30:18.380Z"
   },
   {
    "duration": 1104,
    "start_time": "2023-05-11T18:30:20.113Z"
   },
   {
    "duration": 4,
    "start_time": "2023-05-11T18:30:21.219Z"
   },
   {
    "duration": 48,
    "start_time": "2023-05-11T18:30:21.226Z"
   },
   {
    "duration": 304,
    "start_time": "2023-05-11T18:30:21.285Z"
   },
   {
    "duration": 129,
    "start_time": "2023-05-11T18:30:21.591Z"
   },
   {
    "duration": 263,
    "start_time": "2023-05-11T18:30:21.723Z"
   },
   {
    "duration": 10,
    "start_time": "2023-05-11T18:30:21.987Z"
   },
   {
    "duration": 23,
    "start_time": "2023-05-11T18:30:22.003Z"
   },
   {
    "duration": 11,
    "start_time": "2023-05-11T18:30:22.028Z"
   },
   {
    "duration": 67,
    "start_time": "2023-05-11T18:30:22.040Z"
   },
   {
    "duration": 36,
    "start_time": "2023-05-11T18:30:22.109Z"
   },
   {
    "duration": 47,
    "start_time": "2023-05-11T18:30:22.147Z"
   },
   {
    "duration": 12,
    "start_time": "2023-05-11T18:30:22.203Z"
   },
   {
    "duration": 18,
    "start_time": "2023-05-11T18:30:22.217Z"
   },
   {
    "duration": 1133,
    "start_time": "2023-05-11T18:30:22.237Z"
   },
   {
    "duration": 883,
    "start_time": "2023-05-11T18:30:23.381Z"
   },
   {
    "duration": 1054,
    "start_time": "2023-05-11T18:30:24.267Z"
   },
   {
    "duration": 1048,
    "start_time": "2023-05-11T18:30:25.323Z"
   },
   {
    "duration": 927,
    "start_time": "2023-05-11T18:30:26.373Z"
   },
   {
    "duration": 940,
    "start_time": "2023-05-11T18:30:27.303Z"
   },
   {
    "duration": 845,
    "start_time": "2023-05-11T18:30:28.245Z"
   },
   {
    "duration": 1003,
    "start_time": "2023-05-11T18:30:29.099Z"
   },
   {
    "duration": 11,
    "start_time": "2023-05-11T18:30:30.103Z"
   },
   {
    "duration": 1054,
    "start_time": "2023-05-11T18:30:30.116Z"
   },
   {
    "duration": 1284,
    "start_time": "2023-05-11T18:30:31.181Z"
   },
   {
    "duration": 34,
    "start_time": "2023-05-11T18:30:32.475Z"
   },
   {
    "duration": 26,
    "start_time": "2023-05-11T18:30:32.518Z"
   },
   {
    "duration": 93,
    "start_time": "2023-05-11T18:30:32.546Z"
   },
   {
    "duration": 80,
    "start_time": "2023-05-11T18:30:32.641Z"
   },
   {
    "duration": 27,
    "start_time": "2023-05-11T18:30:32.723Z"
   },
   {
    "duration": 194,
    "start_time": "2023-05-11T18:30:51.517Z"
   },
   {
    "duration": 26,
    "start_time": "2023-05-11T18:31:26.903Z"
   },
   {
    "duration": 7415,
    "start_time": "2023-05-11T18:32:51.391Z"
   },
   {
    "duration": 7134,
    "start_time": "2023-05-11T18:33:04.754Z"
   },
   {
    "duration": 7152,
    "start_time": "2023-05-11T18:33:29.717Z"
   },
   {
    "duration": 6,
    "start_time": "2023-05-11T18:34:26.308Z"
   },
   {
    "duration": 15,
    "start_time": "2023-05-11T18:34:55.398Z"
   },
   {
    "duration": 263,
    "start_time": "2023-05-11T18:35:01.206Z"
   },
   {
    "duration": 137,
    "start_time": "2023-05-11T18:36:00.921Z"
   },
   {
    "duration": 7052,
    "start_time": "2023-05-11T18:37:18.318Z"
   },
   {
    "duration": 98,
    "start_time": "2023-05-11T18:39:09.409Z"
   },
   {
    "duration": 66,
    "start_time": "2023-05-11T18:39:27.686Z"
   },
   {
    "duration": 172,
    "start_time": "2023-05-11T18:39:44.563Z"
   },
   {
    "duration": 284,
    "start_time": "2023-05-11T18:40:05.298Z"
   },
   {
    "duration": 97,
    "start_time": "2023-05-11T18:40:45.081Z"
   },
   {
    "duration": 6,
    "start_time": "2023-05-11T18:40:51.687Z"
   },
   {
    "duration": 127,
    "start_time": "2023-05-11T18:41:00.476Z"
   },
   {
    "duration": 3,
    "start_time": "2023-05-11T18:41:43.222Z"
   },
   {
    "duration": 8,
    "start_time": "2023-05-11T18:41:49.097Z"
   },
   {
    "duration": 7265,
    "start_time": "2023-05-11T18:41:53.838Z"
   },
   {
    "duration": 8,
    "start_time": "2023-05-11T18:42:25.384Z"
   },
   {
    "duration": 16396,
    "start_time": "2023-05-11T18:42:57.690Z"
   },
   {
    "duration": 16066,
    "start_time": "2023-05-11T18:43:20.436Z"
   },
   {
    "duration": 7000,
    "start_time": "2023-05-11T18:43:56.581Z"
   },
   {
    "duration": 3,
    "start_time": "2023-05-11T18:45:10.693Z"
   },
   {
    "duration": 7230,
    "start_time": "2023-05-11T18:45:16.469Z"
   },
   {
    "duration": 3,
    "start_time": "2023-05-11T18:45:37.325Z"
   },
   {
    "duration": 264,
    "start_time": "2023-05-11T18:48:33.977Z"
   },
   {
    "duration": 85,
    "start_time": "2023-05-11T18:49:21.831Z"
   },
   {
    "duration": 122,
    "start_time": "2023-05-11T18:50:55.592Z"
   },
   {
    "duration": 129,
    "start_time": "2023-05-11T18:51:09.978Z"
   },
   {
    "duration": 116,
    "start_time": "2023-05-11T18:52:51.800Z"
   },
   {
    "duration": 142,
    "start_time": "2023-05-11T18:53:08.091Z"
   },
   {
    "duration": 5,
    "start_time": "2023-05-11T18:53:12.438Z"
   },
   {
    "duration": 197,
    "start_time": "2023-05-11T18:53:31.844Z"
   },
   {
    "duration": 69,
    "start_time": "2023-05-11T18:54:07.475Z"
   },
   {
    "duration": 5,
    "start_time": "2023-05-11T18:54:10.461Z"
   },
   {
    "duration": 119,
    "start_time": "2023-05-11T18:54:44.855Z"
   },
   {
    "duration": 116,
    "start_time": "2023-05-11T18:54:57.295Z"
   },
   {
    "duration": 189,
    "start_time": "2023-05-11T18:55:01.699Z"
   },
   {
    "duration": 61,
    "start_time": "2023-05-11T18:55:08.315Z"
   },
   {
    "duration": 5,
    "start_time": "2023-05-11T18:55:13.016Z"
   },
   {
    "duration": 5,
    "start_time": "2023-05-11T18:55:17.092Z"
   },
   {
    "duration": 4,
    "start_time": "2023-05-11T18:55:19.993Z"
   },
   {
    "duration": 7230,
    "start_time": "2023-05-11T18:55:23.011Z"
   },
   {
    "duration": 7254,
    "start_time": "2023-05-11T18:55:40.175Z"
   },
   {
    "duration": 4,
    "start_time": "2023-05-11T18:57:09.992Z"
   },
   {
    "duration": 6,
    "start_time": "2023-05-11T18:57:17.644Z"
   },
   {
    "duration": 8,
    "start_time": "2023-05-11T18:57:18.380Z"
   },
   {
    "duration": 7338,
    "start_time": "2023-05-11T18:57:21.827Z"
   },
   {
    "duration": 7276,
    "start_time": "2023-05-11T18:57:37.779Z"
   },
   {
    "duration": 7355,
    "start_time": "2023-05-11T18:58:22.563Z"
   },
   {
    "duration": 4,
    "start_time": "2023-05-11T18:58:29.920Z"
   },
   {
    "duration": 1662,
    "start_time": "2023-05-11T18:58:56.508Z"
   },
   {
    "duration": 1250,
    "start_time": "2023-05-11T18:58:58.172Z"
   },
   {
    "duration": 4,
    "start_time": "2023-05-11T18:58:59.424Z"
   },
   {
    "duration": 70,
    "start_time": "2023-05-11T18:58:59.430Z"
   },
   {
    "duration": 296,
    "start_time": "2023-05-11T18:58:59.502Z"
   },
   {
    "duration": 166,
    "start_time": "2023-05-11T18:58:59.799Z"
   },
   {
    "duration": 254,
    "start_time": "2023-05-11T18:58:59.967Z"
   },
   {
    "duration": 6,
    "start_time": "2023-05-11T18:59:00.223Z"
   },
   {
    "duration": 108,
    "start_time": "2023-05-11T18:59:00.231Z"
   },
   {
    "duration": 101,
    "start_time": "2023-05-11T18:59:00.342Z"
   },
   {
    "duration": 158,
    "start_time": "2023-05-11T18:59:00.453Z"
   },
   {
    "duration": 83,
    "start_time": "2023-05-11T18:59:00.613Z"
   },
   {
    "duration": 47,
    "start_time": "2023-05-11T18:59:00.698Z"
   },
   {
    "duration": 55,
    "start_time": "2023-05-11T18:59:00.760Z"
   },
   {
    "duration": 82,
    "start_time": "2023-05-11T18:59:00.817Z"
   },
   {
    "duration": 1142,
    "start_time": "2023-05-11T18:59:00.901Z"
   },
   {
    "duration": 1050,
    "start_time": "2023-05-11T18:59:02.055Z"
   },
   {
    "duration": 1173,
    "start_time": "2023-05-11T18:59:03.111Z"
   },
   {
    "duration": 1137,
    "start_time": "2023-05-11T18:59:04.289Z"
   },
   {
    "duration": 1131,
    "start_time": "2023-05-11T18:59:05.428Z"
   },
   {
    "duration": 1207,
    "start_time": "2023-05-11T18:59:06.571Z"
   },
   {
    "duration": 930,
    "start_time": "2023-05-11T18:59:07.781Z"
   },
   {
    "duration": 1021,
    "start_time": "2023-05-11T18:59:08.716Z"
   },
   {
    "duration": 19,
    "start_time": "2023-05-11T18:59:09.738Z"
   },
   {
    "duration": 1062,
    "start_time": "2023-05-11T18:59:09.758Z"
   },
   {
    "duration": 1051,
    "start_time": "2023-05-11T18:59:10.822Z"
   },
   {
    "duration": 23,
    "start_time": "2023-05-11T18:59:11.875Z"
   },
   {
    "duration": 21,
    "start_time": "2023-05-11T18:59:11.906Z"
   },
   {
    "duration": 15,
    "start_time": "2023-05-11T18:59:11.929Z"
   },
   {
    "duration": 63,
    "start_time": "2023-05-11T18:59:11.949Z"
   },
   {
    "duration": 16,
    "start_time": "2023-05-11T18:59:12.014Z"
   },
   {
    "duration": 4021,
    "start_time": "2023-05-11T18:59:12.032Z"
   },
   {
    "duration": 3154,
    "start_time": "2023-05-11T18:59:16.061Z"
   },
   {
    "duration": 41,
    "start_time": "2023-05-11T18:59:19.217Z"
   },
   {
    "duration": 400315,
    "start_time": "2023-05-11T18:59:19.273Z"
   },
   {
    "duration": 365889,
    "start_time": "2023-05-11T19:05:59.591Z"
   },
   {
    "duration": 5,
    "start_time": "2023-05-11T19:12:05.484Z"
   },
   {
    "duration": 18,
    "start_time": "2023-05-11T19:12:05.492Z"
   },
   {
    "duration": 6701,
    "start_time": "2023-05-11T19:12:05.512Z"
   },
   {
    "duration": 184,
    "start_time": "2023-05-11T19:12:12.214Z"
   },
   {
    "duration": 0,
    "start_time": "2023-05-11T19:12:12.400Z"
   },
   {
    "duration": 0,
    "start_time": "2023-05-11T19:12:12.402Z"
   },
   {
    "duration": 0,
    "start_time": "2023-05-11T19:12:12.404Z"
   },
   {
    "duration": 0,
    "start_time": "2023-05-11T19:12:12.408Z"
   },
   {
    "duration": 6803,
    "start_time": "2023-05-11T19:20:11.103Z"
   },
   {
    "duration": 6369,
    "start_time": "2023-05-11T19:20:20.324Z"
   },
   {
    "duration": 4,
    "start_time": "2023-05-11T19:20:26.696Z"
   },
   {
    "duration": 15,
    "start_time": "2023-05-11T19:21:58.345Z"
   },
   {
    "duration": 196417,
    "start_time": "2023-05-11T19:26:56.480Z"
   },
   {
    "duration": 25,
    "start_time": "2023-05-11T19:33:12.944Z"
   },
   {
    "duration": 7,
    "start_time": "2023-05-11T19:33:35.607Z"
   },
   {
    "duration": 24,
    "start_time": "2023-05-11T19:37:52.035Z"
   },
   {
    "duration": 10,
    "start_time": "2023-05-11T19:38:18.116Z"
   },
   {
    "duration": 20,
    "start_time": "2023-05-11T19:38:21.337Z"
   },
   {
    "duration": 10,
    "start_time": "2023-05-11T19:47:40.703Z"
   },
   {
    "duration": 27,
    "start_time": "2023-05-11T19:48:47.047Z"
   },
   {
    "duration": 1302,
    "start_time": "2023-05-11T19:49:43.012Z"
   },
   {
    "duration": 1542,
    "start_time": "2023-05-11T19:49:53.227Z"
   },
   {
    "duration": 1942,
    "start_time": "2023-05-11T19:50:04.288Z"
   },
   {
    "duration": 1276,
    "start_time": "2023-05-11T19:50:06.233Z"
   },
   {
    "duration": 11,
    "start_time": "2023-05-11T19:50:07.521Z"
   },
   {
    "duration": 94,
    "start_time": "2023-05-11T19:50:07.535Z"
   },
   {
    "duration": 405,
    "start_time": "2023-05-11T19:50:07.632Z"
   },
   {
    "duration": 190,
    "start_time": "2023-05-11T19:50:08.039Z"
   },
   {
    "duration": 303,
    "start_time": "2023-05-11T19:50:08.232Z"
   },
   {
    "duration": 14,
    "start_time": "2023-05-11T19:50:08.537Z"
   },
   {
    "duration": 78,
    "start_time": "2023-05-11T19:50:08.559Z"
   },
   {
    "duration": 153,
    "start_time": "2023-05-11T19:50:08.639Z"
   },
   {
    "duration": 52,
    "start_time": "2023-05-11T19:50:08.793Z"
   },
   {
    "duration": 93,
    "start_time": "2023-05-11T19:50:08.851Z"
   },
   {
    "duration": 87,
    "start_time": "2023-05-11T19:50:08.951Z"
   },
   {
    "duration": 86,
    "start_time": "2023-05-11T19:50:09.041Z"
   },
   {
    "duration": 97,
    "start_time": "2023-05-11T19:50:09.128Z"
   },
   {
    "duration": 1290,
    "start_time": "2023-05-11T19:50:09.227Z"
   },
   {
    "duration": 905,
    "start_time": "2023-05-11T19:50:10.527Z"
   },
   {
    "duration": 1200,
    "start_time": "2023-05-11T19:50:11.434Z"
   },
   {
    "duration": 1301,
    "start_time": "2023-05-11T19:50:12.643Z"
   },
   {
    "duration": 1034,
    "start_time": "2023-05-11T19:50:13.947Z"
   },
   {
    "duration": 1073,
    "start_time": "2023-05-11T19:50:14.986Z"
   },
   {
    "duration": 947,
    "start_time": "2023-05-11T19:50:16.061Z"
   },
   {
    "duration": 1052,
    "start_time": "2023-05-11T19:50:17.011Z"
   },
   {
    "duration": 10,
    "start_time": "2023-05-11T19:50:18.066Z"
   },
   {
    "duration": 1243,
    "start_time": "2023-05-11T19:50:18.077Z"
   },
   {
    "duration": 1158,
    "start_time": "2023-05-11T19:50:19.324Z"
   },
   {
    "duration": 19,
    "start_time": "2023-05-11T19:50:20.485Z"
   },
   {
    "duration": 27,
    "start_time": "2023-05-11T19:50:20.506Z"
   },
   {
    "duration": 114,
    "start_time": "2023-05-11T19:50:20.536Z"
   },
   {
    "duration": 82,
    "start_time": "2023-05-11T19:50:20.652Z"
   },
   {
    "duration": 88,
    "start_time": "2023-05-11T19:50:20.736Z"
   },
   {
    "duration": 3897,
    "start_time": "2023-05-11T19:50:20.827Z"
   },
   {
    "duration": 3531,
    "start_time": "2023-05-11T19:50:24.726Z"
   },
   {
    "duration": 12,
    "start_time": "2023-05-11T19:50:28.260Z"
   },
   {
    "duration": 417729,
    "start_time": "2023-05-11T19:50:28.284Z"
   },
   {
    "duration": 1976,
    "start_time": "2023-05-11T20:00:59.699Z"
   },
   {
    "duration": 1231,
    "start_time": "2023-05-11T20:01:01.685Z"
   },
   {
    "duration": 4,
    "start_time": "2023-05-11T20:01:02.919Z"
   },
   {
    "duration": 83,
    "start_time": "2023-05-11T20:01:02.927Z"
   },
   {
    "duration": 559,
    "start_time": "2023-05-11T20:01:03.015Z"
   },
   {
    "duration": 114,
    "start_time": "2023-05-11T20:01:03.582Z"
   },
   {
    "duration": 457,
    "start_time": "2023-05-11T20:01:03.698Z"
   },
   {
    "duration": 9,
    "start_time": "2023-05-11T20:01:04.158Z"
   },
   {
    "duration": 183,
    "start_time": "2023-05-11T20:01:04.170Z"
   },
   {
    "duration": 171,
    "start_time": "2023-05-11T20:01:04.355Z"
   },
   {
    "duration": 120,
    "start_time": "2023-05-11T20:01:04.528Z"
   },
   {
    "duration": 67,
    "start_time": "2023-05-11T20:01:04.653Z"
   },
   {
    "duration": 88,
    "start_time": "2023-05-11T20:01:04.722Z"
   },
   {
    "duration": 107,
    "start_time": "2023-05-11T20:01:04.815Z"
   },
   {
    "duration": 48,
    "start_time": "2023-05-11T20:01:04.924Z"
   },
   {
    "duration": 1283,
    "start_time": "2023-05-11T20:01:04.974Z"
   },
   {
    "duration": 1001,
    "start_time": "2023-05-11T20:01:06.263Z"
   },
   {
    "duration": 1056,
    "start_time": "2023-05-11T20:01:07.272Z"
   },
   {
    "duration": 1099,
    "start_time": "2023-05-11T20:01:08.331Z"
   },
   {
    "duration": 946,
    "start_time": "2023-05-11T20:01:09.433Z"
   },
   {
    "duration": 1155,
    "start_time": "2023-05-11T20:01:10.381Z"
   },
   {
    "duration": 929,
    "start_time": "2023-05-11T20:01:11.539Z"
   },
   {
    "duration": 1173,
    "start_time": "2023-05-11T20:01:12.469Z"
   },
   {
    "duration": 15,
    "start_time": "2023-05-11T20:01:13.649Z"
   },
   {
    "duration": 996,
    "start_time": "2023-05-11T20:01:13.666Z"
   },
   {
    "duration": 1088,
    "start_time": "2023-05-11T20:01:14.664Z"
   },
   {
    "duration": 47,
    "start_time": "2023-05-11T20:01:15.768Z"
   },
   {
    "duration": 14,
    "start_time": "2023-05-11T20:01:15.819Z"
   },
   {
    "duration": 43,
    "start_time": "2023-05-11T20:01:15.834Z"
   },
   {
    "duration": 39,
    "start_time": "2023-05-11T20:01:15.879Z"
   },
   {
    "duration": 13,
    "start_time": "2023-05-11T20:01:15.920Z"
   },
   {
    "duration": 2886,
    "start_time": "2023-05-11T20:01:15.935Z"
   },
   {
    "duration": 3027,
    "start_time": "2023-05-11T20:01:18.824Z"
   },
   {
    "duration": 21,
    "start_time": "2023-05-11T20:01:21.861Z"
   },
   {
    "duration": 374704,
    "start_time": "2023-05-11T20:01:21.893Z"
   },
   {
    "duration": 372433,
    "start_time": "2023-05-11T20:07:36.599Z"
   },
   {
    "duration": 3,
    "start_time": "2023-05-11T20:13:49.034Z"
   },
   {
    "duration": 5992,
    "start_time": "2023-05-11T20:13:49.047Z"
   },
   {
    "duration": 5763,
    "start_time": "2023-05-11T20:13:55.041Z"
   },
   {
    "duration": 5,
    "start_time": "2023-05-11T20:14:00.807Z"
   },
   {
    "duration": 37,
    "start_time": "2023-05-11T20:14:00.817Z"
   },
   {
    "duration": 930,
    "start_time": "2023-05-11T20:14:00.858Z"
   },
   {
    "duration": 63,
    "start_time": "2023-05-11T20:14:01.790Z"
   },
   {
    "duration": 58,
    "start_time": "2023-05-11T20:14:01.857Z"
   },
   {
    "duration": 1526,
    "start_time": "2023-05-12T08:21:47.341Z"
   },
   {
    "duration": 2385,
    "start_time": "2023-05-12T08:21:48.870Z"
   },
   {
    "duration": 2,
    "start_time": "2023-05-12T08:21:51.257Z"
   },
   {
    "duration": 25,
    "start_time": "2023-05-12T08:21:51.261Z"
   },
   {
    "duration": 260,
    "start_time": "2023-05-12T08:21:51.289Z"
   },
   {
    "duration": 94,
    "start_time": "2023-05-12T08:21:51.550Z"
   },
   {
    "duration": 233,
    "start_time": "2023-05-12T08:21:51.646Z"
   },
   {
    "duration": 6,
    "start_time": "2023-05-12T08:21:51.880Z"
   },
   {
    "duration": 31,
    "start_time": "2023-05-12T08:21:51.888Z"
   },
   {
    "duration": 20,
    "start_time": "2023-05-12T08:21:51.920Z"
   },
   {
    "duration": 29,
    "start_time": "2023-05-12T08:21:51.941Z"
   },
   {
    "duration": 36,
    "start_time": "2023-05-12T08:21:51.972Z"
   },
   {
    "duration": 20,
    "start_time": "2023-05-12T08:21:52.009Z"
   },
   {
    "duration": 28,
    "start_time": "2023-05-12T08:21:52.032Z"
   },
   {
    "duration": 18,
    "start_time": "2023-05-12T08:21:52.061Z"
   },
   {
    "duration": 744,
    "start_time": "2023-05-12T08:21:52.080Z"
   },
   {
    "duration": 634,
    "start_time": "2023-05-12T08:21:52.826Z"
   },
   {
    "duration": 659,
    "start_time": "2023-05-12T08:21:53.461Z"
   },
   {
    "duration": 763,
    "start_time": "2023-05-12T08:21:54.121Z"
   },
   {
    "duration": 716,
    "start_time": "2023-05-12T08:21:54.886Z"
   },
   {
    "duration": 731,
    "start_time": "2023-05-12T08:21:55.604Z"
   },
   {
    "duration": 659,
    "start_time": "2023-05-12T08:21:56.337Z"
   },
   {
    "duration": 732,
    "start_time": "2023-05-12T08:21:56.998Z"
   },
   {
    "duration": 9,
    "start_time": "2023-05-12T08:21:57.731Z"
   },
   {
    "duration": 712,
    "start_time": "2023-05-12T08:21:57.742Z"
   },
   {
    "duration": 728,
    "start_time": "2023-05-12T08:21:58.455Z"
   },
   {
    "duration": 9,
    "start_time": "2023-05-12T08:21:59.185Z"
   },
   {
    "duration": 11,
    "start_time": "2023-05-12T08:21:59.196Z"
   },
   {
    "duration": 27,
    "start_time": "2023-05-12T08:21:59.209Z"
   },
   {
    "duration": 16,
    "start_time": "2023-05-12T08:21:59.238Z"
   },
   {
    "duration": 36,
    "start_time": "2023-05-12T08:21:59.256Z"
   },
   {
    "duration": 1431,
    "start_time": "2023-05-12T08:21:59.295Z"
   },
   {
    "duration": 1800,
    "start_time": "2023-05-12T08:22:00.728Z"
   },
   {
    "duration": 91,
    "start_time": "2023-05-12T08:22:02.534Z"
   },
   {
    "duration": 319938,
    "start_time": "2023-05-12T08:22:02.627Z"
   },
   {
    "duration": 315176,
    "start_time": "2023-05-12T08:27:22.567Z"
   },
   {
    "duration": 4,
    "start_time": "2023-05-12T08:32:37.744Z"
   },
   {
    "duration": 5500,
    "start_time": "2023-05-12T08:32:37.750Z"
   },
   {
    "duration": 5809,
    "start_time": "2023-05-12T08:32:43.252Z"
   },
   {
    "duration": 3,
    "start_time": "2023-05-12T08:32:49.063Z"
   },
   {
    "duration": 31,
    "start_time": "2023-05-12T08:32:49.069Z"
   },
   {
    "duration": 922,
    "start_time": "2023-05-12T08:32:49.102Z"
   },
   {
    "duration": 10,
    "start_time": "2023-05-12T08:32:50.040Z"
   },
   {
    "duration": 80,
    "start_time": "2023-05-12T08:32:50.052Z"
   },
   {
    "duration": 1520,
    "start_time": "2023-05-12T08:36:10.792Z"
   },
   {
    "duration": 1561,
    "start_time": "2023-05-12T08:36:32.220Z"
   },
   {
    "duration": 834,
    "start_time": "2023-05-12T08:36:33.783Z"
   },
   {
    "duration": 17,
    "start_time": "2023-05-12T08:36:34.618Z"
   },
   {
    "duration": 25,
    "start_time": "2023-05-12T08:36:34.637Z"
   },
   {
    "duration": 289,
    "start_time": "2023-05-12T08:36:34.664Z"
   },
   {
    "duration": 108,
    "start_time": "2023-05-12T08:36:34.956Z"
   },
   {
    "duration": 241,
    "start_time": "2023-05-12T08:36:35.066Z"
   },
   {
    "duration": 7,
    "start_time": "2023-05-12T08:36:35.309Z"
   },
   {
    "duration": 8,
    "start_time": "2023-05-12T08:36:35.317Z"
   },
   {
    "duration": 36,
    "start_time": "2023-05-12T08:36:35.327Z"
   },
   {
    "duration": 32,
    "start_time": "2023-05-12T08:36:35.365Z"
   },
   {
    "duration": 53,
    "start_time": "2023-05-12T08:36:35.398Z"
   },
   {
    "duration": 15,
    "start_time": "2023-05-12T08:36:35.453Z"
   },
   {
    "duration": 8,
    "start_time": "2023-05-12T08:36:35.470Z"
   },
   {
    "duration": 68,
    "start_time": "2023-05-12T08:36:35.480Z"
   },
   {
    "duration": 810,
    "start_time": "2023-05-12T08:36:41.538Z"
   },
   {
    "duration": 797,
    "start_time": "2023-05-12T08:36:54.458Z"
   },
   {
    "duration": 691,
    "start_time": "2023-05-12T08:37:46.938Z"
   },
   {
    "duration": 907,
    "start_time": "2023-05-12T08:37:54.341Z"
   },
   {
    "duration": 4,
    "start_time": "2023-05-12T08:38:42.258Z"
   },
   {
    "duration": 892,
    "start_time": "2023-05-12T08:38:42.269Z"
   },
   {
    "duration": 2,
    "start_time": "2023-05-12T08:38:43.163Z"
   },
   {
    "duration": 27,
    "start_time": "2023-05-12T08:38:43.167Z"
   },
   {
    "duration": 271,
    "start_time": "2023-05-12T08:38:43.196Z"
   },
   {
    "duration": 94,
    "start_time": "2023-05-12T08:38:43.469Z"
   },
   {
    "duration": 198,
    "start_time": "2023-05-12T08:38:43.565Z"
   },
   {
    "duration": 6,
    "start_time": "2023-05-12T08:38:43.765Z"
   },
   {
    "duration": 35,
    "start_time": "2023-05-12T08:38:43.772Z"
   },
   {
    "duration": 121,
    "start_time": "2023-05-12T08:38:43.809Z"
   },
   {
    "duration": 123,
    "start_time": "2023-05-12T08:38:43.931Z"
   },
   {
    "duration": 201,
    "start_time": "2023-05-12T08:38:44.056Z"
   },
   {
    "duration": 129,
    "start_time": "2023-05-12T08:38:44.258Z"
   },
   {
    "duration": 98,
    "start_time": "2023-05-12T08:38:44.389Z"
   },
   {
    "duration": 38,
    "start_time": "2023-05-12T08:38:44.490Z"
   },
   {
    "duration": 832,
    "start_time": "2023-05-12T08:38:44.531Z"
   },
   {
    "duration": 767,
    "start_time": "2023-05-12T08:38:45.365Z"
   },
   {
    "duration": 728,
    "start_time": "2023-05-12T08:39:02.279Z"
   },
   {
    "duration": 837,
    "start_time": "2023-05-12T08:40:32.459Z"
   },
   {
    "duration": 724,
    "start_time": "2023-05-12T08:40:48.442Z"
   },
   {
    "duration": 374,
    "start_time": "2023-05-12T08:42:44.769Z"
   },
   {
    "duration": 435,
    "start_time": "2023-05-12T08:42:56.348Z"
   },
   {
    "duration": 492,
    "start_time": "2023-05-12T08:43:12.148Z"
   },
   {
    "duration": 684,
    "start_time": "2023-05-12T08:43:24.908Z"
   },
   {
    "duration": 783,
    "start_time": "2023-05-12T08:43:35.618Z"
   },
   {
    "duration": 743,
    "start_time": "2023-05-12T08:43:39.869Z"
   },
   {
    "duration": 869,
    "start_time": "2023-05-12T08:46:17.658Z"
   },
   {
    "duration": 661,
    "start_time": "2023-05-12T08:46:36.198Z"
   },
   {
    "duration": 698,
    "start_time": "2023-05-12T08:46:48.708Z"
   },
   {
    "duration": 896,
    "start_time": "2023-05-12T08:55:02.368Z"
   },
   {
    "duration": 766,
    "start_time": "2023-05-12T08:55:13.240Z"
   },
   {
    "duration": 841,
    "start_time": "2023-05-12T08:55:40.338Z"
   },
   {
    "duration": 703,
    "start_time": "2023-05-12T08:55:50.243Z"
   },
   {
    "duration": 791,
    "start_time": "2023-05-12T08:57:29.408Z"
   },
   {
    "duration": 649,
    "start_time": "2023-05-12T08:57:38.549Z"
   },
   {
    "duration": 801,
    "start_time": "2023-05-12T08:59:31.807Z"
   },
   {
    "duration": 622,
    "start_time": "2023-05-12T09:01:06.558Z"
   },
   {
    "duration": 875,
    "start_time": "2023-05-12T09:01:19.608Z"
   },
   {
    "duration": 753,
    "start_time": "2023-05-12T09:01:26.808Z"
   },
   {
    "duration": 714,
    "start_time": "2023-05-12T09:01:31.418Z"
   },
   {
    "duration": 609,
    "start_time": "2023-05-12T09:09:22.307Z"
   },
   {
    "duration": 523,
    "start_time": "2023-05-12T09:09:29.507Z"
   },
   {
    "duration": 424,
    "start_time": "2023-05-12T09:09:34.277Z"
   },
   {
    "duration": 514,
    "start_time": "2023-05-12T09:13:31.858Z"
   },
   {
    "duration": 8,
    "start_time": "2023-05-12T09:26:33.196Z"
   },
   {
    "duration": 720,
    "start_time": "2023-05-12T09:28:49.738Z"
   },
   {
    "duration": 690,
    "start_time": "2023-05-12T09:28:54.997Z"
   },
   {
    "duration": 791,
    "start_time": "2023-05-12T09:28:58.826Z"
   },
   {
    "duration": 708,
    "start_time": "2023-05-12T09:29:02.466Z"
   },
   {
    "duration": 832,
    "start_time": "2023-05-12T09:29:08.677Z"
   },
   {
    "duration": 728,
    "start_time": "2023-05-12T09:29:13.447Z"
   },
   {
    "duration": 817,
    "start_time": "2023-05-12T09:30:09.407Z"
   },
   {
    "duration": 750,
    "start_time": "2023-05-12T09:30:40.366Z"
   },
   {
    "duration": 799,
    "start_time": "2023-05-12T09:30:47.498Z"
   },
   {
    "duration": 679,
    "start_time": "2023-05-12T09:31:08.226Z"
   },
   {
    "duration": 65,
    "start_time": "2023-05-12T09:38:26.276Z"
   },
   {
    "duration": 74,
    "start_time": "2023-05-12T09:39:34.935Z"
   },
   {
    "duration": 54,
    "start_time": "2023-05-12T09:40:17.817Z"
   },
   {
    "duration": 82,
    "start_time": "2023-05-12T09:40:28.796Z"
   },
   {
    "duration": 143,
    "start_time": "2023-05-12T09:40:39.386Z"
   },
   {
    "duration": 10,
    "start_time": "2023-05-12T10:17:11.416Z"
   },
   {
    "duration": 3,
    "start_time": "2023-05-12T10:21:19.386Z"
   },
   {
    "duration": 1709,
    "start_time": "2023-05-12T20:23:35.353Z"
   },
   {
    "duration": 2536,
    "start_time": "2023-05-12T20:23:37.065Z"
   },
   {
    "duration": 3,
    "start_time": "2023-05-12T20:23:39.603Z"
   },
   {
    "duration": 7,
    "start_time": "2023-05-12T20:23:39.608Z"
   },
   {
    "duration": 214,
    "start_time": "2023-05-12T20:23:39.618Z"
   },
   {
    "duration": 88,
    "start_time": "2023-05-12T20:23:39.834Z"
   },
   {
    "duration": 215,
    "start_time": "2023-05-12T20:23:39.924Z"
   },
   {
    "duration": 6,
    "start_time": "2023-05-12T20:23:40.141Z"
   },
   {
    "duration": 17,
    "start_time": "2023-05-12T20:23:40.148Z"
   },
   {
    "duration": 8,
    "start_time": "2023-05-12T20:23:40.171Z"
   },
   {
    "duration": 115,
    "start_time": "2023-05-12T20:23:40.181Z"
   },
   {
    "duration": 0,
    "start_time": "2023-05-12T20:23:40.299Z"
   },
   {
    "duration": 0,
    "start_time": "2023-05-12T20:23:40.301Z"
   },
   {
    "duration": 0,
    "start_time": "2023-05-12T20:23:40.302Z"
   },
   {
    "duration": 0,
    "start_time": "2023-05-12T20:23:40.304Z"
   },
   {
    "duration": 0,
    "start_time": "2023-05-12T20:23:40.305Z"
   },
   {
    "duration": 0,
    "start_time": "2023-05-12T20:23:40.306Z"
   },
   {
    "duration": 0,
    "start_time": "2023-05-12T20:23:40.308Z"
   },
   {
    "duration": 0,
    "start_time": "2023-05-12T20:23:40.309Z"
   },
   {
    "duration": 0,
    "start_time": "2023-05-12T20:23:40.311Z"
   },
   {
    "duration": 0,
    "start_time": "2023-05-12T20:23:40.312Z"
   },
   {
    "duration": 0,
    "start_time": "2023-05-12T20:23:40.314Z"
   },
   {
    "duration": 0,
    "start_time": "2023-05-12T20:23:40.315Z"
   },
   {
    "duration": 0,
    "start_time": "2023-05-12T20:23:40.316Z"
   },
   {
    "duration": 0,
    "start_time": "2023-05-12T20:23:40.318Z"
   },
   {
    "duration": 0,
    "start_time": "2023-05-12T20:23:40.320Z"
   },
   {
    "duration": 0,
    "start_time": "2023-05-12T20:23:40.321Z"
   },
   {
    "duration": 0,
    "start_time": "2023-05-12T20:23:40.323Z"
   },
   {
    "duration": 0,
    "start_time": "2023-05-12T20:23:40.324Z"
   },
   {
    "duration": 0,
    "start_time": "2023-05-12T20:23:40.325Z"
   },
   {
    "duration": 4,
    "start_time": "2023-05-12T20:24:12.806Z"
   },
   {
    "duration": 777,
    "start_time": "2023-05-12T20:24:12.813Z"
   },
   {
    "duration": 3,
    "start_time": "2023-05-12T20:24:13.592Z"
   },
   {
    "duration": 8,
    "start_time": "2023-05-12T20:24:13.596Z"
   },
   {
    "duration": 239,
    "start_time": "2023-05-12T20:24:13.606Z"
   },
   {
    "duration": 82,
    "start_time": "2023-05-12T20:24:13.847Z"
   },
   {
    "duration": 215,
    "start_time": "2023-05-12T20:24:13.932Z"
   },
   {
    "duration": 6,
    "start_time": "2023-05-12T20:24:14.149Z"
   },
   {
    "duration": 22,
    "start_time": "2023-05-12T20:24:14.157Z"
   },
   {
    "duration": 7,
    "start_time": "2023-05-12T20:24:14.181Z"
   },
   {
    "duration": 18,
    "start_time": "2023-05-12T20:24:14.189Z"
   },
   {
    "duration": 19,
    "start_time": "2023-05-12T20:24:14.209Z"
   },
   {
    "duration": 15,
    "start_time": "2023-05-12T20:24:14.230Z"
   },
   {
    "duration": 37,
    "start_time": "2023-05-12T20:24:14.248Z"
   },
   {
    "duration": 24,
    "start_time": "2023-05-12T20:24:14.287Z"
   },
   {
    "duration": 813,
    "start_time": "2023-05-12T20:24:14.313Z"
   },
   {
    "duration": 695,
    "start_time": "2023-05-12T20:24:15.128Z"
   },
   {
    "duration": 827,
    "start_time": "2023-05-12T20:24:15.825Z"
   },
   {
    "duration": 870,
    "start_time": "2023-05-12T20:24:16.654Z"
   },
   {
    "duration": 764,
    "start_time": "2023-05-12T20:24:17.527Z"
   },
   {
    "duration": 845,
    "start_time": "2023-05-12T20:24:18.293Z"
   },
   {
    "duration": 434,
    "start_time": "2023-05-12T20:24:19.141Z"
   },
   {
    "duration": 9,
    "start_time": "2023-05-12T20:24:19.577Z"
   },
   {
    "duration": 897,
    "start_time": "2023-05-12T20:24:19.587Z"
   },
   {
    "duration": 10,
    "start_time": "2023-05-12T20:24:20.487Z"
   },
   {
    "duration": 8,
    "start_time": "2023-05-12T20:24:20.499Z"
   },
   {
    "duration": 5,
    "start_time": "2023-05-12T20:24:20.509Z"
   },
   {
    "duration": 20,
    "start_time": "2023-05-12T20:24:20.515Z"
   },
   {
    "duration": 11,
    "start_time": "2023-05-12T20:24:20.537Z"
   },
   {
    "duration": 364,
    "start_time": "2023-05-12T20:25:42.022Z"
   },
   {
    "duration": 5000,
    "start_time": "2023-05-12T20:26:05.288Z"
   },
   {
    "duration": 5479,
    "start_time": "2023-05-12T20:26:30.482Z"
   },
   {
    "duration": 4537,
    "start_time": "2023-05-12T20:27:39.852Z"
   },
   {
    "duration": 4723,
    "start_time": "2023-05-12T20:28:34.956Z"
   },
   {
    "duration": 4646,
    "start_time": "2023-05-12T20:28:41.582Z"
   },
   {
    "duration": 16033,
    "start_time": "2023-05-12T20:29:01.122Z"
   },
   {
    "duration": 16477,
    "start_time": "2023-05-12T20:29:21.644Z"
   },
   {
    "duration": 15803,
    "start_time": "2023-05-12T20:29:41.482Z"
   },
   {
    "duration": 11,
    "start_time": "2023-05-12T20:31:22.882Z"
   },
   {
    "duration": 53449,
    "start_time": "2023-05-12T20:31:33.694Z"
   },
   {
    "duration": 53308,
    "start_time": "2023-05-12T20:33:06.602Z"
   },
   {
    "duration": 53219,
    "start_time": "2023-05-12T20:35:18.800Z"
   },
   {
    "duration": 53036,
    "start_time": "2023-05-12T20:37:37.017Z"
   },
   {
    "duration": 3,
    "start_time": "2023-05-12T20:39:27.712Z"
   },
   {
    "duration": 2367,
    "start_time": "2023-05-12T20:40:35.611Z"
   },
   {
    "duration": 1493,
    "start_time": "2023-05-12T20:40:38.385Z"
   },
   {
    "duration": 5,
    "start_time": "2023-05-12T20:40:41.193Z"
   },
   {
    "duration": 1501364,
    "start_time": "2023-05-12T20:45:16.388Z"
   },
   {
    "duration": 1412466,
    "start_time": "2023-05-12T21:10:24.518Z"
   },
   {
    "duration": 5,
    "start_time": "2023-05-12T21:34:37.290Z"
   },
   {
    "duration": 133,
    "start_time": "2023-05-12T21:35:18.194Z"
   },
   {
    "duration": 3,
    "start_time": "2023-05-12T21:35:23.737Z"
   },
   {
    "duration": 4,
    "start_time": "2023-05-12T21:35:29.657Z"
   },
   {
    "duration": 4,
    "start_time": "2023-05-12T21:35:32.107Z"
   },
   {
    "duration": 2337,
    "start_time": "2023-05-12T21:35:35.958Z"
   },
   {
    "duration": 1685,
    "start_time": "2023-05-12T21:35:39.807Z"
   },
   {
    "duration": 4,
    "start_time": "2023-05-12T21:35:42.957Z"
   },
   {
    "duration": 11359,
    "start_time": "2023-05-12T21:37:44.105Z"
   },
   {
    "duration": 6,
    "start_time": "2023-05-12T21:38:01.107Z"
   },
   {
    "duration": 16526,
    "start_time": "2023-05-12T21:38:03.156Z"
   },
   {
    "duration": 4,
    "start_time": "2023-05-12T21:38:52.590Z"
   },
   {
    "duration": 10,
    "start_time": "2023-05-12T21:38:56.146Z"
   },
   {
    "duration": 9,
    "start_time": "2023-05-12T21:39:05.893Z"
   },
   {
    "duration": 9,
    "start_time": "2023-05-12T21:39:14.794Z"
   },
   {
    "duration": 9,
    "start_time": "2023-05-12T21:46:24.600Z"
   },
   {
    "duration": 1609,
    "start_time": "2023-05-12T21:46:38.297Z"
   },
   {
    "duration": 895,
    "start_time": "2023-05-12T21:46:39.908Z"
   },
   {
    "duration": 4,
    "start_time": "2023-05-12T21:46:40.805Z"
   },
   {
    "duration": 7,
    "start_time": "2023-05-12T21:46:40.811Z"
   },
   {
    "duration": 265,
    "start_time": "2023-05-12T21:46:40.821Z"
   },
   {
    "duration": 90,
    "start_time": "2023-05-12T21:46:41.090Z"
   },
   {
    "duration": 224,
    "start_time": "2023-05-12T21:46:41.190Z"
   },
   {
    "duration": 8,
    "start_time": "2023-05-12T21:46:41.419Z"
   },
   {
    "duration": 46,
    "start_time": "2023-05-12T21:46:41.429Z"
   },
   {
    "duration": 31,
    "start_time": "2023-05-12T21:46:41.480Z"
   },
   {
    "duration": 24,
    "start_time": "2023-05-12T21:46:41.513Z"
   },
   {
    "duration": 22,
    "start_time": "2023-05-12T21:46:41.538Z"
   },
   {
    "duration": 19,
    "start_time": "2023-05-12T21:46:41.562Z"
   },
   {
    "duration": 49,
    "start_time": "2023-05-12T21:46:41.586Z"
   },
   {
    "duration": 37,
    "start_time": "2023-05-12T21:46:41.637Z"
   },
   {
    "duration": 947,
    "start_time": "2023-05-12T21:46:41.676Z"
   },
   {
    "duration": 794,
    "start_time": "2023-05-12T21:46:42.626Z"
   },
   {
    "duration": 791,
    "start_time": "2023-05-12T21:46:43.423Z"
   },
   {
    "duration": 954,
    "start_time": "2023-05-12T21:46:44.216Z"
   },
   {
    "duration": 827,
    "start_time": "2023-05-12T21:46:45.172Z"
   },
   {
    "duration": 969,
    "start_time": "2023-05-12T21:46:46.004Z"
   },
   {
    "duration": 480,
    "start_time": "2023-05-12T21:46:46.980Z"
   },
   {
    "duration": 16,
    "start_time": "2023-05-12T21:46:47.463Z"
   },
   {
    "duration": 994,
    "start_time": "2023-05-12T21:46:47.481Z"
   },
   {
    "duration": 16,
    "start_time": "2023-05-12T21:46:48.482Z"
   },
   {
    "duration": 19,
    "start_time": "2023-05-12T21:46:48.500Z"
   },
   {
    "duration": 39,
    "start_time": "2023-05-12T21:46:48.521Z"
   },
   {
    "duration": 26,
    "start_time": "2023-05-12T21:46:48.562Z"
   },
   {
    "duration": 24,
    "start_time": "2023-05-12T21:46:48.590Z"
   },
   {
    "duration": 1976,
    "start_time": "2023-05-12T21:46:48.615Z"
   },
   {
    "duration": 2498,
    "start_time": "2023-05-12T21:46:50.596Z"
   },
   {
    "duration": 80,
    "start_time": "2023-05-12T21:46:53.098Z"
   },
   {
    "duration": 1537,
    "start_time": "2023-05-12T21:47:48.906Z"
   },
   {
    "duration": 893,
    "start_time": "2023-05-12T21:47:50.446Z"
   },
   {
    "duration": 3,
    "start_time": "2023-05-12T21:47:51.341Z"
   },
   {
    "duration": 9,
    "start_time": "2023-05-12T21:47:51.346Z"
   },
   {
    "duration": 276,
    "start_time": "2023-05-12T21:47:51.357Z"
   },
   {
    "duration": 91,
    "start_time": "2023-05-12T21:47:51.635Z"
   },
   {
    "duration": 268,
    "start_time": "2023-05-12T21:47:51.728Z"
   },
   {
    "duration": 8,
    "start_time": "2023-05-12T21:47:51.998Z"
   },
   {
    "duration": 5,
    "start_time": "2023-05-12T21:47:52.009Z"
   },
   {
    "duration": 15,
    "start_time": "2023-05-12T21:47:52.017Z"
   },
   {
    "duration": 51,
    "start_time": "2023-05-12T21:47:52.034Z"
   },
   {
    "duration": 16,
    "start_time": "2023-05-12T21:47:52.086Z"
   },
   {
    "duration": 16,
    "start_time": "2023-05-12T21:47:52.104Z"
   },
   {
    "duration": 10,
    "start_time": "2023-05-12T21:47:52.123Z"
   },
   {
    "duration": 57,
    "start_time": "2023-05-12T21:47:52.134Z"
   },
   {
    "duration": 872,
    "start_time": "2023-05-12T21:47:52.193Z"
   },
   {
    "duration": 744,
    "start_time": "2023-05-12T21:47:53.072Z"
   },
   {
    "duration": 796,
    "start_time": "2023-05-12T21:47:53.818Z"
   },
   {
    "duration": 933,
    "start_time": "2023-05-12T21:47:54.616Z"
   },
   {
    "duration": 858,
    "start_time": "2023-05-12T21:47:55.551Z"
   },
   {
    "duration": 918,
    "start_time": "2023-05-12T21:47:56.412Z"
   },
   {
    "duration": 483,
    "start_time": "2023-05-12T21:47:57.331Z"
   },
   {
    "duration": 10,
    "start_time": "2023-05-12T21:47:57.817Z"
   },
   {
    "duration": 969,
    "start_time": "2023-05-12T21:47:57.830Z"
   },
   {
    "duration": 14,
    "start_time": "2023-05-12T21:47:58.801Z"
   },
   {
    "duration": 18,
    "start_time": "2023-05-12T21:47:58.816Z"
   },
   {
    "duration": 21,
    "start_time": "2023-05-12T21:47:58.836Z"
   },
   {
    "duration": 35,
    "start_time": "2023-05-12T21:47:58.859Z"
   },
   {
    "duration": 31,
    "start_time": "2023-05-12T21:47:58.897Z"
   },
   {
    "duration": 4153,
    "start_time": "2023-05-12T21:47:58.930Z"
   },
   {
    "duration": 1891,
    "start_time": "2023-05-12T21:48:03.086Z"
   },
   {
    "duration": 11,
    "start_time": "2023-05-12T21:48:04.986Z"
   },
   {
    "duration": 1546,
    "start_time": "2023-05-13T11:44:34.093Z"
   },
   {
    "duration": 3077,
    "start_time": "2023-05-13T11:44:35.641Z"
   },
   {
    "duration": 3,
    "start_time": "2023-05-13T11:44:38.720Z"
   },
   {
    "duration": 6,
    "start_time": "2023-05-13T11:44:38.724Z"
   },
   {
    "duration": 225,
    "start_time": "2023-05-13T11:44:38.732Z"
   },
   {
    "duration": 81,
    "start_time": "2023-05-13T11:44:38.959Z"
   },
   {
    "duration": 231,
    "start_time": "2023-05-13T11:44:39.042Z"
   },
   {
    "duration": 9,
    "start_time": "2023-05-13T11:44:39.275Z"
   },
   {
    "duration": 39,
    "start_time": "2023-05-13T11:44:39.286Z"
   },
   {
    "duration": 17,
    "start_time": "2023-05-13T11:44:39.327Z"
   },
   {
    "duration": 19,
    "start_time": "2023-05-13T11:44:39.346Z"
   },
   {
    "duration": 26,
    "start_time": "2023-05-13T11:44:39.367Z"
   },
   {
    "duration": 23,
    "start_time": "2023-05-13T11:44:39.395Z"
   },
   {
    "duration": 16,
    "start_time": "2023-05-13T11:44:39.424Z"
   },
   {
    "duration": 12,
    "start_time": "2023-05-13T11:44:39.442Z"
   },
   {
    "duration": 821,
    "start_time": "2023-05-13T11:44:39.455Z"
   },
   {
    "duration": 755,
    "start_time": "2023-05-13T11:44:40.278Z"
   },
   {
    "duration": 716,
    "start_time": "2023-05-13T11:44:41.034Z"
   },
   {
    "duration": 852,
    "start_time": "2023-05-13T11:44:41.753Z"
   },
   {
    "duration": 672,
    "start_time": "2023-05-13T11:44:42.613Z"
   },
   {
    "duration": 829,
    "start_time": "2023-05-13T11:44:43.287Z"
   },
   {
    "duration": 412,
    "start_time": "2023-05-13T11:44:44.118Z"
   },
   {
    "duration": 7,
    "start_time": "2023-05-13T11:44:44.531Z"
   },
   {
    "duration": 832,
    "start_time": "2023-05-13T11:44:44.540Z"
   },
   {
    "duration": 11,
    "start_time": "2023-05-13T11:44:45.374Z"
   },
   {
    "duration": 45,
    "start_time": "2023-05-13T11:44:45.387Z"
   },
   {
    "duration": 9,
    "start_time": "2023-05-13T11:44:45.433Z"
   },
   {
    "duration": 8,
    "start_time": "2023-05-13T11:44:45.444Z"
   },
   {
    "duration": 10,
    "start_time": "2023-05-13T11:44:45.454Z"
   },
   {
    "duration": 2536,
    "start_time": "2023-05-13T11:44:45.466Z"
   },
   {
    "duration": 2402,
    "start_time": "2023-05-13T11:44:48.003Z"
   },
   {
    "duration": 6,
    "start_time": "2023-05-13T11:44:50.408Z"
   },
   {
    "duration": 1474693,
    "start_time": "2023-05-13T11:44:50.416Z"
   },
   {
    "duration": 1453011,
    "start_time": "2023-05-13T12:09:25.111Z"
   },
   {
    "duration": 3,
    "start_time": "2023-05-13T12:33:38.124Z"
   },
   {
    "duration": 55287,
    "start_time": "2023-05-13T12:33:38.129Z"
   },
   {
    "duration": 54108,
    "start_time": "2023-05-13T12:34:33.421Z"
   },
   {
    "duration": 4,
    "start_time": "2023-05-13T12:35:27.531Z"
   },
   {
    "duration": 42,
    "start_time": "2023-05-13T12:35:27.537Z"
   },
   {
    "duration": 17317,
    "start_time": "2023-05-13T12:35:27.581Z"
   },
   {
    "duration": 6,
    "start_time": "2023-05-13T12:35:44.902Z"
   },
   {
    "duration": 17,
    "start_time": "2023-05-13T12:35:44.918Z"
   },
   {
    "duration": 155,
    "start_time": "2023-05-13T12:37:05.806Z"
   },
   {
    "duration": 573,
    "start_time": "2023-05-13T12:40:05.918Z"
   },
   {
    "duration": 485,
    "start_time": "2023-05-13T12:40:39.827Z"
   },
   {
    "duration": 5,
    "start_time": "2023-05-13T12:41:10.021Z"
   },
   {
    "duration": 16792,
    "start_time": "2023-05-13T12:41:10.028Z"
   },
   {
    "duration": 3,
    "start_time": "2023-05-13T12:41:26.822Z"
   },
   {
    "duration": 13,
    "start_time": "2023-05-13T12:41:26.826Z"
   },
   {
    "duration": 1401,
    "start_time": "2023-05-13T12:44:47.314Z"
   },
   {
    "duration": 816,
    "start_time": "2023-05-13T12:44:48.718Z"
   },
   {
    "duration": 3,
    "start_time": "2023-05-13T12:44:49.536Z"
   },
   {
    "duration": 25,
    "start_time": "2023-05-13T12:44:49.541Z"
   },
   {
    "duration": 237,
    "start_time": "2023-05-13T12:44:49.568Z"
   },
   {
    "duration": 92,
    "start_time": "2023-05-13T12:44:49.808Z"
   },
   {
    "duration": 219,
    "start_time": "2023-05-13T12:44:49.904Z"
   },
   {
    "duration": 6,
    "start_time": "2023-05-13T12:44:50.125Z"
   },
   {
    "duration": 16,
    "start_time": "2023-05-13T12:44:50.133Z"
   },
   {
    "duration": 18,
    "start_time": "2023-05-13T12:44:50.151Z"
   },
   {
    "duration": 44,
    "start_time": "2023-05-13T12:44:50.170Z"
   },
   {
    "duration": 21,
    "start_time": "2023-05-13T12:44:50.216Z"
   },
   {
    "duration": 15,
    "start_time": "2023-05-13T12:44:50.239Z"
   },
   {
    "duration": 8,
    "start_time": "2023-05-13T12:44:50.257Z"
   },
   {
    "duration": 32,
    "start_time": "2023-05-13T12:44:50.266Z"
   },
   {
    "duration": 824,
    "start_time": "2023-05-13T12:44:50.300Z"
   },
   {
    "duration": 757,
    "start_time": "2023-05-13T12:44:51.126Z"
   },
   {
    "duration": 743,
    "start_time": "2023-05-13T12:44:51.885Z"
   },
   {
    "duration": 835,
    "start_time": "2023-05-13T12:44:52.630Z"
   },
   {
    "duration": 766,
    "start_time": "2023-05-13T12:44:53.467Z"
   },
   {
    "duration": 853,
    "start_time": "2023-05-13T12:44:54.234Z"
   },
   {
    "duration": 434,
    "start_time": "2023-05-13T12:44:55.089Z"
   },
   {
    "duration": 7,
    "start_time": "2023-05-13T12:44:55.525Z"
   },
   {
    "duration": 829,
    "start_time": "2023-05-13T12:44:55.533Z"
   },
   {
    "duration": 10,
    "start_time": "2023-05-13T12:44:56.364Z"
   },
   {
    "duration": 8,
    "start_time": "2023-05-13T12:44:56.376Z"
   },
   {
    "duration": 4,
    "start_time": "2023-05-13T12:44:56.386Z"
   },
   {
    "duration": 11,
    "start_time": "2023-05-13T12:44:56.399Z"
   },
   {
    "duration": 23,
    "start_time": "2023-05-13T12:44:56.411Z"
   },
   {
    "duration": 2575,
    "start_time": "2023-05-13T12:44:56.436Z"
   },
   {
    "duration": 2187,
    "start_time": "2023-05-13T12:44:59.016Z"
   },
   {
    "duration": 5,
    "start_time": "2023-05-13T12:45:01.206Z"
   },
   {
    "duration": 1453588,
    "start_time": "2023-05-13T12:45:01.212Z"
   },
   {
    "duration": 1455474,
    "start_time": "2023-05-13T13:09:14.807Z"
   },
   {
    "duration": 4,
    "start_time": "2023-05-13T13:33:30.283Z"
   },
   {
    "duration": 57233,
    "start_time": "2023-05-13T13:33:30.289Z"
   },
   {
    "duration": 56187,
    "start_time": "2023-05-13T13:34:27.525Z"
   },
   {
    "duration": 5,
    "start_time": "2023-05-13T13:35:23.713Z"
   },
   {
    "duration": 13,
    "start_time": "2023-05-13T13:35:23.719Z"
   },
   {
    "duration": 17399,
    "start_time": "2023-05-13T13:35:23.734Z"
   },
   {
    "duration": 3,
    "start_time": "2023-05-13T13:35:41.138Z"
   },
   {
    "duration": 16,
    "start_time": "2023-05-13T13:35:41.143Z"
   },
   {
    "duration": 9,
    "start_time": "2023-05-13T13:37:04.624Z"
   },
   {
    "duration": 8,
    "start_time": "2023-05-13T13:37:31.770Z"
   },
   {
    "duration": 9,
    "start_time": "2023-05-13T13:38:08.440Z"
   },
   {
    "duration": 56780,
    "start_time": "2023-05-13T13:38:22.771Z"
   },
   {
    "duration": 4,
    "start_time": "2023-05-13T13:39:19.553Z"
   },
   {
    "duration": 19,
    "start_time": "2023-05-13T13:39:19.558Z"
   },
   {
    "duration": 7,
    "start_time": "2023-05-14T16:25:10.272Z"
   },
   {
    "duration": 243,
    "start_time": "2023-05-14T16:25:16.848Z"
   },
   {
    "duration": 52,
    "start_time": "2023-05-14T16:42:57.388Z"
   },
   {
    "duration": 45,
    "start_time": "2023-05-14T16:51:21.672Z"
   },
   {
    "duration": 1692,
    "start_time": "2023-05-14T16:51:28.164Z"
   },
   {
    "duration": 2453,
    "start_time": "2023-05-14T16:51:29.858Z"
   },
   {
    "duration": 4,
    "start_time": "2023-05-14T16:51:32.313Z"
   },
   {
    "duration": 26,
    "start_time": "2023-05-14T16:51:32.319Z"
   },
   {
    "duration": 248,
    "start_time": "2023-05-14T16:51:32.347Z"
   },
   {
    "duration": 100,
    "start_time": "2023-05-14T16:51:32.598Z"
   },
   {
    "duration": 239,
    "start_time": "2023-05-14T16:51:32.701Z"
   },
   {
    "duration": 8,
    "start_time": "2023-05-14T16:51:32.942Z"
   },
   {
    "duration": 23,
    "start_time": "2023-05-14T16:51:32.951Z"
   },
   {
    "duration": 20,
    "start_time": "2023-05-14T16:51:32.976Z"
   },
   {
    "duration": 25,
    "start_time": "2023-05-14T16:51:32.998Z"
   },
   {
    "duration": 28,
    "start_time": "2023-05-14T16:51:33.025Z"
   },
   {
    "duration": 17,
    "start_time": "2023-05-14T16:51:33.055Z"
   },
   {
    "duration": 10,
    "start_time": "2023-05-14T16:51:33.075Z"
   },
   {
    "duration": 13,
    "start_time": "2023-05-14T16:51:33.087Z"
   },
   {
    "duration": 839,
    "start_time": "2023-05-14T16:51:33.103Z"
   },
   {
    "duration": 776,
    "start_time": "2023-05-14T16:51:33.944Z"
   },
   {
    "duration": 769,
    "start_time": "2023-05-14T16:51:34.722Z"
   },
   {
    "duration": 1016,
    "start_time": "2023-05-14T16:51:35.493Z"
   },
   {
    "duration": 777,
    "start_time": "2023-05-14T16:51:36.511Z"
   },
   {
    "duration": 914,
    "start_time": "2023-05-14T16:51:37.290Z"
   },
   {
    "duration": 110,
    "start_time": "2023-05-14T16:52:31.624Z"
   },
   {
    "duration": 49,
    "start_time": "2023-05-14T16:54:06.103Z"
   },
   {
    "duration": 275,
    "start_time": "2023-05-14T17:03:16.691Z"
   },
   {
    "duration": 431,
    "start_time": "2023-05-14T17:03:43.680Z"
   },
   {
    "duration": 5,
    "start_time": "2023-05-14T17:04:11.630Z"
   },
   {
    "duration": 6,
    "start_time": "2023-05-14T17:05:54.550Z"
   },
   {
    "duration": 14,
    "start_time": "2023-05-14T17:06:35.681Z"
   },
   {
    "duration": 4,
    "start_time": "2023-05-14T17:07:45.970Z"
   },
   {
    "duration": 4,
    "start_time": "2023-05-14T17:09:43.979Z"
   },
   {
    "duration": 918,
    "start_time": "2023-05-14T17:09:43.986Z"
   },
   {
    "duration": 4,
    "start_time": "2023-05-14T17:09:44.906Z"
   },
   {
    "duration": 18,
    "start_time": "2023-05-14T17:09:44.912Z"
   },
   {
    "duration": 276,
    "start_time": "2023-05-14T17:09:44.932Z"
   },
   {
    "duration": 100,
    "start_time": "2023-05-14T17:09:45.210Z"
   },
   {
    "duration": 269,
    "start_time": "2023-05-14T17:09:45.312Z"
   },
   {
    "duration": 6,
    "start_time": "2023-05-14T17:09:45.584Z"
   },
   {
    "duration": 17,
    "start_time": "2023-05-14T17:09:45.593Z"
   },
   {
    "duration": 17,
    "start_time": "2023-05-14T17:09:45.612Z"
   },
   {
    "duration": 26,
    "start_time": "2023-05-14T17:09:45.631Z"
   },
   {
    "duration": 30,
    "start_time": "2023-05-14T17:09:45.659Z"
   },
   {
    "duration": 20,
    "start_time": "2023-05-14T17:09:45.691Z"
   },
   {
    "duration": 27,
    "start_time": "2023-05-14T17:09:45.714Z"
   },
   {
    "duration": 19,
    "start_time": "2023-05-14T17:09:45.743Z"
   },
   {
    "duration": 783,
    "start_time": "2023-05-14T17:09:45.770Z"
   },
   {
    "duration": 922,
    "start_time": "2023-05-14T17:09:46.555Z"
   },
   {
    "duration": 743,
    "start_time": "2023-05-14T17:09:47.479Z"
   },
   {
    "duration": 862,
    "start_time": "2023-05-14T17:09:48.224Z"
   },
   {
    "duration": 715,
    "start_time": "2023-05-14T17:09:49.087Z"
   },
   {
    "duration": 859,
    "start_time": "2023-05-14T17:09:49.804Z"
   },
   {
    "duration": 6,
    "start_time": "2023-05-14T17:09:50.665Z"
   },
   {
    "duration": 35,
    "start_time": "2023-05-14T17:09:50.673Z"
   },
   {
    "duration": 4,
    "start_time": "2023-05-14T17:10:59.610Z"
   },
   {
    "duration": 4,
    "start_time": "2023-05-14T17:11:41.650Z"
   },
   {
    "duration": 798,
    "start_time": "2023-05-14T17:11:41.657Z"
   },
   {
    "duration": 3,
    "start_time": "2023-05-14T17:11:42.458Z"
   },
   {
    "duration": 15,
    "start_time": "2023-05-14T17:11:42.463Z"
   },
   {
    "duration": 229,
    "start_time": "2023-05-14T17:11:42.480Z"
   },
   {
    "duration": 93,
    "start_time": "2023-05-14T17:11:42.711Z"
   },
   {
    "duration": 236,
    "start_time": "2023-05-14T17:11:42.806Z"
   },
   {
    "duration": 6,
    "start_time": "2023-05-14T17:11:43.044Z"
   },
   {
    "duration": 21,
    "start_time": "2023-05-14T17:11:43.052Z"
   },
   {
    "duration": 7,
    "start_time": "2023-05-14T17:11:43.074Z"
   },
   {
    "duration": 16,
    "start_time": "2023-05-14T17:11:43.082Z"
   },
   {
    "duration": 32,
    "start_time": "2023-05-14T17:11:43.100Z"
   },
   {
    "duration": 16,
    "start_time": "2023-05-14T17:11:43.134Z"
   },
   {
    "duration": 23,
    "start_time": "2023-05-14T17:11:43.152Z"
   },
   {
    "duration": 11,
    "start_time": "2023-05-14T17:11:43.177Z"
   },
   {
    "duration": 711,
    "start_time": "2023-05-14T17:11:43.189Z"
   },
   {
    "duration": 824,
    "start_time": "2023-05-14T17:11:43.902Z"
   },
   {
    "duration": 723,
    "start_time": "2023-05-14T17:11:44.728Z"
   },
   {
    "duration": 926,
    "start_time": "2023-05-14T17:11:45.453Z"
   },
   {
    "duration": 758,
    "start_time": "2023-05-14T17:11:46.381Z"
   },
   {
    "duration": 696,
    "start_time": "2023-05-14T17:11:47.140Z"
   },
   {
    "duration": 6,
    "start_time": "2023-05-14T17:11:47.838Z"
   },
   {
    "duration": 29,
    "start_time": "2023-05-14T17:11:47.846Z"
   },
   {
    "duration": 5,
    "start_time": "2023-05-14T17:11:47.879Z"
   },
   {
    "duration": 4,
    "start_time": "2023-05-14T17:12:02.350Z"
   },
   {
    "duration": 792,
    "start_time": "2023-05-14T17:12:02.356Z"
   },
   {
    "duration": 4,
    "start_time": "2023-05-14T17:12:03.150Z"
   },
   {
    "duration": 15,
    "start_time": "2023-05-14T17:12:03.156Z"
   },
   {
    "duration": 435,
    "start_time": "2023-05-14T17:12:03.173Z"
   },
   {
    "duration": 98,
    "start_time": "2023-05-14T17:12:03.610Z"
   },
   {
    "duration": 232,
    "start_time": "2023-05-14T17:12:03.710Z"
   },
   {
    "duration": 8,
    "start_time": "2023-05-14T17:12:03.944Z"
   },
   {
    "duration": 6,
    "start_time": "2023-05-14T17:12:03.970Z"
   },
   {
    "duration": 13,
    "start_time": "2023-05-14T17:12:03.978Z"
   },
   {
    "duration": 18,
    "start_time": "2023-05-14T17:12:03.992Z"
   },
   {
    "duration": 17,
    "start_time": "2023-05-14T17:12:04.012Z"
   },
   {
    "duration": 41,
    "start_time": "2023-05-14T17:12:04.031Z"
   },
   {
    "duration": 10,
    "start_time": "2023-05-14T17:12:04.074Z"
   },
   {
    "duration": 16,
    "start_time": "2023-05-14T17:12:04.086Z"
   },
   {
    "duration": 791,
    "start_time": "2023-05-14T17:12:04.104Z"
   },
   {
    "duration": 694,
    "start_time": "2023-05-14T17:12:04.897Z"
   },
   {
    "duration": 1036,
    "start_time": "2023-05-14T17:12:05.593Z"
   },
   {
    "duration": 724,
    "start_time": "2023-05-14T17:12:06.631Z"
   },
   {
    "duration": 938,
    "start_time": "2023-05-14T17:12:07.357Z"
   },
   {
    "duration": 727,
    "start_time": "2023-05-14T17:12:08.297Z"
   },
   {
    "duration": 5,
    "start_time": "2023-05-14T17:12:09.026Z"
   },
   {
    "duration": 15,
    "start_time": "2023-05-14T17:12:09.032Z"
   },
   {
    "duration": 9,
    "start_time": "2023-05-14T17:12:14.650Z"
   },
   {
    "duration": 4,
    "start_time": "2023-05-14T17:12:34.940Z"
   },
   {
    "duration": 8,
    "start_time": "2023-05-14T17:13:11.390Z"
   },
   {
    "duration": 5,
    "start_time": "2023-05-14T17:13:13.229Z"
   },
   {
    "duration": 4,
    "start_time": "2023-05-14T17:13:29.249Z"
   },
   {
    "duration": 748,
    "start_time": "2023-05-14T17:13:29.259Z"
   },
   {
    "duration": 4,
    "start_time": "2023-05-14T17:13:30.010Z"
   },
   {
    "duration": 33,
    "start_time": "2023-05-14T17:13:30.016Z"
   },
   {
    "duration": 319,
    "start_time": "2023-05-14T17:13:30.052Z"
   },
   {
    "duration": 72,
    "start_time": "2023-05-14T17:13:30.374Z"
   },
   {
    "duration": 204,
    "start_time": "2023-05-14T17:13:30.470Z"
   },
   {
    "duration": 7,
    "start_time": "2023-05-14T17:13:30.676Z"
   },
   {
    "duration": 27,
    "start_time": "2023-05-14T17:13:30.685Z"
   },
   {
    "duration": 30,
    "start_time": "2023-05-14T17:13:30.714Z"
   },
   {
    "duration": 30,
    "start_time": "2023-05-14T17:13:30.745Z"
   },
   {
    "duration": 58,
    "start_time": "2023-05-14T17:13:30.777Z"
   },
   {
    "duration": 22,
    "start_time": "2023-05-14T17:13:30.837Z"
   },
   {
    "duration": 30,
    "start_time": "2023-05-14T17:13:30.860Z"
   },
   {
    "duration": 26,
    "start_time": "2023-05-14T17:13:30.893Z"
   },
   {
    "duration": 925,
    "start_time": "2023-05-14T17:13:30.920Z"
   },
   {
    "duration": 733,
    "start_time": "2023-05-14T17:13:31.848Z"
   },
   {
    "duration": 866,
    "start_time": "2023-05-14T17:13:32.583Z"
   },
   {
    "duration": 686,
    "start_time": "2023-05-14T17:13:33.451Z"
   },
   {
    "duration": 937,
    "start_time": "2023-05-14T17:13:34.138Z"
   },
   {
    "duration": 741,
    "start_time": "2023-05-14T17:13:35.077Z"
   },
   {
    "duration": 5,
    "start_time": "2023-05-14T17:13:35.820Z"
   },
   {
    "duration": 47,
    "start_time": "2023-05-14T17:13:35.827Z"
   },
   {
    "duration": 13,
    "start_time": "2023-05-14T17:13:35.877Z"
   },
   {
    "duration": 5,
    "start_time": "2023-05-14T17:14:29.969Z"
   },
   {
    "duration": 5,
    "start_time": "2023-05-14T17:14:49.650Z"
   },
   {
    "duration": 7,
    "start_time": "2023-05-14T17:14:56.551Z"
   },
   {
    "duration": 5,
    "start_time": "2023-05-14T17:15:41.150Z"
   },
   {
    "duration": 1641,
    "start_time": "2023-05-14T17:23:26.190Z"
   },
   {
    "duration": 841,
    "start_time": "2023-05-14T17:23:27.833Z"
   },
   {
    "duration": 4,
    "start_time": "2023-05-14T17:23:28.676Z"
   },
   {
    "duration": 28,
    "start_time": "2023-05-14T17:23:28.682Z"
   },
   {
    "duration": 240,
    "start_time": "2023-05-14T17:23:28.713Z"
   },
   {
    "duration": 79,
    "start_time": "2023-05-14T17:23:28.955Z"
   },
   {
    "duration": 227,
    "start_time": "2023-05-14T17:23:29.035Z"
   },
   {
    "duration": 10,
    "start_time": "2023-05-14T17:23:29.264Z"
   },
   {
    "duration": 14,
    "start_time": "2023-05-14T17:23:29.276Z"
   },
   {
    "duration": 10,
    "start_time": "2023-05-14T17:23:29.292Z"
   },
   {
    "duration": 25,
    "start_time": "2023-05-14T17:23:29.304Z"
   },
   {
    "duration": 27,
    "start_time": "2023-05-14T17:23:29.330Z"
   },
   {
    "duration": 20,
    "start_time": "2023-05-14T17:23:29.359Z"
   },
   {
    "duration": 9,
    "start_time": "2023-05-14T17:23:29.382Z"
   },
   {
    "duration": 14,
    "start_time": "2023-05-14T17:23:29.392Z"
   },
   {
    "duration": 888,
    "start_time": "2023-05-14T17:23:29.407Z"
   },
   {
    "duration": 725,
    "start_time": "2023-05-14T17:23:30.297Z"
   },
   {
    "duration": 772,
    "start_time": "2023-05-14T17:23:31.024Z"
   },
   {
    "duration": 964,
    "start_time": "2023-05-14T17:23:31.799Z"
   },
   {
    "duration": 743,
    "start_time": "2023-05-14T17:23:32.765Z"
   },
   {
    "duration": 900,
    "start_time": "2023-05-14T17:23:33.510Z"
   },
   {
    "duration": 5,
    "start_time": "2023-05-14T17:23:34.413Z"
   },
   {
    "duration": 31,
    "start_time": "2023-05-14T17:23:34.420Z"
   },
   {
    "duration": 32,
    "start_time": "2023-05-14T17:23:34.453Z"
   },
   {
    "duration": 26,
    "start_time": "2023-05-14T17:23:34.486Z"
   },
   {
    "duration": 446,
    "start_time": "2023-05-14T17:24:53.099Z"
   },
   {
    "duration": 102,
    "start_time": "2023-05-14T17:26:17.870Z"
   },
   {
    "duration": 379,
    "start_time": "2023-05-14T17:28:19.670Z"
   },
   {
    "duration": 395,
    "start_time": "2023-05-14T17:28:26.259Z"
   },
   {
    "duration": 123,
    "start_time": "2023-05-14T17:29:11.980Z"
   },
   {
    "duration": 18,
    "start_time": "2023-05-14T17:29:43.519Z"
   },
   {
    "duration": 346,
    "start_time": "2023-05-14T17:33:44.499Z"
   },
   {
    "duration": 618,
    "start_time": "2023-05-14T17:34:35.889Z"
   },
   {
    "duration": 12,
    "start_time": "2023-05-14T17:36:10.820Z"
   },
   {
    "duration": 15,
    "start_time": "2023-05-14T17:36:36.112Z"
   },
   {
    "duration": 441,
    "start_time": "2023-05-14T17:38:47.263Z"
   },
   {
    "duration": 5,
    "start_time": "2023-05-14T17:39:36.990Z"
   },
   {
    "duration": 259,
    "start_time": "2023-05-14T17:39:44.950Z"
   },
   {
    "duration": 53,
    "start_time": "2023-05-14T17:39:59.260Z"
   },
   {
    "duration": 30,
    "start_time": "2023-05-14T17:41:58.739Z"
   },
   {
    "duration": 21,
    "start_time": "2023-05-14T17:42:15.389Z"
   },
   {
    "duration": 393,
    "start_time": "2023-05-14T17:45:22.479Z"
   },
   {
    "duration": 426,
    "start_time": "2023-05-14T17:45:43.519Z"
   },
   {
    "duration": 442,
    "start_time": "2023-05-14T17:45:53.079Z"
   },
   {
    "duration": 515,
    "start_time": "2023-05-14T17:46:01.788Z"
   },
   {
    "duration": 48,
    "start_time": "2023-05-14T17:48:07.379Z"
   },
   {
    "duration": 8,
    "start_time": "2023-05-14T17:49:57.989Z"
   },
   {
    "duration": 929,
    "start_time": "2023-05-14T17:50:03.958Z"
   },
   {
    "duration": 12,
    "start_time": "2023-05-14T17:51:13.569Z"
   },
   {
    "duration": 11,
    "start_time": "2023-05-14T17:52:39.588Z"
   },
   {
    "duration": 8,
    "start_time": "2023-05-14T17:52:45.149Z"
   },
   {
    "duration": 5,
    "start_time": "2023-05-14T17:55:13.938Z"
   },
   {
    "duration": 3,
    "start_time": "2023-05-14T17:57:50.088Z"
   },
   {
    "duration": 4,
    "start_time": "2023-05-14T17:57:51.818Z"
   },
   {
    "duration": 4,
    "start_time": "2023-05-14T17:57:52.658Z"
   },
   {
    "duration": 8,
    "start_time": "2023-05-14T17:57:54.819Z"
   },
   {
    "duration": 8,
    "start_time": "2023-05-14T17:57:55.578Z"
   },
   {
    "duration": 26,
    "start_time": "2023-05-14T17:59:12.188Z"
   },
   {
    "duration": 52,
    "start_time": "2023-05-14T17:59:27.186Z"
   },
   {
    "duration": 1488,
    "start_time": "2023-05-14T18:00:12.282Z"
   },
   {
    "duration": 791,
    "start_time": "2023-05-14T18:00:13.772Z"
   },
   {
    "duration": 6,
    "start_time": "2023-05-14T18:00:14.565Z"
   },
   {
    "duration": 36,
    "start_time": "2023-05-14T18:00:14.573Z"
   },
   {
    "duration": 246,
    "start_time": "2023-05-14T18:00:14.612Z"
   },
   {
    "duration": 84,
    "start_time": "2023-05-14T18:00:14.860Z"
   },
   {
    "duration": 235,
    "start_time": "2023-05-14T18:00:14.946Z"
   },
   {
    "duration": 7,
    "start_time": "2023-05-14T18:00:15.183Z"
   },
   {
    "duration": 79,
    "start_time": "2023-05-14T18:00:15.192Z"
   },
   {
    "duration": 31,
    "start_time": "2023-05-14T18:00:15.273Z"
   },
   {
    "duration": 33,
    "start_time": "2023-05-14T18:00:15.305Z"
   },
   {
    "duration": 25,
    "start_time": "2023-05-14T18:00:15.340Z"
   },
   {
    "duration": 32,
    "start_time": "2023-05-14T18:00:15.367Z"
   },
   {
    "duration": 11,
    "start_time": "2023-05-14T18:00:15.402Z"
   },
   {
    "duration": 16,
    "start_time": "2023-05-14T18:00:15.415Z"
   },
   {
    "duration": 927,
    "start_time": "2023-05-14T18:00:15.433Z"
   },
   {
    "duration": 702,
    "start_time": "2023-05-14T18:00:16.362Z"
   },
   {
    "duration": 894,
    "start_time": "2023-05-14T18:00:17.066Z"
   },
   {
    "duration": 718,
    "start_time": "2023-05-14T18:00:17.963Z"
   },
   {
    "duration": 721,
    "start_time": "2023-05-14T18:00:18.683Z"
   },
   {
    "duration": 871,
    "start_time": "2023-05-14T18:00:19.407Z"
   },
   {
    "duration": 4,
    "start_time": "2023-05-14T18:00:20.281Z"
   },
   {
    "duration": 38,
    "start_time": "2023-05-14T18:00:20.287Z"
   },
   {
    "duration": 11,
    "start_time": "2023-05-14T18:00:20.327Z"
   },
   {
    "duration": 12,
    "start_time": "2023-05-14T18:00:20.339Z"
   },
   {
    "duration": 429,
    "start_time": "2023-05-14T18:00:20.352Z"
   },
   {
    "duration": 8,
    "start_time": "2023-05-14T18:00:20.783Z"
   },
   {
    "duration": 748,
    "start_time": "2023-05-14T18:00:20.792Z"
   },
   {
    "duration": 10,
    "start_time": "2023-05-14T18:00:21.541Z"
   },
   {
    "duration": 6,
    "start_time": "2023-05-14T18:00:21.553Z"
   },
   {
    "duration": 4,
    "start_time": "2023-05-14T18:00:21.572Z"
   },
   {
    "duration": 11,
    "start_time": "2023-05-14T18:00:21.577Z"
   },
   {
    "duration": 19,
    "start_time": "2023-05-14T18:00:21.590Z"
   },
   {
    "duration": 20,
    "start_time": "2023-05-14T18:00:21.611Z"
   },
   {
    "duration": 31,
    "start_time": "2023-05-14T18:00:21.633Z"
   },
   {
    "duration": 1607,
    "start_time": "2023-05-14T18:00:21.666Z"
   },
   {
    "duration": 1397,
    "start_time": "2023-05-14T18:00:23.275Z"
   },
   {
    "duration": 4,
    "start_time": "2023-05-14T18:00:24.675Z"
   },
   {
    "duration": 1593,
    "start_time": "2023-05-14T18:16:23.751Z"
   },
   {
    "duration": 855,
    "start_time": "2023-05-14T18:16:25.346Z"
   },
   {
    "duration": 3,
    "start_time": "2023-05-14T18:16:26.203Z"
   },
   {
    "duration": 50,
    "start_time": "2023-05-14T18:16:26.208Z"
   },
   {
    "duration": 235,
    "start_time": "2023-05-14T18:16:26.260Z"
   },
   {
    "duration": 97,
    "start_time": "2023-05-14T18:16:26.497Z"
   },
   {
    "duration": 220,
    "start_time": "2023-05-14T18:16:26.597Z"
   },
   {
    "duration": 8,
    "start_time": "2023-05-14T18:16:26.819Z"
   },
   {
    "duration": 24,
    "start_time": "2023-05-14T18:16:26.829Z"
   },
   {
    "duration": 20,
    "start_time": "2023-05-14T18:16:26.855Z"
   },
   {
    "duration": 78,
    "start_time": "2023-05-14T18:16:26.877Z"
   },
   {
    "duration": 80,
    "start_time": "2023-05-14T18:16:26.957Z"
   },
   {
    "duration": 18,
    "start_time": "2023-05-14T18:16:27.040Z"
   },
   {
    "duration": 50,
    "start_time": "2023-05-14T18:16:27.061Z"
   },
   {
    "duration": 63,
    "start_time": "2023-05-14T18:16:27.113Z"
   },
   {
    "duration": 973,
    "start_time": "2023-05-14T18:16:27.177Z"
   },
   {
    "duration": 824,
    "start_time": "2023-05-14T18:16:28.152Z"
   },
   {
    "duration": 988,
    "start_time": "2023-05-14T18:16:28.978Z"
   },
   {
    "duration": 854,
    "start_time": "2023-05-14T18:16:29.971Z"
   },
   {
    "duration": 911,
    "start_time": "2023-05-14T18:16:30.827Z"
   },
   {
    "duration": 1007,
    "start_time": "2023-05-14T18:16:31.740Z"
   },
   {
    "duration": 6,
    "start_time": "2023-05-14T18:16:32.749Z"
   },
   {
    "duration": 19,
    "start_time": "2023-05-14T18:16:32.772Z"
   },
   {
    "duration": 6,
    "start_time": "2023-05-14T18:16:32.793Z"
   },
   {
    "duration": 21,
    "start_time": "2023-05-14T18:16:32.801Z"
   },
   {
    "duration": 476,
    "start_time": "2023-05-14T18:16:32.824Z"
   },
   {
    "duration": 8,
    "start_time": "2023-05-14T18:16:33.302Z"
   },
   {
    "duration": 836,
    "start_time": "2023-05-14T18:16:33.312Z"
   },
   {
    "duration": 10,
    "start_time": "2023-05-14T18:16:34.150Z"
   },
   {
    "duration": 5,
    "start_time": "2023-05-14T18:16:34.173Z"
   },
   {
    "duration": 35,
    "start_time": "2023-05-14T18:16:34.180Z"
   },
   {
    "duration": 13,
    "start_time": "2023-05-14T18:16:34.217Z"
   },
   {
    "duration": 43,
    "start_time": "2023-05-14T18:16:34.231Z"
   },
   {
    "duration": 15,
    "start_time": "2023-05-14T18:16:34.277Z"
   },
   {
    "duration": 30,
    "start_time": "2023-05-14T18:16:34.294Z"
   },
   {
    "duration": 1147,
    "start_time": "2023-05-14T18:16:34.325Z"
   },
   {
    "duration": 152,
    "start_time": "2023-05-14T18:16:35.474Z"
   },
   {
    "duration": 0,
    "start_time": "2023-05-14T18:16:35.628Z"
   },
   {
    "duration": 0,
    "start_time": "2023-05-14T18:16:35.630Z"
   },
   {
    "duration": 0,
    "start_time": "2023-05-14T18:16:35.631Z"
   },
   {
    "duration": 0,
    "start_time": "2023-05-14T18:16:35.632Z"
   },
   {
    "duration": 0,
    "start_time": "2023-05-14T18:16:35.633Z"
   },
   {
    "duration": 0,
    "start_time": "2023-05-14T18:16:35.634Z"
   },
   {
    "duration": 0,
    "start_time": "2023-05-14T18:16:35.636Z"
   },
   {
    "duration": 0,
    "start_time": "2023-05-14T18:16:35.637Z"
   },
   {
    "duration": 0,
    "start_time": "2023-05-14T18:16:35.638Z"
   },
   {
    "duration": 0,
    "start_time": "2023-05-14T18:16:35.639Z"
   },
   {
    "duration": 815,
    "start_time": "2023-05-14T18:17:32.961Z"
   },
   {
    "duration": 774,
    "start_time": "2023-05-14T18:17:37.101Z"
   },
   {
    "duration": 1575,
    "start_time": "2023-05-14T18:17:53.551Z"
   },
   {
    "duration": 789,
    "start_time": "2023-05-14T18:17:55.128Z"
   },
   {
    "duration": 4,
    "start_time": "2023-05-14T18:17:55.918Z"
   },
   {
    "duration": 26,
    "start_time": "2023-05-14T18:17:55.924Z"
   },
   {
    "duration": 319,
    "start_time": "2023-05-14T18:17:55.953Z"
   },
   {
    "duration": 133,
    "start_time": "2023-05-14T18:17:56.274Z"
   },
   {
    "duration": 237,
    "start_time": "2023-05-14T18:17:56.410Z"
   },
   {
    "duration": 8,
    "start_time": "2023-05-14T18:17:56.649Z"
   },
   {
    "duration": 6,
    "start_time": "2023-05-14T18:17:56.672Z"
   },
   {
    "duration": 8,
    "start_time": "2023-05-14T18:17:56.681Z"
   },
   {
    "duration": 30,
    "start_time": "2023-05-14T18:17:56.691Z"
   },
   {
    "duration": 49,
    "start_time": "2023-05-14T18:17:56.723Z"
   },
   {
    "duration": 21,
    "start_time": "2023-05-14T18:17:56.775Z"
   },
   {
    "duration": 8,
    "start_time": "2023-05-14T18:17:56.798Z"
   },
   {
    "duration": 28,
    "start_time": "2023-05-14T18:17:56.808Z"
   },
   {
    "duration": 869,
    "start_time": "2023-05-14T18:17:56.839Z"
   },
   {
    "duration": 772,
    "start_time": "2023-05-14T18:17:57.710Z"
   },
   {
    "duration": 883,
    "start_time": "2023-05-14T18:17:58.485Z"
   },
   {
    "duration": 680,
    "start_time": "2023-05-14T18:17:59.371Z"
   },
   {
    "duration": 754,
    "start_time": "2023-05-14T18:18:00.054Z"
   },
   {
    "duration": 927,
    "start_time": "2023-05-14T18:18:00.810Z"
   },
   {
    "duration": 5,
    "start_time": "2023-05-14T18:18:01.739Z"
   },
   {
    "duration": 51,
    "start_time": "2023-05-14T18:18:01.746Z"
   },
   {
    "duration": 21,
    "start_time": "2023-05-14T18:18:01.800Z"
   },
   {
    "duration": 30,
    "start_time": "2023-05-14T18:18:01.823Z"
   },
   {
    "duration": 448,
    "start_time": "2023-05-14T18:18:01.855Z"
   },
   {
    "duration": 8,
    "start_time": "2023-05-14T18:18:02.304Z"
   },
   {
    "duration": 836,
    "start_time": "2023-05-14T18:18:02.316Z"
   },
   {
    "duration": 18,
    "start_time": "2023-05-14T18:18:03.154Z"
   },
   {
    "duration": 9,
    "start_time": "2023-05-14T18:18:03.174Z"
   },
   {
    "duration": 17,
    "start_time": "2023-05-14T18:18:03.185Z"
   },
   {
    "duration": 13,
    "start_time": "2023-05-14T18:18:03.204Z"
   },
   {
    "duration": 12,
    "start_time": "2023-05-14T18:18:03.219Z"
   },
   {
    "duration": 21,
    "start_time": "2023-05-14T18:18:03.233Z"
   },
   {
    "duration": 28,
    "start_time": "2023-05-14T18:18:03.256Z"
   },
   {
    "duration": 986,
    "start_time": "2023-05-14T18:18:03.286Z"
   },
   {
    "duration": 898,
    "start_time": "2023-05-14T18:18:04.274Z"
   },
   {
    "duration": 4,
    "start_time": "2023-05-14T18:18:05.174Z"
   },
   {
    "duration": 650380,
    "start_time": "2023-05-14T18:18:05.180Z"
   },
   {
    "duration": 649676,
    "start_time": "2023-05-14T18:28:55.562Z"
   },
   {
    "duration": 4,
    "start_time": "2023-05-14T18:39:45.240Z"
   },
   {
    "duration": 23413,
    "start_time": "2023-05-14T18:39:45.245Z"
   },
   {
    "duration": 23881,
    "start_time": "2023-05-14T18:40:08.660Z"
   },
   {
    "duration": 4,
    "start_time": "2023-05-14T18:40:32.543Z"
   },
   {
    "duration": 15072,
    "start_time": "2023-05-14T18:40:32.549Z"
   },
   {
    "duration": 3,
    "start_time": "2023-05-14T18:40:47.623Z"
   },
   {
    "duration": 20,
    "start_time": "2023-05-14T18:40:47.628Z"
   },
   {
    "duration": 10369,
    "start_time": "2023-05-14T18:41:59.022Z"
   },
   {
    "duration": 3,
    "start_time": "2023-05-14T18:42:09.393Z"
   },
   {
    "duration": 10674,
    "start_time": "2023-05-14T18:43:24.653Z"
   },
   {
    "duration": 4,
    "start_time": "2023-05-14T18:43:35.329Z"
   },
   {
    "duration": 5,
    "start_time": "2023-05-14T18:45:21.122Z"
   },
   {
    "duration": 4,
    "start_time": "2023-05-14T18:45:28.722Z"
   },
   {
    "duration": 1384,
    "start_time": "2023-05-14T18:48:12.232Z"
   },
   {
    "duration": 4,
    "start_time": "2023-05-14T18:50:41.632Z"
   },
   {
    "duration": 5,
    "start_time": "2023-05-14T18:50:46.422Z"
   },
   {
    "duration": 306,
    "start_time": "2023-05-14T18:52:08.212Z"
   },
   {
    "duration": 3,
    "start_time": "2023-05-14T18:52:34.002Z"
   },
   {
    "duration": 22,
    "start_time": "2023-05-14T18:54:38.131Z"
   },
   {
    "duration": 20,
    "start_time": "2023-05-14T18:55:03.982Z"
   },
   {
    "duration": 18,
    "start_time": "2023-05-14T18:55:08.301Z"
   },
   {
    "duration": 2399,
    "start_time": "2023-05-14T18:55:11.772Z"
   },
   {
    "duration": 1334,
    "start_time": "2023-05-14T18:55:18.741Z"
   },
   {
    "duration": 4,
    "start_time": "2023-05-14T18:55:22.252Z"
   },
   {
    "duration": 1500,
    "start_time": "2023-05-14T18:56:56.010Z"
   },
   {
    "duration": 826,
    "start_time": "2023-05-14T18:56:57.512Z"
   },
   {
    "duration": 3,
    "start_time": "2023-05-14T18:56:58.340Z"
   },
   {
    "duration": 5,
    "start_time": "2023-05-14T18:56:58.346Z"
   },
   {
    "duration": 246,
    "start_time": "2023-05-14T18:56:58.353Z"
   },
   {
    "duration": 89,
    "start_time": "2023-05-14T18:56:58.601Z"
   },
   {
    "duration": 210,
    "start_time": "2023-05-14T18:56:58.692Z"
   },
   {
    "duration": 7,
    "start_time": "2023-05-14T18:56:58.904Z"
   },
   {
    "duration": 18,
    "start_time": "2023-05-14T18:56:58.913Z"
   },
   {
    "duration": 13,
    "start_time": "2023-05-14T18:56:58.934Z"
   },
   {
    "duration": 33,
    "start_time": "2023-05-14T18:56:58.949Z"
   },
   {
    "duration": 36,
    "start_time": "2023-05-14T18:56:58.984Z"
   },
   {
    "duration": 15,
    "start_time": "2023-05-14T18:56:59.022Z"
   },
   {
    "duration": 20,
    "start_time": "2023-05-14T18:56:59.039Z"
   },
   {
    "duration": 26,
    "start_time": "2023-05-14T18:56:59.060Z"
   },
   {
    "duration": 831,
    "start_time": "2023-05-14T18:56:59.088Z"
   },
   {
    "duration": 761,
    "start_time": "2023-05-14T18:56:59.921Z"
   },
   {
    "duration": 1018,
    "start_time": "2023-05-14T18:57:00.685Z"
   },
   {
    "duration": 1113,
    "start_time": "2023-05-14T18:57:01.705Z"
   },
   {
    "duration": 724,
    "start_time": "2023-05-14T18:57:02.819Z"
   },
   {
    "duration": 875,
    "start_time": "2023-05-14T18:57:03.545Z"
   },
   {
    "duration": 5,
    "start_time": "2023-05-14T18:57:04.421Z"
   },
   {
    "duration": 49,
    "start_time": "2023-05-14T18:57:04.428Z"
   },
   {
    "duration": 42,
    "start_time": "2023-05-14T18:57:04.479Z"
   },
   {
    "duration": 32,
    "start_time": "2023-05-14T18:57:04.523Z"
   },
   {
    "duration": 447,
    "start_time": "2023-05-14T18:57:04.557Z"
   },
   {
    "duration": 8,
    "start_time": "2023-05-14T18:57:05.005Z"
   },
   {
    "duration": 1030,
    "start_time": "2023-05-14T18:57:05.017Z"
   },
   {
    "duration": 11,
    "start_time": "2023-05-14T18:57:06.048Z"
   },
   {
    "duration": 13,
    "start_time": "2023-05-14T18:57:06.072Z"
   },
   {
    "duration": 23,
    "start_time": "2023-05-14T18:57:06.087Z"
   },
   {
    "duration": 22,
    "start_time": "2023-05-14T18:57:06.112Z"
   },
   {
    "duration": 21,
    "start_time": "2023-05-14T18:57:06.135Z"
   },
   {
    "duration": 33,
    "start_time": "2023-05-14T18:57:06.158Z"
   },
   {
    "duration": 52,
    "start_time": "2023-05-14T18:57:06.193Z"
   },
   {
    "duration": 1430,
    "start_time": "2023-05-14T18:57:06.247Z"
   },
   {
    "duration": 1695,
    "start_time": "2023-05-14T18:57:07.679Z"
   },
   {
    "duration": 6,
    "start_time": "2023-05-14T18:57:09.376Z"
   },
   {
    "duration": 1449,
    "start_time": "2023-05-14T18:57:42.521Z"
   },
   {
    "duration": 773,
    "start_time": "2023-05-14T18:57:43.973Z"
   },
   {
    "duration": 2,
    "start_time": "2023-05-14T18:57:44.748Z"
   },
   {
    "duration": 6,
    "start_time": "2023-05-14T18:57:44.752Z"
   },
   {
    "duration": 235,
    "start_time": "2023-05-14T18:57:44.760Z"
   },
   {
    "duration": 103,
    "start_time": "2023-05-14T18:57:44.997Z"
   },
   {
    "duration": 228,
    "start_time": "2023-05-14T18:57:45.102Z"
   },
   {
    "duration": 7,
    "start_time": "2023-05-14T18:57:45.332Z"
   },
   {
    "duration": 16,
    "start_time": "2023-05-14T18:57:45.341Z"
   },
   {
    "duration": 13,
    "start_time": "2023-05-14T18:57:45.360Z"
   },
   {
    "duration": 20,
    "start_time": "2023-05-14T18:57:45.375Z"
   },
   {
    "duration": 20,
    "start_time": "2023-05-14T18:57:45.396Z"
   },
   {
    "duration": 16,
    "start_time": "2023-05-14T18:57:45.417Z"
   },
   {
    "duration": 8,
    "start_time": "2023-05-14T18:57:45.437Z"
   },
   {
    "duration": 16,
    "start_time": "2023-05-14T18:57:45.470Z"
   },
   {
    "duration": 897,
    "start_time": "2023-05-14T18:57:45.488Z"
   },
   {
    "duration": 713,
    "start_time": "2023-05-14T18:57:46.387Z"
   },
   {
    "duration": 914,
    "start_time": "2023-05-14T18:57:47.102Z"
   },
   {
    "duration": 693,
    "start_time": "2023-05-14T18:57:48.018Z"
   },
   {
    "duration": 729,
    "start_time": "2023-05-14T18:57:48.713Z"
   },
   {
    "duration": 898,
    "start_time": "2023-05-14T18:57:49.444Z"
   },
   {
    "duration": 4,
    "start_time": "2023-05-14T18:57:50.344Z"
   },
   {
    "duration": 32,
    "start_time": "2023-05-14T18:57:50.350Z"
   },
   {
    "duration": 6,
    "start_time": "2023-05-14T18:57:50.384Z"
   },
   {
    "duration": 11,
    "start_time": "2023-05-14T18:57:50.392Z"
   },
   {
    "duration": 497,
    "start_time": "2023-05-14T18:57:50.405Z"
   },
   {
    "duration": 11,
    "start_time": "2023-05-14T18:57:50.904Z"
   },
   {
    "duration": 885,
    "start_time": "2023-05-14T18:57:50.917Z"
   },
   {
    "duration": 10,
    "start_time": "2023-05-14T18:57:51.804Z"
   },
   {
    "duration": 39,
    "start_time": "2023-05-14T18:57:51.816Z"
   },
   {
    "duration": 26,
    "start_time": "2023-05-14T18:57:51.857Z"
   },
   {
    "duration": 26,
    "start_time": "2023-05-14T18:57:51.885Z"
   },
   {
    "duration": 33,
    "start_time": "2023-05-14T18:57:51.913Z"
   },
   {
    "duration": 28,
    "start_time": "2023-05-14T18:57:51.949Z"
   },
   {
    "duration": 29,
    "start_time": "2023-05-14T18:57:51.979Z"
   },
   {
    "duration": 1964,
    "start_time": "2023-05-14T18:57:52.011Z"
   },
   {
    "duration": 1594,
    "start_time": "2023-05-14T18:57:53.977Z"
   },
   {
    "duration": 5,
    "start_time": "2023-05-14T18:57:55.573Z"
   },
   {
    "duration": 1628,
    "start_time": "2023-05-14T19:00:34.441Z"
   },
   {
    "duration": 819,
    "start_time": "2023-05-14T19:00:36.072Z"
   },
   {
    "duration": 3,
    "start_time": "2023-05-14T19:00:36.893Z"
   },
   {
    "duration": 19,
    "start_time": "2023-05-14T19:00:36.897Z"
   },
   {
    "duration": 236,
    "start_time": "2023-05-14T19:00:36.919Z"
   },
   {
    "duration": 82,
    "start_time": "2023-05-14T19:00:37.157Z"
   },
   {
    "duration": 237,
    "start_time": "2023-05-14T19:00:37.241Z"
   },
   {
    "duration": 7,
    "start_time": "2023-05-14T19:00:37.481Z"
   },
   {
    "duration": 15,
    "start_time": "2023-05-14T19:00:37.490Z"
   },
   {
    "duration": 19,
    "start_time": "2023-05-14T19:00:37.507Z"
   },
   {
    "duration": 22,
    "start_time": "2023-05-14T19:00:37.527Z"
   },
   {
    "duration": 42,
    "start_time": "2023-05-14T19:00:37.551Z"
   },
   {
    "duration": 31,
    "start_time": "2023-05-14T19:00:37.595Z"
   },
   {
    "duration": 9,
    "start_time": "2023-05-14T19:00:37.630Z"
   },
   {
    "duration": 39,
    "start_time": "2023-05-14T19:00:37.641Z"
   },
   {
    "duration": 939,
    "start_time": "2023-05-14T19:00:37.681Z"
   },
   {
    "duration": 732,
    "start_time": "2023-05-14T19:00:38.622Z"
   },
   {
    "duration": 932,
    "start_time": "2023-05-14T19:00:39.357Z"
   },
   {
    "duration": 724,
    "start_time": "2023-05-14T19:00:40.291Z"
   },
   {
    "duration": 737,
    "start_time": "2023-05-14T19:00:41.017Z"
   },
   {
    "duration": 886,
    "start_time": "2023-05-14T19:00:41.756Z"
   },
   {
    "duration": 4,
    "start_time": "2023-05-14T19:00:42.644Z"
   },
   {
    "duration": 31,
    "start_time": "2023-05-14T19:00:42.650Z"
   },
   {
    "duration": 5,
    "start_time": "2023-05-14T19:00:42.683Z"
   },
   {
    "duration": 7,
    "start_time": "2023-05-14T19:00:42.689Z"
   },
   {
    "duration": 486,
    "start_time": "2023-05-14T19:00:42.697Z"
   },
   {
    "duration": 8,
    "start_time": "2023-05-14T19:00:43.184Z"
   },
   {
    "duration": 823,
    "start_time": "2023-05-14T19:00:43.194Z"
   },
   {
    "duration": 10,
    "start_time": "2023-05-14T19:00:44.020Z"
   },
   {
    "duration": 12,
    "start_time": "2023-05-14T19:00:44.032Z"
   },
   {
    "duration": 13,
    "start_time": "2023-05-14T19:00:44.046Z"
   },
   {
    "duration": 11,
    "start_time": "2023-05-14T19:00:44.062Z"
   },
   {
    "duration": 11,
    "start_time": "2023-05-14T19:00:44.075Z"
   },
   {
    "duration": 11,
    "start_time": "2023-05-14T19:00:44.088Z"
   },
   {
    "duration": 23,
    "start_time": "2023-05-14T19:00:44.101Z"
   },
   {
    "duration": 1047,
    "start_time": "2023-05-14T19:00:44.126Z"
   },
   {
    "duration": 806,
    "start_time": "2023-05-14T19:00:45.176Z"
   },
   {
    "duration": 87,
    "start_time": "2023-05-14T19:00:45.985Z"
   },
   {
    "duration": 3315,
    "start_time": "2023-05-14T19:02:23.773Z"
   },
   {
    "duration": 843,
    "start_time": "2023-05-14T19:02:27.091Z"
   },
   {
    "duration": 4,
    "start_time": "2023-05-14T19:02:27.937Z"
   },
   {
    "duration": 21,
    "start_time": "2023-05-14T19:02:27.944Z"
   },
   {
    "duration": 271,
    "start_time": "2023-05-14T19:02:27.968Z"
   },
   {
    "duration": 145,
    "start_time": "2023-05-14T19:02:28.241Z"
   },
   {
    "duration": 251,
    "start_time": "2023-05-14T19:02:28.388Z"
   },
   {
    "duration": 9,
    "start_time": "2023-05-14T19:02:28.641Z"
   },
   {
    "duration": 27,
    "start_time": "2023-05-14T19:02:28.652Z"
   },
   {
    "duration": 19,
    "start_time": "2023-05-14T19:02:28.680Z"
   },
   {
    "duration": 20,
    "start_time": "2023-05-14T19:02:28.700Z"
   },
   {
    "duration": 41,
    "start_time": "2023-05-14T19:02:28.723Z"
   },
   {
    "duration": 19,
    "start_time": "2023-05-14T19:02:28.766Z"
   },
   {
    "duration": 8,
    "start_time": "2023-05-14T19:02:28.788Z"
   },
   {
    "duration": 17,
    "start_time": "2023-05-14T19:02:28.798Z"
   },
   {
    "duration": 873,
    "start_time": "2023-05-14T19:02:28.817Z"
   },
   {
    "duration": 734,
    "start_time": "2023-05-14T19:02:29.693Z"
   },
   {
    "duration": 956,
    "start_time": "2023-05-14T19:02:30.430Z"
   },
   {
    "duration": 800,
    "start_time": "2023-05-14T19:02:31.388Z"
   },
   {
    "duration": 824,
    "start_time": "2023-05-14T19:02:32.190Z"
   },
   {
    "duration": 924,
    "start_time": "2023-05-14T19:02:33.019Z"
   },
   {
    "duration": 5,
    "start_time": "2023-05-14T19:02:33.945Z"
   },
   {
    "duration": 43,
    "start_time": "2023-05-14T19:02:33.952Z"
   },
   {
    "duration": 16,
    "start_time": "2023-05-14T19:02:33.997Z"
   },
   {
    "duration": 14,
    "start_time": "2023-05-14T19:02:34.014Z"
   },
   {
    "duration": 476,
    "start_time": "2023-05-14T19:02:34.030Z"
   },
   {
    "duration": 9,
    "start_time": "2023-05-14T19:02:34.508Z"
   },
   {
    "duration": 868,
    "start_time": "2023-05-14T19:02:34.519Z"
   },
   {
    "duration": 10,
    "start_time": "2023-05-14T19:02:35.389Z"
   },
   {
    "duration": 12,
    "start_time": "2023-05-14T19:02:35.401Z"
   },
   {
    "duration": 15,
    "start_time": "2023-05-14T19:02:35.415Z"
   },
   {
    "duration": 9,
    "start_time": "2023-05-14T19:02:35.432Z"
   },
   {
    "duration": 18,
    "start_time": "2023-05-14T19:02:35.443Z"
   },
   {
    "duration": 27,
    "start_time": "2023-05-14T19:02:35.463Z"
   },
   {
    "duration": 32,
    "start_time": "2023-05-14T19:02:35.492Z"
   },
   {
    "duration": 757,
    "start_time": "2023-05-14T19:02:35.526Z"
   },
   {
    "duration": 986,
    "start_time": "2023-05-14T19:02:36.286Z"
   },
   {
    "duration": 6,
    "start_time": "2023-05-14T19:02:37.275Z"
   },
   {
    "duration": 657414,
    "start_time": "2023-05-14T19:02:37.284Z"
   },
   {
    "duration": 664851,
    "start_time": "2023-05-14T19:13:34.700Z"
   },
   {
    "duration": 4,
    "start_time": "2023-05-14T19:24:39.554Z"
   },
   {
    "duration": 25008,
    "start_time": "2023-05-14T19:24:39.560Z"
   },
   {
    "duration": 24186,
    "start_time": "2023-05-14T19:25:04.571Z"
   },
   {
    "duration": 15,
    "start_time": "2023-05-14T19:25:28.760Z"
   },
   {
    "duration": 11458,
    "start_time": "2023-05-14T19:27:24.140Z"
   },
   {
    "duration": 3,
    "start_time": "2023-05-14T19:27:36.810Z"
   },
   {
    "duration": 10,
    "start_time": "2023-05-14T19:27:42.710Z"
   },
   {
    "duration": 115,
    "start_time": "2023-05-16T11:40:57.251Z"
   },
   {
    "duration": 5194,
    "start_time": "2023-05-16T11:41:03.868Z"
   },
   {
    "duration": 7362,
    "start_time": "2023-05-16T11:41:09.071Z"
   },
   {
    "duration": 7,
    "start_time": "2023-05-16T11:41:16.436Z"
   },
   {
    "duration": 11,
    "start_time": "2023-05-16T11:41:16.446Z"
   },
   {
    "duration": 440,
    "start_time": "2023-05-16T11:41:16.460Z"
   },
   {
    "duration": 132,
    "start_time": "2023-05-16T11:41:16.906Z"
   },
   {
    "duration": 327,
    "start_time": "2023-05-16T11:41:17.041Z"
   },
   {
    "duration": 10,
    "start_time": "2023-05-16T11:41:17.374Z"
   },
   {
    "duration": 16,
    "start_time": "2023-05-16T11:41:17.391Z"
   },
   {
    "duration": 10,
    "start_time": "2023-05-16T11:41:17.413Z"
   },
   {
    "duration": 44,
    "start_time": "2023-05-16T11:41:17.429Z"
   },
   {
    "duration": 48,
    "start_time": "2023-05-16T11:41:17.479Z"
   },
   {
    "duration": 24,
    "start_time": "2023-05-16T11:41:17.529Z"
   },
   {
    "duration": 42,
    "start_time": "2023-05-16T11:41:17.556Z"
   },
   {
    "duration": 57,
    "start_time": "2023-05-16T11:41:17.599Z"
   },
   {
    "duration": 1473,
    "start_time": "2023-05-16T11:41:39.155Z"
   },
   {
    "duration": 1041,
    "start_time": "2023-05-16T11:41:45.273Z"
   },
   {
    "duration": 1347,
    "start_time": "2023-05-16T11:41:49.224Z"
   },
   {
    "duration": 1087,
    "start_time": "2023-05-16T11:41:52.991Z"
   },
   {
    "duration": 1328,
    "start_time": "2023-05-16T11:41:56.685Z"
   },
   {
    "duration": 1177,
    "start_time": "2023-05-16T11:42:02.739Z"
   },
   {
    "duration": 650,
    "start_time": "2023-05-16T11:42:41.371Z"
   },
   {
    "duration": 18,
    "start_time": "2023-05-16T11:42:48.875Z"
   },
   {
    "duration": 31,
    "start_time": "2023-05-16T11:42:50.509Z"
   },
   {
    "duration": 11,
    "start_time": "2023-05-16T11:42:52.395Z"
   },
   {
    "duration": 8,
    "start_time": "2023-05-16T11:42:54.021Z"
   },
   {
    "duration": 578,
    "start_time": "2023-05-16T11:42:56.169Z"
   },
   {
    "duration": 780,
    "start_time": "2023-05-16T11:44:31.857Z"
   },
   {
    "duration": 558,
    "start_time": "2023-05-16T11:45:51.868Z"
   },
   {
    "duration": 698,
    "start_time": "2023-05-16T11:46:04.351Z"
   },
   {
    "duration": 457,
    "start_time": "2023-05-16T11:46:10.389Z"
   },
   {
    "duration": 778,
    "start_time": "2023-05-16T11:46:59.723Z"
   },
   {
    "duration": 40,
    "start_time": "2023-05-16T11:48:48.005Z"
   },
   {
    "duration": 7,
    "start_time": "2023-05-16T11:49:12.829Z"
   },
   {
    "duration": 2713,
    "start_time": "2023-05-16T11:53:08.941Z"
   },
   {
    "duration": 7863,
    "start_time": "2023-05-16T11:53:11.663Z"
   },
   {
    "duration": 6,
    "start_time": "2023-05-16T11:53:19.536Z"
   },
   {
    "duration": 42,
    "start_time": "2023-05-16T11:53:19.548Z"
   },
   {
    "duration": 635,
    "start_time": "2023-05-16T11:53:19.607Z"
   },
   {
    "duration": 227,
    "start_time": "2023-05-16T11:53:20.252Z"
   },
   {
    "duration": 454,
    "start_time": "2023-05-16T11:53:20.488Z"
   },
   {
    "duration": 11,
    "start_time": "2023-05-16T11:53:20.949Z"
   },
   {
    "duration": 26,
    "start_time": "2023-05-16T11:53:20.967Z"
   },
   {
    "duration": 21,
    "start_time": "2023-05-16T11:53:21.006Z"
   },
   {
    "duration": 50,
    "start_time": "2023-05-16T11:53:21.036Z"
   },
   {
    "duration": 56,
    "start_time": "2023-05-16T11:53:21.092Z"
   },
   {
    "duration": 43,
    "start_time": "2023-05-16T11:53:21.155Z"
   },
   {
    "duration": 34,
    "start_time": "2023-05-16T11:53:21.204Z"
   },
   {
    "duration": 43,
    "start_time": "2023-05-16T11:53:21.245Z"
   },
   {
    "duration": 1742,
    "start_time": "2023-05-16T11:53:21.290Z"
   },
   {
    "duration": 1576,
    "start_time": "2023-05-16T11:53:23.043Z"
   },
   {
    "duration": 1854,
    "start_time": "2023-05-16T11:53:24.626Z"
   },
   {
    "duration": 1371,
    "start_time": "2023-05-16T11:53:26.487Z"
   },
   {
    "duration": 1308,
    "start_time": "2023-05-16T11:53:27.870Z"
   },
   {
    "duration": 1597,
    "start_time": "2023-05-16T11:53:29.180Z"
   },
   {
    "duration": 9,
    "start_time": "2023-05-16T11:53:30.783Z"
   },
   {
    "duration": 64,
    "start_time": "2023-05-16T11:53:30.798Z"
   },
   {
    "duration": 25,
    "start_time": "2023-05-16T11:53:30.877Z"
   },
   {
    "duration": 72,
    "start_time": "2023-05-16T11:53:30.909Z"
   },
   {
    "duration": 680,
    "start_time": "2023-05-16T11:53:30.994Z"
   },
   {
    "duration": 499,
    "start_time": "2023-05-16T11:53:31.683Z"
   },
   {
    "duration": 635,
    "start_time": "2023-05-16T11:53:32.191Z"
   },
   {
    "duration": 26,
    "start_time": "2023-05-16T11:53:32.832Z"
   },
   {
    "duration": 25,
    "start_time": "2023-05-16T11:53:32.863Z"
   },
   {
    "duration": 17,
    "start_time": "2023-05-16T11:53:32.902Z"
   },
   {
    "duration": 1611,
    "start_time": "2023-05-16T11:53:32.925Z"
   },
   {
    "duration": 46,
    "start_time": "2023-05-16T11:53:34.539Z"
   },
   {
    "duration": 10,
    "start_time": "2023-05-16T11:53:34.597Z"
   },
   {
    "duration": 12,
    "start_time": "2023-05-16T11:53:34.610Z"
   },
   {
    "duration": 11,
    "start_time": "2023-05-16T11:53:34.624Z"
   },
   {
    "duration": 20,
    "start_time": "2023-05-16T11:53:34.638Z"
   },
   {
    "duration": 18,
    "start_time": "2023-05-16T11:53:34.666Z"
   },
   {
    "duration": 61,
    "start_time": "2023-05-16T11:53:34.687Z"
   },
   {
    "duration": 1695,
    "start_time": "2023-05-16T11:53:34.753Z"
   },
   {
    "duration": 1389,
    "start_time": "2023-05-16T11:53:36.461Z"
   },
   {
    "duration": 21,
    "start_time": "2023-05-16T11:53:37.866Z"
   },
   {
    "duration": 894197,
    "start_time": "2023-05-16T11:53:37.895Z"
   },
   {
    "duration": 845743,
    "start_time": "2023-05-16T12:08:32.095Z"
   },
   {
    "duration": 28,
    "start_time": "2023-05-16T12:22:37.845Z"
   },
   {
    "duration": 30661,
    "start_time": "2023-05-16T12:22:37.888Z"
   },
   {
    "duration": 29988,
    "start_time": "2023-05-16T12:23:08.550Z"
   },
   {
    "duration": 18,
    "start_time": "2023-05-16T12:23:38.547Z"
   },
   {
    "duration": 13357,
    "start_time": "2023-05-16T12:23:38.573Z"
   },
   {
    "duration": 6,
    "start_time": "2023-05-16T12:23:51.932Z"
   },
   {
    "duration": 29,
    "start_time": "2023-05-16T12:23:51.956Z"
   },
   {
    "duration": 2651,
    "start_time": "2023-05-16T19:01:17.735Z"
   },
   {
    "duration": 2430,
    "start_time": "2023-05-16T19:01:20.388Z"
   },
   {
    "duration": 3,
    "start_time": "2023-05-16T19:01:22.821Z"
   },
   {
    "duration": 11,
    "start_time": "2023-05-16T19:01:22.826Z"
   },
   {
    "duration": 259,
    "start_time": "2023-05-16T19:01:22.839Z"
   },
   {
    "duration": 112,
    "start_time": "2023-05-16T19:01:23.102Z"
   },
   {
    "duration": 257,
    "start_time": "2023-05-16T19:01:23.217Z"
   },
   {
    "duration": 9,
    "start_time": "2023-05-16T19:01:23.476Z"
   },
   {
    "duration": 22,
    "start_time": "2023-05-16T19:01:23.486Z"
   },
   {
    "duration": 14,
    "start_time": "2023-05-16T19:01:23.513Z"
   },
   {
    "duration": 27,
    "start_time": "2023-05-16T19:01:23.530Z"
   },
   {
    "duration": 17,
    "start_time": "2023-05-16T19:01:23.560Z"
   },
   {
    "duration": 38,
    "start_time": "2023-05-16T19:01:23.580Z"
   },
   {
    "duration": 10,
    "start_time": "2023-05-16T19:01:23.623Z"
   },
   {
    "duration": 15,
    "start_time": "2023-05-16T19:01:23.636Z"
   },
   {
    "duration": 966,
    "start_time": "2023-05-16T19:01:23.653Z"
   },
   {
    "duration": 861,
    "start_time": "2023-05-16T19:01:24.625Z"
   },
   {
    "duration": 988,
    "start_time": "2023-05-16T19:01:25.488Z"
   },
   {
    "duration": 932,
    "start_time": "2023-05-16T19:01:26.479Z"
   },
   {
    "duration": 849,
    "start_time": "2023-05-16T19:01:27.416Z"
   },
   {
    "duration": 996,
    "start_time": "2023-05-16T19:01:28.267Z"
   },
   {
    "duration": 5,
    "start_time": "2023-05-16T19:01:29.266Z"
   },
   {
    "duration": 30,
    "start_time": "2023-05-16T19:01:29.273Z"
   },
   {
    "duration": 14,
    "start_time": "2023-05-16T19:01:29.304Z"
   },
   {
    "duration": 9,
    "start_time": "2023-05-16T19:01:29.320Z"
   },
   {
    "duration": 624,
    "start_time": "2023-05-16T19:01:29.331Z"
   },
   {
    "duration": 364,
    "start_time": "2023-05-16T19:01:29.957Z"
   },
   {
    "duration": 353,
    "start_time": "2023-05-16T19:01:30.323Z"
   },
   {
    "duration": 34,
    "start_time": "2023-05-16T19:01:30.678Z"
   },
   {
    "duration": 31,
    "start_time": "2023-05-16T19:01:30.717Z"
   },
   {
    "duration": 41,
    "start_time": "2023-05-16T19:01:30.750Z"
   },
   {
    "duration": 1129,
    "start_time": "2023-05-16T19:01:30.794Z"
   },
   {
    "duration": 12,
    "start_time": "2023-05-16T19:01:31.925Z"
   },
   {
    "duration": 57,
    "start_time": "2023-05-16T19:01:31.939Z"
   },
   {
    "duration": 77,
    "start_time": "2023-05-16T19:01:32.000Z"
   },
   {
    "duration": 8,
    "start_time": "2023-05-16T19:01:32.079Z"
   },
   {
    "duration": 22,
    "start_time": "2023-05-16T19:01:32.089Z"
   },
   {
    "duration": 27,
    "start_time": "2023-05-16T19:01:32.119Z"
   },
   {
    "duration": 70,
    "start_time": "2023-05-16T19:01:32.148Z"
   },
   {
    "duration": 203,
    "start_time": "2023-05-16T19:02:30.723Z"
   },
   {
    "duration": 89,
    "start_time": "2023-05-16T19:02:50.377Z"
   },
   {
    "duration": 68,
    "start_time": "2023-05-16T19:03:00.789Z"
   },
   {
    "duration": 130,
    "start_time": "2023-05-16T19:04:25.117Z"
   },
   {
    "duration": 18,
    "start_time": "2023-05-16T19:04:41.194Z"
   },
   {
    "duration": 1652,
    "start_time": "2023-05-16T19:07:01.436Z"
   },
   {
    "duration": 890,
    "start_time": "2023-05-16T19:07:03.090Z"
   },
   {
    "duration": 3,
    "start_time": "2023-05-16T19:07:03.982Z"
   },
   {
    "duration": 40,
    "start_time": "2023-05-16T19:07:03.986Z"
   },
   {
    "duration": 239,
    "start_time": "2023-05-16T19:07:04.029Z"
   },
   {
    "duration": 82,
    "start_time": "2023-05-16T19:07:04.269Z"
   },
   {
    "duration": 242,
    "start_time": "2023-05-16T19:07:04.352Z"
   },
   {
    "duration": 17,
    "start_time": "2023-05-16T19:07:04.595Z"
   },
   {
    "duration": 27,
    "start_time": "2023-05-16T19:07:04.617Z"
   },
   {
    "duration": 5,
    "start_time": "2023-05-16T19:07:04.646Z"
   },
   {
    "duration": 15,
    "start_time": "2023-05-16T19:07:04.653Z"
   },
   {
    "duration": 14,
    "start_time": "2023-05-16T19:07:04.670Z"
   },
   {
    "duration": 19,
    "start_time": "2023-05-16T19:07:04.686Z"
   },
   {
    "duration": 29,
    "start_time": "2023-05-16T19:07:04.709Z"
   },
   {
    "duration": 15,
    "start_time": "2023-05-16T19:07:04.739Z"
   },
   {
    "duration": 920,
    "start_time": "2023-05-16T19:07:04.756Z"
   },
   {
    "duration": 869,
    "start_time": "2023-05-16T19:07:05.678Z"
   },
   {
    "duration": 1044,
    "start_time": "2023-05-16T19:07:06.548Z"
   },
   {
    "duration": 770,
    "start_time": "2023-05-16T19:07:07.594Z"
   },
   {
    "duration": 767,
    "start_time": "2023-05-16T19:07:08.366Z"
   },
   {
    "duration": 850,
    "start_time": "2023-05-16T19:07:09.135Z"
   },
   {
    "duration": 5,
    "start_time": "2023-05-16T19:07:09.987Z"
   },
   {
    "duration": 39,
    "start_time": "2023-05-16T19:07:10.001Z"
   },
   {
    "duration": 10,
    "start_time": "2023-05-16T19:07:10.042Z"
   },
   {
    "duration": 9,
    "start_time": "2023-05-16T19:07:10.054Z"
   },
   {
    "duration": 426,
    "start_time": "2023-05-16T19:07:10.065Z"
   },
   {
    "duration": 301,
    "start_time": "2023-05-16T19:07:10.493Z"
   },
   {
    "duration": 311,
    "start_time": "2023-05-16T19:07:10.802Z"
   },
   {
    "duration": 11,
    "start_time": "2023-05-16T19:07:11.115Z"
   },
   {
    "duration": 11,
    "start_time": "2023-05-16T19:07:11.128Z"
   },
   {
    "duration": 8,
    "start_time": "2023-05-16T19:07:11.140Z"
   },
   {
    "duration": 840,
    "start_time": "2023-05-16T19:07:11.150Z"
   },
   {
    "duration": 16,
    "start_time": "2023-05-16T19:07:11.992Z"
   },
   {
    "duration": 18,
    "start_time": "2023-05-16T19:07:12.013Z"
   },
   {
    "duration": 5,
    "start_time": "2023-05-16T19:07:12.032Z"
   },
   {
    "duration": 5,
    "start_time": "2023-05-16T19:07:12.039Z"
   },
   {
    "duration": 10,
    "start_time": "2023-05-16T19:07:12.045Z"
   },
   {
    "duration": 12,
    "start_time": "2023-05-16T19:07:12.057Z"
   },
   {
    "duration": 20,
    "start_time": "2023-05-16T19:07:12.070Z"
   },
   {
    "duration": 928,
    "start_time": "2023-05-16T19:07:12.092Z"
   },
   {
    "duration": 1274,
    "start_time": "2023-05-16T19:07:13.031Z"
   },
   {
    "duration": 11,
    "start_time": "2023-05-16T19:07:14.312Z"
   },
   {
    "duration": 1383,
    "start_time": "2023-05-16T19:12:18.643Z"
   },
   {
    "duration": 788,
    "start_time": "2023-05-16T19:12:20.028Z"
   },
   {
    "duration": 3,
    "start_time": "2023-05-16T19:12:20.818Z"
   },
   {
    "duration": 10,
    "start_time": "2023-05-16T19:12:20.822Z"
   },
   {
    "duration": 214,
    "start_time": "2023-05-16T19:12:20.834Z"
   },
   {
    "duration": 96,
    "start_time": "2023-05-16T19:12:21.050Z"
   },
   {
    "duration": 201,
    "start_time": "2023-05-16T19:12:21.148Z"
   },
   {
    "duration": 7,
    "start_time": "2023-05-16T19:12:21.351Z"
   },
   {
    "duration": 12,
    "start_time": "2023-05-16T19:12:21.360Z"
   },
   {
    "duration": 14,
    "start_time": "2023-05-16T19:12:21.374Z"
   },
   {
    "duration": 31,
    "start_time": "2023-05-16T19:12:21.389Z"
   },
   {
    "duration": 21,
    "start_time": "2023-05-16T19:12:21.424Z"
   },
   {
    "duration": 15,
    "start_time": "2023-05-16T19:12:21.447Z"
   },
   {
    "duration": 8,
    "start_time": "2023-05-16T19:12:21.466Z"
   },
   {
    "duration": 29,
    "start_time": "2023-05-16T19:12:21.476Z"
   },
   {
    "duration": 811,
    "start_time": "2023-05-16T19:12:21.507Z"
   },
   {
    "duration": 687,
    "start_time": "2023-05-16T19:12:22.320Z"
   },
   {
    "duration": 879,
    "start_time": "2023-05-16T19:12:23.009Z"
   },
   {
    "duration": 759,
    "start_time": "2023-05-16T19:12:23.890Z"
   },
   {
    "duration": 811,
    "start_time": "2023-05-16T19:12:24.651Z"
   },
   {
    "duration": 856,
    "start_time": "2023-05-16T19:12:25.464Z"
   },
   {
    "duration": 4,
    "start_time": "2023-05-16T19:12:26.322Z"
   },
   {
    "duration": 14,
    "start_time": "2023-05-16T19:12:26.328Z"
   },
   {
    "duration": 4,
    "start_time": "2023-05-16T19:12:26.343Z"
   },
   {
    "duration": 8,
    "start_time": "2023-05-16T19:12:26.349Z"
   },
   {
    "duration": 498,
    "start_time": "2023-05-16T19:12:26.358Z"
   },
   {
    "duration": 321,
    "start_time": "2023-05-16T19:12:26.858Z"
   },
   {
    "duration": 323,
    "start_time": "2023-05-16T19:12:27.181Z"
   },
   {
    "duration": 14,
    "start_time": "2023-05-16T19:12:27.509Z"
   },
   {
    "duration": 7,
    "start_time": "2023-05-16T19:12:27.525Z"
   },
   {
    "duration": 9,
    "start_time": "2023-05-16T19:12:27.534Z"
   },
   {
    "duration": 852,
    "start_time": "2023-05-16T19:12:27.545Z"
   },
   {
    "duration": 18,
    "start_time": "2023-05-16T19:12:28.398Z"
   },
   {
    "duration": 4,
    "start_time": "2023-05-16T19:12:28.419Z"
   },
   {
    "duration": 5,
    "start_time": "2023-05-16T19:12:28.425Z"
   },
   {
    "duration": 5,
    "start_time": "2023-05-16T19:12:28.432Z"
   },
   {
    "duration": 9,
    "start_time": "2023-05-16T19:12:28.439Z"
   },
   {
    "duration": 10,
    "start_time": "2023-05-16T19:12:28.449Z"
   },
   {
    "duration": 21,
    "start_time": "2023-05-16T19:12:28.461Z"
   },
   {
    "duration": 1103,
    "start_time": "2023-05-16T19:12:28.496Z"
   },
   {
    "duration": 1713,
    "start_time": "2023-05-16T19:12:29.604Z"
   },
   {
    "duration": 6,
    "start_time": "2023-05-16T19:12:31.397Z"
   },
   {
    "duration": 741722,
    "start_time": "2023-05-16T19:21:36.021Z"
   },
   {
    "duration": 1830,
    "start_time": "2023-07-04T13:37:30.504Z"
   },
   {
    "duration": 3743,
    "start_time": "2023-07-04T13:37:35.140Z"
   },
   {
    "duration": 3,
    "start_time": "2023-07-04T13:37:43.436Z"
   },
   {
    "duration": 13,
    "start_time": "2023-07-04T13:37:45.252Z"
   },
   {
    "duration": 250,
    "start_time": "2023-07-04T13:37:46.874Z"
   },
   {
    "duration": 82,
    "start_time": "2023-07-04T13:37:50.248Z"
   },
   {
    "duration": 195,
    "start_time": "2023-07-04T13:37:52.832Z"
   },
   {
    "duration": 9,
    "start_time": "2023-07-04T13:37:58.359Z"
   },
   {
    "duration": 10,
    "start_time": "2023-07-04T13:38:00.252Z"
   },
   {
    "duration": 5,
    "start_time": "2023-07-04T13:38:04.644Z"
   },
   {
    "duration": 21,
    "start_time": "2023-07-04T13:38:09.304Z"
   },
   {
    "duration": 28,
    "start_time": "2023-07-04T13:38:11.582Z"
   },
   {
    "duration": 13,
    "start_time": "2023-07-04T13:38:14.932Z"
   },
   {
    "duration": 8,
    "start_time": "2023-07-04T13:38:17.810Z"
   },
   {
    "duration": 13,
    "start_time": "2023-07-04T13:38:21.842Z"
   },
   {
    "duration": 921,
    "start_time": "2023-07-04T13:38:27.705Z"
   },
   {
    "duration": 794,
    "start_time": "2023-07-04T13:38:32.040Z"
   },
   {
    "duration": 968,
    "start_time": "2023-07-04T13:38:36.335Z"
   },
   {
    "duration": 799,
    "start_time": "2023-07-04T13:38:40.229Z"
   },
   {
    "duration": 785,
    "start_time": "2023-07-04T13:38:45.641Z"
   },
   {
    "duration": 1091,
    "start_time": "2023-07-04T13:38:48.676Z"
   },
   {
    "duration": 4,
    "start_time": "2023-07-04T13:38:56.102Z"
   },
   {
    "duration": 14,
    "start_time": "2023-07-04T13:38:57.932Z"
   },
   {
    "duration": 5,
    "start_time": "2023-07-04T13:38:59.850Z"
   },
   {
    "duration": 4,
    "start_time": "2023-07-04T13:39:01.200Z"
   },
   {
    "duration": 432,
    "start_time": "2023-07-04T13:39:05.768Z"
   },
   {
    "duration": 373,
    "start_time": "2023-07-04T13:39:08.620Z"
   },
   {
    "duration": 13,
    "start_time": "2023-07-04T13:39:17.528Z"
   },
   {
    "duration": 4,
    "start_time": "2023-07-04T13:39:19.332Z"
   },
   {
    "duration": 8,
    "start_time": "2023-07-04T13:39:28.504Z"
   },
   {
    "duration": 988,
    "start_time": "2023-07-04T13:39:30.803Z"
   },
   {
    "duration": 12,
    "start_time": "2023-07-04T13:39:36.585Z"
   },
   {
    "duration": 4,
    "start_time": "2023-07-04T13:39:41.449Z"
   },
   {
    "duration": 3,
    "start_time": "2023-07-04T13:39:42.732Z"
   },
   {
    "duration": 3,
    "start_time": "2023-07-04T13:39:44.389Z"
   },
   {
    "duration": 7,
    "start_time": "2023-07-04T13:39:47.825Z"
   },
   {
    "duration": 8,
    "start_time": "2023-07-04T13:39:49.032Z"
   },
   {
    "duration": 27,
    "start_time": "2023-07-04T13:39:52.849Z"
   },
   {
    "duration": 1422,
    "start_time": "2023-07-04T13:39:55.844Z"
   },
   {
    "duration": 1987,
    "start_time": "2023-07-04T13:40:03.985Z"
   },
   {
    "duration": 4,
    "start_time": "2023-07-04T13:40:12.940Z"
   },
   {
    "duration": 651715,
    "start_time": "2023-07-04T13:40:29.857Z"
   },
   {
    "duration": 657105,
    "start_time": "2023-07-04T13:51:45.478Z"
   },
   {
    "duration": 4,
    "start_time": "2023-07-04T14:04:34.050Z"
   },
   {
    "duration": 23620,
    "start_time": "2023-07-04T14:05:02.828Z"
   },
   {
    "duration": 24171,
    "start_time": "2023-07-04T14:05:33.378Z"
   },
   {
    "duration": 8,
    "start_time": "2023-07-04T14:06:00.855Z"
   },
   {
    "duration": 8802,
    "start_time": "2023-07-04T14:06:36.402Z"
   },
   {
    "duration": 3,
    "start_time": "2023-07-04T14:06:51.135Z"
   },
   {
    "duration": 9,
    "start_time": "2023-07-04T14:06:54.935Z"
   }
  ],
  "kernelspec": {
   "display_name": "Python 3 (ipykernel)",
   "language": "python",
   "name": "python3"
  },
  "language_info": {
   "codemirror_mode": {
    "name": "ipython",
    "version": 3
   },
   "file_extension": ".py",
   "mimetype": "text/x-python",
   "name": "python",
   "nbconvert_exporter": "python",
   "pygments_lexer": "ipython3",
   "version": "3.9.13"
  },
  "toc": {
   "base_numbering": 1,
   "nav_menu": {},
   "number_sections": true,
   "sideBar": true,
   "skip_h1_title": true,
   "title_cell": "Содержание",
   "title_sidebar": "Contents",
   "toc_cell": true,
   "toc_position": {
    "height": "calc(100% - 180px)",
    "left": "10px",
    "top": "150px",
    "width": "562.781px"
   },
   "toc_section_display": true,
   "toc_window_display": true
  }
 },
 "nbformat": 4,
 "nbformat_minor": 2
}
